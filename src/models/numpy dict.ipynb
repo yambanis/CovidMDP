{
 "cells": [
  {
   "cell_type": "code",
   "execution_count": 1,
   "id": "purple-membership",
   "metadata": {},
   "outputs": [],
   "source": [
    "### Standard Libs ###\n",
    "from collections import defaultdict\n",
    "from numpy.random import default_rng\n",
    "import numpy as np\n",
    "import networkx as nx\n",
    "from itertools import chain\n",
    "from tqdm import tqdm\n",
    "\n",
    "### External Definitions ###\n",
    "from zone_references import initial_districts\n",
    "from disease_states import states_dict\n",
    "from patient_evolution import susceptible_to_exposed, change_state\n",
    "from actions import city_restrictions"
   ]
  },
  {
   "cell_type": "code",
   "execution_count": 2,
   "id": "significant-mapping",
   "metadata": {},
   "outputs": [],
   "source": [
    "from numpy.random import default_rng"
   ]
  },
  {
   "cell_type": "code",
   "execution_count": 3,
   "id": "tracked-headline",
   "metadata": {},
   "outputs": [],
   "source": [
    "rng = default_rng(42)"
   ]
  },
  {
   "cell_type": "code",
   "execution_count": 4,
   "id": "domestic-collar",
   "metadata": {},
   "outputs": [],
   "source": [
    "g_pickle = '../../data/processed/SP_multiGraph_Job_Edu_Level.gpickle'"
   ]
  },
  {
   "cell_type": "code",
   "execution_count": 5,
   "id": "occupational-london",
   "metadata": {},
   "outputs": [],
   "source": [
    "G = nx.read_gpickle(g_pickle)"
   ]
  },
  {
   "cell_type": "code",
   "execution_count": 6,
   "id": "suburban-specification",
   "metadata": {},
   "outputs": [],
   "source": [
    "unique_types = np.unique([data['edge_type'] for x,y, data in G.edges(data=True)])\n",
    "adj_list = {k: defaultdict(list) for k in unique_types}"
   ]
  },
  {
   "cell_type": "code",
   "execution_count": 7,
   "id": "russian-cartoon",
   "metadata": {},
   "outputs": [],
   "source": [
    "for node, neighbors in G.adjacency():\n",
    "    for neighbor, relations in neighbors.items():\n",
    "        for i, relation_dict in relations.items():\n",
    "            relation = relation_dict['edge_type']\n",
    "            adj_list[relation][node].append(neighbor)"
   ]
  },
  {
   "cell_type": "code",
   "execution_count": 8,
   "id": "dried-tonight",
   "metadata": {},
   "outputs": [],
   "source": [
    "currently_infected = rng.choice(G.nodes, size=10000)"
   ]
  },
  {
   "cell_type": "code",
   "execution_count": 9,
   "id": "classical-entry",
   "metadata": {},
   "outputs": [],
   "source": [
    "contacts = {relation: np.concatenate([c for n, c in neighbors.items() if n in currently_infected])\n",
    "                for relation, neighbors in adj_list.items()}"
   ]
  },
  {
   "cell_type": "code",
   "execution_count": 10,
   "id": "familiar-parts",
   "metadata": {},
   "outputs": [],
   "source": [
    "prhome = 0.06\n",
    "p_r = {\n",
    "    'home'    :  prhome,\n",
    "    'neighbor':  .1*prhome,\n",
    "    'work'    :  .1*prhome,\n",
    "    'school'  :  .15*prhome,\n",
    "}"
   ]
  },
  {
   "cell_type": "code",
   "execution_count": 11,
   "id": "varied-sellers",
   "metadata": {},
   "outputs": [],
   "source": [
    "restrictions = {k: 0 for k in p_r.keys()}"
   ]
  },
  {
   "cell_type": "code",
   "execution_count": 35,
   "id": "understanding-healing",
   "metadata": {},
   "outputs": [],
   "source": [
    "exposed = []\n",
    "\n",
    "for rel, prob in p_r.items():\n",
    "    mask = rng.random(size=len(contacts[rel])) < p_r[rel] * (1-restrictions[rel])\n",
    "    exposed += contacts[rel][mask].tolist()"
   ]
  },
  {
   "cell_type": "code",
   "execution_count": 39,
   "id": "understanding-supply",
   "metadata": {},
   "outputs": [],
   "source": [
    "exposed = np.unique(exposed)"
   ]
  },
  {
   "cell_type": "code",
   "execution_count": null,
   "id": "flexible-worthy",
   "metadata": {},
   "outputs": [],
   "source": []
  }
 ],
 "metadata": {
  "kernelspec": {
   "display_name": "Python 3",
   "language": "python",
   "name": "python3"
  },
  "language_info": {
   "codemirror_mode": {
    "name": "ipython",
    "version": 3
   },
   "file_extension": ".py",
   "mimetype": "text/x-python",
   "name": "python",
   "nbconvert_exporter": "python",
   "pygments_lexer": "ipython3",
   "version": "3.8.8"
  }
 },
 "nbformat": 4,
 "nbformat_minor": 5
}
