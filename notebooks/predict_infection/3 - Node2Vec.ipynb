{
 "cells": [
  {
   "cell_type": "code",
   "execution_count": 5,
   "metadata": {},
   "outputs": [],
   "source": [
    "import pandas as pd\n",
    "from node2vec import Node2Vec\n",
    "import networkx as nx"
   ]
  },
  {
   "cell_type": "code",
   "execution_count": 2,
   "metadata": {},
   "outputs": [],
   "source": [
    "model_dataset = pd.read_parquet(\"model_dataset.parquet\")"
   ]
  },
  {
   "cell_type": "code",
   "execution_count": 6,
   "metadata": {},
   "outputs": [],
   "source": [
    "gpickle_path = \"../../data/processed/SP_multiGraph_Job_Edu_Level.gpickle\"\n",
    "G = nx.read_gpickle(gpickle_path)"
   ]
  },
  {
   "cell_type": "code",
   "execution_count": null,
   "metadata": {},
   "outputs": [
    {
     "data": {
      "application/vnd.jupyter.widget-view+json": {
       "model_id": "cdee69dbca254bee87e1f073453f44a1",
       "version_major": 2,
       "version_minor": 0
      },
      "text/plain": [
       "Computing transition probabilities:   0%|          | 0/55492 [00:00<?, ?it/s]"
      ]
     },
     "metadata": {},
     "output_type": "display_data"
    }
   ],
   "source": [
    "# Precompute probabilities and generate walks - **ON WINDOWS ONLY WORKS WITH workers=1**\n",
    "node2vec = Node2Vec(G, dimensions=8, walk_length=5, num_walks=20, workers=16)  # Use temp_folder for big graphs\n",
    "\n",
    "# Embed nodes\n",
    "model = node2vec.fit(window=4, min_count=1, )\n",
    "#batch_words=4) \n",
    "# Any keywords acceptable by gensim.Word2Vec can be passed, \n",
    "# `dimensions` and `workers` are automatically passed (from the Node2Vec constructor)"
   ]
  },
  {
   "cell_type": "code",
   "execution_count": null,
   "metadata": {},
   "outputs": [],
   "source": [
    "index_to_key = model.wv.index_to_key\n",
    "normed_vectors = model.wv.get_normed_vectors()\n",
    "normed_vectors.shape"
   ]
  },
  {
   "cell_type": "code",
   "execution_count": null,
   "metadata": {},
   "outputs": [],
   "source": [
    "n2v_features = [f\"n2v_{i}\" for i in range(normed_vectors.shape[1])]\n",
    "n2v_embd = pd.DataFrame(normed_vectors, columns=n2v_features)\n",
    "n2v_embd['id'] = pd.Series(model.wv.index_to_key).astype(int)\n",
    "model_dataset = pd.merge(\n",
    "    model_dataset, \n",
    "    n2v_embd,\n",
    "    on='id'\n",
    ")"
   ]
  },
  {
   "cell_type": "code",
   "execution_count": 12,
   "metadata": {},
   "outputs": [
    {
     "data": {
      "text/plain": [
       "(431921, 47)"
      ]
     },
     "execution_count": 12,
     "metadata": {},
     "output_type": "execute_result"
    }
   ],
   "source": [
    "model_dataset.shape"
   ]
  },
  {
   "cell_type": "code",
   "execution_count": null,
   "metadata": {},
   "outputs": [],
   "source": [
    "model_dataset.reset_index(drop=True).to_parquet(\"model_dataset.parquet\")"
   ]
  },
  {
   "cell_type": "code",
   "execution_count": null,
   "metadata": {},
   "outputs": [],
   "source": []
  }
 ],
 "metadata": {
  "kernelspec": {
   "display_name": "Python [conda env:.conda-masters]",
   "language": "python",
   "name": "conda-env-.conda-masters-py"
  },
  "language_info": {
   "codemirror_mode": {
    "name": "ipython",
    "version": 3
   },
   "file_extension": ".py",
   "mimetype": "text/x-python",
   "name": "python",
   "nbconvert_exporter": "python",
   "pygments_lexer": "ipython3",
   "version": "3.9.10"
  }
 },
 "nbformat": 4,
 "nbformat_minor": 4
}
