{
 "cells": [
  {
   "cell_type": "code",
   "execution_count": 1,
   "metadata": {},
   "outputs": [],
   "source": [
    "import sys\n",
    "sys.path.append(\"../../src/models\")"
   ]
  },
  {
   "cell_type": "code",
   "execution_count": 2,
   "metadata": {},
   "outputs": [],
   "source": [
    "import pandas as pd\n",
    "import networkx as nx\n",
    "import numpy as np"
   ]
  },
  {
   "cell_type": "code",
   "execution_count": 3,
   "metadata": {},
   "outputs": [],
   "source": [
    "from joblib import Parallel, delayed\n",
    "#from tqdm import tqdm\n",
    "from tqdm.auto import tqdm\n",
    "from sklearn.metrics import roc_auc_score, accuracy_score"
   ]
  },
  {
   "cell_type": "code",
   "execution_count": 4,
   "metadata": {},
   "outputs": [],
   "source": [
    "from actions import city_restrictions\n",
    "\n",
    "prhome = 0.06\n",
    "\n",
    "p_r = {\n",
    "    'home'    :  prhome,\n",
    "    'neighbor':  .1*prhome,\n",
    "    'work'    :  .1*prhome,\n",
    "    'school'  :  .15*prhome,\n",
    "}"
   ]
  },
  {
   "cell_type": "code",
   "execution_count": 89,
   "metadata": {},
   "outputs": [],
   "source": [
    "model_dataset = pd.read_parquet(\"model_dataset.parquet\")"
   ]
  },
  {
   "cell_type": "code",
   "execution_count": 6,
   "metadata": {},
   "outputs": [],
   "source": [
    "res_df = pd.read_parquet(\"simulation_results_dataset.parquet\")"
   ]
  },
  {
   "cell_type": "code",
   "execution_count": 7,
   "metadata": {},
   "outputs": [],
   "source": [
    "gpickle_path = \"../../data/processed/SP_multiGraph_Job_Edu_Level.gpickle\"\n",
    "G = nx.read_gpickle(gpickle_path)"
   ]
  },
  {
   "cell_type": "code",
   "execution_count": 8,
   "metadata": {},
   "outputs": [],
   "source": [
    "edges = (\n",
    "    [(source, target, data['edge_type'])\n",
    "        for source, target, data in G.edges(data=True)] +\n",
    "    [(target, source, data['edge_type'])\n",
    "        for source, target, data in G.edges(data=True)]\n",
    ")\n",
    "\n",
    "edgelist_df = pd.DataFrame(edges, columns=['source', 'target', 'edge_type'])"
   ]
  },
  {
   "cell_type": "markdown",
   "metadata": {},
   "source": [
    "# Data Handling - Pytorch Geometric"
   ]
  },
  {
   "cell_type": "code",
   "execution_count": 9,
   "metadata": {},
   "outputs": [],
   "source": [
    "import torch\n",
    "from torch_geometric.data import Data\n",
    "from torch_geometric.loader import DataLoader"
   ]
  },
  {
   "cell_type": "code",
   "execution_count": 10,
   "metadata": {},
   "outputs": [],
   "source": [
    "WEEK, SIMULATION = 12, '0_1'"
   ]
  },
  {
   "cell_type": "code",
   "execution_count": 11,
   "metadata": {},
   "outputs": [],
   "source": [
    "res_sample_week = res_df[(res_df.week == WEEK) &\n",
    "                         (res_df.simulation == SIMULATION)].sort_values('id')\n",
    "action = res_sample_week.action.iloc[0]"
   ]
  },
  {
   "cell_type": "markdown",
   "metadata": {},
   "source": [
    "### 1. data.x\n",
    "data.x: Node feature matrix with shape [num_nodes, num_node_features]"
   ]
  },
  {
   "cell_type": "code",
   "execution_count": 12,
   "metadata": {},
   "outputs": [
    {
     "data": {
      "text/plain": [
       "torch.Size([55493, 1])"
      ]
     },
     "execution_count": 12,
     "metadata": {},
     "output_type": "execute_result"
    }
   ],
   "source": [
    "x = torch.tensor([[state] for state in [0] + res_sample_week['state'].tolist()],\n",
    "                 dtype=torch.float)\n",
    "x.shape"
   ]
  },
  {
   "cell_type": "markdown",
   "metadata": {},
   "source": [
    "### 2. data.edge_index\n",
    "data.edge_index: Graph connectivity in COO format with shape [2, num_edges] and type torch.long"
   ]
  },
  {
   "cell_type": "code",
   "execution_count": 13,
   "metadata": {},
   "outputs": [
    {
     "data": {
      "text/plain": [
       "torch.Size([2, 1924076])"
      ]
     },
     "execution_count": 13,
     "metadata": {},
     "output_type": "execute_result"
    }
   ],
   "source": [
    "edge_index = torch.tensor([[int(e[0]) for e in edges], [int(e[1]) for e in edges]],\n",
    "                          dtype=torch.long)\n",
    "edge_index.shape"
   ]
  },
  {
   "cell_type": "markdown",
   "metadata": {},
   "source": [
    "### 3. data.edge_attr\n",
    "\n",
    "data.edge_attr: Edge feature matrix with shape [num_edges, num_edge_features]"
   ]
  },
  {
   "cell_type": "code",
   "execution_count": 14,
   "metadata": {},
   "outputs": [
    {
     "data": {
      "text/plain": [
       "torch.Size([1924076, 1])"
      ]
     },
     "execution_count": 14,
     "metadata": {},
     "output_type": "execute_result"
    }
   ],
   "source": [
    "edge_attr = torch.tensor([[city_restrictions[action][e[2]] * p_r[e[2]]] for e in edges],\n",
    "                         dtype=torch.float)\n",
    "edge_attr.shape"
   ]
  },
  {
   "cell_type": "markdown",
   "metadata": {},
   "source": [
    "### 4. data.y\n",
    "data.y: Target to train against (may have arbitrary shape), e.g., node-level targets of shape [num_nodes, *] or graph-level targets of shape [1, *]"
   ]
  },
  {
   "cell_type": "code",
   "execution_count": 15,
   "metadata": {},
   "outputs": [
    {
     "data": {
      "text/plain": [
       "torch.Size([55493])"
      ]
     },
     "execution_count": 15,
     "metadata": {},
     "output_type": "execute_result"
    }
   ],
   "source": [
    "target_dict = (\n",
    "    model_dataset[(model_dataset.week == WEEK) & (model_dataset.simulation == SIMULATION)]\n",
    "    [['id', 'binary_target']]\n",
    "    .set_index('id')\n",
    "    .to_dict()\n",
    "    ['binary_target']\n",
    ")\n",
    "\n",
    "graph_targets = [-1]+ [\n",
    "    -1 if state != 0\n",
    "    else target_dict[node_id]\n",
    "    for node_id, state in res_sample_week[['id', 'state']].values\n",
    "]\n",
    "\n",
    "y = torch.tensor(graph_targets, dtype=torch.long)\n",
    "y.shape"
   ]
  },
  {
   "cell_type": "code",
   "execution_count": 16,
   "metadata": {},
   "outputs": [],
   "source": [
    "data = Data(x=x, edge_index=edge_index, edge_attr=edge_attr, y=y)"
   ]
  },
  {
   "cell_type": "code",
   "execution_count": 17,
   "metadata": {},
   "outputs": [
    {
     "data": {
      "text/plain": [
       "Data(x=[55493, 1], edge_index=[2, 1924076], edge_attr=[1924076, 1], y=[55493])"
      ]
     },
     "execution_count": 17,
     "metadata": {},
     "output_type": "execute_result"
    }
   ],
   "source": [
    "data"
   ]
  },
  {
   "cell_type": "code",
   "execution_count": 18,
   "metadata": {},
   "outputs": [
    {
     "data": {
      "text/plain": [
       " 0    44934\n",
       "-1     9574\n",
       " 1      985\n",
       "dtype: int64"
      ]
     },
     "metadata": {},
     "output_type": "display_data"
    }
   ],
   "source": [
    "has_target = data.y != -1\n",
    "display(pd.Series(y.numpy()).value_counts())"
   ]
  },
  {
   "cell_type": "markdown",
   "metadata": {},
   "source": [
    "## First GNN"
   ]
  },
  {
   "cell_type": "code",
   "execution_count": 19,
   "metadata": {},
   "outputs": [],
   "source": [
    "import torch\n",
    "import torch.nn.functional as F\n",
    "from torch_geometric.nn import GCNConv\n",
    "\n",
    "num_node_features = 1\n",
    "num_node_classes = 2\n",
    "\n",
    "class GCN(torch.nn.Module):\n",
    "    def __init__(self):\n",
    "        super().__init__()\n",
    "        self.conv1 = GCNConv(num_node_features, 16)\n",
    "        self.conv2 = GCNConv(16, 4)\n",
    "        self.conv3 = GCNConv(4, num_node_classes)\n",
    "\n",
    "        \n",
    "    def forward(self, data):\n",
    "        x, edge_index, edge_weight = data.x, data.edge_index, data.edge_attr\n",
    "\n",
    "        x = self.conv1(x, edge_index, edge_weight)\n",
    "        x = F.relu(x)\n",
    "        x = F.dropout(x, training=self.training)\n",
    "        x = self.conv2(x, edge_index, edge_weight)\n",
    "        x = F.relu(x)\n",
    "        x = F.dropout(x, training=self.training)\n",
    "        x = self.conv3(x, edge_index, edge_weight)\n",
    "\n",
    "        return F.log_softmax(x, dim=1)"
   ]
  },
  {
   "cell_type": "code",
   "execution_count": 20,
   "metadata": {},
   "outputs": [],
   "source": [
    "device = torch.device('cuda' if torch.cuda.is_available() else 'cpu')"
   ]
  },
  {
   "cell_type": "code",
   "execution_count": 21,
   "metadata": {},
   "outputs": [],
   "source": [
    "model = GCN().to(device)\n",
    "device = torch.device('cuda' if torch.cuda.is_available() else 'cpu')\n",
    "model = GCN().to(device)\n",
    "data = data.to(device)\n",
    "optimizer = torch.optim.Adam(model.parameters(), lr=0.01, weight_decay=5e-4)"
   ]
  },
  {
   "cell_type": "code",
   "execution_count": 22,
   "metadata": {},
   "outputs": [],
   "source": [
    "weight = torch.tensor([1, int((y.numpy() == 0).sum() /  (y.numpy() == 1).sum())], dtype=torch.float)"
   ]
  },
  {
   "cell_type": "code",
   "execution_count": 23,
   "metadata": {},
   "outputs": [
    {
     "data": {
      "application/vnd.jupyter.widget-view+json": {
       "model_id": "d82f72c5e7b64535b31ac5bdf5ecdd84",
       "version_major": 2,
       "version_minor": 0
      },
      "text/plain": [
       "  0%|          | 0/200 [00:00<?, ?it/s]"
      ]
     },
     "metadata": {},
     "output_type": "display_data"
    },
    {
     "name": "stdout",
     "output_type": "stream",
     "text": [
      "0\n",
      "0.5785899748282817\n",
      "100\n",
      "0.7810011366925297\n",
      "199\n",
      "0.7859268495090034\n"
     ]
    }
   ],
   "source": [
    "model.train()\n",
    "for epoch in tqdm(range(200)):\n",
    "    if epoch % 100 == 0:\n",
    "        print(epoch)\n",
    "        print(roc_auc_score(data.y[has_target].numpy(), model(data)[has_target, 1].detach().numpy()))\n",
    "    optimizer.zero_grad()\n",
    "    out = model(data)\n",
    "    #loss = F.nll_loss(out[has_target], data.y[has_target])\n",
    "    loss = torch.nn.CrossEntropyLoss(weight=weight)(out[has_target], data.y[has_target])\n",
    "    loss.backward()\n",
    "    optimizer.step()\n",
    "print(epoch)\n",
    "print(roc_auc_score(data.y[has_target].numpy(), model(data)[has_target, 1].detach().numpy()))"
   ]
  },
  {
   "cell_type": "code",
   "execution_count": 24,
   "metadata": {},
   "outputs": [
    {
     "data": {
      "text/plain": [
       "GCN(\n",
       "  (conv1): GCNConv(1, 16)\n",
       "  (conv2): GCNConv(16, 4)\n",
       "  (conv3): GCNConv(4, 2)\n",
       ")"
      ]
     },
     "execution_count": 24,
     "metadata": {},
     "output_type": "execute_result"
    }
   ],
   "source": [
    "model.eval()"
   ]
  },
  {
   "cell_type": "code",
   "execution_count": 25,
   "metadata": {},
   "outputs": [
    {
     "data": {
      "text/plain": [
       "0.7616237287397374"
      ]
     },
     "execution_count": 25,
     "metadata": {},
     "output_type": "execute_result"
    }
   ],
   "source": [
    "accuracy_score(data.y[has_target].numpy(), model(data)[has_target].argmax(dim=1).detach().numpy())"
   ]
  },
  {
   "cell_type": "code",
   "execution_count": 26,
   "metadata": {},
   "outputs": [
    {
     "data": {
      "text/plain": [
       "0.7926465188988971"
      ]
     },
     "execution_count": 26,
     "metadata": {},
     "output_type": "execute_result"
    }
   ],
   "source": [
    "roc_auc_score(data.y[has_target].numpy(), model(data)[has_target, 1].detach().numpy())"
   ]
  },
  {
   "cell_type": "code",
   "execution_count": 27,
   "metadata": {},
   "outputs": [
    {
     "data": {
      "text/plain": [
       "0.7926465188988971"
      ]
     },
     "execution_count": 27,
     "metadata": {},
     "output_type": "execute_result"
    }
   ],
   "source": [
    "roc_auc_score(data.y.numpy()[has_target], model(data)[:, 1].detach().numpy()[has_target])"
   ]
  },
  {
   "cell_type": "markdown",
   "metadata": {},
   "source": [
    "## Temporal data"
   ]
  },
  {
   "cell_type": "code",
   "execution_count": 73,
   "metadata": {},
   "outputs": [],
   "source": [
    "all_one_sim = res_df[(res_df['simulation'] == '0_1') & (res_df['week'] > 0) & (res_df['week'] < 12)]"
   ]
  },
  {
   "cell_type": "code",
   "execution_count": 75,
   "metadata": {},
   "outputs": [
    {
     "data": {
      "text/plain": [
       "torch.Size([610413, 1])"
      ]
     },
     "execution_count": 75,
     "metadata": {},
     "output_type": "execute_result"
    }
   ],
   "source": [
    "x = torch.tensor([[state] for state in [0] + all_one_sim['state'].tolist()],\n",
    "                 dtype=torch.float)\n",
    "x.shape"
   ]
  },
  {
   "cell_type": "code",
   "execution_count": 76,
   "metadata": {},
   "outputs": [
    {
     "data": {
      "text/plain": [
       "torch.Size([2, 21164836])"
      ]
     },
     "execution_count": 76,
     "metadata": {},
     "output_type": "execute_result"
    }
   ],
   "source": [
    "edge_index = torch.tensor([[int(e[0]) for e in (all_one_sim.week.nunique() * edges)],\n",
    "                           [int(e[1]) for e in (all_one_sim.week.nunique() * edges)]],\n",
    "                          dtype=torch.long)\n",
    "edge_index.shape"
   ]
  },
  {
   "cell_type": "code",
   "execution_count": 77,
   "metadata": {},
   "outputs": [
    {
     "data": {
      "text/plain": [
       "torch.Size([21164836, 1])"
      ]
     },
     "execution_count": 77,
     "metadata": {},
     "output_type": "execute_result"
    }
   ],
   "source": [
    "edge_attr = torch.tensor([[city_restrictions[action][e[2]] * p_r[e[2]]] for e in (all_one_sim.week.nunique() * edges)],\n",
    "                         dtype=torch.float)\n",
    "edge_attr.shape"
   ]
  },
  {
   "cell_type": "code",
   "execution_count": 91,
   "metadata": {},
   "outputs": [],
   "source": [
    "target_dict = (\n",
    "    model_dataset[(model_dataset['simulation'] == '0_1') & (model_dataset['week'] > 0) & (model_dataset['week'] < 12)]\n",
    "    [['id', 'week', 'binary_target']]\n",
    "    .set_index(['week', 'id'])\n",
    "    .to_dict()\n",
    "    ['binary_target']\n",
    ")"
   ]
  },
  {
   "cell_type": "code",
   "execution_count": 92,
   "metadata": {},
   "outputs": [
    {
     "data": {
      "text/plain": [
       "torch.Size([610413])"
      ]
     },
     "execution_count": 92,
     "metadata": {},
     "output_type": "execute_result"
    }
   ],
   "source": [
    "graph_targets = [-1]+ [\n",
    "    -1 if state != 0\n",
    "    else target_dict[(week, node_id)]\n",
    "    for node_id, week, state in all_one_sim[['id', 'week', 'state']].values\n",
    "]\n",
    "\n",
    "y = torch.tensor(graph_targets, dtype=torch.long)\n",
    "y.shape"
   ]
  },
  {
   "cell_type": "code",
   "execution_count": 97,
   "metadata": {},
   "outputs": [],
   "source": [
    "data = Data(x=x, edge_index=edge_index, edge_attr=edge_attr, y=y)"
   ]
  },
  {
   "cell_type": "code",
   "execution_count": 98,
   "metadata": {},
   "outputs": [
    {
     "data": {
      "text/plain": [
       "Data(x=[610413, 1], edge_index=[2, 21164836], edge_attr=[21164836, 1], y=[610413])"
      ]
     },
     "execution_count": 98,
     "metadata": {},
     "output_type": "execute_result"
    }
   ],
   "source": [
    "data"
   ]
  },
  {
   "cell_type": "code",
   "execution_count": 99,
   "metadata": {},
   "outputs": [
    {
     "data": {
      "text/plain": [
       " 0    573928\n",
       "-1     26981\n",
       " 1      9504\n",
       "dtype: int64"
      ]
     },
     "metadata": {},
     "output_type": "display_data"
    }
   ],
   "source": [
    "has_target = data.y != -1\n",
    "display(pd.Series(y.numpy()).value_counts())"
   ]
  },
  {
   "cell_type": "code",
   "execution_count": 100,
   "metadata": {},
   "outputs": [],
   "source": [
    "device = torch.device('cuda' if torch.cuda.is_available() else 'cpu')"
   ]
  },
  {
   "cell_type": "code",
   "execution_count": 101,
   "metadata": {},
   "outputs": [],
   "source": [
    "model = GCN().to(device)\n",
    "device = torch.device('cuda' if torch.cuda.is_available() else 'cpu')\n",
    "model = GCN().to(device)\n",
    "data = data.to(device)\n",
    "optimizer = torch.optim.Adam(model.parameters(), lr=0.01, weight_decay=5e-4)"
   ]
  },
  {
   "cell_type": "code",
   "execution_count": 102,
   "metadata": {},
   "outputs": [],
   "source": [
    "weight = torch.tensor([1, int((y.numpy() == 0).sum() /  (y.numpy() == 1).sum())], dtype=torch.float)"
   ]
  },
  {
   "cell_type": "code",
   "execution_count": null,
   "metadata": {},
   "outputs": [
    {
     "data": {
      "application/vnd.jupyter.widget-view+json": {
       "model_id": "152c51d78915472582bb3e707d2cbd7b",
       "version_major": 2,
       "version_minor": 0
      },
      "text/plain": [
       "  0%|          | 0/200 [00:00<?, ?it/s]"
      ]
     },
     "metadata": {},
     "output_type": "display_data"
    },
    {
     "name": "stdout",
     "output_type": "stream",
     "text": [
      "0\n",
      "0.4691152017054885\n"
     ]
    }
   ],
   "source": [
    "model.train()\n",
    "for epoch in tqdm(range(200)):\n",
    "    if epoch % 100 == 0:\n",
    "        print(epoch)\n",
    "        print(roc_auc_score(data.y[has_target].numpy(), model(data)[has_target, 1].detach().numpy()))\n",
    "    optimizer.zero_grad()\n",
    "    out = model(data)\n",
    "    #loss = F.nll_loss(out[has_target], data.y[has_target])\n",
    "    loss = torch.nn.CrossEntropyLoss(weight=weight)(out[has_target], data.y[has_target])\n",
    "    loss.backward()\n",
    "    optimizer.step()\n",
    "print(epoch)\n",
    "print(roc_auc_score(data.y[has_target].numpy(), model(data)[has_target, 1].detach().numpy()))"
   ]
  },
  {
   "cell_type": "code",
   "execution_count": null,
   "metadata": {},
   "outputs": [],
   "source": []
  }
 ],
 "metadata": {
  "kernelspec": {
   "display_name": "Python [conda env:.conda-masters]",
   "language": "python",
   "name": "conda-env-.conda-masters-py"
  },
  "language_info": {
   "codemirror_mode": {
    "name": "ipython",
    "version": 3
   },
   "file_extension": ".py",
   "mimetype": "text/x-python",
   "name": "python",
   "nbconvert_exporter": "python",
   "pygments_lexer": "ipython3",
   "version": "3.9.10"
  }
 },
 "nbformat": 4,
 "nbformat_minor": 4
}
