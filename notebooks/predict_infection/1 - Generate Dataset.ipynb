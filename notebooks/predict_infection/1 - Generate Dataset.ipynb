{
 "cells": [
  {
   "cell_type": "code",
   "execution_count": 1,
   "metadata": {},
   "outputs": [],
   "source": [
    "import sys\n",
    "sys.path.append(\"../../src/models\")"
   ]
  },
  {
   "cell_type": "code",
   "execution_count": 2,
   "metadata": {},
   "outputs": [],
   "source": [
    "import numpy as np\n",
    "from actions import city_restrictions, costs"
   ]
  },
  {
   "cell_type": "code",
   "execution_count": 3,
   "metadata": {},
   "outputs": [],
   "source": [
    "from simulate_pandemic import init_infection, spread_infection, lambda_leak_expose, update_population\n",
    "from simulate_pandemic import main"
   ]
  },
  {
   "cell_type": "code",
   "execution_count": 4,
   "metadata": {},
   "outputs": [],
   "source": [
    "from numpy.random import default_rng\n",
    "import pandas as pd\n",
    "from datetime import datetime\n",
    "from tqdm import tqdm\n",
    "from joblib import Parallel, delayed"
   ]
  },
  {
   "cell_type": "markdown",
   "metadata": {},
   "source": [
    "## Generate simulation data"
   ]
  },
  {
   "cell_type": "code",
   "execution_count": 5,
   "metadata": {},
   "outputs": [],
   "source": [
    "def make_individual_df(week, sim, action, data):\n",
    "    df = pd.DataFrame(data, columns=['id', 'state'])\n",
    "    df['simulation'] = sim\n",
    "    df['week'] = week\n",
    "    df['action'] = action\n",
    "    \n",
    "    return df"
   ]
  },
  {
   "cell_type": "code",
   "execution_count": 6,
   "metadata": {},
   "outputs": [],
   "source": [
    "def make_value_counts_df(week, sim, action, data):\n",
    "    df = pd.DataFrame(pd.Series(data[:, 1]).value_counts()).T\n",
    "    df['simulation'] = sim\n",
    "    df['week'] = week\n",
    "    df['action'] = action\n",
    "    df = df.rename(columns = {\n",
    "                              -1 : 'removed',\n",
    "                               0 : 'susceptible',\n",
    "                               1 : 'exposed',\n",
    "                               2 : 'infected',\n",
    "                               3 : 'hospitalized'\n",
    "                              }\n",
    "                  )\n",
    "    \n",
    "    return df"
   ]
  },
  {
   "cell_type": "code",
   "execution_count": 7,
   "metadata": {},
   "outputs": [],
   "source": [
    "def simulate_and_save(policy_number, policy, n_sims, step_size=7, folder='generated_sims/'):\n",
    "    dfs = []\n",
    "    for sim in range(1, n_sims+1):\n",
    "        \n",
    "        sim_name = f'{policy_number}_{sim}'\n",
    "                \n",
    "        data, pop_matrix = main(gpickle_path=gpickle_path,\n",
    "                                p_r=p_r,\n",
    "                                policy=policy,\n",
    "                                disable_tqdm=True,\n",
    "                                days=step_size*len(policy),\n",
    "                                step_size=step_size)\n",
    "        \n",
    "        weeks = (step_size/7) * len(policy)\n",
    "        \n",
    "        weekly_data = [data[i*7] for i in range(int(weeks))]\n",
    "        df = pd.concat([make_individual_df(week, sim_name, action, data)\n",
    "                             for week, (data, action) in enumerate(zip(weekly_data, policy))])\n",
    "        #df.to_parquet(folder + f'{sim_name}.parquet')\n",
    "        dfs += [df]\n",
    "    return dfs"
   ]
  },
  {
   "cell_type": "code",
   "execution_count": 8,
   "metadata": {},
   "outputs": [],
   "source": [
    "rng = default_rng(None)\n",
    "\n",
    "gpickle_path = \"../../data/processed/SP_multiGraph_Job_Edu_Level.gpickle\"\n",
    "\n",
    "prhome = 0.06\n",
    "p_r = {\n",
    "    'home'    :  prhome,\n",
    "    'neighbor':  .1*prhome,\n",
    "    'work'    :  .1*prhome,\n",
    "    'school'  :  .15*prhome,\n",
    "}"
   ]
  },
  {
   "cell_type": "code",
   "execution_count": 9,
   "metadata": {},
   "outputs": [],
   "source": [
    "costs_keys = list(costs.keys())\n",
    "costs_values = np.array(list(costs.values()))\n"
   ]
  },
  {
   "cell_type": "markdown",
   "metadata": {},
   "source": [
    "### Cost Weighted"
   ]
  },
  {
   "cell_type": "code",
   "execution_count": 10,
   "metadata": {},
   "outputs": [],
   "source": [
    "p = (1 - costs_values) / (1 - costs_values).sum()\n",
    "policy = [rng.choice(costs_keys, size=int(364/14),\n",
    "                     replace=True, p=p)\n",
    "          for i in range(16)]\n",
    "\n",
    "assert len(set([tuple(p) for p in policy])) == len(policy)"
   ]
  },
  {
   "cell_type": "code",
   "execution_count": 11,
   "metadata": {
    "scrolled": true
   },
   "outputs": [
    {
     "name": "stderr",
     "output_type": "stream",
     "text": [
      "100%|██████████| 16/16 [00:00<00:00, 101.28it/s]\n"
     ]
    }
   ],
   "source": [
    "n_sims=1\n",
    "res = Parallel(n_jobs=16)(delayed(simulate_and_save)(i, pol, n_sims) \n",
    "                              for i, pol in tqdm(enumerate(policy),\n",
    "                                                 total=len(policy)))"
   ]
  },
  {
   "cell_type": "code",
   "execution_count": 12,
   "metadata": {},
   "outputs": [],
   "source": [
    "res_df = pd.concat([r for rr in res for r in rr])"
   ]
  },
  {
   "cell_type": "code",
   "execution_count": 13,
   "metadata": {},
   "outputs": [
    {
     "data": {
      "text/plain": [
       "(23084672, 5)"
      ]
     },
     "execution_count": 13,
     "metadata": {},
     "output_type": "execute_result"
    }
   ],
   "source": [
    "res_df.shape"
   ]
  },
  {
   "cell_type": "code",
   "execution_count": 14,
   "metadata": {},
   "outputs": [],
   "source": [
    "res_df.to_parquet(\"simulation_results_dataset.parquet\")"
   ]
  },
  {
   "cell_type": "markdown",
   "metadata": {},
   "source": [
    "## Add individuals data"
   ]
  },
  {
   "cell_type": "code",
   "execution_count": 15,
   "metadata": {},
   "outputs": [],
   "source": [
    "individual_infos = pd.read_feather(\"../../data/processed/clusterized_df.feather\")"
   ]
  },
  {
   "cell_type": "code",
   "execution_count": 17,
   "metadata": {},
   "outputs": [
    {
     "data": {
      "text/html": [
       "<div>\n",
       "<style scoped>\n",
       "    .dataframe tbody tr th:only-of-type {\n",
       "        vertical-align: middle;\n",
       "    }\n",
       "\n",
       "    .dataframe tbody tr th {\n",
       "        vertical-align: top;\n",
       "    }\n",
       "\n",
       "    .dataframe thead th {\n",
       "        text-align: right;\n",
       "    }\n",
       "</style>\n",
       "<table border=\"1\" class=\"dataframe\">\n",
       "  <thead>\n",
       "    <tr style=\"text-align: right;\">\n",
       "      <th></th>\n",
       "      <th>home</th>\n",
       "      <th>school</th>\n",
       "      <th>work</th>\n",
       "      <th>id</th>\n",
       "      <th>work_x</th>\n",
       "      <th>work_y</th>\n",
       "      <th>school_x</th>\n",
       "      <th>school_y</th>\n",
       "      <th>home_x</th>\n",
       "      <th>home_y</th>\n",
       "      <th>...</th>\n",
       "      <th>idade</th>\n",
       "      <th>criteriobr</th>\n",
       "      <th>renda_fa</th>\n",
       "      <th>education</th>\n",
       "      <th>job_level</th>\n",
       "      <th>studies</th>\n",
       "      <th>private_healthcare</th>\n",
       "      <th>home_cluster</th>\n",
       "      <th>work_cluster</th>\n",
       "      <th>school_cluster</th>\n",
       "    </tr>\n",
       "  </thead>\n",
       "  <tbody>\n",
       "    <tr>\n",
       "      <th>0</th>\n",
       "      <td>1.0</td>\n",
       "      <td>NaN</td>\n",
       "      <td>3.0</td>\n",
       "      <td>1</td>\n",
       "      <td>333104.0</td>\n",
       "      <td>7394476.0</td>\n",
       "      <td>NaN</td>\n",
       "      <td>NaN</td>\n",
       "      <td>333743.0</td>\n",
       "      <td>7394463.0</td>\n",
       "      <td>...</td>\n",
       "      <td>59.0</td>\n",
       "      <td>4.0</td>\n",
       "      <td>2732.575910</td>\n",
       "      <td>3.0</td>\n",
       "      <td>2.0</td>\n",
       "      <td>1.0</td>\n",
       "      <td>False</td>\n",
       "      <td>1_1</td>\n",
       "      <td>3_0</td>\n",
       "      <td>None</td>\n",
       "    </tr>\n",
       "    <tr>\n",
       "      <th>1</th>\n",
       "      <td>1.0</td>\n",
       "      <td>84.0</td>\n",
       "      <td>82.0</td>\n",
       "      <td>2</td>\n",
       "      <td>327503.0</td>\n",
       "      <td>7392159.0</td>\n",
       "      <td>329431.0</td>\n",
       "      <td>7395939.0</td>\n",
       "      <td>333743.0</td>\n",
       "      <td>7394463.0</td>\n",
       "      <td>...</td>\n",
       "      <td>21.0</td>\n",
       "      <td>4.0</td>\n",
       "      <td>2732.575910</td>\n",
       "      <td>4.0</td>\n",
       "      <td>2.0</td>\n",
       "      <td>5.0</td>\n",
       "      <td>False</td>\n",
       "      <td>1_1</td>\n",
       "      <td>82_16</td>\n",
       "      <td>84_1_5</td>\n",
       "    </tr>\n",
       "    <tr>\n",
       "      <th>2</th>\n",
       "      <td>1.0</td>\n",
       "      <td>NaN</td>\n",
       "      <td>1.0</td>\n",
       "      <td>3</td>\n",
       "      <td>333453.0</td>\n",
       "      <td>7394501.0</td>\n",
       "      <td>NaN</td>\n",
       "      <td>NaN</td>\n",
       "      <td>333814.0</td>\n",
       "      <td>7394428.0</td>\n",
       "      <td>...</td>\n",
       "      <td>37.0</td>\n",
       "      <td>5.0</td>\n",
       "      <td>3200.000000</td>\n",
       "      <td>4.0</td>\n",
       "      <td>2.0</td>\n",
       "      <td>1.0</td>\n",
       "      <td>False</td>\n",
       "      <td>1_4</td>\n",
       "      <td>1_7</td>\n",
       "      <td>None</td>\n",
       "    </tr>\n",
       "    <tr>\n",
       "      <th>3</th>\n",
       "      <td>1.0</td>\n",
       "      <td>NaN</td>\n",
       "      <td>1.0</td>\n",
       "      <td>4</td>\n",
       "      <td>333539.0</td>\n",
       "      <td>7394387.0</td>\n",
       "      <td>NaN</td>\n",
       "      <td>NaN</td>\n",
       "      <td>333814.0</td>\n",
       "      <td>7394428.0</td>\n",
       "      <td>...</td>\n",
       "      <td>19.0</td>\n",
       "      <td>5.0</td>\n",
       "      <td>3200.000000</td>\n",
       "      <td>3.0</td>\n",
       "      <td>2.0</td>\n",
       "      <td>1.0</td>\n",
       "      <td>False</td>\n",
       "      <td>1_4</td>\n",
       "      <td>1_7</td>\n",
       "      <td>None</td>\n",
       "    </tr>\n",
       "    <tr>\n",
       "      <th>4</th>\n",
       "      <td>1.0</td>\n",
       "      <td>NaN</td>\n",
       "      <td>26.0</td>\n",
       "      <td>5</td>\n",
       "      <td>332344.0</td>\n",
       "      <td>7393317.0</td>\n",
       "      <td>NaN</td>\n",
       "      <td>NaN</td>\n",
       "      <td>333814.0</td>\n",
       "      <td>7394428.0</td>\n",
       "      <td>...</td>\n",
       "      <td>18.0</td>\n",
       "      <td>5.0</td>\n",
       "      <td>3200.000000</td>\n",
       "      <td>3.0</td>\n",
       "      <td>2.0</td>\n",
       "      <td>1.0</td>\n",
       "      <td>False</td>\n",
       "      <td>1_4</td>\n",
       "      <td>26_1</td>\n",
       "      <td>None</td>\n",
       "    </tr>\n",
       "    <tr>\n",
       "      <th>...</th>\n",
       "      <td>...</td>\n",
       "      <td>...</td>\n",
       "      <td>...</td>\n",
       "      <td>...</td>\n",
       "      <td>...</td>\n",
       "      <td>...</td>\n",
       "      <td>...</td>\n",
       "      <td>...</td>\n",
       "      <td>...</td>\n",
       "      <td>...</td>\n",
       "      <td>...</td>\n",
       "      <td>...</td>\n",
       "      <td>...</td>\n",
       "      <td>...</td>\n",
       "      <td>...</td>\n",
       "      <td>...</td>\n",
       "      <td>...</td>\n",
       "      <td>...</td>\n",
       "      <td>...</td>\n",
       "      <td>...</td>\n",
       "      <td>...</td>\n",
       "    </tr>\n",
       "    <tr>\n",
       "      <th>55487</th>\n",
       "      <td>342.0</td>\n",
       "      <td>NaN</td>\n",
       "      <td>90.0</td>\n",
       "      <td>55488</td>\n",
       "      <td>327737.0</td>\n",
       "      <td>7396374.0</td>\n",
       "      <td>NaN</td>\n",
       "      <td>NaN</td>\n",
       "      <td>323322.0</td>\n",
       "      <td>7392038.0</td>\n",
       "      <td>...</td>\n",
       "      <td>27.0</td>\n",
       "      <td>1.0</td>\n",
       "      <td>9461.630458</td>\n",
       "      <td>5.0</td>\n",
       "      <td>4.0</td>\n",
       "      <td>1.0</td>\n",
       "      <td>True</td>\n",
       "      <td>342_10</td>\n",
       "      <td>90_0</td>\n",
       "      <td>None</td>\n",
       "    </tr>\n",
       "    <tr>\n",
       "      <th>55488</th>\n",
       "      <td>342.0</td>\n",
       "      <td>NaN</td>\n",
       "      <td>341.0</td>\n",
       "      <td>55489</td>\n",
       "      <td>323653.0</td>\n",
       "      <td>7391801.0</td>\n",
       "      <td>NaN</td>\n",
       "      <td>NaN</td>\n",
       "      <td>322857.0</td>\n",
       "      <td>7390956.0</td>\n",
       "      <td>...</td>\n",
       "      <td>52.0</td>\n",
       "      <td>1.0</td>\n",
       "      <td>9461.630458</td>\n",
       "      <td>5.0</td>\n",
       "      <td>2.0</td>\n",
       "      <td>1.0</td>\n",
       "      <td>True</td>\n",
       "      <td>342_6</td>\n",
       "      <td>341_0</td>\n",
       "      <td>None</td>\n",
       "    </tr>\n",
       "    <tr>\n",
       "      <th>55489</th>\n",
       "      <td>342.0</td>\n",
       "      <td>NaN</td>\n",
       "      <td>341.0</td>\n",
       "      <td>55490</td>\n",
       "      <td>323653.0</td>\n",
       "      <td>7391801.0</td>\n",
       "      <td>NaN</td>\n",
       "      <td>NaN</td>\n",
       "      <td>322857.0</td>\n",
       "      <td>7390956.0</td>\n",
       "      <td>...</td>\n",
       "      <td>26.0</td>\n",
       "      <td>1.0</td>\n",
       "      <td>9461.630458</td>\n",
       "      <td>5.0</td>\n",
       "      <td>2.0</td>\n",
       "      <td>1.0</td>\n",
       "      <td>True</td>\n",
       "      <td>342_6</td>\n",
       "      <td>341_0</td>\n",
       "      <td>None</td>\n",
       "    </tr>\n",
       "    <tr>\n",
       "      <th>55490</th>\n",
       "      <td>342.0</td>\n",
       "      <td>NaN</td>\n",
       "      <td>342.0</td>\n",
       "      <td>55491</td>\n",
       "      <td>323034.0</td>\n",
       "      <td>7390476.0</td>\n",
       "      <td>NaN</td>\n",
       "      <td>NaN</td>\n",
       "      <td>323034.0</td>\n",
       "      <td>7390476.0</td>\n",
       "      <td>...</td>\n",
       "      <td>28.0</td>\n",
       "      <td>3.0</td>\n",
       "      <td>3000.000000</td>\n",
       "      <td>5.0</td>\n",
       "      <td>2.0</td>\n",
       "      <td>1.0</td>\n",
       "      <td>False</td>\n",
       "      <td>342_3</td>\n",
       "      <td>342_1</td>\n",
       "      <td>None</td>\n",
       "    </tr>\n",
       "    <tr>\n",
       "      <th>55491</th>\n",
       "      <td>342.0</td>\n",
       "      <td>28.0</td>\n",
       "      <td>73.0</td>\n",
       "      <td>55492</td>\n",
       "      <td>326770.0</td>\n",
       "      <td>7387716.0</td>\n",
       "      <td>331482.0</td>\n",
       "      <td>7392910.0</td>\n",
       "      <td>323034.0</td>\n",
       "      <td>7390476.0</td>\n",
       "      <td>...</td>\n",
       "      <td>24.0</td>\n",
       "      <td>3.0</td>\n",
       "      <td>3000.000000</td>\n",
       "      <td>4.0</td>\n",
       "      <td>2.0</td>\n",
       "      <td>5.0</td>\n",
       "      <td>False</td>\n",
       "      <td>342_3</td>\n",
       "      <td>73_11</td>\n",
       "      <td>28_0</td>\n",
       "    </tr>\n",
       "  </tbody>\n",
       "</table>\n",
       "<p>55492 rows × 21 columns</p>\n",
       "</div>"
      ],
      "text/plain": [
       "        home  school   work     id    work_x     work_y  school_x   school_y  \\\n",
       "0        1.0     NaN    3.0      1  333104.0  7394476.0       NaN        NaN   \n",
       "1        1.0    84.0   82.0      2  327503.0  7392159.0  329431.0  7395939.0   \n",
       "2        1.0     NaN    1.0      3  333453.0  7394501.0       NaN        NaN   \n",
       "3        1.0     NaN    1.0      4  333539.0  7394387.0       NaN        NaN   \n",
       "4        1.0     NaN   26.0      5  332344.0  7393317.0       NaN        NaN   \n",
       "...      ...     ...    ...    ...       ...        ...       ...        ...   \n",
       "55487  342.0     NaN   90.0  55488  327737.0  7396374.0       NaN        NaN   \n",
       "55488  342.0     NaN  341.0  55489  323653.0  7391801.0       NaN        NaN   \n",
       "55489  342.0     NaN  341.0  55490  323653.0  7391801.0       NaN        NaN   \n",
       "55490  342.0     NaN  342.0  55491  323034.0  7390476.0       NaN        NaN   \n",
       "55491  342.0    28.0   73.0  55492  326770.0  7387716.0  331482.0  7392910.0   \n",
       "\n",
       "         home_x     home_y  ... idade  criteriobr     renda_fa  education  \\\n",
       "0      333743.0  7394463.0  ...  59.0         4.0  2732.575910        3.0   \n",
       "1      333743.0  7394463.0  ...  21.0         4.0  2732.575910        4.0   \n",
       "2      333814.0  7394428.0  ...  37.0         5.0  3200.000000        4.0   \n",
       "3      333814.0  7394428.0  ...  19.0         5.0  3200.000000        3.0   \n",
       "4      333814.0  7394428.0  ...  18.0         5.0  3200.000000        3.0   \n",
       "...         ...        ...  ...   ...         ...          ...        ...   \n",
       "55487  323322.0  7392038.0  ...  27.0         1.0  9461.630458        5.0   \n",
       "55488  322857.0  7390956.0  ...  52.0         1.0  9461.630458        5.0   \n",
       "55489  322857.0  7390956.0  ...  26.0         1.0  9461.630458        5.0   \n",
       "55490  323034.0  7390476.0  ...  28.0         3.0  3000.000000        5.0   \n",
       "55491  323034.0  7390476.0  ...  24.0         3.0  3000.000000        4.0   \n",
       "\n",
       "       job_level  studies  private_healthcare  home_cluster work_cluster  \\\n",
       "0            2.0      1.0               False           1_1          3_0   \n",
       "1            2.0      5.0               False           1_1        82_16   \n",
       "2            2.0      1.0               False           1_4          1_7   \n",
       "3            2.0      1.0               False           1_4          1_7   \n",
       "4            2.0      1.0               False           1_4         26_1   \n",
       "...          ...      ...                 ...           ...          ...   \n",
       "55487        4.0      1.0                True        342_10         90_0   \n",
       "55488        2.0      1.0                True         342_6        341_0   \n",
       "55489        2.0      1.0                True         342_6        341_0   \n",
       "55490        2.0      1.0               False         342_3        342_1   \n",
       "55491        2.0      5.0               False         342_3        73_11   \n",
       "\n",
       "      school_cluster  \n",
       "0               None  \n",
       "1             84_1_5  \n",
       "2               None  \n",
       "3               None  \n",
       "4               None  \n",
       "...              ...  \n",
       "55487           None  \n",
       "55488           None  \n",
       "55489           None  \n",
       "55490           None  \n",
       "55491           28_0  \n",
       "\n",
       "[55492 rows x 21 columns]"
      ]
     },
     "execution_count": 17,
     "metadata": {},
     "output_type": "execute_result"
    }
   ],
   "source": [
    "individual_infos"
   ]
  },
  {
   "cell_type": "code",
   "execution_count": 36,
   "metadata": {},
   "outputs": [],
   "source": [
    "dataset_info = pd.merge(\n",
    "    res_df,\n",
    "    individual_infos[['id', 'home', 'school', 'work', 'idade', 'home_id']].astype(float),\n",
    "    on='id'\n",
    ").copy()"
   ]
  },
  {
   "cell_type": "markdown",
   "metadata": {},
   "source": [
    "## Creating Target (State two weeks from now)"
   ]
  },
  {
   "cell_type": "code",
   "execution_count": 37,
   "metadata": {},
   "outputs": [],
   "source": [
    "dataset_info['target'] = dataset_info.groupby(['id', 'simulation'])['state'].shift(-1)"
   ]
  },
  {
   "cell_type": "code",
   "execution_count": 38,
   "metadata": {},
   "outputs": [
    {
     "data": {
      "text/plain": [
       "0.8162256756344644"
      ]
     },
     "execution_count": 38,
     "metadata": {},
     "output_type": "execute_result"
    }
   ],
   "source": [
    "dataset_info.groupby(['week'])['state'].apply(lambda x: (x == 0).sum() / len(x)).mean()"
   ]
  },
  {
   "cell_type": "markdown",
   "metadata": {},
   "source": [
    "### Discarding weeks 17 onwards, due to 30% removed"
   ]
  },
  {
   "cell_type": "code",
   "execution_count": 39,
   "metadata": {},
   "outputs": [],
   "source": [
    "dataset_info = dataset_info[dataset_info['week'] < 17]"
   ]
  },
  {
   "cell_type": "code",
   "execution_count": 40,
   "metadata": {},
   "outputs": [
    {
     "data": {
      "text/plain": [
       "0"
      ]
     },
     "execution_count": 40,
     "metadata": {},
     "output_type": "execute_result"
    }
   ],
   "source": [
    "dataset_info.target.isna().sum()"
   ]
  },
  {
   "cell_type": "code",
   "execution_count": 64,
   "metadata": {},
   "outputs": [
    {
     "data": {
      "text/html": [
       "<div>\n",
       "<style scoped>\n",
       "    .dataframe tbody tr th:only-of-type {\n",
       "        vertical-align: middle;\n",
       "    }\n",
       "\n",
       "    .dataframe tbody tr th {\n",
       "        vertical-align: top;\n",
       "    }\n",
       "\n",
       "    .dataframe thead th {\n",
       "        text-align: right;\n",
       "    }\n",
       "</style>\n",
       "<table border=\"1\" class=\"dataframe\">\n",
       "  <thead>\n",
       "    <tr style=\"text-align: right;\">\n",
       "      <th></th>\n",
       "      <th>id</th>\n",
       "      <th>state</th>\n",
       "      <th>simulation</th>\n",
       "      <th>week</th>\n",
       "      <th>action</th>\n",
       "      <th>home</th>\n",
       "      <th>school</th>\n",
       "      <th>work</th>\n",
       "      <th>idade</th>\n",
       "      <th>home_id</th>\n",
       "      <th>target</th>\n",
       "    </tr>\n",
       "  </thead>\n",
       "  <tbody>\n",
       "    <tr>\n",
       "      <th>804972</th>\n",
       "      <td>1936</td>\n",
       "      <td>0</td>\n",
       "      <td>0_1</td>\n",
       "      <td>12</td>\n",
       "      <td>Light Quarantine</td>\n",
       "      <td>17.0</td>\n",
       "      <td>NaN</td>\n",
       "      <td>NaN</td>\n",
       "      <td>37.0</td>\n",
       "      <td>170031.0</td>\n",
       "      <td>0</td>\n",
       "    </tr>\n",
       "  </tbody>\n",
       "</table>\n",
       "</div>"
      ],
      "text/plain": [
       "          id  state simulation  week            action  home  school  work  \\\n",
       "804972  1936      0        0_1    12  Light Quarantine  17.0     NaN   NaN   \n",
       "\n",
       "        idade   home_id  target  \n",
       "804972   37.0  170031.0       0  "
      ]
     },
     "execution_count": 64,
     "metadata": {},
     "output_type": "execute_result"
    }
   ],
   "source": [
    "dataset_info.query(\"id == 1936 and week == 12 and simulation == '0_1'\")"
   ]
  },
  {
   "cell_type": "code",
   "execution_count": 41,
   "metadata": {},
   "outputs": [],
   "source": [
    "dataset_info['target'] = dataset_info['target'].astype(int)"
   ]
  },
  {
   "cell_type": "code",
   "execution_count": 42,
   "metadata": {},
   "outputs": [],
   "source": [
    "def create_columns_map(relation_type):\n",
    "    return {\n",
    "        'week': 'actual_week',\n",
    "        -1: f'{relation_type}_removed',\n",
    "        0: f'{relation_type}_susceptible',\n",
    "        1: f'{relation_type}_exposed',\n",
    "        2: f'{relation_type}_infected',\n",
    "        3: f'{relation_type}_hospitalized'\n",
    "    }"
   ]
  },
  {
   "cell_type": "code",
   "execution_count": 43,
   "metadata": {},
   "outputs": [
    {
     "name": "stdout",
     "output_type": "stream",
     "text": [
      "home\n",
      "value counts done\n",
      "Pivot Done\n",
      "school\n",
      "value counts done\n",
      "Pivot Done\n",
      "work\n",
      "value counts done\n",
      "Pivot Done\n",
      "home_id\n",
      "value counts done\n",
      "Pivot Done\n"
     ]
    }
   ],
   "source": [
    "resulting_ratios = {}\n",
    "\n",
    "for relation_type in ['home', 'school', 'work', 'home_id']:\n",
    "    print(relation_type)\n",
    "    value_counts_week = (\n",
    "        dataset_info\n",
    "            .groupby(['week', 'simulation', relation_type])['target']\n",
    "            .value_counts(normalize=True)\n",
    "            .reset_index(name='ratio')\n",
    "    )\n",
    "    \n",
    "    print(\"value counts done\")\n",
    "    pivot = (\n",
    "        pd.pivot_table(data=value_counts_week, index=['week', 'simulation', relation_type],\n",
    "                       columns='target', values='ratio', fill_value=0)\n",
    "          .reset_index()\n",
    "          .rename(columns=create_columns_map(relation_type))\n",
    "    )\n",
    "    \n",
    "    print(\"Pivot Done\")\n",
    "   \n",
    "    pivot['week'] = pivot['actual_week'] + 1\n",
    "    \n",
    "    resulting_ratios[relation_type] = pivot"
   ]
  },
  {
   "cell_type": "code",
   "execution_count": 65,
   "metadata": {},
   "outputs": [],
   "source": [
    "model_dataset = dataset_info[(dataset_info['target'].notna()) & (dataset_info['state'] == 0)].copy()"
   ]
  },
  {
   "cell_type": "code",
   "execution_count": 66,
   "metadata": {},
   "outputs": [
    {
     "data": {
      "text/plain": [
       "0.9156939951068729"
      ]
     },
     "execution_count": 66,
     "metadata": {},
     "output_type": "execute_result"
    }
   ],
   "source": [
    "model_dataset.shape[0] / dataset_info.shape[0]"
   ]
  },
  {
   "cell_type": "code",
   "execution_count": 67,
   "metadata": {},
   "outputs": [
    {
     "data": {
      "text/html": [
       "<div>\n",
       "<style scoped>\n",
       "    .dataframe tbody tr th:only-of-type {\n",
       "        vertical-align: middle;\n",
       "    }\n",
       "\n",
       "    .dataframe tbody tr th {\n",
       "        vertical-align: top;\n",
       "    }\n",
       "\n",
       "    .dataframe thead th {\n",
       "        text-align: right;\n",
       "    }\n",
       "</style>\n",
       "<table border=\"1\" class=\"dataframe\">\n",
       "  <thead>\n",
       "    <tr style=\"text-align: right;\">\n",
       "      <th></th>\n",
       "      <th>id</th>\n",
       "      <th>state</th>\n",
       "      <th>simulation</th>\n",
       "      <th>week</th>\n",
       "      <th>action</th>\n",
       "      <th>home</th>\n",
       "      <th>school</th>\n",
       "      <th>work</th>\n",
       "      <th>idade</th>\n",
       "      <th>home_id</th>\n",
       "      <th>target</th>\n",
       "    </tr>\n",
       "  </thead>\n",
       "  <tbody>\n",
       "    <tr>\n",
       "      <th>804972</th>\n",
       "      <td>1936</td>\n",
       "      <td>0</td>\n",
       "      <td>0_1</td>\n",
       "      <td>12</td>\n",
       "      <td>Light Quarantine</td>\n",
       "      <td>17.0</td>\n",
       "      <td>NaN</td>\n",
       "      <td>NaN</td>\n",
       "      <td>37.0</td>\n",
       "      <td>170031.0</td>\n",
       "      <td>0</td>\n",
       "    </tr>\n",
       "  </tbody>\n",
       "</table>\n",
       "</div>"
      ],
      "text/plain": [
       "          id  state simulation  week            action  home  school  work  \\\n",
       "804972  1936      0        0_1    12  Light Quarantine  17.0     NaN   NaN   \n",
       "\n",
       "        idade   home_id  target  \n",
       "804972   37.0  170031.0       0  "
      ]
     },
     "execution_count": 67,
     "metadata": {},
     "output_type": "execute_result"
    }
   ],
   "source": [
    "model_dataset.query(\"id == 1936 and week == 12 and simulation == '0_1'\")"
   ]
  },
  {
   "cell_type": "code",
   "execution_count": 46,
   "metadata": {},
   "outputs": [],
   "source": [
    "before_shape = model_dataset.shape[0]"
   ]
  },
  {
   "cell_type": "code",
   "execution_count": 69,
   "metadata": {},
   "outputs": [],
   "source": [
    "model_dataset = pd.merge(\n",
    "    model_dataset,\n",
    "    resulting_ratios['home'].drop(\"actual_week\", axis=1),\n",
    "    on=['week', 'simulation', 'home'],\n",
    "    how='left'\n",
    ").merge(\n",
    "    resulting_ratios['work'].drop(\"actual_week\", axis=1),\n",
    "    on=['week', 'simulation', 'work'],\n",
    "    how='left'\n",
    ").merge(\n",
    "    resulting_ratios['school'].drop(\"actual_week\", axis=1),\n",
    "    on=['week', 'simulation', 'school'],\n",
    "    how='left'\n",
    ").merge(\n",
    "    resulting_ratios['home_id'].drop(\"actual_week\", axis=1),\n",
    "    on=['week', 'simulation', 'home_id'],\n",
    "    how='left'\n",
    ")"
   ]
  },
  {
   "cell_type": "code",
   "execution_count": 48,
   "metadata": {},
   "outputs": [],
   "source": [
    "assert model_dataset.shape[0] == before_shape"
   ]
  },
  {
   "cell_type": "code",
   "execution_count": 70,
   "metadata": {},
   "outputs": [],
   "source": [
    "model_dataset['numerical_actions'] = model_dataset['action'].map({\n",
    "    'Unrestricted': 0,\n",
    "    'Social Distancing':1,\n",
    "    'Light Quarantine': 2,\n",
    "    'Hard Quarantine':3,\n",
    "    'Lockdown':4\n",
    "})"
   ]
  },
  {
   "cell_type": "markdown",
   "metadata": {},
   "source": [
    "Should we consider only target state 1 or any target state different than 0? i.e., the person can be hospitalized, should also count as a one."
   ]
  },
  {
   "cell_type": "code",
   "execution_count": 71,
   "metadata": {},
   "outputs": [],
   "source": [
    "model_dataset['binary_target'] = (model_dataset['target'] != 0).astype(int)"
   ]
  },
  {
   "cell_type": "code",
   "execution_count": 72,
   "metadata": {},
   "outputs": [],
   "source": [
    "model_dataset['train_test'] = list(map({True: 'train', False: 'test'}.get, (model_dataset['week'] < 11)))"
   ]
  },
  {
   "cell_type": "code",
   "execution_count": 73,
   "metadata": {},
   "outputs": [
    {
     "data": {
      "text/plain": [
       "0.01977414714175631"
      ]
     },
     "execution_count": 73,
     "metadata": {},
     "output_type": "execute_result"
    }
   ],
   "source": [
    "model_dataset.groupby(['train_test', 'week'])['binary_target'].mean().mean()"
   ]
  },
  {
   "cell_type": "code",
   "execution_count": 75,
   "metadata": {},
   "outputs": [],
   "source": [
    "model_dataset.reset_index(drop=True).to_parquet(\"model_dataset.parquet\")"
   ]
  },
  {
   "cell_type": "code",
   "execution_count": 76,
   "metadata": {},
   "outputs": [
    {
     "data": {
      "text/plain": [
       "(13821324, 34)"
      ]
     },
     "execution_count": 76,
     "metadata": {},
     "output_type": "execute_result"
    }
   ],
   "source": [
    "model_dataset.shape"
   ]
  },
  {
   "cell_type": "code",
   "execution_count": null,
   "metadata": {},
   "outputs": [],
   "source": []
  }
 ],
 "metadata": {
  "kernelspec": {
   "display_name": "Python [conda env:.conda-masters]",
   "language": "python",
   "name": "conda-env-.conda-masters-py"
  },
  "language_info": {
   "codemirror_mode": {
    "name": "ipython",
    "version": 3
   },
   "file_extension": ".py",
   "mimetype": "text/x-python",
   "name": "python",
   "nbconvert_exporter": "python",
   "pygments_lexer": "ipython3",
   "version": "3.9.10"
  }
 },
 "nbformat": 4,
 "nbformat_minor": 4
}
