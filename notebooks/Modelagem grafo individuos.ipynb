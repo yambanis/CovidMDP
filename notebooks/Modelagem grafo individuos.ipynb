{
 "cells": [
  {
   "cell_type": "code",
   "execution_count": 3,
   "metadata": {},
   "outputs": [],
   "source": [
    "import pyreadstat\n",
    "import pandas as pd\n",
    "import numpy as np\n",
    "import networkx as nx\n",
    "import warnings\n",
    "import itertools\n",
    "from tqdm import tqdm\n",
    "import seaborn as sns\n",
    "import numpy as np"
   ]
  },
  {
   "cell_type": "code",
   "execution_count": 5,
   "metadata": {},
   "outputs": [],
   "source": [
    "df, meta = pyreadstat.read_sav(\"../../data/raw/OD_2017.sav\")\n",
    "df.drop_duplicates(subset=['zona', 'zona_esc', 'zonatra1', 'id_pess'], inplace=True)"
   ]
  },
  {
   "cell_type": "code",
   "execution_count": 6,
   "metadata": {},
   "outputs": [],
   "source": [
    "df = df[df['muni_dom'] == 36].copy()\n",
    "max_zona = int(df.zona.max())"
   ]
  },
  {
   "cell_type": "code",
   "execution_count": 7,
   "metadata": {},
   "outputs": [
    {
     "data": {
      "text/plain": [
       "(57496, 126)"
      ]
     },
     "execution_count": 7,
     "metadata": {},
     "output_type": "execute_result"
    }
   ],
   "source": [
    "df.shape"
   ]
  },
  {
   "cell_type": "code",
   "execution_count": 8,
   "metadata": {},
   "outputs": [
    {
     "data": {
      "text/html": [
       "<div>\n",
       "<style scoped>\n",
       "    .dataframe tbody tr th:only-of-type {\n",
       "        vertical-align: middle;\n",
       "    }\n",
       "\n",
       "    .dataframe tbody tr th {\n",
       "        vertical-align: top;\n",
       "    }\n",
       "\n",
       "    .dataframe thead th {\n",
       "        text-align: right;\n",
       "    }\n",
       "</style>\n",
       "<table border=\"1\" class=\"dataframe\">\n",
       "  <thead>\n",
       "    <tr style=\"text-align: right;\">\n",
       "      <th></th>\n",
       "      <th>zona</th>\n",
       "      <th>muni_dom</th>\n",
       "      <th>co_dom_x</th>\n",
       "      <th>co_dom_y</th>\n",
       "      <th>id_dom</th>\n",
       "      <th>f_dom</th>\n",
       "      <th>fe_dom</th>\n",
       "      <th>dom</th>\n",
       "      <th>cd_entre</th>\n",
       "      <th>data</th>\n",
       "      <th>...</th>\n",
       "      <th>duracao</th>\n",
       "      <th>modoprin</th>\n",
       "      <th>tipvg</th>\n",
       "      <th>pag_viag</th>\n",
       "      <th>tp_esauto</th>\n",
       "      <th>vl_est</th>\n",
       "      <th>pe_bici</th>\n",
       "      <th>via_bici</th>\n",
       "      <th>tp_estbici</th>\n",
       "      <th>id_ordem</th>\n",
       "    </tr>\n",
       "  </thead>\n",
       "  <tbody>\n",
       "    <tr>\n",
       "      <th>0</th>\n",
       "      <td>1.0</td>\n",
       "      <td>36.0</td>\n",
       "      <td>333743.0</td>\n",
       "      <td>7394463.0</td>\n",
       "      <td>00010001</td>\n",
       "      <td>1.0</td>\n",
       "      <td>15.416667</td>\n",
       "      <td>1.0</td>\n",
       "      <td>1.0</td>\n",
       "      <td>06092017</td>\n",
       "      <td>...</td>\n",
       "      <td>10.0</td>\n",
       "      <td>16.0</td>\n",
       "      <td>3.0</td>\n",
       "      <td>NaN</td>\n",
       "      <td>NaN</td>\n",
       "      <td>NaN</td>\n",
       "      <td>1.0</td>\n",
       "      <td>NaN</td>\n",
       "      <td>NaN</td>\n",
       "      <td>1.0</td>\n",
       "    </tr>\n",
       "    <tr>\n",
       "      <th>2</th>\n",
       "      <td>1.0</td>\n",
       "      <td>36.0</td>\n",
       "      <td>333743.0</td>\n",
       "      <td>7394463.0</td>\n",
       "      <td>00010001</td>\n",
       "      <td>0.0</td>\n",
       "      <td>15.416667</td>\n",
       "      <td>1.0</td>\n",
       "      <td>1.0</td>\n",
       "      <td>06092017</td>\n",
       "      <td>...</td>\n",
       "      <td>50.0</td>\n",
       "      <td>1.0</td>\n",
       "      <td>1.0</td>\n",
       "      <td>2.0</td>\n",
       "      <td>NaN</td>\n",
       "      <td>NaN</td>\n",
       "      <td>NaN</td>\n",
       "      <td>NaN</td>\n",
       "      <td>NaN</td>\n",
       "      <td>3.0</td>\n",
       "    </tr>\n",
       "    <tr>\n",
       "      <th>5</th>\n",
       "      <td>1.0</td>\n",
       "      <td>36.0</td>\n",
       "      <td>333814.0</td>\n",
       "      <td>7394428.0</td>\n",
       "      <td>00010002</td>\n",
       "      <td>1.0</td>\n",
       "      <td>15.416667</td>\n",
       "      <td>2.0</td>\n",
       "      <td>1.0</td>\n",
       "      <td>06092017</td>\n",
       "      <td>...</td>\n",
       "      <td>10.0</td>\n",
       "      <td>16.0</td>\n",
       "      <td>3.0</td>\n",
       "      <td>NaN</td>\n",
       "      <td>NaN</td>\n",
       "      <td>NaN</td>\n",
       "      <td>1.0</td>\n",
       "      <td>NaN</td>\n",
       "      <td>NaN</td>\n",
       "      <td>6.0</td>\n",
       "    </tr>\n",
       "    <tr>\n",
       "      <th>9</th>\n",
       "      <td>1.0</td>\n",
       "      <td>36.0</td>\n",
       "      <td>333814.0</td>\n",
       "      <td>7394428.0</td>\n",
       "      <td>00010002</td>\n",
       "      <td>0.0</td>\n",
       "      <td>15.416667</td>\n",
       "      <td>2.0</td>\n",
       "      <td>1.0</td>\n",
       "      <td>06092017</td>\n",
       "      <td>...</td>\n",
       "      <td>10.0</td>\n",
       "      <td>16.0</td>\n",
       "      <td>3.0</td>\n",
       "      <td>NaN</td>\n",
       "      <td>NaN</td>\n",
       "      <td>NaN</td>\n",
       "      <td>1.0</td>\n",
       "      <td>NaN</td>\n",
       "      <td>NaN</td>\n",
       "      <td>10.0</td>\n",
       "    </tr>\n",
       "    <tr>\n",
       "      <th>13</th>\n",
       "      <td>1.0</td>\n",
       "      <td>36.0</td>\n",
       "      <td>333814.0</td>\n",
       "      <td>7394428.0</td>\n",
       "      <td>00010002</td>\n",
       "      <td>0.0</td>\n",
       "      <td>15.416667</td>\n",
       "      <td>2.0</td>\n",
       "      <td>1.0</td>\n",
       "      <td>06092017</td>\n",
       "      <td>...</td>\n",
       "      <td>20.0</td>\n",
       "      <td>1.0</td>\n",
       "      <td>1.0</td>\n",
       "      <td>2.0</td>\n",
       "      <td>NaN</td>\n",
       "      <td>NaN</td>\n",
       "      <td>NaN</td>\n",
       "      <td>NaN</td>\n",
       "      <td>NaN</td>\n",
       "      <td>14.0</td>\n",
       "    </tr>\n",
       "  </tbody>\n",
       "</table>\n",
       "<p>5 rows × 126 columns</p>\n",
       "</div>"
      ],
      "text/plain": [
       "    zona  muni_dom  co_dom_x   co_dom_y    id_dom  f_dom     fe_dom  dom  \\\n",
       "0    1.0      36.0  333743.0  7394463.0  00010001    1.0  15.416667  1.0   \n",
       "2    1.0      36.0  333743.0  7394463.0  00010001    0.0  15.416667  1.0   \n",
       "5    1.0      36.0  333814.0  7394428.0  00010002    1.0  15.416667  2.0   \n",
       "9    1.0      36.0  333814.0  7394428.0  00010002    0.0  15.416667  2.0   \n",
       "13   1.0      36.0  333814.0  7394428.0  00010002    0.0  15.416667  2.0   \n",
       "\n",
       "    cd_entre      data  ...  duracao  modoprin  tipvg  pag_viag  tp_esauto  \\\n",
       "0        1.0  06092017  ...     10.0      16.0    3.0       NaN        NaN   \n",
       "2        1.0  06092017  ...     50.0       1.0    1.0       2.0        NaN   \n",
       "5        1.0  06092017  ...     10.0      16.0    3.0       NaN        NaN   \n",
       "9        1.0  06092017  ...     10.0      16.0    3.0       NaN        NaN   \n",
       "13       1.0  06092017  ...     20.0       1.0    1.0       2.0        NaN   \n",
       "\n",
       "   vl_est  pe_bici  via_bici  tp_estbici  id_ordem  \n",
       "0     NaN      1.0       NaN         NaN       1.0  \n",
       "2     NaN      NaN       NaN         NaN       3.0  \n",
       "5     NaN      1.0       NaN         NaN       6.0  \n",
       "9     NaN      1.0       NaN         NaN      10.0  \n",
       "13    NaN      NaN       NaN         NaN      14.0  \n",
       "\n",
       "[5 rows x 126 columns]"
      ]
     },
     "execution_count": 8,
     "metadata": {},
     "output_type": "execute_result"
    }
   ],
   "source": [
    "df.head()"
   ]
  },
  {
   "cell_type": "code",
   "execution_count": 9,
   "metadata": {},
   "outputs": [],
   "source": [
    "\"\"\"\n",
    "1 - Agrícola\n",
    "2 - Construção Civil\n",
    "3 - Indústria\n",
    "4 -Comércio\n",
    "5 - Serviço de Transporte de Carga\n",
    "6 - Serviço de Transporte de Passageiros\n",
    "7 - Serviço Creditício-financeiro\n",
    "8 - Serviço Pessoal\n",
    "9 - Serviço de Alimentação\n",
    "10 - Serviço de Saúde\n",
    "11 - Serviço de Educação\n",
    "12 - Serviço Especializado\n",
    "13 - Serviço de Administração Pública\n",
    "14 - Outros Serviços\n",
    "\"\"\"\n",
    "\n",
    "job_sector = {\n",
    "    'essential' : [10],\n",
    "    'high_impact': [1, 2, 3, 5, 6, 9],\n",
    "    'regular': [4, 7, 8, 12, 13, 14, 11]\n",
    "}"
   ]
  },
  {
   "cell_type": "code",
   "execution_count": 10,
   "metadata": {},
   "outputs": [],
   "source": [
    "def job_criticity(row):\n",
    "    if row.setor1 in job_sector['essential'] or row.ocup1==10:\n",
    "        return 4\n",
    "    if row.setor1 in job_sector['high_impact']:\n",
    "        return 3\n",
    "    if row.setor1 in job_sector['regular']:\n",
    "        return 2\n",
    "    return np.nan"
   ]
  },
  {
   "cell_type": "code",
   "execution_count": 11,
   "metadata": {},
   "outputs": [],
   "source": [
    "df['job_level'] = df.apply(job_criticity, axis=1)"
   ]
  },
  {
   "cell_type": "code",
   "execution_count": 12,
   "metadata": {},
   "outputs": [
    {
     "data": {
      "text/plain": [
       "\"mask = df['job_level'] == -1\\ndf.loc[mask, 'co_esc_x'] = df.loc[mask, 'co_tr1_x']\\ndf.loc[mask, 'co_esc_y'] = df.loc[mask, 'co_tr1_y']\\ndf.loc[mask, 'zona_esc'] = df.loc[mask, 'zonatra1']\\ndf.loc[mask, 'zonatra1'] = np.nan\\ndf.loc[mask, 'co_tr1_x'] = np.nan\\ndf.loc[mask, 'co_tr1_y'] = np.nan\""
      ]
     },
     "execution_count": 12,
     "metadata": {},
     "output_type": "execute_result"
    }
   ],
   "source": [
    "\"\"\"mask = df['job_level'] == -1\n",
    "df.loc[mask, 'co_esc_x'] = df.loc[mask, 'co_tr1_x']\n",
    "df.loc[mask, 'co_esc_y'] = df.loc[mask, 'co_tr1_y']\n",
    "df.loc[mask, 'zona_esc'] = df.loc[mask, 'zonatra1']\n",
    "df.loc[mask, 'zonatra1'] = np.nan\n",
    "df.loc[mask, 'co_tr1_x'] = np.nan\n",
    "df.loc[mask, 'co_tr1_y'] = np.nan\"\"\""
   ]
  },
  {
   "cell_type": "code",
   "execution_count": 13,
   "metadata": {},
   "outputs": [],
   "source": [
    "trab_esc = df[['zona', 'zona_esc', 'zonatra1', 'id_pess', 'co_tr1_x', 'co_tr1_y', \n",
    "               'co_esc_x', 'co_esc_y', 'co_dom_x', 'co_dom_y', 'id_dom', 'idade',\n",
    "               'criteriobr', 'renda_fa', 'grau_ins', 'job_level', 'estuda']].copy()\n",
    "\n",
    "trab_esc.rename(columns={'zona':'home', 'co_dom_x' : 'home_x', 'co_dom_y' : 'home_y',\n",
    "                         'zona_esc':'school', 'co_esc_x' : 'school_x', \n",
    "                         'co_esc_y' : 'school_y', 'zonatra1':'work', 'estuda': 'studies',\n",
    "                         'co_tr1_x': 'work_x', 'co_tr1_y': 'work_y', 'id_pess': 'id',\n",
    "                         'id_dom': 'home_id', 'grau_ins': 'education'}, inplace=True)\n",
    "\n",
    "trab_esc = trab_esc[~(trab_esc['work'] > max_zona) & \n",
    "        ~(trab_esc['school'] > max_zona) & ~(trab_esc['home'] > max_zona)].reset_index(drop=True)"
   ]
  },
  {
   "cell_type": "code",
   "execution_count": 14,
   "metadata": {},
   "outputs": [
    {
     "name": "stdout",
     "output_type": "stream",
     "text": [
      "Tem plano de saude aqueles com renda familiar superior a:\n",
      "4000.0\n"
     ]
    }
   ],
   "source": [
    "# Beneficiarios do Sistema de Saude Privado\n",
    "\n",
    "#https://portal.cfm.org.br/images/PDF/leitosdeuticapitais2018.pdf\n",
    "quantile = 1 - 5730524/12038175\n",
    "print('Tem plano de saude aqueles com renda familiar superior a:')\n",
    "print(np.quantile(trab_esc['renda_fa'], quantile))"
   ]
  },
  {
   "cell_type": "code",
   "execution_count": 15,
   "metadata": {},
   "outputs": [],
   "source": [
    "def has_private_healthcare(family_income):\n",
    "    return family_income >= 4000\n",
    "\n",
    "trab_esc['private_healthcare'] = trab_esc['renda_fa'].apply(has_private_healthcare)"
   ]
  },
  {
   "cell_type": "code",
   "execution_count": 18,
   "metadata": {},
   "outputs": [],
   "source": [
    "trab_esc.to_feather(\"../../data/interim/work_school_home_sp_esc.feather\")"
   ]
  }
 ],
 "metadata": {
  "kernelspec": {
   "display_name": "Python 3",
   "language": "python",
   "name": "python3"
  },
  "language_info": {
   "codemirror_mode": {
    "name": "ipython",
    "version": 3
   },
   "file_extension": ".py",
   "mimetype": "text/x-python",
   "name": "python",
   "nbconvert_exporter": "python",
   "pygments_lexer": "ipython3",
   "version": "3.7.7"
  }
 },
 "nbformat": 4,
 "nbformat_minor": 4
}
