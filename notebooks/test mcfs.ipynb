{
 "cells": [
  {
   "cell_type": "code",
   "execution_count": 1,
   "metadata": {},
   "outputs": [],
   "source": [
    "import os\n",
    "os.chdir('../src/models')"
   ]
  },
  {
   "cell_type": "code",
   "execution_count": 2,
   "metadata": {},
   "outputs": [],
   "source": [
    "from MCFS_main import run_full_mcts"
   ]
  },
  {
   "cell_type": "code",
   "execution_count": 3,
   "metadata": {},
   "outputs": [],
   "source": [
    "prhome = 0.06\n",
    "p_r = {\n",
    "    'home'    :  prhome,\n",
    "    'neighbor':  .1*prhome,\n",
    "    'work'    :  .1*prhome,\n",
    "    'school'  :  .15*prhome,\n",
    "}\n",
    "\n",
    "g_pickle = '../../data/processed/SP_multiGraph_Job_Edu_Level.gpickle'"
   ]
  },
  {
   "cell_type": "code",
   "execution_count": null,
   "metadata": {},
   "outputs": [
    {
     "name": "stderr",
     "output_type": "stream",
     "text": [
      "\r",
      "  0%|                                                                                          | 0/364 [00:00<?, ?it/s]"
     ]
    },
    {
     "name": "stdout",
     "output_type": "stream",
     "text": [
      "Entering parallelized rewards\n"
     ]
    }
   ],
   "source": [
    "horizon = 3\n",
    "sims = 48\n",
    "days = 364\n",
    "bf = False\n",
    "\n",
    "for _ in range(1):\n",
    "    data, actions, tree = run_full_mcts(\n",
    "                                        gpickle_path=g_pickle,\n",
    "                                        p_r=p_r, \n",
    "                                        horizon=horizon,\n",
    "                                        sims_per_leaf=sims,\n",
    "                                        days=days,\n",
    "                                        step_size=7,\n",
    "                                        n_jobs=-1,\n",
    "                                        bruteForce=bf\n",
    "                                        )\n",
    "\n",
    "    date = datetime.datetime.now()\n",
    "    date_str = f'{date.month}_{date.day}_{date.hour}_{date.minute}'\n",
    "\n",
    "    data = pd.DataFrame([pd.Series(d).value_counts() for d in data])\n",
    "    data.fillna(0, inplace=True)"
   ]
  }
 ],
 "metadata": {
  "kernelspec": {
   "display_name": "Python 3",
   "language": "python",
   "name": "python3"
  },
  "language_info": {
   "codemirror_mode": {
    "name": "ipython",
    "version": 3
   },
   "file_extension": ".py",
   "mimetype": "text/x-python",
   "name": "python",
   "nbconvert_exporter": "python",
   "pygments_lexer": "ipython3",
   "version": "3.7.7"
  }
 },
 "nbformat": 4,
 "nbformat_minor": 4
}
