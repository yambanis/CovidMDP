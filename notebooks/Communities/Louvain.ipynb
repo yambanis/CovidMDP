{
 "cells": [
  {
   "cell_type": "code",
   "execution_count": 15,
   "id": "informal-texas",
   "metadata": {},
   "outputs": [],
   "source": [
    "import networkx as nx\n",
    "import pandas as pd"
   ]
  },
  {
   "cell_type": "code",
   "execution_count": 80,
   "id": "cutting-copper",
   "metadata": {},
   "outputs": [],
   "source": [
    "peop_info=pd.read_feather(\"../../data/interim/work_school_home_sp_esc.feather\")"
   ]
  },
  {
   "cell_type": "code",
   "execution_count": 2,
   "id": "robust-founder",
   "metadata": {},
   "outputs": [],
   "source": [
    "g_pickle = '../../data/processed/SP_multiGraph_Job_Edu_Level.gpickle'"
   ]
  },
  {
   "cell_type": "code",
   "execution_count": 4,
   "id": "ideal-secondary",
   "metadata": {},
   "outputs": [],
   "source": [
    "G = nx.read_gpickle(g_pickle)"
   ]
  },
  {
   "cell_type": "code",
   "execution_count": 7,
   "id": "developed-singing",
   "metadata": {},
   "outputs": [],
   "source": [
    "prhome = 0.06\n",
    "p_r = {\n",
    "    'home'    :  prhome,\n",
    "    'neighbor':  .1*prhome,\n",
    "    'work'    :  .1*prhome,\n",
    "    'school'  :  .15*prhome,\n",
    "}"
   ]
  },
  {
   "cell_type": "code",
   "execution_count": 13,
   "id": "injured-rally",
   "metadata": {},
   "outputs": [],
   "source": [
    "nx.write_edgelist(G, 'SP_multigraph.edgelist',\n",
    "                  data=['edge_type'], delimiter=';')"
   ]
  },
  {
   "cell_type": "code",
   "execution_count": 23,
   "id": "anticipated-venture",
   "metadata": {},
   "outputs": [],
   "source": [
    "edges = pd.read_csv('SP_multigraph.edgelist', sep=';', header=None,\n",
    "                   names=['source', 'target', 'edge_type'])\n",
    "edges['weight'] = edges.edge_type.map(p_r)"
   ]
  },
  {
   "cell_type": "code",
   "execution_count": 25,
   "id": "sitting-miami",
   "metadata": {},
   "outputs": [],
   "source": [
    "Gg = nx.from_pandas_edgelist(edges,\n",
    "                             edge_attr=['weight'])"
   ]
  },
  {
   "cell_type": "code",
   "execution_count": 27,
   "id": "contrary-drove",
   "metadata": {},
   "outputs": [],
   "source": [
    "import community as community_louvain"
   ]
  },
  {
   "cell_type": "code",
   "execution_count": 28,
   "id": "noticed-thesaurus",
   "metadata": {},
   "outputs": [],
   "source": [
    "partition = community_louvain.best_partition(Gg, weight='weight')"
   ]
  },
  {
   "cell_type": "code",
   "execution_count": 34,
   "id": "acknowledged-saturn",
   "metadata": {},
   "outputs": [],
   "source": [
    "import seaborn as sns"
   ]
  },
  {
   "cell_type": "code",
   "execution_count": 43,
   "id": "african-sharing",
   "metadata": {},
   "outputs": [
    {
     "name": "stdout",
     "output_type": "stream",
     "text": [
      "131\n"
     ]
    },
    {
     "data": {
      "image/png": "[encoded data removed]",
      "text/plain": [
       "<Figure size 360x360 with 1 Axes>"
      ]
     },
     "metadata": {
      "needs_background": "light"
     },
     "output_type": "display_data"
    }
   ],
   "source": [
    "print(pd.Series(partition.values()).unique().size)\n",
    "sns.displot(pd.Series(partition.values()).value_counts().values);"
   ]
  },
  {
   "cell_type": "code",
   "execution_count": 44,
   "id": "wooden-portal",
   "metadata": {},
   "outputs": [
    {
     "data": {
      "text/plain": [
       "35     2263\n",
       "39     2206\n",
       "36     2182\n",
       "2      1905\n",
       "58     1895\n",
       "       ... \n",
       "18        2\n",
       "114       2\n",
       "84        2\n",
       "116       2\n",
       "127       2\n",
       "Length: 131, dtype: int64"
      ]
     },
     "execution_count": 44,
     "metadata": {},
     "output_type": "execute_result"
    }
   ],
   "source": [
    "pd.Series(partition.values()).value_counts()"
   ]
  },
  {
   "cell_type": "code",
   "execution_count": 47,
   "id": "controlling-decrease",
   "metadata": {},
   "outputs": [],
   "source": [
    "prhome = 0.06\n",
    "p_r_nohomes = {\n",
    "    'home'    :  0,\n",
    "    'neighbor':  .1*prhome,\n",
    "    'work'    :  .1*prhome,\n",
    "    'school'  :  .15*prhome,\n",
    "}"
   ]
  },
  {
   "cell_type": "code",
   "execution_count": 48,
   "id": "considered-japan",
   "metadata": {},
   "outputs": [],
   "source": [
    "edges['weightnoHome'] = edges.edge_type.map(p_r_nohomes)"
   ]
  },
  {
   "cell_type": "code",
   "execution_count": 49,
   "id": "rough-screen",
   "metadata": {},
   "outputs": [],
   "source": [
    "Gg = nx.from_pandas_edgelist(edges,\n",
    "                             edge_attr=['weightnoHome'])"
   ]
  },
  {
   "cell_type": "code",
   "execution_count": 50,
   "id": "religious-cooperative",
   "metadata": {},
   "outputs": [],
   "source": [
    "partition = community_louvain.best_partition(Gg,\n",
    "                                             weight='weightnoHome',\n",
    "                                            )"
   ]
  },
  {
   "cell_type": "code",
   "execution_count": 51,
   "id": "graphic-symphony",
   "metadata": {},
   "outputs": [
    {
     "name": "stdout",
     "output_type": "stream",
     "text": [
      "131\n"
     ]
    },
    {
     "data": {
      "image/png": "[encoded data removed]",
      "text/plain": [
       "<Figure size 360x360 with 1 Axes>"
      ]
     },
     "metadata": {
      "needs_background": "light"
     },
     "output_type": "display_data"
    }
   ],
   "source": [
    "print(pd.Series(partition.values()).unique().size)\n",
    "sns.displot(pd.Series(partition.values()).value_counts().values);"
   ]
  },
  {
   "cell_type": "code",
   "execution_count": 62,
   "id": "rising-catholic",
   "metadata": {},
   "outputs": [],
   "source": [
    "vCounts = pd.Series(partition.values()).value_counts()"
   ]
  },
  {
   "cell_type": "code",
   "execution_count": 70,
   "id": "undefined-separation",
   "metadata": {},
   "outputs": [
    {
     "data": {
      "text/plain": [
       "(99, 32)"
      ]
     },
     "execution_count": 70,
     "metadata": {},
     "output_type": "execute_result"
    }
   ],
   "source": [
    "(vCounts > 2).sum(), (vCounts == 2).sum()"
   ]
  },
  {
   "cell_type": "code",
   "execution_count": 71,
   "id": "sealed-denmark",
   "metadata": {},
   "outputs": [
    {
     "data": {
      "text/plain": [
       "59"
      ]
     },
     "execution_count": 71,
     "metadata": {},
     "output_type": "execute_result"
    }
   ],
   "source": [
    "(vCounts >= 100).sum()"
   ]
  },
  {
   "cell_type": "code",
   "execution_count": 73,
   "id": "vietnamese-rubber",
   "metadata": {},
   "outputs": [
    {
     "name": "stdout",
     "output_type": "stream",
     "text": [
      "[2908 2779 2273 2239 1996 1966 1803 1545 1537 1454 1426 1372 1367 1355\n",
      " 1205 1204 1195 1075 1043 1036 1000  971  956  941  910  837  815  813\n",
      "  756  741  708  703  690  686  685  664  639  629  616  491  489  478\n",
      "  470  462  452  451  444  440  438  435  431  414  338  328  269  259\n",
      "  237  230  156    9    9    7    7    6    6    6    6    5    5    5\n",
      "    5    5    5    5    5    4    4    4    4    4    3    3    3    3\n",
      "    3    3    3    3    3    3    3    3    3    3    3    3    3    3\n",
      "    3    2    2    2    2    2    2    2    2    2    2    2    2    2\n",
      "    2    2    2    2    2    2    2    2    2    2    2    2    2    2\n",
      "    2    2    2    2    2]\n"
     ]
    }
   ],
   "source": [
    "print(vCounts.values)"
   ]
  },
  {
   "cell_type": "code",
   "execution_count": 75,
   "id": "empirical-illinois",
   "metadata": {},
   "outputs": [
    {
     "data": {
      "text/plain": [
       "0.9957287292518968"
      ]
     },
     "execution_count": 75,
     "metadata": {},
     "output_type": "execute_result"
    }
   ],
   "source": [
    "vCounts[vCounts > 100].sum() / vCounts.sum()"
   ]
  },
  {
   "cell_type": "code",
   "execution_count": 76,
   "id": "bored-fifth",
   "metadata": {},
   "outputs": [],
   "source": [
    "mainCommunities = vCounts[vCounts > 100]"
   ]
  },
  {
   "cell_type": "code",
   "execution_count": 79,
   "id": "concrete-fiction",
   "metadata": {},
   "outputs": [
    {
     "data": {
      "text/plain": [
       "(59,)"
      ]
     },
     "execution_count": 79,
     "metadata": {},
     "output_type": "execute_result"
    }
   ],
   "source": [
    "mainCommunities.shape"
   ]
  },
  {
   "cell_type": "code",
   "execution_count": 82,
   "id": "disciplinary-plenty",
   "metadata": {},
   "outputs": [],
   "source": [
    "peop_info['id'] = peop_info.index +1"
   ]
  },
  {
   "cell_type": "code",
   "execution_count": 92,
   "id": "silver-oracle",
   "metadata": {},
   "outputs": [],
   "source": [
    "peop_info['community'] = peop_info['id'].map(partition)"
   ]
  },
  {
   "cell_type": "code",
   "execution_count": 104,
   "id": "viral-craps",
   "metadata": {},
   "outputs": [
    {
     "name": "stdout",
     "output_type": "stream",
     "text": [
      "84.0     50\n",
      "87.0     20\n",
      "93.0      2\n",
      "31.0      1\n",
      "130.0     1\n",
      "Name: school, dtype: int64\n",
      "88.0    75\n",
      "72.0    51\n",
      "32.0    38\n",
      "29.0    32\n",
      "37.0    28\n",
      "Name: work, dtype: int64\n",
      "88.0    89\n",
      "34.0    34\n",
      "87.0    14\n",
      "32.0    12\n",
      "69.0    12\n",
      "Name: home, dtype: int64\n"
     ]
    }
   ],
   "source": [
    "print(peop_info.groupby('community')['school'].apply(pd.Series.value_counts)[1].head(5)),\n",
    "print(peop_info.groupby('community')['work'].apply(pd.Series.value_counts)[1].head(5)),\n",
    "print(peop_info.groupby('community')['home'].apply(pd.Series.value_counts)[1].head(5))"
   ]
  },
  {
   "cell_type": "code",
   "execution_count": 108,
   "id": "necessary-headquarters",
   "metadata": {},
   "outputs": [],
   "source": [
    "nx.set_node_attributes(G, partition, 'community')"
   ]
  },
  {
   "cell_type": "code",
   "execution_count": 109,
   "id": "magnetic-reading",
   "metadata": {},
   "outputs": [],
   "source": [
    "nx.write_gpickle(G, '../../data/processed/SP_multiGraph_communities.gpickle')"
   ]
  },
  {
   "cell_type": "code",
   "execution_count": 110,
   "id": "diagnostic-dressing",
   "metadata": {},
   "outputs": [
    {
     "data": {
      "text/plain": [
       "[16417, 17535, 20877, 41294, 54272]"
      ]
     },
     "execution_count": 110,
     "metadata": {},
     "output_type": "execute_result"
    }
   ],
   "source": [
    "[n for n in G.nodes if n not in partition.keys()]"
   ]
  },
  {
   "cell_type": "code",
   "execution_count": 115,
   "id": "charged-adoption",
   "metadata": {},
   "outputs": [
    {
     "data": {
      "text/plain": [
       "131"
      ]
     },
     "execution_count": 115,
     "metadata": {},
     "output_type": "execute_result"
    }
   ],
   "source": [
    "pd.Series(partition.values()).nunique()"
   ]
  },
  {
   "cell_type": "code",
   "execution_count": 113,
   "id": "southern-testing",
   "metadata": {},
   "outputs": [
    {
     "ename": "KeyError",
     "evalue": "'community'",
     "output_type": "error",
     "traceback": [
      "\u001b[0;31m---------------------------------------------------------------------------\u001b[0m",
      "\u001b[0;31mKeyError\u001b[0m                                  Traceback (most recent call last)",
      "\u001b[0;32m<ipython-input-113-5f3ce35240fb>\u001b[0m in \u001b[0;36m<module>\u001b[0;34m\u001b[0m\n\u001b[0;32m----> 1\u001b[0;31m \u001b[0mG\u001b[0m\u001b[0;34m.\u001b[0m\u001b[0mnodes\u001b[0m\u001b[0;34m[\u001b[0m\u001b[0;36m16417\u001b[0m\u001b[0;34m]\u001b[0m\u001b[0;34m[\u001b[0m\u001b[0;34m'community'\u001b[0m\u001b[0;34m]\u001b[0m\u001b[0;34m\u001b[0m\u001b[0;34m\u001b[0m\u001b[0m\n\u001b[0m",
      "\u001b[0;31mKeyError\u001b[0m: 'community'"
     ]
    }
   ],
   "source": [
    "G.nodes[16417]['community']"
   ]
  }
 ],
 "metadata": {
  "kernelspec": {
   "display_name": "Python 3",
   "language": "python",
   "name": "python3"
  },
  "language_info": {
   "codemirror_mode": {
    "name": "ipython",
    "version": 3
   },
   "file_extension": ".py",
   "mimetype": "text/x-python",
   "name": "python",
   "nbconvert_exporter": "python",
   "pygments_lexer": "ipython3",
   "version": "3.8.8"
  }
 },
 "nbformat": 4,
 "nbformat_minor": 5
}
