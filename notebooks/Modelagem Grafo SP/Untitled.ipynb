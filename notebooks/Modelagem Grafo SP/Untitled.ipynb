{
 "cells": [
  {
   "cell_type": "code",
   "execution_count": 1,
   "metadata": {},
   "outputs": [],
   "source": [
    "import numpy as np"
   ]
  },
  {
   "cell_type": "code",
   "execution_count": 3,
   "metadata": {},
   "outputs": [],
   "source": [
    "from scipy.special import logit"
   ]
  },
  {
   "cell_type": "code",
   "execution_count": null,
   "metadata": {},
   "outputs": [],
   "source": [
    "# Se a distancia estiver acima de threshold, x é "
   ]
  },
  {
   "cell_type": "code",
   "execution_count": 21,
   "metadata": {},
   "outputs": [],
   "source": [
    "def logistic_dist(d, limit = 100):\n",
    "    arr = (limit - d)/limit\n",
    "    return  1/(1 + np.exp(arr))"
   ]
  },
  {
   "cell_type": "code",
   "execution_count": 51,
   "metadata": {},
   "outputs": [],
   "source": [
    "d = np.random.random(size=100) * 500"
   ]
  },
  {
   "cell_type": "code",
   "execution_count": 52,
   "metadata": {},
   "outputs": [],
   "source": [
    "from scipy.special import expit"
   ]
  },
  {
   "cell_type": "code",
   "execution_count": 55,
   "metadata": {},
   "outputs": [
    {
     "data": {
      "text/plain": [
       "[<matplotlib.lines.Line2D at 0x22e919ca248>]"
      ]
     },
     "execution_count": 55,
     "metadata": {},
     "output_type": "execute_result"
    },
    {
     "data": {
      "image/png": "[encoded data removed]",
      "text/plain": [
       "<Figure size 432x288 with 1 Axes>"
      ]
     },
     "metadata": {
      "needs_background": "light"
     },
     "output_type": "display_data"
    }
   ],
   "source": [
    "import matplotlib.pyplot as plt\n",
    "plt.plot(np.linspace(-4, 4, 100), sorted(expit((250 - d)/250)))"
   ]
  },
  {
   "cell_type": "markdown",
   "metadata": {},
   "source": [
    "# (100-d)/d"
   ]
  },
  {
   "cell_type": "code",
   "execution_count": 22,
   "metadata": {},
   "outputs": [
    {
     "data": {
      "text/plain": [
       "array([0.9630723 , 0.6130879 , 0.90682601, 0.97211537, 0.87746398,\n",
       "       0.57683638, 0.87994371, 0.92621621, 0.42362821, 0.80700962,\n",
       "       0.39041778, 0.97691187, 0.37192442, 0.69512294, 0.80254524,\n",
       "       0.70480981, 0.9343387 , 0.29497318, 0.81473963, 0.9795126 ,\n",
       "       0.96412918, 0.57749766, 0.39446396, 0.77766946, 0.96649422,\n",
       "       0.30567613, 0.96530761, 0.91369948, 0.49691059, 0.95964585,\n",
       "       0.97357851, 0.93916205, 0.93389926, 0.74638909, 0.87057049,\n",
       "       0.84065247, 0.95862762, 0.51023283, 0.39208696, 0.92708428,\n",
       "       0.6954671 , 0.85556297, 0.95410228, 0.92164364, 0.81459631,\n",
       "       0.96745148, 0.8189651 , 0.74274945, 0.85855737, 0.92403711,\n",
       "       0.83440691, 0.31841117, 0.62166054, 0.3321932 , 0.68172148,\n",
       "       0.93348147, 0.45418415, 0.62080088, 0.86267017, 0.92665994,\n",
       "       0.73273644, 0.67986563, 0.97832055, 0.93161481, 0.74163069,\n",
       "       0.96748936, 0.8086376 , 0.94270509, 0.74508156, 0.71473027,\n",
       "       0.44205749, 0.84444507, 0.5728412 , 0.41335996, 0.8780651 ,\n",
       "       0.45379379, 0.91350317, 0.53621545, 0.96045036, 0.97520733,\n",
       "       0.70087381, 0.97853789, 0.86276568, 0.89256825, 0.8921639 ,\n",
       "       0.85695169, 0.48165457, 0.92264061, 0.92306662, 0.82184362,\n",
       "       0.35374087, 0.79463039, 0.98178534, 0.27862534, 0.95516812,\n",
       "       0.67594929, 0.94022623, 0.56525282, 0.94218639, 0.94813946])"
      ]
     },
     "execution_count": 22,
     "metadata": {},
     "output_type": "execute_result"
    }
   ],
   "source": [
    "logistic_dist(d)"
   ]
  },
  {
   "cell_type": "code",
   "execution_count": 20,
   "metadata": {},
   "outputs": [
    {
     "data": {
      "text/plain": [
       "array([-3.26116658, -0.4603108 , -2.27548198, -3.55139895, -1.96863086,\n",
       "       -0.30979973, -1.99189724, -2.52996862,  0.30789673, -1.43069526,\n",
       "        0.44555645, -3.74507798,  0.52396983, -0.82418009, -1.40227875,\n",
       "       -0.87030815, -2.65532934,  0.8713514 , -1.48110634, -3.86724493,\n",
       "       -3.29130126, -0.31250939,  0.42858632, -1.25213641, -3.36195749,\n",
       "        0.82041237, -3.32592643, -2.35966616,  0.01235779, -3.16887007,\n",
       "       -3.60680081, -2.73677431, -2.64818865, -1.07944578, -1.90601235,\n",
       "       -1.66309079, -3.1428893 , -0.04093703,  0.4385482 , -2.54274021,\n",
       "       -0.82580458, -1.77891609, -3.03435552, -2.46489147, -1.4801571 ,\n",
       "       -3.39193337, -1.50935161, -1.06030824, -1.80335932, -2.49850725,\n",
       "       -1.61718764,  0.76108306, -0.49660237,  0.6982822 , -0.76169434,\n",
       "       -2.64144048,  0.18377893, -0.49294896, -1.83764689, -2.53647972,\n",
       "       -1.00855081, -0.75315438, -3.80947243, -2.6117631 , -1.05446143,\n",
       "       -3.39313686, -1.44118186, -2.80054174, -1.07255006, -0.91847009,\n",
       "        0.23281598, -1.69168078, -0.29345271,  0.35009264, -1.97423343,\n",
       "        0.18535367, -2.35717912, -0.14511594, -3.18984564, -3.67210213,\n",
       "       -0.85146235, -3.81977051, -1.83845333, -2.11724721, -2.11303736,\n",
       "       -1.79019917,  0.07341469, -2.47877786, -2.48476158, -1.52888845,\n",
       "        0.60263593, -1.35306577, -3.98714592,  0.95129062, -3.05896776,\n",
       "       -0.73521806, -2.75555363, -0.26250844, -2.79097899, -2.90594347])"
      ]
     },
     "execution_count": 20,
     "metadata": {},
     "output_type": "execute_result"
    }
   ],
   "source": [
    "normalize(d)"
   ]
  },
  {
   "cell_type": "code",
   "execution_count": 2,
   "metadata": {},
   "outputs": [
    {
     "ename": "AttributeError",
     "evalue": "module 'numpy' has no attribute 'logit'",
     "output_type": "error",
     "traceback": [
      "\u001b[1;31m---------------------------------------------------------------------------\u001b[0m",
      "\u001b[1;31mAttributeError\u001b[0m                            Traceback (most recent call last)",
      "\u001b[1;32m<ipython-input-2-90675cc355aa>\u001b[0m in \u001b[0;36m<module>\u001b[1;34m\u001b[0m\n\u001b[1;32m----> 1\u001b[1;33m \u001b[0mnp\u001b[0m\u001b[1;33m.\u001b[0m\u001b[0mlogit\u001b[0m\u001b[1;33m(\u001b[0m\u001b[1;33m)\u001b[0m\u001b[1;33m\u001b[0m\u001b[1;33m\u001b[0m\u001b[0m\n\u001b[0m",
      "\u001b[1;32mc:\\users\\paola\\anaconda3\\envs\\cmdp\\lib\\site-packages\\numpy\\__init__.py\u001b[0m in \u001b[0;36m__getattr__\u001b[1;34m(attr)\u001b[0m\n\u001b[0;32m    218\u001b[0m             \u001b[1;32melse\u001b[0m\u001b[1;33m:\u001b[0m\u001b[1;33m\u001b[0m\u001b[1;33m\u001b[0m\u001b[0m\n\u001b[0;32m    219\u001b[0m                 raise AttributeError(\"module {!r} has no attribute \"\n\u001b[1;32m--> 220\u001b[1;33m                                      \"{!r}\".format(__name__, attr))\n\u001b[0m\u001b[0;32m    221\u001b[0m \u001b[1;33m\u001b[0m\u001b[0m\n\u001b[0;32m    222\u001b[0m         \u001b[1;32mdef\u001b[0m \u001b[0m__dir__\u001b[0m\u001b[1;33m(\u001b[0m\u001b[1;33m)\u001b[0m\u001b[1;33m:\u001b[0m\u001b[1;33m\u001b[0m\u001b[1;33m\u001b[0m\u001b[0m\n",
      "\u001b[1;31mAttributeError\u001b[0m: module 'numpy' has no attribute 'logit'"
     ]
    }
   ],
   "source": [
    "logit()"
   ]
  },
  {
   "cell_type": "code",
   "execution_count": null,
   "metadata": {},
   "outputs": [],
   "source": []
  }
 ],
 "metadata": {
  "kernelspec": {
   "display_name": "Python 3",
   "language": "python",
   "name": "python3"
  },
  "language_info": {
   "codemirror_mode": {
    "name": "ipython",
    "version": 3
   },
   "file_extension": ".py",
   "mimetype": "text/x-python",
   "name": "python",
   "nbconvert_exporter": "python",
   "pygments_lexer": "ipython3",
   "version": "3.7.7"
  }
 },
 "nbformat": 4,
 "nbformat_minor": 4
}
