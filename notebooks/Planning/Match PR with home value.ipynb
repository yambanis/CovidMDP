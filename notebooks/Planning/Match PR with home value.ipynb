{
 "cells": [
  {
   "cell_type": "code",
   "execution_count": 1,
   "metadata": {},
   "outputs": [],
   "source": [
    "#import os, sys\n",
    "#sys.path.insert(0, os.path.abspath('../src/models'))\n",
    "import os\n",
    "os.chdir('../../src/models')"
   ]
  },
  {
   "cell_type": "code",
   "execution_count": 2,
   "metadata": {},
   "outputs": [],
   "source": [
    "import plotly.express as px\n",
    "import plotly.graph_objects as go\n",
    "import datetime\n",
    "\n",
    "set3 = px.colors.qualitative.Set3\n",
    "\n",
    "color_map_set3 = {\n",
    "    'Lockdown':          set3[3],\n",
    "    'Hard Quarantine':    set3[11],\\\n",
    "    'Light Quarantine':   set3[1],\n",
    "    'Social Distancing':  'rgb(204, 245, 175)',\n",
    "    'Unrestricted':        set3[6]     \n",
    "}\n",
    "\n",
    "def make_SIR_graph(data):\n",
    "    d_counts = pd.DataFrame([pd.Series(d).value_counts() for d in data])\n",
    "    d_counts.fillna(0, inplace=True)\n",
    "    \n",
    "    fig = go.Figure()\n",
    "    x = list(range(len(d_counts[0])))\n",
    "\n",
    "    fig.add_trace(go.Scatter(x=x, y=d_counts[-1]/len(G.nodes()), name='removed',line_color='green'))\n",
    "    fig.add_trace(go.Scatter(x=x, y=d_counts[0]/len(G.nodes()), name='susceptible', line_color='blue'))\n",
    "    fig.add_trace(go.Scatter(x=x, y=d_counts[1]/len(G.nodes()), name='exposed',line_color ='orange'))\n",
    "    fig.add_trace(go.Scatter(x=x, y=d_counts[2]/len(G.nodes()), name='infected', line_color = 'red'))\n",
    "    fig.add_trace(go.Scatter(x=x, y=d_counts[3]/len(G.nodes()), name='hospitalized', line_color = 'purple'))\n",
    "    fig.update_layout(hovermode='x')\n",
    "    fig.show()\n",
    "    \n",
    "    return d_counts\n",
    "\n",
    "def make_beds_graph(data, actions, step_size, title, color_map):\n",
    "    fig = go.Figure()\n",
    "   \n",
    "    x = pd.date_range(datetime.date(2020, 2, 24), periods=len(data)+2)\n",
    "\n",
    "    fig.add_trace(go.Scatter(x=x, y=data[3]/55e3, name='hospitalized', line_color = 'royalblue',\n",
    "                            line=dict(width=3)))\n",
    "    fig.add_trace(go.Scatter(x=x, y=data[1]/55e3, name='exposed', line_color = 'firebrick',\n",
    "                            line=dict(width=3)))\n",
    "    fig.add_trace(go.Scatter(x=x, y=len(data)*[0.0025], name='capacity', line_color = 'black',\n",
    "                            line=dict(dash='dash', width = 2)))\n",
    "    fig.update_layout(\n",
    "        shapes=[\n",
    "            dict(\n",
    "                type=\"rect\",\n",
    "                # x-reference is assigned to the x-values\n",
    "                xref=\"x\",\n",
    "                # y-reference is assigned to the plot paper [0,1]\n",
    "                yref=\"paper\",\n",
    "                x0=x[step_size*i],\n",
    "                y0=0,\n",
    "                x1=x[step_size*(i+1)-1],\n",
    "                y1=1,\n",
    "                fillcolor=a,\n",
    "                opacity=0.5,\n",
    "                layer=\"below\",\n",
    "                line_width=0,\n",
    "            ) for i,a in enumerate(actions)] \n",
    "    )\n",
    "\n",
    "    for k,v in color_map.items():\n",
    "        fig.add_trace(go.Bar(x=[None], y=[None], marker=dict(color=v), name = k))\n",
    "\n",
    "    fig.update_layout(coloraxis = {'colorscale':'deep'}, xaxis={'showgrid': False},\n",
    "                      yaxis = {'showgrid': False},\n",
    "                      showlegend=True, title = title, hovermode=\"x\")\n",
    "\n",
    "    fig.show()"
   ]
  },
  {
   "cell_type": "code",
   "execution_count": 3,
   "metadata": {},
   "outputs": [],
   "source": [
    "from policies import policies, costs"
   ]
  },
  {
   "cell_type": "code",
   "execution_count": 4,
   "metadata": {},
   "outputs": [],
   "source": [
    "from tqdm import tqdm\n",
    "import numpy as np\n",
    "import pandas as pd"
   ]
  },
  {
   "cell_type": "code",
   "execution_count": 5,
   "metadata": {},
   "outputs": [
    {
     "name": "stdout",
     "output_type": "stream",
     "text": [
      "Loading Graph...Done!\n"
     ]
    }
   ],
   "source": [
    "import numpy as np\n",
    "import networkx as nx\n",
    "from tqdm import tqdm\n",
    "from disease_states import states_dict\n",
    "from patient_evolution import susceptible_to_exposed, change_state\n",
    "from functools import partial\n",
    "from policies import policies\n",
    "from collections import defaultdict\n",
    "\n",
    "print('Loading Graph...',  end='')\n",
    "G = nx.read_gpickle('../../data/processed/SP_multiGraph_Job_Edu_Level.gpickle')\n",
    "print('Done!')\n",
    "\n",
    "prhome = 0.06\n",
    "p_r = {\n",
    "    'home'    :  prhome,\n",
    "    'neighbor':  .05*prhome,\n",
    "    'work'    :  .05*prhome,\n",
    "    'school'  :  .2*prhome,\n",
    "}\n",
    "\n",
    "def init_infection(pct=.0001):\n",
    "    \"\"\"\n",
    "    Given a Graph G, infects pct% of population and set the\n",
    "    remainder as susceptible. This is considered day 0.\n",
    "\n",
    "    Args:\n",
    "        pct (float): percentage of people initially infected.\n",
    "\n",
    "    Returns:\n",
    "        new_matrix (np.array): 2D Array  arrays of id, state, day of infection\n",
    "            and current state duration of population.\n",
    "    \"\"\"\n",
    "\n",
    "    global G\n",
    "\n",
    "    size = int(len(G.nodes) * pct)\n",
    "    infected = list(np.random.choice(G.nodes(), size=size, replace=False))\n",
    "    infected = [x for x in infected]\n",
    "\n",
    "    pop_matrix = np.array([[node, states_dict['susceptible'],\n",
    "                            -1, -1, data['age']]\n",
    "                          for node, data in G.nodes(data=True)])\n",
    "    \n",
    "    contacts_infected = defaultdict(int)\n",
    "\n",
    "    matrix_change = pop_matrix[np.isin(pop_matrix[:, 0], infected)]\n",
    "\n",
    "    matrix_keep = pop_matrix[~np.isin(pop_matrix[:, 0], infected)]\n",
    "\n",
    "    matrix_change = np.apply_along_axis(susceptible_to_exposed,\n",
    "                                        1, matrix_change, day=0)\n",
    "\n",
    "    new_matrix = np.concatenate((matrix_keep, matrix_change))\n",
    "    assert new_matrix.shape == pop_matrix.shape\n",
    "\n",
    "    return new_matrix, contacts_infected\n",
    "\n",
    "\n",
    "def expose_population(pop_matrix, exposed, day):\n",
    "    \"\"\"\n",
    "    Receives the population matrix, an array containing ids of newly\n",
    "    exposed individuals and the current simulation day\n",
    "\n",
    "    Args:\n",
    "        pop_matrix (np.array): 2D Array  arrays of id, state, day of infection\n",
    "            and current state duration of population.\n",
    "\n",
    "        exposed (list): list of newly exposed people id\n",
    "        day (int): current simulation day\n",
    "\n",
    "    Returns:\n",
    "        new_matrix (np.array): The population matrix with the\n",
    "        newly exposed people exposed.\n",
    "    Raises:\n",
    "        ValueError: If shape of starting matrix is different from final matrix\n",
    "    \"\"\"\n",
    "    matrix_change = pop_matrix[np.isin(pop_matrix[:, 0], exposed)]\n",
    "    matrix_keep = pop_matrix[~np.isin(pop_matrix[:, 0], exposed)]\n",
    "    matrix_change = np.apply_along_axis(susceptible_to_exposed,\n",
    "                                        1, matrix_change, day=day)\n",
    "\n",
    "    new_matrix = np.concatenate((matrix_keep, matrix_change))\n",
    "\n",
    "    if new_matrix.shape != pop_matrix.shape:\n",
    "        raise ValueError(\"Input and output matrix shapes are different\")\n",
    "    return new_matrix\n",
    "\n",
    "\n",
    "def lambda_leak_expose(pop_matrix, day, lambda_leak=.0001):\n",
    "    \"\"\"\n",
    "    Receives the population matrix, the current day and the leak factor.\n",
    "    Chooses at random a lambda_leak percentage of the population to expose\n",
    "\n",
    "    Args:\n",
    "        pop_matrix (np.array): 2D Array  arrays of id, state, day of infection\n",
    "            and current state duration of population.\n",
    "\n",
    "        lambda_leak (float): the percentage of the population to expose\n",
    "\n",
    "        day: the current day of simulation\n",
    "\n",
    "    Returns:\n",
    "        new_matrix (np.array): The population matrix with the\n",
    "                               newly exposed people.\n",
    "    Raises:\n",
    "        ValueError: If shape of starting matrix is different from final matrix\n",
    "    \"\"\"\n",
    "    size = int(pop_matrix.shape[0]*lambda_leak)\n",
    "\n",
    "    susceptible = pop_matrix[np.where(pop_matrix[:, 1]\n",
    "                                      == states_dict['susceptible'])][:, 0]\n",
    "\n",
    "    exposed = np.random.choice(susceptible, size=size, replace=False)\n",
    "\n",
    "    if len(exposed) == 0:\n",
    "        return pop_matrix\n",
    "\n",
    "    new_matrix = expose_population(pop_matrix, exposed, day)\n",
    "\n",
    "    if new_matrix.shape != pop_matrix.shape:\n",
    "        raise ValueError(\"Input and output matrix shapes are different\")\n",
    "\n",
    "    return new_matrix\n",
    "\n",
    "\n",
    "def spread_through_contacts(spreader, restrictions):\n",
    "    \"\"\"\n",
    "    An infected person, or a spredear, infects each of\n",
    "    its contacts with chance equal to\n",
    "    np.random.random() < p_r[r] * (1 - restrictions[r]).\n",
    "    Returns an array of all the people successfully infected by the spreader.\n",
    "\n",
    "    Args:\n",
    "        spreader (int): id of the infected person that is\n",
    "                        spreading the disease.\n",
    "\n",
    "        restrictions (dictionary): a dictionary with a value between\n",
    "                                   zero and one for each type of relation\n",
    "\n",
    "    Returns:\n",
    "        infected (list): List of all the people infected by spreader.\n",
    "    \"\"\"\n",
    "    global G, p_r\n",
    "    spreader = spreader\n",
    "    contacts = [[y, v['edge_type']] for x, y, v\n",
    "                in G.edges(spreader, data=True)]\n",
    "\n",
    "    infected = [y for r in restrictions.keys() for y, v in contacts\n",
    "                if v == r\n",
    "                and np.random.random() < p_r[r] * (1 - restrictions[r])]\n",
    "\n",
    "    return infected\n",
    "\n",
    "\n",
    "def update_population(pop_matrix):\n",
    "    \"\"\"\n",
    "    Receives the population matrix and progress the infections\n",
    "    for all people. The state duration is decremented\n",
    "    and for those whom it reaches zero, they transition to the next state\n",
    "\n",
    "    Args:\n",
    "        pop_matrix (np.array): 2D Array  arrays of id, state, day of infection\n",
    "            and current state duration of population.\n",
    "\n",
    "    Returns:\n",
    "        new_matrix (np.array): The population matrix with the updated status.\n",
    "    Raises:\n",
    "        ValueError: If shape of starting matrix is different from final matrix\n",
    "    \"\"\"\n",
    "    matrix_keep = pop_matrix[np.isin(pop_matrix[:, 1],\n",
    "                                     [states_dict['susceptible'],\n",
    "                                     states_dict['removed']]\n",
    "                                     )]\n",
    "    matrix_change = pop_matrix[~np.isin(pop_matrix[:, 1],\n",
    "                                        [states_dict['susceptible'],\n",
    "                                        states_dict['removed']]\n",
    "                                        )]\n",
    "\n",
    "    matrix_change[:, 3] = matrix_change[:, 3].astype(int) - 1\n",
    "    matrix_no_change = matrix_change[matrix_change[:, 3].astype(int) > 0]\n",
    "    matrix_change = matrix_change[matrix_change[:, 3].astype(int) == 0]\n",
    "\n",
    "    if matrix_change.shape[0] > 0:\n",
    "        matrix_change = np.apply_along_axis(change_state, 1, matrix_change)\n",
    "\n",
    "    new_matrix = np.concatenate((matrix_keep, matrix_change, matrix_no_change))\n",
    "\n",
    "    if new_matrix.shape != pop_matrix.shape:\n",
    "        raise ValueError(\"Input and output matrix shapes are different\")\n",
    "    return new_matrix\n",
    "\n",
    "\n",
    "\n",
    "def spread_infection(pop_matrix, restrictions, day, contacts_infected=None):\n",
    "    \"\"\"\n",
    "    Receives the population matrix, the restrictions dictionary and the\n",
    "    current day. The disease spreads throught the relations in the graph:\n",
    "    each infected person has a chance to infect a susceptible contact with\n",
    "    it has an edge in the graph, conditioned to the current restrictions,\n",
    "    the p_r of each relation.\n",
    "\n",
    "    Args:\n",
    "        pop_matrix (np.array): 2D Array  arrays of id, state, day of infection\n",
    "            and current state duration of population.\n",
    "\n",
    "        restrictions (dictionary): a dictionary with a value between\n",
    "        zero and one for each type of relation\n",
    "\n",
    "        day: the current day of simulation\n",
    "\n",
    "    Returns:\n",
    "        new_matrix (np.array): The population matrix with the newly\n",
    "                                exposed people.\n",
    "    Raises:\n",
    "        ValueError: If shape of starting matrix is different from final matrix\n",
    "    \"\"\"\n",
    "    global G\n",
    "    mask = np.where(pop_matrix[:, 1] == states_dict['infected'])\n",
    "    currently_infected = pop_matrix[mask][:, 0]\n",
    "\n",
    "    if currently_infected.shape[0] == 0:\n",
    "        return pop_matrix, contacts_infected\n",
    "        \n",
    "    exposed = []\n",
    "    for spreader in currently_infected:\n",
    "        exp = spread_through_contacts(spreader, restrictions)\n",
    "        exp = [e for e in exp if e not in exposed]\n",
    "        if contacts_infected is not None:\n",
    "            contacts_infected[spreader] += len(exp)\n",
    "        exposed.extend(exp)\n",
    "        \n",
    "    exposed = np.unique(exposed)\n",
    "\n",
    "    mask = np.isin(pop_matrix[:, 0], exposed)\n",
    "    susceptible = np.isin(pop_matrix[np.array(mask)][:, 1],\n",
    "                          states_dict['susceptible'])\n",
    "    exposed = pop_matrix[np.array(mask)][:, 0][susceptible]\n",
    "\n",
    "    if len(exposed) == 0:\n",
    "        return pop_matrix, contacts_infected\n",
    "\n",
    "    new_matrix = expose_population(pop_matrix, exposed, day)\n",
    "\n",
    "    if new_matrix.shape != pop_matrix.shape:\n",
    "        raise ValueError(\"Input and output matrix shapes are different\")\n",
    "\n",
    "\n",
    "    return new_matrix, contacts_infected\n",
    "\n",
    "\n",
    "def main(policy='Unrestricted', days=500):\n",
    "    \"\"\"\n",
    "    Receives the policy to be used during the simulation and for how many days\n",
    "    the simulation should run for. The policy should be a Key in the policies\n",
    "    dict inside policies.py.\n",
    "\n",
    "    One full step consists of:\n",
    "        Spreading the infection\n",
    "        Exposing through leakage\n",
    "        Updating the disease evolution of the population\n",
    "\n",
    "    Args:\n",
    "        pop_matrix (string): The name of a policy that exists is policies.policies.\n",
    "\n",
    "        days (int): For how long should the policy run.\n",
    "\n",
    "\n",
    "    Returns: data (np.array): An array of arrays containing the status of \n",
    "    the population at each time step.\n",
    "    \n",
    "    \"\"\"\n",
    "\n",
    "    pop_matrix, contacts_infected = init_infection(.0001)\n",
    "\n",
    "    data = []\n",
    "\n",
    "    # restrictions={'work':0, 'school': 0, 'home':0, 'neighbor':0}\n",
    "    restrictions = policies[policy]\n",
    "    print(restrictions)\n",
    "\n",
    "    for day in tqdm(range(1, days)):\n",
    "        # if less than 90% already recovered, break simulation\n",
    "        if (pop_matrix[np.where(pop_matrix[:, 1] == -1)].shape[0] > pop_matrix.shape[0]*.9):\n",
    "            break\n",
    "\n",
    "        pop_matrix, contacts_infected = spread_infection(pop_matrix, restrictions, day, contacts_infected)\n",
    "        pop_matrix = lambda_leak_expose(pop_matrix, day)\n",
    "        pop_matrix = update_population(pop_matrix)\n",
    "\n",
    "        data.append(np.array(sorted(pop_matrix, key=lambda x: x[0]))[:, 1])\n",
    "\n",
    "    return data, contacts_infected, pop_matrix"
   ]
  },
  {
   "cell_type": "code",
   "execution_count": null,
   "metadata": {},
   "outputs": [],
   "source": [
    "prhome = 0.06\n",
    "\n",
    "p_r = {\n",
    "    'home'    :  prhome,\n",
    "    'neighbor':  .1*prhome,\n",
    "    'work'    :  .1*prhome,\n",
    "    'school'  :  .15*prhome,\n",
    "}\n",
    "\n",
    "def one_full_sim():\n",
    "    pop_matrix, contacts_infected = init_infection(.0001)\n",
    "\n",
    "    data = []\n",
    "    days = 300\n",
    "\n",
    "    #restrictions = policies[policy]\n",
    "\n",
    "    for day in range(1, days):\n",
    "        # if less than 90% already recovered, break simulation\n",
    "#        if (pop_matrix[np.where(pop_matrix[:, 1] == 0)].shape[0]\n",
    "#                < pop_matrix.shape[0]*.97):\n",
    "#            break\n",
    "        if (pop_matrix[np.where(pop_matrix[:, 1] == -1)].shape[0] > pop_matrix.shape[0]*.9):\n",
    "            break\n",
    "\n",
    "        restrictions = policies['Unrestricted']\n",
    "        #if day <= 15:\n",
    "        #    restrictions = policies['Unrestricted']\n",
    "        #else : \n",
    "        #    restrictions = policies['Light Quarantine']\n",
    "        #else: \n",
    "        #    restrictions = policies['Social Distancing']\n",
    "\n",
    "        pop_matrix, contacts_infected = spread_infection(pop_matrix, restrictions, day, contacts_infected)\n",
    "        pop_matrix = lambda_leak_expose(pop_matrix, day)\n",
    "        pop_matrix = update_population(pop_matrix)\n",
    "\n",
    "        data.append(np.array(sorted(pop_matrix, key=lambda x: x[0]))[:, 1])\n",
    "        \n",
    "    return pop_matrix, contacts_infected, data"
   ]
  },
  {
   "cell_type": "code",
   "execution_count": 15,
   "metadata": {
    "scrolled": false
   },
   "outputs": [
    {
     "name": "stderr",
     "output_type": "stream",
     "text": [
      "100%|████████████████████████████████████████████████████████████████████████████████| 100/100 [03:25<00:00,  2.05s/it]\n"
     ]
    }
   ],
   "source": [
    "data = [one_full_sim() for i in tqdm(range(100))]"
   ]
  },
  {
   "cell_type": "code",
   "execution_count": 17,
   "metadata": {},
   "outputs": [
    {
     "data": {
      "application/vnd.plotly.v1+json": {
       "config": {
        "plotlyServerURL": "https://plot.ly"
       },
       "data": [
        {
         "line": {
          "color": "red"
         },
         "mode": "lines",
         "opacity": 0.3,
         "showlegend": false,
         "type": "scatter",
         "x": [
          0,
          1,
          2,
          3,
          4,
          5,
          6,
          7,
          8,
          9
         ],
         "y": [
          5,
          4.7272727272727275,
          3.090909090909091,
          2.4375,
          2.263157894736842,
          2.125,
          2.5789473684210527,
          3.5652173913043477,
          2.9444444444444446,
          1.68
         ]
        },
        {
         "line": {
          "color": "red"
         },
         "mode": "lines",
         "opacity": 0.3,
         "showlegend": false,
         "type": "scatter",
         "x": [
          0,
          1,
          2,
          3,
          4,
          5,
          6,
          7,
          8,
          9
         ],
         "y": [
          3.25,
          1.6,
          2.5714285714285716,
          2.125,
          2.9285714285714284,
          2.642857142857143,
          4.266666666666667,
          2,
          1.96,
          2.5652173913043477
         ]
        },
        {
         "line": {
          "color": "red"
         },
         "mode": "lines",
         "opacity": 0.3,
         "showlegend": false,
         "type": "scatter",
         "x": [
          0,
          1,
          2,
          3,
          4,
          5,
          6,
          7,
          8,
          9
         ],
         "y": [
          3.4444444444444446,
          7.230769230769231,
          4.785714285714286,
          4.391304347826087,
          4.380952380952381,
          4.35,
          4.25,
          3.8684210526315788,
          3.6785714285714284,
          3.235294117647059
         ]
        },
        {
         "line": {
          "color": "red"
         },
         "mode": "lines",
         "opacity": 0.3,
         "showlegend": false,
         "type": "scatter",
         "x": [
          0,
          1,
          2,
          3,
          4,
          5,
          6,
          7,
          8,
          9
         ],
         "y": [
          3,
          2.4545454545454546,
          2.4545454545454546,
          2.2857142857142856,
          2.9047619047619047,
          2.357142857142857,
          1.6666666666666667,
          1.9047619047619047,
          2.8095238095238093,
          1.7777777777777777
         ]
        },
        {
         "line": {
          "color": "red"
         },
         "mode": "lines",
         "opacity": 0.3,
         "showlegend": false,
         "type": "scatter",
         "x": [
          0,
          1,
          2,
          3,
          4,
          5,
          6,
          7,
          8,
          9
         ],
         "y": [
          3.2857142857142856,
          4.625,
          2.1333333333333333,
          1.6428571428571428,
          3.3333333333333335,
          2.090909090909091,
          2.357142857142857,
          1.9285714285714286,
          2.9545454545454546,
          2.0952380952380953
         ]
        },
        {
         "line": {
          "color": "red"
         },
         "mode": "lines",
         "opacity": 0.3,
         "showlegend": false,
         "type": "scatter",
         "x": [
          0,
          1,
          2,
          3,
          4,
          5,
          6,
          7,
          8,
          9
         ],
         "y": [
          4.5,
          4.111111111111111,
          3.2,
          3.823529411764706,
          3.466666666666667,
          2.076923076923077,
          2.05,
          3.6,
          1.9642857142857142,
          2.5714285714285716
         ]
        },
        {
         "line": {
          "color": "red"
         },
         "mode": "lines",
         "opacity": 0.3,
         "showlegend": false,
         "type": "scatter",
         "x": [
          0,
          1,
          2,
          3,
          4,
          5,
          6,
          7,
          8,
          9
         ],
         "y": [
          2,
          2.5555555555555554,
          4.166666666666667,
          1.8461538461538463,
          3.6666666666666665,
          2.1176470588235294,
          2.75,
          1.894736842105263,
          2.6153846153846154,
          1.5909090909090908
         ]
        },
        {
         "line": {
          "color": "red"
         },
         "mode": "lines",
         "opacity": 0.3,
         "showlegend": false,
         "type": "scatter",
         "x": [
          0,
          1,
          2,
          3,
          4,
          5,
          6,
          7,
          8,
          9
         ],
         "y": [
          5.2727272727272725,
          4.266666666666667,
          4,
          2.7083333333333335,
          3.909090909090909,
          4.8,
          3.225806451612903,
          2.8157894736842106,
          4.166666666666667,
          3
         ]
        },
        {
         "line": {
          "color": "red"
         },
         "mode": "lines",
         "opacity": 0.3,
         "showlegend": false,
         "type": "scatter",
         "x": [
          0,
          1,
          2,
          3,
          4,
          5,
          6,
          7,
          8,
          9
         ],
         "y": [
          3.1666666666666665,
          2.4545454545454546,
          4.166666666666667,
          2.3,
          2.5833333333333335,
          2.6842105263157894,
          2.95,
          2.588235294117647,
          3.1666666666666665,
          2.3157894736842106
         ]
        },
        {
         "line": {
          "color": "red"
         },
         "mode": "lines",
         "opacity": 0.3,
         "showlegend": false,
         "type": "scatter",
         "x": [
          0,
          1,
          2,
          3,
          4,
          5,
          6,
          7,
          8,
          9
         ],
         "y": [
          4,
          4.428571428571429,
          2,
          2.6666666666666665,
          2.8461538461538463,
          2.2222222222222223,
          3.15,
          2.25,
          2.066666666666667,
          2.45
         ]
        },
        {
         "line": {
          "color": "red"
         },
         "mode": "lines",
         "opacity": 0.3,
         "showlegend": false,
         "type": "scatter",
         "x": [
          0,
          1,
          2,
          3,
          4,
          5,
          6,
          7,
          8,
          9
         ],
         "y": [
          3,
          3.1818181818181817,
          3.923076923076923,
          4.277777777777778,
          2.75,
          3.689655172413793,
          5.846153846153846,
          3.32,
          3.7058823529411766,
          3.488372093023256
         ]
        },
        {
         "line": {
          "color": "red"
         },
         "mode": "lines",
         "opacity": 0.3,
         "showlegend": false,
         "type": "scatter",
         "x": [
          0,
          1,
          2,
          3,
          4,
          5,
          6,
          7,
          8,
          9
         ],
         "y": [
          3.5,
          3.3333333333333335,
          2.411764705882353,
          5.25,
          3.0833333333333335,
          2.1052631578947367,
          2.4444444444444446,
          3.9473684210526314,
          2.5,
          3.5
         ]
        },
        {
         "line": {
          "color": "red"
         },
         "mode": "lines",
         "opacity": 0.3,
         "showlegend": false,
         "type": "scatter",
         "x": [
          0,
          1,
          2,
          3,
          4,
          5,
          6,
          7,
          8,
          9
         ],
         "y": [
          2.75,
          2,
          3.6666666666666665,
          2.9,
          3.2666666666666666,
          3.066666666666667,
          2.909090909090909,
          2.652173913043478,
          2.736842105263158,
          1.5263157894736843
         ]
        },
        {
         "line": {
          "color": "red"
         },
         "mode": "lines",
         "opacity": 0.3,
         "showlegend": false,
         "type": "scatter",
         "x": [
          0,
          1,
          2,
          3,
          4,
          5,
          6,
          7,
          8,
          9
         ],
         "y": [
          3.7142857142857144,
          1.625,
          2.5,
          1.6666666666666667,
          3.3636363636363638,
          2.230769230769231,
          2.7142857142857144,
          2.5,
          2.857142857142857,
          1.75
         ]
        },
        {
         "line": {
          "color": "red"
         },
         "mode": "lines",
         "opacity": 0.3,
         "showlegend": false,
         "type": "scatter",
         "x": [
          0,
          1,
          2,
          3,
          4,
          5,
          6,
          7,
          8,
          9
         ],
         "y": [
          2.923076923076923,
          5,
          3.375,
          4,
          1.6666666666666667,
          2.466666666666667,
          1.5454545454545454,
          2.7222222222222223,
          2.1578947368421053,
          2.4210526315789473
         ]
        },
        {
         "line": {
          "color": "red"
         },
         "mode": "lines",
         "opacity": 0.3,
         "showlegend": false,
         "type": "scatter",
         "x": [
          0,
          1,
          2,
          3,
          4,
          5,
          6,
          7,
          8,
          9
         ],
         "y": [
          3.5,
          3.7777777777777777,
          2.6153846153846154,
          3.1538461538461537,
          1.4,
          3.642857142857143,
          2.1333333333333333,
          1.9333333333333333,
          2.3,
          1.962962962962963
         ]
        },
        {
         "line": {
          "color": "red"
         },
         "mode": "lines",
         "opacity": 0.3,
         "showlegend": false,
         "type": "scatter",
         "x": [
          0,
          1,
          2,
          3,
          4,
          5,
          6,
          7,
          8,
          9
         ],
         "y": [
          7.461538461538462,
          2.75,
          2.5,
          4.695652173913044,
          3.2857142857142856,
          2.761904761904762,
          3.4444444444444446,
          2.727272727272727,
          2.9696969696969697,
          3.3548387096774195
         ]
        },
        {
         "line": {
          "color": "red"
         },
         "mode": "lines",
         "opacity": 0.3,
         "showlegend": false,
         "type": "scatter",
         "x": [
          0,
          1,
          2,
          3,
          4,
          5,
          6,
          7,
          8,
          9
         ],
         "y": [
          3.5,
          5.25,
          2.8333333333333335,
          2.6666666666666665,
          3,
          3.5,
          2.409090909090909,
          2.3529411764705883,
          2.2142857142857144,
          2.1176470588235294
         ]
        },
        {
         "line": {
          "color": "red"
         },
         "mode": "lines",
         "opacity": 0.3,
         "showlegend": false,
         "type": "scatter",
         "x": [
          0,
          1,
          2,
          3,
          4,
          5,
          6,
          7,
          8,
          9
         ],
         "y": [
          1.625,
          3.9,
          1.6,
          2.5,
          3,
          2.1333333333333333,
          3,
          2.0625,
          2.2857142857142856,
          1.6666666666666667
         ]
        },
        {
         "line": {
          "color": "red"
         },
         "mode": "lines",
         "opacity": 0.3,
         "showlegend": false,
         "type": "scatter",
         "x": [
          0,
          1,
          2,
          3,
          4,
          5,
          6,
          7,
          8,
          9
         ],
         "y": [
          6.555555555555555,
          4.3,
          4.5,
          3.3,
          2.5,
          4.095238095238095,
          2.7142857142857144,
          3.5555555555555554,
          3.1724137931034484,
          2.3793103448275863
         ]
        },
        {
         "line": {
          "color": "red"
         },
         "mode": "lines",
         "opacity": 0.3,
         "showlegend": false,
         "type": "scatter",
         "x": [
          0,
          1,
          2,
          3,
          4,
          5,
          6,
          7,
          8,
          9
         ],
         "y": [
          5,
          4.142857142857143,
          2.857142857142857,
          2.7,
          3.1333333333333333,
          2.4615384615384617,
          3.1,
          2.4347826086956523,
          2.5185185185185186,
          2.6923076923076925
         ]
        },
        {
         "line": {
          "color": "red"
         },
         "mode": "lines",
         "opacity": 0.3,
         "showlegend": false,
         "type": "scatter",
         "x": [
          0,
          1,
          2,
          3,
          4,
          5,
          6,
          7,
          8,
          9
         ],
         "y": [
          2.5,
          3.5,
          3.4615384615384617,
          2.4,
          3.1,
          1.7857142857142858,
          2.4705882352941178,
          1.8333333333333333,
          1.6111111111111112,
          1.75
         ]
        },
        {
         "line": {
          "color": "red"
         },
         "mode": "lines",
         "opacity": 0.3,
         "showlegend": false,
         "type": "scatter",
         "x": [
          0,
          1,
          2,
          3,
          4,
          5,
          6,
          7,
          8,
          9
         ],
         "y": [
          2.25,
          2.3,
          2.8181818181818183,
          3.9411764705882355,
          3.4166666666666665,
          2.764705882352941,
          2.4375,
          3.4,
          2.9444444444444446,
          2.5
         ]
        },
        {
         "line": {
          "color": "red"
         },
         "mode": "lines",
         "opacity": 0.3,
         "showlegend": false,
         "type": "scatter",
         "x": [
          0,
          1,
          2,
          3,
          4,
          5,
          6,
          7,
          8,
          9
         ],
         "y": [
          2.1818181818181817,
          2.6666666666666665,
          3.3076923076923075,
          3.619047619047619,
          4.466666666666667,
          3.0952380952380953,
          3.8,
          4.928571428571429,
          4.421052631578948,
          1.7142857142857142
         ]
        },
        {
         "line": {
          "color": "red"
         },
         "mode": "lines",
         "opacity": 0.3,
         "showlegend": false,
         "type": "scatter",
         "x": [
          0,
          1,
          2,
          3,
          4,
          5,
          6,
          7,
          8,
          9
         ],
         "y": [
          2.5,
          1,
          4.4,
          3.9166666666666665,
          0.6,
          2.625,
          2.4,
          2.4545454545454546,
          2.5454545454545454,
          2.769230769230769
         ]
        },
        {
         "line": {
          "color": "red"
         },
         "mode": "lines",
         "opacity": 0.3,
         "showlegend": false,
         "type": "scatter",
         "x": [
          0,
          1,
          2,
          3,
          4,
          5,
          6,
          7,
          8,
          9
         ],
         "y": [
          1.75,
          2.3333333333333335,
          3.8,
          3.25,
          2,
          4.0625,
          2.6666666666666665,
          3,
          2.8461538461538463,
          3.08
         ]
        },
        {
         "line": {
          "color": "red"
         },
         "mode": "lines",
         "opacity": 0.3,
         "showlegend": false,
         "type": "scatter",
         "x": [
          0,
          1,
          2,
          3,
          4,
          5,
          6,
          7,
          8,
          9
         ],
         "y": [
          2.5555555555555554,
          2.142857142857143,
          3.1666666666666665,
          2.8333333333333335,
          3.0714285714285716,
          3.4444444444444446,
          2.9545454545454546,
          2.576923076923077,
          2.4166666666666665,
          2.8275862068965516
         ]
        },
        {
         "line": {
          "color": "red"
         },
         "mode": "lines",
         "opacity": 0.3,
         "showlegend": false,
         "type": "scatter",
         "x": [
          0,
          1,
          2,
          3,
          4,
          5,
          6,
          7,
          8,
          9
         ],
         "y": [
          6.7272727272727275,
          3.923076923076923,
          4.285714285714286,
          3.625,
          4,
          3.6315789473684212,
          3.7837837837837838,
          3.526315789473684,
          3.657142857142857,
          3.2093023255813953
         ]
        },
        {
         "line": {
          "color": "red"
         },
         "mode": "lines",
         "opacity": 0.3,
         "showlegend": false,
         "type": "scatter",
         "x": [
          0,
          1,
          2,
          3,
          4,
          5,
          6,
          7,
          8,
          9
         ],
         "y": [
          2.6666666666666665,
          2.95,
          3.5,
          3.7777777777777777,
          1.4,
          4.15,
          2.5,
          3.1538461538461537,
          2.5,
          2.3529411764705883
         ]
        },
        {
         "line": {
          "color": "red"
         },
         "mode": "lines",
         "opacity": 0.3,
         "showlegend": false,
         "type": "scatter",
         "x": [
          0,
          1,
          2,
          3,
          4,
          5,
          6,
          7,
          8,
          9
         ],
         "y": [
          2.5,
          0.5714285714285714,
          3.125,
          3.090909090909091,
          3.5,
          3.5,
          2.375,
          2.85,
          2.259259259259259,
          2.9375
         ]
        },
        {
         "line": {
          "color": "red"
         },
         "mode": "lines",
         "opacity": 0.3,
         "showlegend": false,
         "type": "scatter",
         "x": [
          0,
          1,
          2,
          3,
          4,
          5,
          6,
          7,
          8,
          9
         ],
         "y": [
          4.714285714285714,
          5.625,
          2.5454545454545454,
          3.4545454545454546,
          2.263157894736842,
          3.3157894736842106,
          3.2,
          2.75,
          1.8181818181818181,
          2.8636363636363638
         ]
        },
        {
         "line": {
          "color": "red"
         },
         "mode": "lines",
         "opacity": 0.3,
         "showlegend": false,
         "type": "scatter",
         "x": [
          0,
          1,
          2,
          3,
          4,
          5,
          6,
          7,
          8,
          9
         ],
         "y": [
          2.8461538461538463,
          3.3333333333333335,
          2.7857142857142856,
          2.15,
          2.409090909090909,
          2.5789473684210527,
          3.3846153846153846,
          2.5,
          2.185185185185185,
          1.5
         ]
        },
        {
         "line": {
          "color": "red"
         },
         "mode": "lines",
         "opacity": 0.3,
         "showlegend": false,
         "type": "scatter",
         "x": [
          0,
          1,
          2,
          3,
          4,
          5,
          6,
          7,
          8,
          9
         ],
         "y": [
          2.625,
          1.4,
          2.6666666666666665,
          2.5,
          2.5,
          2.5,
          1.6875,
          2.6,
          2.7777777777777777,
          2.4444444444444446
         ]
        },
        {
         "line": {
          "color": "red"
         },
         "mode": "lines",
         "opacity": 0.3,
         "showlegend": false,
         "type": "scatter",
         "x": [
          0,
          1,
          2,
          3,
          4,
          5,
          6,
          7,
          8,
          9
         ],
         "y": [
          2.8,
          2.857142857142857,
          2.7857142857142856,
          2.6923076923076925,
          3.85,
          2.9411764705882355,
          2,
          1.8695652173913044,
          2.0384615384615383,
          1.92
         ]
        },
        {
         "line": {
          "color": "red"
         },
         "mode": "lines",
         "opacity": 0.3,
         "showlegend": false,
         "type": "scatter",
         "x": [
          0,
          1,
          2,
          3,
          4,
          5,
          6,
          7,
          8,
          9
         ],
         "y": [
          5,
          4.076923076923077,
          5.153846153846154,
          4.944444444444445,
          2.933333333333333,
          4.117647058823529,
          3.4615384615384617,
          3.4285714285714284,
          3.0357142857142856,
          2.46875
         ]
        },
        {
         "line": {
          "color": "red"
         },
         "mode": "lines",
         "opacity": 0.3,
         "showlegend": false,
         "type": "scatter",
         "x": [
          0,
          1,
          2,
          3,
          4,
          5,
          6,
          7,
          8,
          9
         ],
         "y": [
          2,
          2.857142857142857,
          4.625,
          3,
          2.466666666666667,
          2,
          3.619047619047619,
          3.590909090909091,
          2.3333333333333335,
          2.473684210526316
         ]
        },
        {
         "line": {
          "color": "red"
         },
         "mode": "lines",
         "opacity": 0.3,
         "showlegend": false,
         "type": "scatter",
         "x": [
          0,
          1,
          2,
          3,
          4,
          5,
          6,
          7,
          8,
          9
         ],
         "y": [
          3,
          2.142857142857143,
          4.833333333333333,
          3.7142857142857144,
          2.769230769230769,
          2,
          2.3333333333333335,
          2.625,
          1.5833333333333333,
          2.0357142857142856
         ]
        },
        {
         "line": {
          "color": "red"
         },
         "mode": "lines",
         "opacity": 0.3,
         "showlegend": false,
         "type": "scatter",
         "x": [
          0,
          1,
          2,
          3,
          4,
          5,
          6,
          7,
          8,
          9
         ],
         "y": [
          2.6,
          2.2,
          3.4615384615384617,
          2.727272727272727,
          2.230769230769231,
          2.4285714285714284,
          2.4705882352941178,
          2.2666666666666666,
          2.3529411764705883,
          3
         ]
        },
        {
         "line": {
          "color": "red"
         },
         "mode": "lines",
         "opacity": 0.3,
         "showlegend": false,
         "type": "scatter",
         "x": [
          0,
          1,
          2,
          3,
          4,
          5,
          6,
          7,
          8,
          9
         ],
         "y": [
          2.7142857142857144,
          2.875,
          2.466666666666667,
          3.9285714285714284,
          3.5,
          3.7,
          3.769230769230769,
          2.727272727272727,
          2.8461538461538463,
          2.2777777777777777
         ]
        },
        {
         "line": {
          "color": "red"
         },
         "mode": "lines",
         "opacity": 0.3,
         "showlegend": false,
         "type": "scatter",
         "x": [
          0,
          1,
          2,
          3,
          4,
          5,
          6,
          7,
          8,
          9
         ],
         "y": [
          4.3,
          3.2,
          3.4444444444444446,
          3.8461538461538463,
          3.0869565217391304,
          2.84,
          3.4761904761904763,
          2.2777777777777777,
          2.5714285714285716,
          1.8695652173913044
         ]
        },
        {
         "line": {
          "color": "red"
         },
         "mode": "lines",
         "opacity": 0.3,
         "showlegend": false,
         "type": "scatter",
         "x": [
          0,
          1,
          2,
          3,
          4,
          5,
          6,
          7,
          8,
          9
         ],
         "y": [
          4.666666666666667,
          2.5,
          4.9,
          2.7,
          3.392857142857143,
          2.727272727272727,
          3.772727272727273,
          2.7142857142857144,
          3.823529411764706,
          2.6206896551724137
         ]
        },
        {
         "line": {
          "color": "red"
         },
         "mode": "lines",
         "opacity": 0.3,
         "showlegend": false,
         "type": "scatter",
         "x": [
          0,
          1,
          2,
          3,
          4,
          5,
          6,
          7,
          8,
          9
         ],
         "y": [
          2.5,
          4.5,
          3.8,
          2.8333333333333335,
          2.7222222222222223,
          2.3636363636363638,
          2.55,
          3.3157894736842106,
          2.235294117647059,
          2
         ]
        },
        {
         "line": {
          "color": "red"
         },
         "mode": "lines",
         "opacity": 0.3,
         "showlegend": false,
         "type": "scatter",
         "x": [
          0,
          1,
          2,
          3,
          4,
          5,
          6,
          7,
          8,
          9
         ],
         "y": [
          3,
          3.5,
          2.3333333333333335,
          2.857142857142857,
          2.857142857142857,
          2.727272727272727,
          2.4285714285714284,
          2.3684210526315788,
          3,
          2.05
         ]
        },
        {
         "line": {
          "color": "red"
         },
         "mode": "lines",
         "opacity": 0.3,
         "showlegend": false,
         "type": "scatter",
         "x": [
          0,
          1,
          2,
          3,
          4,
          5,
          6,
          7,
          8,
          9
         ],
         "y": [
          4.222222222222222,
          2.125,
          2.1666666666666665,
          3.0588235294117645,
          2.0588235294117645,
          3.619047619047619,
          2.1904761904761907,
          2.24,
          3.1666666666666665,
          2
         ]
        },
        {
         "line": {
          "color": "red"
         },
         "mode": "lines",
         "opacity": 0.3,
         "showlegend": false,
         "type": "scatter",
         "x": [
          0,
          1,
          2,
          3,
          4,
          5,
          6,
          7,
          8,
          9
         ],
         "y": [
          4.4,
          3.272727272727273,
          2.1538461538461537,
          2.75,
          2.391304347826087,
          2.28,
          2.8333333333333335,
          2.25,
          3.090909090909091,
          1.9545454545454546
         ]
        },
        {
         "line": {
          "color": "red"
         },
         "mode": "lines",
         "opacity": 0.3,
         "showlegend": false,
         "type": "scatter",
         "x": [
          0,
          1,
          2,
          3,
          4,
          5,
          6,
          7,
          8,
          9
         ],
         "y": [
          4.444444444444445,
          2.6666666666666665,
          2.357142857142857,
          2.9285714285714284,
          2.5652173913043477,
          3.1666666666666665,
          2.625,
          4.238095238095238,
          3.037037037037037,
          2.323529411764706
         ]
        },
        {
         "line": {
          "color": "red"
         },
         "mode": "lines",
         "opacity": 0.3,
         "showlegend": false,
         "type": "scatter",
         "x": [
          0,
          1,
          2,
          3,
          4,
          5,
          6,
          7,
          8,
          9
         ],
         "y": [
          3.6666666666666665,
          3,
          3.909090909090909,
          3,
          4.285714285714286,
          4.086956521739131,
          3.9615384615384617,
          3.772727272727273,
          2.8125,
          2.871794871794872
         ]
        },
        {
         "line": {
          "color": "red"
         },
         "mode": "lines",
         "opacity": 0.3,
         "showlegend": false,
         "type": "scatter",
         "x": [
          0,
          1,
          2,
          3,
          4,
          5,
          6,
          7,
          8,
          9
         ],
         "y": [
          1.8888888888888888,
          2.4545454545454546,
          3.411764705882353,
          2.3333333333333335,
          2.375,
          3,
          2.5454545454545454,
          2.08,
          1.7142857142857142,
          2.323529411764706
         ]
        },
        {
         "line": {
          "color": "red"
         },
         "mode": "lines",
         "opacity": 0.3,
         "showlegend": false,
         "type": "scatter",
         "x": [
          0,
          1,
          2,
          3,
          4,
          5,
          6,
          7,
          8,
          9
         ],
         "y": [
          4.2,
          3.3333333333333335,
          3,
          2.230769230769231,
          3.6666666666666665,
          2.6153846153846154,
          3.2666666666666666,
          3.966666666666667,
          1.7727272727272727,
          2.6923076923076925
         ]
        },
        {
         "line": {
          "color": "red"
         },
         "mode": "lines",
         "opacity": 0.3,
         "showlegend": false,
         "type": "scatter",
         "x": [
          0,
          1,
          2,
          3,
          4,
          5,
          6,
          7,
          8,
          9
         ],
         "y": [
          3.4,
          3.4545454545454546,
          3.357142857142857,
          3.1333333333333333,
          2.8947368421052633,
          2.8,
          2.7142857142857144,
          2.0454545454545454,
          2.8,
          2.12
         ]
        },
        {
         "line": {
          "color": "red"
         },
         "mode": "lines",
         "opacity": 0.3,
         "showlegend": false,
         "type": "scatter",
         "x": [
          0,
          1,
          2,
          3,
          4,
          5,
          6,
          7,
          8,
          9
         ],
         "y": [
          2.25,
          3.3333333333333335,
          3.0714285714285716,
          1.0833333333333333,
          4.363636363636363,
          2,
          2.45,
          1.8571428571428572,
          2.1363636363636362,
          1.6818181818181819
         ]
        },
        {
         "line": {
          "color": "red"
         },
         "mode": "lines",
         "opacity": 0.3,
         "showlegend": false,
         "type": "scatter",
         "x": [
          0,
          1,
          2,
          3,
          4,
          5,
          6,
          7,
          8,
          9
         ],
         "y": [
          4.5,
          2.8666666666666667,
          2.7142857142857144,
          3.1538461538461537,
          3.066666666666667,
          3,
          2.090909090909091,
          3.68,
          2.5,
          1.9583333333333333
         ]
        },
        {
         "line": {
          "color": "red"
         },
         "mode": "lines",
         "opacity": 0.3,
         "showlegend": false,
         "type": "scatter",
         "x": [
          0,
          1,
          2,
          3,
          4,
          5,
          6,
          7,
          8,
          9
         ],
         "y": [
          1.7777777777777777,
          4.75,
          3,
          2.235294117647059,
          3.5,
          3.875,
          2.5625,
          3.5357142857142856,
          2.8076923076923075,
          2.7058823529411766
         ]
        },
        {
         "line": {
          "color": "red"
         },
         "mode": "lines",
         "opacity": 0.3,
         "showlegend": false,
         "type": "scatter",
         "x": [
          0,
          1,
          2,
          3,
          4,
          5,
          6,
          7,
          8,
          9
         ],
         "y": [
          2.1,
          3.8333333333333335,
          3.8333333333333335,
          3.5555555555555554,
          2.9285714285714284,
          2.9523809523809526,
          3.263157894736842,
          3.611111111111111,
          2.6470588235294117,
          2.1
         ]
        },
        {
         "line": {
          "color": "red"
         },
         "mode": "lines",
         "opacity": 0.3,
         "showlegend": false,
         "type": "scatter",
         "x": [
          0,
          1,
          2,
          3,
          4,
          5,
          6,
          7,
          8,
          9
         ],
         "y": [
          2.888888888888889,
          4.2727272727272725,
          3.8,
          2.6153846153846154,
          4,
          2.210526315789474,
          2.608695652173913,
          2.125,
          1.6538461538461537,
          2.2903225806451615
         ]
        },
        {
         "line": {
          "color": "red"
         },
         "mode": "lines",
         "opacity": 0.3,
         "showlegend": false,
         "type": "scatter",
         "x": [
          0,
          1,
          2,
          3,
          4,
          5,
          6,
          7,
          8,
          9
         ],
         "y": [
          2.625,
          2.875,
          3.6666666666666665,
          2.5,
          2.6875,
          2.0833333333333335,
          2.0714285714285716,
          2.8076923076923075,
          2.210526315789474,
          3.6923076923076925
         ]
        },
        {
         "line": {
          "color": "red"
         },
         "mode": "lines",
         "opacity": 0.3,
         "showlegend": false,
         "type": "scatter",
         "x": [
          0,
          1,
          2,
          3,
          4,
          5,
          6,
          7,
          8,
          9
         ],
         "y": [
          2,
          3,
          3.5384615384615383,
          2.75,
          3,
          2.95,
          2.230769230769231,
          1.7058823529411764,
          2.0476190476190474,
          1.7241379310344827
         ]
        },
        {
         "line": {
          "color": "red"
         },
         "mode": "lines",
         "opacity": 0.3,
         "showlegend": false,
         "type": "scatter",
         "x": [
          0,
          1,
          2,
          3,
          4,
          5,
          6,
          7,
          8,
          9
         ],
         "y": [
          2.3529411764705883,
          4.111111111111111,
          2.15,
          4.157894736842105,
          2.1153846153846154,
          2.6052631578947367,
          3.323529411764706,
          2.5,
          2.5416666666666665,
          2.347826086956522
         ]
        },
        {
         "line": {
          "color": "red"
         },
         "mode": "lines",
         "opacity": 0.3,
         "showlegend": false,
         "type": "scatter",
         "x": [
          0,
          1,
          2,
          3,
          4,
          5,
          6,
          7,
          8,
          9
         ],
         "y": [
          3.2222222222222223,
          2.3333333333333335,
          4.2727272727272725,
          5.0588235294117645,
          3.0555555555555554,
          3.3043478260869565,
          3.2857142857142856,
          2.4285714285714284,
          1.9473684210526316,
          2.1176470588235294
         ]
        },
        {
         "line": {
          "color": "red"
         },
         "mode": "lines",
         "opacity": 0.3,
         "showlegend": false,
         "type": "scatter",
         "x": [
          0,
          1,
          2,
          3,
          4,
          5,
          6,
          7,
          8,
          9
         ],
         "y": [
          4.076923076923077,
          2.5555555555555554,
          2.0714285714285716,
          2.3076923076923075,
          2.923076923076923,
          3.1052631578947367,
          3,
          2.6,
          2.4705882352941178,
          2
         ]
        },
        {
         "line": {
          "color": "red"
         },
         "mode": "lines",
         "opacity": 0.3,
         "showlegend": false,
         "type": "scatter",
         "x": [
          0,
          1,
          2,
          3,
          4,
          5,
          6,
          7,
          8,
          9
         ],
         "y": [
          2.857142857142857,
          1.6666666666666667,
          4.1,
          1.9285714285714286,
          2.8,
          3,
          2.5,
          3.933333333333333,
          2.5517241379310347,
          1.6666666666666667
         ]
        },
        {
         "line": {
          "color": "red"
         },
         "mode": "lines",
         "opacity": 0.3,
         "showlegend": false,
         "type": "scatter",
         "x": [
          0,
          1,
          2,
          3,
          4,
          5,
          6,
          7,
          8,
          9
         ],
         "y": [
          1.9090909090909092,
          2.25,
          3.3846153846153846,
          2.4782608695652173,
          2.923076923076923,
          2,
          3,
          2.5294117647058822,
          2.1739130434782608,
          1.7142857142857142
         ]
        },
        {
         "line": {
          "color": "red"
         },
         "mode": "lines",
         "opacity": 0.3,
         "showlegend": false,
         "type": "scatter",
         "x": [
          0,
          1,
          2,
          3,
          4,
          5,
          6,
          7,
          8,
          9
         ],
         "y": [
          4.2,
          3.357142857142857,
          2.9,
          1.2222222222222223,
          4,
          3.75,
          1.9285714285714286,
          2,
          2.263157894736842,
          1.1764705882352942
         ]
        },
        {
         "line": {
          "color": "red"
         },
         "mode": "lines",
         "opacity": 0.3,
         "showlegend": false,
         "type": "scatter",
         "x": [
          0,
          1,
          2,
          3,
          4,
          5,
          6,
          7,
          8,
          9
         ],
         "y": [
          2.5,
          4.7,
          3.75,
          3.1818181818181817,
          3.25,
          3.076923076923077,
          2.24,
          3.32,
          2.735294117647059,
          1.793103448275862
         ]
        },
        {
         "line": {
          "color": "red"
         },
         "mode": "lines",
         "opacity": 0.3,
         "showlegend": false,
         "type": "scatter",
         "x": [
          0,
          1,
          2,
          3,
          4,
          5,
          6,
          7,
          8,
          9
         ],
         "y": [
          2,
          3.1666666666666665,
          2.8,
          3.25,
          4,
          3,
          2.4444444444444446,
          3.1176470588235294,
          2.433333333333333,
          2.466666666666667
         ]
        },
        {
         "line": {
          "color": "red"
         },
         "mode": "lines",
         "opacity": 0.3,
         "showlegend": false,
         "type": "scatter",
         "x": [
          0,
          1,
          2,
          3,
          4,
          5,
          6,
          7,
          8,
          9
         ],
         "y": [
          2.5714285714285716,
          2.8,
          3.727272727272727,
          2.769230769230769,
          2.875,
          2.263157894736842,
          2.4705882352941178,
          2.263157894736842,
          2.764705882352941,
          2.4
         ]
        },
        {
         "line": {
          "color": "red"
         },
         "mode": "lines",
         "opacity": 0.3,
         "showlegend": false,
         "type": "scatter",
         "x": [
          0,
          1,
          2,
          3,
          4,
          5,
          6,
          7,
          8,
          9
         ],
         "y": [
          2.6363636363636362,
          4,
          3.5,
          1.7272727272727273,
          2.260869565217391,
          2.7142857142857144,
          2.2941176470588234,
          2.3529411764705883,
          2.2666666666666666,
          2.9411764705882355
         ]
        },
        {
         "line": {
          "color": "red"
         },
         "mode": "lines",
         "opacity": 0.3,
         "showlegend": false,
         "type": "scatter",
         "x": [
          0,
          1,
          2,
          3,
          4,
          5,
          6,
          7,
          8,
          9
         ],
         "y": [
          4,
          2.6,
          2.4166666666666665,
          2.4166666666666665,
          4,
          2.8823529411764706,
          1.625,
          1.55,
          2.2142857142857144,
          1.8823529411764706
         ]
        },
        {
         "line": {
          "color": "red"
         },
         "mode": "lines",
         "opacity": 0.3,
         "showlegend": false,
         "type": "scatter",
         "x": [
          0,
          1,
          2,
          3,
          4,
          5,
          6,
          7,
          8,
          9
         ],
         "y": [
          4.7,
          6,
          2.727272727272727,
          4.357142857142857,
          2.761904761904762,
          4.611111111111111,
          3,
          3.4285714285714284,
          2.2666666666666666,
          2
         ]
        },
        {
         "line": {
          "color": "red"
         },
         "mode": "lines",
         "opacity": 0.3,
         "showlegend": false,
         "type": "scatter",
         "x": [
          0,
          1,
          2,
          3,
          4,
          5,
          6,
          7,
          8,
          9
         ],
         "y": [
          2,
          2.2,
          3.5,
          2.7857142857142856,
          1.6923076923076923,
          3.0555555555555554,
          1.7272727272727273,
          2.388888888888889,
          2.3846153846153846,
          2.1153846153846154
         ]
        },
        {
         "line": {
          "color": "red"
         },
         "mode": "lines",
         "opacity": 0.3,
         "showlegend": false,
         "type": "scatter",
         "x": [
          0,
          1,
          2,
          3,
          4,
          5,
          6,
          7,
          8,
          9
         ],
         "y": [
          5.625,
          3.75,
          2.357142857142857,
          1.9285714285714286,
          2.923076923076923,
          3.1666666666666665,
          2.5714285714285716,
          2.2857142857142856,
          2.4074074074074074,
          1.4583333333333333
         ]
        },
        {
         "line": {
          "color": "red"
         },
         "mode": "lines",
         "opacity": 0.3,
         "showlegend": false,
         "type": "scatter",
         "x": [
          0,
          1,
          2,
          3,
          4,
          5,
          6,
          7,
          8,
          9
         ],
         "y": [
          1.8,
          2.25,
          5.6,
          2.1818181818181817,
          2.2,
          2.5,
          2.1176470588235294,
          1.5555555555555556,
          1.6153846153846154,
          1.7647058823529411
         ]
        },
        {
         "line": {
          "color": "red"
         },
         "mode": "lines",
         "opacity": 0.3,
         "showlegend": false,
         "type": "scatter",
         "x": [
          0,
          1,
          2,
          3,
          4,
          5,
          6,
          7,
          8,
          9
         ],
         "y": [
          3,
          3.1,
          2.7,
          3.5,
          2.7222222222222223,
          3.5,
          4.411764705882353,
          1.7037037037037037,
          1.3157894736842106,
          2.1666666666666665
         ]
        },
        {
         "line": {
          "color": "red"
         },
         "mode": "lines",
         "opacity": 0.3,
         "showlegend": false,
         "type": "scatter",
         "x": [
          0,
          1,
          2,
          3,
          4,
          5,
          6,
          7,
          8,
          9
         ],
         "y": [
          1.6666666666666667,
          1.3333333333333333,
          1.5,
          1.9,
          3.5714285714285716,
          2.5,
          2.230769230769231,
          1.625,
          2.888888888888889,
          2.5833333333333335
         ]
        },
        {
         "line": {
          "color": "red"
         },
         "mode": "lines",
         "opacity": 0.3,
         "showlegend": false,
         "type": "scatter",
         "x": [
          0,
          1,
          2,
          3,
          4,
          5,
          6,
          7,
          8,
          9
         ],
         "y": [
          4.454545454545454,
          0.75,
          2.75,
          2.1818181818181817,
          3.2666666666666666,
          3.238095238095238,
          1.7142857142857142,
          3.0476190476190474,
          3.0625,
          2.4642857142857144
         ]
        },
        {
         "line": {
          "color": "red"
         },
         "mode": "lines",
         "opacity": 0.3,
         "showlegend": false,
         "type": "scatter",
         "x": [
          0,
          1,
          2,
          3,
          4,
          5,
          6,
          7,
          8,
          9
         ],
         "y": [
          4.3,
          3.4444444444444446,
          2.2857142857142856,
          4.5625,
          5.3,
          4.9,
          3.111111111111111,
          2.6666666666666665,
          2.7037037037037037,
          2.71875
         ]
        },
        {
         "line": {
          "color": "red"
         },
         "mode": "lines",
         "opacity": 0.3,
         "showlegend": false,
         "type": "scatter",
         "x": [
          0,
          1,
          2,
          3,
          4,
          5,
          6,
          7,
          8,
          9
         ],
         "y": [
          2.4545454545454546,
          3.5,
          4.866666666666666,
          4.3125,
          4,
          4.214285714285714,
          2.1363636363636362,
          2.967741935483871,
          2.4761904761904763,
          2.40625
         ]
        },
        {
         "line": {
          "color": "red"
         },
         "mode": "lines",
         "opacity": 0.3,
         "showlegend": false,
         "type": "scatter",
         "x": [
          0,
          1,
          2,
          3,
          4,
          5,
          6,
          7,
          8,
          9
         ],
         "y": [
          6.8,
          2.3636363636363638,
          4.166666666666667,
          2.4545454545454546,
          4.25,
          3.875,
          5.352941176470588,
          3.25,
          2.1739130434782608,
          3.4074074074074074
         ]
        },
        {
         "line": {
          "color": "red"
         },
         "mode": "lines",
         "opacity": 0.3,
         "showlegend": false,
         "type": "scatter",
         "x": [
          0,
          1,
          2,
          3,
          4,
          5,
          6,
          7,
          8,
          9
         ],
         "y": [
          4.714285714285714,
          2.909090909090909,
          3.6666666666666665,
          3.6923076923076925,
          2.375,
          2.375,
          2.8125,
          3.4375,
          1.2222222222222223,
          2.357142857142857
         ]
        },
        {
         "line": {
          "color": "red"
         },
         "mode": "lines",
         "opacity": 0.3,
         "showlegend": false,
         "type": "scatter",
         "x": [
          0,
          1,
          2,
          3,
          4,
          5,
          6,
          7,
          8,
          9
         ],
         "y": [
          4.5,
          3.5,
          2.8461538461538463,
          3.8,
          3.9375,
          2.5,
          2.111111111111111,
          3.0416666666666665,
          2.423076923076923,
          2.7777777777777777
         ]
        },
        {
         "line": {
          "color": "red"
         },
         "mode": "lines",
         "opacity": 0.3,
         "showlegend": false,
         "type": "scatter",
         "x": [
          0,
          1,
          2,
          3,
          4,
          5,
          6,
          7,
          8,
          9
         ],
         "y": [
          3.3333333333333335,
          2.642857142857143,
          2.611111111111111,
          1.5,
          3.3333333333333335,
          3.25,
          2.0625,
          2.84,
          1.9642857142857142,
          2.8620689655172415
         ]
        },
        {
         "line": {
          "color": "red"
         },
         "mode": "lines",
         "opacity": 0.3,
         "showlegend": false,
         "type": "scatter",
         "x": [
          0,
          1,
          2,
          3,
          4,
          5,
          6,
          7,
          8,
          9
         ],
         "y": [
          1.9230769230769231,
          3.7142857142857144,
          2.8125,
          3.375,
          2.25,
          3.7916666666666665,
          2.65,
          2.5,
          2.2758620689655173,
          1.84
         ]
        },
        {
         "line": {
          "color": "red"
         },
         "mode": "lines",
         "opacity": 0.3,
         "showlegend": false,
         "type": "scatter",
         "x": [
          0,
          1,
          2,
          3,
          4,
          5,
          6,
          7,
          8,
          9
         ],
         "y": [
          2.375,
          1.9166666666666667,
          3.111111111111111,
          3.533333333333333,
          3.4615384615384617,
          2.727272727272727,
          2.4583333333333335,
          2.933333333333333,
          2.5416666666666665,
          1.6333333333333333
         ]
        },
        {
         "line": {
          "color": "red"
         },
         "mode": "lines",
         "opacity": 0.3,
         "showlegend": false,
         "type": "scatter",
         "x": [
          0,
          1,
          2,
          3,
          4,
          5,
          6,
          7,
          8,
          9
         ],
         "y": [
          3.4285714285714284,
          1.7142857142857142,
          1.6923076923076923,
          1.7777777777777777,
          2.7142857142857144,
          2.7777777777777777,
          2.8181818181818183,
          2.466666666666667,
          1.6363636363636365,
          1.1818181818181819
         ]
        },
        {
         "line": {
          "color": "red"
         },
         "mode": "lines",
         "opacity": 0.3,
         "showlegend": false,
         "type": "scatter",
         "x": [
          0,
          1,
          2,
          3,
          4,
          5,
          6,
          7,
          8,
          9
         ],
         "y": [
          4,
          5.5,
          2.8,
          1.8181818181818181,
          0.6666666666666666,
          3.111111111111111,
          1.4285714285714286,
          2.0526315789473686,
          2.4285714285714284,
          2.32
         ]
        },
        {
         "line": {
          "color": "red"
         },
         "mode": "lines",
         "opacity": 0.3,
         "showlegend": false,
         "type": "scatter",
         "x": [
          0,
          1,
          2,
          3,
          4,
          5,
          6,
          7,
          8,
          9
         ],
         "y": [
          2,
          2.125,
          3.2,
          3.6363636363636362,
          3.473684210526316,
          3.923076923076923,
          2,
          3.227272727272727,
          2.6,
          2.227272727272727
         ]
        },
        {
         "line": {
          "color": "red"
         },
         "mode": "lines",
         "opacity": 0.3,
         "showlegend": false,
         "type": "scatter",
         "x": [
          0,
          1,
          2,
          3,
          4,
          5,
          6,
          7,
          8,
          9
         ],
         "y": [
          2.3333333333333335,
          2.727272727272727,
          2.6153846153846154,
          3.909090909090909,
          2.6666666666666665,
          3.1818181818181817,
          2.111111111111111,
          2.5416666666666665,
          2.32,
          2.1538461538461537
         ]
        },
        {
         "line": {
          "color": "red"
         },
         "mode": "lines",
         "opacity": 0.3,
         "showlegend": false,
         "type": "scatter",
         "x": [
          0,
          1,
          2,
          3,
          4,
          5,
          6,
          7,
          8,
          9
         ],
         "y": [
          5.285714285714286,
          4.5,
          1.6875,
          2.090909090909091,
          4,
          2.7222222222222223,
          3.4210526315789473,
          2.92,
          2.590909090909091,
          2.2962962962962963
         ]
        },
        {
         "line": {
          "color": "red"
         },
         "mode": "lines",
         "opacity": 0.3,
         "showlegend": false,
         "type": "scatter",
         "x": [
          0,
          1,
          2,
          3,
          4,
          5,
          6,
          7,
          8,
          9
         ],
         "y": [
          4,
          2.888888888888889,
          4.894736842105263,
          3.909090909090909,
          2.9411764705882355,
          2.769230769230769,
          3.4,
          3.210526315789474,
          3.4722222222222223,
          3.0384615384615383
         ]
        },
        {
         "line": {
          "color": "red"
         },
         "mode": "lines",
         "opacity": 0.3,
         "showlegend": false,
         "type": "scatter",
         "x": [
          0,
          1,
          2,
          3,
          4,
          5,
          6,
          7,
          8,
          9
         ],
         "y": [
          2.7777777777777777,
          2.888888888888889,
          4.153846153846154,
          3.4545454545454546,
          4.222222222222222,
          3.235294117647059,
          3.238095238095238,
          3.8,
          1.5185185185185186,
          3.0476190476190474
         ]
        },
        {
         "line": {
          "color": "red"
         },
         "mode": "lines",
         "opacity": 0.3,
         "showlegend": false,
         "type": "scatter",
         "x": [
          0,
          1,
          2,
          3,
          4,
          5,
          6,
          7,
          8,
          9
         ],
         "y": [
          4,
          4.285714285714286,
          1.875,
          2.6,
          4.3,
          1.9230769230769231,
          2.4,
          2,
          1.5909090909090908,
          1.84
         ]
        },
        {
         "line": {
          "color": "red"
         },
         "mode": "lines",
         "opacity": 0.3,
         "showlegend": false,
         "type": "scatter",
         "x": [
          0,
          1,
          2,
          3,
          4,
          5,
          6,
          7,
          8,
          9
         ],
         "y": [
          4,
          2.7,
          3.25,
          2.235294117647059,
          2.466666666666667,
          2.8095238095238093,
          3.888888888888889,
          2.88,
          2.142857142857143,
          2.2580645161290325
         ]
        },
        {
         "line": {
          "color": "red"
         },
         "mode": "lines",
         "opacity": 0.3,
         "showlegend": false,
         "type": "scatter",
         "x": [
          0,
          1,
          2,
          3,
          4,
          5,
          6,
          7,
          8,
          9
         ],
         "y": [
          3,
          3.8,
          2.4615384615384617,
          4,
          2.8823529411764706,
          3.3684210526315788,
          3.142857142857143,
          2.6785714285714284,
          2.5,
          1.9722222222222223
         ]
        },
        {
         "line": {
          "color": "red"
         },
         "mode": "lines",
         "opacity": 0.3,
         "showlegend": false,
         "type": "scatter",
         "x": [
          0,
          1,
          2,
          3,
          4,
          5,
          6,
          7,
          8,
          9
         ],
         "y": [
          5.75,
          3.2142857142857144,
          3.6153846153846154,
          5.571428571428571,
          4.269230769230769,
          3.7142857142857144,
          3,
          2.911764705882353,
          2,
          2.5918367346938775
         ]
        },
        {
         "line": {
          "color": "red"
         },
         "mode": "lines",
         "opacity": 0.3,
         "showlegend": false,
         "type": "scatter",
         "x": [
          0,
          1,
          2,
          3,
          4,
          5,
          6,
          7,
          8,
          9
         ],
         "y": [
          3.5,
          4.5,
          3.142857142857143,
          2.4761904761904763,
          3.230769230769231,
          2.3125,
          3.0714285714285716,
          2.4210526315789473,
          3.2,
          2.2941176470588234
         ]
        },
        {
         "line": {
          "color": "red"
         },
         "mode": "lines",
         "opacity": 0.3,
         "showlegend": false,
         "type": "scatter",
         "x": [
          0,
          1,
          2,
          3,
          4,
          5,
          6,
          7,
          8,
          9
         ],
         "y": [
          3.5555555555555554,
          2.8181818181818183,
          3.230769230769231,
          3.375,
          2.611111111111111,
          2.736842105263158,
          2.740740740740741,
          1.8636363636363635,
          2.129032258064516,
          3.0714285714285716
         ]
        },
        {
         "line": {
          "color": "red"
         },
         "mode": "lines",
         "opacity": 0.3,
         "showlegend": false,
         "type": "scatter",
         "x": [
          0,
          1,
          2,
          3,
          4,
          5,
          6,
          7,
          8,
          9
         ],
         "y": [
          2.6666666666666665,
          3.5555555555555554,
          3.857142857142857,
          2.35,
          3.44,
          3.4166666666666665,
          2.8095238095238093,
          2.909090909090909,
          2.52,
          1.8461538461538463
         ]
        },
        {
         "line": {
          "color": "red"
         },
         "mode": "lines",
         "opacity": 0.3,
         "showlegend": false,
         "type": "scatter",
         "x": [
          0,
          1,
          2,
          3,
          4,
          5,
          6,
          7,
          8,
          9
         ],
         "y": [
          3.1666666666666665,
          2.6363636363636362,
          2.9411764705882355,
          3.5,
          2.3333333333333335,
          2.789473684210526,
          3.090909090909091,
          3.56,
          2.6666666666666665,
          2.625
         ]
        },
        {
         "line": {
          "color": "red"
         },
         "mode": "lines",
         "opacity": 0.3,
         "showlegend": false,
         "type": "scatter",
         "x": [
          0,
          1,
          2,
          3,
          4,
          5,
          6,
          7,
          8,
          9
         ],
         "y": [
          1.75,
          2.923076923076923,
          3.727272727272727,
          1.8181818181818181,
          3.111111111111111,
          3.1538461538461537,
          2.6315789473684212,
          2,
          2.789473684210526,
          2.5416666666666665
         ]
        },
        {
         "line": {
          "color": "red"
         },
         "mode": "lines",
         "opacity": 0.3,
         "showlegend": false,
         "type": "scatter",
         "x": [
          0,
          1,
          2,
          3,
          4,
          5,
          6,
          7,
          8,
          9
         ],
         "y": [
          4.333333333333333,
          5.545454545454546,
          2,
          2.411764705882353,
          2.875,
          2.409090909090909,
          2.5714285714285716,
          1.9473684210526316,
          2.3157894736842106,
          2
         ]
        },
        {
         "line": {
          "color": "black"
         },
         "mode": "markers+lines",
         "name": "Average",
         "opacity": 0.7,
         "type": "scatter",
         "x": [
          0,
          1,
          2,
          3,
          4,
          5,
          6,
          7,
          8,
          9
         ],
         "y": [
          3.415277777777778,
          3.211159737417943,
          3.187062937062937,
          3.050687907313541,
          3.0714745653573727,
          3.0274285714285716,
          2.8683937823834196,
          2.784821841739935,
          2.548472775564409,
          2.368688845401174
         ]
        }
       ],
       "layout": {
        "template": {
         "data": {
          "bar": [
           {
            "error_x": {
             "color": "#2a3f5f"
            },
            "error_y": {
             "color": "#2a3f5f"
            },
            "marker": {
             "line": {
              "color": "#E5ECF6",
              "width": 0.5
             }
            },
            "type": "bar"
           }
          ],
          "barpolar": [
           {
            "marker": {
             "line": {
              "color": "#E5ECF6",
              "width": 0.5
             }
            },
            "type": "barpolar"
           }
          ],
          "carpet": [
           {
            "aaxis": {
             "endlinecolor": "#2a3f5f",
             "gridcolor": "white",
             "linecolor": "white",
             "minorgridcolor": "white",
             "startlinecolor": "#2a3f5f"
            },
            "baxis": {
             "endlinecolor": "#2a3f5f",
             "gridcolor": "white",
             "linecolor": "white",
             "minorgridcolor": "white",
             "startlinecolor": "#2a3f5f"
            },
            "type": "carpet"
           }
          ],
          "choropleth": [
           {
            "colorbar": {
             "outlinewidth": 0,
             "ticks": ""
            },
            "type": "choropleth"
           }
          ],
          "contour": [
           {
            "colorbar": {
             "outlinewidth": 0,
             "ticks": ""
            },
            "colorscale": [
             [
              0,
              "#0d0887"
             ],
             [
              0.1111111111111111,
              "#46039f"
             ],
             [
              0.2222222222222222,
              "#7201a8"
             ],
             [
              0.3333333333333333,
              "#9c179e"
             ],
             [
              0.4444444444444444,
              "#bd3786"
             ],
             [
              0.5555555555555556,
              "#d8576b"
             ],
             [
              0.6666666666666666,
              "#ed7953"
             ],
             [
              0.7777777777777778,
              "#fb9f3a"
             ],
             [
              0.8888888888888888,
              "#fdca26"
             ],
             [
              1,
              "#f0f921"
             ]
            ],
            "type": "contour"
           }
          ],
          "contourcarpet": [
           {
            "colorbar": {
             "outlinewidth": 0,
             "ticks": ""
            },
            "type": "contourcarpet"
           }
          ],
          "heatmap": [
           {
            "colorbar": {
             "outlinewidth": 0,
             "ticks": ""
            },
            "colorscale": [
             [
              0,
              "#0d0887"
             ],
             [
              0.1111111111111111,
              "#46039f"
             ],
             [
              0.2222222222222222,
              "#7201a8"
             ],
             [
              0.3333333333333333,
              "#9c179e"
             ],
             [
              0.4444444444444444,
              "#bd3786"
             ],
             [
              0.5555555555555556,
              "#d8576b"
             ],
             [
              0.6666666666666666,
              "#ed7953"
             ],
             [
              0.7777777777777778,
              "#fb9f3a"
             ],
             [
              0.8888888888888888,
              "#fdca26"
             ],
             [
              1,
              "#f0f921"
             ]
            ],
            "type": "heatmap"
           }
          ],
          "heatmapgl": [
           {
            "colorbar": {
             "outlinewidth": 0,
             "ticks": ""
            },
            "colorscale": [
             [
              0,
              "#0d0887"
             ],
             [
              0.1111111111111111,
              "#46039f"
             ],
             [
              0.2222222222222222,
              "#7201a8"
             ],
             [
              0.3333333333333333,
              "#9c179e"
             ],
             [
              0.4444444444444444,
              "#bd3786"
             ],
             [
              0.5555555555555556,
              "#d8576b"
             ],
             [
              0.6666666666666666,
              "#ed7953"
             ],
             [
              0.7777777777777778,
              "#fb9f3a"
             ],
             [
              0.8888888888888888,
              "#fdca26"
             ],
             [
              1,
              "#f0f921"
             ]
            ],
            "type": "heatmapgl"
           }
          ],
          "histogram": [
           {
            "marker": {
             "colorbar": {
              "outlinewidth": 0,
              "ticks": ""
             }
            },
            "type": "histogram"
           }
          ],
          "histogram2d": [
           {
            "colorbar": {
             "outlinewidth": 0,
             "ticks": ""
            },
            "colorscale": [
             [
              0,
              "#0d0887"
             ],
             [
              0.1111111111111111,
              "#46039f"
             ],
             [
              0.2222222222222222,
              "#7201a8"
             ],
             [
              0.3333333333333333,
              "#9c179e"
             ],
             [
              0.4444444444444444,
              "#bd3786"
             ],
             [
              0.5555555555555556,
              "#d8576b"
             ],
             [
              0.6666666666666666,
              "#ed7953"
             ],
             [
              0.7777777777777778,
              "#fb9f3a"
             ],
             [
              0.8888888888888888,
              "#fdca26"
             ],
             [
              1,
              "#f0f921"
             ]
            ],
            "type": "histogram2d"
           }
          ],
          "histogram2dcontour": [
           {
            "colorbar": {
             "outlinewidth": 0,
             "ticks": ""
            },
            "colorscale": [
             [
              0,
              "#0d0887"
             ],
             [
              0.1111111111111111,
              "#46039f"
             ],
             [
              0.2222222222222222,
              "#7201a8"
             ],
             [
              0.3333333333333333,
              "#9c179e"
             ],
             [
              0.4444444444444444,
              "#bd3786"
             ],
             [
              0.5555555555555556,
              "#d8576b"
             ],
             [
              0.6666666666666666,
              "#ed7953"
             ],
             [
              0.7777777777777778,
              "#fb9f3a"
             ],
             [
              0.8888888888888888,
              "#fdca26"
             ],
             [
              1,
              "#f0f921"
             ]
            ],
            "type": "histogram2dcontour"
           }
          ],
          "mesh3d": [
           {
            "colorbar": {
             "outlinewidth": 0,
             "ticks": ""
            },
            "type": "mesh3d"
           }
          ],
          "parcoords": [
           {
            "line": {
             "colorbar": {
              "outlinewidth": 0,
              "ticks": ""
             }
            },
            "type": "parcoords"
           }
          ],
          "pie": [
           {
            "automargin": true,
            "type": "pie"
           }
          ],
          "scatter": [
           {
            "marker": {
             "colorbar": {
              "outlinewidth": 0,
              "ticks": ""
             }
            },
            "type": "scatter"
           }
          ],
          "scatter3d": [
           {
            "line": {
             "colorbar": {
              "outlinewidth": 0,
              "ticks": ""
             }
            },
            "marker": {
             "colorbar": {
              "outlinewidth": 0,
              "ticks": ""
             }
            },
            "type": "scatter3d"
           }
          ],
          "scattercarpet": [
           {
            "marker": {
             "colorbar": {
              "outlinewidth": 0,
              "ticks": ""
             }
            },
            "type": "scattercarpet"
           }
          ],
          "scattergeo": [
           {
            "marker": {
             "colorbar": {
              "outlinewidth": 0,
              "ticks": ""
             }
            },
            "type": "scattergeo"
           }
          ],
          "scattergl": [
           {
            "marker": {
             "colorbar": {
              "outlinewidth": 0,
              "ticks": ""
             }
            },
            "type": "scattergl"
           }
          ],
          "scattermapbox": [
           {
            "marker": {
             "colorbar": {
              "outlinewidth": 0,
              "ticks": ""
             }
            },
            "type": "scattermapbox"
           }
          ],
          "scatterpolar": [
           {
            "marker": {
             "colorbar": {
              "outlinewidth": 0,
              "ticks": ""
             }
            },
            "type": "scatterpolar"
           }
          ],
          "scatterpolargl": [
           {
            "marker": {
             "colorbar": {
              "outlinewidth": 0,
              "ticks": ""
             }
            },
            "type": "scatterpolargl"
           }
          ],
          "scatterternary": [
           {
            "marker": {
             "colorbar": {
              "outlinewidth": 0,
              "ticks": ""
             }
            },
            "type": "scatterternary"
           }
          ],
          "surface": [
           {
            "colorbar": {
             "outlinewidth": 0,
             "ticks": ""
            },
            "colorscale": [
             [
              0,
              "#0d0887"
             ],
             [
              0.1111111111111111,
              "#46039f"
             ],
             [
              0.2222222222222222,
              "#7201a8"
             ],
             [
              0.3333333333333333,
              "#9c179e"
             ],
             [
              0.4444444444444444,
              "#bd3786"
             ],
             [
              0.5555555555555556,
              "#d8576b"
             ],
             [
              0.6666666666666666,
              "#ed7953"
             ],
             [
              0.7777777777777778,
              "#fb9f3a"
             ],
             [
              0.8888888888888888,
              "#fdca26"
             ],
             [
              1,
              "#f0f921"
             ]
            ],
            "type": "surface"
           }
          ],
          "table": [
           {
            "cells": {
             "fill": {
              "color": "#EBF0F8"
             },
             "line": {
              "color": "white"
             }
            },
            "header": {
             "fill": {
              "color": "#C8D4E3"
             },
             "line": {
              "color": "white"
             }
            },
            "type": "table"
           }
          ]
         },
         "layout": {
          "annotationdefaults": {
           "arrowcolor": "#2a3f5f",
           "arrowhead": 0,
           "arrowwidth": 1
          },
          "coloraxis": {
           "colorbar": {
            "outlinewidth": 0,
            "ticks": ""
           }
          },
          "colorscale": {
           "diverging": [
            [
             0,
             "#8e0152"
            ],
            [
             0.1,
             "#c51b7d"
            ],
            [
             0.2,
             "#de77ae"
            ],
            [
             0.3,
             "#f1b6da"
            ],
            [
             0.4,
             "#fde0ef"
            ],
            [
             0.5,
             "#f7f7f7"
            ],
            [
             0.6,
             "#e6f5d0"
            ],
            [
             0.7,
             "#b8e186"
            ],
            [
             0.8,
             "#7fbc41"
            ],
            [
             0.9,
             "#4d9221"
            ],
            [
             1,
             "#276419"
            ]
           ],
           "sequential": [
            [
             0,
             "#0d0887"
            ],
            [
             0.1111111111111111,
             "#46039f"
            ],
            [
             0.2222222222222222,
             "#7201a8"
            ],
            [
             0.3333333333333333,
             "#9c179e"
            ],
            [
             0.4444444444444444,
             "#bd3786"
            ],
            [
             0.5555555555555556,
             "#d8576b"
            ],
            [
             0.6666666666666666,
             "#ed7953"
            ],
            [
             0.7777777777777778,
             "#fb9f3a"
            ],
            [
             0.8888888888888888,
             "#fdca26"
            ],
            [
             1,
             "#f0f921"
            ]
           ],
           "sequentialminus": [
            [
             0,
             "#0d0887"
            ],
            [
             0.1111111111111111,
             "#46039f"
            ],
            [
             0.2222222222222222,
             "#7201a8"
            ],
            [
             0.3333333333333333,
             "#9c179e"
            ],
            [
             0.4444444444444444,
             "#bd3786"
            ],
            [
             0.5555555555555556,
             "#d8576b"
            ],
            [
             0.6666666666666666,
             "#ed7953"
            ],
            [
             0.7777777777777778,
             "#fb9f3a"
            ],
            [
             0.8888888888888888,
             "#fdca26"
            ],
            [
             1,
             "#f0f921"
            ]
           ]
          },
          "colorway": [
           "#636efa",
           "#EF553B",
           "#00cc96",
           "#ab63fa",
           "#FFA15A",
           "#19d3f3",
           "#FF6692",
           "#B6E880",
           "#FF97FF",
           "#FECB52"
          ],
          "font": {
           "color": "#2a3f5f"
          },
          "geo": {
           "bgcolor": "white",
           "lakecolor": "white",
           "landcolor": "#E5ECF6",
           "showlakes": true,
           "showland": true,
           "subunitcolor": "white"
          },
          "hoverlabel": {
           "align": "left"
          },
          "hovermode": "closest",
          "mapbox": {
           "style": "light"
          },
          "paper_bgcolor": "white",
          "plot_bgcolor": "#E5ECF6",
          "polar": {
           "angularaxis": {
            "gridcolor": "white",
            "linecolor": "white",
            "ticks": ""
           },
           "bgcolor": "#E5ECF6",
           "radialaxis": {
            "gridcolor": "white",
            "linecolor": "white",
            "ticks": ""
           }
          },
          "scene": {
           "xaxis": {
            "backgroundcolor": "#E5ECF6",
            "gridcolor": "white",
            "gridwidth": 2,
            "linecolor": "white",
            "showbackground": true,
            "ticks": "",
            "zerolinecolor": "white"
           },
           "yaxis": {
            "backgroundcolor": "#E5ECF6",
            "gridcolor": "white",
            "gridwidth": 2,
            "linecolor": "white",
            "showbackground": true,
            "ticks": "",
            "zerolinecolor": "white"
           },
           "zaxis": {
            "backgroundcolor": "#E5ECF6",
            "gridcolor": "white",
            "gridwidth": 2,
            "linecolor": "white",
            "showbackground": true,
            "ticks": "",
            "zerolinecolor": "white"
           }
          },
          "shapedefaults": {
           "line": {
            "color": "#2a3f5f"
           }
          },
          "ternary": {
           "aaxis": {
            "gridcolor": "white",
            "linecolor": "white",
            "ticks": ""
           },
           "baxis": {
            "gridcolor": "white",
            "linecolor": "white",
            "ticks": ""
           },
           "bgcolor": "#E5ECF6",
           "caxis": {
            "gridcolor": "white",
            "linecolor": "white",
            "ticks": ""
           }
          },
          "title": {
           "x": 0.05
          },
          "xaxis": {
           "automargin": true,
           "gridcolor": "white",
           "linecolor": "white",
           "ticks": "",
           "title": {
            "standoff": 15
           },
           "zerolinecolor": "white",
           "zerolinewidth": 2
          },
          "yaxis": {
           "automargin": true,
           "gridcolor": "white",
           "linecolor": "white",
           "ticks": "",
           "title": {
            "standoff": 15
           },
           "zerolinecolor": "white",
           "zerolinewidth": 2
          }
         }
        }
       }
      },
      "text/html": [
       "<div>\n",
       "        \n",
       "        \n",
       "            <div id=\"1e10034a-c96a-447b-9dfb-079677721cbb\" class=\"plotly-graph-div\" style=\"height:525px; width:100%;\"></div>\n",
       "            <script type=\"text/javascript\">\n",
       "                require([\"plotly\"], function(Plotly) {\n",
       "                    window.PLOTLYENV=window.PLOTLYENV || {};\n",
       "                    \n",
       "                if (document.getElementById(\"1e10034a-c96a-447b-9dfb-079677721cbb\")) {\n",
       "                    Plotly.newPlot(\n",
       "                        '1e10034a-c96a-447b-9dfb-079677721cbb',\n",
       "                        [{\"line\": {\"color\": \"red\"}, \"mode\": \"lines\", \"opacity\": 0.3, \"showlegend\": false, \"type\": \"scatter\", \"x\": [0, 1, 2, 3, 4, 5, 6, 7, 8, 9], \"y\": [5.0, 4.7272727272727275, 3.090909090909091, 2.4375, 2.263157894736842, 2.125, 2.5789473684210527, 3.5652173913043477, 2.9444444444444446, 1.68]}, {\"line\": {\"color\": \"red\"}, \"mode\": \"lines\", \"opacity\": 0.3, \"showlegend\": false, \"type\": \"scatter\", \"x\": [0, 1, 2, 3, 4, 5, 6, 7, 8, 9], \"y\": [3.25, 1.6, 2.5714285714285716, 2.125, 2.9285714285714284, 2.642857142857143, 4.266666666666667, 2.0, 1.96, 2.5652173913043477]}, {\"line\": {\"color\": \"red\"}, \"mode\": \"lines\", \"opacity\": 0.3, \"showlegend\": false, \"type\": \"scatter\", \"x\": [0, 1, 2, 3, 4, 5, 6, 7, 8, 9], \"y\": [3.4444444444444446, 7.230769230769231, 4.785714285714286, 4.391304347826087, 4.380952380952381, 4.35, 4.25, 3.8684210526315788, 3.6785714285714284, 3.235294117647059]}, {\"line\": {\"color\": \"red\"}, \"mode\": \"lines\", \"opacity\": 0.3, \"showlegend\": false, \"type\": \"scatter\", \"x\": [0, 1, 2, 3, 4, 5, 6, 7, 8, 9], \"y\": [3.0, 2.4545454545454546, 2.4545454545454546, 2.2857142857142856, 2.9047619047619047, 2.357142857142857, 1.6666666666666667, 1.9047619047619047, 2.8095238095238093, 1.7777777777777777]}, {\"line\": {\"color\": \"red\"}, \"mode\": \"lines\", \"opacity\": 0.3, \"showlegend\": false, \"type\": \"scatter\", \"x\": [0, 1, 2, 3, 4, 5, 6, 7, 8, 9], \"y\": [3.2857142857142856, 4.625, 2.1333333333333333, 1.6428571428571428, 3.3333333333333335, 2.090909090909091, 2.357142857142857, 1.9285714285714286, 2.9545454545454546, 2.0952380952380953]}, {\"line\": {\"color\": \"red\"}, \"mode\": \"lines\", \"opacity\": 0.3, \"showlegend\": false, \"type\": \"scatter\", \"x\": [0, 1, 2, 3, 4, 5, 6, 7, 8, 9], \"y\": [4.5, 4.111111111111111, 3.2, 3.823529411764706, 3.466666666666667, 2.076923076923077, 2.05, 3.6, 1.9642857142857142, 2.5714285714285716]}, {\"line\": {\"color\": \"red\"}, \"mode\": \"lines\", \"opacity\": 0.3, \"showlegend\": false, \"type\": \"scatter\", \"x\": [0, 1, 2, 3, 4, 5, 6, 7, 8, 9], \"y\": [2.0, 2.5555555555555554, 4.166666666666667, 1.8461538461538463, 3.6666666666666665, 2.1176470588235294, 2.75, 1.894736842105263, 2.6153846153846154, 1.5909090909090908]}, {\"line\": {\"color\": \"red\"}, \"mode\": \"lines\", \"opacity\": 0.3, \"showlegend\": false, \"type\": \"scatter\", \"x\": [0, 1, 2, 3, 4, 5, 6, 7, 8, 9], \"y\": [5.2727272727272725, 4.266666666666667, 4.0, 2.7083333333333335, 3.909090909090909, 4.8, 3.225806451612903, 2.8157894736842106, 4.166666666666667, 3.0]}, {\"line\": {\"color\": \"red\"}, \"mode\": \"lines\", \"opacity\": 0.3, \"showlegend\": false, \"type\": \"scatter\", \"x\": [0, 1, 2, 3, 4, 5, 6, 7, 8, 9], \"y\": [3.1666666666666665, 2.4545454545454546, 4.166666666666667, 2.3, 2.5833333333333335, 2.6842105263157894, 2.95, 2.588235294117647, 3.1666666666666665, 2.3157894736842106]}, {\"line\": {\"color\": \"red\"}, \"mode\": \"lines\", \"opacity\": 0.3, \"showlegend\": false, \"type\": \"scatter\", \"x\": [0, 1, 2, 3, 4, 5, 6, 7, 8, 9], \"y\": [4.0, 4.428571428571429, 2.0, 2.6666666666666665, 2.8461538461538463, 2.2222222222222223, 3.15, 2.25, 2.066666666666667, 2.45]}, {\"line\": {\"color\": \"red\"}, \"mode\": \"lines\", \"opacity\": 0.3, \"showlegend\": false, \"type\": \"scatter\", \"x\": [0, 1, 2, 3, 4, 5, 6, 7, 8, 9], \"y\": [3.0, 3.1818181818181817, 3.923076923076923, 4.277777777777778, 2.75, 3.689655172413793, 5.846153846153846, 3.32, 3.7058823529411766, 3.488372093023256]}, {\"line\": {\"color\": \"red\"}, \"mode\": \"lines\", \"opacity\": 0.3, \"showlegend\": false, \"type\": \"scatter\", \"x\": [0, 1, 2, 3, 4, 5, 6, 7, 8, 9], \"y\": [3.5, 3.3333333333333335, 2.411764705882353, 5.25, 3.0833333333333335, 2.1052631578947367, 2.4444444444444446, 3.9473684210526314, 2.5, 3.5]}, {\"line\": {\"color\": \"red\"}, \"mode\": \"lines\", \"opacity\": 0.3, \"showlegend\": false, \"type\": \"scatter\", \"x\": [0, 1, 2, 3, 4, 5, 6, 7, 8, 9], \"y\": [2.75, 2.0, 3.6666666666666665, 2.9, 3.2666666666666666, 3.066666666666667, 2.909090909090909, 2.652173913043478, 2.736842105263158, 1.5263157894736843]}, {\"line\": {\"color\": \"red\"}, \"mode\": \"lines\", \"opacity\": 0.3, \"showlegend\": false, \"type\": \"scatter\", \"x\": [0, 1, 2, 3, 4, 5, 6, 7, 8, 9], \"y\": [3.7142857142857144, 1.625, 2.5, 1.6666666666666667, 3.3636363636363638, 2.230769230769231, 2.7142857142857144, 2.5, 2.857142857142857, 1.75]}, {\"line\": {\"color\": \"red\"}, \"mode\": \"lines\", \"opacity\": 0.3, \"showlegend\": false, \"type\": \"scatter\", \"x\": [0, 1, 2, 3, 4, 5, 6, 7, 8, 9], \"y\": [2.923076923076923, 5.0, 3.375, 4.0, 1.6666666666666667, 2.466666666666667, 1.5454545454545454, 2.7222222222222223, 2.1578947368421053, 2.4210526315789473]}, {\"line\": {\"color\": \"red\"}, \"mode\": \"lines\", \"opacity\": 0.3, \"showlegend\": false, \"type\": \"scatter\", \"x\": [0, 1, 2, 3, 4, 5, 6, 7, 8, 9], \"y\": [3.5, 3.7777777777777777, 2.6153846153846154, 3.1538461538461537, 1.4, 3.642857142857143, 2.1333333333333333, 1.9333333333333333, 2.3, 1.962962962962963]}, {\"line\": {\"color\": \"red\"}, \"mode\": \"lines\", \"opacity\": 0.3, \"showlegend\": false, \"type\": \"scatter\", \"x\": [0, 1, 2, 3, 4, 5, 6, 7, 8, 9], \"y\": [7.461538461538462, 2.75, 2.5, 4.695652173913044, 3.2857142857142856, 2.761904761904762, 3.4444444444444446, 2.727272727272727, 2.9696969696969697, 3.3548387096774195]}, {\"line\": {\"color\": \"red\"}, \"mode\": \"lines\", \"opacity\": 0.3, \"showlegend\": false, \"type\": \"scatter\", \"x\": [0, 1, 2, 3, 4, 5, 6, 7, 8, 9], \"y\": [3.5, 5.25, 2.8333333333333335, 2.6666666666666665, 3.0, 3.5, 2.409090909090909, 2.3529411764705883, 2.2142857142857144, 2.1176470588235294]}, {\"line\": {\"color\": \"red\"}, \"mode\": \"lines\", \"opacity\": 0.3, \"showlegend\": false, \"type\": \"scatter\", \"x\": [0, 1, 2, 3, 4, 5, 6, 7, 8, 9], \"y\": [1.625, 3.9, 1.6, 2.5, 3.0, 2.1333333333333333, 3.0, 2.0625, 2.2857142857142856, 1.6666666666666667]}, {\"line\": {\"color\": \"red\"}, \"mode\": \"lines\", \"opacity\": 0.3, \"showlegend\": false, \"type\": \"scatter\", \"x\": [0, 1, 2, 3, 4, 5, 6, 7, 8, 9], \"y\": [6.555555555555555, 4.3, 4.5, 3.3, 2.5, 4.095238095238095, 2.7142857142857144, 3.5555555555555554, 3.1724137931034484, 2.3793103448275863]}, {\"line\": {\"color\": \"red\"}, \"mode\": \"lines\", \"opacity\": 0.3, \"showlegend\": false, \"type\": \"scatter\", \"x\": [0, 1, 2, 3, 4, 5, 6, 7, 8, 9], \"y\": [5.0, 4.142857142857143, 2.857142857142857, 2.7, 3.1333333333333333, 2.4615384615384617, 3.1, 2.4347826086956523, 2.5185185185185186, 2.6923076923076925]}, {\"line\": {\"color\": \"red\"}, \"mode\": \"lines\", \"opacity\": 0.3, \"showlegend\": false, \"type\": \"scatter\", \"x\": [0, 1, 2, 3, 4, 5, 6, 7, 8, 9], \"y\": [2.5, 3.5, 3.4615384615384617, 2.4, 3.1, 1.7857142857142858, 2.4705882352941178, 1.8333333333333333, 1.6111111111111112, 1.75]}, {\"line\": {\"color\": \"red\"}, \"mode\": \"lines\", \"opacity\": 0.3, \"showlegend\": false, \"type\": \"scatter\", \"x\": [0, 1, 2, 3, 4, 5, 6, 7, 8, 9], \"y\": [2.25, 2.3, 2.8181818181818183, 3.9411764705882355, 3.4166666666666665, 2.764705882352941, 2.4375, 3.4, 2.9444444444444446, 2.5]}, {\"line\": {\"color\": \"red\"}, \"mode\": \"lines\", \"opacity\": 0.3, \"showlegend\": false, \"type\": \"scatter\", \"x\": [0, 1, 2, 3, 4, 5, 6, 7, 8, 9], \"y\": [2.1818181818181817, 2.6666666666666665, 3.3076923076923075, 3.619047619047619, 4.466666666666667, 3.0952380952380953, 3.8, 4.928571428571429, 4.421052631578948, 1.7142857142857142]}, {\"line\": {\"color\": \"red\"}, \"mode\": \"lines\", \"opacity\": 0.3, \"showlegend\": false, \"type\": \"scatter\", \"x\": [0, 1, 2, 3, 4, 5, 6, 7, 8, 9], \"y\": [2.5, 1.0, 4.4, 3.9166666666666665, 0.6, 2.625, 2.4, 2.4545454545454546, 2.5454545454545454, 2.769230769230769]}, {\"line\": {\"color\": \"red\"}, \"mode\": \"lines\", \"opacity\": 0.3, \"showlegend\": false, \"type\": \"scatter\", \"x\": [0, 1, 2, 3, 4, 5, 6, 7, 8, 9], \"y\": [1.75, 2.3333333333333335, 3.8, 3.25, 2.0, 4.0625, 2.6666666666666665, 3.0, 2.8461538461538463, 3.08]}, {\"line\": {\"color\": \"red\"}, \"mode\": \"lines\", \"opacity\": 0.3, \"showlegend\": false, \"type\": \"scatter\", \"x\": [0, 1, 2, 3, 4, 5, 6, 7, 8, 9], \"y\": [2.5555555555555554, 2.142857142857143, 3.1666666666666665, 2.8333333333333335, 3.0714285714285716, 3.4444444444444446, 2.9545454545454546, 2.576923076923077, 2.4166666666666665, 2.8275862068965516]}, {\"line\": {\"color\": \"red\"}, \"mode\": \"lines\", \"opacity\": 0.3, \"showlegend\": false, \"type\": \"scatter\", \"x\": [0, 1, 2, 3, 4, 5, 6, 7, 8, 9], \"y\": [6.7272727272727275, 3.923076923076923, 4.285714285714286, 3.625, 4.0, 3.6315789473684212, 3.7837837837837838, 3.526315789473684, 3.657142857142857, 3.2093023255813953]}, {\"line\": {\"color\": \"red\"}, \"mode\": \"lines\", \"opacity\": 0.3, \"showlegend\": false, \"type\": \"scatter\", \"x\": [0, 1, 2, 3, 4, 5, 6, 7, 8, 9], \"y\": [2.6666666666666665, 2.95, 3.5, 3.7777777777777777, 1.4, 4.15, 2.5, 3.1538461538461537, 2.5, 2.3529411764705883]}, {\"line\": {\"color\": \"red\"}, \"mode\": \"lines\", \"opacity\": 0.3, \"showlegend\": false, \"type\": \"scatter\", \"x\": [0, 1, 2, 3, 4, 5, 6, 7, 8, 9], \"y\": [2.5, 0.5714285714285714, 3.125, 3.090909090909091, 3.5, 3.5, 2.375, 2.85, 2.259259259259259, 2.9375]}, {\"line\": {\"color\": \"red\"}, \"mode\": \"lines\", \"opacity\": 0.3, \"showlegend\": false, \"type\": \"scatter\", \"x\": [0, 1, 2, 3, 4, 5, 6, 7, 8, 9], \"y\": [4.714285714285714, 5.625, 2.5454545454545454, 3.4545454545454546, 2.263157894736842, 3.3157894736842106, 3.2, 2.75, 1.8181818181818181, 2.8636363636363638]}, {\"line\": {\"color\": \"red\"}, \"mode\": \"lines\", \"opacity\": 0.3, \"showlegend\": false, \"type\": \"scatter\", \"x\": [0, 1, 2, 3, 4, 5, 6, 7, 8, 9], \"y\": [2.8461538461538463, 3.3333333333333335, 2.7857142857142856, 2.15, 2.409090909090909, 2.5789473684210527, 3.3846153846153846, 2.5, 2.185185185185185, 1.5]}, {\"line\": {\"color\": \"red\"}, \"mode\": \"lines\", \"opacity\": 0.3, \"showlegend\": false, \"type\": \"scatter\", \"x\": [0, 1, 2, 3, 4, 5, 6, 7, 8, 9], \"y\": [2.625, 1.4, 2.6666666666666665, 2.5, 2.5, 2.5, 1.6875, 2.6, 2.7777777777777777, 2.4444444444444446]}, {\"line\": {\"color\": \"red\"}, \"mode\": \"lines\", \"opacity\": 0.3, \"showlegend\": false, \"type\": \"scatter\", \"x\": [0, 1, 2, 3, 4, 5, 6, 7, 8, 9], \"y\": [2.8, 2.857142857142857, 2.7857142857142856, 2.6923076923076925, 3.85, 2.9411764705882355, 2.0, 1.8695652173913044, 2.0384615384615383, 1.92]}, {\"line\": {\"color\": \"red\"}, \"mode\": \"lines\", \"opacity\": 0.3, \"showlegend\": false, \"type\": \"scatter\", \"x\": [0, 1, 2, 3, 4, 5, 6, 7, 8, 9], \"y\": [5.0, 4.076923076923077, 5.153846153846154, 4.944444444444445, 2.933333333333333, 4.117647058823529, 3.4615384615384617, 3.4285714285714284, 3.0357142857142856, 2.46875]}, {\"line\": {\"color\": \"red\"}, \"mode\": \"lines\", \"opacity\": 0.3, \"showlegend\": false, \"type\": \"scatter\", \"x\": [0, 1, 2, 3, 4, 5, 6, 7, 8, 9], \"y\": [2.0, 2.857142857142857, 4.625, 3.0, 2.466666666666667, 2.0, 3.619047619047619, 3.590909090909091, 2.3333333333333335, 2.473684210526316]}, {\"line\": {\"color\": \"red\"}, \"mode\": \"lines\", \"opacity\": 0.3, \"showlegend\": false, \"type\": \"scatter\", \"x\": [0, 1, 2, 3, 4, 5, 6, 7, 8, 9], \"y\": [3.0, 2.142857142857143, 4.833333333333333, 3.7142857142857144, 2.769230769230769, 2.0, 2.3333333333333335, 2.625, 1.5833333333333333, 2.0357142857142856]}, {\"line\": {\"color\": \"red\"}, \"mode\": \"lines\", \"opacity\": 0.3, \"showlegend\": false, \"type\": \"scatter\", \"x\": [0, 1, 2, 3, 4, 5, 6, 7, 8, 9], \"y\": [2.6, 2.2, 3.4615384615384617, 2.727272727272727, 2.230769230769231, 2.4285714285714284, 2.4705882352941178, 2.2666666666666666, 2.3529411764705883, 3.0]}, {\"line\": {\"color\": \"red\"}, \"mode\": \"lines\", \"opacity\": 0.3, \"showlegend\": false, \"type\": \"scatter\", \"x\": [0, 1, 2, 3, 4, 5, 6, 7, 8, 9], \"y\": [2.7142857142857144, 2.875, 2.466666666666667, 3.9285714285714284, 3.5, 3.7, 3.769230769230769, 2.727272727272727, 2.8461538461538463, 2.2777777777777777]}, {\"line\": {\"color\": \"red\"}, \"mode\": \"lines\", \"opacity\": 0.3, \"showlegend\": false, \"type\": \"scatter\", \"x\": [0, 1, 2, 3, 4, 5, 6, 7, 8, 9], \"y\": [4.3, 3.2, 3.4444444444444446, 3.8461538461538463, 3.0869565217391304, 2.84, 3.4761904761904763, 2.2777777777777777, 2.5714285714285716, 1.8695652173913044]}, {\"line\": {\"color\": \"red\"}, \"mode\": \"lines\", \"opacity\": 0.3, \"showlegend\": false, \"type\": \"scatter\", \"x\": [0, 1, 2, 3, 4, 5, 6, 7, 8, 9], \"y\": [4.666666666666667, 2.5, 4.9, 2.7, 3.392857142857143, 2.727272727272727, 3.772727272727273, 2.7142857142857144, 3.823529411764706, 2.6206896551724137]}, {\"line\": {\"color\": \"red\"}, \"mode\": \"lines\", \"opacity\": 0.3, \"showlegend\": false, \"type\": \"scatter\", \"x\": [0, 1, 2, 3, 4, 5, 6, 7, 8, 9], \"y\": [2.5, 4.5, 3.8, 2.8333333333333335, 2.7222222222222223, 2.3636363636363638, 2.55, 3.3157894736842106, 2.235294117647059, 2.0]}, {\"line\": {\"color\": \"red\"}, \"mode\": \"lines\", \"opacity\": 0.3, \"showlegend\": false, \"type\": \"scatter\", \"x\": [0, 1, 2, 3, 4, 5, 6, 7, 8, 9], \"y\": [3.0, 3.5, 2.3333333333333335, 2.857142857142857, 2.857142857142857, 2.727272727272727, 2.4285714285714284, 2.3684210526315788, 3.0, 2.05]}, {\"line\": {\"color\": \"red\"}, \"mode\": \"lines\", \"opacity\": 0.3, \"showlegend\": false, \"type\": \"scatter\", \"x\": [0, 1, 2, 3, 4, 5, 6, 7, 8, 9], \"y\": [4.222222222222222, 2.125, 2.1666666666666665, 3.0588235294117645, 2.0588235294117645, 3.619047619047619, 2.1904761904761907, 2.24, 3.1666666666666665, 2.0]}, {\"line\": {\"color\": \"red\"}, \"mode\": \"lines\", \"opacity\": 0.3, \"showlegend\": false, \"type\": \"scatter\", \"x\": [0, 1, 2, 3, 4, 5, 6, 7, 8, 9], \"y\": [4.4, 3.272727272727273, 2.1538461538461537, 2.75, 2.391304347826087, 2.28, 2.8333333333333335, 2.25, 3.090909090909091, 1.9545454545454546]}, {\"line\": {\"color\": \"red\"}, \"mode\": \"lines\", \"opacity\": 0.3, \"showlegend\": false, \"type\": \"scatter\", \"x\": [0, 1, 2, 3, 4, 5, 6, 7, 8, 9], \"y\": [4.444444444444445, 2.6666666666666665, 2.357142857142857, 2.9285714285714284, 2.5652173913043477, 3.1666666666666665, 2.625, 4.238095238095238, 3.037037037037037, 2.323529411764706]}, {\"line\": {\"color\": \"red\"}, \"mode\": \"lines\", \"opacity\": 0.3, \"showlegend\": false, \"type\": \"scatter\", \"x\": [0, 1, 2, 3, 4, 5, 6, 7, 8, 9], \"y\": [3.6666666666666665, 3.0, 3.909090909090909, 3.0, 4.285714285714286, 4.086956521739131, 3.9615384615384617, 3.772727272727273, 2.8125, 2.871794871794872]}, {\"line\": {\"color\": \"red\"}, \"mode\": \"lines\", \"opacity\": 0.3, \"showlegend\": false, \"type\": \"scatter\", \"x\": [0, 1, 2, 3, 4, 5, 6, 7, 8, 9], \"y\": [1.8888888888888888, 2.4545454545454546, 3.411764705882353, 2.3333333333333335, 2.375, 3.0, 2.5454545454545454, 2.08, 1.7142857142857142, 2.323529411764706]}, {\"line\": {\"color\": \"red\"}, \"mode\": \"lines\", \"opacity\": 0.3, \"showlegend\": false, \"type\": \"scatter\", \"x\": [0, 1, 2, 3, 4, 5, 6, 7, 8, 9], \"y\": [4.2, 3.3333333333333335, 3.0, 2.230769230769231, 3.6666666666666665, 2.6153846153846154, 3.2666666666666666, 3.966666666666667, 1.7727272727272727, 2.6923076923076925]}, {\"line\": {\"color\": \"red\"}, \"mode\": \"lines\", \"opacity\": 0.3, \"showlegend\": false, \"type\": \"scatter\", \"x\": [0, 1, 2, 3, 4, 5, 6, 7, 8, 9], \"y\": [3.4, 3.4545454545454546, 3.357142857142857, 3.1333333333333333, 2.8947368421052633, 2.8, 2.7142857142857144, 2.0454545454545454, 2.8, 2.12]}, {\"line\": {\"color\": \"red\"}, \"mode\": \"lines\", \"opacity\": 0.3, \"showlegend\": false, \"type\": \"scatter\", \"x\": [0, 1, 2, 3, 4, 5, 6, 7, 8, 9], \"y\": [2.25, 3.3333333333333335, 3.0714285714285716, 1.0833333333333333, 4.363636363636363, 2.0, 2.45, 1.8571428571428572, 2.1363636363636362, 1.6818181818181819]}, {\"line\": {\"color\": \"red\"}, \"mode\": \"lines\", \"opacity\": 0.3, \"showlegend\": false, \"type\": \"scatter\", \"x\": [0, 1, 2, 3, 4, 5, 6, 7, 8, 9], \"y\": [4.5, 2.8666666666666667, 2.7142857142857144, 3.1538461538461537, 3.066666666666667, 3.0, 2.090909090909091, 3.68, 2.5, 1.9583333333333333]}, {\"line\": {\"color\": \"red\"}, \"mode\": \"lines\", \"opacity\": 0.3, \"showlegend\": false, \"type\": \"scatter\", \"x\": [0, 1, 2, 3, 4, 5, 6, 7, 8, 9], \"y\": [1.7777777777777777, 4.75, 3.0, 2.235294117647059, 3.5, 3.875, 2.5625, 3.5357142857142856, 2.8076923076923075, 2.7058823529411766]}, {\"line\": {\"color\": \"red\"}, \"mode\": \"lines\", \"opacity\": 0.3, \"showlegend\": false, \"type\": \"scatter\", \"x\": [0, 1, 2, 3, 4, 5, 6, 7, 8, 9], \"y\": [2.1, 3.8333333333333335, 3.8333333333333335, 3.5555555555555554, 2.9285714285714284, 2.9523809523809526, 3.263157894736842, 3.611111111111111, 2.6470588235294117, 2.1]}, {\"line\": {\"color\": \"red\"}, \"mode\": \"lines\", \"opacity\": 0.3, \"showlegend\": false, \"type\": \"scatter\", \"x\": [0, 1, 2, 3, 4, 5, 6, 7, 8, 9], \"y\": [2.888888888888889, 4.2727272727272725, 3.8, 2.6153846153846154, 4.0, 2.210526315789474, 2.608695652173913, 2.125, 1.6538461538461537, 2.2903225806451615]}, {\"line\": {\"color\": \"red\"}, \"mode\": \"lines\", \"opacity\": 0.3, \"showlegend\": false, \"type\": \"scatter\", \"x\": [0, 1, 2, 3, 4, 5, 6, 7, 8, 9], \"y\": [2.625, 2.875, 3.6666666666666665, 2.5, 2.6875, 2.0833333333333335, 2.0714285714285716, 2.8076923076923075, 2.210526315789474, 3.6923076923076925]}, {\"line\": {\"color\": \"red\"}, \"mode\": \"lines\", \"opacity\": 0.3, \"showlegend\": false, \"type\": \"scatter\", \"x\": [0, 1, 2, 3, 4, 5, 6, 7, 8, 9], \"y\": [2.0, 3.0, 3.5384615384615383, 2.75, 3.0, 2.95, 2.230769230769231, 1.7058823529411764, 2.0476190476190474, 1.7241379310344827]}, {\"line\": {\"color\": \"red\"}, \"mode\": \"lines\", \"opacity\": 0.3, \"showlegend\": false, \"type\": \"scatter\", \"x\": [0, 1, 2, 3, 4, 5, 6, 7, 8, 9], \"y\": [2.3529411764705883, 4.111111111111111, 2.15, 4.157894736842105, 2.1153846153846154, 2.6052631578947367, 3.323529411764706, 2.5, 2.5416666666666665, 2.347826086956522]}, {\"line\": {\"color\": \"red\"}, \"mode\": \"lines\", \"opacity\": 0.3, \"showlegend\": false, \"type\": \"scatter\", \"x\": [0, 1, 2, 3, 4, 5, 6, 7, 8, 9], \"y\": [3.2222222222222223, 2.3333333333333335, 4.2727272727272725, 5.0588235294117645, 3.0555555555555554, 3.3043478260869565, 3.2857142857142856, 2.4285714285714284, 1.9473684210526316, 2.1176470588235294]}, {\"line\": {\"color\": \"red\"}, \"mode\": \"lines\", \"opacity\": 0.3, \"showlegend\": false, \"type\": \"scatter\", \"x\": [0, 1, 2, 3, 4, 5, 6, 7, 8, 9], \"y\": [4.076923076923077, 2.5555555555555554, 2.0714285714285716, 2.3076923076923075, 2.923076923076923, 3.1052631578947367, 3.0, 2.6, 2.4705882352941178, 2.0]}, {\"line\": {\"color\": \"red\"}, \"mode\": \"lines\", \"opacity\": 0.3, \"showlegend\": false, \"type\": \"scatter\", \"x\": [0, 1, 2, 3, 4, 5, 6, 7, 8, 9], \"y\": [2.857142857142857, 1.6666666666666667, 4.1, 1.9285714285714286, 2.8, 3.0, 2.5, 3.933333333333333, 2.5517241379310347, 1.6666666666666667]}, {\"line\": {\"color\": \"red\"}, \"mode\": \"lines\", \"opacity\": 0.3, \"showlegend\": false, \"type\": \"scatter\", \"x\": [0, 1, 2, 3, 4, 5, 6, 7, 8, 9], \"y\": [1.9090909090909092, 2.25, 3.3846153846153846, 2.4782608695652173, 2.923076923076923, 2.0, 3.0, 2.5294117647058822, 2.1739130434782608, 1.7142857142857142]}, {\"line\": {\"color\": \"red\"}, \"mode\": \"lines\", \"opacity\": 0.3, \"showlegend\": false, \"type\": \"scatter\", \"x\": [0, 1, 2, 3, 4, 5, 6, 7, 8, 9], \"y\": [4.2, 3.357142857142857, 2.9, 1.2222222222222223, 4.0, 3.75, 1.9285714285714286, 2.0, 2.263157894736842, 1.1764705882352942]}, {\"line\": {\"color\": \"red\"}, \"mode\": \"lines\", \"opacity\": 0.3, \"showlegend\": false, \"type\": \"scatter\", \"x\": [0, 1, 2, 3, 4, 5, 6, 7, 8, 9], \"y\": [2.5, 4.7, 3.75, 3.1818181818181817, 3.25, 3.076923076923077, 2.24, 3.32, 2.735294117647059, 1.793103448275862]}, {\"line\": {\"color\": \"red\"}, \"mode\": \"lines\", \"opacity\": 0.3, \"showlegend\": false, \"type\": \"scatter\", \"x\": [0, 1, 2, 3, 4, 5, 6, 7, 8, 9], \"y\": [2.0, 3.1666666666666665, 2.8, 3.25, 4.0, 3.0, 2.4444444444444446, 3.1176470588235294, 2.433333333333333, 2.466666666666667]}, {\"line\": {\"color\": \"red\"}, \"mode\": \"lines\", \"opacity\": 0.3, \"showlegend\": false, \"type\": \"scatter\", \"x\": [0, 1, 2, 3, 4, 5, 6, 7, 8, 9], \"y\": [2.5714285714285716, 2.8, 3.727272727272727, 2.769230769230769, 2.875, 2.263157894736842, 2.4705882352941178, 2.263157894736842, 2.764705882352941, 2.4]}, {\"line\": {\"color\": \"red\"}, \"mode\": \"lines\", \"opacity\": 0.3, \"showlegend\": false, \"type\": \"scatter\", \"x\": [0, 1, 2, 3, 4, 5, 6, 7, 8, 9], \"y\": [2.6363636363636362, 4.0, 3.5, 1.7272727272727273, 2.260869565217391, 2.7142857142857144, 2.2941176470588234, 2.3529411764705883, 2.2666666666666666, 2.9411764705882355]}, {\"line\": {\"color\": \"red\"}, \"mode\": \"lines\", \"opacity\": 0.3, \"showlegend\": false, \"type\": \"scatter\", \"x\": [0, 1, 2, 3, 4, 5, 6, 7, 8, 9], \"y\": [4.0, 2.6, 2.4166666666666665, 2.4166666666666665, 4.0, 2.8823529411764706, 1.625, 1.55, 2.2142857142857144, 1.8823529411764706]}, {\"line\": {\"color\": \"red\"}, \"mode\": \"lines\", \"opacity\": 0.3, \"showlegend\": false, \"type\": \"scatter\", \"x\": [0, 1, 2, 3, 4, 5, 6, 7, 8, 9], \"y\": [4.7, 6.0, 2.727272727272727, 4.357142857142857, 2.761904761904762, 4.611111111111111, 3.0, 3.4285714285714284, 2.2666666666666666, 2.0]}, {\"line\": {\"color\": \"red\"}, \"mode\": \"lines\", \"opacity\": 0.3, \"showlegend\": false, \"type\": \"scatter\", \"x\": [0, 1, 2, 3, 4, 5, 6, 7, 8, 9], \"y\": [2.0, 2.2, 3.5, 2.7857142857142856, 1.6923076923076923, 3.0555555555555554, 1.7272727272727273, 2.388888888888889, 2.3846153846153846, 2.1153846153846154]}, {\"line\": {\"color\": \"red\"}, \"mode\": \"lines\", \"opacity\": 0.3, \"showlegend\": false, \"type\": \"scatter\", \"x\": [0, 1, 2, 3, 4, 5, 6, 7, 8, 9], \"y\": [5.625, 3.75, 2.357142857142857, 1.9285714285714286, 2.923076923076923, 3.1666666666666665, 2.5714285714285716, 2.2857142857142856, 2.4074074074074074, 1.4583333333333333]}, {\"line\": {\"color\": \"red\"}, \"mode\": \"lines\", \"opacity\": 0.3, \"showlegend\": false, \"type\": \"scatter\", \"x\": [0, 1, 2, 3, 4, 5, 6, 7, 8, 9], \"y\": [1.8, 2.25, 5.6, 2.1818181818181817, 2.2, 2.5, 2.1176470588235294, 1.5555555555555556, 1.6153846153846154, 1.7647058823529411]}, {\"line\": {\"color\": \"red\"}, \"mode\": \"lines\", \"opacity\": 0.3, \"showlegend\": false, \"type\": \"scatter\", \"x\": [0, 1, 2, 3, 4, 5, 6, 7, 8, 9], \"y\": [3.0, 3.1, 2.7, 3.5, 2.7222222222222223, 3.5, 4.411764705882353, 1.7037037037037037, 1.3157894736842106, 2.1666666666666665]}, {\"line\": {\"color\": \"red\"}, \"mode\": \"lines\", \"opacity\": 0.3, \"showlegend\": false, \"type\": \"scatter\", \"x\": [0, 1, 2, 3, 4, 5, 6, 7, 8, 9], \"y\": [1.6666666666666667, 1.3333333333333333, 1.5, 1.9, 3.5714285714285716, 2.5, 2.230769230769231, 1.625, 2.888888888888889, 2.5833333333333335]}, {\"line\": {\"color\": \"red\"}, \"mode\": \"lines\", \"opacity\": 0.3, \"showlegend\": false, \"type\": \"scatter\", \"x\": [0, 1, 2, 3, 4, 5, 6, 7, 8, 9], \"y\": [4.454545454545454, 0.75, 2.75, 2.1818181818181817, 3.2666666666666666, 3.238095238095238, 1.7142857142857142, 3.0476190476190474, 3.0625, 2.4642857142857144]}, {\"line\": {\"color\": \"red\"}, \"mode\": \"lines\", \"opacity\": 0.3, \"showlegend\": false, \"type\": \"scatter\", \"x\": [0, 1, 2, 3, 4, 5, 6, 7, 8, 9], \"y\": [4.3, 3.4444444444444446, 2.2857142857142856, 4.5625, 5.3, 4.9, 3.111111111111111, 2.6666666666666665, 2.7037037037037037, 2.71875]}, {\"line\": {\"color\": \"red\"}, \"mode\": \"lines\", \"opacity\": 0.3, \"showlegend\": false, \"type\": \"scatter\", \"x\": [0, 1, 2, 3, 4, 5, 6, 7, 8, 9], \"y\": [2.4545454545454546, 3.5, 4.866666666666666, 4.3125, 4.0, 4.214285714285714, 2.1363636363636362, 2.967741935483871, 2.4761904761904763, 2.40625]}, {\"line\": {\"color\": \"red\"}, \"mode\": \"lines\", \"opacity\": 0.3, \"showlegend\": false, \"type\": \"scatter\", \"x\": [0, 1, 2, 3, 4, 5, 6, 7, 8, 9], \"y\": [6.8, 2.3636363636363638, 4.166666666666667, 2.4545454545454546, 4.25, 3.875, 5.352941176470588, 3.25, 2.1739130434782608, 3.4074074074074074]}, {\"line\": {\"color\": \"red\"}, \"mode\": \"lines\", \"opacity\": 0.3, \"showlegend\": false, \"type\": \"scatter\", \"x\": [0, 1, 2, 3, 4, 5, 6, 7, 8, 9], \"y\": [4.714285714285714, 2.909090909090909, 3.6666666666666665, 3.6923076923076925, 2.375, 2.375, 2.8125, 3.4375, 1.2222222222222223, 2.357142857142857]}, {\"line\": {\"color\": \"red\"}, \"mode\": \"lines\", \"opacity\": 0.3, \"showlegend\": false, \"type\": \"scatter\", \"x\": [0, 1, 2, 3, 4, 5, 6, 7, 8, 9], \"y\": [4.5, 3.5, 2.8461538461538463, 3.8, 3.9375, 2.5, 2.111111111111111, 3.0416666666666665, 2.423076923076923, 2.7777777777777777]}, {\"line\": {\"color\": \"red\"}, \"mode\": \"lines\", \"opacity\": 0.3, \"showlegend\": false, \"type\": \"scatter\", \"x\": [0, 1, 2, 3, 4, 5, 6, 7, 8, 9], \"y\": [3.3333333333333335, 2.642857142857143, 2.611111111111111, 1.5, 3.3333333333333335, 3.25, 2.0625, 2.84, 1.9642857142857142, 2.8620689655172415]}, {\"line\": {\"color\": \"red\"}, \"mode\": \"lines\", \"opacity\": 0.3, \"showlegend\": false, \"type\": \"scatter\", \"x\": [0, 1, 2, 3, 4, 5, 6, 7, 8, 9], \"y\": [1.9230769230769231, 3.7142857142857144, 2.8125, 3.375, 2.25, 3.7916666666666665, 2.65, 2.5, 2.2758620689655173, 1.84]}, {\"line\": {\"color\": \"red\"}, \"mode\": \"lines\", \"opacity\": 0.3, \"showlegend\": false, \"type\": \"scatter\", \"x\": [0, 1, 2, 3, 4, 5, 6, 7, 8, 9], \"y\": [2.375, 1.9166666666666667, 3.111111111111111, 3.533333333333333, 3.4615384615384617, 2.727272727272727, 2.4583333333333335, 2.933333333333333, 2.5416666666666665, 1.6333333333333333]}, {\"line\": {\"color\": \"red\"}, \"mode\": \"lines\", \"opacity\": 0.3, \"showlegend\": false, \"type\": \"scatter\", \"x\": [0, 1, 2, 3, 4, 5, 6, 7, 8, 9], \"y\": [3.4285714285714284, 1.7142857142857142, 1.6923076923076923, 1.7777777777777777, 2.7142857142857144, 2.7777777777777777, 2.8181818181818183, 2.466666666666667, 1.6363636363636365, 1.1818181818181819]}, {\"line\": {\"color\": \"red\"}, \"mode\": \"lines\", \"opacity\": 0.3, \"showlegend\": false, \"type\": \"scatter\", \"x\": [0, 1, 2, 3, 4, 5, 6, 7, 8, 9], \"y\": [4.0, 5.5, 2.8, 1.8181818181818181, 0.6666666666666666, 3.111111111111111, 1.4285714285714286, 2.0526315789473686, 2.4285714285714284, 2.32]}, {\"line\": {\"color\": \"red\"}, \"mode\": \"lines\", \"opacity\": 0.3, \"showlegend\": false, \"type\": \"scatter\", \"x\": [0, 1, 2, 3, 4, 5, 6, 7, 8, 9], \"y\": [2.0, 2.125, 3.2, 3.6363636363636362, 3.473684210526316, 3.923076923076923, 2.0, 3.227272727272727, 2.6, 2.227272727272727]}, {\"line\": {\"color\": \"red\"}, \"mode\": \"lines\", \"opacity\": 0.3, \"showlegend\": false, \"type\": \"scatter\", \"x\": [0, 1, 2, 3, 4, 5, 6, 7, 8, 9], \"y\": [2.3333333333333335, 2.727272727272727, 2.6153846153846154, 3.909090909090909, 2.6666666666666665, 3.1818181818181817, 2.111111111111111, 2.5416666666666665, 2.32, 2.1538461538461537]}, {\"line\": {\"color\": \"red\"}, \"mode\": \"lines\", \"opacity\": 0.3, \"showlegend\": false, \"type\": \"scatter\", \"x\": [0, 1, 2, 3, 4, 5, 6, 7, 8, 9], \"y\": [5.285714285714286, 4.5, 1.6875, 2.090909090909091, 4.0, 2.7222222222222223, 3.4210526315789473, 2.92, 2.590909090909091, 2.2962962962962963]}, {\"line\": {\"color\": \"red\"}, \"mode\": \"lines\", \"opacity\": 0.3, \"showlegend\": false, \"type\": \"scatter\", \"x\": [0, 1, 2, 3, 4, 5, 6, 7, 8, 9], \"y\": [4.0, 2.888888888888889, 4.894736842105263, 3.909090909090909, 2.9411764705882355, 2.769230769230769, 3.4, 3.210526315789474, 3.4722222222222223, 3.0384615384615383]}, {\"line\": {\"color\": \"red\"}, \"mode\": \"lines\", \"opacity\": 0.3, \"showlegend\": false, \"type\": \"scatter\", \"x\": [0, 1, 2, 3, 4, 5, 6, 7, 8, 9], \"y\": [2.7777777777777777, 2.888888888888889, 4.153846153846154, 3.4545454545454546, 4.222222222222222, 3.235294117647059, 3.238095238095238, 3.8, 1.5185185185185186, 3.0476190476190474]}, {\"line\": {\"color\": \"red\"}, \"mode\": \"lines\", \"opacity\": 0.3, \"showlegend\": false, \"type\": \"scatter\", \"x\": [0, 1, 2, 3, 4, 5, 6, 7, 8, 9], \"y\": [4.0, 4.285714285714286, 1.875, 2.6, 4.3, 1.9230769230769231, 2.4, 2.0, 1.5909090909090908, 1.84]}, {\"line\": {\"color\": \"red\"}, \"mode\": \"lines\", \"opacity\": 0.3, \"showlegend\": false, \"type\": \"scatter\", \"x\": [0, 1, 2, 3, 4, 5, 6, 7, 8, 9], \"y\": [4.0, 2.7, 3.25, 2.235294117647059, 2.466666666666667, 2.8095238095238093, 3.888888888888889, 2.88, 2.142857142857143, 2.2580645161290325]}, {\"line\": {\"color\": \"red\"}, \"mode\": \"lines\", \"opacity\": 0.3, \"showlegend\": false, \"type\": \"scatter\", \"x\": [0, 1, 2, 3, 4, 5, 6, 7, 8, 9], \"y\": [3.0, 3.8, 2.4615384615384617, 4.0, 2.8823529411764706, 3.3684210526315788, 3.142857142857143, 2.6785714285714284, 2.5, 1.9722222222222223]}, {\"line\": {\"color\": \"red\"}, \"mode\": \"lines\", \"opacity\": 0.3, \"showlegend\": false, \"type\": \"scatter\", \"x\": [0, 1, 2, 3, 4, 5, 6, 7, 8, 9], \"y\": [5.75, 3.2142857142857144, 3.6153846153846154, 5.571428571428571, 4.269230769230769, 3.7142857142857144, 3.0, 2.911764705882353, 2.0, 2.5918367346938775]}, {\"line\": {\"color\": \"red\"}, \"mode\": \"lines\", \"opacity\": 0.3, \"showlegend\": false, \"type\": \"scatter\", \"x\": [0, 1, 2, 3, 4, 5, 6, 7, 8, 9], \"y\": [3.5, 4.5, 3.142857142857143, 2.4761904761904763, 3.230769230769231, 2.3125, 3.0714285714285716, 2.4210526315789473, 3.2, 2.2941176470588234]}, {\"line\": {\"color\": \"red\"}, \"mode\": \"lines\", \"opacity\": 0.3, \"showlegend\": false, \"type\": \"scatter\", \"x\": [0, 1, 2, 3, 4, 5, 6, 7, 8, 9], \"y\": [3.5555555555555554, 2.8181818181818183, 3.230769230769231, 3.375, 2.611111111111111, 2.736842105263158, 2.740740740740741, 1.8636363636363635, 2.129032258064516, 3.0714285714285716]}, {\"line\": {\"color\": \"red\"}, \"mode\": \"lines\", \"opacity\": 0.3, \"showlegend\": false, \"type\": \"scatter\", \"x\": [0, 1, 2, 3, 4, 5, 6, 7, 8, 9], \"y\": [2.6666666666666665, 3.5555555555555554, 3.857142857142857, 2.35, 3.44, 3.4166666666666665, 2.8095238095238093, 2.909090909090909, 2.52, 1.8461538461538463]}, {\"line\": {\"color\": \"red\"}, \"mode\": \"lines\", \"opacity\": 0.3, \"showlegend\": false, \"type\": \"scatter\", \"x\": [0, 1, 2, 3, 4, 5, 6, 7, 8, 9], \"y\": [3.1666666666666665, 2.6363636363636362, 2.9411764705882355, 3.5, 2.3333333333333335, 2.789473684210526, 3.090909090909091, 3.56, 2.6666666666666665, 2.625]}, {\"line\": {\"color\": \"red\"}, \"mode\": \"lines\", \"opacity\": 0.3, \"showlegend\": false, \"type\": \"scatter\", \"x\": [0, 1, 2, 3, 4, 5, 6, 7, 8, 9], \"y\": [1.75, 2.923076923076923, 3.727272727272727, 1.8181818181818181, 3.111111111111111, 3.1538461538461537, 2.6315789473684212, 2.0, 2.789473684210526, 2.5416666666666665]}, {\"line\": {\"color\": \"red\"}, \"mode\": \"lines\", \"opacity\": 0.3, \"showlegend\": false, \"type\": \"scatter\", \"x\": [0, 1, 2, 3, 4, 5, 6, 7, 8, 9], \"y\": [4.333333333333333, 5.545454545454546, 2.0, 2.411764705882353, 2.875, 2.409090909090909, 2.5714285714285716, 1.9473684210526316, 2.3157894736842106, 2.0]}, {\"line\": {\"color\": \"black\"}, \"mode\": \"markers+lines\", \"name\": \"Average\", \"opacity\": 0.7, \"type\": \"scatter\", \"x\": [0, 1, 2, 3, 4, 5, 6, 7, 8, 9], \"y\": [3.415277777777778, 3.211159737417943, 3.187062937062937, 3.050687907313541, 3.0714745653573727, 3.0274285714285716, 2.8683937823834196, 2.784821841739935, 2.548472775564409, 2.368688845401174]}],\n",
       "                        {\"template\": {\"data\": {\"bar\": [{\"error_x\": {\"color\": \"#2a3f5f\"}, \"error_y\": {\"color\": \"#2a3f5f\"}, \"marker\": {\"line\": {\"color\": \"#E5ECF6\", \"width\": 0.5}}, \"type\": \"bar\"}], \"barpolar\": [{\"marker\": {\"line\": {\"color\": \"#E5ECF6\", \"width\": 0.5}}, \"type\": \"barpolar\"}], \"carpet\": [{\"aaxis\": {\"endlinecolor\": \"#2a3f5f\", \"gridcolor\": \"white\", \"linecolor\": \"white\", \"minorgridcolor\": \"white\", \"startlinecolor\": \"#2a3f5f\"}, \"baxis\": {\"endlinecolor\": \"#2a3f5f\", \"gridcolor\": \"white\", \"linecolor\": \"white\", \"minorgridcolor\": \"white\", \"startlinecolor\": \"#2a3f5f\"}, \"type\": \"carpet\"}], \"choropleth\": [{\"colorbar\": {\"outlinewidth\": 0, \"ticks\": \"\"}, \"type\": \"choropleth\"}], \"contour\": [{\"colorbar\": {\"outlinewidth\": 0, \"ticks\": \"\"}, \"colorscale\": [[0.0, \"#0d0887\"], [0.1111111111111111, \"#46039f\"], [0.2222222222222222, \"#7201a8\"], [0.3333333333333333, \"#9c179e\"], [0.4444444444444444, \"#bd3786\"], [0.5555555555555556, \"#d8576b\"], [0.6666666666666666, \"#ed7953\"], [0.7777777777777778, \"#fb9f3a\"], [0.8888888888888888, \"#fdca26\"], [1.0, \"#f0f921\"]], \"type\": \"contour\"}], \"contourcarpet\": [{\"colorbar\": {\"outlinewidth\": 0, \"ticks\": \"\"}, \"type\": \"contourcarpet\"}], \"heatmap\": [{\"colorbar\": {\"outlinewidth\": 0, \"ticks\": \"\"}, \"colorscale\": [[0.0, \"#0d0887\"], [0.1111111111111111, \"#46039f\"], [0.2222222222222222, \"#7201a8\"], [0.3333333333333333, \"#9c179e\"], [0.4444444444444444, \"#bd3786\"], [0.5555555555555556, \"#d8576b\"], [0.6666666666666666, \"#ed7953\"], [0.7777777777777778, \"#fb9f3a\"], [0.8888888888888888, \"#fdca26\"], [1.0, \"#f0f921\"]], \"type\": \"heatmap\"}], \"heatmapgl\": [{\"colorbar\": {\"outlinewidth\": 0, \"ticks\": \"\"}, \"colorscale\": [[0.0, \"#0d0887\"], [0.1111111111111111, \"#46039f\"], [0.2222222222222222, \"#7201a8\"], [0.3333333333333333, \"#9c179e\"], [0.4444444444444444, \"#bd3786\"], [0.5555555555555556, \"#d8576b\"], [0.6666666666666666, \"#ed7953\"], [0.7777777777777778, \"#fb9f3a\"], [0.8888888888888888, \"#fdca26\"], [1.0, \"#f0f921\"]], \"type\": \"heatmapgl\"}], \"histogram\": [{\"marker\": {\"colorbar\": {\"outlinewidth\": 0, \"ticks\": \"\"}}, \"type\": \"histogram\"}], \"histogram2d\": [{\"colorbar\": {\"outlinewidth\": 0, \"ticks\": \"\"}, \"colorscale\": [[0.0, \"#0d0887\"], [0.1111111111111111, \"#46039f\"], [0.2222222222222222, \"#7201a8\"], [0.3333333333333333, \"#9c179e\"], [0.4444444444444444, \"#bd3786\"], [0.5555555555555556, \"#d8576b\"], [0.6666666666666666, \"#ed7953\"], [0.7777777777777778, \"#fb9f3a\"], [0.8888888888888888, \"#fdca26\"], [1.0, \"#f0f921\"]], \"type\": \"histogram2d\"}], \"histogram2dcontour\": [{\"colorbar\": {\"outlinewidth\": 0, \"ticks\": \"\"}, \"colorscale\": [[0.0, \"#0d0887\"], [0.1111111111111111, \"#46039f\"], [0.2222222222222222, \"#7201a8\"], [0.3333333333333333, \"#9c179e\"], [0.4444444444444444, \"#bd3786\"], [0.5555555555555556, \"#d8576b\"], [0.6666666666666666, \"#ed7953\"], [0.7777777777777778, \"#fb9f3a\"], [0.8888888888888888, \"#fdca26\"], [1.0, \"#f0f921\"]], \"type\": \"histogram2dcontour\"}], \"mesh3d\": [{\"colorbar\": {\"outlinewidth\": 0, \"ticks\": \"\"}, \"type\": \"mesh3d\"}], \"parcoords\": [{\"line\": {\"colorbar\": {\"outlinewidth\": 0, \"ticks\": \"\"}}, \"type\": \"parcoords\"}], \"pie\": [{\"automargin\": true, \"type\": \"pie\"}], \"scatter\": [{\"marker\": {\"colorbar\": {\"outlinewidth\": 0, \"ticks\": \"\"}}, \"type\": \"scatter\"}], \"scatter3d\": [{\"line\": {\"colorbar\": {\"outlinewidth\": 0, \"ticks\": \"\"}}, \"marker\": {\"colorbar\": {\"outlinewidth\": 0, \"ticks\": \"\"}}, \"type\": \"scatter3d\"}], \"scattercarpet\": [{\"marker\": {\"colorbar\": {\"outlinewidth\": 0, \"ticks\": \"\"}}, \"type\": \"scattercarpet\"}], \"scattergeo\": [{\"marker\": {\"colorbar\": {\"outlinewidth\": 0, \"ticks\": \"\"}}, \"type\": \"scattergeo\"}], \"scattergl\": [{\"marker\": {\"colorbar\": {\"outlinewidth\": 0, \"ticks\": \"\"}}, \"type\": \"scattergl\"}], \"scattermapbox\": [{\"marker\": {\"colorbar\": {\"outlinewidth\": 0, \"ticks\": \"\"}}, \"type\": \"scattermapbox\"}], \"scatterpolar\": [{\"marker\": {\"colorbar\": {\"outlinewidth\": 0, \"ticks\": \"\"}}, \"type\": \"scatterpolar\"}], \"scatterpolargl\": [{\"marker\": {\"colorbar\": {\"outlinewidth\": 0, \"ticks\": \"\"}}, \"type\": \"scatterpolargl\"}], \"scatterternary\": [{\"marker\": {\"colorbar\": {\"outlinewidth\": 0, \"ticks\": \"\"}}, \"type\": \"scatterternary\"}], \"surface\": [{\"colorbar\": {\"outlinewidth\": 0, \"ticks\": \"\"}, \"colorscale\": [[0.0, \"#0d0887\"], [0.1111111111111111, \"#46039f\"], [0.2222222222222222, \"#7201a8\"], [0.3333333333333333, \"#9c179e\"], [0.4444444444444444, \"#bd3786\"], [0.5555555555555556, \"#d8576b\"], [0.6666666666666666, \"#ed7953\"], [0.7777777777777778, \"#fb9f3a\"], [0.8888888888888888, \"#fdca26\"], [1.0, \"#f0f921\"]], \"type\": \"surface\"}], \"table\": [{\"cells\": {\"fill\": {\"color\": \"#EBF0F8\"}, \"line\": {\"color\": \"white\"}}, \"header\": {\"fill\": {\"color\": \"#C8D4E3\"}, \"line\": {\"color\": \"white\"}}, \"type\": \"table\"}]}, \"layout\": {\"annotationdefaults\": {\"arrowcolor\": \"#2a3f5f\", \"arrowhead\": 0, \"arrowwidth\": 1}, \"coloraxis\": {\"colorbar\": {\"outlinewidth\": 0, \"ticks\": \"\"}}, \"colorscale\": {\"diverging\": [[0, \"#8e0152\"], [0.1, \"#c51b7d\"], [0.2, \"#de77ae\"], [0.3, \"#f1b6da\"], [0.4, \"#fde0ef\"], [0.5, \"#f7f7f7\"], [0.6, \"#e6f5d0\"], [0.7, \"#b8e186\"], [0.8, \"#7fbc41\"], [0.9, \"#4d9221\"], [1, \"#276419\"]], \"sequential\": [[0.0, \"#0d0887\"], [0.1111111111111111, \"#46039f\"], [0.2222222222222222, \"#7201a8\"], [0.3333333333333333, \"#9c179e\"], [0.4444444444444444, \"#bd3786\"], [0.5555555555555556, \"#d8576b\"], [0.6666666666666666, \"#ed7953\"], [0.7777777777777778, \"#fb9f3a\"], [0.8888888888888888, \"#fdca26\"], [1.0, \"#f0f921\"]], \"sequentialminus\": [[0.0, \"#0d0887\"], [0.1111111111111111, \"#46039f\"], [0.2222222222222222, \"#7201a8\"], [0.3333333333333333, \"#9c179e\"], [0.4444444444444444, \"#bd3786\"], [0.5555555555555556, \"#d8576b\"], [0.6666666666666666, \"#ed7953\"], [0.7777777777777778, \"#fb9f3a\"], [0.8888888888888888, \"#fdca26\"], [1.0, \"#f0f921\"]]}, \"colorway\": [\"#636efa\", \"#EF553B\", \"#00cc96\", \"#ab63fa\", \"#FFA15A\", \"#19d3f3\", \"#FF6692\", \"#B6E880\", \"#FF97FF\", \"#FECB52\"], \"font\": {\"color\": \"#2a3f5f\"}, \"geo\": {\"bgcolor\": \"white\", \"lakecolor\": \"white\", \"landcolor\": \"#E5ECF6\", \"showlakes\": true, \"showland\": true, \"subunitcolor\": \"white\"}, \"hoverlabel\": {\"align\": \"left\"}, \"hovermode\": \"closest\", \"mapbox\": {\"style\": \"light\"}, \"paper_bgcolor\": \"white\", \"plot_bgcolor\": \"#E5ECF6\", \"polar\": {\"angularaxis\": {\"gridcolor\": \"white\", \"linecolor\": \"white\", \"ticks\": \"\"}, \"bgcolor\": \"#E5ECF6\", \"radialaxis\": {\"gridcolor\": \"white\", \"linecolor\": \"white\", \"ticks\": \"\"}}, \"scene\": {\"xaxis\": {\"backgroundcolor\": \"#E5ECF6\", \"gridcolor\": \"white\", \"gridwidth\": 2, \"linecolor\": \"white\", \"showbackground\": true, \"ticks\": \"\", \"zerolinecolor\": \"white\"}, \"yaxis\": {\"backgroundcolor\": \"#E5ECF6\", \"gridcolor\": \"white\", \"gridwidth\": 2, \"linecolor\": \"white\", \"showbackground\": true, \"ticks\": \"\", \"zerolinecolor\": \"white\"}, \"zaxis\": {\"backgroundcolor\": \"#E5ECF6\", \"gridcolor\": \"white\", \"gridwidth\": 2, \"linecolor\": \"white\", \"showbackground\": true, \"ticks\": \"\", \"zerolinecolor\": \"white\"}}, \"shapedefaults\": {\"line\": {\"color\": \"#2a3f5f\"}}, \"ternary\": {\"aaxis\": {\"gridcolor\": \"white\", \"linecolor\": \"white\", \"ticks\": \"\"}, \"baxis\": {\"gridcolor\": \"white\", \"linecolor\": \"white\", \"ticks\": \"\"}, \"bgcolor\": \"#E5ECF6\", \"caxis\": {\"gridcolor\": \"white\", \"linecolor\": \"white\", \"ticks\": \"\"}}, \"title\": {\"x\": 0.05}, \"xaxis\": {\"automargin\": true, \"gridcolor\": \"white\", \"linecolor\": \"white\", \"ticks\": \"\", \"title\": {\"standoff\": 15}, \"zerolinecolor\": \"white\", \"zerolinewidth\": 2}, \"yaxis\": {\"automargin\": true, \"gridcolor\": \"white\", \"linecolor\": \"white\", \"ticks\": \"\", \"title\": {\"standoff\": 15}, \"zerolinecolor\": \"white\", \"zerolinewidth\": 2}}}},\n",
       "                        {\"responsive\": true}\n",
       "                    ).then(function(){\n",
       "                            \n",
       "var gd = document.getElementById('1e10034a-c96a-447b-9dfb-079677721cbb');\n",
       "var x = new MutationObserver(function (mutations, observer) {{\n",
       "        var display = window.getComputedStyle(gd).display;\n",
       "        if (!display || display === 'none') {{\n",
       "            console.log([gd, 'removed!']);\n",
       "            Plotly.purge(gd);\n",
       "            observer.disconnect();\n",
       "        }}\n",
       "}});\n",
       "\n",
       "// Listen for the removal of the full notebook cells\n",
       "var notebookContainer = gd.closest('#notebook-container');\n",
       "if (notebookContainer) {{\n",
       "    x.observe(notebookContainer, {childList: true});\n",
       "}}\n",
       "\n",
       "// Listen for the clearing of the current output cell\n",
       "var outputEl = gd.closest('.output');\n",
       "if (outputEl) {{\n",
       "    x.observe(outputEl, {childList: true});\n",
       "}}\n",
       "\n",
       "                        })\n",
       "                };\n",
       "                });\n",
       "            </script>\n",
       "        </div>"
      ]
     },
     "metadata": {},
     "output_type": "display_data"
    }
   ],
   "source": [
    "fig = go.Figure()\n",
    "for d in data:\n",
    "    r = []\n",
    "    for day in range(5, 15):\n",
    "        infected = d[0][d[0][:,2] == day][:, 0]\n",
    "        r.append(np.mean([d[1][i] for i in infected]))\n",
    "    fig.add_trace(go.Scatter(x=list(range(len(r))), y=r, mode='lines', line=dict(color='red'), opacity=0.3, showlegend=False))\n",
    "\n",
    "mean_line = []\n",
    "for day in range(5, 15):\n",
    "    r = []\n",
    "    for d in data:\n",
    "        infected = d[0][d[0][:,2] == day][:, 0]\n",
    "        r.extend([d[1][i] for i in infected])\n",
    "    mean_line.append(np.mean(r))\n",
    "\n",
    "fig.add_trace(go.Scatter(x=list(range(len(mean_line))), y=mean_line, mode='markers+lines', \n",
    "                         line=dict(color='black'), opacity=0.7, name='Average'))\n",
    "\n",
    "fig.write_image('light_quearentine_rt.png', scale=3)\n",
    "fig.show()"
   ]
  },
  {
   "cell_type": "code",
   "execution_count": 25,
   "metadata": {},
   "outputs": [
    {
     "data": {
      "application/vnd.plotly.v1+json": {
       "config": {
        "plotlyServerURL": "https://plot.ly"
       },
       "data": [
        {
         "line": {
          "color": "green"
         },
         "name": "removed",
         "type": "scatter",
         "x": [
          0,
          1,
          2,
          3,
          4,
          5,
          6,
          7,
          8,
          9,
          10,
          11,
          12,
          13,
          14,
          15,
          16,
          17,
          18,
          19,
          20,
          21,
          22,
          23,
          24,
          25,
          26,
          27,
          28,
          29,
          30,
          31,
          32,
          33,
          34,
          35,
          36,
          37,
          38,
          39,
          40,
          41,
          42,
          43,
          44,
          45,
          46,
          47,
          48,
          49,
          50,
          51,
          52,
          53,
          54,
          55,
          56,
          57,
          58,
          59,
          60,
          61,
          62,
          63,
          64,
          65,
          66,
          67,
          68,
          69,
          70,
          71,
          72,
          73,
          74,
          75,
          76,
          77,
          78,
          79,
          80,
          81,
          82,
          83,
          84,
          85,
          86,
          87,
          88,
          89,
          90,
          91,
          92,
          93,
          94,
          95,
          96,
          97,
          98,
          99,
          100,
          101,
          102,
          103,
          104,
          105,
          106,
          107,
          108,
          109,
          110,
          111,
          112,
          113,
          114,
          115,
          116,
          117,
          118,
          119,
          120,
          121,
          122,
          123,
          124,
          125,
          126,
          127,
          128,
          129,
          130,
          131,
          132,
          133,
          134,
          135,
          136,
          137,
          138,
          139,
          140,
          141,
          142,
          143,
          144,
          145,
          146,
          147,
          148,
          149,
          150,
          151,
          152,
          153,
          154,
          155,
          156,
          157,
          158,
          159,
          160,
          161,
          162,
          163,
          164,
          165,
          166,
          167,
          168,
          169,
          170,
          171,
          172,
          173,
          174,
          175,
          176,
          177,
          178,
          179,
          180,
          181,
          182,
          183,
          184,
          185,
          186,
          187,
          188,
          189,
          190,
          191,
          192,
          193,
          194,
          195,
          196,
          197,
          198,
          199,
          200,
          201,
          202,
          203,
          204,
          205,
          206,
          207,
          208,
          209,
          210,
          211,
          212,
          213,
          214,
          215,
          216,
          217,
          218,
          219,
          220,
          221,
          222,
          223,
          224,
          225,
          226,
          227,
          228,
          229,
          230,
          231,
          232,
          233,
          234,
          235,
          236,
          237,
          238,
          239,
          240,
          241,
          242,
          243,
          244,
          245,
          246,
          247,
          248,
          249,
          250,
          251,
          252,
          253,
          254,
          255,
          256,
          257,
          258,
          259,
          260,
          261,
          262,
          263,
          264,
          265,
          266,
          267,
          268,
          269,
          270,
          271,
          272,
          273,
          274,
          275,
          276,
          277,
          278,
          279,
          280,
          281,
          282,
          283,
          284,
          285,
          286,
          287,
          288,
          289,
          290,
          291,
          292,
          293,
          294,
          295,
          296,
          297,
          298
         ],
         "y": [
          0,
          0,
          0,
          0,
          0,
          9.010307792114179e-05,
          0.00016218554025805522,
          0.000252288618179197,
          0.00030635046493188205,
          0.0003784329272687955,
          0.0005766596986953074,
          0.0008289483168745044,
          0.0010271750883010164,
          0.0011893606285590715,
          0.001405608015569812,
          0.0016578966337490088,
          0.002036329561017804,
          0.0025048655662077415,
          0.0029013191090607655,
          0.003441937576587616,
          0.00383839111944064,
          0.004469112664888633,
          0.005316081597347365,
          0.00614502991422187,
          0.006847833922006776,
          0.0077849059323866505,
          0.008866142867440351,
          0.010019462264830966,
          0.011208822893390038,
          0.012668492755712536,
          0.014272327542708858,
          0.016002306638794782,
          0.018254883586823326,
          0.0205254811504361,
          0.022976284869891155,
          0.025210841202335472,
          0.02840049016074389,
          0.03124774742305197,
          0.03452749945938153,
          0.0381316225762272,
          0.041771786924241334,
          0.046078714048871906,
          0.0507100122540186,
          0.055593599077344485,
          0.06110790744611836,
          0.06692856627982412,
          0.07361421466157284,
          0.08055215166150076,
          0.08799466589778707,
          0.09561738628991566,
          0.10424926115476105,
          0.1129892597131118,
          0.1226483096662582,
          0.13304620485835797,
          0.1433539969725366,
          0.1544186549412528,
          0.166114034455417,
          0.17847617674619765,
          0.19085633965256252,
          0.20428169826281264,
          0.21779715995098392,
          0.2317631370287609,
          0.24677430981042311,
          0.2615331939739062,
          0.2760578101347942,
          0.2918979312333309,
          0.30730555755784617,
          0.3229114106537879,
          0.3386614286744035,
          0.3556008073235782,
          0.3718914438117206,
          0.3882902039933684,
          0.40375189216463636,
          0.4193036834138254,
          0.43393642326821885,
          0.4489115548187126,
          0.4639047069847906,
          0.47841130253009445,
          0.49120593959489656,
          0.5046493188207309,
          0.5173178115764434,
          0.5302926547970879,
          0.5435017660203273,
          0.5544402796799539,
          0.5652166077993225,
          0.5758848122251856,
          0.5853276147913212,
          0.5949145822821308,
          0.6037266633028184,
          0.612448641245585,
          0.6202515677935558,
          0.6269191955597203,
          0.6342716067180855,
          0.6412636055647661,
          0.6475528004036618,
          0.6530851293880199,
          0.658617458372378,
          0.664456137821668,
          0.6690513947956462,
          0.6734844662293664,
          0.677394939811144,
          0.6816658257046061,
          0.6852339075902832,
          0.6889461544006343,
          0.6923340301304692,
          0.6949109781590139,
          0.6975780292654797,
          0.7007856988394724,
          0.703128378865422,
          0.7053809558134506,
          0.7076515533770633,
          0.7096518417069128,
          0.7114178620341671,
          0.7129315937432422,
          0.7144273048367332,
          0.715598644849708,
          0.7172205002522887,
          0.7187702731925323,
          0.7199956750522598,
          0.7213111799899085,
          0.7224104375405463,
          0.723329488935342,
          0.7242124990989692,
          0.7252396741872702,
          0.7258884163483025,
          0.726717364665177,
          0.727348086210625,
          0.7279968283716571,
          0.7286635911482736,
          0.7293483745404743,
          0.7299250342391697,
          0.7303214877820227,
          0.7308801268651337,
          0.7314748071794133,
          0.7320514668781085,
          0.7323578173430404,
          0.7327362502703092,
          0.733114683197578,
          0.7334030130469257,
          0.7337634253586103,
          0.7340337345923736,
          0.734376126288474,
          0.7347545592157428,
          0.7350609096806747,
          0.7354213219923592,
          0.73563756937937,
          0.7359439198443019,
          0.7361061053845599,
          0.7363583940027392,
          0.736664744467671,
          0.7369530743170186,
          0.7370792186261083,
          0.7372233835507821,
          0.7374756721689613,
          0.7378360844806459,
          0.738088373098825,
          0.7382865998702516,
          0.7385028472572623,
          0.7386650327975204,
          0.7388091977221942,
          0.7389713832624523,
          0.7391696100338787,
          0.7393498161897211,
          0.7396021048079002,
          0.7397462697325741,
          0.7399985583507532,
          0.7402868882001009,
          0.7405211562026959,
          0.7407193829741224,
          0.740845527283212,
          0.7409176097455489,
          0.7410617746702227,
          0.7411879189793124,
          0.7413681251351546,
          0.7416023931377496,
          0.741710516831255,
          0.7418907229870972,
          0.7420168672961869,
          0.7421430116052764,
          0.7424133208390399,
          0.7425574857637137,
          0.742737691919556,
          0.7428818568442298,
          0.7430981042312406,
          0.7432602897714986,
          0.7434945577740936,
          0.7435666402364305,
          0.7438189288546097,
          0.7440531968572046,
          0.7442694442442154,
          0.7443415267065523,
          0.7444496504000576,
          0.7446658977870684,
          0.7448280833273264,
          0.7450082894831688,
          0.7450983925610899,
          0.7452785987169321,
          0.745422763641606,
          0.7455308873351114,
          0.7456750522597851,
          0.7457831759532906,
          0.745981402724717,
          0.7460895264182225,
          0.7462697325740647,
          0.7463958768831543,
          0.7465760830389966,
          0.7467382685792546,
          0.7468644128883443,
          0.7469725365818496,
          0.7471707633532761,
          0.7472608664311973,
          0.7474230519714553,
          0.747549196280545,
          0.7477294024363872,
          0.7478555467454768,
          0.7480537735169034,
          0.7481258559792403,
          0.748342103366251,
          0.748504288906509,
          0.7486844950623514,
          0.7487745981402725,
          0.7488647012181936,
          0.749044907374036,
          0.7491890722987097,
          0.7493152166077993,
          0.7495675052259785,
          0.7497477113818208,
          0.7498558350753262,
          0.7501081236935053,
          0.7502703092337635,
          0.7504144741584372,
          0.7505946803142796,
          0.7506847833922007,
          0.7508649895480429,
          0.7510451957038853,
          0.7511893606285591,
          0.7514236286311541,
          0.7515677935558278,
          0.751729979096086,
          0.7519822677142651,
          0.7520903914077705,
          0.7521985151012759,
          0.7523607006415339,
          0.752450803719455,
          0.7526310098752973,
          0.7527931954155554,
          0.7529553809558135,
          0.7530454840337346,
          0.7532617314207454,
          0.7533338138830823,
          0.753477978807756,
          0.7536041231168457,
          0.7539104735817775,
          0.7540366178908672,
          0.7541627621999567,
          0.7543069271246305,
          0.7543970302025517,
          0.7544510920493044,
          0.754577236358394,
          0.7548295249765732,
          0.7548835868233259,
          0.7551538960570893,
          0.7553521228285158,
          0.755604411446695,
          0.7558026382181215,
          0.7559107619116269,
          0.7560188856051323,
          0.7561270092986376,
          0.7563252360700642,
          0.7565595040726592,
          0.7566676277661645,
          0.7567757514596699,
          0.7569739782310964,
          0.7571541843869387,
          0.7572082462336913,
          0.7573163699271968,
          0.7574785554674548,
          0.7576227203921286,
          0.757730844085634,
          0.757893029625892,
          0.7580912563973186,
          0.7582354213219924,
          0.7583255243999135,
          0.7584336480934188,
          0.7585958336336769,
          0.7587760397895192,
          0.7588841634830246,
          0.7590283284076984,
          0.7591905139479564,
          0.7593707201037987,
          0.7594788437973041,
          0.7596410293375622,
          0.7598212354934044,
          0.7598752973401571,
          0.7600555034959994,
          0.7601636271895048,
          0.760343833345347,
          0.7605060188856051,
          0.7607222662726159
         ]
        },
        {
         "line": {
          "color": "blue"
         },
         "name": "susceptible",
         "type": "scatter",
         "x": [
          0,
          1,
          2,
          3,
          4,
          5,
          6,
          7,
          8,
          9,
          10,
          11,
          12,
          13,
          14,
          15,
          16,
          17,
          18,
          19,
          20,
          21,
          22,
          23,
          24,
          25,
          26,
          27,
          28,
          29,
          30,
          31,
          32,
          33,
          34,
          35,
          36,
          37,
          38,
          39,
          40,
          41,
          42,
          43,
          44,
          45,
          46,
          47,
          48,
          49,
          50,
          51,
          52,
          53,
          54,
          55,
          56,
          57,
          58,
          59,
          60,
          61,
          62,
          63,
          64,
          65,
          66,
          67,
          68,
          69,
          70,
          71,
          72,
          73,
          74,
          75,
          76,
          77,
          78,
          79,
          80,
          81,
          82,
          83,
          84,
          85,
          86,
          87,
          88,
          89,
          90,
          91,
          92,
          93,
          94,
          95,
          96,
          97,
          98,
          99,
          100,
          101,
          102,
          103,
          104,
          105,
          106,
          107,
          108,
          109,
          110,
          111,
          112,
          113,
          114,
          115,
          116,
          117,
          118,
          119,
          120,
          121,
          122,
          123,
          124,
          125,
          126,
          127,
          128,
          129,
          130,
          131,
          132,
          133,
          134,
          135,
          136,
          137,
          138,
          139,
          140,
          141,
          142,
          143,
          144,
          145,
          146,
          147,
          148,
          149,
          150,
          151,
          152,
          153,
          154,
          155,
          156,
          157,
          158,
          159,
          160,
          161,
          162,
          163,
          164,
          165,
          166,
          167,
          168,
          169,
          170,
          171,
          172,
          173,
          174,
          175,
          176,
          177,
          178,
          179,
          180,
          181,
          182,
          183,
          184,
          185,
          186,
          187,
          188,
          189,
          190,
          191,
          192,
          193,
          194,
          195,
          196,
          197,
          198,
          199,
          200,
          201,
          202,
          203,
          204,
          205,
          206,
          207,
          208,
          209,
          210,
          211,
          212,
          213,
          214,
          215,
          216,
          217,
          218,
          219,
          220,
          221,
          222,
          223,
          224,
          225,
          226,
          227,
          228,
          229,
          230,
          231,
          232,
          233,
          234,
          235,
          236,
          237,
          238,
          239,
          240,
          241,
          242,
          243,
          244,
          245,
          246,
          247,
          248,
          249,
          250,
          251,
          252,
          253,
          254,
          255,
          256,
          257,
          258,
          259,
          260,
          261,
          262,
          263,
          264,
          265,
          266,
          267,
          268,
          269,
          270,
          271,
          272,
          273,
          274,
          275,
          276,
          277,
          278,
          279,
          280,
          281,
          282,
          283,
          284,
          285,
          286,
          287,
          288,
          289,
          290,
          291,
          292,
          293,
          294,
          295,
          296,
          297,
          298
         ],
         "y": [
          0.9989187630649463,
          0.9988286599870252,
          0.9986664744467671,
          0.9984862682909248,
          0.9983240827506668,
          0.9979636704389822,
          0.9975311756649607,
          0.9971527427376919,
          0.9966301448857493,
          0.9962517119584805,
          0.9954047430260218,
          0.9947379802494053,
          0.9940531968572046,
          0.993134145462409,
          0.9920348879117711,
          0.9908995891299647,
          0.9897642903481583,
          0.9884668060260938,
          0.9869891155481871,
          0.9853852807611908,
          0.9836733222806892,
          0.9819433431846032,
          0.979636704389822,
          0.9770597563612773,
          0.974590932026238,
          0.9718517984574353,
          0.9687522525769481,
          0.9650580263821812,
          0.9611475528004036,
          0.9567325019822677,
          0.9518849563901103,
          0.9474158437252217,
          0.9425682981330642,
          0.9369638866863692,
          0.9305845887695524,
          0.924079146543646,
          0.9170691270813811,
          0.9096266128450948,
          0.901355150291934,
          0.8926151517335832,
          0.883208390398616,
          0.8732249693649535,
          0.862610826785843,
          0.8516002306638795,
          0.8401391191523102,
          0.826857925466734,
          0.8132703813162258,
          0.7997008577813018,
          0.7854105096230087,
          0.7706155842283572,
          0.7559828443739638,
          0.7406653211273697,
          0.7242845815613062,
          0.707705615223816,
          0.6907301953434729,
          0.6746738268579254,
          0.6578966337490089,
          0.6414077704894399,
          0.6242521444532545,
          0.6074208894975852,
          0.5918690982483962,
          0.5760650183810279,
          0.5594860520435379,
          0.5436819721761695,
          0.5287609024724285,
          0.5146147192388092,
          0.5010632163194695,
          0.4867188063144237,
          0.47381604555611617,
          0.46017443955885534,
          0.4470013695667844,
          0.4357384848266417,
          0.4253405896345419,
          0.41510487998270024,
          0.4044006343256686,
          0.3950839760686225,
          0.38619981258559793,
          0.3782527211129532,
          0.3703957327182297,
          0.36352987818063864,
          0.35679016795213725,
          0.350302746341815,
          0.34439198443018815,
          0.3391479852951777,
          0.3340661717004253,
          0.32920060549268365,
          0.3244611835940316,
          0.3204065450875802,
          0.31624378288762345,
          0.3127838246954516,
          0.30964823758379584,
          0.3065126504721401,
          0.303503207669574,
          0.30094428025661357,
          0.29856555899949544,
          0.2960246522021192,
          0.2936279103294169,
          0.29171772507748867,
          0.2898796222878974,
          0.28798745765155337,
          0.2865097671736467,
          0.2851582210048295,
          0.2836264686801701,
          0.28204065450875804,
          0.28092337634253584,
          0.279589850789303,
          0.2784725726230808,
          0.2774814387659482,
          0.27638218121531033,
          0.27558927412960427,
          0.27454407842571904,
          0.2738953362646868,
          0.2731384704101492,
          0.27254379009586965,
          0.27194910978159015,
          0.271228285158221,
          0.27063360484394144,
          0.27005694514524614,
          0.26966049160239314,
          0.2692279968283717,
          0.2686693577452606,
          0.26800259496864415,
          0.2674799971167015,
          0.2671736466517696,
          0.26684927557125354,
          0.2665429251063216,
          0.266254595256974,
          0.26593022417645784,
          0.2656418943271102,
          0.2653175232465941,
          0.2650111727816622,
          0.2647408635478988,
          0.2644885749297196,
          0.2642362863115404,
          0.26407410077128235,
          0.26378577092193467,
          0.26351546168817125,
          0.2632631730699921,
          0.26310098752973404,
          0.26281265768038636,
          0.26254234844662294,
          0.26236214229078064,
          0.2621098536726015,
          0.2619296475167592,
          0.2617314207453327,
          0.2615151733583219,
          0.2613169465868954,
          0.2610646579687162,
          0.2608664311972897,
          0.26072226627261585,
          0.2605600807323578,
          0.2602897714985944,
          0.2601095653427521,
          0.25982123549340447,
          0.25964102933756217,
          0.2594788437973041,
          0.2592806170258776,
          0.2591004108700353,
          0.25888416348302457,
          0.2586498954804296,
          0.2584696893245873,
          0.2582534419375766,
          0.25812729762848696,
          0.2579470914726447,
          0.2578029265479709,
          0.25764074100771284,
          0.25753261731420746,
          0.25735241115836516,
          0.2572082462336913,
          0.2569919988466806,
          0.2568478339220068,
          0.2566676277661645,
          0.25645138037915377,
          0.25630721545447993,
          0.25612700929863763,
          0.25594680314279533,
          0.25580263821812155,
          0.2556764939090319,
          0.25549628775318967,
          0.2553881640596843,
          0.2552620197505947,
          0.2550998342103366,
          0.25493764867007856,
          0.2547934837454047,
          0.25466733943631514,
          0.2545231745116413,
          0.2544150508181359,
          0.25428890650904634,
          0.2541447415843725,
          0.2540005766596987,
          0.2538203705038564,
          0.2536762055791826,
          0.2535680818856772,
          0.2533698551142507,
          0.25322569018957686,
          0.2530995458804873,
          0.2528832984934765,
          0.2527751747999712,
          0.25263100987529735,
          0.25245080371945505,
          0.252288618179197,
          0.2520903914077705,
          0.25194622648309667,
          0.2517840409428386,
          0.25169393786491745,
          0.25154977294024367,
          0.25138758739998557,
          0.251261443090896,
          0.251027175088301,
          0.25090103077921144,
          0.25079290708570606,
          0.25061270092986376,
          0.2504505153896057,
          0.2503063504649319,
          0.25016218554025804,
          0.25005406184675266,
          0.24990989692207885,
          0.24972969076623658,
          0.24958552584156274,
          0.2494233403013047,
          0.2492431341454624,
          0.24908094860520436,
          0.24893678368053052,
          0.24875657752468824,
          0.24857637136884597,
          0.24845022705975636,
          0.2482700209039141,
          0.24807179413248756,
          0.24794564982339798,
          0.2478375261298926,
          0.24769336120521876,
          0.24756721689612918,
          0.24742305197145534,
          0.2472608664311973,
          0.24711670150652346,
          0.24695451596626541,
          0.24679233042600734,
          0.24666618611691776,
          0.24648597996107546,
          0.24628775318964896,
          0.2461255676493909,
          0.2459994233403013,
          0.24585525841562747,
          0.2456750522597852,
          0.24545880487277447,
          0.24531463994810063,
          0.24520651625459525,
          0.24502631009875298,
          0.2448641245584949,
          0.24468391840265263,
          0.24450371224681036,
          0.24437756793772075,
          0.2442334030130469,
          0.24410725870395733,
          0.24399913501045195,
          0.24381892885460968,
          0.2436567433143516,
          0.24347653715850934,
          0.2433864340805882,
          0.24324226915591438,
          0.24309810423124054,
          0.24295393930656672,
          0.24279175376630865,
          0.24264758884163484,
          0.2424493620702083,
          0.24232321776111873,
          0.24216103222086066,
          0.2419267642182657,
          0.2418006199091761,
          0.2416744756000865,
          0.24147624882865998,
          0.2413501045195704,
          0.2411698983637281,
          0.24100771282347005,
          0.24086354789879622,
          0.2407193829741224,
          0.24057521804944856,
          0.2404670943559432,
          0.24032292943126937,
          0.24012470265984287,
          0.2399625171195848,
          0.23983637281049522,
          0.2397102285014056,
          0.23960210480790023,
          0.23945793988322642,
          0.23931377495855258,
          0.23915158941829454,
          0.23897138326245224,
          0.23879117710660996,
          0.23866503279752035,
          0.23853888848843077,
          0.23839472356375693,
          0.2382325380234989,
          0.23808837309882505,
          0.23796222878973547,
          0.23783608448064586,
          0.2376558783248036,
          0.23751171340012975,
          0.2373495278598717
         ]
        },
        {
         "line": {
          "color": "orange"
         },
         "name": "exposed",
         "type": "scatter",
         "x": [
          0,
          1,
          2,
          3,
          4,
          5,
          6,
          7,
          8,
          9,
          10,
          11,
          12,
          13,
          14,
          15,
          16,
          17,
          18,
          19,
          20,
          21,
          22,
          23,
          24,
          25,
          26,
          27,
          28,
          29,
          30,
          31,
          32,
          33,
          34,
          35,
          36,
          37,
          38,
          39,
          40,
          41,
          42,
          43,
          44,
          45,
          46,
          47,
          48,
          49,
          50,
          51,
          52,
          53,
          54,
          55,
          56,
          57,
          58,
          59,
          60,
          61,
          62,
          63,
          64,
          65,
          66,
          67,
          68,
          69,
          70,
          71,
          72,
          73,
          74,
          75,
          76,
          77,
          78,
          79,
          80,
          81,
          82,
          83,
          84,
          85,
          86,
          87,
          88,
          89,
          90,
          91,
          92,
          93,
          94,
          95,
          96,
          97,
          98,
          99,
          100,
          101,
          102,
          103,
          104,
          105,
          106,
          107,
          108,
          109,
          110,
          111,
          112,
          113,
          114,
          115,
          116,
          117,
          118,
          119,
          120,
          121,
          122,
          123,
          124,
          125,
          126,
          127,
          128,
          129,
          130,
          131,
          132,
          133,
          134,
          135,
          136,
          137,
          138,
          139,
          140,
          141,
          142,
          143,
          144,
          145,
          146,
          147,
          148,
          149,
          150,
          151,
          152,
          153,
          154,
          155,
          156,
          157,
          158,
          159,
          160,
          161,
          162,
          163,
          164,
          165,
          166,
          167,
          168,
          169,
          170,
          171,
          172,
          173,
          174,
          175,
          176,
          177,
          178,
          179,
          180,
          181,
          182,
          183,
          184,
          185,
          186,
          187,
          188,
          189,
          190,
          191,
          192,
          193,
          194,
          195,
          196,
          197,
          198,
          199,
          200,
          201,
          202,
          203,
          204,
          205,
          206,
          207,
          208,
          209,
          210,
          211,
          212,
          213,
          214,
          215,
          216,
          217,
          218,
          219,
          220,
          221,
          222,
          223,
          224,
          225,
          226,
          227,
          228,
          229,
          230,
          231,
          232,
          233,
          234,
          235,
          236,
          237,
          238,
          239,
          240,
          241,
          242,
          243,
          244,
          245,
          246,
          247,
          248,
          249,
          250,
          251,
          252,
          253,
          254,
          255,
          256,
          257,
          258,
          259,
          260,
          261,
          262,
          263,
          264,
          265,
          266,
          267,
          268,
          269,
          270,
          271,
          272,
          273,
          274,
          275,
          276,
          277,
          278,
          279,
          280,
          281,
          282,
          283,
          284,
          285,
          286,
          287,
          288,
          289,
          290,
          291,
          292,
          293,
          294,
          295,
          296,
          297,
          298
         ],
         "y": [
          0.0010812369350537015,
          0.0010271750883010164,
          0.001063216319469473,
          0.0010812369350537015,
          0.0010271750883010164,
          0.0011893606285590715,
          0.0014596698623224969,
          0.001405608015569812,
          0.001567793555827867,
          0.001711958480501694,
          0.0022345563324443164,
          0.0025769480285446553,
          0.0028652778778923086,
          0.003171628342824191,
          0.0037122468103510417,
          0.004072659122035608,
          0.004397030202551719,
          0.004865566207741656,
          0.005622432062279248,
          0.006163050529806098,
          0.006649607150580264,
          0.007190225618107115,
          0.008091256397318532,
          0.008974266560945722,
          0.009803214877820226,
          0.010650183810278959,
          0.011803503207669574,
          0.013353276147913212,
          0.014434513082966914,
          0.016056368485547465,
          0.017696244503712245,
          0.019101852519282057,
          0.020237151301088444,
          0.021750883010163626,
          0.024003459958192173,
          0.025715418438693866,
          0.02766164492179053,
          0.029932242485403302,
          0.032328984358105675,
          0.03409500468536005,
          0.0370503856411735,
          0.03973545736322353,
          0.04195199308008361,
          0.04461904418654941,
          0.046907662365746415,
          0.050655950407265914,
          0.05462048583579615,
          0.056638794781229726,
          0.059323866503279754,
          0.06231528869026166,
          0.06509046349023283,
          0.06775751459669863,
          0.07010019462264831,
          0.0720644417213292,
          0.07420889497585237,
          0.07507388452389534,
          0.07660563684855475,
          0.07597491530310675,
          0.07754270885893462,
          0.07768687378360845,
          0.07691198731348663,
          0.07629928638362286,
          0.07702011100699199,
          0.07588481222518562,
          0.07424493620702083,
          0.07210048295249766,
          0.06896489584084192,
          0.0673610610538456,
          0.06588337057593888,
          0.06521660779932242,
          0.06388308224608953,
          0.06002667051106466,
          0.0578281554097888,
          0.05534131045916529,
          0.05362935197866359,
          0.05144885749297196,
          0.04838535284365314,
          0.04568226050601889,
          0.043411662942406115,
          0.03966337490088662,
          0.037122468103510414,
          0.03461760253730267,
          0.03268939666979024,
          0.02996828371657176,
          0.028238304620485835,
          0.026616449217905284,
          0.025300944280256612,
          0.023084408563396525,
          0.021282347004973688,
          0.020002883298493476,
          0.01839904851149715,
          0.017732285734880702,
          0.016615007568658545,
          0.015497729402436388,
          0.014290348158293087,
          0.013371296763497442,
          0.012758595833633677,
          0.01162329705182729,
          0.010848410581705471,
          0.010361853960931306,
          0.00944280256613566,
          0.0084516687090031,
          0.00767678223888128,
          0.0071722050025228865,
          0.006415339147985295,
          0.006487421610322209,
          0.006343256685648382,
          0.0055863908311107905,
          0.005117854825920853,
          0.004775463129820514,
          0.004541195127225546,
          0.004288906509046349,
          0.004036617890867152,
          0.0036581849635983566,
          0.0034058963454191597,
          0.0032437108051611044,
          0.003225690189576876,
          0.0031536077272399624,
          0.00252288618179197,
          0.002126432638938946,
          0.002162473870107403,
          0.002378721257118143,
          0.0024147624882866,
          0.0022165357168600877,
          0.002108412023354718,
          0.0018381027895912924,
          0.0016398760181647804,
          0.001513731709075182,
          0.0013515461688171269,
          0.001369566784401355,
          0.0012794637064802133,
          0.0012794637064802133,
          0.00131550493764867,
          0.0013335255532328984,
          0.0010992575506379298,
          0.0012073812441433,
          0.0011172781662221582,
          0.0010451957038852446,
          0.001009154472716788,
          0.0009911338571325598,
          0.0010812369350537015,
          0.0010451957038852446,
          0.001063216319469473,
          0.0010812369350537015,
          0.0010812369350537015,
          0.0010271750883010164,
          0.001009154472716788,
          0.0009911338571325598,
          0.000955092625964103,
          0.0008109277012902761,
          0.0008109277012902761,
          0.0008289483168745044,
          0.0008649895480429612,
          0.0009731132415483313,
          0.0009190513947956462,
          0.0008289483168745044,
          0.0008289483168745044,
          0.0008109277012902761,
          0.0008109277012902761,
          0.0008649895480429612,
          0.0009370720103798745,
          0.0009370720103798745,
          0.0009010307792114179,
          0.0009190513947956462,
          0.000702804007784906,
          0.0007388452389533626,
          0.0006847833922006775,
          0.0007388452389533626,
          0.0007929070857060478,
          0.0009010307792114179,
          0.0008830101636271895,
          0.0008289483168745044,
          0.0008109277012902761,
          0.0007748864701218193,
          0.000702804007784906,
          0.0007208246233691343,
          0.000702804007784906,
          0.0007208246233691343,
          0.0007388452389533626,
          0.0006127009298637641,
          0.0006487421610322209,
          0.0005586390831110791,
          0.0005406184675268508,
          0.0005766596986953074,
          0.0006307215454479925,
          0.0006847833922006775,
          0.0006307215454479925,
          0.0006307215454479925,
          0.0006307215454479925,
          0.0006667627766164492,
          0.0007208246233691343,
          0.0007208246233691343,
          0.0006487421610322209,
          0.0006307215454479925,
          0.0006127009298637641,
          0.0006307215454479925,
          0.0006667627766164492,
          0.0006127009298637641,
          0.0006487421610322209,
          0.0006667627766164492,
          0.0006307215454479925,
          0.0006667627766164492,
          0.000756865854537591,
          0.0007929070857060478,
          0.0007388452389533626,
          0.000702804007784906,
          0.000702804007784906,
          0.0006667627766164492,
          0.000756865854537591,
          0.0007748864701218193,
          0.000756865854537591,
          0.000702804007784906,
          0.0006847833922006775,
          0.0006847833922006775,
          0.0006487421610322209,
          0.0005766596986953074,
          0.0006307215454479925,
          0.0007208246233691343,
          0.000702804007784906,
          0.000756865854537591,
          0.0007929070857060478,
          0.0007748864701218193,
          0.000702804007784906,
          0.000702804007784906,
          0.0007748864701218193,
          0.0005586390831110791,
          0.0006127009298637641,
          0.0007208246233691343,
          0.0006847833922006775,
          0.0006487421610322209,
          0.0006487421610322209,
          0.0005766596986953074,
          0.0005766596986953074,
          0.0006127009298637641,
          0.0006487421610322209,
          0.0006307215454479925,
          0.0006667627766164492,
          0.0006487421610322209,
          0.0006667627766164492,
          0.0006847833922006775,
          0.0006127009298637641,
          0.0006487421610322209,
          0.0006307215454479925,
          0.0006667627766164492,
          0.0007388452389533626,
          0.0007388452389533626,
          0.000756865854537591,
          0.0007388452389533626,
          0.000756865854537591,
          0.0007929070857060478,
          0.0008469689324587328,
          0.0007748864701218193,
          0.0007208246233691343,
          0.0007208246233691343,
          0.0006847833922006775,
          0.0006667627766164492,
          0.0006127009298637641,
          0.0006487421610322209,
          0.0005946803142795358,
          0.0006307215454479925,
          0.0005406184675268508,
          0.0005406184675268508,
          0.0006307215454479925,
          0.0006127009298637641,
          0.0006487421610322209,
          0.0006127009298637641,
          0.0006127009298637641,
          0.0007748864701218193,
          0.0008289483168745044,
          0.0008109277012902761,
          0.0008289483168745044,
          0.000756865854537591,
          0.0008109277012902761,
          0.0007748864701218193,
          0.0007388452389533626,
          0.000702804007784906,
          0.000702804007784906,
          0.000702804007784906,
          0.0006307215454479925,
          0.0006847833922006775,
          0.0007208246233691343,
          0.0006487421610322209,
          0.0005946803142795358,
          0.0006667627766164492,
          0.0006487421610322209,
          0.000756865854537591,
          0.000756865854537591,
          0.000756865854537591,
          0.0007748864701218193,
          0.0007748864701218193,
          0.0007388452389533626,
          0.0007748864701218193,
          0.0007388452389533626,
          0.0007208246233691343,
          0.0007208246233691343,
          0.0006487421610322209,
          0.0006127009298637641,
          0.0006667627766164492,
          0.0006847833922006775
         ]
        },
        {
         "line": {
          "color": "red"
         },
         "name": "infected",
         "type": "scatter",
         "x": [
          0,
          1,
          2,
          3,
          4,
          5,
          6,
          7,
          8,
          9,
          10,
          11,
          12,
          13,
          14,
          15,
          16,
          17,
          18,
          19,
          20,
          21,
          22,
          23,
          24,
          25,
          26,
          27,
          28,
          29,
          30,
          31,
          32,
          33,
          34,
          35,
          36,
          37,
          38,
          39,
          40,
          41,
          42,
          43,
          44,
          45,
          46,
          47,
          48,
          49,
          50,
          51,
          52,
          53,
          54,
          55,
          56,
          57,
          58,
          59,
          60,
          61,
          62,
          63,
          64,
          65,
          66,
          67,
          68,
          69,
          70,
          71,
          72,
          73,
          74,
          75,
          76,
          77,
          78,
          79,
          80,
          81,
          82,
          83,
          84,
          85,
          86,
          87,
          88,
          89,
          90,
          91,
          92,
          93,
          94,
          95,
          96,
          97,
          98,
          99,
          100,
          101,
          102,
          103,
          104,
          105,
          106,
          107,
          108,
          109,
          110,
          111,
          112,
          113,
          114,
          115,
          116,
          117,
          118,
          119,
          120,
          121,
          122,
          123,
          124,
          125,
          126,
          127,
          128,
          129,
          130,
          131,
          132,
          133,
          134,
          135,
          136,
          137,
          138,
          139,
          140,
          141,
          142,
          143,
          144,
          145,
          146,
          147,
          148,
          149,
          150,
          151,
          152,
          153,
          154,
          155,
          156,
          157,
          158,
          159,
          160,
          161,
          162,
          163,
          164,
          165,
          166,
          167,
          168,
          169,
          170,
          171,
          172,
          173,
          174,
          175,
          176,
          177,
          178,
          179,
          180,
          181,
          182,
          183,
          184,
          185,
          186,
          187,
          188,
          189,
          190,
          191,
          192,
          193,
          194,
          195,
          196,
          197,
          198,
          199,
          200,
          201,
          202,
          203,
          204,
          205,
          206,
          207,
          208,
          209,
          210,
          211,
          212,
          213,
          214,
          215,
          216,
          217,
          218,
          219,
          220,
          221,
          222,
          223,
          224,
          225,
          226,
          227,
          228,
          229,
          230,
          231,
          232,
          233,
          234,
          235,
          236,
          237,
          238,
          239,
          240,
          241,
          242,
          243,
          244,
          245,
          246,
          247,
          248,
          249,
          250,
          251,
          252,
          253,
          254,
          255,
          256,
          257,
          258,
          259,
          260,
          261,
          262,
          263,
          264,
          265,
          266,
          267,
          268,
          269,
          270,
          271,
          272,
          273,
          274,
          275,
          276,
          277,
          278,
          279,
          280,
          281,
          282,
          283,
          284,
          285,
          286,
          287,
          288,
          289,
          290,
          291,
          292,
          293,
          294,
          295,
          296,
          297,
          298
         ],
         "y": [
          0,
          0.00014416492467382686,
          0.0002703092337634254,
          0.0004324947740214806,
          0.0006487421610322209,
          0.000756865854537591,
          0.0008289483168745044,
          0.0011713400129748433,
          0.0014776904779067253,
          0.0016398760181647804,
          0.001766020327254379,
          0.0018381027895912924,
          0.002036329561017804,
          0.0024868449506235133,
          0.002775174799971167,
          0.003279752036329561,
          0.003694226194766813,
          0.004018597275282924,
          0.004324947740214806,
          0.0048295249765732,
          0.005568370215526562,
          0.006127009298637642,
          0.006703668997332949,
          0.00756865854537591,
          0.008523751171340013,
          0.00944280256613566,
          0.010289771498594393,
          0.011262884740142724,
          0.012794637064802133,
          0.013983997693361205,
          0.015497729402436388,
          0.016813234340085057,
          0.018254883586823326,
          0.020038924529661932,
          0.021642759316658256,
          0.02403950118936063,
          0.02596770705687306,
          0.028112160311396236,
          0.030635046493188208,
          0.03389677791393354,
          0.036563829020399334,
          0.03944712751387587,
          0.043033230015137314,
          0.04642110574497225,
          0.04995314639948101,
          0.05346716643840554,
          0.056314423700713614,
          0.06056728897859151,
          0.06454984502270597,
          0.06851438045123621,
          0.07159590571613926,
          0.07538023498882722,
          0.07945289411086283,
          0.08366971815757226,
          0.08779643912636055,
          0.0917069127081381,
          0.0954552007496576,
          0.1000864989548043,
          0.10284365313919124,
          0.1055467454768255,
          0.10799754919628055,
          0.11016002306638795,
          0.11059251784040942,
          0.11234051755207958,
          0.11421466157283933,
          0.11421466157283933,
          0.11516975419880343,
          0.11545808404815108,
          0.11372810495206516,
          0.11075470338066748,
          0.1087363944352339,
          0.10700641533914798,
          0.10408707561450299,
          0.10131190081453183,
          0.09873495278598717,
          0.09523895336264687,
          0.09195920132631731,
          0.08837309882505587,
          0.08576010956534275,
          0.08314712030562964,
          0.07966914149787356,
          0.07597491530310675,
          0.0704065450875802,
          0.0674872053629352,
          0.06350464931882073,
          0.059287825272111294,
          0.05600807323578173,
          0.05303467166438405,
          0.05025949686441289,
          0.04652922943847762,
          0.04388019894759605,
          0.04124918907229871,
          0.03840193180999063,
          0.035482592085345634,
          0.033103870828227494,
          0.031121603113962372,
          0.028923088012686515,
          0.02665249044907374,
          0.024958552584156274,
          0.02312044979456498,
          0.022093274706263967,
          0.020543501766020326,
          0.019552367908887768,
          0.018146759893317956,
          0.017083543573848482,
          0.016056368485547465,
          0.014848987241404167,
          0.013533482303755496,
          0.013010884451812874,
          0.012037771210264543,
          0.01119080227780581,
          0.010163627189504794,
          0.009568946875225257,
          0.009028328407698407,
          0.008505730555755785,
          0.008217400706408131,
          0.007334390542780941,
          0.006559504072659122,
          0.006433359763569523,
          0.006108988683053413,
          0.005568370215526562,
          0.0051358754415050814,
          0.004811504360988972,
          0.004469112664888633,
          0.004288906509046349,
          0.00405463850645138,
          0.00394651481294601,
          0.00373026742593527,
          0.0035140200389245295,
          0.003225690189576876,
          0.003081525264903049,
          0.0029914221869819075,
          0.0026490304908815686,
          0.0023426800259496866,
          0.0022165357168600877,
          0.0020903914077704893,
          0.002126432638938946,
          0.002072370792186261,
          0.002054350176602033,
          0.002054350176602033,
          0.002036329561017804,
          0.0018921646363439775,
          0.0018200821740070642,
          0.0017299790960859224,
          0.0015317523246594104,
          0.0016218554025805522,
          0.001513731709075182,
          0.0016038347869963237,
          0.001567793555827867,
          0.0015858141714120955,
          0.0014776904779067253,
          0.0016218554025805522,
          0.0016218554025805522,
          0.0015317523246594104,
          0.0014236286311540402,
          0.0014236286311540402,
          0.0014236286311540402,
          0.0014236286311540402,
          0.0014776904779067253,
          0.0014596698623224969,
          0.0014416492467382686,
          0.0014776904779067253,
          0.0014596698623224969,
          0.001369566784401355,
          0.0015497729402436386,
          0.0014236286311540402,
          0.0012434224753117566,
          0.0011172781662221582,
          0.001009154472716788,
          0.0009731132415483313,
          0.001063216319469473,
          0.0011713400129748433,
          0.0012794637064802133,
          0.001261443090895985,
          0.0013335255532328984,
          0.0013515461688171269,
          0.0013515461688171269,
          0.001261443090895985,
          0.00131550493764867,
          0.0012974843220644417,
          0.0012073812441433,
          0.001261443090895985,
          0.0012794637064802133,
          0.0012073812441433,
          0.0011352987818063864,
          0.0010271750883010164,
          0.0011172781662221582,
          0.0010451957038852446,
          0.0009370720103798745,
          0.0008469689324587328,
          0.0009190513947956462,
          0.0009731132415483313,
          0.0009370720103798745,
          0.0010271750883010164,
          0.001009154472716788,
          0.0010451957038852446,
          0.0010812369350537015,
          0.001063216319469473,
          0.001063216319469473,
          0.0010451957038852446,
          0.0010992575506379298,
          0.0010451957038852446,
          0.0009731132415483313,
          0.0009010307792114179,
          0.0009370720103798745,
          0.000955092625964103,
          0.0009911338571325598,
          0.001063216319469473,
          0.0010992575506379298,
          0.0010271750883010164,
          0.0010271750883010164,
          0.0010992575506379298,
          0.0011713400129748433,
          0.0010992575506379298,
          0.0011352987818063864,
          0.0011533193973906149,
          0.0011713400129748433,
          0.0009911338571325598,
          0.0009911338571325598,
          0.0009190513947956462,
          0.0009731132415483313,
          0.0010451957038852446,
          0.0010992575506379298,
          0.0011533193973906149,
          0.0011893606285590715,
          0.001261443090895985,
          0.0011893606285590715,
          0.0011352987818063864,
          0.001063216319469473,
          0.001063216319469473,
          0.001063216319469473,
          0.0010812369350537015,
          0.0011172781662221582,
          0.0010992575506379298,
          0.001009154472716788,
          0.001063216319469473,
          0.000955092625964103,
          0.0009370720103798745,
          0.000955092625964103,
          0.0009010307792114179,
          0.0010271750883010164,
          0.001009154472716788,
          0.0010271750883010164,
          0.0010812369350537015,
          0.0010271750883010164,
          0.001009154472716788,
          0.000955092625964103,
          0.0010812369350537015,
          0.0010451957038852446,
          0.0011352987818063864,
          0.0011352987818063864,
          0.0011893606285590715,
          0.0010812369350537015,
          0.0010812369350537015,
          0.001063216319469473,
          0.0011172781662221582,
          0.0012254018597275282,
          0.0012794637064802133,
          0.00131550493764867,
          0.0011713400129748433,
          0.001369566784401355,
          0.0012434224753117566,
          0.0011533193973906149,
          0.0010271750883010164,
          0.0009911338571325598,
          0.0010451957038852446,
          0.0010992575506379298,
          0.0010271750883010164,
          0.0009370720103798745,
          0.0008469689324587328,
          0.0009190513947956462,
          0.001009154472716788,
          0.0009370720103798745,
          0.0009370720103798745,
          0.001063216319469473,
          0.0011352987818063864,
          0.0010992575506379298,
          0.0010812369350537015,
          0.0011713400129748433,
          0.0011352987818063864,
          0.0010812369350537015,
          0.0010992575506379298,
          0.0011893606285590715,
          0.0011172781662221582,
          0.0011172781662221582,
          0.0009731132415483313,
          0.0010451957038852446,
          0.001063216319469473,
          0.0010451957038852446,
          0.0009911338571325598,
          0.0009911338571325598,
          0.0009190513947956462,
          0.0009370720103798745,
          0.001009154472716788,
          0.000955092625964103,
          0.0010812369350537015,
          0.0011713400129748433,
          0.0010812369350537015,
          0.001009154472716788
         ]
        },
        {
         "line": {
          "color": "purple"
         },
         "name": "hospitalized",
         "type": "scatter",
         "x": [
          0,
          1,
          2,
          3,
          4,
          5,
          6,
          7,
          8,
          9,
          10,
          11,
          12,
          13,
          14,
          15,
          16,
          17,
          18,
          19,
          20,
          21,
          22,
          23,
          24,
          25,
          26,
          27,
          28,
          29,
          30,
          31,
          32,
          33,
          34,
          35,
          36,
          37,
          38,
          39,
          40,
          41,
          42,
          43,
          44,
          45,
          46,
          47,
          48,
          49,
          50,
          51,
          52,
          53,
          54,
          55,
          56,
          57,
          58,
          59,
          60,
          61,
          62,
          63,
          64,
          65,
          66,
          67,
          68,
          69,
          70,
          71,
          72,
          73,
          74,
          75,
          76,
          77,
          78,
          79,
          80,
          81,
          82,
          83,
          84,
          85,
          86,
          87,
          88,
          89,
          90,
          91,
          92,
          93,
          94,
          95,
          96,
          97,
          98,
          99,
          100,
          101,
          102,
          103,
          104,
          105,
          106,
          107,
          108,
          109,
          110,
          111,
          112,
          113,
          114,
          115,
          116,
          117,
          118,
          119,
          120,
          121,
          122,
          123,
          124,
          125,
          126,
          127,
          128,
          129,
          130,
          131,
          132,
          133,
          134,
          135,
          136,
          137,
          138,
          139,
          140,
          141,
          142,
          143,
          144,
          145,
          146,
          147,
          148,
          149,
          150,
          151,
          152,
          153,
          154,
          155,
          156,
          157,
          158,
          159,
          160,
          161,
          162,
          163,
          164,
          165,
          166,
          167,
          168,
          169,
          170,
          171,
          172,
          173,
          174,
          175,
          176,
          177,
          178,
          179,
          180,
          181,
          182,
          183,
          184,
          185,
          186,
          187,
          188,
          189,
          190,
          191,
          192,
          193,
          194,
          195,
          196,
          197,
          198,
          199,
          200,
          201,
          202,
          203,
          204,
          205,
          206,
          207,
          208,
          209,
          210,
          211,
          212,
          213,
          214,
          215,
          216,
          217,
          218,
          219,
          220,
          221,
          222,
          223,
          224,
          225,
          226,
          227,
          228,
          229,
          230,
          231,
          232,
          233,
          234,
          235,
          236,
          237,
          238,
          239,
          240,
          241,
          242,
          243,
          244,
          245,
          246,
          247,
          248,
          249,
          250,
          251,
          252,
          253,
          254,
          255,
          256,
          257,
          258,
          259,
          260,
          261,
          262,
          263,
          264,
          265,
          266,
          267,
          268,
          269,
          270,
          271,
          272,
          273,
          274,
          275,
          276,
          277,
          278,
          279,
          280,
          281,
          282,
          283,
          284,
          285,
          286,
          287,
          288,
          289,
          290,
          291,
          292,
          293,
          294,
          295,
          296,
          297,
          298
         ],
         "y": [
          0,
          0,
          0,
          0,
          0,
          0,
          1.8020615584228357e-05,
          1.8020615584228357e-05,
          1.8020615584228357e-05,
          1.8020615584228357e-05,
          1.8020615584228357e-05,
          1.8020615584228357e-05,
          1.8020615584228357e-05,
          1.8020615584228357e-05,
          7.208246233691343e-05,
          9.010307792114179e-05,
          0.00010812369350537015,
          0.00014416492467382686,
          0.00016218554025805522,
          0.00018020615584228358,
          0.0002703092337634254,
          0.0002703092337634254,
          0.000252288618179197,
          0.000252288618179197,
          0.00023426800259496863,
          0.0002703092337634254,
          0.0002883298493476537,
          0.00030635046493188205,
          0.0004144741584372522,
          0.0005586390831110791,
          0.0006487421610322209,
          0.0006667627766164492,
          0.0006847833922006775,
          0.0007208246233691343,
          0.0007929070857060478,
          0.000955092625964103,
          0.0009010307792114179,
          0.0010812369350537015,
          0.0011533193973906149,
          0.001261443090895985,
          0.001405608015569812,
          0.001513731709075182,
          0.0016939378649174655,
          0.001766020327254379,
          0.0018921646363439775,
          0.0020903914077704893,
          0.0021804944856916313,
          0.0025409067973761984,
          0.002721112953218482,
          0.0029373603402292224,
          0.003081525264903049,
          0.0032076695739926475,
          0.0035140200389245295,
          0.0035140200389245295,
          0.0039104735817775535,
          0.004126720968788294,
          0.003928494197361782,
          0.00405463850645138,
          0.004505153896057089,
          0.0050637929791681685,
          0.005424205290852736,
          0.005712535140200389,
          0.006127009298637642,
          0.006559504072659122,
          0.006721689612917177,
          0.0071722050025228865,
          0.007496576083038996,
          0.007550637929791682,
          0.007911050241476248,
          0.008253441937576588,
          0.008487709940171556,
          0.008938225329777266,
          0.00899228717652995,
          0.008938225329777266,
          0.009298637641461832,
          0.00931665825704606,
          0.009550926259641029,
          0.009280617025877604,
          0.009226555179124919,
          0.009010307792114178,
          0.00910041087003532,
          0.008812081020687666,
          0.009010307792114178,
          0.008956245945361494,
          0.008974266560945722,
          0.009010307792114178,
          0.008902184098608809,
          0.00855979240250847,
          0.008487709940171556,
          0.00823542132199236,
          0.007820947163555107,
          0.007586679160960138,
          0.007208246233691343,
          0.006811792690838319,
          0.006487421610322209,
          0.006397318532401067,
          0.006072947451884956,
          0.005550349599942334,
          0.00526201975059468,
          0.00504577236358394,
          0.004559215742809775,
          0.004180782815540979,
          0.0039104735817775535,
          0.003694226194766813,
          0.0032437108051611044,
          0.0029553809558134506,
          0.002757154184386939,
          0.0026129892597131117,
          0.002360700641533915,
          0.0022165357168600877,
          0.002072370792186261,
          0.0020002883298493477,
          0.0018381027895912924,
          0.0018381027895912924,
          0.001711958480501694,
          0.001711958480501694,
          0.0015858141714120955,
          0.0014596698623224969,
          0.0013875873999855835,
          0.0012254018597275282,
          0.0011893606285590715,
          0.0011533193973906149,
          0.0010812369350537015,
          0.0009010307792114179,
          0.0008649895480429612,
          0.0008469689324587328,
          0.0008109277012902761,
          0.0008289483168745044,
          0.0008289483168745044,
          0.0007388452389533626,
          0.000702804007784906,
          0.0006667627766164492,
          0.0006667627766164492,
          0.0006127009298637641,
          0.0005586390831110791,
          0.0005586390831110791,
          0.000504577236358394,
          0.000504577236358394,
          0.0004324947740214806,
          0.0003784329272687955,
          0.00030635046493188205,
          0.00032437108051611044,
          0.000252288618179197,
          0.00019822677142651194,
          0.00023426800259496863,
          0.00019822677142651194,
          0.0002162473870107403,
          0.00023426800259496863,
          0.000252288618179197,
          0.0002162473870107403,
          0.00019822677142651194,
          0.00018020615584228358,
          0.00018020615584228358,
          0.00019822677142651194,
          0.00018020615584228358,
          0.00018020615584228358,
          0.00018020615584228358,
          0.00016218554025805522,
          0.00016218554025805522,
          0.0002162473870107403,
          0.00018020615584228358,
          0.00016218554025805522,
          0.00016218554025805522,
          0.00016218554025805522,
          0.00019822677142651194,
          0.00019822677142651194,
          0.000252288618179197,
          0.0002703092337634254,
          0.0002703092337634254,
          0.0002883298493476537,
          0.0002883298493476537,
          0.0002703092337634254,
          0.0002703092337634254,
          0.0002883298493476537,
          0.00023426800259496863,
          0.0002703092337634254,
          0.000252288618179197,
          0.00032437108051611044,
          0.00030635046493188205,
          0.0002883298493476537,
          0.00032437108051611044,
          0.00034239169610033877,
          0.00036041231168456716,
          0.00032437108051611044,
          0.00030635046493188205,
          0.0002703092337634254,
          0.0002703092337634254,
          0.0002162473870107403,
          0.00023426800259496863,
          0.0002162473870107403,
          0.00019822677142651194,
          0.00018020615584228358,
          0.00018020615584228358,
          0.00014416492467382686,
          0.00014416492467382686,
          0.0001261443090895985,
          9.010307792114179e-05,
          0.0001261443090895985,
          0.0001261443090895985,
          0.00016218554025805522,
          0.00019822677142651194,
          0.0002162473870107403,
          0.00023426800259496863,
          0.000252288618179197,
          0.00023426800259496863,
          0.0002162473870107403,
          0.00018020615584228358,
          0.00014416492467382686,
          0.00014416492467382686,
          0.0001261443090895985,
          0.00016218554025805522,
          0.00016218554025805522,
          0.00014416492467382686,
          0.00018020615584228358,
          0.00019822677142651194,
          0.00016218554025805522,
          0.00016218554025805522,
          0.0002162473870107403,
          0.0002162473870107403,
          0.0002162473870107403,
          0.0002162473870107403,
          0.00023426800259496863,
          0.0002162473870107403,
          0.00019822677142651194,
          0.00014416492467382686,
          0.00016218554025805522,
          0.00018020615584228358,
          0.0002162473870107403,
          0.00019822677142651194,
          0.00018020615584228358,
          0.00018020615584228358,
          0.00018020615584228358,
          0.00019822677142651194,
          0.00016218554025805522,
          0.00018020615584228358,
          0.00016218554025805522,
          0.00016218554025805522,
          0.00018020615584228358,
          0.00016218554025805522,
          0.00014416492467382686,
          0.00014416492467382686,
          0.00014416492467382686,
          0.0001261443090895985,
          0.0001261443090895985,
          0.00014416492467382686,
          0.00014416492467382686,
          0.0001261443090895985,
          0.00010812369350537015,
          7.208246233691343e-05,
          5.4061846752685075e-05,
          3.6041231168456714e-05,
          5.4061846752685075e-05,
          5.4061846752685075e-05,
          5.4061846752685075e-05,
          9.010307792114179e-05,
          9.010307792114179e-05,
          0.00010812369350537015,
          0.00014416492467382686,
          0.0001261443090895985,
          0.0001261443090895985,
          0.00010812369350537015,
          0.00010812369350537015,
          7.208246233691343e-05,
          0.00010812369350537015,
          0.00010812369350537015,
          0.00010812369350537015,
          0.00010812369350537015,
          0.00014416492467382686,
          0.00010812369350537015,
          0.00010812369350537015,
          0.00010812369350537015,
          0.00010812369350537015,
          0.00010812369350537015,
          0.0001261443090895985,
          0.0001261443090895985,
          0.0001261443090895985,
          0.00014416492467382686,
          0.0001261443090895985,
          0.00014416492467382686,
          0.00016218554025805522,
          0.00014416492467382686,
          0.00018020615584228358,
          0.00018020615584228358,
          0.00018020615584228358,
          0.00018020615584228358,
          0.00018020615584228358,
          0.00016218554025805522,
          0.00018020615584228358,
          0.00019822677142651194,
          0.00019822677142651194,
          0.000252288618179197,
          0.0002703092337634254,
          0.0002703092337634254,
          0.00030635046493188205,
          0.00030635046493188205,
          0.0002703092337634254,
          0.0002162473870107403,
          0.00023426800259496863,
          0.00023426800259496863
         ]
        }
       ],
       "layout": {
        "hovermode": "x",
        "template": {
         "data": {
          "bar": [
           {
            "error_x": {
             "color": "#2a3f5f"
            },
            "error_y": {
             "color": "#2a3f5f"
            },
            "marker": {
             "line": {
              "color": "#E5ECF6",
              "width": 0.5
             }
            },
            "type": "bar"
           }
          ],
          "barpolar": [
           {
            "marker": {
             "line": {
              "color": "#E5ECF6",
              "width": 0.5
             }
            },
            "type": "barpolar"
           }
          ],
          "carpet": [
           {
            "aaxis": {
             "endlinecolor": "#2a3f5f",
             "gridcolor": "white",
             "linecolor": "white",
             "minorgridcolor": "white",
             "startlinecolor": "#2a3f5f"
            },
            "baxis": {
             "endlinecolor": "#2a3f5f",
             "gridcolor": "white",
             "linecolor": "white",
             "minorgridcolor": "white",
             "startlinecolor": "#2a3f5f"
            },
            "type": "carpet"
           }
          ],
          "choropleth": [
           {
            "colorbar": {
             "outlinewidth": 0,
             "ticks": ""
            },
            "type": "choropleth"
           }
          ],
          "contour": [
           {
            "colorbar": {
             "outlinewidth": 0,
             "ticks": ""
            },
            "colorscale": [
             [
              0,
              "#0d0887"
             ],
             [
              0.1111111111111111,
              "#46039f"
             ],
             [
              0.2222222222222222,
              "#7201a8"
             ],
             [
              0.3333333333333333,
              "#9c179e"
             ],
             [
              0.4444444444444444,
              "#bd3786"
             ],
             [
              0.5555555555555556,
              "#d8576b"
             ],
             [
              0.6666666666666666,
              "#ed7953"
             ],
             [
              0.7777777777777778,
              "#fb9f3a"
             ],
             [
              0.8888888888888888,
              "#fdca26"
             ],
             [
              1,
              "#f0f921"
             ]
            ],
            "type": "contour"
           }
          ],
          "contourcarpet": [
           {
            "colorbar": {
             "outlinewidth": 0,
             "ticks": ""
            },
            "type": "contourcarpet"
           }
          ],
          "heatmap": [
           {
            "colorbar": {
             "outlinewidth": 0,
             "ticks": ""
            },
            "colorscale": [
             [
              0,
              "#0d0887"
             ],
             [
              0.1111111111111111,
              "#46039f"
             ],
             [
              0.2222222222222222,
              "#7201a8"
             ],
             [
              0.3333333333333333,
              "#9c179e"
             ],
             [
              0.4444444444444444,
              "#bd3786"
             ],
             [
              0.5555555555555556,
              "#d8576b"
             ],
             [
              0.6666666666666666,
              "#ed7953"
             ],
             [
              0.7777777777777778,
              "#fb9f3a"
             ],
             [
              0.8888888888888888,
              "#fdca26"
             ],
             [
              1,
              "#f0f921"
             ]
            ],
            "type": "heatmap"
           }
          ],
          "heatmapgl": [
           {
            "colorbar": {
             "outlinewidth": 0,
             "ticks": ""
            },
            "colorscale": [
             [
              0,
              "#0d0887"
             ],
             [
              0.1111111111111111,
              "#46039f"
             ],
             [
              0.2222222222222222,
              "#7201a8"
             ],
             [
              0.3333333333333333,
              "#9c179e"
             ],
             [
              0.4444444444444444,
              "#bd3786"
             ],
             [
              0.5555555555555556,
              "#d8576b"
             ],
             [
              0.6666666666666666,
              "#ed7953"
             ],
             [
              0.7777777777777778,
              "#fb9f3a"
             ],
             [
              0.8888888888888888,
              "#fdca26"
             ],
             [
              1,
              "#f0f921"
             ]
            ],
            "type": "heatmapgl"
           }
          ],
          "histogram": [
           {
            "marker": {
             "colorbar": {
              "outlinewidth": 0,
              "ticks": ""
             }
            },
            "type": "histogram"
           }
          ],
          "histogram2d": [
           {
            "colorbar": {
             "outlinewidth": 0,
             "ticks": ""
            },
            "colorscale": [
             [
              0,
              "#0d0887"
             ],
             [
              0.1111111111111111,
              "#46039f"
             ],
             [
              0.2222222222222222,
              "#7201a8"
             ],
             [
              0.3333333333333333,
              "#9c179e"
             ],
             [
              0.4444444444444444,
              "#bd3786"
             ],
             [
              0.5555555555555556,
              "#d8576b"
             ],
             [
              0.6666666666666666,
              "#ed7953"
             ],
             [
              0.7777777777777778,
              "#fb9f3a"
             ],
             [
              0.8888888888888888,
              "#fdca26"
             ],
             [
              1,
              "#f0f921"
             ]
            ],
            "type": "histogram2d"
           }
          ],
          "histogram2dcontour": [
           {
            "colorbar": {
             "outlinewidth": 0,
             "ticks": ""
            },
            "colorscale": [
             [
              0,
              "#0d0887"
             ],
             [
              0.1111111111111111,
              "#46039f"
             ],
             [
              0.2222222222222222,
              "#7201a8"
             ],
             [
              0.3333333333333333,
              "#9c179e"
             ],
             [
              0.4444444444444444,
              "#bd3786"
             ],
             [
              0.5555555555555556,
              "#d8576b"
             ],
             [
              0.6666666666666666,
              "#ed7953"
             ],
             [
              0.7777777777777778,
              "#fb9f3a"
             ],
             [
              0.8888888888888888,
              "#fdca26"
             ],
             [
              1,
              "#f0f921"
             ]
            ],
            "type": "histogram2dcontour"
           }
          ],
          "mesh3d": [
           {
            "colorbar": {
             "outlinewidth": 0,
             "ticks": ""
            },
            "type": "mesh3d"
           }
          ],
          "parcoords": [
           {
            "line": {
             "colorbar": {
              "outlinewidth": 0,
              "ticks": ""
             }
            },
            "type": "parcoords"
           }
          ],
          "pie": [
           {
            "automargin": true,
            "type": "pie"
           }
          ],
          "scatter": [
           {
            "marker": {
             "colorbar": {
              "outlinewidth": 0,
              "ticks": ""
             }
            },
            "type": "scatter"
           }
          ],
          "scatter3d": [
           {
            "line": {
             "colorbar": {
              "outlinewidth": 0,
              "ticks": ""
             }
            },
            "marker": {
             "colorbar": {
              "outlinewidth": 0,
              "ticks": ""
             }
            },
            "type": "scatter3d"
           }
          ],
          "scattercarpet": [
           {
            "marker": {
             "colorbar": {
              "outlinewidth": 0,
              "ticks": ""
             }
            },
            "type": "scattercarpet"
           }
          ],
          "scattergeo": [
           {
            "marker": {
             "colorbar": {
              "outlinewidth": 0,
              "ticks": ""
             }
            },
            "type": "scattergeo"
           }
          ],
          "scattergl": [
           {
            "marker": {
             "colorbar": {
              "outlinewidth": 0,
              "ticks": ""
             }
            },
            "type": "scattergl"
           }
          ],
          "scattermapbox": [
           {
            "marker": {
             "colorbar": {
              "outlinewidth": 0,
              "ticks": ""
             }
            },
            "type": "scattermapbox"
           }
          ],
          "scatterpolar": [
           {
            "marker": {
             "colorbar": {
              "outlinewidth": 0,
              "ticks": ""
             }
            },
            "type": "scatterpolar"
           }
          ],
          "scatterpolargl": [
           {
            "marker": {
             "colorbar": {
              "outlinewidth": 0,
              "ticks": ""
             }
            },
            "type": "scatterpolargl"
           }
          ],
          "scatterternary": [
           {
            "marker": {
             "colorbar": {
              "outlinewidth": 0,
              "ticks": ""
             }
            },
            "type": "scatterternary"
           }
          ],
          "surface": [
           {
            "colorbar": {
             "outlinewidth": 0,
             "ticks": ""
            },
            "colorscale": [
             [
              0,
              "#0d0887"
             ],
             [
              0.1111111111111111,
              "#46039f"
             ],
             [
              0.2222222222222222,
              "#7201a8"
             ],
             [
              0.3333333333333333,
              "#9c179e"
             ],
             [
              0.4444444444444444,
              "#bd3786"
             ],
             [
              0.5555555555555556,
              "#d8576b"
             ],
             [
              0.6666666666666666,
              "#ed7953"
             ],
             [
              0.7777777777777778,
              "#fb9f3a"
             ],
             [
              0.8888888888888888,
              "#fdca26"
             ],
             [
              1,
              "#f0f921"
             ]
            ],
            "type": "surface"
           }
          ],
          "table": [
           {
            "cells": {
             "fill": {
              "color": "#EBF0F8"
             },
             "line": {
              "color": "white"
             }
            },
            "header": {
             "fill": {
              "color": "#C8D4E3"
             },
             "line": {
              "color": "white"
             }
            },
            "type": "table"
           }
          ]
         },
         "layout": {
          "annotationdefaults": {
           "arrowcolor": "#2a3f5f",
           "arrowhead": 0,
           "arrowwidth": 1
          },
          "coloraxis": {
           "colorbar": {
            "outlinewidth": 0,
            "ticks": ""
           }
          },
          "colorscale": {
           "diverging": [
            [
             0,
             "#8e0152"
            ],
            [
             0.1,
             "#c51b7d"
            ],
            [
             0.2,
             "#de77ae"
            ],
            [
             0.3,
             "#f1b6da"
            ],
            [
             0.4,
             "#fde0ef"
            ],
            [
             0.5,
             "#f7f7f7"
            ],
            [
             0.6,
             "#e6f5d0"
            ],
            [
             0.7,
             "#b8e186"
            ],
            [
             0.8,
             "#7fbc41"
            ],
            [
             0.9,
             "#4d9221"
            ],
            [
             1,
             "#276419"
            ]
           ],
           "sequential": [
            [
             0,
             "#0d0887"
            ],
            [
             0.1111111111111111,
             "#46039f"
            ],
            [
             0.2222222222222222,
             "#7201a8"
            ],
            [
             0.3333333333333333,
             "#9c179e"
            ],
            [
             0.4444444444444444,
             "#bd3786"
            ],
            [
             0.5555555555555556,
             "#d8576b"
            ],
            [
             0.6666666666666666,
             "#ed7953"
            ],
            [
             0.7777777777777778,
             "#fb9f3a"
            ],
            [
             0.8888888888888888,
             "#fdca26"
            ],
            [
             1,
             "#f0f921"
            ]
           ],
           "sequentialminus": [
            [
             0,
             "#0d0887"
            ],
            [
             0.1111111111111111,
             "#46039f"
            ],
            [
             0.2222222222222222,
             "#7201a8"
            ],
            [
             0.3333333333333333,
             "#9c179e"
            ],
            [
             0.4444444444444444,
             "#bd3786"
            ],
            [
             0.5555555555555556,
             "#d8576b"
            ],
            [
             0.6666666666666666,
             "#ed7953"
            ],
            [
             0.7777777777777778,
             "#fb9f3a"
            ],
            [
             0.8888888888888888,
             "#fdca26"
            ],
            [
             1,
             "#f0f921"
            ]
           ]
          },
          "colorway": [
           "#636efa",
           "#EF553B",
           "#00cc96",
           "#ab63fa",
           "#FFA15A",
           "#19d3f3",
           "#FF6692",
           "#B6E880",
           "#FF97FF",
           "#FECB52"
          ],
          "font": {
           "color": "#2a3f5f"
          },
          "geo": {
           "bgcolor": "white",
           "lakecolor": "white",
           "landcolor": "#E5ECF6",
           "showlakes": true,
           "showland": true,
           "subunitcolor": "white"
          },
          "hoverlabel": {
           "align": "left"
          },
          "hovermode": "closest",
          "mapbox": {
           "style": "light"
          },
          "paper_bgcolor": "white",
          "plot_bgcolor": "#E5ECF6",
          "polar": {
           "angularaxis": {
            "gridcolor": "white",
            "linecolor": "white",
            "ticks": ""
           },
           "bgcolor": "#E5ECF6",
           "radialaxis": {
            "gridcolor": "white",
            "linecolor": "white",
            "ticks": ""
           }
          },
          "scene": {
           "xaxis": {
            "backgroundcolor": "#E5ECF6",
            "gridcolor": "white",
            "gridwidth": 2,
            "linecolor": "white",
            "showbackground": true,
            "ticks": "",
            "zerolinecolor": "white"
           },
           "yaxis": {
            "backgroundcolor": "#E5ECF6",
            "gridcolor": "white",
            "gridwidth": 2,
            "linecolor": "white",
            "showbackground": true,
            "ticks": "",
            "zerolinecolor": "white"
           },
           "zaxis": {
            "backgroundcolor": "#E5ECF6",
            "gridcolor": "white",
            "gridwidth": 2,
            "linecolor": "white",
            "showbackground": true,
            "ticks": "",
            "zerolinecolor": "white"
           }
          },
          "shapedefaults": {
           "line": {
            "color": "#2a3f5f"
           }
          },
          "ternary": {
           "aaxis": {
            "gridcolor": "white",
            "linecolor": "white",
            "ticks": ""
           },
           "baxis": {
            "gridcolor": "white",
            "linecolor": "white",
            "ticks": ""
           },
           "bgcolor": "#E5ECF6",
           "caxis": {
            "gridcolor": "white",
            "linecolor": "white",
            "ticks": ""
           }
          },
          "title": {
           "x": 0.05
          },
          "xaxis": {
           "automargin": true,
           "gridcolor": "white",
           "linecolor": "white",
           "ticks": "",
           "title": {
            "standoff": 15
           },
           "zerolinecolor": "white",
           "zerolinewidth": 2
          },
          "yaxis": {
           "automargin": true,
           "gridcolor": "white",
           "linecolor": "white",
           "ticks": "",
           "title": {
            "standoff": 15
           },
           "zerolinecolor": "white",
           "zerolinewidth": 2
          }
         }
        }
       }
      },
      "text/html": [
       "<div>\n",
       "        \n",
       "        \n",
       "            <div id=\"044657d7-e916-4a72-8c66-de2daa465348\" class=\"plotly-graph-div\" style=\"height:525px; width:100%;\"></div>\n",
       "            <script type=\"text/javascript\">\n",
       "                require([\"plotly\"], function(Plotly) {\n",
       "                    window.PLOTLYENV=window.PLOTLYENV || {};\n",
       "                    \n",
       "                if (document.getElementById(\"044657d7-e916-4a72-8c66-de2daa465348\")) {\n",
       "                    Plotly.newPlot(\n",
       "                        '044657d7-e916-4a72-8c66-de2daa465348',\n",
       "                        [{\"line\": {\"color\": \"green\"}, \"name\": \"removed\", \"type\": \"scatter\", \"x\": [0, 1, 2, 3, 4, 5, 6, 7, 8, 9, 10, 11, 12, 13, 14, 15, 16, 17, 18, 19, 20, 21, 22, 23, 24, 25, 26, 27, 28, 29, 30, 31, 32, 33, 34, 35, 36, 37, 38, 39, 40, 41, 42, 43, 44, 45, 46, 47, 48, 49, 50, 51, 52, 53, 54, 55, 56, 57, 58, 59, 60, 61, 62, 63, 64, 65, 66, 67, 68, 69, 70, 71, 72, 73, 74, 75, 76, 77, 78, 79, 80, 81, 82, 83, 84, 85, 86, 87, 88, 89, 90, 91, 92, 93, 94, 95, 96, 97, 98, 99, 100, 101, 102, 103, 104, 105, 106, 107, 108, 109, 110, 111, 112, 113, 114, 115, 116, 117, 118, 119, 120, 121, 122, 123, 124, 125, 126, 127, 128, 129, 130, 131, 132, 133, 134, 135, 136, 137, 138, 139, 140, 141, 142, 143, 144, 145, 146, 147, 148, 149, 150, 151, 152, 153, 154, 155, 156, 157, 158, 159, 160, 161, 162, 163, 164, 165, 166, 167, 168, 169, 170, 171, 172, 173, 174, 175, 176, 177, 178, 179, 180, 181, 182, 183, 184, 185, 186, 187, 188, 189, 190, 191, 192, 193, 194, 195, 196, 197, 198, 199, 200, 201, 202, 203, 204, 205, 206, 207, 208, 209, 210, 211, 212, 213, 214, 215, 216, 217, 218, 219, 220, 221, 222, 223, 224, 225, 226, 227, 228, 229, 230, 231, 232, 233, 234, 235, 236, 237, 238, 239, 240, 241, 242, 243, 244, 245, 246, 247, 248, 249, 250, 251, 252, 253, 254, 255, 256, 257, 258, 259, 260, 261, 262, 263, 264, 265, 266, 267, 268, 269, 270, 271, 272, 273, 274, 275, 276, 277, 278, 279, 280, 281, 282, 283, 284, 285, 286, 287, 288, 289, 290, 291, 292, 293, 294, 295, 296, 297, 298], \"y\": [0.0, 0.0, 0.0, 0.0, 0.0, 9.010307792114179e-05, 0.00016218554025805522, 0.000252288618179197, 0.00030635046493188205, 0.0003784329272687955, 0.0005766596986953074, 0.0008289483168745044, 0.0010271750883010164, 0.0011893606285590715, 0.001405608015569812, 0.0016578966337490088, 0.002036329561017804, 0.0025048655662077415, 0.0029013191090607655, 0.003441937576587616, 0.00383839111944064, 0.004469112664888633, 0.005316081597347365, 0.00614502991422187, 0.006847833922006776, 0.0077849059323866505, 0.008866142867440351, 0.010019462264830966, 0.011208822893390038, 0.012668492755712536, 0.014272327542708858, 0.016002306638794782, 0.018254883586823326, 0.0205254811504361, 0.022976284869891155, 0.025210841202335472, 0.02840049016074389, 0.03124774742305197, 0.03452749945938153, 0.0381316225762272, 0.041771786924241334, 0.046078714048871906, 0.0507100122540186, 0.055593599077344485, 0.06110790744611836, 0.06692856627982412, 0.07361421466157284, 0.08055215166150076, 0.08799466589778707, 0.09561738628991566, 0.10424926115476105, 0.1129892597131118, 0.1226483096662582, 0.13304620485835797, 0.1433539969725366, 0.1544186549412528, 0.166114034455417, 0.17847617674619765, 0.19085633965256252, 0.20428169826281264, 0.21779715995098392, 0.2317631370287609, 0.24677430981042311, 0.2615331939739062, 0.2760578101347942, 0.2918979312333309, 0.30730555755784617, 0.3229114106537879, 0.3386614286744035, 0.3556008073235782, 0.3718914438117206, 0.3882902039933684, 0.40375189216463636, 0.4193036834138254, 0.43393642326821885, 0.4489115548187126, 0.4639047069847906, 0.47841130253009445, 0.49120593959489656, 0.5046493188207309, 0.5173178115764434, 0.5302926547970879, 0.5435017660203273, 0.5544402796799539, 0.5652166077993225, 0.5758848122251856, 0.5853276147913212, 0.5949145822821308, 0.6037266633028184, 0.612448641245585, 0.6202515677935558, 0.6269191955597203, 0.6342716067180855, 0.6412636055647661, 0.6475528004036618, 0.6530851293880199, 0.658617458372378, 0.664456137821668, 0.6690513947956462, 0.6734844662293664, 0.677394939811144, 0.6816658257046061, 0.6852339075902832, 0.6889461544006343, 0.6923340301304692, 0.6949109781590139, 0.6975780292654797, 0.7007856988394724, 0.703128378865422, 0.7053809558134506, 0.7076515533770633, 0.7096518417069128, 0.7114178620341671, 0.7129315937432422, 0.7144273048367332, 0.715598644849708, 0.7172205002522887, 0.7187702731925323, 0.7199956750522598, 0.7213111799899085, 0.7224104375405463, 0.723329488935342, 0.7242124990989692, 0.7252396741872702, 0.7258884163483025, 0.726717364665177, 0.727348086210625, 0.7279968283716571, 0.7286635911482736, 0.7293483745404743, 0.7299250342391697, 0.7303214877820227, 0.7308801268651337, 0.7314748071794133, 0.7320514668781085, 0.7323578173430404, 0.7327362502703092, 0.733114683197578, 0.7334030130469257, 0.7337634253586103, 0.7340337345923736, 0.734376126288474, 0.7347545592157428, 0.7350609096806747, 0.7354213219923592, 0.73563756937937, 0.7359439198443019, 0.7361061053845599, 0.7363583940027392, 0.736664744467671, 0.7369530743170186, 0.7370792186261083, 0.7372233835507821, 0.7374756721689613, 0.7378360844806459, 0.738088373098825, 0.7382865998702516, 0.7385028472572623, 0.7386650327975204, 0.7388091977221942, 0.7389713832624523, 0.7391696100338787, 0.7393498161897211, 0.7396021048079002, 0.7397462697325741, 0.7399985583507532, 0.7402868882001009, 0.7405211562026959, 0.7407193829741224, 0.740845527283212, 0.7409176097455489, 0.7410617746702227, 0.7411879189793124, 0.7413681251351546, 0.7416023931377496, 0.741710516831255, 0.7418907229870972, 0.7420168672961869, 0.7421430116052764, 0.7424133208390399, 0.7425574857637137, 0.742737691919556, 0.7428818568442298, 0.7430981042312406, 0.7432602897714986, 0.7434945577740936, 0.7435666402364305, 0.7438189288546097, 0.7440531968572046, 0.7442694442442154, 0.7443415267065523, 0.7444496504000576, 0.7446658977870684, 0.7448280833273264, 0.7450082894831688, 0.7450983925610899, 0.7452785987169321, 0.745422763641606, 0.7455308873351114, 0.7456750522597851, 0.7457831759532906, 0.745981402724717, 0.7460895264182225, 0.7462697325740647, 0.7463958768831543, 0.7465760830389966, 0.7467382685792546, 0.7468644128883443, 0.7469725365818496, 0.7471707633532761, 0.7472608664311973, 0.7474230519714553, 0.747549196280545, 0.7477294024363872, 0.7478555467454768, 0.7480537735169034, 0.7481258559792403, 0.748342103366251, 0.748504288906509, 0.7486844950623514, 0.7487745981402725, 0.7488647012181936, 0.749044907374036, 0.7491890722987097, 0.7493152166077993, 0.7495675052259785, 0.7497477113818208, 0.7498558350753262, 0.7501081236935053, 0.7502703092337635, 0.7504144741584372, 0.7505946803142796, 0.7506847833922007, 0.7508649895480429, 0.7510451957038853, 0.7511893606285591, 0.7514236286311541, 0.7515677935558278, 0.751729979096086, 0.7519822677142651, 0.7520903914077705, 0.7521985151012759, 0.7523607006415339, 0.752450803719455, 0.7526310098752973, 0.7527931954155554, 0.7529553809558135, 0.7530454840337346, 0.7532617314207454, 0.7533338138830823, 0.753477978807756, 0.7536041231168457, 0.7539104735817775, 0.7540366178908672, 0.7541627621999567, 0.7543069271246305, 0.7543970302025517, 0.7544510920493044, 0.754577236358394, 0.7548295249765732, 0.7548835868233259, 0.7551538960570893, 0.7553521228285158, 0.755604411446695, 0.7558026382181215, 0.7559107619116269, 0.7560188856051323, 0.7561270092986376, 0.7563252360700642, 0.7565595040726592, 0.7566676277661645, 0.7567757514596699, 0.7569739782310964, 0.7571541843869387, 0.7572082462336913, 0.7573163699271968, 0.7574785554674548, 0.7576227203921286, 0.757730844085634, 0.757893029625892, 0.7580912563973186, 0.7582354213219924, 0.7583255243999135, 0.7584336480934188, 0.7585958336336769, 0.7587760397895192, 0.7588841634830246, 0.7590283284076984, 0.7591905139479564, 0.7593707201037987, 0.7594788437973041, 0.7596410293375622, 0.7598212354934044, 0.7598752973401571, 0.7600555034959994, 0.7601636271895048, 0.760343833345347, 0.7605060188856051, 0.7607222662726159]}, {\"line\": {\"color\": \"blue\"}, \"name\": \"susceptible\", \"type\": \"scatter\", \"x\": [0, 1, 2, 3, 4, 5, 6, 7, 8, 9, 10, 11, 12, 13, 14, 15, 16, 17, 18, 19, 20, 21, 22, 23, 24, 25, 26, 27, 28, 29, 30, 31, 32, 33, 34, 35, 36, 37, 38, 39, 40, 41, 42, 43, 44, 45, 46, 47, 48, 49, 50, 51, 52, 53, 54, 55, 56, 57, 58, 59, 60, 61, 62, 63, 64, 65, 66, 67, 68, 69, 70, 71, 72, 73, 74, 75, 76, 77, 78, 79, 80, 81, 82, 83, 84, 85, 86, 87, 88, 89, 90, 91, 92, 93, 94, 95, 96, 97, 98, 99, 100, 101, 102, 103, 104, 105, 106, 107, 108, 109, 110, 111, 112, 113, 114, 115, 116, 117, 118, 119, 120, 121, 122, 123, 124, 125, 126, 127, 128, 129, 130, 131, 132, 133, 134, 135, 136, 137, 138, 139, 140, 141, 142, 143, 144, 145, 146, 147, 148, 149, 150, 151, 152, 153, 154, 155, 156, 157, 158, 159, 160, 161, 162, 163, 164, 165, 166, 167, 168, 169, 170, 171, 172, 173, 174, 175, 176, 177, 178, 179, 180, 181, 182, 183, 184, 185, 186, 187, 188, 189, 190, 191, 192, 193, 194, 195, 196, 197, 198, 199, 200, 201, 202, 203, 204, 205, 206, 207, 208, 209, 210, 211, 212, 213, 214, 215, 216, 217, 218, 219, 220, 221, 222, 223, 224, 225, 226, 227, 228, 229, 230, 231, 232, 233, 234, 235, 236, 237, 238, 239, 240, 241, 242, 243, 244, 245, 246, 247, 248, 249, 250, 251, 252, 253, 254, 255, 256, 257, 258, 259, 260, 261, 262, 263, 264, 265, 266, 267, 268, 269, 270, 271, 272, 273, 274, 275, 276, 277, 278, 279, 280, 281, 282, 283, 284, 285, 286, 287, 288, 289, 290, 291, 292, 293, 294, 295, 296, 297, 298], \"y\": [0.9989187630649463, 0.9988286599870252, 0.9986664744467671, 0.9984862682909248, 0.9983240827506668, 0.9979636704389822, 0.9975311756649607, 0.9971527427376919, 0.9966301448857493, 0.9962517119584805, 0.9954047430260218, 0.9947379802494053, 0.9940531968572046, 0.993134145462409, 0.9920348879117711, 0.9908995891299647, 0.9897642903481583, 0.9884668060260938, 0.9869891155481871, 0.9853852807611908, 0.9836733222806892, 0.9819433431846032, 0.979636704389822, 0.9770597563612773, 0.974590932026238, 0.9718517984574353, 0.9687522525769481, 0.9650580263821812, 0.9611475528004036, 0.9567325019822677, 0.9518849563901103, 0.9474158437252217, 0.9425682981330642, 0.9369638866863692, 0.9305845887695524, 0.924079146543646, 0.9170691270813811, 0.9096266128450948, 0.901355150291934, 0.8926151517335832, 0.883208390398616, 0.8732249693649535, 0.862610826785843, 0.8516002306638795, 0.8401391191523102, 0.826857925466734, 0.8132703813162258, 0.7997008577813018, 0.7854105096230087, 0.7706155842283572, 0.7559828443739638, 0.7406653211273697, 0.7242845815613062, 0.707705615223816, 0.6907301953434729, 0.6746738268579254, 0.6578966337490089, 0.6414077704894399, 0.6242521444532545, 0.6074208894975852, 0.5918690982483962, 0.5760650183810279, 0.5594860520435379, 0.5436819721761695, 0.5287609024724285, 0.5146147192388092, 0.5010632163194695, 0.4867188063144237, 0.47381604555611617, 0.46017443955885534, 0.4470013695667844, 0.4357384848266417, 0.4253405896345419, 0.41510487998270024, 0.4044006343256686, 0.3950839760686225, 0.38619981258559793, 0.3782527211129532, 0.3703957327182297, 0.36352987818063864, 0.35679016795213725, 0.350302746341815, 0.34439198443018815, 0.3391479852951777, 0.3340661717004253, 0.32920060549268365, 0.3244611835940316, 0.3204065450875802, 0.31624378288762345, 0.3127838246954516, 0.30964823758379584, 0.3065126504721401, 0.303503207669574, 0.30094428025661357, 0.29856555899949544, 0.2960246522021192, 0.2936279103294169, 0.29171772507748867, 0.2898796222878974, 0.28798745765155337, 0.2865097671736467, 0.2851582210048295, 0.2836264686801701, 0.28204065450875804, 0.28092337634253584, 0.279589850789303, 0.2784725726230808, 0.2774814387659482, 0.27638218121531033, 0.27558927412960427, 0.27454407842571904, 0.2738953362646868, 0.2731384704101492, 0.27254379009586965, 0.27194910978159015, 0.271228285158221, 0.27063360484394144, 0.27005694514524614, 0.26966049160239314, 0.2692279968283717, 0.2686693577452606, 0.26800259496864415, 0.2674799971167015, 0.2671736466517696, 0.26684927557125354, 0.2665429251063216, 0.266254595256974, 0.26593022417645784, 0.2656418943271102, 0.2653175232465941, 0.2650111727816622, 0.2647408635478988, 0.2644885749297196, 0.2642362863115404, 0.26407410077128235, 0.26378577092193467, 0.26351546168817125, 0.2632631730699921, 0.26310098752973404, 0.26281265768038636, 0.26254234844662294, 0.26236214229078064, 0.2621098536726015, 0.2619296475167592, 0.2617314207453327, 0.2615151733583219, 0.2613169465868954, 0.2610646579687162, 0.2608664311972897, 0.26072226627261585, 0.2605600807323578, 0.2602897714985944, 0.2601095653427521, 0.25982123549340447, 0.25964102933756217, 0.2594788437973041, 0.2592806170258776, 0.2591004108700353, 0.25888416348302457, 0.2586498954804296, 0.2584696893245873, 0.2582534419375766, 0.25812729762848696, 0.2579470914726447, 0.2578029265479709, 0.25764074100771284, 0.25753261731420746, 0.25735241115836516, 0.2572082462336913, 0.2569919988466806, 0.2568478339220068, 0.2566676277661645, 0.25645138037915377, 0.25630721545447993, 0.25612700929863763, 0.25594680314279533, 0.25580263821812155, 0.2556764939090319, 0.25549628775318967, 0.2553881640596843, 0.2552620197505947, 0.2550998342103366, 0.25493764867007856, 0.2547934837454047, 0.25466733943631514, 0.2545231745116413, 0.2544150508181359, 0.25428890650904634, 0.2541447415843725, 0.2540005766596987, 0.2538203705038564, 0.2536762055791826, 0.2535680818856772, 0.2533698551142507, 0.25322569018957686, 0.2530995458804873, 0.2528832984934765, 0.2527751747999712, 0.25263100987529735, 0.25245080371945505, 0.252288618179197, 0.2520903914077705, 0.25194622648309667, 0.2517840409428386, 0.25169393786491745, 0.25154977294024367, 0.25138758739998557, 0.251261443090896, 0.251027175088301, 0.25090103077921144, 0.25079290708570606, 0.25061270092986376, 0.2504505153896057, 0.2503063504649319, 0.25016218554025804, 0.25005406184675266, 0.24990989692207885, 0.24972969076623658, 0.24958552584156274, 0.2494233403013047, 0.2492431341454624, 0.24908094860520436, 0.24893678368053052, 0.24875657752468824, 0.24857637136884597, 0.24845022705975636, 0.2482700209039141, 0.24807179413248756, 0.24794564982339798, 0.2478375261298926, 0.24769336120521876, 0.24756721689612918, 0.24742305197145534, 0.2472608664311973, 0.24711670150652346, 0.24695451596626541, 0.24679233042600734, 0.24666618611691776, 0.24648597996107546, 0.24628775318964896, 0.2461255676493909, 0.2459994233403013, 0.24585525841562747, 0.2456750522597852, 0.24545880487277447, 0.24531463994810063, 0.24520651625459525, 0.24502631009875298, 0.2448641245584949, 0.24468391840265263, 0.24450371224681036, 0.24437756793772075, 0.2442334030130469, 0.24410725870395733, 0.24399913501045195, 0.24381892885460968, 0.2436567433143516, 0.24347653715850934, 0.2433864340805882, 0.24324226915591438, 0.24309810423124054, 0.24295393930656672, 0.24279175376630865, 0.24264758884163484, 0.2424493620702083, 0.24232321776111873, 0.24216103222086066, 0.2419267642182657, 0.2418006199091761, 0.2416744756000865, 0.24147624882865998, 0.2413501045195704, 0.2411698983637281, 0.24100771282347005, 0.24086354789879622, 0.2407193829741224, 0.24057521804944856, 0.2404670943559432, 0.24032292943126937, 0.24012470265984287, 0.2399625171195848, 0.23983637281049522, 0.2397102285014056, 0.23960210480790023, 0.23945793988322642, 0.23931377495855258, 0.23915158941829454, 0.23897138326245224, 0.23879117710660996, 0.23866503279752035, 0.23853888848843077, 0.23839472356375693, 0.2382325380234989, 0.23808837309882505, 0.23796222878973547, 0.23783608448064586, 0.2376558783248036, 0.23751171340012975, 0.2373495278598717]}, {\"line\": {\"color\": \"orange\"}, \"name\": \"exposed\", \"type\": \"scatter\", \"x\": [0, 1, 2, 3, 4, 5, 6, 7, 8, 9, 10, 11, 12, 13, 14, 15, 16, 17, 18, 19, 20, 21, 22, 23, 24, 25, 26, 27, 28, 29, 30, 31, 32, 33, 34, 35, 36, 37, 38, 39, 40, 41, 42, 43, 44, 45, 46, 47, 48, 49, 50, 51, 52, 53, 54, 55, 56, 57, 58, 59, 60, 61, 62, 63, 64, 65, 66, 67, 68, 69, 70, 71, 72, 73, 74, 75, 76, 77, 78, 79, 80, 81, 82, 83, 84, 85, 86, 87, 88, 89, 90, 91, 92, 93, 94, 95, 96, 97, 98, 99, 100, 101, 102, 103, 104, 105, 106, 107, 108, 109, 110, 111, 112, 113, 114, 115, 116, 117, 118, 119, 120, 121, 122, 123, 124, 125, 126, 127, 128, 129, 130, 131, 132, 133, 134, 135, 136, 137, 138, 139, 140, 141, 142, 143, 144, 145, 146, 147, 148, 149, 150, 151, 152, 153, 154, 155, 156, 157, 158, 159, 160, 161, 162, 163, 164, 165, 166, 167, 168, 169, 170, 171, 172, 173, 174, 175, 176, 177, 178, 179, 180, 181, 182, 183, 184, 185, 186, 187, 188, 189, 190, 191, 192, 193, 194, 195, 196, 197, 198, 199, 200, 201, 202, 203, 204, 205, 206, 207, 208, 209, 210, 211, 212, 213, 214, 215, 216, 217, 218, 219, 220, 221, 222, 223, 224, 225, 226, 227, 228, 229, 230, 231, 232, 233, 234, 235, 236, 237, 238, 239, 240, 241, 242, 243, 244, 245, 246, 247, 248, 249, 250, 251, 252, 253, 254, 255, 256, 257, 258, 259, 260, 261, 262, 263, 264, 265, 266, 267, 268, 269, 270, 271, 272, 273, 274, 275, 276, 277, 278, 279, 280, 281, 282, 283, 284, 285, 286, 287, 288, 289, 290, 291, 292, 293, 294, 295, 296, 297, 298], \"y\": [0.0010812369350537015, 0.0010271750883010164, 0.001063216319469473, 0.0010812369350537015, 0.0010271750883010164, 0.0011893606285590715, 0.0014596698623224969, 0.001405608015569812, 0.001567793555827867, 0.001711958480501694, 0.0022345563324443164, 0.0025769480285446553, 0.0028652778778923086, 0.003171628342824191, 0.0037122468103510417, 0.004072659122035608, 0.004397030202551719, 0.004865566207741656, 0.005622432062279248, 0.006163050529806098, 0.006649607150580264, 0.007190225618107115, 0.008091256397318532, 0.008974266560945722, 0.009803214877820226, 0.010650183810278959, 0.011803503207669574, 0.013353276147913212, 0.014434513082966914, 0.016056368485547465, 0.017696244503712245, 0.019101852519282057, 0.020237151301088444, 0.021750883010163626, 0.024003459958192173, 0.025715418438693866, 0.02766164492179053, 0.029932242485403302, 0.032328984358105675, 0.03409500468536005, 0.0370503856411735, 0.03973545736322353, 0.04195199308008361, 0.04461904418654941, 0.046907662365746415, 0.050655950407265914, 0.05462048583579615, 0.056638794781229726, 0.059323866503279754, 0.06231528869026166, 0.06509046349023283, 0.06775751459669863, 0.07010019462264831, 0.0720644417213292, 0.07420889497585237, 0.07507388452389534, 0.07660563684855475, 0.07597491530310675, 0.07754270885893462, 0.07768687378360845, 0.07691198731348663, 0.07629928638362286, 0.07702011100699199, 0.07588481222518562, 0.07424493620702083, 0.07210048295249766, 0.06896489584084192, 0.0673610610538456, 0.06588337057593888, 0.06521660779932242, 0.06388308224608953, 0.06002667051106466, 0.0578281554097888, 0.05534131045916529, 0.05362935197866359, 0.05144885749297196, 0.04838535284365314, 0.04568226050601889, 0.043411662942406115, 0.03966337490088662, 0.037122468103510414, 0.03461760253730267, 0.03268939666979024, 0.02996828371657176, 0.028238304620485835, 0.026616449217905284, 0.025300944280256612, 0.023084408563396525, 0.021282347004973688, 0.020002883298493476, 0.01839904851149715, 0.017732285734880702, 0.016615007568658545, 0.015497729402436388, 0.014290348158293087, 0.013371296763497442, 0.012758595833633677, 0.01162329705182729, 0.010848410581705471, 0.010361853960931306, 0.00944280256613566, 0.0084516687090031, 0.00767678223888128, 0.0071722050025228865, 0.006415339147985295, 0.006487421610322209, 0.006343256685648382, 0.0055863908311107905, 0.005117854825920853, 0.004775463129820514, 0.004541195127225546, 0.004288906509046349, 0.004036617890867152, 0.0036581849635983566, 0.0034058963454191597, 0.0032437108051611044, 0.003225690189576876, 0.0031536077272399624, 0.00252288618179197, 0.002126432638938946, 0.002162473870107403, 0.002378721257118143, 0.0024147624882866, 0.0022165357168600877, 0.002108412023354718, 0.0018381027895912924, 0.0016398760181647804, 0.001513731709075182, 0.0013515461688171269, 0.001369566784401355, 0.0012794637064802133, 0.0012794637064802133, 0.00131550493764867, 0.0013335255532328984, 0.0010992575506379298, 0.0012073812441433, 0.0011172781662221582, 0.0010451957038852446, 0.001009154472716788, 0.0009911338571325598, 0.0010812369350537015, 0.0010451957038852446, 0.001063216319469473, 0.0010812369350537015, 0.0010812369350537015, 0.0010271750883010164, 0.001009154472716788, 0.0009911338571325598, 0.000955092625964103, 0.0008109277012902761, 0.0008109277012902761, 0.0008289483168745044, 0.0008649895480429612, 0.0009731132415483313, 0.0009190513947956462, 0.0008289483168745044, 0.0008289483168745044, 0.0008109277012902761, 0.0008109277012902761, 0.0008649895480429612, 0.0009370720103798745, 0.0009370720103798745, 0.0009010307792114179, 0.0009190513947956462, 0.000702804007784906, 0.0007388452389533626, 0.0006847833922006775, 0.0007388452389533626, 0.0007929070857060478, 0.0009010307792114179, 0.0008830101636271895, 0.0008289483168745044, 0.0008109277012902761, 0.0007748864701218193, 0.000702804007784906, 0.0007208246233691343, 0.000702804007784906, 0.0007208246233691343, 0.0007388452389533626, 0.0006127009298637641, 0.0006487421610322209, 0.0005586390831110791, 0.0005406184675268508, 0.0005766596986953074, 0.0006307215454479925, 0.0006847833922006775, 0.0006307215454479925, 0.0006307215454479925, 0.0006307215454479925, 0.0006667627766164492, 0.0007208246233691343, 0.0007208246233691343, 0.0006487421610322209, 0.0006307215454479925, 0.0006127009298637641, 0.0006307215454479925, 0.0006667627766164492, 0.0006127009298637641, 0.0006487421610322209, 0.0006667627766164492, 0.0006307215454479925, 0.0006667627766164492, 0.000756865854537591, 0.0007929070857060478, 0.0007388452389533626, 0.000702804007784906, 0.000702804007784906, 0.0006667627766164492, 0.000756865854537591, 0.0007748864701218193, 0.000756865854537591, 0.000702804007784906, 0.0006847833922006775, 0.0006847833922006775, 0.0006487421610322209, 0.0005766596986953074, 0.0006307215454479925, 0.0007208246233691343, 0.000702804007784906, 0.000756865854537591, 0.0007929070857060478, 0.0007748864701218193, 0.000702804007784906, 0.000702804007784906, 0.0007748864701218193, 0.0005586390831110791, 0.0006127009298637641, 0.0007208246233691343, 0.0006847833922006775, 0.0006487421610322209, 0.0006487421610322209, 0.0005766596986953074, 0.0005766596986953074, 0.0006127009298637641, 0.0006487421610322209, 0.0006307215454479925, 0.0006667627766164492, 0.0006487421610322209, 0.0006667627766164492, 0.0006847833922006775, 0.0006127009298637641, 0.0006487421610322209, 0.0006307215454479925, 0.0006667627766164492, 0.0007388452389533626, 0.0007388452389533626, 0.000756865854537591, 0.0007388452389533626, 0.000756865854537591, 0.0007929070857060478, 0.0008469689324587328, 0.0007748864701218193, 0.0007208246233691343, 0.0007208246233691343, 0.0006847833922006775, 0.0006667627766164492, 0.0006127009298637641, 0.0006487421610322209, 0.0005946803142795358, 0.0006307215454479925, 0.0005406184675268508, 0.0005406184675268508, 0.0006307215454479925, 0.0006127009298637641, 0.0006487421610322209, 0.0006127009298637641, 0.0006127009298637641, 0.0007748864701218193, 0.0008289483168745044, 0.0008109277012902761, 0.0008289483168745044, 0.000756865854537591, 0.0008109277012902761, 0.0007748864701218193, 0.0007388452389533626, 0.000702804007784906, 0.000702804007784906, 0.000702804007784906, 0.0006307215454479925, 0.0006847833922006775, 0.0007208246233691343, 0.0006487421610322209, 0.0005946803142795358, 0.0006667627766164492, 0.0006487421610322209, 0.000756865854537591, 0.000756865854537591, 0.000756865854537591, 0.0007748864701218193, 0.0007748864701218193, 0.0007388452389533626, 0.0007748864701218193, 0.0007388452389533626, 0.0007208246233691343, 0.0007208246233691343, 0.0006487421610322209, 0.0006127009298637641, 0.0006667627766164492, 0.0006847833922006775]}, {\"line\": {\"color\": \"red\"}, \"name\": \"infected\", \"type\": \"scatter\", \"x\": [0, 1, 2, 3, 4, 5, 6, 7, 8, 9, 10, 11, 12, 13, 14, 15, 16, 17, 18, 19, 20, 21, 22, 23, 24, 25, 26, 27, 28, 29, 30, 31, 32, 33, 34, 35, 36, 37, 38, 39, 40, 41, 42, 43, 44, 45, 46, 47, 48, 49, 50, 51, 52, 53, 54, 55, 56, 57, 58, 59, 60, 61, 62, 63, 64, 65, 66, 67, 68, 69, 70, 71, 72, 73, 74, 75, 76, 77, 78, 79, 80, 81, 82, 83, 84, 85, 86, 87, 88, 89, 90, 91, 92, 93, 94, 95, 96, 97, 98, 99, 100, 101, 102, 103, 104, 105, 106, 107, 108, 109, 110, 111, 112, 113, 114, 115, 116, 117, 118, 119, 120, 121, 122, 123, 124, 125, 126, 127, 128, 129, 130, 131, 132, 133, 134, 135, 136, 137, 138, 139, 140, 141, 142, 143, 144, 145, 146, 147, 148, 149, 150, 151, 152, 153, 154, 155, 156, 157, 158, 159, 160, 161, 162, 163, 164, 165, 166, 167, 168, 169, 170, 171, 172, 173, 174, 175, 176, 177, 178, 179, 180, 181, 182, 183, 184, 185, 186, 187, 188, 189, 190, 191, 192, 193, 194, 195, 196, 197, 198, 199, 200, 201, 202, 203, 204, 205, 206, 207, 208, 209, 210, 211, 212, 213, 214, 215, 216, 217, 218, 219, 220, 221, 222, 223, 224, 225, 226, 227, 228, 229, 230, 231, 232, 233, 234, 235, 236, 237, 238, 239, 240, 241, 242, 243, 244, 245, 246, 247, 248, 249, 250, 251, 252, 253, 254, 255, 256, 257, 258, 259, 260, 261, 262, 263, 264, 265, 266, 267, 268, 269, 270, 271, 272, 273, 274, 275, 276, 277, 278, 279, 280, 281, 282, 283, 284, 285, 286, 287, 288, 289, 290, 291, 292, 293, 294, 295, 296, 297, 298], \"y\": [0.0, 0.00014416492467382686, 0.0002703092337634254, 0.0004324947740214806, 0.0006487421610322209, 0.000756865854537591, 0.0008289483168745044, 0.0011713400129748433, 0.0014776904779067253, 0.0016398760181647804, 0.001766020327254379, 0.0018381027895912924, 0.002036329561017804, 0.0024868449506235133, 0.002775174799971167, 0.003279752036329561, 0.003694226194766813, 0.004018597275282924, 0.004324947740214806, 0.0048295249765732, 0.005568370215526562, 0.006127009298637642, 0.006703668997332949, 0.00756865854537591, 0.008523751171340013, 0.00944280256613566, 0.010289771498594393, 0.011262884740142724, 0.012794637064802133, 0.013983997693361205, 0.015497729402436388, 0.016813234340085057, 0.018254883586823326, 0.020038924529661932, 0.021642759316658256, 0.02403950118936063, 0.02596770705687306, 0.028112160311396236, 0.030635046493188208, 0.03389677791393354, 0.036563829020399334, 0.03944712751387587, 0.043033230015137314, 0.04642110574497225, 0.04995314639948101, 0.05346716643840554, 0.056314423700713614, 0.06056728897859151, 0.06454984502270597, 0.06851438045123621, 0.07159590571613926, 0.07538023498882722, 0.07945289411086283, 0.08366971815757226, 0.08779643912636055, 0.0917069127081381, 0.0954552007496576, 0.1000864989548043, 0.10284365313919124, 0.1055467454768255, 0.10799754919628055, 0.11016002306638795, 0.11059251784040942, 0.11234051755207958, 0.11421466157283933, 0.11421466157283933, 0.11516975419880343, 0.11545808404815108, 0.11372810495206516, 0.11075470338066748, 0.1087363944352339, 0.10700641533914798, 0.10408707561450299, 0.10131190081453183, 0.09873495278598717, 0.09523895336264687, 0.09195920132631731, 0.08837309882505587, 0.08576010956534275, 0.08314712030562964, 0.07966914149787356, 0.07597491530310675, 0.0704065450875802, 0.0674872053629352, 0.06350464931882073, 0.059287825272111294, 0.05600807323578173, 0.05303467166438405, 0.05025949686441289, 0.04652922943847762, 0.04388019894759605, 0.04124918907229871, 0.03840193180999063, 0.035482592085345634, 0.033103870828227494, 0.031121603113962372, 0.028923088012686515, 0.02665249044907374, 0.024958552584156274, 0.02312044979456498, 0.022093274706263967, 0.020543501766020326, 0.019552367908887768, 0.018146759893317956, 0.017083543573848482, 0.016056368485547465, 0.014848987241404167, 0.013533482303755496, 0.013010884451812874, 0.012037771210264543, 0.01119080227780581, 0.010163627189504794, 0.009568946875225257, 0.009028328407698407, 0.008505730555755785, 0.008217400706408131, 0.007334390542780941, 0.006559504072659122, 0.006433359763569523, 0.006108988683053413, 0.005568370215526562, 0.0051358754415050814, 0.004811504360988972, 0.004469112664888633, 0.004288906509046349, 0.00405463850645138, 0.00394651481294601, 0.00373026742593527, 0.0035140200389245295, 0.003225690189576876, 0.003081525264903049, 0.0029914221869819075, 0.0026490304908815686, 0.0023426800259496866, 0.0022165357168600877, 0.0020903914077704893, 0.002126432638938946, 0.002072370792186261, 0.002054350176602033, 0.002054350176602033, 0.002036329561017804, 0.0018921646363439775, 0.0018200821740070642, 0.0017299790960859224, 0.0015317523246594104, 0.0016218554025805522, 0.001513731709075182, 0.0016038347869963237, 0.001567793555827867, 0.0015858141714120955, 0.0014776904779067253, 0.0016218554025805522, 0.0016218554025805522, 0.0015317523246594104, 0.0014236286311540402, 0.0014236286311540402, 0.0014236286311540402, 0.0014236286311540402, 0.0014776904779067253, 0.0014596698623224969, 0.0014416492467382686, 0.0014776904779067253, 0.0014596698623224969, 0.001369566784401355, 0.0015497729402436386, 0.0014236286311540402, 0.0012434224753117566, 0.0011172781662221582, 0.001009154472716788, 0.0009731132415483313, 0.001063216319469473, 0.0011713400129748433, 0.0012794637064802133, 0.001261443090895985, 0.0013335255532328984, 0.0013515461688171269, 0.0013515461688171269, 0.001261443090895985, 0.00131550493764867, 0.0012974843220644417, 0.0012073812441433, 0.001261443090895985, 0.0012794637064802133, 0.0012073812441433, 0.0011352987818063864, 0.0010271750883010164, 0.0011172781662221582, 0.0010451957038852446, 0.0009370720103798745, 0.0008469689324587328, 0.0009190513947956462, 0.0009731132415483313, 0.0009370720103798745, 0.0010271750883010164, 0.001009154472716788, 0.0010451957038852446, 0.0010812369350537015, 0.001063216319469473, 0.001063216319469473, 0.0010451957038852446, 0.0010992575506379298, 0.0010451957038852446, 0.0009731132415483313, 0.0009010307792114179, 0.0009370720103798745, 0.000955092625964103, 0.0009911338571325598, 0.001063216319469473, 0.0010992575506379298, 0.0010271750883010164, 0.0010271750883010164, 0.0010992575506379298, 0.0011713400129748433, 0.0010992575506379298, 0.0011352987818063864, 0.0011533193973906149, 0.0011713400129748433, 0.0009911338571325598, 0.0009911338571325598, 0.0009190513947956462, 0.0009731132415483313, 0.0010451957038852446, 0.0010992575506379298, 0.0011533193973906149, 0.0011893606285590715, 0.001261443090895985, 0.0011893606285590715, 0.0011352987818063864, 0.001063216319469473, 0.001063216319469473, 0.001063216319469473, 0.0010812369350537015, 0.0011172781662221582, 0.0010992575506379298, 0.001009154472716788, 0.001063216319469473, 0.000955092625964103, 0.0009370720103798745, 0.000955092625964103, 0.0009010307792114179, 0.0010271750883010164, 0.001009154472716788, 0.0010271750883010164, 0.0010812369350537015, 0.0010271750883010164, 0.001009154472716788, 0.000955092625964103, 0.0010812369350537015, 0.0010451957038852446, 0.0011352987818063864, 0.0011352987818063864, 0.0011893606285590715, 0.0010812369350537015, 0.0010812369350537015, 0.001063216319469473, 0.0011172781662221582, 0.0012254018597275282, 0.0012794637064802133, 0.00131550493764867, 0.0011713400129748433, 0.001369566784401355, 0.0012434224753117566, 0.0011533193973906149, 0.0010271750883010164, 0.0009911338571325598, 0.0010451957038852446, 0.0010992575506379298, 0.0010271750883010164, 0.0009370720103798745, 0.0008469689324587328, 0.0009190513947956462, 0.001009154472716788, 0.0009370720103798745, 0.0009370720103798745, 0.001063216319469473, 0.0011352987818063864, 0.0010992575506379298, 0.0010812369350537015, 0.0011713400129748433, 0.0011352987818063864, 0.0010812369350537015, 0.0010992575506379298, 0.0011893606285590715, 0.0011172781662221582, 0.0011172781662221582, 0.0009731132415483313, 0.0010451957038852446, 0.001063216319469473, 0.0010451957038852446, 0.0009911338571325598, 0.0009911338571325598, 0.0009190513947956462, 0.0009370720103798745, 0.001009154472716788, 0.000955092625964103, 0.0010812369350537015, 0.0011713400129748433, 0.0010812369350537015, 0.001009154472716788]}, {\"line\": {\"color\": \"purple\"}, \"name\": \"hospitalized\", \"type\": \"scatter\", \"x\": [0, 1, 2, 3, 4, 5, 6, 7, 8, 9, 10, 11, 12, 13, 14, 15, 16, 17, 18, 19, 20, 21, 22, 23, 24, 25, 26, 27, 28, 29, 30, 31, 32, 33, 34, 35, 36, 37, 38, 39, 40, 41, 42, 43, 44, 45, 46, 47, 48, 49, 50, 51, 52, 53, 54, 55, 56, 57, 58, 59, 60, 61, 62, 63, 64, 65, 66, 67, 68, 69, 70, 71, 72, 73, 74, 75, 76, 77, 78, 79, 80, 81, 82, 83, 84, 85, 86, 87, 88, 89, 90, 91, 92, 93, 94, 95, 96, 97, 98, 99, 100, 101, 102, 103, 104, 105, 106, 107, 108, 109, 110, 111, 112, 113, 114, 115, 116, 117, 118, 119, 120, 121, 122, 123, 124, 125, 126, 127, 128, 129, 130, 131, 132, 133, 134, 135, 136, 137, 138, 139, 140, 141, 142, 143, 144, 145, 146, 147, 148, 149, 150, 151, 152, 153, 154, 155, 156, 157, 158, 159, 160, 161, 162, 163, 164, 165, 166, 167, 168, 169, 170, 171, 172, 173, 174, 175, 176, 177, 178, 179, 180, 181, 182, 183, 184, 185, 186, 187, 188, 189, 190, 191, 192, 193, 194, 195, 196, 197, 198, 199, 200, 201, 202, 203, 204, 205, 206, 207, 208, 209, 210, 211, 212, 213, 214, 215, 216, 217, 218, 219, 220, 221, 222, 223, 224, 225, 226, 227, 228, 229, 230, 231, 232, 233, 234, 235, 236, 237, 238, 239, 240, 241, 242, 243, 244, 245, 246, 247, 248, 249, 250, 251, 252, 253, 254, 255, 256, 257, 258, 259, 260, 261, 262, 263, 264, 265, 266, 267, 268, 269, 270, 271, 272, 273, 274, 275, 276, 277, 278, 279, 280, 281, 282, 283, 284, 285, 286, 287, 288, 289, 290, 291, 292, 293, 294, 295, 296, 297, 298], \"y\": [0.0, 0.0, 0.0, 0.0, 0.0, 0.0, 1.8020615584228357e-05, 1.8020615584228357e-05, 1.8020615584228357e-05, 1.8020615584228357e-05, 1.8020615584228357e-05, 1.8020615584228357e-05, 1.8020615584228357e-05, 1.8020615584228357e-05, 7.208246233691343e-05, 9.010307792114179e-05, 0.00010812369350537015, 0.00014416492467382686, 0.00016218554025805522, 0.00018020615584228358, 0.0002703092337634254, 0.0002703092337634254, 0.000252288618179197, 0.000252288618179197, 0.00023426800259496863, 0.0002703092337634254, 0.0002883298493476537, 0.00030635046493188205, 0.0004144741584372522, 0.0005586390831110791, 0.0006487421610322209, 0.0006667627766164492, 0.0006847833922006775, 0.0007208246233691343, 0.0007929070857060478, 0.000955092625964103, 0.0009010307792114179, 0.0010812369350537015, 0.0011533193973906149, 0.001261443090895985, 0.001405608015569812, 0.001513731709075182, 0.0016939378649174655, 0.001766020327254379, 0.0018921646363439775, 0.0020903914077704893, 0.0021804944856916313, 0.0025409067973761984, 0.002721112953218482, 0.0029373603402292224, 0.003081525264903049, 0.0032076695739926475, 0.0035140200389245295, 0.0035140200389245295, 0.0039104735817775535, 0.004126720968788294, 0.003928494197361782, 0.00405463850645138, 0.004505153896057089, 0.0050637929791681685, 0.005424205290852736, 0.005712535140200389, 0.006127009298637642, 0.006559504072659122, 0.006721689612917177, 0.0071722050025228865, 0.007496576083038996, 0.007550637929791682, 0.007911050241476248, 0.008253441937576588, 0.008487709940171556, 0.008938225329777266, 0.00899228717652995, 0.008938225329777266, 0.009298637641461832, 0.00931665825704606, 0.009550926259641029, 0.009280617025877604, 0.009226555179124919, 0.009010307792114178, 0.00910041087003532, 0.008812081020687666, 0.009010307792114178, 0.008956245945361494, 0.008974266560945722, 0.009010307792114178, 0.008902184098608809, 0.00855979240250847, 0.008487709940171556, 0.00823542132199236, 0.007820947163555107, 0.007586679160960138, 0.007208246233691343, 0.006811792690838319, 0.006487421610322209, 0.006397318532401067, 0.006072947451884956, 0.005550349599942334, 0.00526201975059468, 0.00504577236358394, 0.004559215742809775, 0.004180782815540979, 0.0039104735817775535, 0.003694226194766813, 0.0032437108051611044, 0.0029553809558134506, 0.002757154184386939, 0.0026129892597131117, 0.002360700641533915, 0.0022165357168600877, 0.002072370792186261, 0.0020002883298493477, 0.0018381027895912924, 0.0018381027895912924, 0.001711958480501694, 0.001711958480501694, 0.0015858141714120955, 0.0014596698623224969, 0.0013875873999855835, 0.0012254018597275282, 0.0011893606285590715, 0.0011533193973906149, 0.0010812369350537015, 0.0009010307792114179, 0.0008649895480429612, 0.0008469689324587328, 0.0008109277012902761, 0.0008289483168745044, 0.0008289483168745044, 0.0007388452389533626, 0.000702804007784906, 0.0006667627766164492, 0.0006667627766164492, 0.0006127009298637641, 0.0005586390831110791, 0.0005586390831110791, 0.000504577236358394, 0.000504577236358394, 0.0004324947740214806, 0.0003784329272687955, 0.00030635046493188205, 0.00032437108051611044, 0.000252288618179197, 0.00019822677142651194, 0.00023426800259496863, 0.00019822677142651194, 0.0002162473870107403, 0.00023426800259496863, 0.000252288618179197, 0.0002162473870107403, 0.00019822677142651194, 0.00018020615584228358, 0.00018020615584228358, 0.00019822677142651194, 0.00018020615584228358, 0.00018020615584228358, 0.00018020615584228358, 0.00016218554025805522, 0.00016218554025805522, 0.0002162473870107403, 0.00018020615584228358, 0.00016218554025805522, 0.00016218554025805522, 0.00016218554025805522, 0.00019822677142651194, 0.00019822677142651194, 0.000252288618179197, 0.0002703092337634254, 0.0002703092337634254, 0.0002883298493476537, 0.0002883298493476537, 0.0002703092337634254, 0.0002703092337634254, 0.0002883298493476537, 0.00023426800259496863, 0.0002703092337634254, 0.000252288618179197, 0.00032437108051611044, 0.00030635046493188205, 0.0002883298493476537, 0.00032437108051611044, 0.00034239169610033877, 0.00036041231168456716, 0.00032437108051611044, 0.00030635046493188205, 0.0002703092337634254, 0.0002703092337634254, 0.0002162473870107403, 0.00023426800259496863, 0.0002162473870107403, 0.00019822677142651194, 0.00018020615584228358, 0.00018020615584228358, 0.00014416492467382686, 0.00014416492467382686, 0.0001261443090895985, 9.010307792114179e-05, 0.0001261443090895985, 0.0001261443090895985, 0.00016218554025805522, 0.00019822677142651194, 0.0002162473870107403, 0.00023426800259496863, 0.000252288618179197, 0.00023426800259496863, 0.0002162473870107403, 0.00018020615584228358, 0.00014416492467382686, 0.00014416492467382686, 0.0001261443090895985, 0.00016218554025805522, 0.00016218554025805522, 0.00014416492467382686, 0.00018020615584228358, 0.00019822677142651194, 0.00016218554025805522, 0.00016218554025805522, 0.0002162473870107403, 0.0002162473870107403, 0.0002162473870107403, 0.0002162473870107403, 0.00023426800259496863, 0.0002162473870107403, 0.00019822677142651194, 0.00014416492467382686, 0.00016218554025805522, 0.00018020615584228358, 0.0002162473870107403, 0.00019822677142651194, 0.00018020615584228358, 0.00018020615584228358, 0.00018020615584228358, 0.00019822677142651194, 0.00016218554025805522, 0.00018020615584228358, 0.00016218554025805522, 0.00016218554025805522, 0.00018020615584228358, 0.00016218554025805522, 0.00014416492467382686, 0.00014416492467382686, 0.00014416492467382686, 0.0001261443090895985, 0.0001261443090895985, 0.00014416492467382686, 0.00014416492467382686, 0.0001261443090895985, 0.00010812369350537015, 7.208246233691343e-05, 5.4061846752685075e-05, 3.6041231168456714e-05, 5.4061846752685075e-05, 5.4061846752685075e-05, 5.4061846752685075e-05, 9.010307792114179e-05, 9.010307792114179e-05, 0.00010812369350537015, 0.00014416492467382686, 0.0001261443090895985, 0.0001261443090895985, 0.00010812369350537015, 0.00010812369350537015, 7.208246233691343e-05, 0.00010812369350537015, 0.00010812369350537015, 0.00010812369350537015, 0.00010812369350537015, 0.00014416492467382686, 0.00010812369350537015, 0.00010812369350537015, 0.00010812369350537015, 0.00010812369350537015, 0.00010812369350537015, 0.0001261443090895985, 0.0001261443090895985, 0.0001261443090895985, 0.00014416492467382686, 0.0001261443090895985, 0.00014416492467382686, 0.00016218554025805522, 0.00014416492467382686, 0.00018020615584228358, 0.00018020615584228358, 0.00018020615584228358, 0.00018020615584228358, 0.00018020615584228358, 0.00016218554025805522, 0.00018020615584228358, 0.00019822677142651194, 0.00019822677142651194, 0.000252288618179197, 0.0002703092337634254, 0.0002703092337634254, 0.00030635046493188205, 0.00030635046493188205, 0.0002703092337634254, 0.0002162473870107403, 0.00023426800259496863, 0.00023426800259496863]}],\n",
       "                        {\"hovermode\": \"x\", \"template\": {\"data\": {\"bar\": [{\"error_x\": {\"color\": \"#2a3f5f\"}, \"error_y\": {\"color\": \"#2a3f5f\"}, \"marker\": {\"line\": {\"color\": \"#E5ECF6\", \"width\": 0.5}}, \"type\": \"bar\"}], \"barpolar\": [{\"marker\": {\"line\": {\"color\": \"#E5ECF6\", \"width\": 0.5}}, \"type\": \"barpolar\"}], \"carpet\": [{\"aaxis\": {\"endlinecolor\": \"#2a3f5f\", \"gridcolor\": \"white\", \"linecolor\": \"white\", \"minorgridcolor\": \"white\", \"startlinecolor\": \"#2a3f5f\"}, \"baxis\": {\"endlinecolor\": \"#2a3f5f\", \"gridcolor\": \"white\", \"linecolor\": \"white\", \"minorgridcolor\": \"white\", \"startlinecolor\": \"#2a3f5f\"}, \"type\": \"carpet\"}], \"choropleth\": [{\"colorbar\": {\"outlinewidth\": 0, \"ticks\": \"\"}, \"type\": \"choropleth\"}], \"contour\": [{\"colorbar\": {\"outlinewidth\": 0, \"ticks\": \"\"}, \"colorscale\": [[0.0, \"#0d0887\"], [0.1111111111111111, \"#46039f\"], [0.2222222222222222, \"#7201a8\"], [0.3333333333333333, \"#9c179e\"], [0.4444444444444444, \"#bd3786\"], [0.5555555555555556, \"#d8576b\"], [0.6666666666666666, \"#ed7953\"], [0.7777777777777778, \"#fb9f3a\"], [0.8888888888888888, \"#fdca26\"], [1.0, \"#f0f921\"]], \"type\": \"contour\"}], \"contourcarpet\": [{\"colorbar\": {\"outlinewidth\": 0, \"ticks\": \"\"}, \"type\": \"contourcarpet\"}], \"heatmap\": [{\"colorbar\": {\"outlinewidth\": 0, \"ticks\": \"\"}, \"colorscale\": [[0.0, \"#0d0887\"], [0.1111111111111111, \"#46039f\"], [0.2222222222222222, \"#7201a8\"], [0.3333333333333333, \"#9c179e\"], [0.4444444444444444, \"#bd3786\"], [0.5555555555555556, \"#d8576b\"], [0.6666666666666666, \"#ed7953\"], [0.7777777777777778, \"#fb9f3a\"], [0.8888888888888888, \"#fdca26\"], [1.0, \"#f0f921\"]], \"type\": \"heatmap\"}], \"heatmapgl\": [{\"colorbar\": {\"outlinewidth\": 0, \"ticks\": \"\"}, \"colorscale\": [[0.0, \"#0d0887\"], [0.1111111111111111, \"#46039f\"], [0.2222222222222222, \"#7201a8\"], [0.3333333333333333, \"#9c179e\"], [0.4444444444444444, \"#bd3786\"], [0.5555555555555556, \"#d8576b\"], [0.6666666666666666, \"#ed7953\"], [0.7777777777777778, \"#fb9f3a\"], [0.8888888888888888, \"#fdca26\"], [1.0, \"#f0f921\"]], \"type\": \"heatmapgl\"}], \"histogram\": [{\"marker\": {\"colorbar\": {\"outlinewidth\": 0, \"ticks\": \"\"}}, \"type\": \"histogram\"}], \"histogram2d\": [{\"colorbar\": {\"outlinewidth\": 0, \"ticks\": \"\"}, \"colorscale\": [[0.0, \"#0d0887\"], [0.1111111111111111, \"#46039f\"], [0.2222222222222222, \"#7201a8\"], [0.3333333333333333, \"#9c179e\"], [0.4444444444444444, \"#bd3786\"], [0.5555555555555556, \"#d8576b\"], [0.6666666666666666, \"#ed7953\"], [0.7777777777777778, \"#fb9f3a\"], [0.8888888888888888, \"#fdca26\"], [1.0, \"#f0f921\"]], \"type\": \"histogram2d\"}], \"histogram2dcontour\": [{\"colorbar\": {\"outlinewidth\": 0, \"ticks\": \"\"}, \"colorscale\": [[0.0, \"#0d0887\"], [0.1111111111111111, \"#46039f\"], [0.2222222222222222, \"#7201a8\"], [0.3333333333333333, \"#9c179e\"], [0.4444444444444444, \"#bd3786\"], [0.5555555555555556, \"#d8576b\"], [0.6666666666666666, \"#ed7953\"], [0.7777777777777778, \"#fb9f3a\"], [0.8888888888888888, \"#fdca26\"], [1.0, \"#f0f921\"]], \"type\": \"histogram2dcontour\"}], \"mesh3d\": [{\"colorbar\": {\"outlinewidth\": 0, \"ticks\": \"\"}, \"type\": \"mesh3d\"}], \"parcoords\": [{\"line\": {\"colorbar\": {\"outlinewidth\": 0, \"ticks\": \"\"}}, \"type\": \"parcoords\"}], \"pie\": [{\"automargin\": true, \"type\": \"pie\"}], \"scatter\": [{\"marker\": {\"colorbar\": {\"outlinewidth\": 0, \"ticks\": \"\"}}, \"type\": \"scatter\"}], \"scatter3d\": [{\"line\": {\"colorbar\": {\"outlinewidth\": 0, \"ticks\": \"\"}}, \"marker\": {\"colorbar\": {\"outlinewidth\": 0, \"ticks\": \"\"}}, \"type\": \"scatter3d\"}], \"scattercarpet\": [{\"marker\": {\"colorbar\": {\"outlinewidth\": 0, \"ticks\": \"\"}}, \"type\": \"scattercarpet\"}], \"scattergeo\": [{\"marker\": {\"colorbar\": {\"outlinewidth\": 0, \"ticks\": \"\"}}, \"type\": \"scattergeo\"}], \"scattergl\": [{\"marker\": {\"colorbar\": {\"outlinewidth\": 0, \"ticks\": \"\"}}, \"type\": \"scattergl\"}], \"scattermapbox\": [{\"marker\": {\"colorbar\": {\"outlinewidth\": 0, \"ticks\": \"\"}}, \"type\": \"scattermapbox\"}], \"scatterpolar\": [{\"marker\": {\"colorbar\": {\"outlinewidth\": 0, \"ticks\": \"\"}}, \"type\": \"scatterpolar\"}], \"scatterpolargl\": [{\"marker\": {\"colorbar\": {\"outlinewidth\": 0, \"ticks\": \"\"}}, \"type\": \"scatterpolargl\"}], \"scatterternary\": [{\"marker\": {\"colorbar\": {\"outlinewidth\": 0, \"ticks\": \"\"}}, \"type\": \"scatterternary\"}], \"surface\": [{\"colorbar\": {\"outlinewidth\": 0, \"ticks\": \"\"}, \"colorscale\": [[0.0, \"#0d0887\"], [0.1111111111111111, \"#46039f\"], [0.2222222222222222, \"#7201a8\"], [0.3333333333333333, \"#9c179e\"], [0.4444444444444444, \"#bd3786\"], [0.5555555555555556, \"#d8576b\"], [0.6666666666666666, \"#ed7953\"], [0.7777777777777778, \"#fb9f3a\"], [0.8888888888888888, \"#fdca26\"], [1.0, \"#f0f921\"]], \"type\": \"surface\"}], \"table\": [{\"cells\": {\"fill\": {\"color\": \"#EBF0F8\"}, \"line\": {\"color\": \"white\"}}, \"header\": {\"fill\": {\"color\": \"#C8D4E3\"}, \"line\": {\"color\": \"white\"}}, \"type\": \"table\"}]}, \"layout\": {\"annotationdefaults\": {\"arrowcolor\": \"#2a3f5f\", \"arrowhead\": 0, \"arrowwidth\": 1}, \"coloraxis\": {\"colorbar\": {\"outlinewidth\": 0, \"ticks\": \"\"}}, \"colorscale\": {\"diverging\": [[0, \"#8e0152\"], [0.1, \"#c51b7d\"], [0.2, \"#de77ae\"], [0.3, \"#f1b6da\"], [0.4, \"#fde0ef\"], [0.5, \"#f7f7f7\"], [0.6, \"#e6f5d0\"], [0.7, \"#b8e186\"], [0.8, \"#7fbc41\"], [0.9, \"#4d9221\"], [1, \"#276419\"]], \"sequential\": [[0.0, \"#0d0887\"], [0.1111111111111111, \"#46039f\"], [0.2222222222222222, \"#7201a8\"], [0.3333333333333333, \"#9c179e\"], [0.4444444444444444, \"#bd3786\"], [0.5555555555555556, \"#d8576b\"], [0.6666666666666666, \"#ed7953\"], [0.7777777777777778, \"#fb9f3a\"], [0.8888888888888888, \"#fdca26\"], [1.0, \"#f0f921\"]], \"sequentialminus\": [[0.0, \"#0d0887\"], [0.1111111111111111, \"#46039f\"], [0.2222222222222222, \"#7201a8\"], [0.3333333333333333, \"#9c179e\"], [0.4444444444444444, \"#bd3786\"], [0.5555555555555556, \"#d8576b\"], [0.6666666666666666, \"#ed7953\"], [0.7777777777777778, \"#fb9f3a\"], [0.8888888888888888, \"#fdca26\"], [1.0, \"#f0f921\"]]}, \"colorway\": [\"#636efa\", \"#EF553B\", \"#00cc96\", \"#ab63fa\", \"#FFA15A\", \"#19d3f3\", \"#FF6692\", \"#B6E880\", \"#FF97FF\", \"#FECB52\"], \"font\": {\"color\": \"#2a3f5f\"}, \"geo\": {\"bgcolor\": \"white\", \"lakecolor\": \"white\", \"landcolor\": \"#E5ECF6\", \"showlakes\": true, \"showland\": true, \"subunitcolor\": \"white\"}, \"hoverlabel\": {\"align\": \"left\"}, \"hovermode\": \"closest\", \"mapbox\": {\"style\": \"light\"}, \"paper_bgcolor\": \"white\", \"plot_bgcolor\": \"#E5ECF6\", \"polar\": {\"angularaxis\": {\"gridcolor\": \"white\", \"linecolor\": \"white\", \"ticks\": \"\"}, \"bgcolor\": \"#E5ECF6\", \"radialaxis\": {\"gridcolor\": \"white\", \"linecolor\": \"white\", \"ticks\": \"\"}}, \"scene\": {\"xaxis\": {\"backgroundcolor\": \"#E5ECF6\", \"gridcolor\": \"white\", \"gridwidth\": 2, \"linecolor\": \"white\", \"showbackground\": true, \"ticks\": \"\", \"zerolinecolor\": \"white\"}, \"yaxis\": {\"backgroundcolor\": \"#E5ECF6\", \"gridcolor\": \"white\", \"gridwidth\": 2, \"linecolor\": \"white\", \"showbackground\": true, \"ticks\": \"\", \"zerolinecolor\": \"white\"}, \"zaxis\": {\"backgroundcolor\": \"#E5ECF6\", \"gridcolor\": \"white\", \"gridwidth\": 2, \"linecolor\": \"white\", \"showbackground\": true, \"ticks\": \"\", \"zerolinecolor\": \"white\"}}, \"shapedefaults\": {\"line\": {\"color\": \"#2a3f5f\"}}, \"ternary\": {\"aaxis\": {\"gridcolor\": \"white\", \"linecolor\": \"white\", \"ticks\": \"\"}, \"baxis\": {\"gridcolor\": \"white\", \"linecolor\": \"white\", \"ticks\": \"\"}, \"bgcolor\": \"#E5ECF6\", \"caxis\": {\"gridcolor\": \"white\", \"linecolor\": \"white\", \"ticks\": \"\"}}, \"title\": {\"x\": 0.05}, \"xaxis\": {\"automargin\": true, \"gridcolor\": \"white\", \"linecolor\": \"white\", \"ticks\": \"\", \"title\": {\"standoff\": 15}, \"zerolinecolor\": \"white\", \"zerolinewidth\": 2}, \"yaxis\": {\"automargin\": true, \"gridcolor\": \"white\", \"linecolor\": \"white\", \"ticks\": \"\", \"title\": {\"standoff\": 15}, \"zerolinecolor\": \"white\", \"zerolinewidth\": 2}}}},\n",
       "                        {\"responsive\": true}\n",
       "                    ).then(function(){\n",
       "                            \n",
       "var gd = document.getElementById('044657d7-e916-4a72-8c66-de2daa465348');\n",
       "var x = new MutationObserver(function (mutations, observer) {{\n",
       "        var display = window.getComputedStyle(gd).display;\n",
       "        if (!display || display === 'none') {{\n",
       "            console.log([gd, 'removed!']);\n",
       "            Plotly.purge(gd);\n",
       "            observer.disconnect();\n",
       "        }}\n",
       "}});\n",
       "\n",
       "// Listen for the removal of the full notebook cells\n",
       "var notebookContainer = gd.closest('#notebook-container');\n",
       "if (notebookContainer) {{\n",
       "    x.observe(notebookContainer, {childList: true});\n",
       "}}\n",
       "\n",
       "// Listen for the clearing of the current output cell\n",
       "var outputEl = gd.closest('.output');\n",
       "if (outputEl) {{\n",
       "    x.observe(outputEl, {childList: true});\n",
       "}}\n",
       "\n",
       "                        })\n",
       "                };\n",
       "                });\n",
       "            </script>\n",
       "        </div>"
      ]
     },
     "metadata": {},
     "output_type": "display_data"
    }
   ],
   "source": [
    "df = make_SIR_graph(one_full_sim()[2])\n",
    "#actions_3_colors = list(map(color_map_set3.get,  actions))\n",
    "#make_beds_graph(df, actions_3_colors, 7, 'Sim', color_map_set3)"
   ]
  },
  {
   "cell_type": "code",
   "execution_count": null,
   "metadata": {},
   "outputs": [],
   "source": [
    "fig = go.Figure()\n",
    "for d in data:\n",
    "    r = []\n",
    "    for day in range(5, 15):\n",
    "        infected = d[0][d[0][:,2] == day][:, 0]\n",
    "        r.append(np.mean([d[1][i] for i in infected]))\n",
    "    fig.add_trace(go.Scatter(x=list(range(len(r))), y=r, mode='lines', line=dict(color='red'), opacity=0.3))\n",
    "\n",
    "mean_line = []\n",
    "for day in range(5, 15):\n",
    "    r = []\n",
    "    for d in data:\n",
    "        infected = d[0][d[0][:,2] == day][:, 0]\n",
    "        r.append(np.mean([d[1][i] for i in infected]))\n",
    "    mean_line.append(np.mean(r))\n",
    "\n",
    "fig.add_trace(go.Scatter(x=list(range(len(mean_line))), y=mean_line, mode='markers+lines', \n",
    "                         line=dict(color='black'), opacity=0.7))\n",
    "\n",
    "fig.show()"
   ]
  },
  {
   "cell_type": "code",
   "execution_count": null,
   "metadata": {},
   "outputs": [],
   "source": [
    "r = []\n",
    "for day in range(5, 15):\n",
    "    infected = pop_matrix[pop_matrix[:,2] == day][:, 0]\n",
    "    r.append(np.mean([contacts_infected[i] for i in infected]))\n",
    "fig.add_trace(go.Scatter(x=list(range(len(r))), y=r, mode='lines+markers'))\n",
    "fig.add_trace(go.Scatter(x=list(range(len(r))), y=[np.mean(r)]*len(r), line=dict(dash='dash')))\n",
    "\n",
    "fig.show()"
   ]
  },
  {
   "cell_type": "code",
   "execution_count": null,
   "metadata": {},
   "outputs": [],
   "source": [
    "rolling_mean = pd.Series(r).rolling(3).mean()\n",
    "fig = go.Figure()\n",
    "ranges = [0,len(df)]\n",
    "colors = ['gray']#, 'yellow']#, 'green']\n",
    "for i in range(len(ranges)-1):\n",
    "    rll = rolling_mean[ranges[i]:ranges[i+1]]\n",
    "    fig.add_trace(go.Scatter(x=list(range(ranges[i], ranges[i+1])), y=rll, \n",
    "                             mode='markers+lines', marker=dict(color=colors[i]), ))\n",
    "    fig.add_trace(go.Scatter(x=list(range(ranges[i], ranges[i+1])), y=[np.mean(rll)]*len(rll), \n",
    "                             marker=dict(color='black'),line=dict(dash='dash') ))\n",
    "fig.show()\n"
   ]
  },
  {
   "cell_type": "code",
   "execution_count": null,
   "metadata": {},
   "outputs": [],
   "source": []
  },
  {
   "cell_type": "code",
   "execution_count": null,
   "metadata": {},
   "outputs": [],
   "source": []
  }
 ],
 "metadata": {
  "kernelspec": {
   "display_name": "Python 3",
   "language": "python",
   "name": "python3"
  },
  "language_info": {
   "codemirror_mode": {
    "name": "ipython",
    "version": 3
   },
   "file_extension": ".py",
   "mimetype": "text/x-python",
   "name": "python",
   "nbconvert_exporter": "python",
   "pygments_lexer": "ipython3",
   "version": "3.7.7"
  }
 },
 "nbformat": 4,
 "nbformat_minor": 4
}
