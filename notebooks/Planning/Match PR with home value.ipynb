{
 "cells": [
  {
   "cell_type": "code",
   "execution_count": 1,
   "metadata": {},
   "outputs": [],
   "source": [
    "#import os, sys\n",
    "#sys.path.insert(0, os.path.abspath('../src/models'))\n",
    "import os\n",
    "os.chdir('../../src/models')"
   ]
  },
  {
   "cell_type": "code",
   "execution_count": 2,
   "metadata": {},
   "outputs": [],
   "source": [
    "import plotly.express as px\n",
    "import plotly.graph_objects as go\n",
    "import datetime\n",
    "\n",
    "set3 = px.colors.qualitative.Set3\n",
    "\n",
    "color_map_set3 = {\n",
    "    'Lockdown':          set3[3],\n",
    "    'Hard Quarantine':    set3[11],\\\n",
    "    'Light Quarantine':   set3[1],\n",
    "    'Social Distancing':  'rgb(204, 245, 175)',\n",
    "    'Unrestricted':        set3[6]     \n",
    "}\n",
    "\n",
    "def make_SIR_graph(data):\n",
    "    d_counts = pd.DataFrame([pd.Series(d).value_counts() for d in data])\n",
    "    d_counts.fillna(0, inplace=True)\n",
    "    \n",
    "    fig = go.Figure()\n",
    "    x = list(range(len(d_counts[0])))\n",
    "\n",
    "    fig.add_trace(go.Scatter(x=x, y=d_counts[-1]/len(G.nodes()), name='removed',line_color='green'))\n",
    "    fig.add_trace(go.Scatter(x=x, y=d_counts[0]/len(G.nodes()), name='susceptible', line_color='blue'))\n",
    "    fig.add_trace(go.Scatter(x=x, y=d_counts[1]/len(G.nodes()), name='exposed',line_color ='orange'))\n",
    "    fig.add_trace(go.Scatter(x=x, y=d_counts[2]/len(G.nodes()), name='infected', line_color = 'red'))\n",
    "    fig.add_trace(go.Scatter(x=x, y=d_counts[3]/len(G.nodes()), name='hospitalized', line_color = 'purple'))\n",
    "    fig.update_layout(hovermode='x')\n",
    "    fig.show()\n",
    "    \n",
    "    return d_counts\n",
    "\n",
    "def make_beds_graph(data, actions, step_size, title, color_map):\n",
    "    fig = go.Figure()\n",
    "   \n",
    "    x = pd.date_range(datetime.date(2020, 2, 24), periods=len(data)+2)\n",
    "\n",
    "    fig.add_trace(go.Scatter(x=x, y=data[3]/55e3, name='hospitalized', line_color = 'royalblue',\n",
    "                            line=dict(width=3)))\n",
    "    fig.add_trace(go.Scatter(x=x, y=data[1]/55e3, name='exposed', line_color = 'firebrick',\n",
    "                            line=dict(width=3)))\n",
    "    fig.add_trace(go.Scatter(x=x, y=len(data)*[0.0025], name='capacity', line_color = 'black',\n",
    "                            line=dict(dash='dash', width = 2)))\n",
    "    fig.update_layout(\n",
    "        shapes=[\n",
    "            dict(\n",
    "                type=\"rect\",\n",
    "                # x-reference is assigned to the x-values\n",
    "                xref=\"x\",\n",
    "                # y-reference is assigned to the plot paper [0,1]\n",
    "                yref=\"paper\",\n",
    "                x0=x[step_size*i],\n",
    "                y0=0,\n",
    "                x1=x[step_size*(i+1)-1],\n",
    "                y1=1,\n",
    "                fillcolor=a,\n",
    "                opacity=0.5,\n",
    "                layer=\"below\",\n",
    "                line_width=0,\n",
    "            ) for i,a in enumerate(actions)] \n",
    "    )\n",
    "\n",
    "    for k,v in color_map.items():\n",
    "        fig.add_trace(go.Bar(x=[None], y=[None], marker=dict(color=v), name = k))\n",
    "\n",
    "    fig.update_layout(coloraxis = {'colorscale':'deep'}, xaxis={'showgrid': False},\n",
    "                      yaxis = {'showgrid': False},\n",
    "                      showlegend=True, title = title, hovermode=\"x\")\n",
    "\n",
    "    fig.show()"
   ]
  },
  {
   "cell_type": "code",
   "execution_count": 3,
   "metadata": {},
   "outputs": [],
   "source": [
    "from policies import policies, costs"
   ]
  },
  {
   "cell_type": "code",
   "execution_count": 4,
   "metadata": {},
   "outputs": [],
   "source": [
    "from tqdm import tqdm\n",
    "import numpy as np\n",
    "import pandas as pd"
   ]
  },
  {
   "cell_type": "code",
   "execution_count": 5,
   "metadata": {},
   "outputs": [
    {
     "name": "stdout",
     "output_type": "stream",
     "text": [
      "Loading Graph...Done!\n"
     ]
    }
   ],
   "source": [
    "import numpy as np\n",
    "import networkx as nx\n",
    "from tqdm import tqdm\n",
    "from disease_states import states_dict\n",
    "from patient_evolution import susceptible_to_exposed, change_state\n",
    "from functools import partial\n",
    "from policies import policies\n",
    "from collections import defaultdict\n",
    "\n",
    "print('Loading Graph...',  end='')\n",
    "G = nx.read_gpickle('../../data/processed/SP_multiGraph_Job_Edu_Level.gpickle')\n",
    "print('Done!')\n",
    "\n",
    "prhome = 0.06\n",
    "p_r = {\n",
    "    'home'    :  prhome,\n",
    "    'neighbor':  .05*prhome,\n",
    "    'work'    :  .05*prhome,\n",
    "    'school'  :  .2*prhome,\n",
    "}\n",
    "\n",
    "def init_infection(pct=.0001):\n",
    "    \"\"\"\n",
    "    Given a Graph G, infects pct% of population and set the\n",
    "    remainder as susceptible. This is considered day 0.\n",
    "\n",
    "    Args:\n",
    "        pct (float): percentage of people initially infected.\n",
    "\n",
    "    Returns:\n",
    "        new_matrix (np.array): 2D Array  arrays of id, state, day of infection\n",
    "            and current state duration of population.\n",
    "    \"\"\"\n",
    "\n",
    "    global G\n",
    "\n",
    "    size = int(len(G.nodes) * pct)\n",
    "    infected = list(np.random.choice(G.nodes(), size=size, replace=False))\n",
    "    infected = [x for x in infected]\n",
    "\n",
    "    pop_matrix = np.array([[node, states_dict['susceptible'],\n",
    "                            -1, -1, data['age']]\n",
    "                          for node, data in G.nodes(data=True)])\n",
    "    \n",
    "    contacts_infected = defaultdict(int)\n",
    "\n",
    "    matrix_change = pop_matrix[np.isin(pop_matrix[:, 0], infected)]\n",
    "\n",
    "    matrix_keep = pop_matrix[~np.isin(pop_matrix[:, 0], infected)]\n",
    "\n",
    "    matrix_change = np.apply_along_axis(susceptible_to_exposed,\n",
    "                                        1, matrix_change, day=0)\n",
    "\n",
    "    new_matrix = np.concatenate((matrix_keep, matrix_change))\n",
    "    assert new_matrix.shape == pop_matrix.shape\n",
    "\n",
    "    return new_matrix, contacts_infected\n",
    "\n",
    "\n",
    "def expose_population(pop_matrix, exposed, day):\n",
    "    \"\"\"\n",
    "    Receives the population matrix, an array containing ids of newly\n",
    "    exposed individuals and the current simulation day\n",
    "\n",
    "    Args:\n",
    "        pop_matrix (np.array): 2D Array  arrays of id, state, day of infection\n",
    "            and current state duration of population.\n",
    "\n",
    "        exposed (list): list of newly exposed people id\n",
    "        day (int): current simulation day\n",
    "\n",
    "    Returns:\n",
    "        new_matrix (np.array): The population matrix with the\n",
    "        newly exposed people exposed.\n",
    "    Raises:\n",
    "        ValueError: If shape of starting matrix is different from final matrix\n",
    "    \"\"\"\n",
    "    matrix_change = pop_matrix[np.isin(pop_matrix[:, 0], exposed)]\n",
    "    matrix_keep = pop_matrix[~np.isin(pop_matrix[:, 0], exposed)]\n",
    "    matrix_change = np.apply_along_axis(susceptible_to_exposed,\n",
    "                                        1, matrix_change, day=day)\n",
    "\n",
    "    new_matrix = np.concatenate((matrix_keep, matrix_change))\n",
    "\n",
    "    if new_matrix.shape != pop_matrix.shape:\n",
    "        raise ValueError(\"Input and output matrix shapes are different\")\n",
    "    return new_matrix\n",
    "\n",
    "\n",
    "def lambda_leak_expose(pop_matrix, day, lambda_leak=.0001):\n",
    "    \"\"\"\n",
    "    Receives the population matrix, the current day and the leak factor.\n",
    "    Chooses at random a lambda_leak percentage of the population to expose\n",
    "\n",
    "    Args:\n",
    "        pop_matrix (np.array): 2D Array  arrays of id, state, day of infection\n",
    "            and current state duration of population.\n",
    "\n",
    "        lambda_leak (float): the percentage of the population to expose\n",
    "\n",
    "        day: the current day of simulation\n",
    "\n",
    "    Returns:\n",
    "        new_matrix (np.array): The population matrix with the\n",
    "                               newly exposed people.\n",
    "    Raises:\n",
    "        ValueError: If shape of starting matrix is different from final matrix\n",
    "    \"\"\"\n",
    "    size = int(pop_matrix.shape[0]*lambda_leak)\n",
    "\n",
    "    susceptible = pop_matrix[np.where(pop_matrix[:, 1]\n",
    "                                      == states_dict['susceptible'])][:, 0]\n",
    "\n",
    "    exposed = np.random.choice(susceptible, size=size, replace=False)\n",
    "\n",
    "    if len(exposed) == 0:\n",
    "        return pop_matrix\n",
    "\n",
    "    new_matrix = expose_population(pop_matrix, exposed, day)\n",
    "\n",
    "    if new_matrix.shape != pop_matrix.shape:\n",
    "        raise ValueError(\"Input and output matrix shapes are different\")\n",
    "\n",
    "    return new_matrix\n",
    "\n",
    "\n",
    "def spread_through_contacts(spreader, restrictions):\n",
    "    \"\"\"\n",
    "    An infected person, or a spredear, infects each of\n",
    "    its contacts with chance equal to\n",
    "    np.random.random() < p_r[r] * (1 - restrictions[r]).\n",
    "    Returns an array of all the people successfully infected by the spreader.\n",
    "\n",
    "    Args:\n",
    "        spreader (int): id of the infected person that is\n",
    "                        spreading the disease.\n",
    "\n",
    "        restrictions (dictionary): a dictionary with a value between\n",
    "                                   zero and one for each type of relation\n",
    "\n",
    "    Returns:\n",
    "        infected (list): List of all the people infected by spreader.\n",
    "    \"\"\"\n",
    "    global G, p_r\n",
    "    spreader = spreader\n",
    "    contacts = [[y, v['edge_type']] for x, y, v\n",
    "                in G.edges(spreader, data=True)]\n",
    "\n",
    "    infected = [y for r in restrictions.keys() for y, v in contacts\n",
    "                if v == r\n",
    "                and np.random.random() < p_r[r] * (1 - restrictions[r])]\n",
    "\n",
    "    return infected\n",
    "\n",
    "\n",
    "def update_population(pop_matrix):\n",
    "    \"\"\"\n",
    "    Receives the population matrix and progress the infections\n",
    "    for all people. The state duration is decremented\n",
    "    and for those whom it reaches zero, they transition to the next state\n",
    "\n",
    "    Args:\n",
    "        pop_matrix (np.array): 2D Array  arrays of id, state, day of infection\n",
    "            and current state duration of population.\n",
    "\n",
    "    Returns:\n",
    "        new_matrix (np.array): The population matrix with the updated status.\n",
    "    Raises:\n",
    "        ValueError: If shape of starting matrix is different from final matrix\n",
    "    \"\"\"\n",
    "    matrix_keep = pop_matrix[np.isin(pop_matrix[:, 1],\n",
    "                                     [states_dict['susceptible'],\n",
    "                                     states_dict['removed']]\n",
    "                                     )]\n",
    "    matrix_change = pop_matrix[~np.isin(pop_matrix[:, 1],\n",
    "                                        [states_dict['susceptible'],\n",
    "                                        states_dict['removed']]\n",
    "                                        )]\n",
    "\n",
    "    matrix_change[:, 3] = matrix_change[:, 3].astype(int) - 1\n",
    "    matrix_no_change = matrix_change[matrix_change[:, 3].astype(int) > 0]\n",
    "    matrix_change = matrix_change[matrix_change[:, 3].astype(int) == 0]\n",
    "\n",
    "    if matrix_change.shape[0] > 0:\n",
    "        matrix_change = np.apply_along_axis(change_state, 1, matrix_change)\n",
    "\n",
    "    new_matrix = np.concatenate((matrix_keep, matrix_change, matrix_no_change))\n",
    "\n",
    "    if new_matrix.shape != pop_matrix.shape:\n",
    "        raise ValueError(\"Input and output matrix shapes are different\")\n",
    "    return new_matrix\n",
    "\n",
    "\n",
    "\n",
    "def spread_infection(pop_matrix, restrictions, day, contacts_infected=None):\n",
    "    \"\"\"\n",
    "    Receives the population matrix, the restrictions dictionary and the\n",
    "    current day. The disease spreads throught the relations in the graph:\n",
    "    each infected person has a chance to infect a susceptible contact with\n",
    "    it has an edge in the graph, conditioned to the current restrictions,\n",
    "    the p_r of each relation.\n",
    "\n",
    "    Args:\n",
    "        pop_matrix (np.array): 2D Array  arrays of id, state, day of infection\n",
    "            and current state duration of population.\n",
    "\n",
    "        restrictions (dictionary): a dictionary with a value between\n",
    "        zero and one for each type of relation\n",
    "\n",
    "        day: the current day of simulation\n",
    "\n",
    "    Returns:\n",
    "        new_matrix (np.array): The population matrix with the newly\n",
    "                                exposed people.\n",
    "    Raises:\n",
    "        ValueError: If shape of starting matrix is different from final matrix\n",
    "    \"\"\"\n",
    "    global G\n",
    "    mask = np.where(pop_matrix[:, 1] == states_dict['infected'])\n",
    "    currently_infected = pop_matrix[mask][:, 0]\n",
    "\n",
    "    if currently_infected.shape[0] == 0:\n",
    "        return pop_matrix, contacts_infected\n",
    "        \n",
    "    exposed = []\n",
    "    for spreader in currently_infected:\n",
    "        exp = spread_through_contacts(spreader, restrictions)\n",
    "        exp = [e for e in exp if e not in exposed]\n",
    "        if contacts_infected is not None:\n",
    "            contacts_infected[spreader] += len(exp)\n",
    "        exposed.extend(exp)\n",
    "        \n",
    "    exposed = np.unique(exposed)\n",
    "\n",
    "    mask = np.isin(pop_matrix[:, 0], exposed)\n",
    "    susceptible = np.isin(pop_matrix[np.array(mask)][:, 1],\n",
    "                          states_dict['susceptible'])\n",
    "    exposed = pop_matrix[np.array(mask)][:, 0][susceptible]\n",
    "\n",
    "    if len(exposed) == 0:\n",
    "        return pop_matrix, contacts_infected\n",
    "\n",
    "    new_matrix = expose_population(pop_matrix, exposed, day)\n",
    "\n",
    "    if new_matrix.shape != pop_matrix.shape:\n",
    "        raise ValueError(\"Input and output matrix shapes are different\")\n",
    "\n",
    "\n",
    "    return new_matrix, contacts_infected\n",
    "\n",
    "\n",
    "def main(policy='Unrestricted', days=500):\n",
    "    \"\"\"\n",
    "    Receives the policy to be used during the simulation and for how many days\n",
    "    the simulation should run for. The policy should be a Key in the policies\n",
    "    dict inside policies.py.\n",
    "\n",
    "    One full step consists of:\n",
    "        Spreading the infection\n",
    "        Exposing through leakage\n",
    "        Updating the disease evolution of the population\n",
    "\n",
    "    Args:\n",
    "        pop_matrix (string): The name of a policy that exists is policies.policies.\n",
    "\n",
    "        days (int): For how long should the policy run.\n",
    "\n",
    "\n",
    "    Returns: data (np.array): An array of arrays containing the status of \n",
    "    the population at each time step.\n",
    "    \n",
    "    \"\"\"\n",
    "\n",
    "    pop_matrix, contacts_infected = init_infection(.0001)\n",
    "\n",
    "    data = []\n",
    "\n",
    "    # restrictions={'work':0, 'school': 0, 'home':0, 'neighbor':0}\n",
    "    restrictions = policies[policy]\n",
    "    print(restrictions)\n",
    "\n",
    "    for day in tqdm(range(1, days)):\n",
    "        # if less than 90% already recovered, break simulation\n",
    "        if (pop_matrix[np.where(pop_matrix[:, 1] == -1)].shape[0] > pop_matrix.shape[0]*.9):\n",
    "            break\n",
    "\n",
    "        pop_matrix, contacts_infected = spread_infection(pop_matrix, restrictions, day, contacts_infected)\n",
    "        pop_matrix = lambda_leak_expose(pop_matrix, day)\n",
    "        pop_matrix = update_population(pop_matrix)\n",
    "\n",
    "        data.append(np.array(sorted(pop_matrix, key=lambda x: x[0]))[:, 1])\n",
    "\n",
    "    return data, contacts_infected, pop_matrix"
   ]
  },
  {
   "cell_type": "code",
   "execution_count": 14,
   "metadata": {},
   "outputs": [],
   "source": [
    "prhome = 0.06\n",
    "\n",
    "p_r = {\n",
    "    'home'    :  prhome,\n",
    "    'neighbor':  .1*prhome,\n",
    "    'work'    :  .1*prhome,\n",
    "    'school'  :  .15*prhome,\n",
    "}\n",
    "\n",
    "def one_full_sim():\n",
    "    pop_matrix, contacts_infected = init_infection(.001)\n",
    "\n",
    "    data = []\n",
    "    days = 25\n",
    "\n",
    "    #restrictions = policies[policy]\n",
    "\n",
    "    for day in range(1, days):\n",
    "        # if less than 90% already recovered, break simulation\n",
    "        if (pop_matrix[np.where(pop_matrix[:, 1] == 0)].shape[0]\n",
    "                < pop_matrix.shape[0]*.97):\n",
    "            break\n",
    "\n",
    "        restrictions = policies['Unrestricted']\n",
    "        #if day <= 15:\n",
    "        #    restrictions = policies['Unrestricted']\n",
    "        #else : \n",
    "        #    restrictions = policies['Light Quarantine']\n",
    "        #else: \n",
    "        #    restrictions = policies['Social Distancing']\n",
    "\n",
    "        pop_matrix, contacts_infected = spread_infection(pop_matrix, restrictions, day, contacts_infected)\n",
    "        #pop_matrix = lambda_leak_expose(pop_matrix, day)\n",
    "        pop_matrix = update_population(pop_matrix)\n",
    "\n",
    "        data.append(np.array(sorted(pop_matrix, key=lambda x: x[0]))[:, 1])\n",
    "        \n",
    "    return pop_matrix, contacts_infected, data"
   ]
  },
  {
   "cell_type": "code",
   "execution_count": 15,
   "metadata": {
    "scrolled": false
   },
   "outputs": [
    {
     "name": "stderr",
     "output_type": "stream",
     "text": [
      "100%|████████████████████████████████████████████████████████████████████████████████| 100/100 [03:25<00:00,  2.05s/it]\n"
     ]
    }
   ],
   "source": [
    "data = [one_full_sim() for i in tqdm(range(100))]"
   ]
  },
  {
   "cell_type": "code",
   "execution_count": 17,
   "metadata": {},
   "outputs": [
    {
     "data": {
      "application/vnd.plotly.v1+json": {
       "config": {
        "plotlyServerURL": "https://plot.ly"
       },
       "data": [
        {
         "line": {
          "color": "red"
         },
         "mode": "lines",
         "opacity": 0.3,
         "showlegend": false,
         "type": "scatter",
         "x": [
          0,
          1,
          2,
          3,
          4,
          5,
          6,
          7,
          8,
          9
         ],
         "y": [
          5,
          4.7272727272727275,
          3.090909090909091,
          2.4375,
          2.263157894736842,
          2.125,
          2.5789473684210527,
          3.5652173913043477,
          2.9444444444444446,
          1.68
         ]
        },
        {
         "line": {
          "color": "red"
         },
         "mode": "lines",
         "opacity": 0.3,
         "showlegend": false,
         "type": "scatter",
         "x": [
          0,
          1,
          2,
          3,
          4,
          5,
          6,
          7,
          8,
          9
         ],
         "y": [
          3.25,
          1.6,
          2.5714285714285716,
          2.125,
          2.9285714285714284,
          2.642857142857143,
          4.266666666666667,
          2,
          1.96,
          2.5652173913043477
         ]
        },
        {
         "line": {
          "color": "red"
         },
         "mode": "lines",
         "opacity": 0.3,
         "showlegend": false,
         "type": "scatter",
         "x": [
          0,
          1,
          2,
          3,
          4,
          5,
          6,
          7,
          8,
          9
         ],
         "y": [
          3.4444444444444446,
          7.230769230769231,
          4.785714285714286,
          4.391304347826087,
          4.380952380952381,
          4.35,
          4.25,
          3.8684210526315788,
          3.6785714285714284,
          3.235294117647059
         ]
        },
        {
         "line": {
          "color": "red"
         },
         "mode": "lines",
         "opacity": 0.3,
         "showlegend": false,
         "type": "scatter",
         "x": [
          0,
          1,
          2,
          3,
          4,
          5,
          6,
          7,
          8,
          9
         ],
         "y": [
          3,
          2.4545454545454546,
          2.4545454545454546,
          2.2857142857142856,
          2.9047619047619047,
          2.357142857142857,
          1.6666666666666667,
          1.9047619047619047,
          2.8095238095238093,
          1.7777777777777777
         ]
        },
        {
         "line": {
          "color": "red"
         },
         "mode": "lines",
         "opacity": 0.3,
         "showlegend": false,
         "type": "scatter",
         "x": [
          0,
          1,
          2,
          3,
          4,
          5,
          6,
          7,
          8,
          9
         ],
         "y": [
          3.2857142857142856,
          4.625,
          2.1333333333333333,
          1.6428571428571428,
          3.3333333333333335,
          2.090909090909091,
          2.357142857142857,
          1.9285714285714286,
          2.9545454545454546,
          2.0952380952380953
         ]
        },
        {
         "line": {
          "color": "red"
         },
         "mode": "lines",
         "opacity": 0.3,
         "showlegend": false,
         "type": "scatter",
         "x": [
          0,
          1,
          2,
          3,
          4,
          5,
          6,
          7,
          8,
          9
         ],
         "y": [
          4.5,
          4.111111111111111,
          3.2,
          3.823529411764706,
          3.466666666666667,
          2.076923076923077,
          2.05,
          3.6,
          1.9642857142857142,
          2.5714285714285716
         ]
        },
        {
         "line": {
          "color": "red"
         },
         "mode": "lines",
         "opacity": 0.3,
         "showlegend": false,
         "type": "scatter",
         "x": [
          0,
          1,
          2,
          3,
          4,
          5,
          6,
          7,
          8,
          9
         ],
         "y": [
          2,
          2.5555555555555554,
          4.166666666666667,
          1.8461538461538463,
          3.6666666666666665,
          2.1176470588235294,
          2.75,
          1.894736842105263,
          2.6153846153846154,
          1.5909090909090908
         ]
        },
        {
         "line": {
          "color": "red"
         },
         "mode": "lines",
         "opacity": 0.3,
         "showlegend": false,
         "type": "scatter",
         "x": [
          0,
          1,
          2,
          3,
          4,
          5,
          6,
          7,
          8,
          9
         ],
         "y": [
          5.2727272727272725,
          4.266666666666667,
          4,
          2.7083333333333335,
          3.909090909090909,
          4.8,
          3.225806451612903,
          2.8157894736842106,
          4.166666666666667,
          3
         ]
        },
        {
         "line": {
          "color": "red"
         },
         "mode": "lines",
         "opacity": 0.3,
         "showlegend": false,
         "type": "scatter",
         "x": [
          0,
          1,
          2,
          3,
          4,
          5,
          6,
          7,
          8,
          9
         ],
         "y": [
          3.1666666666666665,
          2.4545454545454546,
          4.166666666666667,
          2.3,
          2.5833333333333335,
          2.6842105263157894,
          2.95,
          2.588235294117647,
          3.1666666666666665,
          2.3157894736842106
         ]
        },
        {
         "line": {
          "color": "red"
         },
         "mode": "lines",
         "opacity": 0.3,
         "showlegend": false,
         "type": "scatter",
         "x": [
          0,
          1,
          2,
          3,
          4,
          5,
          6,
          7,
          8,
          9
         ],
         "y": [
          4,
          4.428571428571429,
          2,
          2.6666666666666665,
          2.8461538461538463,
          2.2222222222222223,
          3.15,
          2.25,
          2.066666666666667,
          2.45
         ]
        },
        {
         "line": {
          "color": "red"
         },
         "mode": "lines",
         "opacity": 0.3,
         "showlegend": false,
         "type": "scatter",
         "x": [
          0,
          1,
          2,
          3,
          4,
          5,
          6,
          7,
          8,
          9
         ],
         "y": [
          3,
          3.1818181818181817,
          3.923076923076923,
          4.277777777777778,
          2.75,
          3.689655172413793,
          5.846153846153846,
          3.32,
          3.7058823529411766,
          3.488372093023256
         ]
        },
        {
         "line": {
          "color": "red"
         },
         "mode": "lines",
         "opacity": 0.3,
         "showlegend": false,
         "type": "scatter",
         "x": [
          0,
          1,
          2,
          3,
          4,
          5,
          6,
          7,
          8,
          9
         ],
         "y": [
          3.5,
          3.3333333333333335,
          2.411764705882353,
          5.25,
          3.0833333333333335,
          2.1052631578947367,
          2.4444444444444446,
          3.9473684210526314,
          2.5,
          3.5
         ]
        },
        {
         "line": {
          "color": "red"
         },
         "mode": "lines",
         "opacity": 0.3,
         "showlegend": false,
         "type": "scatter",
         "x": [
          0,
          1,
          2,
          3,
          4,
          5,
          6,
          7,
          8,
          9
         ],
         "y": [
          2.75,
          2,
          3.6666666666666665,
          2.9,
          3.2666666666666666,
          3.066666666666667,
          2.909090909090909,
          2.652173913043478,
          2.736842105263158,
          1.5263157894736843
         ]
        },
        {
         "line": {
          "color": "red"
         },
         "mode": "lines",
         "opacity": 0.3,
         "showlegend": false,
         "type": "scatter",
         "x": [
          0,
          1,
          2,
          3,
          4,
          5,
          6,
          7,
          8,
          9
         ],
         "y": [
          3.7142857142857144,
          1.625,
          2.5,
          1.6666666666666667,
          3.3636363636363638,
          2.230769230769231,
          2.7142857142857144,
          2.5,
          2.857142857142857,
          1.75
         ]
        },
        {
         "line": {
          "color": "red"
         },
         "mode": "lines",
         "opacity": 0.3,
         "showlegend": false,
         "type": "scatter",
         "x": [
          0,
          1,
          2,
          3,
          4,
          5,
          6,
          7,
          8,
          9
         ],
         "y": [
          2.923076923076923,
          5,
          3.375,
          4,
          1.6666666666666667,
          2.466666666666667,
          1.5454545454545454,
          2.7222222222222223,
          2.1578947368421053,
          2.4210526315789473
         ]
        },
        {
         "line": {
          "color": "red"
         },
         "mode": "lines",
         "opacity": 0.3,
         "showlegend": false,
         "type": "scatter",
         "x": [
          0,
          1,
          2,
          3,
          4,
          5,
          6,
          7,
          8,
          9
         ],
         "y": [
          3.5,
          3.7777777777777777,
          2.6153846153846154,
          3.1538461538461537,
          1.4,
          3.642857142857143,
          2.1333333333333333,
          1.9333333333333333,
          2.3,
          1.962962962962963
         ]
        },
        {
         "line": {
          "color": "red"
         },
         "mode": "lines",
         "opacity": 0.3,
         "showlegend": false,
         "type": "scatter",
         "x": [
          0,
          1,
          2,
          3,
          4,
          5,
          6,
          7,
          8,
          9
         ],
         "y": [
          7.461538461538462,
          2.75,
          2.5,
          4.695652173913044,
          3.2857142857142856,
          2.761904761904762,
          3.4444444444444446,
          2.727272727272727,
          2.9696969696969697,
          3.3548387096774195
         ]
        },
        {
         "line": {
          "color": "red"
         },
         "mode": "lines",
         "opacity": 0.3,
         "showlegend": false,
         "type": "scatter",
         "x": [
          0,
          1,
          2,
          3,
          4,
          5,
          6,
          7,
          8,
          9
         ],
         "y": [
          3.5,
          5.25,
          2.8333333333333335,
          2.6666666666666665,
          3,
          3.5,
          2.409090909090909,
          2.3529411764705883,
          2.2142857142857144,
          2.1176470588235294
         ]
        },
        {
         "line": {
          "color": "red"
         },
         "mode": "lines",
         "opacity": 0.3,
         "showlegend": false,
         "type": "scatter",
         "x": [
          0,
          1,
          2,
          3,
          4,
          5,
          6,
          7,
          8,
          9
         ],
         "y": [
          1.625,
          3.9,
          1.6,
          2.5,
          3,
          2.1333333333333333,
          3,
          2.0625,
          2.2857142857142856,
          1.6666666666666667
         ]
        },
        {
         "line": {
          "color": "red"
         },
         "mode": "lines",
         "opacity": 0.3,
         "showlegend": false,
         "type": "scatter",
         "x": [
          0,
          1,
          2,
          3,
          4,
          5,
          6,
          7,
          8,
          9
         ],
         "y": [
          6.555555555555555,
          4.3,
          4.5,
          3.3,
          2.5,
          4.095238095238095,
          2.7142857142857144,
          3.5555555555555554,
          3.1724137931034484,
          2.3793103448275863
         ]
        },
        {
         "line": {
          "color": "red"
         },
         "mode": "lines",
         "opacity": 0.3,
         "showlegend": false,
         "type": "scatter",
         "x": [
          0,
          1,
          2,
          3,
          4,
          5,
          6,
          7,
          8,
          9
         ],
         "y": [
          5,
          4.142857142857143,
          2.857142857142857,
          2.7,
          3.1333333333333333,
          2.4615384615384617,
          3.1,
          2.4347826086956523,
          2.5185185185185186,
          2.6923076923076925
         ]
        },
        {
         "line": {
          "color": "red"
         },
         "mode": "lines",
         "opacity": 0.3,
         "showlegend": false,
         "type": "scatter",
         "x": [
          0,
          1,
          2,
          3,
          4,
          5,
          6,
          7,
          8,
          9
         ],
         "y": [
          2.5,
          3.5,
          3.4615384615384617,
          2.4,
          3.1,
          1.7857142857142858,
          2.4705882352941178,
          1.8333333333333333,
          1.6111111111111112,
          1.75
         ]
        },
        {
         "line": {
          "color": "red"
         },
         "mode": "lines",
         "opacity": 0.3,
         "showlegend": false,
         "type": "scatter",
         "x": [
          0,
          1,
          2,
          3,
          4,
          5,
          6,
          7,
          8,
          9
         ],
         "y": [
          2.25,
          2.3,
          2.8181818181818183,
          3.9411764705882355,
          3.4166666666666665,
          2.764705882352941,
          2.4375,
          3.4,
          2.9444444444444446,
          2.5
         ]
        },
        {
         "line": {
          "color": "red"
         },
         "mode": "lines",
         "opacity": 0.3,
         "showlegend": false,
         "type": "scatter",
         "x": [
          0,
          1,
          2,
          3,
          4,
          5,
          6,
          7,
          8,
          9
         ],
         "y": [
          2.1818181818181817,
          2.6666666666666665,
          3.3076923076923075,
          3.619047619047619,
          4.466666666666667,
          3.0952380952380953,
          3.8,
          4.928571428571429,
          4.421052631578948,
          1.7142857142857142
         ]
        },
        {
         "line": {
          "color": "red"
         },
         "mode": "lines",
         "opacity": 0.3,
         "showlegend": false,
         "type": "scatter",
         "x": [
          0,
          1,
          2,
          3,
          4,
          5,
          6,
          7,
          8,
          9
         ],
         "y": [
          2.5,
          1,
          4.4,
          3.9166666666666665,
          0.6,
          2.625,
          2.4,
          2.4545454545454546,
          2.5454545454545454,
          2.769230769230769
         ]
        },
        {
         "line": {
          "color": "red"
         },
         "mode": "lines",
         "opacity": 0.3,
         "showlegend": false,
         "type": "scatter",
         "x": [
          0,
          1,
          2,
          3,
          4,
          5,
          6,
          7,
          8,
          9
         ],
         "y": [
          1.75,
          2.3333333333333335,
          3.8,
          3.25,
          2,
          4.0625,
          2.6666666666666665,
          3,
          2.8461538461538463,
          3.08
         ]
        },
        {
         "line": {
          "color": "red"
         },
         "mode": "lines",
         "opacity": 0.3,
         "showlegend": false,
         "type": "scatter",
         "x": [
          0,
          1,
          2,
          3,
          4,
          5,
          6,
          7,
          8,
          9
         ],
         "y": [
          2.5555555555555554,
          2.142857142857143,
          3.1666666666666665,
          2.8333333333333335,
          3.0714285714285716,
          3.4444444444444446,
          2.9545454545454546,
          2.576923076923077,
          2.4166666666666665,
          2.8275862068965516
         ]
        },
        {
         "line": {
          "color": "red"
         },
         "mode": "lines",
         "opacity": 0.3,
         "showlegend": false,
         "type": "scatter",
         "x": [
          0,
          1,
          2,
          3,
          4,
          5,
          6,
          7,
          8,
          9
         ],
         "y": [
          6.7272727272727275,
          3.923076923076923,
          4.285714285714286,
          3.625,
          4,
          3.6315789473684212,
          3.7837837837837838,
          3.526315789473684,
          3.657142857142857,
          3.2093023255813953
         ]
        },
        {
         "line": {
          "color": "red"
         },
         "mode": "lines",
         "opacity": 0.3,
         "showlegend": false,
         "type": "scatter",
         "x": [
          0,
          1,
          2,
          3,
          4,
          5,
          6,
          7,
          8,
          9
         ],
         "y": [
          2.6666666666666665,
          2.95,
          3.5,
          3.7777777777777777,
          1.4,
          4.15,
          2.5,
          3.1538461538461537,
          2.5,
          2.3529411764705883
         ]
        },
        {
         "line": {
          "color": "red"
         },
         "mode": "lines",
         "opacity": 0.3,
         "showlegend": false,
         "type": "scatter",
         "x": [
          0,
          1,
          2,
          3,
          4,
          5,
          6,
          7,
          8,
          9
         ],
         "y": [
          2.5,
          0.5714285714285714,
          3.125,
          3.090909090909091,
          3.5,
          3.5,
          2.375,
          2.85,
          2.259259259259259,
          2.9375
         ]
        },
        {
         "line": {
          "color": "red"
         },
         "mode": "lines",
         "opacity": 0.3,
         "showlegend": false,
         "type": "scatter",
         "x": [
          0,
          1,
          2,
          3,
          4,
          5,
          6,
          7,
          8,
          9
         ],
         "y": [
          4.714285714285714,
          5.625,
          2.5454545454545454,
          3.4545454545454546,
          2.263157894736842,
          3.3157894736842106,
          3.2,
          2.75,
          1.8181818181818181,
          2.8636363636363638
         ]
        },
        {
         "line": {
          "color": "red"
         },
         "mode": "lines",
         "opacity": 0.3,
         "showlegend": false,
         "type": "scatter",
         "x": [
          0,
          1,
          2,
          3,
          4,
          5,
          6,
          7,
          8,
          9
         ],
         "y": [
          2.8461538461538463,
          3.3333333333333335,
          2.7857142857142856,
          2.15,
          2.409090909090909,
          2.5789473684210527,
          3.3846153846153846,
          2.5,
          2.185185185185185,
          1.5
         ]
        },
        {
         "line": {
          "color": "red"
         },
         "mode": "lines",
         "opacity": 0.3,
         "showlegend": false,
         "type": "scatter",
         "x": [
          0,
          1,
          2,
          3,
          4,
          5,
          6,
          7,
          8,
          9
         ],
         "y": [
          2.625,
          1.4,
          2.6666666666666665,
          2.5,
          2.5,
          2.5,
          1.6875,
          2.6,
          2.7777777777777777,
          2.4444444444444446
         ]
        },
        {
         "line": {
          "color": "red"
         },
         "mode": "lines",
         "opacity": 0.3,
         "showlegend": false,
         "type": "scatter",
         "x": [
          0,
          1,
          2,
          3,
          4,
          5,
          6,
          7,
          8,
          9
         ],
         "y": [
          2.8,
          2.857142857142857,
          2.7857142857142856,
          2.6923076923076925,
          3.85,
          2.9411764705882355,
          2,
          1.8695652173913044,
          2.0384615384615383,
          1.92
         ]
        },
        {
         "line": {
          "color": "red"
         },
         "mode": "lines",
         "opacity": 0.3,
         "showlegend": false,
         "type": "scatter",
         "x": [
          0,
          1,
          2,
          3,
          4,
          5,
          6,
          7,
          8,
          9
         ],
         "y": [
          5,
          4.076923076923077,
          5.153846153846154,
          4.944444444444445,
          2.933333333333333,
          4.117647058823529,
          3.4615384615384617,
          3.4285714285714284,
          3.0357142857142856,
          2.46875
         ]
        },
        {
         "line": {
          "color": "red"
         },
         "mode": "lines",
         "opacity": 0.3,
         "showlegend": false,
         "type": "scatter",
         "x": [
          0,
          1,
          2,
          3,
          4,
          5,
          6,
          7,
          8,
          9
         ],
         "y": [
          2,
          2.857142857142857,
          4.625,
          3,
          2.466666666666667,
          2,
          3.619047619047619,
          3.590909090909091,
          2.3333333333333335,
          2.473684210526316
         ]
        },
        {
         "line": {
          "color": "red"
         },
         "mode": "lines",
         "opacity": 0.3,
         "showlegend": false,
         "type": "scatter",
         "x": [
          0,
          1,
          2,
          3,
          4,
          5,
          6,
          7,
          8,
          9
         ],
         "y": [
          3,
          2.142857142857143,
          4.833333333333333,
          3.7142857142857144,
          2.769230769230769,
          2,
          2.3333333333333335,
          2.625,
          1.5833333333333333,
          2.0357142857142856
         ]
        },
        {
         "line": {
          "color": "red"
         },
         "mode": "lines",
         "opacity": 0.3,
         "showlegend": false,
         "type": "scatter",
         "x": [
          0,
          1,
          2,
          3,
          4,
          5,
          6,
          7,
          8,
          9
         ],
         "y": [
          2.6,
          2.2,
          3.4615384615384617,
          2.727272727272727,
          2.230769230769231,
          2.4285714285714284,
          2.4705882352941178,
          2.2666666666666666,
          2.3529411764705883,
          3
         ]
        },
        {
         "line": {
          "color": "red"
         },
         "mode": "lines",
         "opacity": 0.3,
         "showlegend": false,
         "type": "scatter",
         "x": [
          0,
          1,
          2,
          3,
          4,
          5,
          6,
          7,
          8,
          9
         ],
         "y": [
          2.7142857142857144,
          2.875,
          2.466666666666667,
          3.9285714285714284,
          3.5,
          3.7,
          3.769230769230769,
          2.727272727272727,
          2.8461538461538463,
          2.2777777777777777
         ]
        },
        {
         "line": {
          "color": "red"
         },
         "mode": "lines",
         "opacity": 0.3,
         "showlegend": false,
         "type": "scatter",
         "x": [
          0,
          1,
          2,
          3,
          4,
          5,
          6,
          7,
          8,
          9
         ],
         "y": [
          4.3,
          3.2,
          3.4444444444444446,
          3.8461538461538463,
          3.0869565217391304,
          2.84,
          3.4761904761904763,
          2.2777777777777777,
          2.5714285714285716,
          1.8695652173913044
         ]
        },
        {
         "line": {
          "color": "red"
         },
         "mode": "lines",
         "opacity": 0.3,
         "showlegend": false,
         "type": "scatter",
         "x": [
          0,
          1,
          2,
          3,
          4,
          5,
          6,
          7,
          8,
          9
         ],
         "y": [
          4.666666666666667,
          2.5,
          4.9,
          2.7,
          3.392857142857143,
          2.727272727272727,
          3.772727272727273,
          2.7142857142857144,
          3.823529411764706,
          2.6206896551724137
         ]
        },
        {
         "line": {
          "color": "red"
         },
         "mode": "lines",
         "opacity": 0.3,
         "showlegend": false,
         "type": "scatter",
         "x": [
          0,
          1,
          2,
          3,
          4,
          5,
          6,
          7,
          8,
          9
         ],
         "y": [
          2.5,
          4.5,
          3.8,
          2.8333333333333335,
          2.7222222222222223,
          2.3636363636363638,
          2.55,
          3.3157894736842106,
          2.235294117647059,
          2
         ]
        },
        {
         "line": {
          "color": "red"
         },
         "mode": "lines",
         "opacity": 0.3,
         "showlegend": false,
         "type": "scatter",
         "x": [
          0,
          1,
          2,
          3,
          4,
          5,
          6,
          7,
          8,
          9
         ],
         "y": [
          3,
          3.5,
          2.3333333333333335,
          2.857142857142857,
          2.857142857142857,
          2.727272727272727,
          2.4285714285714284,
          2.3684210526315788,
          3,
          2.05
         ]
        },
        {
         "line": {
          "color": "red"
         },
         "mode": "lines",
         "opacity": 0.3,
         "showlegend": false,
         "type": "scatter",
         "x": [
          0,
          1,
          2,
          3,
          4,
          5,
          6,
          7,
          8,
          9
         ],
         "y": [
          4.222222222222222,
          2.125,
          2.1666666666666665,
          3.0588235294117645,
          2.0588235294117645,
          3.619047619047619,
          2.1904761904761907,
          2.24,
          3.1666666666666665,
          2
         ]
        },
        {
         "line": {
          "color": "red"
         },
         "mode": "lines",
         "opacity": 0.3,
         "showlegend": false,
         "type": "scatter",
         "x": [
          0,
          1,
          2,
          3,
          4,
          5,
          6,
          7,
          8,
          9
         ],
         "y": [
          4.4,
          3.272727272727273,
          2.1538461538461537,
          2.75,
          2.391304347826087,
          2.28,
          2.8333333333333335,
          2.25,
          3.090909090909091,
          1.9545454545454546
         ]
        },
        {
         "line": {
          "color": "red"
         },
         "mode": "lines",
         "opacity": 0.3,
         "showlegend": false,
         "type": "scatter",
         "x": [
          0,
          1,
          2,
          3,
          4,
          5,
          6,
          7,
          8,
          9
         ],
         "y": [
          4.444444444444445,
          2.6666666666666665,
          2.357142857142857,
          2.9285714285714284,
          2.5652173913043477,
          3.1666666666666665,
          2.625,
          4.238095238095238,
          3.037037037037037,
          2.323529411764706
         ]
        },
        {
         "line": {
          "color": "red"
         },
         "mode": "lines",
         "opacity": 0.3,
         "showlegend": false,
         "type": "scatter",
         "x": [
          0,
          1,
          2,
          3,
          4,
          5,
          6,
          7,
          8,
          9
         ],
         "y": [
          3.6666666666666665,
          3,
          3.909090909090909,
          3,
          4.285714285714286,
          4.086956521739131,
          3.9615384615384617,
          3.772727272727273,
          2.8125,
          2.871794871794872
         ]
        },
        {
         "line": {
          "color": "red"
         },
         "mode": "lines",
         "opacity": 0.3,
         "showlegend": false,
         "type": "scatter",
         "x": [
          0,
          1,
          2,
          3,
          4,
          5,
          6,
          7,
          8,
          9
         ],
         "y": [
          1.8888888888888888,
          2.4545454545454546,
          3.411764705882353,
          2.3333333333333335,
          2.375,
          3,
          2.5454545454545454,
          2.08,
          1.7142857142857142,
          2.323529411764706
         ]
        },
        {
         "line": {
          "color": "red"
         },
         "mode": "lines",
         "opacity": 0.3,
         "showlegend": false,
         "type": "scatter",
         "x": [
          0,
          1,
          2,
          3,
          4,
          5,
          6,
          7,
          8,
          9
         ],
         "y": [
          4.2,
          3.3333333333333335,
          3,
          2.230769230769231,
          3.6666666666666665,
          2.6153846153846154,
          3.2666666666666666,
          3.966666666666667,
          1.7727272727272727,
          2.6923076923076925
         ]
        },
        {
         "line": {
          "color": "red"
         },
         "mode": "lines",
         "opacity": 0.3,
         "showlegend": false,
         "type": "scatter",
         "x": [
          0,
          1,
          2,
          3,
          4,
          5,
          6,
          7,
          8,
          9
         ],
         "y": [
          3.4,
          3.4545454545454546,
          3.357142857142857,
          3.1333333333333333,
          2.8947368421052633,
          2.8,
          2.7142857142857144,
          2.0454545454545454,
          2.8,
          2.12
         ]
        },
        {
         "line": {
          "color": "red"
         },
         "mode": "lines",
         "opacity": 0.3,
         "showlegend": false,
         "type": "scatter",
         "x": [
          0,
          1,
          2,
          3,
          4,
          5,
          6,
          7,
          8,
          9
         ],
         "y": [
          2.25,
          3.3333333333333335,
          3.0714285714285716,
          1.0833333333333333,
          4.363636363636363,
          2,
          2.45,
          1.8571428571428572,
          2.1363636363636362,
          1.6818181818181819
         ]
        },
        {
         "line": {
          "color": "red"
         },
         "mode": "lines",
         "opacity": 0.3,
         "showlegend": false,
         "type": "scatter",
         "x": [
          0,
          1,
          2,
          3,
          4,
          5,
          6,
          7,
          8,
          9
         ],
         "y": [
          4.5,
          2.8666666666666667,
          2.7142857142857144,
          3.1538461538461537,
          3.066666666666667,
          3,
          2.090909090909091,
          3.68,
          2.5,
          1.9583333333333333
         ]
        },
        {
         "line": {
          "color": "red"
         },
         "mode": "lines",
         "opacity": 0.3,
         "showlegend": false,
         "type": "scatter",
         "x": [
          0,
          1,
          2,
          3,
          4,
          5,
          6,
          7,
          8,
          9
         ],
         "y": [
          1.7777777777777777,
          4.75,
          3,
          2.235294117647059,
          3.5,
          3.875,
          2.5625,
          3.5357142857142856,
          2.8076923076923075,
          2.7058823529411766
         ]
        },
        {
         "line": {
          "color": "red"
         },
         "mode": "lines",
         "opacity": 0.3,
         "showlegend": false,
         "type": "scatter",
         "x": [
          0,
          1,
          2,
          3,
          4,
          5,
          6,
          7,
          8,
          9
         ],
         "y": [
          2.1,
          3.8333333333333335,
          3.8333333333333335,
          3.5555555555555554,
          2.9285714285714284,
          2.9523809523809526,
          3.263157894736842,
          3.611111111111111,
          2.6470588235294117,
          2.1
         ]
        },
        {
         "line": {
          "color": "red"
         },
         "mode": "lines",
         "opacity": 0.3,
         "showlegend": false,
         "type": "scatter",
         "x": [
          0,
          1,
          2,
          3,
          4,
          5,
          6,
          7,
          8,
          9
         ],
         "y": [
          2.888888888888889,
          4.2727272727272725,
          3.8,
          2.6153846153846154,
          4,
          2.210526315789474,
          2.608695652173913,
          2.125,
          1.6538461538461537,
          2.2903225806451615
         ]
        },
        {
         "line": {
          "color": "red"
         },
         "mode": "lines",
         "opacity": 0.3,
         "showlegend": false,
         "type": "scatter",
         "x": [
          0,
          1,
          2,
          3,
          4,
          5,
          6,
          7,
          8,
          9
         ],
         "y": [
          2.625,
          2.875,
          3.6666666666666665,
          2.5,
          2.6875,
          2.0833333333333335,
          2.0714285714285716,
          2.8076923076923075,
          2.210526315789474,
          3.6923076923076925
         ]
        },
        {
         "line": {
          "color": "red"
         },
         "mode": "lines",
         "opacity": 0.3,
         "showlegend": false,
         "type": "scatter",
         "x": [
          0,
          1,
          2,
          3,
          4,
          5,
          6,
          7,
          8,
          9
         ],
         "y": [
          2,
          3,
          3.5384615384615383,
          2.75,
          3,
          2.95,
          2.230769230769231,
          1.7058823529411764,
          2.0476190476190474,
          1.7241379310344827
         ]
        },
        {
         "line": {
          "color": "red"
         },
         "mode": "lines",
         "opacity": 0.3,
         "showlegend": false,
         "type": "scatter",
         "x": [
          0,
          1,
          2,
          3,
          4,
          5,
          6,
          7,
          8,
          9
         ],
         "y": [
          2.3529411764705883,
          4.111111111111111,
          2.15,
          4.157894736842105,
          2.1153846153846154,
          2.6052631578947367,
          3.323529411764706,
          2.5,
          2.5416666666666665,
          2.347826086956522
         ]
        },
        {
         "line": {
          "color": "red"
         },
         "mode": "lines",
         "opacity": 0.3,
         "showlegend": false,
         "type": "scatter",
         "x": [
          0,
          1,
          2,
          3,
          4,
          5,
          6,
          7,
          8,
          9
         ],
         "y": [
          3.2222222222222223,
          2.3333333333333335,
          4.2727272727272725,
          5.0588235294117645,
          3.0555555555555554,
          3.3043478260869565,
          3.2857142857142856,
          2.4285714285714284,
          1.9473684210526316,
          2.1176470588235294
         ]
        },
        {
         "line": {
          "color": "red"
         },
         "mode": "lines",
         "opacity": 0.3,
         "showlegend": false,
         "type": "scatter",
         "x": [
          0,
          1,
          2,
          3,
          4,
          5,
          6,
          7,
          8,
          9
         ],
         "y": [
          4.076923076923077,
          2.5555555555555554,
          2.0714285714285716,
          2.3076923076923075,
          2.923076923076923,
          3.1052631578947367,
          3,
          2.6,
          2.4705882352941178,
          2
         ]
        },
        {
         "line": {
          "color": "red"
         },
         "mode": "lines",
         "opacity": 0.3,
         "showlegend": false,
         "type": "scatter",
         "x": [
          0,
          1,
          2,
          3,
          4,
          5,
          6,
          7,
          8,
          9
         ],
         "y": [
          2.857142857142857,
          1.6666666666666667,
          4.1,
          1.9285714285714286,
          2.8,
          3,
          2.5,
          3.933333333333333,
          2.5517241379310347,
          1.6666666666666667
         ]
        },
        {
         "line": {
          "color": "red"
         },
         "mode": "lines",
         "opacity": 0.3,
         "showlegend": false,
         "type": "scatter",
         "x": [
          0,
          1,
          2,
          3,
          4,
          5,
          6,
          7,
          8,
          9
         ],
         "y": [
          1.9090909090909092,
          2.25,
          3.3846153846153846,
          2.4782608695652173,
          2.923076923076923,
          2,
          3,
          2.5294117647058822,
          2.1739130434782608,
          1.7142857142857142
         ]
        },
        {
         "line": {
          "color": "red"
         },
         "mode": "lines",
         "opacity": 0.3,
         "showlegend": false,
         "type": "scatter",
         "x": [
          0,
          1,
          2,
          3,
          4,
          5,
          6,
          7,
          8,
          9
         ],
         "y": [
          4.2,
          3.357142857142857,
          2.9,
          1.2222222222222223,
          4,
          3.75,
          1.9285714285714286,
          2,
          2.263157894736842,
          1.1764705882352942
         ]
        },
        {
         "line": {
          "color": "red"
         },
         "mode": "lines",
         "opacity": 0.3,
         "showlegend": false,
         "type": "scatter",
         "x": [
          0,
          1,
          2,
          3,
          4,
          5,
          6,
          7,
          8,
          9
         ],
         "y": [
          2.5,
          4.7,
          3.75,
          3.1818181818181817,
          3.25,
          3.076923076923077,
          2.24,
          3.32,
          2.735294117647059,
          1.793103448275862
         ]
        },
        {
         "line": {
          "color": "red"
         },
         "mode": "lines",
         "opacity": 0.3,
         "showlegend": false,
         "type": "scatter",
         "x": [
          0,
          1,
          2,
          3,
          4,
          5,
          6,
          7,
          8,
          9
         ],
         "y": [
          2,
          3.1666666666666665,
          2.8,
          3.25,
          4,
          3,
          2.4444444444444446,
          3.1176470588235294,
          2.433333333333333,
          2.466666666666667
         ]
        },
        {
         "line": {
          "color": "red"
         },
         "mode": "lines",
         "opacity": 0.3,
         "showlegend": false,
         "type": "scatter",
         "x": [
          0,
          1,
          2,
          3,
          4,
          5,
          6,
          7,
          8,
          9
         ],
         "y": [
          2.5714285714285716,
          2.8,
          3.727272727272727,
          2.769230769230769,
          2.875,
          2.263157894736842,
          2.4705882352941178,
          2.263157894736842,
          2.764705882352941,
          2.4
         ]
        },
        {
         "line": {
          "color": "red"
         },
         "mode": "lines",
         "opacity": 0.3,
         "showlegend": false,
         "type": "scatter",
         "x": [
          0,
          1,
          2,
          3,
          4,
          5,
          6,
          7,
          8,
          9
         ],
         "y": [
          2.6363636363636362,
          4,
          3.5,
          1.7272727272727273,
          2.260869565217391,
          2.7142857142857144,
          2.2941176470588234,
          2.3529411764705883,
          2.2666666666666666,
          2.9411764705882355
         ]
        },
        {
         "line": {
          "color": "red"
         },
         "mode": "lines",
         "opacity": 0.3,
         "showlegend": false,
         "type": "scatter",
         "x": [
          0,
          1,
          2,
          3,
          4,
          5,
          6,
          7,
          8,
          9
         ],
         "y": [
          4,
          2.6,
          2.4166666666666665,
          2.4166666666666665,
          4,
          2.8823529411764706,
          1.625,
          1.55,
          2.2142857142857144,
          1.8823529411764706
         ]
        },
        {
         "line": {
          "color": "red"
         },
         "mode": "lines",
         "opacity": 0.3,
         "showlegend": false,
         "type": "scatter",
         "x": [
          0,
          1,
          2,
          3,
          4,
          5,
          6,
          7,
          8,
          9
         ],
         "y": [
          4.7,
          6,
          2.727272727272727,
          4.357142857142857,
          2.761904761904762,
          4.611111111111111,
          3,
          3.4285714285714284,
          2.2666666666666666,
          2
         ]
        },
        {
         "line": {
          "color": "red"
         },
         "mode": "lines",
         "opacity": 0.3,
         "showlegend": false,
         "type": "scatter",
         "x": [
          0,
          1,
          2,
          3,
          4,
          5,
          6,
          7,
          8,
          9
         ],
         "y": [
          2,
          2.2,
          3.5,
          2.7857142857142856,
          1.6923076923076923,
          3.0555555555555554,
          1.7272727272727273,
          2.388888888888889,
          2.3846153846153846,
          2.1153846153846154
         ]
        },
        {
         "line": {
          "color": "red"
         },
         "mode": "lines",
         "opacity": 0.3,
         "showlegend": false,
         "type": "scatter",
         "x": [
          0,
          1,
          2,
          3,
          4,
          5,
          6,
          7,
          8,
          9
         ],
         "y": [
          5.625,
          3.75,
          2.357142857142857,
          1.9285714285714286,
          2.923076923076923,
          3.1666666666666665,
          2.5714285714285716,
          2.2857142857142856,
          2.4074074074074074,
          1.4583333333333333
         ]
        },
        {
         "line": {
          "color": "red"
         },
         "mode": "lines",
         "opacity": 0.3,
         "showlegend": false,
         "type": "scatter",
         "x": [
          0,
          1,
          2,
          3,
          4,
          5,
          6,
          7,
          8,
          9
         ],
         "y": [
          1.8,
          2.25,
          5.6,
          2.1818181818181817,
          2.2,
          2.5,
          2.1176470588235294,
          1.5555555555555556,
          1.6153846153846154,
          1.7647058823529411
         ]
        },
        {
         "line": {
          "color": "red"
         },
         "mode": "lines",
         "opacity": 0.3,
         "showlegend": false,
         "type": "scatter",
         "x": [
          0,
          1,
          2,
          3,
          4,
          5,
          6,
          7,
          8,
          9
         ],
         "y": [
          3,
          3.1,
          2.7,
          3.5,
          2.7222222222222223,
          3.5,
          4.411764705882353,
          1.7037037037037037,
          1.3157894736842106,
          2.1666666666666665
         ]
        },
        {
         "line": {
          "color": "red"
         },
         "mode": "lines",
         "opacity": 0.3,
         "showlegend": false,
         "type": "scatter",
         "x": [
          0,
          1,
          2,
          3,
          4,
          5,
          6,
          7,
          8,
          9
         ],
         "y": [
          1.6666666666666667,
          1.3333333333333333,
          1.5,
          1.9,
          3.5714285714285716,
          2.5,
          2.230769230769231,
          1.625,
          2.888888888888889,
          2.5833333333333335
         ]
        },
        {
         "line": {
          "color": "red"
         },
         "mode": "lines",
         "opacity": 0.3,
         "showlegend": false,
         "type": "scatter",
         "x": [
          0,
          1,
          2,
          3,
          4,
          5,
          6,
          7,
          8,
          9
         ],
         "y": [
          4.454545454545454,
          0.75,
          2.75,
          2.1818181818181817,
          3.2666666666666666,
          3.238095238095238,
          1.7142857142857142,
          3.0476190476190474,
          3.0625,
          2.4642857142857144
         ]
        },
        {
         "line": {
          "color": "red"
         },
         "mode": "lines",
         "opacity": 0.3,
         "showlegend": false,
         "type": "scatter",
         "x": [
          0,
          1,
          2,
          3,
          4,
          5,
          6,
          7,
          8,
          9
         ],
         "y": [
          4.3,
          3.4444444444444446,
          2.2857142857142856,
          4.5625,
          5.3,
          4.9,
          3.111111111111111,
          2.6666666666666665,
          2.7037037037037037,
          2.71875
         ]
        },
        {
         "line": {
          "color": "red"
         },
         "mode": "lines",
         "opacity": 0.3,
         "showlegend": false,
         "type": "scatter",
         "x": [
          0,
          1,
          2,
          3,
          4,
          5,
          6,
          7,
          8,
          9
         ],
         "y": [
          2.4545454545454546,
          3.5,
          4.866666666666666,
          4.3125,
          4,
          4.214285714285714,
          2.1363636363636362,
          2.967741935483871,
          2.4761904761904763,
          2.40625
         ]
        },
        {
         "line": {
          "color": "red"
         },
         "mode": "lines",
         "opacity": 0.3,
         "showlegend": false,
         "type": "scatter",
         "x": [
          0,
          1,
          2,
          3,
          4,
          5,
          6,
          7,
          8,
          9
         ],
         "y": [
          6.8,
          2.3636363636363638,
          4.166666666666667,
          2.4545454545454546,
          4.25,
          3.875,
          5.352941176470588,
          3.25,
          2.1739130434782608,
          3.4074074074074074
         ]
        },
        {
         "line": {
          "color": "red"
         },
         "mode": "lines",
         "opacity": 0.3,
         "showlegend": false,
         "type": "scatter",
         "x": [
          0,
          1,
          2,
          3,
          4,
          5,
          6,
          7,
          8,
          9
         ],
         "y": [
          4.714285714285714,
          2.909090909090909,
          3.6666666666666665,
          3.6923076923076925,
          2.375,
          2.375,
          2.8125,
          3.4375,
          1.2222222222222223,
          2.357142857142857
         ]
        },
        {
         "line": {
          "color": "red"
         },
         "mode": "lines",
         "opacity": 0.3,
         "showlegend": false,
         "type": "scatter",
         "x": [
          0,
          1,
          2,
          3,
          4,
          5,
          6,
          7,
          8,
          9
         ],
         "y": [
          4.5,
          3.5,
          2.8461538461538463,
          3.8,
          3.9375,
          2.5,
          2.111111111111111,
          3.0416666666666665,
          2.423076923076923,
          2.7777777777777777
         ]
        },
        {
         "line": {
          "color": "red"
         },
         "mode": "lines",
         "opacity": 0.3,
         "showlegend": false,
         "type": "scatter",
         "x": [
          0,
          1,
          2,
          3,
          4,
          5,
          6,
          7,
          8,
          9
         ],
         "y": [
          3.3333333333333335,
          2.642857142857143,
          2.611111111111111,
          1.5,
          3.3333333333333335,
          3.25,
          2.0625,
          2.84,
          1.9642857142857142,
          2.8620689655172415
         ]
        },
        {
         "line": {
          "color": "red"
         },
         "mode": "lines",
         "opacity": 0.3,
         "showlegend": false,
         "type": "scatter",
         "x": [
          0,
          1,
          2,
          3,
          4,
          5,
          6,
          7,
          8,
          9
         ],
         "y": [
          1.9230769230769231,
          3.7142857142857144,
          2.8125,
          3.375,
          2.25,
          3.7916666666666665,
          2.65,
          2.5,
          2.2758620689655173,
          1.84
         ]
        },
        {
         "line": {
          "color": "red"
         },
         "mode": "lines",
         "opacity": 0.3,
         "showlegend": false,
         "type": "scatter",
         "x": [
          0,
          1,
          2,
          3,
          4,
          5,
          6,
          7,
          8,
          9
         ],
         "y": [
          2.375,
          1.9166666666666667,
          3.111111111111111,
          3.533333333333333,
          3.4615384615384617,
          2.727272727272727,
          2.4583333333333335,
          2.933333333333333,
          2.5416666666666665,
          1.6333333333333333
         ]
        },
        {
         "line": {
          "color": "red"
         },
         "mode": "lines",
         "opacity": 0.3,
         "showlegend": false,
         "type": "scatter",
         "x": [
          0,
          1,
          2,
          3,
          4,
          5,
          6,
          7,
          8,
          9
         ],
         "y": [
          3.4285714285714284,
          1.7142857142857142,
          1.6923076923076923,
          1.7777777777777777,
          2.7142857142857144,
          2.7777777777777777,
          2.8181818181818183,
          2.466666666666667,
          1.6363636363636365,
          1.1818181818181819
         ]
        },
        {
         "line": {
          "color": "red"
         },
         "mode": "lines",
         "opacity": 0.3,
         "showlegend": false,
         "type": "scatter",
         "x": [
          0,
          1,
          2,
          3,
          4,
          5,
          6,
          7,
          8,
          9
         ],
         "y": [
          4,
          5.5,
          2.8,
          1.8181818181818181,
          0.6666666666666666,
          3.111111111111111,
          1.4285714285714286,
          2.0526315789473686,
          2.4285714285714284,
          2.32
         ]
        },
        {
         "line": {
          "color": "red"
         },
         "mode": "lines",
         "opacity": 0.3,
         "showlegend": false,
         "type": "scatter",
         "x": [
          0,
          1,
          2,
          3,
          4,
          5,
          6,
          7,
          8,
          9
         ],
         "y": [
          2,
          2.125,
          3.2,
          3.6363636363636362,
          3.473684210526316,
          3.923076923076923,
          2,
          3.227272727272727,
          2.6,
          2.227272727272727
         ]
        },
        {
         "line": {
          "color": "red"
         },
         "mode": "lines",
         "opacity": 0.3,
         "showlegend": false,
         "type": "scatter",
         "x": [
          0,
          1,
          2,
          3,
          4,
          5,
          6,
          7,
          8,
          9
         ],
         "y": [
          2.3333333333333335,
          2.727272727272727,
          2.6153846153846154,
          3.909090909090909,
          2.6666666666666665,
          3.1818181818181817,
          2.111111111111111,
          2.5416666666666665,
          2.32,
          2.1538461538461537
         ]
        },
        {
         "line": {
          "color": "red"
         },
         "mode": "lines",
         "opacity": 0.3,
         "showlegend": false,
         "type": "scatter",
         "x": [
          0,
          1,
          2,
          3,
          4,
          5,
          6,
          7,
          8,
          9
         ],
         "y": [
          5.285714285714286,
          4.5,
          1.6875,
          2.090909090909091,
          4,
          2.7222222222222223,
          3.4210526315789473,
          2.92,
          2.590909090909091,
          2.2962962962962963
         ]
        },
        {
         "line": {
          "color": "red"
         },
         "mode": "lines",
         "opacity": 0.3,
         "showlegend": false,
         "type": "scatter",
         "x": [
          0,
          1,
          2,
          3,
          4,
          5,
          6,
          7,
          8,
          9
         ],
         "y": [
          4,
          2.888888888888889,
          4.894736842105263,
          3.909090909090909,
          2.9411764705882355,
          2.769230769230769,
          3.4,
          3.210526315789474,
          3.4722222222222223,
          3.0384615384615383
         ]
        },
        {
         "line": {
          "color": "red"
         },
         "mode": "lines",
         "opacity": 0.3,
         "showlegend": false,
         "type": "scatter",
         "x": [
          0,
          1,
          2,
          3,
          4,
          5,
          6,
          7,
          8,
          9
         ],
         "y": [
          2.7777777777777777,
          2.888888888888889,
          4.153846153846154,
          3.4545454545454546,
          4.222222222222222,
          3.235294117647059,
          3.238095238095238,
          3.8,
          1.5185185185185186,
          3.0476190476190474
         ]
        },
        {
         "line": {
          "color": "red"
         },
         "mode": "lines",
         "opacity": 0.3,
         "showlegend": false,
         "type": "scatter",
         "x": [
          0,
          1,
          2,
          3,
          4,
          5,
          6,
          7,
          8,
          9
         ],
         "y": [
          4,
          4.285714285714286,
          1.875,
          2.6,
          4.3,
          1.9230769230769231,
          2.4,
          2,
          1.5909090909090908,
          1.84
         ]
        },
        {
         "line": {
          "color": "red"
         },
         "mode": "lines",
         "opacity": 0.3,
         "showlegend": false,
         "type": "scatter",
         "x": [
          0,
          1,
          2,
          3,
          4,
          5,
          6,
          7,
          8,
          9
         ],
         "y": [
          4,
          2.7,
          3.25,
          2.235294117647059,
          2.466666666666667,
          2.8095238095238093,
          3.888888888888889,
          2.88,
          2.142857142857143,
          2.2580645161290325
         ]
        },
        {
         "line": {
          "color": "red"
         },
         "mode": "lines",
         "opacity": 0.3,
         "showlegend": false,
         "type": "scatter",
         "x": [
          0,
          1,
          2,
          3,
          4,
          5,
          6,
          7,
          8,
          9
         ],
         "y": [
          3,
          3.8,
          2.4615384615384617,
          4,
          2.8823529411764706,
          3.3684210526315788,
          3.142857142857143,
          2.6785714285714284,
          2.5,
          1.9722222222222223
         ]
        },
        {
         "line": {
          "color": "red"
         },
         "mode": "lines",
         "opacity": 0.3,
         "showlegend": false,
         "type": "scatter",
         "x": [
          0,
          1,
          2,
          3,
          4,
          5,
          6,
          7,
          8,
          9
         ],
         "y": [
          5.75,
          3.2142857142857144,
          3.6153846153846154,
          5.571428571428571,
          4.269230769230769,
          3.7142857142857144,
          3,
          2.911764705882353,
          2,
          2.5918367346938775
         ]
        },
        {
         "line": {
          "color": "red"
         },
         "mode": "lines",
         "opacity": 0.3,
         "showlegend": false,
         "type": "scatter",
         "x": [
          0,
          1,
          2,
          3,
          4,
          5,
          6,
          7,
          8,
          9
         ],
         "y": [
          3.5,
          4.5,
          3.142857142857143,
          2.4761904761904763,
          3.230769230769231,
          2.3125,
          3.0714285714285716,
          2.4210526315789473,
          3.2,
          2.2941176470588234
         ]
        },
        {
         "line": {
          "color": "red"
         },
         "mode": "lines",
         "opacity": 0.3,
         "showlegend": false,
         "type": "scatter",
         "x": [
          0,
          1,
          2,
          3,
          4,
          5,
          6,
          7,
          8,
          9
         ],
         "y": [
          3.5555555555555554,
          2.8181818181818183,
          3.230769230769231,
          3.375,
          2.611111111111111,
          2.736842105263158,
          2.740740740740741,
          1.8636363636363635,
          2.129032258064516,
          3.0714285714285716
         ]
        },
        {
         "line": {
          "color": "red"
         },
         "mode": "lines",
         "opacity": 0.3,
         "showlegend": false,
         "type": "scatter",
         "x": [
          0,
          1,
          2,
          3,
          4,
          5,
          6,
          7,
          8,
          9
         ],
         "y": [
          2.6666666666666665,
          3.5555555555555554,
          3.857142857142857,
          2.35,
          3.44,
          3.4166666666666665,
          2.8095238095238093,
          2.909090909090909,
          2.52,
          1.8461538461538463
         ]
        },
        {
         "line": {
          "color": "red"
         },
         "mode": "lines",
         "opacity": 0.3,
         "showlegend": false,
         "type": "scatter",
         "x": [
          0,
          1,
          2,
          3,
          4,
          5,
          6,
          7,
          8,
          9
         ],
         "y": [
          3.1666666666666665,
          2.6363636363636362,
          2.9411764705882355,
          3.5,
          2.3333333333333335,
          2.789473684210526,
          3.090909090909091,
          3.56,
          2.6666666666666665,
          2.625
         ]
        },
        {
         "line": {
          "color": "red"
         },
         "mode": "lines",
         "opacity": 0.3,
         "showlegend": false,
         "type": "scatter",
         "x": [
          0,
          1,
          2,
          3,
          4,
          5,
          6,
          7,
          8,
          9
         ],
         "y": [
          1.75,
          2.923076923076923,
          3.727272727272727,
          1.8181818181818181,
          3.111111111111111,
          3.1538461538461537,
          2.6315789473684212,
          2,
          2.789473684210526,
          2.5416666666666665
         ]
        },
        {
         "line": {
          "color": "red"
         },
         "mode": "lines",
         "opacity": 0.3,
         "showlegend": false,
         "type": "scatter",
         "x": [
          0,
          1,
          2,
          3,
          4,
          5,
          6,
          7,
          8,
          9
         ],
         "y": [
          4.333333333333333,
          5.545454545454546,
          2,
          2.411764705882353,
          2.875,
          2.409090909090909,
          2.5714285714285716,
          1.9473684210526316,
          2.3157894736842106,
          2
         ]
        },
        {
         "line": {
          "color": "black"
         },
         "mode": "markers+lines",
         "name": "Average",
         "opacity": 0.7,
         "type": "scatter",
         "x": [
          0,
          1,
          2,
          3,
          4,
          5,
          6,
          7,
          8,
          9
         ],
         "y": [
          3.415277777777778,
          3.211159737417943,
          3.187062937062937,
          3.050687907313541,
          3.0714745653573727,
          3.0274285714285716,
          2.8683937823834196,
          2.784821841739935,
          2.548472775564409,
          2.368688845401174
         ]
        }
       ],
       "layout": {
        "template": {
         "data": {
          "bar": [
           {
            "error_x": {
             "color": "#2a3f5f"
            },
            "error_y": {
             "color": "#2a3f5f"
            },
            "marker": {
             "line": {
              "color": "#E5ECF6",
              "width": 0.5
             }
            },
            "type": "bar"
           }
          ],
          "barpolar": [
           {
            "marker": {
             "line": {
              "color": "#E5ECF6",
              "width": 0.5
             }
            },
            "type": "barpolar"
           }
          ],
          "carpet": [
           {
            "aaxis": {
             "endlinecolor": "#2a3f5f",
             "gridcolor": "white",
             "linecolor": "white",
             "minorgridcolor": "white",
             "startlinecolor": "#2a3f5f"
            },
            "baxis": {
             "endlinecolor": "#2a3f5f",
             "gridcolor": "white",
             "linecolor": "white",
             "minorgridcolor": "white",
             "startlinecolor": "#2a3f5f"
            },
            "type": "carpet"
           }
          ],
          "choropleth": [
           {
            "colorbar": {
             "outlinewidth": 0,
             "ticks": ""
            },
            "type": "choropleth"
           }
          ],
          "contour": [
           {
            "colorbar": {
             "outlinewidth": 0,
             "ticks": ""
            },
            "colorscale": [
             [
              0,
              "#0d0887"
             ],
             [
              0.1111111111111111,
              "#46039f"
             ],
             [
              0.2222222222222222,
              "#7201a8"
             ],
             [
              0.3333333333333333,
              "#9c179e"
             ],
             [
              0.4444444444444444,
              "#bd3786"
             ],
             [
              0.5555555555555556,
              "#d8576b"
             ],
             [
              0.6666666666666666,
              "#ed7953"
             ],
             [
              0.7777777777777778,
              "#fb9f3a"
             ],
             [
              0.8888888888888888,
              "#fdca26"
             ],
             [
              1,
              "#f0f921"
             ]
            ],
            "type": "contour"
           }
          ],
          "contourcarpet": [
           {
            "colorbar": {
             "outlinewidth": 0,
             "ticks": ""
            },
            "type": "contourcarpet"
           }
          ],
          "heatmap": [
           {
            "colorbar": {
             "outlinewidth": 0,
             "ticks": ""
            },
            "colorscale": [
             [
              0,
              "#0d0887"
             ],
             [
              0.1111111111111111,
              "#46039f"
             ],
             [
              0.2222222222222222,
              "#7201a8"
             ],
             [
              0.3333333333333333,
              "#9c179e"
             ],
             [
              0.4444444444444444,
              "#bd3786"
             ],
             [
              0.5555555555555556,
              "#d8576b"
             ],
             [
              0.6666666666666666,
              "#ed7953"
             ],
             [
              0.7777777777777778,
              "#fb9f3a"
             ],
             [
              0.8888888888888888,
              "#fdca26"
             ],
             [
              1,
              "#f0f921"
             ]
            ],
            "type": "heatmap"
           }
          ],
          "heatmapgl": [
           {
            "colorbar": {
             "outlinewidth": 0,
             "ticks": ""
            },
            "colorscale": [
             [
              0,
              "#0d0887"
             ],
             [
              0.1111111111111111,
              "#46039f"
             ],
             [
              0.2222222222222222,
              "#7201a8"
             ],
             [
              0.3333333333333333,
              "#9c179e"
             ],
             [
              0.4444444444444444,
              "#bd3786"
             ],
             [
              0.5555555555555556,
              "#d8576b"
             ],
             [
              0.6666666666666666,
              "#ed7953"
             ],
             [
              0.7777777777777778,
              "#fb9f3a"
             ],
             [
              0.8888888888888888,
              "#fdca26"
             ],
             [
              1,
              "#f0f921"
             ]
            ],
            "type": "heatmapgl"
           }
          ],
          "histogram": [
           {
            "marker": {
             "colorbar": {
              "outlinewidth": 0,
              "ticks": ""
             }
            },
            "type": "histogram"
           }
          ],
          "histogram2d": [
           {
            "colorbar": {
             "outlinewidth": 0,
             "ticks": ""
            },
            "colorscale": [
             [
              0,
              "#0d0887"
             ],
             [
              0.1111111111111111,
              "#46039f"
             ],
             [
              0.2222222222222222,
              "#7201a8"
             ],
             [
              0.3333333333333333,
              "#9c179e"
             ],
             [
              0.4444444444444444,
              "#bd3786"
             ],
             [
              0.5555555555555556,
              "#d8576b"
             ],
             [
              0.6666666666666666,
              "#ed7953"
             ],
             [
              0.7777777777777778,
              "#fb9f3a"
             ],
             [
              0.8888888888888888,
              "#fdca26"
             ],
             [
              1,
              "#f0f921"
             ]
            ],
            "type": "histogram2d"
           }
          ],
          "histogram2dcontour": [
           {
            "colorbar": {
             "outlinewidth": 0,
             "ticks": ""
            },
            "colorscale": [
             [
              0,
              "#0d0887"
             ],
             [
              0.1111111111111111,
              "#46039f"
             ],
             [
              0.2222222222222222,
              "#7201a8"
             ],
             [
              0.3333333333333333,
              "#9c179e"
             ],
             [
              0.4444444444444444,
              "#bd3786"
             ],
             [
              0.5555555555555556,
              "#d8576b"
             ],
             [
              0.6666666666666666,
              "#ed7953"
             ],
             [
              0.7777777777777778,
              "#fb9f3a"
             ],
             [
              0.8888888888888888,
              "#fdca26"
             ],
             [
              1,
              "#f0f921"
             ]
            ],
            "type": "histogram2dcontour"
           }
          ],
          "mesh3d": [
           {
            "colorbar": {
             "outlinewidth": 0,
             "ticks": ""
            },
            "type": "mesh3d"
           }
          ],
          "parcoords": [
           {
            "line": {
             "colorbar": {
              "outlinewidth": 0,
              "ticks": ""
             }
            },
            "type": "parcoords"
           }
          ],
          "pie": [
           {
            "automargin": true,
            "type": "pie"
           }
          ],
          "scatter": [
           {
            "marker": {
             "colorbar": {
              "outlinewidth": 0,
              "ticks": ""
             }
            },
            "type": "scatter"
           }
          ],
          "scatter3d": [
           {
            "line": {
             "colorbar": {
              "outlinewidth": 0,
              "ticks": ""
             }
            },
            "marker": {
             "colorbar": {
              "outlinewidth": 0,
              "ticks": ""
             }
            },
            "type": "scatter3d"
           }
          ],
          "scattercarpet": [
           {
            "marker": {
             "colorbar": {
              "outlinewidth": 0,
              "ticks": ""
             }
            },
            "type": "scattercarpet"
           }
          ],
          "scattergeo": [
           {
            "marker": {
             "colorbar": {
              "outlinewidth": 0,
              "ticks": ""
             }
            },
            "type": "scattergeo"
           }
          ],
          "scattergl": [
           {
            "marker": {
             "colorbar": {
              "outlinewidth": 0,
              "ticks": ""
             }
            },
            "type": "scattergl"
           }
          ],
          "scattermapbox": [
           {
            "marker": {
             "colorbar": {
              "outlinewidth": 0,
              "ticks": ""
             }
            },
            "type": "scattermapbox"
           }
          ],
          "scatterpolar": [
           {
            "marker": {
             "colorbar": {
              "outlinewidth": 0,
              "ticks": ""
             }
            },
            "type": "scatterpolar"
           }
          ],
          "scatterpolargl": [
           {
            "marker": {
             "colorbar": {
              "outlinewidth": 0,
              "ticks": ""
             }
            },
            "type": "scatterpolargl"
           }
          ],
          "scatterternary": [
           {
            "marker": {
             "colorbar": {
              "outlinewidth": 0,
              "ticks": ""
             }
            },
            "type": "scatterternary"
           }
          ],
          "surface": [
           {
            "colorbar": {
             "outlinewidth": 0,
             "ticks": ""
            },
            "colorscale": [
             [
              0,
              "#0d0887"
             ],
             [
              0.1111111111111111,
              "#46039f"
             ],
             [
              0.2222222222222222,
              "#7201a8"
             ],
             [
              0.3333333333333333,
              "#9c179e"
             ],
             [
              0.4444444444444444,
              "#bd3786"
             ],
             [
              0.5555555555555556,
              "#d8576b"
             ],
             [
              0.6666666666666666,
              "#ed7953"
             ],
             [
              0.7777777777777778,
              "#fb9f3a"
             ],
             [
              0.8888888888888888,
              "#fdca26"
             ],
             [
              1,
              "#f0f921"
             ]
            ],
            "type": "surface"
           }
          ],
          "table": [
           {
            "cells": {
             "fill": {
              "color": "#EBF0F8"
             },
             "line": {
              "color": "white"
             }
            },
            "header": {
             "fill": {
              "color": "#C8D4E3"
             },
             "line": {
              "color": "white"
             }
            },
            "type": "table"
           }
          ]
         },
         "layout": {
          "annotationdefaults": {
           "arrowcolor": "#2a3f5f",
           "arrowhead": 0,
           "arrowwidth": 1
          },
          "coloraxis": {
           "colorbar": {
            "outlinewidth": 0,
            "ticks": ""
           }
          },
          "colorscale": {
           "diverging": [
            [
             0,
             "#8e0152"
            ],
            [
             0.1,
             "#c51b7d"
            ],
            [
             0.2,
             "#de77ae"
            ],
            [
             0.3,
             "#f1b6da"
            ],
            [
             0.4,
             "#fde0ef"
            ],
            [
             0.5,
             "#f7f7f7"
            ],
            [
             0.6,
             "#e6f5d0"
            ],
            [
             0.7,
             "#b8e186"
            ],
            [
             0.8,
             "#7fbc41"
            ],
            [
             0.9,
             "#4d9221"
            ],
            [
             1,
             "#276419"
            ]
           ],
           "sequential": [
            [
             0,
             "#0d0887"
            ],
            [
             0.1111111111111111,
             "#46039f"
            ],
            [
             0.2222222222222222,
             "#7201a8"
            ],
            [
             0.3333333333333333,
             "#9c179e"
            ],
            [
             0.4444444444444444,
             "#bd3786"
            ],
            [
             0.5555555555555556,
             "#d8576b"
            ],
            [
             0.6666666666666666,
             "#ed7953"
            ],
            [
             0.7777777777777778,
             "#fb9f3a"
            ],
            [
             0.8888888888888888,
             "#fdca26"
            ],
            [
             1,
             "#f0f921"
            ]
           ],
           "sequentialminus": [
            [
             0,
             "#0d0887"
            ],
            [
             0.1111111111111111,
             "#46039f"
            ],
            [
             0.2222222222222222,
             "#7201a8"
            ],
            [
             0.3333333333333333,
             "#9c179e"
            ],
            [
             0.4444444444444444,
             "#bd3786"
            ],
            [
             0.5555555555555556,
             "#d8576b"
            ],
            [
             0.6666666666666666,
             "#ed7953"
            ],
            [
             0.7777777777777778,
             "#fb9f3a"
            ],
            [
             0.8888888888888888,
             "#fdca26"
            ],
            [
             1,
             "#f0f921"
            ]
           ]
          },
          "colorway": [
           "#636efa",
           "#EF553B",
           "#00cc96",
           "#ab63fa",
           "#FFA15A",
           "#19d3f3",
           "#FF6692",
           "#B6E880",
           "#FF97FF",
           "#FECB52"
          ],
          "font": {
           "color": "#2a3f5f"
          },
          "geo": {
           "bgcolor": "white",
           "lakecolor": "white",
           "landcolor": "#E5ECF6",
           "showlakes": true,
           "showland": true,
           "subunitcolor": "white"
          },
          "hoverlabel": {
           "align": "left"
          },
          "hovermode": "closest",
          "mapbox": {
           "style": "light"
          },
          "paper_bgcolor": "white",
          "plot_bgcolor": "#E5ECF6",
          "polar": {
           "angularaxis": {
            "gridcolor": "white",
            "linecolor": "white",
            "ticks": ""
           },
           "bgcolor": "#E5ECF6",
           "radialaxis": {
            "gridcolor": "white",
            "linecolor": "white",
            "ticks": ""
           }
          },
          "scene": {
           "xaxis": {
            "backgroundcolor": "#E5ECF6",
            "gridcolor": "white",
            "gridwidth": 2,
            "linecolor": "white",
            "showbackground": true,
            "ticks": "",
            "zerolinecolor": "white"
           },
           "yaxis": {
            "backgroundcolor": "#E5ECF6",
            "gridcolor": "white",
            "gridwidth": 2,
            "linecolor": "white",
            "showbackground": true,
            "ticks": "",
            "zerolinecolor": "white"
           },
           "zaxis": {
            "backgroundcolor": "#E5ECF6",
            "gridcolor": "white",
            "gridwidth": 2,
            "linecolor": "white",
            "showbackground": true,
            "ticks": "",
            "zerolinecolor": "white"
           }
          },
          "shapedefaults": {
           "line": {
            "color": "#2a3f5f"
           }
          },
          "ternary": {
           "aaxis": {
            "gridcolor": "white",
            "linecolor": "white",
            "ticks": ""
           },
           "baxis": {
            "gridcolor": "white",
            "linecolor": "white",
            "ticks": ""
           },
           "bgcolor": "#E5ECF6",
           "caxis": {
            "gridcolor": "white",
            "linecolor": "white",
            "ticks": ""
           }
          },
          "title": {
           "x": 0.05
          },
          "xaxis": {
           "automargin": true,
           "gridcolor": "white",
           "linecolor": "white",
           "ticks": "",
           "title": {
            "standoff": 15
           },
           "zerolinecolor": "white",
           "zerolinewidth": 2
          },
          "yaxis": {
           "automargin": true,
           "gridcolor": "white",
           "linecolor": "white",
           "ticks": "",
           "title": {
            "standoff": 15
           },
           "zerolinecolor": "white",
           "zerolinewidth": 2
          }
         }
        }
       }
      },
      "text/html": [
       "<div>\n",
       "        \n",
       "        \n",
       "            <div id=\"1e10034a-c96a-447b-9dfb-079677721cbb\" class=\"plotly-graph-div\" style=\"height:525px; width:100%;\"></div>\n",
       "            <script type=\"text/javascript\">\n",
       "                require([\"plotly\"], function(Plotly) {\n",
       "                    window.PLOTLYENV=window.PLOTLYENV || {};\n",
       "                    \n",
       "                if (document.getElementById(\"1e10034a-c96a-447b-9dfb-079677721cbb\")) {\n",
       "                    Plotly.newPlot(\n",
       "                        '1e10034a-c96a-447b-9dfb-079677721cbb',\n",
       "                        [{\"line\": {\"color\": \"red\"}, \"mode\": \"lines\", \"opacity\": 0.3, \"showlegend\": false, \"type\": \"scatter\", \"x\": [0, 1, 2, 3, 4, 5, 6, 7, 8, 9], \"y\": [5.0, 4.7272727272727275, 3.090909090909091, 2.4375, 2.263157894736842, 2.125, 2.5789473684210527, 3.5652173913043477, 2.9444444444444446, 1.68]}, {\"line\": {\"color\": \"red\"}, \"mode\": \"lines\", \"opacity\": 0.3, \"showlegend\": false, \"type\": \"scatter\", \"x\": [0, 1, 2, 3, 4, 5, 6, 7, 8, 9], \"y\": [3.25, 1.6, 2.5714285714285716, 2.125, 2.9285714285714284, 2.642857142857143, 4.266666666666667, 2.0, 1.96, 2.5652173913043477]}, {\"line\": {\"color\": \"red\"}, \"mode\": \"lines\", \"opacity\": 0.3, \"showlegend\": false, \"type\": \"scatter\", \"x\": [0, 1, 2, 3, 4, 5, 6, 7, 8, 9], \"y\": [3.4444444444444446, 7.230769230769231, 4.785714285714286, 4.391304347826087, 4.380952380952381, 4.35, 4.25, 3.8684210526315788, 3.6785714285714284, 3.235294117647059]}, {\"line\": {\"color\": \"red\"}, \"mode\": \"lines\", \"opacity\": 0.3, \"showlegend\": false, \"type\": \"scatter\", \"x\": [0, 1, 2, 3, 4, 5, 6, 7, 8, 9], \"y\": [3.0, 2.4545454545454546, 2.4545454545454546, 2.2857142857142856, 2.9047619047619047, 2.357142857142857, 1.6666666666666667, 1.9047619047619047, 2.8095238095238093, 1.7777777777777777]}, {\"line\": {\"color\": \"red\"}, \"mode\": \"lines\", \"opacity\": 0.3, \"showlegend\": false, \"type\": \"scatter\", \"x\": [0, 1, 2, 3, 4, 5, 6, 7, 8, 9], \"y\": [3.2857142857142856, 4.625, 2.1333333333333333, 1.6428571428571428, 3.3333333333333335, 2.090909090909091, 2.357142857142857, 1.9285714285714286, 2.9545454545454546, 2.0952380952380953]}, {\"line\": {\"color\": \"red\"}, \"mode\": \"lines\", \"opacity\": 0.3, \"showlegend\": false, \"type\": \"scatter\", \"x\": [0, 1, 2, 3, 4, 5, 6, 7, 8, 9], \"y\": [4.5, 4.111111111111111, 3.2, 3.823529411764706, 3.466666666666667, 2.076923076923077, 2.05, 3.6, 1.9642857142857142, 2.5714285714285716]}, {\"line\": {\"color\": \"red\"}, \"mode\": \"lines\", \"opacity\": 0.3, \"showlegend\": false, \"type\": \"scatter\", \"x\": [0, 1, 2, 3, 4, 5, 6, 7, 8, 9], \"y\": [2.0, 2.5555555555555554, 4.166666666666667, 1.8461538461538463, 3.6666666666666665, 2.1176470588235294, 2.75, 1.894736842105263, 2.6153846153846154, 1.5909090909090908]}, {\"line\": {\"color\": \"red\"}, \"mode\": \"lines\", \"opacity\": 0.3, \"showlegend\": false, \"type\": \"scatter\", \"x\": [0, 1, 2, 3, 4, 5, 6, 7, 8, 9], \"y\": [5.2727272727272725, 4.266666666666667, 4.0, 2.7083333333333335, 3.909090909090909, 4.8, 3.225806451612903, 2.8157894736842106, 4.166666666666667, 3.0]}, {\"line\": {\"color\": \"red\"}, \"mode\": \"lines\", \"opacity\": 0.3, \"showlegend\": false, \"type\": \"scatter\", \"x\": [0, 1, 2, 3, 4, 5, 6, 7, 8, 9], \"y\": [3.1666666666666665, 2.4545454545454546, 4.166666666666667, 2.3, 2.5833333333333335, 2.6842105263157894, 2.95, 2.588235294117647, 3.1666666666666665, 2.3157894736842106]}, {\"line\": {\"color\": \"red\"}, \"mode\": \"lines\", \"opacity\": 0.3, \"showlegend\": false, \"type\": \"scatter\", \"x\": [0, 1, 2, 3, 4, 5, 6, 7, 8, 9], \"y\": [4.0, 4.428571428571429, 2.0, 2.6666666666666665, 2.8461538461538463, 2.2222222222222223, 3.15, 2.25, 2.066666666666667, 2.45]}, {\"line\": {\"color\": \"red\"}, \"mode\": \"lines\", \"opacity\": 0.3, \"showlegend\": false, \"type\": \"scatter\", \"x\": [0, 1, 2, 3, 4, 5, 6, 7, 8, 9], \"y\": [3.0, 3.1818181818181817, 3.923076923076923, 4.277777777777778, 2.75, 3.689655172413793, 5.846153846153846, 3.32, 3.7058823529411766, 3.488372093023256]}, {\"line\": {\"color\": \"red\"}, \"mode\": \"lines\", \"opacity\": 0.3, \"showlegend\": false, \"type\": \"scatter\", \"x\": [0, 1, 2, 3, 4, 5, 6, 7, 8, 9], \"y\": [3.5, 3.3333333333333335, 2.411764705882353, 5.25, 3.0833333333333335, 2.1052631578947367, 2.4444444444444446, 3.9473684210526314, 2.5, 3.5]}, {\"line\": {\"color\": \"red\"}, \"mode\": \"lines\", \"opacity\": 0.3, \"showlegend\": false, \"type\": \"scatter\", \"x\": [0, 1, 2, 3, 4, 5, 6, 7, 8, 9], \"y\": [2.75, 2.0, 3.6666666666666665, 2.9, 3.2666666666666666, 3.066666666666667, 2.909090909090909, 2.652173913043478, 2.736842105263158, 1.5263157894736843]}, {\"line\": {\"color\": \"red\"}, \"mode\": \"lines\", \"opacity\": 0.3, \"showlegend\": false, \"type\": \"scatter\", \"x\": [0, 1, 2, 3, 4, 5, 6, 7, 8, 9], \"y\": [3.7142857142857144, 1.625, 2.5, 1.6666666666666667, 3.3636363636363638, 2.230769230769231, 2.7142857142857144, 2.5, 2.857142857142857, 1.75]}, {\"line\": {\"color\": \"red\"}, \"mode\": \"lines\", \"opacity\": 0.3, \"showlegend\": false, \"type\": \"scatter\", \"x\": [0, 1, 2, 3, 4, 5, 6, 7, 8, 9], \"y\": [2.923076923076923, 5.0, 3.375, 4.0, 1.6666666666666667, 2.466666666666667, 1.5454545454545454, 2.7222222222222223, 2.1578947368421053, 2.4210526315789473]}, {\"line\": {\"color\": \"red\"}, \"mode\": \"lines\", \"opacity\": 0.3, \"showlegend\": false, \"type\": \"scatter\", \"x\": [0, 1, 2, 3, 4, 5, 6, 7, 8, 9], \"y\": [3.5, 3.7777777777777777, 2.6153846153846154, 3.1538461538461537, 1.4, 3.642857142857143, 2.1333333333333333, 1.9333333333333333, 2.3, 1.962962962962963]}, {\"line\": {\"color\": \"red\"}, \"mode\": \"lines\", \"opacity\": 0.3, \"showlegend\": false, \"type\": \"scatter\", \"x\": [0, 1, 2, 3, 4, 5, 6, 7, 8, 9], \"y\": [7.461538461538462, 2.75, 2.5, 4.695652173913044, 3.2857142857142856, 2.761904761904762, 3.4444444444444446, 2.727272727272727, 2.9696969696969697, 3.3548387096774195]}, {\"line\": {\"color\": \"red\"}, \"mode\": \"lines\", \"opacity\": 0.3, \"showlegend\": false, \"type\": \"scatter\", \"x\": [0, 1, 2, 3, 4, 5, 6, 7, 8, 9], \"y\": [3.5, 5.25, 2.8333333333333335, 2.6666666666666665, 3.0, 3.5, 2.409090909090909, 2.3529411764705883, 2.2142857142857144, 2.1176470588235294]}, {\"line\": {\"color\": \"red\"}, \"mode\": \"lines\", \"opacity\": 0.3, \"showlegend\": false, \"type\": \"scatter\", \"x\": [0, 1, 2, 3, 4, 5, 6, 7, 8, 9], \"y\": [1.625, 3.9, 1.6, 2.5, 3.0, 2.1333333333333333, 3.0, 2.0625, 2.2857142857142856, 1.6666666666666667]}, {\"line\": {\"color\": \"red\"}, \"mode\": \"lines\", \"opacity\": 0.3, \"showlegend\": false, \"type\": \"scatter\", \"x\": [0, 1, 2, 3, 4, 5, 6, 7, 8, 9], \"y\": [6.555555555555555, 4.3, 4.5, 3.3, 2.5, 4.095238095238095, 2.7142857142857144, 3.5555555555555554, 3.1724137931034484, 2.3793103448275863]}, {\"line\": {\"color\": \"red\"}, \"mode\": \"lines\", \"opacity\": 0.3, \"showlegend\": false, \"type\": \"scatter\", \"x\": [0, 1, 2, 3, 4, 5, 6, 7, 8, 9], \"y\": [5.0, 4.142857142857143, 2.857142857142857, 2.7, 3.1333333333333333, 2.4615384615384617, 3.1, 2.4347826086956523, 2.5185185185185186, 2.6923076923076925]}, {\"line\": {\"color\": \"red\"}, \"mode\": \"lines\", \"opacity\": 0.3, \"showlegend\": false, \"type\": \"scatter\", \"x\": [0, 1, 2, 3, 4, 5, 6, 7, 8, 9], \"y\": [2.5, 3.5, 3.4615384615384617, 2.4, 3.1, 1.7857142857142858, 2.4705882352941178, 1.8333333333333333, 1.6111111111111112, 1.75]}, {\"line\": {\"color\": \"red\"}, \"mode\": \"lines\", \"opacity\": 0.3, \"showlegend\": false, \"type\": \"scatter\", \"x\": [0, 1, 2, 3, 4, 5, 6, 7, 8, 9], \"y\": [2.25, 2.3, 2.8181818181818183, 3.9411764705882355, 3.4166666666666665, 2.764705882352941, 2.4375, 3.4, 2.9444444444444446, 2.5]}, {\"line\": {\"color\": \"red\"}, \"mode\": \"lines\", \"opacity\": 0.3, \"showlegend\": false, \"type\": \"scatter\", \"x\": [0, 1, 2, 3, 4, 5, 6, 7, 8, 9], \"y\": [2.1818181818181817, 2.6666666666666665, 3.3076923076923075, 3.619047619047619, 4.466666666666667, 3.0952380952380953, 3.8, 4.928571428571429, 4.421052631578948, 1.7142857142857142]}, {\"line\": {\"color\": \"red\"}, \"mode\": \"lines\", \"opacity\": 0.3, \"showlegend\": false, \"type\": \"scatter\", \"x\": [0, 1, 2, 3, 4, 5, 6, 7, 8, 9], \"y\": [2.5, 1.0, 4.4, 3.9166666666666665, 0.6, 2.625, 2.4, 2.4545454545454546, 2.5454545454545454, 2.769230769230769]}, {\"line\": {\"color\": \"red\"}, \"mode\": \"lines\", \"opacity\": 0.3, \"showlegend\": false, \"type\": \"scatter\", \"x\": [0, 1, 2, 3, 4, 5, 6, 7, 8, 9], \"y\": [1.75, 2.3333333333333335, 3.8, 3.25, 2.0, 4.0625, 2.6666666666666665, 3.0, 2.8461538461538463, 3.08]}, {\"line\": {\"color\": \"red\"}, \"mode\": \"lines\", \"opacity\": 0.3, \"showlegend\": false, \"type\": \"scatter\", \"x\": [0, 1, 2, 3, 4, 5, 6, 7, 8, 9], \"y\": [2.5555555555555554, 2.142857142857143, 3.1666666666666665, 2.8333333333333335, 3.0714285714285716, 3.4444444444444446, 2.9545454545454546, 2.576923076923077, 2.4166666666666665, 2.8275862068965516]}, {\"line\": {\"color\": \"red\"}, \"mode\": \"lines\", \"opacity\": 0.3, \"showlegend\": false, \"type\": \"scatter\", \"x\": [0, 1, 2, 3, 4, 5, 6, 7, 8, 9], \"y\": [6.7272727272727275, 3.923076923076923, 4.285714285714286, 3.625, 4.0, 3.6315789473684212, 3.7837837837837838, 3.526315789473684, 3.657142857142857, 3.2093023255813953]}, {\"line\": {\"color\": \"red\"}, \"mode\": \"lines\", \"opacity\": 0.3, \"showlegend\": false, \"type\": \"scatter\", \"x\": [0, 1, 2, 3, 4, 5, 6, 7, 8, 9], \"y\": [2.6666666666666665, 2.95, 3.5, 3.7777777777777777, 1.4, 4.15, 2.5, 3.1538461538461537, 2.5, 2.3529411764705883]}, {\"line\": {\"color\": \"red\"}, \"mode\": \"lines\", \"opacity\": 0.3, \"showlegend\": false, \"type\": \"scatter\", \"x\": [0, 1, 2, 3, 4, 5, 6, 7, 8, 9], \"y\": [2.5, 0.5714285714285714, 3.125, 3.090909090909091, 3.5, 3.5, 2.375, 2.85, 2.259259259259259, 2.9375]}, {\"line\": {\"color\": \"red\"}, \"mode\": \"lines\", \"opacity\": 0.3, \"showlegend\": false, \"type\": \"scatter\", \"x\": [0, 1, 2, 3, 4, 5, 6, 7, 8, 9], \"y\": [4.714285714285714, 5.625, 2.5454545454545454, 3.4545454545454546, 2.263157894736842, 3.3157894736842106, 3.2, 2.75, 1.8181818181818181, 2.8636363636363638]}, {\"line\": {\"color\": \"red\"}, \"mode\": \"lines\", \"opacity\": 0.3, \"showlegend\": false, \"type\": \"scatter\", \"x\": [0, 1, 2, 3, 4, 5, 6, 7, 8, 9], \"y\": [2.8461538461538463, 3.3333333333333335, 2.7857142857142856, 2.15, 2.409090909090909, 2.5789473684210527, 3.3846153846153846, 2.5, 2.185185185185185, 1.5]}, {\"line\": {\"color\": \"red\"}, \"mode\": \"lines\", \"opacity\": 0.3, \"showlegend\": false, \"type\": \"scatter\", \"x\": [0, 1, 2, 3, 4, 5, 6, 7, 8, 9], \"y\": [2.625, 1.4, 2.6666666666666665, 2.5, 2.5, 2.5, 1.6875, 2.6, 2.7777777777777777, 2.4444444444444446]}, {\"line\": {\"color\": \"red\"}, \"mode\": \"lines\", \"opacity\": 0.3, \"showlegend\": false, \"type\": \"scatter\", \"x\": [0, 1, 2, 3, 4, 5, 6, 7, 8, 9], \"y\": [2.8, 2.857142857142857, 2.7857142857142856, 2.6923076923076925, 3.85, 2.9411764705882355, 2.0, 1.8695652173913044, 2.0384615384615383, 1.92]}, {\"line\": {\"color\": \"red\"}, \"mode\": \"lines\", \"opacity\": 0.3, \"showlegend\": false, \"type\": \"scatter\", \"x\": [0, 1, 2, 3, 4, 5, 6, 7, 8, 9], \"y\": [5.0, 4.076923076923077, 5.153846153846154, 4.944444444444445, 2.933333333333333, 4.117647058823529, 3.4615384615384617, 3.4285714285714284, 3.0357142857142856, 2.46875]}, {\"line\": {\"color\": \"red\"}, \"mode\": \"lines\", \"opacity\": 0.3, \"showlegend\": false, \"type\": \"scatter\", \"x\": [0, 1, 2, 3, 4, 5, 6, 7, 8, 9], \"y\": [2.0, 2.857142857142857, 4.625, 3.0, 2.466666666666667, 2.0, 3.619047619047619, 3.590909090909091, 2.3333333333333335, 2.473684210526316]}, {\"line\": {\"color\": \"red\"}, \"mode\": \"lines\", \"opacity\": 0.3, \"showlegend\": false, \"type\": \"scatter\", \"x\": [0, 1, 2, 3, 4, 5, 6, 7, 8, 9], \"y\": [3.0, 2.142857142857143, 4.833333333333333, 3.7142857142857144, 2.769230769230769, 2.0, 2.3333333333333335, 2.625, 1.5833333333333333, 2.0357142857142856]}, {\"line\": {\"color\": \"red\"}, \"mode\": \"lines\", \"opacity\": 0.3, \"showlegend\": false, \"type\": \"scatter\", \"x\": [0, 1, 2, 3, 4, 5, 6, 7, 8, 9], \"y\": [2.6, 2.2, 3.4615384615384617, 2.727272727272727, 2.230769230769231, 2.4285714285714284, 2.4705882352941178, 2.2666666666666666, 2.3529411764705883, 3.0]}, {\"line\": {\"color\": \"red\"}, \"mode\": \"lines\", \"opacity\": 0.3, \"showlegend\": false, \"type\": \"scatter\", \"x\": [0, 1, 2, 3, 4, 5, 6, 7, 8, 9], \"y\": [2.7142857142857144, 2.875, 2.466666666666667, 3.9285714285714284, 3.5, 3.7, 3.769230769230769, 2.727272727272727, 2.8461538461538463, 2.2777777777777777]}, {\"line\": {\"color\": \"red\"}, \"mode\": \"lines\", \"opacity\": 0.3, \"showlegend\": false, \"type\": \"scatter\", \"x\": [0, 1, 2, 3, 4, 5, 6, 7, 8, 9], \"y\": [4.3, 3.2, 3.4444444444444446, 3.8461538461538463, 3.0869565217391304, 2.84, 3.4761904761904763, 2.2777777777777777, 2.5714285714285716, 1.8695652173913044]}, {\"line\": {\"color\": \"red\"}, \"mode\": \"lines\", \"opacity\": 0.3, \"showlegend\": false, \"type\": \"scatter\", \"x\": [0, 1, 2, 3, 4, 5, 6, 7, 8, 9], \"y\": [4.666666666666667, 2.5, 4.9, 2.7, 3.392857142857143, 2.727272727272727, 3.772727272727273, 2.7142857142857144, 3.823529411764706, 2.6206896551724137]}, {\"line\": {\"color\": \"red\"}, \"mode\": \"lines\", \"opacity\": 0.3, \"showlegend\": false, \"type\": \"scatter\", \"x\": [0, 1, 2, 3, 4, 5, 6, 7, 8, 9], \"y\": [2.5, 4.5, 3.8, 2.8333333333333335, 2.7222222222222223, 2.3636363636363638, 2.55, 3.3157894736842106, 2.235294117647059, 2.0]}, {\"line\": {\"color\": \"red\"}, \"mode\": \"lines\", \"opacity\": 0.3, \"showlegend\": false, \"type\": \"scatter\", \"x\": [0, 1, 2, 3, 4, 5, 6, 7, 8, 9], \"y\": [3.0, 3.5, 2.3333333333333335, 2.857142857142857, 2.857142857142857, 2.727272727272727, 2.4285714285714284, 2.3684210526315788, 3.0, 2.05]}, {\"line\": {\"color\": \"red\"}, \"mode\": \"lines\", \"opacity\": 0.3, \"showlegend\": false, \"type\": \"scatter\", \"x\": [0, 1, 2, 3, 4, 5, 6, 7, 8, 9], \"y\": [4.222222222222222, 2.125, 2.1666666666666665, 3.0588235294117645, 2.0588235294117645, 3.619047619047619, 2.1904761904761907, 2.24, 3.1666666666666665, 2.0]}, {\"line\": {\"color\": \"red\"}, \"mode\": \"lines\", \"opacity\": 0.3, \"showlegend\": false, \"type\": \"scatter\", \"x\": [0, 1, 2, 3, 4, 5, 6, 7, 8, 9], \"y\": [4.4, 3.272727272727273, 2.1538461538461537, 2.75, 2.391304347826087, 2.28, 2.8333333333333335, 2.25, 3.090909090909091, 1.9545454545454546]}, {\"line\": {\"color\": \"red\"}, \"mode\": \"lines\", \"opacity\": 0.3, \"showlegend\": false, \"type\": \"scatter\", \"x\": [0, 1, 2, 3, 4, 5, 6, 7, 8, 9], \"y\": [4.444444444444445, 2.6666666666666665, 2.357142857142857, 2.9285714285714284, 2.5652173913043477, 3.1666666666666665, 2.625, 4.238095238095238, 3.037037037037037, 2.323529411764706]}, {\"line\": {\"color\": \"red\"}, \"mode\": \"lines\", \"opacity\": 0.3, \"showlegend\": false, \"type\": \"scatter\", \"x\": [0, 1, 2, 3, 4, 5, 6, 7, 8, 9], \"y\": [3.6666666666666665, 3.0, 3.909090909090909, 3.0, 4.285714285714286, 4.086956521739131, 3.9615384615384617, 3.772727272727273, 2.8125, 2.871794871794872]}, {\"line\": {\"color\": \"red\"}, \"mode\": \"lines\", \"opacity\": 0.3, \"showlegend\": false, \"type\": \"scatter\", \"x\": [0, 1, 2, 3, 4, 5, 6, 7, 8, 9], \"y\": [1.8888888888888888, 2.4545454545454546, 3.411764705882353, 2.3333333333333335, 2.375, 3.0, 2.5454545454545454, 2.08, 1.7142857142857142, 2.323529411764706]}, {\"line\": {\"color\": \"red\"}, \"mode\": \"lines\", \"opacity\": 0.3, \"showlegend\": false, \"type\": \"scatter\", \"x\": [0, 1, 2, 3, 4, 5, 6, 7, 8, 9], \"y\": [4.2, 3.3333333333333335, 3.0, 2.230769230769231, 3.6666666666666665, 2.6153846153846154, 3.2666666666666666, 3.966666666666667, 1.7727272727272727, 2.6923076923076925]}, {\"line\": {\"color\": \"red\"}, \"mode\": \"lines\", \"opacity\": 0.3, \"showlegend\": false, \"type\": \"scatter\", \"x\": [0, 1, 2, 3, 4, 5, 6, 7, 8, 9], \"y\": [3.4, 3.4545454545454546, 3.357142857142857, 3.1333333333333333, 2.8947368421052633, 2.8, 2.7142857142857144, 2.0454545454545454, 2.8, 2.12]}, {\"line\": {\"color\": \"red\"}, \"mode\": \"lines\", \"opacity\": 0.3, \"showlegend\": false, \"type\": \"scatter\", \"x\": [0, 1, 2, 3, 4, 5, 6, 7, 8, 9], \"y\": [2.25, 3.3333333333333335, 3.0714285714285716, 1.0833333333333333, 4.363636363636363, 2.0, 2.45, 1.8571428571428572, 2.1363636363636362, 1.6818181818181819]}, {\"line\": {\"color\": \"red\"}, \"mode\": \"lines\", \"opacity\": 0.3, \"showlegend\": false, \"type\": \"scatter\", \"x\": [0, 1, 2, 3, 4, 5, 6, 7, 8, 9], \"y\": [4.5, 2.8666666666666667, 2.7142857142857144, 3.1538461538461537, 3.066666666666667, 3.0, 2.090909090909091, 3.68, 2.5, 1.9583333333333333]}, {\"line\": {\"color\": \"red\"}, \"mode\": \"lines\", \"opacity\": 0.3, \"showlegend\": false, \"type\": \"scatter\", \"x\": [0, 1, 2, 3, 4, 5, 6, 7, 8, 9], \"y\": [1.7777777777777777, 4.75, 3.0, 2.235294117647059, 3.5, 3.875, 2.5625, 3.5357142857142856, 2.8076923076923075, 2.7058823529411766]}, {\"line\": {\"color\": \"red\"}, \"mode\": \"lines\", \"opacity\": 0.3, \"showlegend\": false, \"type\": \"scatter\", \"x\": [0, 1, 2, 3, 4, 5, 6, 7, 8, 9], \"y\": [2.1, 3.8333333333333335, 3.8333333333333335, 3.5555555555555554, 2.9285714285714284, 2.9523809523809526, 3.263157894736842, 3.611111111111111, 2.6470588235294117, 2.1]}, {\"line\": {\"color\": \"red\"}, \"mode\": \"lines\", \"opacity\": 0.3, \"showlegend\": false, \"type\": \"scatter\", \"x\": [0, 1, 2, 3, 4, 5, 6, 7, 8, 9], \"y\": [2.888888888888889, 4.2727272727272725, 3.8, 2.6153846153846154, 4.0, 2.210526315789474, 2.608695652173913, 2.125, 1.6538461538461537, 2.2903225806451615]}, {\"line\": {\"color\": \"red\"}, \"mode\": \"lines\", \"opacity\": 0.3, \"showlegend\": false, \"type\": \"scatter\", \"x\": [0, 1, 2, 3, 4, 5, 6, 7, 8, 9], \"y\": [2.625, 2.875, 3.6666666666666665, 2.5, 2.6875, 2.0833333333333335, 2.0714285714285716, 2.8076923076923075, 2.210526315789474, 3.6923076923076925]}, {\"line\": {\"color\": \"red\"}, \"mode\": \"lines\", \"opacity\": 0.3, \"showlegend\": false, \"type\": \"scatter\", \"x\": [0, 1, 2, 3, 4, 5, 6, 7, 8, 9], \"y\": [2.0, 3.0, 3.5384615384615383, 2.75, 3.0, 2.95, 2.230769230769231, 1.7058823529411764, 2.0476190476190474, 1.7241379310344827]}, {\"line\": {\"color\": \"red\"}, \"mode\": \"lines\", \"opacity\": 0.3, \"showlegend\": false, \"type\": \"scatter\", \"x\": [0, 1, 2, 3, 4, 5, 6, 7, 8, 9], \"y\": [2.3529411764705883, 4.111111111111111, 2.15, 4.157894736842105, 2.1153846153846154, 2.6052631578947367, 3.323529411764706, 2.5, 2.5416666666666665, 2.347826086956522]}, {\"line\": {\"color\": \"red\"}, \"mode\": \"lines\", \"opacity\": 0.3, \"showlegend\": false, \"type\": \"scatter\", \"x\": [0, 1, 2, 3, 4, 5, 6, 7, 8, 9], \"y\": [3.2222222222222223, 2.3333333333333335, 4.2727272727272725, 5.0588235294117645, 3.0555555555555554, 3.3043478260869565, 3.2857142857142856, 2.4285714285714284, 1.9473684210526316, 2.1176470588235294]}, {\"line\": {\"color\": \"red\"}, \"mode\": \"lines\", \"opacity\": 0.3, \"showlegend\": false, \"type\": \"scatter\", \"x\": [0, 1, 2, 3, 4, 5, 6, 7, 8, 9], \"y\": [4.076923076923077, 2.5555555555555554, 2.0714285714285716, 2.3076923076923075, 2.923076923076923, 3.1052631578947367, 3.0, 2.6, 2.4705882352941178, 2.0]}, {\"line\": {\"color\": \"red\"}, \"mode\": \"lines\", \"opacity\": 0.3, \"showlegend\": false, \"type\": \"scatter\", \"x\": [0, 1, 2, 3, 4, 5, 6, 7, 8, 9], \"y\": [2.857142857142857, 1.6666666666666667, 4.1, 1.9285714285714286, 2.8, 3.0, 2.5, 3.933333333333333, 2.5517241379310347, 1.6666666666666667]}, {\"line\": {\"color\": \"red\"}, \"mode\": \"lines\", \"opacity\": 0.3, \"showlegend\": false, \"type\": \"scatter\", \"x\": [0, 1, 2, 3, 4, 5, 6, 7, 8, 9], \"y\": [1.9090909090909092, 2.25, 3.3846153846153846, 2.4782608695652173, 2.923076923076923, 2.0, 3.0, 2.5294117647058822, 2.1739130434782608, 1.7142857142857142]}, {\"line\": {\"color\": \"red\"}, \"mode\": \"lines\", \"opacity\": 0.3, \"showlegend\": false, \"type\": \"scatter\", \"x\": [0, 1, 2, 3, 4, 5, 6, 7, 8, 9], \"y\": [4.2, 3.357142857142857, 2.9, 1.2222222222222223, 4.0, 3.75, 1.9285714285714286, 2.0, 2.263157894736842, 1.1764705882352942]}, {\"line\": {\"color\": \"red\"}, \"mode\": \"lines\", \"opacity\": 0.3, \"showlegend\": false, \"type\": \"scatter\", \"x\": [0, 1, 2, 3, 4, 5, 6, 7, 8, 9], \"y\": [2.5, 4.7, 3.75, 3.1818181818181817, 3.25, 3.076923076923077, 2.24, 3.32, 2.735294117647059, 1.793103448275862]}, {\"line\": {\"color\": \"red\"}, \"mode\": \"lines\", \"opacity\": 0.3, \"showlegend\": false, \"type\": \"scatter\", \"x\": [0, 1, 2, 3, 4, 5, 6, 7, 8, 9], \"y\": [2.0, 3.1666666666666665, 2.8, 3.25, 4.0, 3.0, 2.4444444444444446, 3.1176470588235294, 2.433333333333333, 2.466666666666667]}, {\"line\": {\"color\": \"red\"}, \"mode\": \"lines\", \"opacity\": 0.3, \"showlegend\": false, \"type\": \"scatter\", \"x\": [0, 1, 2, 3, 4, 5, 6, 7, 8, 9], \"y\": [2.5714285714285716, 2.8, 3.727272727272727, 2.769230769230769, 2.875, 2.263157894736842, 2.4705882352941178, 2.263157894736842, 2.764705882352941, 2.4]}, {\"line\": {\"color\": \"red\"}, \"mode\": \"lines\", \"opacity\": 0.3, \"showlegend\": false, \"type\": \"scatter\", \"x\": [0, 1, 2, 3, 4, 5, 6, 7, 8, 9], \"y\": [2.6363636363636362, 4.0, 3.5, 1.7272727272727273, 2.260869565217391, 2.7142857142857144, 2.2941176470588234, 2.3529411764705883, 2.2666666666666666, 2.9411764705882355]}, {\"line\": {\"color\": \"red\"}, \"mode\": \"lines\", \"opacity\": 0.3, \"showlegend\": false, \"type\": \"scatter\", \"x\": [0, 1, 2, 3, 4, 5, 6, 7, 8, 9], \"y\": [4.0, 2.6, 2.4166666666666665, 2.4166666666666665, 4.0, 2.8823529411764706, 1.625, 1.55, 2.2142857142857144, 1.8823529411764706]}, {\"line\": {\"color\": \"red\"}, \"mode\": \"lines\", \"opacity\": 0.3, \"showlegend\": false, \"type\": \"scatter\", \"x\": [0, 1, 2, 3, 4, 5, 6, 7, 8, 9], \"y\": [4.7, 6.0, 2.727272727272727, 4.357142857142857, 2.761904761904762, 4.611111111111111, 3.0, 3.4285714285714284, 2.2666666666666666, 2.0]}, {\"line\": {\"color\": \"red\"}, \"mode\": \"lines\", \"opacity\": 0.3, \"showlegend\": false, \"type\": \"scatter\", \"x\": [0, 1, 2, 3, 4, 5, 6, 7, 8, 9], \"y\": [2.0, 2.2, 3.5, 2.7857142857142856, 1.6923076923076923, 3.0555555555555554, 1.7272727272727273, 2.388888888888889, 2.3846153846153846, 2.1153846153846154]}, {\"line\": {\"color\": \"red\"}, \"mode\": \"lines\", \"opacity\": 0.3, \"showlegend\": false, \"type\": \"scatter\", \"x\": [0, 1, 2, 3, 4, 5, 6, 7, 8, 9], \"y\": [5.625, 3.75, 2.357142857142857, 1.9285714285714286, 2.923076923076923, 3.1666666666666665, 2.5714285714285716, 2.2857142857142856, 2.4074074074074074, 1.4583333333333333]}, {\"line\": {\"color\": \"red\"}, \"mode\": \"lines\", \"opacity\": 0.3, \"showlegend\": false, \"type\": \"scatter\", \"x\": [0, 1, 2, 3, 4, 5, 6, 7, 8, 9], \"y\": [1.8, 2.25, 5.6, 2.1818181818181817, 2.2, 2.5, 2.1176470588235294, 1.5555555555555556, 1.6153846153846154, 1.7647058823529411]}, {\"line\": {\"color\": \"red\"}, \"mode\": \"lines\", \"opacity\": 0.3, \"showlegend\": false, \"type\": \"scatter\", \"x\": [0, 1, 2, 3, 4, 5, 6, 7, 8, 9], \"y\": [3.0, 3.1, 2.7, 3.5, 2.7222222222222223, 3.5, 4.411764705882353, 1.7037037037037037, 1.3157894736842106, 2.1666666666666665]}, {\"line\": {\"color\": \"red\"}, \"mode\": \"lines\", \"opacity\": 0.3, \"showlegend\": false, \"type\": \"scatter\", \"x\": [0, 1, 2, 3, 4, 5, 6, 7, 8, 9], \"y\": [1.6666666666666667, 1.3333333333333333, 1.5, 1.9, 3.5714285714285716, 2.5, 2.230769230769231, 1.625, 2.888888888888889, 2.5833333333333335]}, {\"line\": {\"color\": \"red\"}, \"mode\": \"lines\", \"opacity\": 0.3, \"showlegend\": false, \"type\": \"scatter\", \"x\": [0, 1, 2, 3, 4, 5, 6, 7, 8, 9], \"y\": [4.454545454545454, 0.75, 2.75, 2.1818181818181817, 3.2666666666666666, 3.238095238095238, 1.7142857142857142, 3.0476190476190474, 3.0625, 2.4642857142857144]}, {\"line\": {\"color\": \"red\"}, \"mode\": \"lines\", \"opacity\": 0.3, \"showlegend\": false, \"type\": \"scatter\", \"x\": [0, 1, 2, 3, 4, 5, 6, 7, 8, 9], \"y\": [4.3, 3.4444444444444446, 2.2857142857142856, 4.5625, 5.3, 4.9, 3.111111111111111, 2.6666666666666665, 2.7037037037037037, 2.71875]}, {\"line\": {\"color\": \"red\"}, \"mode\": \"lines\", \"opacity\": 0.3, \"showlegend\": false, \"type\": \"scatter\", \"x\": [0, 1, 2, 3, 4, 5, 6, 7, 8, 9], \"y\": [2.4545454545454546, 3.5, 4.866666666666666, 4.3125, 4.0, 4.214285714285714, 2.1363636363636362, 2.967741935483871, 2.4761904761904763, 2.40625]}, {\"line\": {\"color\": \"red\"}, \"mode\": \"lines\", \"opacity\": 0.3, \"showlegend\": false, \"type\": \"scatter\", \"x\": [0, 1, 2, 3, 4, 5, 6, 7, 8, 9], \"y\": [6.8, 2.3636363636363638, 4.166666666666667, 2.4545454545454546, 4.25, 3.875, 5.352941176470588, 3.25, 2.1739130434782608, 3.4074074074074074]}, {\"line\": {\"color\": \"red\"}, \"mode\": \"lines\", \"opacity\": 0.3, \"showlegend\": false, \"type\": \"scatter\", \"x\": [0, 1, 2, 3, 4, 5, 6, 7, 8, 9], \"y\": [4.714285714285714, 2.909090909090909, 3.6666666666666665, 3.6923076923076925, 2.375, 2.375, 2.8125, 3.4375, 1.2222222222222223, 2.357142857142857]}, {\"line\": {\"color\": \"red\"}, \"mode\": \"lines\", \"opacity\": 0.3, \"showlegend\": false, \"type\": \"scatter\", \"x\": [0, 1, 2, 3, 4, 5, 6, 7, 8, 9], \"y\": [4.5, 3.5, 2.8461538461538463, 3.8, 3.9375, 2.5, 2.111111111111111, 3.0416666666666665, 2.423076923076923, 2.7777777777777777]}, {\"line\": {\"color\": \"red\"}, \"mode\": \"lines\", \"opacity\": 0.3, \"showlegend\": false, \"type\": \"scatter\", \"x\": [0, 1, 2, 3, 4, 5, 6, 7, 8, 9], \"y\": [3.3333333333333335, 2.642857142857143, 2.611111111111111, 1.5, 3.3333333333333335, 3.25, 2.0625, 2.84, 1.9642857142857142, 2.8620689655172415]}, {\"line\": {\"color\": \"red\"}, \"mode\": \"lines\", \"opacity\": 0.3, \"showlegend\": false, \"type\": \"scatter\", \"x\": [0, 1, 2, 3, 4, 5, 6, 7, 8, 9], \"y\": [1.9230769230769231, 3.7142857142857144, 2.8125, 3.375, 2.25, 3.7916666666666665, 2.65, 2.5, 2.2758620689655173, 1.84]}, {\"line\": {\"color\": \"red\"}, \"mode\": \"lines\", \"opacity\": 0.3, \"showlegend\": false, \"type\": \"scatter\", \"x\": [0, 1, 2, 3, 4, 5, 6, 7, 8, 9], \"y\": [2.375, 1.9166666666666667, 3.111111111111111, 3.533333333333333, 3.4615384615384617, 2.727272727272727, 2.4583333333333335, 2.933333333333333, 2.5416666666666665, 1.6333333333333333]}, {\"line\": {\"color\": \"red\"}, \"mode\": \"lines\", \"opacity\": 0.3, \"showlegend\": false, \"type\": \"scatter\", \"x\": [0, 1, 2, 3, 4, 5, 6, 7, 8, 9], \"y\": [3.4285714285714284, 1.7142857142857142, 1.6923076923076923, 1.7777777777777777, 2.7142857142857144, 2.7777777777777777, 2.8181818181818183, 2.466666666666667, 1.6363636363636365, 1.1818181818181819]}, {\"line\": {\"color\": \"red\"}, \"mode\": \"lines\", \"opacity\": 0.3, \"showlegend\": false, \"type\": \"scatter\", \"x\": [0, 1, 2, 3, 4, 5, 6, 7, 8, 9], \"y\": [4.0, 5.5, 2.8, 1.8181818181818181, 0.6666666666666666, 3.111111111111111, 1.4285714285714286, 2.0526315789473686, 2.4285714285714284, 2.32]}, {\"line\": {\"color\": \"red\"}, \"mode\": \"lines\", \"opacity\": 0.3, \"showlegend\": false, \"type\": \"scatter\", \"x\": [0, 1, 2, 3, 4, 5, 6, 7, 8, 9], \"y\": [2.0, 2.125, 3.2, 3.6363636363636362, 3.473684210526316, 3.923076923076923, 2.0, 3.227272727272727, 2.6, 2.227272727272727]}, {\"line\": {\"color\": \"red\"}, \"mode\": \"lines\", \"opacity\": 0.3, \"showlegend\": false, \"type\": \"scatter\", \"x\": [0, 1, 2, 3, 4, 5, 6, 7, 8, 9], \"y\": [2.3333333333333335, 2.727272727272727, 2.6153846153846154, 3.909090909090909, 2.6666666666666665, 3.1818181818181817, 2.111111111111111, 2.5416666666666665, 2.32, 2.1538461538461537]}, {\"line\": {\"color\": \"red\"}, \"mode\": \"lines\", \"opacity\": 0.3, \"showlegend\": false, \"type\": \"scatter\", \"x\": [0, 1, 2, 3, 4, 5, 6, 7, 8, 9], \"y\": [5.285714285714286, 4.5, 1.6875, 2.090909090909091, 4.0, 2.7222222222222223, 3.4210526315789473, 2.92, 2.590909090909091, 2.2962962962962963]}, {\"line\": {\"color\": \"red\"}, \"mode\": \"lines\", \"opacity\": 0.3, \"showlegend\": false, \"type\": \"scatter\", \"x\": [0, 1, 2, 3, 4, 5, 6, 7, 8, 9], \"y\": [4.0, 2.888888888888889, 4.894736842105263, 3.909090909090909, 2.9411764705882355, 2.769230769230769, 3.4, 3.210526315789474, 3.4722222222222223, 3.0384615384615383]}, {\"line\": {\"color\": \"red\"}, \"mode\": \"lines\", \"opacity\": 0.3, \"showlegend\": false, \"type\": \"scatter\", \"x\": [0, 1, 2, 3, 4, 5, 6, 7, 8, 9], \"y\": [2.7777777777777777, 2.888888888888889, 4.153846153846154, 3.4545454545454546, 4.222222222222222, 3.235294117647059, 3.238095238095238, 3.8, 1.5185185185185186, 3.0476190476190474]}, {\"line\": {\"color\": \"red\"}, \"mode\": \"lines\", \"opacity\": 0.3, \"showlegend\": false, \"type\": \"scatter\", \"x\": [0, 1, 2, 3, 4, 5, 6, 7, 8, 9], \"y\": [4.0, 4.285714285714286, 1.875, 2.6, 4.3, 1.9230769230769231, 2.4, 2.0, 1.5909090909090908, 1.84]}, {\"line\": {\"color\": \"red\"}, \"mode\": \"lines\", \"opacity\": 0.3, \"showlegend\": false, \"type\": \"scatter\", \"x\": [0, 1, 2, 3, 4, 5, 6, 7, 8, 9], \"y\": [4.0, 2.7, 3.25, 2.235294117647059, 2.466666666666667, 2.8095238095238093, 3.888888888888889, 2.88, 2.142857142857143, 2.2580645161290325]}, {\"line\": {\"color\": \"red\"}, \"mode\": \"lines\", \"opacity\": 0.3, \"showlegend\": false, \"type\": \"scatter\", \"x\": [0, 1, 2, 3, 4, 5, 6, 7, 8, 9], \"y\": [3.0, 3.8, 2.4615384615384617, 4.0, 2.8823529411764706, 3.3684210526315788, 3.142857142857143, 2.6785714285714284, 2.5, 1.9722222222222223]}, {\"line\": {\"color\": \"red\"}, \"mode\": \"lines\", \"opacity\": 0.3, \"showlegend\": false, \"type\": \"scatter\", \"x\": [0, 1, 2, 3, 4, 5, 6, 7, 8, 9], \"y\": [5.75, 3.2142857142857144, 3.6153846153846154, 5.571428571428571, 4.269230769230769, 3.7142857142857144, 3.0, 2.911764705882353, 2.0, 2.5918367346938775]}, {\"line\": {\"color\": \"red\"}, \"mode\": \"lines\", \"opacity\": 0.3, \"showlegend\": false, \"type\": \"scatter\", \"x\": [0, 1, 2, 3, 4, 5, 6, 7, 8, 9], \"y\": [3.5, 4.5, 3.142857142857143, 2.4761904761904763, 3.230769230769231, 2.3125, 3.0714285714285716, 2.4210526315789473, 3.2, 2.2941176470588234]}, {\"line\": {\"color\": \"red\"}, \"mode\": \"lines\", \"opacity\": 0.3, \"showlegend\": false, \"type\": \"scatter\", \"x\": [0, 1, 2, 3, 4, 5, 6, 7, 8, 9], \"y\": [3.5555555555555554, 2.8181818181818183, 3.230769230769231, 3.375, 2.611111111111111, 2.736842105263158, 2.740740740740741, 1.8636363636363635, 2.129032258064516, 3.0714285714285716]}, {\"line\": {\"color\": \"red\"}, \"mode\": \"lines\", \"opacity\": 0.3, \"showlegend\": false, \"type\": \"scatter\", \"x\": [0, 1, 2, 3, 4, 5, 6, 7, 8, 9], \"y\": [2.6666666666666665, 3.5555555555555554, 3.857142857142857, 2.35, 3.44, 3.4166666666666665, 2.8095238095238093, 2.909090909090909, 2.52, 1.8461538461538463]}, {\"line\": {\"color\": \"red\"}, \"mode\": \"lines\", \"opacity\": 0.3, \"showlegend\": false, \"type\": \"scatter\", \"x\": [0, 1, 2, 3, 4, 5, 6, 7, 8, 9], \"y\": [3.1666666666666665, 2.6363636363636362, 2.9411764705882355, 3.5, 2.3333333333333335, 2.789473684210526, 3.090909090909091, 3.56, 2.6666666666666665, 2.625]}, {\"line\": {\"color\": \"red\"}, \"mode\": \"lines\", \"opacity\": 0.3, \"showlegend\": false, \"type\": \"scatter\", \"x\": [0, 1, 2, 3, 4, 5, 6, 7, 8, 9], \"y\": [1.75, 2.923076923076923, 3.727272727272727, 1.8181818181818181, 3.111111111111111, 3.1538461538461537, 2.6315789473684212, 2.0, 2.789473684210526, 2.5416666666666665]}, {\"line\": {\"color\": \"red\"}, \"mode\": \"lines\", \"opacity\": 0.3, \"showlegend\": false, \"type\": \"scatter\", \"x\": [0, 1, 2, 3, 4, 5, 6, 7, 8, 9], \"y\": [4.333333333333333, 5.545454545454546, 2.0, 2.411764705882353, 2.875, 2.409090909090909, 2.5714285714285716, 1.9473684210526316, 2.3157894736842106, 2.0]}, {\"line\": {\"color\": \"black\"}, \"mode\": \"markers+lines\", \"name\": \"Average\", \"opacity\": 0.7, \"type\": \"scatter\", \"x\": [0, 1, 2, 3, 4, 5, 6, 7, 8, 9], \"y\": [3.415277777777778, 3.211159737417943, 3.187062937062937, 3.050687907313541, 3.0714745653573727, 3.0274285714285716, 2.8683937823834196, 2.784821841739935, 2.548472775564409, 2.368688845401174]}],\n",
       "                        {\"template\": {\"data\": {\"bar\": [{\"error_x\": {\"color\": \"#2a3f5f\"}, \"error_y\": {\"color\": \"#2a3f5f\"}, \"marker\": {\"line\": {\"color\": \"#E5ECF6\", \"width\": 0.5}}, \"type\": \"bar\"}], \"barpolar\": [{\"marker\": {\"line\": {\"color\": \"#E5ECF6\", \"width\": 0.5}}, \"type\": \"barpolar\"}], \"carpet\": [{\"aaxis\": {\"endlinecolor\": \"#2a3f5f\", \"gridcolor\": \"white\", \"linecolor\": \"white\", \"minorgridcolor\": \"white\", \"startlinecolor\": \"#2a3f5f\"}, \"baxis\": {\"endlinecolor\": \"#2a3f5f\", \"gridcolor\": \"white\", \"linecolor\": \"white\", \"minorgridcolor\": \"white\", \"startlinecolor\": \"#2a3f5f\"}, \"type\": \"carpet\"}], \"choropleth\": [{\"colorbar\": {\"outlinewidth\": 0, \"ticks\": \"\"}, \"type\": \"choropleth\"}], \"contour\": [{\"colorbar\": {\"outlinewidth\": 0, \"ticks\": \"\"}, \"colorscale\": [[0.0, \"#0d0887\"], [0.1111111111111111, \"#46039f\"], [0.2222222222222222, \"#7201a8\"], [0.3333333333333333, \"#9c179e\"], [0.4444444444444444, \"#bd3786\"], [0.5555555555555556, \"#d8576b\"], [0.6666666666666666, \"#ed7953\"], [0.7777777777777778, \"#fb9f3a\"], [0.8888888888888888, \"#fdca26\"], [1.0, \"#f0f921\"]], \"type\": \"contour\"}], \"contourcarpet\": [{\"colorbar\": {\"outlinewidth\": 0, \"ticks\": \"\"}, \"type\": \"contourcarpet\"}], \"heatmap\": [{\"colorbar\": {\"outlinewidth\": 0, \"ticks\": \"\"}, \"colorscale\": [[0.0, \"#0d0887\"], [0.1111111111111111, \"#46039f\"], [0.2222222222222222, \"#7201a8\"], [0.3333333333333333, \"#9c179e\"], [0.4444444444444444, \"#bd3786\"], [0.5555555555555556, \"#d8576b\"], [0.6666666666666666, \"#ed7953\"], [0.7777777777777778, \"#fb9f3a\"], [0.8888888888888888, \"#fdca26\"], [1.0, \"#f0f921\"]], \"type\": \"heatmap\"}], \"heatmapgl\": [{\"colorbar\": {\"outlinewidth\": 0, \"ticks\": \"\"}, \"colorscale\": [[0.0, \"#0d0887\"], [0.1111111111111111, \"#46039f\"], [0.2222222222222222, \"#7201a8\"], [0.3333333333333333, \"#9c179e\"], [0.4444444444444444, \"#bd3786\"], [0.5555555555555556, \"#d8576b\"], [0.6666666666666666, \"#ed7953\"], [0.7777777777777778, \"#fb9f3a\"], [0.8888888888888888, \"#fdca26\"], [1.0, \"#f0f921\"]], \"type\": \"heatmapgl\"}], \"histogram\": [{\"marker\": {\"colorbar\": {\"outlinewidth\": 0, \"ticks\": \"\"}}, \"type\": \"histogram\"}], \"histogram2d\": [{\"colorbar\": {\"outlinewidth\": 0, \"ticks\": \"\"}, \"colorscale\": [[0.0, \"#0d0887\"], [0.1111111111111111, \"#46039f\"], [0.2222222222222222, \"#7201a8\"], [0.3333333333333333, \"#9c179e\"], [0.4444444444444444, \"#bd3786\"], [0.5555555555555556, \"#d8576b\"], [0.6666666666666666, \"#ed7953\"], [0.7777777777777778, \"#fb9f3a\"], [0.8888888888888888, \"#fdca26\"], [1.0, \"#f0f921\"]], \"type\": \"histogram2d\"}], \"histogram2dcontour\": [{\"colorbar\": {\"outlinewidth\": 0, \"ticks\": \"\"}, \"colorscale\": [[0.0, \"#0d0887\"], [0.1111111111111111, \"#46039f\"], [0.2222222222222222, \"#7201a8\"], [0.3333333333333333, \"#9c179e\"], [0.4444444444444444, \"#bd3786\"], [0.5555555555555556, \"#d8576b\"], [0.6666666666666666, \"#ed7953\"], [0.7777777777777778, \"#fb9f3a\"], [0.8888888888888888, \"#fdca26\"], [1.0, \"#f0f921\"]], \"type\": \"histogram2dcontour\"}], \"mesh3d\": [{\"colorbar\": {\"outlinewidth\": 0, \"ticks\": \"\"}, \"type\": \"mesh3d\"}], \"parcoords\": [{\"line\": {\"colorbar\": {\"outlinewidth\": 0, \"ticks\": \"\"}}, \"type\": \"parcoords\"}], \"pie\": [{\"automargin\": true, \"type\": \"pie\"}], \"scatter\": [{\"marker\": {\"colorbar\": {\"outlinewidth\": 0, \"ticks\": \"\"}}, \"type\": \"scatter\"}], \"scatter3d\": [{\"line\": {\"colorbar\": {\"outlinewidth\": 0, \"ticks\": \"\"}}, \"marker\": {\"colorbar\": {\"outlinewidth\": 0, \"ticks\": \"\"}}, \"type\": \"scatter3d\"}], \"scattercarpet\": [{\"marker\": {\"colorbar\": {\"outlinewidth\": 0, \"ticks\": \"\"}}, \"type\": \"scattercarpet\"}], \"scattergeo\": [{\"marker\": {\"colorbar\": {\"outlinewidth\": 0, \"ticks\": \"\"}}, \"type\": \"scattergeo\"}], \"scattergl\": [{\"marker\": {\"colorbar\": {\"outlinewidth\": 0, \"ticks\": \"\"}}, \"type\": \"scattergl\"}], \"scattermapbox\": [{\"marker\": {\"colorbar\": {\"outlinewidth\": 0, \"ticks\": \"\"}}, \"type\": \"scattermapbox\"}], \"scatterpolar\": [{\"marker\": {\"colorbar\": {\"outlinewidth\": 0, \"ticks\": \"\"}}, \"type\": \"scatterpolar\"}], \"scatterpolargl\": [{\"marker\": {\"colorbar\": {\"outlinewidth\": 0, \"ticks\": \"\"}}, \"type\": \"scatterpolargl\"}], \"scatterternary\": [{\"marker\": {\"colorbar\": {\"outlinewidth\": 0, \"ticks\": \"\"}}, \"type\": \"scatterternary\"}], \"surface\": [{\"colorbar\": {\"outlinewidth\": 0, \"ticks\": \"\"}, \"colorscale\": [[0.0, \"#0d0887\"], [0.1111111111111111, \"#46039f\"], [0.2222222222222222, \"#7201a8\"], [0.3333333333333333, \"#9c179e\"], [0.4444444444444444, \"#bd3786\"], [0.5555555555555556, \"#d8576b\"], [0.6666666666666666, \"#ed7953\"], [0.7777777777777778, \"#fb9f3a\"], [0.8888888888888888, \"#fdca26\"], [1.0, \"#f0f921\"]], \"type\": \"surface\"}], \"table\": [{\"cells\": {\"fill\": {\"color\": \"#EBF0F8\"}, \"line\": {\"color\": \"white\"}}, \"header\": {\"fill\": {\"color\": \"#C8D4E3\"}, \"line\": {\"color\": \"white\"}}, \"type\": \"table\"}]}, \"layout\": {\"annotationdefaults\": {\"arrowcolor\": \"#2a3f5f\", \"arrowhead\": 0, \"arrowwidth\": 1}, \"coloraxis\": {\"colorbar\": {\"outlinewidth\": 0, \"ticks\": \"\"}}, \"colorscale\": {\"diverging\": [[0, \"#8e0152\"], [0.1, \"#c51b7d\"], [0.2, \"#de77ae\"], [0.3, \"#f1b6da\"], [0.4, \"#fde0ef\"], [0.5, \"#f7f7f7\"], [0.6, \"#e6f5d0\"], [0.7, \"#b8e186\"], [0.8, \"#7fbc41\"], [0.9, \"#4d9221\"], [1, \"#276419\"]], \"sequential\": [[0.0, \"#0d0887\"], [0.1111111111111111, \"#46039f\"], [0.2222222222222222, \"#7201a8\"], [0.3333333333333333, \"#9c179e\"], [0.4444444444444444, \"#bd3786\"], [0.5555555555555556, \"#d8576b\"], [0.6666666666666666, \"#ed7953\"], [0.7777777777777778, \"#fb9f3a\"], [0.8888888888888888, \"#fdca26\"], [1.0, \"#f0f921\"]], \"sequentialminus\": [[0.0, \"#0d0887\"], [0.1111111111111111, \"#46039f\"], [0.2222222222222222, \"#7201a8\"], [0.3333333333333333, \"#9c179e\"], [0.4444444444444444, \"#bd3786\"], [0.5555555555555556, \"#d8576b\"], [0.6666666666666666, \"#ed7953\"], [0.7777777777777778, \"#fb9f3a\"], [0.8888888888888888, \"#fdca26\"], [1.0, \"#f0f921\"]]}, \"colorway\": [\"#636efa\", \"#EF553B\", \"#00cc96\", \"#ab63fa\", \"#FFA15A\", \"#19d3f3\", \"#FF6692\", \"#B6E880\", \"#FF97FF\", \"#FECB52\"], \"font\": {\"color\": \"#2a3f5f\"}, \"geo\": {\"bgcolor\": \"white\", \"lakecolor\": \"white\", \"landcolor\": \"#E5ECF6\", \"showlakes\": true, \"showland\": true, \"subunitcolor\": \"white\"}, \"hoverlabel\": {\"align\": \"left\"}, \"hovermode\": \"closest\", \"mapbox\": {\"style\": \"light\"}, \"paper_bgcolor\": \"white\", \"plot_bgcolor\": \"#E5ECF6\", \"polar\": {\"angularaxis\": {\"gridcolor\": \"white\", \"linecolor\": \"white\", \"ticks\": \"\"}, \"bgcolor\": \"#E5ECF6\", \"radialaxis\": {\"gridcolor\": \"white\", \"linecolor\": \"white\", \"ticks\": \"\"}}, \"scene\": {\"xaxis\": {\"backgroundcolor\": \"#E5ECF6\", \"gridcolor\": \"white\", \"gridwidth\": 2, \"linecolor\": \"white\", \"showbackground\": true, \"ticks\": \"\", \"zerolinecolor\": \"white\"}, \"yaxis\": {\"backgroundcolor\": \"#E5ECF6\", \"gridcolor\": \"white\", \"gridwidth\": 2, \"linecolor\": \"white\", \"showbackground\": true, \"ticks\": \"\", \"zerolinecolor\": \"white\"}, \"zaxis\": {\"backgroundcolor\": \"#E5ECF6\", \"gridcolor\": \"white\", \"gridwidth\": 2, \"linecolor\": \"white\", \"showbackground\": true, \"ticks\": \"\", \"zerolinecolor\": \"white\"}}, \"shapedefaults\": {\"line\": {\"color\": \"#2a3f5f\"}}, \"ternary\": {\"aaxis\": {\"gridcolor\": \"white\", \"linecolor\": \"white\", \"ticks\": \"\"}, \"baxis\": {\"gridcolor\": \"white\", \"linecolor\": \"white\", \"ticks\": \"\"}, \"bgcolor\": \"#E5ECF6\", \"caxis\": {\"gridcolor\": \"white\", \"linecolor\": \"white\", \"ticks\": \"\"}}, \"title\": {\"x\": 0.05}, \"xaxis\": {\"automargin\": true, \"gridcolor\": \"white\", \"linecolor\": \"white\", \"ticks\": \"\", \"title\": {\"standoff\": 15}, \"zerolinecolor\": \"white\", \"zerolinewidth\": 2}, \"yaxis\": {\"automargin\": true, \"gridcolor\": \"white\", \"linecolor\": \"white\", \"ticks\": \"\", \"title\": {\"standoff\": 15}, \"zerolinecolor\": \"white\", \"zerolinewidth\": 2}}}},\n",
       "                        {\"responsive\": true}\n",
       "                    ).then(function(){\n",
       "                            \n",
       "var gd = document.getElementById('1e10034a-c96a-447b-9dfb-079677721cbb');\n",
       "var x = new MutationObserver(function (mutations, observer) {{\n",
       "        var display = window.getComputedStyle(gd).display;\n",
       "        if (!display || display === 'none') {{\n",
       "            console.log([gd, 'removed!']);\n",
       "            Plotly.purge(gd);\n",
       "            observer.disconnect();\n",
       "        }}\n",
       "}});\n",
       "\n",
       "// Listen for the removal of the full notebook cells\n",
       "var notebookContainer = gd.closest('#notebook-container');\n",
       "if (notebookContainer) {{\n",
       "    x.observe(notebookContainer, {childList: true});\n",
       "}}\n",
       "\n",
       "// Listen for the clearing of the current output cell\n",
       "var outputEl = gd.closest('.output');\n",
       "if (outputEl) {{\n",
       "    x.observe(outputEl, {childList: true});\n",
       "}}\n",
       "\n",
       "                        })\n",
       "                };\n",
       "                });\n",
       "            </script>\n",
       "        </div>"
      ]
     },
     "metadata": {},
     "output_type": "display_data"
    }
   ],
   "source": [
    "fig = go.Figure()\n",
    "for d in data:\n",
    "    r = []\n",
    "    for day in range(5, 15):\n",
    "        infected = d[0][d[0][:,2] == day][:, 0]\n",
    "        r.append(np.mean([d[1][i] for i in infected]))\n",
    "    fig.add_trace(go.Scatter(x=list(range(len(r))), y=r, mode='lines', line=dict(color='red'), opacity=0.3, showlegend=False))\n",
    "\n",
    "mean_line = []\n",
    "for day in range(5, 15):\n",
    "    r = []\n",
    "    for d in data:\n",
    "        infected = d[0][d[0][:,2] == day][:, 0]\n",
    "        r.extend([d[1][i] for i in infected])\n",
    "    mean_line.append(np.mean(r))\n",
    "\n",
    "fig.add_trace(go.Scatter(x=list(range(len(mean_line))), y=mean_line, mode='markers+lines', \n",
    "                         line=dict(color='black'), opacity=0.7, name='Average'))\n",
    "\n",
    "fig.write_image('light_quearentine_rt.png', scale=3)\n",
    "fig.show()"
   ]
  },
  {
   "cell_type": "code",
   "execution_count": null,
   "metadata": {},
   "outputs": [],
   "source": [
    "df = make_SIR_graph(data[0][2])\n",
    "#actions_3_colors = list(map(color_map_set3.get,  actions))\n",
    "#make_beds_graph(df, actions_3_colors, 7, 'Sim', color_map_set3)"
   ]
  },
  {
   "cell_type": "code",
   "execution_count": null,
   "metadata": {},
   "outputs": [],
   "source": [
    "fig = go.Figure()\n",
    "for d in data:\n",
    "    r = []\n",
    "    for day in range(5, 15):\n",
    "        infected = d[0][d[0][:,2] == day][:, 0]\n",
    "        r.append(np.mean([d[1][i] for i in infected]))\n",
    "    fig.add_trace(go.Scatter(x=list(range(len(r))), y=r, mode='lines', line=dict(color='red'), opacity=0.3))\n",
    "\n",
    "mean_line = []\n",
    "for day in range(5, 15):\n",
    "    r = []\n",
    "    for d in data:\n",
    "        infected = d[0][d[0][:,2] == day][:, 0]\n",
    "        r.append(np.mean([d[1][i] for i in infected]))\n",
    "    mean_line.append(np.mean(r))\n",
    "\n",
    "fig.add_trace(go.Scatter(x=list(range(len(mean_line))), y=mean_line, mode='markers+lines', \n",
    "                         line=dict(color='black'), opacity=0.7))\n",
    "\n",
    "fig.show()"
   ]
  },
  {
   "cell_type": "code",
   "execution_count": null,
   "metadata": {},
   "outputs": [],
   "source": [
    "r = []\n",
    "for day in range(5, 15):\n",
    "    infected = pop_matrix[pop_matrix[:,2] == day][:, 0]\n",
    "    r.append(np.mean([contacts_infected[i] for i in infected]))\n",
    "fig.add_trace(go.Scatter(x=list(range(len(r))), y=r, mode='lines+markers'))\n",
    "fig.add_trace(go.Scatter(x=list(range(len(r))), y=[np.mean(r)]*len(r), line=dict(dash='dash')))\n",
    "\n",
    "fig.show()"
   ]
  },
  {
   "cell_type": "code",
   "execution_count": null,
   "metadata": {},
   "outputs": [],
   "source": [
    "rolling_mean = pd.Series(r).rolling(3).mean()\n",
    "fig = go.Figure()\n",
    "ranges = [0,len(df)]\n",
    "colors = ['gray']#, 'yellow']#, 'green']\n",
    "for i in range(len(ranges)-1):\n",
    "    rll = rolling_mean[ranges[i]:ranges[i+1]]\n",
    "    fig.add_trace(go.Scatter(x=list(range(ranges[i], ranges[i+1])), y=rll, \n",
    "                             mode='markers+lines', marker=dict(color=colors[i]), ))\n",
    "    fig.add_trace(go.Scatter(x=list(range(ranges[i], ranges[i+1])), y=[np.mean(rll)]*len(rll), \n",
    "                             marker=dict(color='black'),line=dict(dash='dash') ))\n",
    "fig.show()\n"
   ]
  },
  {
   "cell_type": "code",
   "execution_count": null,
   "metadata": {},
   "outputs": [],
   "source": []
  },
  {
   "cell_type": "code",
   "execution_count": null,
   "metadata": {},
   "outputs": [],
   "source": []
  }
 ],
 "metadata": {
  "kernelspec": {
   "display_name": "Python 3",
   "language": "python",
   "name": "python3"
  },
  "language_info": {
   "codemirror_mode": {
    "name": "ipython",
    "version": 3
   },
   "file_extension": ".py",
   "mimetype": "text/x-python",
   "name": "python",
   "nbconvert_exporter": "python",
   "pygments_lexer": "ipython3",
   "version": "3.7.7"
  }
 },
 "nbformat": 4,
 "nbformat_minor": 4
}
