{
 "cells": [
  {
   "cell_type": "code",
   "execution_count": 2,
   "metadata": {},
   "outputs": [],
   "source": [
    "#import os, sys\n",
    "#sys.path.insert(0, os.path.abspath('../src/models'))\n",
    "import os\n",
    "os.chdir('../../src/models')"
   ]
  },
  {
   "cell_type": "code",
   "execution_count": 137,
   "metadata": {},
   "outputs": [],
   "source": [
    "import plotly.express as px\n",
    "import plotly.graph_objects as go\n",
    "import datetime\n",
    "\n",
    "set3 = px.colors.qualitative.Set3\n",
    "\n",
    "color_map_set3 = {\n",
    "    'Lockdown':          set3[3],\n",
    "    'Hard Quarantine':    set3[11],\\\n",
    "    'Light Quarantine':   set3[1],\n",
    "    'Social Distancing':  'rgb(204, 245, 175)',\n",
    "    'Unrestricted':        set3[6]     \n",
    "}\n",
    "\n",
    "def make_SIR_graph(data):\n",
    "    d_counts = pd.DataFrame([pd.Series(d).value_counts() for d in data])\n",
    "    d_counts.fillna(0, inplace=True)\n",
    "    \n",
    "    fig = go.Figure()\n",
    "    x = pd.date_range(datetime.date(2020, 2, 24), periods=len(d_counts[0]))\n",
    "\n",
    "    fig.add_trace(go.Scatter(x=x, y=d_counts[-1]/len(G.nodes()), name='removed',line_color='green'))\n",
    "    fig.add_trace(go.Scatter(x=x, y=d_counts[0]/len(G.nodes()), name='susceptible', line_color='blue'))\n",
    "    fig.add_trace(go.Scatter(x=x, y=d_counts[1]/len(G.nodes()), name='exposed',line_color ='orange'))\n",
    "    fig.add_trace(go.Scatter(x=x, y=d_counts[2]/len(G.nodes()), name='infected', line_color = 'red'))\n",
    "    fig.add_trace(go.Scatter(x=x, y=d_counts[3]/len(G.nodes()), name='hospitalized', line_color = 'purple'))\n",
    "    fig.update_layout(hovermode='x')\n",
    "    fig.show()\n",
    "    \n",
    "    return d_counts\n",
    "\n",
    "def make_beds_graph(data, actions, step_size, title, color_map):\n",
    "    fig = go.Figure()\n",
    "   \n",
    "    x = pd.date_range(datetime.date(2020, 2, 24), periods=len(data)+2)\n",
    "\n",
    "    fig.add_trace(go.Scatter(x=x, y=data[3]/55e3, name='hospitalized', line_color = 'royalblue',\n",
    "                            line=dict(width=3)))\n",
    "    fig.add_trace(go.Scatter(x=x, y=data[1]/55e3, name='exposed', line_color = 'firebrick',\n",
    "                            line=dict(width=3)))\n",
    "    fig.add_trace(go.Scatter(x=x, y=len(data)*[0.0025], name='capacity', line_color = 'black',\n",
    "                            line=dict(dash='dash', width = 2)))\n",
    "    fig.update_layout(\n",
    "        shapes=[\n",
    "            dict(\n",
    "                type=\"rect\",\n",
    "                # x-reference is assigned to the x-values\n",
    "                xref=\"x\",\n",
    "                # y-reference is assigned to the plot paper [0,1]\n",
    "                yref=\"paper\",\n",
    "                x0=x[step_size*i],\n",
    "                y0=0,\n",
    "                x1=x[step_size*(i+1)-1],\n",
    "                y1=1,\n",
    "                fillcolor=a,\n",
    "                opacity=0.5,\n",
    "                layer=\"below\",\n",
    "                line_width=0,\n",
    "            ) for i,a in enumerate(actions)] \n",
    "    )\n",
    "\n",
    "    for k,v in color_map.items():\n",
    "        fig.add_trace(go.Bar(x=[None], y=[None], marker=dict(color=v), name = k))\n",
    "\n",
    "    fig.update_layout(coloraxis = {'colorscale':'deep'}, xaxis={'showgrid': False},\n",
    "                      yaxis = {'showgrid': False},\n",
    "                      showlegend=True, title = title, hovermode=\"x\")\n",
    "\n",
    "    fig.show()"
   ]
  },
  {
   "cell_type": "code",
   "execution_count": 127,
   "metadata": {},
   "outputs": [
    {
     "name": "stdout",
     "output_type": "stream",
     "text": [
      "Loading Graph... Done!\n",
      "{'home': 0.06, 'neighbor': 0.003333333333333333, 'work': 0.006666666666666666, 'school': 0.01}\n"
     ]
    }
   ],
   "source": [
    "import numpy as np\n",
    "import networkx as nx\n",
    "from tqdm import tqdm\n",
    "from disease_states import states_dict\n",
    "from patient_evolution import susceptible_to_exposed, change_state\n",
    "from functools import partial\n",
    "from policies import policies\n",
    "\n",
    "print('Loading Graph... ',  end='')\n",
    "G = nx.read_gpickle('../../data/processed/SP_multiGraph_Job_Edu_Level.gpickle')\n",
    "print('Done!')\n",
    "\n",
    "\n",
    "def init_infection(pct=.0001):\n",
    "    \"\"\"\n",
    "    Given a Graph G, infects pct% of population and set the\n",
    "    remainder as susceptible. This is considered day 0.\n",
    "\n",
    "    Args:\n",
    "        pct (float): percentage of people initially infected.\n",
    "\n",
    "    Returns:\n",
    "        new_matrix (np.array): 2D Array  arrays of id, state, day of infection\n",
    "            and current state duration of population.\n",
    "    \"\"\"\n",
    "\n",
    "    global G\n",
    "\n",
    "    size = int(len(G.nodes) * pct)\n",
    "    infected = list(np.random.choice(G.nodes(), size=size, replace=False))\n",
    "    infected = [x for x in infected]\n",
    "\n",
    "    pop_matrix = np.array([[node, states_dict['susceptible'],\n",
    "                            -1, -1, data['age']]\n",
    "                          for node, data in G.nodes(data=True)])\n",
    "\n",
    "    matrix_change = pop_matrix[np.isin(pop_matrix[:, 0], infected)]\n",
    "\n",
    "    matrix_keep = pop_matrix[~np.isin(pop_matrix[:, 0], infected)]\n",
    "\n",
    "    matrix_change = np.apply_along_axis(susceptible_to_exposed,\n",
    "                                        1, matrix_change, day=0)\n",
    "\n",
    "    new_matrix = np.concatenate((matrix_keep, matrix_change))\n",
    "    assert new_matrix.shape == pop_matrix.shape\n",
    "\n",
    "    return new_matrix\n",
    "\n",
    "\n",
    "def expose_population(pop_matrix, exposed, day):\n",
    "    \"\"\"\n",
    "    Receives the population matrix, an array containing ids of newly\n",
    "    exposed individuals and the current simulation day\n",
    "\n",
    "    Args:\n",
    "        pop_matrix (np.array): 2D Array  arrays of id, state, day of infection\n",
    "            and current state duration of population.\n",
    "\n",
    "        exposed (list): list of newly exposed people id\n",
    "        day (int): current simulation day\n",
    "\n",
    "    Returns:\n",
    "        new_matrix (np.array): The population matrix with the\n",
    "        newly exposed people exposed.\n",
    "    Raises:\n",
    "        ValueError: If shape of starting matrix is different from final matrix\n",
    "    \"\"\"\n",
    "    matrix_change = pop_matrix[np.isin(pop_matrix[:, 0], exposed)]\n",
    "    matrix_keep = pop_matrix[~np.isin(pop_matrix[:, 0], exposed)]\n",
    "    matrix_change = np.apply_along_axis(susceptible_to_exposed,\n",
    "                                        1, matrix_change, day=day)\n",
    "\n",
    "    new_matrix = np.concatenate((matrix_keep, matrix_change))\n",
    "\n",
    "    if new_matrix.shape != pop_matrix.shape:\n",
    "        raise ValueError(\"Input and output matrix shapes are different\")\n",
    "    return new_matrix\n",
    "\n",
    "\n",
    "def lambda_leak_expose(pop_matrix, day, lambda_leak=.0001):\n",
    "    \"\"\"\n",
    "    Receives the population matrix, the current day and the leak factor.\n",
    "    Chooses at random a lambda_leak percentage of the population to expose\n",
    "\n",
    "    Args:\n",
    "        pop_matrix (np.array): 2D Array  arrays of id, state, day of infection\n",
    "            and current state duration of population.\n",
    "\n",
    "        lambda_leak (float): the percentage of the population to expose\n",
    "\n",
    "        day: the current day of simulation\n",
    "\n",
    "    Returns:\n",
    "        new_matrix (np.array): The population matrix with the\n",
    "                               newly exposed people.\n",
    "    Raises:\n",
    "        ValueError: If shape of starting matrix is different from final matrix\n",
    "    \"\"\"\n",
    "    size = int(pop_matrix.shape[0]*lambda_leak)\n",
    "\n",
    "    susceptible = pop_matrix[np.where(pop_matrix[:, 1]\n",
    "                                      == states_dict['susceptible'])][:, 0]\n",
    "\n",
    "    exposed = np.random.choice(susceptible, size=size, replace=False)\n",
    "\n",
    "    if len(exposed) == 0:\n",
    "        return pop_matrix\n",
    "\n",
    "    new_matrix = expose_population(pop_matrix, exposed, day)\n",
    "\n",
    "    if new_matrix.shape != pop_matrix.shape:\n",
    "        raise ValueError(\"Input and output matrix shapes are different\")\n",
    "\n",
    "    return new_matrix\n",
    "\n",
    "\n",
    "def spread_through_contacts(spreader, restrictions):\n",
    "    \"\"\"\n",
    "    An infected person, or a spredear, infects each of\n",
    "    its contacts with chance equal to\n",
    "    np.random.random() < p_r[r] * (1 - restrictions[r]).\n",
    "    Returns an array of all the people successfully infected by the spreader.\n",
    "\n",
    "    Args:\n",
    "        spreader (int): id of the infected person that is\n",
    "                        spreading the disease.\n",
    "\n",
    "        restrictions (dictionary): a dictionary with a value between\n",
    "                                   zero and one for each type of relation\n",
    "\n",
    "    Returns:\n",
    "        infected (list): List of all the people infected by spreader.\n",
    "    \"\"\"\n",
    "    global G, p_r\n",
    "    spreader = spreader\n",
    "    contacts = [[y, v['edge_type']] for x, y, v\n",
    "                in G.edges(spreader, data=True)]\n",
    "\n",
    "    infected = [y for r in restrictions.keys() for y, v in contacts\n",
    "                if v == r\n",
    "                and np.random.random() < p_r[r] * (1 - restrictions[r])]\n",
    "\n",
    "    return infected\n",
    "\n",
    "\n",
    "def update_population(pop_matrix):\n",
    "    \"\"\"\n",
    "    Receives the population matrix and progress the infections\n",
    "    for all people. The state duration is decremented\n",
    "    and for those whom it reaches zero, they transition to the next state\n",
    "\n",
    "    Args:\n",
    "        pop_matrix (np.array): 2D Array  arrays of id, state, day of infection\n",
    "            and current state duration of population.\n",
    "\n",
    "    Returns:\n",
    "        new_matrix (np.array): The population matrix with the updated status.\n",
    "    Raises:\n",
    "        ValueError: If shape of starting matrix is different from final matrix\n",
    "    \"\"\"\n",
    "    matrix_keep = pop_matrix[np.isin(pop_matrix[:, 1],\n",
    "                                     [states_dict['susceptible'],\n",
    "                                     states_dict['removed']]\n",
    "                                     )]\n",
    "    matrix_change = pop_matrix[~np.isin(pop_matrix[:, 1],\n",
    "                                        [states_dict['susceptible'],\n",
    "                                        states_dict['removed']]\n",
    "                                        )]\n",
    "\n",
    "    matrix_change[:, 3] = matrix_change[:, 3].astype(int) - 1\n",
    "    matrix_no_change = matrix_change[matrix_change[:, 3].astype(int) > 0]\n",
    "    matrix_change = matrix_change[matrix_change[:, 3].astype(int) == 0]\n",
    "\n",
    "    if matrix_change.shape[0] > 0:\n",
    "        matrix_change = np.apply_along_axis(change_state, 1, matrix_change)\n",
    "\n",
    "    new_matrix = np.concatenate((matrix_keep, matrix_change, matrix_no_change))\n",
    "\n",
    "    if new_matrix.shape != pop_matrix.shape:\n",
    "        raise ValueError(\"Input and output matrix shapes are different\")\n",
    "    return new_matrix\n",
    "\n",
    "\n",
    "def spread_infection(pop_matrix, restrictions, day):\n",
    "    \"\"\"\n",
    "    Receives the population matrix, the restrictions dictionary and the\n",
    "    current day. The disease spreads throught the relations in the graph:\n",
    "    each infected person has a chance to infect a susceptible contact with\n",
    "    it has an edge in the graph, conditioned to the current restrictions,\n",
    "    the p_r of each relation.\n",
    "\n",
    "    Args:\n",
    "        pop_matrix (np.array): 2D Array  arrays of id, state, day of infection\n",
    "            and current state duration of population.\n",
    "\n",
    "        restrictions (dictionary): a dictionary with a value between\n",
    "        zero and one for each type of relation\n",
    "\n",
    "        day: the current day of simulation\n",
    "\n",
    "    Returns:\n",
    "        new_matrix (np.array): The population matrix with the newly\n",
    "                                exposed people.\n",
    "    Raises:\n",
    "        ValueError: If shape of starting matrix is different from final matrix\n",
    "    \"\"\"\n",
    "    global G\n",
    "    mask = np.where(pop_matrix[:, 1] == states_dict['infected'])\n",
    "    currently_infected = pop_matrix[mask][:, 0]\n",
    "\n",
    "    if currently_infected.shape[0] == 0:\n",
    "        return pop_matrix\n",
    "    exposed = list(map(partial(spread_through_contacts,\n",
    "                               restrictions=restrictions),\n",
    "                       currently_infected))\n",
    "    exposed = np.unique(np.array([x for l in exposed for x in l]))\n",
    "\n",
    "    mask = np.isin(pop_matrix[:, 0], exposed)\n",
    "    susceptible = np.isin(pop_matrix[np.array(mask)][:, 1],\n",
    "                          states_dict['susceptible'])\n",
    "    exposed = pop_matrix[np.array(mask)][:, 0][susceptible]\n",
    "\n",
    "    if len(exposed) == 0:\n",
    "        return pop_matrix\n",
    "\n",
    "    new_matrix = expose_population(pop_matrix, exposed, day)\n",
    "\n",
    "    if new_matrix.shape != pop_matrix.shape:\n",
    "        raise ValueError(\"Input and output matrix shapes are different\")\n",
    "\n",
    "    return new_matrix\n",
    "\n",
    "\n",
    "\n",
    "def main(policy='Unrestricted', days=500):\n",
    "    \"\"\"\n",
    "    Receives the policy to be used during the simulation and for how many days\n",
    "    the simulation should run for. The policy should be a Key in the policies\n",
    "    dict inside policies.py.\n",
    "\n",
    "    One full step consists of:\n",
    "        Spreading the infection\n",
    "        Exposing through leakage\n",
    "        Updating the disease evolution of the population\n",
    "\n",
    "    Args:\n",
    "        pop_matrix (string): The name of a policy that exists is policies.policies.\n",
    "\n",
    "        days (int): For how long should the policy run.\n",
    "\n",
    "\n",
    "    Returns: data (np.array): An array of arrays containing the status of \n",
    "    the population at each time step.\n",
    "    \n",
    "    \"\"\"\n",
    "\n",
    "    pop_matrix = init_infection(.0001)\n",
    "\n",
    "    data = []\n",
    "\n",
    "    # restrictions={'work':0, 'school': 0, 'home':0, 'neighbor':0}\n",
    "    restrictions = policies[policy]\n",
    "    print(restrictions)\n",
    "\n",
    "    for day in tqdm(range(1, days)):\n",
    "        # if less than 90% already recovered, break simulation\n",
    "        if (pop_matrix[np.where(pop_matrix[:, 1] == -1)].shape[0]\n",
    "                > pop_matrix.shape[0]*.9):\n",
    "            break\n",
    "\n",
    "        pop_matrix = spread_infection(pop_matrix, restrictions, day)\n",
    "        pop_matrix = lambda_leak_expose(pop_matrix, day)\n",
    "        pop_matrix = update_population(pop_matrix)\n",
    "\n",
    "        data.append(np.array(sorted(pop_matrix, key=lambda x: x[0]))[:, 1])\n",
    "\n",
    "    return data"
   ]
  },
  {
   "cell_type": "code",
   "execution_count": 128,
   "metadata": {},
   "outputs": [],
   "source": [
    "from policies import policies, costs"
   ]
  },
  {
   "cell_type": "code",
   "execution_count": 129,
   "metadata": {},
   "outputs": [],
   "source": [
    "from tqdm import tqdm\n",
    "import numpy as np\n",
    "import pandas as pd"
   ]
  },
  {
   "cell_type": "code",
   "execution_count": 139,
   "metadata": {},
   "outputs": [
    {
     "name": "stderr",
     "output_type": "stream",
     "text": [
      "100%|████████████████████████████████████████████████████████████████████████████████| 200/200 [00:37<00:00,  5.29it/s]\n"
     ]
    }
   ],
   "source": [
    "prhome = 0.06\n",
    "alfa=.3\n",
    "\n",
    "p_r = {\n",
    "    'home'    :  prhome,\n",
    "    'neighbor':  prhome/18,\n",
    "    'work'    :  prhome/9,\n",
    "    'school'  :  prhome/6,\n",
    "}\n",
    "\n",
    "pop_matrix = init_infection(.0001)\n",
    "data = []\n",
    "actions = []\n",
    "days = 200\n",
    "step_size = 7\n",
    "\n",
    "for day in tqdm(range(1, days+1)):\n",
    "    #if less than 20% still susceptible, break simulation\n",
    "    if pop_matrix[np.where(pop_matrix[:,1] == -1)].shape[0] > pop_matrix.shape[0]*.9: break\n",
    "\n",
    "    #restrictions = policies['Unrestricted']\n",
    "    if day <= 28 or day >= 90:\n",
    "        restrictions = policies['Unrestricted']\n",
    "    else:\n",
    "        restrictions = policies['Light Quarantine']\n",
    "    \n",
    "    pop_matrix = spread_infection(pop_matrix, restrictions, day)\n",
    "    pop_matrix = lambda_leak_expose(pop_matrix, day)\n",
    "    pop_matrix = update_population(pop_matrix)\n",
    "\n",
    "    data.append(np.array(sorted(pop_matrix,key=lambda x: x[0]))[:,1]) "
   ]
  },
  {
   "cell_type": "code",
   "execution_count": 140,
   "metadata": {},
   "outputs": [
    {
     "data": {
      "application/vnd.plotly.v1+json": {
       "config": {
        "plotlyServerURL": "https://plot.ly"
       },
       "data": [
        {
         "line": {
          "color": "green"
         },
         "name": "removed",
         "type": "scatter",
         "x": [
          "2020-02-24T00:00:00",
          "2020-02-25T00:00:00",
          "2020-02-26T00:00:00",
          "2020-02-27T00:00:00",
          "2020-02-28T00:00:00",
          "2020-02-29T00:00:00",
          "2020-03-01T00:00:00",
          "2020-03-02T00:00:00",
          "2020-03-03T00:00:00",
          "2020-03-04T00:00:00",
          "2020-03-05T00:00:00",
          "2020-03-06T00:00:00",
          "2020-03-07T00:00:00",
          "2020-03-08T00:00:00",
          "2020-03-09T00:00:00",
          "2020-03-10T00:00:00",
          "2020-03-11T00:00:00",
          "2020-03-12T00:00:00",
          "2020-03-13T00:00:00",
          "2020-03-14T00:00:00",
          "2020-03-15T00:00:00",
          "2020-03-16T00:00:00",
          "2020-03-17T00:00:00",
          "2020-03-18T00:00:00",
          "2020-03-19T00:00:00",
          "2020-03-20T00:00:00",
          "2020-03-21T00:00:00",
          "2020-03-22T00:00:00",
          "2020-03-23T00:00:00",
          "2020-03-24T00:00:00",
          "2020-03-25T00:00:00",
          "2020-03-26T00:00:00",
          "2020-03-27T00:00:00",
          "2020-03-28T00:00:00",
          "2020-03-29T00:00:00",
          "2020-03-30T00:00:00",
          "2020-03-31T00:00:00",
          "2020-04-01T00:00:00",
          "2020-04-02T00:00:00",
          "2020-04-03T00:00:00",
          "2020-04-04T00:00:00",
          "2020-04-05T00:00:00",
          "2020-04-06T00:00:00",
          "2020-04-07T00:00:00",
          "2020-04-08T00:00:00",
          "2020-04-09T00:00:00",
          "2020-04-10T00:00:00",
          "2020-04-11T00:00:00",
          "2020-04-12T00:00:00",
          "2020-04-13T00:00:00",
          "2020-04-14T00:00:00",
          "2020-04-15T00:00:00",
          "2020-04-16T00:00:00",
          "2020-04-17T00:00:00",
          "2020-04-18T00:00:00",
          "2020-04-19T00:00:00",
          "2020-04-20T00:00:00",
          "2020-04-21T00:00:00",
          "2020-04-22T00:00:00",
          "2020-04-23T00:00:00",
          "2020-04-24T00:00:00",
          "2020-04-25T00:00:00",
          "2020-04-26T00:00:00",
          "2020-04-27T00:00:00",
          "2020-04-28T00:00:00",
          "2020-04-29T00:00:00",
          "2020-04-30T00:00:00",
          "2020-05-01T00:00:00",
          "2020-05-02T00:00:00",
          "2020-05-03T00:00:00",
          "2020-05-04T00:00:00",
          "2020-05-05T00:00:00",
          "2020-05-06T00:00:00",
          "2020-05-07T00:00:00",
          "2020-05-08T00:00:00",
          "2020-05-09T00:00:00",
          "2020-05-10T00:00:00",
          "2020-05-11T00:00:00",
          "2020-05-12T00:00:00",
          "2020-05-13T00:00:00",
          "2020-05-14T00:00:00",
          "2020-05-15T00:00:00",
          "2020-05-16T00:00:00",
          "2020-05-17T00:00:00",
          "2020-05-18T00:00:00",
          "2020-05-19T00:00:00",
          "2020-05-20T00:00:00",
          "2020-05-21T00:00:00",
          "2020-05-22T00:00:00",
          "2020-05-23T00:00:00",
          "2020-05-24T00:00:00",
          "2020-05-25T00:00:00",
          "2020-05-26T00:00:00",
          "2020-05-27T00:00:00",
          "2020-05-28T00:00:00",
          "2020-05-29T00:00:00",
          "2020-05-30T00:00:00",
          "2020-05-31T00:00:00",
          "2020-06-01T00:00:00",
          "2020-06-02T00:00:00",
          "2020-06-03T00:00:00",
          "2020-06-04T00:00:00",
          "2020-06-05T00:00:00",
          "2020-06-06T00:00:00",
          "2020-06-07T00:00:00",
          "2020-06-08T00:00:00",
          "2020-06-09T00:00:00",
          "2020-06-10T00:00:00",
          "2020-06-11T00:00:00",
          "2020-06-12T00:00:00",
          "2020-06-13T00:00:00",
          "2020-06-14T00:00:00",
          "2020-06-15T00:00:00",
          "2020-06-16T00:00:00",
          "2020-06-17T00:00:00",
          "2020-06-18T00:00:00",
          "2020-06-19T00:00:00",
          "2020-06-20T00:00:00",
          "2020-06-21T00:00:00",
          "2020-06-22T00:00:00",
          "2020-06-23T00:00:00",
          "2020-06-24T00:00:00",
          "2020-06-25T00:00:00",
          "2020-06-26T00:00:00",
          "2020-06-27T00:00:00",
          "2020-06-28T00:00:00",
          "2020-06-29T00:00:00",
          "2020-06-30T00:00:00",
          "2020-07-01T00:00:00",
          "2020-07-02T00:00:00",
          "2020-07-03T00:00:00",
          "2020-07-04T00:00:00",
          "2020-07-05T00:00:00",
          "2020-07-06T00:00:00",
          "2020-07-07T00:00:00",
          "2020-07-08T00:00:00",
          "2020-07-09T00:00:00",
          "2020-07-10T00:00:00",
          "2020-07-11T00:00:00",
          "2020-07-12T00:00:00",
          "2020-07-13T00:00:00",
          "2020-07-14T00:00:00",
          "2020-07-15T00:00:00",
          "2020-07-16T00:00:00",
          "2020-07-17T00:00:00",
          "2020-07-18T00:00:00",
          "2020-07-19T00:00:00",
          "2020-07-20T00:00:00",
          "2020-07-21T00:00:00",
          "2020-07-22T00:00:00",
          "2020-07-23T00:00:00",
          "2020-07-24T00:00:00",
          "2020-07-25T00:00:00",
          "2020-07-26T00:00:00",
          "2020-07-27T00:00:00",
          "2020-07-28T00:00:00",
          "2020-07-29T00:00:00",
          "2020-07-30T00:00:00",
          "2020-07-31T00:00:00",
          "2020-08-01T00:00:00",
          "2020-08-02T00:00:00",
          "2020-08-03T00:00:00",
          "2020-08-04T00:00:00",
          "2020-08-05T00:00:00",
          "2020-08-06T00:00:00",
          "2020-08-07T00:00:00",
          "2020-08-08T00:00:00",
          "2020-08-09T00:00:00",
          "2020-08-10T00:00:00",
          "2020-08-11T00:00:00",
          "2020-08-12T00:00:00",
          "2020-08-13T00:00:00",
          "2020-08-14T00:00:00",
          "2020-08-15T00:00:00",
          "2020-08-16T00:00:00",
          "2020-08-17T00:00:00",
          "2020-08-18T00:00:00",
          "2020-08-19T00:00:00",
          "2020-08-20T00:00:00",
          "2020-08-21T00:00:00",
          "2020-08-22T00:00:00",
          "2020-08-23T00:00:00",
          "2020-08-24T00:00:00",
          "2020-08-25T00:00:00",
          "2020-08-26T00:00:00",
          "2020-08-27T00:00:00",
          "2020-08-28T00:00:00",
          "2020-08-29T00:00:00",
          "2020-08-30T00:00:00",
          "2020-08-31T00:00:00",
          "2020-09-01T00:00:00",
          "2020-09-02T00:00:00",
          "2020-09-03T00:00:00",
          "2020-09-04T00:00:00",
          "2020-09-05T00:00:00",
          "2020-09-06T00:00:00",
          "2020-09-07T00:00:00",
          "2020-09-08T00:00:00",
          "2020-09-09T00:00:00",
          "2020-09-10T00:00:00"
         ],
         "y": [
          0,
          0,
          0,
          0,
          0,
          0,
          0,
          1.8020615584228357e-05,
          7.208246233691343e-05,
          0.0001261443090895985,
          0.00019822677142651194,
          0.00019822677142651194,
          0.00032437108051611044,
          0.00036041231168456716,
          0.00045051538960570893,
          0.0005586390831110791,
          0.0006487421610322209,
          0.0008109277012902761,
          0.0009911338571325598,
          0.0011893606285590715,
          0.0014416492467382686,
          0.0016398760181647804,
          0.0018381027895912924,
          0.0021985151012758595,
          0.0025048655662077415,
          0.0029373603402292224,
          0.003477978807756073,
          0.003964535428530239,
          0.0044330714337201755,
          0.0050637929791681685,
          0.005622432062279248,
          0.006271174223311468,
          0.007208246233691343,
          0.008289483168745044,
          0.008920204714193037,
          0.009767173646651769,
          0.010794348734952787,
          0.012001729979096086,
          0.013100987529734015,
          0.014362430620630001,
          0.015840121098536726,
          0.01701146111151157,
          0.017894471275138758,
          0.01908383190369783,
          0.02016506883875153,
          0.021516615007568657,
          0.02301232610105961,
          0.02416564549845023,
          0.025409067973761985,
          0.02676061414257911,
          0.028310387082822748,
          0.029806098176313703,
          0.03128378865422043,
          0.03279752036329561,
          0.03425719022561811,
          0.035518633316514094,
          0.03701434441000505,
          0.03849203488791177,
          0.04033013767750306,
          0.042042096158004756,
          0.04351978663591148,
          0.04506955957615512,
          0.0467094355943199,
          0.048024940531968575,
          0.04971887839688604,
          0.05143083687738773,
          0.053106754126720966,
          0.05454840337345924,
          0.05606213508253442,
          0.057647949253946514,
          0.05977438189288546,
          0.061522381604555615,
          0.06332444316297844,
          0.064946298565559,
          0.06682044258631875,
          0.06885677214733656,
          0.07092914293952281,
          0.07246089526418223,
          0.07440712174727888,
          0.07610105961219635,
          0.07815540978879838,
          0.08026382181215311,
          0.08204786275499171,
          0.0836336769264038,
          0.08548980033157932,
          0.08707561450299142,
          0.08869746990557198,
          0.09066171700425286,
          0.09240971671592302,
          0.094301881352267,
          0.09610394291068983,
          0.0980501693937865,
          0.10042889065090463,
          0.10233907590283284,
          0.10401499315216607,
          0.10579903409500468,
          0.10853816766380739,
          0.11080876522742017,
          0.11295321848194334,
          0.11590859943775679,
          0.11864773300655951,
          0.12176529950263101,
          0.12511713400129748,
          0.12922583435450155,
          0.13329849347653716,
          0.13760542060116773,
          0.14245296619332518,
          0.14728249116989836,
          0.15326533554386218,
          0.15877964391263605,
          0.16476248828659987,
          0.17119584805016938,
          0.1778814964319181,
          0.18554025805521518,
          0.1937035969148706,
          0.2019570388524472,
          0.21053485187053989,
          0.21934693289122756,
          0.22817703452749946,
          0.23670078569883948,
          0.246449938729907,
          0.2572082462336913,
          0.26800259496864415,
          0.27888704678151804,
          0.28960931305413395,
          0.30116052764362433,
          0.31213508253441935,
          0.3238484826641678,
          0.33469689324587326,
          0.3466445613782167,
          0.3588445181287393,
          0.3707921862610827,
          0.38214517407914655,
          0.3931737908166943,
          0.4043645930945001,
          0.41596986953074316,
          0.42777337273841276,
          0.43858574208894974,
          0.44938009082390257,
          0.46019246017443954,
          0.47003171628342827,
          0.4803935702443595,
          0.4905211562026959,
          0.5003604123116846,
          0.5094968644128883,
          0.5187414402075975,
          0.5273552944568587,
          0.5352303034671665,
          0.542853023859295,
          0.550583867944929,
          0.5580984646435522,
          0.5651625459525698,
          0.5715959057161393,
          0.577885100555035,
          0.5835615944640669,
          0.5888236142146616,
          0.5942478195055143,
          0.5992215094067613,
          0.6044114466950191,
          0.6088625387443235,
          0.6127369710949326,
          0.6168997332948893,
          0.6204678151805666,
          0.6239818352194911,
          0.6273516903337418,
          0.6304692568298133,
          0.6335868233258848,
          0.6363439775102717,
          0.6388488430764795,
          0.641569956029698,
          0.6436963886686369,
          0.6458949037699128,
          0.6477149859439199,
          0.6496431918114323,
          0.6514812946010236,
          0.6533013767750306,
          0.6551755207957903,
          0.6565991494269444,
          0.6580588192892669,
          0.6591580768399049,
          0.6603654580840481,
          0.6615728393281914,
          0.6624918907229871,
          0.6633208390398616,
          0.6641317667411519,
          0.6649066532112737,
          0.6658257046060694,
          0.6666726735385281,
          0.6675556837021552,
          0.6680602609385137,
          0.6684747350969509,
          0.6689793123333093,
          0.6695739926475889,
          0.6700064874216103,
          0.6705471058891371,
          0.6711237655878325,
          0.6714481366683486,
          0.6718626108267859,
          0.6722050025228862,
          0.6724753117566497
         ]
        },
        {
         "line": {
          "color": "blue"
         },
         "name": "susceptible",
         "type": "scatter",
         "x": [
          "2020-02-24T00:00:00",
          "2020-02-25T00:00:00",
          "2020-02-26T00:00:00",
          "2020-02-27T00:00:00",
          "2020-02-28T00:00:00",
          "2020-02-29T00:00:00",
          "2020-03-01T00:00:00",
          "2020-03-02T00:00:00",
          "2020-03-03T00:00:00",
          "2020-03-04T00:00:00",
          "2020-03-05T00:00:00",
          "2020-03-06T00:00:00",
          "2020-03-07T00:00:00",
          "2020-03-08T00:00:00",
          "2020-03-09T00:00:00",
          "2020-03-10T00:00:00",
          "2020-03-11T00:00:00",
          "2020-03-12T00:00:00",
          "2020-03-13T00:00:00",
          "2020-03-14T00:00:00",
          "2020-03-15T00:00:00",
          "2020-03-16T00:00:00",
          "2020-03-17T00:00:00",
          "2020-03-18T00:00:00",
          "2020-03-19T00:00:00",
          "2020-03-20T00:00:00",
          "2020-03-21T00:00:00",
          "2020-03-22T00:00:00",
          "2020-03-23T00:00:00",
          "2020-03-24T00:00:00",
          "2020-03-25T00:00:00",
          "2020-03-26T00:00:00",
          "2020-03-27T00:00:00",
          "2020-03-28T00:00:00",
          "2020-03-29T00:00:00",
          "2020-03-30T00:00:00",
          "2020-03-31T00:00:00",
          "2020-04-01T00:00:00",
          "2020-04-02T00:00:00",
          "2020-04-03T00:00:00",
          "2020-04-04T00:00:00",
          "2020-04-05T00:00:00",
          "2020-04-06T00:00:00",
          "2020-04-07T00:00:00",
          "2020-04-08T00:00:00",
          "2020-04-09T00:00:00",
          "2020-04-10T00:00:00",
          "2020-04-11T00:00:00",
          "2020-04-12T00:00:00",
          "2020-04-13T00:00:00",
          "2020-04-14T00:00:00",
          "2020-04-15T00:00:00",
          "2020-04-16T00:00:00",
          "2020-04-17T00:00:00",
          "2020-04-18T00:00:00",
          "2020-04-19T00:00:00",
          "2020-04-20T00:00:00",
          "2020-04-21T00:00:00",
          "2020-04-22T00:00:00",
          "2020-04-23T00:00:00",
          "2020-04-24T00:00:00",
          "2020-04-25T00:00:00",
          "2020-04-26T00:00:00",
          "2020-04-27T00:00:00",
          "2020-04-28T00:00:00",
          "2020-04-29T00:00:00",
          "2020-04-30T00:00:00",
          "2020-05-01T00:00:00",
          "2020-05-02T00:00:00",
          "2020-05-03T00:00:00",
          "2020-05-04T00:00:00",
          "2020-05-05T00:00:00",
          "2020-05-06T00:00:00",
          "2020-05-07T00:00:00",
          "2020-05-08T00:00:00",
          "2020-05-09T00:00:00",
          "2020-05-10T00:00:00",
          "2020-05-11T00:00:00",
          "2020-05-12T00:00:00",
          "2020-05-13T00:00:00",
          "2020-05-14T00:00:00",
          "2020-05-15T00:00:00",
          "2020-05-16T00:00:00",
          "2020-05-17T00:00:00",
          "2020-05-18T00:00:00",
          "2020-05-19T00:00:00",
          "2020-05-20T00:00:00",
          "2020-05-21T00:00:00",
          "2020-05-22T00:00:00",
          "2020-05-23T00:00:00",
          "2020-05-24T00:00:00",
          "2020-05-25T00:00:00",
          "2020-05-26T00:00:00",
          "2020-05-27T00:00:00",
          "2020-05-28T00:00:00",
          "2020-05-29T00:00:00",
          "2020-05-30T00:00:00",
          "2020-05-31T00:00:00",
          "2020-06-01T00:00:00",
          "2020-06-02T00:00:00",
          "2020-06-03T00:00:00",
          "2020-06-04T00:00:00",
          "2020-06-05T00:00:00",
          "2020-06-06T00:00:00",
          "2020-06-07T00:00:00",
          "2020-06-08T00:00:00",
          "2020-06-09T00:00:00",
          "2020-06-10T00:00:00",
          "2020-06-11T00:00:00",
          "2020-06-12T00:00:00",
          "2020-06-13T00:00:00",
          "2020-06-14T00:00:00",
          "2020-06-15T00:00:00",
          "2020-06-16T00:00:00",
          "2020-06-17T00:00:00",
          "2020-06-18T00:00:00",
          "2020-06-19T00:00:00",
          "2020-06-20T00:00:00",
          "2020-06-21T00:00:00",
          "2020-06-22T00:00:00",
          "2020-06-23T00:00:00",
          "2020-06-24T00:00:00",
          "2020-06-25T00:00:00",
          "2020-06-26T00:00:00",
          "2020-06-27T00:00:00",
          "2020-06-28T00:00:00",
          "2020-06-29T00:00:00",
          "2020-06-30T00:00:00",
          "2020-07-01T00:00:00",
          "2020-07-02T00:00:00",
          "2020-07-03T00:00:00",
          "2020-07-04T00:00:00",
          "2020-07-05T00:00:00",
          "2020-07-06T00:00:00",
          "2020-07-07T00:00:00",
          "2020-07-08T00:00:00",
          "2020-07-09T00:00:00",
          "2020-07-10T00:00:00",
          "2020-07-11T00:00:00",
          "2020-07-12T00:00:00",
          "2020-07-13T00:00:00",
          "2020-07-14T00:00:00",
          "2020-07-15T00:00:00",
          "2020-07-16T00:00:00",
          "2020-07-17T00:00:00",
          "2020-07-18T00:00:00",
          "2020-07-19T00:00:00",
          "2020-07-20T00:00:00",
          "2020-07-21T00:00:00",
          "2020-07-22T00:00:00",
          "2020-07-23T00:00:00",
          "2020-07-24T00:00:00",
          "2020-07-25T00:00:00",
          "2020-07-26T00:00:00",
          "2020-07-27T00:00:00",
          "2020-07-28T00:00:00",
          "2020-07-29T00:00:00",
          "2020-07-30T00:00:00",
          "2020-07-31T00:00:00",
          "2020-08-01T00:00:00",
          "2020-08-02T00:00:00",
          "2020-08-03T00:00:00",
          "2020-08-04T00:00:00",
          "2020-08-05T00:00:00",
          "2020-08-06T00:00:00",
          "2020-08-07T00:00:00",
          "2020-08-08T00:00:00",
          "2020-08-09T00:00:00",
          "2020-08-10T00:00:00",
          "2020-08-11T00:00:00",
          "2020-08-12T00:00:00",
          "2020-08-13T00:00:00",
          "2020-08-14T00:00:00",
          "2020-08-15T00:00:00",
          "2020-08-16T00:00:00",
          "2020-08-17T00:00:00",
          "2020-08-18T00:00:00",
          "2020-08-19T00:00:00",
          "2020-08-20T00:00:00",
          "2020-08-21T00:00:00",
          "2020-08-22T00:00:00",
          "2020-08-23T00:00:00",
          "2020-08-24T00:00:00",
          "2020-08-25T00:00:00",
          "2020-08-26T00:00:00",
          "2020-08-27T00:00:00",
          "2020-08-28T00:00:00",
          "2020-08-29T00:00:00",
          "2020-08-30T00:00:00",
          "2020-08-31T00:00:00",
          "2020-09-01T00:00:00",
          "2020-09-02T00:00:00",
          "2020-09-03T00:00:00",
          "2020-09-04T00:00:00",
          "2020-09-05T00:00:00",
          "2020-09-06T00:00:00",
          "2020-09-07T00:00:00",
          "2020-09-08T00:00:00",
          "2020-09-09T00:00:00",
          "2020-09-10T00:00:00"
         ],
         "y": [
          0.9998197938441578,
          0.9997296907662365,
          0.9996215670727312,
          0.9995134433792259,
          0.9994053196857204,
          0.9992971959922151,
          0.9991350104519571,
          0.9989548042961147,
          0.9987385569091041,
          0.9984862682909248,
          0.9983240827506668,
          0.9980357529013191,
          0.9977834642831399,
          0.9975131550493764,
          0.9970626396597708,
          0.9965760830389966,
          0.9959453614935486,
          0.9955308873351114,
          0.994792042096158,
          0.993999135010452,
          0.9933323722338355,
          0.9923772796078714,
          0.9917465580624234,
          0.9907013623585381,
          0.9896381460390687,
          0.9884127441793412,
          0.9868449506235133,
          0.9855474663014488,
          0.9843581056728898,
          0.9831327038131623,
          0.981925322569019,
          0.9806999207092915,
          0.979402436387227,
          0.9781590139119152,
          0.9769876738989404,
          0.9756901895768759,
          0.9741043754054638,
          0.9724644993872991,
          0.97127513875874,
          0.9699235925899229,
          0.9685720464211057,
          0.9674547682548836,
          0.965995098392561,
          0.9644273048367332,
          0.9627513875874,
          0.9611115115692352,
          0.95959777986016,
          0.957939883226411,
          0.9561918835147408,
          0.9544799250342392,
          0.9530202551719167,
          0.9516146471563469,
          0.9497224825200029,
          0.9482267714265119,
          0.946568874792763,
          0.9446586895408348,
          0.9430368341382541,
          0.9412527931954155,
          0.9394146904058243,
          0.9374324226915591,
          0.9359547322136524,
          0.9343328768110719,
          0.9327290420240756,
          0.9309089598500685,
          0.9292510632163195,
          0.9272147336553017,
          0.9256289194838896,
          0.9235205074605348,
          0.9218806314423701,
          0.9200965904995315,
          0.9180963021696821,
          0.9162942406112593,
          0.9141858285879045,
          0.9123116845671448,
          0.9106177467022274,
          0.908851726374973,
          0.9072118503568082,
          0.905698118647733,
          0.9037338715490522,
          0.9018056656815396,
          0.9001477690477907,
          0.8982916456426151,
          0.8963634397751027,
          0.894327110214085,
          0.8923808837309882,
          0.8905067397102285,
          0.8885244719959634,
          0.8862178332011822,
          0.8843256685648382,
          0.8803431125207237,
          0.8765948244792042,
          0.8729005982844374,
          0.8693865782455129,
          0.8654040222013984,
          0.8617638578533843,
          0.8571505802638218,
          0.8519426223599799,
          0.8458516542925106,
          0.8399769336120522,
          0.8335976356952354,
          0.8262812657680386,
          0.8185684422979889,
          0.8103330209759966,
          0.8025300944280257,
          0.7930152093995531,
          0.7843112520723708,
          0.7758595833633677,
          0.7658941829452894,
          0.7561270092986376,
          0.7453326605636849,
          0.7340337345923736,
          0.7233655301665105,
          0.7112196352627406,
          0.6991278022057233,
          0.6878108556188279,
          0.6763317234916745,
          0.664456137821668,
          0.6525625315360772,
          0.6401102861673755,
          0.628234700497369,
          0.6167195271390471,
          0.6048439414690406,
          0.5937252216535717,
          0.5819577596770705,
          0.569992070929143,
          0.5571794132487565,
          0.5451776832696605,
          0.53456354069055,
          0.5245620990413032,
          0.5144705543141354,
          0.503315793267498,
          0.4937468463922728,
          0.48457435305990054,
          0.4761046637353132,
          0.46774309810423126,
          0.4591472644705543,
          0.45078569883947234,
          0.44316297844734376,
          0.4361890002162474,
          0.4293952281409933,
          0.42270957975924456,
          0.41741151877748145,
          0.4114827362502703,
          0.4062026958840914,
          0.4008685936711598,
          0.39587688315432856,
          0.3910113169465869,
          0.3874071938297412,
          0.38272183377784186,
          0.37890146327398544,
          0.37522525769480286,
          0.3722698767389894,
          0.36918835147408635,
          0.3661789086715202,
          0.3630793627910329,
          0.36046637353131983,
          0.35806963165861744,
          0.35601528148201544,
          0.3539609313054134,
          0.35179845743530597,
          0.3497621278742882,
          0.348014128162618,
          0.3464823758379586,
          0.3449506235132992,
          0.3435630361133136,
          0.3419592013263173,
          0.340986088084769,
          0.33988683053413105,
          0.3384812225185612,
          0.33739998558350753,
          0.33664311972896993,
          0.33565198587183737,
          0.33478699632379444,
          0.33383190369783033,
          0.3331831615367981,
          0.33248035752901317,
          0.3318676565991494,
          0.3313450587472068,
          0.3308404815108484,
          0.3302277805809846,
          0.3298133064225474,
          0.3294348734952786,
          0.32909248179917827,
          0.32862394579398835,
          0.32819145101996683,
          0.3277409356303611,
          0.3273444820875081,
          0.327020111006992,
          0.3267678223888128,
          0.32660563684855476,
          0.3261911626901175,
          0.32577668853168024,
          0.32547033806674835,
          0.32514596698623227,
          0.3248576371368846,
          0.32464138974987383,
          0.32431701866935775,
          0.32406473005117853,
          0.32383046204858357,
          0.32354213219923594
         ]
        },
        {
         "line": {
          "color": "orange"
         },
         "name": "exposed",
         "type": "scatter",
         "x": [
          "2020-02-24T00:00:00",
          "2020-02-25T00:00:00",
          "2020-02-26T00:00:00",
          "2020-02-27T00:00:00",
          "2020-02-28T00:00:00",
          "2020-02-29T00:00:00",
          "2020-03-01T00:00:00",
          "2020-03-02T00:00:00",
          "2020-03-03T00:00:00",
          "2020-03-04T00:00:00",
          "2020-03-05T00:00:00",
          "2020-03-06T00:00:00",
          "2020-03-07T00:00:00",
          "2020-03-08T00:00:00",
          "2020-03-09T00:00:00",
          "2020-03-10T00:00:00",
          "2020-03-11T00:00:00",
          "2020-03-12T00:00:00",
          "2020-03-13T00:00:00",
          "2020-03-14T00:00:00",
          "2020-03-15T00:00:00",
          "2020-03-16T00:00:00",
          "2020-03-17T00:00:00",
          "2020-03-18T00:00:00",
          "2020-03-19T00:00:00",
          "2020-03-20T00:00:00",
          "2020-03-21T00:00:00",
          "2020-03-22T00:00:00",
          "2020-03-23T00:00:00",
          "2020-03-24T00:00:00",
          "2020-03-25T00:00:00",
          "2020-03-26T00:00:00",
          "2020-03-27T00:00:00",
          "2020-03-28T00:00:00",
          "2020-03-29T00:00:00",
          "2020-03-30T00:00:00",
          "2020-03-31T00:00:00",
          "2020-04-01T00:00:00",
          "2020-04-02T00:00:00",
          "2020-04-03T00:00:00",
          "2020-04-04T00:00:00",
          "2020-04-05T00:00:00",
          "2020-04-06T00:00:00",
          "2020-04-07T00:00:00",
          "2020-04-08T00:00:00",
          "2020-04-09T00:00:00",
          "2020-04-10T00:00:00",
          "2020-04-11T00:00:00",
          "2020-04-12T00:00:00",
          "2020-04-13T00:00:00",
          "2020-04-14T00:00:00",
          "2020-04-15T00:00:00",
          "2020-04-16T00:00:00",
          "2020-04-17T00:00:00",
          "2020-04-18T00:00:00",
          "2020-04-19T00:00:00",
          "2020-04-20T00:00:00",
          "2020-04-21T00:00:00",
          "2020-04-22T00:00:00",
          "2020-04-23T00:00:00",
          "2020-04-24T00:00:00",
          "2020-04-25T00:00:00",
          "2020-04-26T00:00:00",
          "2020-04-27T00:00:00",
          "2020-04-28T00:00:00",
          "2020-04-29T00:00:00",
          "2020-04-30T00:00:00",
          "2020-05-01T00:00:00",
          "2020-05-02T00:00:00",
          "2020-05-03T00:00:00",
          "2020-05-04T00:00:00",
          "2020-05-05T00:00:00",
          "2020-05-06T00:00:00",
          "2020-05-07T00:00:00",
          "2020-05-08T00:00:00",
          "2020-05-09T00:00:00",
          "2020-05-10T00:00:00",
          "2020-05-11T00:00:00",
          "2020-05-12T00:00:00",
          "2020-05-13T00:00:00",
          "2020-05-14T00:00:00",
          "2020-05-15T00:00:00",
          "2020-05-16T00:00:00",
          "2020-05-17T00:00:00",
          "2020-05-18T00:00:00",
          "2020-05-19T00:00:00",
          "2020-05-20T00:00:00",
          "2020-05-21T00:00:00",
          "2020-05-22T00:00:00",
          "2020-05-23T00:00:00",
          "2020-05-24T00:00:00",
          "2020-05-25T00:00:00",
          "2020-05-26T00:00:00",
          "2020-05-27T00:00:00",
          "2020-05-28T00:00:00",
          "2020-05-29T00:00:00",
          "2020-05-30T00:00:00",
          "2020-05-31T00:00:00",
          "2020-06-01T00:00:00",
          "2020-06-02T00:00:00",
          "2020-06-03T00:00:00",
          "2020-06-04T00:00:00",
          "2020-06-05T00:00:00",
          "2020-06-06T00:00:00",
          "2020-06-07T00:00:00",
          "2020-06-08T00:00:00",
          "2020-06-09T00:00:00",
          "2020-06-10T00:00:00",
          "2020-06-11T00:00:00",
          "2020-06-12T00:00:00",
          "2020-06-13T00:00:00",
          "2020-06-14T00:00:00",
          "2020-06-15T00:00:00",
          "2020-06-16T00:00:00",
          "2020-06-17T00:00:00",
          "2020-06-18T00:00:00",
          "2020-06-19T00:00:00",
          "2020-06-20T00:00:00",
          "2020-06-21T00:00:00",
          "2020-06-22T00:00:00",
          "2020-06-23T00:00:00",
          "2020-06-24T00:00:00",
          "2020-06-25T00:00:00",
          "2020-06-26T00:00:00",
          "2020-06-27T00:00:00",
          "2020-06-28T00:00:00",
          "2020-06-29T00:00:00",
          "2020-06-30T00:00:00",
          "2020-07-01T00:00:00",
          "2020-07-02T00:00:00",
          "2020-07-03T00:00:00",
          "2020-07-04T00:00:00",
          "2020-07-05T00:00:00",
          "2020-07-06T00:00:00",
          "2020-07-07T00:00:00",
          "2020-07-08T00:00:00",
          "2020-07-09T00:00:00",
          "2020-07-10T00:00:00",
          "2020-07-11T00:00:00",
          "2020-07-12T00:00:00",
          "2020-07-13T00:00:00",
          "2020-07-14T00:00:00",
          "2020-07-15T00:00:00",
          "2020-07-16T00:00:00",
          "2020-07-17T00:00:00",
          "2020-07-18T00:00:00",
          "2020-07-19T00:00:00",
          "2020-07-20T00:00:00",
          "2020-07-21T00:00:00",
          "2020-07-22T00:00:00",
          "2020-07-23T00:00:00",
          "2020-07-24T00:00:00",
          "2020-07-25T00:00:00",
          "2020-07-26T00:00:00",
          "2020-07-27T00:00:00",
          "2020-07-28T00:00:00",
          "2020-07-29T00:00:00",
          "2020-07-30T00:00:00",
          "2020-07-31T00:00:00",
          "2020-08-01T00:00:00",
          "2020-08-02T00:00:00",
          "2020-08-03T00:00:00",
          "2020-08-04T00:00:00",
          "2020-08-05T00:00:00",
          "2020-08-06T00:00:00",
          "2020-08-07T00:00:00",
          "2020-08-08T00:00:00",
          "2020-08-09T00:00:00",
          "2020-08-10T00:00:00",
          "2020-08-11T00:00:00",
          "2020-08-12T00:00:00",
          "2020-08-13T00:00:00",
          "2020-08-14T00:00:00",
          "2020-08-15T00:00:00",
          "2020-08-16T00:00:00",
          "2020-08-17T00:00:00",
          "2020-08-18T00:00:00",
          "2020-08-19T00:00:00",
          "2020-08-20T00:00:00",
          "2020-08-21T00:00:00",
          "2020-08-22T00:00:00",
          "2020-08-23T00:00:00",
          "2020-08-24T00:00:00",
          "2020-08-25T00:00:00",
          "2020-08-26T00:00:00",
          "2020-08-27T00:00:00",
          "2020-08-28T00:00:00",
          "2020-08-29T00:00:00",
          "2020-08-30T00:00:00",
          "2020-08-31T00:00:00",
          "2020-09-01T00:00:00",
          "2020-09-02T00:00:00",
          "2020-09-03T00:00:00",
          "2020-09-04T00:00:00",
          "2020-09-05T00:00:00",
          "2020-09-06T00:00:00",
          "2020-09-07T00:00:00",
          "2020-09-08T00:00:00",
          "2020-09-09T00:00:00",
          "2020-09-10T00:00:00"
         ],
         "y": [
          0.00018020615584228358,
          0.000252288618179197,
          0.00034239169610033877,
          0.0004324947740214806,
          0.00046853600518993727,
          0.000504577236358394,
          0.0005406184675268508,
          0.0005946803142795358,
          0.0006847833922006775,
          0.0008469689324587328,
          0.0008830101636271895,
          0.001009154472716788,
          0.001063216319469473,
          0.0010812369350537015,
          0.0013515461688171269,
          0.0016218554025805522,
          0.002054350176602033,
          0.0021985151012758595,
          0.0024508037194550564,
          0.002775174799971167,
          0.003027463418150364,
          0.0034058963454191597,
          0.003423916961003388,
          0.003748288041519498,
          0.00405463850645138,
          0.004505153896057089,
          0.005099834210336625,
          0.0052259785194262234,
          0.005424205290852736,
          0.0055863908311107905,
          0.0057665969869530745,
          0.005838679449289987,
          0.006018885605132271,
          0.0061990917609745545,
          0.006054926836300728,
          0.006090968067469185,
          0.006415339147985295,
          0.006541483457074893,
          0.006523462841490665,
          0.006505442225906437,
          0.006613565919411807,
          0.006235132992143012,
          0.006433359763569523,
          0.006703668997332949,
          0.0069919988466806025,
          0.007208246233691343,
          0.0070821019246017445,
          0.007406473005117855,
          0.00767678223888128,
          0.007875009010307792,
          0.007622720392128595,
          0.007280328696028257,
          0.0076948028544655085,
          0.00735241115836517,
          0.007298349311612485,
          0.007640741007712824,
          0.007712823470049737,
          0.00767678223888128,
          0.007875009010307792,
          0.008433648093418872,
          0.00810927701290276,
          0.008055215166150076,
          0.008037194550565847,
          0.008001153319397391,
          0.007586679160960138,
          0.007911050241476248,
          0.008127297628486988,
          0.008343545015497729,
          0.00823542132199236,
          0.008577813018092698,
          0.008523751171340013,
          0.008415627477834644,
          0.008703957327182297,
          0.008974266560945722,
          0.008595833633676926,
          0.008649895480429612,
          0.008289483168745044,
          0.008217400706408131,
          0.007983132703813163,
          0.008253441937576588,
          0.0083255243999135,
          0.008613854249261154,
          0.008181359475239675,
          0.008577813018092698,
          0.008577813018092698,
          0.00855979240250847,
          0.008595833633676926,
          0.009046349023282635,
          0.008848122251856123,
          0.010686225041447416,
          0.012650472140128306,
          0.01383983276868738,
          0.01492106970374108,
          0.016308657103726663,
          0.016741151877748144,
          0.01787645065955453,
          0.0190658112881136,
          0.021318388236142148,
          0.023192532256901897,
          0.025192820586751243,
          0.027589562459453616,
          0.029247459093202623,
          0.03249116989836373,
          0.033932819145101996,
          0.03618539609313054,
          0.038023498882721836,
          0.038816405968427885,
          0.04078065306710877,
          0.04234844662293664,
          0.0442946731060333,
          0.04649318820730916,
          0.04705182729042024,
          0.049052115620269586,
          0.05114250702804008,
          0.05240395011893606,
          0.05317883658905788,
          0.05406184675268507,
          0.054169970446190444,
          0.05494485691631226,
          0.05561161969292871,
          0.05530526922799683,
          0.05629640308512939,
          0.05537735169033374,
          0.054674547682548834,
          0.05431413537086427,
          0.055161104303323,
          0.055215166150075684,
          0.05406184675268507,
          0.052602176890362576,
          0.050926259641029335,
          0.05052980609817631,
          0.049322424854033015,
          0.04789879622287897,
          0.04564621927485043,
          0.043718013407338,
          0.04242052908527355,
          0.04103294168528797,
          0.03914077704894399,
          0.03773516903337418,
          0.03616737547754631,
          0.034725726230808045,
          0.03223888128018453,
          0.030905355726951633,
          0.02906725293736034,
          0.027337273841274417,
          0.025643335976356953,
          0.02476032581272976,
          0.022850140560801556,
          0.022075254090679737,
          0.02072370792186261,
          0.019822677142651193,
          0.018489151589418294,
          0.016957399264758883,
          0.015822100482952496,
          0.015299502631009876,
          0.014452533698551142,
          0.013191090607655158,
          0.011911626901174944,
          0.011497152742737693,
          0.010992575506379297,
          0.010560080732357818,
          0.009947379802494053,
          0.009370720103798746,
          0.008631874864845382,
          0.008055215166150076,
          0.007929070857060478,
          0.006883875153175232,
          0.006108988683053413,
          0.00614502991422187,
          0.005892741296042673,
          0.005189937288257767,
          0.004649318820730916,
          0.004379009586967491,
          0.0043609889713832626,
          0.00405463850645138,
          0.003820370503856412,
          0.0035861025012614432,
          0.0033157932674980177,
          0.0030995458804872773,
          0.0029373603402292224,
          0.0027030923376342537,
          0.0024868449506235133,
          0.0022886181791970015,
          0.002126432638938946,
          0.002072370792186261,
          0.002018308945433576,
          0.002036329561017804,
          0.0018921646363439775,
          0.001513731709075182,
          0.0012794637064802133,
          0.0014416492467382686,
          0.0015858141714120955,
          0.0014957110934909537,
          0.0015317523246594104,
          0.0015497729402436386,
          0.0013335255532328984,
          0.0013875873999855835,
          0.0013515461688171269,
          0.00131550493764867,
          0.001261443090895985
         ]
        },
        {
         "line": {
          "color": "red"
         },
         "name": "infected",
         "type": "scatter",
         "x": [
          "2020-02-24T00:00:00",
          "2020-02-25T00:00:00",
          "2020-02-26T00:00:00",
          "2020-02-27T00:00:00",
          "2020-02-28T00:00:00",
          "2020-02-29T00:00:00",
          "2020-03-01T00:00:00",
          "2020-03-02T00:00:00",
          "2020-03-03T00:00:00",
          "2020-03-04T00:00:00",
          "2020-03-05T00:00:00",
          "2020-03-06T00:00:00",
          "2020-03-07T00:00:00",
          "2020-03-08T00:00:00",
          "2020-03-09T00:00:00",
          "2020-03-10T00:00:00",
          "2020-03-11T00:00:00",
          "2020-03-12T00:00:00",
          "2020-03-13T00:00:00",
          "2020-03-14T00:00:00",
          "2020-03-15T00:00:00",
          "2020-03-16T00:00:00",
          "2020-03-17T00:00:00",
          "2020-03-18T00:00:00",
          "2020-03-19T00:00:00",
          "2020-03-20T00:00:00",
          "2020-03-21T00:00:00",
          "2020-03-22T00:00:00",
          "2020-03-23T00:00:00",
          "2020-03-24T00:00:00",
          "2020-03-25T00:00:00",
          "2020-03-26T00:00:00",
          "2020-03-27T00:00:00",
          "2020-03-28T00:00:00",
          "2020-03-29T00:00:00",
          "2020-03-30T00:00:00",
          "2020-03-31T00:00:00",
          "2020-04-01T00:00:00",
          "2020-04-02T00:00:00",
          "2020-04-03T00:00:00",
          "2020-04-04T00:00:00",
          "2020-04-05T00:00:00",
          "2020-04-06T00:00:00",
          "2020-04-07T00:00:00",
          "2020-04-08T00:00:00",
          "2020-04-09T00:00:00",
          "2020-04-10T00:00:00",
          "2020-04-11T00:00:00",
          "2020-04-12T00:00:00",
          "2020-04-13T00:00:00",
          "2020-04-14T00:00:00",
          "2020-04-15T00:00:00",
          "2020-04-16T00:00:00",
          "2020-04-17T00:00:00",
          "2020-04-18T00:00:00",
          "2020-04-19T00:00:00",
          "2020-04-20T00:00:00",
          "2020-04-21T00:00:00",
          "2020-04-22T00:00:00",
          "2020-04-23T00:00:00",
          "2020-04-24T00:00:00",
          "2020-04-25T00:00:00",
          "2020-04-26T00:00:00",
          "2020-04-27T00:00:00",
          "2020-04-28T00:00:00",
          "2020-04-29T00:00:00",
          "2020-04-30T00:00:00",
          "2020-05-01T00:00:00",
          "2020-05-02T00:00:00",
          "2020-05-03T00:00:00",
          "2020-05-04T00:00:00",
          "2020-05-05T00:00:00",
          "2020-05-06T00:00:00",
          "2020-05-07T00:00:00",
          "2020-05-08T00:00:00",
          "2020-05-09T00:00:00",
          "2020-05-10T00:00:00",
          "2020-05-11T00:00:00",
          "2020-05-12T00:00:00",
          "2020-05-13T00:00:00",
          "2020-05-14T00:00:00",
          "2020-05-15T00:00:00",
          "2020-05-16T00:00:00",
          "2020-05-17T00:00:00",
          "2020-05-18T00:00:00",
          "2020-05-19T00:00:00",
          "2020-05-20T00:00:00",
          "2020-05-21T00:00:00",
          "2020-05-22T00:00:00",
          "2020-05-23T00:00:00",
          "2020-05-24T00:00:00",
          "2020-05-25T00:00:00",
          "2020-05-26T00:00:00",
          "2020-05-27T00:00:00",
          "2020-05-28T00:00:00",
          "2020-05-29T00:00:00",
          "2020-05-30T00:00:00",
          "2020-05-31T00:00:00",
          "2020-06-01T00:00:00",
          "2020-06-02T00:00:00",
          "2020-06-03T00:00:00",
          "2020-06-04T00:00:00",
          "2020-06-05T00:00:00",
          "2020-06-06T00:00:00",
          "2020-06-07T00:00:00",
          "2020-06-08T00:00:00",
          "2020-06-09T00:00:00",
          "2020-06-10T00:00:00",
          "2020-06-11T00:00:00",
          "2020-06-12T00:00:00",
          "2020-06-13T00:00:00",
          "2020-06-14T00:00:00",
          "2020-06-15T00:00:00",
          "2020-06-16T00:00:00",
          "2020-06-17T00:00:00",
          "2020-06-18T00:00:00",
          "2020-06-19T00:00:00",
          "2020-06-20T00:00:00",
          "2020-06-21T00:00:00",
          "2020-06-22T00:00:00",
          "2020-06-23T00:00:00",
          "2020-06-24T00:00:00",
          "2020-06-25T00:00:00",
          "2020-06-26T00:00:00",
          "2020-06-27T00:00:00",
          "2020-06-28T00:00:00",
          "2020-06-29T00:00:00",
          "2020-06-30T00:00:00",
          "2020-07-01T00:00:00",
          "2020-07-02T00:00:00",
          "2020-07-03T00:00:00",
          "2020-07-04T00:00:00",
          "2020-07-05T00:00:00",
          "2020-07-06T00:00:00",
          "2020-07-07T00:00:00",
          "2020-07-08T00:00:00",
          "2020-07-09T00:00:00",
          "2020-07-10T00:00:00",
          "2020-07-11T00:00:00",
          "2020-07-12T00:00:00",
          "2020-07-13T00:00:00",
          "2020-07-14T00:00:00",
          "2020-07-15T00:00:00",
          "2020-07-16T00:00:00",
          "2020-07-17T00:00:00",
          "2020-07-18T00:00:00",
          "2020-07-19T00:00:00",
          "2020-07-20T00:00:00",
          "2020-07-21T00:00:00",
          "2020-07-22T00:00:00",
          "2020-07-23T00:00:00",
          "2020-07-24T00:00:00",
          "2020-07-25T00:00:00",
          "2020-07-26T00:00:00",
          "2020-07-27T00:00:00",
          "2020-07-28T00:00:00",
          "2020-07-29T00:00:00",
          "2020-07-30T00:00:00",
          "2020-07-31T00:00:00",
          "2020-08-01T00:00:00",
          "2020-08-02T00:00:00",
          "2020-08-03T00:00:00",
          "2020-08-04T00:00:00",
          "2020-08-05T00:00:00",
          "2020-08-06T00:00:00",
          "2020-08-07T00:00:00",
          "2020-08-08T00:00:00",
          "2020-08-09T00:00:00",
          "2020-08-10T00:00:00",
          "2020-08-11T00:00:00",
          "2020-08-12T00:00:00",
          "2020-08-13T00:00:00",
          "2020-08-14T00:00:00",
          "2020-08-15T00:00:00",
          "2020-08-16T00:00:00",
          "2020-08-17T00:00:00",
          "2020-08-18T00:00:00",
          "2020-08-19T00:00:00",
          "2020-08-20T00:00:00",
          "2020-08-21T00:00:00",
          "2020-08-22T00:00:00",
          "2020-08-23T00:00:00",
          "2020-08-24T00:00:00",
          "2020-08-25T00:00:00",
          "2020-08-26T00:00:00",
          "2020-08-27T00:00:00",
          "2020-08-28T00:00:00",
          "2020-08-29T00:00:00",
          "2020-08-30T00:00:00",
          "2020-08-31T00:00:00",
          "2020-09-01T00:00:00",
          "2020-09-02T00:00:00",
          "2020-09-03T00:00:00",
          "2020-09-04T00:00:00",
          "2020-09-05T00:00:00",
          "2020-09-06T00:00:00",
          "2020-09-07T00:00:00",
          "2020-09-08T00:00:00",
          "2020-09-09T00:00:00",
          "2020-09-10T00:00:00"
         ],
         "y": [
          0,
          1.8020615584228357e-05,
          3.6041231168456714e-05,
          5.4061846752685075e-05,
          0.0001261443090895985,
          0.00019822677142651194,
          0.00032437108051611044,
          0.0004144741584372522,
          0.00048655662077416565,
          0.0005406184675268508,
          0.0005946803142795358,
          0.0007388452389533626,
          0.0008109277012902761,
          0.0010271750883010164,
          0.0010992575506379298,
          0.0012073812441433,
          0.00131550493764867,
          0.0014416492467382686,
          0.0017479997116701506,
          0.002018308945433576,
          0.002162473870107403,
          0.0025409067973761984,
          0.0029373603402292224,
          0.0032437108051611044,
          0.003676205579182585,
          0.0040005766596986955,
          0.0044330714337201755,
          0.005081813594752397,
          0.005550349599942334,
          0.005910761911626901,
          0.006397318532401067,
          0.0069018957687594605,
          0.0070821019246017445,
          0.007100122540185973,
          0.007766885316802422,
          0.008199380090823903,
          0.008433648093418872,
          0.008703957327182297,
          0.008721977942766525,
          0.008794060405103438,
          0.0084516687090031,
          0.008685936711598069,
          0.009082390254451091,
          0.00920853456354069,
          0.00944280256613566,
          0.0095329056440568,
          0.009550926259641029,
          0.009677070568730628,
          0.00998342103366251,
          0.010127585958336337,
          0.010271750883010163,
          0.01052403950118936,
          0.01054206011677359,
          0.010848410581705471,
          0.011064657968716212,
          0.011334967202479637,
          0.01140704966481655,
          0.011731420745332661,
          0.011533193973906149,
          0.011280905355726952,
          0.011461111511569234,
          0.011479132127153464,
          0.011497152742737693,
          0.01196568874792763,
          0.012398183521949109,
          0.012344121675196424,
          0.012001729979096086,
          0.012308080444027968,
          0.012524327831038708,
          0.012452245368701795,
          0.012542348446622937,
          0.012758595833633677,
          0.012650472140128306,
          0.01261443090895985,
          0.01283067829597059,
          0.012668492755712536,
          0.012596410293375621,
          0.012578389677791393,
          0.012920781373891733,
          0.012902760758307505,
          0.012452245368701795,
          0.011875585670006487,
          0.012398183521949109,
          0.012416204137533337,
          0.012452245368701795,
          0.012776616449217905,
          0.012992863836228646,
          0.012866719527139046,
          0.013281193685576299,
          0.01360556476609241,
          0.013641605997260867,
          0.014200245080371945,
          0.01414618323361926,
          0.014758884163483024,
          0.016272615872558207,
          0.017822388812801845,
          0.019173934981618974,
          0.02072370792186261,
          0.02247170763353276,
          0.023841274417934117,
          0.02596770705687306,
          0.028851005550349598,
          0.03049088156851438,
          0.0327254379009587,
          0.03586102501261443,
          0.03841995242557486,
          0.04103294168528797,
          0.044132487565775244,
          0.046349023282635335,
          0.049610754703380666,
          0.05242197073452029,
          0.05593599077344482,
          0.05919772219419015,
          0.06139623729546601,
          0.06316225762272039,
          0.06550493764867008,
          0.06779355582786709,
          0.07065883370575939,
          0.07347004973689901,
          0.07588481222518562,
          0.07759677070568731,
          0.07756072947451885,
          0.07869602825632524,
          0.08029986304332155,
          0.08170547105889137,
          0.0819757802926548,
          0.08278670799394508,
          0.0826785843004397,
          0.08294889353420312,
          0.08271462553160816,
          0.08193973906148634,
          0.0804440279679954,
          0.07947091472644706,
          0.07902039933684135,
          0.07781301809269804,
          0.07579470914726447,
          0.07381244143299935,
          0.07265912203560873,
          0.07026238016290637,
          0.06766741151877748,
          0.06591941180710734,
          0.06346860808765227,
          0.06058530959417574,
          0.05802638218121531,
          0.056116196929287106,
          0.053665393209832046,
          0.05099834210336625,
          0.048547538383911196,
          0.04647516759172493,
          0.04404238448785411,
          0.04142939522814099,
          0.038780364737259425,
          0.037140488719094644,
          0.03535644777625604,
          0.033428241908743606,
          0.031770345274994595,
          0.030364737259424783,
          0.02874288185684423,
          0.026021768903625748,
          0.024399913501045197,
          0.023336697181575723,
          0.021750883010163626,
          0.020543501766020326,
          0.0193180999062928,
          0.01809269804656527,
          0.016939378649174656,
          0.01591220356087364,
          0.015227420168672961,
          0.014128162618035033,
          0.012992863836228646,
          0.012542348446622937,
          0.011875585670006487,
          0.011280905355726952,
          0.010451957038852447,
          0.009586967490809487,
          0.008884163483024581,
          0.008055215166150076,
          0.007442514236286312,
          0.006811792690838319,
          0.006577524688243351,
          0.006090968067469185,
          0.005550349599942334,
          0.00526201975059468,
          0.005117854825920853,
          0.004901607438910113,
          0.004667339436315144,
          0.00416276219995675,
          0.0038564117350248684,
          0.0036221437324298997,
          0.0036041231168456715,
          0.003459958192171845,
          0.0032437108051611044,
          0.003081525264903049,
          0.0028832984934765373,
          0.0025949686441288835,
          0.002432783103870828,
          0.002378721257118143,
          0.0022886181791970015,
          0.0022345563324443164,
          0.0022886181791970015
         ]
        },
        {
         "line": {
          "color": "purple"
         },
         "name": "hospitalized",
         "type": "scatter",
         "x": [
          "2020-02-24T00:00:00",
          "2020-02-25T00:00:00",
          "2020-02-26T00:00:00",
          "2020-02-27T00:00:00",
          "2020-02-28T00:00:00",
          "2020-02-29T00:00:00",
          "2020-03-01T00:00:00",
          "2020-03-02T00:00:00",
          "2020-03-03T00:00:00",
          "2020-03-04T00:00:00",
          "2020-03-05T00:00:00",
          "2020-03-06T00:00:00",
          "2020-03-07T00:00:00",
          "2020-03-08T00:00:00",
          "2020-03-09T00:00:00",
          "2020-03-10T00:00:00",
          "2020-03-11T00:00:00",
          "2020-03-12T00:00:00",
          "2020-03-13T00:00:00",
          "2020-03-14T00:00:00",
          "2020-03-15T00:00:00",
          "2020-03-16T00:00:00",
          "2020-03-17T00:00:00",
          "2020-03-18T00:00:00",
          "2020-03-19T00:00:00",
          "2020-03-20T00:00:00",
          "2020-03-21T00:00:00",
          "2020-03-22T00:00:00",
          "2020-03-23T00:00:00",
          "2020-03-24T00:00:00",
          "2020-03-25T00:00:00",
          "2020-03-26T00:00:00",
          "2020-03-27T00:00:00",
          "2020-03-28T00:00:00",
          "2020-03-29T00:00:00",
          "2020-03-30T00:00:00",
          "2020-03-31T00:00:00",
          "2020-04-01T00:00:00",
          "2020-04-02T00:00:00",
          "2020-04-03T00:00:00",
          "2020-04-04T00:00:00",
          "2020-04-05T00:00:00",
          "2020-04-06T00:00:00",
          "2020-04-07T00:00:00",
          "2020-04-08T00:00:00",
          "2020-04-09T00:00:00",
          "2020-04-10T00:00:00",
          "2020-04-11T00:00:00",
          "2020-04-12T00:00:00",
          "2020-04-13T00:00:00",
          "2020-04-14T00:00:00",
          "2020-04-15T00:00:00",
          "2020-04-16T00:00:00",
          "2020-04-17T00:00:00",
          "2020-04-18T00:00:00",
          "2020-04-19T00:00:00",
          "2020-04-20T00:00:00",
          "2020-04-21T00:00:00",
          "2020-04-22T00:00:00",
          "2020-04-23T00:00:00",
          "2020-04-24T00:00:00",
          "2020-04-25T00:00:00",
          "2020-04-26T00:00:00",
          "2020-04-27T00:00:00",
          "2020-04-28T00:00:00",
          "2020-04-29T00:00:00",
          "2020-04-30T00:00:00",
          "2020-05-01T00:00:00",
          "2020-05-02T00:00:00",
          "2020-05-03T00:00:00",
          "2020-05-04T00:00:00",
          "2020-05-05T00:00:00",
          "2020-05-06T00:00:00",
          "2020-05-07T00:00:00",
          "2020-05-08T00:00:00",
          "2020-05-09T00:00:00",
          "2020-05-10T00:00:00",
          "2020-05-11T00:00:00",
          "2020-05-12T00:00:00",
          "2020-05-13T00:00:00",
          "2020-05-14T00:00:00",
          "2020-05-15T00:00:00",
          "2020-05-16T00:00:00",
          "2020-05-17T00:00:00",
          "2020-05-18T00:00:00",
          "2020-05-19T00:00:00",
          "2020-05-20T00:00:00",
          "2020-05-21T00:00:00",
          "2020-05-22T00:00:00",
          "2020-05-23T00:00:00",
          "2020-05-24T00:00:00",
          "2020-05-25T00:00:00",
          "2020-05-26T00:00:00",
          "2020-05-27T00:00:00",
          "2020-05-28T00:00:00",
          "2020-05-29T00:00:00",
          "2020-05-30T00:00:00",
          "2020-05-31T00:00:00",
          "2020-06-01T00:00:00",
          "2020-06-02T00:00:00",
          "2020-06-03T00:00:00",
          "2020-06-04T00:00:00",
          "2020-06-05T00:00:00",
          "2020-06-06T00:00:00",
          "2020-06-07T00:00:00",
          "2020-06-08T00:00:00",
          "2020-06-09T00:00:00",
          "2020-06-10T00:00:00",
          "2020-06-11T00:00:00",
          "2020-06-12T00:00:00",
          "2020-06-13T00:00:00",
          "2020-06-14T00:00:00",
          "2020-06-15T00:00:00",
          "2020-06-16T00:00:00",
          "2020-06-17T00:00:00",
          "2020-06-18T00:00:00",
          "2020-06-19T00:00:00",
          "2020-06-20T00:00:00",
          "2020-06-21T00:00:00",
          "2020-06-22T00:00:00",
          "2020-06-23T00:00:00",
          "2020-06-24T00:00:00",
          "2020-06-25T00:00:00",
          "2020-06-26T00:00:00",
          "2020-06-27T00:00:00",
          "2020-06-28T00:00:00",
          "2020-06-29T00:00:00",
          "2020-06-30T00:00:00",
          "2020-07-01T00:00:00",
          "2020-07-02T00:00:00",
          "2020-07-03T00:00:00",
          "2020-07-04T00:00:00",
          "2020-07-05T00:00:00",
          "2020-07-06T00:00:00",
          "2020-07-07T00:00:00",
          "2020-07-08T00:00:00",
          "2020-07-09T00:00:00",
          "2020-07-10T00:00:00",
          "2020-07-11T00:00:00",
          "2020-07-12T00:00:00",
          "2020-07-13T00:00:00",
          "2020-07-14T00:00:00",
          "2020-07-15T00:00:00",
          "2020-07-16T00:00:00",
          "2020-07-17T00:00:00",
          "2020-07-18T00:00:00",
          "2020-07-19T00:00:00",
          "2020-07-20T00:00:00",
          "2020-07-21T00:00:00",
          "2020-07-22T00:00:00",
          "2020-07-23T00:00:00",
          "2020-07-24T00:00:00",
          "2020-07-25T00:00:00",
          "2020-07-26T00:00:00",
          "2020-07-27T00:00:00",
          "2020-07-28T00:00:00",
          "2020-07-29T00:00:00",
          "2020-07-30T00:00:00",
          "2020-07-31T00:00:00",
          "2020-08-01T00:00:00",
          "2020-08-02T00:00:00",
          "2020-08-03T00:00:00",
          "2020-08-04T00:00:00",
          "2020-08-05T00:00:00",
          "2020-08-06T00:00:00",
          "2020-08-07T00:00:00",
          "2020-08-08T00:00:00",
          "2020-08-09T00:00:00",
          "2020-08-10T00:00:00",
          "2020-08-11T00:00:00",
          "2020-08-12T00:00:00",
          "2020-08-13T00:00:00",
          "2020-08-14T00:00:00",
          "2020-08-15T00:00:00",
          "2020-08-16T00:00:00",
          "2020-08-17T00:00:00",
          "2020-08-18T00:00:00",
          "2020-08-19T00:00:00",
          "2020-08-20T00:00:00",
          "2020-08-21T00:00:00",
          "2020-08-22T00:00:00",
          "2020-08-23T00:00:00",
          "2020-08-24T00:00:00",
          "2020-08-25T00:00:00",
          "2020-08-26T00:00:00",
          "2020-08-27T00:00:00",
          "2020-08-28T00:00:00",
          "2020-08-29T00:00:00",
          "2020-08-30T00:00:00",
          "2020-08-31T00:00:00",
          "2020-09-01T00:00:00",
          "2020-09-02T00:00:00",
          "2020-09-03T00:00:00",
          "2020-09-04T00:00:00",
          "2020-09-05T00:00:00",
          "2020-09-06T00:00:00",
          "2020-09-07T00:00:00",
          "2020-09-08T00:00:00",
          "2020-09-09T00:00:00",
          "2020-09-10T00:00:00"
         ],
         "y": [
          0,
          0,
          0,
          0,
          0,
          0,
          0,
          1.8020615584228357e-05,
          1.8020615584228357e-05,
          0,
          0,
          1.8020615584228357e-05,
          1.8020615584228357e-05,
          1.8020615584228357e-05,
          3.6041231168456714e-05,
          3.6041231168456714e-05,
          3.6041231168456714e-05,
          1.8020615584228357e-05,
          1.8020615584228357e-05,
          1.8020615584228357e-05,
          3.6041231168456714e-05,
          3.6041231168456714e-05,
          5.4061846752685075e-05,
          0.00010812369350537015,
          0.0001261443090895985,
          0.00014416492467382686,
          0.00014416492467382686,
          0.00018020615584228358,
          0.00023426800259496863,
          0.00030635046493188205,
          0.0002883298493476537,
          0.0002883298493476537,
          0.0002883298493476537,
          0.000252288618179197,
          0.0002703092337634254,
          0.000252288618179197,
          0.000252288618179197,
          0.0002883298493476537,
          0.0003784329272687955,
          0.0004144741584372522,
          0.0005225978519426223,
          0.0006127009298637641,
          0.0005946803142795358,
          0.0005766596986953074,
          0.0006487421610322209,
          0.0006307215454479925,
          0.000756865854537591,
          0.0008109277012902761,
          0.0007388452389533626,
          0.000756865854537591,
          0.0007748864701218193,
          0.0007748864701218193,
          0.000756865854537591,
          0.0007748864701218193,
          0.0008109277012902761,
          0.0008469689324587328,
          0.0008289483168745044,
          0.0008469689324587328,
          0.0008469689324587328,
          0.0008109277012902761,
          0.000955092625964103,
          0.001063216319469473,
          0.0010271750883010164,
          0.0010992575506379298,
          0.0010451957038852446,
          0.0010992575506379298,
          0.0011352987818063864,
          0.0012794637064802133,
          0.0012974843220644417,
          0.0012254018597275282,
          0.001063216319469473,
          0.001009154472716788,
          0.0011352987818063864,
          0.0011533193973906149,
          0.0011352987818063864,
          0.0009731132415483313,
          0.0009731132415483313,
          0.0010451957038852446,
          0.000955092625964103,
          0.0009370720103798745,
          0.0009190513947956462,
          0.000955092625964103,
          0.001009154472716788,
          0.0010451957038852446,
          0.0010992575506379298,
          0.0010812369350537015,
          0.0011893606285590715,
          0.0012073812441433,
          0.0011352987818063864,
          0.001063216319469473,
          0.001009154472716788,
          0.001009154472716788,
          0.0011172781662221582,
          0.0011893606285590715,
          0.0012073812441433,
          0.0013515461688171269,
          0.0012794637064802133,
          0.0012974843220644417,
          0.001405608015569812,
          0.0014596698623224969,
          0.001513731709075182,
          0.001567793555827867,
          0.001567793555827867,
          0.0015858141714120955,
          0.0016398760181647804,
          0.0016398760181647804,
          0.0018381027895912924,
          0.001910185251928206,
          0.001910185251928206,
          0.0019822677142651195,
          0.0022886181791970015,
          0.0024508037194550564,
          0.0026490304908815686,
          0.0027931954155553953,
          0.0029193397246449937,
          0.003027463418150364,
          0.0031536077272399624,
          0.0032617314207453326,
          0.0032977726519137895,
          0.0035680818856772146,
          0.003928494197361782,
          0.0040906797376198374,
          0.004198803431125208,
          0.004180782815540979,
          0.004379009586967491,
          0.0045231745116413175,
          0.004685360051899373,
          0.004847545592157428,
          0.005189937288257767,
          0.005243999135010452,
          0.00537014344410005,
          0.005694514524616161,
          0.005910761911626901,
          0.006054926836300728,
          0.00636127730123261,
          0.006667627766164492,
          0.006595545303827579,
          0.006451380379153752,
          0.006433359763569523,
          0.006577524688243351,
          0.006613565919411807,
          0.006487421610322209,
          0.006505442225906437,
          0.006343256685648382,
          0.006181071145390326,
          0.006072947451884956,
          0.005874720680458445,
          0.005964823758379586,
          0.005874720680458445,
          0.005748576371368846,
          0.005424205290852736,
          0.005298060981763137,
          0.005117854825920853,
          0.004757442514236286,
          0.004631298205146688,
          0.004487133280472861,
          0.004126720968788294,
          0.004108700353204066,
          0.004108700353204066,
          0.00394651481294601,
          0.0036041231168456715,
          0.003387875729834931,
          0.003135587111655734,
          0.003117566496071506,
          0.0029373603402292224,
          0.0027030923376342537,
          0.00263100987529734,
          0.002432783103870828,
          0.0023967418727023717,
          0.0021444532545231744,
          0.0019282058675124342,
          0.0019282058675124342,
          0.0018381027895912924,
          0.001711958480501694,
          0.0016939378649174655,
          0.001513731709075182,
          0.00131550493764867,
          0.0012974843220644417,
          0.0011893606285590715,
          0.0010992575506379298,
          0.0010271750883010164,
          0.000955092625964103,
          0.0008649895480429612,
          0.0008109277012902761,
          0.000702804007784906,
          0.0006667627766164492,
          0.0006307215454479925,
          0.0005586390831110791,
          0.0005406184675268508,
          0.00045051538960570893,
          0.0004324947740214806,
          0.0004144741584372522,
          0.0003784329272687955,
          0.0004324947740214806,
          0.00045051538960570893,
          0.00046853600518993727,
          0.00046853600518993727,
          0.0004324947740214806,
          0.0004144741584372522,
          0.0004324947740214806
         ]
        }
       ],
       "layout": {
        "hovermode": "x",
        "template": {
         "data": {
          "bar": [
           {
            "error_x": {
             "color": "#2a3f5f"
            },
            "error_y": {
             "color": "#2a3f5f"
            },
            "marker": {
             "line": {
              "color": "#E5ECF6",
              "width": 0.5
             }
            },
            "type": "bar"
           }
          ],
          "barpolar": [
           {
            "marker": {
             "line": {
              "color": "#E5ECF6",
              "width": 0.5
             }
            },
            "type": "barpolar"
           }
          ],
          "carpet": [
           {
            "aaxis": {
             "endlinecolor": "#2a3f5f",
             "gridcolor": "white",
             "linecolor": "white",
             "minorgridcolor": "white",
             "startlinecolor": "#2a3f5f"
            },
            "baxis": {
             "endlinecolor": "#2a3f5f",
             "gridcolor": "white",
             "linecolor": "white",
             "minorgridcolor": "white",
             "startlinecolor": "#2a3f5f"
            },
            "type": "carpet"
           }
          ],
          "choropleth": [
           {
            "colorbar": {
             "outlinewidth": 0,
             "ticks": ""
            },
            "type": "choropleth"
           }
          ],
          "contour": [
           {
            "colorbar": {
             "outlinewidth": 0,
             "ticks": ""
            },
            "colorscale": [
             [
              0,
              "#0d0887"
             ],
             [
              0.1111111111111111,
              "#46039f"
             ],
             [
              0.2222222222222222,
              "#7201a8"
             ],
             [
              0.3333333333333333,
              "#9c179e"
             ],
             [
              0.4444444444444444,
              "#bd3786"
             ],
             [
              0.5555555555555556,
              "#d8576b"
             ],
             [
              0.6666666666666666,
              "#ed7953"
             ],
             [
              0.7777777777777778,
              "#fb9f3a"
             ],
             [
              0.8888888888888888,
              "#fdca26"
             ],
             [
              1,
              "#f0f921"
             ]
            ],
            "type": "contour"
           }
          ],
          "contourcarpet": [
           {
            "colorbar": {
             "outlinewidth": 0,
             "ticks": ""
            },
            "type": "contourcarpet"
           }
          ],
          "heatmap": [
           {
            "colorbar": {
             "outlinewidth": 0,
             "ticks": ""
            },
            "colorscale": [
             [
              0,
              "#0d0887"
             ],
             [
              0.1111111111111111,
              "#46039f"
             ],
             [
              0.2222222222222222,
              "#7201a8"
             ],
             [
              0.3333333333333333,
              "#9c179e"
             ],
             [
              0.4444444444444444,
              "#bd3786"
             ],
             [
              0.5555555555555556,
              "#d8576b"
             ],
             [
              0.6666666666666666,
              "#ed7953"
             ],
             [
              0.7777777777777778,
              "#fb9f3a"
             ],
             [
              0.8888888888888888,
              "#fdca26"
             ],
             [
              1,
              "#f0f921"
             ]
            ],
            "type": "heatmap"
           }
          ],
          "heatmapgl": [
           {
            "colorbar": {
             "outlinewidth": 0,
             "ticks": ""
            },
            "colorscale": [
             [
              0,
              "#0d0887"
             ],
             [
              0.1111111111111111,
              "#46039f"
             ],
             [
              0.2222222222222222,
              "#7201a8"
             ],
             [
              0.3333333333333333,
              "#9c179e"
             ],
             [
              0.4444444444444444,
              "#bd3786"
             ],
             [
              0.5555555555555556,
              "#d8576b"
             ],
             [
              0.6666666666666666,
              "#ed7953"
             ],
             [
              0.7777777777777778,
              "#fb9f3a"
             ],
             [
              0.8888888888888888,
              "#fdca26"
             ],
             [
              1,
              "#f0f921"
             ]
            ],
            "type": "heatmapgl"
           }
          ],
          "histogram": [
           {
            "marker": {
             "colorbar": {
              "outlinewidth": 0,
              "ticks": ""
             }
            },
            "type": "histogram"
           }
          ],
          "histogram2d": [
           {
            "colorbar": {
             "outlinewidth": 0,
             "ticks": ""
            },
            "colorscale": [
             [
              0,
              "#0d0887"
             ],
             [
              0.1111111111111111,
              "#46039f"
             ],
             [
              0.2222222222222222,
              "#7201a8"
             ],
             [
              0.3333333333333333,
              "#9c179e"
             ],
             [
              0.4444444444444444,
              "#bd3786"
             ],
             [
              0.5555555555555556,
              "#d8576b"
             ],
             [
              0.6666666666666666,
              "#ed7953"
             ],
             [
              0.7777777777777778,
              "#fb9f3a"
             ],
             [
              0.8888888888888888,
              "#fdca26"
             ],
             [
              1,
              "#f0f921"
             ]
            ],
            "type": "histogram2d"
           }
          ],
          "histogram2dcontour": [
           {
            "colorbar": {
             "outlinewidth": 0,
             "ticks": ""
            },
            "colorscale": [
             [
              0,
              "#0d0887"
             ],
             [
              0.1111111111111111,
              "#46039f"
             ],
             [
              0.2222222222222222,
              "#7201a8"
             ],
             [
              0.3333333333333333,
              "#9c179e"
             ],
             [
              0.4444444444444444,
              "#bd3786"
             ],
             [
              0.5555555555555556,
              "#d8576b"
             ],
             [
              0.6666666666666666,
              "#ed7953"
             ],
             [
              0.7777777777777778,
              "#fb9f3a"
             ],
             [
              0.8888888888888888,
              "#fdca26"
             ],
             [
              1,
              "#f0f921"
             ]
            ],
            "type": "histogram2dcontour"
           }
          ],
          "mesh3d": [
           {
            "colorbar": {
             "outlinewidth": 0,
             "ticks": ""
            },
            "type": "mesh3d"
           }
          ],
          "parcoords": [
           {
            "line": {
             "colorbar": {
              "outlinewidth": 0,
              "ticks": ""
             }
            },
            "type": "parcoords"
           }
          ],
          "pie": [
           {
            "automargin": true,
            "type": "pie"
           }
          ],
          "scatter": [
           {
            "marker": {
             "colorbar": {
              "outlinewidth": 0,
              "ticks": ""
             }
            },
            "type": "scatter"
           }
          ],
          "scatter3d": [
           {
            "line": {
             "colorbar": {
              "outlinewidth": 0,
              "ticks": ""
             }
            },
            "marker": {
             "colorbar": {
              "outlinewidth": 0,
              "ticks": ""
             }
            },
            "type": "scatter3d"
           }
          ],
          "scattercarpet": [
           {
            "marker": {
             "colorbar": {
              "outlinewidth": 0,
              "ticks": ""
             }
            },
            "type": "scattercarpet"
           }
          ],
          "scattergeo": [
           {
            "marker": {
             "colorbar": {
              "outlinewidth": 0,
              "ticks": ""
             }
            },
            "type": "scattergeo"
           }
          ],
          "scattergl": [
           {
            "marker": {
             "colorbar": {
              "outlinewidth": 0,
              "ticks": ""
             }
            },
            "type": "scattergl"
           }
          ],
          "scattermapbox": [
           {
            "marker": {
             "colorbar": {
              "outlinewidth": 0,
              "ticks": ""
             }
            },
            "type": "scattermapbox"
           }
          ],
          "scatterpolar": [
           {
            "marker": {
             "colorbar": {
              "outlinewidth": 0,
              "ticks": ""
             }
            },
            "type": "scatterpolar"
           }
          ],
          "scatterpolargl": [
           {
            "marker": {
             "colorbar": {
              "outlinewidth": 0,
              "ticks": ""
             }
            },
            "type": "scatterpolargl"
           }
          ],
          "scatterternary": [
           {
            "marker": {
             "colorbar": {
              "outlinewidth": 0,
              "ticks": ""
             }
            },
            "type": "scatterternary"
           }
          ],
          "surface": [
           {
            "colorbar": {
             "outlinewidth": 0,
             "ticks": ""
            },
            "colorscale": [
             [
              0,
              "#0d0887"
             ],
             [
              0.1111111111111111,
              "#46039f"
             ],
             [
              0.2222222222222222,
              "#7201a8"
             ],
             [
              0.3333333333333333,
              "#9c179e"
             ],
             [
              0.4444444444444444,
              "#bd3786"
             ],
             [
              0.5555555555555556,
              "#d8576b"
             ],
             [
              0.6666666666666666,
              "#ed7953"
             ],
             [
              0.7777777777777778,
              "#fb9f3a"
             ],
             [
              0.8888888888888888,
              "#fdca26"
             ],
             [
              1,
              "#f0f921"
             ]
            ],
            "type": "surface"
           }
          ],
          "table": [
           {
            "cells": {
             "fill": {
              "color": "#EBF0F8"
             },
             "line": {
              "color": "white"
             }
            },
            "header": {
             "fill": {
              "color": "#C8D4E3"
             },
             "line": {
              "color": "white"
             }
            },
            "type": "table"
           }
          ]
         },
         "layout": {
          "annotationdefaults": {
           "arrowcolor": "#2a3f5f",
           "arrowhead": 0,
           "arrowwidth": 1
          },
          "coloraxis": {
           "colorbar": {
            "outlinewidth": 0,
            "ticks": ""
           }
          },
          "colorscale": {
           "diverging": [
            [
             0,
             "#8e0152"
            ],
            [
             0.1,
             "#c51b7d"
            ],
            [
             0.2,
             "#de77ae"
            ],
            [
             0.3,
             "#f1b6da"
            ],
            [
             0.4,
             "#fde0ef"
            ],
            [
             0.5,
             "#f7f7f7"
            ],
            [
             0.6,
             "#e6f5d0"
            ],
            [
             0.7,
             "#b8e186"
            ],
            [
             0.8,
             "#7fbc41"
            ],
            [
             0.9,
             "#4d9221"
            ],
            [
             1,
             "#276419"
            ]
           ],
           "sequential": [
            [
             0,
             "#0d0887"
            ],
            [
             0.1111111111111111,
             "#46039f"
            ],
            [
             0.2222222222222222,
             "#7201a8"
            ],
            [
             0.3333333333333333,
             "#9c179e"
            ],
            [
             0.4444444444444444,
             "#bd3786"
            ],
            [
             0.5555555555555556,
             "#d8576b"
            ],
            [
             0.6666666666666666,
             "#ed7953"
            ],
            [
             0.7777777777777778,
             "#fb9f3a"
            ],
            [
             0.8888888888888888,
             "#fdca26"
            ],
            [
             1,
             "#f0f921"
            ]
           ],
           "sequentialminus": [
            [
             0,
             "#0d0887"
            ],
            [
             0.1111111111111111,
             "#46039f"
            ],
            [
             0.2222222222222222,
             "#7201a8"
            ],
            [
             0.3333333333333333,
             "#9c179e"
            ],
            [
             0.4444444444444444,
             "#bd3786"
            ],
            [
             0.5555555555555556,
             "#d8576b"
            ],
            [
             0.6666666666666666,
             "#ed7953"
            ],
            [
             0.7777777777777778,
             "#fb9f3a"
            ],
            [
             0.8888888888888888,
             "#fdca26"
            ],
            [
             1,
             "#f0f921"
            ]
           ]
          },
          "colorway": [
           "#636efa",
           "#EF553B",
           "#00cc96",
           "#ab63fa",
           "#FFA15A",
           "#19d3f3",
           "#FF6692",
           "#B6E880",
           "#FF97FF",
           "#FECB52"
          ],
          "font": {
           "color": "#2a3f5f"
          },
          "geo": {
           "bgcolor": "white",
           "lakecolor": "white",
           "landcolor": "#E5ECF6",
           "showlakes": true,
           "showland": true,
           "subunitcolor": "white"
          },
          "hoverlabel": {
           "align": "left"
          },
          "hovermode": "closest",
          "mapbox": {
           "style": "light"
          },
          "paper_bgcolor": "white",
          "plot_bgcolor": "#E5ECF6",
          "polar": {
           "angularaxis": {
            "gridcolor": "white",
            "linecolor": "white",
            "ticks": ""
           },
           "bgcolor": "#E5ECF6",
           "radialaxis": {
            "gridcolor": "white",
            "linecolor": "white",
            "ticks": ""
           }
          },
          "scene": {
           "xaxis": {
            "backgroundcolor": "#E5ECF6",
            "gridcolor": "white",
            "gridwidth": 2,
            "linecolor": "white",
            "showbackground": true,
            "ticks": "",
            "zerolinecolor": "white"
           },
           "yaxis": {
            "backgroundcolor": "#E5ECF6",
            "gridcolor": "white",
            "gridwidth": 2,
            "linecolor": "white",
            "showbackground": true,
            "ticks": "",
            "zerolinecolor": "white"
           },
           "zaxis": {
            "backgroundcolor": "#E5ECF6",
            "gridcolor": "white",
            "gridwidth": 2,
            "linecolor": "white",
            "showbackground": true,
            "ticks": "",
            "zerolinecolor": "white"
           }
          },
          "shapedefaults": {
           "line": {
            "color": "#2a3f5f"
           }
          },
          "ternary": {
           "aaxis": {
            "gridcolor": "white",
            "linecolor": "white",
            "ticks": ""
           },
           "baxis": {
            "gridcolor": "white",
            "linecolor": "white",
            "ticks": ""
           },
           "bgcolor": "#E5ECF6",
           "caxis": {
            "gridcolor": "white",
            "linecolor": "white",
            "ticks": ""
           }
          },
          "title": {
           "x": 0.05
          },
          "xaxis": {
           "automargin": true,
           "gridcolor": "white",
           "linecolor": "white",
           "ticks": "",
           "title": {
            "standoff": 15
           },
           "zerolinecolor": "white",
           "zerolinewidth": 2
          },
          "yaxis": {
           "automargin": true,
           "gridcolor": "white",
           "linecolor": "white",
           "ticks": "",
           "title": {
            "standoff": 15
           },
           "zerolinecolor": "white",
           "zerolinewidth": 2
          }
         }
        }
       }
      },
      "text/html": [
       "<div>\n",
       "        \n",
       "        \n",
       "            <div id=\"60f57133-1370-431a-97dd-89a550415256\" class=\"plotly-graph-div\" style=\"height:525px; width:100%;\"></div>\n",
       "            <script type=\"text/javascript\">\n",
       "                require([\"plotly\"], function(Plotly) {\n",
       "                    window.PLOTLYENV=window.PLOTLYENV || {};\n",
       "                    \n",
       "                if (document.getElementById(\"60f57133-1370-431a-97dd-89a550415256\")) {\n",
       "                    Plotly.newPlot(\n",
       "                        '60f57133-1370-431a-97dd-89a550415256',\n",
       "                        [{\"line\": {\"color\": \"green\"}, \"name\": \"removed\", \"type\": \"scatter\", \"x\": [\"2020-02-24T00:00:00\", \"2020-02-25T00:00:00\", \"2020-02-26T00:00:00\", \"2020-02-27T00:00:00\", \"2020-02-28T00:00:00\", \"2020-02-29T00:00:00\", \"2020-03-01T00:00:00\", \"2020-03-02T00:00:00\", \"2020-03-03T00:00:00\", \"2020-03-04T00:00:00\", \"2020-03-05T00:00:00\", \"2020-03-06T00:00:00\", \"2020-03-07T00:00:00\", \"2020-03-08T00:00:00\", \"2020-03-09T00:00:00\", \"2020-03-10T00:00:00\", \"2020-03-11T00:00:00\", \"2020-03-12T00:00:00\", \"2020-03-13T00:00:00\", \"2020-03-14T00:00:00\", \"2020-03-15T00:00:00\", \"2020-03-16T00:00:00\", \"2020-03-17T00:00:00\", \"2020-03-18T00:00:00\", \"2020-03-19T00:00:00\", \"2020-03-20T00:00:00\", \"2020-03-21T00:00:00\", \"2020-03-22T00:00:00\", \"2020-03-23T00:00:00\", \"2020-03-24T00:00:00\", \"2020-03-25T00:00:00\", \"2020-03-26T00:00:00\", \"2020-03-27T00:00:00\", \"2020-03-28T00:00:00\", \"2020-03-29T00:00:00\", \"2020-03-30T00:00:00\", \"2020-03-31T00:00:00\", \"2020-04-01T00:00:00\", \"2020-04-02T00:00:00\", \"2020-04-03T00:00:00\", \"2020-04-04T00:00:00\", \"2020-04-05T00:00:00\", \"2020-04-06T00:00:00\", \"2020-04-07T00:00:00\", \"2020-04-08T00:00:00\", \"2020-04-09T00:00:00\", \"2020-04-10T00:00:00\", \"2020-04-11T00:00:00\", \"2020-04-12T00:00:00\", \"2020-04-13T00:00:00\", \"2020-04-14T00:00:00\", \"2020-04-15T00:00:00\", \"2020-04-16T00:00:00\", \"2020-04-17T00:00:00\", \"2020-04-18T00:00:00\", \"2020-04-19T00:00:00\", \"2020-04-20T00:00:00\", \"2020-04-21T00:00:00\", \"2020-04-22T00:00:00\", \"2020-04-23T00:00:00\", \"2020-04-24T00:00:00\", \"2020-04-25T00:00:00\", \"2020-04-26T00:00:00\", \"2020-04-27T00:00:00\", \"2020-04-28T00:00:00\", \"2020-04-29T00:00:00\", \"2020-04-30T00:00:00\", \"2020-05-01T00:00:00\", \"2020-05-02T00:00:00\", \"2020-05-03T00:00:00\", \"2020-05-04T00:00:00\", \"2020-05-05T00:00:00\", \"2020-05-06T00:00:00\", \"2020-05-07T00:00:00\", \"2020-05-08T00:00:00\", \"2020-05-09T00:00:00\", \"2020-05-10T00:00:00\", \"2020-05-11T00:00:00\", \"2020-05-12T00:00:00\", \"2020-05-13T00:00:00\", \"2020-05-14T00:00:00\", \"2020-05-15T00:00:00\", \"2020-05-16T00:00:00\", \"2020-05-17T00:00:00\", \"2020-05-18T00:00:00\", \"2020-05-19T00:00:00\", \"2020-05-20T00:00:00\", \"2020-05-21T00:00:00\", \"2020-05-22T00:00:00\", \"2020-05-23T00:00:00\", \"2020-05-24T00:00:00\", \"2020-05-25T00:00:00\", \"2020-05-26T00:00:00\", \"2020-05-27T00:00:00\", \"2020-05-28T00:00:00\", \"2020-05-29T00:00:00\", \"2020-05-30T00:00:00\", \"2020-05-31T00:00:00\", \"2020-06-01T00:00:00\", \"2020-06-02T00:00:00\", \"2020-06-03T00:00:00\", \"2020-06-04T00:00:00\", \"2020-06-05T00:00:00\", \"2020-06-06T00:00:00\", \"2020-06-07T00:00:00\", \"2020-06-08T00:00:00\", \"2020-06-09T00:00:00\", \"2020-06-10T00:00:00\", \"2020-06-11T00:00:00\", \"2020-06-12T00:00:00\", \"2020-06-13T00:00:00\", \"2020-06-14T00:00:00\", \"2020-06-15T00:00:00\", \"2020-06-16T00:00:00\", \"2020-06-17T00:00:00\", \"2020-06-18T00:00:00\", \"2020-06-19T00:00:00\", \"2020-06-20T00:00:00\", \"2020-06-21T00:00:00\", \"2020-06-22T00:00:00\", \"2020-06-23T00:00:00\", \"2020-06-24T00:00:00\", \"2020-06-25T00:00:00\", \"2020-06-26T00:00:00\", \"2020-06-27T00:00:00\", \"2020-06-28T00:00:00\", \"2020-06-29T00:00:00\", \"2020-06-30T00:00:00\", \"2020-07-01T00:00:00\", \"2020-07-02T00:00:00\", \"2020-07-03T00:00:00\", \"2020-07-04T00:00:00\", \"2020-07-05T00:00:00\", \"2020-07-06T00:00:00\", \"2020-07-07T00:00:00\", \"2020-07-08T00:00:00\", \"2020-07-09T00:00:00\", \"2020-07-10T00:00:00\", \"2020-07-11T00:00:00\", \"2020-07-12T00:00:00\", \"2020-07-13T00:00:00\", \"2020-07-14T00:00:00\", \"2020-07-15T00:00:00\", \"2020-07-16T00:00:00\", \"2020-07-17T00:00:00\", \"2020-07-18T00:00:00\", \"2020-07-19T00:00:00\", \"2020-07-20T00:00:00\", \"2020-07-21T00:00:00\", \"2020-07-22T00:00:00\", \"2020-07-23T00:00:00\", \"2020-07-24T00:00:00\", \"2020-07-25T00:00:00\", \"2020-07-26T00:00:00\", \"2020-07-27T00:00:00\", \"2020-07-28T00:00:00\", \"2020-07-29T00:00:00\", \"2020-07-30T00:00:00\", \"2020-07-31T00:00:00\", \"2020-08-01T00:00:00\", \"2020-08-02T00:00:00\", \"2020-08-03T00:00:00\", \"2020-08-04T00:00:00\", \"2020-08-05T00:00:00\", \"2020-08-06T00:00:00\", \"2020-08-07T00:00:00\", \"2020-08-08T00:00:00\", \"2020-08-09T00:00:00\", \"2020-08-10T00:00:00\", \"2020-08-11T00:00:00\", \"2020-08-12T00:00:00\", \"2020-08-13T00:00:00\", \"2020-08-14T00:00:00\", \"2020-08-15T00:00:00\", \"2020-08-16T00:00:00\", \"2020-08-17T00:00:00\", \"2020-08-18T00:00:00\", \"2020-08-19T00:00:00\", \"2020-08-20T00:00:00\", \"2020-08-21T00:00:00\", \"2020-08-22T00:00:00\", \"2020-08-23T00:00:00\", \"2020-08-24T00:00:00\", \"2020-08-25T00:00:00\", \"2020-08-26T00:00:00\", \"2020-08-27T00:00:00\", \"2020-08-28T00:00:00\", \"2020-08-29T00:00:00\", \"2020-08-30T00:00:00\", \"2020-08-31T00:00:00\", \"2020-09-01T00:00:00\", \"2020-09-02T00:00:00\", \"2020-09-03T00:00:00\", \"2020-09-04T00:00:00\", \"2020-09-05T00:00:00\", \"2020-09-06T00:00:00\", \"2020-09-07T00:00:00\", \"2020-09-08T00:00:00\", \"2020-09-09T00:00:00\", \"2020-09-10T00:00:00\"], \"y\": [0.0, 0.0, 0.0, 0.0, 0.0, 0.0, 0.0, 1.8020615584228357e-05, 7.208246233691343e-05, 0.0001261443090895985, 0.00019822677142651194, 0.00019822677142651194, 0.00032437108051611044, 0.00036041231168456716, 0.00045051538960570893, 0.0005586390831110791, 0.0006487421610322209, 0.0008109277012902761, 0.0009911338571325598, 0.0011893606285590715, 0.0014416492467382686, 0.0016398760181647804, 0.0018381027895912924, 0.0021985151012758595, 0.0025048655662077415, 0.0029373603402292224, 0.003477978807756073, 0.003964535428530239, 0.0044330714337201755, 0.0050637929791681685, 0.005622432062279248, 0.006271174223311468, 0.007208246233691343, 0.008289483168745044, 0.008920204714193037, 0.009767173646651769, 0.010794348734952787, 0.012001729979096086, 0.013100987529734015, 0.014362430620630001, 0.015840121098536726, 0.01701146111151157, 0.017894471275138758, 0.01908383190369783, 0.02016506883875153, 0.021516615007568657, 0.02301232610105961, 0.02416564549845023, 0.025409067973761985, 0.02676061414257911, 0.028310387082822748, 0.029806098176313703, 0.03128378865422043, 0.03279752036329561, 0.03425719022561811, 0.035518633316514094, 0.03701434441000505, 0.03849203488791177, 0.04033013767750306, 0.042042096158004756, 0.04351978663591148, 0.04506955957615512, 0.0467094355943199, 0.048024940531968575, 0.04971887839688604, 0.05143083687738773, 0.053106754126720966, 0.05454840337345924, 0.05606213508253442, 0.057647949253946514, 0.05977438189288546, 0.061522381604555615, 0.06332444316297844, 0.064946298565559, 0.06682044258631875, 0.06885677214733656, 0.07092914293952281, 0.07246089526418223, 0.07440712174727888, 0.07610105961219635, 0.07815540978879838, 0.08026382181215311, 0.08204786275499171, 0.0836336769264038, 0.08548980033157932, 0.08707561450299142, 0.08869746990557198, 0.09066171700425286, 0.09240971671592302, 0.094301881352267, 0.09610394291068983, 0.0980501693937865, 0.10042889065090463, 0.10233907590283284, 0.10401499315216607, 0.10579903409500468, 0.10853816766380739, 0.11080876522742017, 0.11295321848194334, 0.11590859943775679, 0.11864773300655951, 0.12176529950263101, 0.12511713400129748, 0.12922583435450155, 0.13329849347653716, 0.13760542060116773, 0.14245296619332518, 0.14728249116989836, 0.15326533554386218, 0.15877964391263605, 0.16476248828659987, 0.17119584805016938, 0.1778814964319181, 0.18554025805521518, 0.1937035969148706, 0.2019570388524472, 0.21053485187053989, 0.21934693289122756, 0.22817703452749946, 0.23670078569883948, 0.246449938729907, 0.2572082462336913, 0.26800259496864415, 0.27888704678151804, 0.28960931305413395, 0.30116052764362433, 0.31213508253441935, 0.3238484826641678, 0.33469689324587326, 0.3466445613782167, 0.3588445181287393, 0.3707921862610827, 0.38214517407914655, 0.3931737908166943, 0.4043645930945001, 0.41596986953074316, 0.42777337273841276, 0.43858574208894974, 0.44938009082390257, 0.46019246017443954, 0.47003171628342827, 0.4803935702443595, 0.4905211562026959, 0.5003604123116846, 0.5094968644128883, 0.5187414402075975, 0.5273552944568587, 0.5352303034671665, 0.542853023859295, 0.550583867944929, 0.5580984646435522, 0.5651625459525698, 0.5715959057161393, 0.577885100555035, 0.5835615944640669, 0.5888236142146616, 0.5942478195055143, 0.5992215094067613, 0.6044114466950191, 0.6088625387443235, 0.6127369710949326, 0.6168997332948893, 0.6204678151805666, 0.6239818352194911, 0.6273516903337418, 0.6304692568298133, 0.6335868233258848, 0.6363439775102717, 0.6388488430764795, 0.641569956029698, 0.6436963886686369, 0.6458949037699128, 0.6477149859439199, 0.6496431918114323, 0.6514812946010236, 0.6533013767750306, 0.6551755207957903, 0.6565991494269444, 0.6580588192892669, 0.6591580768399049, 0.6603654580840481, 0.6615728393281914, 0.6624918907229871, 0.6633208390398616, 0.6641317667411519, 0.6649066532112737, 0.6658257046060694, 0.6666726735385281, 0.6675556837021552, 0.6680602609385137, 0.6684747350969509, 0.6689793123333093, 0.6695739926475889, 0.6700064874216103, 0.6705471058891371, 0.6711237655878325, 0.6714481366683486, 0.6718626108267859, 0.6722050025228862, 0.6724753117566497]}, {\"line\": {\"color\": \"blue\"}, \"name\": \"susceptible\", \"type\": \"scatter\", \"x\": [\"2020-02-24T00:00:00\", \"2020-02-25T00:00:00\", \"2020-02-26T00:00:00\", \"2020-02-27T00:00:00\", \"2020-02-28T00:00:00\", \"2020-02-29T00:00:00\", \"2020-03-01T00:00:00\", \"2020-03-02T00:00:00\", \"2020-03-03T00:00:00\", \"2020-03-04T00:00:00\", \"2020-03-05T00:00:00\", \"2020-03-06T00:00:00\", \"2020-03-07T00:00:00\", \"2020-03-08T00:00:00\", \"2020-03-09T00:00:00\", \"2020-03-10T00:00:00\", \"2020-03-11T00:00:00\", \"2020-03-12T00:00:00\", \"2020-03-13T00:00:00\", \"2020-03-14T00:00:00\", \"2020-03-15T00:00:00\", \"2020-03-16T00:00:00\", \"2020-03-17T00:00:00\", \"2020-03-18T00:00:00\", \"2020-03-19T00:00:00\", \"2020-03-20T00:00:00\", \"2020-03-21T00:00:00\", \"2020-03-22T00:00:00\", \"2020-03-23T00:00:00\", \"2020-03-24T00:00:00\", \"2020-03-25T00:00:00\", \"2020-03-26T00:00:00\", \"2020-03-27T00:00:00\", \"2020-03-28T00:00:00\", \"2020-03-29T00:00:00\", \"2020-03-30T00:00:00\", \"2020-03-31T00:00:00\", \"2020-04-01T00:00:00\", \"2020-04-02T00:00:00\", \"2020-04-03T00:00:00\", \"2020-04-04T00:00:00\", \"2020-04-05T00:00:00\", \"2020-04-06T00:00:00\", \"2020-04-07T00:00:00\", \"2020-04-08T00:00:00\", \"2020-04-09T00:00:00\", \"2020-04-10T00:00:00\", \"2020-04-11T00:00:00\", \"2020-04-12T00:00:00\", \"2020-04-13T00:00:00\", \"2020-04-14T00:00:00\", \"2020-04-15T00:00:00\", \"2020-04-16T00:00:00\", \"2020-04-17T00:00:00\", \"2020-04-18T00:00:00\", \"2020-04-19T00:00:00\", \"2020-04-20T00:00:00\", \"2020-04-21T00:00:00\", \"2020-04-22T00:00:00\", \"2020-04-23T00:00:00\", \"2020-04-24T00:00:00\", \"2020-04-25T00:00:00\", \"2020-04-26T00:00:00\", \"2020-04-27T00:00:00\", \"2020-04-28T00:00:00\", \"2020-04-29T00:00:00\", \"2020-04-30T00:00:00\", \"2020-05-01T00:00:00\", \"2020-05-02T00:00:00\", \"2020-05-03T00:00:00\", \"2020-05-04T00:00:00\", \"2020-05-05T00:00:00\", \"2020-05-06T00:00:00\", \"2020-05-07T00:00:00\", \"2020-05-08T00:00:00\", \"2020-05-09T00:00:00\", \"2020-05-10T00:00:00\", \"2020-05-11T00:00:00\", \"2020-05-12T00:00:00\", \"2020-05-13T00:00:00\", \"2020-05-14T00:00:00\", \"2020-05-15T00:00:00\", \"2020-05-16T00:00:00\", \"2020-05-17T00:00:00\", \"2020-05-18T00:00:00\", \"2020-05-19T00:00:00\", \"2020-05-20T00:00:00\", \"2020-05-21T00:00:00\", \"2020-05-22T00:00:00\", \"2020-05-23T00:00:00\", \"2020-05-24T00:00:00\", \"2020-05-25T00:00:00\", \"2020-05-26T00:00:00\", \"2020-05-27T00:00:00\", \"2020-05-28T00:00:00\", \"2020-05-29T00:00:00\", \"2020-05-30T00:00:00\", \"2020-05-31T00:00:00\", \"2020-06-01T00:00:00\", \"2020-06-02T00:00:00\", \"2020-06-03T00:00:00\", \"2020-06-04T00:00:00\", \"2020-06-05T00:00:00\", \"2020-06-06T00:00:00\", \"2020-06-07T00:00:00\", \"2020-06-08T00:00:00\", \"2020-06-09T00:00:00\", \"2020-06-10T00:00:00\", \"2020-06-11T00:00:00\", \"2020-06-12T00:00:00\", \"2020-06-13T00:00:00\", \"2020-06-14T00:00:00\", \"2020-06-15T00:00:00\", \"2020-06-16T00:00:00\", \"2020-06-17T00:00:00\", \"2020-06-18T00:00:00\", \"2020-06-19T00:00:00\", \"2020-06-20T00:00:00\", \"2020-06-21T00:00:00\", \"2020-06-22T00:00:00\", \"2020-06-23T00:00:00\", \"2020-06-24T00:00:00\", \"2020-06-25T00:00:00\", \"2020-06-26T00:00:00\", \"2020-06-27T00:00:00\", \"2020-06-28T00:00:00\", \"2020-06-29T00:00:00\", \"2020-06-30T00:00:00\", \"2020-07-01T00:00:00\", \"2020-07-02T00:00:00\", \"2020-07-03T00:00:00\", \"2020-07-04T00:00:00\", \"2020-07-05T00:00:00\", \"2020-07-06T00:00:00\", \"2020-07-07T00:00:00\", \"2020-07-08T00:00:00\", \"2020-07-09T00:00:00\", \"2020-07-10T00:00:00\", \"2020-07-11T00:00:00\", \"2020-07-12T00:00:00\", \"2020-07-13T00:00:00\", \"2020-07-14T00:00:00\", \"2020-07-15T00:00:00\", \"2020-07-16T00:00:00\", \"2020-07-17T00:00:00\", \"2020-07-18T00:00:00\", \"2020-07-19T00:00:00\", \"2020-07-20T00:00:00\", \"2020-07-21T00:00:00\", \"2020-07-22T00:00:00\", \"2020-07-23T00:00:00\", \"2020-07-24T00:00:00\", \"2020-07-25T00:00:00\", \"2020-07-26T00:00:00\", \"2020-07-27T00:00:00\", \"2020-07-28T00:00:00\", \"2020-07-29T00:00:00\", \"2020-07-30T00:00:00\", \"2020-07-31T00:00:00\", \"2020-08-01T00:00:00\", \"2020-08-02T00:00:00\", \"2020-08-03T00:00:00\", \"2020-08-04T00:00:00\", \"2020-08-05T00:00:00\", \"2020-08-06T00:00:00\", \"2020-08-07T00:00:00\", \"2020-08-08T00:00:00\", \"2020-08-09T00:00:00\", \"2020-08-10T00:00:00\", \"2020-08-11T00:00:00\", \"2020-08-12T00:00:00\", \"2020-08-13T00:00:00\", \"2020-08-14T00:00:00\", \"2020-08-15T00:00:00\", \"2020-08-16T00:00:00\", \"2020-08-17T00:00:00\", \"2020-08-18T00:00:00\", \"2020-08-19T00:00:00\", \"2020-08-20T00:00:00\", \"2020-08-21T00:00:00\", \"2020-08-22T00:00:00\", \"2020-08-23T00:00:00\", \"2020-08-24T00:00:00\", \"2020-08-25T00:00:00\", \"2020-08-26T00:00:00\", \"2020-08-27T00:00:00\", \"2020-08-28T00:00:00\", \"2020-08-29T00:00:00\", \"2020-08-30T00:00:00\", \"2020-08-31T00:00:00\", \"2020-09-01T00:00:00\", \"2020-09-02T00:00:00\", \"2020-09-03T00:00:00\", \"2020-09-04T00:00:00\", \"2020-09-05T00:00:00\", \"2020-09-06T00:00:00\", \"2020-09-07T00:00:00\", \"2020-09-08T00:00:00\", \"2020-09-09T00:00:00\", \"2020-09-10T00:00:00\"], \"y\": [0.9998197938441578, 0.9997296907662365, 0.9996215670727312, 0.9995134433792259, 0.9994053196857204, 0.9992971959922151, 0.9991350104519571, 0.9989548042961147, 0.9987385569091041, 0.9984862682909248, 0.9983240827506668, 0.9980357529013191, 0.9977834642831399, 0.9975131550493764, 0.9970626396597708, 0.9965760830389966, 0.9959453614935486, 0.9955308873351114, 0.994792042096158, 0.993999135010452, 0.9933323722338355, 0.9923772796078714, 0.9917465580624234, 0.9907013623585381, 0.9896381460390687, 0.9884127441793412, 0.9868449506235133, 0.9855474663014488, 0.9843581056728898, 0.9831327038131623, 0.981925322569019, 0.9806999207092915, 0.979402436387227, 0.9781590139119152, 0.9769876738989404, 0.9756901895768759, 0.9741043754054638, 0.9724644993872991, 0.97127513875874, 0.9699235925899229, 0.9685720464211057, 0.9674547682548836, 0.965995098392561, 0.9644273048367332, 0.9627513875874, 0.9611115115692352, 0.95959777986016, 0.957939883226411, 0.9561918835147408, 0.9544799250342392, 0.9530202551719167, 0.9516146471563469, 0.9497224825200029, 0.9482267714265119, 0.946568874792763, 0.9446586895408348, 0.9430368341382541, 0.9412527931954155, 0.9394146904058243, 0.9374324226915591, 0.9359547322136524, 0.9343328768110719, 0.9327290420240756, 0.9309089598500685, 0.9292510632163195, 0.9272147336553017, 0.9256289194838896, 0.9235205074605348, 0.9218806314423701, 0.9200965904995315, 0.9180963021696821, 0.9162942406112593, 0.9141858285879045, 0.9123116845671448, 0.9106177467022274, 0.908851726374973, 0.9072118503568082, 0.905698118647733, 0.9037338715490522, 0.9018056656815396, 0.9001477690477907, 0.8982916456426151, 0.8963634397751027, 0.894327110214085, 0.8923808837309882, 0.8905067397102285, 0.8885244719959634, 0.8862178332011822, 0.8843256685648382, 0.8803431125207237, 0.8765948244792042, 0.8729005982844374, 0.8693865782455129, 0.8654040222013984, 0.8617638578533843, 0.8571505802638218, 0.8519426223599799, 0.8458516542925106, 0.8399769336120522, 0.8335976356952354, 0.8262812657680386, 0.8185684422979889, 0.8103330209759966, 0.8025300944280257, 0.7930152093995531, 0.7843112520723708, 0.7758595833633677, 0.7658941829452894, 0.7561270092986376, 0.7453326605636849, 0.7340337345923736, 0.7233655301665105, 0.7112196352627406, 0.6991278022057233, 0.6878108556188279, 0.6763317234916745, 0.664456137821668, 0.6525625315360772, 0.6401102861673755, 0.628234700497369, 0.6167195271390471, 0.6048439414690406, 0.5937252216535717, 0.5819577596770705, 0.569992070929143, 0.5571794132487565, 0.5451776832696605, 0.53456354069055, 0.5245620990413032, 0.5144705543141354, 0.503315793267498, 0.4937468463922728, 0.48457435305990054, 0.4761046637353132, 0.46774309810423126, 0.4591472644705543, 0.45078569883947234, 0.44316297844734376, 0.4361890002162474, 0.4293952281409933, 0.42270957975924456, 0.41741151877748145, 0.4114827362502703, 0.4062026958840914, 0.4008685936711598, 0.39587688315432856, 0.3910113169465869, 0.3874071938297412, 0.38272183377784186, 0.37890146327398544, 0.37522525769480286, 0.3722698767389894, 0.36918835147408635, 0.3661789086715202, 0.3630793627910329, 0.36046637353131983, 0.35806963165861744, 0.35601528148201544, 0.3539609313054134, 0.35179845743530597, 0.3497621278742882, 0.348014128162618, 0.3464823758379586, 0.3449506235132992, 0.3435630361133136, 0.3419592013263173, 0.340986088084769, 0.33988683053413105, 0.3384812225185612, 0.33739998558350753, 0.33664311972896993, 0.33565198587183737, 0.33478699632379444, 0.33383190369783033, 0.3331831615367981, 0.33248035752901317, 0.3318676565991494, 0.3313450587472068, 0.3308404815108484, 0.3302277805809846, 0.3298133064225474, 0.3294348734952786, 0.32909248179917827, 0.32862394579398835, 0.32819145101996683, 0.3277409356303611, 0.3273444820875081, 0.327020111006992, 0.3267678223888128, 0.32660563684855476, 0.3261911626901175, 0.32577668853168024, 0.32547033806674835, 0.32514596698623227, 0.3248576371368846, 0.32464138974987383, 0.32431701866935775, 0.32406473005117853, 0.32383046204858357, 0.32354213219923594]}, {\"line\": {\"color\": \"orange\"}, \"name\": \"exposed\", \"type\": \"scatter\", \"x\": [\"2020-02-24T00:00:00\", \"2020-02-25T00:00:00\", \"2020-02-26T00:00:00\", \"2020-02-27T00:00:00\", \"2020-02-28T00:00:00\", \"2020-02-29T00:00:00\", \"2020-03-01T00:00:00\", \"2020-03-02T00:00:00\", \"2020-03-03T00:00:00\", \"2020-03-04T00:00:00\", \"2020-03-05T00:00:00\", \"2020-03-06T00:00:00\", \"2020-03-07T00:00:00\", \"2020-03-08T00:00:00\", \"2020-03-09T00:00:00\", \"2020-03-10T00:00:00\", \"2020-03-11T00:00:00\", \"2020-03-12T00:00:00\", \"2020-03-13T00:00:00\", \"2020-03-14T00:00:00\", \"2020-03-15T00:00:00\", \"2020-03-16T00:00:00\", \"2020-03-17T00:00:00\", \"2020-03-18T00:00:00\", \"2020-03-19T00:00:00\", \"2020-03-20T00:00:00\", \"2020-03-21T00:00:00\", \"2020-03-22T00:00:00\", \"2020-03-23T00:00:00\", \"2020-03-24T00:00:00\", \"2020-03-25T00:00:00\", \"2020-03-26T00:00:00\", \"2020-03-27T00:00:00\", \"2020-03-28T00:00:00\", \"2020-03-29T00:00:00\", \"2020-03-30T00:00:00\", \"2020-03-31T00:00:00\", \"2020-04-01T00:00:00\", \"2020-04-02T00:00:00\", \"2020-04-03T00:00:00\", \"2020-04-04T00:00:00\", \"2020-04-05T00:00:00\", \"2020-04-06T00:00:00\", \"2020-04-07T00:00:00\", \"2020-04-08T00:00:00\", \"2020-04-09T00:00:00\", \"2020-04-10T00:00:00\", \"2020-04-11T00:00:00\", \"2020-04-12T00:00:00\", \"2020-04-13T00:00:00\", \"2020-04-14T00:00:00\", \"2020-04-15T00:00:00\", \"2020-04-16T00:00:00\", \"2020-04-17T00:00:00\", \"2020-04-18T00:00:00\", \"2020-04-19T00:00:00\", \"2020-04-20T00:00:00\", \"2020-04-21T00:00:00\", \"2020-04-22T00:00:00\", \"2020-04-23T00:00:00\", \"2020-04-24T00:00:00\", \"2020-04-25T00:00:00\", \"2020-04-26T00:00:00\", \"2020-04-27T00:00:00\", \"2020-04-28T00:00:00\", \"2020-04-29T00:00:00\", \"2020-04-30T00:00:00\", \"2020-05-01T00:00:00\", \"2020-05-02T00:00:00\", \"2020-05-03T00:00:00\", \"2020-05-04T00:00:00\", \"2020-05-05T00:00:00\", \"2020-05-06T00:00:00\", \"2020-05-07T00:00:00\", \"2020-05-08T00:00:00\", \"2020-05-09T00:00:00\", \"2020-05-10T00:00:00\", \"2020-05-11T00:00:00\", \"2020-05-12T00:00:00\", \"2020-05-13T00:00:00\", \"2020-05-14T00:00:00\", \"2020-05-15T00:00:00\", \"2020-05-16T00:00:00\", \"2020-05-17T00:00:00\", \"2020-05-18T00:00:00\", \"2020-05-19T00:00:00\", \"2020-05-20T00:00:00\", \"2020-05-21T00:00:00\", \"2020-05-22T00:00:00\", \"2020-05-23T00:00:00\", \"2020-05-24T00:00:00\", \"2020-05-25T00:00:00\", \"2020-05-26T00:00:00\", \"2020-05-27T00:00:00\", \"2020-05-28T00:00:00\", \"2020-05-29T00:00:00\", \"2020-05-30T00:00:00\", \"2020-05-31T00:00:00\", \"2020-06-01T00:00:00\", \"2020-06-02T00:00:00\", \"2020-06-03T00:00:00\", \"2020-06-04T00:00:00\", \"2020-06-05T00:00:00\", \"2020-06-06T00:00:00\", \"2020-06-07T00:00:00\", \"2020-06-08T00:00:00\", \"2020-06-09T00:00:00\", \"2020-06-10T00:00:00\", \"2020-06-11T00:00:00\", \"2020-06-12T00:00:00\", \"2020-06-13T00:00:00\", \"2020-06-14T00:00:00\", \"2020-06-15T00:00:00\", \"2020-06-16T00:00:00\", \"2020-06-17T00:00:00\", \"2020-06-18T00:00:00\", \"2020-06-19T00:00:00\", \"2020-06-20T00:00:00\", \"2020-06-21T00:00:00\", \"2020-06-22T00:00:00\", \"2020-06-23T00:00:00\", \"2020-06-24T00:00:00\", \"2020-06-25T00:00:00\", \"2020-06-26T00:00:00\", \"2020-06-27T00:00:00\", \"2020-06-28T00:00:00\", \"2020-06-29T00:00:00\", \"2020-06-30T00:00:00\", \"2020-07-01T00:00:00\", \"2020-07-02T00:00:00\", \"2020-07-03T00:00:00\", \"2020-07-04T00:00:00\", \"2020-07-05T00:00:00\", \"2020-07-06T00:00:00\", \"2020-07-07T00:00:00\", \"2020-07-08T00:00:00\", \"2020-07-09T00:00:00\", \"2020-07-10T00:00:00\", \"2020-07-11T00:00:00\", \"2020-07-12T00:00:00\", \"2020-07-13T00:00:00\", \"2020-07-14T00:00:00\", \"2020-07-15T00:00:00\", \"2020-07-16T00:00:00\", \"2020-07-17T00:00:00\", \"2020-07-18T00:00:00\", \"2020-07-19T00:00:00\", \"2020-07-20T00:00:00\", \"2020-07-21T00:00:00\", \"2020-07-22T00:00:00\", \"2020-07-23T00:00:00\", \"2020-07-24T00:00:00\", \"2020-07-25T00:00:00\", \"2020-07-26T00:00:00\", \"2020-07-27T00:00:00\", \"2020-07-28T00:00:00\", \"2020-07-29T00:00:00\", \"2020-07-30T00:00:00\", \"2020-07-31T00:00:00\", \"2020-08-01T00:00:00\", \"2020-08-02T00:00:00\", \"2020-08-03T00:00:00\", \"2020-08-04T00:00:00\", \"2020-08-05T00:00:00\", \"2020-08-06T00:00:00\", \"2020-08-07T00:00:00\", \"2020-08-08T00:00:00\", \"2020-08-09T00:00:00\", \"2020-08-10T00:00:00\", \"2020-08-11T00:00:00\", \"2020-08-12T00:00:00\", \"2020-08-13T00:00:00\", \"2020-08-14T00:00:00\", \"2020-08-15T00:00:00\", \"2020-08-16T00:00:00\", \"2020-08-17T00:00:00\", \"2020-08-18T00:00:00\", \"2020-08-19T00:00:00\", \"2020-08-20T00:00:00\", \"2020-08-21T00:00:00\", \"2020-08-22T00:00:00\", \"2020-08-23T00:00:00\", \"2020-08-24T00:00:00\", \"2020-08-25T00:00:00\", \"2020-08-26T00:00:00\", \"2020-08-27T00:00:00\", \"2020-08-28T00:00:00\", \"2020-08-29T00:00:00\", \"2020-08-30T00:00:00\", \"2020-08-31T00:00:00\", \"2020-09-01T00:00:00\", \"2020-09-02T00:00:00\", \"2020-09-03T00:00:00\", \"2020-09-04T00:00:00\", \"2020-09-05T00:00:00\", \"2020-09-06T00:00:00\", \"2020-09-07T00:00:00\", \"2020-09-08T00:00:00\", \"2020-09-09T00:00:00\", \"2020-09-10T00:00:00\"], \"y\": [0.00018020615584228358, 0.000252288618179197, 0.00034239169610033877, 0.0004324947740214806, 0.00046853600518993727, 0.000504577236358394, 0.0005406184675268508, 0.0005946803142795358, 0.0006847833922006775, 0.0008469689324587328, 0.0008830101636271895, 0.001009154472716788, 0.001063216319469473, 0.0010812369350537015, 0.0013515461688171269, 0.0016218554025805522, 0.002054350176602033, 0.0021985151012758595, 0.0024508037194550564, 0.002775174799971167, 0.003027463418150364, 0.0034058963454191597, 0.003423916961003388, 0.003748288041519498, 0.00405463850645138, 0.004505153896057089, 0.005099834210336625, 0.0052259785194262234, 0.005424205290852736, 0.0055863908311107905, 0.0057665969869530745, 0.005838679449289987, 0.006018885605132271, 0.0061990917609745545, 0.006054926836300728, 0.006090968067469185, 0.006415339147985295, 0.006541483457074893, 0.006523462841490665, 0.006505442225906437, 0.006613565919411807, 0.006235132992143012, 0.006433359763569523, 0.006703668997332949, 0.0069919988466806025, 0.007208246233691343, 0.0070821019246017445, 0.007406473005117855, 0.00767678223888128, 0.007875009010307792, 0.007622720392128595, 0.007280328696028257, 0.0076948028544655085, 0.00735241115836517, 0.007298349311612485, 0.007640741007712824, 0.007712823470049737, 0.00767678223888128, 0.007875009010307792, 0.008433648093418872, 0.00810927701290276, 0.008055215166150076, 0.008037194550565847, 0.008001153319397391, 0.007586679160960138, 0.007911050241476248, 0.008127297628486988, 0.008343545015497729, 0.00823542132199236, 0.008577813018092698, 0.008523751171340013, 0.008415627477834644, 0.008703957327182297, 0.008974266560945722, 0.008595833633676926, 0.008649895480429612, 0.008289483168745044, 0.008217400706408131, 0.007983132703813163, 0.008253441937576588, 0.0083255243999135, 0.008613854249261154, 0.008181359475239675, 0.008577813018092698, 0.008577813018092698, 0.00855979240250847, 0.008595833633676926, 0.009046349023282635, 0.008848122251856123, 0.010686225041447416, 0.012650472140128306, 0.01383983276868738, 0.01492106970374108, 0.016308657103726663, 0.016741151877748144, 0.01787645065955453, 0.0190658112881136, 0.021318388236142148, 0.023192532256901897, 0.025192820586751243, 0.027589562459453616, 0.029247459093202623, 0.03249116989836373, 0.033932819145101996, 0.03618539609313054, 0.038023498882721836, 0.038816405968427885, 0.04078065306710877, 0.04234844662293664, 0.0442946731060333, 0.04649318820730916, 0.04705182729042024, 0.049052115620269586, 0.05114250702804008, 0.05240395011893606, 0.05317883658905788, 0.05406184675268507, 0.054169970446190444, 0.05494485691631226, 0.05561161969292871, 0.05530526922799683, 0.05629640308512939, 0.05537735169033374, 0.054674547682548834, 0.05431413537086427, 0.055161104303323, 0.055215166150075684, 0.05406184675268507, 0.052602176890362576, 0.050926259641029335, 0.05052980609817631, 0.049322424854033015, 0.04789879622287897, 0.04564621927485043, 0.043718013407338, 0.04242052908527355, 0.04103294168528797, 0.03914077704894399, 0.03773516903337418, 0.03616737547754631, 0.034725726230808045, 0.03223888128018453, 0.030905355726951633, 0.02906725293736034, 0.027337273841274417, 0.025643335976356953, 0.02476032581272976, 0.022850140560801556, 0.022075254090679737, 0.02072370792186261, 0.019822677142651193, 0.018489151589418294, 0.016957399264758883, 0.015822100482952496, 0.015299502631009876, 0.014452533698551142, 0.013191090607655158, 0.011911626901174944, 0.011497152742737693, 0.010992575506379297, 0.010560080732357818, 0.009947379802494053, 0.009370720103798746, 0.008631874864845382, 0.008055215166150076, 0.007929070857060478, 0.006883875153175232, 0.006108988683053413, 0.00614502991422187, 0.005892741296042673, 0.005189937288257767, 0.004649318820730916, 0.004379009586967491, 0.0043609889713832626, 0.00405463850645138, 0.003820370503856412, 0.0035861025012614432, 0.0033157932674980177, 0.0030995458804872773, 0.0029373603402292224, 0.0027030923376342537, 0.0024868449506235133, 0.0022886181791970015, 0.002126432638938946, 0.002072370792186261, 0.002018308945433576, 0.002036329561017804, 0.0018921646363439775, 0.001513731709075182, 0.0012794637064802133, 0.0014416492467382686, 0.0015858141714120955, 0.0014957110934909537, 0.0015317523246594104, 0.0015497729402436386, 0.0013335255532328984, 0.0013875873999855835, 0.0013515461688171269, 0.00131550493764867, 0.001261443090895985]}, {\"line\": {\"color\": \"red\"}, \"name\": \"infected\", \"type\": \"scatter\", \"x\": [\"2020-02-24T00:00:00\", \"2020-02-25T00:00:00\", \"2020-02-26T00:00:00\", \"2020-02-27T00:00:00\", \"2020-02-28T00:00:00\", \"2020-02-29T00:00:00\", \"2020-03-01T00:00:00\", \"2020-03-02T00:00:00\", \"2020-03-03T00:00:00\", \"2020-03-04T00:00:00\", \"2020-03-05T00:00:00\", \"2020-03-06T00:00:00\", \"2020-03-07T00:00:00\", \"2020-03-08T00:00:00\", \"2020-03-09T00:00:00\", \"2020-03-10T00:00:00\", \"2020-03-11T00:00:00\", \"2020-03-12T00:00:00\", \"2020-03-13T00:00:00\", \"2020-03-14T00:00:00\", \"2020-03-15T00:00:00\", \"2020-03-16T00:00:00\", \"2020-03-17T00:00:00\", \"2020-03-18T00:00:00\", \"2020-03-19T00:00:00\", \"2020-03-20T00:00:00\", \"2020-03-21T00:00:00\", \"2020-03-22T00:00:00\", \"2020-03-23T00:00:00\", \"2020-03-24T00:00:00\", \"2020-03-25T00:00:00\", \"2020-03-26T00:00:00\", \"2020-03-27T00:00:00\", \"2020-03-28T00:00:00\", \"2020-03-29T00:00:00\", \"2020-03-30T00:00:00\", \"2020-03-31T00:00:00\", \"2020-04-01T00:00:00\", \"2020-04-02T00:00:00\", \"2020-04-03T00:00:00\", \"2020-04-04T00:00:00\", \"2020-04-05T00:00:00\", \"2020-04-06T00:00:00\", \"2020-04-07T00:00:00\", \"2020-04-08T00:00:00\", \"2020-04-09T00:00:00\", \"2020-04-10T00:00:00\", \"2020-04-11T00:00:00\", \"2020-04-12T00:00:00\", \"2020-04-13T00:00:00\", \"2020-04-14T00:00:00\", \"2020-04-15T00:00:00\", \"2020-04-16T00:00:00\", \"2020-04-17T00:00:00\", \"2020-04-18T00:00:00\", \"2020-04-19T00:00:00\", \"2020-04-20T00:00:00\", \"2020-04-21T00:00:00\", \"2020-04-22T00:00:00\", \"2020-04-23T00:00:00\", \"2020-04-24T00:00:00\", \"2020-04-25T00:00:00\", \"2020-04-26T00:00:00\", \"2020-04-27T00:00:00\", \"2020-04-28T00:00:00\", \"2020-04-29T00:00:00\", \"2020-04-30T00:00:00\", \"2020-05-01T00:00:00\", \"2020-05-02T00:00:00\", \"2020-05-03T00:00:00\", \"2020-05-04T00:00:00\", \"2020-05-05T00:00:00\", \"2020-05-06T00:00:00\", \"2020-05-07T00:00:00\", \"2020-05-08T00:00:00\", \"2020-05-09T00:00:00\", \"2020-05-10T00:00:00\", \"2020-05-11T00:00:00\", \"2020-05-12T00:00:00\", \"2020-05-13T00:00:00\", \"2020-05-14T00:00:00\", \"2020-05-15T00:00:00\", \"2020-05-16T00:00:00\", \"2020-05-17T00:00:00\", \"2020-05-18T00:00:00\", \"2020-05-19T00:00:00\", \"2020-05-20T00:00:00\", \"2020-05-21T00:00:00\", \"2020-05-22T00:00:00\", \"2020-05-23T00:00:00\", \"2020-05-24T00:00:00\", \"2020-05-25T00:00:00\", \"2020-05-26T00:00:00\", \"2020-05-27T00:00:00\", \"2020-05-28T00:00:00\", \"2020-05-29T00:00:00\", \"2020-05-30T00:00:00\", \"2020-05-31T00:00:00\", \"2020-06-01T00:00:00\", \"2020-06-02T00:00:00\", \"2020-06-03T00:00:00\", \"2020-06-04T00:00:00\", \"2020-06-05T00:00:00\", \"2020-06-06T00:00:00\", \"2020-06-07T00:00:00\", \"2020-06-08T00:00:00\", \"2020-06-09T00:00:00\", \"2020-06-10T00:00:00\", \"2020-06-11T00:00:00\", \"2020-06-12T00:00:00\", \"2020-06-13T00:00:00\", \"2020-06-14T00:00:00\", \"2020-06-15T00:00:00\", \"2020-06-16T00:00:00\", \"2020-06-17T00:00:00\", \"2020-06-18T00:00:00\", \"2020-06-19T00:00:00\", \"2020-06-20T00:00:00\", \"2020-06-21T00:00:00\", \"2020-06-22T00:00:00\", \"2020-06-23T00:00:00\", \"2020-06-24T00:00:00\", \"2020-06-25T00:00:00\", \"2020-06-26T00:00:00\", \"2020-06-27T00:00:00\", \"2020-06-28T00:00:00\", \"2020-06-29T00:00:00\", \"2020-06-30T00:00:00\", \"2020-07-01T00:00:00\", \"2020-07-02T00:00:00\", \"2020-07-03T00:00:00\", \"2020-07-04T00:00:00\", \"2020-07-05T00:00:00\", \"2020-07-06T00:00:00\", \"2020-07-07T00:00:00\", \"2020-07-08T00:00:00\", \"2020-07-09T00:00:00\", \"2020-07-10T00:00:00\", \"2020-07-11T00:00:00\", \"2020-07-12T00:00:00\", \"2020-07-13T00:00:00\", \"2020-07-14T00:00:00\", \"2020-07-15T00:00:00\", \"2020-07-16T00:00:00\", \"2020-07-17T00:00:00\", \"2020-07-18T00:00:00\", \"2020-07-19T00:00:00\", \"2020-07-20T00:00:00\", \"2020-07-21T00:00:00\", \"2020-07-22T00:00:00\", \"2020-07-23T00:00:00\", \"2020-07-24T00:00:00\", \"2020-07-25T00:00:00\", \"2020-07-26T00:00:00\", \"2020-07-27T00:00:00\", \"2020-07-28T00:00:00\", \"2020-07-29T00:00:00\", \"2020-07-30T00:00:00\", \"2020-07-31T00:00:00\", \"2020-08-01T00:00:00\", \"2020-08-02T00:00:00\", \"2020-08-03T00:00:00\", \"2020-08-04T00:00:00\", \"2020-08-05T00:00:00\", \"2020-08-06T00:00:00\", \"2020-08-07T00:00:00\", \"2020-08-08T00:00:00\", \"2020-08-09T00:00:00\", \"2020-08-10T00:00:00\", \"2020-08-11T00:00:00\", \"2020-08-12T00:00:00\", \"2020-08-13T00:00:00\", \"2020-08-14T00:00:00\", \"2020-08-15T00:00:00\", \"2020-08-16T00:00:00\", \"2020-08-17T00:00:00\", \"2020-08-18T00:00:00\", \"2020-08-19T00:00:00\", \"2020-08-20T00:00:00\", \"2020-08-21T00:00:00\", \"2020-08-22T00:00:00\", \"2020-08-23T00:00:00\", \"2020-08-24T00:00:00\", \"2020-08-25T00:00:00\", \"2020-08-26T00:00:00\", \"2020-08-27T00:00:00\", \"2020-08-28T00:00:00\", \"2020-08-29T00:00:00\", \"2020-08-30T00:00:00\", \"2020-08-31T00:00:00\", \"2020-09-01T00:00:00\", \"2020-09-02T00:00:00\", \"2020-09-03T00:00:00\", \"2020-09-04T00:00:00\", \"2020-09-05T00:00:00\", \"2020-09-06T00:00:00\", \"2020-09-07T00:00:00\", \"2020-09-08T00:00:00\", \"2020-09-09T00:00:00\", \"2020-09-10T00:00:00\"], \"y\": [0.0, 1.8020615584228357e-05, 3.6041231168456714e-05, 5.4061846752685075e-05, 0.0001261443090895985, 0.00019822677142651194, 0.00032437108051611044, 0.0004144741584372522, 0.00048655662077416565, 0.0005406184675268508, 0.0005946803142795358, 0.0007388452389533626, 0.0008109277012902761, 0.0010271750883010164, 0.0010992575506379298, 0.0012073812441433, 0.00131550493764867, 0.0014416492467382686, 0.0017479997116701506, 0.002018308945433576, 0.002162473870107403, 0.0025409067973761984, 0.0029373603402292224, 0.0032437108051611044, 0.003676205579182585, 0.0040005766596986955, 0.0044330714337201755, 0.005081813594752397, 0.005550349599942334, 0.005910761911626901, 0.006397318532401067, 0.0069018957687594605, 0.0070821019246017445, 0.007100122540185973, 0.007766885316802422, 0.008199380090823903, 0.008433648093418872, 0.008703957327182297, 0.008721977942766525, 0.008794060405103438, 0.0084516687090031, 0.008685936711598069, 0.009082390254451091, 0.00920853456354069, 0.00944280256613566, 0.0095329056440568, 0.009550926259641029, 0.009677070568730628, 0.00998342103366251, 0.010127585958336337, 0.010271750883010163, 0.01052403950118936, 0.01054206011677359, 0.010848410581705471, 0.011064657968716212, 0.011334967202479637, 0.01140704966481655, 0.011731420745332661, 0.011533193973906149, 0.011280905355726952, 0.011461111511569234, 0.011479132127153464, 0.011497152742737693, 0.01196568874792763, 0.012398183521949109, 0.012344121675196424, 0.012001729979096086, 0.012308080444027968, 0.012524327831038708, 0.012452245368701795, 0.012542348446622937, 0.012758595833633677, 0.012650472140128306, 0.01261443090895985, 0.01283067829597059, 0.012668492755712536, 0.012596410293375621, 0.012578389677791393, 0.012920781373891733, 0.012902760758307505, 0.012452245368701795, 0.011875585670006487, 0.012398183521949109, 0.012416204137533337, 0.012452245368701795, 0.012776616449217905, 0.012992863836228646, 0.012866719527139046, 0.013281193685576299, 0.01360556476609241, 0.013641605997260867, 0.014200245080371945, 0.01414618323361926, 0.014758884163483024, 0.016272615872558207, 0.017822388812801845, 0.019173934981618974, 0.02072370792186261, 0.02247170763353276, 0.023841274417934117, 0.02596770705687306, 0.028851005550349598, 0.03049088156851438, 0.0327254379009587, 0.03586102501261443, 0.03841995242557486, 0.04103294168528797, 0.044132487565775244, 0.046349023282635335, 0.049610754703380666, 0.05242197073452029, 0.05593599077344482, 0.05919772219419015, 0.06139623729546601, 0.06316225762272039, 0.06550493764867008, 0.06779355582786709, 0.07065883370575939, 0.07347004973689901, 0.07588481222518562, 0.07759677070568731, 0.07756072947451885, 0.07869602825632524, 0.08029986304332155, 0.08170547105889137, 0.0819757802926548, 0.08278670799394508, 0.0826785843004397, 0.08294889353420312, 0.08271462553160816, 0.08193973906148634, 0.0804440279679954, 0.07947091472644706, 0.07902039933684135, 0.07781301809269804, 0.07579470914726447, 0.07381244143299935, 0.07265912203560873, 0.07026238016290637, 0.06766741151877748, 0.06591941180710734, 0.06346860808765227, 0.06058530959417574, 0.05802638218121531, 0.056116196929287106, 0.053665393209832046, 0.05099834210336625, 0.048547538383911196, 0.04647516759172493, 0.04404238448785411, 0.04142939522814099, 0.038780364737259425, 0.037140488719094644, 0.03535644777625604, 0.033428241908743606, 0.031770345274994595, 0.030364737259424783, 0.02874288185684423, 0.026021768903625748, 0.024399913501045197, 0.023336697181575723, 0.021750883010163626, 0.020543501766020326, 0.0193180999062928, 0.01809269804656527, 0.016939378649174656, 0.01591220356087364, 0.015227420168672961, 0.014128162618035033, 0.012992863836228646, 0.012542348446622937, 0.011875585670006487, 0.011280905355726952, 0.010451957038852447, 0.009586967490809487, 0.008884163483024581, 0.008055215166150076, 0.007442514236286312, 0.006811792690838319, 0.006577524688243351, 0.006090968067469185, 0.005550349599942334, 0.00526201975059468, 0.005117854825920853, 0.004901607438910113, 0.004667339436315144, 0.00416276219995675, 0.0038564117350248684, 0.0036221437324298997, 0.0036041231168456715, 0.003459958192171845, 0.0032437108051611044, 0.003081525264903049, 0.0028832984934765373, 0.0025949686441288835, 0.002432783103870828, 0.002378721257118143, 0.0022886181791970015, 0.0022345563324443164, 0.0022886181791970015]}, {\"line\": {\"color\": \"purple\"}, \"name\": \"hospitalized\", \"type\": \"scatter\", \"x\": [\"2020-02-24T00:00:00\", \"2020-02-25T00:00:00\", \"2020-02-26T00:00:00\", \"2020-02-27T00:00:00\", \"2020-02-28T00:00:00\", \"2020-02-29T00:00:00\", \"2020-03-01T00:00:00\", \"2020-03-02T00:00:00\", \"2020-03-03T00:00:00\", \"2020-03-04T00:00:00\", \"2020-03-05T00:00:00\", \"2020-03-06T00:00:00\", \"2020-03-07T00:00:00\", \"2020-03-08T00:00:00\", \"2020-03-09T00:00:00\", \"2020-03-10T00:00:00\", \"2020-03-11T00:00:00\", \"2020-03-12T00:00:00\", \"2020-03-13T00:00:00\", \"2020-03-14T00:00:00\", \"2020-03-15T00:00:00\", \"2020-03-16T00:00:00\", \"2020-03-17T00:00:00\", \"2020-03-18T00:00:00\", \"2020-03-19T00:00:00\", \"2020-03-20T00:00:00\", \"2020-03-21T00:00:00\", \"2020-03-22T00:00:00\", \"2020-03-23T00:00:00\", \"2020-03-24T00:00:00\", \"2020-03-25T00:00:00\", \"2020-03-26T00:00:00\", \"2020-03-27T00:00:00\", \"2020-03-28T00:00:00\", \"2020-03-29T00:00:00\", \"2020-03-30T00:00:00\", \"2020-03-31T00:00:00\", \"2020-04-01T00:00:00\", \"2020-04-02T00:00:00\", \"2020-04-03T00:00:00\", \"2020-04-04T00:00:00\", \"2020-04-05T00:00:00\", \"2020-04-06T00:00:00\", \"2020-04-07T00:00:00\", \"2020-04-08T00:00:00\", \"2020-04-09T00:00:00\", \"2020-04-10T00:00:00\", \"2020-04-11T00:00:00\", \"2020-04-12T00:00:00\", \"2020-04-13T00:00:00\", \"2020-04-14T00:00:00\", \"2020-04-15T00:00:00\", \"2020-04-16T00:00:00\", \"2020-04-17T00:00:00\", \"2020-04-18T00:00:00\", \"2020-04-19T00:00:00\", \"2020-04-20T00:00:00\", \"2020-04-21T00:00:00\", \"2020-04-22T00:00:00\", \"2020-04-23T00:00:00\", \"2020-04-24T00:00:00\", \"2020-04-25T00:00:00\", \"2020-04-26T00:00:00\", \"2020-04-27T00:00:00\", \"2020-04-28T00:00:00\", \"2020-04-29T00:00:00\", \"2020-04-30T00:00:00\", \"2020-05-01T00:00:00\", \"2020-05-02T00:00:00\", \"2020-05-03T00:00:00\", \"2020-05-04T00:00:00\", \"2020-05-05T00:00:00\", \"2020-05-06T00:00:00\", \"2020-05-07T00:00:00\", \"2020-05-08T00:00:00\", \"2020-05-09T00:00:00\", \"2020-05-10T00:00:00\", \"2020-05-11T00:00:00\", \"2020-05-12T00:00:00\", \"2020-05-13T00:00:00\", \"2020-05-14T00:00:00\", \"2020-05-15T00:00:00\", \"2020-05-16T00:00:00\", \"2020-05-17T00:00:00\", \"2020-05-18T00:00:00\", \"2020-05-19T00:00:00\", \"2020-05-20T00:00:00\", \"2020-05-21T00:00:00\", \"2020-05-22T00:00:00\", \"2020-05-23T00:00:00\", \"2020-05-24T00:00:00\", \"2020-05-25T00:00:00\", \"2020-05-26T00:00:00\", \"2020-05-27T00:00:00\", \"2020-05-28T00:00:00\", \"2020-05-29T00:00:00\", \"2020-05-30T00:00:00\", \"2020-05-31T00:00:00\", \"2020-06-01T00:00:00\", \"2020-06-02T00:00:00\", \"2020-06-03T00:00:00\", \"2020-06-04T00:00:00\", \"2020-06-05T00:00:00\", \"2020-06-06T00:00:00\", \"2020-06-07T00:00:00\", \"2020-06-08T00:00:00\", \"2020-06-09T00:00:00\", \"2020-06-10T00:00:00\", \"2020-06-11T00:00:00\", \"2020-06-12T00:00:00\", \"2020-06-13T00:00:00\", \"2020-06-14T00:00:00\", \"2020-06-15T00:00:00\", \"2020-06-16T00:00:00\", \"2020-06-17T00:00:00\", \"2020-06-18T00:00:00\", \"2020-06-19T00:00:00\", \"2020-06-20T00:00:00\", \"2020-06-21T00:00:00\", \"2020-06-22T00:00:00\", \"2020-06-23T00:00:00\", \"2020-06-24T00:00:00\", \"2020-06-25T00:00:00\", \"2020-06-26T00:00:00\", \"2020-06-27T00:00:00\", \"2020-06-28T00:00:00\", \"2020-06-29T00:00:00\", \"2020-06-30T00:00:00\", \"2020-07-01T00:00:00\", \"2020-07-02T00:00:00\", \"2020-07-03T00:00:00\", \"2020-07-04T00:00:00\", \"2020-07-05T00:00:00\", \"2020-07-06T00:00:00\", \"2020-07-07T00:00:00\", \"2020-07-08T00:00:00\", \"2020-07-09T00:00:00\", \"2020-07-10T00:00:00\", \"2020-07-11T00:00:00\", \"2020-07-12T00:00:00\", \"2020-07-13T00:00:00\", \"2020-07-14T00:00:00\", \"2020-07-15T00:00:00\", \"2020-07-16T00:00:00\", \"2020-07-17T00:00:00\", \"2020-07-18T00:00:00\", \"2020-07-19T00:00:00\", \"2020-07-20T00:00:00\", \"2020-07-21T00:00:00\", \"2020-07-22T00:00:00\", \"2020-07-23T00:00:00\", \"2020-07-24T00:00:00\", \"2020-07-25T00:00:00\", \"2020-07-26T00:00:00\", \"2020-07-27T00:00:00\", \"2020-07-28T00:00:00\", \"2020-07-29T00:00:00\", \"2020-07-30T00:00:00\", \"2020-07-31T00:00:00\", \"2020-08-01T00:00:00\", \"2020-08-02T00:00:00\", \"2020-08-03T00:00:00\", \"2020-08-04T00:00:00\", \"2020-08-05T00:00:00\", \"2020-08-06T00:00:00\", \"2020-08-07T00:00:00\", \"2020-08-08T00:00:00\", \"2020-08-09T00:00:00\", \"2020-08-10T00:00:00\", \"2020-08-11T00:00:00\", \"2020-08-12T00:00:00\", \"2020-08-13T00:00:00\", \"2020-08-14T00:00:00\", \"2020-08-15T00:00:00\", \"2020-08-16T00:00:00\", \"2020-08-17T00:00:00\", \"2020-08-18T00:00:00\", \"2020-08-19T00:00:00\", \"2020-08-20T00:00:00\", \"2020-08-21T00:00:00\", \"2020-08-22T00:00:00\", \"2020-08-23T00:00:00\", \"2020-08-24T00:00:00\", \"2020-08-25T00:00:00\", \"2020-08-26T00:00:00\", \"2020-08-27T00:00:00\", \"2020-08-28T00:00:00\", \"2020-08-29T00:00:00\", \"2020-08-30T00:00:00\", \"2020-08-31T00:00:00\", \"2020-09-01T00:00:00\", \"2020-09-02T00:00:00\", \"2020-09-03T00:00:00\", \"2020-09-04T00:00:00\", \"2020-09-05T00:00:00\", \"2020-09-06T00:00:00\", \"2020-09-07T00:00:00\", \"2020-09-08T00:00:00\", \"2020-09-09T00:00:00\", \"2020-09-10T00:00:00\"], \"y\": [0.0, 0.0, 0.0, 0.0, 0.0, 0.0, 0.0, 1.8020615584228357e-05, 1.8020615584228357e-05, 0.0, 0.0, 1.8020615584228357e-05, 1.8020615584228357e-05, 1.8020615584228357e-05, 3.6041231168456714e-05, 3.6041231168456714e-05, 3.6041231168456714e-05, 1.8020615584228357e-05, 1.8020615584228357e-05, 1.8020615584228357e-05, 3.6041231168456714e-05, 3.6041231168456714e-05, 5.4061846752685075e-05, 0.00010812369350537015, 0.0001261443090895985, 0.00014416492467382686, 0.00014416492467382686, 0.00018020615584228358, 0.00023426800259496863, 0.00030635046493188205, 0.0002883298493476537, 0.0002883298493476537, 0.0002883298493476537, 0.000252288618179197, 0.0002703092337634254, 0.000252288618179197, 0.000252288618179197, 0.0002883298493476537, 0.0003784329272687955, 0.0004144741584372522, 0.0005225978519426223, 0.0006127009298637641, 0.0005946803142795358, 0.0005766596986953074, 0.0006487421610322209, 0.0006307215454479925, 0.000756865854537591, 0.0008109277012902761, 0.0007388452389533626, 0.000756865854537591, 0.0007748864701218193, 0.0007748864701218193, 0.000756865854537591, 0.0007748864701218193, 0.0008109277012902761, 0.0008469689324587328, 0.0008289483168745044, 0.0008469689324587328, 0.0008469689324587328, 0.0008109277012902761, 0.000955092625964103, 0.001063216319469473, 0.0010271750883010164, 0.0010992575506379298, 0.0010451957038852446, 0.0010992575506379298, 0.0011352987818063864, 0.0012794637064802133, 0.0012974843220644417, 0.0012254018597275282, 0.001063216319469473, 0.001009154472716788, 0.0011352987818063864, 0.0011533193973906149, 0.0011352987818063864, 0.0009731132415483313, 0.0009731132415483313, 0.0010451957038852446, 0.000955092625964103, 0.0009370720103798745, 0.0009190513947956462, 0.000955092625964103, 0.001009154472716788, 0.0010451957038852446, 0.0010992575506379298, 0.0010812369350537015, 0.0011893606285590715, 0.0012073812441433, 0.0011352987818063864, 0.001063216319469473, 0.001009154472716788, 0.001009154472716788, 0.0011172781662221582, 0.0011893606285590715, 0.0012073812441433, 0.0013515461688171269, 0.0012794637064802133, 0.0012974843220644417, 0.001405608015569812, 0.0014596698623224969, 0.001513731709075182, 0.001567793555827867, 0.001567793555827867, 0.0015858141714120955, 0.0016398760181647804, 0.0016398760181647804, 0.0018381027895912924, 0.001910185251928206, 0.001910185251928206, 0.0019822677142651195, 0.0022886181791970015, 0.0024508037194550564, 0.0026490304908815686, 0.0027931954155553953, 0.0029193397246449937, 0.003027463418150364, 0.0031536077272399624, 0.0032617314207453326, 0.0032977726519137895, 0.0035680818856772146, 0.003928494197361782, 0.0040906797376198374, 0.004198803431125208, 0.004180782815540979, 0.004379009586967491, 0.0045231745116413175, 0.004685360051899373, 0.004847545592157428, 0.005189937288257767, 0.005243999135010452, 0.00537014344410005, 0.005694514524616161, 0.005910761911626901, 0.006054926836300728, 0.00636127730123261, 0.006667627766164492, 0.006595545303827579, 0.006451380379153752, 0.006433359763569523, 0.006577524688243351, 0.006613565919411807, 0.006487421610322209, 0.006505442225906437, 0.006343256685648382, 0.006181071145390326, 0.006072947451884956, 0.005874720680458445, 0.005964823758379586, 0.005874720680458445, 0.005748576371368846, 0.005424205290852736, 0.005298060981763137, 0.005117854825920853, 0.004757442514236286, 0.004631298205146688, 0.004487133280472861, 0.004126720968788294, 0.004108700353204066, 0.004108700353204066, 0.00394651481294601, 0.0036041231168456715, 0.003387875729834931, 0.003135587111655734, 0.003117566496071506, 0.0029373603402292224, 0.0027030923376342537, 0.00263100987529734, 0.002432783103870828, 0.0023967418727023717, 0.0021444532545231744, 0.0019282058675124342, 0.0019282058675124342, 0.0018381027895912924, 0.001711958480501694, 0.0016939378649174655, 0.001513731709075182, 0.00131550493764867, 0.0012974843220644417, 0.0011893606285590715, 0.0010992575506379298, 0.0010271750883010164, 0.000955092625964103, 0.0008649895480429612, 0.0008109277012902761, 0.000702804007784906, 0.0006667627766164492, 0.0006307215454479925, 0.0005586390831110791, 0.0005406184675268508, 0.00045051538960570893, 0.0004324947740214806, 0.0004144741584372522, 0.0003784329272687955, 0.0004324947740214806, 0.00045051538960570893, 0.00046853600518993727, 0.00046853600518993727, 0.0004324947740214806, 0.0004144741584372522, 0.0004324947740214806]}],\n",
       "                        {\"hovermode\": \"x\", \"template\": {\"data\": {\"bar\": [{\"error_x\": {\"color\": \"#2a3f5f\"}, \"error_y\": {\"color\": \"#2a3f5f\"}, \"marker\": {\"line\": {\"color\": \"#E5ECF6\", \"width\": 0.5}}, \"type\": \"bar\"}], \"barpolar\": [{\"marker\": {\"line\": {\"color\": \"#E5ECF6\", \"width\": 0.5}}, \"type\": \"barpolar\"}], \"carpet\": [{\"aaxis\": {\"endlinecolor\": \"#2a3f5f\", \"gridcolor\": \"white\", \"linecolor\": \"white\", \"minorgridcolor\": \"white\", \"startlinecolor\": \"#2a3f5f\"}, \"baxis\": {\"endlinecolor\": \"#2a3f5f\", \"gridcolor\": \"white\", \"linecolor\": \"white\", \"minorgridcolor\": \"white\", \"startlinecolor\": \"#2a3f5f\"}, \"type\": \"carpet\"}], \"choropleth\": [{\"colorbar\": {\"outlinewidth\": 0, \"ticks\": \"\"}, \"type\": \"choropleth\"}], \"contour\": [{\"colorbar\": {\"outlinewidth\": 0, \"ticks\": \"\"}, \"colorscale\": [[0.0, \"#0d0887\"], [0.1111111111111111, \"#46039f\"], [0.2222222222222222, \"#7201a8\"], [0.3333333333333333, \"#9c179e\"], [0.4444444444444444, \"#bd3786\"], [0.5555555555555556, \"#d8576b\"], [0.6666666666666666, \"#ed7953\"], [0.7777777777777778, \"#fb9f3a\"], [0.8888888888888888, \"#fdca26\"], [1.0, \"#f0f921\"]], \"type\": \"contour\"}], \"contourcarpet\": [{\"colorbar\": {\"outlinewidth\": 0, \"ticks\": \"\"}, \"type\": \"contourcarpet\"}], \"heatmap\": [{\"colorbar\": {\"outlinewidth\": 0, \"ticks\": \"\"}, \"colorscale\": [[0.0, \"#0d0887\"], [0.1111111111111111, \"#46039f\"], [0.2222222222222222, \"#7201a8\"], [0.3333333333333333, \"#9c179e\"], [0.4444444444444444, \"#bd3786\"], [0.5555555555555556, \"#d8576b\"], [0.6666666666666666, \"#ed7953\"], [0.7777777777777778, \"#fb9f3a\"], [0.8888888888888888, \"#fdca26\"], [1.0, \"#f0f921\"]], \"type\": \"heatmap\"}], \"heatmapgl\": [{\"colorbar\": {\"outlinewidth\": 0, \"ticks\": \"\"}, \"colorscale\": [[0.0, \"#0d0887\"], [0.1111111111111111, \"#46039f\"], [0.2222222222222222, \"#7201a8\"], [0.3333333333333333, \"#9c179e\"], [0.4444444444444444, \"#bd3786\"], [0.5555555555555556, \"#d8576b\"], [0.6666666666666666, \"#ed7953\"], [0.7777777777777778, \"#fb9f3a\"], [0.8888888888888888, \"#fdca26\"], [1.0, \"#f0f921\"]], \"type\": \"heatmapgl\"}], \"histogram\": [{\"marker\": {\"colorbar\": {\"outlinewidth\": 0, \"ticks\": \"\"}}, \"type\": \"histogram\"}], \"histogram2d\": [{\"colorbar\": {\"outlinewidth\": 0, \"ticks\": \"\"}, \"colorscale\": [[0.0, \"#0d0887\"], [0.1111111111111111, \"#46039f\"], [0.2222222222222222, \"#7201a8\"], [0.3333333333333333, \"#9c179e\"], [0.4444444444444444, \"#bd3786\"], [0.5555555555555556, \"#d8576b\"], [0.6666666666666666, \"#ed7953\"], [0.7777777777777778, \"#fb9f3a\"], [0.8888888888888888, \"#fdca26\"], [1.0, \"#f0f921\"]], \"type\": \"histogram2d\"}], \"histogram2dcontour\": [{\"colorbar\": {\"outlinewidth\": 0, \"ticks\": \"\"}, \"colorscale\": [[0.0, \"#0d0887\"], [0.1111111111111111, \"#46039f\"], [0.2222222222222222, \"#7201a8\"], [0.3333333333333333, \"#9c179e\"], [0.4444444444444444, \"#bd3786\"], [0.5555555555555556, \"#d8576b\"], [0.6666666666666666, \"#ed7953\"], [0.7777777777777778, \"#fb9f3a\"], [0.8888888888888888, \"#fdca26\"], [1.0, \"#f0f921\"]], \"type\": \"histogram2dcontour\"}], \"mesh3d\": [{\"colorbar\": {\"outlinewidth\": 0, \"ticks\": \"\"}, \"type\": \"mesh3d\"}], \"parcoords\": [{\"line\": {\"colorbar\": {\"outlinewidth\": 0, \"ticks\": \"\"}}, \"type\": \"parcoords\"}], \"pie\": [{\"automargin\": true, \"type\": \"pie\"}], \"scatter\": [{\"marker\": {\"colorbar\": {\"outlinewidth\": 0, \"ticks\": \"\"}}, \"type\": \"scatter\"}], \"scatter3d\": [{\"line\": {\"colorbar\": {\"outlinewidth\": 0, \"ticks\": \"\"}}, \"marker\": {\"colorbar\": {\"outlinewidth\": 0, \"ticks\": \"\"}}, \"type\": \"scatter3d\"}], \"scattercarpet\": [{\"marker\": {\"colorbar\": {\"outlinewidth\": 0, \"ticks\": \"\"}}, \"type\": \"scattercarpet\"}], \"scattergeo\": [{\"marker\": {\"colorbar\": {\"outlinewidth\": 0, \"ticks\": \"\"}}, \"type\": \"scattergeo\"}], \"scattergl\": [{\"marker\": {\"colorbar\": {\"outlinewidth\": 0, \"ticks\": \"\"}}, \"type\": \"scattergl\"}], \"scattermapbox\": [{\"marker\": {\"colorbar\": {\"outlinewidth\": 0, \"ticks\": \"\"}}, \"type\": \"scattermapbox\"}], \"scatterpolar\": [{\"marker\": {\"colorbar\": {\"outlinewidth\": 0, \"ticks\": \"\"}}, \"type\": \"scatterpolar\"}], \"scatterpolargl\": [{\"marker\": {\"colorbar\": {\"outlinewidth\": 0, \"ticks\": \"\"}}, \"type\": \"scatterpolargl\"}], \"scatterternary\": [{\"marker\": {\"colorbar\": {\"outlinewidth\": 0, \"ticks\": \"\"}}, \"type\": \"scatterternary\"}], \"surface\": [{\"colorbar\": {\"outlinewidth\": 0, \"ticks\": \"\"}, \"colorscale\": [[0.0, \"#0d0887\"], [0.1111111111111111, \"#46039f\"], [0.2222222222222222, \"#7201a8\"], [0.3333333333333333, \"#9c179e\"], [0.4444444444444444, \"#bd3786\"], [0.5555555555555556, \"#d8576b\"], [0.6666666666666666, \"#ed7953\"], [0.7777777777777778, \"#fb9f3a\"], [0.8888888888888888, \"#fdca26\"], [1.0, \"#f0f921\"]], \"type\": \"surface\"}], \"table\": [{\"cells\": {\"fill\": {\"color\": \"#EBF0F8\"}, \"line\": {\"color\": \"white\"}}, \"header\": {\"fill\": {\"color\": \"#C8D4E3\"}, \"line\": {\"color\": \"white\"}}, \"type\": \"table\"}]}, \"layout\": {\"annotationdefaults\": {\"arrowcolor\": \"#2a3f5f\", \"arrowhead\": 0, \"arrowwidth\": 1}, \"coloraxis\": {\"colorbar\": {\"outlinewidth\": 0, \"ticks\": \"\"}}, \"colorscale\": {\"diverging\": [[0, \"#8e0152\"], [0.1, \"#c51b7d\"], [0.2, \"#de77ae\"], [0.3, \"#f1b6da\"], [0.4, \"#fde0ef\"], [0.5, \"#f7f7f7\"], [0.6, \"#e6f5d0\"], [0.7, \"#b8e186\"], [0.8, \"#7fbc41\"], [0.9, \"#4d9221\"], [1, \"#276419\"]], \"sequential\": [[0.0, \"#0d0887\"], [0.1111111111111111, \"#46039f\"], [0.2222222222222222, \"#7201a8\"], [0.3333333333333333, \"#9c179e\"], [0.4444444444444444, \"#bd3786\"], [0.5555555555555556, \"#d8576b\"], [0.6666666666666666, \"#ed7953\"], [0.7777777777777778, \"#fb9f3a\"], [0.8888888888888888, \"#fdca26\"], [1.0, \"#f0f921\"]], \"sequentialminus\": [[0.0, \"#0d0887\"], [0.1111111111111111, \"#46039f\"], [0.2222222222222222, \"#7201a8\"], [0.3333333333333333, \"#9c179e\"], [0.4444444444444444, \"#bd3786\"], [0.5555555555555556, \"#d8576b\"], [0.6666666666666666, \"#ed7953\"], [0.7777777777777778, \"#fb9f3a\"], [0.8888888888888888, \"#fdca26\"], [1.0, \"#f0f921\"]]}, \"colorway\": [\"#636efa\", \"#EF553B\", \"#00cc96\", \"#ab63fa\", \"#FFA15A\", \"#19d3f3\", \"#FF6692\", \"#B6E880\", \"#FF97FF\", \"#FECB52\"], \"font\": {\"color\": \"#2a3f5f\"}, \"geo\": {\"bgcolor\": \"white\", \"lakecolor\": \"white\", \"landcolor\": \"#E5ECF6\", \"showlakes\": true, \"showland\": true, \"subunitcolor\": \"white\"}, \"hoverlabel\": {\"align\": \"left\"}, \"hovermode\": \"closest\", \"mapbox\": {\"style\": \"light\"}, \"paper_bgcolor\": \"white\", \"plot_bgcolor\": \"#E5ECF6\", \"polar\": {\"angularaxis\": {\"gridcolor\": \"white\", \"linecolor\": \"white\", \"ticks\": \"\"}, \"bgcolor\": \"#E5ECF6\", \"radialaxis\": {\"gridcolor\": \"white\", \"linecolor\": \"white\", \"ticks\": \"\"}}, \"scene\": {\"xaxis\": {\"backgroundcolor\": \"#E5ECF6\", \"gridcolor\": \"white\", \"gridwidth\": 2, \"linecolor\": \"white\", \"showbackground\": true, \"ticks\": \"\", \"zerolinecolor\": \"white\"}, \"yaxis\": {\"backgroundcolor\": \"#E5ECF6\", \"gridcolor\": \"white\", \"gridwidth\": 2, \"linecolor\": \"white\", \"showbackground\": true, \"ticks\": \"\", \"zerolinecolor\": \"white\"}, \"zaxis\": {\"backgroundcolor\": \"#E5ECF6\", \"gridcolor\": \"white\", \"gridwidth\": 2, \"linecolor\": \"white\", \"showbackground\": true, \"ticks\": \"\", \"zerolinecolor\": \"white\"}}, \"shapedefaults\": {\"line\": {\"color\": \"#2a3f5f\"}}, \"ternary\": {\"aaxis\": {\"gridcolor\": \"white\", \"linecolor\": \"white\", \"ticks\": \"\"}, \"baxis\": {\"gridcolor\": \"white\", \"linecolor\": \"white\", \"ticks\": \"\"}, \"bgcolor\": \"#E5ECF6\", \"caxis\": {\"gridcolor\": \"white\", \"linecolor\": \"white\", \"ticks\": \"\"}}, \"title\": {\"x\": 0.05}, \"xaxis\": {\"automargin\": true, \"gridcolor\": \"white\", \"linecolor\": \"white\", \"ticks\": \"\", \"title\": {\"standoff\": 15}, \"zerolinecolor\": \"white\", \"zerolinewidth\": 2}, \"yaxis\": {\"automargin\": true, \"gridcolor\": \"white\", \"linecolor\": \"white\", \"ticks\": \"\", \"title\": {\"standoff\": 15}, \"zerolinecolor\": \"white\", \"zerolinewidth\": 2}}}},\n",
       "                        {\"responsive\": true}\n",
       "                    ).then(function(){\n",
       "                            \n",
       "var gd = document.getElementById('60f57133-1370-431a-97dd-89a550415256');\n",
       "var x = new MutationObserver(function (mutations, observer) {{\n",
       "        var display = window.getComputedStyle(gd).display;\n",
       "        if (!display || display === 'none') {{\n",
       "            console.log([gd, 'removed!']);\n",
       "            Plotly.purge(gd);\n",
       "            observer.disconnect();\n",
       "        }}\n",
       "}});\n",
       "\n",
       "// Listen for the removal of the full notebook cells\n",
       "var notebookContainer = gd.closest('#notebook-container');\n",
       "if (notebookContainer) {{\n",
       "    x.observe(notebookContainer, {childList: true});\n",
       "}}\n",
       "\n",
       "// Listen for the clearing of the current output cell\n",
       "var outputEl = gd.closest('.output');\n",
       "if (outputEl) {{\n",
       "    x.observe(outputEl, {childList: true});\n",
       "}}\n",
       "\n",
       "                        })\n",
       "                };\n",
       "                });\n",
       "            </script>\n",
       "        </div>"
      ]
     },
     "metadata": {},
     "output_type": "display_data"
    },
    {
     "data": {
      "application/vnd.plotly.v1+json": {
       "config": {
        "plotlyServerURL": "https://plot.ly"
       },
       "data": [
        {
         "line": {
          "color": "royalblue",
          "width": 3
         },
         "name": "hospitalized",
         "type": "scatter",
         "x": [
          "2020-02-24T00:00:00",
          "2020-02-25T00:00:00",
          "2020-02-26T00:00:00",
          "2020-02-27T00:00:00",
          "2020-02-28T00:00:00",
          "2020-02-29T00:00:00",
          "2020-03-01T00:00:00",
          "2020-03-02T00:00:00",
          "2020-03-03T00:00:00",
          "2020-03-04T00:00:00",
          "2020-03-05T00:00:00",
          "2020-03-06T00:00:00",
          "2020-03-07T00:00:00",
          "2020-03-08T00:00:00",
          "2020-03-09T00:00:00",
          "2020-03-10T00:00:00",
          "2020-03-11T00:00:00",
          "2020-03-12T00:00:00",
          "2020-03-13T00:00:00",
          "2020-03-14T00:00:00",
          "2020-03-15T00:00:00",
          "2020-03-16T00:00:00",
          "2020-03-17T00:00:00",
          "2020-03-18T00:00:00",
          "2020-03-19T00:00:00",
          "2020-03-20T00:00:00",
          "2020-03-21T00:00:00",
          "2020-03-22T00:00:00",
          "2020-03-23T00:00:00",
          "2020-03-24T00:00:00",
          "2020-03-25T00:00:00",
          "2020-03-26T00:00:00",
          "2020-03-27T00:00:00",
          "2020-03-28T00:00:00",
          "2020-03-29T00:00:00",
          "2020-03-30T00:00:00",
          "2020-03-31T00:00:00",
          "2020-04-01T00:00:00",
          "2020-04-02T00:00:00",
          "2020-04-03T00:00:00",
          "2020-04-04T00:00:00",
          "2020-04-05T00:00:00",
          "2020-04-06T00:00:00",
          "2020-04-07T00:00:00",
          "2020-04-08T00:00:00",
          "2020-04-09T00:00:00",
          "2020-04-10T00:00:00",
          "2020-04-11T00:00:00",
          "2020-04-12T00:00:00",
          "2020-04-13T00:00:00",
          "2020-04-14T00:00:00",
          "2020-04-15T00:00:00",
          "2020-04-16T00:00:00",
          "2020-04-17T00:00:00",
          "2020-04-18T00:00:00",
          "2020-04-19T00:00:00",
          "2020-04-20T00:00:00",
          "2020-04-21T00:00:00",
          "2020-04-22T00:00:00",
          "2020-04-23T00:00:00",
          "2020-04-24T00:00:00",
          "2020-04-25T00:00:00",
          "2020-04-26T00:00:00",
          "2020-04-27T00:00:00",
          "2020-04-28T00:00:00",
          "2020-04-29T00:00:00",
          "2020-04-30T00:00:00",
          "2020-05-01T00:00:00",
          "2020-05-02T00:00:00",
          "2020-05-03T00:00:00",
          "2020-05-04T00:00:00",
          "2020-05-05T00:00:00",
          "2020-05-06T00:00:00",
          "2020-05-07T00:00:00",
          "2020-05-08T00:00:00",
          "2020-05-09T00:00:00",
          "2020-05-10T00:00:00",
          "2020-05-11T00:00:00",
          "2020-05-12T00:00:00",
          "2020-05-13T00:00:00",
          "2020-05-14T00:00:00",
          "2020-05-15T00:00:00",
          "2020-05-16T00:00:00",
          "2020-05-17T00:00:00",
          "2020-05-18T00:00:00",
          "2020-05-19T00:00:00",
          "2020-05-20T00:00:00",
          "2020-05-21T00:00:00",
          "2020-05-22T00:00:00",
          "2020-05-23T00:00:00",
          "2020-05-24T00:00:00",
          "2020-05-25T00:00:00",
          "2020-05-26T00:00:00",
          "2020-05-27T00:00:00",
          "2020-05-28T00:00:00",
          "2020-05-29T00:00:00",
          "2020-05-30T00:00:00",
          "2020-05-31T00:00:00",
          "2020-06-01T00:00:00",
          "2020-06-02T00:00:00",
          "2020-06-03T00:00:00",
          "2020-06-04T00:00:00",
          "2020-06-05T00:00:00",
          "2020-06-06T00:00:00",
          "2020-06-07T00:00:00",
          "2020-06-08T00:00:00",
          "2020-06-09T00:00:00",
          "2020-06-10T00:00:00",
          "2020-06-11T00:00:00",
          "2020-06-12T00:00:00",
          "2020-06-13T00:00:00",
          "2020-06-14T00:00:00",
          "2020-06-15T00:00:00",
          "2020-06-16T00:00:00",
          "2020-06-17T00:00:00",
          "2020-06-18T00:00:00",
          "2020-06-19T00:00:00",
          "2020-06-20T00:00:00",
          "2020-06-21T00:00:00",
          "2020-06-22T00:00:00",
          "2020-06-23T00:00:00",
          "2020-06-24T00:00:00",
          "2020-06-25T00:00:00",
          "2020-06-26T00:00:00",
          "2020-06-27T00:00:00",
          "2020-06-28T00:00:00",
          "2020-06-29T00:00:00",
          "2020-06-30T00:00:00",
          "2020-07-01T00:00:00",
          "2020-07-02T00:00:00",
          "2020-07-03T00:00:00",
          "2020-07-04T00:00:00",
          "2020-07-05T00:00:00",
          "2020-07-06T00:00:00",
          "2020-07-07T00:00:00",
          "2020-07-08T00:00:00",
          "2020-07-09T00:00:00",
          "2020-07-10T00:00:00",
          "2020-07-11T00:00:00",
          "2020-07-12T00:00:00",
          "2020-07-13T00:00:00",
          "2020-07-14T00:00:00",
          "2020-07-15T00:00:00",
          "2020-07-16T00:00:00",
          "2020-07-17T00:00:00",
          "2020-07-18T00:00:00",
          "2020-07-19T00:00:00",
          "2020-07-20T00:00:00",
          "2020-07-21T00:00:00",
          "2020-07-22T00:00:00",
          "2020-07-23T00:00:00",
          "2020-07-24T00:00:00",
          "2020-07-25T00:00:00",
          "2020-07-26T00:00:00",
          "2020-07-27T00:00:00",
          "2020-07-28T00:00:00",
          "2020-07-29T00:00:00",
          "2020-07-30T00:00:00",
          "2020-07-31T00:00:00",
          "2020-08-01T00:00:00",
          "2020-08-02T00:00:00",
          "2020-08-03T00:00:00",
          "2020-08-04T00:00:00",
          "2020-08-05T00:00:00",
          "2020-08-06T00:00:00",
          "2020-08-07T00:00:00",
          "2020-08-08T00:00:00",
          "2020-08-09T00:00:00",
          "2020-08-10T00:00:00",
          "2020-08-11T00:00:00",
          "2020-08-12T00:00:00",
          "2020-08-13T00:00:00",
          "2020-08-14T00:00:00",
          "2020-08-15T00:00:00",
          "2020-08-16T00:00:00",
          "2020-08-17T00:00:00",
          "2020-08-18T00:00:00",
          "2020-08-19T00:00:00",
          "2020-08-20T00:00:00",
          "2020-08-21T00:00:00",
          "2020-08-22T00:00:00",
          "2020-08-23T00:00:00",
          "2020-08-24T00:00:00",
          "2020-08-25T00:00:00",
          "2020-08-26T00:00:00",
          "2020-08-27T00:00:00",
          "2020-08-28T00:00:00",
          "2020-08-29T00:00:00",
          "2020-08-30T00:00:00",
          "2020-08-31T00:00:00",
          "2020-09-01T00:00:00",
          "2020-09-02T00:00:00",
          "2020-09-03T00:00:00",
          "2020-09-04T00:00:00",
          "2020-09-05T00:00:00",
          "2020-09-06T00:00:00",
          "2020-09-07T00:00:00",
          "2020-09-08T00:00:00",
          "2020-09-09T00:00:00",
          "2020-09-10T00:00:00",
          "2020-09-11T00:00:00",
          "2020-09-12T00:00:00"
         ],
         "y": [
          0,
          0,
          0,
          0,
          0,
          0,
          0,
          1.8181818181818182e-05,
          1.8181818181818182e-05,
          0,
          0,
          1.8181818181818182e-05,
          1.8181818181818182e-05,
          1.8181818181818182e-05,
          3.6363636363636364e-05,
          3.6363636363636364e-05,
          3.6363636363636364e-05,
          1.8181818181818182e-05,
          1.8181818181818182e-05,
          1.8181818181818182e-05,
          3.6363636363636364e-05,
          3.6363636363636364e-05,
          5.4545454545454546e-05,
          0.00010909090909090909,
          0.00012727272727272728,
          0.00014545454545454546,
          0.00014545454545454546,
          0.0001818181818181818,
          0.00023636363636363636,
          0.0003090909090909091,
          0.0002909090909090909,
          0.0002909090909090909,
          0.0002909090909090909,
          0.00025454545454545456,
          0.00027272727272727274,
          0.00025454545454545456,
          0.00025454545454545456,
          0.0002909090909090909,
          0.00038181818181818184,
          0.0004181818181818182,
          0.0005272727272727272,
          0.0006181818181818182,
          0.0006,
          0.0005818181818181818,
          0.0006545454545454545,
          0.0006363636363636364,
          0.0007636363636363637,
          0.0008181818181818182,
          0.0007454545454545455,
          0.0007636363636363637,
          0.0007818181818181818,
          0.0007818181818181818,
          0.0007636363636363637,
          0.0007818181818181818,
          0.0008181818181818182,
          0.0008545454545454545,
          0.0008363636363636364,
          0.0008545454545454545,
          0.0008545454545454545,
          0.0008181818181818182,
          0.0009636363636363637,
          0.0010727272727272727,
          0.0010363636363636363,
          0.0011090909090909092,
          0.0010545454545454545,
          0.0011090909090909092,
          0.0011454545454545454,
          0.0012909090909090908,
          0.001309090909090909,
          0.0012363636363636364,
          0.0010727272727272727,
          0.0010181818181818183,
          0.0011454545454545454,
          0.0011636363636363637,
          0.0011454545454545454,
          0.0009818181818181818,
          0.0009818181818181818,
          0.0010545454545454545,
          0.0009636363636363637,
          0.0009454545454545454,
          0.0009272727272727273,
          0.0009636363636363637,
          0.0010181818181818183,
          0.0010545454545454545,
          0.0011090909090909092,
          0.001090909090909091,
          0.0012,
          0.0012181818181818181,
          0.0011454545454545454,
          0.0010727272727272727,
          0.0010181818181818183,
          0.0010181818181818183,
          0.0011272727272727272,
          0.0012,
          0.0012181818181818181,
          0.0013636363636363637,
          0.0012909090909090908,
          0.001309090909090909,
          0.0014181818181818182,
          0.0014727272727272727,
          0.0015272727272727274,
          0.0015818181818181818,
          0.0015818181818181818,
          0.0016,
          0.0016545454545454545,
          0.0016545454545454545,
          0.0018545454545454546,
          0.0019272727272727273,
          0.0019272727272727273,
          0.002,
          0.002309090909090909,
          0.0024727272727272727,
          0.002672727272727273,
          0.002818181818181818,
          0.0029454545454545454,
          0.0030545454545454548,
          0.003181818181818182,
          0.003290909090909091,
          0.0033272727272727273,
          0.0036,
          0.003963636363636364,
          0.004127272727272728,
          0.004236363636363636,
          0.004218181818181818,
          0.0044181818181818185,
          0.0045636363636363635,
          0.0047272727272727275,
          0.004890909090909091,
          0.005236363636363636,
          0.005290909090909091,
          0.0054181818181818185,
          0.005745454545454546,
          0.005963636363636364,
          0.0061090909090909095,
          0.0064181818181818185,
          0.006727272727272728,
          0.006654545454545455,
          0.006509090909090909,
          0.006490909090909091,
          0.006636363636363636,
          0.006672727272727273,
          0.006545454545454545,
          0.0065636363636363635,
          0.0064,
          0.006236363636363636,
          0.006127272727272727,
          0.005927272727272727,
          0.006018181818181818,
          0.005927272727272727,
          0.0058,
          0.005472727272727272,
          0.005345454545454546,
          0.005163636363636363,
          0.0048,
          0.004672727272727273,
          0.004527272727272727,
          0.004163636363636363,
          0.004145454545454545,
          0.004145454545454545,
          0.003981818181818182,
          0.0036363636363636364,
          0.003418181818181818,
          0.0031636363636363637,
          0.0031454545454545455,
          0.0029636363636363636,
          0.0027272727272727275,
          0.0026545454545454546,
          0.0024545454545454545,
          0.002418181818181818,
          0.0021636363636363637,
          0.0019454545454545454,
          0.0019454545454545454,
          0.0018545454545454546,
          0.0017272727272727272,
          0.001709090909090909,
          0.0015272727272727274,
          0.0013272727272727273,
          0.001309090909090909,
          0.0012,
          0.0011090909090909092,
          0.0010363636363636363,
          0.0009636363636363637,
          0.0008727272727272727,
          0.0008181818181818182,
          0.0007090909090909091,
          0.0006727272727272728,
          0.0006363636363636364,
          0.0005636363636363636,
          0.0005454545454545455,
          0.00045454545454545455,
          0.00043636363636363637,
          0.0004181818181818182,
          0.00038181818181818184,
          0.00043636363636363637,
          0.00045454545454545455,
          0.0004727272727272727,
          0.0004727272727272727,
          0.00043636363636363637,
          0.0004181818181818182,
          0.00043636363636363637
         ]
        },
        {
         "line": {
          "color": "firebrick",
          "width": 3
         },
         "name": "exposed",
         "type": "scatter",
         "x": [
          "2020-02-24T00:00:00",
          "2020-02-25T00:00:00",
          "2020-02-26T00:00:00",
          "2020-02-27T00:00:00",
          "2020-02-28T00:00:00",
          "2020-02-29T00:00:00",
          "2020-03-01T00:00:00",
          "2020-03-02T00:00:00",
          "2020-03-03T00:00:00",
          "2020-03-04T00:00:00",
          "2020-03-05T00:00:00",
          "2020-03-06T00:00:00",
          "2020-03-07T00:00:00",
          "2020-03-08T00:00:00",
          "2020-03-09T00:00:00",
          "2020-03-10T00:00:00",
          "2020-03-11T00:00:00",
          "2020-03-12T00:00:00",
          "2020-03-13T00:00:00",
          "2020-03-14T00:00:00",
          "2020-03-15T00:00:00",
          "2020-03-16T00:00:00",
          "2020-03-17T00:00:00",
          "2020-03-18T00:00:00",
          "2020-03-19T00:00:00",
          "2020-03-20T00:00:00",
          "2020-03-21T00:00:00",
          "2020-03-22T00:00:00",
          "2020-03-23T00:00:00",
          "2020-03-24T00:00:00",
          "2020-03-25T00:00:00",
          "2020-03-26T00:00:00",
          "2020-03-27T00:00:00",
          "2020-03-28T00:00:00",
          "2020-03-29T00:00:00",
          "2020-03-30T00:00:00",
          "2020-03-31T00:00:00",
          "2020-04-01T00:00:00",
          "2020-04-02T00:00:00",
          "2020-04-03T00:00:00",
          "2020-04-04T00:00:00",
          "2020-04-05T00:00:00",
          "2020-04-06T00:00:00",
          "2020-04-07T00:00:00",
          "2020-04-08T00:00:00",
          "2020-04-09T00:00:00",
          "2020-04-10T00:00:00",
          "2020-04-11T00:00:00",
          "2020-04-12T00:00:00",
          "2020-04-13T00:00:00",
          "2020-04-14T00:00:00",
          "2020-04-15T00:00:00",
          "2020-04-16T00:00:00",
          "2020-04-17T00:00:00",
          "2020-04-18T00:00:00",
          "2020-04-19T00:00:00",
          "2020-04-20T00:00:00",
          "2020-04-21T00:00:00",
          "2020-04-22T00:00:00",
          "2020-04-23T00:00:00",
          "2020-04-24T00:00:00",
          "2020-04-25T00:00:00",
          "2020-04-26T00:00:00",
          "2020-04-27T00:00:00",
          "2020-04-28T00:00:00",
          "2020-04-29T00:00:00",
          "2020-04-30T00:00:00",
          "2020-05-01T00:00:00",
          "2020-05-02T00:00:00",
          "2020-05-03T00:00:00",
          "2020-05-04T00:00:00",
          "2020-05-05T00:00:00",
          "2020-05-06T00:00:00",
          "2020-05-07T00:00:00",
          "2020-05-08T00:00:00",
          "2020-05-09T00:00:00",
          "2020-05-10T00:00:00",
          "2020-05-11T00:00:00",
          "2020-05-12T00:00:00",
          "2020-05-13T00:00:00",
          "2020-05-14T00:00:00",
          "2020-05-15T00:00:00",
          "2020-05-16T00:00:00",
          "2020-05-17T00:00:00",
          "2020-05-18T00:00:00",
          "2020-05-19T00:00:00",
          "2020-05-20T00:00:00",
          "2020-05-21T00:00:00",
          "2020-05-22T00:00:00",
          "2020-05-23T00:00:00",
          "2020-05-24T00:00:00",
          "2020-05-25T00:00:00",
          "2020-05-26T00:00:00",
          "2020-05-27T00:00:00",
          "2020-05-28T00:00:00",
          "2020-05-29T00:00:00",
          "2020-05-30T00:00:00",
          "2020-05-31T00:00:00",
          "2020-06-01T00:00:00",
          "2020-06-02T00:00:00",
          "2020-06-03T00:00:00",
          "2020-06-04T00:00:00",
          "2020-06-05T00:00:00",
          "2020-06-06T00:00:00",
          "2020-06-07T00:00:00",
          "2020-06-08T00:00:00",
          "2020-06-09T00:00:00",
          "2020-06-10T00:00:00",
          "2020-06-11T00:00:00",
          "2020-06-12T00:00:00",
          "2020-06-13T00:00:00",
          "2020-06-14T00:00:00",
          "2020-06-15T00:00:00",
          "2020-06-16T00:00:00",
          "2020-06-17T00:00:00",
          "2020-06-18T00:00:00",
          "2020-06-19T00:00:00",
          "2020-06-20T00:00:00",
          "2020-06-21T00:00:00",
          "2020-06-22T00:00:00",
          "2020-06-23T00:00:00",
          "2020-06-24T00:00:00",
          "2020-06-25T00:00:00",
          "2020-06-26T00:00:00",
          "2020-06-27T00:00:00",
          "2020-06-28T00:00:00",
          "2020-06-29T00:00:00",
          "2020-06-30T00:00:00",
          "2020-07-01T00:00:00",
          "2020-07-02T00:00:00",
          "2020-07-03T00:00:00",
          "2020-07-04T00:00:00",
          "2020-07-05T00:00:00",
          "2020-07-06T00:00:00",
          "2020-07-07T00:00:00",
          "2020-07-08T00:00:00",
          "2020-07-09T00:00:00",
          "2020-07-10T00:00:00",
          "2020-07-11T00:00:00",
          "2020-07-12T00:00:00",
          "2020-07-13T00:00:00",
          "2020-07-14T00:00:00",
          "2020-07-15T00:00:00",
          "2020-07-16T00:00:00",
          "2020-07-17T00:00:00",
          "2020-07-18T00:00:00",
          "2020-07-19T00:00:00",
          "2020-07-20T00:00:00",
          "2020-07-21T00:00:00",
          "2020-07-22T00:00:00",
          "2020-07-23T00:00:00",
          "2020-07-24T00:00:00",
          "2020-07-25T00:00:00",
          "2020-07-26T00:00:00",
          "2020-07-27T00:00:00",
          "2020-07-28T00:00:00",
          "2020-07-29T00:00:00",
          "2020-07-30T00:00:00",
          "2020-07-31T00:00:00",
          "2020-08-01T00:00:00",
          "2020-08-02T00:00:00",
          "2020-08-03T00:00:00",
          "2020-08-04T00:00:00",
          "2020-08-05T00:00:00",
          "2020-08-06T00:00:00",
          "2020-08-07T00:00:00",
          "2020-08-08T00:00:00",
          "2020-08-09T00:00:00",
          "2020-08-10T00:00:00",
          "2020-08-11T00:00:00",
          "2020-08-12T00:00:00",
          "2020-08-13T00:00:00",
          "2020-08-14T00:00:00",
          "2020-08-15T00:00:00",
          "2020-08-16T00:00:00",
          "2020-08-17T00:00:00",
          "2020-08-18T00:00:00",
          "2020-08-19T00:00:00",
          "2020-08-20T00:00:00",
          "2020-08-21T00:00:00",
          "2020-08-22T00:00:00",
          "2020-08-23T00:00:00",
          "2020-08-24T00:00:00",
          "2020-08-25T00:00:00",
          "2020-08-26T00:00:00",
          "2020-08-27T00:00:00",
          "2020-08-28T00:00:00",
          "2020-08-29T00:00:00",
          "2020-08-30T00:00:00",
          "2020-08-31T00:00:00",
          "2020-09-01T00:00:00",
          "2020-09-02T00:00:00",
          "2020-09-03T00:00:00",
          "2020-09-04T00:00:00",
          "2020-09-05T00:00:00",
          "2020-09-06T00:00:00",
          "2020-09-07T00:00:00",
          "2020-09-08T00:00:00",
          "2020-09-09T00:00:00",
          "2020-09-10T00:00:00",
          "2020-09-11T00:00:00",
          "2020-09-12T00:00:00"
         ],
         "y": [
          0.0001818181818181818,
          0.00025454545454545456,
          0.00034545454545454544,
          0.00043636363636363637,
          0.0004727272727272727,
          0.0005090909090909091,
          0.0005454545454545455,
          0.0006,
          0.0006909090909090909,
          0.0008545454545454545,
          0.0008909090909090909,
          0.0010181818181818183,
          0.0010727272727272727,
          0.001090909090909091,
          0.0013636363636363637,
          0.0016363636363636363,
          0.0020727272727272725,
          0.0022181818181818184,
          0.0024727272727272727,
          0.0028,
          0.0030545454545454548,
          0.0034363636363636363,
          0.0034545454545454545,
          0.0037818181818181818,
          0.004090909090909091,
          0.004545454545454545,
          0.005145454545454545,
          0.005272727272727273,
          0.005472727272727272,
          0.005636363636363636,
          0.005818181818181818,
          0.005890909090909091,
          0.006072727272727273,
          0.0062545454545454545,
          0.0061090909090909095,
          0.006145454545454545,
          0.006472727272727272,
          0.0066,
          0.006581818181818182,
          0.0065636363636363635,
          0.006672727272727273,
          0.006290909090909091,
          0.006490909090909091,
          0.006763636363636364,
          0.007054545454545455,
          0.007272727272727273,
          0.007145454545454545,
          0.007472727272727272,
          0.007745454545454546,
          0.007945454545454545,
          0.007690909090909091,
          0.007345454545454546,
          0.007763636363636364,
          0.0074181818181818186,
          0.007363636363636364,
          0.007709090909090909,
          0.007781818181818181,
          0.007745454545454546,
          0.007945454545454545,
          0.008509090909090909,
          0.008181818181818182,
          0.008127272727272728,
          0.00810909090909091,
          0.008072727272727273,
          0.007654545454545455,
          0.007981818181818182,
          0.0082,
          0.008418181818181818,
          0.008309090909090908,
          0.008654545454545455,
          0.0086,
          0.00849090909090909,
          0.008781818181818182,
          0.009054545454545454,
          0.008672727272727273,
          0.008727272727272728,
          0.008363636363636363,
          0.00829090909090909,
          0.008054545454545455,
          0.008327272727272727,
          0.0084,
          0.008690909090909091,
          0.008254545454545455,
          0.008654545454545455,
          0.008654545454545455,
          0.008636363636363636,
          0.008672727272727273,
          0.009127272727272727,
          0.008927272727272728,
          0.010781818181818182,
          0.012763636363636364,
          0.013963636363636364,
          0.015054545454545454,
          0.016454545454545454,
          0.016890909090909092,
          0.018036363636363635,
          0.019236363636363635,
          0.021509090909090908,
          0.0234,
          0.02541818181818182,
          0.027836363636363635,
          0.02950909090909091,
          0.03278181818181818,
          0.034236363636363634,
          0.03650909090909091,
          0.038363636363636364,
          0.039163636363636366,
          0.04114545454545455,
          0.042727272727272725,
          0.044690909090909094,
          0.04690909090909091,
          0.04747272727272727,
          0.04949090909090909,
          0.0516,
          0.05287272727272727,
          0.053654545454545455,
          0.05454545454545454,
          0.054654545454545456,
          0.05543636363636364,
          0.05610909090909091,
          0.0558,
          0.0568,
          0.055872727272727275,
          0.055163636363636366,
          0.0548,
          0.05565454545454546,
          0.05570909090909091,
          0.05454545454545454,
          0.05307272727272727,
          0.05138181818181818,
          0.050981818181818184,
          0.049763636363636364,
          0.048327272727272726,
          0.04605454545454545,
          0.04410909090909091,
          0.0428,
          0.0414,
          0.03949090909090909,
          0.03807272727272727,
          0.03649090909090909,
          0.035036363636363636,
          0.032527272727272724,
          0.031181818181818182,
          0.029327272727272726,
          0.027581818181818183,
          0.025872727272727273,
          0.02498181818181818,
          0.023054545454545456,
          0.022272727272727274,
          0.02090909090909091,
          0.02,
          0.018654545454545455,
          0.01710909090909091,
          0.015963636363636364,
          0.015436363636363637,
          0.014581818181818182,
          0.01330909090909091,
          0.012018181818181818,
          0.0116,
          0.01109090909090909,
          0.010654545454545455,
          0.010036363636363637,
          0.009454545454545455,
          0.00870909090909091,
          0.008127272727272728,
          0.008,
          0.0069454545454545455,
          0.006163636363636363,
          0.0062,
          0.0059454545454545454,
          0.005236363636363636,
          0.004690909090909091,
          0.0044181818181818185,
          0.0044,
          0.004090909090909091,
          0.0038545454545454547,
          0.003618181818181818,
          0.0033454545454545456,
          0.0031272727272727272,
          0.0029636363636363636,
          0.0027272727272727275,
          0.002509090909090909,
          0.002309090909090909,
          0.0021454545454545454,
          0.0020909090909090908,
          0.0020363636363636365,
          0.0020545454545454547,
          0.0019090909090909091,
          0.0015272727272727274,
          0.0012909090909090908,
          0.0014545454545454545,
          0.0016,
          0.0015090909090909091,
          0.0015454545454545454,
          0.0015636363636363636,
          0.0013454545454545455,
          0.0014,
          0.0013636363636363637,
          0.0013272727272727273,
          0.0012727272727272728
         ]
        },
        {
         "line": {
          "color": "black",
          "dash": "dash",
          "width": 2
         },
         "name": "capacity",
         "type": "scatter",
         "x": [
          "2020-02-24T00:00:00",
          "2020-02-25T00:00:00",
          "2020-02-26T00:00:00",
          "2020-02-27T00:00:00",
          "2020-02-28T00:00:00",
          "2020-02-29T00:00:00",
          "2020-03-01T00:00:00",
          "2020-03-02T00:00:00",
          "2020-03-03T00:00:00",
          "2020-03-04T00:00:00",
          "2020-03-05T00:00:00",
          "2020-03-06T00:00:00",
          "2020-03-07T00:00:00",
          "2020-03-08T00:00:00",
          "2020-03-09T00:00:00",
          "2020-03-10T00:00:00",
          "2020-03-11T00:00:00",
          "2020-03-12T00:00:00",
          "2020-03-13T00:00:00",
          "2020-03-14T00:00:00",
          "2020-03-15T00:00:00",
          "2020-03-16T00:00:00",
          "2020-03-17T00:00:00",
          "2020-03-18T00:00:00",
          "2020-03-19T00:00:00",
          "2020-03-20T00:00:00",
          "2020-03-21T00:00:00",
          "2020-03-22T00:00:00",
          "2020-03-23T00:00:00",
          "2020-03-24T00:00:00",
          "2020-03-25T00:00:00",
          "2020-03-26T00:00:00",
          "2020-03-27T00:00:00",
          "2020-03-28T00:00:00",
          "2020-03-29T00:00:00",
          "2020-03-30T00:00:00",
          "2020-03-31T00:00:00",
          "2020-04-01T00:00:00",
          "2020-04-02T00:00:00",
          "2020-04-03T00:00:00",
          "2020-04-04T00:00:00",
          "2020-04-05T00:00:00",
          "2020-04-06T00:00:00",
          "2020-04-07T00:00:00",
          "2020-04-08T00:00:00",
          "2020-04-09T00:00:00",
          "2020-04-10T00:00:00",
          "2020-04-11T00:00:00",
          "2020-04-12T00:00:00",
          "2020-04-13T00:00:00",
          "2020-04-14T00:00:00",
          "2020-04-15T00:00:00",
          "2020-04-16T00:00:00",
          "2020-04-17T00:00:00",
          "2020-04-18T00:00:00",
          "2020-04-19T00:00:00",
          "2020-04-20T00:00:00",
          "2020-04-21T00:00:00",
          "2020-04-22T00:00:00",
          "2020-04-23T00:00:00",
          "2020-04-24T00:00:00",
          "2020-04-25T00:00:00",
          "2020-04-26T00:00:00",
          "2020-04-27T00:00:00",
          "2020-04-28T00:00:00",
          "2020-04-29T00:00:00",
          "2020-04-30T00:00:00",
          "2020-05-01T00:00:00",
          "2020-05-02T00:00:00",
          "2020-05-03T00:00:00",
          "2020-05-04T00:00:00",
          "2020-05-05T00:00:00",
          "2020-05-06T00:00:00",
          "2020-05-07T00:00:00",
          "2020-05-08T00:00:00",
          "2020-05-09T00:00:00",
          "2020-05-10T00:00:00",
          "2020-05-11T00:00:00",
          "2020-05-12T00:00:00",
          "2020-05-13T00:00:00",
          "2020-05-14T00:00:00",
          "2020-05-15T00:00:00",
          "2020-05-16T00:00:00",
          "2020-05-17T00:00:00",
          "2020-05-18T00:00:00",
          "2020-05-19T00:00:00",
          "2020-05-20T00:00:00",
          "2020-05-21T00:00:00",
          "2020-05-22T00:00:00",
          "2020-05-23T00:00:00",
          "2020-05-24T00:00:00",
          "2020-05-25T00:00:00",
          "2020-05-26T00:00:00",
          "2020-05-27T00:00:00",
          "2020-05-28T00:00:00",
          "2020-05-29T00:00:00",
          "2020-05-30T00:00:00",
          "2020-05-31T00:00:00",
          "2020-06-01T00:00:00",
          "2020-06-02T00:00:00",
          "2020-06-03T00:00:00",
          "2020-06-04T00:00:00",
          "2020-06-05T00:00:00",
          "2020-06-06T00:00:00",
          "2020-06-07T00:00:00",
          "2020-06-08T00:00:00",
          "2020-06-09T00:00:00",
          "2020-06-10T00:00:00",
          "2020-06-11T00:00:00",
          "2020-06-12T00:00:00",
          "2020-06-13T00:00:00",
          "2020-06-14T00:00:00",
          "2020-06-15T00:00:00",
          "2020-06-16T00:00:00",
          "2020-06-17T00:00:00",
          "2020-06-18T00:00:00",
          "2020-06-19T00:00:00",
          "2020-06-20T00:00:00",
          "2020-06-21T00:00:00",
          "2020-06-22T00:00:00",
          "2020-06-23T00:00:00",
          "2020-06-24T00:00:00",
          "2020-06-25T00:00:00",
          "2020-06-26T00:00:00",
          "2020-06-27T00:00:00",
          "2020-06-28T00:00:00",
          "2020-06-29T00:00:00",
          "2020-06-30T00:00:00",
          "2020-07-01T00:00:00",
          "2020-07-02T00:00:00",
          "2020-07-03T00:00:00",
          "2020-07-04T00:00:00",
          "2020-07-05T00:00:00",
          "2020-07-06T00:00:00",
          "2020-07-07T00:00:00",
          "2020-07-08T00:00:00",
          "2020-07-09T00:00:00",
          "2020-07-10T00:00:00",
          "2020-07-11T00:00:00",
          "2020-07-12T00:00:00",
          "2020-07-13T00:00:00",
          "2020-07-14T00:00:00",
          "2020-07-15T00:00:00",
          "2020-07-16T00:00:00",
          "2020-07-17T00:00:00",
          "2020-07-18T00:00:00",
          "2020-07-19T00:00:00",
          "2020-07-20T00:00:00",
          "2020-07-21T00:00:00",
          "2020-07-22T00:00:00",
          "2020-07-23T00:00:00",
          "2020-07-24T00:00:00",
          "2020-07-25T00:00:00",
          "2020-07-26T00:00:00",
          "2020-07-27T00:00:00",
          "2020-07-28T00:00:00",
          "2020-07-29T00:00:00",
          "2020-07-30T00:00:00",
          "2020-07-31T00:00:00",
          "2020-08-01T00:00:00",
          "2020-08-02T00:00:00",
          "2020-08-03T00:00:00",
          "2020-08-04T00:00:00",
          "2020-08-05T00:00:00",
          "2020-08-06T00:00:00",
          "2020-08-07T00:00:00",
          "2020-08-08T00:00:00",
          "2020-08-09T00:00:00",
          "2020-08-10T00:00:00",
          "2020-08-11T00:00:00",
          "2020-08-12T00:00:00",
          "2020-08-13T00:00:00",
          "2020-08-14T00:00:00",
          "2020-08-15T00:00:00",
          "2020-08-16T00:00:00",
          "2020-08-17T00:00:00",
          "2020-08-18T00:00:00",
          "2020-08-19T00:00:00",
          "2020-08-20T00:00:00",
          "2020-08-21T00:00:00",
          "2020-08-22T00:00:00",
          "2020-08-23T00:00:00",
          "2020-08-24T00:00:00",
          "2020-08-25T00:00:00",
          "2020-08-26T00:00:00",
          "2020-08-27T00:00:00",
          "2020-08-28T00:00:00",
          "2020-08-29T00:00:00",
          "2020-08-30T00:00:00",
          "2020-08-31T00:00:00",
          "2020-09-01T00:00:00",
          "2020-09-02T00:00:00",
          "2020-09-03T00:00:00",
          "2020-09-04T00:00:00",
          "2020-09-05T00:00:00",
          "2020-09-06T00:00:00",
          "2020-09-07T00:00:00",
          "2020-09-08T00:00:00",
          "2020-09-09T00:00:00",
          "2020-09-10T00:00:00",
          "2020-09-11T00:00:00",
          "2020-09-12T00:00:00"
         ],
         "y": [
          0.0025,
          0.0025,
          0.0025,
          0.0025,
          0.0025,
          0.0025,
          0.0025,
          0.0025,
          0.0025,
          0.0025,
          0.0025,
          0.0025,
          0.0025,
          0.0025,
          0.0025,
          0.0025,
          0.0025,
          0.0025,
          0.0025,
          0.0025,
          0.0025,
          0.0025,
          0.0025,
          0.0025,
          0.0025,
          0.0025,
          0.0025,
          0.0025,
          0.0025,
          0.0025,
          0.0025,
          0.0025,
          0.0025,
          0.0025,
          0.0025,
          0.0025,
          0.0025,
          0.0025,
          0.0025,
          0.0025,
          0.0025,
          0.0025,
          0.0025,
          0.0025,
          0.0025,
          0.0025,
          0.0025,
          0.0025,
          0.0025,
          0.0025,
          0.0025,
          0.0025,
          0.0025,
          0.0025,
          0.0025,
          0.0025,
          0.0025,
          0.0025,
          0.0025,
          0.0025,
          0.0025,
          0.0025,
          0.0025,
          0.0025,
          0.0025,
          0.0025,
          0.0025,
          0.0025,
          0.0025,
          0.0025,
          0.0025,
          0.0025,
          0.0025,
          0.0025,
          0.0025,
          0.0025,
          0.0025,
          0.0025,
          0.0025,
          0.0025,
          0.0025,
          0.0025,
          0.0025,
          0.0025,
          0.0025,
          0.0025,
          0.0025,
          0.0025,
          0.0025,
          0.0025,
          0.0025,
          0.0025,
          0.0025,
          0.0025,
          0.0025,
          0.0025,
          0.0025,
          0.0025,
          0.0025,
          0.0025,
          0.0025,
          0.0025,
          0.0025,
          0.0025,
          0.0025,
          0.0025,
          0.0025,
          0.0025,
          0.0025,
          0.0025,
          0.0025,
          0.0025,
          0.0025,
          0.0025,
          0.0025,
          0.0025,
          0.0025,
          0.0025,
          0.0025,
          0.0025,
          0.0025,
          0.0025,
          0.0025,
          0.0025,
          0.0025,
          0.0025,
          0.0025,
          0.0025,
          0.0025,
          0.0025,
          0.0025,
          0.0025,
          0.0025,
          0.0025,
          0.0025,
          0.0025,
          0.0025,
          0.0025,
          0.0025,
          0.0025,
          0.0025,
          0.0025,
          0.0025,
          0.0025,
          0.0025,
          0.0025,
          0.0025,
          0.0025,
          0.0025,
          0.0025,
          0.0025,
          0.0025,
          0.0025,
          0.0025,
          0.0025,
          0.0025,
          0.0025,
          0.0025,
          0.0025,
          0.0025,
          0.0025,
          0.0025,
          0.0025,
          0.0025,
          0.0025,
          0.0025,
          0.0025,
          0.0025,
          0.0025,
          0.0025,
          0.0025,
          0.0025,
          0.0025,
          0.0025,
          0.0025,
          0.0025,
          0.0025,
          0.0025,
          0.0025,
          0.0025,
          0.0025,
          0.0025,
          0.0025,
          0.0025,
          0.0025,
          0.0025,
          0.0025,
          0.0025,
          0.0025,
          0.0025,
          0.0025,
          0.0025,
          0.0025,
          0.0025,
          0.0025,
          0.0025,
          0.0025,
          0.0025,
          0.0025,
          0.0025
         ]
        },
        {
         "marker": {
          "color": "rgb(251,128,114)"
         },
         "name": "Lockdown",
         "type": "bar",
         "x": [
          null
         ],
         "y": [
          null
         ]
        },
        {
         "marker": {
          "color": "rgb(255,237,111)"
         },
         "name": "Hard Quarantine",
         "type": "bar",
         "x": [
          null
         ],
         "y": [
          null
         ]
        },
        {
         "marker": {
          "color": "rgb(255,255,179)"
         },
         "name": "Light Quarantine",
         "type": "bar",
         "x": [
          null
         ],
         "y": [
          null
         ]
        },
        {
         "marker": {
          "color": "rgb(204, 245, 175)"
         },
         "name": "Social Distancing",
         "type": "bar",
         "x": [
          null
         ],
         "y": [
          null
         ]
        },
        {
         "marker": {
          "color": "rgb(179,222,105)"
         },
         "name": "Unrestricted",
         "type": "bar",
         "x": [
          null
         ],
         "y": [
          null
         ]
        }
       ],
       "layout": {
        "coloraxis": {
         "colorscale": [
          [
           0,
           "rgb(253, 253, 204)"
          ],
          [
           0.09090909090909091,
           "rgb(206, 236, 179)"
          ],
          [
           0.18181818181818182,
           "rgb(156, 219, 165)"
          ],
          [
           0.2727272727272727,
           "rgb(111, 201, 163)"
          ],
          [
           0.36363636363636365,
           "rgb(86, 177, 163)"
          ],
          [
           0.45454545454545453,
           "rgb(76, 153, 160)"
          ],
          [
           0.5454545454545454,
           "rgb(68, 130, 155)"
          ],
          [
           0.6363636363636364,
           "rgb(62, 108, 150)"
          ],
          [
           0.7272727272727273,
           "rgb(62, 82, 143)"
          ],
          [
           0.8181818181818182,
           "rgb(64, 60, 115)"
          ],
          [
           0.9090909090909091,
           "rgb(54, 43, 77)"
          ],
          [
           1,
           "rgb(39, 26, 44)"
          ]
         ]
        },
        "hovermode": "x",
        "showlegend": true,
        "template": {
         "data": {
          "bar": [
           {
            "error_x": {
             "color": "#2a3f5f"
            },
            "error_y": {
             "color": "#2a3f5f"
            },
            "marker": {
             "line": {
              "color": "#E5ECF6",
              "width": 0.5
             }
            },
            "type": "bar"
           }
          ],
          "barpolar": [
           {
            "marker": {
             "line": {
              "color": "#E5ECF6",
              "width": 0.5
             }
            },
            "type": "barpolar"
           }
          ],
          "carpet": [
           {
            "aaxis": {
             "endlinecolor": "#2a3f5f",
             "gridcolor": "white",
             "linecolor": "white",
             "minorgridcolor": "white",
             "startlinecolor": "#2a3f5f"
            },
            "baxis": {
             "endlinecolor": "#2a3f5f",
             "gridcolor": "white",
             "linecolor": "white",
             "minorgridcolor": "white",
             "startlinecolor": "#2a3f5f"
            },
            "type": "carpet"
           }
          ],
          "choropleth": [
           {
            "colorbar": {
             "outlinewidth": 0,
             "ticks": ""
            },
            "type": "choropleth"
           }
          ],
          "contour": [
           {
            "colorbar": {
             "outlinewidth": 0,
             "ticks": ""
            },
            "colorscale": [
             [
              0,
              "#0d0887"
             ],
             [
              0.1111111111111111,
              "#46039f"
             ],
             [
              0.2222222222222222,
              "#7201a8"
             ],
             [
              0.3333333333333333,
              "#9c179e"
             ],
             [
              0.4444444444444444,
              "#bd3786"
             ],
             [
              0.5555555555555556,
              "#d8576b"
             ],
             [
              0.6666666666666666,
              "#ed7953"
             ],
             [
              0.7777777777777778,
              "#fb9f3a"
             ],
             [
              0.8888888888888888,
              "#fdca26"
             ],
             [
              1,
              "#f0f921"
             ]
            ],
            "type": "contour"
           }
          ],
          "contourcarpet": [
           {
            "colorbar": {
             "outlinewidth": 0,
             "ticks": ""
            },
            "type": "contourcarpet"
           }
          ],
          "heatmap": [
           {
            "colorbar": {
             "outlinewidth": 0,
             "ticks": ""
            },
            "colorscale": [
             [
              0,
              "#0d0887"
             ],
             [
              0.1111111111111111,
              "#46039f"
             ],
             [
              0.2222222222222222,
              "#7201a8"
             ],
             [
              0.3333333333333333,
              "#9c179e"
             ],
             [
              0.4444444444444444,
              "#bd3786"
             ],
             [
              0.5555555555555556,
              "#d8576b"
             ],
             [
              0.6666666666666666,
              "#ed7953"
             ],
             [
              0.7777777777777778,
              "#fb9f3a"
             ],
             [
              0.8888888888888888,
              "#fdca26"
             ],
             [
              1,
              "#f0f921"
             ]
            ],
            "type": "heatmap"
           }
          ],
          "heatmapgl": [
           {
            "colorbar": {
             "outlinewidth": 0,
             "ticks": ""
            },
            "colorscale": [
             [
              0,
              "#0d0887"
             ],
             [
              0.1111111111111111,
              "#46039f"
             ],
             [
              0.2222222222222222,
              "#7201a8"
             ],
             [
              0.3333333333333333,
              "#9c179e"
             ],
             [
              0.4444444444444444,
              "#bd3786"
             ],
             [
              0.5555555555555556,
              "#d8576b"
             ],
             [
              0.6666666666666666,
              "#ed7953"
             ],
             [
              0.7777777777777778,
              "#fb9f3a"
             ],
             [
              0.8888888888888888,
              "#fdca26"
             ],
             [
              1,
              "#f0f921"
             ]
            ],
            "type": "heatmapgl"
           }
          ],
          "histogram": [
           {
            "marker": {
             "colorbar": {
              "outlinewidth": 0,
              "ticks": ""
             }
            },
            "type": "histogram"
           }
          ],
          "histogram2d": [
           {
            "colorbar": {
             "outlinewidth": 0,
             "ticks": ""
            },
            "colorscale": [
             [
              0,
              "#0d0887"
             ],
             [
              0.1111111111111111,
              "#46039f"
             ],
             [
              0.2222222222222222,
              "#7201a8"
             ],
             [
              0.3333333333333333,
              "#9c179e"
             ],
             [
              0.4444444444444444,
              "#bd3786"
             ],
             [
              0.5555555555555556,
              "#d8576b"
             ],
             [
              0.6666666666666666,
              "#ed7953"
             ],
             [
              0.7777777777777778,
              "#fb9f3a"
             ],
             [
              0.8888888888888888,
              "#fdca26"
             ],
             [
              1,
              "#f0f921"
             ]
            ],
            "type": "histogram2d"
           }
          ],
          "histogram2dcontour": [
           {
            "colorbar": {
             "outlinewidth": 0,
             "ticks": ""
            },
            "colorscale": [
             [
              0,
              "#0d0887"
             ],
             [
              0.1111111111111111,
              "#46039f"
             ],
             [
              0.2222222222222222,
              "#7201a8"
             ],
             [
              0.3333333333333333,
              "#9c179e"
             ],
             [
              0.4444444444444444,
              "#bd3786"
             ],
             [
              0.5555555555555556,
              "#d8576b"
             ],
             [
              0.6666666666666666,
              "#ed7953"
             ],
             [
              0.7777777777777778,
              "#fb9f3a"
             ],
             [
              0.8888888888888888,
              "#fdca26"
             ],
             [
              1,
              "#f0f921"
             ]
            ],
            "type": "histogram2dcontour"
           }
          ],
          "mesh3d": [
           {
            "colorbar": {
             "outlinewidth": 0,
             "ticks": ""
            },
            "type": "mesh3d"
           }
          ],
          "parcoords": [
           {
            "line": {
             "colorbar": {
              "outlinewidth": 0,
              "ticks": ""
             }
            },
            "type": "parcoords"
           }
          ],
          "pie": [
           {
            "automargin": true,
            "type": "pie"
           }
          ],
          "scatter": [
           {
            "marker": {
             "colorbar": {
              "outlinewidth": 0,
              "ticks": ""
             }
            },
            "type": "scatter"
           }
          ],
          "scatter3d": [
           {
            "line": {
             "colorbar": {
              "outlinewidth": 0,
              "ticks": ""
             }
            },
            "marker": {
             "colorbar": {
              "outlinewidth": 0,
              "ticks": ""
             }
            },
            "type": "scatter3d"
           }
          ],
          "scattercarpet": [
           {
            "marker": {
             "colorbar": {
              "outlinewidth": 0,
              "ticks": ""
             }
            },
            "type": "scattercarpet"
           }
          ],
          "scattergeo": [
           {
            "marker": {
             "colorbar": {
              "outlinewidth": 0,
              "ticks": ""
             }
            },
            "type": "scattergeo"
           }
          ],
          "scattergl": [
           {
            "marker": {
             "colorbar": {
              "outlinewidth": 0,
              "ticks": ""
             }
            },
            "type": "scattergl"
           }
          ],
          "scattermapbox": [
           {
            "marker": {
             "colorbar": {
              "outlinewidth": 0,
              "ticks": ""
             }
            },
            "type": "scattermapbox"
           }
          ],
          "scatterpolar": [
           {
            "marker": {
             "colorbar": {
              "outlinewidth": 0,
              "ticks": ""
             }
            },
            "type": "scatterpolar"
           }
          ],
          "scatterpolargl": [
           {
            "marker": {
             "colorbar": {
              "outlinewidth": 0,
              "ticks": ""
             }
            },
            "type": "scatterpolargl"
           }
          ],
          "scatterternary": [
           {
            "marker": {
             "colorbar": {
              "outlinewidth": 0,
              "ticks": ""
             }
            },
            "type": "scatterternary"
           }
          ],
          "surface": [
           {
            "colorbar": {
             "outlinewidth": 0,
             "ticks": ""
            },
            "colorscale": [
             [
              0,
              "#0d0887"
             ],
             [
              0.1111111111111111,
              "#46039f"
             ],
             [
              0.2222222222222222,
              "#7201a8"
             ],
             [
              0.3333333333333333,
              "#9c179e"
             ],
             [
              0.4444444444444444,
              "#bd3786"
             ],
             [
              0.5555555555555556,
              "#d8576b"
             ],
             [
              0.6666666666666666,
              "#ed7953"
             ],
             [
              0.7777777777777778,
              "#fb9f3a"
             ],
             [
              0.8888888888888888,
              "#fdca26"
             ],
             [
              1,
              "#f0f921"
             ]
            ],
            "type": "surface"
           }
          ],
          "table": [
           {
            "cells": {
             "fill": {
              "color": "#EBF0F8"
             },
             "line": {
              "color": "white"
             }
            },
            "header": {
             "fill": {
              "color": "#C8D4E3"
             },
             "line": {
              "color": "white"
             }
            },
            "type": "table"
           }
          ]
         },
         "layout": {
          "annotationdefaults": {
           "arrowcolor": "#2a3f5f",
           "arrowhead": 0,
           "arrowwidth": 1
          },
          "coloraxis": {
           "colorbar": {
            "outlinewidth": 0,
            "ticks": ""
           }
          },
          "colorscale": {
           "diverging": [
            [
             0,
             "#8e0152"
            ],
            [
             0.1,
             "#c51b7d"
            ],
            [
             0.2,
             "#de77ae"
            ],
            [
             0.3,
             "#f1b6da"
            ],
            [
             0.4,
             "#fde0ef"
            ],
            [
             0.5,
             "#f7f7f7"
            ],
            [
             0.6,
             "#e6f5d0"
            ],
            [
             0.7,
             "#b8e186"
            ],
            [
             0.8,
             "#7fbc41"
            ],
            [
             0.9,
             "#4d9221"
            ],
            [
             1,
             "#276419"
            ]
           ],
           "sequential": [
            [
             0,
             "#0d0887"
            ],
            [
             0.1111111111111111,
             "#46039f"
            ],
            [
             0.2222222222222222,
             "#7201a8"
            ],
            [
             0.3333333333333333,
             "#9c179e"
            ],
            [
             0.4444444444444444,
             "#bd3786"
            ],
            [
             0.5555555555555556,
             "#d8576b"
            ],
            [
             0.6666666666666666,
             "#ed7953"
            ],
            [
             0.7777777777777778,
             "#fb9f3a"
            ],
            [
             0.8888888888888888,
             "#fdca26"
            ],
            [
             1,
             "#f0f921"
            ]
           ],
           "sequentialminus": [
            [
             0,
             "#0d0887"
            ],
            [
             0.1111111111111111,
             "#46039f"
            ],
            [
             0.2222222222222222,
             "#7201a8"
            ],
            [
             0.3333333333333333,
             "#9c179e"
            ],
            [
             0.4444444444444444,
             "#bd3786"
            ],
            [
             0.5555555555555556,
             "#d8576b"
            ],
            [
             0.6666666666666666,
             "#ed7953"
            ],
            [
             0.7777777777777778,
             "#fb9f3a"
            ],
            [
             0.8888888888888888,
             "#fdca26"
            ],
            [
             1,
             "#f0f921"
            ]
           ]
          },
          "colorway": [
           "#636efa",
           "#EF553B",
           "#00cc96",
           "#ab63fa",
           "#FFA15A",
           "#19d3f3",
           "#FF6692",
           "#B6E880",
           "#FF97FF",
           "#FECB52"
          ],
          "font": {
           "color": "#2a3f5f"
          },
          "geo": {
           "bgcolor": "white",
           "lakecolor": "white",
           "landcolor": "#E5ECF6",
           "showlakes": true,
           "showland": true,
           "subunitcolor": "white"
          },
          "hoverlabel": {
           "align": "left"
          },
          "hovermode": "closest",
          "mapbox": {
           "style": "light"
          },
          "paper_bgcolor": "white",
          "plot_bgcolor": "#E5ECF6",
          "polar": {
           "angularaxis": {
            "gridcolor": "white",
            "linecolor": "white",
            "ticks": ""
           },
           "bgcolor": "#E5ECF6",
           "radialaxis": {
            "gridcolor": "white",
            "linecolor": "white",
            "ticks": ""
           }
          },
          "scene": {
           "xaxis": {
            "backgroundcolor": "#E5ECF6",
            "gridcolor": "white",
            "gridwidth": 2,
            "linecolor": "white",
            "showbackground": true,
            "ticks": "",
            "zerolinecolor": "white"
           },
           "yaxis": {
            "backgroundcolor": "#E5ECF6",
            "gridcolor": "white",
            "gridwidth": 2,
            "linecolor": "white",
            "showbackground": true,
            "ticks": "",
            "zerolinecolor": "white"
           },
           "zaxis": {
            "backgroundcolor": "#E5ECF6",
            "gridcolor": "white",
            "gridwidth": 2,
            "linecolor": "white",
            "showbackground": true,
            "ticks": "",
            "zerolinecolor": "white"
           }
          },
          "shapedefaults": {
           "line": {
            "color": "#2a3f5f"
           }
          },
          "ternary": {
           "aaxis": {
            "gridcolor": "white",
            "linecolor": "white",
            "ticks": ""
           },
           "baxis": {
            "gridcolor": "white",
            "linecolor": "white",
            "ticks": ""
           },
           "bgcolor": "#E5ECF6",
           "caxis": {
            "gridcolor": "white",
            "linecolor": "white",
            "ticks": ""
           }
          },
          "title": {
           "x": 0.05
          },
          "xaxis": {
           "automargin": true,
           "gridcolor": "white",
           "linecolor": "white",
           "ticks": "",
           "title": {
            "standoff": 15
           },
           "zerolinecolor": "white",
           "zerolinewidth": 2
          },
          "yaxis": {
           "automargin": true,
           "gridcolor": "white",
           "linecolor": "white",
           "ticks": "",
           "title": {
            "standoff": 15
           },
           "zerolinecolor": "white",
           "zerolinewidth": 2
          }
         }
        },
        "title": {
         "text": "Sim"
        },
        "xaxis": {
         "showgrid": false
        },
        "yaxis": {
         "showgrid": false
        }
       }
      },
      "text/html": [
       "<div>\n",
       "        \n",
       "        \n",
       "            <div id=\"67df95d1-5537-4ff5-8696-9fefc7343c04\" class=\"plotly-graph-div\" style=\"height:525px; width:100%;\"></div>\n",
       "            <script type=\"text/javascript\">\n",
       "                require([\"plotly\"], function(Plotly) {\n",
       "                    window.PLOTLYENV=window.PLOTLYENV || {};\n",
       "                    \n",
       "                if (document.getElementById(\"67df95d1-5537-4ff5-8696-9fefc7343c04\")) {\n",
       "                    Plotly.newPlot(\n",
       "                        '67df95d1-5537-4ff5-8696-9fefc7343c04',\n",
       "                        [{\"line\": {\"color\": \"royalblue\", \"width\": 3}, \"name\": \"hospitalized\", \"type\": \"scatter\", \"x\": [\"2020-02-24T00:00:00\", \"2020-02-25T00:00:00\", \"2020-02-26T00:00:00\", \"2020-02-27T00:00:00\", \"2020-02-28T00:00:00\", \"2020-02-29T00:00:00\", \"2020-03-01T00:00:00\", \"2020-03-02T00:00:00\", \"2020-03-03T00:00:00\", \"2020-03-04T00:00:00\", \"2020-03-05T00:00:00\", \"2020-03-06T00:00:00\", \"2020-03-07T00:00:00\", \"2020-03-08T00:00:00\", \"2020-03-09T00:00:00\", \"2020-03-10T00:00:00\", \"2020-03-11T00:00:00\", \"2020-03-12T00:00:00\", \"2020-03-13T00:00:00\", \"2020-03-14T00:00:00\", \"2020-03-15T00:00:00\", \"2020-03-16T00:00:00\", \"2020-03-17T00:00:00\", \"2020-03-18T00:00:00\", \"2020-03-19T00:00:00\", \"2020-03-20T00:00:00\", \"2020-03-21T00:00:00\", \"2020-03-22T00:00:00\", \"2020-03-23T00:00:00\", \"2020-03-24T00:00:00\", \"2020-03-25T00:00:00\", \"2020-03-26T00:00:00\", \"2020-03-27T00:00:00\", \"2020-03-28T00:00:00\", \"2020-03-29T00:00:00\", \"2020-03-30T00:00:00\", \"2020-03-31T00:00:00\", \"2020-04-01T00:00:00\", \"2020-04-02T00:00:00\", \"2020-04-03T00:00:00\", \"2020-04-04T00:00:00\", \"2020-04-05T00:00:00\", \"2020-04-06T00:00:00\", \"2020-04-07T00:00:00\", \"2020-04-08T00:00:00\", \"2020-04-09T00:00:00\", \"2020-04-10T00:00:00\", \"2020-04-11T00:00:00\", \"2020-04-12T00:00:00\", \"2020-04-13T00:00:00\", \"2020-04-14T00:00:00\", \"2020-04-15T00:00:00\", \"2020-04-16T00:00:00\", \"2020-04-17T00:00:00\", \"2020-04-18T00:00:00\", \"2020-04-19T00:00:00\", \"2020-04-20T00:00:00\", \"2020-04-21T00:00:00\", \"2020-04-22T00:00:00\", \"2020-04-23T00:00:00\", \"2020-04-24T00:00:00\", \"2020-04-25T00:00:00\", \"2020-04-26T00:00:00\", \"2020-04-27T00:00:00\", \"2020-04-28T00:00:00\", \"2020-04-29T00:00:00\", \"2020-04-30T00:00:00\", \"2020-05-01T00:00:00\", \"2020-05-02T00:00:00\", \"2020-05-03T00:00:00\", \"2020-05-04T00:00:00\", \"2020-05-05T00:00:00\", \"2020-05-06T00:00:00\", \"2020-05-07T00:00:00\", \"2020-05-08T00:00:00\", \"2020-05-09T00:00:00\", \"2020-05-10T00:00:00\", \"2020-05-11T00:00:00\", \"2020-05-12T00:00:00\", \"2020-05-13T00:00:00\", \"2020-05-14T00:00:00\", \"2020-05-15T00:00:00\", \"2020-05-16T00:00:00\", \"2020-05-17T00:00:00\", \"2020-05-18T00:00:00\", \"2020-05-19T00:00:00\", \"2020-05-20T00:00:00\", \"2020-05-21T00:00:00\", \"2020-05-22T00:00:00\", \"2020-05-23T00:00:00\", \"2020-05-24T00:00:00\", \"2020-05-25T00:00:00\", \"2020-05-26T00:00:00\", \"2020-05-27T00:00:00\", \"2020-05-28T00:00:00\", \"2020-05-29T00:00:00\", \"2020-05-30T00:00:00\", \"2020-05-31T00:00:00\", \"2020-06-01T00:00:00\", \"2020-06-02T00:00:00\", \"2020-06-03T00:00:00\", \"2020-06-04T00:00:00\", \"2020-06-05T00:00:00\", \"2020-06-06T00:00:00\", \"2020-06-07T00:00:00\", \"2020-06-08T00:00:00\", \"2020-06-09T00:00:00\", \"2020-06-10T00:00:00\", \"2020-06-11T00:00:00\", \"2020-06-12T00:00:00\", \"2020-06-13T00:00:00\", \"2020-06-14T00:00:00\", \"2020-06-15T00:00:00\", \"2020-06-16T00:00:00\", \"2020-06-17T00:00:00\", \"2020-06-18T00:00:00\", \"2020-06-19T00:00:00\", \"2020-06-20T00:00:00\", \"2020-06-21T00:00:00\", \"2020-06-22T00:00:00\", \"2020-06-23T00:00:00\", \"2020-06-24T00:00:00\", \"2020-06-25T00:00:00\", \"2020-06-26T00:00:00\", \"2020-06-27T00:00:00\", \"2020-06-28T00:00:00\", \"2020-06-29T00:00:00\", \"2020-06-30T00:00:00\", \"2020-07-01T00:00:00\", \"2020-07-02T00:00:00\", \"2020-07-03T00:00:00\", \"2020-07-04T00:00:00\", \"2020-07-05T00:00:00\", \"2020-07-06T00:00:00\", \"2020-07-07T00:00:00\", \"2020-07-08T00:00:00\", \"2020-07-09T00:00:00\", \"2020-07-10T00:00:00\", \"2020-07-11T00:00:00\", \"2020-07-12T00:00:00\", \"2020-07-13T00:00:00\", \"2020-07-14T00:00:00\", \"2020-07-15T00:00:00\", \"2020-07-16T00:00:00\", \"2020-07-17T00:00:00\", \"2020-07-18T00:00:00\", \"2020-07-19T00:00:00\", \"2020-07-20T00:00:00\", \"2020-07-21T00:00:00\", \"2020-07-22T00:00:00\", \"2020-07-23T00:00:00\", \"2020-07-24T00:00:00\", \"2020-07-25T00:00:00\", \"2020-07-26T00:00:00\", \"2020-07-27T00:00:00\", \"2020-07-28T00:00:00\", \"2020-07-29T00:00:00\", \"2020-07-30T00:00:00\", \"2020-07-31T00:00:00\", \"2020-08-01T00:00:00\", \"2020-08-02T00:00:00\", \"2020-08-03T00:00:00\", \"2020-08-04T00:00:00\", \"2020-08-05T00:00:00\", \"2020-08-06T00:00:00\", \"2020-08-07T00:00:00\", \"2020-08-08T00:00:00\", \"2020-08-09T00:00:00\", \"2020-08-10T00:00:00\", \"2020-08-11T00:00:00\", \"2020-08-12T00:00:00\", \"2020-08-13T00:00:00\", \"2020-08-14T00:00:00\", \"2020-08-15T00:00:00\", \"2020-08-16T00:00:00\", \"2020-08-17T00:00:00\", \"2020-08-18T00:00:00\", \"2020-08-19T00:00:00\", \"2020-08-20T00:00:00\", \"2020-08-21T00:00:00\", \"2020-08-22T00:00:00\", \"2020-08-23T00:00:00\", \"2020-08-24T00:00:00\", \"2020-08-25T00:00:00\", \"2020-08-26T00:00:00\", \"2020-08-27T00:00:00\", \"2020-08-28T00:00:00\", \"2020-08-29T00:00:00\", \"2020-08-30T00:00:00\", \"2020-08-31T00:00:00\", \"2020-09-01T00:00:00\", \"2020-09-02T00:00:00\", \"2020-09-03T00:00:00\", \"2020-09-04T00:00:00\", \"2020-09-05T00:00:00\", \"2020-09-06T00:00:00\", \"2020-09-07T00:00:00\", \"2020-09-08T00:00:00\", \"2020-09-09T00:00:00\", \"2020-09-10T00:00:00\", \"2020-09-11T00:00:00\", \"2020-09-12T00:00:00\"], \"y\": [0.0, 0.0, 0.0, 0.0, 0.0, 0.0, 0.0, 1.8181818181818182e-05, 1.8181818181818182e-05, 0.0, 0.0, 1.8181818181818182e-05, 1.8181818181818182e-05, 1.8181818181818182e-05, 3.6363636363636364e-05, 3.6363636363636364e-05, 3.6363636363636364e-05, 1.8181818181818182e-05, 1.8181818181818182e-05, 1.8181818181818182e-05, 3.6363636363636364e-05, 3.6363636363636364e-05, 5.4545454545454546e-05, 0.00010909090909090909, 0.00012727272727272728, 0.00014545454545454546, 0.00014545454545454546, 0.0001818181818181818, 0.00023636363636363636, 0.0003090909090909091, 0.0002909090909090909, 0.0002909090909090909, 0.0002909090909090909, 0.00025454545454545456, 0.00027272727272727274, 0.00025454545454545456, 0.00025454545454545456, 0.0002909090909090909, 0.00038181818181818184, 0.0004181818181818182, 0.0005272727272727272, 0.0006181818181818182, 0.0006, 0.0005818181818181818, 0.0006545454545454545, 0.0006363636363636364, 0.0007636363636363637, 0.0008181818181818182, 0.0007454545454545455, 0.0007636363636363637, 0.0007818181818181818, 0.0007818181818181818, 0.0007636363636363637, 0.0007818181818181818, 0.0008181818181818182, 0.0008545454545454545, 0.0008363636363636364, 0.0008545454545454545, 0.0008545454545454545, 0.0008181818181818182, 0.0009636363636363637, 0.0010727272727272727, 0.0010363636363636363, 0.0011090909090909092, 0.0010545454545454545, 0.0011090909090909092, 0.0011454545454545454, 0.0012909090909090908, 0.001309090909090909, 0.0012363636363636364, 0.0010727272727272727, 0.0010181818181818183, 0.0011454545454545454, 0.0011636363636363637, 0.0011454545454545454, 0.0009818181818181818, 0.0009818181818181818, 0.0010545454545454545, 0.0009636363636363637, 0.0009454545454545454, 0.0009272727272727273, 0.0009636363636363637, 0.0010181818181818183, 0.0010545454545454545, 0.0011090909090909092, 0.001090909090909091, 0.0012, 0.0012181818181818181, 0.0011454545454545454, 0.0010727272727272727, 0.0010181818181818183, 0.0010181818181818183, 0.0011272727272727272, 0.0012, 0.0012181818181818181, 0.0013636363636363637, 0.0012909090909090908, 0.001309090909090909, 0.0014181818181818182, 0.0014727272727272727, 0.0015272727272727274, 0.0015818181818181818, 0.0015818181818181818, 0.0016, 0.0016545454545454545, 0.0016545454545454545, 0.0018545454545454546, 0.0019272727272727273, 0.0019272727272727273, 0.002, 0.002309090909090909, 0.0024727272727272727, 0.002672727272727273, 0.002818181818181818, 0.0029454545454545454, 0.0030545454545454548, 0.003181818181818182, 0.003290909090909091, 0.0033272727272727273, 0.0036, 0.003963636363636364, 0.004127272727272728, 0.004236363636363636, 0.004218181818181818, 0.0044181818181818185, 0.0045636363636363635, 0.0047272727272727275, 0.004890909090909091, 0.005236363636363636, 0.005290909090909091, 0.0054181818181818185, 0.005745454545454546, 0.005963636363636364, 0.0061090909090909095, 0.0064181818181818185, 0.006727272727272728, 0.006654545454545455, 0.006509090909090909, 0.006490909090909091, 0.006636363636363636, 0.006672727272727273, 0.006545454545454545, 0.0065636363636363635, 0.0064, 0.006236363636363636, 0.006127272727272727, 0.005927272727272727, 0.006018181818181818, 0.005927272727272727, 0.0058, 0.005472727272727272, 0.005345454545454546, 0.005163636363636363, 0.0048, 0.004672727272727273, 0.004527272727272727, 0.004163636363636363, 0.004145454545454545, 0.004145454545454545, 0.003981818181818182, 0.0036363636363636364, 0.003418181818181818, 0.0031636363636363637, 0.0031454545454545455, 0.0029636363636363636, 0.0027272727272727275, 0.0026545454545454546, 0.0024545454545454545, 0.002418181818181818, 0.0021636363636363637, 0.0019454545454545454, 0.0019454545454545454, 0.0018545454545454546, 0.0017272727272727272, 0.001709090909090909, 0.0015272727272727274, 0.0013272727272727273, 0.001309090909090909, 0.0012, 0.0011090909090909092, 0.0010363636363636363, 0.0009636363636363637, 0.0008727272727272727, 0.0008181818181818182, 0.0007090909090909091, 0.0006727272727272728, 0.0006363636363636364, 0.0005636363636363636, 0.0005454545454545455, 0.00045454545454545455, 0.00043636363636363637, 0.0004181818181818182, 0.00038181818181818184, 0.00043636363636363637, 0.00045454545454545455, 0.0004727272727272727, 0.0004727272727272727, 0.00043636363636363637, 0.0004181818181818182, 0.00043636363636363637]}, {\"line\": {\"color\": \"firebrick\", \"width\": 3}, \"name\": \"exposed\", \"type\": \"scatter\", \"x\": [\"2020-02-24T00:00:00\", \"2020-02-25T00:00:00\", \"2020-02-26T00:00:00\", \"2020-02-27T00:00:00\", \"2020-02-28T00:00:00\", \"2020-02-29T00:00:00\", \"2020-03-01T00:00:00\", \"2020-03-02T00:00:00\", \"2020-03-03T00:00:00\", \"2020-03-04T00:00:00\", \"2020-03-05T00:00:00\", \"2020-03-06T00:00:00\", \"2020-03-07T00:00:00\", \"2020-03-08T00:00:00\", \"2020-03-09T00:00:00\", \"2020-03-10T00:00:00\", \"2020-03-11T00:00:00\", \"2020-03-12T00:00:00\", \"2020-03-13T00:00:00\", \"2020-03-14T00:00:00\", \"2020-03-15T00:00:00\", \"2020-03-16T00:00:00\", \"2020-03-17T00:00:00\", \"2020-03-18T00:00:00\", \"2020-03-19T00:00:00\", \"2020-03-20T00:00:00\", \"2020-03-21T00:00:00\", \"2020-03-22T00:00:00\", \"2020-03-23T00:00:00\", \"2020-03-24T00:00:00\", \"2020-03-25T00:00:00\", \"2020-03-26T00:00:00\", \"2020-03-27T00:00:00\", \"2020-03-28T00:00:00\", \"2020-03-29T00:00:00\", \"2020-03-30T00:00:00\", \"2020-03-31T00:00:00\", \"2020-04-01T00:00:00\", \"2020-04-02T00:00:00\", \"2020-04-03T00:00:00\", \"2020-04-04T00:00:00\", \"2020-04-05T00:00:00\", \"2020-04-06T00:00:00\", \"2020-04-07T00:00:00\", \"2020-04-08T00:00:00\", \"2020-04-09T00:00:00\", \"2020-04-10T00:00:00\", \"2020-04-11T00:00:00\", \"2020-04-12T00:00:00\", \"2020-04-13T00:00:00\", \"2020-04-14T00:00:00\", \"2020-04-15T00:00:00\", \"2020-04-16T00:00:00\", \"2020-04-17T00:00:00\", \"2020-04-18T00:00:00\", \"2020-04-19T00:00:00\", \"2020-04-20T00:00:00\", \"2020-04-21T00:00:00\", \"2020-04-22T00:00:00\", \"2020-04-23T00:00:00\", \"2020-04-24T00:00:00\", \"2020-04-25T00:00:00\", \"2020-04-26T00:00:00\", \"2020-04-27T00:00:00\", \"2020-04-28T00:00:00\", \"2020-04-29T00:00:00\", \"2020-04-30T00:00:00\", \"2020-05-01T00:00:00\", \"2020-05-02T00:00:00\", \"2020-05-03T00:00:00\", \"2020-05-04T00:00:00\", \"2020-05-05T00:00:00\", \"2020-05-06T00:00:00\", \"2020-05-07T00:00:00\", \"2020-05-08T00:00:00\", \"2020-05-09T00:00:00\", \"2020-05-10T00:00:00\", \"2020-05-11T00:00:00\", \"2020-05-12T00:00:00\", \"2020-05-13T00:00:00\", \"2020-05-14T00:00:00\", \"2020-05-15T00:00:00\", \"2020-05-16T00:00:00\", \"2020-05-17T00:00:00\", \"2020-05-18T00:00:00\", \"2020-05-19T00:00:00\", \"2020-05-20T00:00:00\", \"2020-05-21T00:00:00\", \"2020-05-22T00:00:00\", \"2020-05-23T00:00:00\", \"2020-05-24T00:00:00\", \"2020-05-25T00:00:00\", \"2020-05-26T00:00:00\", \"2020-05-27T00:00:00\", \"2020-05-28T00:00:00\", \"2020-05-29T00:00:00\", \"2020-05-30T00:00:00\", \"2020-05-31T00:00:00\", \"2020-06-01T00:00:00\", \"2020-06-02T00:00:00\", \"2020-06-03T00:00:00\", \"2020-06-04T00:00:00\", \"2020-06-05T00:00:00\", \"2020-06-06T00:00:00\", \"2020-06-07T00:00:00\", \"2020-06-08T00:00:00\", \"2020-06-09T00:00:00\", \"2020-06-10T00:00:00\", \"2020-06-11T00:00:00\", \"2020-06-12T00:00:00\", \"2020-06-13T00:00:00\", \"2020-06-14T00:00:00\", \"2020-06-15T00:00:00\", \"2020-06-16T00:00:00\", \"2020-06-17T00:00:00\", \"2020-06-18T00:00:00\", \"2020-06-19T00:00:00\", \"2020-06-20T00:00:00\", \"2020-06-21T00:00:00\", \"2020-06-22T00:00:00\", \"2020-06-23T00:00:00\", \"2020-06-24T00:00:00\", \"2020-06-25T00:00:00\", \"2020-06-26T00:00:00\", \"2020-06-27T00:00:00\", \"2020-06-28T00:00:00\", \"2020-06-29T00:00:00\", \"2020-06-30T00:00:00\", \"2020-07-01T00:00:00\", \"2020-07-02T00:00:00\", \"2020-07-03T00:00:00\", \"2020-07-04T00:00:00\", \"2020-07-05T00:00:00\", \"2020-07-06T00:00:00\", \"2020-07-07T00:00:00\", \"2020-07-08T00:00:00\", \"2020-07-09T00:00:00\", \"2020-07-10T00:00:00\", \"2020-07-11T00:00:00\", \"2020-07-12T00:00:00\", \"2020-07-13T00:00:00\", \"2020-07-14T00:00:00\", \"2020-07-15T00:00:00\", \"2020-07-16T00:00:00\", \"2020-07-17T00:00:00\", \"2020-07-18T00:00:00\", \"2020-07-19T00:00:00\", \"2020-07-20T00:00:00\", \"2020-07-21T00:00:00\", \"2020-07-22T00:00:00\", \"2020-07-23T00:00:00\", \"2020-07-24T00:00:00\", \"2020-07-25T00:00:00\", \"2020-07-26T00:00:00\", \"2020-07-27T00:00:00\", \"2020-07-28T00:00:00\", \"2020-07-29T00:00:00\", \"2020-07-30T00:00:00\", \"2020-07-31T00:00:00\", \"2020-08-01T00:00:00\", \"2020-08-02T00:00:00\", \"2020-08-03T00:00:00\", \"2020-08-04T00:00:00\", \"2020-08-05T00:00:00\", \"2020-08-06T00:00:00\", \"2020-08-07T00:00:00\", \"2020-08-08T00:00:00\", \"2020-08-09T00:00:00\", \"2020-08-10T00:00:00\", \"2020-08-11T00:00:00\", \"2020-08-12T00:00:00\", \"2020-08-13T00:00:00\", \"2020-08-14T00:00:00\", \"2020-08-15T00:00:00\", \"2020-08-16T00:00:00\", \"2020-08-17T00:00:00\", \"2020-08-18T00:00:00\", \"2020-08-19T00:00:00\", \"2020-08-20T00:00:00\", \"2020-08-21T00:00:00\", \"2020-08-22T00:00:00\", \"2020-08-23T00:00:00\", \"2020-08-24T00:00:00\", \"2020-08-25T00:00:00\", \"2020-08-26T00:00:00\", \"2020-08-27T00:00:00\", \"2020-08-28T00:00:00\", \"2020-08-29T00:00:00\", \"2020-08-30T00:00:00\", \"2020-08-31T00:00:00\", \"2020-09-01T00:00:00\", \"2020-09-02T00:00:00\", \"2020-09-03T00:00:00\", \"2020-09-04T00:00:00\", \"2020-09-05T00:00:00\", \"2020-09-06T00:00:00\", \"2020-09-07T00:00:00\", \"2020-09-08T00:00:00\", \"2020-09-09T00:00:00\", \"2020-09-10T00:00:00\", \"2020-09-11T00:00:00\", \"2020-09-12T00:00:00\"], \"y\": [0.0001818181818181818, 0.00025454545454545456, 0.00034545454545454544, 0.00043636363636363637, 0.0004727272727272727, 0.0005090909090909091, 0.0005454545454545455, 0.0006, 0.0006909090909090909, 0.0008545454545454545, 0.0008909090909090909, 0.0010181818181818183, 0.0010727272727272727, 0.001090909090909091, 0.0013636363636363637, 0.0016363636363636363, 0.0020727272727272725, 0.0022181818181818184, 0.0024727272727272727, 0.0028, 0.0030545454545454548, 0.0034363636363636363, 0.0034545454545454545, 0.0037818181818181818, 0.004090909090909091, 0.004545454545454545, 0.005145454545454545, 0.005272727272727273, 0.005472727272727272, 0.005636363636363636, 0.005818181818181818, 0.005890909090909091, 0.006072727272727273, 0.0062545454545454545, 0.0061090909090909095, 0.006145454545454545, 0.006472727272727272, 0.0066, 0.006581818181818182, 0.0065636363636363635, 0.006672727272727273, 0.006290909090909091, 0.006490909090909091, 0.006763636363636364, 0.007054545454545455, 0.007272727272727273, 0.007145454545454545, 0.007472727272727272, 0.007745454545454546, 0.007945454545454545, 0.007690909090909091, 0.007345454545454546, 0.007763636363636364, 0.0074181818181818186, 0.007363636363636364, 0.007709090909090909, 0.007781818181818181, 0.007745454545454546, 0.007945454545454545, 0.008509090909090909, 0.008181818181818182, 0.008127272727272728, 0.00810909090909091, 0.008072727272727273, 0.007654545454545455, 0.007981818181818182, 0.0082, 0.008418181818181818, 0.008309090909090908, 0.008654545454545455, 0.0086, 0.00849090909090909, 0.008781818181818182, 0.009054545454545454, 0.008672727272727273, 0.008727272727272728, 0.008363636363636363, 0.00829090909090909, 0.008054545454545455, 0.008327272727272727, 0.0084, 0.008690909090909091, 0.008254545454545455, 0.008654545454545455, 0.008654545454545455, 0.008636363636363636, 0.008672727272727273, 0.009127272727272727, 0.008927272727272728, 0.010781818181818182, 0.012763636363636364, 0.013963636363636364, 0.015054545454545454, 0.016454545454545454, 0.016890909090909092, 0.018036363636363635, 0.019236363636363635, 0.021509090909090908, 0.0234, 0.02541818181818182, 0.027836363636363635, 0.02950909090909091, 0.03278181818181818, 0.034236363636363634, 0.03650909090909091, 0.038363636363636364, 0.039163636363636366, 0.04114545454545455, 0.042727272727272725, 0.044690909090909094, 0.04690909090909091, 0.04747272727272727, 0.04949090909090909, 0.0516, 0.05287272727272727, 0.053654545454545455, 0.05454545454545454, 0.054654545454545456, 0.05543636363636364, 0.05610909090909091, 0.0558, 0.0568, 0.055872727272727275, 0.055163636363636366, 0.0548, 0.05565454545454546, 0.05570909090909091, 0.05454545454545454, 0.05307272727272727, 0.05138181818181818, 0.050981818181818184, 0.049763636363636364, 0.048327272727272726, 0.04605454545454545, 0.04410909090909091, 0.0428, 0.0414, 0.03949090909090909, 0.03807272727272727, 0.03649090909090909, 0.035036363636363636, 0.032527272727272724, 0.031181818181818182, 0.029327272727272726, 0.027581818181818183, 0.025872727272727273, 0.02498181818181818, 0.023054545454545456, 0.022272727272727274, 0.02090909090909091, 0.02, 0.018654545454545455, 0.01710909090909091, 0.015963636363636364, 0.015436363636363637, 0.014581818181818182, 0.01330909090909091, 0.012018181818181818, 0.0116, 0.01109090909090909, 0.010654545454545455, 0.010036363636363637, 0.009454545454545455, 0.00870909090909091, 0.008127272727272728, 0.008, 0.0069454545454545455, 0.006163636363636363, 0.0062, 0.0059454545454545454, 0.005236363636363636, 0.004690909090909091, 0.0044181818181818185, 0.0044, 0.004090909090909091, 0.0038545454545454547, 0.003618181818181818, 0.0033454545454545456, 0.0031272727272727272, 0.0029636363636363636, 0.0027272727272727275, 0.002509090909090909, 0.002309090909090909, 0.0021454545454545454, 0.0020909090909090908, 0.0020363636363636365, 0.0020545454545454547, 0.0019090909090909091, 0.0015272727272727274, 0.0012909090909090908, 0.0014545454545454545, 0.0016, 0.0015090909090909091, 0.0015454545454545454, 0.0015636363636363636, 0.0013454545454545455, 0.0014, 0.0013636363636363637, 0.0013272727272727273, 0.0012727272727272728]}, {\"line\": {\"color\": \"black\", \"dash\": \"dash\", \"width\": 2}, \"name\": \"capacity\", \"type\": \"scatter\", \"x\": [\"2020-02-24T00:00:00\", \"2020-02-25T00:00:00\", \"2020-02-26T00:00:00\", \"2020-02-27T00:00:00\", \"2020-02-28T00:00:00\", \"2020-02-29T00:00:00\", \"2020-03-01T00:00:00\", \"2020-03-02T00:00:00\", \"2020-03-03T00:00:00\", \"2020-03-04T00:00:00\", \"2020-03-05T00:00:00\", \"2020-03-06T00:00:00\", \"2020-03-07T00:00:00\", \"2020-03-08T00:00:00\", \"2020-03-09T00:00:00\", \"2020-03-10T00:00:00\", \"2020-03-11T00:00:00\", \"2020-03-12T00:00:00\", \"2020-03-13T00:00:00\", \"2020-03-14T00:00:00\", \"2020-03-15T00:00:00\", \"2020-03-16T00:00:00\", \"2020-03-17T00:00:00\", \"2020-03-18T00:00:00\", \"2020-03-19T00:00:00\", \"2020-03-20T00:00:00\", \"2020-03-21T00:00:00\", \"2020-03-22T00:00:00\", \"2020-03-23T00:00:00\", \"2020-03-24T00:00:00\", \"2020-03-25T00:00:00\", \"2020-03-26T00:00:00\", \"2020-03-27T00:00:00\", \"2020-03-28T00:00:00\", \"2020-03-29T00:00:00\", \"2020-03-30T00:00:00\", \"2020-03-31T00:00:00\", \"2020-04-01T00:00:00\", \"2020-04-02T00:00:00\", \"2020-04-03T00:00:00\", \"2020-04-04T00:00:00\", \"2020-04-05T00:00:00\", \"2020-04-06T00:00:00\", \"2020-04-07T00:00:00\", \"2020-04-08T00:00:00\", \"2020-04-09T00:00:00\", \"2020-04-10T00:00:00\", \"2020-04-11T00:00:00\", \"2020-04-12T00:00:00\", \"2020-04-13T00:00:00\", \"2020-04-14T00:00:00\", \"2020-04-15T00:00:00\", \"2020-04-16T00:00:00\", \"2020-04-17T00:00:00\", \"2020-04-18T00:00:00\", \"2020-04-19T00:00:00\", \"2020-04-20T00:00:00\", \"2020-04-21T00:00:00\", \"2020-04-22T00:00:00\", \"2020-04-23T00:00:00\", \"2020-04-24T00:00:00\", \"2020-04-25T00:00:00\", \"2020-04-26T00:00:00\", \"2020-04-27T00:00:00\", \"2020-04-28T00:00:00\", \"2020-04-29T00:00:00\", \"2020-04-30T00:00:00\", \"2020-05-01T00:00:00\", \"2020-05-02T00:00:00\", \"2020-05-03T00:00:00\", \"2020-05-04T00:00:00\", \"2020-05-05T00:00:00\", \"2020-05-06T00:00:00\", \"2020-05-07T00:00:00\", \"2020-05-08T00:00:00\", \"2020-05-09T00:00:00\", \"2020-05-10T00:00:00\", \"2020-05-11T00:00:00\", \"2020-05-12T00:00:00\", \"2020-05-13T00:00:00\", \"2020-05-14T00:00:00\", \"2020-05-15T00:00:00\", \"2020-05-16T00:00:00\", \"2020-05-17T00:00:00\", \"2020-05-18T00:00:00\", \"2020-05-19T00:00:00\", \"2020-05-20T00:00:00\", \"2020-05-21T00:00:00\", \"2020-05-22T00:00:00\", \"2020-05-23T00:00:00\", \"2020-05-24T00:00:00\", \"2020-05-25T00:00:00\", \"2020-05-26T00:00:00\", \"2020-05-27T00:00:00\", \"2020-05-28T00:00:00\", \"2020-05-29T00:00:00\", \"2020-05-30T00:00:00\", \"2020-05-31T00:00:00\", \"2020-06-01T00:00:00\", \"2020-06-02T00:00:00\", \"2020-06-03T00:00:00\", \"2020-06-04T00:00:00\", \"2020-06-05T00:00:00\", \"2020-06-06T00:00:00\", \"2020-06-07T00:00:00\", \"2020-06-08T00:00:00\", \"2020-06-09T00:00:00\", \"2020-06-10T00:00:00\", \"2020-06-11T00:00:00\", \"2020-06-12T00:00:00\", \"2020-06-13T00:00:00\", \"2020-06-14T00:00:00\", \"2020-06-15T00:00:00\", \"2020-06-16T00:00:00\", \"2020-06-17T00:00:00\", \"2020-06-18T00:00:00\", \"2020-06-19T00:00:00\", \"2020-06-20T00:00:00\", \"2020-06-21T00:00:00\", \"2020-06-22T00:00:00\", \"2020-06-23T00:00:00\", \"2020-06-24T00:00:00\", \"2020-06-25T00:00:00\", \"2020-06-26T00:00:00\", \"2020-06-27T00:00:00\", \"2020-06-28T00:00:00\", \"2020-06-29T00:00:00\", \"2020-06-30T00:00:00\", \"2020-07-01T00:00:00\", \"2020-07-02T00:00:00\", \"2020-07-03T00:00:00\", \"2020-07-04T00:00:00\", \"2020-07-05T00:00:00\", \"2020-07-06T00:00:00\", \"2020-07-07T00:00:00\", \"2020-07-08T00:00:00\", \"2020-07-09T00:00:00\", \"2020-07-10T00:00:00\", \"2020-07-11T00:00:00\", \"2020-07-12T00:00:00\", \"2020-07-13T00:00:00\", \"2020-07-14T00:00:00\", \"2020-07-15T00:00:00\", \"2020-07-16T00:00:00\", \"2020-07-17T00:00:00\", \"2020-07-18T00:00:00\", \"2020-07-19T00:00:00\", \"2020-07-20T00:00:00\", \"2020-07-21T00:00:00\", \"2020-07-22T00:00:00\", \"2020-07-23T00:00:00\", \"2020-07-24T00:00:00\", \"2020-07-25T00:00:00\", \"2020-07-26T00:00:00\", \"2020-07-27T00:00:00\", \"2020-07-28T00:00:00\", \"2020-07-29T00:00:00\", \"2020-07-30T00:00:00\", \"2020-07-31T00:00:00\", \"2020-08-01T00:00:00\", \"2020-08-02T00:00:00\", \"2020-08-03T00:00:00\", \"2020-08-04T00:00:00\", \"2020-08-05T00:00:00\", \"2020-08-06T00:00:00\", \"2020-08-07T00:00:00\", \"2020-08-08T00:00:00\", \"2020-08-09T00:00:00\", \"2020-08-10T00:00:00\", \"2020-08-11T00:00:00\", \"2020-08-12T00:00:00\", \"2020-08-13T00:00:00\", \"2020-08-14T00:00:00\", \"2020-08-15T00:00:00\", \"2020-08-16T00:00:00\", \"2020-08-17T00:00:00\", \"2020-08-18T00:00:00\", \"2020-08-19T00:00:00\", \"2020-08-20T00:00:00\", \"2020-08-21T00:00:00\", \"2020-08-22T00:00:00\", \"2020-08-23T00:00:00\", \"2020-08-24T00:00:00\", \"2020-08-25T00:00:00\", \"2020-08-26T00:00:00\", \"2020-08-27T00:00:00\", \"2020-08-28T00:00:00\", \"2020-08-29T00:00:00\", \"2020-08-30T00:00:00\", \"2020-08-31T00:00:00\", \"2020-09-01T00:00:00\", \"2020-09-02T00:00:00\", \"2020-09-03T00:00:00\", \"2020-09-04T00:00:00\", \"2020-09-05T00:00:00\", \"2020-09-06T00:00:00\", \"2020-09-07T00:00:00\", \"2020-09-08T00:00:00\", \"2020-09-09T00:00:00\", \"2020-09-10T00:00:00\", \"2020-09-11T00:00:00\", \"2020-09-12T00:00:00\"], \"y\": [0.0025, 0.0025, 0.0025, 0.0025, 0.0025, 0.0025, 0.0025, 0.0025, 0.0025, 0.0025, 0.0025, 0.0025, 0.0025, 0.0025, 0.0025, 0.0025, 0.0025, 0.0025, 0.0025, 0.0025, 0.0025, 0.0025, 0.0025, 0.0025, 0.0025, 0.0025, 0.0025, 0.0025, 0.0025, 0.0025, 0.0025, 0.0025, 0.0025, 0.0025, 0.0025, 0.0025, 0.0025, 0.0025, 0.0025, 0.0025, 0.0025, 0.0025, 0.0025, 0.0025, 0.0025, 0.0025, 0.0025, 0.0025, 0.0025, 0.0025, 0.0025, 0.0025, 0.0025, 0.0025, 0.0025, 0.0025, 0.0025, 0.0025, 0.0025, 0.0025, 0.0025, 0.0025, 0.0025, 0.0025, 0.0025, 0.0025, 0.0025, 0.0025, 0.0025, 0.0025, 0.0025, 0.0025, 0.0025, 0.0025, 0.0025, 0.0025, 0.0025, 0.0025, 0.0025, 0.0025, 0.0025, 0.0025, 0.0025, 0.0025, 0.0025, 0.0025, 0.0025, 0.0025, 0.0025, 0.0025, 0.0025, 0.0025, 0.0025, 0.0025, 0.0025, 0.0025, 0.0025, 0.0025, 0.0025, 0.0025, 0.0025, 0.0025, 0.0025, 0.0025, 0.0025, 0.0025, 0.0025, 0.0025, 0.0025, 0.0025, 0.0025, 0.0025, 0.0025, 0.0025, 0.0025, 0.0025, 0.0025, 0.0025, 0.0025, 0.0025, 0.0025, 0.0025, 0.0025, 0.0025, 0.0025, 0.0025, 0.0025, 0.0025, 0.0025, 0.0025, 0.0025, 0.0025, 0.0025, 0.0025, 0.0025, 0.0025, 0.0025, 0.0025, 0.0025, 0.0025, 0.0025, 0.0025, 0.0025, 0.0025, 0.0025, 0.0025, 0.0025, 0.0025, 0.0025, 0.0025, 0.0025, 0.0025, 0.0025, 0.0025, 0.0025, 0.0025, 0.0025, 0.0025, 0.0025, 0.0025, 0.0025, 0.0025, 0.0025, 0.0025, 0.0025, 0.0025, 0.0025, 0.0025, 0.0025, 0.0025, 0.0025, 0.0025, 0.0025, 0.0025, 0.0025, 0.0025, 0.0025, 0.0025, 0.0025, 0.0025, 0.0025, 0.0025, 0.0025, 0.0025, 0.0025, 0.0025, 0.0025, 0.0025, 0.0025, 0.0025, 0.0025, 0.0025, 0.0025, 0.0025, 0.0025, 0.0025, 0.0025, 0.0025, 0.0025, 0.0025]}, {\"marker\": {\"color\": \"rgb(251,128,114)\"}, \"name\": \"Lockdown\", \"type\": \"bar\", \"x\": [null], \"y\": [null]}, {\"marker\": {\"color\": \"rgb(255,237,111)\"}, \"name\": \"Hard Quarantine\", \"type\": \"bar\", \"x\": [null], \"y\": [null]}, {\"marker\": {\"color\": \"rgb(255,255,179)\"}, \"name\": \"Light Quarantine\", \"type\": \"bar\", \"x\": [null], \"y\": [null]}, {\"marker\": {\"color\": \"rgb(204, 245, 175)\"}, \"name\": \"Social Distancing\", \"type\": \"bar\", \"x\": [null], \"y\": [null]}, {\"marker\": {\"color\": \"rgb(179,222,105)\"}, \"name\": \"Unrestricted\", \"type\": \"bar\", \"x\": [null], \"y\": [null]}],\n",
       "                        {\"coloraxis\": {\"colorscale\": [[0.0, \"rgb(253, 253, 204)\"], [0.09090909090909091, \"rgb(206, 236, 179)\"], [0.18181818181818182, \"rgb(156, 219, 165)\"], [0.2727272727272727, \"rgb(111, 201, 163)\"], [0.36363636363636365, \"rgb(86, 177, 163)\"], [0.45454545454545453, \"rgb(76, 153, 160)\"], [0.5454545454545454, \"rgb(68, 130, 155)\"], [0.6363636363636364, \"rgb(62, 108, 150)\"], [0.7272727272727273, \"rgb(62, 82, 143)\"], [0.8181818181818182, \"rgb(64, 60, 115)\"], [0.9090909090909091, \"rgb(54, 43, 77)\"], [1.0, \"rgb(39, 26, 44)\"]]}, \"hovermode\": \"x\", \"showlegend\": true, \"template\": {\"data\": {\"bar\": [{\"error_x\": {\"color\": \"#2a3f5f\"}, \"error_y\": {\"color\": \"#2a3f5f\"}, \"marker\": {\"line\": {\"color\": \"#E5ECF6\", \"width\": 0.5}}, \"type\": \"bar\"}], \"barpolar\": [{\"marker\": {\"line\": {\"color\": \"#E5ECF6\", \"width\": 0.5}}, \"type\": \"barpolar\"}], \"carpet\": [{\"aaxis\": {\"endlinecolor\": \"#2a3f5f\", \"gridcolor\": \"white\", \"linecolor\": \"white\", \"minorgridcolor\": \"white\", \"startlinecolor\": \"#2a3f5f\"}, \"baxis\": {\"endlinecolor\": \"#2a3f5f\", \"gridcolor\": \"white\", \"linecolor\": \"white\", \"minorgridcolor\": \"white\", \"startlinecolor\": \"#2a3f5f\"}, \"type\": \"carpet\"}], \"choropleth\": [{\"colorbar\": {\"outlinewidth\": 0, \"ticks\": \"\"}, \"type\": \"choropleth\"}], \"contour\": [{\"colorbar\": {\"outlinewidth\": 0, \"ticks\": \"\"}, \"colorscale\": [[0.0, \"#0d0887\"], [0.1111111111111111, \"#46039f\"], [0.2222222222222222, \"#7201a8\"], [0.3333333333333333, \"#9c179e\"], [0.4444444444444444, \"#bd3786\"], [0.5555555555555556, \"#d8576b\"], [0.6666666666666666, \"#ed7953\"], [0.7777777777777778, \"#fb9f3a\"], [0.8888888888888888, \"#fdca26\"], [1.0, \"#f0f921\"]], \"type\": \"contour\"}], \"contourcarpet\": [{\"colorbar\": {\"outlinewidth\": 0, \"ticks\": \"\"}, \"type\": \"contourcarpet\"}], \"heatmap\": [{\"colorbar\": {\"outlinewidth\": 0, \"ticks\": \"\"}, \"colorscale\": [[0.0, \"#0d0887\"], [0.1111111111111111, \"#46039f\"], [0.2222222222222222, \"#7201a8\"], [0.3333333333333333, \"#9c179e\"], [0.4444444444444444, \"#bd3786\"], [0.5555555555555556, \"#d8576b\"], [0.6666666666666666, \"#ed7953\"], [0.7777777777777778, \"#fb9f3a\"], [0.8888888888888888, \"#fdca26\"], [1.0, \"#f0f921\"]], \"type\": \"heatmap\"}], \"heatmapgl\": [{\"colorbar\": {\"outlinewidth\": 0, \"ticks\": \"\"}, \"colorscale\": [[0.0, \"#0d0887\"], [0.1111111111111111, \"#46039f\"], [0.2222222222222222, \"#7201a8\"], [0.3333333333333333, \"#9c179e\"], [0.4444444444444444, \"#bd3786\"], [0.5555555555555556, \"#d8576b\"], [0.6666666666666666, \"#ed7953\"], [0.7777777777777778, \"#fb9f3a\"], [0.8888888888888888, \"#fdca26\"], [1.0, \"#f0f921\"]], \"type\": \"heatmapgl\"}], \"histogram\": [{\"marker\": {\"colorbar\": {\"outlinewidth\": 0, \"ticks\": \"\"}}, \"type\": \"histogram\"}], \"histogram2d\": [{\"colorbar\": {\"outlinewidth\": 0, \"ticks\": \"\"}, \"colorscale\": [[0.0, \"#0d0887\"], [0.1111111111111111, \"#46039f\"], [0.2222222222222222, \"#7201a8\"], [0.3333333333333333, \"#9c179e\"], [0.4444444444444444, \"#bd3786\"], [0.5555555555555556, \"#d8576b\"], [0.6666666666666666, \"#ed7953\"], [0.7777777777777778, \"#fb9f3a\"], [0.8888888888888888, \"#fdca26\"], [1.0, \"#f0f921\"]], \"type\": \"histogram2d\"}], \"histogram2dcontour\": [{\"colorbar\": {\"outlinewidth\": 0, \"ticks\": \"\"}, \"colorscale\": [[0.0, \"#0d0887\"], [0.1111111111111111, \"#46039f\"], [0.2222222222222222, \"#7201a8\"], [0.3333333333333333, \"#9c179e\"], [0.4444444444444444, \"#bd3786\"], [0.5555555555555556, \"#d8576b\"], [0.6666666666666666, \"#ed7953\"], [0.7777777777777778, \"#fb9f3a\"], [0.8888888888888888, \"#fdca26\"], [1.0, \"#f0f921\"]], \"type\": \"histogram2dcontour\"}], \"mesh3d\": [{\"colorbar\": {\"outlinewidth\": 0, \"ticks\": \"\"}, \"type\": \"mesh3d\"}], \"parcoords\": [{\"line\": {\"colorbar\": {\"outlinewidth\": 0, \"ticks\": \"\"}}, \"type\": \"parcoords\"}], \"pie\": [{\"automargin\": true, \"type\": \"pie\"}], \"scatter\": [{\"marker\": {\"colorbar\": {\"outlinewidth\": 0, \"ticks\": \"\"}}, \"type\": \"scatter\"}], \"scatter3d\": [{\"line\": {\"colorbar\": {\"outlinewidth\": 0, \"ticks\": \"\"}}, \"marker\": {\"colorbar\": {\"outlinewidth\": 0, \"ticks\": \"\"}}, \"type\": \"scatter3d\"}], \"scattercarpet\": [{\"marker\": {\"colorbar\": {\"outlinewidth\": 0, \"ticks\": \"\"}}, \"type\": \"scattercarpet\"}], \"scattergeo\": [{\"marker\": {\"colorbar\": {\"outlinewidth\": 0, \"ticks\": \"\"}}, \"type\": \"scattergeo\"}], \"scattergl\": [{\"marker\": {\"colorbar\": {\"outlinewidth\": 0, \"ticks\": \"\"}}, \"type\": \"scattergl\"}], \"scattermapbox\": [{\"marker\": {\"colorbar\": {\"outlinewidth\": 0, \"ticks\": \"\"}}, \"type\": \"scattermapbox\"}], \"scatterpolar\": [{\"marker\": {\"colorbar\": {\"outlinewidth\": 0, \"ticks\": \"\"}}, \"type\": \"scatterpolar\"}], \"scatterpolargl\": [{\"marker\": {\"colorbar\": {\"outlinewidth\": 0, \"ticks\": \"\"}}, \"type\": \"scatterpolargl\"}], \"scatterternary\": [{\"marker\": {\"colorbar\": {\"outlinewidth\": 0, \"ticks\": \"\"}}, \"type\": \"scatterternary\"}], \"surface\": [{\"colorbar\": {\"outlinewidth\": 0, \"ticks\": \"\"}, \"colorscale\": [[0.0, \"#0d0887\"], [0.1111111111111111, \"#46039f\"], [0.2222222222222222, \"#7201a8\"], [0.3333333333333333, \"#9c179e\"], [0.4444444444444444, \"#bd3786\"], [0.5555555555555556, \"#d8576b\"], [0.6666666666666666, \"#ed7953\"], [0.7777777777777778, \"#fb9f3a\"], [0.8888888888888888, \"#fdca26\"], [1.0, \"#f0f921\"]], \"type\": \"surface\"}], \"table\": [{\"cells\": {\"fill\": {\"color\": \"#EBF0F8\"}, \"line\": {\"color\": \"white\"}}, \"header\": {\"fill\": {\"color\": \"#C8D4E3\"}, \"line\": {\"color\": \"white\"}}, \"type\": \"table\"}]}, \"layout\": {\"annotationdefaults\": {\"arrowcolor\": \"#2a3f5f\", \"arrowhead\": 0, \"arrowwidth\": 1}, \"coloraxis\": {\"colorbar\": {\"outlinewidth\": 0, \"ticks\": \"\"}}, \"colorscale\": {\"diverging\": [[0, \"#8e0152\"], [0.1, \"#c51b7d\"], [0.2, \"#de77ae\"], [0.3, \"#f1b6da\"], [0.4, \"#fde0ef\"], [0.5, \"#f7f7f7\"], [0.6, \"#e6f5d0\"], [0.7, \"#b8e186\"], [0.8, \"#7fbc41\"], [0.9, \"#4d9221\"], [1, \"#276419\"]], \"sequential\": [[0.0, \"#0d0887\"], [0.1111111111111111, \"#46039f\"], [0.2222222222222222, \"#7201a8\"], [0.3333333333333333, \"#9c179e\"], [0.4444444444444444, \"#bd3786\"], [0.5555555555555556, \"#d8576b\"], [0.6666666666666666, \"#ed7953\"], [0.7777777777777778, \"#fb9f3a\"], [0.8888888888888888, \"#fdca26\"], [1.0, \"#f0f921\"]], \"sequentialminus\": [[0.0, \"#0d0887\"], [0.1111111111111111, \"#46039f\"], [0.2222222222222222, \"#7201a8\"], [0.3333333333333333, \"#9c179e\"], [0.4444444444444444, \"#bd3786\"], [0.5555555555555556, \"#d8576b\"], [0.6666666666666666, \"#ed7953\"], [0.7777777777777778, \"#fb9f3a\"], [0.8888888888888888, \"#fdca26\"], [1.0, \"#f0f921\"]]}, \"colorway\": [\"#636efa\", \"#EF553B\", \"#00cc96\", \"#ab63fa\", \"#FFA15A\", \"#19d3f3\", \"#FF6692\", \"#B6E880\", \"#FF97FF\", \"#FECB52\"], \"font\": {\"color\": \"#2a3f5f\"}, \"geo\": {\"bgcolor\": \"white\", \"lakecolor\": \"white\", \"landcolor\": \"#E5ECF6\", \"showlakes\": true, \"showland\": true, \"subunitcolor\": \"white\"}, \"hoverlabel\": {\"align\": \"left\"}, \"hovermode\": \"closest\", \"mapbox\": {\"style\": \"light\"}, \"paper_bgcolor\": \"white\", \"plot_bgcolor\": \"#E5ECF6\", \"polar\": {\"angularaxis\": {\"gridcolor\": \"white\", \"linecolor\": \"white\", \"ticks\": \"\"}, \"bgcolor\": \"#E5ECF6\", \"radialaxis\": {\"gridcolor\": \"white\", \"linecolor\": \"white\", \"ticks\": \"\"}}, \"scene\": {\"xaxis\": {\"backgroundcolor\": \"#E5ECF6\", \"gridcolor\": \"white\", \"gridwidth\": 2, \"linecolor\": \"white\", \"showbackground\": true, \"ticks\": \"\", \"zerolinecolor\": \"white\"}, \"yaxis\": {\"backgroundcolor\": \"#E5ECF6\", \"gridcolor\": \"white\", \"gridwidth\": 2, \"linecolor\": \"white\", \"showbackground\": true, \"ticks\": \"\", \"zerolinecolor\": \"white\"}, \"zaxis\": {\"backgroundcolor\": \"#E5ECF6\", \"gridcolor\": \"white\", \"gridwidth\": 2, \"linecolor\": \"white\", \"showbackground\": true, \"ticks\": \"\", \"zerolinecolor\": \"white\"}}, \"shapedefaults\": {\"line\": {\"color\": \"#2a3f5f\"}}, \"ternary\": {\"aaxis\": {\"gridcolor\": \"white\", \"linecolor\": \"white\", \"ticks\": \"\"}, \"baxis\": {\"gridcolor\": \"white\", \"linecolor\": \"white\", \"ticks\": \"\"}, \"bgcolor\": \"#E5ECF6\", \"caxis\": {\"gridcolor\": \"white\", \"linecolor\": \"white\", \"ticks\": \"\"}}, \"title\": {\"x\": 0.05}, \"xaxis\": {\"automargin\": true, \"gridcolor\": \"white\", \"linecolor\": \"white\", \"ticks\": \"\", \"title\": {\"standoff\": 15}, \"zerolinecolor\": \"white\", \"zerolinewidth\": 2}, \"yaxis\": {\"automargin\": true, \"gridcolor\": \"white\", \"linecolor\": \"white\", \"ticks\": \"\", \"title\": {\"standoff\": 15}, \"zerolinecolor\": \"white\", \"zerolinewidth\": 2}}}, \"title\": {\"text\": \"Sim\"}, \"xaxis\": {\"showgrid\": false}, \"yaxis\": {\"showgrid\": false}},\n",
       "                        {\"responsive\": true}\n",
       "                    ).then(function(){\n",
       "                            \n",
       "var gd = document.getElementById('67df95d1-5537-4ff5-8696-9fefc7343c04');\n",
       "var x = new MutationObserver(function (mutations, observer) {{\n",
       "        var display = window.getComputedStyle(gd).display;\n",
       "        if (!display || display === 'none') {{\n",
       "            console.log([gd, 'removed!']);\n",
       "            Plotly.purge(gd);\n",
       "            observer.disconnect();\n",
       "        }}\n",
       "}});\n",
       "\n",
       "// Listen for the removal of the full notebook cells\n",
       "var notebookContainer = gd.closest('#notebook-container');\n",
       "if (notebookContainer) {{\n",
       "    x.observe(notebookContainer, {childList: true});\n",
       "}}\n",
       "\n",
       "// Listen for the clearing of the current output cell\n",
       "var outputEl = gd.closest('.output');\n",
       "if (outputEl) {{\n",
       "    x.observe(outputEl, {childList: true});\n",
       "}}\n",
       "\n",
       "                        })\n",
       "                };\n",
       "                });\n",
       "            </script>\n",
       "        </div>"
      ]
     },
     "metadata": {},
     "output_type": "display_data"
    }
   ],
   "source": [
    "df = make_SIR_graph(data)\n",
    "actions_3_colors = list(map(color_map_set3.get,  actions))\n",
    "make_beds_graph(df, actions_3_colors, 7, 'Sim', color_map_set3)"
   ]
  }
 ],
 "metadata": {
  "kernelspec": {
   "display_name": "Python 3",
   "language": "python",
   "name": "python3"
  },
  "language_info": {
   "codemirror_mode": {
    "name": "ipython",
    "version": 3
   },
   "file_extension": ".py",
   "mimetype": "text/x-python",
   "name": "python",
   "nbconvert_exporter": "python",
   "pygments_lexer": "ipython3",
   "version": "3.7.7"
  }
 },
 "nbformat": 4,
 "nbformat_minor": 4
}
