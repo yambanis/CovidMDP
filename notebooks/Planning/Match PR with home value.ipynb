{
 "cells": [
  {
   "cell_type": "code",
   "execution_count": 1,
   "metadata": {},
   "outputs": [],
   "source": [
    "#import os, sys\n",
    "#sys.path.insert(0, os.path.abspath('../src/models'))\n",
    "import os\n",
    "os.chdir('../../src/models')"
   ]
  },
  {
   "cell_type": "code",
   "execution_count": 2,
   "metadata": {},
   "outputs": [],
   "source": [
    "import plotly.express as px\n",
    "import plotly.graph_objects as go\n",
    "import datetime\n",
    "\n",
    "set3 = px.colors.qualitative.Set3\n",
    "\n",
    "color_map_set3 = {\n",
    "    'Lockdown':          set3[3],\n",
    "    'Hard Quarantine':    set3[11],\\\n",
    "    'Light Quarantine':   set3[1],\n",
    "    'Social Distancing':  'rgb(204, 245, 175)',\n",
    "    'Unrestricted':        set3[6]     \n",
    "}\n",
    "\n",
    "def make_SIR_graph(data):\n",
    "    d_counts = pd.DataFrame([pd.Series(d).value_counts() for d in data])\n",
    "    d_counts.fillna(0, inplace=True)\n",
    "    \n",
    "    fig = go.Figure()\n",
    "    x = list(range(len(d_counts[0])))\n",
    "\n",
    "    fig.add_trace(go.Scatter(x=x, y=d_counts[-1]/len(G.nodes()), name='removed',line_color='green'))\n",
    "    fig.add_trace(go.Scatter(x=x, y=d_counts[0]/len(G.nodes()), name='susceptible', line_color='blue'))\n",
    "    fig.add_trace(go.Scatter(x=x, y=d_counts[1]/len(G.nodes()), name='exposed',line_color ='orange'))\n",
    "    fig.add_trace(go.Scatter(x=x, y=d_counts[2]/len(G.nodes()), name='infected', line_color = 'red'))\n",
    "    fig.add_trace(go.Scatter(x=x, y=d_counts[3]/len(G.nodes()), name='hospitalized', line_color = 'purple'))\n",
    "    fig.update_layout(hovermode='x')\n",
    "    fig.show()\n",
    "    \n",
    "    return d_counts\n",
    "\n",
    "def make_beds_graph(data, actions, step_size, title, color_map):\n",
    "    fig = go.Figure()\n",
    "   \n",
    "    x = pd.date_range(datetime.date(2020, 2, 24), periods=len(data)+2)\n",
    "\n",
    "    fig.add_trace(go.Scatter(x=x, y=data[3]/55e3, name='hospitalized', line_color = 'royalblue',\n",
    "                            line=dict(width=3)))\n",
    "    fig.add_trace(go.Scatter(x=x, y=data[1]/55e3, name='exposed', line_color = 'firebrick',\n",
    "                            line=dict(width=3)))\n",
    "    fig.add_trace(go.Scatter(x=x, y=len(data)*[0.0025], name='capacity', line_color = 'black',\n",
    "                            line=dict(dash='dash', width = 2)))\n",
    "    fig.update_layout(\n",
    "        shapes=[\n",
    "            dict(\n",
    "                type=\"rect\",\n",
    "                # x-reference is assigned to the x-values\n",
    "                xref=\"x\",\n",
    "                # y-reference is assigned to the plot paper [0,1]\n",
    "                yref=\"paper\",\n",
    "                x0=x[step_size*i],\n",
    "                y0=0,\n",
    "                x1=x[step_size*(i+1)-1],\n",
    "                y1=1,\n",
    "                fillcolor=a,\n",
    "                opacity=0.5,\n",
    "                layer=\"below\",\n",
    "                line_width=0,\n",
    "            ) for i,a in enumerate(actions)] \n",
    "    )\n",
    "\n",
    "    for k,v in color_map.items():\n",
    "        fig.add_trace(go.Bar(x=[None], y=[None], marker=dict(color=v), name = k))\n",
    "\n",
    "    fig.update_layout(coloraxis = {'colorscale':'deep'}, xaxis={'showgrid': False},\n",
    "                      yaxis = {'showgrid': False},\n",
    "                      showlegend=True, title = title, hovermode=\"x\")\n",
    "\n",
    "    fig.show()"
   ]
  },
  {
   "cell_type": "code",
   "execution_count": 3,
   "metadata": {},
   "outputs": [
    {
     "name": "stdout",
     "output_type": "stream",
     "text": [
      "Loading Graph... Done!\n"
     ]
    }
   ],
   "source": [
    "import numpy as np\n",
    "import networkx as nx\n",
    "from tqdm import tqdm\n",
    "from disease_states import states_dict\n",
    "from patient_evolution import susceptible_to_exposed, change_state\n",
    "from functools import partial\n",
    "from policies import policies\n",
    "\n",
    "print('Loading Graph... ',  end='')\n",
    "G = nx.read_gpickle('../../data/processed/SP_multiGraph_Job_Edu_Level.gpickle')\n",
    "print('Done!')\n",
    "\n",
    "prhome = 0.06\n",
    "alfa = .2\n",
    "\n",
    "p_r = {\n",
    "    'home'    :  prhome,\n",
    "    'neighbor':  alfa*prhome/2,\n",
    "    'work'    :  alfa*prhome/2,\n",
    "    'school'  :  alfa*prhome/2,\n",
    "}\n",
    "\n",
    "def init_infection(pct=.0001):\n",
    "    \"\"\"\n",
    "    Given a Graph G, infects pct% of population and set the\n",
    "    remainder as susceptible. This is considered day 0.\n",
    "\n",
    "    Args:\n",
    "        pct (float): percentage of people initially infected.\n",
    "\n",
    "    Returns:\n",
    "        new_matrix (np.array): 2D Array  arrays of id, state, day of infection\n",
    "            and current state duration of population.\n",
    "    \"\"\"\n",
    "\n",
    "    global G\n",
    "\n",
    "    size = int(len(G.nodes) * pct)\n",
    "    infected = list(np.random.choice(G.nodes(), size=size, replace=False))\n",
    "    infected = [x for x in infected]\n",
    "\n",
    "    pop_matrix = np.array([[node, states_dict['susceptible'],\n",
    "                            -1, -1, data['age']]\n",
    "                          for node, data in G.nodes(data=True)])\n",
    "\n",
    "    matrix_change = pop_matrix[np.isin(pop_matrix[:, 0], infected)]\n",
    "\n",
    "    matrix_keep = pop_matrix[~np.isin(pop_matrix[:, 0], infected)]\n",
    "\n",
    "    matrix_change = np.apply_along_axis(susceptible_to_exposed,\n",
    "                                        1, matrix_change, day=0)\n",
    "\n",
    "    new_matrix = np.concatenate((matrix_keep, matrix_change))\n",
    "    assert new_matrix.shape == pop_matrix.shape\n",
    "\n",
    "    return new_matrix\n",
    "\n",
    "\n",
    "def expose_population(pop_matrix, exposed, day):\n",
    "    \"\"\"\n",
    "    Receives the population matrix, an array containing ids of newly\n",
    "    exposed individuals and the current simulation day\n",
    "\n",
    "    Args:\n",
    "        pop_matrix (np.array): 2D Array  arrays of id, state, day of infection\n",
    "            and current state duration of population.\n",
    "\n",
    "        exposed (list): list of newly exposed people id\n",
    "        day (int): current simulation day\n",
    "\n",
    "    Returns:\n",
    "        new_matrix (np.array): The population matrix with the\n",
    "        newly exposed people exposed.\n",
    "    Raises:\n",
    "        ValueError: If shape of starting matrix is different from final matrix\n",
    "    \"\"\"\n",
    "    matrix_change = pop_matrix[np.isin(pop_matrix[:, 0], exposed)]\n",
    "    matrix_keep = pop_matrix[~np.isin(pop_matrix[:, 0], exposed)]\n",
    "    matrix_change = np.apply_along_axis(susceptible_to_exposed,\n",
    "                                        1, matrix_change, day=day)\n",
    "\n",
    "    new_matrix = np.concatenate((matrix_keep, matrix_change))\n",
    "\n",
    "    if new_matrix.shape != pop_matrix.shape:\n",
    "        raise ValueError(\"Input and output matrix shapes are different\")\n",
    "    return new_matrix\n",
    "\n",
    "\n",
    "def lambda_leak_expose(pop_matrix, day, lambda_leak=.0001):\n",
    "    \"\"\"\n",
    "    Receives the population matrix, the current day and the leak factor.\n",
    "    Chooses at random a lambda_leak percentage of the population to expose\n",
    "\n",
    "    Args:\n",
    "        pop_matrix (np.array): 2D Array  arrays of id, state, day of infection\n",
    "            and current state duration of population.\n",
    "\n",
    "        lambda_leak (float): the percentage of the population to expose\n",
    "\n",
    "        day: the current day of simulation\n",
    "\n",
    "    Returns:\n",
    "        new_matrix (np.array): The population matrix with the\n",
    "                               newly exposed people.\n",
    "    Raises:\n",
    "        ValueError: If shape of starting matrix is different from final matrix\n",
    "    \"\"\"\n",
    "    size = int(pop_matrix.shape[0]*lambda_leak)\n",
    "\n",
    "    susceptible = pop_matrix[np.where(pop_matrix[:, 1]\n",
    "                                      == states_dict['susceptible'])][:, 0]\n",
    "\n",
    "    exposed = np.random.choice(susceptible, size=size, replace=False)\n",
    "\n",
    "    if len(exposed) == 0:\n",
    "        return pop_matrix\n",
    "\n",
    "    new_matrix = expose_population(pop_matrix, exposed, day)\n",
    "\n",
    "    if new_matrix.shape != pop_matrix.shape:\n",
    "        raise ValueError(\"Input and output matrix shapes are different\")\n",
    "\n",
    "    return new_matrix\n",
    "\n",
    "\n",
    "def spread_through_contacts(spreader, restrictions):\n",
    "    \"\"\"\n",
    "    An infected person, or a spredear, infects each of\n",
    "    its contacts with chance equal to\n",
    "    np.random.random() < p_r[r] * (1 - restrictions[r]).\n",
    "    Returns an array of all the people successfully infected by the spreader.\n",
    "\n",
    "    Args:\n",
    "        spreader (int): id of the infected person that is\n",
    "                        spreading the disease.\n",
    "\n",
    "        restrictions (dictionary): a dictionary with a value between\n",
    "                                   zero and one for each type of relation\n",
    "\n",
    "    Returns:\n",
    "        infected (list): List of all the people infected by spreader.\n",
    "    \"\"\"\n",
    "    global G, p_r\n",
    "    spreader = spreader\n",
    "    contacts = [[y, v['edge_type']] for x, y, v\n",
    "                in G.edges(spreader, data=True)]\n",
    "\n",
    "    infected = [y for r in restrictions.keys() for y, v in contacts\n",
    "                if v == r\n",
    "                and np.random.random() < p_r[r] * (1 - restrictions[r])]\n",
    "\n",
    "    return infected\n",
    "\n",
    "\n",
    "def update_population(pop_matrix):\n",
    "    \"\"\"\n",
    "    Receives the population matrix and progress the infections\n",
    "    for all people. The state duration is decremented\n",
    "    and for those whom it reaches zero, they transition to the next state\n",
    "\n",
    "    Args:\n",
    "        pop_matrix (np.array): 2D Array  arrays of id, state, day of infection\n",
    "            and current state duration of population.\n",
    "\n",
    "    Returns:\n",
    "        new_matrix (np.array): The population matrix with the updated status.\n",
    "    Raises:\n",
    "        ValueError: If shape of starting matrix is different from final matrix\n",
    "    \"\"\"\n",
    "    matrix_keep = pop_matrix[np.isin(pop_matrix[:, 1],\n",
    "                                     [states_dict['susceptible'],\n",
    "                                     states_dict['removed']]\n",
    "                                     )]\n",
    "    matrix_change = pop_matrix[~np.isin(pop_matrix[:, 1],\n",
    "                                        [states_dict['susceptible'],\n",
    "                                        states_dict['removed']]\n",
    "                                        )]\n",
    "\n",
    "    matrix_change[:, 3] = matrix_change[:, 3].astype(int) - 1\n",
    "    matrix_no_change = matrix_change[matrix_change[:, 3].astype(int) > 0]\n",
    "    matrix_change = matrix_change[matrix_change[:, 3].astype(int) == 0]\n",
    "\n",
    "    if matrix_change.shape[0] > 0:\n",
    "        matrix_change = np.apply_along_axis(change_state, 1, matrix_change)\n",
    "\n",
    "    new_matrix = np.concatenate((matrix_keep, matrix_change, matrix_no_change))\n",
    "\n",
    "    if new_matrix.shape != pop_matrix.shape:\n",
    "        raise ValueError(\"Input and output matrix shapes are different\")\n",
    "    return new_matrix\n",
    "\n",
    "\n",
    "\n",
    "def spread_infection(pop_matrix, restrictions, day):\n",
    "    \"\"\"\n",
    "    Receives the population matrix, the restrictions dictionary and the\n",
    "    current day. The disease spreads throught the relations in the graph:\n",
    "    each infected person has a chance to infect a susceptible contact with\n",
    "    it has an edge in the graph, conditioned to the current restrictions,\n",
    "    the p_r of each relation.\n",
    "\n",
    "    Args:\n",
    "        pop_matrix (np.array): 2D Array  arrays of id, state, day of infection\n",
    "            and current state duration of population.\n",
    "\n",
    "        restrictions (dictionary): a dictionary with a value between\n",
    "        zero and one for each type of relation\n",
    "\n",
    "        day: the current day of simulation\n",
    "\n",
    "    Returns:\n",
    "        new_matrix (np.array): The population matrix with the newly\n",
    "                                exposed people.\n",
    "    Raises:\n",
    "        ValueError: If shape of starting matrix is different from final matrix\n",
    "    \"\"\"\n",
    "    global G\n",
    "    mask = np.where(pop_matrix[:, 1] == states_dict['infected'])\n",
    "    currently_infected = pop_matrix[mask][:, 0]\n",
    "\n",
    "    if currently_infected.shape[0] == 0:\n",
    "        return pop_matrix, 0\n",
    "        \n",
    "    exposed = list(map(partial(spread_through_contacts,\n",
    "                               restrictions=restrictions),\n",
    "                       currently_infected))\n",
    "\n",
    "    exposed = np.unique(np.array([x for l in exposed for x in l]))\n",
    "\n",
    "    rt = 6*len(exposed)/len(currently_infected)\n",
    "\n",
    "\n",
    "    mask = np.isin(pop_matrix[:, 0], exposed)\n",
    "    susceptible = np.isin(pop_matrix[np.array(mask)][:, 1],\n",
    "                          states_dict['susceptible'])\n",
    "    exposed = pop_matrix[np.array(mask)][:, 0][susceptible]\n",
    "\n",
    "    if len(exposed) == 0:\n",
    "        return pop_matrix, rt\n",
    "\n",
    "    new_matrix = expose_population(pop_matrix, exposed, day)\n",
    "\n",
    "    if new_matrix.shape != pop_matrix.shape:\n",
    "        raise ValueError(\"Input and output matrix shapes are different\")\n",
    "\n",
    "\n",
    "    return new_matrix, rt\n",
    "\n",
    "\n",
    "def main(policy='Unrestricted', days=500):\n",
    "    \"\"\"\n",
    "    Receives the policy to be used during the simulation and for how many days\n",
    "    the simulation should run for. The policy should be a Key in the policies\n",
    "    dict inside policies.py.\n",
    "\n",
    "    One full step consists of:\n",
    "        Spreading the infection\n",
    "        Exposing through leakage\n",
    "        Updating the disease evolution of the population\n",
    "\n",
    "    Args:\n",
    "        pop_matrix (string): The name of a policy that exists is policies.policies.\n",
    "\n",
    "        days (int): For how long should the policy run.\n",
    "\n",
    "\n",
    "    Returns: data (np.array): An array of arrays containing the status of \n",
    "    the population at each time step.\n",
    "    \n",
    "    \"\"\"\n",
    "\n",
    "    pop_matrix = init_infection(.0001)\n",
    "\n",
    "    data = []\n",
    "    rts = []\n",
    "\n",
    "    # restrictions={'work':0, 'school': 0, 'home':0, 'neighbor':0}\n",
    "    restrictions = policies[policy]\n",
    "    print(restrictions)\n",
    "\n",
    "    for day in tqdm(range(1, days)):\n",
    "        # if less than 90% already recovered, break simulation\n",
    "        if (pop_matrix[np.where(pop_matrix[:, 1] == -1)].shape[0]\n",
    "                > pop_matrix.shape[0]*.9):\n",
    "            break\n",
    "\n",
    "        pop_matrix, rt = spread_infection(pop_matrix, restrictions, day)\n",
    "        pop_matrix = lambda_leak_expose(pop_matrix, day)\n",
    "        pop_matrix = update_population(pop_matrix)\n",
    "\n",
    "        rts.append(rt)\n",
    "        data.append(np.array(sorted(pop_matrix, key=lambda x: x[0]))[:, 1])\n",
    "\n",
    "    return data"
   ]
  },
  {
   "cell_type": "code",
   "execution_count": 4,
   "metadata": {},
   "outputs": [],
   "source": [
    "from policies import policies, costs"
   ]
  },
  {
   "cell_type": "code",
   "execution_count": 5,
   "metadata": {},
   "outputs": [],
   "source": [
    "from tqdm import tqdm\n",
    "import numpy as np\n",
    "import pandas as pd"
   ]
  },
  {
   "cell_type": "code",
   "execution_count": 6,
   "metadata": {},
   "outputs": [
    {
     "name": "stdout",
     "output_type": "stream",
     "text": [
      "Loading Graph... Done!\n"
     ]
    }
   ],
   "source": [
    "import numpy as np\n",
    "import networkx as nx\n",
    "from tqdm import tqdm\n",
    "from disease_states import states_dict\n",
    "from patient_evolution import susceptible_to_exposed, change_state\n",
    "from functools import partial\n",
    "from policies import policies\n",
    "from collections import defaultdict\n",
    "\n",
    "print('Loading Graph... ',  end='')\n",
    "G = nx.read_gpickle('../../data/processed/SP_multiGraph_Job_Edu_Level.gpickle')\n",
    "print('Done!')\n",
    "\n",
    "prhome = 0.06\n",
    "alfa = .2\n",
    "\n",
    "p_r = {\n",
    "    'home'    :  prhome,\n",
    "    'neighbor':  alfa*prhome/2,\n",
    "    'work'    :  alfa*prhome/2,\n",
    "    'school'  :  alfa*prhome/2,\n",
    "}\n",
    "\n",
    "def init_infection(pct=.0001):\n",
    "    \"\"\"\n",
    "    Given a Graph G, infects pct% of population and set the\n",
    "    remainder as susceptible. This is considered day 0.\n",
    "\n",
    "    Args:\n",
    "        pct (float): percentage of people initially infected.\n",
    "\n",
    "    Returns:\n",
    "        new_matrix (np.array): 2D Array  arrays of id, state, day of infection\n",
    "            and current state duration of population.\n",
    "    \"\"\"\n",
    "\n",
    "    global G\n",
    "\n",
    "    size = int(len(G.nodes) * pct)\n",
    "    infected = list(np.random.choice(G.nodes(), size=size, replace=False))\n",
    "    infected = [x for x in infected]\n",
    "\n",
    "    pop_matrix = np.array([[node, states_dict['susceptible'],\n",
    "                            -1, -1, data['age']]\n",
    "                          for node, data in G.nodes(data=True)])\n",
    "    \n",
    "    contacts_infected = defaultdict(int)\n",
    "\n",
    "    matrix_change = pop_matrix[np.isin(pop_matrix[:, 0], infected)]\n",
    "\n",
    "    matrix_keep = pop_matrix[~np.isin(pop_matrix[:, 0], infected)]\n",
    "\n",
    "    matrix_change = np.apply_along_axis(susceptible_to_exposed,\n",
    "                                        1, matrix_change, day=0)\n",
    "\n",
    "    new_matrix = np.concatenate((matrix_keep, matrix_change))\n",
    "    assert new_matrix.shape == pop_matrix.shape\n",
    "\n",
    "    return new_matrix, contacts_infected\n",
    "\n",
    "\n",
    "def expose_population(pop_matrix, exposed, day):\n",
    "    \"\"\"\n",
    "    Receives the population matrix, an array containing ids of newly\n",
    "    exposed individuals and the current simulation day\n",
    "\n",
    "    Args:\n",
    "        pop_matrix (np.array): 2D Array  arrays of id, state, day of infection\n",
    "            and current state duration of population.\n",
    "\n",
    "        exposed (list): list of newly exposed people id\n",
    "        day (int): current simulation day\n",
    "\n",
    "    Returns:\n",
    "        new_matrix (np.array): The population matrix with the\n",
    "        newly exposed people exposed.\n",
    "    Raises:\n",
    "        ValueError: If shape of starting matrix is different from final matrix\n",
    "    \"\"\"\n",
    "    matrix_change = pop_matrix[np.isin(pop_matrix[:, 0], exposed)]\n",
    "    matrix_keep = pop_matrix[~np.isin(pop_matrix[:, 0], exposed)]\n",
    "    matrix_change = np.apply_along_axis(susceptible_to_exposed,\n",
    "                                        1, matrix_change, day=day)\n",
    "\n",
    "    new_matrix = np.concatenate((matrix_keep, matrix_change))\n",
    "\n",
    "    if new_matrix.shape != pop_matrix.shape:\n",
    "        raise ValueError(\"Input and output matrix shapes are different\")\n",
    "    return new_matrix\n",
    "\n",
    "\n",
    "def lambda_leak_expose(pop_matrix, day, lambda_leak=.0001):\n",
    "    \"\"\"\n",
    "    Receives the population matrix, the current day and the leak factor.\n",
    "    Chooses at random a lambda_leak percentage of the population to expose\n",
    "\n",
    "    Args:\n",
    "        pop_matrix (np.array): 2D Array  arrays of id, state, day of infection\n",
    "            and current state duration of population.\n",
    "\n",
    "        lambda_leak (float): the percentage of the population to expose\n",
    "\n",
    "        day: the current day of simulation\n",
    "\n",
    "    Returns:\n",
    "        new_matrix (np.array): The population matrix with the\n",
    "                               newly exposed people.\n",
    "    Raises:\n",
    "        ValueError: If shape of starting matrix is different from final matrix\n",
    "    \"\"\"\n",
    "    size = int(pop_matrix.shape[0]*lambda_leak)\n",
    "\n",
    "    susceptible = pop_matrix[np.where(pop_matrix[:, 1]\n",
    "                                      == states_dict['susceptible'])][:, 0]\n",
    "\n",
    "    exposed = np.random.choice(susceptible, size=size, replace=False)\n",
    "\n",
    "    if len(exposed) == 0:\n",
    "        return pop_matrix\n",
    "\n",
    "    new_matrix = expose_population(pop_matrix, exposed, day)\n",
    "\n",
    "    if new_matrix.shape != pop_matrix.shape:\n",
    "        raise ValueError(\"Input and output matrix shapes are different\")\n",
    "\n",
    "    return new_matrix\n",
    "\n",
    "\n",
    "def spread_through_contacts(spreader, restrictions):\n",
    "    \"\"\"\n",
    "    An infected person, or a spredear, infects each of\n",
    "    its contacts with chance equal to\n",
    "    np.random.random() < p_r[r] * (1 - restrictions[r]).\n",
    "    Returns an array of all the people successfully infected by the spreader.\n",
    "\n",
    "    Args:\n",
    "        spreader (int): id of the infected person that is\n",
    "                        spreading the disease.\n",
    "\n",
    "        restrictions (dictionary): a dictionary with a value between\n",
    "                                   zero and one for each type of relation\n",
    "\n",
    "    Returns:\n",
    "        infected (list): List of all the people infected by spreader.\n",
    "    \"\"\"\n",
    "    global G, p_r\n",
    "    spreader = spreader\n",
    "    contacts = [[y, v['edge_type']] for x, y, v\n",
    "                in G.edges(spreader, data=True)]\n",
    "\n",
    "    infected = [y for r in restrictions.keys() for y, v in contacts\n",
    "                if v == r\n",
    "                and np.random.random() < p_r[r] * (1 - restrictions[r])]\n",
    "\n",
    "    return infected\n",
    "\n",
    "\n",
    "def update_population(pop_matrix):\n",
    "    \"\"\"\n",
    "    Receives the population matrix and progress the infections\n",
    "    for all people. The state duration is decremented\n",
    "    and for those whom it reaches zero, they transition to the next state\n",
    "\n",
    "    Args:\n",
    "        pop_matrix (np.array): 2D Array  arrays of id, state, day of infection\n",
    "            and current state duration of population.\n",
    "\n",
    "    Returns:\n",
    "        new_matrix (np.array): The population matrix with the updated status.\n",
    "    Raises:\n",
    "        ValueError: If shape of starting matrix is different from final matrix\n",
    "    \"\"\"\n",
    "    matrix_keep = pop_matrix[np.isin(pop_matrix[:, 1],\n",
    "                                     [states_dict['susceptible'],\n",
    "                                     states_dict['removed']]\n",
    "                                     )]\n",
    "    matrix_change = pop_matrix[~np.isin(pop_matrix[:, 1],\n",
    "                                        [states_dict['susceptible'],\n",
    "                                        states_dict['removed']]\n",
    "                                        )]\n",
    "\n",
    "    matrix_change[:, 3] = matrix_change[:, 3].astype(int) - 1\n",
    "    matrix_no_change = matrix_change[matrix_change[:, 3].astype(int) > 0]\n",
    "    matrix_change = matrix_change[matrix_change[:, 3].astype(int) == 0]\n",
    "\n",
    "    if matrix_change.shape[0] > 0:\n",
    "        matrix_change = np.apply_along_axis(change_state, 1, matrix_change)\n",
    "\n",
    "    new_matrix = np.concatenate((matrix_keep, matrix_change, matrix_no_change))\n",
    "\n",
    "    if new_matrix.shape != pop_matrix.shape:\n",
    "        raise ValueError(\"Input and output matrix shapes are different\")\n",
    "    return new_matrix\n",
    "\n",
    "\n",
    "\n",
    "def spread_infection(pop_matrix, restrictions, day, contacts_infected):\n",
    "    \"\"\"\n",
    "    Receives the population matrix, the restrictions dictionary and the\n",
    "    current day. The disease spreads throught the relations in the graph:\n",
    "    each infected person has a chance to infect a susceptible contact with\n",
    "    it has an edge in the graph, conditioned to the current restrictions,\n",
    "    the p_r of each relation.\n",
    "\n",
    "    Args:\n",
    "        pop_matrix (np.array): 2D Array  arrays of id, state, day of infection\n",
    "            and current state duration of population.\n",
    "\n",
    "        restrictions (dictionary): a dictionary with a value between\n",
    "        zero and one for each type of relation\n",
    "\n",
    "        day: the current day of simulation\n",
    "\n",
    "    Returns:\n",
    "        new_matrix (np.array): The population matrix with the newly\n",
    "                                exposed people.\n",
    "    Raises:\n",
    "        ValueError: If shape of starting matrix is different from final matrix\n",
    "    \"\"\"\n",
    "    global G\n",
    "    mask = np.where(pop_matrix[:, 1] == states_dict['infected'])\n",
    "    currently_infected = pop_matrix[mask][:, 0]\n",
    "\n",
    "    if currently_infected.shape[0] == 0:\n",
    "        return pop_matrix, 0, contacts_infected\n",
    "        \n",
    "    exposed = []\n",
    "    for spreader in currently_infected:\n",
    "        exp = spread_through_contacts(spreader, restrictions)\n",
    "        exp = [e for e in exp if e not in exposed]\n",
    "        contacts_infected[spreader] += len(exp)\n",
    "        exposed.extend(exp)\n",
    "        \n",
    "    exposed = np.unique(exposed)\n",
    "\n",
    "    rt = 6*len(exposed)/len(currently_infected)\n",
    "\n",
    "    mask = np.isin(pop_matrix[:, 0], exposed)\n",
    "    susceptible = np.isin(pop_matrix[np.array(mask)][:, 1],\n",
    "                          states_dict['susceptible'])\n",
    "    exposed = pop_matrix[np.array(mask)][:, 0][susceptible]\n",
    "\n",
    "    if len(exposed) == 0:\n",
    "        return pop_matrix, rt, contacts_infected\n",
    "\n",
    "    new_matrix = expose_population(pop_matrix, exposed, day)\n",
    "\n",
    "    if new_matrix.shape != pop_matrix.shape:\n",
    "        raise ValueError(\"Input and output matrix shapes are different\")\n",
    "\n",
    "\n",
    "    return new_matrix, rt, contacts_infected\n",
    "\n",
    "\n",
    "def main(policy='Unrestricted', days=500):\n",
    "    \"\"\"\n",
    "    Receives the policy to be used during the simulation and for how many days\n",
    "    the simulation should run for. The policy should be a Key in the policies\n",
    "    dict inside policies.py.\n",
    "\n",
    "    One full step consists of:\n",
    "        Spreading the infection\n",
    "        Exposing through leakage\n",
    "        Updating the disease evolution of the population\n",
    "\n",
    "    Args:\n",
    "        pop_matrix (string): The name of a policy that exists is policies.policies.\n",
    "\n",
    "        days (int): For how long should the policy run.\n",
    "\n",
    "\n",
    "    Returns: data (np.array): An array of arrays containing the status of \n",
    "    the population at each time step.\n",
    "    \n",
    "    \"\"\"\n",
    "\n",
    "    pop_matrix, contacts_infected = init_infection(.0001)\n",
    "\n",
    "    data = []\n",
    "    rts = []\n",
    "\n",
    "    # restrictions={'work':0, 'school': 0, 'home':0, 'neighbor':0}\n",
    "    restrictions = policies[policy]\n",
    "    print(restrictions)\n",
    "\n",
    "    for day in tqdm(range(1, days)):\n",
    "        # if less than 90% already recovered, break simulation\n",
    "        if (pop_matrix[np.where(pop_matrix[:, 1] == -1)].shape[0]\n",
    "                > pop_matrix.shape[0]*.9):\n",
    "            break\n",
    "\n",
    "        pop_matrix, rt, contacts_infected = spread_infection(pop_matrix, restrictions, day, contacts_infected)\n",
    "        pop_matrix = lambda_leak_expose(pop_matrix, day)\n",
    "        pop_matrix = update_population(pop_matrix)\n",
    "\n",
    "        rts.append(rt)\n",
    "        data.append(np.array(sorted(pop_matrix, key=lambda x: x[0]))[:, 1])\n",
    "\n",
    "    return data, rt, contacts_infected, pop_matrix"
   ]
  },
  {
   "cell_type": "code",
   "execution_count": 63,
   "metadata": {},
   "outputs": [],
   "source": [
    "prhome = 0.06\n",
    "\n",
    "p_r = {\n",
    "    'home'    :  prhome,\n",
    "    'neighbor':  .05*prhome,\n",
    "    'work'    :  .05*prhome,\n",
    "    'school'  :  .2*prhome,\n",
    "}\n",
    "\n",
    "def one_full_sim():\n",
    "    pop_matrix, contacts_infected = init_infection(.001)\n",
    "\n",
    "    data = []\n",
    "    rts = []\n",
    "    days = 25\n",
    "\n",
    "    #restrictions = policies[policy]\n",
    "\n",
    "    for day in range(1, days):\n",
    "        # if less than 90% already recovered, break simulation\n",
    "        if (pop_matrix[np.where(pop_matrix[:, 1] == 0)].shape[0]\n",
    "                < pop_matrix.shape[0]*.97):\n",
    "            break\n",
    "\n",
    "        restrictions = policies['Lockdown']\n",
    "        #if day <= 15:\n",
    "        #    restrictions = policies['Unrestricted']\n",
    "        #else : \n",
    "        #    restrictions = policies['Light Quarantine']\n",
    "        #else: \n",
    "        #    restrictions = policies['Social Distancing']\n",
    "\n",
    "        pop_matrix, rt, contacts_infected = spread_infection(pop_matrix, restrictions, day, contacts_infected)\n",
    "        #pop_matrix = lambda_leak_expose(pop_matrix, day)\n",
    "        pop_matrix = update_population(pop_matrix)\n",
    "\n",
    "        rts.append(rt)\n",
    "        data.append(np.array(sorted(pop_matrix, key=lambda x: x[0]))[:, 1])\n",
    "        \n",
    "    return pop_matrix, contacts_infected, data, rts"
   ]
  },
  {
   "cell_type": "code",
   "execution_count": 64,
   "metadata": {},
   "outputs": [
    {
     "name": "stderr",
     "output_type": "stream",
     "text": [
      "100%|████████████████████████████████████████████████████████████████████████████████| 100/100 [02:39<00:00,  1.59s/it]\n"
     ]
    }
   ],
   "source": [
    "data = [one_full_sim() for i in tqdm(range(100))]"
   ]
  },
  {
   "cell_type": "code",
   "execution_count": 65,
   "metadata": {},
   "outputs": [
    {
     "name": "stderr",
     "output_type": "stream",
     "text": [
      "c:\\users\\paola\\anaconda3\\envs\\cmdp\\lib\\site-packages\\numpy\\core\\fromnumeric.py:3335: RuntimeWarning:\n",
      "\n",
      "Mean of empty slice.\n",
      "\n",
      "c:\\users\\paola\\anaconda3\\envs\\cmdp\\lib\\site-packages\\numpy\\core\\_methods.py:161: RuntimeWarning:\n",
      "\n",
      "invalid value encountered in double_scalars\n",
      "\n"
     ]
    },
    {
     "data": {
      "application/vnd.plotly.v1+json": {
       "config": {
        "plotlyServerURL": "https://plot.ly"
       },
       "data": [
        {
         "line": {
          "color": "red"
         },
         "mode": "lines",
         "opacity": 0.3,
         "showlegend": false,
         "type": "scatter",
         "x": [
          0,
          1,
          2,
          3,
          4,
          5,
          6,
          7,
          8,
          9
         ],
         "y": [
          1,
          0.8333333333333334,
          1.4285714285714286,
          1.8,
          1,
          0.75,
          1.5,
          1.5,
          0.875,
          0
         ]
        },
        {
         "line": {
          "color": "red"
         },
         "mode": "lines",
         "opacity": 0.3,
         "showlegend": false,
         "type": "scatter",
         "x": [
          0,
          1,
          2,
          3,
          4,
          5,
          6,
          7,
          8,
          9
         ],
         "y": [
          0.5,
          0.3333333333333333,
          2,
          0.5,
          0.5714285714285714,
          1.5,
          0.7,
          2,
          1,
          1
         ]
        },
        {
         "line": {
          "color": "red"
         },
         "mode": "lines",
         "opacity": 0.3,
         "showlegend": false,
         "type": "scatter",
         "x": [
          0,
          1,
          2,
          3,
          4,
          5,
          6,
          7,
          8,
          9
         ],
         "y": [
          1,
          1.3333333333333333,
          0.25,
          1.6,
          1.7142857142857142,
          1,
          1.5,
          1,
          0.6666666666666666,
          2
         ]
        },
        {
         "line": {
          "color": "red"
         },
         "mode": "lines",
         "opacity": 0.3,
         "showlegend": false,
         "type": "scatter",
         "x": [
          0,
          1,
          2,
          3,
          4,
          5,
          6,
          7,
          8,
          9
         ],
         "y": [
          2.5,
          1,
          1,
          0.5,
          0.75,
          0.25,
          0.75,
          1,
          0.75,
          1.8571428571428572
         ]
        },
        {
         "line": {
          "color": "red"
         },
         "mode": "lines",
         "opacity": 0.3,
         "showlegend": false,
         "type": "scatter",
         "x": [
          0,
          1,
          2,
          3,
          4,
          5,
          6,
          7,
          8,
          9
         ],
         "y": [
          2.4,
          0.8333333333333334,
          1.6,
          2,
          2.25,
          2.2222222222222223,
          1.8,
          0.7142857142857143,
          1.4,
          0.6666666666666666
         ]
        },
        {
         "line": {
          "color": "red"
         },
         "mode": "lines",
         "opacity": 0.3,
         "showlegend": false,
         "type": "scatter",
         "x": [
          0,
          1,
          2,
          3,
          4,
          5,
          6,
          7,
          8,
          9
         ],
         "y": [
          0.5,
          0.5,
          2,
          1,
          1.25,
          0.6666666666666666,
          1.6666666666666667,
          1,
          4,
          1
         ]
        },
        {
         "line": {
          "color": "red"
         },
         "mode": "lines",
         "opacity": 0.3,
         "showlegend": false,
         "type": "scatter",
         "x": [
          0,
          1,
          2,
          3,
          4,
          5,
          6,
          7,
          8,
          9
         ],
         "y": [
          1,
          1,
          1.6666666666666667,
          1,
          1.2222222222222223,
          2.5,
          1.5,
          1,
          0,
          1
         ]
        },
        {
         "line": {
          "color": "red"
         },
         "mode": "lines",
         "opacity": 0.3,
         "showlegend": false,
         "type": "scatter",
         "x": [
          0,
          1,
          2,
          3,
          4,
          5,
          6,
          7,
          8,
          9
         ],
         "y": [
          0.6666666666666666,
          0.5,
          1.6666666666666667,
          1,
          1.5555555555555556,
          1.75,
          1.7142857142857142,
          0.5,
          1,
          0
         ]
        },
        {
         "line": {
          "color": "red"
         },
         "mode": "lines",
         "opacity": 0.3,
         "showlegend": false,
         "type": "scatter",
         "x": [
          0,
          1,
          2,
          3,
          4,
          5,
          6,
          7,
          8,
          9
         ],
         "y": [
          2.3333333333333335,
          0.6666666666666666,
          1,
          4,
          2,
          1,
          1.6,
          1,
          1.3333333333333333,
          1
         ]
        },
        {
         "line": {
          "color": "red"
         },
         "mode": "lines",
         "opacity": 0.3,
         "showlegend": false,
         "type": "scatter",
         "x": [
          0,
          1,
          2,
          3,
          4,
          5,
          6,
          7,
          8,
          9
         ],
         "y": [
          1.5,
          1.2857142857142858,
          0.8,
          2.2222222222222223,
          1.25,
          0.6666666666666666,
          0.3333333333333333,
          0.4,
          0.6,
          0
         ]
        },
        {
         "line": {
          "color": "red"
         },
         "mode": "lines",
         "opacity": 0.3,
         "showlegend": false,
         "type": "scatter",
         "x": [
          0,
          1,
          2,
          3,
          4,
          5,
          6,
          7,
          8,
          9
         ],
         "y": [
          1,
          1.5,
          1.6,
          0.6666666666666666,
          2.7142857142857144,
          1.5,
          2.3333333333333335,
          1.6,
          1,
          0
         ]
        },
        {
         "line": {
          "color": "red"
         },
         "mode": "lines",
         "opacity": 0.3,
         "showlegend": false,
         "type": "scatter",
         "x": [
          0,
          1,
          2,
          3,
          4,
          5,
          6,
          7,
          8,
          9
         ],
         "y": [
          3,
          1.1111111111111112,
          0.8,
          1.1666666666666667,
          1.1818181818181819,
          2.6,
          1,
          1.8,
          0.6666666666666666,
          1.5
         ]
        },
        {
         "line": {
          "color": "red"
         },
         "mode": "lines",
         "opacity": 0.3,
         "showlegend": false,
         "type": "scatter",
         "x": [
          0,
          1,
          2,
          3,
          4,
          5,
          6,
          7,
          8,
          9
         ],
         "y": [
          1,
          1.5,
          3,
          0.5,
          0.8571428571428571,
          1.5,
          0.8,
          1.25,
          1.25,
          1.8
         ]
        },
        {
         "line": {
          "color": "red"
         },
         "mode": "lines",
         "opacity": 0.3,
         "showlegend": false,
         "type": "scatter",
         "x": [
          0,
          1,
          2,
          3,
          4,
          5,
          6,
          7,
          8,
          9
         ],
         "y": [
          1,
          1,
          null,
          1.4,
          1,
          0.8333333333333334,
          1,
          2.5,
          1,
          2
         ]
        },
        {
         "line": {
          "color": "red"
         },
         "mode": "lines",
         "opacity": 0.3,
         "showlegend": false,
         "type": "scatter",
         "x": [
          0,
          1,
          2,
          3,
          4,
          5,
          6,
          7,
          8,
          9
         ],
         "y": [
          0,
          1.5,
          0.2,
          1.375,
          0.6,
          0,
          0.8,
          0,
          0,
          0
         ]
        },
        {
         "line": {
          "color": "red"
         },
         "mode": "lines",
         "opacity": 0.3,
         "showlegend": false,
         "type": "scatter",
         "x": [
          0,
          1,
          2,
          3,
          4,
          5,
          6,
          7,
          8,
          9
         ],
         "y": [
          null,
          0.5,
          2.25,
          0.6666666666666666,
          0.8571428571428571,
          0.5,
          0.25,
          0.6,
          1,
          0.5
         ]
        },
        {
         "line": {
          "color": "red"
         },
         "mode": "lines",
         "opacity": 0.3,
         "showlegend": false,
         "type": "scatter",
         "x": [
          0,
          1,
          2,
          3,
          4,
          5,
          6,
          7,
          8,
          9
         ],
         "y": [
          1.6,
          1,
          1.5,
          2.5,
          2.3333333333333335,
          1.7142857142857142,
          0.16666666666666666,
          2.6,
          2,
          0.6666666666666666
         ]
        },
        {
         "line": {
          "color": "red"
         },
         "mode": "lines",
         "opacity": 0.3,
         "showlegend": false,
         "type": "scatter",
         "x": [
          0,
          1,
          2,
          3,
          4,
          5,
          6,
          7,
          8,
          9
         ],
         "y": [
          2,
          1.875,
          1,
          2.2,
          1.1428571428571428,
          0.3333333333333333,
          2.1666666666666665,
          0.8,
          0.3333333333333333,
          1
         ]
        },
        {
         "line": {
          "color": "red"
         },
         "mode": "lines",
         "opacity": 0.3,
         "showlegend": false,
         "type": "scatter",
         "x": [
          0,
          1,
          2,
          3,
          4,
          5,
          6,
          7,
          8,
          9
         ],
         "y": [
          0.5,
          null,
          0.42857142857142855,
          2,
          0.3333333333333333,
          0.9,
          0,
          1.2857142857142858,
          2.25,
          1
         ]
        },
        {
         "line": {
          "color": "red"
         },
         "mode": "lines",
         "opacity": 0.3,
         "showlegend": false,
         "type": "scatter",
         "x": [
          0,
          1,
          2,
          3,
          4,
          5,
          6,
          7,
          8,
          9
         ],
         "y": [
          0.6666666666666666,
          0,
          1.6666666666666667,
          1.4444444444444444,
          2,
          1.4,
          0.5,
          1,
          0.6666666666666666,
          1.5
         ]
        },
        {
         "line": {
          "color": "red"
         },
         "mode": "lines",
         "opacity": 0.3,
         "showlegend": false,
         "type": "scatter",
         "x": [
          0,
          1,
          2,
          3,
          4,
          5,
          6,
          7,
          8,
          9
         ],
         "y": [
          0.5,
          1.2857142857142858,
          1.5,
          1.6666666666666667,
          2.5,
          1.2,
          0,
          0.42857142857142855,
          0.6,
          0.2857142857142857
         ]
        },
        {
         "line": {
          "color": "red"
         },
         "mode": "lines",
         "opacity": 0.3,
         "showlegend": false,
         "type": "scatter",
         "x": [
          0,
          1,
          2,
          3,
          4,
          5,
          6,
          7,
          8,
          9
         ],
         "y": [
          2,
          5,
          1.875,
          2.5,
          1.6666666666666667,
          0.75,
          0.6,
          0.75,
          1,
          0.8333333333333334
         ]
        },
        {
         "line": {
          "color": "red"
         },
         "mode": "lines",
         "opacity": 0.3,
         "showlegend": false,
         "type": "scatter",
         "x": [
          0,
          1,
          2,
          3,
          4,
          5,
          6,
          7,
          8,
          9
         ],
         "y": [
          1.5,
          1.4,
          1.5,
          0.5,
          0.8333333333333334,
          1.2857142857142858,
          1,
          1,
          1.3333333333333333,
          1.25
         ]
        },
        {
         "line": {
          "color": "red"
         },
         "mode": "lines",
         "opacity": 0.3,
         "showlegend": false,
         "type": "scatter",
         "x": [
          0,
          1,
          2,
          3,
          4,
          5,
          6,
          7,
          8,
          9
         ],
         "y": [
          1,
          1,
          2,
          1.25,
          2,
          0.25,
          1.5,
          1.3333333333333333,
          0.5,
          1.3333333333333333
         ]
        },
        {
         "line": {
          "color": "red"
         },
         "mode": "lines",
         "opacity": 0.3,
         "showlegend": false,
         "type": "scatter",
         "x": [
          0,
          1,
          2,
          3,
          4,
          5,
          6,
          7,
          8,
          9
         ],
         "y": [
          0.5,
          2,
          1.5,
          1.4285714285714286,
          2,
          0.3333333333333333,
          3,
          1,
          1.4,
          0.6666666666666666
         ]
        },
        {
         "line": {
          "color": "red"
         },
         "mode": "lines",
         "opacity": 0.3,
         "showlegend": false,
         "type": "scatter",
         "x": [
          0,
          1,
          2,
          3,
          4,
          5,
          6,
          7,
          8,
          9
         ],
         "y": [
          2.2857142857142856,
          1,
          2.5,
          1,
          1.3333333333333333,
          3.8,
          1.25,
          1.75,
          1,
          1.8333333333333333
         ]
        },
        {
         "line": {
          "color": "red"
         },
         "mode": "lines",
         "opacity": 0.3,
         "showlegend": false,
         "type": "scatter",
         "x": [
          0,
          1,
          2,
          3,
          4,
          5,
          6,
          7,
          8,
          9
         ],
         "y": [
          1.5,
          0.8571428571428571,
          1.4,
          1,
          1,
          6,
          1.8,
          0.75,
          0.5,
          1.5
         ]
        },
        {
         "line": {
          "color": "red"
         },
         "mode": "lines",
         "opacity": 0.3,
         "showlegend": false,
         "type": "scatter",
         "x": [
          0,
          1,
          2,
          3,
          4,
          5,
          6,
          7,
          8,
          9
         ],
         "y": [
          2.5,
          2.5,
          1,
          0.8571428571428571,
          1.375,
          2,
          0,
          1,
          0.3333333333333333,
          0.8333333333333334
         ]
        },
        {
         "line": {
          "color": "red"
         },
         "mode": "lines",
         "opacity": 0.3,
         "showlegend": false,
         "type": "scatter",
         "x": [
          0,
          1,
          2,
          3,
          4,
          5,
          6,
          7,
          8,
          9
         ],
         "y": [
          0.5,
          0.5,
          2,
          0.6666666666666666,
          2.4285714285714284,
          1,
          1.75,
          1.4,
          0.5,
          0.3333333333333333
         ]
        },
        {
         "line": {
          "color": "red"
         },
         "mode": "lines",
         "opacity": 0.3,
         "showlegend": false,
         "type": "scatter",
         "x": [
          0,
          1,
          2,
          3,
          4,
          5,
          6,
          7,
          8,
          9
         ],
         "y": [
          1.3333333333333333,
          3,
          0.5,
          1.5,
          null,
          4,
          1.2857142857142858,
          0.6666666666666666,
          0,
          0.6
         ]
        },
        {
         "line": {
          "color": "red"
         },
         "mode": "lines",
         "opacity": 0.3,
         "showlegend": false,
         "type": "scatter",
         "x": [
          0,
          1,
          2,
          3,
          4,
          5,
          6,
          7,
          8,
          9
         ],
         "y": [
          0.8,
          1.1666666666666667,
          1.5,
          1.3333333333333333,
          1.2857142857142858,
          1.125,
          0.7142857142857143,
          1.5,
          1.1666666666666667,
          0.5
         ]
        },
        {
         "line": {
          "color": "red"
         },
         "mode": "lines",
         "opacity": 0.3,
         "showlegend": false,
         "type": "scatter",
         "x": [
          0,
          1,
          2,
          3,
          4,
          5,
          6,
          7,
          8,
          9
         ],
         "y": [
          3,
          2,
          0.875,
          1.6153846153846154,
          0.7142857142857143,
          1,
          0.6666666666666666,
          1.6,
          2,
          0.6666666666666666
         ]
        },
        {
         "line": {
          "color": "red"
         },
         "mode": "lines",
         "opacity": 0.3,
         "showlegend": false,
         "type": "scatter",
         "x": [
          0,
          1,
          2,
          3,
          4,
          5,
          6,
          7,
          8,
          9
         ],
         "y": [
          1.5,
          2.857142857142857,
          0.75,
          1.9,
          0.8,
          2.3333333333333335,
          2,
          0,
          1.4285714285714286,
          1
         ]
        },
        {
         "line": {
          "color": "red"
         },
         "mode": "lines",
         "opacity": 0.3,
         "showlegend": false,
         "type": "scatter",
         "x": [
          0,
          1,
          2,
          3,
          4,
          5,
          6,
          7,
          8,
          9
         ],
         "y": [
          3,
          0,
          2.5,
          0,
          0.8,
          0.5,
          1.3333333333333333,
          2.3333333333333335,
          1,
          0.5714285714285714
         ]
        },
        {
         "line": {
          "color": "red"
         },
         "mode": "lines",
         "opacity": 0.3,
         "showlegend": false,
         "type": "scatter",
         "x": [
          0,
          1,
          2,
          3,
          4,
          5,
          6,
          7,
          8,
          9
         ],
         "y": [
          null,
          2.6666666666666665,
          1,
          1.4,
          1.25,
          1,
          0.75,
          0.3333333333333333,
          0.7142857142857143,
          1.75
         ]
        },
        {
         "line": {
          "color": "red"
         },
         "mode": "lines",
         "opacity": 0.3,
         "showlegend": false,
         "type": "scatter",
         "x": [
          0,
          1,
          2,
          3,
          4,
          5,
          6,
          7,
          8,
          9
         ],
         "y": [
          2.3333333333333335,
          1.6666666666666667,
          2.5,
          1.4,
          0.75,
          0.3333333333333333,
          2.6666666666666665,
          1.2,
          1.2857142857142858,
          0.6
         ]
        },
        {
         "line": {
          "color": "red"
         },
         "mode": "lines",
         "opacity": 0.3,
         "showlegend": false,
         "type": "scatter",
         "x": [
          0,
          1,
          2,
          3,
          4,
          5,
          6,
          7,
          8,
          9
         ],
         "y": [
          1,
          1.4,
          1.4,
          0.8,
          1,
          0,
          1.1666666666666667,
          1.3333333333333333,
          0.3333333333333333,
          1.25
         ]
        },
        {
         "line": {
          "color": "red"
         },
         "mode": "lines",
         "opacity": 0.3,
         "showlegend": false,
         "type": "scatter",
         "x": [
          0,
          1,
          2,
          3,
          4,
          5,
          6,
          7,
          8,
          9
         ],
         "y": [
          1,
          1,
          1.8,
          1.2,
          0.5,
          1,
          1.5,
          2,
          1,
          1
         ]
        },
        {
         "line": {
          "color": "red"
         },
         "mode": "lines",
         "opacity": 0.3,
         "showlegend": false,
         "type": "scatter",
         "x": [
          0,
          1,
          2,
          3,
          4,
          5,
          6,
          7,
          8,
          9
         ],
         "y": [
          0,
          0.5,
          1,
          2,
          0.3333333333333333,
          1,
          0,
          2.25,
          2,
          0.6666666666666666
         ]
        },
        {
         "line": {
          "color": "red"
         },
         "mode": "lines",
         "opacity": 0.3,
         "showlegend": false,
         "type": "scatter",
         "x": [
          0,
          1,
          2,
          3,
          4,
          5,
          6,
          7,
          8,
          9
         ],
         "y": [
          1,
          null,
          1.75,
          1,
          1.8,
          0.5,
          0.25,
          1,
          0,
          1
         ]
        },
        {
         "line": {
          "color": "red"
         },
         "mode": "lines",
         "opacity": 0.3,
         "showlegend": false,
         "type": "scatter",
         "x": [
          0,
          1,
          2,
          3,
          4,
          5,
          6,
          7,
          8,
          9
         ],
         "y": [
          1.75,
          0.5,
          2.2,
          1.1666666666666667,
          1.2857142857142858,
          2.25,
          2,
          2,
          3,
          4
         ]
        },
        {
         "line": {
          "color": "red"
         },
         "mode": "lines",
         "opacity": 0.3,
         "showlegend": false,
         "type": "scatter",
         "x": [
          0,
          1,
          2,
          3,
          4,
          5,
          6,
          7,
          8,
          9
         ],
         "y": [
          0.75,
          0.5,
          0.8,
          0.4,
          1,
          2.7142857142857144,
          1.2,
          2.375,
          1.8,
          1
         ]
        },
        {
         "line": {
          "color": "red"
         },
         "mode": "lines",
         "opacity": 0.3,
         "showlegend": false,
         "type": "scatter",
         "x": [
          0,
          1,
          2,
          3,
          4,
          5,
          6,
          7,
          8,
          9
         ],
         "y": [
          1.5,
          0.8333333333333334,
          1.6666666666666667,
          1.2,
          1.2,
          1,
          1.125,
          1.8333333333333333,
          2.8333333333333335,
          2.5
         ]
        },
        {
         "line": {
          "color": "red"
         },
         "mode": "lines",
         "opacity": 0.3,
         "showlegend": false,
         "type": "scatter",
         "x": [
          0,
          1,
          2,
          3,
          4,
          5,
          6,
          7,
          8,
          9
         ],
         "y": [
          0,
          0,
          0.6666666666666666,
          1,
          1,
          2.125,
          1,
          0,
          null,
          1
         ]
        },
        {
         "line": {
          "color": "red"
         },
         "mode": "lines",
         "opacity": 0.3,
         "showlegend": false,
         "type": "scatter",
         "x": [
          0,
          1,
          2,
          3,
          4,
          5,
          6,
          7,
          8,
          9
         ],
         "y": [
          0.8333333333333334,
          0.6666666666666666,
          1,
          1.75,
          1,
          1.25,
          1.3333333333333333,
          1,
          0,
          0
         ]
        },
        {
         "line": {
          "color": "red"
         },
         "mode": "lines",
         "opacity": 0.3,
         "showlegend": false,
         "type": "scatter",
         "x": [
          0,
          1,
          2,
          3,
          4,
          5,
          6,
          7,
          8,
          9
         ],
         "y": [
          1.5,
          3,
          1.4,
          1.6666666666666667,
          0.5,
          1,
          0.2857142857142857,
          0,
          1.4285714285714286,
          0.6
         ]
        },
        {
         "line": {
          "color": "red"
         },
         "mode": "lines",
         "opacity": 0.3,
         "showlegend": false,
         "type": "scatter",
         "x": [
          0,
          1,
          2,
          3,
          4,
          5,
          6,
          7,
          8,
          9
         ],
         "y": [
          3,
          1,
          2.5,
          1.9166666666666667,
          2.2,
          0.75,
          0,
          2,
          1,
          2.6666666666666665
         ]
        },
        {
         "line": {
          "color": "red"
         },
         "mode": "lines",
         "opacity": 0.3,
         "showlegend": false,
         "type": "scatter",
         "x": [
          0,
          1,
          2,
          3,
          4,
          5,
          6,
          7,
          8,
          9
         ],
         "y": [
          4,
          2.25,
          1,
          0.5,
          0.8333333333333334,
          0.8333333333333334,
          0.8,
          2.3333333333333335,
          2.857142857142857,
          0
         ]
        },
        {
         "line": {
          "color": "red"
         },
         "mode": "lines",
         "opacity": 0.3,
         "showlegend": false,
         "type": "scatter",
         "x": [
          0,
          1,
          2,
          3,
          4,
          5,
          6,
          7,
          8,
          9
         ],
         "y": [
          0,
          1,
          null,
          1.3333333333333333,
          1.2,
          0.5,
          1,
          0.4,
          1,
          0
         ]
        },
        {
         "line": {
          "color": "red"
         },
         "mode": "lines",
         "opacity": 0.3,
         "showlegend": false,
         "type": "scatter",
         "x": [
          0,
          1,
          2,
          3,
          4,
          5,
          6,
          7,
          8,
          9
         ],
         "y": [
          0.25,
          1.5,
          1.25,
          0,
          2.25,
          0.3333333333333333,
          0.8,
          1.5,
          0.5,
          1
         ]
        },
        {
         "line": {
          "color": "red"
         },
         "mode": "lines",
         "opacity": 0.3,
         "showlegend": false,
         "type": "scatter",
         "x": [
          0,
          1,
          2,
          3,
          4,
          5,
          6,
          7,
          8,
          9
         ],
         "y": [
          2,
          1,
          1.2,
          1,
          0,
          3,
          0.8333333333333334,
          1.5,
          0.3333333333333333,
          2
         ]
        },
        {
         "line": {
          "color": "red"
         },
         "mode": "lines",
         "opacity": 0.3,
         "showlegend": false,
         "type": "scatter",
         "x": [
          0,
          1,
          2,
          3,
          4,
          5,
          6,
          7,
          8,
          9
         ],
         "y": [
          0,
          1,
          1,
          1.3333333333333333,
          1.25,
          1.1666666666666667,
          0.5,
          0.5,
          1.5,
          0.25
         ]
        },
        {
         "line": {
          "color": "red"
         },
         "mode": "lines",
         "opacity": 0.3,
         "showlegend": false,
         "type": "scatter",
         "x": [
          0,
          1,
          2,
          3,
          4,
          5,
          6,
          7,
          8,
          9
         ],
         "y": [
          0.5,
          1.6666666666666667,
          0.75,
          0,
          1.25,
          0.5,
          0.5,
          3,
          0.6666666666666666,
          0.5
         ]
        },
        {
         "line": {
          "color": "red"
         },
         "mode": "lines",
         "opacity": 0.3,
         "showlegend": false,
         "type": "scatter",
         "x": [
          0,
          1,
          2,
          3,
          4,
          5,
          6,
          7,
          8,
          9
         ],
         "y": [
          0,
          0.8333333333333334,
          1.1428571428571428,
          1.5,
          1,
          1.3333333333333333,
          2,
          1.75,
          0.5,
          1.4
         ]
        },
        {
         "line": {
          "color": "red"
         },
         "mode": "lines",
         "opacity": 0.3,
         "showlegend": false,
         "type": "scatter",
         "x": [
          0,
          1,
          2,
          3,
          4,
          5,
          6,
          7,
          8,
          9
         ],
         "y": [
          0.6,
          1.3333333333333333,
          2.6666666666666665,
          1,
          1,
          1,
          0,
          0.5,
          0.5,
          1
         ]
        },
        {
         "line": {
          "color": "red"
         },
         "mode": "lines",
         "opacity": 0.3,
         "showlegend": false,
         "type": "scatter",
         "x": [
          0,
          1,
          2,
          3,
          4,
          5,
          6,
          7,
          8,
          9
         ],
         "y": [
          1,
          2.25,
          1,
          1.5,
          1.4285714285714286,
          2.125,
          1,
          1,
          1,
          0.4
         ]
        },
        {
         "line": {
          "color": "red"
         },
         "mode": "lines",
         "opacity": 0.3,
         "showlegend": false,
         "type": "scatter",
         "x": [
          0,
          1,
          2,
          3,
          4,
          5,
          6,
          7,
          8,
          9
         ],
         "y": [
          0,
          0.8333333333333334,
          1.3333333333333333,
          0.75,
          1.2,
          5,
          1,
          0.5,
          0,
          0.3333333333333333
         ]
        },
        {
         "line": {
          "color": "red"
         },
         "mode": "lines",
         "opacity": 0.3,
         "showlegend": false,
         "type": "scatter",
         "x": [
          0,
          1,
          2,
          3,
          4,
          5,
          6,
          7,
          8,
          9
         ],
         "y": [
          2.5,
          0.5,
          2.1666666666666665,
          1.5,
          1.2,
          0.8,
          1,
          0.5714285714285714,
          1,
          0
         ]
        },
        {
         "line": {
          "color": "red"
         },
         "mode": "lines",
         "opacity": 0.3,
         "showlegend": false,
         "type": "scatter",
         "x": [
          0,
          1,
          2,
          3,
          4,
          5,
          6,
          7,
          8,
          9
         ],
         "y": [
          0.5,
          0.75,
          0,
          2.2857142857142856,
          2,
          0.5,
          1.25,
          1,
          0,
          1.3333333333333333
         ]
        },
        {
         "line": {
          "color": "red"
         },
         "mode": "lines",
         "opacity": 0.3,
         "showlegend": false,
         "type": "scatter",
         "x": [
          0,
          1,
          2,
          3,
          4,
          5,
          6,
          7,
          8,
          9
         ],
         "y": [
          2,
          0,
          1.5,
          0.6666666666666666,
          0.3333333333333333,
          1.1666666666666667,
          1,
          0.6666666666666666,
          1.25,
          2.5
         ]
        },
        {
         "line": {
          "color": "red"
         },
         "mode": "lines",
         "opacity": 0.3,
         "showlegend": false,
         "type": "scatter",
         "x": [
          0,
          1,
          2,
          3,
          4,
          5,
          6,
          7,
          8,
          9
         ],
         "y": [
          1.3333333333333333,
          1.3333333333333333,
          1,
          0.8333333333333334,
          2.5,
          0.3333333333333333,
          1.6666666666666667,
          1.2857142857142858,
          0.5,
          0.75
         ]
        },
        {
         "line": {
          "color": "red"
         },
         "mode": "lines",
         "opacity": 0.3,
         "showlegend": false,
         "type": "scatter",
         "x": [
          0,
          1,
          2,
          3,
          4,
          5,
          6,
          7,
          8,
          9
         ],
         "y": [
          0.6,
          2.2,
          1.5,
          0.8,
          0,
          1.5,
          1.3333333333333333,
          1.75,
          0.5,
          0.5
         ]
        },
        {
         "line": {
          "color": "red"
         },
         "mode": "lines",
         "opacity": 0.3,
         "showlegend": false,
         "type": "scatter",
         "x": [
          0,
          1,
          2,
          3,
          4,
          5,
          6,
          7,
          8,
          9
         ],
         "y": [
          0.3333333333333333,
          0,
          0.6666666666666666,
          0.75,
          1.5,
          0.3333333333333333,
          0.3333333333333333,
          2,
          0.6666666666666666,
          0
         ]
        },
        {
         "line": {
          "color": "red"
         },
         "mode": "lines",
         "opacity": 0.3,
         "showlegend": false,
         "type": "scatter",
         "x": [
          0,
          1,
          2,
          3,
          4,
          5,
          6,
          7,
          8,
          9
         ],
         "y": [
          1.3333333333333333,
          1.875,
          0.8,
          1.8,
          0.8888888888888888,
          1.5,
          2.3333333333333335,
          1,
          null,
          1.3333333333333333
         ]
        },
        {
         "line": {
          "color": "red"
         },
         "mode": "lines",
         "opacity": 0.3,
         "showlegend": false,
         "type": "scatter",
         "x": [
          0,
          1,
          2,
          3,
          4,
          5,
          6,
          7,
          8,
          9
         ],
         "y": [
          0,
          1.4,
          1.3333333333333333,
          1.5,
          1,
          1,
          0.5,
          1,
          0.5,
          null
         ]
        },
        {
         "line": {
          "color": "red"
         },
         "mode": "lines",
         "opacity": 0.3,
         "showlegend": false,
         "type": "scatter",
         "x": [
          0,
          1,
          2,
          3,
          4,
          5,
          6,
          7,
          8,
          9
         ],
         "y": [
          3,
          2,
          1.6666666666666667,
          2.5,
          1.8181818181818181,
          2.3333333333333335,
          1.6666666666666667,
          1.6666666666666667,
          2,
          2.25
         ]
        },
        {
         "line": {
          "color": "red"
         },
         "mode": "lines",
         "opacity": 0.3,
         "showlegend": false,
         "type": "scatter",
         "x": [
          0,
          1,
          2,
          3,
          4,
          5,
          6,
          7,
          8,
          9
         ],
         "y": [
          2,
          2.3333333333333335,
          2,
          0.5,
          1.5,
          0.5,
          1.3333333333333333,
          1,
          0.6,
          null
         ]
        },
        {
         "line": {
          "color": "red"
         },
         "mode": "lines",
         "opacity": 0.3,
         "showlegend": false,
         "type": "scatter",
         "x": [
          0,
          1,
          2,
          3,
          4,
          5,
          6,
          7,
          8,
          9
         ],
         "y": [
          1,
          1.5,
          1.6666666666666667,
          0.6,
          0,
          1,
          1.5,
          0.5,
          1.3333333333333333,
          0.4
         ]
        },
        {
         "line": {
          "color": "red"
         },
         "mode": "lines",
         "opacity": 0.3,
         "showlegend": false,
         "type": "scatter",
         "x": [
          0,
          1,
          2,
          3,
          4,
          5,
          6,
          7,
          8,
          9
         ],
         "y": [
          0.6666666666666666,
          1,
          1.3333333333333333,
          1.2,
          1.2,
          0.25,
          3.3333333333333335,
          1,
          1,
          3.5
         ]
        },
        {
         "line": {
          "color": "red"
         },
         "mode": "lines",
         "opacity": 0.3,
         "showlegend": false,
         "type": "scatter",
         "x": [
          0,
          1,
          2,
          3,
          4,
          5,
          6,
          7,
          8,
          9
         ],
         "y": [
          1,
          1,
          1.5714285714285714,
          3,
          1.2,
          2,
          2.6,
          2.3333333333333335,
          0.8,
          1.3333333333333333
         ]
        },
        {
         "line": {
          "color": "red"
         },
         "mode": "lines",
         "opacity": 0.3,
         "showlegend": false,
         "type": "scatter",
         "x": [
          0,
          1,
          2,
          3,
          4,
          5,
          6,
          7,
          8,
          9
         ],
         "y": [
          1.6666666666666667,
          2.3333333333333335,
          1.3333333333333333,
          1.8333333333333333,
          1.125,
          1.6,
          1.4285714285714286,
          2.5,
          0.5,
          1.5
         ]
        },
        {
         "line": {
          "color": "red"
         },
         "mode": "lines",
         "opacity": 0.3,
         "showlegend": false,
         "type": "scatter",
         "x": [
          0,
          1,
          2,
          3,
          4,
          5,
          6,
          7,
          8,
          9
         ],
         "y": [
          null,
          1.3333333333333333,
          1.25,
          1.1111111111111112,
          1.8333333333333333,
          2.5,
          1.6666666666666667,
          1.5,
          1,
          1.5
         ]
        },
        {
         "line": {
          "color": "red"
         },
         "mode": "lines",
         "opacity": 0.3,
         "showlegend": false,
         "type": "scatter",
         "x": [
          0,
          1,
          2,
          3,
          4,
          5,
          6,
          7,
          8,
          9
         ],
         "y": [
          1.5,
          1,
          1.6,
          2,
          1.5,
          1.1428571428571428,
          2.5,
          1.25,
          2.2,
          0.5
         ]
        },
        {
         "line": {
          "color": "red"
         },
         "mode": "lines",
         "opacity": 0.3,
         "showlegend": false,
         "type": "scatter",
         "x": [
          0,
          1,
          2,
          3,
          4,
          5,
          6,
          7,
          8,
          9
         ],
         "y": [
          0.5,
          0,
          1.4,
          0.5,
          0.6666666666666666,
          0.8333333333333334,
          0.42857142857142855,
          1,
          0.8,
          0.6
         ]
        },
        {
         "line": {
          "color": "red"
         },
         "mode": "lines",
         "opacity": 0.3,
         "showlegend": false,
         "type": "scatter",
         "x": [
          0,
          1,
          2,
          3,
          4,
          5,
          6,
          7,
          8,
          9
         ],
         "y": [
          1,
          0.5714285714285714,
          0.3333333333333333,
          1,
          1.25,
          2.25,
          1.3333333333333333,
          1.6666666666666667,
          1.6666666666666667,
          1.6666666666666667
         ]
        },
        {
         "line": {
          "color": "red"
         },
         "mode": "lines",
         "opacity": 0.3,
         "showlegend": false,
         "type": "scatter",
         "x": [
          0,
          1,
          2,
          3,
          4,
          5,
          6,
          7,
          8,
          9
         ],
         "y": [
          3,
          0.5,
          1.25,
          1,
          1.25,
          0.8888888888888888,
          1.5,
          1,
          1,
          1.6
         ]
        },
        {
         "line": {
          "color": "red"
         },
         "mode": "lines",
         "opacity": 0.3,
         "showlegend": false,
         "type": "scatter",
         "x": [
          0,
          1,
          2,
          3,
          4,
          5,
          6,
          7,
          8,
          9
         ],
         "y": [
          1.25,
          3,
          0,
          2,
          0.3333333333333333,
          1,
          0.3333333333333333,
          2,
          1.25,
          1
         ]
        },
        {
         "line": {
          "color": "red"
         },
         "mode": "lines",
         "opacity": 0.3,
         "showlegend": false,
         "type": "scatter",
         "x": [
          0,
          1,
          2,
          3,
          4,
          5,
          6,
          7,
          8,
          9
         ],
         "y": [
          1.3333333333333333,
          3,
          0.6,
          0.6666666666666666,
          0.8333333333333334,
          1.625,
          0.5,
          1.625,
          0.5,
          2
         ]
        },
        {
         "line": {
          "color": "red"
         },
         "mode": "lines",
         "opacity": 0.3,
         "showlegend": false,
         "type": "scatter",
         "x": [
          0,
          1,
          2,
          3,
          4,
          5,
          6,
          7,
          8,
          9
         ],
         "y": [
          0.5,
          1,
          1.6666666666666667,
          0.3333333333333333,
          1.75,
          1,
          1.5,
          0.6,
          0.8,
          1.5
         ]
        },
        {
         "line": {
          "color": "red"
         },
         "mode": "lines",
         "opacity": 0.3,
         "showlegend": false,
         "type": "scatter",
         "x": [
          0,
          1,
          2,
          3,
          4,
          5,
          6,
          7,
          8,
          9
         ],
         "y": [
          0.8,
          1,
          0.6666666666666666,
          0.5,
          1,
          1.6666666666666667,
          0,
          0.5,
          1,
          0.4
         ]
        },
        {
         "line": {
          "color": "red"
         },
         "mode": "lines",
         "opacity": 0.3,
         "showlegend": false,
         "type": "scatter",
         "x": [
          0,
          1,
          2,
          3,
          4,
          5,
          6,
          7,
          8,
          9
         ],
         "y": [
          0,
          0.8333333333333334,
          0,
          1,
          1.0833333333333333,
          1,
          1.1666666666666667,
          0.6666666666666666,
          1,
          0.75
         ]
        },
        {
         "line": {
          "color": "red"
         },
         "mode": "lines",
         "opacity": 0.3,
         "showlegend": false,
         "type": "scatter",
         "x": [
          0,
          1,
          2,
          3,
          4,
          5,
          6,
          7,
          8,
          9
         ],
         "y": [
          null,
          1,
          1.5,
          0.25,
          0.6666666666666666,
          0.75,
          0.75,
          0,
          1.5,
          0.5
         ]
        },
        {
         "line": {
          "color": "red"
         },
         "mode": "lines",
         "opacity": 0.3,
         "showlegend": false,
         "type": "scatter",
         "x": [
          0,
          1,
          2,
          3,
          4,
          5,
          6,
          7,
          8,
          9
         ],
         "y": [
          0.6,
          0,
          0.16666666666666666,
          1,
          1,
          1.5,
          0.8571428571428571,
          1,
          0.5,
          1.3333333333333333
         ]
        },
        {
         "line": {
          "color": "red"
         },
         "mode": "lines",
         "opacity": 0.3,
         "showlegend": false,
         "type": "scatter",
         "x": [
          0,
          1,
          2,
          3,
          4,
          5,
          6,
          7,
          8,
          9
         ],
         "y": [
          0,
          1,
          1,
          0.8,
          2,
          1.5,
          2.5,
          0.5,
          1.4,
          0.3333333333333333
         ]
        },
        {
         "line": {
          "color": "red"
         },
         "mode": "lines",
         "opacity": 0.3,
         "showlegend": false,
         "type": "scatter",
         "x": [
          0,
          1,
          2,
          3,
          4,
          5,
          6,
          7,
          8,
          9
         ],
         "y": [
          1.5,
          1.6666666666666667,
          1,
          1.6,
          0.6666666666666666,
          1.5,
          1.3333333333333333,
          0.2,
          0.75,
          0
         ]
        },
        {
         "line": {
          "color": "red"
         },
         "mode": "lines",
         "opacity": 0.3,
         "showlegend": false,
         "type": "scatter",
         "x": [
          0,
          1,
          2,
          3,
          4,
          5,
          6,
          7,
          8,
          9
         ],
         "y": [
          2.3333333333333335,
          0,
          2,
          1,
          1.5,
          0.6666666666666666,
          1.4444444444444444,
          0,
          2.3333333333333335,
          0.3333333333333333
         ]
        },
        {
         "line": {
          "color": "red"
         },
         "mode": "lines",
         "opacity": 0.3,
         "showlegend": false,
         "type": "scatter",
         "x": [
          0,
          1,
          2,
          3,
          4,
          5,
          6,
          7,
          8,
          9
         ],
         "y": [
          0.3333333333333333,
          2.25,
          1.7142857142857142,
          0.5,
          1.2,
          1.1428571428571428,
          0.5714285714285714,
          1,
          1,
          3.5
         ]
        },
        {
         "line": {
          "color": "red"
         },
         "mode": "lines",
         "opacity": 0.3,
         "showlegend": false,
         "type": "scatter",
         "x": [
          0,
          1,
          2,
          3,
          4,
          5,
          6,
          7,
          8,
          9
         ],
         "y": [
          2.5714285714285716,
          1.2,
          0.6666666666666666,
          1.2222222222222223,
          0.75,
          0.75,
          1.75,
          1.5,
          0.6666666666666666,
          0.75
         ]
        },
        {
         "line": {
          "color": "red"
         },
         "mode": "lines",
         "opacity": 0.3,
         "showlegend": false,
         "type": "scatter",
         "x": [
          0,
          1,
          2,
          3,
          4,
          5,
          6,
          7,
          8,
          9
         ],
         "y": [
          1.1666666666666667,
          1.5,
          1.8,
          0.6,
          1,
          0.8888888888888888,
          0.5,
          1.75,
          1.4444444444444444,
          0.5714285714285714
         ]
        },
        {
         "line": {
          "color": "red"
         },
         "mode": "lines",
         "opacity": 0.3,
         "showlegend": false,
         "type": "scatter",
         "x": [
          0,
          1,
          2,
          3,
          4,
          5,
          6,
          7,
          8,
          9
         ],
         "y": [
          2,
          1.6666666666666667,
          1,
          1.7142857142857142,
          0.6666666666666666,
          1.5,
          0.25,
          1.5,
          0.5,
          1
         ]
        },
        {
         "line": {
          "color": "red"
         },
         "mode": "lines",
         "opacity": 0.3,
         "showlegend": false,
         "type": "scatter",
         "x": [
          0,
          1,
          2,
          3,
          4,
          5,
          6,
          7,
          8,
          9
         ],
         "y": [
          2.5,
          0.75,
          1.1666666666666667,
          1,
          0.16666666666666666,
          1.1666666666666667,
          1.2,
          0,
          0,
          0
         ]
        },
        {
         "line": {
          "color": "red"
         },
         "mode": "lines",
         "opacity": 0.3,
         "showlegend": false,
         "type": "scatter",
         "x": [
          0,
          1,
          2,
          3,
          4,
          5,
          6,
          7,
          8,
          9
         ],
         "y": [
          2,
          2,
          1.4285714285714286,
          0.75,
          1,
          0.7142857142857143,
          1.25,
          0,
          0.6,
          3.5
         ]
        },
        {
         "line": {
          "color": "red"
         },
         "mode": "lines",
         "opacity": 0.3,
         "showlegend": false,
         "type": "scatter",
         "x": [
          0,
          1,
          2,
          3,
          4,
          5,
          6,
          7,
          8,
          9
         ],
         "y": [
          0.75,
          2,
          0.7,
          1.4,
          0.6666666666666666,
          2.25,
          0,
          0,
          0.6666666666666666,
          0.5
         ]
        },
        {
         "line": {
          "color": "red"
         },
         "mode": "lines",
         "opacity": 0.3,
         "showlegend": false,
         "type": "scatter",
         "x": [
          0,
          1,
          2,
          3,
          4,
          5,
          6,
          7,
          8,
          9
         ],
         "y": [
          1,
          0.8333333333333334,
          0.25,
          0.7142857142857143,
          1.25,
          0.75,
          2.142857142857143,
          0,
          0.6666666666666666,
          0
         ]
        },
        {
         "line": {
          "color": "red"
         },
         "mode": "lines",
         "opacity": 0.3,
         "showlegend": false,
         "type": "scatter",
         "x": [
          0,
          1,
          2,
          3,
          4,
          5,
          6,
          7,
          8,
          9
         ],
         "y": [
          0,
          1.25,
          1,
          0.6666666666666666,
          0,
          1.1428571428571428,
          1.4,
          0.75,
          1.6,
          2
         ]
        },
        {
         "line": {
          "color": "red"
         },
         "mode": "lines",
         "opacity": 0.3,
         "showlegend": false,
         "type": "scatter",
         "x": [
          0,
          1,
          2,
          3,
          4,
          5,
          6,
          7,
          8,
          9
         ],
         "y": [
          0.75,
          1,
          0.6666666666666666,
          1.1666666666666667,
          1,
          0,
          1.1111111111111112,
          1.2857142857142858,
          3.5,
          0.75
         ]
        },
        {
         "line": {
          "color": "red"
         },
         "mode": "lines",
         "opacity": 0.3,
         "showlegend": false,
         "type": "scatter",
         "x": [
          0,
          1,
          2,
          3,
          4,
          5,
          6,
          7,
          8,
          9
         ],
         "y": [
          0.3333333333333333,
          0.5,
          0.3333333333333333,
          1.2857142857142858,
          0.7142857142857143,
          0,
          1,
          null,
          0,
          1
         ]
        },
        {
         "line": {
          "color": "red"
         },
         "mode": "lines",
         "opacity": 0.3,
         "showlegend": false,
         "type": "scatter",
         "x": [
          0,
          1,
          2,
          3,
          4,
          5,
          6,
          7,
          8,
          9
         ],
         "y": [
          1.3333333333333333,
          2.5,
          2.2857142857142856,
          0.6666666666666666,
          2.25,
          1.5,
          1,
          1.3333333333333333,
          1,
          0.3333333333333333
         ]
        },
        {
         "line": {
          "color": "red"
         },
         "mode": "lines",
         "opacity": 0.3,
         "showlegend": false,
         "type": "scatter",
         "x": [
          0,
          1,
          2,
          3,
          4,
          5,
          6,
          7,
          8,
          9
         ],
         "y": [
          1.6,
          2,
          4.5,
          2,
          1,
          1,
          1.8,
          1,
          0.5,
          2
         ]
        },
        {
         "line": {
          "color": "red"
         },
         "mode": "lines",
         "opacity": 0.3,
         "showlegend": false,
         "type": "scatter",
         "x": [
          0,
          1,
          2,
          3,
          4,
          5,
          6,
          7,
          8,
          9
         ],
         "y": [
          0,
          1.75,
          1.4,
          0.2,
          0.5714285714285714,
          0.8,
          0.4,
          0.5,
          0.75,
          0
         ]
        },
        {
         "line": {
          "color": "black"
         },
         "mode": "markers+lines",
         "name": "Average",
         "opacity": 0.7,
         "type": "scatter",
         "x": [
          0,
          1,
          2,
          3,
          4,
          5,
          6,
          7,
          8,
          9
         ],
         "y": [
          1.2746478873239437,
          1.2975206611570247,
          1.3333333333333333,
          1.2454361054766734,
          1.199616122840691,
          1.2552301255230125,
          1.1600877192982457,
          1.1916010498687664,
          1.0583756345177664,
          1.0446428571428572
         ]
        }
       ],
       "layout": {
        "template": {
         "data": {
          "bar": [
           {
            "error_x": {
             "color": "#2a3f5f"
            },
            "error_y": {
             "color": "#2a3f5f"
            },
            "marker": {
             "line": {
              "color": "#E5ECF6",
              "width": 0.5
             }
            },
            "type": "bar"
           }
          ],
          "barpolar": [
           {
            "marker": {
             "line": {
              "color": "#E5ECF6",
              "width": 0.5
             }
            },
            "type": "barpolar"
           }
          ],
          "carpet": [
           {
            "aaxis": {
             "endlinecolor": "#2a3f5f",
             "gridcolor": "white",
             "linecolor": "white",
             "minorgridcolor": "white",
             "startlinecolor": "#2a3f5f"
            },
            "baxis": {
             "endlinecolor": "#2a3f5f",
             "gridcolor": "white",
             "linecolor": "white",
             "minorgridcolor": "white",
             "startlinecolor": "#2a3f5f"
            },
            "type": "carpet"
           }
          ],
          "choropleth": [
           {
            "colorbar": {
             "outlinewidth": 0,
             "ticks": ""
            },
            "type": "choropleth"
           }
          ],
          "contour": [
           {
            "colorbar": {
             "outlinewidth": 0,
             "ticks": ""
            },
            "colorscale": [
             [
              0,
              "#0d0887"
             ],
             [
              0.1111111111111111,
              "#46039f"
             ],
             [
              0.2222222222222222,
              "#7201a8"
             ],
             [
              0.3333333333333333,
              "#9c179e"
             ],
             [
              0.4444444444444444,
              "#bd3786"
             ],
             [
              0.5555555555555556,
              "#d8576b"
             ],
             [
              0.6666666666666666,
              "#ed7953"
             ],
             [
              0.7777777777777778,
              "#fb9f3a"
             ],
             [
              0.8888888888888888,
              "#fdca26"
             ],
             [
              1,
              "#f0f921"
             ]
            ],
            "type": "contour"
           }
          ],
          "contourcarpet": [
           {
            "colorbar": {
             "outlinewidth": 0,
             "ticks": ""
            },
            "type": "contourcarpet"
           }
          ],
          "heatmap": [
           {
            "colorbar": {
             "outlinewidth": 0,
             "ticks": ""
            },
            "colorscale": [
             [
              0,
              "#0d0887"
             ],
             [
              0.1111111111111111,
              "#46039f"
             ],
             [
              0.2222222222222222,
              "#7201a8"
             ],
             [
              0.3333333333333333,
              "#9c179e"
             ],
             [
              0.4444444444444444,
              "#bd3786"
             ],
             [
              0.5555555555555556,
              "#d8576b"
             ],
             [
              0.6666666666666666,
              "#ed7953"
             ],
             [
              0.7777777777777778,
              "#fb9f3a"
             ],
             [
              0.8888888888888888,
              "#fdca26"
             ],
             [
              1,
              "#f0f921"
             ]
            ],
            "type": "heatmap"
           }
          ],
          "heatmapgl": [
           {
            "colorbar": {
             "outlinewidth": 0,
             "ticks": ""
            },
            "colorscale": [
             [
              0,
              "#0d0887"
             ],
             [
              0.1111111111111111,
              "#46039f"
             ],
             [
              0.2222222222222222,
              "#7201a8"
             ],
             [
              0.3333333333333333,
              "#9c179e"
             ],
             [
              0.4444444444444444,
              "#bd3786"
             ],
             [
              0.5555555555555556,
              "#d8576b"
             ],
             [
              0.6666666666666666,
              "#ed7953"
             ],
             [
              0.7777777777777778,
              "#fb9f3a"
             ],
             [
              0.8888888888888888,
              "#fdca26"
             ],
             [
              1,
              "#f0f921"
             ]
            ],
            "type": "heatmapgl"
           }
          ],
          "histogram": [
           {
            "marker": {
             "colorbar": {
              "outlinewidth": 0,
              "ticks": ""
             }
            },
            "type": "histogram"
           }
          ],
          "histogram2d": [
           {
            "colorbar": {
             "outlinewidth": 0,
             "ticks": ""
            },
            "colorscale": [
             [
              0,
              "#0d0887"
             ],
             [
              0.1111111111111111,
              "#46039f"
             ],
             [
              0.2222222222222222,
              "#7201a8"
             ],
             [
              0.3333333333333333,
              "#9c179e"
             ],
             [
              0.4444444444444444,
              "#bd3786"
             ],
             [
              0.5555555555555556,
              "#d8576b"
             ],
             [
              0.6666666666666666,
              "#ed7953"
             ],
             [
              0.7777777777777778,
              "#fb9f3a"
             ],
             [
              0.8888888888888888,
              "#fdca26"
             ],
             [
              1,
              "#f0f921"
             ]
            ],
            "type": "histogram2d"
           }
          ],
          "histogram2dcontour": [
           {
            "colorbar": {
             "outlinewidth": 0,
             "ticks": ""
            },
            "colorscale": [
             [
              0,
              "#0d0887"
             ],
             [
              0.1111111111111111,
              "#46039f"
             ],
             [
              0.2222222222222222,
              "#7201a8"
             ],
             [
              0.3333333333333333,
              "#9c179e"
             ],
             [
              0.4444444444444444,
              "#bd3786"
             ],
             [
              0.5555555555555556,
              "#d8576b"
             ],
             [
              0.6666666666666666,
              "#ed7953"
             ],
             [
              0.7777777777777778,
              "#fb9f3a"
             ],
             [
              0.8888888888888888,
              "#fdca26"
             ],
             [
              1,
              "#f0f921"
             ]
            ],
            "type": "histogram2dcontour"
           }
          ],
          "mesh3d": [
           {
            "colorbar": {
             "outlinewidth": 0,
             "ticks": ""
            },
            "type": "mesh3d"
           }
          ],
          "parcoords": [
           {
            "line": {
             "colorbar": {
              "outlinewidth": 0,
              "ticks": ""
             }
            },
            "type": "parcoords"
           }
          ],
          "pie": [
           {
            "automargin": true,
            "type": "pie"
           }
          ],
          "scatter": [
           {
            "marker": {
             "colorbar": {
              "outlinewidth": 0,
              "ticks": ""
             }
            },
            "type": "scatter"
           }
          ],
          "scatter3d": [
           {
            "line": {
             "colorbar": {
              "outlinewidth": 0,
              "ticks": ""
             }
            },
            "marker": {
             "colorbar": {
              "outlinewidth": 0,
              "ticks": ""
             }
            },
            "type": "scatter3d"
           }
          ],
          "scattercarpet": [
           {
            "marker": {
             "colorbar": {
              "outlinewidth": 0,
              "ticks": ""
             }
            },
            "type": "scattercarpet"
           }
          ],
          "scattergeo": [
           {
            "marker": {
             "colorbar": {
              "outlinewidth": 0,
              "ticks": ""
             }
            },
            "type": "scattergeo"
           }
          ],
          "scattergl": [
           {
            "marker": {
             "colorbar": {
              "outlinewidth": 0,
              "ticks": ""
             }
            },
            "type": "scattergl"
           }
          ],
          "scattermapbox": [
           {
            "marker": {
             "colorbar": {
              "outlinewidth": 0,
              "ticks": ""
             }
            },
            "type": "scattermapbox"
           }
          ],
          "scatterpolar": [
           {
            "marker": {
             "colorbar": {
              "outlinewidth": 0,
              "ticks": ""
             }
            },
            "type": "scatterpolar"
           }
          ],
          "scatterpolargl": [
           {
            "marker": {
             "colorbar": {
              "outlinewidth": 0,
              "ticks": ""
             }
            },
            "type": "scatterpolargl"
           }
          ],
          "scatterternary": [
           {
            "marker": {
             "colorbar": {
              "outlinewidth": 0,
              "ticks": ""
             }
            },
            "type": "scatterternary"
           }
          ],
          "surface": [
           {
            "colorbar": {
             "outlinewidth": 0,
             "ticks": ""
            },
            "colorscale": [
             [
              0,
              "#0d0887"
             ],
             [
              0.1111111111111111,
              "#46039f"
             ],
             [
              0.2222222222222222,
              "#7201a8"
             ],
             [
              0.3333333333333333,
              "#9c179e"
             ],
             [
              0.4444444444444444,
              "#bd3786"
             ],
             [
              0.5555555555555556,
              "#d8576b"
             ],
             [
              0.6666666666666666,
              "#ed7953"
             ],
             [
              0.7777777777777778,
              "#fb9f3a"
             ],
             [
              0.8888888888888888,
              "#fdca26"
             ],
             [
              1,
              "#f0f921"
             ]
            ],
            "type": "surface"
           }
          ],
          "table": [
           {
            "cells": {
             "fill": {
              "color": "#EBF0F8"
             },
             "line": {
              "color": "white"
             }
            },
            "header": {
             "fill": {
              "color": "#C8D4E3"
             },
             "line": {
              "color": "white"
             }
            },
            "type": "table"
           }
          ]
         },
         "layout": {
          "annotationdefaults": {
           "arrowcolor": "#2a3f5f",
           "arrowhead": 0,
           "arrowwidth": 1
          },
          "coloraxis": {
           "colorbar": {
            "outlinewidth": 0,
            "ticks": ""
           }
          },
          "colorscale": {
           "diverging": [
            [
             0,
             "#8e0152"
            ],
            [
             0.1,
             "#c51b7d"
            ],
            [
             0.2,
             "#de77ae"
            ],
            [
             0.3,
             "#f1b6da"
            ],
            [
             0.4,
             "#fde0ef"
            ],
            [
             0.5,
             "#f7f7f7"
            ],
            [
             0.6,
             "#e6f5d0"
            ],
            [
             0.7,
             "#b8e186"
            ],
            [
             0.8,
             "#7fbc41"
            ],
            [
             0.9,
             "#4d9221"
            ],
            [
             1,
             "#276419"
            ]
           ],
           "sequential": [
            [
             0,
             "#0d0887"
            ],
            [
             0.1111111111111111,
             "#46039f"
            ],
            [
             0.2222222222222222,
             "#7201a8"
            ],
            [
             0.3333333333333333,
             "#9c179e"
            ],
            [
             0.4444444444444444,
             "#bd3786"
            ],
            [
             0.5555555555555556,
             "#d8576b"
            ],
            [
             0.6666666666666666,
             "#ed7953"
            ],
            [
             0.7777777777777778,
             "#fb9f3a"
            ],
            [
             0.8888888888888888,
             "#fdca26"
            ],
            [
             1,
             "#f0f921"
            ]
           ],
           "sequentialminus": [
            [
             0,
             "#0d0887"
            ],
            [
             0.1111111111111111,
             "#46039f"
            ],
            [
             0.2222222222222222,
             "#7201a8"
            ],
            [
             0.3333333333333333,
             "#9c179e"
            ],
            [
             0.4444444444444444,
             "#bd3786"
            ],
            [
             0.5555555555555556,
             "#d8576b"
            ],
            [
             0.6666666666666666,
             "#ed7953"
            ],
            [
             0.7777777777777778,
             "#fb9f3a"
            ],
            [
             0.8888888888888888,
             "#fdca26"
            ],
            [
             1,
             "#f0f921"
            ]
           ]
          },
          "colorway": [
           "#636efa",
           "#EF553B",
           "#00cc96",
           "#ab63fa",
           "#FFA15A",
           "#19d3f3",
           "#FF6692",
           "#B6E880",
           "#FF97FF",
           "#FECB52"
          ],
          "font": {
           "color": "#2a3f5f"
          },
          "geo": {
           "bgcolor": "white",
           "lakecolor": "white",
           "landcolor": "#E5ECF6",
           "showlakes": true,
           "showland": true,
           "subunitcolor": "white"
          },
          "hoverlabel": {
           "align": "left"
          },
          "hovermode": "closest",
          "mapbox": {
           "style": "light"
          },
          "paper_bgcolor": "white",
          "plot_bgcolor": "#E5ECF6",
          "polar": {
           "angularaxis": {
            "gridcolor": "white",
            "linecolor": "white",
            "ticks": ""
           },
           "bgcolor": "#E5ECF6",
           "radialaxis": {
            "gridcolor": "white",
            "linecolor": "white",
            "ticks": ""
           }
          },
          "scene": {
           "xaxis": {
            "backgroundcolor": "#E5ECF6",
            "gridcolor": "white",
            "gridwidth": 2,
            "linecolor": "white",
            "showbackground": true,
            "ticks": "",
            "zerolinecolor": "white"
           },
           "yaxis": {
            "backgroundcolor": "#E5ECF6",
            "gridcolor": "white",
            "gridwidth": 2,
            "linecolor": "white",
            "showbackground": true,
            "ticks": "",
            "zerolinecolor": "white"
           },
           "zaxis": {
            "backgroundcolor": "#E5ECF6",
            "gridcolor": "white",
            "gridwidth": 2,
            "linecolor": "white",
            "showbackground": true,
            "ticks": "",
            "zerolinecolor": "white"
           }
          },
          "shapedefaults": {
           "line": {
            "color": "#2a3f5f"
           }
          },
          "ternary": {
           "aaxis": {
            "gridcolor": "white",
            "linecolor": "white",
            "ticks": ""
           },
           "baxis": {
            "gridcolor": "white",
            "linecolor": "white",
            "ticks": ""
           },
           "bgcolor": "#E5ECF6",
           "caxis": {
            "gridcolor": "white",
            "linecolor": "white",
            "ticks": ""
           }
          },
          "title": {
           "x": 0.05
          },
          "xaxis": {
           "automargin": true,
           "gridcolor": "white",
           "linecolor": "white",
           "ticks": "",
           "title": {
            "standoff": 15
           },
           "zerolinecolor": "white",
           "zerolinewidth": 2
          },
          "yaxis": {
           "automargin": true,
           "gridcolor": "white",
           "linecolor": "white",
           "ticks": "",
           "title": {
            "standoff": 15
           },
           "zerolinecolor": "white",
           "zerolinewidth": 2
          }
         }
        }
       }
      },
      "text/html": [
       "<div>\n",
       "        \n",
       "        \n",
       "            <div id=\"4ac3ed77-3dc2-437b-8d15-44f42a70306f\" class=\"plotly-graph-div\" style=\"height:525px; width:100%;\"></div>\n",
       "            <script type=\"text/javascript\">\n",
       "                require([\"plotly\"], function(Plotly) {\n",
       "                    window.PLOTLYENV=window.PLOTLYENV || {};\n",
       "                    \n",
       "                if (document.getElementById(\"4ac3ed77-3dc2-437b-8d15-44f42a70306f\")) {\n",
       "                    Plotly.newPlot(\n",
       "                        '4ac3ed77-3dc2-437b-8d15-44f42a70306f',\n",
       "                        [{\"line\": {\"color\": \"red\"}, \"mode\": \"lines\", \"opacity\": 0.3, \"showlegend\": false, \"type\": \"scatter\", \"x\": [0, 1, 2, 3, 4, 5, 6, 7, 8, 9], \"y\": [1.0, 0.8333333333333334, 1.4285714285714286, 1.8, 1.0, 0.75, 1.5, 1.5, 0.875, 0.0]}, {\"line\": {\"color\": \"red\"}, \"mode\": \"lines\", \"opacity\": 0.3, \"showlegend\": false, \"type\": \"scatter\", \"x\": [0, 1, 2, 3, 4, 5, 6, 7, 8, 9], \"y\": [0.5, 0.3333333333333333, 2.0, 0.5, 0.5714285714285714, 1.5, 0.7, 2.0, 1.0, 1.0]}, {\"line\": {\"color\": \"red\"}, \"mode\": \"lines\", \"opacity\": 0.3, \"showlegend\": false, \"type\": \"scatter\", \"x\": [0, 1, 2, 3, 4, 5, 6, 7, 8, 9], \"y\": [1.0, 1.3333333333333333, 0.25, 1.6, 1.7142857142857142, 1.0, 1.5, 1.0, 0.6666666666666666, 2.0]}, {\"line\": {\"color\": \"red\"}, \"mode\": \"lines\", \"opacity\": 0.3, \"showlegend\": false, \"type\": \"scatter\", \"x\": [0, 1, 2, 3, 4, 5, 6, 7, 8, 9], \"y\": [2.5, 1.0, 1.0, 0.5, 0.75, 0.25, 0.75, 1.0, 0.75, 1.8571428571428572]}, {\"line\": {\"color\": \"red\"}, \"mode\": \"lines\", \"opacity\": 0.3, \"showlegend\": false, \"type\": \"scatter\", \"x\": [0, 1, 2, 3, 4, 5, 6, 7, 8, 9], \"y\": [2.4, 0.8333333333333334, 1.6, 2.0, 2.25, 2.2222222222222223, 1.8, 0.7142857142857143, 1.4, 0.6666666666666666]}, {\"line\": {\"color\": \"red\"}, \"mode\": \"lines\", \"opacity\": 0.3, \"showlegend\": false, \"type\": \"scatter\", \"x\": [0, 1, 2, 3, 4, 5, 6, 7, 8, 9], \"y\": [0.5, 0.5, 2.0, 1.0, 1.25, 0.6666666666666666, 1.6666666666666667, 1.0, 4.0, 1.0]}, {\"line\": {\"color\": \"red\"}, \"mode\": \"lines\", \"opacity\": 0.3, \"showlegend\": false, \"type\": \"scatter\", \"x\": [0, 1, 2, 3, 4, 5, 6, 7, 8, 9], \"y\": [1.0, 1.0, 1.6666666666666667, 1.0, 1.2222222222222223, 2.5, 1.5, 1.0, 0.0, 1.0]}, {\"line\": {\"color\": \"red\"}, \"mode\": \"lines\", \"opacity\": 0.3, \"showlegend\": false, \"type\": \"scatter\", \"x\": [0, 1, 2, 3, 4, 5, 6, 7, 8, 9], \"y\": [0.6666666666666666, 0.5, 1.6666666666666667, 1.0, 1.5555555555555556, 1.75, 1.7142857142857142, 0.5, 1.0, 0.0]}, {\"line\": {\"color\": \"red\"}, \"mode\": \"lines\", \"opacity\": 0.3, \"showlegend\": false, \"type\": \"scatter\", \"x\": [0, 1, 2, 3, 4, 5, 6, 7, 8, 9], \"y\": [2.3333333333333335, 0.6666666666666666, 1.0, 4.0, 2.0, 1.0, 1.6, 1.0, 1.3333333333333333, 1.0]}, {\"line\": {\"color\": \"red\"}, \"mode\": \"lines\", \"opacity\": 0.3, \"showlegend\": false, \"type\": \"scatter\", \"x\": [0, 1, 2, 3, 4, 5, 6, 7, 8, 9], \"y\": [1.5, 1.2857142857142858, 0.8, 2.2222222222222223, 1.25, 0.6666666666666666, 0.3333333333333333, 0.4, 0.6, 0.0]}, {\"line\": {\"color\": \"red\"}, \"mode\": \"lines\", \"opacity\": 0.3, \"showlegend\": false, \"type\": \"scatter\", \"x\": [0, 1, 2, 3, 4, 5, 6, 7, 8, 9], \"y\": [1.0, 1.5, 1.6, 0.6666666666666666, 2.7142857142857144, 1.5, 2.3333333333333335, 1.6, 1.0, 0.0]}, {\"line\": {\"color\": \"red\"}, \"mode\": \"lines\", \"opacity\": 0.3, \"showlegend\": false, \"type\": \"scatter\", \"x\": [0, 1, 2, 3, 4, 5, 6, 7, 8, 9], \"y\": [3.0, 1.1111111111111112, 0.8, 1.1666666666666667, 1.1818181818181819, 2.6, 1.0, 1.8, 0.6666666666666666, 1.5]}, {\"line\": {\"color\": \"red\"}, \"mode\": \"lines\", \"opacity\": 0.3, \"showlegend\": false, \"type\": \"scatter\", \"x\": [0, 1, 2, 3, 4, 5, 6, 7, 8, 9], \"y\": [1.0, 1.5, 3.0, 0.5, 0.8571428571428571, 1.5, 0.8, 1.25, 1.25, 1.8]}, {\"line\": {\"color\": \"red\"}, \"mode\": \"lines\", \"opacity\": 0.3, \"showlegend\": false, \"type\": \"scatter\", \"x\": [0, 1, 2, 3, 4, 5, 6, 7, 8, 9], \"y\": [1.0, 1.0, null, 1.4, 1.0, 0.8333333333333334, 1.0, 2.5, 1.0, 2.0]}, {\"line\": {\"color\": \"red\"}, \"mode\": \"lines\", \"opacity\": 0.3, \"showlegend\": false, \"type\": \"scatter\", \"x\": [0, 1, 2, 3, 4, 5, 6, 7, 8, 9], \"y\": [0.0, 1.5, 0.2, 1.375, 0.6, 0.0, 0.8, 0.0, 0.0, 0.0]}, {\"line\": {\"color\": \"red\"}, \"mode\": \"lines\", \"opacity\": 0.3, \"showlegend\": false, \"type\": \"scatter\", \"x\": [0, 1, 2, 3, 4, 5, 6, 7, 8, 9], \"y\": [null, 0.5, 2.25, 0.6666666666666666, 0.8571428571428571, 0.5, 0.25, 0.6, 1.0, 0.5]}, {\"line\": {\"color\": \"red\"}, \"mode\": \"lines\", \"opacity\": 0.3, \"showlegend\": false, \"type\": \"scatter\", \"x\": [0, 1, 2, 3, 4, 5, 6, 7, 8, 9], \"y\": [1.6, 1.0, 1.5, 2.5, 2.3333333333333335, 1.7142857142857142, 0.16666666666666666, 2.6, 2.0, 0.6666666666666666]}, {\"line\": {\"color\": \"red\"}, \"mode\": \"lines\", \"opacity\": 0.3, \"showlegend\": false, \"type\": \"scatter\", \"x\": [0, 1, 2, 3, 4, 5, 6, 7, 8, 9], \"y\": [2.0, 1.875, 1.0, 2.2, 1.1428571428571428, 0.3333333333333333, 2.1666666666666665, 0.8, 0.3333333333333333, 1.0]}, {\"line\": {\"color\": \"red\"}, \"mode\": \"lines\", \"opacity\": 0.3, \"showlegend\": false, \"type\": \"scatter\", \"x\": [0, 1, 2, 3, 4, 5, 6, 7, 8, 9], \"y\": [0.5, null, 0.42857142857142855, 2.0, 0.3333333333333333, 0.9, 0.0, 1.2857142857142858, 2.25, 1.0]}, {\"line\": {\"color\": \"red\"}, \"mode\": \"lines\", \"opacity\": 0.3, \"showlegend\": false, \"type\": \"scatter\", \"x\": [0, 1, 2, 3, 4, 5, 6, 7, 8, 9], \"y\": [0.6666666666666666, 0.0, 1.6666666666666667, 1.4444444444444444, 2.0, 1.4, 0.5, 1.0, 0.6666666666666666, 1.5]}, {\"line\": {\"color\": \"red\"}, \"mode\": \"lines\", \"opacity\": 0.3, \"showlegend\": false, \"type\": \"scatter\", \"x\": [0, 1, 2, 3, 4, 5, 6, 7, 8, 9], \"y\": [0.5, 1.2857142857142858, 1.5, 1.6666666666666667, 2.5, 1.2, 0.0, 0.42857142857142855, 0.6, 0.2857142857142857]}, {\"line\": {\"color\": \"red\"}, \"mode\": \"lines\", \"opacity\": 0.3, \"showlegend\": false, \"type\": \"scatter\", \"x\": [0, 1, 2, 3, 4, 5, 6, 7, 8, 9], \"y\": [2.0, 5.0, 1.875, 2.5, 1.6666666666666667, 0.75, 0.6, 0.75, 1.0, 0.8333333333333334]}, {\"line\": {\"color\": \"red\"}, \"mode\": \"lines\", \"opacity\": 0.3, \"showlegend\": false, \"type\": \"scatter\", \"x\": [0, 1, 2, 3, 4, 5, 6, 7, 8, 9], \"y\": [1.5, 1.4, 1.5, 0.5, 0.8333333333333334, 1.2857142857142858, 1.0, 1.0, 1.3333333333333333, 1.25]}, {\"line\": {\"color\": \"red\"}, \"mode\": \"lines\", \"opacity\": 0.3, \"showlegend\": false, \"type\": \"scatter\", \"x\": [0, 1, 2, 3, 4, 5, 6, 7, 8, 9], \"y\": [1.0, 1.0, 2.0, 1.25, 2.0, 0.25, 1.5, 1.3333333333333333, 0.5, 1.3333333333333333]}, {\"line\": {\"color\": \"red\"}, \"mode\": \"lines\", \"opacity\": 0.3, \"showlegend\": false, \"type\": \"scatter\", \"x\": [0, 1, 2, 3, 4, 5, 6, 7, 8, 9], \"y\": [0.5, 2.0, 1.5, 1.4285714285714286, 2.0, 0.3333333333333333, 3.0, 1.0, 1.4, 0.6666666666666666]}, {\"line\": {\"color\": \"red\"}, \"mode\": \"lines\", \"opacity\": 0.3, \"showlegend\": false, \"type\": \"scatter\", \"x\": [0, 1, 2, 3, 4, 5, 6, 7, 8, 9], \"y\": [2.2857142857142856, 1.0, 2.5, 1.0, 1.3333333333333333, 3.8, 1.25, 1.75, 1.0, 1.8333333333333333]}, {\"line\": {\"color\": \"red\"}, \"mode\": \"lines\", \"opacity\": 0.3, \"showlegend\": false, \"type\": \"scatter\", \"x\": [0, 1, 2, 3, 4, 5, 6, 7, 8, 9], \"y\": [1.5, 0.8571428571428571, 1.4, 1.0, 1.0, 6.0, 1.8, 0.75, 0.5, 1.5]}, {\"line\": {\"color\": \"red\"}, \"mode\": \"lines\", \"opacity\": 0.3, \"showlegend\": false, \"type\": \"scatter\", \"x\": [0, 1, 2, 3, 4, 5, 6, 7, 8, 9], \"y\": [2.5, 2.5, 1.0, 0.8571428571428571, 1.375, 2.0, 0.0, 1.0, 0.3333333333333333, 0.8333333333333334]}, {\"line\": {\"color\": \"red\"}, \"mode\": \"lines\", \"opacity\": 0.3, \"showlegend\": false, \"type\": \"scatter\", \"x\": [0, 1, 2, 3, 4, 5, 6, 7, 8, 9], \"y\": [0.5, 0.5, 2.0, 0.6666666666666666, 2.4285714285714284, 1.0, 1.75, 1.4, 0.5, 0.3333333333333333]}, {\"line\": {\"color\": \"red\"}, \"mode\": \"lines\", \"opacity\": 0.3, \"showlegend\": false, \"type\": \"scatter\", \"x\": [0, 1, 2, 3, 4, 5, 6, 7, 8, 9], \"y\": [1.3333333333333333, 3.0, 0.5, 1.5, null, 4.0, 1.2857142857142858, 0.6666666666666666, 0.0, 0.6]}, {\"line\": {\"color\": \"red\"}, \"mode\": \"lines\", \"opacity\": 0.3, \"showlegend\": false, \"type\": \"scatter\", \"x\": [0, 1, 2, 3, 4, 5, 6, 7, 8, 9], \"y\": [0.8, 1.1666666666666667, 1.5, 1.3333333333333333, 1.2857142857142858, 1.125, 0.7142857142857143, 1.5, 1.1666666666666667, 0.5]}, {\"line\": {\"color\": \"red\"}, \"mode\": \"lines\", \"opacity\": 0.3, \"showlegend\": false, \"type\": \"scatter\", \"x\": [0, 1, 2, 3, 4, 5, 6, 7, 8, 9], \"y\": [3.0, 2.0, 0.875, 1.6153846153846154, 0.7142857142857143, 1.0, 0.6666666666666666, 1.6, 2.0, 0.6666666666666666]}, {\"line\": {\"color\": \"red\"}, \"mode\": \"lines\", \"opacity\": 0.3, \"showlegend\": false, \"type\": \"scatter\", \"x\": [0, 1, 2, 3, 4, 5, 6, 7, 8, 9], \"y\": [1.5, 2.857142857142857, 0.75, 1.9, 0.8, 2.3333333333333335, 2.0, 0.0, 1.4285714285714286, 1.0]}, {\"line\": {\"color\": \"red\"}, \"mode\": \"lines\", \"opacity\": 0.3, \"showlegend\": false, \"type\": \"scatter\", \"x\": [0, 1, 2, 3, 4, 5, 6, 7, 8, 9], \"y\": [3.0, 0.0, 2.5, 0.0, 0.8, 0.5, 1.3333333333333333, 2.3333333333333335, 1.0, 0.5714285714285714]}, {\"line\": {\"color\": \"red\"}, \"mode\": \"lines\", \"opacity\": 0.3, \"showlegend\": false, \"type\": \"scatter\", \"x\": [0, 1, 2, 3, 4, 5, 6, 7, 8, 9], \"y\": [null, 2.6666666666666665, 1.0, 1.4, 1.25, 1.0, 0.75, 0.3333333333333333, 0.7142857142857143, 1.75]}, {\"line\": {\"color\": \"red\"}, \"mode\": \"lines\", \"opacity\": 0.3, \"showlegend\": false, \"type\": \"scatter\", \"x\": [0, 1, 2, 3, 4, 5, 6, 7, 8, 9], \"y\": [2.3333333333333335, 1.6666666666666667, 2.5, 1.4, 0.75, 0.3333333333333333, 2.6666666666666665, 1.2, 1.2857142857142858, 0.6]}, {\"line\": {\"color\": \"red\"}, \"mode\": \"lines\", \"opacity\": 0.3, \"showlegend\": false, \"type\": \"scatter\", \"x\": [0, 1, 2, 3, 4, 5, 6, 7, 8, 9], \"y\": [1.0, 1.4, 1.4, 0.8, 1.0, 0.0, 1.1666666666666667, 1.3333333333333333, 0.3333333333333333, 1.25]}, {\"line\": {\"color\": \"red\"}, \"mode\": \"lines\", \"opacity\": 0.3, \"showlegend\": false, \"type\": \"scatter\", \"x\": [0, 1, 2, 3, 4, 5, 6, 7, 8, 9], \"y\": [1.0, 1.0, 1.8, 1.2, 0.5, 1.0, 1.5, 2.0, 1.0, 1.0]}, {\"line\": {\"color\": \"red\"}, \"mode\": \"lines\", \"opacity\": 0.3, \"showlegend\": false, \"type\": \"scatter\", \"x\": [0, 1, 2, 3, 4, 5, 6, 7, 8, 9], \"y\": [0.0, 0.5, 1.0, 2.0, 0.3333333333333333, 1.0, 0.0, 2.25, 2.0, 0.6666666666666666]}, {\"line\": {\"color\": \"red\"}, \"mode\": \"lines\", \"opacity\": 0.3, \"showlegend\": false, \"type\": \"scatter\", \"x\": [0, 1, 2, 3, 4, 5, 6, 7, 8, 9], \"y\": [1.0, null, 1.75, 1.0, 1.8, 0.5, 0.25, 1.0, 0.0, 1.0]}, {\"line\": {\"color\": \"red\"}, \"mode\": \"lines\", \"opacity\": 0.3, \"showlegend\": false, \"type\": \"scatter\", \"x\": [0, 1, 2, 3, 4, 5, 6, 7, 8, 9], \"y\": [1.75, 0.5, 2.2, 1.1666666666666667, 1.2857142857142858, 2.25, 2.0, 2.0, 3.0, 4.0]}, {\"line\": {\"color\": \"red\"}, \"mode\": \"lines\", \"opacity\": 0.3, \"showlegend\": false, \"type\": \"scatter\", \"x\": [0, 1, 2, 3, 4, 5, 6, 7, 8, 9], \"y\": [0.75, 0.5, 0.8, 0.4, 1.0, 2.7142857142857144, 1.2, 2.375, 1.8, 1.0]}, {\"line\": {\"color\": \"red\"}, \"mode\": \"lines\", \"opacity\": 0.3, \"showlegend\": false, \"type\": \"scatter\", \"x\": [0, 1, 2, 3, 4, 5, 6, 7, 8, 9], \"y\": [1.5, 0.8333333333333334, 1.6666666666666667, 1.2, 1.2, 1.0, 1.125, 1.8333333333333333, 2.8333333333333335, 2.5]}, {\"line\": {\"color\": \"red\"}, \"mode\": \"lines\", \"opacity\": 0.3, \"showlegend\": false, \"type\": \"scatter\", \"x\": [0, 1, 2, 3, 4, 5, 6, 7, 8, 9], \"y\": [0.0, 0.0, 0.6666666666666666, 1.0, 1.0, 2.125, 1.0, 0.0, null, 1.0]}, {\"line\": {\"color\": \"red\"}, \"mode\": \"lines\", \"opacity\": 0.3, \"showlegend\": false, \"type\": \"scatter\", \"x\": [0, 1, 2, 3, 4, 5, 6, 7, 8, 9], \"y\": [0.8333333333333334, 0.6666666666666666, 1.0, 1.75, 1.0, 1.25, 1.3333333333333333, 1.0, 0.0, 0.0]}, {\"line\": {\"color\": \"red\"}, \"mode\": \"lines\", \"opacity\": 0.3, \"showlegend\": false, \"type\": \"scatter\", \"x\": [0, 1, 2, 3, 4, 5, 6, 7, 8, 9], \"y\": [1.5, 3.0, 1.4, 1.6666666666666667, 0.5, 1.0, 0.2857142857142857, 0.0, 1.4285714285714286, 0.6]}, {\"line\": {\"color\": \"red\"}, \"mode\": \"lines\", \"opacity\": 0.3, \"showlegend\": false, \"type\": \"scatter\", \"x\": [0, 1, 2, 3, 4, 5, 6, 7, 8, 9], \"y\": [3.0, 1.0, 2.5, 1.9166666666666667, 2.2, 0.75, 0.0, 2.0, 1.0, 2.6666666666666665]}, {\"line\": {\"color\": \"red\"}, \"mode\": \"lines\", \"opacity\": 0.3, \"showlegend\": false, \"type\": \"scatter\", \"x\": [0, 1, 2, 3, 4, 5, 6, 7, 8, 9], \"y\": [4.0, 2.25, 1.0, 0.5, 0.8333333333333334, 0.8333333333333334, 0.8, 2.3333333333333335, 2.857142857142857, 0.0]}, {\"line\": {\"color\": \"red\"}, \"mode\": \"lines\", \"opacity\": 0.3, \"showlegend\": false, \"type\": \"scatter\", \"x\": [0, 1, 2, 3, 4, 5, 6, 7, 8, 9], \"y\": [0.0, 1.0, null, 1.3333333333333333, 1.2, 0.5, 1.0, 0.4, 1.0, 0.0]}, {\"line\": {\"color\": \"red\"}, \"mode\": \"lines\", \"opacity\": 0.3, \"showlegend\": false, \"type\": \"scatter\", \"x\": [0, 1, 2, 3, 4, 5, 6, 7, 8, 9], \"y\": [0.25, 1.5, 1.25, 0.0, 2.25, 0.3333333333333333, 0.8, 1.5, 0.5, 1.0]}, {\"line\": {\"color\": \"red\"}, \"mode\": \"lines\", \"opacity\": 0.3, \"showlegend\": false, \"type\": \"scatter\", \"x\": [0, 1, 2, 3, 4, 5, 6, 7, 8, 9], \"y\": [2.0, 1.0, 1.2, 1.0, 0.0, 3.0, 0.8333333333333334, 1.5, 0.3333333333333333, 2.0]}, {\"line\": {\"color\": \"red\"}, \"mode\": \"lines\", \"opacity\": 0.3, \"showlegend\": false, \"type\": \"scatter\", \"x\": [0, 1, 2, 3, 4, 5, 6, 7, 8, 9], \"y\": [0.0, 1.0, 1.0, 1.3333333333333333, 1.25, 1.1666666666666667, 0.5, 0.5, 1.5, 0.25]}, {\"line\": {\"color\": \"red\"}, \"mode\": \"lines\", \"opacity\": 0.3, \"showlegend\": false, \"type\": \"scatter\", \"x\": [0, 1, 2, 3, 4, 5, 6, 7, 8, 9], \"y\": [0.5, 1.6666666666666667, 0.75, 0.0, 1.25, 0.5, 0.5, 3.0, 0.6666666666666666, 0.5]}, {\"line\": {\"color\": \"red\"}, \"mode\": \"lines\", \"opacity\": 0.3, \"showlegend\": false, \"type\": \"scatter\", \"x\": [0, 1, 2, 3, 4, 5, 6, 7, 8, 9], \"y\": [0.0, 0.8333333333333334, 1.1428571428571428, 1.5, 1.0, 1.3333333333333333, 2.0, 1.75, 0.5, 1.4]}, {\"line\": {\"color\": \"red\"}, \"mode\": \"lines\", \"opacity\": 0.3, \"showlegend\": false, \"type\": \"scatter\", \"x\": [0, 1, 2, 3, 4, 5, 6, 7, 8, 9], \"y\": [0.6, 1.3333333333333333, 2.6666666666666665, 1.0, 1.0, 1.0, 0.0, 0.5, 0.5, 1.0]}, {\"line\": {\"color\": \"red\"}, \"mode\": \"lines\", \"opacity\": 0.3, \"showlegend\": false, \"type\": \"scatter\", \"x\": [0, 1, 2, 3, 4, 5, 6, 7, 8, 9], \"y\": [1.0, 2.25, 1.0, 1.5, 1.4285714285714286, 2.125, 1.0, 1.0, 1.0, 0.4]}, {\"line\": {\"color\": \"red\"}, \"mode\": \"lines\", \"opacity\": 0.3, \"showlegend\": false, \"type\": \"scatter\", \"x\": [0, 1, 2, 3, 4, 5, 6, 7, 8, 9], \"y\": [0.0, 0.8333333333333334, 1.3333333333333333, 0.75, 1.2, 5.0, 1.0, 0.5, 0.0, 0.3333333333333333]}, {\"line\": {\"color\": \"red\"}, \"mode\": \"lines\", \"opacity\": 0.3, \"showlegend\": false, \"type\": \"scatter\", \"x\": [0, 1, 2, 3, 4, 5, 6, 7, 8, 9], \"y\": [2.5, 0.5, 2.1666666666666665, 1.5, 1.2, 0.8, 1.0, 0.5714285714285714, 1.0, 0.0]}, {\"line\": {\"color\": \"red\"}, \"mode\": \"lines\", \"opacity\": 0.3, \"showlegend\": false, \"type\": \"scatter\", \"x\": [0, 1, 2, 3, 4, 5, 6, 7, 8, 9], \"y\": [0.5, 0.75, 0.0, 2.2857142857142856, 2.0, 0.5, 1.25, 1.0, 0.0, 1.3333333333333333]}, {\"line\": {\"color\": \"red\"}, \"mode\": \"lines\", \"opacity\": 0.3, \"showlegend\": false, \"type\": \"scatter\", \"x\": [0, 1, 2, 3, 4, 5, 6, 7, 8, 9], \"y\": [2.0, 0.0, 1.5, 0.6666666666666666, 0.3333333333333333, 1.1666666666666667, 1.0, 0.6666666666666666, 1.25, 2.5]}, {\"line\": {\"color\": \"red\"}, \"mode\": \"lines\", \"opacity\": 0.3, \"showlegend\": false, \"type\": \"scatter\", \"x\": [0, 1, 2, 3, 4, 5, 6, 7, 8, 9], \"y\": [1.3333333333333333, 1.3333333333333333, 1.0, 0.8333333333333334, 2.5, 0.3333333333333333, 1.6666666666666667, 1.2857142857142858, 0.5, 0.75]}, {\"line\": {\"color\": \"red\"}, \"mode\": \"lines\", \"opacity\": 0.3, \"showlegend\": false, \"type\": \"scatter\", \"x\": [0, 1, 2, 3, 4, 5, 6, 7, 8, 9], \"y\": [0.6, 2.2, 1.5, 0.8, 0.0, 1.5, 1.3333333333333333, 1.75, 0.5, 0.5]}, {\"line\": {\"color\": \"red\"}, \"mode\": \"lines\", \"opacity\": 0.3, \"showlegend\": false, \"type\": \"scatter\", \"x\": [0, 1, 2, 3, 4, 5, 6, 7, 8, 9], \"y\": [0.3333333333333333, 0.0, 0.6666666666666666, 0.75, 1.5, 0.3333333333333333, 0.3333333333333333, 2.0, 0.6666666666666666, 0.0]}, {\"line\": {\"color\": \"red\"}, \"mode\": \"lines\", \"opacity\": 0.3, \"showlegend\": false, \"type\": \"scatter\", \"x\": [0, 1, 2, 3, 4, 5, 6, 7, 8, 9], \"y\": [1.3333333333333333, 1.875, 0.8, 1.8, 0.8888888888888888, 1.5, 2.3333333333333335, 1.0, null, 1.3333333333333333]}, {\"line\": {\"color\": \"red\"}, \"mode\": \"lines\", \"opacity\": 0.3, \"showlegend\": false, \"type\": \"scatter\", \"x\": [0, 1, 2, 3, 4, 5, 6, 7, 8, 9], \"y\": [0.0, 1.4, 1.3333333333333333, 1.5, 1.0, 1.0, 0.5, 1.0, 0.5, null]}, {\"line\": {\"color\": \"red\"}, \"mode\": \"lines\", \"opacity\": 0.3, \"showlegend\": false, \"type\": \"scatter\", \"x\": [0, 1, 2, 3, 4, 5, 6, 7, 8, 9], \"y\": [3.0, 2.0, 1.6666666666666667, 2.5, 1.8181818181818181, 2.3333333333333335, 1.6666666666666667, 1.6666666666666667, 2.0, 2.25]}, {\"line\": {\"color\": \"red\"}, \"mode\": \"lines\", \"opacity\": 0.3, \"showlegend\": false, \"type\": \"scatter\", \"x\": [0, 1, 2, 3, 4, 5, 6, 7, 8, 9], \"y\": [2.0, 2.3333333333333335, 2.0, 0.5, 1.5, 0.5, 1.3333333333333333, 1.0, 0.6, null]}, {\"line\": {\"color\": \"red\"}, \"mode\": \"lines\", \"opacity\": 0.3, \"showlegend\": false, \"type\": \"scatter\", \"x\": [0, 1, 2, 3, 4, 5, 6, 7, 8, 9], \"y\": [1.0, 1.5, 1.6666666666666667, 0.6, 0.0, 1.0, 1.5, 0.5, 1.3333333333333333, 0.4]}, {\"line\": {\"color\": \"red\"}, \"mode\": \"lines\", \"opacity\": 0.3, \"showlegend\": false, \"type\": \"scatter\", \"x\": [0, 1, 2, 3, 4, 5, 6, 7, 8, 9], \"y\": [0.6666666666666666, 1.0, 1.3333333333333333, 1.2, 1.2, 0.25, 3.3333333333333335, 1.0, 1.0, 3.5]}, {\"line\": {\"color\": \"red\"}, \"mode\": \"lines\", \"opacity\": 0.3, \"showlegend\": false, \"type\": \"scatter\", \"x\": [0, 1, 2, 3, 4, 5, 6, 7, 8, 9], \"y\": [1.0, 1.0, 1.5714285714285714, 3.0, 1.2, 2.0, 2.6, 2.3333333333333335, 0.8, 1.3333333333333333]}, {\"line\": {\"color\": \"red\"}, \"mode\": \"lines\", \"opacity\": 0.3, \"showlegend\": false, \"type\": \"scatter\", \"x\": [0, 1, 2, 3, 4, 5, 6, 7, 8, 9], \"y\": [1.6666666666666667, 2.3333333333333335, 1.3333333333333333, 1.8333333333333333, 1.125, 1.6, 1.4285714285714286, 2.5, 0.5, 1.5]}, {\"line\": {\"color\": \"red\"}, \"mode\": \"lines\", \"opacity\": 0.3, \"showlegend\": false, \"type\": \"scatter\", \"x\": [0, 1, 2, 3, 4, 5, 6, 7, 8, 9], \"y\": [null, 1.3333333333333333, 1.25, 1.1111111111111112, 1.8333333333333333, 2.5, 1.6666666666666667, 1.5, 1.0, 1.5]}, {\"line\": {\"color\": \"red\"}, \"mode\": \"lines\", \"opacity\": 0.3, \"showlegend\": false, \"type\": \"scatter\", \"x\": [0, 1, 2, 3, 4, 5, 6, 7, 8, 9], \"y\": [1.5, 1.0, 1.6, 2.0, 1.5, 1.1428571428571428, 2.5, 1.25, 2.2, 0.5]}, {\"line\": {\"color\": \"red\"}, \"mode\": \"lines\", \"opacity\": 0.3, \"showlegend\": false, \"type\": \"scatter\", \"x\": [0, 1, 2, 3, 4, 5, 6, 7, 8, 9], \"y\": [0.5, 0.0, 1.4, 0.5, 0.6666666666666666, 0.8333333333333334, 0.42857142857142855, 1.0, 0.8, 0.6]}, {\"line\": {\"color\": \"red\"}, \"mode\": \"lines\", \"opacity\": 0.3, \"showlegend\": false, \"type\": \"scatter\", \"x\": [0, 1, 2, 3, 4, 5, 6, 7, 8, 9], \"y\": [1.0, 0.5714285714285714, 0.3333333333333333, 1.0, 1.25, 2.25, 1.3333333333333333, 1.6666666666666667, 1.6666666666666667, 1.6666666666666667]}, {\"line\": {\"color\": \"red\"}, \"mode\": \"lines\", \"opacity\": 0.3, \"showlegend\": false, \"type\": \"scatter\", \"x\": [0, 1, 2, 3, 4, 5, 6, 7, 8, 9], \"y\": [3.0, 0.5, 1.25, 1.0, 1.25, 0.8888888888888888, 1.5, 1.0, 1.0, 1.6]}, {\"line\": {\"color\": \"red\"}, \"mode\": \"lines\", \"opacity\": 0.3, \"showlegend\": false, \"type\": \"scatter\", \"x\": [0, 1, 2, 3, 4, 5, 6, 7, 8, 9], \"y\": [1.25, 3.0, 0.0, 2.0, 0.3333333333333333, 1.0, 0.3333333333333333, 2.0, 1.25, 1.0]}, {\"line\": {\"color\": \"red\"}, \"mode\": \"lines\", \"opacity\": 0.3, \"showlegend\": false, \"type\": \"scatter\", \"x\": [0, 1, 2, 3, 4, 5, 6, 7, 8, 9], \"y\": [1.3333333333333333, 3.0, 0.6, 0.6666666666666666, 0.8333333333333334, 1.625, 0.5, 1.625, 0.5, 2.0]}, {\"line\": {\"color\": \"red\"}, \"mode\": \"lines\", \"opacity\": 0.3, \"showlegend\": false, \"type\": \"scatter\", \"x\": [0, 1, 2, 3, 4, 5, 6, 7, 8, 9], \"y\": [0.5, 1.0, 1.6666666666666667, 0.3333333333333333, 1.75, 1.0, 1.5, 0.6, 0.8, 1.5]}, {\"line\": {\"color\": \"red\"}, \"mode\": \"lines\", \"opacity\": 0.3, \"showlegend\": false, \"type\": \"scatter\", \"x\": [0, 1, 2, 3, 4, 5, 6, 7, 8, 9], \"y\": [0.8, 1.0, 0.6666666666666666, 0.5, 1.0, 1.6666666666666667, 0.0, 0.5, 1.0, 0.4]}, {\"line\": {\"color\": \"red\"}, \"mode\": \"lines\", \"opacity\": 0.3, \"showlegend\": false, \"type\": \"scatter\", \"x\": [0, 1, 2, 3, 4, 5, 6, 7, 8, 9], \"y\": [0.0, 0.8333333333333334, 0.0, 1.0, 1.0833333333333333, 1.0, 1.1666666666666667, 0.6666666666666666, 1.0, 0.75]}, {\"line\": {\"color\": \"red\"}, \"mode\": \"lines\", \"opacity\": 0.3, \"showlegend\": false, \"type\": \"scatter\", \"x\": [0, 1, 2, 3, 4, 5, 6, 7, 8, 9], \"y\": [null, 1.0, 1.5, 0.25, 0.6666666666666666, 0.75, 0.75, 0.0, 1.5, 0.5]}, {\"line\": {\"color\": \"red\"}, \"mode\": \"lines\", \"opacity\": 0.3, \"showlegend\": false, \"type\": \"scatter\", \"x\": [0, 1, 2, 3, 4, 5, 6, 7, 8, 9], \"y\": [0.6, 0.0, 0.16666666666666666, 1.0, 1.0, 1.5, 0.8571428571428571, 1.0, 0.5, 1.3333333333333333]}, {\"line\": {\"color\": \"red\"}, \"mode\": \"lines\", \"opacity\": 0.3, \"showlegend\": false, \"type\": \"scatter\", \"x\": [0, 1, 2, 3, 4, 5, 6, 7, 8, 9], \"y\": [0.0, 1.0, 1.0, 0.8, 2.0, 1.5, 2.5, 0.5, 1.4, 0.3333333333333333]}, {\"line\": {\"color\": \"red\"}, \"mode\": \"lines\", \"opacity\": 0.3, \"showlegend\": false, \"type\": \"scatter\", \"x\": [0, 1, 2, 3, 4, 5, 6, 7, 8, 9], \"y\": [1.5, 1.6666666666666667, 1.0, 1.6, 0.6666666666666666, 1.5, 1.3333333333333333, 0.2, 0.75, 0.0]}, {\"line\": {\"color\": \"red\"}, \"mode\": \"lines\", \"opacity\": 0.3, \"showlegend\": false, \"type\": \"scatter\", \"x\": [0, 1, 2, 3, 4, 5, 6, 7, 8, 9], \"y\": [2.3333333333333335, 0.0, 2.0, 1.0, 1.5, 0.6666666666666666, 1.4444444444444444, 0.0, 2.3333333333333335, 0.3333333333333333]}, {\"line\": {\"color\": \"red\"}, \"mode\": \"lines\", \"opacity\": 0.3, \"showlegend\": false, \"type\": \"scatter\", \"x\": [0, 1, 2, 3, 4, 5, 6, 7, 8, 9], \"y\": [0.3333333333333333, 2.25, 1.7142857142857142, 0.5, 1.2, 1.1428571428571428, 0.5714285714285714, 1.0, 1.0, 3.5]}, {\"line\": {\"color\": \"red\"}, \"mode\": \"lines\", \"opacity\": 0.3, \"showlegend\": false, \"type\": \"scatter\", \"x\": [0, 1, 2, 3, 4, 5, 6, 7, 8, 9], \"y\": [2.5714285714285716, 1.2, 0.6666666666666666, 1.2222222222222223, 0.75, 0.75, 1.75, 1.5, 0.6666666666666666, 0.75]}, {\"line\": {\"color\": \"red\"}, \"mode\": \"lines\", \"opacity\": 0.3, \"showlegend\": false, \"type\": \"scatter\", \"x\": [0, 1, 2, 3, 4, 5, 6, 7, 8, 9], \"y\": [1.1666666666666667, 1.5, 1.8, 0.6, 1.0, 0.8888888888888888, 0.5, 1.75, 1.4444444444444444, 0.5714285714285714]}, {\"line\": {\"color\": \"red\"}, \"mode\": \"lines\", \"opacity\": 0.3, \"showlegend\": false, \"type\": \"scatter\", \"x\": [0, 1, 2, 3, 4, 5, 6, 7, 8, 9], \"y\": [2.0, 1.6666666666666667, 1.0, 1.7142857142857142, 0.6666666666666666, 1.5, 0.25, 1.5, 0.5, 1.0]}, {\"line\": {\"color\": \"red\"}, \"mode\": \"lines\", \"opacity\": 0.3, \"showlegend\": false, \"type\": \"scatter\", \"x\": [0, 1, 2, 3, 4, 5, 6, 7, 8, 9], \"y\": [2.5, 0.75, 1.1666666666666667, 1.0, 0.16666666666666666, 1.1666666666666667, 1.2, 0.0, 0.0, 0.0]}, {\"line\": {\"color\": \"red\"}, \"mode\": \"lines\", \"opacity\": 0.3, \"showlegend\": false, \"type\": \"scatter\", \"x\": [0, 1, 2, 3, 4, 5, 6, 7, 8, 9], \"y\": [2.0, 2.0, 1.4285714285714286, 0.75, 1.0, 0.7142857142857143, 1.25, 0.0, 0.6, 3.5]}, {\"line\": {\"color\": \"red\"}, \"mode\": \"lines\", \"opacity\": 0.3, \"showlegend\": false, \"type\": \"scatter\", \"x\": [0, 1, 2, 3, 4, 5, 6, 7, 8, 9], \"y\": [0.75, 2.0, 0.7, 1.4, 0.6666666666666666, 2.25, 0.0, 0.0, 0.6666666666666666, 0.5]}, {\"line\": {\"color\": \"red\"}, \"mode\": \"lines\", \"opacity\": 0.3, \"showlegend\": false, \"type\": \"scatter\", \"x\": [0, 1, 2, 3, 4, 5, 6, 7, 8, 9], \"y\": [1.0, 0.8333333333333334, 0.25, 0.7142857142857143, 1.25, 0.75, 2.142857142857143, 0.0, 0.6666666666666666, 0.0]}, {\"line\": {\"color\": \"red\"}, \"mode\": \"lines\", \"opacity\": 0.3, \"showlegend\": false, \"type\": \"scatter\", \"x\": [0, 1, 2, 3, 4, 5, 6, 7, 8, 9], \"y\": [0.0, 1.25, 1.0, 0.6666666666666666, 0.0, 1.1428571428571428, 1.4, 0.75, 1.6, 2.0]}, {\"line\": {\"color\": \"red\"}, \"mode\": \"lines\", \"opacity\": 0.3, \"showlegend\": false, \"type\": \"scatter\", \"x\": [0, 1, 2, 3, 4, 5, 6, 7, 8, 9], \"y\": [0.75, 1.0, 0.6666666666666666, 1.1666666666666667, 1.0, 0.0, 1.1111111111111112, 1.2857142857142858, 3.5, 0.75]}, {\"line\": {\"color\": \"red\"}, \"mode\": \"lines\", \"opacity\": 0.3, \"showlegend\": false, \"type\": \"scatter\", \"x\": [0, 1, 2, 3, 4, 5, 6, 7, 8, 9], \"y\": [0.3333333333333333, 0.5, 0.3333333333333333, 1.2857142857142858, 0.7142857142857143, 0.0, 1.0, null, 0.0, 1.0]}, {\"line\": {\"color\": \"red\"}, \"mode\": \"lines\", \"opacity\": 0.3, \"showlegend\": false, \"type\": \"scatter\", \"x\": [0, 1, 2, 3, 4, 5, 6, 7, 8, 9], \"y\": [1.3333333333333333, 2.5, 2.2857142857142856, 0.6666666666666666, 2.25, 1.5, 1.0, 1.3333333333333333, 1.0, 0.3333333333333333]}, {\"line\": {\"color\": \"red\"}, \"mode\": \"lines\", \"opacity\": 0.3, \"showlegend\": false, \"type\": \"scatter\", \"x\": [0, 1, 2, 3, 4, 5, 6, 7, 8, 9], \"y\": [1.6, 2.0, 4.5, 2.0, 1.0, 1.0, 1.8, 1.0, 0.5, 2.0]}, {\"line\": {\"color\": \"red\"}, \"mode\": \"lines\", \"opacity\": 0.3, \"showlegend\": false, \"type\": \"scatter\", \"x\": [0, 1, 2, 3, 4, 5, 6, 7, 8, 9], \"y\": [0.0, 1.75, 1.4, 0.2, 0.5714285714285714, 0.8, 0.4, 0.5, 0.75, 0.0]}, {\"line\": {\"color\": \"black\"}, \"mode\": \"markers+lines\", \"name\": \"Average\", \"opacity\": 0.7, \"type\": \"scatter\", \"x\": [0, 1, 2, 3, 4, 5, 6, 7, 8, 9], \"y\": [1.2746478873239437, 1.2975206611570247, 1.3333333333333333, 1.2454361054766734, 1.199616122840691, 1.2552301255230125, 1.1600877192982457, 1.1916010498687664, 1.0583756345177664, 1.0446428571428572]}],\n",
       "                        {\"template\": {\"data\": {\"bar\": [{\"error_x\": {\"color\": \"#2a3f5f\"}, \"error_y\": {\"color\": \"#2a3f5f\"}, \"marker\": {\"line\": {\"color\": \"#E5ECF6\", \"width\": 0.5}}, \"type\": \"bar\"}], \"barpolar\": [{\"marker\": {\"line\": {\"color\": \"#E5ECF6\", \"width\": 0.5}}, \"type\": \"barpolar\"}], \"carpet\": [{\"aaxis\": {\"endlinecolor\": \"#2a3f5f\", \"gridcolor\": \"white\", \"linecolor\": \"white\", \"minorgridcolor\": \"white\", \"startlinecolor\": \"#2a3f5f\"}, \"baxis\": {\"endlinecolor\": \"#2a3f5f\", \"gridcolor\": \"white\", \"linecolor\": \"white\", \"minorgridcolor\": \"white\", \"startlinecolor\": \"#2a3f5f\"}, \"type\": \"carpet\"}], \"choropleth\": [{\"colorbar\": {\"outlinewidth\": 0, \"ticks\": \"\"}, \"type\": \"choropleth\"}], \"contour\": [{\"colorbar\": {\"outlinewidth\": 0, \"ticks\": \"\"}, \"colorscale\": [[0.0, \"#0d0887\"], [0.1111111111111111, \"#46039f\"], [0.2222222222222222, \"#7201a8\"], [0.3333333333333333, \"#9c179e\"], [0.4444444444444444, \"#bd3786\"], [0.5555555555555556, \"#d8576b\"], [0.6666666666666666, \"#ed7953\"], [0.7777777777777778, \"#fb9f3a\"], [0.8888888888888888, \"#fdca26\"], [1.0, \"#f0f921\"]], \"type\": \"contour\"}], \"contourcarpet\": [{\"colorbar\": {\"outlinewidth\": 0, \"ticks\": \"\"}, \"type\": \"contourcarpet\"}], \"heatmap\": [{\"colorbar\": {\"outlinewidth\": 0, \"ticks\": \"\"}, \"colorscale\": [[0.0, \"#0d0887\"], [0.1111111111111111, \"#46039f\"], [0.2222222222222222, \"#7201a8\"], [0.3333333333333333, \"#9c179e\"], [0.4444444444444444, \"#bd3786\"], [0.5555555555555556, \"#d8576b\"], [0.6666666666666666, \"#ed7953\"], [0.7777777777777778, \"#fb9f3a\"], [0.8888888888888888, \"#fdca26\"], [1.0, \"#f0f921\"]], \"type\": \"heatmap\"}], \"heatmapgl\": [{\"colorbar\": {\"outlinewidth\": 0, \"ticks\": \"\"}, \"colorscale\": [[0.0, \"#0d0887\"], [0.1111111111111111, \"#46039f\"], [0.2222222222222222, \"#7201a8\"], [0.3333333333333333, \"#9c179e\"], [0.4444444444444444, \"#bd3786\"], [0.5555555555555556, \"#d8576b\"], [0.6666666666666666, \"#ed7953\"], [0.7777777777777778, \"#fb9f3a\"], [0.8888888888888888, \"#fdca26\"], [1.0, \"#f0f921\"]], \"type\": \"heatmapgl\"}], \"histogram\": [{\"marker\": {\"colorbar\": {\"outlinewidth\": 0, \"ticks\": \"\"}}, \"type\": \"histogram\"}], \"histogram2d\": [{\"colorbar\": {\"outlinewidth\": 0, \"ticks\": \"\"}, \"colorscale\": [[0.0, \"#0d0887\"], [0.1111111111111111, \"#46039f\"], [0.2222222222222222, \"#7201a8\"], [0.3333333333333333, \"#9c179e\"], [0.4444444444444444, \"#bd3786\"], [0.5555555555555556, \"#d8576b\"], [0.6666666666666666, \"#ed7953\"], [0.7777777777777778, \"#fb9f3a\"], [0.8888888888888888, \"#fdca26\"], [1.0, \"#f0f921\"]], \"type\": \"histogram2d\"}], \"histogram2dcontour\": [{\"colorbar\": {\"outlinewidth\": 0, \"ticks\": \"\"}, \"colorscale\": [[0.0, \"#0d0887\"], [0.1111111111111111, \"#46039f\"], [0.2222222222222222, \"#7201a8\"], [0.3333333333333333, \"#9c179e\"], [0.4444444444444444, \"#bd3786\"], [0.5555555555555556, \"#d8576b\"], [0.6666666666666666, \"#ed7953\"], [0.7777777777777778, \"#fb9f3a\"], [0.8888888888888888, \"#fdca26\"], [1.0, \"#f0f921\"]], \"type\": \"histogram2dcontour\"}], \"mesh3d\": [{\"colorbar\": {\"outlinewidth\": 0, \"ticks\": \"\"}, \"type\": \"mesh3d\"}], \"parcoords\": [{\"line\": {\"colorbar\": {\"outlinewidth\": 0, \"ticks\": \"\"}}, \"type\": \"parcoords\"}], \"pie\": [{\"automargin\": true, \"type\": \"pie\"}], \"scatter\": [{\"marker\": {\"colorbar\": {\"outlinewidth\": 0, \"ticks\": \"\"}}, \"type\": \"scatter\"}], \"scatter3d\": [{\"line\": {\"colorbar\": {\"outlinewidth\": 0, \"ticks\": \"\"}}, \"marker\": {\"colorbar\": {\"outlinewidth\": 0, \"ticks\": \"\"}}, \"type\": \"scatter3d\"}], \"scattercarpet\": [{\"marker\": {\"colorbar\": {\"outlinewidth\": 0, \"ticks\": \"\"}}, \"type\": \"scattercarpet\"}], \"scattergeo\": [{\"marker\": {\"colorbar\": {\"outlinewidth\": 0, \"ticks\": \"\"}}, \"type\": \"scattergeo\"}], \"scattergl\": [{\"marker\": {\"colorbar\": {\"outlinewidth\": 0, \"ticks\": \"\"}}, \"type\": \"scattergl\"}], \"scattermapbox\": [{\"marker\": {\"colorbar\": {\"outlinewidth\": 0, \"ticks\": \"\"}}, \"type\": \"scattermapbox\"}], \"scatterpolar\": [{\"marker\": {\"colorbar\": {\"outlinewidth\": 0, \"ticks\": \"\"}}, \"type\": \"scatterpolar\"}], \"scatterpolargl\": [{\"marker\": {\"colorbar\": {\"outlinewidth\": 0, \"ticks\": \"\"}}, \"type\": \"scatterpolargl\"}], \"scatterternary\": [{\"marker\": {\"colorbar\": {\"outlinewidth\": 0, \"ticks\": \"\"}}, \"type\": \"scatterternary\"}], \"surface\": [{\"colorbar\": {\"outlinewidth\": 0, \"ticks\": \"\"}, \"colorscale\": [[0.0, \"#0d0887\"], [0.1111111111111111, \"#46039f\"], [0.2222222222222222, \"#7201a8\"], [0.3333333333333333, \"#9c179e\"], [0.4444444444444444, \"#bd3786\"], [0.5555555555555556, \"#d8576b\"], [0.6666666666666666, \"#ed7953\"], [0.7777777777777778, \"#fb9f3a\"], [0.8888888888888888, \"#fdca26\"], [1.0, \"#f0f921\"]], \"type\": \"surface\"}], \"table\": [{\"cells\": {\"fill\": {\"color\": \"#EBF0F8\"}, \"line\": {\"color\": \"white\"}}, \"header\": {\"fill\": {\"color\": \"#C8D4E3\"}, \"line\": {\"color\": \"white\"}}, \"type\": \"table\"}]}, \"layout\": {\"annotationdefaults\": {\"arrowcolor\": \"#2a3f5f\", \"arrowhead\": 0, \"arrowwidth\": 1}, \"coloraxis\": {\"colorbar\": {\"outlinewidth\": 0, \"ticks\": \"\"}}, \"colorscale\": {\"diverging\": [[0, \"#8e0152\"], [0.1, \"#c51b7d\"], [0.2, \"#de77ae\"], [0.3, \"#f1b6da\"], [0.4, \"#fde0ef\"], [0.5, \"#f7f7f7\"], [0.6, \"#e6f5d0\"], [0.7, \"#b8e186\"], [0.8, \"#7fbc41\"], [0.9, \"#4d9221\"], [1, \"#276419\"]], \"sequential\": [[0.0, \"#0d0887\"], [0.1111111111111111, \"#46039f\"], [0.2222222222222222, \"#7201a8\"], [0.3333333333333333, \"#9c179e\"], [0.4444444444444444, \"#bd3786\"], [0.5555555555555556, \"#d8576b\"], [0.6666666666666666, \"#ed7953\"], [0.7777777777777778, \"#fb9f3a\"], [0.8888888888888888, \"#fdca26\"], [1.0, \"#f0f921\"]], \"sequentialminus\": [[0.0, \"#0d0887\"], [0.1111111111111111, \"#46039f\"], [0.2222222222222222, \"#7201a8\"], [0.3333333333333333, \"#9c179e\"], [0.4444444444444444, \"#bd3786\"], [0.5555555555555556, \"#d8576b\"], [0.6666666666666666, \"#ed7953\"], [0.7777777777777778, \"#fb9f3a\"], [0.8888888888888888, \"#fdca26\"], [1.0, \"#f0f921\"]]}, \"colorway\": [\"#636efa\", \"#EF553B\", \"#00cc96\", \"#ab63fa\", \"#FFA15A\", \"#19d3f3\", \"#FF6692\", \"#B6E880\", \"#FF97FF\", \"#FECB52\"], \"font\": {\"color\": \"#2a3f5f\"}, \"geo\": {\"bgcolor\": \"white\", \"lakecolor\": \"white\", \"landcolor\": \"#E5ECF6\", \"showlakes\": true, \"showland\": true, \"subunitcolor\": \"white\"}, \"hoverlabel\": {\"align\": \"left\"}, \"hovermode\": \"closest\", \"mapbox\": {\"style\": \"light\"}, \"paper_bgcolor\": \"white\", \"plot_bgcolor\": \"#E5ECF6\", \"polar\": {\"angularaxis\": {\"gridcolor\": \"white\", \"linecolor\": \"white\", \"ticks\": \"\"}, \"bgcolor\": \"#E5ECF6\", \"radialaxis\": {\"gridcolor\": \"white\", \"linecolor\": \"white\", \"ticks\": \"\"}}, \"scene\": {\"xaxis\": {\"backgroundcolor\": \"#E5ECF6\", \"gridcolor\": \"white\", \"gridwidth\": 2, \"linecolor\": \"white\", \"showbackground\": true, \"ticks\": \"\", \"zerolinecolor\": \"white\"}, \"yaxis\": {\"backgroundcolor\": \"#E5ECF6\", \"gridcolor\": \"white\", \"gridwidth\": 2, \"linecolor\": \"white\", \"showbackground\": true, \"ticks\": \"\", \"zerolinecolor\": \"white\"}, \"zaxis\": {\"backgroundcolor\": \"#E5ECF6\", \"gridcolor\": \"white\", \"gridwidth\": 2, \"linecolor\": \"white\", \"showbackground\": true, \"ticks\": \"\", \"zerolinecolor\": \"white\"}}, \"shapedefaults\": {\"line\": {\"color\": \"#2a3f5f\"}}, \"ternary\": {\"aaxis\": {\"gridcolor\": \"white\", \"linecolor\": \"white\", \"ticks\": \"\"}, \"baxis\": {\"gridcolor\": \"white\", \"linecolor\": \"white\", \"ticks\": \"\"}, \"bgcolor\": \"#E5ECF6\", \"caxis\": {\"gridcolor\": \"white\", \"linecolor\": \"white\", \"ticks\": \"\"}}, \"title\": {\"x\": 0.05}, \"xaxis\": {\"automargin\": true, \"gridcolor\": \"white\", \"linecolor\": \"white\", \"ticks\": \"\", \"title\": {\"standoff\": 15}, \"zerolinecolor\": \"white\", \"zerolinewidth\": 2}, \"yaxis\": {\"automargin\": true, \"gridcolor\": \"white\", \"linecolor\": \"white\", \"ticks\": \"\", \"title\": {\"standoff\": 15}, \"zerolinecolor\": \"white\", \"zerolinewidth\": 2}}}},\n",
       "                        {\"responsive\": true}\n",
       "                    ).then(function(){\n",
       "                            \n",
       "var gd = document.getElementById('4ac3ed77-3dc2-437b-8d15-44f42a70306f');\n",
       "var x = new MutationObserver(function (mutations, observer) {{\n",
       "        var display = window.getComputedStyle(gd).display;\n",
       "        if (!display || display === 'none') {{\n",
       "            console.log([gd, 'removed!']);\n",
       "            Plotly.purge(gd);\n",
       "            observer.disconnect();\n",
       "        }}\n",
       "}});\n",
       "\n",
       "// Listen for the removal of the full notebook cells\n",
       "var notebookContainer = gd.closest('#notebook-container');\n",
       "if (notebookContainer) {{\n",
       "    x.observe(notebookContainer, {childList: true});\n",
       "}}\n",
       "\n",
       "// Listen for the clearing of the current output cell\n",
       "var outputEl = gd.closest('.output');\n",
       "if (outputEl) {{\n",
       "    x.observe(outputEl, {childList: true});\n",
       "}}\n",
       "\n",
       "                        })\n",
       "                };\n",
       "                });\n",
       "            </script>\n",
       "        </div>"
      ]
     },
     "metadata": {},
     "output_type": "display_data"
    }
   ],
   "source": [
    "fig = go.Figure()\n",
    "for d in data:\n",
    "    r = []\n",
    "    for day in range(5, 15):\n",
    "        infected = d[0][d[0][:,2] == day][:, 0]\n",
    "        r.append(np.mean([d[1][i] for i in infected]))\n",
    "    fig.add_trace(go.Scatter(x=list(range(len(r))), y=r, mode='lines', line=dict(color='red'), opacity=0.3, showlegend=False))\n",
    "\n",
    "mean_line = []\n",
    "for day in range(5, 15):\n",
    "    r = []\n",
    "    for d in data:\n",
    "        infected = d[0][d[0][:,2] == day][:, 0]\n",
    "        r.extend([d[1][i] for i in infected])\n",
    "    mean_line.append(np.mean(r))\n",
    "\n",
    "fig.add_trace(go.Scatter(x=list(range(len(mean_line))), y=mean_line, mode='markers+lines', \n",
    "                         line=dict(color='black'), opacity=0.7, name='Average'))\n",
    "\n",
    "fig.write_image('light_quearentine_rt.png', scale=3)\n",
    "fig.show()"
   ]
  },
  {
   "cell_type": "code",
   "execution_count": 22,
   "metadata": {},
   "outputs": [
    {
     "data": {
      "application/vnd.plotly.v1+json": {
       "config": {
        "plotlyServerURL": "https://plot.ly"
       },
       "data": [
        {
         "line": {
          "color": "green"
         },
         "name": "removed",
         "type": "scatter",
         "x": [
          0,
          1,
          2,
          3,
          4,
          5,
          6,
          7,
          8,
          9,
          10,
          11,
          12,
          13,
          14,
          15,
          16,
          17,
          18,
          19,
          20,
          21,
          22,
          23
         ],
         "y": [
          0,
          0,
          0,
          0,
          3.6041231168456714e-05,
          7.208246233691343e-05,
          0.0001261443090895985,
          0.00019822677142651194,
          0.0003784329272687955,
          0.0005766596986953074,
          0.0007208246233691343,
          0.0008830101636271895,
          0.0010271750883010164,
          0.0011893606285590715,
          0.0014416492467382686,
          0.0016038347869963237,
          0.0017479997116701506,
          0.001964247098680891,
          0.0022345563324443164,
          0.0024147624882866,
          0.0026129892597131117,
          0.002829236646723852,
          0.003117566496071506,
          0.0034058963454191597
         ]
        },
        {
         "line": {
          "color": "blue"
         },
         "name": "susceptible",
         "type": "scatter",
         "x": [
          0,
          1,
          2,
          3,
          4,
          5,
          6,
          7,
          8,
          9,
          10,
          11,
          12,
          13,
          14,
          15,
          16,
          17,
          18,
          19,
          20,
          21,
          22,
          23
         ],
         "y": [
          0.9989187630649463,
          0.9988286599870252,
          0.9987025156779356,
          0.9985583507532617,
          0.998342103366251,
          0.9981799178259929,
          0.9979997116701507,
          0.9977474230519715,
          0.9974050313558711,
          0.9969725365818496,
          0.9967202479636704,
          0.9964679593454913,
          0.9961616088805594,
          0.9958011965688748,
          0.9954948461039429,
          0.9950983925610899,
          0.9948100627117422,
          0.9943775679377208,
          0.9939811143948677,
          0.993458516542925,
          0.9930260217689036,
          0.9925214445325452,
          0.9919988466806026,
          0.9914942694442442
         ]
        },
        {
         "line": {
          "color": "orange"
         },
         "name": "exposed",
         "type": "scatter",
         "x": [
          0,
          1,
          2,
          3,
          4,
          5,
          6,
          7,
          8,
          9,
          10,
          11,
          12,
          13,
          14,
          15,
          16,
          17,
          18,
          19,
          20,
          21,
          22,
          23
         ],
         "y": [
          0.0010812369350537015,
          0.0010451957038852446,
          0.0010451957038852446,
          0.0009911338571325598,
          0.000955092625964103,
          0.0008649895480429612,
          0.0008830101636271895,
          0.0009010307792114179,
          0.0010812369350537015,
          0.00131550493764867,
          0.0012434224753117566,
          0.001261443090895985,
          0.0014236286311540402,
          0.001513731709075182,
          0.0015497729402436386,
          0.0016038347869963237,
          0.0016578966337490088,
          0.0018200821740070642,
          0.0017479997116701506,
          0.001964247098680891,
          0.002054350176602033,
          0.002072370792186261,
          0.0022886181791970015,
          0.0023967418727023717
         ]
        },
        {
         "line": {
          "color": "red"
         },
         "name": "infected",
         "type": "scatter",
         "x": [
          0,
          1,
          2,
          3,
          4,
          5,
          6,
          7,
          8,
          9,
          10,
          11,
          12,
          13,
          14,
          15,
          16,
          17,
          18,
          19,
          20,
          21,
          22,
          23
         ],
         "y": [
          0,
          0.0001261443090895985,
          0.000252288618179197,
          0.00045051538960570893,
          0.0006487421610322209,
          0.0008649895480429612,
          0.0009731132415483313,
          0.0011172781662221582,
          0.0010992575506379298,
          0.0010812369350537015,
          0.001261443090895985,
          0.00131550493764867,
          0.0013335255532328984,
          0.0014416492467382686,
          0.0014416492467382686,
          0.0016218554025805522,
          0.0016939378649174655,
          0.0017479997116701506,
          0.0019462264830966626,
          0.002018308945433576,
          0.0021444532545231744,
          0.0024147624882866,
          0.002432783103870828,
          0.00252288618179197
         ]
        },
        {
         "line": {
          "color": "purple"
         },
         "name": "hospitalized",
         "type": "scatter",
         "x": [
          0,
          1,
          2,
          3,
          4,
          5,
          6,
          7,
          8,
          9,
          10,
          11,
          12,
          13,
          14,
          15,
          16,
          17,
          18,
          19,
          20,
          21,
          22,
          23
         ],
         "y": [
          0,
          0,
          0,
          0,
          1.8020615584228357e-05,
          1.8020615584228357e-05,
          1.8020615584228357e-05,
          3.6041231168456714e-05,
          3.6041231168456714e-05,
          5.4061846752685075e-05,
          5.4061846752685075e-05,
          7.208246233691343e-05,
          5.4061846752685075e-05,
          5.4061846752685075e-05,
          7.208246233691343e-05,
          7.208246233691343e-05,
          9.010307792114179e-05,
          9.010307792114179e-05,
          9.010307792114179e-05,
          0.00014416492467382686,
          0.00016218554025805522,
          0.00016218554025805522,
          0.00016218554025805522,
          0.00018020615584228358
         ]
        }
       ],
       "layout": {
        "hovermode": "x",
        "template": {
         "data": {
          "bar": [
           {
            "error_x": {
             "color": "#2a3f5f"
            },
            "error_y": {
             "color": "#2a3f5f"
            },
            "marker": {
             "line": {
              "color": "#E5ECF6",
              "width": 0.5
             }
            },
            "type": "bar"
           }
          ],
          "barpolar": [
           {
            "marker": {
             "line": {
              "color": "#E5ECF6",
              "width": 0.5
             }
            },
            "type": "barpolar"
           }
          ],
          "carpet": [
           {
            "aaxis": {
             "endlinecolor": "#2a3f5f",
             "gridcolor": "white",
             "linecolor": "white",
             "minorgridcolor": "white",
             "startlinecolor": "#2a3f5f"
            },
            "baxis": {
             "endlinecolor": "#2a3f5f",
             "gridcolor": "white",
             "linecolor": "white",
             "minorgridcolor": "white",
             "startlinecolor": "#2a3f5f"
            },
            "type": "carpet"
           }
          ],
          "choropleth": [
           {
            "colorbar": {
             "outlinewidth": 0,
             "ticks": ""
            },
            "type": "choropleth"
           }
          ],
          "contour": [
           {
            "colorbar": {
             "outlinewidth": 0,
             "ticks": ""
            },
            "colorscale": [
             [
              0,
              "#0d0887"
             ],
             [
              0.1111111111111111,
              "#46039f"
             ],
             [
              0.2222222222222222,
              "#7201a8"
             ],
             [
              0.3333333333333333,
              "#9c179e"
             ],
             [
              0.4444444444444444,
              "#bd3786"
             ],
             [
              0.5555555555555556,
              "#d8576b"
             ],
             [
              0.6666666666666666,
              "#ed7953"
             ],
             [
              0.7777777777777778,
              "#fb9f3a"
             ],
             [
              0.8888888888888888,
              "#fdca26"
             ],
             [
              1,
              "#f0f921"
             ]
            ],
            "type": "contour"
           }
          ],
          "contourcarpet": [
           {
            "colorbar": {
             "outlinewidth": 0,
             "ticks": ""
            },
            "type": "contourcarpet"
           }
          ],
          "heatmap": [
           {
            "colorbar": {
             "outlinewidth": 0,
             "ticks": ""
            },
            "colorscale": [
             [
              0,
              "#0d0887"
             ],
             [
              0.1111111111111111,
              "#46039f"
             ],
             [
              0.2222222222222222,
              "#7201a8"
             ],
             [
              0.3333333333333333,
              "#9c179e"
             ],
             [
              0.4444444444444444,
              "#bd3786"
             ],
             [
              0.5555555555555556,
              "#d8576b"
             ],
             [
              0.6666666666666666,
              "#ed7953"
             ],
             [
              0.7777777777777778,
              "#fb9f3a"
             ],
             [
              0.8888888888888888,
              "#fdca26"
             ],
             [
              1,
              "#f0f921"
             ]
            ],
            "type": "heatmap"
           }
          ],
          "heatmapgl": [
           {
            "colorbar": {
             "outlinewidth": 0,
             "ticks": ""
            },
            "colorscale": [
             [
              0,
              "#0d0887"
             ],
             [
              0.1111111111111111,
              "#46039f"
             ],
             [
              0.2222222222222222,
              "#7201a8"
             ],
             [
              0.3333333333333333,
              "#9c179e"
             ],
             [
              0.4444444444444444,
              "#bd3786"
             ],
             [
              0.5555555555555556,
              "#d8576b"
             ],
             [
              0.6666666666666666,
              "#ed7953"
             ],
             [
              0.7777777777777778,
              "#fb9f3a"
             ],
             [
              0.8888888888888888,
              "#fdca26"
             ],
             [
              1,
              "#f0f921"
             ]
            ],
            "type": "heatmapgl"
           }
          ],
          "histogram": [
           {
            "marker": {
             "colorbar": {
              "outlinewidth": 0,
              "ticks": ""
             }
            },
            "type": "histogram"
           }
          ],
          "histogram2d": [
           {
            "colorbar": {
             "outlinewidth": 0,
             "ticks": ""
            },
            "colorscale": [
             [
              0,
              "#0d0887"
             ],
             [
              0.1111111111111111,
              "#46039f"
             ],
             [
              0.2222222222222222,
              "#7201a8"
             ],
             [
              0.3333333333333333,
              "#9c179e"
             ],
             [
              0.4444444444444444,
              "#bd3786"
             ],
             [
              0.5555555555555556,
              "#d8576b"
             ],
             [
              0.6666666666666666,
              "#ed7953"
             ],
             [
              0.7777777777777778,
              "#fb9f3a"
             ],
             [
              0.8888888888888888,
              "#fdca26"
             ],
             [
              1,
              "#f0f921"
             ]
            ],
            "type": "histogram2d"
           }
          ],
          "histogram2dcontour": [
           {
            "colorbar": {
             "outlinewidth": 0,
             "ticks": ""
            },
            "colorscale": [
             [
              0,
              "#0d0887"
             ],
             [
              0.1111111111111111,
              "#46039f"
             ],
             [
              0.2222222222222222,
              "#7201a8"
             ],
             [
              0.3333333333333333,
              "#9c179e"
             ],
             [
              0.4444444444444444,
              "#bd3786"
             ],
             [
              0.5555555555555556,
              "#d8576b"
             ],
             [
              0.6666666666666666,
              "#ed7953"
             ],
             [
              0.7777777777777778,
              "#fb9f3a"
             ],
             [
              0.8888888888888888,
              "#fdca26"
             ],
             [
              1,
              "#f0f921"
             ]
            ],
            "type": "histogram2dcontour"
           }
          ],
          "mesh3d": [
           {
            "colorbar": {
             "outlinewidth": 0,
             "ticks": ""
            },
            "type": "mesh3d"
           }
          ],
          "parcoords": [
           {
            "line": {
             "colorbar": {
              "outlinewidth": 0,
              "ticks": ""
             }
            },
            "type": "parcoords"
           }
          ],
          "pie": [
           {
            "automargin": true,
            "type": "pie"
           }
          ],
          "scatter": [
           {
            "marker": {
             "colorbar": {
              "outlinewidth": 0,
              "ticks": ""
             }
            },
            "type": "scatter"
           }
          ],
          "scatter3d": [
           {
            "line": {
             "colorbar": {
              "outlinewidth": 0,
              "ticks": ""
             }
            },
            "marker": {
             "colorbar": {
              "outlinewidth": 0,
              "ticks": ""
             }
            },
            "type": "scatter3d"
           }
          ],
          "scattercarpet": [
           {
            "marker": {
             "colorbar": {
              "outlinewidth": 0,
              "ticks": ""
             }
            },
            "type": "scattercarpet"
           }
          ],
          "scattergeo": [
           {
            "marker": {
             "colorbar": {
              "outlinewidth": 0,
              "ticks": ""
             }
            },
            "type": "scattergeo"
           }
          ],
          "scattergl": [
           {
            "marker": {
             "colorbar": {
              "outlinewidth": 0,
              "ticks": ""
             }
            },
            "type": "scattergl"
           }
          ],
          "scattermapbox": [
           {
            "marker": {
             "colorbar": {
              "outlinewidth": 0,
              "ticks": ""
             }
            },
            "type": "scattermapbox"
           }
          ],
          "scatterpolar": [
           {
            "marker": {
             "colorbar": {
              "outlinewidth": 0,
              "ticks": ""
             }
            },
            "type": "scatterpolar"
           }
          ],
          "scatterpolargl": [
           {
            "marker": {
             "colorbar": {
              "outlinewidth": 0,
              "ticks": ""
             }
            },
            "type": "scatterpolargl"
           }
          ],
          "scatterternary": [
           {
            "marker": {
             "colorbar": {
              "outlinewidth": 0,
              "ticks": ""
             }
            },
            "type": "scatterternary"
           }
          ],
          "surface": [
           {
            "colorbar": {
             "outlinewidth": 0,
             "ticks": ""
            },
            "colorscale": [
             [
              0,
              "#0d0887"
             ],
             [
              0.1111111111111111,
              "#46039f"
             ],
             [
              0.2222222222222222,
              "#7201a8"
             ],
             [
              0.3333333333333333,
              "#9c179e"
             ],
             [
              0.4444444444444444,
              "#bd3786"
             ],
             [
              0.5555555555555556,
              "#d8576b"
             ],
             [
              0.6666666666666666,
              "#ed7953"
             ],
             [
              0.7777777777777778,
              "#fb9f3a"
             ],
             [
              0.8888888888888888,
              "#fdca26"
             ],
             [
              1,
              "#f0f921"
             ]
            ],
            "type": "surface"
           }
          ],
          "table": [
           {
            "cells": {
             "fill": {
              "color": "#EBF0F8"
             },
             "line": {
              "color": "white"
             }
            },
            "header": {
             "fill": {
              "color": "#C8D4E3"
             },
             "line": {
              "color": "white"
             }
            },
            "type": "table"
           }
          ]
         },
         "layout": {
          "annotationdefaults": {
           "arrowcolor": "#2a3f5f",
           "arrowhead": 0,
           "arrowwidth": 1
          },
          "coloraxis": {
           "colorbar": {
            "outlinewidth": 0,
            "ticks": ""
           }
          },
          "colorscale": {
           "diverging": [
            [
             0,
             "#8e0152"
            ],
            [
             0.1,
             "#c51b7d"
            ],
            [
             0.2,
             "#de77ae"
            ],
            [
             0.3,
             "#f1b6da"
            ],
            [
             0.4,
             "#fde0ef"
            ],
            [
             0.5,
             "#f7f7f7"
            ],
            [
             0.6,
             "#e6f5d0"
            ],
            [
             0.7,
             "#b8e186"
            ],
            [
             0.8,
             "#7fbc41"
            ],
            [
             0.9,
             "#4d9221"
            ],
            [
             1,
             "#276419"
            ]
           ],
           "sequential": [
            [
             0,
             "#0d0887"
            ],
            [
             0.1111111111111111,
             "#46039f"
            ],
            [
             0.2222222222222222,
             "#7201a8"
            ],
            [
             0.3333333333333333,
             "#9c179e"
            ],
            [
             0.4444444444444444,
             "#bd3786"
            ],
            [
             0.5555555555555556,
             "#d8576b"
            ],
            [
             0.6666666666666666,
             "#ed7953"
            ],
            [
             0.7777777777777778,
             "#fb9f3a"
            ],
            [
             0.8888888888888888,
             "#fdca26"
            ],
            [
             1,
             "#f0f921"
            ]
           ],
           "sequentialminus": [
            [
             0,
             "#0d0887"
            ],
            [
             0.1111111111111111,
             "#46039f"
            ],
            [
             0.2222222222222222,
             "#7201a8"
            ],
            [
             0.3333333333333333,
             "#9c179e"
            ],
            [
             0.4444444444444444,
             "#bd3786"
            ],
            [
             0.5555555555555556,
             "#d8576b"
            ],
            [
             0.6666666666666666,
             "#ed7953"
            ],
            [
             0.7777777777777778,
             "#fb9f3a"
            ],
            [
             0.8888888888888888,
             "#fdca26"
            ],
            [
             1,
             "#f0f921"
            ]
           ]
          },
          "colorway": [
           "#636efa",
           "#EF553B",
           "#00cc96",
           "#ab63fa",
           "#FFA15A",
           "#19d3f3",
           "#FF6692",
           "#B6E880",
           "#FF97FF",
           "#FECB52"
          ],
          "font": {
           "color": "#2a3f5f"
          },
          "geo": {
           "bgcolor": "white",
           "lakecolor": "white",
           "landcolor": "#E5ECF6",
           "showlakes": true,
           "showland": true,
           "subunitcolor": "white"
          },
          "hoverlabel": {
           "align": "left"
          },
          "hovermode": "closest",
          "mapbox": {
           "style": "light"
          },
          "paper_bgcolor": "white",
          "plot_bgcolor": "#E5ECF6",
          "polar": {
           "angularaxis": {
            "gridcolor": "white",
            "linecolor": "white",
            "ticks": ""
           },
           "bgcolor": "#E5ECF6",
           "radialaxis": {
            "gridcolor": "white",
            "linecolor": "white",
            "ticks": ""
           }
          },
          "scene": {
           "xaxis": {
            "backgroundcolor": "#E5ECF6",
            "gridcolor": "white",
            "gridwidth": 2,
            "linecolor": "white",
            "showbackground": true,
            "ticks": "",
            "zerolinecolor": "white"
           },
           "yaxis": {
            "backgroundcolor": "#E5ECF6",
            "gridcolor": "white",
            "gridwidth": 2,
            "linecolor": "white",
            "showbackground": true,
            "ticks": "",
            "zerolinecolor": "white"
           },
           "zaxis": {
            "backgroundcolor": "#E5ECF6",
            "gridcolor": "white",
            "gridwidth": 2,
            "linecolor": "white",
            "showbackground": true,
            "ticks": "",
            "zerolinecolor": "white"
           }
          },
          "shapedefaults": {
           "line": {
            "color": "#2a3f5f"
           }
          },
          "ternary": {
           "aaxis": {
            "gridcolor": "white",
            "linecolor": "white",
            "ticks": ""
           },
           "baxis": {
            "gridcolor": "white",
            "linecolor": "white",
            "ticks": ""
           },
           "bgcolor": "#E5ECF6",
           "caxis": {
            "gridcolor": "white",
            "linecolor": "white",
            "ticks": ""
           }
          },
          "title": {
           "x": 0.05
          },
          "xaxis": {
           "automargin": true,
           "gridcolor": "white",
           "linecolor": "white",
           "ticks": "",
           "title": {
            "standoff": 15
           },
           "zerolinecolor": "white",
           "zerolinewidth": 2
          },
          "yaxis": {
           "automargin": true,
           "gridcolor": "white",
           "linecolor": "white",
           "ticks": "",
           "title": {
            "standoff": 15
           },
           "zerolinecolor": "white",
           "zerolinewidth": 2
          }
         }
        }
       }
      },
      "text/html": [
       "<div>\n",
       "        \n",
       "        \n",
       "            <div id=\"d654bea2-cb14-4e46-a6ae-d196fb1925b3\" class=\"plotly-graph-div\" style=\"height:525px; width:100%;\"></div>\n",
       "            <script type=\"text/javascript\">\n",
       "                require([\"plotly\"], function(Plotly) {\n",
       "                    window.PLOTLYENV=window.PLOTLYENV || {};\n",
       "                    \n",
       "                if (document.getElementById(\"d654bea2-cb14-4e46-a6ae-d196fb1925b3\")) {\n",
       "                    Plotly.newPlot(\n",
       "                        'd654bea2-cb14-4e46-a6ae-d196fb1925b3',\n",
       "                        [{\"line\": {\"color\": \"green\"}, \"name\": \"removed\", \"type\": \"scatter\", \"x\": [0, 1, 2, 3, 4, 5, 6, 7, 8, 9, 10, 11, 12, 13, 14, 15, 16, 17, 18, 19, 20, 21, 22, 23], \"y\": [0.0, 0.0, 0.0, 0.0, 3.6041231168456714e-05, 7.208246233691343e-05, 0.0001261443090895985, 0.00019822677142651194, 0.0003784329272687955, 0.0005766596986953074, 0.0007208246233691343, 0.0008830101636271895, 0.0010271750883010164, 0.0011893606285590715, 0.0014416492467382686, 0.0016038347869963237, 0.0017479997116701506, 0.001964247098680891, 0.0022345563324443164, 0.0024147624882866, 0.0026129892597131117, 0.002829236646723852, 0.003117566496071506, 0.0034058963454191597]}, {\"line\": {\"color\": \"blue\"}, \"name\": \"susceptible\", \"type\": \"scatter\", \"x\": [0, 1, 2, 3, 4, 5, 6, 7, 8, 9, 10, 11, 12, 13, 14, 15, 16, 17, 18, 19, 20, 21, 22, 23], \"y\": [0.9989187630649463, 0.9988286599870252, 0.9987025156779356, 0.9985583507532617, 0.998342103366251, 0.9981799178259929, 0.9979997116701507, 0.9977474230519715, 0.9974050313558711, 0.9969725365818496, 0.9967202479636704, 0.9964679593454913, 0.9961616088805594, 0.9958011965688748, 0.9954948461039429, 0.9950983925610899, 0.9948100627117422, 0.9943775679377208, 0.9939811143948677, 0.993458516542925, 0.9930260217689036, 0.9925214445325452, 0.9919988466806026, 0.9914942694442442]}, {\"line\": {\"color\": \"orange\"}, \"name\": \"exposed\", \"type\": \"scatter\", \"x\": [0, 1, 2, 3, 4, 5, 6, 7, 8, 9, 10, 11, 12, 13, 14, 15, 16, 17, 18, 19, 20, 21, 22, 23], \"y\": [0.0010812369350537015, 0.0010451957038852446, 0.0010451957038852446, 0.0009911338571325598, 0.000955092625964103, 0.0008649895480429612, 0.0008830101636271895, 0.0009010307792114179, 0.0010812369350537015, 0.00131550493764867, 0.0012434224753117566, 0.001261443090895985, 0.0014236286311540402, 0.001513731709075182, 0.0015497729402436386, 0.0016038347869963237, 0.0016578966337490088, 0.0018200821740070642, 0.0017479997116701506, 0.001964247098680891, 0.002054350176602033, 0.002072370792186261, 0.0022886181791970015, 0.0023967418727023717]}, {\"line\": {\"color\": \"red\"}, \"name\": \"infected\", \"type\": \"scatter\", \"x\": [0, 1, 2, 3, 4, 5, 6, 7, 8, 9, 10, 11, 12, 13, 14, 15, 16, 17, 18, 19, 20, 21, 22, 23], \"y\": [0.0, 0.0001261443090895985, 0.000252288618179197, 0.00045051538960570893, 0.0006487421610322209, 0.0008649895480429612, 0.0009731132415483313, 0.0011172781662221582, 0.0010992575506379298, 0.0010812369350537015, 0.001261443090895985, 0.00131550493764867, 0.0013335255532328984, 0.0014416492467382686, 0.0014416492467382686, 0.0016218554025805522, 0.0016939378649174655, 0.0017479997116701506, 0.0019462264830966626, 0.002018308945433576, 0.0021444532545231744, 0.0024147624882866, 0.002432783103870828, 0.00252288618179197]}, {\"line\": {\"color\": \"purple\"}, \"name\": \"hospitalized\", \"type\": \"scatter\", \"x\": [0, 1, 2, 3, 4, 5, 6, 7, 8, 9, 10, 11, 12, 13, 14, 15, 16, 17, 18, 19, 20, 21, 22, 23], \"y\": [0.0, 0.0, 0.0, 0.0, 1.8020615584228357e-05, 1.8020615584228357e-05, 1.8020615584228357e-05, 3.6041231168456714e-05, 3.6041231168456714e-05, 5.4061846752685075e-05, 5.4061846752685075e-05, 7.208246233691343e-05, 5.4061846752685075e-05, 5.4061846752685075e-05, 7.208246233691343e-05, 7.208246233691343e-05, 9.010307792114179e-05, 9.010307792114179e-05, 9.010307792114179e-05, 0.00014416492467382686, 0.00016218554025805522, 0.00016218554025805522, 0.00016218554025805522, 0.00018020615584228358]}],\n",
       "                        {\"hovermode\": \"x\", \"template\": {\"data\": {\"bar\": [{\"error_x\": {\"color\": \"#2a3f5f\"}, \"error_y\": {\"color\": \"#2a3f5f\"}, \"marker\": {\"line\": {\"color\": \"#E5ECF6\", \"width\": 0.5}}, \"type\": \"bar\"}], \"barpolar\": [{\"marker\": {\"line\": {\"color\": \"#E5ECF6\", \"width\": 0.5}}, \"type\": \"barpolar\"}], \"carpet\": [{\"aaxis\": {\"endlinecolor\": \"#2a3f5f\", \"gridcolor\": \"white\", \"linecolor\": \"white\", \"minorgridcolor\": \"white\", \"startlinecolor\": \"#2a3f5f\"}, \"baxis\": {\"endlinecolor\": \"#2a3f5f\", \"gridcolor\": \"white\", \"linecolor\": \"white\", \"minorgridcolor\": \"white\", \"startlinecolor\": \"#2a3f5f\"}, \"type\": \"carpet\"}], \"choropleth\": [{\"colorbar\": {\"outlinewidth\": 0, \"ticks\": \"\"}, \"type\": \"choropleth\"}], \"contour\": [{\"colorbar\": {\"outlinewidth\": 0, \"ticks\": \"\"}, \"colorscale\": [[0.0, \"#0d0887\"], [0.1111111111111111, \"#46039f\"], [0.2222222222222222, \"#7201a8\"], [0.3333333333333333, \"#9c179e\"], [0.4444444444444444, \"#bd3786\"], [0.5555555555555556, \"#d8576b\"], [0.6666666666666666, \"#ed7953\"], [0.7777777777777778, \"#fb9f3a\"], [0.8888888888888888, \"#fdca26\"], [1.0, \"#f0f921\"]], \"type\": \"contour\"}], \"contourcarpet\": [{\"colorbar\": {\"outlinewidth\": 0, \"ticks\": \"\"}, \"type\": \"contourcarpet\"}], \"heatmap\": [{\"colorbar\": {\"outlinewidth\": 0, \"ticks\": \"\"}, \"colorscale\": [[0.0, \"#0d0887\"], [0.1111111111111111, \"#46039f\"], [0.2222222222222222, \"#7201a8\"], [0.3333333333333333, \"#9c179e\"], [0.4444444444444444, \"#bd3786\"], [0.5555555555555556, \"#d8576b\"], [0.6666666666666666, \"#ed7953\"], [0.7777777777777778, \"#fb9f3a\"], [0.8888888888888888, \"#fdca26\"], [1.0, \"#f0f921\"]], \"type\": \"heatmap\"}], \"heatmapgl\": [{\"colorbar\": {\"outlinewidth\": 0, \"ticks\": \"\"}, \"colorscale\": [[0.0, \"#0d0887\"], [0.1111111111111111, \"#46039f\"], [0.2222222222222222, \"#7201a8\"], [0.3333333333333333, \"#9c179e\"], [0.4444444444444444, \"#bd3786\"], [0.5555555555555556, \"#d8576b\"], [0.6666666666666666, \"#ed7953\"], [0.7777777777777778, \"#fb9f3a\"], [0.8888888888888888, \"#fdca26\"], [1.0, \"#f0f921\"]], \"type\": \"heatmapgl\"}], \"histogram\": [{\"marker\": {\"colorbar\": {\"outlinewidth\": 0, \"ticks\": \"\"}}, \"type\": \"histogram\"}], \"histogram2d\": [{\"colorbar\": {\"outlinewidth\": 0, \"ticks\": \"\"}, \"colorscale\": [[0.0, \"#0d0887\"], [0.1111111111111111, \"#46039f\"], [0.2222222222222222, \"#7201a8\"], [0.3333333333333333, \"#9c179e\"], [0.4444444444444444, \"#bd3786\"], [0.5555555555555556, \"#d8576b\"], [0.6666666666666666, \"#ed7953\"], [0.7777777777777778, \"#fb9f3a\"], [0.8888888888888888, \"#fdca26\"], [1.0, \"#f0f921\"]], \"type\": \"histogram2d\"}], \"histogram2dcontour\": [{\"colorbar\": {\"outlinewidth\": 0, \"ticks\": \"\"}, \"colorscale\": [[0.0, \"#0d0887\"], [0.1111111111111111, \"#46039f\"], [0.2222222222222222, \"#7201a8\"], [0.3333333333333333, \"#9c179e\"], [0.4444444444444444, \"#bd3786\"], [0.5555555555555556, \"#d8576b\"], [0.6666666666666666, \"#ed7953\"], [0.7777777777777778, \"#fb9f3a\"], [0.8888888888888888, \"#fdca26\"], [1.0, \"#f0f921\"]], \"type\": \"histogram2dcontour\"}], \"mesh3d\": [{\"colorbar\": {\"outlinewidth\": 0, \"ticks\": \"\"}, \"type\": \"mesh3d\"}], \"parcoords\": [{\"line\": {\"colorbar\": {\"outlinewidth\": 0, \"ticks\": \"\"}}, \"type\": \"parcoords\"}], \"pie\": [{\"automargin\": true, \"type\": \"pie\"}], \"scatter\": [{\"marker\": {\"colorbar\": {\"outlinewidth\": 0, \"ticks\": \"\"}}, \"type\": \"scatter\"}], \"scatter3d\": [{\"line\": {\"colorbar\": {\"outlinewidth\": 0, \"ticks\": \"\"}}, \"marker\": {\"colorbar\": {\"outlinewidth\": 0, \"ticks\": \"\"}}, \"type\": \"scatter3d\"}], \"scattercarpet\": [{\"marker\": {\"colorbar\": {\"outlinewidth\": 0, \"ticks\": \"\"}}, \"type\": \"scattercarpet\"}], \"scattergeo\": [{\"marker\": {\"colorbar\": {\"outlinewidth\": 0, \"ticks\": \"\"}}, \"type\": \"scattergeo\"}], \"scattergl\": [{\"marker\": {\"colorbar\": {\"outlinewidth\": 0, \"ticks\": \"\"}}, \"type\": \"scattergl\"}], \"scattermapbox\": [{\"marker\": {\"colorbar\": {\"outlinewidth\": 0, \"ticks\": \"\"}}, \"type\": \"scattermapbox\"}], \"scatterpolar\": [{\"marker\": {\"colorbar\": {\"outlinewidth\": 0, \"ticks\": \"\"}}, \"type\": \"scatterpolar\"}], \"scatterpolargl\": [{\"marker\": {\"colorbar\": {\"outlinewidth\": 0, \"ticks\": \"\"}}, \"type\": \"scatterpolargl\"}], \"scatterternary\": [{\"marker\": {\"colorbar\": {\"outlinewidth\": 0, \"ticks\": \"\"}}, \"type\": \"scatterternary\"}], \"surface\": [{\"colorbar\": {\"outlinewidth\": 0, \"ticks\": \"\"}, \"colorscale\": [[0.0, \"#0d0887\"], [0.1111111111111111, \"#46039f\"], [0.2222222222222222, \"#7201a8\"], [0.3333333333333333, \"#9c179e\"], [0.4444444444444444, \"#bd3786\"], [0.5555555555555556, \"#d8576b\"], [0.6666666666666666, \"#ed7953\"], [0.7777777777777778, \"#fb9f3a\"], [0.8888888888888888, \"#fdca26\"], [1.0, \"#f0f921\"]], \"type\": \"surface\"}], \"table\": [{\"cells\": {\"fill\": {\"color\": \"#EBF0F8\"}, \"line\": {\"color\": \"white\"}}, \"header\": {\"fill\": {\"color\": \"#C8D4E3\"}, \"line\": {\"color\": \"white\"}}, \"type\": \"table\"}]}, \"layout\": {\"annotationdefaults\": {\"arrowcolor\": \"#2a3f5f\", \"arrowhead\": 0, \"arrowwidth\": 1}, \"coloraxis\": {\"colorbar\": {\"outlinewidth\": 0, \"ticks\": \"\"}}, \"colorscale\": {\"diverging\": [[0, \"#8e0152\"], [0.1, \"#c51b7d\"], [0.2, \"#de77ae\"], [0.3, \"#f1b6da\"], [0.4, \"#fde0ef\"], [0.5, \"#f7f7f7\"], [0.6, \"#e6f5d0\"], [0.7, \"#b8e186\"], [0.8, \"#7fbc41\"], [0.9, \"#4d9221\"], [1, \"#276419\"]], \"sequential\": [[0.0, \"#0d0887\"], [0.1111111111111111, \"#46039f\"], [0.2222222222222222, \"#7201a8\"], [0.3333333333333333, \"#9c179e\"], [0.4444444444444444, \"#bd3786\"], [0.5555555555555556, \"#d8576b\"], [0.6666666666666666, \"#ed7953\"], [0.7777777777777778, \"#fb9f3a\"], [0.8888888888888888, \"#fdca26\"], [1.0, \"#f0f921\"]], \"sequentialminus\": [[0.0, \"#0d0887\"], [0.1111111111111111, \"#46039f\"], [0.2222222222222222, \"#7201a8\"], [0.3333333333333333, \"#9c179e\"], [0.4444444444444444, \"#bd3786\"], [0.5555555555555556, \"#d8576b\"], [0.6666666666666666, \"#ed7953\"], [0.7777777777777778, \"#fb9f3a\"], [0.8888888888888888, \"#fdca26\"], [1.0, \"#f0f921\"]]}, \"colorway\": [\"#636efa\", \"#EF553B\", \"#00cc96\", \"#ab63fa\", \"#FFA15A\", \"#19d3f3\", \"#FF6692\", \"#B6E880\", \"#FF97FF\", \"#FECB52\"], \"font\": {\"color\": \"#2a3f5f\"}, \"geo\": {\"bgcolor\": \"white\", \"lakecolor\": \"white\", \"landcolor\": \"#E5ECF6\", \"showlakes\": true, \"showland\": true, \"subunitcolor\": \"white\"}, \"hoverlabel\": {\"align\": \"left\"}, \"hovermode\": \"closest\", \"mapbox\": {\"style\": \"light\"}, \"paper_bgcolor\": \"white\", \"plot_bgcolor\": \"#E5ECF6\", \"polar\": {\"angularaxis\": {\"gridcolor\": \"white\", \"linecolor\": \"white\", \"ticks\": \"\"}, \"bgcolor\": \"#E5ECF6\", \"radialaxis\": {\"gridcolor\": \"white\", \"linecolor\": \"white\", \"ticks\": \"\"}}, \"scene\": {\"xaxis\": {\"backgroundcolor\": \"#E5ECF6\", \"gridcolor\": \"white\", \"gridwidth\": 2, \"linecolor\": \"white\", \"showbackground\": true, \"ticks\": \"\", \"zerolinecolor\": \"white\"}, \"yaxis\": {\"backgroundcolor\": \"#E5ECF6\", \"gridcolor\": \"white\", \"gridwidth\": 2, \"linecolor\": \"white\", \"showbackground\": true, \"ticks\": \"\", \"zerolinecolor\": \"white\"}, \"zaxis\": {\"backgroundcolor\": \"#E5ECF6\", \"gridcolor\": \"white\", \"gridwidth\": 2, \"linecolor\": \"white\", \"showbackground\": true, \"ticks\": \"\", \"zerolinecolor\": \"white\"}}, \"shapedefaults\": {\"line\": {\"color\": \"#2a3f5f\"}}, \"ternary\": {\"aaxis\": {\"gridcolor\": \"white\", \"linecolor\": \"white\", \"ticks\": \"\"}, \"baxis\": {\"gridcolor\": \"white\", \"linecolor\": \"white\", \"ticks\": \"\"}, \"bgcolor\": \"#E5ECF6\", \"caxis\": {\"gridcolor\": \"white\", \"linecolor\": \"white\", \"ticks\": \"\"}}, \"title\": {\"x\": 0.05}, \"xaxis\": {\"automargin\": true, \"gridcolor\": \"white\", \"linecolor\": \"white\", \"ticks\": \"\", \"title\": {\"standoff\": 15}, \"zerolinecolor\": \"white\", \"zerolinewidth\": 2}, \"yaxis\": {\"automargin\": true, \"gridcolor\": \"white\", \"linecolor\": \"white\", \"ticks\": \"\", \"title\": {\"standoff\": 15}, \"zerolinecolor\": \"white\", \"zerolinewidth\": 2}}}},\n",
       "                        {\"responsive\": true}\n",
       "                    ).then(function(){\n",
       "                            \n",
       "var gd = document.getElementById('d654bea2-cb14-4e46-a6ae-d196fb1925b3');\n",
       "var x = new MutationObserver(function (mutations, observer) {{\n",
       "        var display = window.getComputedStyle(gd).display;\n",
       "        if (!display || display === 'none') {{\n",
       "            console.log([gd, 'removed!']);\n",
       "            Plotly.purge(gd);\n",
       "            observer.disconnect();\n",
       "        }}\n",
       "}});\n",
       "\n",
       "// Listen for the removal of the full notebook cells\n",
       "var notebookContainer = gd.closest('#notebook-container');\n",
       "if (notebookContainer) {{\n",
       "    x.observe(notebookContainer, {childList: true});\n",
       "}}\n",
       "\n",
       "// Listen for the clearing of the current output cell\n",
       "var outputEl = gd.closest('.output');\n",
       "if (outputEl) {{\n",
       "    x.observe(outputEl, {childList: true});\n",
       "}}\n",
       "\n",
       "                        })\n",
       "                };\n",
       "                });\n",
       "            </script>\n",
       "        </div>"
      ]
     },
     "metadata": {},
     "output_type": "display_data"
    }
   ],
   "source": [
    "df = make_SIR_graph(data[0][2])\n",
    "#actions_3_colors = list(map(color_map_set3.get,  actions))\n",
    "#make_beds_graph(df, actions_3_colors, 7, 'Sim', color_map_set3)"
   ]
  },
  {
   "cell_type": "code",
   "execution_count": 15,
   "metadata": {},
   "outputs": [
    {
     "data": {
      "application/vnd.plotly.v1+json": {
       "config": {
        "plotlyServerURL": "https://plot.ly"
       },
       "data": [
        {
         "line": {
          "color": "red"
         },
         "mode": "lines",
         "opacity": 0.3,
         "type": "scatter",
         "x": [
          0,
          1,
          2,
          3,
          4,
          5,
          6,
          7,
          8,
          9
         ],
         "y": [
          1.5555555555555556,
          1.5454545454545454,
          2.5,
          1.8125,
          1.4545454545454546,
          1.375,
          1.5,
          1.1428571428571428,
          1.4705882352941178,
          1.3636363636363635
         ]
        },
        {
         "line": {
          "color": "red"
         },
         "mode": "lines",
         "opacity": 0.3,
         "type": "scatter",
         "x": [
          0,
          1,
          2,
          3,
          4,
          5,
          6,
          7,
          8,
          9
         ],
         "y": [
          1.5,
          1.7777777777777777,
          1.2941176470588236,
          1.8,
          1.7619047619047619,
          1,
          1.7727272727272727,
          1.3076923076923077,
          1.1875,
          1.5217391304347827
         ]
        },
        {
         "line": {
          "color": "red"
         },
         "mode": "lines",
         "opacity": 0.3,
         "type": "scatter",
         "x": [
          0,
          1,
          2,
          3,
          4,
          5,
          6,
          7,
          8,
          9
         ],
         "y": [
          2.3636363636363638,
          1.0769230769230769,
          2.823529411764706,
          2.2142857142857144,
          1.6923076923076923,
          2.15,
          1.1363636363636365,
          1.1538461538461537,
          1.3636363636363635,
          1.3333333333333333
         ]
        },
        {
         "line": {
          "color": "red"
         },
         "mode": "lines",
         "opacity": 0.3,
         "type": "scatter",
         "x": [
          0,
          1,
          2,
          3,
          4,
          5,
          6,
          7,
          8,
          9
         ],
         "y": [
          2,
          2.125,
          1.4,
          1.6875,
          2.0714285714285716,
          1.6,
          1.2105263157894737,
          2.4615384615384617,
          1.6666666666666667,
          1.4210526315789473
         ]
        },
        {
         "line": {
          "color": "red"
         },
         "mode": "lines",
         "opacity": 0.3,
         "type": "scatter",
         "x": [
          0,
          1,
          2,
          3,
          4,
          5,
          6,
          7,
          8,
          9
         ],
         "y": [
          2.1666666666666665,
          1.4615384615384615,
          1.8333333333333333,
          1.3333333333333333,
          1.7142857142857142,
          2.2777777777777777,
          1.5238095238095237,
          2.411764705882353,
          1.3333333333333333,
          0.896551724137931
         ]
        },
        {
         "line": {
          "color": "red"
         },
         "mode": "lines",
         "opacity": 0.3,
         "type": "scatter",
         "x": [
          0,
          1,
          2,
          3,
          4,
          5,
          6,
          7,
          8,
          9
         ],
         "y": [
          1.3333333333333333,
          1.5,
          2.090909090909091,
          1.2941176470588236,
          1.5714285714285714,
          1.4,
          1.5,
          2.1538461538461537,
          1.5625,
          1.0344827586206897
         ]
        },
        {
         "line": {
          "color": "red"
         },
         "mode": "lines",
         "opacity": 0.3,
         "type": "scatter",
         "x": [
          0,
          1,
          2,
          3,
          4,
          5,
          6,
          7,
          8,
          9
         ],
         "y": [
          1.7272727272727273,
          1.6923076923076923,
          1.2,
          0.95,
          1.2777777777777777,
          2.28,
          1.2941176470588236,
          1.8695652173913044,
          1.4230769230769231,
          1.25
         ]
        },
        {
         "line": {
          "color": "red"
         },
         "mode": "lines",
         "opacity": 0.3,
         "type": "scatter",
         "x": [
          0,
          1,
          2,
          3,
          4,
          5,
          6,
          7,
          8,
          9
         ],
         "y": [
          2.3846153846153846,
          1.1,
          1.1666666666666667,
          1.6875,
          0.8823529411764706,
          1,
          1.5,
          1.4,
          1.1764705882352942,
          1.2916666666666667
         ]
        },
        {
         "line": {
          "color": "red"
         },
         "mode": "lines",
         "opacity": 0.3,
         "type": "scatter",
         "x": [
          0,
          1,
          2,
          3,
          4,
          5,
          6,
          7,
          8,
          9
         ],
         "y": [
          2.25,
          1.9090909090909092,
          2.8823529411764706,
          1.9285714285714286,
          1.7857142857142858,
          1.8181818181818181,
          1.4761904761904763,
          1.7666666666666666,
          1.8076923076923077,
          1.0588235294117647
         ]
        },
        {
         "line": {
          "color": "red"
         },
         "mode": "lines",
         "opacity": 0.3,
         "type": "scatter",
         "x": [
          0,
          1,
          2,
          3,
          4,
          5,
          6,
          7,
          8,
          9
         ],
         "y": [
          2.6666666666666665,
          1.4615384615384615,
          0.8888888888888888,
          1.8571428571428572,
          1.4375,
          1.6956521739130435,
          1.95,
          1.0555555555555556,
          1.5263157894736843,
          1.7142857142857142
         ]
        },
        {
         "line": {
          "color": "red"
         },
         "mode": "lines",
         "opacity": 0.3,
         "type": "scatter",
         "x": [
          0,
          1,
          2,
          3,
          4,
          5,
          6,
          7,
          8,
          9
         ],
         "y": [
          1.9230769230769231,
          3,
          2.3333333333333335,
          2.05,
          1.8888888888888888,
          1.25,
          0.8,
          2.0588235294117645,
          1.2608695652173914,
          1.8461538461538463
         ]
        },
        {
         "line": {
          "color": "red"
         },
         "mode": "lines",
         "opacity": 0.3,
         "type": "scatter",
         "x": [
          0,
          1,
          2,
          3,
          4,
          5,
          6,
          7,
          8,
          9
         ],
         "y": [
          2.25,
          2.0833333333333335,
          2,
          1.7222222222222223,
          1.8888888888888888,
          1.5294117647058822,
          2.1875,
          2,
          1.0588235294117647,
          0.9565217391304348
         ]
        },
        {
         "line": {
          "color": "red"
         },
         "mode": "lines",
         "opacity": 0.3,
         "type": "scatter",
         "x": [
          0,
          1,
          2,
          3,
          4,
          5,
          6,
          7,
          8,
          9
         ],
         "y": [
          1.5714285714285714,
          1.3636363636363635,
          2.142857142857143,
          1,
          1.2857142857142858,
          1.8333333333333333,
          1.2222222222222223,
          1.3125,
          1.5,
          1.2
         ]
        },
        {
         "line": {
          "color": "red"
         },
         "mode": "lines",
         "opacity": 0.3,
         "type": "scatter",
         "x": [
          0,
          1,
          2,
          3,
          4,
          5,
          6,
          7,
          8,
          9
         ],
         "y": [
          0.875,
          1.2,
          2.1,
          2.4,
          1.6153846153846154,
          2,
          1.0555555555555556,
          1.3125,
          1.25,
          1.3
         ]
        },
        {
         "line": {
          "color": "red"
         },
         "mode": "lines",
         "opacity": 0.3,
         "type": "scatter",
         "x": [
          0,
          1,
          2,
          3,
          4,
          5,
          6,
          7,
          8,
          9
         ],
         "y": [
          2.5,
          0.8571428571428571,
          1.4666666666666666,
          1.2777777777777777,
          0.8333333333333334,
          1.4,
          1.7058823529411764,
          1.9333333333333333,
          1.35,
          1.3333333333333333
         ]
        },
        {
         "line": {
          "color": "red"
         },
         "mode": "lines",
         "opacity": 0.3,
         "type": "scatter",
         "x": [
          0,
          1,
          2,
          3,
          4,
          5,
          6,
          7,
          8,
          9
         ],
         "y": [
          1.2142857142857142,
          1.8333333333333333,
          3.0833333333333335,
          1.411764705882353,
          1.2105263157894737,
          1.3125,
          1.0416666666666667,
          1.2941176470588236,
          1.434782608695652,
          0.9375
         ]
        },
        {
         "line": {
          "color": "red"
         },
         "mode": "lines",
         "opacity": 0.3,
         "type": "scatter",
         "x": [
          0,
          1,
          2,
          3,
          4,
          5,
          6,
          7,
          8,
          9
         ],
         "y": [
          0.8571428571428571,
          1.1666666666666667,
          1.75,
          1.6,
          1.4375,
          1.631578947368421,
          1.1666666666666667,
          1.1923076923076923,
          1.2941176470588236,
          1.5909090909090908
         ]
        },
        {
         "line": {
          "color": "red"
         },
         "mode": "lines",
         "opacity": 0.3,
         "type": "scatter",
         "x": [
          0,
          1,
          2,
          3,
          4,
          5,
          6,
          7,
          8,
          9
         ],
         "y": [
          0.8333333333333334,
          1.6923076923076923,
          1.3333333333333333,
          2,
          1.3157894736842106,
          1.375,
          1.3636363636363635,
          1.1,
          1,
          0.85
         ]
        },
        {
         "line": {
          "color": "red"
         },
         "mode": "lines",
         "opacity": 0.3,
         "type": "scatter",
         "x": [
          0,
          1,
          2,
          3,
          4,
          5,
          6,
          7,
          8,
          9
         ],
         "y": [
          2.6666666666666665,
          1.2666666666666666,
          2.1,
          2.25,
          1.5714285714285714,
          1.2352941176470589,
          1.6363636363636365,
          1.6666666666666667,
          1.1153846153846154,
          1.736842105263158
         ]
        },
        {
         "line": {
          "color": "red"
         },
         "mode": "lines",
         "opacity": 0.3,
         "type": "scatter",
         "x": [
          0,
          1,
          2,
          3,
          4,
          5,
          6,
          7,
          8,
          9
         ],
         "y": [
          1.6666666666666667,
          1.7,
          0.8666666666666667,
          1.4666666666666666,
          1.3529411764705883,
          1.8181818181818181,
          1.2692307692307692,
          2.066666666666667,
          1.0714285714285714,
          1.4
         ]
        },
        {
         "line": {
          "color": "red"
         },
         "mode": "lines",
         "opacity": 0.3,
         "type": "scatter",
         "x": [
          0,
          1,
          2,
          3,
          4,
          5,
          6,
          7,
          8,
          9
         ],
         "y": [
          1.7142857142857142,
          0.8333333333333334,
          1.5625,
          1.3571428571428572,
          1.894736842105263,
          1.7222222222222223,
          1.65,
          1.5,
          0.9411764705882353,
          0.9444444444444444
         ]
        },
        {
         "line": {
          "color": "red"
         },
         "mode": "lines",
         "opacity": 0.3,
         "type": "scatter",
         "x": [
          0,
          1,
          2,
          3,
          4,
          5,
          6,
          7,
          8,
          9
         ],
         "y": [
          2.1538461538461537,
          1.6,
          2.0833333333333335,
          1.1428571428571428,
          0.8181818181818182,
          1.6923076923076923,
          1.3571428571428572,
          0.9047619047619048,
          0.9285714285714286,
          1.1153846153846154
         ]
        },
        {
         "line": {
          "color": "red"
         },
         "mode": "lines",
         "opacity": 0.3,
         "type": "scatter",
         "x": [
          0,
          1,
          2,
          3,
          4,
          5,
          6,
          7,
          8,
          9
         ],
         "y": [
          1.3,
          1.7,
          1.1875,
          1.8461538461538463,
          1.9090909090909092,
          1.3888888888888888,
          1.8888888888888888,
          1.0833333333333333,
          1.0909090909090908,
          1.0454545454545454
         ]
        },
        {
         "line": {
          "color": "red"
         },
         "mode": "lines",
         "opacity": 0.3,
         "type": "scatter",
         "x": [
          0,
          1,
          2,
          3,
          4,
          5,
          6,
          7,
          8,
          9
         ],
         "y": [
          1.625,
          1.75,
          1.6153846153846154,
          1.2,
          1.2666666666666666,
          1.1904761904761905,
          1.95,
          1.2941176470588236,
          1.6923076923076923,
          1
         ]
        },
        {
         "line": {
          "color": "red"
         },
         "mode": "lines",
         "opacity": 0.3,
         "type": "scatter",
         "x": [
          0,
          1,
          2,
          3,
          4,
          5,
          6,
          7,
          8,
          9
         ],
         "y": [
          1.9090909090909092,
          1.8,
          1.2857142857142858,
          2.1153846153846154,
          1.5172413793103448,
          1.5625,
          1.8181818181818181,
          1.4615384615384615,
          1.5789473684210527,
          1.0454545454545454
         ]
        },
        {
         "line": {
          "color": "red"
         },
         "mode": "lines",
         "opacity": 0.3,
         "type": "scatter",
         "x": [
          0,
          1,
          2,
          3,
          4,
          5,
          6,
          7,
          8,
          9
         ],
         "y": [
          2.1333333333333333,
          0.9230769230769231,
          2,
          0.8888888888888888,
          1,
          1.8888888888888888,
          1.5,
          1.9285714285714286,
          0.85,
          1.15
         ]
        },
        {
         "line": {
          "color": "red"
         },
         "mode": "lines",
         "opacity": 0.3,
         "type": "scatter",
         "x": [
          0,
          1,
          2,
          3,
          4,
          5,
          6,
          7,
          8,
          9
         ],
         "y": [
          0.7142857142857143,
          1.9166666666666667,
          1.6363636363636365,
          1.3529411764705883,
          1.4375,
          1.1428571428571428,
          1.5263157894736843,
          1.7894736842105263,
          1.5454545454545454,
          1.3333333333333333
         ]
        },
        {
         "line": {
          "color": "red"
         },
         "mode": "lines",
         "opacity": 0.3,
         "type": "scatter",
         "x": [
          0,
          1,
          2,
          3,
          4,
          5,
          6,
          7,
          8,
          9
         ],
         "y": [
          1.3636363636363635,
          1.75,
          2.7142857142857144,
          1.6,
          2.0625,
          1.35,
          2,
          1.7222222222222223,
          1.5909090909090908,
          1.2941176470588236
         ]
        },
        {
         "line": {
          "color": "red"
         },
         "mode": "lines",
         "opacity": 0.3,
         "type": "scatter",
         "x": [
          0,
          1,
          2,
          3,
          4,
          5,
          6,
          7,
          8,
          9
         ],
         "y": [
          1.5,
          1.625,
          1.5714285714285714,
          1.0714285714285714,
          1.6153846153846154,
          0.8181818181818182,
          0.8571428571428571,
          1.7272727272727273,
          1.85,
          1.0555555555555556
         ]
        },
        {
         "line": {
          "color": "red"
         },
         "mode": "lines",
         "opacity": 0.3,
         "type": "scatter",
         "x": [
          0,
          1,
          2,
          3,
          4,
          5,
          6,
          7,
          8,
          9
         ],
         "y": [
          1.4285714285714286,
          1.7692307692307692,
          2.15,
          2.210526315789474,
          2.0526315789473686,
          1.9166666666666667,
          1.5,
          1.5333333333333334,
          1.4285714285714286,
          1.3333333333333333
         ]
        },
        {
         "line": {
          "color": "red"
         },
         "mode": "lines",
         "opacity": 0.3,
         "type": "scatter",
         "x": [
          0,
          1,
          2,
          3,
          4,
          5,
          6,
          7,
          8,
          9
         ],
         "y": [
          1.1111111111111112,
          1.8571428571428572,
          1.1818181818181819,
          1.3157894736842106,
          1.1875,
          1,
          1.625,
          1.3888888888888888,
          1.3333333333333333,
          1.1
         ]
        },
        {
         "line": {
          "color": "red"
         },
         "mode": "lines",
         "opacity": 0.3,
         "type": "scatter",
         "x": [
          0,
          1,
          2,
          3,
          4,
          5,
          6,
          7,
          8,
          9
         ],
         "y": [
          2.2,
          1.375,
          1.7777777777777777,
          1.8,
          1.6666666666666667,
          1.9285714285714286,
          2.2777777777777777,
          1.3611111111111112,
          1.263157894736842,
          1.4545454545454546
         ]
        },
        {
         "line": {
          "color": "red"
         },
         "mode": "lines",
         "opacity": 0.3,
         "type": "scatter",
         "x": [
          0,
          1,
          2,
          3,
          4,
          5,
          6,
          7,
          8,
          9
         ],
         "y": [
          1.4666666666666666,
          2.176470588235294,
          2.2777777777777777,
          2.3157894736842106,
          1.0625,
          1.4705882352941178,
          1.15,
          1.9166666666666667,
          1.6666666666666667,
          1.1428571428571428
         ]
        },
        {
         "line": {
          "color": "red"
         },
         "mode": "lines",
         "opacity": 0.3,
         "type": "scatter",
         "x": [
          0,
          1,
          2,
          3,
          4,
          5,
          6,
          7,
          8,
          9
         ],
         "y": [
          2,
          2.4,
          1.4285714285714286,
          1.8125,
          1.6666666666666667,
          1.8666666666666667,
          1.8,
          2.210526315789474,
          0.8260869565217391,
          1.4230769230769231
         ]
        },
        {
         "line": {
          "color": "red"
         },
         "mode": "lines",
         "opacity": 0.3,
         "type": "scatter",
         "x": [
          0,
          1,
          2,
          3,
          4,
          5,
          6,
          7,
          8,
          9
         ],
         "y": [
          1.6923076923076923,
          1.9166666666666667,
          2.4285714285714284,
          1.7692307692307692,
          1.7777777777777777,
          1.2352941176470589,
          2,
          1.3478260869565217,
          0.8695652173913043,
          1.3636363636363635
         ]
        },
        {
         "line": {
          "color": "red"
         },
         "mode": "lines",
         "opacity": 0.3,
         "type": "scatter",
         "x": [
          0,
          1,
          2,
          3,
          4,
          5,
          6,
          7,
          8,
          9
         ],
         "y": [
          2.1,
          2,
          1.6428571428571428,
          1.8125,
          1.45,
          1.625,
          1.375,
          1.48,
          1.173913043478261,
          0.7894736842105263
         ]
        },
        {
         "line": {
          "color": "red"
         },
         "mode": "lines",
         "opacity": 0.3,
         "type": "scatter",
         "x": [
          0,
          1,
          2,
          3,
          4,
          5,
          6,
          7,
          8,
          9
         ],
         "y": [
          1.375,
          1.1111111111111112,
          1.7,
          2,
          1.9473684210526316,
          2.176470588235294,
          1.2105263157894737,
          0.8,
          1.4137931034482758,
          0.7391304347826086
         ]
        },
        {
         "line": {
          "color": "red"
         },
         "mode": "lines",
         "opacity": 0.3,
         "type": "scatter",
         "x": [
          0,
          1,
          2,
          3,
          4,
          5,
          6,
          7,
          8,
          9
         ],
         "y": [
          1,
          1.4666666666666666,
          2,
          1.4,
          2.176470588235294,
          0.7857142857142857,
          1.0454545454545454,
          1.4,
          1.1176470588235294,
          1.7826086956521738
         ]
        },
        {
         "line": {
          "color": "red"
         },
         "mode": "lines",
         "opacity": 0.3,
         "type": "scatter",
         "x": [
          0,
          1,
          2,
          3,
          4,
          5,
          6,
          7,
          8,
          9
         ],
         "y": [
          1.2857142857142858,
          1.7142857142857142,
          2.3333333333333335,
          1.9285714285714286,
          1.7391304347826086,
          1.1666666666666667,
          0.9411764705882353,
          1.5217391304347827,
          0.85,
          0.9
         ]
        },
        {
         "line": {
          "color": "red"
         },
         "mode": "lines",
         "opacity": 0.3,
         "type": "scatter",
         "x": [
          0,
          1,
          2,
          3,
          4,
          5,
          6,
          7,
          8,
          9
         ],
         "y": [
          1.4166666666666667,
          1.6666666666666667,
          2.375,
          1.9444444444444444,
          1.7692307692307692,
          1.7272727272727273,
          1.2941176470588236,
          1.9230769230769231,
          1.3571428571428572,
          1.2592592592592593
         ]
        },
        {
         "line": {
          "color": "red"
         },
         "mode": "lines",
         "opacity": 0.3,
         "type": "scatter",
         "x": [
          0,
          1,
          2,
          3,
          4,
          5,
          6,
          7,
          8,
          9
         ],
         "y": [
          1.7142857142857142,
          1.7272727272727273,
          1.6,
          2.125,
          1.9333333333333333,
          1.35,
          1.3888888888888888,
          0.8571428571428571,
          1.3793103448275863,
          1.3
         ]
        },
        {
         "line": {
          "color": "red"
         },
         "mode": "lines",
         "opacity": 0.3,
         "type": "scatter",
         "x": [
          0,
          1,
          2,
          3,
          4,
          5,
          6,
          7,
          8,
          9
         ],
         "y": [
          0.9,
          0.7,
          0.75,
          1.4285714285714286,
          1.6666666666666667,
          1.6,
          1.1333333333333333,
          1.1176470588235294,
          1.4,
          1.105263157894737
         ]
        },
        {
         "line": {
          "color": "red"
         },
         "mode": "lines",
         "opacity": 0.3,
         "type": "scatter",
         "x": [
          0,
          1,
          2,
          3,
          4,
          5,
          6,
          7,
          8,
          9
         ],
         "y": [
          2.6666666666666665,
          1.7,
          1.9230769230769231,
          1.3125,
          1.9166666666666667,
          1.75,
          1.6923076923076923,
          1.8333333333333333,
          1.4,
          1.4166666666666667
         ]
        },
        {
         "line": {
          "color": "red"
         },
         "mode": "lines",
         "opacity": 0.3,
         "type": "scatter",
         "x": [
          0,
          1,
          2,
          3,
          4,
          5,
          6,
          7,
          8,
          9
         ],
         "y": [
          2.227272727272727,
          1.5833333333333333,
          2.142857142857143,
          1.1818181818181819,
          1.75,
          2,
          1.8695652173913044,
          1.4545454545454546,
          1.3043478260869565,
          1.36
         ]
        },
        {
         "line": {
          "color": "red"
         },
         "mode": "lines",
         "opacity": 0.3,
         "type": "scatter",
         "x": [
          0,
          1,
          2,
          3,
          4,
          5,
          6,
          7,
          8,
          9
         ],
         "y": [
          0.875,
          1.7333333333333334,
          0.7777777777777778,
          1.1666666666666667,
          1.15,
          1.5555555555555556,
          1.7727272727272727,
          1.2272727272727273,
          0.75,
          1.3125
         ]
        },
        {
         "line": {
          "color": "red"
         },
         "mode": "lines",
         "opacity": 0.3,
         "type": "scatter",
         "x": [
          0,
          1,
          2,
          3,
          4,
          5,
          6,
          7,
          8,
          9
         ],
         "y": [
          1.8333333333333333,
          1.4615384615384615,
          1.6428571428571428,
          2,
          2.2,
          1.8636363636363635,
          2.1538461538461537,
          1.1666666666666667,
          1.0625,
          1
         ]
        },
        {
         "line": {
          "color": "red"
         },
         "mode": "lines",
         "opacity": 0.3,
         "type": "scatter",
         "x": [
          0,
          1,
          2,
          3,
          4,
          5,
          6,
          7,
          8,
          9
         ],
         "y": [
          1.3333333333333333,
          2.875,
          1.5,
          1.631578947368421,
          1.1666666666666667,
          1.4444444444444444,
          1.4782608695652173,
          2,
          1.0869565217391304,
          1
         ]
        },
        {
         "line": {
          "color": "red"
         },
         "mode": "lines",
         "opacity": 0.3,
         "type": "scatter",
         "x": [
          0,
          1,
          2,
          3,
          4,
          5,
          6,
          7,
          8,
          9
         ],
         "y": [
          1,
          1.5,
          2,
          1.6842105263157894,
          1.1111111111111112,
          1.4705882352941178,
          1.4736842105263157,
          1.2777777777777777,
          1.7,
          1.0454545454545454
         ]
        },
        {
         "line": {
          "color": "red"
         },
         "mode": "lines",
         "opacity": 0.3,
         "type": "scatter",
         "x": [
          0,
          1,
          2,
          3,
          4,
          5,
          6,
          7,
          8,
          9
         ],
         "y": [
          0.7142857142857143,
          2,
          1.6153846153846154,
          1.8,
          2,
          1.0952380952380953,
          2.0526315789473686,
          1.565217391304348,
          1.3333333333333333,
          1.15
         ]
        },
        {
         "line": {
          "color": "red"
         },
         "mode": "lines",
         "opacity": 0.3,
         "type": "scatter",
         "x": [
          0,
          1,
          2,
          3,
          4,
          5,
          6,
          7,
          8,
          9
         ],
         "y": [
          1.7,
          1.8333333333333333,
          1.2727272727272727,
          1.3,
          1.8333333333333333,
          1.368421052631579,
          1.6666666666666667,
          0.8666666666666667,
          1.5,
          0.9444444444444444
         ]
        },
        {
         "line": {
          "color": "red"
         },
         "mode": "lines",
         "opacity": 0.3,
         "type": "scatter",
         "x": [
          0,
          1,
          2,
          3,
          4,
          5,
          6,
          7,
          8,
          9
         ],
         "y": [
          2.2222222222222223,
          2.272727272727273,
          1.7647058823529411,
          1.3333333333333333,
          1.4666666666666666,
          1.631578947368421,
          1.7727272727272727,
          1,
          1.1904761904761905,
          1.6666666666666667
         ]
        },
        {
         "line": {
          "color": "red"
         },
         "mode": "lines",
         "opacity": 0.3,
         "type": "scatter",
         "x": [
          0,
          1,
          2,
          3,
          4,
          5,
          6,
          7,
          8,
          9
         ],
         "y": [
          1.6,
          1.4545454545454546,
          1.2941176470588236,
          1.5,
          1.6818181818181819,
          1.2,
          1.375,
          1.3333333333333333,
          1.0833333333333333,
          1.1923076923076923
         ]
        },
        {
         "line": {
          "color": "red"
         },
         "mode": "lines",
         "opacity": 0.3,
         "type": "scatter",
         "x": [
          0,
          1,
          2,
          3,
          4,
          5,
          6,
          7,
          8,
          9
         ],
         "y": [
          0.42857142857142855,
          2.3636363636363638,
          1.25,
          2.176470588235294,
          2.5294117647058822,
          1.7333333333333334,
          1.2222222222222223,
          1.608695652173913,
          1.3478260869565217,
          0.9545454545454546
         ]
        },
        {
         "line": {
          "color": "red"
         },
         "mode": "lines",
         "opacity": 0.3,
         "type": "scatter",
         "x": [
          0,
          1,
          2,
          3,
          4,
          5,
          6,
          7,
          8,
          9
         ],
         "y": [
          1.625,
          2.5384615384615383,
          1.6153846153846154,
          0.7692307692307693,
          1.3333333333333333,
          1.0526315789473684,
          1.7222222222222223,
          1.4,
          1.5909090909090908,
          1.0952380952380953
         ]
        },
        {
         "line": {
          "color": "red"
         },
         "mode": "lines",
         "opacity": 0.3,
         "type": "scatter",
         "x": [
          0,
          1,
          2,
          3,
          4,
          5,
          6,
          7,
          8,
          9
         ],
         "y": [
          1.8181818181818181,
          1.4615384615384615,
          2.0952380952380953,
          1.875,
          1.5,
          1.0454545454545454,
          1.3043478260869565,
          1.2380952380952381,
          1.2727272727272727,
          1
         ]
        },
        {
         "line": {
          "color": "red"
         },
         "mode": "lines",
         "opacity": 0.3,
         "type": "scatter",
         "x": [
          0,
          1,
          2,
          3,
          4,
          5,
          6,
          7,
          8,
          9
         ],
         "y": [
          1.8181818181818181,
          1.5294117647058822,
          2.272727272727273,
          1.9333333333333333,
          1.5333333333333334,
          1.1176470588235294,
          1.894736842105263,
          1.5625,
          1.0769230769230769,
          1.2083333333333333
         ]
        },
        {
         "line": {
          "color": "red"
         },
         "mode": "lines",
         "opacity": 0.3,
         "type": "scatter",
         "x": [
          0,
          1,
          2,
          3,
          4,
          5,
          6,
          7,
          8,
          9
         ],
         "y": [
          0.3333333333333333,
          2.3846153846153846,
          2.5454545454545454,
          1.2352941176470589,
          1.3125,
          1.5555555555555556,
          1.8518518518518519,
          1.4736842105263157,
          1.9285714285714286,
          0.8421052631578947
         ]
        },
        {
         "line": {
          "color": "red"
         },
         "mode": "lines",
         "opacity": 0.3,
         "type": "scatter",
         "x": [
          0,
          1,
          2,
          3,
          4,
          5,
          6,
          7,
          8,
          9
         ],
         "y": [
          2.0833333333333335,
          1.7272727272727273,
          1.1428571428571428,
          1.6842105263157894,
          2,
          1.5217391304347827,
          1.2380952380952381,
          1.5909090909090908,
          0.8125,
          0.9615384615384616
         ]
        },
        {
         "line": {
          "color": "red"
         },
         "mode": "lines",
         "opacity": 0.3,
         "type": "scatter",
         "x": [
          0,
          1,
          2,
          3,
          4,
          5,
          6,
          7,
          8,
          9
         ],
         "y": [
          0.9090909090909091,
          0.7,
          1.5,
          1.5714285714285714,
          2,
          1.2352941176470589,
          1.1333333333333333,
          1.25,
          1.5217391304347827,
          1
         ]
        },
        {
         "line": {
          "color": "red"
         },
         "mode": "lines",
         "opacity": 0.3,
         "type": "scatter",
         "x": [
          0,
          1,
          2,
          3,
          4,
          5,
          6,
          7,
          8,
          9
         ],
         "y": [
          0.9090909090909091,
          2,
          2.5,
          2.5714285714285716,
          1.8571428571428572,
          1.3333333333333333,
          1,
          2.111111111111111,
          1.2380952380952381,
          0.7333333333333333
         ]
        },
        {
         "line": {
          "color": "red"
         },
         "mode": "lines",
         "opacity": 0.3,
         "type": "scatter",
         "x": [
          0,
          1,
          2,
          3,
          4,
          5,
          6,
          7,
          8,
          9
         ],
         "y": [
          1.8181818181818181,
          1.3888888888888888,
          0.6363636363636364,
          1.8333333333333333,
          1.125,
          1.588235294117647,
          1.3125,
          1.6111111111111112,
          1.173913043478261,
          1.380952380952381
         ]
        },
        {
         "line": {
          "color": "red"
         },
         "mode": "lines",
         "opacity": 0.3,
         "type": "scatter",
         "x": [
          0,
          1,
          2,
          3,
          4,
          5,
          6,
          7,
          8,
          9
         ],
         "y": [
          1.9090909090909092,
          1,
          1.2,
          1.0625,
          1.5,
          2.25,
          1.105263157894737,
          1.7222222222222223,
          1.2666666666666666,
          1.3333333333333333
         ]
        },
        {
         "line": {
          "color": "red"
         },
         "mode": "lines",
         "opacity": 0.3,
         "type": "scatter",
         "x": [
          0,
          1,
          2,
          3,
          4,
          5,
          6,
          7,
          8,
          9
         ],
         "y": [
          0.6666666666666666,
          1.8888888888888888,
          2.076923076923077,
          2.7777777777777777,
          2.0625,
          1.875,
          1.894736842105263,
          1.875,
          1.2105263157894737,
          1.1578947368421053
         ]
        },
        {
         "line": {
          "color": "red"
         },
         "mode": "lines",
         "opacity": 0.3,
         "type": "scatter",
         "x": [
          0,
          1,
          2,
          3,
          4,
          5,
          6,
          7,
          8,
          9
         ],
         "y": [
          1.2222222222222223,
          1.75,
          1.875,
          1.6363636363636365,
          1.3888888888888888,
          2.357142857142857,
          2.125,
          1.411764705882353,
          1.2083333333333333,
          0.8571428571428571
         ]
        },
        {
         "line": {
          "color": "red"
         },
         "mode": "lines",
         "opacity": 0.3,
         "type": "scatter",
         "x": [
          0,
          1,
          2,
          3,
          4,
          5,
          6,
          7,
          8,
          9
         ],
         "y": [
          1.3333333333333333,
          1.9090909090909092,
          2.0833333333333335,
          2.05,
          2,
          2.3333333333333335,
          2.1176470588235294,
          1.3571428571428572,
          1.3,
          1.6
         ]
        },
        {
         "line": {
          "color": "red"
         },
         "mode": "lines",
         "opacity": 0.3,
         "type": "scatter",
         "x": [
          0,
          1,
          2,
          3,
          4,
          5,
          6,
          7,
          8,
          9
         ],
         "y": [
          0.8,
          2.7142857142857144,
          1.3076923076923077,
          1.631578947368421,
          1.0625,
          1.5263157894736843,
          0.9090909090909091,
          1.6,
          1.037037037037037,
          1.263157894736842
         ]
        },
        {
         "line": {
          "color": "red"
         },
         "mode": "lines",
         "opacity": 0.3,
         "type": "scatter",
         "x": [
          0,
          1,
          2,
          3,
          4,
          5,
          6,
          7,
          8,
          9
         ],
         "y": [
          1.7272727272727273,
          1.6428571428571428,
          2.75,
          2.066666666666667,
          1.0666666666666667,
          1.3888888888888888,
          1.5769230769230769,
          1.5555555555555556,
          0.8571428571428571,
          1.588235294117647
         ]
        },
        {
         "line": {
          "color": "red"
         },
         "mode": "lines",
         "opacity": 0.3,
         "type": "scatter",
         "x": [
          0,
          1,
          2,
          3,
          4,
          5,
          6,
          7,
          8,
          9
         ],
         "y": [
          1,
          1.6666666666666667,
          3.5,
          1.6666666666666667,
          1.8,
          1.375,
          1.7142857142857142,
          1.2692307692307692,
          1.5,
          1.2727272727272727
         ]
        },
        {
         "line": {
          "color": "red"
         },
         "mode": "lines",
         "opacity": 0.3,
         "type": "scatter",
         "x": [
          0,
          1,
          2,
          3,
          4,
          5,
          6,
          7,
          8,
          9
         ],
         "y": [
          2.3846153846153846,
          1.875,
          1.2307692307692308,
          1.6,
          1.4615384615384615,
          1.75,
          1.0526315789473684,
          1.4736842105263157,
          1,
          1.2666666666666666
         ]
        },
        {
         "line": {
          "color": "red"
         },
         "mode": "lines",
         "opacity": 0.3,
         "type": "scatter",
         "x": [
          0,
          1,
          2,
          3,
          4,
          5,
          6,
          7,
          8,
          9
         ],
         "y": [
          1.7142857142857142,
          1.1,
          1.619047619047619,
          1.7894736842105263,
          1.0714285714285714,
          0.9166666666666666,
          1.3888888888888888,
          1.2,
          1.45,
          0.8095238095238095
         ]
        },
        {
         "line": {
          "color": "red"
         },
         "mode": "lines",
         "opacity": 0.3,
         "type": "scatter",
         "x": [
          0,
          1,
          2,
          3,
          4,
          5,
          6,
          7,
          8,
          9
         ],
         "y": [
          1.625,
          1.4,
          1.8,
          2.2142857142857144,
          1.8076923076923077,
          2.04,
          1.5555555555555556,
          2.0606060606060606,
          1.6,
          0.967741935483871
         ]
        },
        {
         "line": {
          "color": "red"
         },
         "mode": "lines",
         "opacity": 0.3,
         "type": "scatter",
         "x": [
          0,
          1,
          2,
          3,
          4,
          5,
          6,
          7,
          8,
          9
         ],
         "y": [
          1.4285714285714286,
          2.1,
          1.3333333333333333,
          1.8888888888888888,
          1.3,
          1.1818181818181819,
          1.9411764705882353,
          1.4761904761904763,
          0.8125,
          1.3703703703703705
         ]
        },
        {
         "line": {
          "color": "red"
         },
         "mode": "lines",
         "opacity": 0.3,
         "type": "scatter",
         "x": [
          0,
          1,
          2,
          3,
          4,
          5,
          6,
          7,
          8,
          9
         ],
         "y": [
          1.4285714285714286,
          1.9090909090909092,
          1.3333333333333333,
          1.9230769230769231,
          1.6153846153846154,
          2,
          0.8888888888888888,
          1.631578947368421,
          1.5263157894736843,
          1.1304347826086956
         ]
        },
        {
         "line": {
          "color": "red"
         },
         "mode": "lines",
         "opacity": 0.3,
         "type": "scatter",
         "x": [
          0,
          1,
          2,
          3,
          4,
          5,
          6,
          7,
          8,
          9
         ],
         "y": [
          1.8888888888888888,
          1.5555555555555556,
          0.7272727272727273,
          1.7333333333333334,
          1,
          1.65,
          2,
          1.1176470588235294,
          1.5,
          1.2380952380952381
         ]
        },
        {
         "line": {
          "color": "red"
         },
         "mode": "lines",
         "opacity": 0.3,
         "type": "scatter",
         "x": [
          0,
          1,
          2,
          3,
          4,
          5,
          6,
          7,
          8,
          9
         ],
         "y": [
          1.3333333333333333,
          1.1428571428571428,
          1,
          2.25,
          1.5789473684210527,
          1.5714285714285714,
          1.0689655172413792,
          1.84,
          1.105263157894737,
          0.75
         ]
        },
        {
         "line": {
          "color": "red"
         },
         "mode": "lines",
         "opacity": 0.3,
         "type": "scatter",
         "x": [
          0,
          1,
          2,
          3,
          4,
          5,
          6,
          7,
          8,
          9
         ],
         "y": [
          1.4545454545454546,
          2.142857142857143,
          1.3636363636363635,
          1.5789473684210527,
          1.6875,
          1.9230769230769231,
          1.5,
          1.1904761904761905,
          1.2307692307692308,
          1.4285714285714286
         ]
        },
        {
         "line": {
          "color": "red"
         },
         "mode": "lines",
         "opacity": 0.3,
         "type": "scatter",
         "x": [
          0,
          1,
          2,
          3,
          4,
          5,
          6,
          7,
          8,
          9
         ],
         "y": [
          1.8333333333333333,
          2.142857142857143,
          1.25,
          0.7,
          1.4375,
          1.6111111111111112,
          1.4736842105263157,
          1.0588235294117647,
          1.3636363636363635,
          0.75
         ]
        },
        {
         "line": {
          "color": "red"
         },
         "mode": "lines",
         "opacity": 0.3,
         "type": "scatter",
         "x": [
          0,
          1,
          2,
          3,
          4,
          5,
          6,
          7,
          8,
          9
         ],
         "y": [
          1.2,
          1.9230769230769231,
          1.5789473684210527,
          2.8666666666666667,
          1.9444444444444444,
          1.85,
          1.7222222222222223,
          1.65,
          1.2,
          0.9428571428571428
         ]
        },
        {
         "line": {
          "color": "red"
         },
         "mode": "lines",
         "opacity": 0.3,
         "type": "scatter",
         "x": [
          0,
          1,
          2,
          3,
          4,
          5,
          6,
          7,
          8,
          9
         ],
         "y": [
          1.4166666666666667,
          1.3333333333333333,
          2.3333333333333335,
          1.2307692307692308,
          1.9230769230769231,
          1.1,
          1.2307692307692308,
          1.25,
          0.8333333333333334,
          1.5862068965517242
         ]
        },
        {
         "line": {
          "color": "red"
         },
         "mode": "lines",
         "opacity": 0.3,
         "type": "scatter",
         "x": [
          0,
          1,
          2,
          3,
          4,
          5,
          6,
          7,
          8,
          9
         ],
         "y": [
          1.8333333333333333,
          2,
          1.3333333333333333,
          1.3076923076923077,
          1.3157894736842106,
          1.7857142857142858,
          1.434782608695652,
          1.3333333333333333,
          1.7,
          1.3478260869565217
         ]
        },
        {
         "line": {
          "color": "red"
         },
         "mode": "lines",
         "opacity": 0.3,
         "type": "scatter",
         "x": [
          0,
          1,
          2,
          3,
          4,
          5,
          6,
          7,
          8,
          9
         ],
         "y": [
          1.1818181818181819,
          1.625,
          1.2105263157894737,
          1.8333333333333333,
          1.1176470588235294,
          0.7692307692307693,
          1.6,
          1.3333333333333333,
          1.2222222222222223,
          0.8571428571428571
         ]
        },
        {
         "line": {
          "color": "red"
         },
         "mode": "lines",
         "opacity": 0.3,
         "type": "scatter",
         "x": [
          0,
          1,
          2,
          3,
          4,
          5,
          6,
          7,
          8,
          9
         ],
         "y": [
          1.4444444444444444,
          1.75,
          1.5,
          2.2222222222222223,
          1.1875,
          1.8,
          1.2777777777777777,
          1.25,
          1.1666666666666667,
          1.3478260869565217
         ]
        },
        {
         "line": {
          "color": "red"
         },
         "mode": "lines",
         "opacity": 0.3,
         "type": "scatter",
         "x": [
          0,
          1,
          2,
          3,
          4,
          5,
          6,
          7,
          8,
          9
         ],
         "y": [
          1.6666666666666667,
          1.6428571428571428,
          1.8666666666666667,
          1.7058823529411764,
          2.4615384615384617,
          1.6111111111111112,
          1.25,
          1.1538461538461537,
          1.4782608695652173,
          1.4090909090909092
         ]
        },
        {
         "line": {
          "color": "red"
         },
         "mode": "lines",
         "opacity": 0.3,
         "type": "scatter",
         "x": [
          0,
          1,
          2,
          3,
          4,
          5,
          6,
          7,
          8,
          9
         ],
         "y": [
          2.5714285714285716,
          1.0909090909090908,
          1.7222222222222223,
          1.4,
          2.75,
          1.2173913043478262,
          2.227272727272727,
          1.8518518518518519,
          1.2608695652173914,
          1.1071428571428572
         ]
        },
        {
         "line": {
          "color": "red"
         },
         "mode": "lines",
         "opacity": 0.3,
         "type": "scatter",
         "x": [
          0,
          1,
          2,
          3,
          4,
          5,
          6,
          7,
          8,
          9
         ],
         "y": [
          2.3,
          1,
          2,
          1.3125,
          2.3333333333333335,
          1.9411764705882353,
          2.142857142857143,
          1.263157894736842,
          0.8947368421052632,
          1.0526315789473684
         ]
        },
        {
         "line": {
          "color": "red"
         },
         "mode": "lines",
         "opacity": 0.3,
         "type": "scatter",
         "x": [
          0,
          1,
          2,
          3,
          4,
          5,
          6,
          7,
          8,
          9
         ],
         "y": [
          1.875,
          0.6153846153846154,
          1,
          1.5,
          2,
          1.5555555555555556,
          2,
          1.2105263157894737,
          1.4,
          0.8
         ]
        },
        {
         "line": {
          "color": "red"
         },
         "mode": "lines",
         "opacity": 0.3,
         "type": "scatter",
         "x": [
          0,
          1,
          2,
          3,
          4,
          5,
          6,
          7,
          8,
          9
         ],
         "y": [
          2.4166666666666665,
          1.1666666666666667,
          1.3636363636363635,
          1.8571428571428572,
          1.3888888888888888,
          1.4705882352941178,
          1.0526315789473684,
          1.5833333333333333,
          1.7619047619047619,
          1.3333333333333333
         ]
        },
        {
         "line": {
          "color": "red"
         },
         "mode": "lines",
         "opacity": 0.3,
         "type": "scatter",
         "x": [
          0,
          1,
          2,
          3,
          4,
          5,
          6,
          7,
          8,
          9
         ],
         "y": [
          1.6363636363636365,
          1.8571428571428572,
          1.5333333333333334,
          1.5384615384615385,
          1.2307692307692308,
          1.1333333333333333,
          1.125,
          0.7142857142857143,
          1.2352941176470589,
          1.3125
         ]
        },
        {
         "line": {
          "color": "red"
         },
         "mode": "lines",
         "opacity": 0.3,
         "type": "scatter",
         "x": [
          0,
          1,
          2,
          3,
          4,
          5,
          6,
          7,
          8,
          9
         ],
         "y": [
          1.8333333333333333,
          1.1,
          1.6111111111111112,
          1.1578947368421053,
          1.6,
          1.5789473684210527,
          1.6923076923076923,
          1.2727272727272727,
          1.4166666666666667,
          1.2777777777777777
         ]
        },
        {
         "line": {
          "color": "red"
         },
         "mode": "lines",
         "opacity": 0.3,
         "type": "scatter",
         "x": [
          0,
          1,
          2,
          3,
          4,
          5,
          6,
          7,
          8,
          9
         ],
         "y": [
          1.1176470588235294,
          1.375,
          3.2857142857142856,
          1.8333333333333333,
          1.6,
          1.5,
          1.5333333333333334,
          1.375,
          1.1578947368421053,
          1.0526315789473684
         ]
        },
        {
         "line": {
          "color": "red"
         },
         "mode": "lines",
         "opacity": 0.3,
         "type": "scatter",
         "x": [
          0,
          1,
          2,
          3,
          4,
          5,
          6,
          7,
          8,
          9
         ],
         "y": [
          2.8333333333333335,
          2.357142857142857,
          1.9285714285714286,
          2.2666666666666666,
          1.6,
          2.0555555555555554,
          1.4285714285714286,
          1.0952380952380953,
          1.896551724137931,
          1.5789473684210527
         ]
        },
        {
         "line": {
          "color": "red"
         },
         "mode": "lines",
         "opacity": 0.3,
         "type": "scatter",
         "x": [
          0,
          1,
          2,
          3,
          4,
          5,
          6,
          7,
          8,
          9
         ],
         "y": [
          1.875,
          1.5714285714285714,
          1.7826086956521738,
          1.5333333333333334,
          2,
          1.2777777777777777,
          1.4444444444444444,
          1.2173913043478262,
          1.2105263157894737,
          1
         ]
        },
        {
         "line": {
          "color": "red"
         },
         "mode": "lines",
         "opacity": 0.3,
         "type": "scatter",
         "x": [
          0,
          1,
          2,
          3,
          4,
          5,
          6,
          7,
          8,
          9
         ],
         "y": [
          2.25,
          2.3125,
          1.3846153846153846,
          1.2222222222222223,
          1.4761904761904763,
          1.4285714285714286,
          2.217391304347826,
          1.5238095238095237,
          1.5714285714285714,
          1.5357142857142858
         ]
        },
        {
         "line": {
          "color": "red"
         },
         "mode": "lines",
         "opacity": 0.3,
         "type": "scatter",
         "x": [
          0,
          1,
          2,
          3,
          4,
          5,
          6,
          7,
          8,
          9
         ],
         "y": [
          2.2857142857142856,
          1.9166666666666667,
          1.6428571428571428,
          1.0555555555555556,
          1.5,
          2.0454545454545454,
          1.3461538461538463,
          1.2857142857142858,
          1.0740740740740742,
          0.8125
         ]
        },
        {
         "line": {
          "color": "red"
         },
         "mode": "lines",
         "opacity": 0.3,
         "type": "scatter",
         "x": [
          0,
          1,
          2,
          3,
          4,
          5,
          6,
          7,
          8,
          9
         ],
         "y": [
          0.8888888888888888,
          1.1428571428571428,
          1.3846153846153846,
          1.6,
          1.9375,
          2.272727272727273,
          1.4666666666666666,
          1,
          0.46153846153846156,
          1.5555555555555556
         ]
        },
        {
         "line": {
          "color": "red"
         },
         "mode": "lines",
         "opacity": 0.3,
         "type": "scatter",
         "x": [
          0,
          1,
          2,
          3,
          4,
          5,
          6,
          7,
          8,
          9
         ],
         "y": [
          1.5454545454545454,
          1.4444444444444444,
          1.625,
          1.5833333333333333,
          1.4285714285714286,
          2.375,
          1,
          1.4375,
          1.2,
          1.0555555555555556
         ]
        },
        {
         "line": {
          "color": "red"
         },
         "mode": "lines",
         "opacity": 0.3,
         "type": "scatter",
         "x": [
          0,
          1,
          2,
          3,
          4,
          5,
          6,
          7,
          8,
          9
         ],
         "y": [
          1.3333333333333333,
          2.1818181818181817,
          1.4545454545454546,
          1.1818181818181819,
          2.5,
          1.3636363636363635,
          1.8333333333333333,
          1.3,
          1.3157894736842106,
          1.3846153846153846
         ]
        },
        {
         "line": {
          "color": "red"
         },
         "mode": "lines",
         "opacity": 0.3,
         "type": "scatter",
         "x": [
          0,
          1,
          2,
          3,
          4,
          5,
          6,
          7,
          8,
          9
         ],
         "y": [
          2.4444444444444446,
          1.8333333333333333,
          1.7692307692307692,
          0.6923076923076923,
          2.217391304347826,
          1.7037037037037037,
          0.9,
          1.3478260869565217,
          1.6111111111111112,
          1.1538461538461537
         ]
        },
        {
         "line": {
          "color": "red"
         },
         "mode": "lines",
         "opacity": 0.3,
         "type": "scatter",
         "x": [
          0,
          1,
          2,
          3,
          4,
          5,
          6,
          7,
          8,
          9
         ],
         "y": [
          1.5,
          1.2,
          1.8235294117647058,
          1.9444444444444444,
          1.4761904761904763,
          1.6470588235294117,
          2.1052631578947367,
          1.0476190476190477,
          1.3636363636363635,
          0.8095238095238095
         ]
        },
        {
         "line": {
          "color": "red"
         },
         "mode": "lines",
         "opacity": 0.3,
         "type": "scatter",
         "x": [
          0,
          1,
          2,
          3,
          4,
          5,
          6,
          7,
          8,
          9
         ],
         "y": [
          1.8,
          1.9,
          2,
          1.4736842105263157,
          1.5806451612903225,
          1.7727272727272727,
          0.8695652173913043,
          1.4166666666666667,
          1.72,
          1.1363636363636365
         ]
        },
        {
         "line": {
          "color": "black"
         },
         "mode": "markers+lines",
         "opacity": 0.7,
         "type": "scatter",
         "x": [
          0,
          1,
          2,
          3,
          4,
          5,
          6,
          7,
          8,
          9
         ],
         "y": [
          1.6332349676467328,
          1.6637851388807274,
          1.7363447472607856,
          1.6562976407837093,
          1.6154389391019972,
          1.5715487611970251,
          1.5080121434831242,
          1.462535002437674,
          1.2949549853908735,
          1.1921133191598938
         ]
        }
       ],
       "layout": {
        "template": {
         "data": {
          "bar": [
           {
            "error_x": {
             "color": "#2a3f5f"
            },
            "error_y": {
             "color": "#2a3f5f"
            },
            "marker": {
             "line": {
              "color": "#E5ECF6",
              "width": 0.5
             }
            },
            "type": "bar"
           }
          ],
          "barpolar": [
           {
            "marker": {
             "line": {
              "color": "#E5ECF6",
              "width": 0.5
             }
            },
            "type": "barpolar"
           }
          ],
          "carpet": [
           {
            "aaxis": {
             "endlinecolor": "#2a3f5f",
             "gridcolor": "white",
             "linecolor": "white",
             "minorgridcolor": "white",
             "startlinecolor": "#2a3f5f"
            },
            "baxis": {
             "endlinecolor": "#2a3f5f",
             "gridcolor": "white",
             "linecolor": "white",
             "minorgridcolor": "white",
             "startlinecolor": "#2a3f5f"
            },
            "type": "carpet"
           }
          ],
          "choropleth": [
           {
            "colorbar": {
             "outlinewidth": 0,
             "ticks": ""
            },
            "type": "choropleth"
           }
          ],
          "contour": [
           {
            "colorbar": {
             "outlinewidth": 0,
             "ticks": ""
            },
            "colorscale": [
             [
              0,
              "#0d0887"
             ],
             [
              0.1111111111111111,
              "#46039f"
             ],
             [
              0.2222222222222222,
              "#7201a8"
             ],
             [
              0.3333333333333333,
              "#9c179e"
             ],
             [
              0.4444444444444444,
              "#bd3786"
             ],
             [
              0.5555555555555556,
              "#d8576b"
             ],
             [
              0.6666666666666666,
              "#ed7953"
             ],
             [
              0.7777777777777778,
              "#fb9f3a"
             ],
             [
              0.8888888888888888,
              "#fdca26"
             ],
             [
              1,
              "#f0f921"
             ]
            ],
            "type": "contour"
           }
          ],
          "contourcarpet": [
           {
            "colorbar": {
             "outlinewidth": 0,
             "ticks": ""
            },
            "type": "contourcarpet"
           }
          ],
          "heatmap": [
           {
            "colorbar": {
             "outlinewidth": 0,
             "ticks": ""
            },
            "colorscale": [
             [
              0,
              "#0d0887"
             ],
             [
              0.1111111111111111,
              "#46039f"
             ],
             [
              0.2222222222222222,
              "#7201a8"
             ],
             [
              0.3333333333333333,
              "#9c179e"
             ],
             [
              0.4444444444444444,
              "#bd3786"
             ],
             [
              0.5555555555555556,
              "#d8576b"
             ],
             [
              0.6666666666666666,
              "#ed7953"
             ],
             [
              0.7777777777777778,
              "#fb9f3a"
             ],
             [
              0.8888888888888888,
              "#fdca26"
             ],
             [
              1,
              "#f0f921"
             ]
            ],
            "type": "heatmap"
           }
          ],
          "heatmapgl": [
           {
            "colorbar": {
             "outlinewidth": 0,
             "ticks": ""
            },
            "colorscale": [
             [
              0,
              "#0d0887"
             ],
             [
              0.1111111111111111,
              "#46039f"
             ],
             [
              0.2222222222222222,
              "#7201a8"
             ],
             [
              0.3333333333333333,
              "#9c179e"
             ],
             [
              0.4444444444444444,
              "#bd3786"
             ],
             [
              0.5555555555555556,
              "#d8576b"
             ],
             [
              0.6666666666666666,
              "#ed7953"
             ],
             [
              0.7777777777777778,
              "#fb9f3a"
             ],
             [
              0.8888888888888888,
              "#fdca26"
             ],
             [
              1,
              "#f0f921"
             ]
            ],
            "type": "heatmapgl"
           }
          ],
          "histogram": [
           {
            "marker": {
             "colorbar": {
              "outlinewidth": 0,
              "ticks": ""
             }
            },
            "type": "histogram"
           }
          ],
          "histogram2d": [
           {
            "colorbar": {
             "outlinewidth": 0,
             "ticks": ""
            },
            "colorscale": [
             [
              0,
              "#0d0887"
             ],
             [
              0.1111111111111111,
              "#46039f"
             ],
             [
              0.2222222222222222,
              "#7201a8"
             ],
             [
              0.3333333333333333,
              "#9c179e"
             ],
             [
              0.4444444444444444,
              "#bd3786"
             ],
             [
              0.5555555555555556,
              "#d8576b"
             ],
             [
              0.6666666666666666,
              "#ed7953"
             ],
             [
              0.7777777777777778,
              "#fb9f3a"
             ],
             [
              0.8888888888888888,
              "#fdca26"
             ],
             [
              1,
              "#f0f921"
             ]
            ],
            "type": "histogram2d"
           }
          ],
          "histogram2dcontour": [
           {
            "colorbar": {
             "outlinewidth": 0,
             "ticks": ""
            },
            "colorscale": [
             [
              0,
              "#0d0887"
             ],
             [
              0.1111111111111111,
              "#46039f"
             ],
             [
              0.2222222222222222,
              "#7201a8"
             ],
             [
              0.3333333333333333,
              "#9c179e"
             ],
             [
              0.4444444444444444,
              "#bd3786"
             ],
             [
              0.5555555555555556,
              "#d8576b"
             ],
             [
              0.6666666666666666,
              "#ed7953"
             ],
             [
              0.7777777777777778,
              "#fb9f3a"
             ],
             [
              0.8888888888888888,
              "#fdca26"
             ],
             [
              1,
              "#f0f921"
             ]
            ],
            "type": "histogram2dcontour"
           }
          ],
          "mesh3d": [
           {
            "colorbar": {
             "outlinewidth": 0,
             "ticks": ""
            },
            "type": "mesh3d"
           }
          ],
          "parcoords": [
           {
            "line": {
             "colorbar": {
              "outlinewidth": 0,
              "ticks": ""
             }
            },
            "type": "parcoords"
           }
          ],
          "pie": [
           {
            "automargin": true,
            "type": "pie"
           }
          ],
          "scatter": [
           {
            "marker": {
             "colorbar": {
              "outlinewidth": 0,
              "ticks": ""
             }
            },
            "type": "scatter"
           }
          ],
          "scatter3d": [
           {
            "line": {
             "colorbar": {
              "outlinewidth": 0,
              "ticks": ""
             }
            },
            "marker": {
             "colorbar": {
              "outlinewidth": 0,
              "ticks": ""
             }
            },
            "type": "scatter3d"
           }
          ],
          "scattercarpet": [
           {
            "marker": {
             "colorbar": {
              "outlinewidth": 0,
              "ticks": ""
             }
            },
            "type": "scattercarpet"
           }
          ],
          "scattergeo": [
           {
            "marker": {
             "colorbar": {
              "outlinewidth": 0,
              "ticks": ""
             }
            },
            "type": "scattergeo"
           }
          ],
          "scattergl": [
           {
            "marker": {
             "colorbar": {
              "outlinewidth": 0,
              "ticks": ""
             }
            },
            "type": "scattergl"
           }
          ],
          "scattermapbox": [
           {
            "marker": {
             "colorbar": {
              "outlinewidth": 0,
              "ticks": ""
             }
            },
            "type": "scattermapbox"
           }
          ],
          "scatterpolar": [
           {
            "marker": {
             "colorbar": {
              "outlinewidth": 0,
              "ticks": ""
             }
            },
            "type": "scatterpolar"
           }
          ],
          "scatterpolargl": [
           {
            "marker": {
             "colorbar": {
              "outlinewidth": 0,
              "ticks": ""
             }
            },
            "type": "scatterpolargl"
           }
          ],
          "scatterternary": [
           {
            "marker": {
             "colorbar": {
              "outlinewidth": 0,
              "ticks": ""
             }
            },
            "type": "scatterternary"
           }
          ],
          "surface": [
           {
            "colorbar": {
             "outlinewidth": 0,
             "ticks": ""
            },
            "colorscale": [
             [
              0,
              "#0d0887"
             ],
             [
              0.1111111111111111,
              "#46039f"
             ],
             [
              0.2222222222222222,
              "#7201a8"
             ],
             [
              0.3333333333333333,
              "#9c179e"
             ],
             [
              0.4444444444444444,
              "#bd3786"
             ],
             [
              0.5555555555555556,
              "#d8576b"
             ],
             [
              0.6666666666666666,
              "#ed7953"
             ],
             [
              0.7777777777777778,
              "#fb9f3a"
             ],
             [
              0.8888888888888888,
              "#fdca26"
             ],
             [
              1,
              "#f0f921"
             ]
            ],
            "type": "surface"
           }
          ],
          "table": [
           {
            "cells": {
             "fill": {
              "color": "#EBF0F8"
             },
             "line": {
              "color": "white"
             }
            },
            "header": {
             "fill": {
              "color": "#C8D4E3"
             },
             "line": {
              "color": "white"
             }
            },
            "type": "table"
           }
          ]
         },
         "layout": {
          "annotationdefaults": {
           "arrowcolor": "#2a3f5f",
           "arrowhead": 0,
           "arrowwidth": 1
          },
          "coloraxis": {
           "colorbar": {
            "outlinewidth": 0,
            "ticks": ""
           }
          },
          "colorscale": {
           "diverging": [
            [
             0,
             "#8e0152"
            ],
            [
             0.1,
             "#c51b7d"
            ],
            [
             0.2,
             "#de77ae"
            ],
            [
             0.3,
             "#f1b6da"
            ],
            [
             0.4,
             "#fde0ef"
            ],
            [
             0.5,
             "#f7f7f7"
            ],
            [
             0.6,
             "#e6f5d0"
            ],
            [
             0.7,
             "#b8e186"
            ],
            [
             0.8,
             "#7fbc41"
            ],
            [
             0.9,
             "#4d9221"
            ],
            [
             1,
             "#276419"
            ]
           ],
           "sequential": [
            [
             0,
             "#0d0887"
            ],
            [
             0.1111111111111111,
             "#46039f"
            ],
            [
             0.2222222222222222,
             "#7201a8"
            ],
            [
             0.3333333333333333,
             "#9c179e"
            ],
            [
             0.4444444444444444,
             "#bd3786"
            ],
            [
             0.5555555555555556,
             "#d8576b"
            ],
            [
             0.6666666666666666,
             "#ed7953"
            ],
            [
             0.7777777777777778,
             "#fb9f3a"
            ],
            [
             0.8888888888888888,
             "#fdca26"
            ],
            [
             1,
             "#f0f921"
            ]
           ],
           "sequentialminus": [
            [
             0,
             "#0d0887"
            ],
            [
             0.1111111111111111,
             "#46039f"
            ],
            [
             0.2222222222222222,
             "#7201a8"
            ],
            [
             0.3333333333333333,
             "#9c179e"
            ],
            [
             0.4444444444444444,
             "#bd3786"
            ],
            [
             0.5555555555555556,
             "#d8576b"
            ],
            [
             0.6666666666666666,
             "#ed7953"
            ],
            [
             0.7777777777777778,
             "#fb9f3a"
            ],
            [
             0.8888888888888888,
             "#fdca26"
            ],
            [
             1,
             "#f0f921"
            ]
           ]
          },
          "colorway": [
           "#636efa",
           "#EF553B",
           "#00cc96",
           "#ab63fa",
           "#FFA15A",
           "#19d3f3",
           "#FF6692",
           "#B6E880",
           "#FF97FF",
           "#FECB52"
          ],
          "font": {
           "color": "#2a3f5f"
          },
          "geo": {
           "bgcolor": "white",
           "lakecolor": "white",
           "landcolor": "#E5ECF6",
           "showlakes": true,
           "showland": true,
           "subunitcolor": "white"
          },
          "hoverlabel": {
           "align": "left"
          },
          "hovermode": "closest",
          "mapbox": {
           "style": "light"
          },
          "paper_bgcolor": "white",
          "plot_bgcolor": "#E5ECF6",
          "polar": {
           "angularaxis": {
            "gridcolor": "white",
            "linecolor": "white",
            "ticks": ""
           },
           "bgcolor": "#E5ECF6",
           "radialaxis": {
            "gridcolor": "white",
            "linecolor": "white",
            "ticks": ""
           }
          },
          "scene": {
           "xaxis": {
            "backgroundcolor": "#E5ECF6",
            "gridcolor": "white",
            "gridwidth": 2,
            "linecolor": "white",
            "showbackground": true,
            "ticks": "",
            "zerolinecolor": "white"
           },
           "yaxis": {
            "backgroundcolor": "#E5ECF6",
            "gridcolor": "white",
            "gridwidth": 2,
            "linecolor": "white",
            "showbackground": true,
            "ticks": "",
            "zerolinecolor": "white"
           },
           "zaxis": {
            "backgroundcolor": "#E5ECF6",
            "gridcolor": "white",
            "gridwidth": 2,
            "linecolor": "white",
            "showbackground": true,
            "ticks": "",
            "zerolinecolor": "white"
           }
          },
          "shapedefaults": {
           "line": {
            "color": "#2a3f5f"
           }
          },
          "ternary": {
           "aaxis": {
            "gridcolor": "white",
            "linecolor": "white",
            "ticks": ""
           },
           "baxis": {
            "gridcolor": "white",
            "linecolor": "white",
            "ticks": ""
           },
           "bgcolor": "#E5ECF6",
           "caxis": {
            "gridcolor": "white",
            "linecolor": "white",
            "ticks": ""
           }
          },
          "title": {
           "x": 0.05
          },
          "xaxis": {
           "automargin": true,
           "gridcolor": "white",
           "linecolor": "white",
           "ticks": "",
           "title": {
            "standoff": 15
           },
           "zerolinecolor": "white",
           "zerolinewidth": 2
          },
          "yaxis": {
           "automargin": true,
           "gridcolor": "white",
           "linecolor": "white",
           "ticks": "",
           "title": {
            "standoff": 15
           },
           "zerolinecolor": "white",
           "zerolinewidth": 2
          }
         }
        }
       }
      },
      "text/html": [
       "<div>\n",
       "        \n",
       "        \n",
       "            <div id=\"426991a9-aad6-41a8-97d8-d0fa26746ab6\" class=\"plotly-graph-div\" style=\"height:525px; width:100%;\"></div>\n",
       "            <script type=\"text/javascript\">\n",
       "                require([\"plotly\"], function(Plotly) {\n",
       "                    window.PLOTLYENV=window.PLOTLYENV || {};\n",
       "                    \n",
       "                if (document.getElementById(\"426991a9-aad6-41a8-97d8-d0fa26746ab6\")) {\n",
       "                    Plotly.newPlot(\n",
       "                        '426991a9-aad6-41a8-97d8-d0fa26746ab6',\n",
       "                        [{\"line\": {\"color\": \"red\"}, \"mode\": \"lines\", \"opacity\": 0.3, \"type\": \"scatter\", \"x\": [0, 1, 2, 3, 4, 5, 6, 7, 8, 9], \"y\": [1.5555555555555556, 1.5454545454545454, 2.5, 1.8125, 1.4545454545454546, 1.375, 1.5, 1.1428571428571428, 1.4705882352941178, 1.3636363636363635]}, {\"line\": {\"color\": \"red\"}, \"mode\": \"lines\", \"opacity\": 0.3, \"type\": \"scatter\", \"x\": [0, 1, 2, 3, 4, 5, 6, 7, 8, 9], \"y\": [1.5, 1.7777777777777777, 1.2941176470588236, 1.8, 1.7619047619047619, 1.0, 1.7727272727272727, 1.3076923076923077, 1.1875, 1.5217391304347827]}, {\"line\": {\"color\": \"red\"}, \"mode\": \"lines\", \"opacity\": 0.3, \"type\": \"scatter\", \"x\": [0, 1, 2, 3, 4, 5, 6, 7, 8, 9], \"y\": [2.3636363636363638, 1.0769230769230769, 2.823529411764706, 2.2142857142857144, 1.6923076923076923, 2.15, 1.1363636363636365, 1.1538461538461537, 1.3636363636363635, 1.3333333333333333]}, {\"line\": {\"color\": \"red\"}, \"mode\": \"lines\", \"opacity\": 0.3, \"type\": \"scatter\", \"x\": [0, 1, 2, 3, 4, 5, 6, 7, 8, 9], \"y\": [2.0, 2.125, 1.4, 1.6875, 2.0714285714285716, 1.6, 1.2105263157894737, 2.4615384615384617, 1.6666666666666667, 1.4210526315789473]}, {\"line\": {\"color\": \"red\"}, \"mode\": \"lines\", \"opacity\": 0.3, \"type\": \"scatter\", \"x\": [0, 1, 2, 3, 4, 5, 6, 7, 8, 9], \"y\": [2.1666666666666665, 1.4615384615384615, 1.8333333333333333, 1.3333333333333333, 1.7142857142857142, 2.2777777777777777, 1.5238095238095237, 2.411764705882353, 1.3333333333333333, 0.896551724137931]}, {\"line\": {\"color\": \"red\"}, \"mode\": \"lines\", \"opacity\": 0.3, \"type\": \"scatter\", \"x\": [0, 1, 2, 3, 4, 5, 6, 7, 8, 9], \"y\": [1.3333333333333333, 1.5, 2.090909090909091, 1.2941176470588236, 1.5714285714285714, 1.4, 1.5, 2.1538461538461537, 1.5625, 1.0344827586206897]}, {\"line\": {\"color\": \"red\"}, \"mode\": \"lines\", \"opacity\": 0.3, \"type\": \"scatter\", \"x\": [0, 1, 2, 3, 4, 5, 6, 7, 8, 9], \"y\": [1.7272727272727273, 1.6923076923076923, 1.2, 0.95, 1.2777777777777777, 2.28, 1.2941176470588236, 1.8695652173913044, 1.4230769230769231, 1.25]}, {\"line\": {\"color\": \"red\"}, \"mode\": \"lines\", \"opacity\": 0.3, \"type\": \"scatter\", \"x\": [0, 1, 2, 3, 4, 5, 6, 7, 8, 9], \"y\": [2.3846153846153846, 1.1, 1.1666666666666667, 1.6875, 0.8823529411764706, 1.0, 1.5, 1.4, 1.1764705882352942, 1.2916666666666667]}, {\"line\": {\"color\": \"red\"}, \"mode\": \"lines\", \"opacity\": 0.3, \"type\": \"scatter\", \"x\": [0, 1, 2, 3, 4, 5, 6, 7, 8, 9], \"y\": [2.25, 1.9090909090909092, 2.8823529411764706, 1.9285714285714286, 1.7857142857142858, 1.8181818181818181, 1.4761904761904763, 1.7666666666666666, 1.8076923076923077, 1.0588235294117647]}, {\"line\": {\"color\": \"red\"}, \"mode\": \"lines\", \"opacity\": 0.3, \"type\": \"scatter\", \"x\": [0, 1, 2, 3, 4, 5, 6, 7, 8, 9], \"y\": [2.6666666666666665, 1.4615384615384615, 0.8888888888888888, 1.8571428571428572, 1.4375, 1.6956521739130435, 1.95, 1.0555555555555556, 1.5263157894736843, 1.7142857142857142]}, {\"line\": {\"color\": \"red\"}, \"mode\": \"lines\", \"opacity\": 0.3, \"type\": \"scatter\", \"x\": [0, 1, 2, 3, 4, 5, 6, 7, 8, 9], \"y\": [1.9230769230769231, 3.0, 2.3333333333333335, 2.05, 1.8888888888888888, 1.25, 0.8, 2.0588235294117645, 1.2608695652173914, 1.8461538461538463]}, {\"line\": {\"color\": \"red\"}, \"mode\": \"lines\", \"opacity\": 0.3, \"type\": \"scatter\", \"x\": [0, 1, 2, 3, 4, 5, 6, 7, 8, 9], \"y\": [2.25, 2.0833333333333335, 2.0, 1.7222222222222223, 1.8888888888888888, 1.5294117647058822, 2.1875, 2.0, 1.0588235294117647, 0.9565217391304348]}, {\"line\": {\"color\": \"red\"}, \"mode\": \"lines\", \"opacity\": 0.3, \"type\": \"scatter\", \"x\": [0, 1, 2, 3, 4, 5, 6, 7, 8, 9], \"y\": [1.5714285714285714, 1.3636363636363635, 2.142857142857143, 1.0, 1.2857142857142858, 1.8333333333333333, 1.2222222222222223, 1.3125, 1.5, 1.2]}, {\"line\": {\"color\": \"red\"}, \"mode\": \"lines\", \"opacity\": 0.3, \"type\": \"scatter\", \"x\": [0, 1, 2, 3, 4, 5, 6, 7, 8, 9], \"y\": [0.875, 1.2, 2.1, 2.4, 1.6153846153846154, 2.0, 1.0555555555555556, 1.3125, 1.25, 1.3]}, {\"line\": {\"color\": \"red\"}, \"mode\": \"lines\", \"opacity\": 0.3, \"type\": \"scatter\", \"x\": [0, 1, 2, 3, 4, 5, 6, 7, 8, 9], \"y\": [2.5, 0.8571428571428571, 1.4666666666666666, 1.2777777777777777, 0.8333333333333334, 1.4, 1.7058823529411764, 1.9333333333333333, 1.35, 1.3333333333333333]}, {\"line\": {\"color\": \"red\"}, \"mode\": \"lines\", \"opacity\": 0.3, \"type\": \"scatter\", \"x\": [0, 1, 2, 3, 4, 5, 6, 7, 8, 9], \"y\": [1.2142857142857142, 1.8333333333333333, 3.0833333333333335, 1.411764705882353, 1.2105263157894737, 1.3125, 1.0416666666666667, 1.2941176470588236, 1.434782608695652, 0.9375]}, {\"line\": {\"color\": \"red\"}, \"mode\": \"lines\", \"opacity\": 0.3, \"type\": \"scatter\", \"x\": [0, 1, 2, 3, 4, 5, 6, 7, 8, 9], \"y\": [0.8571428571428571, 1.1666666666666667, 1.75, 1.6, 1.4375, 1.631578947368421, 1.1666666666666667, 1.1923076923076923, 1.2941176470588236, 1.5909090909090908]}, {\"line\": {\"color\": \"red\"}, \"mode\": \"lines\", \"opacity\": 0.3, \"type\": \"scatter\", \"x\": [0, 1, 2, 3, 4, 5, 6, 7, 8, 9], \"y\": [0.8333333333333334, 1.6923076923076923, 1.3333333333333333, 2.0, 1.3157894736842106, 1.375, 1.3636363636363635, 1.1, 1.0, 0.85]}, {\"line\": {\"color\": \"red\"}, \"mode\": \"lines\", \"opacity\": 0.3, \"type\": \"scatter\", \"x\": [0, 1, 2, 3, 4, 5, 6, 7, 8, 9], \"y\": [2.6666666666666665, 1.2666666666666666, 2.1, 2.25, 1.5714285714285714, 1.2352941176470589, 1.6363636363636365, 1.6666666666666667, 1.1153846153846154, 1.736842105263158]}, {\"line\": {\"color\": \"red\"}, \"mode\": \"lines\", \"opacity\": 0.3, \"type\": \"scatter\", \"x\": [0, 1, 2, 3, 4, 5, 6, 7, 8, 9], \"y\": [1.6666666666666667, 1.7, 0.8666666666666667, 1.4666666666666666, 1.3529411764705883, 1.8181818181818181, 1.2692307692307692, 2.066666666666667, 1.0714285714285714, 1.4]}, {\"line\": {\"color\": \"red\"}, \"mode\": \"lines\", \"opacity\": 0.3, \"type\": \"scatter\", \"x\": [0, 1, 2, 3, 4, 5, 6, 7, 8, 9], \"y\": [1.7142857142857142, 0.8333333333333334, 1.5625, 1.3571428571428572, 1.894736842105263, 1.7222222222222223, 1.65, 1.5, 0.9411764705882353, 0.9444444444444444]}, {\"line\": {\"color\": \"red\"}, \"mode\": \"lines\", \"opacity\": 0.3, \"type\": \"scatter\", \"x\": [0, 1, 2, 3, 4, 5, 6, 7, 8, 9], \"y\": [2.1538461538461537, 1.6, 2.0833333333333335, 1.1428571428571428, 0.8181818181818182, 1.6923076923076923, 1.3571428571428572, 0.9047619047619048, 0.9285714285714286, 1.1153846153846154]}, {\"line\": {\"color\": \"red\"}, \"mode\": \"lines\", \"opacity\": 0.3, \"type\": \"scatter\", \"x\": [0, 1, 2, 3, 4, 5, 6, 7, 8, 9], \"y\": [1.3, 1.7, 1.1875, 1.8461538461538463, 1.9090909090909092, 1.3888888888888888, 1.8888888888888888, 1.0833333333333333, 1.0909090909090908, 1.0454545454545454]}, {\"line\": {\"color\": \"red\"}, \"mode\": \"lines\", \"opacity\": 0.3, \"type\": \"scatter\", \"x\": [0, 1, 2, 3, 4, 5, 6, 7, 8, 9], \"y\": [1.625, 1.75, 1.6153846153846154, 1.2, 1.2666666666666666, 1.1904761904761905, 1.95, 1.2941176470588236, 1.6923076923076923, 1.0]}, {\"line\": {\"color\": \"red\"}, \"mode\": \"lines\", \"opacity\": 0.3, \"type\": \"scatter\", \"x\": [0, 1, 2, 3, 4, 5, 6, 7, 8, 9], \"y\": [1.9090909090909092, 1.8, 1.2857142857142858, 2.1153846153846154, 1.5172413793103448, 1.5625, 1.8181818181818181, 1.4615384615384615, 1.5789473684210527, 1.0454545454545454]}, {\"line\": {\"color\": \"red\"}, \"mode\": \"lines\", \"opacity\": 0.3, \"type\": \"scatter\", \"x\": [0, 1, 2, 3, 4, 5, 6, 7, 8, 9], \"y\": [2.1333333333333333, 0.9230769230769231, 2.0, 0.8888888888888888, 1.0, 1.8888888888888888, 1.5, 1.9285714285714286, 0.85, 1.15]}, {\"line\": {\"color\": \"red\"}, \"mode\": \"lines\", \"opacity\": 0.3, \"type\": \"scatter\", \"x\": [0, 1, 2, 3, 4, 5, 6, 7, 8, 9], \"y\": [0.7142857142857143, 1.9166666666666667, 1.6363636363636365, 1.3529411764705883, 1.4375, 1.1428571428571428, 1.5263157894736843, 1.7894736842105263, 1.5454545454545454, 1.3333333333333333]}, {\"line\": {\"color\": \"red\"}, \"mode\": \"lines\", \"opacity\": 0.3, \"type\": \"scatter\", \"x\": [0, 1, 2, 3, 4, 5, 6, 7, 8, 9], \"y\": [1.3636363636363635, 1.75, 2.7142857142857144, 1.6, 2.0625, 1.35, 2.0, 1.7222222222222223, 1.5909090909090908, 1.2941176470588236]}, {\"line\": {\"color\": \"red\"}, \"mode\": \"lines\", \"opacity\": 0.3, \"type\": \"scatter\", \"x\": [0, 1, 2, 3, 4, 5, 6, 7, 8, 9], \"y\": [1.5, 1.625, 1.5714285714285714, 1.0714285714285714, 1.6153846153846154, 0.8181818181818182, 0.8571428571428571, 1.7272727272727273, 1.85, 1.0555555555555556]}, {\"line\": {\"color\": \"red\"}, \"mode\": \"lines\", \"opacity\": 0.3, \"type\": \"scatter\", \"x\": [0, 1, 2, 3, 4, 5, 6, 7, 8, 9], \"y\": [1.4285714285714286, 1.7692307692307692, 2.15, 2.210526315789474, 2.0526315789473686, 1.9166666666666667, 1.5, 1.5333333333333334, 1.4285714285714286, 1.3333333333333333]}, {\"line\": {\"color\": \"red\"}, \"mode\": \"lines\", \"opacity\": 0.3, \"type\": \"scatter\", \"x\": [0, 1, 2, 3, 4, 5, 6, 7, 8, 9], \"y\": [1.1111111111111112, 1.8571428571428572, 1.1818181818181819, 1.3157894736842106, 1.1875, 1.0, 1.625, 1.3888888888888888, 1.3333333333333333, 1.1]}, {\"line\": {\"color\": \"red\"}, \"mode\": \"lines\", \"opacity\": 0.3, \"type\": \"scatter\", \"x\": [0, 1, 2, 3, 4, 5, 6, 7, 8, 9], \"y\": [2.2, 1.375, 1.7777777777777777, 1.8, 1.6666666666666667, 1.9285714285714286, 2.2777777777777777, 1.3611111111111112, 1.263157894736842, 1.4545454545454546]}, {\"line\": {\"color\": \"red\"}, \"mode\": \"lines\", \"opacity\": 0.3, \"type\": \"scatter\", \"x\": [0, 1, 2, 3, 4, 5, 6, 7, 8, 9], \"y\": [1.4666666666666666, 2.176470588235294, 2.2777777777777777, 2.3157894736842106, 1.0625, 1.4705882352941178, 1.15, 1.9166666666666667, 1.6666666666666667, 1.1428571428571428]}, {\"line\": {\"color\": \"red\"}, \"mode\": \"lines\", \"opacity\": 0.3, \"type\": \"scatter\", \"x\": [0, 1, 2, 3, 4, 5, 6, 7, 8, 9], \"y\": [2.0, 2.4, 1.4285714285714286, 1.8125, 1.6666666666666667, 1.8666666666666667, 1.8, 2.210526315789474, 0.8260869565217391, 1.4230769230769231]}, {\"line\": {\"color\": \"red\"}, \"mode\": \"lines\", \"opacity\": 0.3, \"type\": \"scatter\", \"x\": [0, 1, 2, 3, 4, 5, 6, 7, 8, 9], \"y\": [1.6923076923076923, 1.9166666666666667, 2.4285714285714284, 1.7692307692307692, 1.7777777777777777, 1.2352941176470589, 2.0, 1.3478260869565217, 0.8695652173913043, 1.3636363636363635]}, {\"line\": {\"color\": \"red\"}, \"mode\": \"lines\", \"opacity\": 0.3, \"type\": \"scatter\", \"x\": [0, 1, 2, 3, 4, 5, 6, 7, 8, 9], \"y\": [2.1, 2.0, 1.6428571428571428, 1.8125, 1.45, 1.625, 1.375, 1.48, 1.173913043478261, 0.7894736842105263]}, {\"line\": {\"color\": \"red\"}, \"mode\": \"lines\", \"opacity\": 0.3, \"type\": \"scatter\", \"x\": [0, 1, 2, 3, 4, 5, 6, 7, 8, 9], \"y\": [1.375, 1.1111111111111112, 1.7, 2.0, 1.9473684210526316, 2.176470588235294, 1.2105263157894737, 0.8, 1.4137931034482758, 0.7391304347826086]}, {\"line\": {\"color\": \"red\"}, \"mode\": \"lines\", \"opacity\": 0.3, \"type\": \"scatter\", \"x\": [0, 1, 2, 3, 4, 5, 6, 7, 8, 9], \"y\": [1.0, 1.4666666666666666, 2.0, 1.4, 2.176470588235294, 0.7857142857142857, 1.0454545454545454, 1.4, 1.1176470588235294, 1.7826086956521738]}, {\"line\": {\"color\": \"red\"}, \"mode\": \"lines\", \"opacity\": 0.3, \"type\": \"scatter\", \"x\": [0, 1, 2, 3, 4, 5, 6, 7, 8, 9], \"y\": [1.2857142857142858, 1.7142857142857142, 2.3333333333333335, 1.9285714285714286, 1.7391304347826086, 1.1666666666666667, 0.9411764705882353, 1.5217391304347827, 0.85, 0.9]}, {\"line\": {\"color\": \"red\"}, \"mode\": \"lines\", \"opacity\": 0.3, \"type\": \"scatter\", \"x\": [0, 1, 2, 3, 4, 5, 6, 7, 8, 9], \"y\": [1.4166666666666667, 1.6666666666666667, 2.375, 1.9444444444444444, 1.7692307692307692, 1.7272727272727273, 1.2941176470588236, 1.9230769230769231, 1.3571428571428572, 1.2592592592592593]}, {\"line\": {\"color\": \"red\"}, \"mode\": \"lines\", \"opacity\": 0.3, \"type\": \"scatter\", \"x\": [0, 1, 2, 3, 4, 5, 6, 7, 8, 9], \"y\": [1.7142857142857142, 1.7272727272727273, 1.6, 2.125, 1.9333333333333333, 1.35, 1.3888888888888888, 0.8571428571428571, 1.3793103448275863, 1.3]}, {\"line\": {\"color\": \"red\"}, \"mode\": \"lines\", \"opacity\": 0.3, \"type\": \"scatter\", \"x\": [0, 1, 2, 3, 4, 5, 6, 7, 8, 9], \"y\": [0.9, 0.7, 0.75, 1.4285714285714286, 1.6666666666666667, 1.6, 1.1333333333333333, 1.1176470588235294, 1.4, 1.105263157894737]}, {\"line\": {\"color\": \"red\"}, \"mode\": \"lines\", \"opacity\": 0.3, \"type\": \"scatter\", \"x\": [0, 1, 2, 3, 4, 5, 6, 7, 8, 9], \"y\": [2.6666666666666665, 1.7, 1.9230769230769231, 1.3125, 1.9166666666666667, 1.75, 1.6923076923076923, 1.8333333333333333, 1.4, 1.4166666666666667]}, {\"line\": {\"color\": \"red\"}, \"mode\": \"lines\", \"opacity\": 0.3, \"type\": \"scatter\", \"x\": [0, 1, 2, 3, 4, 5, 6, 7, 8, 9], \"y\": [2.227272727272727, 1.5833333333333333, 2.142857142857143, 1.1818181818181819, 1.75, 2.0, 1.8695652173913044, 1.4545454545454546, 1.3043478260869565, 1.36]}, {\"line\": {\"color\": \"red\"}, \"mode\": \"lines\", \"opacity\": 0.3, \"type\": \"scatter\", \"x\": [0, 1, 2, 3, 4, 5, 6, 7, 8, 9], \"y\": [0.875, 1.7333333333333334, 0.7777777777777778, 1.1666666666666667, 1.15, 1.5555555555555556, 1.7727272727272727, 1.2272727272727273, 0.75, 1.3125]}, {\"line\": {\"color\": \"red\"}, \"mode\": \"lines\", \"opacity\": 0.3, \"type\": \"scatter\", \"x\": [0, 1, 2, 3, 4, 5, 6, 7, 8, 9], \"y\": [1.8333333333333333, 1.4615384615384615, 1.6428571428571428, 2.0, 2.2, 1.8636363636363635, 2.1538461538461537, 1.1666666666666667, 1.0625, 1.0]}, {\"line\": {\"color\": \"red\"}, \"mode\": \"lines\", \"opacity\": 0.3, \"type\": \"scatter\", \"x\": [0, 1, 2, 3, 4, 5, 6, 7, 8, 9], \"y\": [1.3333333333333333, 2.875, 1.5, 1.631578947368421, 1.1666666666666667, 1.4444444444444444, 1.4782608695652173, 2.0, 1.0869565217391304, 1.0]}, {\"line\": {\"color\": \"red\"}, \"mode\": \"lines\", \"opacity\": 0.3, \"type\": \"scatter\", \"x\": [0, 1, 2, 3, 4, 5, 6, 7, 8, 9], \"y\": [1.0, 1.5, 2.0, 1.6842105263157894, 1.1111111111111112, 1.4705882352941178, 1.4736842105263157, 1.2777777777777777, 1.7, 1.0454545454545454]}, {\"line\": {\"color\": \"red\"}, \"mode\": \"lines\", \"opacity\": 0.3, \"type\": \"scatter\", \"x\": [0, 1, 2, 3, 4, 5, 6, 7, 8, 9], \"y\": [0.7142857142857143, 2.0, 1.6153846153846154, 1.8, 2.0, 1.0952380952380953, 2.0526315789473686, 1.565217391304348, 1.3333333333333333, 1.15]}, {\"line\": {\"color\": \"red\"}, \"mode\": \"lines\", \"opacity\": 0.3, \"type\": \"scatter\", \"x\": [0, 1, 2, 3, 4, 5, 6, 7, 8, 9], \"y\": [1.7, 1.8333333333333333, 1.2727272727272727, 1.3, 1.8333333333333333, 1.368421052631579, 1.6666666666666667, 0.8666666666666667, 1.5, 0.9444444444444444]}, {\"line\": {\"color\": \"red\"}, \"mode\": \"lines\", \"opacity\": 0.3, \"type\": \"scatter\", \"x\": [0, 1, 2, 3, 4, 5, 6, 7, 8, 9], \"y\": [2.2222222222222223, 2.272727272727273, 1.7647058823529411, 1.3333333333333333, 1.4666666666666666, 1.631578947368421, 1.7727272727272727, 1.0, 1.1904761904761905, 1.6666666666666667]}, {\"line\": {\"color\": \"red\"}, \"mode\": \"lines\", \"opacity\": 0.3, \"type\": \"scatter\", \"x\": [0, 1, 2, 3, 4, 5, 6, 7, 8, 9], \"y\": [1.6, 1.4545454545454546, 1.2941176470588236, 1.5, 1.6818181818181819, 1.2, 1.375, 1.3333333333333333, 1.0833333333333333, 1.1923076923076923]}, {\"line\": {\"color\": \"red\"}, \"mode\": \"lines\", \"opacity\": 0.3, \"type\": \"scatter\", \"x\": [0, 1, 2, 3, 4, 5, 6, 7, 8, 9], \"y\": [0.42857142857142855, 2.3636363636363638, 1.25, 2.176470588235294, 2.5294117647058822, 1.7333333333333334, 1.2222222222222223, 1.608695652173913, 1.3478260869565217, 0.9545454545454546]}, {\"line\": {\"color\": \"red\"}, \"mode\": \"lines\", \"opacity\": 0.3, \"type\": \"scatter\", \"x\": [0, 1, 2, 3, 4, 5, 6, 7, 8, 9], \"y\": [1.625, 2.5384615384615383, 1.6153846153846154, 0.7692307692307693, 1.3333333333333333, 1.0526315789473684, 1.7222222222222223, 1.4, 1.5909090909090908, 1.0952380952380953]}, {\"line\": {\"color\": \"red\"}, \"mode\": \"lines\", \"opacity\": 0.3, \"type\": \"scatter\", \"x\": [0, 1, 2, 3, 4, 5, 6, 7, 8, 9], \"y\": [1.8181818181818181, 1.4615384615384615, 2.0952380952380953, 1.875, 1.5, 1.0454545454545454, 1.3043478260869565, 1.2380952380952381, 1.2727272727272727, 1.0]}, {\"line\": {\"color\": \"red\"}, \"mode\": \"lines\", \"opacity\": 0.3, \"type\": \"scatter\", \"x\": [0, 1, 2, 3, 4, 5, 6, 7, 8, 9], \"y\": [1.8181818181818181, 1.5294117647058822, 2.272727272727273, 1.9333333333333333, 1.5333333333333334, 1.1176470588235294, 1.894736842105263, 1.5625, 1.0769230769230769, 1.2083333333333333]}, {\"line\": {\"color\": \"red\"}, \"mode\": \"lines\", \"opacity\": 0.3, \"type\": \"scatter\", \"x\": [0, 1, 2, 3, 4, 5, 6, 7, 8, 9], \"y\": [0.3333333333333333, 2.3846153846153846, 2.5454545454545454, 1.2352941176470589, 1.3125, 1.5555555555555556, 1.8518518518518519, 1.4736842105263157, 1.9285714285714286, 0.8421052631578947]}, {\"line\": {\"color\": \"red\"}, \"mode\": \"lines\", \"opacity\": 0.3, \"type\": \"scatter\", \"x\": [0, 1, 2, 3, 4, 5, 6, 7, 8, 9], \"y\": [2.0833333333333335, 1.7272727272727273, 1.1428571428571428, 1.6842105263157894, 2.0, 1.5217391304347827, 1.2380952380952381, 1.5909090909090908, 0.8125, 0.9615384615384616]}, {\"line\": {\"color\": \"red\"}, \"mode\": \"lines\", \"opacity\": 0.3, \"type\": \"scatter\", \"x\": [0, 1, 2, 3, 4, 5, 6, 7, 8, 9], \"y\": [0.9090909090909091, 0.7, 1.5, 1.5714285714285714, 2.0, 1.2352941176470589, 1.1333333333333333, 1.25, 1.5217391304347827, 1.0]}, {\"line\": {\"color\": \"red\"}, \"mode\": \"lines\", \"opacity\": 0.3, \"type\": \"scatter\", \"x\": [0, 1, 2, 3, 4, 5, 6, 7, 8, 9], \"y\": [0.9090909090909091, 2.0, 2.5, 2.5714285714285716, 1.8571428571428572, 1.3333333333333333, 1.0, 2.111111111111111, 1.2380952380952381, 0.7333333333333333]}, {\"line\": {\"color\": \"red\"}, \"mode\": \"lines\", \"opacity\": 0.3, \"type\": \"scatter\", \"x\": [0, 1, 2, 3, 4, 5, 6, 7, 8, 9], \"y\": [1.8181818181818181, 1.3888888888888888, 0.6363636363636364, 1.8333333333333333, 1.125, 1.588235294117647, 1.3125, 1.6111111111111112, 1.173913043478261, 1.380952380952381]}, {\"line\": {\"color\": \"red\"}, \"mode\": \"lines\", \"opacity\": 0.3, \"type\": \"scatter\", \"x\": [0, 1, 2, 3, 4, 5, 6, 7, 8, 9], \"y\": [1.9090909090909092, 1.0, 1.2, 1.0625, 1.5, 2.25, 1.105263157894737, 1.7222222222222223, 1.2666666666666666, 1.3333333333333333]}, {\"line\": {\"color\": \"red\"}, \"mode\": \"lines\", \"opacity\": 0.3, \"type\": \"scatter\", \"x\": [0, 1, 2, 3, 4, 5, 6, 7, 8, 9], \"y\": [0.6666666666666666, 1.8888888888888888, 2.076923076923077, 2.7777777777777777, 2.0625, 1.875, 1.894736842105263, 1.875, 1.2105263157894737, 1.1578947368421053]}, {\"line\": {\"color\": \"red\"}, \"mode\": \"lines\", \"opacity\": 0.3, \"type\": \"scatter\", \"x\": [0, 1, 2, 3, 4, 5, 6, 7, 8, 9], \"y\": [1.2222222222222223, 1.75, 1.875, 1.6363636363636365, 1.3888888888888888, 2.357142857142857, 2.125, 1.411764705882353, 1.2083333333333333, 0.8571428571428571]}, {\"line\": {\"color\": \"red\"}, \"mode\": \"lines\", \"opacity\": 0.3, \"type\": \"scatter\", \"x\": [0, 1, 2, 3, 4, 5, 6, 7, 8, 9], \"y\": [1.3333333333333333, 1.9090909090909092, 2.0833333333333335, 2.05, 2.0, 2.3333333333333335, 2.1176470588235294, 1.3571428571428572, 1.3, 1.6]}, {\"line\": {\"color\": \"red\"}, \"mode\": \"lines\", \"opacity\": 0.3, \"type\": \"scatter\", \"x\": [0, 1, 2, 3, 4, 5, 6, 7, 8, 9], \"y\": [0.8, 2.7142857142857144, 1.3076923076923077, 1.631578947368421, 1.0625, 1.5263157894736843, 0.9090909090909091, 1.6, 1.037037037037037, 1.263157894736842]}, {\"line\": {\"color\": \"red\"}, \"mode\": \"lines\", \"opacity\": 0.3, \"type\": \"scatter\", \"x\": [0, 1, 2, 3, 4, 5, 6, 7, 8, 9], \"y\": [1.7272727272727273, 1.6428571428571428, 2.75, 2.066666666666667, 1.0666666666666667, 1.3888888888888888, 1.5769230769230769, 1.5555555555555556, 0.8571428571428571, 1.588235294117647]}, {\"line\": {\"color\": \"red\"}, \"mode\": \"lines\", \"opacity\": 0.3, \"type\": \"scatter\", \"x\": [0, 1, 2, 3, 4, 5, 6, 7, 8, 9], \"y\": [1.0, 1.6666666666666667, 3.5, 1.6666666666666667, 1.8, 1.375, 1.7142857142857142, 1.2692307692307692, 1.5, 1.2727272727272727]}, {\"line\": {\"color\": \"red\"}, \"mode\": \"lines\", \"opacity\": 0.3, \"type\": \"scatter\", \"x\": [0, 1, 2, 3, 4, 5, 6, 7, 8, 9], \"y\": [2.3846153846153846, 1.875, 1.2307692307692308, 1.6, 1.4615384615384615, 1.75, 1.0526315789473684, 1.4736842105263157, 1.0, 1.2666666666666666]}, {\"line\": {\"color\": \"red\"}, \"mode\": \"lines\", \"opacity\": 0.3, \"type\": \"scatter\", \"x\": [0, 1, 2, 3, 4, 5, 6, 7, 8, 9], \"y\": [1.7142857142857142, 1.1, 1.619047619047619, 1.7894736842105263, 1.0714285714285714, 0.9166666666666666, 1.3888888888888888, 1.2, 1.45, 0.8095238095238095]}, {\"line\": {\"color\": \"red\"}, \"mode\": \"lines\", \"opacity\": 0.3, \"type\": \"scatter\", \"x\": [0, 1, 2, 3, 4, 5, 6, 7, 8, 9], \"y\": [1.625, 1.4, 1.8, 2.2142857142857144, 1.8076923076923077, 2.04, 1.5555555555555556, 2.0606060606060606, 1.6, 0.967741935483871]}, {\"line\": {\"color\": \"red\"}, \"mode\": \"lines\", \"opacity\": 0.3, \"type\": \"scatter\", \"x\": [0, 1, 2, 3, 4, 5, 6, 7, 8, 9], \"y\": [1.4285714285714286, 2.1, 1.3333333333333333, 1.8888888888888888, 1.3, 1.1818181818181819, 1.9411764705882353, 1.4761904761904763, 0.8125, 1.3703703703703705]}, {\"line\": {\"color\": \"red\"}, \"mode\": \"lines\", \"opacity\": 0.3, \"type\": \"scatter\", \"x\": [0, 1, 2, 3, 4, 5, 6, 7, 8, 9], \"y\": [1.4285714285714286, 1.9090909090909092, 1.3333333333333333, 1.9230769230769231, 1.6153846153846154, 2.0, 0.8888888888888888, 1.631578947368421, 1.5263157894736843, 1.1304347826086956]}, {\"line\": {\"color\": \"red\"}, \"mode\": \"lines\", \"opacity\": 0.3, \"type\": \"scatter\", \"x\": [0, 1, 2, 3, 4, 5, 6, 7, 8, 9], \"y\": [1.8888888888888888, 1.5555555555555556, 0.7272727272727273, 1.7333333333333334, 1.0, 1.65, 2.0, 1.1176470588235294, 1.5, 1.2380952380952381]}, {\"line\": {\"color\": \"red\"}, \"mode\": \"lines\", \"opacity\": 0.3, \"type\": \"scatter\", \"x\": [0, 1, 2, 3, 4, 5, 6, 7, 8, 9], \"y\": [1.3333333333333333, 1.1428571428571428, 1.0, 2.25, 1.5789473684210527, 1.5714285714285714, 1.0689655172413792, 1.84, 1.105263157894737, 0.75]}, {\"line\": {\"color\": \"red\"}, \"mode\": \"lines\", \"opacity\": 0.3, \"type\": \"scatter\", \"x\": [0, 1, 2, 3, 4, 5, 6, 7, 8, 9], \"y\": [1.4545454545454546, 2.142857142857143, 1.3636363636363635, 1.5789473684210527, 1.6875, 1.9230769230769231, 1.5, 1.1904761904761905, 1.2307692307692308, 1.4285714285714286]}, {\"line\": {\"color\": \"red\"}, \"mode\": \"lines\", \"opacity\": 0.3, \"type\": \"scatter\", \"x\": [0, 1, 2, 3, 4, 5, 6, 7, 8, 9], \"y\": [1.8333333333333333, 2.142857142857143, 1.25, 0.7, 1.4375, 1.6111111111111112, 1.4736842105263157, 1.0588235294117647, 1.3636363636363635, 0.75]}, {\"line\": {\"color\": \"red\"}, \"mode\": \"lines\", \"opacity\": 0.3, \"type\": \"scatter\", \"x\": [0, 1, 2, 3, 4, 5, 6, 7, 8, 9], \"y\": [1.2, 1.9230769230769231, 1.5789473684210527, 2.8666666666666667, 1.9444444444444444, 1.85, 1.7222222222222223, 1.65, 1.2, 0.9428571428571428]}, {\"line\": {\"color\": \"red\"}, \"mode\": \"lines\", \"opacity\": 0.3, \"type\": \"scatter\", \"x\": [0, 1, 2, 3, 4, 5, 6, 7, 8, 9], \"y\": [1.4166666666666667, 1.3333333333333333, 2.3333333333333335, 1.2307692307692308, 1.9230769230769231, 1.1, 1.2307692307692308, 1.25, 0.8333333333333334, 1.5862068965517242]}, {\"line\": {\"color\": \"red\"}, \"mode\": \"lines\", \"opacity\": 0.3, \"type\": \"scatter\", \"x\": [0, 1, 2, 3, 4, 5, 6, 7, 8, 9], \"y\": [1.8333333333333333, 2.0, 1.3333333333333333, 1.3076923076923077, 1.3157894736842106, 1.7857142857142858, 1.434782608695652, 1.3333333333333333, 1.7, 1.3478260869565217]}, {\"line\": {\"color\": \"red\"}, \"mode\": \"lines\", \"opacity\": 0.3, \"type\": \"scatter\", \"x\": [0, 1, 2, 3, 4, 5, 6, 7, 8, 9], \"y\": [1.1818181818181819, 1.625, 1.2105263157894737, 1.8333333333333333, 1.1176470588235294, 0.7692307692307693, 1.6, 1.3333333333333333, 1.2222222222222223, 0.8571428571428571]}, {\"line\": {\"color\": \"red\"}, \"mode\": \"lines\", \"opacity\": 0.3, \"type\": \"scatter\", \"x\": [0, 1, 2, 3, 4, 5, 6, 7, 8, 9], \"y\": [1.4444444444444444, 1.75, 1.5, 2.2222222222222223, 1.1875, 1.8, 1.2777777777777777, 1.25, 1.1666666666666667, 1.3478260869565217]}, {\"line\": {\"color\": \"red\"}, \"mode\": \"lines\", \"opacity\": 0.3, \"type\": \"scatter\", \"x\": [0, 1, 2, 3, 4, 5, 6, 7, 8, 9], \"y\": [1.6666666666666667, 1.6428571428571428, 1.8666666666666667, 1.7058823529411764, 2.4615384615384617, 1.6111111111111112, 1.25, 1.1538461538461537, 1.4782608695652173, 1.4090909090909092]}, {\"line\": {\"color\": \"red\"}, \"mode\": \"lines\", \"opacity\": 0.3, \"type\": \"scatter\", \"x\": [0, 1, 2, 3, 4, 5, 6, 7, 8, 9], \"y\": [2.5714285714285716, 1.0909090909090908, 1.7222222222222223, 1.4, 2.75, 1.2173913043478262, 2.227272727272727, 1.8518518518518519, 1.2608695652173914, 1.1071428571428572]}, {\"line\": {\"color\": \"red\"}, \"mode\": \"lines\", \"opacity\": 0.3, \"type\": \"scatter\", \"x\": [0, 1, 2, 3, 4, 5, 6, 7, 8, 9], \"y\": [2.3, 1.0, 2.0, 1.3125, 2.3333333333333335, 1.9411764705882353, 2.142857142857143, 1.263157894736842, 0.8947368421052632, 1.0526315789473684]}, {\"line\": {\"color\": \"red\"}, \"mode\": \"lines\", \"opacity\": 0.3, \"type\": \"scatter\", \"x\": [0, 1, 2, 3, 4, 5, 6, 7, 8, 9], \"y\": [1.875, 0.6153846153846154, 1.0, 1.5, 2.0, 1.5555555555555556, 2.0, 1.2105263157894737, 1.4, 0.8]}, {\"line\": {\"color\": \"red\"}, \"mode\": \"lines\", \"opacity\": 0.3, \"type\": \"scatter\", \"x\": [0, 1, 2, 3, 4, 5, 6, 7, 8, 9], \"y\": [2.4166666666666665, 1.1666666666666667, 1.3636363636363635, 1.8571428571428572, 1.3888888888888888, 1.4705882352941178, 1.0526315789473684, 1.5833333333333333, 1.7619047619047619, 1.3333333333333333]}, {\"line\": {\"color\": \"red\"}, \"mode\": \"lines\", \"opacity\": 0.3, \"type\": \"scatter\", \"x\": [0, 1, 2, 3, 4, 5, 6, 7, 8, 9], \"y\": [1.6363636363636365, 1.8571428571428572, 1.5333333333333334, 1.5384615384615385, 1.2307692307692308, 1.1333333333333333, 1.125, 0.7142857142857143, 1.2352941176470589, 1.3125]}, {\"line\": {\"color\": \"red\"}, \"mode\": \"lines\", \"opacity\": 0.3, \"type\": \"scatter\", \"x\": [0, 1, 2, 3, 4, 5, 6, 7, 8, 9], \"y\": [1.8333333333333333, 1.1, 1.6111111111111112, 1.1578947368421053, 1.6, 1.5789473684210527, 1.6923076923076923, 1.2727272727272727, 1.4166666666666667, 1.2777777777777777]}, {\"line\": {\"color\": \"red\"}, \"mode\": \"lines\", \"opacity\": 0.3, \"type\": \"scatter\", \"x\": [0, 1, 2, 3, 4, 5, 6, 7, 8, 9], \"y\": [1.1176470588235294, 1.375, 3.2857142857142856, 1.8333333333333333, 1.6, 1.5, 1.5333333333333334, 1.375, 1.1578947368421053, 1.0526315789473684]}, {\"line\": {\"color\": \"red\"}, \"mode\": \"lines\", \"opacity\": 0.3, \"type\": \"scatter\", \"x\": [0, 1, 2, 3, 4, 5, 6, 7, 8, 9], \"y\": [2.8333333333333335, 2.357142857142857, 1.9285714285714286, 2.2666666666666666, 1.6, 2.0555555555555554, 1.4285714285714286, 1.0952380952380953, 1.896551724137931, 1.5789473684210527]}, {\"line\": {\"color\": \"red\"}, \"mode\": \"lines\", \"opacity\": 0.3, \"type\": \"scatter\", \"x\": [0, 1, 2, 3, 4, 5, 6, 7, 8, 9], \"y\": [1.875, 1.5714285714285714, 1.7826086956521738, 1.5333333333333334, 2.0, 1.2777777777777777, 1.4444444444444444, 1.2173913043478262, 1.2105263157894737, 1.0]}, {\"line\": {\"color\": \"red\"}, \"mode\": \"lines\", \"opacity\": 0.3, \"type\": \"scatter\", \"x\": [0, 1, 2, 3, 4, 5, 6, 7, 8, 9], \"y\": [2.25, 2.3125, 1.3846153846153846, 1.2222222222222223, 1.4761904761904763, 1.4285714285714286, 2.217391304347826, 1.5238095238095237, 1.5714285714285714, 1.5357142857142858]}, {\"line\": {\"color\": \"red\"}, \"mode\": \"lines\", \"opacity\": 0.3, \"type\": \"scatter\", \"x\": [0, 1, 2, 3, 4, 5, 6, 7, 8, 9], \"y\": [2.2857142857142856, 1.9166666666666667, 1.6428571428571428, 1.0555555555555556, 1.5, 2.0454545454545454, 1.3461538461538463, 1.2857142857142858, 1.0740740740740742, 0.8125]}, {\"line\": {\"color\": \"red\"}, \"mode\": \"lines\", \"opacity\": 0.3, \"type\": \"scatter\", \"x\": [0, 1, 2, 3, 4, 5, 6, 7, 8, 9], \"y\": [0.8888888888888888, 1.1428571428571428, 1.3846153846153846, 1.6, 1.9375, 2.272727272727273, 1.4666666666666666, 1.0, 0.46153846153846156, 1.5555555555555556]}, {\"line\": {\"color\": \"red\"}, \"mode\": \"lines\", \"opacity\": 0.3, \"type\": \"scatter\", \"x\": [0, 1, 2, 3, 4, 5, 6, 7, 8, 9], \"y\": [1.5454545454545454, 1.4444444444444444, 1.625, 1.5833333333333333, 1.4285714285714286, 2.375, 1.0, 1.4375, 1.2, 1.0555555555555556]}, {\"line\": {\"color\": \"red\"}, \"mode\": \"lines\", \"opacity\": 0.3, \"type\": \"scatter\", \"x\": [0, 1, 2, 3, 4, 5, 6, 7, 8, 9], \"y\": [1.3333333333333333, 2.1818181818181817, 1.4545454545454546, 1.1818181818181819, 2.5, 1.3636363636363635, 1.8333333333333333, 1.3, 1.3157894736842106, 1.3846153846153846]}, {\"line\": {\"color\": \"red\"}, \"mode\": \"lines\", \"opacity\": 0.3, \"type\": \"scatter\", \"x\": [0, 1, 2, 3, 4, 5, 6, 7, 8, 9], \"y\": [2.4444444444444446, 1.8333333333333333, 1.7692307692307692, 0.6923076923076923, 2.217391304347826, 1.7037037037037037, 0.9, 1.3478260869565217, 1.6111111111111112, 1.1538461538461537]}, {\"line\": {\"color\": \"red\"}, \"mode\": \"lines\", \"opacity\": 0.3, \"type\": \"scatter\", \"x\": [0, 1, 2, 3, 4, 5, 6, 7, 8, 9], \"y\": [1.5, 1.2, 1.8235294117647058, 1.9444444444444444, 1.4761904761904763, 1.6470588235294117, 2.1052631578947367, 1.0476190476190477, 1.3636363636363635, 0.8095238095238095]}, {\"line\": {\"color\": \"red\"}, \"mode\": \"lines\", \"opacity\": 0.3, \"type\": \"scatter\", \"x\": [0, 1, 2, 3, 4, 5, 6, 7, 8, 9], \"y\": [1.8, 1.9, 2.0, 1.4736842105263157, 1.5806451612903225, 1.7727272727272727, 0.8695652173913043, 1.4166666666666667, 1.72, 1.1363636363636365]}, {\"line\": {\"color\": \"black\"}, \"mode\": \"markers+lines\", \"opacity\": 0.7, \"type\": \"scatter\", \"x\": [0, 1, 2, 3, 4, 5, 6, 7, 8, 9], \"y\": [1.6332349676467328, 1.6637851388807274, 1.7363447472607856, 1.6562976407837093, 1.6154389391019972, 1.5715487611970251, 1.5080121434831242, 1.462535002437674, 1.2949549853908735, 1.1921133191598938]}],\n",
       "                        {\"template\": {\"data\": {\"bar\": [{\"error_x\": {\"color\": \"#2a3f5f\"}, \"error_y\": {\"color\": \"#2a3f5f\"}, \"marker\": {\"line\": {\"color\": \"#E5ECF6\", \"width\": 0.5}}, \"type\": \"bar\"}], \"barpolar\": [{\"marker\": {\"line\": {\"color\": \"#E5ECF6\", \"width\": 0.5}}, \"type\": \"barpolar\"}], \"carpet\": [{\"aaxis\": {\"endlinecolor\": \"#2a3f5f\", \"gridcolor\": \"white\", \"linecolor\": \"white\", \"minorgridcolor\": \"white\", \"startlinecolor\": \"#2a3f5f\"}, \"baxis\": {\"endlinecolor\": \"#2a3f5f\", \"gridcolor\": \"white\", \"linecolor\": \"white\", \"minorgridcolor\": \"white\", \"startlinecolor\": \"#2a3f5f\"}, \"type\": \"carpet\"}], \"choropleth\": [{\"colorbar\": {\"outlinewidth\": 0, \"ticks\": \"\"}, \"type\": \"choropleth\"}], \"contour\": [{\"colorbar\": {\"outlinewidth\": 0, \"ticks\": \"\"}, \"colorscale\": [[0.0, \"#0d0887\"], [0.1111111111111111, \"#46039f\"], [0.2222222222222222, \"#7201a8\"], [0.3333333333333333, \"#9c179e\"], [0.4444444444444444, \"#bd3786\"], [0.5555555555555556, \"#d8576b\"], [0.6666666666666666, \"#ed7953\"], [0.7777777777777778, \"#fb9f3a\"], [0.8888888888888888, \"#fdca26\"], [1.0, \"#f0f921\"]], \"type\": \"contour\"}], \"contourcarpet\": [{\"colorbar\": {\"outlinewidth\": 0, \"ticks\": \"\"}, \"type\": \"contourcarpet\"}], \"heatmap\": [{\"colorbar\": {\"outlinewidth\": 0, \"ticks\": \"\"}, \"colorscale\": [[0.0, \"#0d0887\"], [0.1111111111111111, \"#46039f\"], [0.2222222222222222, \"#7201a8\"], [0.3333333333333333, \"#9c179e\"], [0.4444444444444444, \"#bd3786\"], [0.5555555555555556, \"#d8576b\"], [0.6666666666666666, \"#ed7953\"], [0.7777777777777778, \"#fb9f3a\"], [0.8888888888888888, \"#fdca26\"], [1.0, \"#f0f921\"]], \"type\": \"heatmap\"}], \"heatmapgl\": [{\"colorbar\": {\"outlinewidth\": 0, \"ticks\": \"\"}, \"colorscale\": [[0.0, \"#0d0887\"], [0.1111111111111111, \"#46039f\"], [0.2222222222222222, \"#7201a8\"], [0.3333333333333333, \"#9c179e\"], [0.4444444444444444, \"#bd3786\"], [0.5555555555555556, \"#d8576b\"], [0.6666666666666666, \"#ed7953\"], [0.7777777777777778, \"#fb9f3a\"], [0.8888888888888888, \"#fdca26\"], [1.0, \"#f0f921\"]], \"type\": \"heatmapgl\"}], \"histogram\": [{\"marker\": {\"colorbar\": {\"outlinewidth\": 0, \"ticks\": \"\"}}, \"type\": \"histogram\"}], \"histogram2d\": [{\"colorbar\": {\"outlinewidth\": 0, \"ticks\": \"\"}, \"colorscale\": [[0.0, \"#0d0887\"], [0.1111111111111111, \"#46039f\"], [0.2222222222222222, \"#7201a8\"], [0.3333333333333333, \"#9c179e\"], [0.4444444444444444, \"#bd3786\"], [0.5555555555555556, \"#d8576b\"], [0.6666666666666666, \"#ed7953\"], [0.7777777777777778, \"#fb9f3a\"], [0.8888888888888888, \"#fdca26\"], [1.0, \"#f0f921\"]], \"type\": \"histogram2d\"}], \"histogram2dcontour\": [{\"colorbar\": {\"outlinewidth\": 0, \"ticks\": \"\"}, \"colorscale\": [[0.0, \"#0d0887\"], [0.1111111111111111, \"#46039f\"], [0.2222222222222222, \"#7201a8\"], [0.3333333333333333, \"#9c179e\"], [0.4444444444444444, \"#bd3786\"], [0.5555555555555556, \"#d8576b\"], [0.6666666666666666, \"#ed7953\"], [0.7777777777777778, \"#fb9f3a\"], [0.8888888888888888, \"#fdca26\"], [1.0, \"#f0f921\"]], \"type\": \"histogram2dcontour\"}], \"mesh3d\": [{\"colorbar\": {\"outlinewidth\": 0, \"ticks\": \"\"}, \"type\": \"mesh3d\"}], \"parcoords\": [{\"line\": {\"colorbar\": {\"outlinewidth\": 0, \"ticks\": \"\"}}, \"type\": \"parcoords\"}], \"pie\": [{\"automargin\": true, \"type\": \"pie\"}], \"scatter\": [{\"marker\": {\"colorbar\": {\"outlinewidth\": 0, \"ticks\": \"\"}}, \"type\": \"scatter\"}], \"scatter3d\": [{\"line\": {\"colorbar\": {\"outlinewidth\": 0, \"ticks\": \"\"}}, \"marker\": {\"colorbar\": {\"outlinewidth\": 0, \"ticks\": \"\"}}, \"type\": \"scatter3d\"}], \"scattercarpet\": [{\"marker\": {\"colorbar\": {\"outlinewidth\": 0, \"ticks\": \"\"}}, \"type\": \"scattercarpet\"}], \"scattergeo\": [{\"marker\": {\"colorbar\": {\"outlinewidth\": 0, \"ticks\": \"\"}}, \"type\": \"scattergeo\"}], \"scattergl\": [{\"marker\": {\"colorbar\": {\"outlinewidth\": 0, \"ticks\": \"\"}}, \"type\": \"scattergl\"}], \"scattermapbox\": [{\"marker\": {\"colorbar\": {\"outlinewidth\": 0, \"ticks\": \"\"}}, \"type\": \"scattermapbox\"}], \"scatterpolar\": [{\"marker\": {\"colorbar\": {\"outlinewidth\": 0, \"ticks\": \"\"}}, \"type\": \"scatterpolar\"}], \"scatterpolargl\": [{\"marker\": {\"colorbar\": {\"outlinewidth\": 0, \"ticks\": \"\"}}, \"type\": \"scatterpolargl\"}], \"scatterternary\": [{\"marker\": {\"colorbar\": {\"outlinewidth\": 0, \"ticks\": \"\"}}, \"type\": \"scatterternary\"}], \"surface\": [{\"colorbar\": {\"outlinewidth\": 0, \"ticks\": \"\"}, \"colorscale\": [[0.0, \"#0d0887\"], [0.1111111111111111, \"#46039f\"], [0.2222222222222222, \"#7201a8\"], [0.3333333333333333, \"#9c179e\"], [0.4444444444444444, \"#bd3786\"], [0.5555555555555556, \"#d8576b\"], [0.6666666666666666, \"#ed7953\"], [0.7777777777777778, \"#fb9f3a\"], [0.8888888888888888, \"#fdca26\"], [1.0, \"#f0f921\"]], \"type\": \"surface\"}], \"table\": [{\"cells\": {\"fill\": {\"color\": \"#EBF0F8\"}, \"line\": {\"color\": \"white\"}}, \"header\": {\"fill\": {\"color\": \"#C8D4E3\"}, \"line\": {\"color\": \"white\"}}, \"type\": \"table\"}]}, \"layout\": {\"annotationdefaults\": {\"arrowcolor\": \"#2a3f5f\", \"arrowhead\": 0, \"arrowwidth\": 1}, \"coloraxis\": {\"colorbar\": {\"outlinewidth\": 0, \"ticks\": \"\"}}, \"colorscale\": {\"diverging\": [[0, \"#8e0152\"], [0.1, \"#c51b7d\"], [0.2, \"#de77ae\"], [0.3, \"#f1b6da\"], [0.4, \"#fde0ef\"], [0.5, \"#f7f7f7\"], [0.6, \"#e6f5d0\"], [0.7, \"#b8e186\"], [0.8, \"#7fbc41\"], [0.9, \"#4d9221\"], [1, \"#276419\"]], \"sequential\": [[0.0, \"#0d0887\"], [0.1111111111111111, \"#46039f\"], [0.2222222222222222, \"#7201a8\"], [0.3333333333333333, \"#9c179e\"], [0.4444444444444444, \"#bd3786\"], [0.5555555555555556, \"#d8576b\"], [0.6666666666666666, \"#ed7953\"], [0.7777777777777778, \"#fb9f3a\"], [0.8888888888888888, \"#fdca26\"], [1.0, \"#f0f921\"]], \"sequentialminus\": [[0.0, \"#0d0887\"], [0.1111111111111111, \"#46039f\"], [0.2222222222222222, \"#7201a8\"], [0.3333333333333333, \"#9c179e\"], [0.4444444444444444, \"#bd3786\"], [0.5555555555555556, \"#d8576b\"], [0.6666666666666666, \"#ed7953\"], [0.7777777777777778, \"#fb9f3a\"], [0.8888888888888888, \"#fdca26\"], [1.0, \"#f0f921\"]]}, \"colorway\": [\"#636efa\", \"#EF553B\", \"#00cc96\", \"#ab63fa\", \"#FFA15A\", \"#19d3f3\", \"#FF6692\", \"#B6E880\", \"#FF97FF\", \"#FECB52\"], \"font\": {\"color\": \"#2a3f5f\"}, \"geo\": {\"bgcolor\": \"white\", \"lakecolor\": \"white\", \"landcolor\": \"#E5ECF6\", \"showlakes\": true, \"showland\": true, \"subunitcolor\": \"white\"}, \"hoverlabel\": {\"align\": \"left\"}, \"hovermode\": \"closest\", \"mapbox\": {\"style\": \"light\"}, \"paper_bgcolor\": \"white\", \"plot_bgcolor\": \"#E5ECF6\", \"polar\": {\"angularaxis\": {\"gridcolor\": \"white\", \"linecolor\": \"white\", \"ticks\": \"\"}, \"bgcolor\": \"#E5ECF6\", \"radialaxis\": {\"gridcolor\": \"white\", \"linecolor\": \"white\", \"ticks\": \"\"}}, \"scene\": {\"xaxis\": {\"backgroundcolor\": \"#E5ECF6\", \"gridcolor\": \"white\", \"gridwidth\": 2, \"linecolor\": \"white\", \"showbackground\": true, \"ticks\": \"\", \"zerolinecolor\": \"white\"}, \"yaxis\": {\"backgroundcolor\": \"#E5ECF6\", \"gridcolor\": \"white\", \"gridwidth\": 2, \"linecolor\": \"white\", \"showbackground\": true, \"ticks\": \"\", \"zerolinecolor\": \"white\"}, \"zaxis\": {\"backgroundcolor\": \"#E5ECF6\", \"gridcolor\": \"white\", \"gridwidth\": 2, \"linecolor\": \"white\", \"showbackground\": true, \"ticks\": \"\", \"zerolinecolor\": \"white\"}}, \"shapedefaults\": {\"line\": {\"color\": \"#2a3f5f\"}}, \"ternary\": {\"aaxis\": {\"gridcolor\": \"white\", \"linecolor\": \"white\", \"ticks\": \"\"}, \"baxis\": {\"gridcolor\": \"white\", \"linecolor\": \"white\", \"ticks\": \"\"}, \"bgcolor\": \"#E5ECF6\", \"caxis\": {\"gridcolor\": \"white\", \"linecolor\": \"white\", \"ticks\": \"\"}}, \"title\": {\"x\": 0.05}, \"xaxis\": {\"automargin\": true, \"gridcolor\": \"white\", \"linecolor\": \"white\", \"ticks\": \"\", \"title\": {\"standoff\": 15}, \"zerolinecolor\": \"white\", \"zerolinewidth\": 2}, \"yaxis\": {\"automargin\": true, \"gridcolor\": \"white\", \"linecolor\": \"white\", \"ticks\": \"\", \"title\": {\"standoff\": 15}, \"zerolinecolor\": \"white\", \"zerolinewidth\": 2}}}},\n",
       "                        {\"responsive\": true}\n",
       "                    ).then(function(){\n",
       "                            \n",
       "var gd = document.getElementById('426991a9-aad6-41a8-97d8-d0fa26746ab6');\n",
       "var x = new MutationObserver(function (mutations, observer) {{\n",
       "        var display = window.getComputedStyle(gd).display;\n",
       "        if (!display || display === 'none') {{\n",
       "            console.log([gd, 'removed!']);\n",
       "            Plotly.purge(gd);\n",
       "            observer.disconnect();\n",
       "        }}\n",
       "}});\n",
       "\n",
       "// Listen for the removal of the full notebook cells\n",
       "var notebookContainer = gd.closest('#notebook-container');\n",
       "if (notebookContainer) {{\n",
       "    x.observe(notebookContainer, {childList: true});\n",
       "}}\n",
       "\n",
       "// Listen for the clearing of the current output cell\n",
       "var outputEl = gd.closest('.output');\n",
       "if (outputEl) {{\n",
       "    x.observe(outputEl, {childList: true});\n",
       "}}\n",
       "\n",
       "                        })\n",
       "                };\n",
       "                });\n",
       "            </script>\n",
       "        </div>"
      ]
     },
     "metadata": {},
     "output_type": "display_data"
    }
   ],
   "source": [
    "fig = go.Figure()\n",
    "for d in data:\n",
    "    r = []\n",
    "    for day in range(5, 15):\n",
    "        infected = d[0][d[0][:,2] == day][:, 0]\n",
    "        r.append(np.mean([d[1][i] for i in infected]))\n",
    "    fig.add_trace(go.Scatter(x=list(range(len(r))), y=r, mode='lines', line=dict(color='red'), opacity=0.3))\n",
    "\n",
    "mean_line = []\n",
    "for day in range(5, 15):\n",
    "    r = []\n",
    "    for d in data:\n",
    "        infected = d[0][d[0][:,2] == day][:, 0]\n",
    "        r.append(np.mean([d[1][i] for i in infected]))\n",
    "    mean_line.append(np.mean(r))\n",
    "\n",
    "fig.add_trace(go.Scatter(x=list(range(len(mean_line))), y=mean_line, mode='markers+lines', \n",
    "                         line=dict(color='black'), opacity=0.7))\n",
    "\n",
    "fig.show()"
   ]
  },
  {
   "cell_type": "code",
   "execution_count": 230,
   "metadata": {},
   "outputs": [
    {
     "data": {
      "application/vnd.plotly.v1+json": {
       "config": {
        "plotlyServerURL": "https://plot.ly"
       },
       "data": [
        {
         "line": {
          "color": "red"
         },
         "mode": "markers+lines",
         "opacity": 0.3,
         "type": "scatter",
         "x": [
          0,
          1,
          2,
          3,
          4,
          5,
          6,
          7,
          8,
          9
         ],
         "y": [
          1.7272727272727273,
          3.5789473684210527,
          2.142857142857143,
          5.583333333333333,
          4.0625,
          4.571428571428571,
          3.566666666666667,
          4.057142857142857,
          4.136363636363637,
          5.086956521739131
         ]
        },
        {
         "line": {
          "color": "red"
         },
         "mode": "markers+lines",
         "opacity": 0.3,
         "type": "scatter",
         "x": [
          0,
          1,
          2,
          3,
          4,
          5,
          6,
          7,
          8,
          9
         ],
         "y": [
          2.4444444444444446,
          2.0555555555555554,
          2.9523809523809526,
          4.25,
          3.1052631578947367,
          1.5,
          2.761904761904762,
          3.5121951219512195,
          3.5517241379310347,
          3.588235294117647
         ]
        },
        {
         "line": {
          "color": "red"
         },
         "mode": "markers+lines",
         "opacity": 0.3,
         "type": "scatter",
         "x": [
          0,
          1,
          2,
          3,
          4,
          5,
          6,
          7,
          8,
          9
         ],
         "y": [
          1.375,
          2,
          2.111111111111111,
          3.066666666666667,
          2.142857142857143,
          2.5294117647058822,
          2.263157894736842,
          2.8636363636363638,
          2.84,
          3.227272727272727
         ]
        },
        {
         "line": {
          "color": "red"
         },
         "mode": "markers+lines",
         "opacity": 0.3,
         "type": "scatter",
         "x": [
          0,
          1,
          2,
          3,
          4,
          5,
          6,
          7,
          8,
          9
         ],
         "y": [
          1.3333333333333333,
          1.5555555555555556,
          2.142857142857143,
          1.7777777777777777,
          2.176470588235294,
          2.4583333333333335,
          1.875,
          1.8095238095238095,
          2.6551724137931036,
          2.6551724137931036
         ]
        },
        {
         "line": {
          "color": "red"
         },
         "mode": "markers+lines",
         "opacity": 0.3,
         "type": "scatter",
         "x": [
          0,
          1,
          2,
          3,
          4,
          5,
          6,
          7,
          8,
          9
         ],
         "y": [
          3.1666666666666665,
          2,
          3.769230769230769,
          2,
          2.0833333333333335,
          1.8666666666666667,
          3.1666666666666665,
          2.6666666666666665,
          4.869565217391305,
          3.5
         ]
        },
        {
         "line": {
          "color": "red"
         },
         "mode": "markers+lines",
         "opacity": 0.3,
         "type": "scatter",
         "x": [
          0,
          1,
          2,
          3,
          4,
          5,
          6,
          7,
          8,
          9
         ],
         "y": [
          2,
          3.0625,
          4.055555555555555,
          4.285714285714286,
          3.2222222222222223,
          3.6153846153846154,
          4.483870967741935,
          3.8275862068965516,
          4.972222222222222,
          4
         ]
        },
        {
         "line": {
          "color": "red"
         },
         "mode": "markers+lines",
         "opacity": 0.3,
         "type": "scatter",
         "x": [
          0,
          1,
          2,
          3,
          4,
          5,
          6,
          7,
          8,
          9
         ],
         "y": [
          1.4,
          1.9375,
          2.5555555555555554,
          1.736842105263158,
          2,
          3.6,
          2.3,
          2.272727272727273,
          2.68,
          2.1666666666666665
         ]
        },
        {
         "line": {
          "color": "red"
         },
         "mode": "markers+lines",
         "opacity": 0.3,
         "type": "scatter",
         "x": [
          0,
          1,
          2,
          3,
          4,
          5,
          6,
          7,
          8,
          9
         ],
         "y": [
          2,
          3.1538461538461537,
          2.25,
          3.2666666666666666,
          2.4444444444444446,
          3.764705882352941,
          2.9473684210526314,
          1.9545454545454546,
          3,
          2.76
         ]
        },
        {
         "line": {
          "color": "red"
         },
         "mode": "markers+lines",
         "opacity": 0.3,
         "type": "scatter",
         "x": [
          0,
          1,
          2,
          3,
          4,
          5,
          6,
          7,
          8,
          9
         ],
         "y": [
          4.416666666666667,
          2.4545454545454546,
          1.7333333333333334,
          1.8,
          2.9047619047619047,
          2.185185185185185,
          3.5,
          2.869565217391304,
          3.259259259259259,
          4.6571428571428575
         ]
        },
        {
         "line": {
          "color": "red"
         },
         "mode": "markers+lines",
         "opacity": 0.3,
         "type": "scatter",
         "x": [
          0,
          1,
          2,
          3,
          4,
          5,
          6,
          7,
          8,
          9
         ],
         "y": [
          3.230769230769231,
          2.1,
          2.0555555555555554,
          1.8235294117647058,
          1.9090909090909092,
          2.5,
          2.230769230769231,
          2.608695652173913,
          2.3225806451612905,
          2.7058823529411766
         ]
        },
        {
         "line": {
          "color": "red"
         },
         "mode": "markers+lines",
         "opacity": 0.3,
         "type": "scatter",
         "x": [
          0,
          1,
          2,
          3,
          4,
          5,
          6,
          7,
          8,
          9
         ],
         "y": [
          2,
          2.2857142857142856,
          1.875,
          2.5,
          2.65,
          2.272727272727273,
          2.3181818181818183,
          2.2962962962962963,
          2.3684210526315788,
          2.566666666666667
         ]
        },
        {
         "line": {
          "color": "red"
         },
         "mode": "markers+lines",
         "opacity": 0.3,
         "type": "scatter",
         "x": [
          0,
          1,
          2,
          3,
          4,
          5,
          6,
          7,
          8,
          9
         ],
         "y": [
          1.5,
          1.2,
          2.2142857142857144,
          2.230769230769231,
          3.8095238095238093,
          2.111111111111111,
          2.8421052631578947,
          1.2352941176470589,
          3.5789473684210527,
          3.03125
         ]
        },
        {
         "line": {
          "color": "red"
         },
         "mode": "markers+lines",
         "opacity": 0.3,
         "type": "scatter",
         "x": [
          0,
          1,
          2,
          3,
          4,
          5,
          6,
          7,
          8,
          9
         ],
         "y": [
          2.4444444444444446,
          1.3636363636363635,
          1.4545454545454546,
          2.0833333333333335,
          1.7,
          1.826086956521739,
          2.375,
          2.5,
          2.6666666666666665,
          2.5714285714285716
         ]
        },
        {
         "line": {
          "color": "red"
         },
         "mode": "markers+lines",
         "opacity": 0.3,
         "type": "scatter",
         "x": [
          0,
          1,
          2,
          3,
          4,
          5,
          6,
          7,
          8,
          9
         ],
         "y": [
          1.125,
          2.875,
          2.111111111111111,
          2.15,
          2.8125,
          2.7,
          3.730769230769231,
          2.4782608695652173,
          2.48,
          3.1
         ]
        },
        {
         "line": {
          "color": "red"
         },
         "mode": "markers+lines",
         "opacity": 0.3,
         "type": "scatter",
         "x": [
          0,
          1,
          2,
          3,
          4,
          5,
          6,
          7,
          8,
          9
         ],
         "y": [
          2.8181818181818183,
          2.75,
          3.3636363636363638,
          2.909090909090909,
          2.4761904761904763,
          2.1666666666666665,
          2.28,
          2,
          3.4782608695652173,
          3.0285714285714285
         ]
        },
        {
         "line": {
          "color": "red"
         },
         "mode": "markers+lines",
         "opacity": 0.3,
         "type": "scatter",
         "x": [
          0,
          1,
          2,
          3,
          4,
          5,
          6,
          7,
          8,
          9
         ],
         "y": [
          1,
          1.5714285714285714,
          2.769230769230769,
          2.176470588235294,
          1.85,
          1.9473684210526316,
          2.6,
          3.5714285714285716,
          1.9565217391304348,
          2.5
         ]
        },
        {
         "line": {
          "color": "red"
         },
         "mode": "markers+lines",
         "opacity": 0.3,
         "type": "scatter",
         "x": [
          0,
          1,
          2,
          3,
          4,
          5,
          6,
          7,
          8,
          9
         ],
         "y": [
          1.1428571428571428,
          4.071428571428571,
          4.3125,
          3.0555555555555554,
          4.148148148148148,
          4.9375,
          3.825,
          3.8214285714285716,
          4.0606060606060606,
          3.577777777777778
         ]
        },
        {
         "line": {
          "color": "red"
         },
         "mode": "markers+lines",
         "opacity": 0.3,
         "type": "scatter",
         "x": [
          0,
          1,
          2,
          3,
          4,
          5,
          6,
          7,
          8,
          9
         ],
         "y": [
          2.090909090909091,
          3.3125,
          2.619047619047619,
          2.2857142857142856,
          3.0625,
          2.25,
          2.869565217391304,
          2.9615384615384617,
          3.2142857142857144,
          3
         ]
        },
        {
         "line": {
          "color": "red"
         },
         "mode": "markers+lines",
         "opacity": 0.3,
         "type": "scatter",
         "x": [
          0,
          1,
          2,
          3,
          4,
          5,
          6,
          7,
          8,
          9
         ],
         "y": [
          2.4545454545454546,
          2.25,
          2.4615384615384617,
          2.5,
          3.357142857142857,
          2.588235294117647,
          3,
          3.25,
          2.8260869565217392,
          2.4285714285714284
         ]
        },
        {
         "line": {
          "color": "red"
         },
         "mode": "markers+lines",
         "opacity": 0.3,
         "type": "scatter",
         "x": [
          0,
          1,
          2,
          3,
          4,
          5,
          6,
          7,
          8,
          9
         ],
         "y": [
          1.4,
          5,
          3.1666666666666665,
          2.7,
          2.1904761904761907,
          2.1153846153846154,
          3.392857142857143,
          3.6666666666666665,
          3.1818181818181817,
          3.810810810810811
         ]
        },
        {
         "line": {
          "color": "red"
         },
         "mode": "markers+lines",
         "opacity": 0.3,
         "type": "scatter",
         "x": [
          0,
          1,
          2,
          3,
          4,
          5,
          6,
          7,
          8,
          9
         ],
         "y": [
          2.1666666666666665,
          3.1666666666666665,
          2.230769230769231,
          2.1333333333333333,
          1,
          2.15,
          1.8421052631578947,
          2.2962962962962963,
          3.4210526315789473,
          2
         ]
        },
        {
         "line": {
          "color": "red"
         },
         "mode": "markers+lines",
         "opacity": 0.3,
         "type": "scatter",
         "x": [
          0,
          1,
          2,
          3,
          4,
          5,
          6,
          7,
          8,
          9
         ],
         "y": [
          1.125,
          1.4285714285714286,
          3.5833333333333335,
          3,
          1.68,
          2.1923076923076925,
          2.9545454545454546,
          2.7333333333333334,
          2.9166666666666665,
          2.657142857142857
         ]
        },
        {
         "line": {
          "color": "red"
         },
         "mode": "markers+lines",
         "opacity": 0.3,
         "type": "scatter",
         "x": [
          0,
          1,
          2,
          3,
          4,
          5,
          6,
          7,
          8,
          9
         ],
         "y": [
          2.1,
          3,
          2.375,
          1.95,
          2.65,
          1.6666666666666667,
          2.1578947368421053,
          3.782608695652174,
          2.176470588235294,
          2.1538461538461537
         ]
        },
        {
         "line": {
          "color": "red"
         },
         "mode": "markers+lines",
         "opacity": 0.3,
         "type": "scatter",
         "x": [
          0,
          1,
          2,
          3,
          4,
          5,
          6,
          7,
          8,
          9
         ],
         "y": [
          1.4,
          3.7058823529411766,
          2,
          1.875,
          2.3181818181818183,
          2.6666666666666665,
          1.7096774193548387,
          3.1666666666666665,
          2.25,
          2.4
         ]
        },
        {
         "line": {
          "color": "red"
         },
         "mode": "markers+lines",
         "opacity": 0.3,
         "type": "scatter",
         "x": [
          0,
          1,
          2,
          3,
          4,
          5,
          6,
          7,
          8,
          9
         ],
         "y": [
          2.3,
          3.1818181818181817,
          4.111111111111111,
          1.7647058823529411,
          2.1666666666666665,
          1.875,
          2.176470588235294,
          1.631578947368421,
          2.7777777777777777,
          3.380952380952381
         ]
        },
        {
         "line": {
          "color": "red"
         },
         "mode": "markers+lines",
         "opacity": 0.3,
         "type": "scatter",
         "x": [
          0,
          1,
          2,
          3,
          4,
          5,
          6,
          7,
          8,
          9
         ],
         "y": [
          3.5,
          3.4166666666666665,
          3.45,
          4.08,
          2.3461538461538463,
          2.1818181818181817,
          3.2142857142857144,
          3.1153846153846154,
          3.3404255319148937,
          2.1923076923076925
         ]
        },
        {
         "line": {
          "color": "red"
         },
         "mode": "markers+lines",
         "opacity": 0.3,
         "type": "scatter",
         "x": [
          0,
          1,
          2,
          3,
          4,
          5,
          6,
          7,
          8,
          9
         ],
         "y": [
          1.9,
          4.230769230769231,
          3.142857142857143,
          1.9090909090909092,
          1.8181818181818181,
          2.5714285714285716,
          1.8823529411764706,
          3.1666666666666665,
          2.3793103448275863,
          1.8461538461538463
         ]
        },
        {
         "line": {
          "color": "red"
         },
         "mode": "markers+lines",
         "opacity": 0.3,
         "type": "scatter",
         "x": [
          0,
          1,
          2,
          3,
          4,
          5,
          6,
          7,
          8,
          9
         ],
         "y": [
          1.7777777777777777,
          1.5384615384615385,
          2.6363636363636362,
          1.9523809523809523,
          2.875,
          2.25,
          2.3,
          1.9615384615384615,
          2.8333333333333335,
          3
         ]
        },
        {
         "line": {
          "color": "red"
         },
         "mode": "markers+lines",
         "opacity": 0.3,
         "type": "scatter",
         "x": [
          0,
          1,
          2,
          3,
          4,
          5,
          6,
          7,
          8,
          9
         ],
         "y": [
          2.25,
          2,
          3.235294117647059,
          2.2222222222222223,
          1.3529411764705883,
          2.111111111111111,
          2.25,
          2.6538461538461537,
          3.074074074074074,
          3.2857142857142856
         ]
        },
        {
         "line": {
          "color": "red"
         },
         "mode": "markers+lines",
         "opacity": 0.3,
         "type": "scatter",
         "x": [
          0,
          1,
          2,
          3,
          4,
          5,
          6,
          7,
          8,
          9
         ],
         "y": [
          1.3333333333333333,
          3.2,
          4.4,
          2.7916666666666665,
          2.380952380952381,
          3.5652173913043477,
          4.12,
          3.033333333333333,
          3.6551724137931036,
          3.375
         ]
        },
        {
         "line": {
          "color": "red"
         },
         "mode": "markers+lines",
         "opacity": 0.3,
         "type": "scatter",
         "x": [
          0,
          1,
          2,
          3,
          4,
          5,
          6,
          7,
          8,
          9
         ],
         "y": [
          3.4615384615384617,
          2.2857142857142856,
          2.0625,
          3.2142857142857144,
          3.1,
          2.7058823529411766,
          2.388888888888889,
          1.7272727272727273,
          3.5517241379310347,
          2.5714285714285716
         ]
        },
        {
         "line": {
          "color": "red"
         },
         "mode": "markers+lines",
         "opacity": 0.3,
         "type": "scatter",
         "x": [
          0,
          1,
          2,
          3,
          4,
          5,
          6,
          7,
          8,
          9
         ],
         "y": [
          1.3636363636363635,
          2.1818181818181817,
          2.7142857142857144,
          2.6,
          1.6470588235294117,
          1.8,
          2.5294117647058822,
          2.2,
          2.1875,
          2.72
         ]
        },
        {
         "line": {
          "color": "red"
         },
         "mode": "markers+lines",
         "opacity": 0.3,
         "type": "scatter",
         "x": [
          0,
          1,
          2,
          3,
          4,
          5,
          6,
          7,
          8,
          9
         ],
         "y": [
          1.4285714285714286,
          1.6363636363636365,
          1,
          1.6666666666666667,
          1.5,
          2.380952380952381,
          3.1739130434782608,
          2.125,
          1.619047619047619,
          2.4210526315789473
         ]
        },
        {
         "line": {
          "color": "red"
         },
         "mode": "markers+lines",
         "opacity": 0.3,
         "type": "scatter",
         "x": [
          0,
          1,
          2,
          3,
          4,
          5,
          6,
          7,
          8,
          9
         ],
         "y": [
          1.4,
          2,
          1.6470588235294117,
          2.7777777777777777,
          3,
          1.9090909090909092,
          3.3142857142857145,
          2.125,
          2.903225806451613,
          3.4193548387096775
         ]
        },
        {
         "line": {
          "color": "red"
         },
         "mode": "markers+lines",
         "opacity": 0.3,
         "type": "scatter",
         "x": [
          0,
          1,
          2,
          3,
          4,
          5,
          6,
          7,
          8,
          9
         ],
         "y": [
          2.3529411764705883,
          2,
          1.9583333333333333,
          1.8095238095238095,
          2.6818181818181817,
          2.967741935483871,
          3.5384615384615383,
          3.72,
          2.142857142857143,
          3
         ]
        },
        {
         "line": {
          "color": "red"
         },
         "mode": "markers+lines",
         "opacity": 0.3,
         "type": "scatter",
         "x": [
          0,
          1,
          2,
          3,
          4,
          5,
          6,
          7,
          8,
          9
         ],
         "y": [
          2.909090909090909,
          2.7058823529411766,
          1.4285714285714286,
          1.3529411764705883,
          1.8333333333333333,
          2.8,
          1.9285714285714286,
          2.6315789473684212,
          3.1470588235294117,
          2.48
         ]
        },
        {
         "line": {
          "color": "red"
         },
         "mode": "markers+lines",
         "opacity": 0.3,
         "type": "scatter",
         "x": [
          0,
          1,
          2,
          3,
          4,
          5,
          6,
          7,
          8,
          9
         ],
         "y": [
          1.8,
          1.6666666666666667,
          1.8333333333333333,
          2.0952380952380953,
          1.9473684210526316,
          3.05,
          1.95,
          2.9545454545454546,
          2.4193548387096775,
          1.6363636363636365
         ]
        },
        {
         "line": {
          "color": "red"
         },
         "mode": "markers+lines",
         "opacity": 0.3,
         "type": "scatter",
         "x": [
          0,
          1,
          2,
          3,
          4,
          5,
          6,
          7,
          8,
          9
         ],
         "y": [
          1.7142857142857142,
          2.5833333333333335,
          2.6666666666666665,
          3.3,
          1.8666666666666667,
          3.263157894736842,
          2.35,
          2.65,
          2.413793103448276,
          2.05
         ]
        },
        {
         "line": {
          "color": "red"
         },
         "mode": "markers+lines",
         "opacity": 0.3,
         "type": "scatter",
         "x": [
          0,
          1,
          2,
          3,
          4,
          5,
          6,
          7,
          8,
          9
         ],
         "y": [
          3.4285714285714284,
          2.1818181818181817,
          2.8,
          2.9,
          2.25,
          2.8421052631578947,
          2.409090909090909,
          2.037037037037037,
          3.090909090909091,
          2.263157894736842
         ]
        },
        {
         "line": {
          "color": "red"
         },
         "mode": "markers+lines",
         "opacity": 0.3,
         "type": "scatter",
         "x": [
          0,
          1,
          2,
          3,
          4,
          5,
          6,
          7,
          8,
          9
         ],
         "y": [
          2.1666666666666665,
          3.5789473684210527,
          2.5,
          1.4,
          2.2941176470588234,
          2.5925925925925926,
          3.142857142857143,
          2.8636363636363638,
          2.5,
          3.3333333333333335
         ]
        },
        {
         "line": {
          "color": "red"
         },
         "mode": "markers+lines",
         "opacity": 0.3,
         "type": "scatter",
         "x": [
          0,
          1,
          2,
          3,
          4,
          5,
          6,
          7,
          8,
          9
         ],
         "y": [
          1.0909090909090908,
          2.8125,
          1.9090909090909092,
          1.7058823529411764,
          2.65,
          2.5,
          2.05,
          2.52,
          2.6315789473684212,
          2.4571428571428573
         ]
        },
        {
         "line": {
          "color": "red"
         },
         "mode": "markers+lines",
         "opacity": 0.3,
         "type": "scatter",
         "x": [
          0,
          1,
          2,
          3,
          4,
          5,
          6,
          7,
          8,
          9
         ],
         "y": [
          3.375,
          2.7857142857142856,
          2.1052631578947367,
          1.9,
          2.5416666666666665,
          2.3529411764705883,
          2.142857142857143,
          3.6153846153846154,
          2,
          3.642857142857143
         ]
        },
        {
         "line": {
          "color": "red"
         },
         "mode": "markers+lines",
         "opacity": 0.3,
         "type": "scatter",
         "x": [
          0,
          1,
          2,
          3,
          4,
          5,
          6,
          7,
          8,
          9
         ],
         "y": [
          2.727272727272727,
          2.652173913043478,
          2.4375,
          2.4285714285714284,
          2.473684210526316,
          2.4761904761904763,
          1.962962962962963,
          2.75,
          2.4642857142857144,
          3.15625
         ]
        },
        {
         "line": {
          "color": "red"
         },
         "mode": "markers+lines",
         "opacity": 0.3,
         "type": "scatter",
         "x": [
          0,
          1,
          2,
          3,
          4,
          5,
          6,
          7,
          8,
          9
         ],
         "y": [
          1.25,
          2.8333333333333335,
          2.8333333333333335,
          2.5,
          2.5789473684210527,
          2.0588235294117645,
          2.347826086956522,
          2.1052631578947367,
          3.3125,
          3.212121212121212
         ]
        },
        {
         "line": {
          "color": "red"
         },
         "mode": "markers+lines",
         "opacity": 0.3,
         "type": "scatter",
         "x": [
          0,
          1,
          2,
          3,
          4,
          5,
          6,
          7,
          8,
          9
         ],
         "y": [
          3.625,
          1.6470588235294117,
          2.4210526315789473,
          2.2222222222222223,
          2.7058823529411766,
          2.619047619047619,
          2.769230769230769,
          2.5652173913043477,
          3.3666666666666667,
          3.5806451612903225
         ]
        },
        {
         "line": {
          "color": "red"
         },
         "mode": "markers+lines",
         "opacity": 0.3,
         "type": "scatter",
         "x": [
          0,
          1,
          2,
          3,
          4,
          5,
          6,
          7,
          8,
          9
         ],
         "y": [
          2.2142857142857144,
          2.235294117647059,
          1.9090909090909092,
          1.4090909090909092,
          1.7916666666666667,
          2.9523809523809526,
          3,
          2.7916666666666665,
          3.2,
          1.9047619047619047
         ]
        },
        {
         "line": {
          "color": "red"
         },
         "mode": "markers+lines",
         "opacity": 0.3,
         "type": "scatter",
         "x": [
          0,
          1,
          2,
          3,
          4,
          5,
          6,
          7,
          8,
          9
         ],
         "y": [
          2.3333333333333335,
          1.3076923076923077,
          3.4,
          3.16,
          1.9090909090909092,
          2.764705882352941,
          1.4705882352941178,
          3.230769230769231,
          3.032258064516129,
          2.875
         ]
        },
        {
         "line": {
          "color": "red"
         },
         "mode": "markers+lines",
         "opacity": 0.3,
         "type": "scatter",
         "x": [
          0,
          1,
          2,
          3,
          4,
          5,
          6,
          7,
          8,
          9
         ],
         "y": [
          1.8571428571428572,
          1.8,
          3.2142857142857144,
          1.7647058823529411,
          1.55,
          1.9523809523809523,
          2.235294117647059,
          3.107142857142857,
          3.0833333333333335,
          0.6666666666666666
         ]
        },
        {
         "line": {
          "color": "red"
         },
         "mode": "markers+lines",
         "opacity": 0.3,
         "type": "scatter",
         "x": [
          0,
          1,
          2,
          3,
          4,
          5,
          6,
          7,
          8,
          9
         ],
         "y": [
          0.875,
          1.25,
          2.3333333333333335,
          2,
          2.227272727272727,
          3.2777777777777777,
          1.8823529411764706,
          2.8095238095238093,
          1.8055555555555556,
          2.269230769230769
         ]
        },
        {
         "line": {
          "color": "red"
         },
         "mode": "markers+lines",
         "opacity": 0.3,
         "type": "scatter",
         "x": [
          0,
          1,
          2,
          3,
          4,
          5,
          6,
          7,
          8,
          9
         ],
         "y": [
          1.7692307692307692,
          2.5294117647058822,
          2.2857142857142856,
          1.5,
          1.9411764705882353,
          2.5625,
          2,
          2.4482758620689653,
          2.2222222222222223,
          2.2142857142857144
         ]
        },
        {
         "line": {
          "color": "red"
         },
         "mode": "markers+lines",
         "opacity": 0.3,
         "type": "scatter",
         "x": [
          0,
          1,
          2,
          3,
          4,
          5,
          6,
          7,
          8,
          9
         ],
         "y": [
          2.0714285714285716,
          1.1,
          2.380952380952381,
          3.111111111111111,
          2.7,
          2.6363636363636362,
          1.6896551724137931,
          2.3636363636363638,
          2.5806451612903225,
          3.2333333333333334
         ]
        },
        {
         "line": {
          "color": "red"
         },
         "mode": "markers+lines",
         "opacity": 0.3,
         "type": "scatter",
         "x": [
          0,
          1,
          2,
          3,
          4,
          5,
          6,
          7,
          8,
          9
         ],
         "y": [
          0.8333333333333334,
          1.3333333333333333,
          2,
          2.466666666666667,
          3.8823529411764706,
          1.5,
          1.8846153846153846,
          3.0588235294117645,
          2.52,
          3.2142857142857144
         ]
        },
        {
         "line": {
          "color": "red"
         },
         "mode": "markers+lines",
         "opacity": 0.3,
         "type": "scatter",
         "x": [
          0,
          1,
          2,
          3,
          4,
          5,
          6,
          7,
          8,
          9
         ],
         "y": [
          3.5555555555555554,
          2.5,
          4.125,
          3.3333333333333335,
          2.3529411764705883,
          3.8333333333333335,
          3.161290322580645,
          3,
          2.8666666666666667,
          3.8125
         ]
        },
        {
         "line": {
          "color": "red"
         },
         "mode": "markers+lines",
         "opacity": 0.3,
         "type": "scatter",
         "x": [
          0,
          1,
          2,
          3,
          4,
          5,
          6,
          7,
          8,
          9
         ],
         "y": [
          1.9,
          2.272727272727273,
          2.25,
          0.95,
          2.125,
          1.6,
          3.1176470588235294,
          1.5625,
          2.0588235294117645,
          2.227272727272727
         ]
        },
        {
         "line": {
          "color": "red"
         },
         "mode": "markers+lines",
         "opacity": 0.3,
         "type": "scatter",
         "x": [
          0,
          1,
          2,
          3,
          4,
          5,
          6,
          7,
          8,
          9
         ],
         "y": [
          2.5384615384615383,
          3.466666666666667,
          2.076923076923077,
          2.3157894736842106,
          3.782608695652174,
          3.7435897435897436,
          2.9310344827586206,
          2.4,
          4.142857142857143,
          3.7142857142857144
         ]
        },
        {
         "line": {
          "color": "red"
         },
         "mode": "markers+lines",
         "opacity": 0.3,
         "type": "scatter",
         "x": [
          0,
          1,
          2,
          3,
          4,
          5,
          6,
          7,
          8,
          9
         ],
         "y": [
          2.4545454545454546,
          3.3333333333333335,
          2.066666666666667,
          2.7,
          2.806451612903226,
          2.5714285714285716,
          3.1666666666666665,
          3.272727272727273,
          3.5,
          3.658536585365854
         ]
        },
        {
         "line": {
          "color": "red"
         },
         "mode": "markers+lines",
         "opacity": 0.3,
         "type": "scatter",
         "x": [
          0,
          1,
          2,
          3,
          4,
          5,
          6,
          7,
          8,
          9
         ],
         "y": [
          3.9285714285714284,
          2,
          3,
          2.588235294117647,
          4.421052631578948,
          2.6,
          3.0526315789473686,
          2.3666666666666667,
          3.0285714285714285,
          2.6862745098039214
         ]
        },
        {
         "line": {
          "color": "red"
         },
         "mode": "markers+lines",
         "opacity": 0.3,
         "type": "scatter",
         "x": [
          0,
          1,
          2,
          3,
          4,
          5,
          6,
          7,
          8,
          9
         ],
         "y": [
          3.4,
          2.2857142857142856,
          1.7142857142857142,
          2.125,
          2.3125,
          2.6842105263157894,
          1.84,
          2.2666666666666666,
          2.739130434782609,
          2.590909090909091
         ]
        },
        {
         "line": {
          "color": "red"
         },
         "mode": "markers+lines",
         "opacity": 0.3,
         "type": "scatter",
         "x": [
          0,
          1,
          2,
          3,
          4,
          5,
          6,
          7,
          8,
          9
         ],
         "y": [
          5.333333333333333,
          3.357142857142857,
          1.375,
          1.9,
          3.391304347826087,
          3,
          3.4583333333333335,
          3.269230769230769,
          3.361111111111111,
          4.083333333333333
         ]
        },
        {
         "line": {
          "color": "red"
         },
         "mode": "markers+lines",
         "opacity": 0.3,
         "type": "scatter",
         "x": [
          0,
          1,
          2,
          3,
          4,
          5,
          6,
          7,
          8,
          9
         ],
         "y": [
          1.5714285714285714,
          1.3333333333333333,
          1.7142857142857142,
          1.6,
          1.8695652173913044,
          2.3333333333333335,
          1.8823529411764706,
          3,
          2.652173913043478,
          2.6923076923076925
         ]
        },
        {
         "line": {
          "color": "red"
         },
         "mode": "markers+lines",
         "opacity": 0.3,
         "type": "scatter",
         "x": [
          0,
          1,
          2,
          3,
          4,
          5,
          6,
          7,
          8,
          9
         ],
         "y": [
          1.8181818181818181,
          2.2142857142857144,
          2.5833333333333335,
          1.7894736842105263,
          3.238095238095238,
          3.176470588235294,
          2.4,
          2.8095238095238093,
          2.6,
          2.2777777777777777
         ]
        },
        {
         "line": {
          "color": "red"
         },
         "mode": "markers+lines",
         "opacity": 0.3,
         "type": "scatter",
         "x": [
          0,
          1,
          2,
          3,
          4,
          5,
          6,
          7,
          8,
          9
         ],
         "y": [
          2,
          1.3636363636363635,
          1.75,
          3.0625,
          2.6315789473684212,
          2.3333333333333335,
          3.5238095238095237,
          2.5714285714285716,
          2.9545454545454546,
          3.193548387096774
         ]
        },
        {
         "line": {
          "color": "red"
         },
         "mode": "markers+lines",
         "opacity": 0.3,
         "type": "scatter",
         "x": [
          0,
          1,
          2,
          3,
          4,
          5,
          6,
          7,
          8,
          9
         ],
         "y": [
          1.8333333333333333,
          1.9166666666666667,
          2.25,
          3.1904761904761907,
          2.6363636363636362,
          3.6875,
          3.3846153846153846,
          3.3,
          2.8846153846153846,
          3.875
         ]
        },
        {
         "line": {
          "color": "red"
         },
         "mode": "markers+lines",
         "opacity": 0.3,
         "type": "scatter",
         "x": [
          0,
          1,
          2,
          3,
          4,
          5,
          6,
          7,
          8,
          9
         ],
         "y": [
          2,
          1.6153846153846154,
          3.5384615384615383,
          2.9473684210526314,
          2.0434782608695654,
          2.125,
          4,
          2.6538461538461537,
          2.7777777777777777,
          2.25
         ]
        },
        {
         "line": {
          "color": "red"
         },
         "mode": "markers+lines",
         "opacity": 0.3,
         "type": "scatter",
         "x": [
          0,
          1,
          2,
          3,
          4,
          5,
          6,
          7,
          8,
          9
         ],
         "y": [
          2,
          2.090909090909091,
          1.75,
          3.391304347826087,
          2.5357142857142856,
          3.8461538461538463,
          2.1153846153846154,
          2.6774193548387095,
          4.04,
          2.9705882352941178
         ]
        },
        {
         "line": {
          "color": "red"
         },
         "mode": "markers+lines",
         "opacity": 0.3,
         "type": "scatter",
         "x": [
          0,
          1,
          2,
          3,
          4,
          5,
          6,
          7,
          8,
          9
         ],
         "y": [
          2.3333333333333335,
          1.8181818181818181,
          1.5263157894736843,
          1.9285714285714286,
          1.588235294117647,
          3.8461538461538463,
          3.7,
          3.16,
          3.6666666666666665,
          4.333333333333333
         ]
        },
        {
         "line": {
          "color": "red"
         },
         "mode": "markers+lines",
         "opacity": 0.3,
         "type": "scatter",
         "x": [
          0,
          1,
          2,
          3,
          4,
          5,
          6,
          7,
          8,
          9
         ],
         "y": [
          4,
          3.5,
          2.5384615384615383,
          3.3333333333333335,
          3.7037037037037037,
          3.772727272727273,
          5.066666666666666,
          2.625,
          4.407407407407407,
          3.926829268292683
         ]
        },
        {
         "line": {
          "color": "red"
         },
         "mode": "markers+lines",
         "opacity": 0.3,
         "type": "scatter",
         "x": [
          0,
          1,
          2,
          3,
          4,
          5,
          6,
          7,
          8,
          9
         ],
         "y": [
          1.6666666666666667,
          2.066666666666667,
          3.4375,
          3.533333333333333,
          3.25,
          0.9,
          4.814814814814815,
          2.9,
          2.4146341463414633,
          3.8823529411764706
         ]
        },
        {
         "line": {
          "color": "red"
         },
         "mode": "markers+lines",
         "opacity": 0.3,
         "type": "scatter",
         "x": [
          0,
          1,
          2,
          3,
          4,
          5,
          6,
          7,
          8,
          9
         ],
         "y": [
          1.5714285714285714,
          2.3636363636363638,
          2.2857142857142856,
          2,
          2.5714285714285716,
          2.142857142857143,
          3.090909090909091,
          2.6315789473684212,
          2.5652173913043477,
          3.28
         ]
        },
        {
         "line": {
          "color": "red"
         },
         "mode": "markers+lines",
         "opacity": 0.3,
         "type": "scatter",
         "x": [
          0,
          1,
          2,
          3,
          4,
          5,
          6,
          7,
          8,
          9
         ],
         "y": [
          1.8181818181818181,
          1.6923076923076923,
          2.6875,
          3.125,
          2.588235294117647,
          2.4166666666666665,
          3.7241379310344827,
          2.423076923076923,
          3.806451612903226,
          3.119047619047619
         ]
        },
        {
         "line": {
          "color": "red"
         },
         "mode": "markers+lines",
         "opacity": 0.3,
         "type": "scatter",
         "x": [
          0,
          1,
          2,
          3,
          4,
          5,
          6,
          7,
          8,
          9
         ],
         "y": [
          3.3636363636363638,
          1.7333333333333334,
          2.6956521739130435,
          2.4,
          1.8823529411764706,
          3.3684210526315788,
          2.5,
          2.3846153846153846,
          2.96,
          2.5454545454545454
         ]
        },
        {
         "line": {
          "color": "red"
         },
         "mode": "markers+lines",
         "opacity": 0.3,
         "type": "scatter",
         "x": [
          0,
          1,
          2,
          3,
          4,
          5,
          6,
          7,
          8,
          9
         ],
         "y": [
          0.75,
          2.7142857142857144,
          1.5384615384615385,
          3.1578947368421053,
          2.5789473684210527,
          3,
          3.4285714285714284,
          3.4444444444444446,
          2.5454545454545454,
          2.1379310344827585
         ]
        },
        {
         "line": {
          "color": "red"
         },
         "mode": "markers+lines",
         "opacity": 0.3,
         "type": "scatter",
         "x": [
          0,
          1,
          2,
          3,
          4,
          5,
          6,
          7,
          8,
          9
         ],
         "y": [
          3.5,
          1.7142857142857142,
          1.1666666666666667,
          3.5,
          3.3076923076923075,
          2.9565217391304346,
          2.6,
          2.25,
          3.1923076923076925,
          3.393939393939394
         ]
        },
        {
         "line": {
          "color": "red"
         },
         "mode": "markers+lines",
         "opacity": 0.3,
         "type": "scatter",
         "x": [
          0,
          1,
          2,
          3,
          4,
          5,
          6,
          7,
          8,
          9
         ],
         "y": [
          3.142857142857143,
          2.3636363636363638,
          3.1666666666666665,
          2.9,
          2.75,
          3.619047619047619,
          2.6129032258064515,
          3.260869565217391,
          3.4791666666666665,
          2.78
         ]
        },
        {
         "line": {
          "color": "red"
         },
         "mode": "markers+lines",
         "opacity": 0.3,
         "type": "scatter",
         "x": [
          0,
          1,
          2,
          3,
          4,
          5,
          6,
          7,
          8,
          9
         ],
         "y": [
          2.238095238095238,
          2.4210526315789473,
          2.0555555555555554,
          1.3157894736842106,
          3.8421052631578947,
          2.9583333333333335,
          3.44,
          3.4444444444444446,
          2.7857142857142856,
          2.86046511627907
         ]
        },
        {
         "line": {
          "color": "red"
         },
         "mode": "markers+lines",
         "opacity": 0.3,
         "type": "scatter",
         "x": [
          0,
          1,
          2,
          3,
          4,
          5,
          6,
          7,
          8,
          9
         ],
         "y": [
          0.2857142857142857,
          1.4,
          2.25,
          1.8125,
          2.769230769230769,
          1.8571428571428572,
          1.9375,
          3.08,
          3.2962962962962963,
          3.28
         ]
        },
        {
         "line": {
          "color": "red"
         },
         "mode": "markers+lines",
         "opacity": 0.3,
         "type": "scatter",
         "x": [
          0,
          1,
          2,
          3,
          4,
          5,
          6,
          7,
          8,
          9
         ],
         "y": [
          2.25,
          1.75,
          1.4736842105263157,
          2.68,
          3.764705882352941,
          3,
          2.32,
          3.0869565217391304,
          2.4411764705882355,
          3.5517241379310347
         ]
        },
        {
         "line": {
          "color": "red"
         },
         "mode": "markers+lines",
         "opacity": 0.3,
         "type": "scatter",
         "x": [
          0,
          1,
          2,
          3,
          4,
          5,
          6,
          7,
          8,
          9
         ],
         "y": [
          1.875,
          2.75,
          2.1578947368421053,
          2.526315789473684,
          3.3684210526315788,
          2.909090909090909,
          1.9375,
          2.44,
          3.0833333333333335,
          2.1
         ]
        },
        {
         "line": {
          "color": "red"
         },
         "mode": "markers+lines",
         "opacity": 0.3,
         "type": "scatter",
         "x": [
          0,
          1,
          2,
          3,
          4,
          5,
          6,
          7,
          8,
          9
         ],
         "y": [
          2.6666666666666665,
          2,
          3.0625,
          2.764705882352941,
          1.7894736842105263,
          3,
          2.0434782608695654,
          2.7586206896551726,
          2.2285714285714286,
          2.48
         ]
        },
        {
         "line": {
          "color": "red"
         },
         "mode": "markers+lines",
         "opacity": 0.3,
         "type": "scatter",
         "x": [
          0,
          1,
          2,
          3,
          4,
          5,
          6,
          7,
          8,
          9
         ],
         "y": [
          1.25,
          2.75,
          1.4545454545454546,
          3.2941176470588234,
          3.5185185185185186,
          2.45,
          1.625,
          3.3333333333333335,
          2.5,
          2.3703703703703702
         ]
        },
        {
         "line": {
          "color": "red"
         },
         "mode": "markers+lines",
         "opacity": 0.3,
         "type": "scatter",
         "x": [
          0,
          1,
          2,
          3,
          4,
          5,
          6,
          7,
          8,
          9
         ],
         "y": [
          2.4545454545454546,
          1.6,
          2.0714285714285716,
          1.8,
          3.2857142857142856,
          3.238095238095238,
          2,
          3.5,
          2.142857142857143,
          3.8181818181818183
         ]
        },
        {
         "line": {
          "color": "red"
         },
         "mode": "markers+lines",
         "opacity": 0.3,
         "type": "scatter",
         "x": [
          0,
          1,
          2,
          3,
          4,
          5,
          6,
          7,
          8,
          9
         ],
         "y": [
          2.1818181818181817,
          2.5714285714285716,
          2.1,
          3.3043478260869565,
          2.6315789473684212,
          2.0952380952380953,
          3.3225806451612905,
          2.586206896551724,
          3.4210526315789473,
          2.8181818181818183
         ]
        },
        {
         "line": {
          "color": "red"
         },
         "mode": "markers+lines",
         "opacity": 0.3,
         "type": "scatter",
         "x": [
          0,
          1,
          2,
          3,
          4,
          5,
          6,
          7,
          8,
          9
         ],
         "y": [
          1.5714285714285714,
          1.4,
          2.411764705882353,
          1.8181818181818181,
          1.5185185185185186,
          2,
          2.7777777777777777,
          2.4545454545454546,
          2.5,
          2.28
         ]
        },
        {
         "line": {
          "color": "red"
         },
         "mode": "markers+lines",
         "opacity": 0.3,
         "type": "scatter",
         "x": [
          0,
          1,
          2,
          3,
          4,
          5,
          6,
          7,
          8,
          9
         ],
         "y": [
          2.75,
          1.7272727272727273,
          2,
          3.823529411764706,
          1.1176470588235294,
          2.6315789473684212,
          2.935483870967742,
          2.4782608695652173,
          2.9655172413793105,
          2.4285714285714284
         ]
        },
        {
         "line": {
          "color": "red"
         },
         "mode": "markers+lines",
         "opacity": 0.3,
         "type": "scatter",
         "x": [
          0,
          1,
          2,
          3,
          4,
          5,
          6,
          7,
          8,
          9
         ],
         "y": [
          1.5833333333333333,
          2.5454545454545454,
          2.642857142857143,
          2.1666666666666665,
          1.0625,
          2.2,
          3.7142857142857144,
          2.5384615384615383,
          2.3684210526315788,
          2.0952380952380953
         ]
        },
        {
         "line": {
          "color": "red"
         },
         "mode": "markers+lines",
         "opacity": 0.3,
         "type": "scatter",
         "x": [
          0,
          1,
          2,
          3,
          4,
          5,
          6,
          7,
          8,
          9
         ],
         "y": [
          2.3333333333333335,
          1.375,
          1.8666666666666667,
          1.8571428571428572,
          2.111111111111111,
          1.3846153846153846,
          3.0476190476190474,
          2.888888888888889,
          2.75,
          2.12
         ]
        },
        {
         "line": {
          "color": "red"
         },
         "mode": "markers+lines",
         "opacity": 0.3,
         "type": "scatter",
         "x": [
          0,
          1,
          2,
          3,
          4,
          5,
          6,
          7,
          8,
          9
         ],
         "y": [
          1.75,
          1.6666666666666667,
          3,
          1.8333333333333333,
          2.5,
          2.88,
          2.1666666666666665,
          3.5,
          3.1739130434782608,
          2.5714285714285716
         ]
        },
        {
         "line": {
          "color": "red"
         },
         "mode": "markers+lines",
         "opacity": 0.3,
         "type": "scatter",
         "x": [
          0,
          1,
          2,
          3,
          4,
          5,
          6,
          7,
          8,
          9
         ],
         "y": [
          2.857142857142857,
          3.2,
          2.3,
          2.65,
          2.2916666666666665,
          2.590909090909091,
          2.9,
          2.4761904761904763,
          3.6923076923076925,
          2.575
         ]
        },
        {
         "line": {
          "color": "red"
         },
         "mode": "markers+lines",
         "opacity": 0.3,
         "type": "scatter",
         "x": [
          0,
          1,
          2,
          3,
          4,
          5,
          6,
          7,
          8,
          9
         ],
         "y": [
          2.727272727272727,
          2.9,
          3.533333333333333,
          2.5,
          1.736842105263158,
          2.235294117647059,
          3.260869565217391,
          3.064516129032258,
          3.260869565217391,
          2.409090909090909
         ]
        },
        {
         "line": {
          "color": "red"
         },
         "mode": "markers+lines",
         "opacity": 0.3,
         "type": "scatter",
         "x": [
          0,
          1,
          2,
          3,
          4,
          5,
          6,
          7,
          8,
          9
         ],
         "y": [
          1.1666666666666667,
          1.4,
          2.611111111111111,
          2.1875,
          1.92,
          2.0588235294117645,
          1.8571428571428572,
          2.625,
          2.6,
          2.727272727272727
         ]
        },
        {
         "line": {
          "color": "red"
         },
         "mode": "markers+lines",
         "opacity": 0.3,
         "type": "scatter",
         "x": [
          0,
          1,
          2,
          3,
          4,
          5,
          6,
          7,
          8,
          9
         ],
         "y": [
          2.3,
          0.875,
          1.5,
          2.4166666666666665,
          1.7777777777777777,
          1.894736842105263,
          3.375,
          3,
          2.0526315789473686,
          1.5909090909090908
         ]
        },
        {
         "line": {
          "color": "red"
         },
         "mode": "markers+lines",
         "opacity": 0.3,
         "type": "scatter",
         "x": [
          0,
          1,
          2,
          3,
          4,
          5,
          6,
          7,
          8,
          9
         ],
         "y": [
          0.6666666666666666,
          3.0526315789473686,
          2.1538461538461537,
          2.4347826086956523,
          2.2666666666666666,
          2.5294117647058822,
          3.16,
          2.15,
          2.4193548387096775,
          2.8076923076923075
         ]
        },
        {
         "line": {
          "color": "red"
         },
         "mode": "markers+lines",
         "opacity": 0.3,
         "type": "scatter",
         "x": [
          0,
          1,
          2,
          3,
          4,
          5,
          6,
          7,
          8,
          9
         ],
         "y": [
          2.875,
          2.1666666666666665,
          2.1052631578947367,
          1.6842105263157894,
          1.5555555555555556,
          3.1333333333333333,
          2.4444444444444446,
          2.85,
          2.1875,
          3.25
         ]
        },
        {
         "line": {
          "color": "red"
         },
         "mode": "markers+lines",
         "opacity": 0.3,
         "type": "scatter",
         "x": [
          0,
          1,
          2,
          3,
          4,
          5,
          6,
          7,
          8,
          9
         ],
         "y": [
          1.7,
          1.6666666666666667,
          2,
          2.5384615384615383,
          2.0454545454545454,
          2.1578947368421053,
          1.5238095238095237,
          3.769230769230769,
          1.7916666666666667,
          2.689655172413793
         ]
        },
        {
         "line": {
          "color": "red"
         },
         "mode": "markers+lines",
         "opacity": 0.3,
         "type": "scatter",
         "x": [
          0,
          1,
          2,
          3,
          4,
          5,
          6,
          7,
          8,
          9
         ],
         "y": [
          2.3636363636363638,
          2,
          1.4,
          1.9166666666666667,
          2.0625,
          2.1666666666666665,
          2.909090909090909,
          3.0869565217391304,
          1.875,
          2.9565217391304346
         ]
        },
        {
         "line": {
          "color": "red"
         },
         "mode": "markers+lines",
         "opacity": 0.3,
         "type": "scatter",
         "x": [
          0,
          1,
          2,
          3,
          4,
          5,
          6,
          7,
          8,
          9
         ],
         "y": [
          2.5833333333333335,
          1.75,
          2.4,
          1.5555555555555556,
          2.4,
          2.4615384615384617,
          2.789473684210526,
          3.6363636363636362,
          2.088235294117647,
          3.4
         ]
        },
        {
         "line": {
          "color": "red"
         },
         "mode": "markers+lines",
         "opacity": 0.3,
         "type": "scatter",
         "x": [
          0,
          1,
          2,
          3,
          4,
          5,
          6,
          7,
          8,
          9
         ],
         "y": [
          3,
          3.6666666666666665,
          1.5,
          1.5263157894736843,
          2.111111111111111,
          2.1,
          3,
          2.9130434782608696,
          1.5714285714285714,
          3.3225806451612905
         ]
        },
        {
         "line": {
          "color": "red"
         },
         "mode": "markers+lines",
         "opacity": 0.3,
         "type": "scatter",
         "x": [
          0,
          1,
          2,
          3,
          4,
          5,
          6,
          7,
          8,
          9
         ],
         "y": [
          2.7777777777777777,
          2,
          1.1818181818181819,
          2.3181818181818183,
          1.6923076923076923,
          2.4705882352941178,
          3.590909090909091,
          2.217391304347826,
          3.3157894736842106,
          2.7
         ]
        },
        {
         "line": {
          "color": "red"
         },
         "mode": "markers+lines",
         "opacity": 0.3,
         "type": "scatter",
         "x": [
          0,
          1,
          2,
          3,
          4,
          5,
          6,
          7,
          8,
          9
         ],
         "y": [
          2.6666666666666665,
          2.1538461538461537,
          2.0625,
          1.9523809523809523,
          2.888888888888889,
          2.5,
          2.1481481481481484,
          2.0526315789473686,
          2.96,
          2.413793103448276
         ]
        },
        {
         "line": {
          "color": "red"
         },
         "mode": "markers+lines",
         "opacity": 0.3,
         "type": "scatter",
         "x": [
          0,
          1,
          2,
          3,
          4,
          5,
          6,
          7,
          8,
          9
         ],
         "y": [
          1.7272727272727273,
          1.3333333333333333,
          2.2777777777777777,
          1.9090909090909092,
          2.8,
          2.6818181818181817,
          2.6,
          2.0588235294117645,
          2.7142857142857144,
          3.142857142857143
         ]
        }
       ],
       "layout": {
        "template": {
         "data": {
          "bar": [
           {
            "error_x": {
             "color": "#2a3f5f"
            },
            "error_y": {
             "color": "#2a3f5f"
            },
            "marker": {
             "line": {
              "color": "#E5ECF6",
              "width": 0.5
             }
            },
            "type": "bar"
           }
          ],
          "barpolar": [
           {
            "marker": {
             "line": {
              "color": "#E5ECF6",
              "width": 0.5
             }
            },
            "type": "barpolar"
           }
          ],
          "carpet": [
           {
            "aaxis": {
             "endlinecolor": "#2a3f5f",
             "gridcolor": "white",
             "linecolor": "white",
             "minorgridcolor": "white",
             "startlinecolor": "#2a3f5f"
            },
            "baxis": {
             "endlinecolor": "#2a3f5f",
             "gridcolor": "white",
             "linecolor": "white",
             "minorgridcolor": "white",
             "startlinecolor": "#2a3f5f"
            },
            "type": "carpet"
           }
          ],
          "choropleth": [
           {
            "colorbar": {
             "outlinewidth": 0,
             "ticks": ""
            },
            "type": "choropleth"
           }
          ],
          "contour": [
           {
            "colorbar": {
             "outlinewidth": 0,
             "ticks": ""
            },
            "colorscale": [
             [
              0,
              "#0d0887"
             ],
             [
              0.1111111111111111,
              "#46039f"
             ],
             [
              0.2222222222222222,
              "#7201a8"
             ],
             [
              0.3333333333333333,
              "#9c179e"
             ],
             [
              0.4444444444444444,
              "#bd3786"
             ],
             [
              0.5555555555555556,
              "#d8576b"
             ],
             [
              0.6666666666666666,
              "#ed7953"
             ],
             [
              0.7777777777777778,
              "#fb9f3a"
             ],
             [
              0.8888888888888888,
              "#fdca26"
             ],
             [
              1,
              "#f0f921"
             ]
            ],
            "type": "contour"
           }
          ],
          "contourcarpet": [
           {
            "colorbar": {
             "outlinewidth": 0,
             "ticks": ""
            },
            "type": "contourcarpet"
           }
          ],
          "heatmap": [
           {
            "colorbar": {
             "outlinewidth": 0,
             "ticks": ""
            },
            "colorscale": [
             [
              0,
              "#0d0887"
             ],
             [
              0.1111111111111111,
              "#46039f"
             ],
             [
              0.2222222222222222,
              "#7201a8"
             ],
             [
              0.3333333333333333,
              "#9c179e"
             ],
             [
              0.4444444444444444,
              "#bd3786"
             ],
             [
              0.5555555555555556,
              "#d8576b"
             ],
             [
              0.6666666666666666,
              "#ed7953"
             ],
             [
              0.7777777777777778,
              "#fb9f3a"
             ],
             [
              0.8888888888888888,
              "#fdca26"
             ],
             [
              1,
              "#f0f921"
             ]
            ],
            "type": "heatmap"
           }
          ],
          "heatmapgl": [
           {
            "colorbar": {
             "outlinewidth": 0,
             "ticks": ""
            },
            "colorscale": [
             [
              0,
              "#0d0887"
             ],
             [
              0.1111111111111111,
              "#46039f"
             ],
             [
              0.2222222222222222,
              "#7201a8"
             ],
             [
              0.3333333333333333,
              "#9c179e"
             ],
             [
              0.4444444444444444,
              "#bd3786"
             ],
             [
              0.5555555555555556,
              "#d8576b"
             ],
             [
              0.6666666666666666,
              "#ed7953"
             ],
             [
              0.7777777777777778,
              "#fb9f3a"
             ],
             [
              0.8888888888888888,
              "#fdca26"
             ],
             [
              1,
              "#f0f921"
             ]
            ],
            "type": "heatmapgl"
           }
          ],
          "histogram": [
           {
            "marker": {
             "colorbar": {
              "outlinewidth": 0,
              "ticks": ""
             }
            },
            "type": "histogram"
           }
          ],
          "histogram2d": [
           {
            "colorbar": {
             "outlinewidth": 0,
             "ticks": ""
            },
            "colorscale": [
             [
              0,
              "#0d0887"
             ],
             [
              0.1111111111111111,
              "#46039f"
             ],
             [
              0.2222222222222222,
              "#7201a8"
             ],
             [
              0.3333333333333333,
              "#9c179e"
             ],
             [
              0.4444444444444444,
              "#bd3786"
             ],
             [
              0.5555555555555556,
              "#d8576b"
             ],
             [
              0.6666666666666666,
              "#ed7953"
             ],
             [
              0.7777777777777778,
              "#fb9f3a"
             ],
             [
              0.8888888888888888,
              "#fdca26"
             ],
             [
              1,
              "#f0f921"
             ]
            ],
            "type": "histogram2d"
           }
          ],
          "histogram2dcontour": [
           {
            "colorbar": {
             "outlinewidth": 0,
             "ticks": ""
            },
            "colorscale": [
             [
              0,
              "#0d0887"
             ],
             [
              0.1111111111111111,
              "#46039f"
             ],
             [
              0.2222222222222222,
              "#7201a8"
             ],
             [
              0.3333333333333333,
              "#9c179e"
             ],
             [
              0.4444444444444444,
              "#bd3786"
             ],
             [
              0.5555555555555556,
              "#d8576b"
             ],
             [
              0.6666666666666666,
              "#ed7953"
             ],
             [
              0.7777777777777778,
              "#fb9f3a"
             ],
             [
              0.8888888888888888,
              "#fdca26"
             ],
             [
              1,
              "#f0f921"
             ]
            ],
            "type": "histogram2dcontour"
           }
          ],
          "mesh3d": [
           {
            "colorbar": {
             "outlinewidth": 0,
             "ticks": ""
            },
            "type": "mesh3d"
           }
          ],
          "parcoords": [
           {
            "line": {
             "colorbar": {
              "outlinewidth": 0,
              "ticks": ""
             }
            },
            "type": "parcoords"
           }
          ],
          "pie": [
           {
            "automargin": true,
            "type": "pie"
           }
          ],
          "scatter": [
           {
            "marker": {
             "colorbar": {
              "outlinewidth": 0,
              "ticks": ""
             }
            },
            "type": "scatter"
           }
          ],
          "scatter3d": [
           {
            "line": {
             "colorbar": {
              "outlinewidth": 0,
              "ticks": ""
             }
            },
            "marker": {
             "colorbar": {
              "outlinewidth": 0,
              "ticks": ""
             }
            },
            "type": "scatter3d"
           }
          ],
          "scattercarpet": [
           {
            "marker": {
             "colorbar": {
              "outlinewidth": 0,
              "ticks": ""
             }
            },
            "type": "scattercarpet"
           }
          ],
          "scattergeo": [
           {
            "marker": {
             "colorbar": {
              "outlinewidth": 0,
              "ticks": ""
             }
            },
            "type": "scattergeo"
           }
          ],
          "scattergl": [
           {
            "marker": {
             "colorbar": {
              "outlinewidth": 0,
              "ticks": ""
             }
            },
            "type": "scattergl"
           }
          ],
          "scattermapbox": [
           {
            "marker": {
             "colorbar": {
              "outlinewidth": 0,
              "ticks": ""
             }
            },
            "type": "scattermapbox"
           }
          ],
          "scatterpolar": [
           {
            "marker": {
             "colorbar": {
              "outlinewidth": 0,
              "ticks": ""
             }
            },
            "type": "scatterpolar"
           }
          ],
          "scatterpolargl": [
           {
            "marker": {
             "colorbar": {
              "outlinewidth": 0,
              "ticks": ""
             }
            },
            "type": "scatterpolargl"
           }
          ],
          "scatterternary": [
           {
            "marker": {
             "colorbar": {
              "outlinewidth": 0,
              "ticks": ""
             }
            },
            "type": "scatterternary"
           }
          ],
          "surface": [
           {
            "colorbar": {
             "outlinewidth": 0,
             "ticks": ""
            },
            "colorscale": [
             [
              0,
              "#0d0887"
             ],
             [
              0.1111111111111111,
              "#46039f"
             ],
             [
              0.2222222222222222,
              "#7201a8"
             ],
             [
              0.3333333333333333,
              "#9c179e"
             ],
             [
              0.4444444444444444,
              "#bd3786"
             ],
             [
              0.5555555555555556,
              "#d8576b"
             ],
             [
              0.6666666666666666,
              "#ed7953"
             ],
             [
              0.7777777777777778,
              "#fb9f3a"
             ],
             [
              0.8888888888888888,
              "#fdca26"
             ],
             [
              1,
              "#f0f921"
             ]
            ],
            "type": "surface"
           }
          ],
          "table": [
           {
            "cells": {
             "fill": {
              "color": "#EBF0F8"
             },
             "line": {
              "color": "white"
             }
            },
            "header": {
             "fill": {
              "color": "#C8D4E3"
             },
             "line": {
              "color": "white"
             }
            },
            "type": "table"
           }
          ]
         },
         "layout": {
          "annotationdefaults": {
           "arrowcolor": "#2a3f5f",
           "arrowhead": 0,
           "arrowwidth": 1
          },
          "coloraxis": {
           "colorbar": {
            "outlinewidth": 0,
            "ticks": ""
           }
          },
          "colorscale": {
           "diverging": [
            [
             0,
             "#8e0152"
            ],
            [
             0.1,
             "#c51b7d"
            ],
            [
             0.2,
             "#de77ae"
            ],
            [
             0.3,
             "#f1b6da"
            ],
            [
             0.4,
             "#fde0ef"
            ],
            [
             0.5,
             "#f7f7f7"
            ],
            [
             0.6,
             "#e6f5d0"
            ],
            [
             0.7,
             "#b8e186"
            ],
            [
             0.8,
             "#7fbc41"
            ],
            [
             0.9,
             "#4d9221"
            ],
            [
             1,
             "#276419"
            ]
           ],
           "sequential": [
            [
             0,
             "#0d0887"
            ],
            [
             0.1111111111111111,
             "#46039f"
            ],
            [
             0.2222222222222222,
             "#7201a8"
            ],
            [
             0.3333333333333333,
             "#9c179e"
            ],
            [
             0.4444444444444444,
             "#bd3786"
            ],
            [
             0.5555555555555556,
             "#d8576b"
            ],
            [
             0.6666666666666666,
             "#ed7953"
            ],
            [
             0.7777777777777778,
             "#fb9f3a"
            ],
            [
             0.8888888888888888,
             "#fdca26"
            ],
            [
             1,
             "#f0f921"
            ]
           ],
           "sequentialminus": [
            [
             0,
             "#0d0887"
            ],
            [
             0.1111111111111111,
             "#46039f"
            ],
            [
             0.2222222222222222,
             "#7201a8"
            ],
            [
             0.3333333333333333,
             "#9c179e"
            ],
            [
             0.4444444444444444,
             "#bd3786"
            ],
            [
             0.5555555555555556,
             "#d8576b"
            ],
            [
             0.6666666666666666,
             "#ed7953"
            ],
            [
             0.7777777777777778,
             "#fb9f3a"
            ],
            [
             0.8888888888888888,
             "#fdca26"
            ],
            [
             1,
             "#f0f921"
            ]
           ]
          },
          "colorway": [
           "#636efa",
           "#EF553B",
           "#00cc96",
           "#ab63fa",
           "#FFA15A",
           "#19d3f3",
           "#FF6692",
           "#B6E880",
           "#FF97FF",
           "#FECB52"
          ],
          "font": {
           "color": "#2a3f5f"
          },
          "geo": {
           "bgcolor": "white",
           "lakecolor": "white",
           "landcolor": "#E5ECF6",
           "showlakes": true,
           "showland": true,
           "subunitcolor": "white"
          },
          "hoverlabel": {
           "align": "left"
          },
          "hovermode": "closest",
          "mapbox": {
           "style": "light"
          },
          "paper_bgcolor": "white",
          "plot_bgcolor": "#E5ECF6",
          "polar": {
           "angularaxis": {
            "gridcolor": "white",
            "linecolor": "white",
            "ticks": ""
           },
           "bgcolor": "#E5ECF6",
           "radialaxis": {
            "gridcolor": "white",
            "linecolor": "white",
            "ticks": ""
           }
          },
          "scene": {
           "xaxis": {
            "backgroundcolor": "#E5ECF6",
            "gridcolor": "white",
            "gridwidth": 2,
            "linecolor": "white",
            "showbackground": true,
            "ticks": "",
            "zerolinecolor": "white"
           },
           "yaxis": {
            "backgroundcolor": "#E5ECF6",
            "gridcolor": "white",
            "gridwidth": 2,
            "linecolor": "white",
            "showbackground": true,
            "ticks": "",
            "zerolinecolor": "white"
           },
           "zaxis": {
            "backgroundcolor": "#E5ECF6",
            "gridcolor": "white",
            "gridwidth": 2,
            "linecolor": "white",
            "showbackground": true,
            "ticks": "",
            "zerolinecolor": "white"
           }
          },
          "shapedefaults": {
           "line": {
            "color": "#2a3f5f"
           }
          },
          "ternary": {
           "aaxis": {
            "gridcolor": "white",
            "linecolor": "white",
            "ticks": ""
           },
           "baxis": {
            "gridcolor": "white",
            "linecolor": "white",
            "ticks": ""
           },
           "bgcolor": "#E5ECF6",
           "caxis": {
            "gridcolor": "white",
            "linecolor": "white",
            "ticks": ""
           }
          },
          "title": {
           "x": 0.05
          },
          "xaxis": {
           "automargin": true,
           "gridcolor": "white",
           "linecolor": "white",
           "ticks": "",
           "title": {
            "standoff": 15
           },
           "zerolinecolor": "white",
           "zerolinewidth": 2
          },
          "yaxis": {
           "automargin": true,
           "gridcolor": "white",
           "linecolor": "white",
           "ticks": "",
           "title": {
            "standoff": 15
           },
           "zerolinecolor": "white",
           "zerolinewidth": 2
          }
         }
        }
       }
      },
      "text/html": [
       "<div>\n",
       "        \n",
       "        \n",
       "            <div id=\"718c7174-d705-40c5-b86f-07165326474a\" class=\"plotly-graph-div\" style=\"height:525px; width:100%;\"></div>\n",
       "            <script type=\"text/javascript\">\n",
       "                require([\"plotly\"], function(Plotly) {\n",
       "                    window.PLOTLYENV=window.PLOTLYENV || {};\n",
       "                    \n",
       "                if (document.getElementById(\"718c7174-d705-40c5-b86f-07165326474a\")) {\n",
       "                    Plotly.newPlot(\n",
       "                        '718c7174-d705-40c5-b86f-07165326474a',\n",
       "                        [{\"line\": {\"color\": \"red\"}, \"mode\": \"markers+lines\", \"opacity\": 0.3, \"type\": \"scatter\", \"x\": [0, 1, 2, 3, 4, 5, 6, 7, 8, 9], \"y\": [1.7272727272727273, 3.5789473684210527, 2.142857142857143, 5.583333333333333, 4.0625, 4.571428571428571, 3.566666666666667, 4.057142857142857, 4.136363636363637, 5.086956521739131]}, {\"line\": {\"color\": \"red\"}, \"mode\": \"markers+lines\", \"opacity\": 0.3, \"type\": \"scatter\", \"x\": [0, 1, 2, 3, 4, 5, 6, 7, 8, 9], \"y\": [2.4444444444444446, 2.0555555555555554, 2.9523809523809526, 4.25, 3.1052631578947367, 1.5, 2.761904761904762, 3.5121951219512195, 3.5517241379310347, 3.588235294117647]}, {\"line\": {\"color\": \"red\"}, \"mode\": \"markers+lines\", \"opacity\": 0.3, \"type\": \"scatter\", \"x\": [0, 1, 2, 3, 4, 5, 6, 7, 8, 9], \"y\": [1.375, 2.0, 2.111111111111111, 3.066666666666667, 2.142857142857143, 2.5294117647058822, 2.263157894736842, 2.8636363636363638, 2.84, 3.227272727272727]}, {\"line\": {\"color\": \"red\"}, \"mode\": \"markers+lines\", \"opacity\": 0.3, \"type\": \"scatter\", \"x\": [0, 1, 2, 3, 4, 5, 6, 7, 8, 9], \"y\": [1.3333333333333333, 1.5555555555555556, 2.142857142857143, 1.7777777777777777, 2.176470588235294, 2.4583333333333335, 1.875, 1.8095238095238095, 2.6551724137931036, 2.6551724137931036]}, {\"line\": {\"color\": \"red\"}, \"mode\": \"markers+lines\", \"opacity\": 0.3, \"type\": \"scatter\", \"x\": [0, 1, 2, 3, 4, 5, 6, 7, 8, 9], \"y\": [3.1666666666666665, 2.0, 3.769230769230769, 2.0, 2.0833333333333335, 1.8666666666666667, 3.1666666666666665, 2.6666666666666665, 4.869565217391305, 3.5]}, {\"line\": {\"color\": \"red\"}, \"mode\": \"markers+lines\", \"opacity\": 0.3, \"type\": \"scatter\", \"x\": [0, 1, 2, 3, 4, 5, 6, 7, 8, 9], \"y\": [2.0, 3.0625, 4.055555555555555, 4.285714285714286, 3.2222222222222223, 3.6153846153846154, 4.483870967741935, 3.8275862068965516, 4.972222222222222, 4.0]}, {\"line\": {\"color\": \"red\"}, \"mode\": \"markers+lines\", \"opacity\": 0.3, \"type\": \"scatter\", \"x\": [0, 1, 2, 3, 4, 5, 6, 7, 8, 9], \"y\": [1.4, 1.9375, 2.5555555555555554, 1.736842105263158, 2.0, 3.6, 2.3, 2.272727272727273, 2.68, 2.1666666666666665]}, {\"line\": {\"color\": \"red\"}, \"mode\": \"markers+lines\", \"opacity\": 0.3, \"type\": \"scatter\", \"x\": [0, 1, 2, 3, 4, 5, 6, 7, 8, 9], \"y\": [2.0, 3.1538461538461537, 2.25, 3.2666666666666666, 2.4444444444444446, 3.764705882352941, 2.9473684210526314, 1.9545454545454546, 3.0, 2.76]}, {\"line\": {\"color\": \"red\"}, \"mode\": \"markers+lines\", \"opacity\": 0.3, \"type\": \"scatter\", \"x\": [0, 1, 2, 3, 4, 5, 6, 7, 8, 9], \"y\": [4.416666666666667, 2.4545454545454546, 1.7333333333333334, 1.8, 2.9047619047619047, 2.185185185185185, 3.5, 2.869565217391304, 3.259259259259259, 4.6571428571428575]}, {\"line\": {\"color\": \"red\"}, \"mode\": \"markers+lines\", \"opacity\": 0.3, \"type\": \"scatter\", \"x\": [0, 1, 2, 3, 4, 5, 6, 7, 8, 9], \"y\": [3.230769230769231, 2.1, 2.0555555555555554, 1.8235294117647058, 1.9090909090909092, 2.5, 2.230769230769231, 2.608695652173913, 2.3225806451612905, 2.7058823529411766]}, {\"line\": {\"color\": \"red\"}, \"mode\": \"markers+lines\", \"opacity\": 0.3, \"type\": \"scatter\", \"x\": [0, 1, 2, 3, 4, 5, 6, 7, 8, 9], \"y\": [2.0, 2.2857142857142856, 1.875, 2.5, 2.65, 2.272727272727273, 2.3181818181818183, 2.2962962962962963, 2.3684210526315788, 2.566666666666667]}, {\"line\": {\"color\": \"red\"}, \"mode\": \"markers+lines\", \"opacity\": 0.3, \"type\": \"scatter\", \"x\": [0, 1, 2, 3, 4, 5, 6, 7, 8, 9], \"y\": [1.5, 1.2, 2.2142857142857144, 2.230769230769231, 3.8095238095238093, 2.111111111111111, 2.8421052631578947, 1.2352941176470589, 3.5789473684210527, 3.03125]}, {\"line\": {\"color\": \"red\"}, \"mode\": \"markers+lines\", \"opacity\": 0.3, \"type\": \"scatter\", \"x\": [0, 1, 2, 3, 4, 5, 6, 7, 8, 9], \"y\": [2.4444444444444446, 1.3636363636363635, 1.4545454545454546, 2.0833333333333335, 1.7, 1.826086956521739, 2.375, 2.5, 2.6666666666666665, 2.5714285714285716]}, {\"line\": {\"color\": \"red\"}, \"mode\": \"markers+lines\", \"opacity\": 0.3, \"type\": \"scatter\", \"x\": [0, 1, 2, 3, 4, 5, 6, 7, 8, 9], \"y\": [1.125, 2.875, 2.111111111111111, 2.15, 2.8125, 2.7, 3.730769230769231, 2.4782608695652173, 2.48, 3.1]}, {\"line\": {\"color\": \"red\"}, \"mode\": \"markers+lines\", \"opacity\": 0.3, \"type\": \"scatter\", \"x\": [0, 1, 2, 3, 4, 5, 6, 7, 8, 9], \"y\": [2.8181818181818183, 2.75, 3.3636363636363638, 2.909090909090909, 2.4761904761904763, 2.1666666666666665, 2.28, 2.0, 3.4782608695652173, 3.0285714285714285]}, {\"line\": {\"color\": \"red\"}, \"mode\": \"markers+lines\", \"opacity\": 0.3, \"type\": \"scatter\", \"x\": [0, 1, 2, 3, 4, 5, 6, 7, 8, 9], \"y\": [1.0, 1.5714285714285714, 2.769230769230769, 2.176470588235294, 1.85, 1.9473684210526316, 2.6, 3.5714285714285716, 1.9565217391304348, 2.5]}, {\"line\": {\"color\": \"red\"}, \"mode\": \"markers+lines\", \"opacity\": 0.3, \"type\": \"scatter\", \"x\": [0, 1, 2, 3, 4, 5, 6, 7, 8, 9], \"y\": [1.1428571428571428, 4.071428571428571, 4.3125, 3.0555555555555554, 4.148148148148148, 4.9375, 3.825, 3.8214285714285716, 4.0606060606060606, 3.577777777777778]}, {\"line\": {\"color\": \"red\"}, \"mode\": \"markers+lines\", \"opacity\": 0.3, \"type\": \"scatter\", \"x\": [0, 1, 2, 3, 4, 5, 6, 7, 8, 9], \"y\": [2.090909090909091, 3.3125, 2.619047619047619, 2.2857142857142856, 3.0625, 2.25, 2.869565217391304, 2.9615384615384617, 3.2142857142857144, 3.0]}, {\"line\": {\"color\": \"red\"}, \"mode\": \"markers+lines\", \"opacity\": 0.3, \"type\": \"scatter\", \"x\": [0, 1, 2, 3, 4, 5, 6, 7, 8, 9], \"y\": [2.4545454545454546, 2.25, 2.4615384615384617, 2.5, 3.357142857142857, 2.588235294117647, 3.0, 3.25, 2.8260869565217392, 2.4285714285714284]}, {\"line\": {\"color\": \"red\"}, \"mode\": \"markers+lines\", \"opacity\": 0.3, \"type\": \"scatter\", \"x\": [0, 1, 2, 3, 4, 5, 6, 7, 8, 9], \"y\": [1.4, 5.0, 3.1666666666666665, 2.7, 2.1904761904761907, 2.1153846153846154, 3.392857142857143, 3.6666666666666665, 3.1818181818181817, 3.810810810810811]}, {\"line\": {\"color\": \"red\"}, \"mode\": \"markers+lines\", \"opacity\": 0.3, \"type\": \"scatter\", \"x\": [0, 1, 2, 3, 4, 5, 6, 7, 8, 9], \"y\": [2.1666666666666665, 3.1666666666666665, 2.230769230769231, 2.1333333333333333, 1.0, 2.15, 1.8421052631578947, 2.2962962962962963, 3.4210526315789473, 2.0]}, {\"line\": {\"color\": \"red\"}, \"mode\": \"markers+lines\", \"opacity\": 0.3, \"type\": \"scatter\", \"x\": [0, 1, 2, 3, 4, 5, 6, 7, 8, 9], \"y\": [1.125, 1.4285714285714286, 3.5833333333333335, 3.0, 1.68, 2.1923076923076925, 2.9545454545454546, 2.7333333333333334, 2.9166666666666665, 2.657142857142857]}, {\"line\": {\"color\": \"red\"}, \"mode\": \"markers+lines\", \"opacity\": 0.3, \"type\": \"scatter\", \"x\": [0, 1, 2, 3, 4, 5, 6, 7, 8, 9], \"y\": [2.1, 3.0, 2.375, 1.95, 2.65, 1.6666666666666667, 2.1578947368421053, 3.782608695652174, 2.176470588235294, 2.1538461538461537]}, {\"line\": {\"color\": \"red\"}, \"mode\": \"markers+lines\", \"opacity\": 0.3, \"type\": \"scatter\", \"x\": [0, 1, 2, 3, 4, 5, 6, 7, 8, 9], \"y\": [1.4, 3.7058823529411766, 2.0, 1.875, 2.3181818181818183, 2.6666666666666665, 1.7096774193548387, 3.1666666666666665, 2.25, 2.4]}, {\"line\": {\"color\": \"red\"}, \"mode\": \"markers+lines\", \"opacity\": 0.3, \"type\": \"scatter\", \"x\": [0, 1, 2, 3, 4, 5, 6, 7, 8, 9], \"y\": [2.3, 3.1818181818181817, 4.111111111111111, 1.7647058823529411, 2.1666666666666665, 1.875, 2.176470588235294, 1.631578947368421, 2.7777777777777777, 3.380952380952381]}, {\"line\": {\"color\": \"red\"}, \"mode\": \"markers+lines\", \"opacity\": 0.3, \"type\": \"scatter\", \"x\": [0, 1, 2, 3, 4, 5, 6, 7, 8, 9], \"y\": [3.5, 3.4166666666666665, 3.45, 4.08, 2.3461538461538463, 2.1818181818181817, 3.2142857142857144, 3.1153846153846154, 3.3404255319148937, 2.1923076923076925]}, {\"line\": {\"color\": \"red\"}, \"mode\": \"markers+lines\", \"opacity\": 0.3, \"type\": \"scatter\", \"x\": [0, 1, 2, 3, 4, 5, 6, 7, 8, 9], \"y\": [1.9, 4.230769230769231, 3.142857142857143, 1.9090909090909092, 1.8181818181818181, 2.5714285714285716, 1.8823529411764706, 3.1666666666666665, 2.3793103448275863, 1.8461538461538463]}, {\"line\": {\"color\": \"red\"}, \"mode\": \"markers+lines\", \"opacity\": 0.3, \"type\": \"scatter\", \"x\": [0, 1, 2, 3, 4, 5, 6, 7, 8, 9], \"y\": [1.7777777777777777, 1.5384615384615385, 2.6363636363636362, 1.9523809523809523, 2.875, 2.25, 2.3, 1.9615384615384615, 2.8333333333333335, 3.0]}, {\"line\": {\"color\": \"red\"}, \"mode\": \"markers+lines\", \"opacity\": 0.3, \"type\": \"scatter\", \"x\": [0, 1, 2, 3, 4, 5, 6, 7, 8, 9], \"y\": [2.25, 2.0, 3.235294117647059, 2.2222222222222223, 1.3529411764705883, 2.111111111111111, 2.25, 2.6538461538461537, 3.074074074074074, 3.2857142857142856]}, {\"line\": {\"color\": \"red\"}, \"mode\": \"markers+lines\", \"opacity\": 0.3, \"type\": \"scatter\", \"x\": [0, 1, 2, 3, 4, 5, 6, 7, 8, 9], \"y\": [1.3333333333333333, 3.2, 4.4, 2.7916666666666665, 2.380952380952381, 3.5652173913043477, 4.12, 3.033333333333333, 3.6551724137931036, 3.375]}, {\"line\": {\"color\": \"red\"}, \"mode\": \"markers+lines\", \"opacity\": 0.3, \"type\": \"scatter\", \"x\": [0, 1, 2, 3, 4, 5, 6, 7, 8, 9], \"y\": [3.4615384615384617, 2.2857142857142856, 2.0625, 3.2142857142857144, 3.1, 2.7058823529411766, 2.388888888888889, 1.7272727272727273, 3.5517241379310347, 2.5714285714285716]}, {\"line\": {\"color\": \"red\"}, \"mode\": \"markers+lines\", \"opacity\": 0.3, \"type\": \"scatter\", \"x\": [0, 1, 2, 3, 4, 5, 6, 7, 8, 9], \"y\": [1.3636363636363635, 2.1818181818181817, 2.7142857142857144, 2.6, 1.6470588235294117, 1.8, 2.5294117647058822, 2.2, 2.1875, 2.72]}, {\"line\": {\"color\": \"red\"}, \"mode\": \"markers+lines\", \"opacity\": 0.3, \"type\": \"scatter\", \"x\": [0, 1, 2, 3, 4, 5, 6, 7, 8, 9], \"y\": [1.4285714285714286, 1.6363636363636365, 1.0, 1.6666666666666667, 1.5, 2.380952380952381, 3.1739130434782608, 2.125, 1.619047619047619, 2.4210526315789473]}, {\"line\": {\"color\": \"red\"}, \"mode\": \"markers+lines\", \"opacity\": 0.3, \"type\": \"scatter\", \"x\": [0, 1, 2, 3, 4, 5, 6, 7, 8, 9], \"y\": [1.4, 2.0, 1.6470588235294117, 2.7777777777777777, 3.0, 1.9090909090909092, 3.3142857142857145, 2.125, 2.903225806451613, 3.4193548387096775]}, {\"line\": {\"color\": \"red\"}, \"mode\": \"markers+lines\", \"opacity\": 0.3, \"type\": \"scatter\", \"x\": [0, 1, 2, 3, 4, 5, 6, 7, 8, 9], \"y\": [2.3529411764705883, 2.0, 1.9583333333333333, 1.8095238095238095, 2.6818181818181817, 2.967741935483871, 3.5384615384615383, 3.72, 2.142857142857143, 3.0]}, {\"line\": {\"color\": \"red\"}, \"mode\": \"markers+lines\", \"opacity\": 0.3, \"type\": \"scatter\", \"x\": [0, 1, 2, 3, 4, 5, 6, 7, 8, 9], \"y\": [2.909090909090909, 2.7058823529411766, 1.4285714285714286, 1.3529411764705883, 1.8333333333333333, 2.8, 1.9285714285714286, 2.6315789473684212, 3.1470588235294117, 2.48]}, {\"line\": {\"color\": \"red\"}, \"mode\": \"markers+lines\", \"opacity\": 0.3, \"type\": \"scatter\", \"x\": [0, 1, 2, 3, 4, 5, 6, 7, 8, 9], \"y\": [1.8, 1.6666666666666667, 1.8333333333333333, 2.0952380952380953, 1.9473684210526316, 3.05, 1.95, 2.9545454545454546, 2.4193548387096775, 1.6363636363636365]}, {\"line\": {\"color\": \"red\"}, \"mode\": \"markers+lines\", \"opacity\": 0.3, \"type\": \"scatter\", \"x\": [0, 1, 2, 3, 4, 5, 6, 7, 8, 9], \"y\": [1.7142857142857142, 2.5833333333333335, 2.6666666666666665, 3.3, 1.8666666666666667, 3.263157894736842, 2.35, 2.65, 2.413793103448276, 2.05]}, {\"line\": {\"color\": \"red\"}, \"mode\": \"markers+lines\", \"opacity\": 0.3, \"type\": \"scatter\", \"x\": [0, 1, 2, 3, 4, 5, 6, 7, 8, 9], \"y\": [3.4285714285714284, 2.1818181818181817, 2.8, 2.9, 2.25, 2.8421052631578947, 2.409090909090909, 2.037037037037037, 3.090909090909091, 2.263157894736842]}, {\"line\": {\"color\": \"red\"}, \"mode\": \"markers+lines\", \"opacity\": 0.3, \"type\": \"scatter\", \"x\": [0, 1, 2, 3, 4, 5, 6, 7, 8, 9], \"y\": [2.1666666666666665, 3.5789473684210527, 2.5, 1.4, 2.2941176470588234, 2.5925925925925926, 3.142857142857143, 2.8636363636363638, 2.5, 3.3333333333333335]}, {\"line\": {\"color\": \"red\"}, \"mode\": \"markers+lines\", \"opacity\": 0.3, \"type\": \"scatter\", \"x\": [0, 1, 2, 3, 4, 5, 6, 7, 8, 9], \"y\": [1.0909090909090908, 2.8125, 1.9090909090909092, 1.7058823529411764, 2.65, 2.5, 2.05, 2.52, 2.6315789473684212, 2.4571428571428573]}, {\"line\": {\"color\": \"red\"}, \"mode\": \"markers+lines\", \"opacity\": 0.3, \"type\": \"scatter\", \"x\": [0, 1, 2, 3, 4, 5, 6, 7, 8, 9], \"y\": [3.375, 2.7857142857142856, 2.1052631578947367, 1.9, 2.5416666666666665, 2.3529411764705883, 2.142857142857143, 3.6153846153846154, 2.0, 3.642857142857143]}, {\"line\": {\"color\": \"red\"}, \"mode\": \"markers+lines\", \"opacity\": 0.3, \"type\": \"scatter\", \"x\": [0, 1, 2, 3, 4, 5, 6, 7, 8, 9], \"y\": [2.727272727272727, 2.652173913043478, 2.4375, 2.4285714285714284, 2.473684210526316, 2.4761904761904763, 1.962962962962963, 2.75, 2.4642857142857144, 3.15625]}, {\"line\": {\"color\": \"red\"}, \"mode\": \"markers+lines\", \"opacity\": 0.3, \"type\": \"scatter\", \"x\": [0, 1, 2, 3, 4, 5, 6, 7, 8, 9], \"y\": [1.25, 2.8333333333333335, 2.8333333333333335, 2.5, 2.5789473684210527, 2.0588235294117645, 2.347826086956522, 2.1052631578947367, 3.3125, 3.212121212121212]}, {\"line\": {\"color\": \"red\"}, \"mode\": \"markers+lines\", \"opacity\": 0.3, \"type\": \"scatter\", \"x\": [0, 1, 2, 3, 4, 5, 6, 7, 8, 9], \"y\": [3.625, 1.6470588235294117, 2.4210526315789473, 2.2222222222222223, 2.7058823529411766, 2.619047619047619, 2.769230769230769, 2.5652173913043477, 3.3666666666666667, 3.5806451612903225]}, {\"line\": {\"color\": \"red\"}, \"mode\": \"markers+lines\", \"opacity\": 0.3, \"type\": \"scatter\", \"x\": [0, 1, 2, 3, 4, 5, 6, 7, 8, 9], \"y\": [2.2142857142857144, 2.235294117647059, 1.9090909090909092, 1.4090909090909092, 1.7916666666666667, 2.9523809523809526, 3.0, 2.7916666666666665, 3.2, 1.9047619047619047]}, {\"line\": {\"color\": \"red\"}, \"mode\": \"markers+lines\", \"opacity\": 0.3, \"type\": \"scatter\", \"x\": [0, 1, 2, 3, 4, 5, 6, 7, 8, 9], \"y\": [2.3333333333333335, 1.3076923076923077, 3.4, 3.16, 1.9090909090909092, 2.764705882352941, 1.4705882352941178, 3.230769230769231, 3.032258064516129, 2.875]}, {\"line\": {\"color\": \"red\"}, \"mode\": \"markers+lines\", \"opacity\": 0.3, \"type\": \"scatter\", \"x\": [0, 1, 2, 3, 4, 5, 6, 7, 8, 9], \"y\": [1.8571428571428572, 1.8, 3.2142857142857144, 1.7647058823529411, 1.55, 1.9523809523809523, 2.235294117647059, 3.107142857142857, 3.0833333333333335, 0.6666666666666666]}, {\"line\": {\"color\": \"red\"}, \"mode\": \"markers+lines\", \"opacity\": 0.3, \"type\": \"scatter\", \"x\": [0, 1, 2, 3, 4, 5, 6, 7, 8, 9], \"y\": [0.875, 1.25, 2.3333333333333335, 2.0, 2.227272727272727, 3.2777777777777777, 1.8823529411764706, 2.8095238095238093, 1.8055555555555556, 2.269230769230769]}, {\"line\": {\"color\": \"red\"}, \"mode\": \"markers+lines\", \"opacity\": 0.3, \"type\": \"scatter\", \"x\": [0, 1, 2, 3, 4, 5, 6, 7, 8, 9], \"y\": [1.7692307692307692, 2.5294117647058822, 2.2857142857142856, 1.5, 1.9411764705882353, 2.5625, 2.0, 2.4482758620689653, 2.2222222222222223, 2.2142857142857144]}, {\"line\": {\"color\": \"red\"}, \"mode\": \"markers+lines\", \"opacity\": 0.3, \"type\": \"scatter\", \"x\": [0, 1, 2, 3, 4, 5, 6, 7, 8, 9], \"y\": [2.0714285714285716, 1.1, 2.380952380952381, 3.111111111111111, 2.7, 2.6363636363636362, 1.6896551724137931, 2.3636363636363638, 2.5806451612903225, 3.2333333333333334]}, {\"line\": {\"color\": \"red\"}, \"mode\": \"markers+lines\", \"opacity\": 0.3, \"type\": \"scatter\", \"x\": [0, 1, 2, 3, 4, 5, 6, 7, 8, 9], \"y\": [0.8333333333333334, 1.3333333333333333, 2.0, 2.466666666666667, 3.8823529411764706, 1.5, 1.8846153846153846, 3.0588235294117645, 2.52, 3.2142857142857144]}, {\"line\": {\"color\": \"red\"}, \"mode\": \"markers+lines\", \"opacity\": 0.3, \"type\": \"scatter\", \"x\": [0, 1, 2, 3, 4, 5, 6, 7, 8, 9], \"y\": [3.5555555555555554, 2.5, 4.125, 3.3333333333333335, 2.3529411764705883, 3.8333333333333335, 3.161290322580645, 3.0, 2.8666666666666667, 3.8125]}, {\"line\": {\"color\": \"red\"}, \"mode\": \"markers+lines\", \"opacity\": 0.3, \"type\": \"scatter\", \"x\": [0, 1, 2, 3, 4, 5, 6, 7, 8, 9], \"y\": [1.9, 2.272727272727273, 2.25, 0.95, 2.125, 1.6, 3.1176470588235294, 1.5625, 2.0588235294117645, 2.227272727272727]}, {\"line\": {\"color\": \"red\"}, \"mode\": \"markers+lines\", \"opacity\": 0.3, \"type\": \"scatter\", \"x\": [0, 1, 2, 3, 4, 5, 6, 7, 8, 9], \"y\": [2.5384615384615383, 3.466666666666667, 2.076923076923077, 2.3157894736842106, 3.782608695652174, 3.7435897435897436, 2.9310344827586206, 2.4, 4.142857142857143, 3.7142857142857144]}, {\"line\": {\"color\": \"red\"}, \"mode\": \"markers+lines\", \"opacity\": 0.3, \"type\": \"scatter\", \"x\": [0, 1, 2, 3, 4, 5, 6, 7, 8, 9], \"y\": [2.4545454545454546, 3.3333333333333335, 2.066666666666667, 2.7, 2.806451612903226, 2.5714285714285716, 3.1666666666666665, 3.272727272727273, 3.5, 3.658536585365854]}, {\"line\": {\"color\": \"red\"}, \"mode\": \"markers+lines\", \"opacity\": 0.3, \"type\": \"scatter\", \"x\": [0, 1, 2, 3, 4, 5, 6, 7, 8, 9], \"y\": [3.9285714285714284, 2.0, 3.0, 2.588235294117647, 4.421052631578948, 2.6, 3.0526315789473686, 2.3666666666666667, 3.0285714285714285, 2.6862745098039214]}, {\"line\": {\"color\": \"red\"}, \"mode\": \"markers+lines\", \"opacity\": 0.3, \"type\": \"scatter\", \"x\": [0, 1, 2, 3, 4, 5, 6, 7, 8, 9], \"y\": [3.4, 2.2857142857142856, 1.7142857142857142, 2.125, 2.3125, 2.6842105263157894, 1.84, 2.2666666666666666, 2.739130434782609, 2.590909090909091]}, {\"line\": {\"color\": \"red\"}, \"mode\": \"markers+lines\", \"opacity\": 0.3, \"type\": \"scatter\", \"x\": [0, 1, 2, 3, 4, 5, 6, 7, 8, 9], \"y\": [5.333333333333333, 3.357142857142857, 1.375, 1.9, 3.391304347826087, 3.0, 3.4583333333333335, 3.269230769230769, 3.361111111111111, 4.083333333333333]}, {\"line\": {\"color\": \"red\"}, \"mode\": \"markers+lines\", \"opacity\": 0.3, \"type\": \"scatter\", \"x\": [0, 1, 2, 3, 4, 5, 6, 7, 8, 9], \"y\": [1.5714285714285714, 1.3333333333333333, 1.7142857142857142, 1.6, 1.8695652173913044, 2.3333333333333335, 1.8823529411764706, 3.0, 2.652173913043478, 2.6923076923076925]}, {\"line\": {\"color\": \"red\"}, \"mode\": \"markers+lines\", \"opacity\": 0.3, \"type\": \"scatter\", \"x\": [0, 1, 2, 3, 4, 5, 6, 7, 8, 9], \"y\": [1.8181818181818181, 2.2142857142857144, 2.5833333333333335, 1.7894736842105263, 3.238095238095238, 3.176470588235294, 2.4, 2.8095238095238093, 2.6, 2.2777777777777777]}, {\"line\": {\"color\": \"red\"}, \"mode\": \"markers+lines\", \"opacity\": 0.3, \"type\": \"scatter\", \"x\": [0, 1, 2, 3, 4, 5, 6, 7, 8, 9], \"y\": [2.0, 1.3636363636363635, 1.75, 3.0625, 2.6315789473684212, 2.3333333333333335, 3.5238095238095237, 2.5714285714285716, 2.9545454545454546, 3.193548387096774]}, {\"line\": {\"color\": \"red\"}, \"mode\": \"markers+lines\", \"opacity\": 0.3, \"type\": \"scatter\", \"x\": [0, 1, 2, 3, 4, 5, 6, 7, 8, 9], \"y\": [1.8333333333333333, 1.9166666666666667, 2.25, 3.1904761904761907, 2.6363636363636362, 3.6875, 3.3846153846153846, 3.3, 2.8846153846153846, 3.875]}, {\"line\": {\"color\": \"red\"}, \"mode\": \"markers+lines\", \"opacity\": 0.3, \"type\": \"scatter\", \"x\": [0, 1, 2, 3, 4, 5, 6, 7, 8, 9], \"y\": [2.0, 1.6153846153846154, 3.5384615384615383, 2.9473684210526314, 2.0434782608695654, 2.125, 4.0, 2.6538461538461537, 2.7777777777777777, 2.25]}, {\"line\": {\"color\": \"red\"}, \"mode\": \"markers+lines\", \"opacity\": 0.3, \"type\": \"scatter\", \"x\": [0, 1, 2, 3, 4, 5, 6, 7, 8, 9], \"y\": [2.0, 2.090909090909091, 1.75, 3.391304347826087, 2.5357142857142856, 3.8461538461538463, 2.1153846153846154, 2.6774193548387095, 4.04, 2.9705882352941178]}, {\"line\": {\"color\": \"red\"}, \"mode\": \"markers+lines\", \"opacity\": 0.3, \"type\": \"scatter\", \"x\": [0, 1, 2, 3, 4, 5, 6, 7, 8, 9], \"y\": [2.3333333333333335, 1.8181818181818181, 1.5263157894736843, 1.9285714285714286, 1.588235294117647, 3.8461538461538463, 3.7, 3.16, 3.6666666666666665, 4.333333333333333]}, {\"line\": {\"color\": \"red\"}, \"mode\": \"markers+lines\", \"opacity\": 0.3, \"type\": \"scatter\", \"x\": [0, 1, 2, 3, 4, 5, 6, 7, 8, 9], \"y\": [4.0, 3.5, 2.5384615384615383, 3.3333333333333335, 3.7037037037037037, 3.772727272727273, 5.066666666666666, 2.625, 4.407407407407407, 3.926829268292683]}, {\"line\": {\"color\": \"red\"}, \"mode\": \"markers+lines\", \"opacity\": 0.3, \"type\": \"scatter\", \"x\": [0, 1, 2, 3, 4, 5, 6, 7, 8, 9], \"y\": [1.6666666666666667, 2.066666666666667, 3.4375, 3.533333333333333, 3.25, 0.9, 4.814814814814815, 2.9, 2.4146341463414633, 3.8823529411764706]}, {\"line\": {\"color\": \"red\"}, \"mode\": \"markers+lines\", \"opacity\": 0.3, \"type\": \"scatter\", \"x\": [0, 1, 2, 3, 4, 5, 6, 7, 8, 9], \"y\": [1.5714285714285714, 2.3636363636363638, 2.2857142857142856, 2.0, 2.5714285714285716, 2.142857142857143, 3.090909090909091, 2.6315789473684212, 2.5652173913043477, 3.28]}, {\"line\": {\"color\": \"red\"}, \"mode\": \"markers+lines\", \"opacity\": 0.3, \"type\": \"scatter\", \"x\": [0, 1, 2, 3, 4, 5, 6, 7, 8, 9], \"y\": [1.8181818181818181, 1.6923076923076923, 2.6875, 3.125, 2.588235294117647, 2.4166666666666665, 3.7241379310344827, 2.423076923076923, 3.806451612903226, 3.119047619047619]}, {\"line\": {\"color\": \"red\"}, \"mode\": \"markers+lines\", \"opacity\": 0.3, \"type\": \"scatter\", \"x\": [0, 1, 2, 3, 4, 5, 6, 7, 8, 9], \"y\": [3.3636363636363638, 1.7333333333333334, 2.6956521739130435, 2.4, 1.8823529411764706, 3.3684210526315788, 2.5, 2.3846153846153846, 2.96, 2.5454545454545454]}, {\"line\": {\"color\": \"red\"}, \"mode\": \"markers+lines\", \"opacity\": 0.3, \"type\": \"scatter\", \"x\": [0, 1, 2, 3, 4, 5, 6, 7, 8, 9], \"y\": [0.75, 2.7142857142857144, 1.5384615384615385, 3.1578947368421053, 2.5789473684210527, 3.0, 3.4285714285714284, 3.4444444444444446, 2.5454545454545454, 2.1379310344827585]}, {\"line\": {\"color\": \"red\"}, \"mode\": \"markers+lines\", \"opacity\": 0.3, \"type\": \"scatter\", \"x\": [0, 1, 2, 3, 4, 5, 6, 7, 8, 9], \"y\": [3.5, 1.7142857142857142, 1.1666666666666667, 3.5, 3.3076923076923075, 2.9565217391304346, 2.6, 2.25, 3.1923076923076925, 3.393939393939394]}, {\"line\": {\"color\": \"red\"}, \"mode\": \"markers+lines\", \"opacity\": 0.3, \"type\": \"scatter\", \"x\": [0, 1, 2, 3, 4, 5, 6, 7, 8, 9], \"y\": [3.142857142857143, 2.3636363636363638, 3.1666666666666665, 2.9, 2.75, 3.619047619047619, 2.6129032258064515, 3.260869565217391, 3.4791666666666665, 2.78]}, {\"line\": {\"color\": \"red\"}, \"mode\": \"markers+lines\", \"opacity\": 0.3, \"type\": \"scatter\", \"x\": [0, 1, 2, 3, 4, 5, 6, 7, 8, 9], \"y\": [2.238095238095238, 2.4210526315789473, 2.0555555555555554, 1.3157894736842106, 3.8421052631578947, 2.9583333333333335, 3.44, 3.4444444444444446, 2.7857142857142856, 2.86046511627907]}, {\"line\": {\"color\": \"red\"}, \"mode\": \"markers+lines\", \"opacity\": 0.3, \"type\": \"scatter\", \"x\": [0, 1, 2, 3, 4, 5, 6, 7, 8, 9], \"y\": [0.2857142857142857, 1.4, 2.25, 1.8125, 2.769230769230769, 1.8571428571428572, 1.9375, 3.08, 3.2962962962962963, 3.28]}, {\"line\": {\"color\": \"red\"}, \"mode\": \"markers+lines\", \"opacity\": 0.3, \"type\": \"scatter\", \"x\": [0, 1, 2, 3, 4, 5, 6, 7, 8, 9], \"y\": [2.25, 1.75, 1.4736842105263157, 2.68, 3.764705882352941, 3.0, 2.32, 3.0869565217391304, 2.4411764705882355, 3.5517241379310347]}, {\"line\": {\"color\": \"red\"}, \"mode\": \"markers+lines\", \"opacity\": 0.3, \"type\": \"scatter\", \"x\": [0, 1, 2, 3, 4, 5, 6, 7, 8, 9], \"y\": [1.875, 2.75, 2.1578947368421053, 2.526315789473684, 3.3684210526315788, 2.909090909090909, 1.9375, 2.44, 3.0833333333333335, 2.1]}, {\"line\": {\"color\": \"red\"}, \"mode\": \"markers+lines\", \"opacity\": 0.3, \"type\": \"scatter\", \"x\": [0, 1, 2, 3, 4, 5, 6, 7, 8, 9], \"y\": [2.6666666666666665, 2.0, 3.0625, 2.764705882352941, 1.7894736842105263, 3.0, 2.0434782608695654, 2.7586206896551726, 2.2285714285714286, 2.48]}, {\"line\": {\"color\": \"red\"}, \"mode\": \"markers+lines\", \"opacity\": 0.3, \"type\": \"scatter\", \"x\": [0, 1, 2, 3, 4, 5, 6, 7, 8, 9], \"y\": [1.25, 2.75, 1.4545454545454546, 3.2941176470588234, 3.5185185185185186, 2.45, 1.625, 3.3333333333333335, 2.5, 2.3703703703703702]}, {\"line\": {\"color\": \"red\"}, \"mode\": \"markers+lines\", \"opacity\": 0.3, \"type\": \"scatter\", \"x\": [0, 1, 2, 3, 4, 5, 6, 7, 8, 9], \"y\": [2.4545454545454546, 1.6, 2.0714285714285716, 1.8, 3.2857142857142856, 3.238095238095238, 2.0, 3.5, 2.142857142857143, 3.8181818181818183]}, {\"line\": {\"color\": \"red\"}, \"mode\": \"markers+lines\", \"opacity\": 0.3, \"type\": \"scatter\", \"x\": [0, 1, 2, 3, 4, 5, 6, 7, 8, 9], \"y\": [2.1818181818181817, 2.5714285714285716, 2.1, 3.3043478260869565, 2.6315789473684212, 2.0952380952380953, 3.3225806451612905, 2.586206896551724, 3.4210526315789473, 2.8181818181818183]}, {\"line\": {\"color\": \"red\"}, \"mode\": \"markers+lines\", \"opacity\": 0.3, \"type\": \"scatter\", \"x\": [0, 1, 2, 3, 4, 5, 6, 7, 8, 9], \"y\": [1.5714285714285714, 1.4, 2.411764705882353, 1.8181818181818181, 1.5185185185185186, 2.0, 2.7777777777777777, 2.4545454545454546, 2.5, 2.28]}, {\"line\": {\"color\": \"red\"}, \"mode\": \"markers+lines\", \"opacity\": 0.3, \"type\": \"scatter\", \"x\": [0, 1, 2, 3, 4, 5, 6, 7, 8, 9], \"y\": [2.75, 1.7272727272727273, 2.0, 3.823529411764706, 1.1176470588235294, 2.6315789473684212, 2.935483870967742, 2.4782608695652173, 2.9655172413793105, 2.4285714285714284]}, {\"line\": {\"color\": \"red\"}, \"mode\": \"markers+lines\", \"opacity\": 0.3, \"type\": \"scatter\", \"x\": [0, 1, 2, 3, 4, 5, 6, 7, 8, 9], \"y\": [1.5833333333333333, 2.5454545454545454, 2.642857142857143, 2.1666666666666665, 1.0625, 2.2, 3.7142857142857144, 2.5384615384615383, 2.3684210526315788, 2.0952380952380953]}, {\"line\": {\"color\": \"red\"}, \"mode\": \"markers+lines\", \"opacity\": 0.3, \"type\": \"scatter\", \"x\": [0, 1, 2, 3, 4, 5, 6, 7, 8, 9], \"y\": [2.3333333333333335, 1.375, 1.8666666666666667, 1.8571428571428572, 2.111111111111111, 1.3846153846153846, 3.0476190476190474, 2.888888888888889, 2.75, 2.12]}, {\"line\": {\"color\": \"red\"}, \"mode\": \"markers+lines\", \"opacity\": 0.3, \"type\": \"scatter\", \"x\": [0, 1, 2, 3, 4, 5, 6, 7, 8, 9], \"y\": [1.75, 1.6666666666666667, 3.0, 1.8333333333333333, 2.5, 2.88, 2.1666666666666665, 3.5, 3.1739130434782608, 2.5714285714285716]}, {\"line\": {\"color\": \"red\"}, \"mode\": \"markers+lines\", \"opacity\": 0.3, \"type\": \"scatter\", \"x\": [0, 1, 2, 3, 4, 5, 6, 7, 8, 9], \"y\": [2.857142857142857, 3.2, 2.3, 2.65, 2.2916666666666665, 2.590909090909091, 2.9, 2.4761904761904763, 3.6923076923076925, 2.575]}, {\"line\": {\"color\": \"red\"}, \"mode\": \"markers+lines\", \"opacity\": 0.3, \"type\": \"scatter\", \"x\": [0, 1, 2, 3, 4, 5, 6, 7, 8, 9], \"y\": [2.727272727272727, 2.9, 3.533333333333333, 2.5, 1.736842105263158, 2.235294117647059, 3.260869565217391, 3.064516129032258, 3.260869565217391, 2.409090909090909]}, {\"line\": {\"color\": \"red\"}, \"mode\": \"markers+lines\", \"opacity\": 0.3, \"type\": \"scatter\", \"x\": [0, 1, 2, 3, 4, 5, 6, 7, 8, 9], \"y\": [1.1666666666666667, 1.4, 2.611111111111111, 2.1875, 1.92, 2.0588235294117645, 1.8571428571428572, 2.625, 2.6, 2.727272727272727]}, {\"line\": {\"color\": \"red\"}, \"mode\": \"markers+lines\", \"opacity\": 0.3, \"type\": \"scatter\", \"x\": [0, 1, 2, 3, 4, 5, 6, 7, 8, 9], \"y\": [2.3, 0.875, 1.5, 2.4166666666666665, 1.7777777777777777, 1.894736842105263, 3.375, 3.0, 2.0526315789473686, 1.5909090909090908]}, {\"line\": {\"color\": \"red\"}, \"mode\": \"markers+lines\", \"opacity\": 0.3, \"type\": \"scatter\", \"x\": [0, 1, 2, 3, 4, 5, 6, 7, 8, 9], \"y\": [0.6666666666666666, 3.0526315789473686, 2.1538461538461537, 2.4347826086956523, 2.2666666666666666, 2.5294117647058822, 3.16, 2.15, 2.4193548387096775, 2.8076923076923075]}, {\"line\": {\"color\": \"red\"}, \"mode\": \"markers+lines\", \"opacity\": 0.3, \"type\": \"scatter\", \"x\": [0, 1, 2, 3, 4, 5, 6, 7, 8, 9], \"y\": [2.875, 2.1666666666666665, 2.1052631578947367, 1.6842105263157894, 1.5555555555555556, 3.1333333333333333, 2.4444444444444446, 2.85, 2.1875, 3.25]}, {\"line\": {\"color\": \"red\"}, \"mode\": \"markers+lines\", \"opacity\": 0.3, \"type\": \"scatter\", \"x\": [0, 1, 2, 3, 4, 5, 6, 7, 8, 9], \"y\": [1.7, 1.6666666666666667, 2.0, 2.5384615384615383, 2.0454545454545454, 2.1578947368421053, 1.5238095238095237, 3.769230769230769, 1.7916666666666667, 2.689655172413793]}, {\"line\": {\"color\": \"red\"}, \"mode\": \"markers+lines\", \"opacity\": 0.3, \"type\": \"scatter\", \"x\": [0, 1, 2, 3, 4, 5, 6, 7, 8, 9], \"y\": [2.3636363636363638, 2.0, 1.4, 1.9166666666666667, 2.0625, 2.1666666666666665, 2.909090909090909, 3.0869565217391304, 1.875, 2.9565217391304346]}, {\"line\": {\"color\": \"red\"}, \"mode\": \"markers+lines\", \"opacity\": 0.3, \"type\": \"scatter\", \"x\": [0, 1, 2, 3, 4, 5, 6, 7, 8, 9], \"y\": [2.5833333333333335, 1.75, 2.4, 1.5555555555555556, 2.4, 2.4615384615384617, 2.789473684210526, 3.6363636363636362, 2.088235294117647, 3.4]}, {\"line\": {\"color\": \"red\"}, \"mode\": \"markers+lines\", \"opacity\": 0.3, \"type\": \"scatter\", \"x\": [0, 1, 2, 3, 4, 5, 6, 7, 8, 9], \"y\": [3.0, 3.6666666666666665, 1.5, 1.5263157894736843, 2.111111111111111, 2.1, 3.0, 2.9130434782608696, 1.5714285714285714, 3.3225806451612905]}, {\"line\": {\"color\": \"red\"}, \"mode\": \"markers+lines\", \"opacity\": 0.3, \"type\": \"scatter\", \"x\": [0, 1, 2, 3, 4, 5, 6, 7, 8, 9], \"y\": [2.7777777777777777, 2.0, 1.1818181818181819, 2.3181818181818183, 1.6923076923076923, 2.4705882352941178, 3.590909090909091, 2.217391304347826, 3.3157894736842106, 2.7]}, {\"line\": {\"color\": \"red\"}, \"mode\": \"markers+lines\", \"opacity\": 0.3, \"type\": \"scatter\", \"x\": [0, 1, 2, 3, 4, 5, 6, 7, 8, 9], \"y\": [2.6666666666666665, 2.1538461538461537, 2.0625, 1.9523809523809523, 2.888888888888889, 2.5, 2.1481481481481484, 2.0526315789473686, 2.96, 2.413793103448276]}, {\"line\": {\"color\": \"red\"}, \"mode\": \"markers+lines\", \"opacity\": 0.3, \"type\": \"scatter\", \"x\": [0, 1, 2, 3, 4, 5, 6, 7, 8, 9], \"y\": [1.7272727272727273, 1.3333333333333333, 2.2777777777777777, 1.9090909090909092, 2.8, 2.6818181818181817, 2.6, 2.0588235294117645, 2.7142857142857144, 3.142857142857143]}],\n",
       "                        {\"template\": {\"data\": {\"bar\": [{\"error_x\": {\"color\": \"#2a3f5f\"}, \"error_y\": {\"color\": \"#2a3f5f\"}, \"marker\": {\"line\": {\"color\": \"#E5ECF6\", \"width\": 0.5}}, \"type\": \"bar\"}], \"barpolar\": [{\"marker\": {\"line\": {\"color\": \"#E5ECF6\", \"width\": 0.5}}, \"type\": \"barpolar\"}], \"carpet\": [{\"aaxis\": {\"endlinecolor\": \"#2a3f5f\", \"gridcolor\": \"white\", \"linecolor\": \"white\", \"minorgridcolor\": \"white\", \"startlinecolor\": \"#2a3f5f\"}, \"baxis\": {\"endlinecolor\": \"#2a3f5f\", \"gridcolor\": \"white\", \"linecolor\": \"white\", \"minorgridcolor\": \"white\", \"startlinecolor\": \"#2a3f5f\"}, \"type\": \"carpet\"}], \"choropleth\": [{\"colorbar\": {\"outlinewidth\": 0, \"ticks\": \"\"}, \"type\": \"choropleth\"}], \"contour\": [{\"colorbar\": {\"outlinewidth\": 0, \"ticks\": \"\"}, \"colorscale\": [[0.0, \"#0d0887\"], [0.1111111111111111, \"#46039f\"], [0.2222222222222222, \"#7201a8\"], [0.3333333333333333, \"#9c179e\"], [0.4444444444444444, \"#bd3786\"], [0.5555555555555556, \"#d8576b\"], [0.6666666666666666, \"#ed7953\"], [0.7777777777777778, \"#fb9f3a\"], [0.8888888888888888, \"#fdca26\"], [1.0, \"#f0f921\"]], \"type\": \"contour\"}], \"contourcarpet\": [{\"colorbar\": {\"outlinewidth\": 0, \"ticks\": \"\"}, \"type\": \"contourcarpet\"}], \"heatmap\": [{\"colorbar\": {\"outlinewidth\": 0, \"ticks\": \"\"}, \"colorscale\": [[0.0, \"#0d0887\"], [0.1111111111111111, \"#46039f\"], [0.2222222222222222, \"#7201a8\"], [0.3333333333333333, \"#9c179e\"], [0.4444444444444444, \"#bd3786\"], [0.5555555555555556, \"#d8576b\"], [0.6666666666666666, \"#ed7953\"], [0.7777777777777778, \"#fb9f3a\"], [0.8888888888888888, \"#fdca26\"], [1.0, \"#f0f921\"]], \"type\": \"heatmap\"}], \"heatmapgl\": [{\"colorbar\": {\"outlinewidth\": 0, \"ticks\": \"\"}, \"colorscale\": [[0.0, \"#0d0887\"], [0.1111111111111111, \"#46039f\"], [0.2222222222222222, \"#7201a8\"], [0.3333333333333333, \"#9c179e\"], [0.4444444444444444, \"#bd3786\"], [0.5555555555555556, \"#d8576b\"], [0.6666666666666666, \"#ed7953\"], [0.7777777777777778, \"#fb9f3a\"], [0.8888888888888888, \"#fdca26\"], [1.0, \"#f0f921\"]], \"type\": \"heatmapgl\"}], \"histogram\": [{\"marker\": {\"colorbar\": {\"outlinewidth\": 0, \"ticks\": \"\"}}, \"type\": \"histogram\"}], \"histogram2d\": [{\"colorbar\": {\"outlinewidth\": 0, \"ticks\": \"\"}, \"colorscale\": [[0.0, \"#0d0887\"], [0.1111111111111111, \"#46039f\"], [0.2222222222222222, \"#7201a8\"], [0.3333333333333333, \"#9c179e\"], [0.4444444444444444, \"#bd3786\"], [0.5555555555555556, \"#d8576b\"], [0.6666666666666666, \"#ed7953\"], [0.7777777777777778, \"#fb9f3a\"], [0.8888888888888888, \"#fdca26\"], [1.0, \"#f0f921\"]], \"type\": \"histogram2d\"}], \"histogram2dcontour\": [{\"colorbar\": {\"outlinewidth\": 0, \"ticks\": \"\"}, \"colorscale\": [[0.0, \"#0d0887\"], [0.1111111111111111, \"#46039f\"], [0.2222222222222222, \"#7201a8\"], [0.3333333333333333, \"#9c179e\"], [0.4444444444444444, \"#bd3786\"], [0.5555555555555556, \"#d8576b\"], [0.6666666666666666, \"#ed7953\"], [0.7777777777777778, \"#fb9f3a\"], [0.8888888888888888, \"#fdca26\"], [1.0, \"#f0f921\"]], \"type\": \"histogram2dcontour\"}], \"mesh3d\": [{\"colorbar\": {\"outlinewidth\": 0, \"ticks\": \"\"}, \"type\": \"mesh3d\"}], \"parcoords\": [{\"line\": {\"colorbar\": {\"outlinewidth\": 0, \"ticks\": \"\"}}, \"type\": \"parcoords\"}], \"pie\": [{\"automargin\": true, \"type\": \"pie\"}], \"scatter\": [{\"marker\": {\"colorbar\": {\"outlinewidth\": 0, \"ticks\": \"\"}}, \"type\": \"scatter\"}], \"scatter3d\": [{\"line\": {\"colorbar\": {\"outlinewidth\": 0, \"ticks\": \"\"}}, \"marker\": {\"colorbar\": {\"outlinewidth\": 0, \"ticks\": \"\"}}, \"type\": \"scatter3d\"}], \"scattercarpet\": [{\"marker\": {\"colorbar\": {\"outlinewidth\": 0, \"ticks\": \"\"}}, \"type\": \"scattercarpet\"}], \"scattergeo\": [{\"marker\": {\"colorbar\": {\"outlinewidth\": 0, \"ticks\": \"\"}}, \"type\": \"scattergeo\"}], \"scattergl\": [{\"marker\": {\"colorbar\": {\"outlinewidth\": 0, \"ticks\": \"\"}}, \"type\": \"scattergl\"}], \"scattermapbox\": [{\"marker\": {\"colorbar\": {\"outlinewidth\": 0, \"ticks\": \"\"}}, \"type\": \"scattermapbox\"}], \"scatterpolar\": [{\"marker\": {\"colorbar\": {\"outlinewidth\": 0, \"ticks\": \"\"}}, \"type\": \"scatterpolar\"}], \"scatterpolargl\": [{\"marker\": {\"colorbar\": {\"outlinewidth\": 0, \"ticks\": \"\"}}, \"type\": \"scatterpolargl\"}], \"scatterternary\": [{\"marker\": {\"colorbar\": {\"outlinewidth\": 0, \"ticks\": \"\"}}, \"type\": \"scatterternary\"}], \"surface\": [{\"colorbar\": {\"outlinewidth\": 0, \"ticks\": \"\"}, \"colorscale\": [[0.0, \"#0d0887\"], [0.1111111111111111, \"#46039f\"], [0.2222222222222222, \"#7201a8\"], [0.3333333333333333, \"#9c179e\"], [0.4444444444444444, \"#bd3786\"], [0.5555555555555556, \"#d8576b\"], [0.6666666666666666, \"#ed7953\"], [0.7777777777777778, \"#fb9f3a\"], [0.8888888888888888, \"#fdca26\"], [1.0, \"#f0f921\"]], \"type\": \"surface\"}], \"table\": [{\"cells\": {\"fill\": {\"color\": \"#EBF0F8\"}, \"line\": {\"color\": \"white\"}}, \"header\": {\"fill\": {\"color\": \"#C8D4E3\"}, \"line\": {\"color\": \"white\"}}, \"type\": \"table\"}]}, \"layout\": {\"annotationdefaults\": {\"arrowcolor\": \"#2a3f5f\", \"arrowhead\": 0, \"arrowwidth\": 1}, \"coloraxis\": {\"colorbar\": {\"outlinewidth\": 0, \"ticks\": \"\"}}, \"colorscale\": {\"diverging\": [[0, \"#8e0152\"], [0.1, \"#c51b7d\"], [0.2, \"#de77ae\"], [0.3, \"#f1b6da\"], [0.4, \"#fde0ef\"], [0.5, \"#f7f7f7\"], [0.6, \"#e6f5d0\"], [0.7, \"#b8e186\"], [0.8, \"#7fbc41\"], [0.9, \"#4d9221\"], [1, \"#276419\"]], \"sequential\": [[0.0, \"#0d0887\"], [0.1111111111111111, \"#46039f\"], [0.2222222222222222, \"#7201a8\"], [0.3333333333333333, \"#9c179e\"], [0.4444444444444444, \"#bd3786\"], [0.5555555555555556, \"#d8576b\"], [0.6666666666666666, \"#ed7953\"], [0.7777777777777778, \"#fb9f3a\"], [0.8888888888888888, \"#fdca26\"], [1.0, \"#f0f921\"]], \"sequentialminus\": [[0.0, \"#0d0887\"], [0.1111111111111111, \"#46039f\"], [0.2222222222222222, \"#7201a8\"], [0.3333333333333333, \"#9c179e\"], [0.4444444444444444, \"#bd3786\"], [0.5555555555555556, \"#d8576b\"], [0.6666666666666666, \"#ed7953\"], [0.7777777777777778, \"#fb9f3a\"], [0.8888888888888888, \"#fdca26\"], [1.0, \"#f0f921\"]]}, \"colorway\": [\"#636efa\", \"#EF553B\", \"#00cc96\", \"#ab63fa\", \"#FFA15A\", \"#19d3f3\", \"#FF6692\", \"#B6E880\", \"#FF97FF\", \"#FECB52\"], \"font\": {\"color\": \"#2a3f5f\"}, \"geo\": {\"bgcolor\": \"white\", \"lakecolor\": \"white\", \"landcolor\": \"#E5ECF6\", \"showlakes\": true, \"showland\": true, \"subunitcolor\": \"white\"}, \"hoverlabel\": {\"align\": \"left\"}, \"hovermode\": \"closest\", \"mapbox\": {\"style\": \"light\"}, \"paper_bgcolor\": \"white\", \"plot_bgcolor\": \"#E5ECF6\", \"polar\": {\"angularaxis\": {\"gridcolor\": \"white\", \"linecolor\": \"white\", \"ticks\": \"\"}, \"bgcolor\": \"#E5ECF6\", \"radialaxis\": {\"gridcolor\": \"white\", \"linecolor\": \"white\", \"ticks\": \"\"}}, \"scene\": {\"xaxis\": {\"backgroundcolor\": \"#E5ECF6\", \"gridcolor\": \"white\", \"gridwidth\": 2, \"linecolor\": \"white\", \"showbackground\": true, \"ticks\": \"\", \"zerolinecolor\": \"white\"}, \"yaxis\": {\"backgroundcolor\": \"#E5ECF6\", \"gridcolor\": \"white\", \"gridwidth\": 2, \"linecolor\": \"white\", \"showbackground\": true, \"ticks\": \"\", \"zerolinecolor\": \"white\"}, \"zaxis\": {\"backgroundcolor\": \"#E5ECF6\", \"gridcolor\": \"white\", \"gridwidth\": 2, \"linecolor\": \"white\", \"showbackground\": true, \"ticks\": \"\", \"zerolinecolor\": \"white\"}}, \"shapedefaults\": {\"line\": {\"color\": \"#2a3f5f\"}}, \"ternary\": {\"aaxis\": {\"gridcolor\": \"white\", \"linecolor\": \"white\", \"ticks\": \"\"}, \"baxis\": {\"gridcolor\": \"white\", \"linecolor\": \"white\", \"ticks\": \"\"}, \"bgcolor\": \"#E5ECF6\", \"caxis\": {\"gridcolor\": \"white\", \"linecolor\": \"white\", \"ticks\": \"\"}}, \"title\": {\"x\": 0.05}, \"xaxis\": {\"automargin\": true, \"gridcolor\": \"white\", \"linecolor\": \"white\", \"ticks\": \"\", \"title\": {\"standoff\": 15}, \"zerolinecolor\": \"white\", \"zerolinewidth\": 2}, \"yaxis\": {\"automargin\": true, \"gridcolor\": \"white\", \"linecolor\": \"white\", \"ticks\": \"\", \"title\": {\"standoff\": 15}, \"zerolinecolor\": \"white\", \"zerolinewidth\": 2}}}},\n",
       "                        {\"responsive\": true}\n",
       "                    ).then(function(){\n",
       "                            \n",
       "var gd = document.getElementById('718c7174-d705-40c5-b86f-07165326474a');\n",
       "var x = new MutationObserver(function (mutations, observer) {{\n",
       "        var display = window.getComputedStyle(gd).display;\n",
       "        if (!display || display === 'none') {{\n",
       "            console.log([gd, 'removed!']);\n",
       "            Plotly.purge(gd);\n",
       "            observer.disconnect();\n",
       "        }}\n",
       "}});\n",
       "\n",
       "// Listen for the removal of the full notebook cells\n",
       "var notebookContainer = gd.closest('#notebook-container');\n",
       "if (notebookContainer) {{\n",
       "    x.observe(notebookContainer, {childList: true});\n",
       "}}\n",
       "\n",
       "// Listen for the clearing of the current output cell\n",
       "var outputEl = gd.closest('.output');\n",
       "if (outputEl) {{\n",
       "    x.observe(outputEl, {childList: true});\n",
       "}}\n",
       "\n",
       "                        })\n",
       "                };\n",
       "                });\n",
       "            </script>\n",
       "        </div>"
      ]
     },
     "metadata": {},
     "output_type": "display_data"
    }
   ],
   "source": []
  },
  {
   "cell_type": "code",
   "execution_count": 202,
   "metadata": {},
   "outputs": [
    {
     "data": {
      "application/vnd.plotly.v1+json": {
       "config": {
        "plotlyServerURL": "https://plot.ly"
       },
       "data": [
        {
         "mode": "lines+markers",
         "type": "scatter",
         "x": [
          0,
          1,
          2,
          3,
          4,
          5,
          6,
          7,
          8,
          9
         ],
         "y": [
          2.2857142857142856,
          4.7272727272727275,
          2.25,
          2.6818181818181817,
          3.15,
          3.076923076923077,
          4.117647058823529,
          2.4814814814814814,
          2.5714285714285716,
          3.090909090909091
         ]
        },
        {
         "line": {
          "dash": "dash"
         },
         "type": "scatter",
         "x": [
          0,
          1,
          2,
          3,
          4,
          5,
          6,
          7,
          8,
          9
         ],
         "y": [
          3.0433194474370944,
          3.0433194474370944,
          3.0433194474370944,
          3.0433194474370944,
          3.0433194474370944,
          3.0433194474370944,
          3.0433194474370944,
          3.0433194474370944,
          3.0433194474370944,
          3.0433194474370944
         ]
        }
       ],
       "layout": {
        "template": {
         "data": {
          "bar": [
           {
            "error_x": {
             "color": "#2a3f5f"
            },
            "error_y": {
             "color": "#2a3f5f"
            },
            "marker": {
             "line": {
              "color": "#E5ECF6",
              "width": 0.5
             }
            },
            "type": "bar"
           }
          ],
          "barpolar": [
           {
            "marker": {
             "line": {
              "color": "#E5ECF6",
              "width": 0.5
             }
            },
            "type": "barpolar"
           }
          ],
          "carpet": [
           {
            "aaxis": {
             "endlinecolor": "#2a3f5f",
             "gridcolor": "white",
             "linecolor": "white",
             "minorgridcolor": "white",
             "startlinecolor": "#2a3f5f"
            },
            "baxis": {
             "endlinecolor": "#2a3f5f",
             "gridcolor": "white",
             "linecolor": "white",
             "minorgridcolor": "white",
             "startlinecolor": "#2a3f5f"
            },
            "type": "carpet"
           }
          ],
          "choropleth": [
           {
            "colorbar": {
             "outlinewidth": 0,
             "ticks": ""
            },
            "type": "choropleth"
           }
          ],
          "contour": [
           {
            "colorbar": {
             "outlinewidth": 0,
             "ticks": ""
            },
            "colorscale": [
             [
              0,
              "#0d0887"
             ],
             [
              0.1111111111111111,
              "#46039f"
             ],
             [
              0.2222222222222222,
              "#7201a8"
             ],
             [
              0.3333333333333333,
              "#9c179e"
             ],
             [
              0.4444444444444444,
              "#bd3786"
             ],
             [
              0.5555555555555556,
              "#d8576b"
             ],
             [
              0.6666666666666666,
              "#ed7953"
             ],
             [
              0.7777777777777778,
              "#fb9f3a"
             ],
             [
              0.8888888888888888,
              "#fdca26"
             ],
             [
              1,
              "#f0f921"
             ]
            ],
            "type": "contour"
           }
          ],
          "contourcarpet": [
           {
            "colorbar": {
             "outlinewidth": 0,
             "ticks": ""
            },
            "type": "contourcarpet"
           }
          ],
          "heatmap": [
           {
            "colorbar": {
             "outlinewidth": 0,
             "ticks": ""
            },
            "colorscale": [
             [
              0,
              "#0d0887"
             ],
             [
              0.1111111111111111,
              "#46039f"
             ],
             [
              0.2222222222222222,
              "#7201a8"
             ],
             [
              0.3333333333333333,
              "#9c179e"
             ],
             [
              0.4444444444444444,
              "#bd3786"
             ],
             [
              0.5555555555555556,
              "#d8576b"
             ],
             [
              0.6666666666666666,
              "#ed7953"
             ],
             [
              0.7777777777777778,
              "#fb9f3a"
             ],
             [
              0.8888888888888888,
              "#fdca26"
             ],
             [
              1,
              "#f0f921"
             ]
            ],
            "type": "heatmap"
           }
          ],
          "heatmapgl": [
           {
            "colorbar": {
             "outlinewidth": 0,
             "ticks": ""
            },
            "colorscale": [
             [
              0,
              "#0d0887"
             ],
             [
              0.1111111111111111,
              "#46039f"
             ],
             [
              0.2222222222222222,
              "#7201a8"
             ],
             [
              0.3333333333333333,
              "#9c179e"
             ],
             [
              0.4444444444444444,
              "#bd3786"
             ],
             [
              0.5555555555555556,
              "#d8576b"
             ],
             [
              0.6666666666666666,
              "#ed7953"
             ],
             [
              0.7777777777777778,
              "#fb9f3a"
             ],
             [
              0.8888888888888888,
              "#fdca26"
             ],
             [
              1,
              "#f0f921"
             ]
            ],
            "type": "heatmapgl"
           }
          ],
          "histogram": [
           {
            "marker": {
             "colorbar": {
              "outlinewidth": 0,
              "ticks": ""
             }
            },
            "type": "histogram"
           }
          ],
          "histogram2d": [
           {
            "colorbar": {
             "outlinewidth": 0,
             "ticks": ""
            },
            "colorscale": [
             [
              0,
              "#0d0887"
             ],
             [
              0.1111111111111111,
              "#46039f"
             ],
             [
              0.2222222222222222,
              "#7201a8"
             ],
             [
              0.3333333333333333,
              "#9c179e"
             ],
             [
              0.4444444444444444,
              "#bd3786"
             ],
             [
              0.5555555555555556,
              "#d8576b"
             ],
             [
              0.6666666666666666,
              "#ed7953"
             ],
             [
              0.7777777777777778,
              "#fb9f3a"
             ],
             [
              0.8888888888888888,
              "#fdca26"
             ],
             [
              1,
              "#f0f921"
             ]
            ],
            "type": "histogram2d"
           }
          ],
          "histogram2dcontour": [
           {
            "colorbar": {
             "outlinewidth": 0,
             "ticks": ""
            },
            "colorscale": [
             [
              0,
              "#0d0887"
             ],
             [
              0.1111111111111111,
              "#46039f"
             ],
             [
              0.2222222222222222,
              "#7201a8"
             ],
             [
              0.3333333333333333,
              "#9c179e"
             ],
             [
              0.4444444444444444,
              "#bd3786"
             ],
             [
              0.5555555555555556,
              "#d8576b"
             ],
             [
              0.6666666666666666,
              "#ed7953"
             ],
             [
              0.7777777777777778,
              "#fb9f3a"
             ],
             [
              0.8888888888888888,
              "#fdca26"
             ],
             [
              1,
              "#f0f921"
             ]
            ],
            "type": "histogram2dcontour"
           }
          ],
          "mesh3d": [
           {
            "colorbar": {
             "outlinewidth": 0,
             "ticks": ""
            },
            "type": "mesh3d"
           }
          ],
          "parcoords": [
           {
            "line": {
             "colorbar": {
              "outlinewidth": 0,
              "ticks": ""
             }
            },
            "type": "parcoords"
           }
          ],
          "pie": [
           {
            "automargin": true,
            "type": "pie"
           }
          ],
          "scatter": [
           {
            "marker": {
             "colorbar": {
              "outlinewidth": 0,
              "ticks": ""
             }
            },
            "type": "scatter"
           }
          ],
          "scatter3d": [
           {
            "line": {
             "colorbar": {
              "outlinewidth": 0,
              "ticks": ""
             }
            },
            "marker": {
             "colorbar": {
              "outlinewidth": 0,
              "ticks": ""
             }
            },
            "type": "scatter3d"
           }
          ],
          "scattercarpet": [
           {
            "marker": {
             "colorbar": {
              "outlinewidth": 0,
              "ticks": ""
             }
            },
            "type": "scattercarpet"
           }
          ],
          "scattergeo": [
           {
            "marker": {
             "colorbar": {
              "outlinewidth": 0,
              "ticks": ""
             }
            },
            "type": "scattergeo"
           }
          ],
          "scattergl": [
           {
            "marker": {
             "colorbar": {
              "outlinewidth": 0,
              "ticks": ""
             }
            },
            "type": "scattergl"
           }
          ],
          "scattermapbox": [
           {
            "marker": {
             "colorbar": {
              "outlinewidth": 0,
              "ticks": ""
             }
            },
            "type": "scattermapbox"
           }
          ],
          "scatterpolar": [
           {
            "marker": {
             "colorbar": {
              "outlinewidth": 0,
              "ticks": ""
             }
            },
            "type": "scatterpolar"
           }
          ],
          "scatterpolargl": [
           {
            "marker": {
             "colorbar": {
              "outlinewidth": 0,
              "ticks": ""
             }
            },
            "type": "scatterpolargl"
           }
          ],
          "scatterternary": [
           {
            "marker": {
             "colorbar": {
              "outlinewidth": 0,
              "ticks": ""
             }
            },
            "type": "scatterternary"
           }
          ],
          "surface": [
           {
            "colorbar": {
             "outlinewidth": 0,
             "ticks": ""
            },
            "colorscale": [
             [
              0,
              "#0d0887"
             ],
             [
              0.1111111111111111,
              "#46039f"
             ],
             [
              0.2222222222222222,
              "#7201a8"
             ],
             [
              0.3333333333333333,
              "#9c179e"
             ],
             [
              0.4444444444444444,
              "#bd3786"
             ],
             [
              0.5555555555555556,
              "#d8576b"
             ],
             [
              0.6666666666666666,
              "#ed7953"
             ],
             [
              0.7777777777777778,
              "#fb9f3a"
             ],
             [
              0.8888888888888888,
              "#fdca26"
             ],
             [
              1,
              "#f0f921"
             ]
            ],
            "type": "surface"
           }
          ],
          "table": [
           {
            "cells": {
             "fill": {
              "color": "#EBF0F8"
             },
             "line": {
              "color": "white"
             }
            },
            "header": {
             "fill": {
              "color": "#C8D4E3"
             },
             "line": {
              "color": "white"
             }
            },
            "type": "table"
           }
          ]
         },
         "layout": {
          "annotationdefaults": {
           "arrowcolor": "#2a3f5f",
           "arrowhead": 0,
           "arrowwidth": 1
          },
          "coloraxis": {
           "colorbar": {
            "outlinewidth": 0,
            "ticks": ""
           }
          },
          "colorscale": {
           "diverging": [
            [
             0,
             "#8e0152"
            ],
            [
             0.1,
             "#c51b7d"
            ],
            [
             0.2,
             "#de77ae"
            ],
            [
             0.3,
             "#f1b6da"
            ],
            [
             0.4,
             "#fde0ef"
            ],
            [
             0.5,
             "#f7f7f7"
            ],
            [
             0.6,
             "#e6f5d0"
            ],
            [
             0.7,
             "#b8e186"
            ],
            [
             0.8,
             "#7fbc41"
            ],
            [
             0.9,
             "#4d9221"
            ],
            [
             1,
             "#276419"
            ]
           ],
           "sequential": [
            [
             0,
             "#0d0887"
            ],
            [
             0.1111111111111111,
             "#46039f"
            ],
            [
             0.2222222222222222,
             "#7201a8"
            ],
            [
             0.3333333333333333,
             "#9c179e"
            ],
            [
             0.4444444444444444,
             "#bd3786"
            ],
            [
             0.5555555555555556,
             "#d8576b"
            ],
            [
             0.6666666666666666,
             "#ed7953"
            ],
            [
             0.7777777777777778,
             "#fb9f3a"
            ],
            [
             0.8888888888888888,
             "#fdca26"
            ],
            [
             1,
             "#f0f921"
            ]
           ],
           "sequentialminus": [
            [
             0,
             "#0d0887"
            ],
            [
             0.1111111111111111,
             "#46039f"
            ],
            [
             0.2222222222222222,
             "#7201a8"
            ],
            [
             0.3333333333333333,
             "#9c179e"
            ],
            [
             0.4444444444444444,
             "#bd3786"
            ],
            [
             0.5555555555555556,
             "#d8576b"
            ],
            [
             0.6666666666666666,
             "#ed7953"
            ],
            [
             0.7777777777777778,
             "#fb9f3a"
            ],
            [
             0.8888888888888888,
             "#fdca26"
            ],
            [
             1,
             "#f0f921"
            ]
           ]
          },
          "colorway": [
           "#636efa",
           "#EF553B",
           "#00cc96",
           "#ab63fa",
           "#FFA15A",
           "#19d3f3",
           "#FF6692",
           "#B6E880",
           "#FF97FF",
           "#FECB52"
          ],
          "font": {
           "color": "#2a3f5f"
          },
          "geo": {
           "bgcolor": "white",
           "lakecolor": "white",
           "landcolor": "#E5ECF6",
           "showlakes": true,
           "showland": true,
           "subunitcolor": "white"
          },
          "hoverlabel": {
           "align": "left"
          },
          "hovermode": "closest",
          "mapbox": {
           "style": "light"
          },
          "paper_bgcolor": "white",
          "plot_bgcolor": "#E5ECF6",
          "polar": {
           "angularaxis": {
            "gridcolor": "white",
            "linecolor": "white",
            "ticks": ""
           },
           "bgcolor": "#E5ECF6",
           "radialaxis": {
            "gridcolor": "white",
            "linecolor": "white",
            "ticks": ""
           }
          },
          "scene": {
           "xaxis": {
            "backgroundcolor": "#E5ECF6",
            "gridcolor": "white",
            "gridwidth": 2,
            "linecolor": "white",
            "showbackground": true,
            "ticks": "",
            "zerolinecolor": "white"
           },
           "yaxis": {
            "backgroundcolor": "#E5ECF6",
            "gridcolor": "white",
            "gridwidth": 2,
            "linecolor": "white",
            "showbackground": true,
            "ticks": "",
            "zerolinecolor": "white"
           },
           "zaxis": {
            "backgroundcolor": "#E5ECF6",
            "gridcolor": "white",
            "gridwidth": 2,
            "linecolor": "white",
            "showbackground": true,
            "ticks": "",
            "zerolinecolor": "white"
           }
          },
          "shapedefaults": {
           "line": {
            "color": "#2a3f5f"
           }
          },
          "ternary": {
           "aaxis": {
            "gridcolor": "white",
            "linecolor": "white",
            "ticks": ""
           },
           "baxis": {
            "gridcolor": "white",
            "linecolor": "white",
            "ticks": ""
           },
           "bgcolor": "#E5ECF6",
           "caxis": {
            "gridcolor": "white",
            "linecolor": "white",
            "ticks": ""
           }
          },
          "title": {
           "x": 0.05
          },
          "xaxis": {
           "automargin": true,
           "gridcolor": "white",
           "linecolor": "white",
           "ticks": "",
           "title": {
            "standoff": 15
           },
           "zerolinecolor": "white",
           "zerolinewidth": 2
          },
          "yaxis": {
           "automargin": true,
           "gridcolor": "white",
           "linecolor": "white",
           "ticks": "",
           "title": {
            "standoff": 15
           },
           "zerolinecolor": "white",
           "zerolinewidth": 2
          }
         }
        }
       }
      },
      "text/html": [
       "<div>\n",
       "        \n",
       "        \n",
       "            <div id=\"114dd1a3-eb5d-4f12-bfbd-e1ba4ea6cde1\" class=\"plotly-graph-div\" style=\"height:525px; width:100%;\"></div>\n",
       "            <script type=\"text/javascript\">\n",
       "                require([\"plotly\"], function(Plotly) {\n",
       "                    window.PLOTLYENV=window.PLOTLYENV || {};\n",
       "                    \n",
       "                if (document.getElementById(\"114dd1a3-eb5d-4f12-bfbd-e1ba4ea6cde1\")) {\n",
       "                    Plotly.newPlot(\n",
       "                        '114dd1a3-eb5d-4f12-bfbd-e1ba4ea6cde1',\n",
       "                        [{\"mode\": \"lines+markers\", \"type\": \"scatter\", \"x\": [0, 1, 2, 3, 4, 5, 6, 7, 8, 9], \"y\": [2.2857142857142856, 4.7272727272727275, 2.25, 2.6818181818181817, 3.15, 3.076923076923077, 4.117647058823529, 2.4814814814814814, 2.5714285714285716, 3.090909090909091]}, {\"line\": {\"dash\": \"dash\"}, \"type\": \"scatter\", \"x\": [0, 1, 2, 3, 4, 5, 6, 7, 8, 9], \"y\": [3.0433194474370944, 3.0433194474370944, 3.0433194474370944, 3.0433194474370944, 3.0433194474370944, 3.0433194474370944, 3.0433194474370944, 3.0433194474370944, 3.0433194474370944, 3.0433194474370944]}],\n",
       "                        {\"template\": {\"data\": {\"bar\": [{\"error_x\": {\"color\": \"#2a3f5f\"}, \"error_y\": {\"color\": \"#2a3f5f\"}, \"marker\": {\"line\": {\"color\": \"#E5ECF6\", \"width\": 0.5}}, \"type\": \"bar\"}], \"barpolar\": [{\"marker\": {\"line\": {\"color\": \"#E5ECF6\", \"width\": 0.5}}, \"type\": \"barpolar\"}], \"carpet\": [{\"aaxis\": {\"endlinecolor\": \"#2a3f5f\", \"gridcolor\": \"white\", \"linecolor\": \"white\", \"minorgridcolor\": \"white\", \"startlinecolor\": \"#2a3f5f\"}, \"baxis\": {\"endlinecolor\": \"#2a3f5f\", \"gridcolor\": \"white\", \"linecolor\": \"white\", \"minorgridcolor\": \"white\", \"startlinecolor\": \"#2a3f5f\"}, \"type\": \"carpet\"}], \"choropleth\": [{\"colorbar\": {\"outlinewidth\": 0, \"ticks\": \"\"}, \"type\": \"choropleth\"}], \"contour\": [{\"colorbar\": {\"outlinewidth\": 0, \"ticks\": \"\"}, \"colorscale\": [[0.0, \"#0d0887\"], [0.1111111111111111, \"#46039f\"], [0.2222222222222222, \"#7201a8\"], [0.3333333333333333, \"#9c179e\"], [0.4444444444444444, \"#bd3786\"], [0.5555555555555556, \"#d8576b\"], [0.6666666666666666, \"#ed7953\"], [0.7777777777777778, \"#fb9f3a\"], [0.8888888888888888, \"#fdca26\"], [1.0, \"#f0f921\"]], \"type\": \"contour\"}], \"contourcarpet\": [{\"colorbar\": {\"outlinewidth\": 0, \"ticks\": \"\"}, \"type\": \"contourcarpet\"}], \"heatmap\": [{\"colorbar\": {\"outlinewidth\": 0, \"ticks\": \"\"}, \"colorscale\": [[0.0, \"#0d0887\"], [0.1111111111111111, \"#46039f\"], [0.2222222222222222, \"#7201a8\"], [0.3333333333333333, \"#9c179e\"], [0.4444444444444444, \"#bd3786\"], [0.5555555555555556, \"#d8576b\"], [0.6666666666666666, \"#ed7953\"], [0.7777777777777778, \"#fb9f3a\"], [0.8888888888888888, \"#fdca26\"], [1.0, \"#f0f921\"]], \"type\": \"heatmap\"}], \"heatmapgl\": [{\"colorbar\": {\"outlinewidth\": 0, \"ticks\": \"\"}, \"colorscale\": [[0.0, \"#0d0887\"], [0.1111111111111111, \"#46039f\"], [0.2222222222222222, \"#7201a8\"], [0.3333333333333333, \"#9c179e\"], [0.4444444444444444, \"#bd3786\"], [0.5555555555555556, \"#d8576b\"], [0.6666666666666666, \"#ed7953\"], [0.7777777777777778, \"#fb9f3a\"], [0.8888888888888888, \"#fdca26\"], [1.0, \"#f0f921\"]], \"type\": \"heatmapgl\"}], \"histogram\": [{\"marker\": {\"colorbar\": {\"outlinewidth\": 0, \"ticks\": \"\"}}, \"type\": \"histogram\"}], \"histogram2d\": [{\"colorbar\": {\"outlinewidth\": 0, \"ticks\": \"\"}, \"colorscale\": [[0.0, \"#0d0887\"], [0.1111111111111111, \"#46039f\"], [0.2222222222222222, \"#7201a8\"], [0.3333333333333333, \"#9c179e\"], [0.4444444444444444, \"#bd3786\"], [0.5555555555555556, \"#d8576b\"], [0.6666666666666666, \"#ed7953\"], [0.7777777777777778, \"#fb9f3a\"], [0.8888888888888888, \"#fdca26\"], [1.0, \"#f0f921\"]], \"type\": \"histogram2d\"}], \"histogram2dcontour\": [{\"colorbar\": {\"outlinewidth\": 0, \"ticks\": \"\"}, \"colorscale\": [[0.0, \"#0d0887\"], [0.1111111111111111, \"#46039f\"], [0.2222222222222222, \"#7201a8\"], [0.3333333333333333, \"#9c179e\"], [0.4444444444444444, \"#bd3786\"], [0.5555555555555556, \"#d8576b\"], [0.6666666666666666, \"#ed7953\"], [0.7777777777777778, \"#fb9f3a\"], [0.8888888888888888, \"#fdca26\"], [1.0, \"#f0f921\"]], \"type\": \"histogram2dcontour\"}], \"mesh3d\": [{\"colorbar\": {\"outlinewidth\": 0, \"ticks\": \"\"}, \"type\": \"mesh3d\"}], \"parcoords\": [{\"line\": {\"colorbar\": {\"outlinewidth\": 0, \"ticks\": \"\"}}, \"type\": \"parcoords\"}], \"pie\": [{\"automargin\": true, \"type\": \"pie\"}], \"scatter\": [{\"marker\": {\"colorbar\": {\"outlinewidth\": 0, \"ticks\": \"\"}}, \"type\": \"scatter\"}], \"scatter3d\": [{\"line\": {\"colorbar\": {\"outlinewidth\": 0, \"ticks\": \"\"}}, \"marker\": {\"colorbar\": {\"outlinewidth\": 0, \"ticks\": \"\"}}, \"type\": \"scatter3d\"}], \"scattercarpet\": [{\"marker\": {\"colorbar\": {\"outlinewidth\": 0, \"ticks\": \"\"}}, \"type\": \"scattercarpet\"}], \"scattergeo\": [{\"marker\": {\"colorbar\": {\"outlinewidth\": 0, \"ticks\": \"\"}}, \"type\": \"scattergeo\"}], \"scattergl\": [{\"marker\": {\"colorbar\": {\"outlinewidth\": 0, \"ticks\": \"\"}}, \"type\": \"scattergl\"}], \"scattermapbox\": [{\"marker\": {\"colorbar\": {\"outlinewidth\": 0, \"ticks\": \"\"}}, \"type\": \"scattermapbox\"}], \"scatterpolar\": [{\"marker\": {\"colorbar\": {\"outlinewidth\": 0, \"ticks\": \"\"}}, \"type\": \"scatterpolar\"}], \"scatterpolargl\": [{\"marker\": {\"colorbar\": {\"outlinewidth\": 0, \"ticks\": \"\"}}, \"type\": \"scatterpolargl\"}], \"scatterternary\": [{\"marker\": {\"colorbar\": {\"outlinewidth\": 0, \"ticks\": \"\"}}, \"type\": \"scatterternary\"}], \"surface\": [{\"colorbar\": {\"outlinewidth\": 0, \"ticks\": \"\"}, \"colorscale\": [[0.0, \"#0d0887\"], [0.1111111111111111, \"#46039f\"], [0.2222222222222222, \"#7201a8\"], [0.3333333333333333, \"#9c179e\"], [0.4444444444444444, \"#bd3786\"], [0.5555555555555556, \"#d8576b\"], [0.6666666666666666, \"#ed7953\"], [0.7777777777777778, \"#fb9f3a\"], [0.8888888888888888, \"#fdca26\"], [1.0, \"#f0f921\"]], \"type\": \"surface\"}], \"table\": [{\"cells\": {\"fill\": {\"color\": \"#EBF0F8\"}, \"line\": {\"color\": \"white\"}}, \"header\": {\"fill\": {\"color\": \"#C8D4E3\"}, \"line\": {\"color\": \"white\"}}, \"type\": \"table\"}]}, \"layout\": {\"annotationdefaults\": {\"arrowcolor\": \"#2a3f5f\", \"arrowhead\": 0, \"arrowwidth\": 1}, \"coloraxis\": {\"colorbar\": {\"outlinewidth\": 0, \"ticks\": \"\"}}, \"colorscale\": {\"diverging\": [[0, \"#8e0152\"], [0.1, \"#c51b7d\"], [0.2, \"#de77ae\"], [0.3, \"#f1b6da\"], [0.4, \"#fde0ef\"], [0.5, \"#f7f7f7\"], [0.6, \"#e6f5d0\"], [0.7, \"#b8e186\"], [0.8, \"#7fbc41\"], [0.9, \"#4d9221\"], [1, \"#276419\"]], \"sequential\": [[0.0, \"#0d0887\"], [0.1111111111111111, \"#46039f\"], [0.2222222222222222, \"#7201a8\"], [0.3333333333333333, \"#9c179e\"], [0.4444444444444444, \"#bd3786\"], [0.5555555555555556, \"#d8576b\"], [0.6666666666666666, \"#ed7953\"], [0.7777777777777778, \"#fb9f3a\"], [0.8888888888888888, \"#fdca26\"], [1.0, \"#f0f921\"]], \"sequentialminus\": [[0.0, \"#0d0887\"], [0.1111111111111111, \"#46039f\"], [0.2222222222222222, \"#7201a8\"], [0.3333333333333333, \"#9c179e\"], [0.4444444444444444, \"#bd3786\"], [0.5555555555555556, \"#d8576b\"], [0.6666666666666666, \"#ed7953\"], [0.7777777777777778, \"#fb9f3a\"], [0.8888888888888888, \"#fdca26\"], [1.0, \"#f0f921\"]]}, \"colorway\": [\"#636efa\", \"#EF553B\", \"#00cc96\", \"#ab63fa\", \"#FFA15A\", \"#19d3f3\", \"#FF6692\", \"#B6E880\", \"#FF97FF\", \"#FECB52\"], \"font\": {\"color\": \"#2a3f5f\"}, \"geo\": {\"bgcolor\": \"white\", \"lakecolor\": \"white\", \"landcolor\": \"#E5ECF6\", \"showlakes\": true, \"showland\": true, \"subunitcolor\": \"white\"}, \"hoverlabel\": {\"align\": \"left\"}, \"hovermode\": \"closest\", \"mapbox\": {\"style\": \"light\"}, \"paper_bgcolor\": \"white\", \"plot_bgcolor\": \"#E5ECF6\", \"polar\": {\"angularaxis\": {\"gridcolor\": \"white\", \"linecolor\": \"white\", \"ticks\": \"\"}, \"bgcolor\": \"#E5ECF6\", \"radialaxis\": {\"gridcolor\": \"white\", \"linecolor\": \"white\", \"ticks\": \"\"}}, \"scene\": {\"xaxis\": {\"backgroundcolor\": \"#E5ECF6\", \"gridcolor\": \"white\", \"gridwidth\": 2, \"linecolor\": \"white\", \"showbackground\": true, \"ticks\": \"\", \"zerolinecolor\": \"white\"}, \"yaxis\": {\"backgroundcolor\": \"#E5ECF6\", \"gridcolor\": \"white\", \"gridwidth\": 2, \"linecolor\": \"white\", \"showbackground\": true, \"ticks\": \"\", \"zerolinecolor\": \"white\"}, \"zaxis\": {\"backgroundcolor\": \"#E5ECF6\", \"gridcolor\": \"white\", \"gridwidth\": 2, \"linecolor\": \"white\", \"showbackground\": true, \"ticks\": \"\", \"zerolinecolor\": \"white\"}}, \"shapedefaults\": {\"line\": {\"color\": \"#2a3f5f\"}}, \"ternary\": {\"aaxis\": {\"gridcolor\": \"white\", \"linecolor\": \"white\", \"ticks\": \"\"}, \"baxis\": {\"gridcolor\": \"white\", \"linecolor\": \"white\", \"ticks\": \"\"}, \"bgcolor\": \"#E5ECF6\", \"caxis\": {\"gridcolor\": \"white\", \"linecolor\": \"white\", \"ticks\": \"\"}}, \"title\": {\"x\": 0.05}, \"xaxis\": {\"automargin\": true, \"gridcolor\": \"white\", \"linecolor\": \"white\", \"ticks\": \"\", \"title\": {\"standoff\": 15}, \"zerolinecolor\": \"white\", \"zerolinewidth\": 2}, \"yaxis\": {\"automargin\": true, \"gridcolor\": \"white\", \"linecolor\": \"white\", \"ticks\": \"\", \"title\": {\"standoff\": 15}, \"zerolinecolor\": \"white\", \"zerolinewidth\": 2}}}},\n",
       "                        {\"responsive\": true}\n",
       "                    ).then(function(){\n",
       "                            \n",
       "var gd = document.getElementById('114dd1a3-eb5d-4f12-bfbd-e1ba4ea6cde1');\n",
       "var x = new MutationObserver(function (mutations, observer) {{\n",
       "        var display = window.getComputedStyle(gd).display;\n",
       "        if (!display || display === 'none') {{\n",
       "            console.log([gd, 'removed!']);\n",
       "            Plotly.purge(gd);\n",
       "            observer.disconnect();\n",
       "        }}\n",
       "}});\n",
       "\n",
       "// Listen for the removal of the full notebook cells\n",
       "var notebookContainer = gd.closest('#notebook-container');\n",
       "if (notebookContainer) {{\n",
       "    x.observe(notebookContainer, {childList: true});\n",
       "}}\n",
       "\n",
       "// Listen for the clearing of the current output cell\n",
       "var outputEl = gd.closest('.output');\n",
       "if (outputEl) {{\n",
       "    x.observe(outputEl, {childList: true});\n",
       "}}\n",
       "\n",
       "                        })\n",
       "                };\n",
       "                });\n",
       "            </script>\n",
       "        </div>"
      ]
     },
     "metadata": {},
     "output_type": "display_data"
    }
   ],
   "source": [
    "r = []\n",
    "for day in range(5, 15):\n",
    "    infected = pop_matrix[pop_matrix[:,2] == day][:, 0]\n",
    "    r.append(np.mean([contacts_infected[i] for i in infected]))\n",
    "fig.add_trace(go.Scatter(x=list(range(len(r))), y=r, mode='lines+markers'))\n",
    "fig.add_trace(go.Scatter(x=list(range(len(r))), y=[np.mean(r)]*len(r), line=dict(dash='dash')))\n",
    "\n",
    "fig.show()"
   ]
  },
  {
   "cell_type": "code",
   "execution_count": 199,
   "metadata": {},
   "outputs": [
    {
     "data": {
      "application/vnd.plotly.v1+json": {
       "config": {
        "plotlyServerURL": "https://plot.ly"
       },
       "data": [
        {
         "marker": {
          "color": "gray"
         },
         "mode": "markers+lines",
         "type": "scatter",
         "x": [
          0,
          1,
          2,
          3,
          4,
          5,
          6,
          7,
          8,
          9,
          10,
          11,
          12,
          13,
          14,
          15,
          16,
          17,
          18,
          19,
          20,
          21,
          22,
          23
         ],
         "y": [
          null,
          null,
          4.298721227621484,
          4.6039843855162195,
          4.7750923799061225,
          5.311475822171918,
          5.189545997610514,
          5.151481481481483,
          4.663427230046949,
          4.300248935473306
         ]
        },
        {
         "line": {
          "dash": "dash"
         },
         "marker": {
          "color": "black"
         },
         "type": "scatter",
         "x": [
          0,
          1,
          2,
          3,
          4,
          5,
          6,
          7,
          8,
          9,
          10,
          11,
          12,
          13,
          14,
          15,
          16,
          17,
          18,
          19,
          20,
          21,
          22,
          23
         ],
         "y": [
          4.7867471824785,
          4.7867471824785,
          4.7867471824785,
          4.7867471824785,
          4.7867471824785,
          4.7867471824785,
          4.7867471824785,
          4.7867471824785,
          4.7867471824785,
          4.7867471824785
         ]
        }
       ],
       "layout": {
        "template": {
         "data": {
          "bar": [
           {
            "error_x": {
             "color": "#2a3f5f"
            },
            "error_y": {
             "color": "#2a3f5f"
            },
            "marker": {
             "line": {
              "color": "#E5ECF6",
              "width": 0.5
             }
            },
            "type": "bar"
           }
          ],
          "barpolar": [
           {
            "marker": {
             "line": {
              "color": "#E5ECF6",
              "width": 0.5
             }
            },
            "type": "barpolar"
           }
          ],
          "carpet": [
           {
            "aaxis": {
             "endlinecolor": "#2a3f5f",
             "gridcolor": "white",
             "linecolor": "white",
             "minorgridcolor": "white",
             "startlinecolor": "#2a3f5f"
            },
            "baxis": {
             "endlinecolor": "#2a3f5f",
             "gridcolor": "white",
             "linecolor": "white",
             "minorgridcolor": "white",
             "startlinecolor": "#2a3f5f"
            },
            "type": "carpet"
           }
          ],
          "choropleth": [
           {
            "colorbar": {
             "outlinewidth": 0,
             "ticks": ""
            },
            "type": "choropleth"
           }
          ],
          "contour": [
           {
            "colorbar": {
             "outlinewidth": 0,
             "ticks": ""
            },
            "colorscale": [
             [
              0,
              "#0d0887"
             ],
             [
              0.1111111111111111,
              "#46039f"
             ],
             [
              0.2222222222222222,
              "#7201a8"
             ],
             [
              0.3333333333333333,
              "#9c179e"
             ],
             [
              0.4444444444444444,
              "#bd3786"
             ],
             [
              0.5555555555555556,
              "#d8576b"
             ],
             [
              0.6666666666666666,
              "#ed7953"
             ],
             [
              0.7777777777777778,
              "#fb9f3a"
             ],
             [
              0.8888888888888888,
              "#fdca26"
             ],
             [
              1,
              "#f0f921"
             ]
            ],
            "type": "contour"
           }
          ],
          "contourcarpet": [
           {
            "colorbar": {
             "outlinewidth": 0,
             "ticks": ""
            },
            "type": "contourcarpet"
           }
          ],
          "heatmap": [
           {
            "colorbar": {
             "outlinewidth": 0,
             "ticks": ""
            },
            "colorscale": [
             [
              0,
              "#0d0887"
             ],
             [
              0.1111111111111111,
              "#46039f"
             ],
             [
              0.2222222222222222,
              "#7201a8"
             ],
             [
              0.3333333333333333,
              "#9c179e"
             ],
             [
              0.4444444444444444,
              "#bd3786"
             ],
             [
              0.5555555555555556,
              "#d8576b"
             ],
             [
              0.6666666666666666,
              "#ed7953"
             ],
             [
              0.7777777777777778,
              "#fb9f3a"
             ],
             [
              0.8888888888888888,
              "#fdca26"
             ],
             [
              1,
              "#f0f921"
             ]
            ],
            "type": "heatmap"
           }
          ],
          "heatmapgl": [
           {
            "colorbar": {
             "outlinewidth": 0,
             "ticks": ""
            },
            "colorscale": [
             [
              0,
              "#0d0887"
             ],
             [
              0.1111111111111111,
              "#46039f"
             ],
             [
              0.2222222222222222,
              "#7201a8"
             ],
             [
              0.3333333333333333,
              "#9c179e"
             ],
             [
              0.4444444444444444,
              "#bd3786"
             ],
             [
              0.5555555555555556,
              "#d8576b"
             ],
             [
              0.6666666666666666,
              "#ed7953"
             ],
             [
              0.7777777777777778,
              "#fb9f3a"
             ],
             [
              0.8888888888888888,
              "#fdca26"
             ],
             [
              1,
              "#f0f921"
             ]
            ],
            "type": "heatmapgl"
           }
          ],
          "histogram": [
           {
            "marker": {
             "colorbar": {
              "outlinewidth": 0,
              "ticks": ""
             }
            },
            "type": "histogram"
           }
          ],
          "histogram2d": [
           {
            "colorbar": {
             "outlinewidth": 0,
             "ticks": ""
            },
            "colorscale": [
             [
              0,
              "#0d0887"
             ],
             [
              0.1111111111111111,
              "#46039f"
             ],
             [
              0.2222222222222222,
              "#7201a8"
             ],
             [
              0.3333333333333333,
              "#9c179e"
             ],
             [
              0.4444444444444444,
              "#bd3786"
             ],
             [
              0.5555555555555556,
              "#d8576b"
             ],
             [
              0.6666666666666666,
              "#ed7953"
             ],
             [
              0.7777777777777778,
              "#fb9f3a"
             ],
             [
              0.8888888888888888,
              "#fdca26"
             ],
             [
              1,
              "#f0f921"
             ]
            ],
            "type": "histogram2d"
           }
          ],
          "histogram2dcontour": [
           {
            "colorbar": {
             "outlinewidth": 0,
             "ticks": ""
            },
            "colorscale": [
             [
              0,
              "#0d0887"
             ],
             [
              0.1111111111111111,
              "#46039f"
             ],
             [
              0.2222222222222222,
              "#7201a8"
             ],
             [
              0.3333333333333333,
              "#9c179e"
             ],
             [
              0.4444444444444444,
              "#bd3786"
             ],
             [
              0.5555555555555556,
              "#d8576b"
             ],
             [
              0.6666666666666666,
              "#ed7953"
             ],
             [
              0.7777777777777778,
              "#fb9f3a"
             ],
             [
              0.8888888888888888,
              "#fdca26"
             ],
             [
              1,
              "#f0f921"
             ]
            ],
            "type": "histogram2dcontour"
           }
          ],
          "mesh3d": [
           {
            "colorbar": {
             "outlinewidth": 0,
             "ticks": ""
            },
            "type": "mesh3d"
           }
          ],
          "parcoords": [
           {
            "line": {
             "colorbar": {
              "outlinewidth": 0,
              "ticks": ""
             }
            },
            "type": "parcoords"
           }
          ],
          "pie": [
           {
            "automargin": true,
            "type": "pie"
           }
          ],
          "scatter": [
           {
            "marker": {
             "colorbar": {
              "outlinewidth": 0,
              "ticks": ""
             }
            },
            "type": "scatter"
           }
          ],
          "scatter3d": [
           {
            "line": {
             "colorbar": {
              "outlinewidth": 0,
              "ticks": ""
             }
            },
            "marker": {
             "colorbar": {
              "outlinewidth": 0,
              "ticks": ""
             }
            },
            "type": "scatter3d"
           }
          ],
          "scattercarpet": [
           {
            "marker": {
             "colorbar": {
              "outlinewidth": 0,
              "ticks": ""
             }
            },
            "type": "scattercarpet"
           }
          ],
          "scattergeo": [
           {
            "marker": {
             "colorbar": {
              "outlinewidth": 0,
              "ticks": ""
             }
            },
            "type": "scattergeo"
           }
          ],
          "scattergl": [
           {
            "marker": {
             "colorbar": {
              "outlinewidth": 0,
              "ticks": ""
             }
            },
            "type": "scattergl"
           }
          ],
          "scattermapbox": [
           {
            "marker": {
             "colorbar": {
              "outlinewidth": 0,
              "ticks": ""
             }
            },
            "type": "scattermapbox"
           }
          ],
          "scatterpolar": [
           {
            "marker": {
             "colorbar": {
              "outlinewidth": 0,
              "ticks": ""
             }
            },
            "type": "scatterpolar"
           }
          ],
          "scatterpolargl": [
           {
            "marker": {
             "colorbar": {
              "outlinewidth": 0,
              "ticks": ""
             }
            },
            "type": "scatterpolargl"
           }
          ],
          "scatterternary": [
           {
            "marker": {
             "colorbar": {
              "outlinewidth": 0,
              "ticks": ""
             }
            },
            "type": "scatterternary"
           }
          ],
          "surface": [
           {
            "colorbar": {
             "outlinewidth": 0,
             "ticks": ""
            },
            "colorscale": [
             [
              0,
              "#0d0887"
             ],
             [
              0.1111111111111111,
              "#46039f"
             ],
             [
              0.2222222222222222,
              "#7201a8"
             ],
             [
              0.3333333333333333,
              "#9c179e"
             ],
             [
              0.4444444444444444,
              "#bd3786"
             ],
             [
              0.5555555555555556,
              "#d8576b"
             ],
             [
              0.6666666666666666,
              "#ed7953"
             ],
             [
              0.7777777777777778,
              "#fb9f3a"
             ],
             [
              0.8888888888888888,
              "#fdca26"
             ],
             [
              1,
              "#f0f921"
             ]
            ],
            "type": "surface"
           }
          ],
          "table": [
           {
            "cells": {
             "fill": {
              "color": "#EBF0F8"
             },
             "line": {
              "color": "white"
             }
            },
            "header": {
             "fill": {
              "color": "#C8D4E3"
             },
             "line": {
              "color": "white"
             }
            },
            "type": "table"
           }
          ]
         },
         "layout": {
          "annotationdefaults": {
           "arrowcolor": "#2a3f5f",
           "arrowhead": 0,
           "arrowwidth": 1
          },
          "coloraxis": {
           "colorbar": {
            "outlinewidth": 0,
            "ticks": ""
           }
          },
          "colorscale": {
           "diverging": [
            [
             0,
             "#8e0152"
            ],
            [
             0.1,
             "#c51b7d"
            ],
            [
             0.2,
             "#de77ae"
            ],
            [
             0.3,
             "#f1b6da"
            ],
            [
             0.4,
             "#fde0ef"
            ],
            [
             0.5,
             "#f7f7f7"
            ],
            [
             0.6,
             "#e6f5d0"
            ],
            [
             0.7,
             "#b8e186"
            ],
            [
             0.8,
             "#7fbc41"
            ],
            [
             0.9,
             "#4d9221"
            ],
            [
             1,
             "#276419"
            ]
           ],
           "sequential": [
            [
             0,
             "#0d0887"
            ],
            [
             0.1111111111111111,
             "#46039f"
            ],
            [
             0.2222222222222222,
             "#7201a8"
            ],
            [
             0.3333333333333333,
             "#9c179e"
            ],
            [
             0.4444444444444444,
             "#bd3786"
            ],
            [
             0.5555555555555556,
             "#d8576b"
            ],
            [
             0.6666666666666666,
             "#ed7953"
            ],
            [
             0.7777777777777778,
             "#fb9f3a"
            ],
            [
             0.8888888888888888,
             "#fdca26"
            ],
            [
             1,
             "#f0f921"
            ]
           ],
           "sequentialminus": [
            [
             0,
             "#0d0887"
            ],
            [
             0.1111111111111111,
             "#46039f"
            ],
            [
             0.2222222222222222,
             "#7201a8"
            ],
            [
             0.3333333333333333,
             "#9c179e"
            ],
            [
             0.4444444444444444,
             "#bd3786"
            ],
            [
             0.5555555555555556,
             "#d8576b"
            ],
            [
             0.6666666666666666,
             "#ed7953"
            ],
            [
             0.7777777777777778,
             "#fb9f3a"
            ],
            [
             0.8888888888888888,
             "#fdca26"
            ],
            [
             1,
             "#f0f921"
            ]
           ]
          },
          "colorway": [
           "#636efa",
           "#EF553B",
           "#00cc96",
           "#ab63fa",
           "#FFA15A",
           "#19d3f3",
           "#FF6692",
           "#B6E880",
           "#FF97FF",
           "#FECB52"
          ],
          "font": {
           "color": "#2a3f5f"
          },
          "geo": {
           "bgcolor": "white",
           "lakecolor": "white",
           "landcolor": "#E5ECF6",
           "showlakes": true,
           "showland": true,
           "subunitcolor": "white"
          },
          "hoverlabel": {
           "align": "left"
          },
          "hovermode": "closest",
          "mapbox": {
           "style": "light"
          },
          "paper_bgcolor": "white",
          "plot_bgcolor": "#E5ECF6",
          "polar": {
           "angularaxis": {
            "gridcolor": "white",
            "linecolor": "white",
            "ticks": ""
           },
           "bgcolor": "#E5ECF6",
           "radialaxis": {
            "gridcolor": "white",
            "linecolor": "white",
            "ticks": ""
           }
          },
          "scene": {
           "xaxis": {
            "backgroundcolor": "#E5ECF6",
            "gridcolor": "white",
            "gridwidth": 2,
            "linecolor": "white",
            "showbackground": true,
            "ticks": "",
            "zerolinecolor": "white"
           },
           "yaxis": {
            "backgroundcolor": "#E5ECF6",
            "gridcolor": "white",
            "gridwidth": 2,
            "linecolor": "white",
            "showbackground": true,
            "ticks": "",
            "zerolinecolor": "white"
           },
           "zaxis": {
            "backgroundcolor": "#E5ECF6",
            "gridcolor": "white",
            "gridwidth": 2,
            "linecolor": "white",
            "showbackground": true,
            "ticks": "",
            "zerolinecolor": "white"
           }
          },
          "shapedefaults": {
           "line": {
            "color": "#2a3f5f"
           }
          },
          "ternary": {
           "aaxis": {
            "gridcolor": "white",
            "linecolor": "white",
            "ticks": ""
           },
           "baxis": {
            "gridcolor": "white",
            "linecolor": "white",
            "ticks": ""
           },
           "bgcolor": "#E5ECF6",
           "caxis": {
            "gridcolor": "white",
            "linecolor": "white",
            "ticks": ""
           }
          },
          "title": {
           "x": 0.05
          },
          "xaxis": {
           "automargin": true,
           "gridcolor": "white",
           "linecolor": "white",
           "ticks": "",
           "title": {
            "standoff": 15
           },
           "zerolinecolor": "white",
           "zerolinewidth": 2
          },
          "yaxis": {
           "automargin": true,
           "gridcolor": "white",
           "linecolor": "white",
           "ticks": "",
           "title": {
            "standoff": 15
           },
           "zerolinecolor": "white",
           "zerolinewidth": 2
          }
         }
        }
       }
      },
      "text/html": [
       "<div>\n",
       "        \n",
       "        \n",
       "            <div id=\"2701d146-8f75-4ce9-9b5b-50cab3d31f39\" class=\"plotly-graph-div\" style=\"height:525px; width:100%;\"></div>\n",
       "            <script type=\"text/javascript\">\n",
       "                require([\"plotly\"], function(Plotly) {\n",
       "                    window.PLOTLYENV=window.PLOTLYENV || {};\n",
       "                    \n",
       "                if (document.getElementById(\"2701d146-8f75-4ce9-9b5b-50cab3d31f39\")) {\n",
       "                    Plotly.newPlot(\n",
       "                        '2701d146-8f75-4ce9-9b5b-50cab3d31f39',\n",
       "                        [{\"marker\": {\"color\": \"gray\"}, \"mode\": \"markers+lines\", \"type\": \"scatter\", \"x\": [0, 1, 2, 3, 4, 5, 6, 7, 8, 9, 10, 11, 12, 13, 14, 15, 16, 17, 18, 19, 20, 21, 22, 23], \"y\": [null, null, 4.298721227621484, 4.6039843855162195, 4.7750923799061225, 5.311475822171918, 5.189545997610514, 5.151481481481483, 4.663427230046949, 4.300248935473306]}, {\"line\": {\"dash\": \"dash\"}, \"marker\": {\"color\": \"black\"}, \"type\": \"scatter\", \"x\": [0, 1, 2, 3, 4, 5, 6, 7, 8, 9, 10, 11, 12, 13, 14, 15, 16, 17, 18, 19, 20, 21, 22, 23], \"y\": [4.7867471824785, 4.7867471824785, 4.7867471824785, 4.7867471824785, 4.7867471824785, 4.7867471824785, 4.7867471824785, 4.7867471824785, 4.7867471824785, 4.7867471824785]}],\n",
       "                        {\"template\": {\"data\": {\"bar\": [{\"error_x\": {\"color\": \"#2a3f5f\"}, \"error_y\": {\"color\": \"#2a3f5f\"}, \"marker\": {\"line\": {\"color\": \"#E5ECF6\", \"width\": 0.5}}, \"type\": \"bar\"}], \"barpolar\": [{\"marker\": {\"line\": {\"color\": \"#E5ECF6\", \"width\": 0.5}}, \"type\": \"barpolar\"}], \"carpet\": [{\"aaxis\": {\"endlinecolor\": \"#2a3f5f\", \"gridcolor\": \"white\", \"linecolor\": \"white\", \"minorgridcolor\": \"white\", \"startlinecolor\": \"#2a3f5f\"}, \"baxis\": {\"endlinecolor\": \"#2a3f5f\", \"gridcolor\": \"white\", \"linecolor\": \"white\", \"minorgridcolor\": \"white\", \"startlinecolor\": \"#2a3f5f\"}, \"type\": \"carpet\"}], \"choropleth\": [{\"colorbar\": {\"outlinewidth\": 0, \"ticks\": \"\"}, \"type\": \"choropleth\"}], \"contour\": [{\"colorbar\": {\"outlinewidth\": 0, \"ticks\": \"\"}, \"colorscale\": [[0.0, \"#0d0887\"], [0.1111111111111111, \"#46039f\"], [0.2222222222222222, \"#7201a8\"], [0.3333333333333333, \"#9c179e\"], [0.4444444444444444, \"#bd3786\"], [0.5555555555555556, \"#d8576b\"], [0.6666666666666666, \"#ed7953\"], [0.7777777777777778, \"#fb9f3a\"], [0.8888888888888888, \"#fdca26\"], [1.0, \"#f0f921\"]], \"type\": \"contour\"}], \"contourcarpet\": [{\"colorbar\": {\"outlinewidth\": 0, \"ticks\": \"\"}, \"type\": \"contourcarpet\"}], \"heatmap\": [{\"colorbar\": {\"outlinewidth\": 0, \"ticks\": \"\"}, \"colorscale\": [[0.0, \"#0d0887\"], [0.1111111111111111, \"#46039f\"], [0.2222222222222222, \"#7201a8\"], [0.3333333333333333, \"#9c179e\"], [0.4444444444444444, \"#bd3786\"], [0.5555555555555556, \"#d8576b\"], [0.6666666666666666, \"#ed7953\"], [0.7777777777777778, \"#fb9f3a\"], [0.8888888888888888, \"#fdca26\"], [1.0, \"#f0f921\"]], \"type\": \"heatmap\"}], \"heatmapgl\": [{\"colorbar\": {\"outlinewidth\": 0, \"ticks\": \"\"}, \"colorscale\": [[0.0, \"#0d0887\"], [0.1111111111111111, \"#46039f\"], [0.2222222222222222, \"#7201a8\"], [0.3333333333333333, \"#9c179e\"], [0.4444444444444444, \"#bd3786\"], [0.5555555555555556, \"#d8576b\"], [0.6666666666666666, \"#ed7953\"], [0.7777777777777778, \"#fb9f3a\"], [0.8888888888888888, \"#fdca26\"], [1.0, \"#f0f921\"]], \"type\": \"heatmapgl\"}], \"histogram\": [{\"marker\": {\"colorbar\": {\"outlinewidth\": 0, \"ticks\": \"\"}}, \"type\": \"histogram\"}], \"histogram2d\": [{\"colorbar\": {\"outlinewidth\": 0, \"ticks\": \"\"}, \"colorscale\": [[0.0, \"#0d0887\"], [0.1111111111111111, \"#46039f\"], [0.2222222222222222, \"#7201a8\"], [0.3333333333333333, \"#9c179e\"], [0.4444444444444444, \"#bd3786\"], [0.5555555555555556, \"#d8576b\"], [0.6666666666666666, \"#ed7953\"], [0.7777777777777778, \"#fb9f3a\"], [0.8888888888888888, \"#fdca26\"], [1.0, \"#f0f921\"]], \"type\": \"histogram2d\"}], \"histogram2dcontour\": [{\"colorbar\": {\"outlinewidth\": 0, \"ticks\": \"\"}, \"colorscale\": [[0.0, \"#0d0887\"], [0.1111111111111111, \"#46039f\"], [0.2222222222222222, \"#7201a8\"], [0.3333333333333333, \"#9c179e\"], [0.4444444444444444, \"#bd3786\"], [0.5555555555555556, \"#d8576b\"], [0.6666666666666666, \"#ed7953\"], [0.7777777777777778, \"#fb9f3a\"], [0.8888888888888888, \"#fdca26\"], [1.0, \"#f0f921\"]], \"type\": \"histogram2dcontour\"}], \"mesh3d\": [{\"colorbar\": {\"outlinewidth\": 0, \"ticks\": \"\"}, \"type\": \"mesh3d\"}], \"parcoords\": [{\"line\": {\"colorbar\": {\"outlinewidth\": 0, \"ticks\": \"\"}}, \"type\": \"parcoords\"}], \"pie\": [{\"automargin\": true, \"type\": \"pie\"}], \"scatter\": [{\"marker\": {\"colorbar\": {\"outlinewidth\": 0, \"ticks\": \"\"}}, \"type\": \"scatter\"}], \"scatter3d\": [{\"line\": {\"colorbar\": {\"outlinewidth\": 0, \"ticks\": \"\"}}, \"marker\": {\"colorbar\": {\"outlinewidth\": 0, \"ticks\": \"\"}}, \"type\": \"scatter3d\"}], \"scattercarpet\": [{\"marker\": {\"colorbar\": {\"outlinewidth\": 0, \"ticks\": \"\"}}, \"type\": \"scattercarpet\"}], \"scattergeo\": [{\"marker\": {\"colorbar\": {\"outlinewidth\": 0, \"ticks\": \"\"}}, \"type\": \"scattergeo\"}], \"scattergl\": [{\"marker\": {\"colorbar\": {\"outlinewidth\": 0, \"ticks\": \"\"}}, \"type\": \"scattergl\"}], \"scattermapbox\": [{\"marker\": {\"colorbar\": {\"outlinewidth\": 0, \"ticks\": \"\"}}, \"type\": \"scattermapbox\"}], \"scatterpolar\": [{\"marker\": {\"colorbar\": {\"outlinewidth\": 0, \"ticks\": \"\"}}, \"type\": \"scatterpolar\"}], \"scatterpolargl\": [{\"marker\": {\"colorbar\": {\"outlinewidth\": 0, \"ticks\": \"\"}}, \"type\": \"scatterpolargl\"}], \"scatterternary\": [{\"marker\": {\"colorbar\": {\"outlinewidth\": 0, \"ticks\": \"\"}}, \"type\": \"scatterternary\"}], \"surface\": [{\"colorbar\": {\"outlinewidth\": 0, \"ticks\": \"\"}, \"colorscale\": [[0.0, \"#0d0887\"], [0.1111111111111111, \"#46039f\"], [0.2222222222222222, \"#7201a8\"], [0.3333333333333333, \"#9c179e\"], [0.4444444444444444, \"#bd3786\"], [0.5555555555555556, \"#d8576b\"], [0.6666666666666666, \"#ed7953\"], [0.7777777777777778, \"#fb9f3a\"], [0.8888888888888888, \"#fdca26\"], [1.0, \"#f0f921\"]], \"type\": \"surface\"}], \"table\": [{\"cells\": {\"fill\": {\"color\": \"#EBF0F8\"}, \"line\": {\"color\": \"white\"}}, \"header\": {\"fill\": {\"color\": \"#C8D4E3\"}, \"line\": {\"color\": \"white\"}}, \"type\": \"table\"}]}, \"layout\": {\"annotationdefaults\": {\"arrowcolor\": \"#2a3f5f\", \"arrowhead\": 0, \"arrowwidth\": 1}, \"coloraxis\": {\"colorbar\": {\"outlinewidth\": 0, \"ticks\": \"\"}}, \"colorscale\": {\"diverging\": [[0, \"#8e0152\"], [0.1, \"#c51b7d\"], [0.2, \"#de77ae\"], [0.3, \"#f1b6da\"], [0.4, \"#fde0ef\"], [0.5, \"#f7f7f7\"], [0.6, \"#e6f5d0\"], [0.7, \"#b8e186\"], [0.8, \"#7fbc41\"], [0.9, \"#4d9221\"], [1, \"#276419\"]], \"sequential\": [[0.0, \"#0d0887\"], [0.1111111111111111, \"#46039f\"], [0.2222222222222222, \"#7201a8\"], [0.3333333333333333, \"#9c179e\"], [0.4444444444444444, \"#bd3786\"], [0.5555555555555556, \"#d8576b\"], [0.6666666666666666, \"#ed7953\"], [0.7777777777777778, \"#fb9f3a\"], [0.8888888888888888, \"#fdca26\"], [1.0, \"#f0f921\"]], \"sequentialminus\": [[0.0, \"#0d0887\"], [0.1111111111111111, \"#46039f\"], [0.2222222222222222, \"#7201a8\"], [0.3333333333333333, \"#9c179e\"], [0.4444444444444444, \"#bd3786\"], [0.5555555555555556, \"#d8576b\"], [0.6666666666666666, \"#ed7953\"], [0.7777777777777778, \"#fb9f3a\"], [0.8888888888888888, \"#fdca26\"], [1.0, \"#f0f921\"]]}, \"colorway\": [\"#636efa\", \"#EF553B\", \"#00cc96\", \"#ab63fa\", \"#FFA15A\", \"#19d3f3\", \"#FF6692\", \"#B6E880\", \"#FF97FF\", \"#FECB52\"], \"font\": {\"color\": \"#2a3f5f\"}, \"geo\": {\"bgcolor\": \"white\", \"lakecolor\": \"white\", \"landcolor\": \"#E5ECF6\", \"showlakes\": true, \"showland\": true, \"subunitcolor\": \"white\"}, \"hoverlabel\": {\"align\": \"left\"}, \"hovermode\": \"closest\", \"mapbox\": {\"style\": \"light\"}, \"paper_bgcolor\": \"white\", \"plot_bgcolor\": \"#E5ECF6\", \"polar\": {\"angularaxis\": {\"gridcolor\": \"white\", \"linecolor\": \"white\", \"ticks\": \"\"}, \"bgcolor\": \"#E5ECF6\", \"radialaxis\": {\"gridcolor\": \"white\", \"linecolor\": \"white\", \"ticks\": \"\"}}, \"scene\": {\"xaxis\": {\"backgroundcolor\": \"#E5ECF6\", \"gridcolor\": \"white\", \"gridwidth\": 2, \"linecolor\": \"white\", \"showbackground\": true, \"ticks\": \"\", \"zerolinecolor\": \"white\"}, \"yaxis\": {\"backgroundcolor\": \"#E5ECF6\", \"gridcolor\": \"white\", \"gridwidth\": 2, \"linecolor\": \"white\", \"showbackground\": true, \"ticks\": \"\", \"zerolinecolor\": \"white\"}, \"zaxis\": {\"backgroundcolor\": \"#E5ECF6\", \"gridcolor\": \"white\", \"gridwidth\": 2, \"linecolor\": \"white\", \"showbackground\": true, \"ticks\": \"\", \"zerolinecolor\": \"white\"}}, \"shapedefaults\": {\"line\": {\"color\": \"#2a3f5f\"}}, \"ternary\": {\"aaxis\": {\"gridcolor\": \"white\", \"linecolor\": \"white\", \"ticks\": \"\"}, \"baxis\": {\"gridcolor\": \"white\", \"linecolor\": \"white\", \"ticks\": \"\"}, \"bgcolor\": \"#E5ECF6\", \"caxis\": {\"gridcolor\": \"white\", \"linecolor\": \"white\", \"ticks\": \"\"}}, \"title\": {\"x\": 0.05}, \"xaxis\": {\"automargin\": true, \"gridcolor\": \"white\", \"linecolor\": \"white\", \"ticks\": \"\", \"title\": {\"standoff\": 15}, \"zerolinecolor\": \"white\", \"zerolinewidth\": 2}, \"yaxis\": {\"automargin\": true, \"gridcolor\": \"white\", \"linecolor\": \"white\", \"ticks\": \"\", \"title\": {\"standoff\": 15}, \"zerolinecolor\": \"white\", \"zerolinewidth\": 2}}}},\n",
       "                        {\"responsive\": true}\n",
       "                    ).then(function(){\n",
       "                            \n",
       "var gd = document.getElementById('2701d146-8f75-4ce9-9b5b-50cab3d31f39');\n",
       "var x = new MutationObserver(function (mutations, observer) {{\n",
       "        var display = window.getComputedStyle(gd).display;\n",
       "        if (!display || display === 'none') {{\n",
       "            console.log([gd, 'removed!']);\n",
       "            Plotly.purge(gd);\n",
       "            observer.disconnect();\n",
       "        }}\n",
       "}});\n",
       "\n",
       "// Listen for the removal of the full notebook cells\n",
       "var notebookContainer = gd.closest('#notebook-container');\n",
       "if (notebookContainer) {{\n",
       "    x.observe(notebookContainer, {childList: true});\n",
       "}}\n",
       "\n",
       "// Listen for the clearing of the current output cell\n",
       "var outputEl = gd.closest('.output');\n",
       "if (outputEl) {{\n",
       "    x.observe(outputEl, {childList: true});\n",
       "}}\n",
       "\n",
       "                        })\n",
       "                };\n",
       "                });\n",
       "            </script>\n",
       "        </div>"
      ]
     },
     "metadata": {},
     "output_type": "display_data"
    }
   ],
   "source": [
    "rolling_mean = pd.Series(r).rolling(3).mean()\n",
    "fig = go.Figure()\n",
    "ranges = [0,len(df)]\n",
    "colors = ['gray']#, 'yellow']#, 'green']\n",
    "for i in range(len(ranges)-1):\n",
    "    rll = rolling_mean[ranges[i]:ranges[i+1]]\n",
    "    fig.add_trace(go.Scatter(x=list(range(ranges[i], ranges[i+1])), y=rll, \n",
    "                             mode='markers+lines', marker=dict(color=colors[i]), ))\n",
    "    fig.add_trace(go.Scatter(x=list(range(ranges[i], ranges[i+1])), y=[np.mean(rll)]*len(rll), \n",
    "                             marker=dict(color='black'),line=dict(dash='dash') ))\n",
    "fig.show()\n"
   ]
  },
  {
   "cell_type": "code",
   "execution_count": null,
   "metadata": {},
   "outputs": [],
   "source": []
  },
  {
   "cell_type": "code",
   "execution_count": null,
   "metadata": {},
   "outputs": [],
   "source": []
  }
 ],
 "metadata": {
  "kernelspec": {
   "display_name": "Python 3",
   "language": "python",
   "name": "python3"
  },
  "language_info": {
   "codemirror_mode": {
    "name": "ipython",
    "version": 3
   },
   "file_extension": ".py",
   "mimetype": "text/x-python",
   "name": "python",
   "nbconvert_exporter": "python",
   "pygments_lexer": "ipython3",
   "version": "3.7.7"
  }
 },
 "nbformat": 4,
 "nbformat_minor": 4
}
