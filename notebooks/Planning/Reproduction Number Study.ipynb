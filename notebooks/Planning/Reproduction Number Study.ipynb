{
 "cells": [
  {
   "cell_type": "code",
   "execution_count": 1,
   "metadata": {},
   "outputs": [],
   "source": [
    "import matplotlib.pyplot as plt\n",
    "from joblib import Parallel, delayed\n",
    "\n",
    "def plot_SIR_timeline(time_series, name=None, save=False):\n",
    "    plt.plot(time_series.index, time_series['susceptible'], label = 'susceptible')\n",
    "    plt.plot(time_series.index, time_series['infected'], label = 'infected')\n",
    "    plt.plot(time_series.index, time_series['removed'], label = 'removed')\n",
    "    plt.legend()\n",
    "    plt.title(f'SP Network - {name}')\n",
    "    if save: plt.savefig(f'SP network Simulation- {name}.png', fromat='png', dpi = 300)\n",
    "    plt.show()\n",
    "    \n",
    "def plot_capacity(time_series, name=None, save=True):\n",
    "    plt.plot(time_series.index, time_series['hospitalized'], label = 'Hospitalized')\n",
    "    plt.plot(time_series.index, len(time_series.index)*[0.0025], label = 'Capacity')\n",
    "    plt.legend()\n",
    "    plt.title(f'SP Network - {name}')\n",
    "    if save: plt.savefig(f'Hospital Beds- {name}.png', fromat='png', dpi = 300)\n",
    "    plt.show()"
   ]
  },
  {
   "cell_type": "code",
   "execution_count": 2,
   "metadata": {},
   "outputs": [],
   "source": [
    "import numpy as np\n",
    "from scipy.stats import truncnorm\n",
    "\n",
    "def sample_truncated_norm(clip_low, clip_high, mean, std):\n",
    "    a, b = (clip_low - mean) / std, (clip_high - mean) / std\n",
    "    return int(truncnorm.rvs(a, b, mean, std))\n",
    "\n",
    "def sample_incubation(clip_low = 2, clip_high = 15, mean = 6, std = 3):\n",
    "    return sample_truncated_norm(clip_low, clip_high, mean, std)\n",
    "\n",
    "def sample_onset_to_hosp_or_asymp(clip_low = 2, clip_high = 21, mean = 6.2, std = 4.3):\n",
    "    return sample_truncated_norm(clip_low, clip_high, mean, std)\n",
    "\n",
    "def sample_hospitalization_to_removed(clip_low = 2, clip_high = 32, mean = 8.6, std = 6.7):\n",
    "    return sample_truncated_norm(clip_low, clip_high, mean, std)\n",
    "\n",
    "\n",
    "def needs_hospitalization(age):\n",
    "    #https://www.imperial.ac.uk/media/imperial-college/medicine/sph/ide/gida-fellowships/Imperial-College-COVID19-NPI-modelling-16-03-2020.pdf\n",
    "    if age <= 9:  return np.random.random() <= 0.001 \n",
    "    if age <= 19: return np.random.random() <= 0.003\n",
    "    if age <= 29: return np.random.random() <= 0.012\n",
    "    if age <= 39: return np.random.random() <= 0.032\n",
    "    if age <= 49: return np.random.random() <= 0.049\n",
    "    if age <= 59: return np.random.random() <= 0.102\n",
    "    if age <= 69: return np.random.random() <= 0.166\n",
    "    if age <= 79: return np.random.random() <= 0.243\n",
    "    return np.random.random() <= 0.273\n",
    "\n",
    "def hospitalized_needs_ICU(age):\n",
    "    #https://www.imperial.ac.uk/media/imperial-college/medicine/sph/ide/gida-fellowships/Imperial-College-COVID19-NPI-modelling-16-03-2020.pdf\n",
    "    if age <= 9:  return np.random.random() <= 0.05 \n",
    "    if age <= 19: return np.random.random() <= 0.05\n",
    "    if age <= 29: return np.random.random() <= 0.05\n",
    "    if age <= 39: return np.random.random() <= 0.05\n",
    "    if age <= 49: return np.random.random() <= 0.063\n",
    "    if age <= 59: return np.random.random() <= 0.122\n",
    "    if age <= 69: return np.random.random() <= 0.274\n",
    "    if age <= 79: return np.random.random() <= 0.432\n",
    "    return np.random.random() <= 0.709\n",
    "\n",
    "def susceptible_to_exposed(node, day):\n",
    "    if node['status'] != 'susceptible':\n",
    "        print(node)\n",
    "        raise ValueError(\"Node status different from susceptible\")\n",
    "    \n",
    "    node['status'] = 'exposed'\n",
    "    node['period_duration'] = sample_incubation()\n",
    "    node['infection_day'] = day\n",
    "    \n",
    "    return\n",
    "\n",
    "def exposed_to_infected(node):\n",
    "    if node['status'] != 'exposed':\n",
    "        raise ValueError(\"Node status different from exposed\")\n",
    "    if node['period_duration'] > 0:\n",
    "        raise ValueError(\"Not yet time to change\")\n",
    "    \n",
    "    node['status'] = 'infected'\n",
    "    node['period_duration'] = sample_onset_to_hosp_or_asymp()\n",
    "    \n",
    "    return\n",
    "    \n",
    "def infected_to_new_state(node):\n",
    "    if node['status'] != 'infected':\n",
    "        raise ValueError(\"Node status different from infected\")\n",
    "    if node['period_duration'] > 0:\n",
    "        raise ValueError(\"Not yet time to change\")\n",
    "    \n",
    "    if needs_hospitalization(node['age']):\n",
    "        node['status'] = 'hospitalized'\n",
    "        node['period_duration'] = sample_hospitalization_to_removed()\n",
    "    else:\n",
    "        node['status'] = 'removed'\n",
    "        \n",
    "    return\n",
    "        \n",
    "def hospitalized_to_removed(node):\n",
    "    if node['status'] != 'hospitalized':\n",
    "        raise ValueError(\"Node status different from hospitalized\")\n",
    "    if node['period_duration'] > 0:\n",
    "        raise ValueError(\"Not yet time to change\")\n",
    "        \n",
    "    node['status'] = 'removed'\n",
    "    \n",
    "    return\n",
    "\n",
    "def change_state(node):\n",
    "    if node['status'] == 'exposed':\n",
    "        exposed_to_infected(node)\n",
    "        return\n",
    "    if node['status'] == 'infected':\n",
    "        infected_to_new_state(node)\n",
    "        return \n",
    "    if node['status'] == 'hospitalized':\n",
    "        hospitalized_to_removed(node)\n",
    "        return \n",
    "\n",
    "def update_node(node):\n",
    "    if node['status'] == 'susceptible' or node['status'] == 'removed':\n",
    "        return\n",
    "    if node['period_duration'] == 0: \n",
    "        change_state(node)\n",
    "        return \n",
    "    \n",
    "    node['period_duration'] = node['period_duration'] - 1\n",
    "    return\n",
    "\n",
    "def infect_node(node, day):\n",
    "    susceptible_to_exposed(node, day)\n",
    "    return\n",
    "\n",
    "def infect_graph(Graph, node_list, day):\n",
    "    for n in node_list:\n",
    "        infect_node(Graph.nodes[n], day)\n",
    "\n",
    "def update_graph(Graph):\n",
    "    for i, node in Graph.nodes(data=True):\n",
    "        update_node(node)\n",
    "        "
   ]
  },
  {
   "cell_type": "code",
   "execution_count": 4,
   "metadata": {},
   "outputs": [],
   "source": [
    "import numpy as np\n",
    "import networkx as nx\n",
    "import pandas as pd\n",
    "import collections\n",
    "from tqdm import tqdm\n",
    "\n",
    "# Start with pct% of population infected\n",
    "def init_graph(initial_infection = .05, graph_model = 'relaxed_caveman',\n",
    "               pop_size = 1000, seed = None):\n",
    "    if graph_model == 'relaxed_caveman':\n",
    "        G = nx.relaxed_caveman_graph(int(pop_size/4), 5, 0.4, seed)\n",
    "    elif graph_model == 'scale_free':\n",
    "        G = nx.scale_free_graph(pop_size, seed=seed)\n",
    "    elif graph_model == 'SP':\n",
    "        G = nx.read_gpickle('graph_SP_05_20.gpickle')\n",
    "    else:\n",
    "        raise ValueError(\"Unknown graph type\")\n",
    "    \n",
    "    init_infection(G, initial_infection)\n",
    "\n",
    "    return G\n",
    "\n",
    "def init_parameters(initial_infection, graph_model, pop_size = 1000, seed=None):\n",
    "    G = init_graph(initial_infection, graph_model, pop_size, seed)\n",
    "    \n",
    "    status = current_status(G)\n",
    "    \n",
    "    pop = len(G.nodes)\n",
    "    i = status['infected'] / pop\n",
    "    s = (pop - i) / pop\n",
    "    newly_infected = status['infected']\n",
    "    r, contacts_infected = 0, 0\n",
    "\n",
    "    data = [[s,i, r, newly_infected, contacts_infected]]\n",
    "\n",
    "    return G, data, status, pop\n",
    "\n",
    "def init_infection(G, pct):\n",
    "    \"\"\"\n",
    "    Given a Graph G, infects pct% of population and set the remainder as susceptible.\n",
    "    This is considered day 0.\n",
    "    \"\"\"   \n",
    "    for node in G.nodes():\n",
    "        G.nodes[node].update({\n",
    "                      'status': 'susceptible', \n",
    "                      'infection_day' : -1, \n",
    "                      'contacts_infected' : 0\n",
    "        })\n",
    "\n",
    "    size = int(len(G.nodes) * pct) \n",
    "    infected = np.random.choice(G.nodes, size = size, replace = False)\n",
    "    \n",
    "    for i in infected:\n",
    "        susceptible_to_exposed(G.nodes[i], 0)\n",
    "\n",
    "def lambda_leak_value(infected_ratio, max_value=0.05, exp=3): \n",
    "    return (infected_ratio**exp)*max_value\n",
    "\n",
    "def current_status(G):\n",
    "    \"\"\"\n",
    "    Returns a dict containing the current status of susceptible, infected and removed\n",
    "    \"\"\"\n",
    "    nodes = np.array(G.nodes(data=True))[:,1]\n",
    "    result = collections.Counter(node['status'] for node in nodes)\n",
    "    return result\n",
    "\n",
    "def current_status_by_zone(G):   \n",
    "    result = collections.Counter(node['home'] for i,node in G.nodes(data=True) \\\n",
    "                                            if node['status']=='infected')\n",
    "\n",
    "    people_per_zone = dict(collections.Counter(node['home'] for i,node in G.nodes(data=True)))\n",
    "    \n",
    "    for k,v in result.items():\n",
    "        result[k] = v/people_per_zone[k]\n",
    "        \n",
    "    return dict(result)\n",
    "\n",
    "\n",
    "def get_mean_contacts_infected(G):\n",
    "        contacts_infected = [node['contacts_infected'] for i, node in G.nodes(data=True)\\\n",
    "                                                             if node['status'] == 'removed']\n",
    "        if len(contacts_infected) > 0: \n",
    "            contacts_infected = np.mean(contacts_infected)\n",
    "        else:\n",
    "            contacts_infected = np.nan\n",
    "            \n",
    "        return contacts_infected\n",
    "    \n",
    "def get_time_series_row(G, pop):\n",
    "    status = current_status(G)\n",
    "    s = status['susceptible'] / pop\n",
    "    i = status['infected'] / pop\n",
    "    r = status['removed'] / pop\n",
    "    h = status['hospitalized'] / pop\n",
    "    e = status['exposed'] / pop\n",
    "\n",
    "    contacts_infected = get_mean_contacts_infected(G)\n",
    "    \n",
    "    return s, e, i, r, h, contacts_infected, status"
   ]
  },
  {
   "cell_type": "code",
   "execution_count": 5,
   "metadata": {},
   "outputs": [],
   "source": [
    "def node_contacts(G, node, p_r, restrictions, lambda_leak):\n",
    "    if G.nodes[node]['status'] == 'susceptible':\n",
    "        if np.random.random() < lambda_leak:\n",
    "            return node, np.nan\n",
    "        for node, contact, data in G.edges(node, data=True):\n",
    "            if G.nodes[contact]['status'] == 'infected': \n",
    "                relation = data['edge_type']\n",
    "                if np.random.random() < p_r[relation] * (1 - restrictions[relation]):\n",
    "                    return node, contact\n",
    "    return None, None\n",
    "    \n",
    "def spread_through_contacts(G, p_r, restrictions, lambda_leak):\n",
    "    results = [node_contacts(G, node, p_r, restrictions, lambda_leak) for node in G.nodes()]\n",
    "    results = np.array(results)\n",
    "    results =  results[results[:,0] != np.array(None)]\n",
    "    exposed, contacts_responsible = results[:,0], results[:,1]\n",
    "    \n",
    "    return exposed, contacts_responsible\n",
    "\n",
    "def expose_contacts(G, exposed, day):\n",
    "    for node in exposed:\n",
    "        infect_node(G.nodes[node], day)\n",
    "\n",
    "def increment_contacts_infected(G, contacts_responsible):\n",
    "    series = pd.Series(contacts_responsible).dropna().value_counts()\n",
    "    for index, value in series.items():\n",
    "        G.nodes[index]['contacts_infected'] += value\n",
    "        \n",
    "        \n",
    "def spread_one_step(G, p_r, restrictions, lambda_leak, day):\n",
    "    exposed, contacts_responsible = spread_through_contacts(G, p_r, restrictions, lambda_leak)\n",
    "    \n",
    "    if len(exposed) > 0: \n",
    "        expose_contacts(G, exposed, day)\n",
    "    if len(contacts_responsible) > 0: \n",
    "        increment_contacts_infected(G, contacts_responsible)\n",
    "    \n",
    "    return len(exposed)"
   ]
  },
  {
   "cell_type": "code",
   "execution_count": 9,
   "metadata": {},
   "outputs": [],
   "source": [
    "def simulate_pandemic(restrictions={'work':0, 'school': 0, 'home':0},\n",
    "                                  initial_infection=.05, \n",
    "                                  p_r={'work':.3, 'school':.5, 'home':.7},\n",
    "                                  lambda_leak=0,\n",
    "                                  graph_model = 'SP', pop_size = None,\n",
    "                                  seed = None, it=None, policy=False):\n",
    "    \"\"\"\n",
    "    Runs the course of the pandemic from the start until\n",
    "    less than 1% of the population is simultaneously infected or no one is infected\n",
    "    \"\"\"\n",
    "    np.random.seed(seed)\n",
    "    \n",
    "    G, data, status, pop = init_parameters(initial_infection, graph_model, pop_size, seed)\n",
    "    \n",
    "    data_per_region = []\n",
    "       \n",
    "    zones = range(1, 343)\n",
    "    \n",
    "    policy_chosen = []\n",
    "    \n",
    "    infected_per_relation = {\n",
    "        'home': 0,\n",
    "        'work' : 0,\n",
    "        'school': 0\n",
    "    }\n",
    "    \n",
    "    for day in tqdm(range(500)):\n",
    "        \n",
    "        if (status['removed']+status['susceptible'])>=pop:\n",
    "            break\n",
    "            \n",
    "        update_graph(G)\n",
    "       \n",
    "        s, e, i, r, h, contacts_infected, status = get_time_series_row(G, pop)\n",
    "\n",
    "        data.append([s, e, i, r, h, contacts_infected])\n",
    "        \n",
    "        \n",
    "        if graph_model == 'SP':\n",
    "            \n",
    "            data_per_region.append(current_status_by_zone(G))\n",
    "            \n",
    "            #Lockdown\n",
    "            if policy:\n",
    "                if h > 0.00125: restrictions['work'], restrictions['school'] = 1, 1\n",
    "                else: restrictions['work'], restrictions['school'] = 0, 0\n",
    "            \n",
    "            policy_chosen.append(list(restrictions.values()))\n",
    "            \n",
    "            newly_infected = spread_one_step(G, p_r, restrictions, lambda_leak, day)\n",
    "        \n",
    "            data[-1].append(newly_infected)\n",
    "        \n",
    "    columns = ['susceptible', 'exposed', 'infected', 'removed', 'hospitalized', \n",
    "               'contacts_infected_mean', 'newly_infected']\n",
    "\n",
    "    time_series = pd.DataFrame(data, columns=columns)\n",
    "    \n",
    "    return time_series, G, data_per_region, infected_per_relation, policy_chosen"
   ]
  },
  {
   "cell_type": "code",
   "execution_count": 7,
   "metadata": {},
   "outputs": [],
   "source": [
    "import plotly.graph_objects as go\n",
    "\n",
    "def run_simulations(number_of_rounds):\n",
    "    sims = Parallel(n_jobs=-1)(delayed(simulate_pandemic)\\\n",
    "                               (initial_infection = .0001) for i in tqdm(range(number_of_rounds)))\n",
    "    return sims\n",
    "\n",
    "def plot_average_infection_curve(sims):\n",
    "    fig = go.Figure()\n",
    "    \n",
    "    sims = np.array(sims)[:,0]\n",
    "    \n",
    "    for col in ['infected']:\n",
    "        tmp=[sims[i][col] for i in range(len(sims))]\n",
    "        infected_sims = pd.DataFrame(tmp).T.fillna(0)\n",
    "        infected_sims['mean'] = infected_sims.apply(np.mean, axis=1)\n",
    "        infected_sims['sd'] = infected_sims.drop(columns='mean').apply(np.std, axis=1)\n",
    "        infected_sims = infected_sims.drop(columns=col)\n",
    "    \n",
    "    x = infected_sims.index.to_list()\n",
    "    y = infected_sims['mean']\n",
    "    sd = infected_sims['sd']\n",
    "\n",
    "    fig.add_trace(go.Scatter(x=x, y=y,\n",
    "        fill=None,\n",
    "        mode='lines',\n",
    "        line_color='indigo',\n",
    "         name=\"Average Curve\"\n",
    "        ))\n",
    "\n",
    "    fig.add_trace(go.Scatter(x=x, y=y+sd,\n",
    "        fill=None,\n",
    "        mode='lines',\n",
    "        line_color='magenta',\n",
    "        showlegend=False\n",
    "       ))\n",
    "\n",
    "    fig.add_trace(go.Scatter(\n",
    "        x=x,\n",
    "        y=y,\n",
    "        fill='tonexty', # fill area between trace0 and trace1\n",
    "        mode='lines', line_color='indigo',      name=\"Standard Deviation\"))\n",
    "\n",
    "    fig.add_trace(go.Scatter(x=x, y=y-sd,\n",
    "        fill=None,\n",
    "        mode='lines',\n",
    "        line_color='magenta',    showlegend=False\n",
    "        ))\n",
    "\n",
    "\n",
    "    fig.add_trace(go.Scatter(\n",
    "        x=x,\n",
    "        y=y,\n",
    "        fill='tonexty', # fill area between trace0 and trace1\n",
    "        mode='lines', line_color='indigo',     showlegend=False\n",
    "    ))\n",
    "\n",
    "    fig.update_layout(title = 'Average infection Curve - Relaxed Caveman')\n",
    "\n",
    "    fig.show()"
   ]
  },
  {
   "cell_type": "code",
   "execution_count": 27,
   "metadata": {},
   "outputs": [
    {
     "name": "stderr",
     "output_type": "stream",
     "text": [
      "100%|██████████| 6/6 [00:00<00:00, 44.04it/s]\n"
     ]
    },
    {
     "data": {
      "application/vnd.plotly.v1+json": {
       "config": {
        "plotlyServerURL": "https://plot.ly"
       },
       "data": [
        {
         "line": {
          "color": "indigo"
         },
         "mode": "lines",
         "name": "Average Curve",
         "type": "scatter",
         "x": [
          0,
          1,
          2,
          3,
          4,
          5,
          6,
          7,
          8,
          9,
          10,
          11,
          12,
          13,
          14,
          15,
          16,
          17,
          18,
          19,
          20,
          21,
          22,
          23,
          24,
          25,
          26,
          27,
          28,
          29,
          30,
          31,
          32,
          33,
          34,
          35,
          36,
          37,
          38,
          39,
          40,
          41,
          42,
          43,
          44,
          45,
          46,
          47,
          48,
          49,
          50,
          51,
          52,
          53,
          54,
          55,
          56,
          57,
          58,
          59,
          60,
          61,
          62,
          63,
          64,
          65,
          66,
          67,
          68,
          69,
          70,
          71,
          72,
          73,
          74,
          75,
          76,
          77,
          78,
          79,
          80,
          81,
          82,
          83,
          84,
          85,
          86,
          87,
          88,
          89,
          90,
          91,
          92,
          93,
          94,
          95,
          96,
          97,
          98,
          99,
          100,
          101,
          102,
          103,
          104,
          105,
          106,
          107,
          108,
          109,
          110,
          111,
          112,
          113,
          114,
          115,
          116,
          117,
          118,
          119,
          120,
          121,
          122
         ],
         "y": [
          0,
          0,
          0,
          0,
          0,
          0,
          3.6041231168456714e-05,
          5.4061846752685075e-05,
          7.208246233691343e-05,
          0.0001021168216439607,
          0.00012914774502030324,
          0.00015918210432735048,
          0.0002763161056248348,
          0.0004114707225065475,
          0.000570652826833898,
          0.0008830101636271894,
          0.0012374156034503472,
          0.0016368725822340756,
          0.0022315528965136115,
          0.003021456546288955,
          0.004228837790432254,
          0.005673490473101228,
          0.007502582954900406,
          0.010166630625435498,
          0.013683654100290732,
          0.017894471275138758,
          0.023231576924001057,
          0.030118455513106993,
          0.03820971191042553,
          0.04764050073283837,
          0.05886434080588193,
          0.07165897787068407,
          0.08607847377399747,
          0.10201470482231673,
          0.12059696292558687,
          0.14015834114226675,
          0.1605066195727913,
          0.18164179821716045,
          0.2030382757875009,
          0.22299610754703378,
          0.2414732453927293,
          0.2587820466613806,
          0.2734688483625267,
          0.28504108700353203,
          0.2938741920757347,
          0.2987247411038228,
          0.3005958816886518,
          0.29821115355967226,
          0.29279595857661167,
          0.2835724068334174,
          0.2715917009058363,
          0.2576107066484058,
          0.24121194646675795,
          0.22327242365265865,
          0.20427569139095125,
          0.18533902784785794,
          0.1669549965160143,
          0.1487211369807059,
          0.1314814147384608,
          0.1154010187654677,
          0.10055503495999424,
          0.08683233619260435,
          0.07510692231913309,
          0.06443571445733919,
          0.05493584660852014,
          0.046790528364448934,
          0.03957026838703477,
          0.03341923160095149,
          0.028250318364208656,
          0.02387731564910257,
          0.02002390735000841,
          0.016975419880343113,
          0.014302361902015906,
          0.011923640644897761,
          0.010058506931930129,
          0.008376582810735481,
          0.0070400538215718775,
          0.005892741296042673,
          0.004955669285662798,
          0.0041237175328575895,
          0.0035080131670631206,
          0.0029493740839520413,
          0.0024177659242173044,
          0.002048343304740623,
          0.0017119584805016937,
          0.0014236286311540402,
          0.0011803503207669574,
          0.0009761166774790359,
          0.0007688795982604099,
          0.0006427352891708113,
          0.0005586390831110791,
          0.00042949133809077586,
          0.0003483985679617482,
          0.0003093539008625868,
          0.00024027487445637811,
          0.00020423364328792137,
          0.0001711958480501694,
          0.0001381580528124174,
          0.00012614430908959852,
          9.911338571325596e-05,
          8.109277012902762e-05,
          7.808933419832288e-05,
          6.006871861409453e-05,
          3.904466709916144e-05,
          3.904466709916144e-05,
          3.303779523775199e-05,
          3.0034359307047264e-05,
          2.402748744563781e-05,
          1.5017179653523632e-05,
          1.2013743722818905e-05,
          1.2013743722818905e-05,
          9.010307792114179e-06,
          9.010307792114179e-06,
          6.006871861409453e-06,
          3.0034359307047263e-06,
          3.0034359307047263e-06,
          3.0034359307047263e-06,
          3.0034359307047263e-06,
          3.0034359307047263e-06,
          0,
          0,
          0,
          0
         ]
        },
        {
         "line": {
          "color": "magenta"
         },
         "mode": "lines",
         "showlegend": false,
         "type": "scatter",
         "x": [
          0,
          1,
          2,
          3,
          4,
          5,
          6,
          7,
          8,
          9,
          10,
          11,
          12,
          13,
          14,
          15,
          16,
          17,
          18,
          19,
          20,
          21,
          22,
          23,
          24,
          25,
          26,
          27,
          28,
          29,
          30,
          31,
          32,
          33,
          34,
          35,
          36,
          37,
          38,
          39,
          40,
          41,
          42,
          43,
          44,
          45,
          46,
          47,
          48,
          49,
          50,
          51,
          52,
          53,
          54,
          55,
          56,
          57,
          58,
          59,
          60,
          61,
          62,
          63,
          64,
          65,
          66,
          67,
          68,
          69,
          70,
          71,
          72,
          73,
          74,
          75,
          76,
          77,
          78,
          79,
          80,
          81,
          82,
          83,
          84,
          85,
          86,
          87,
          88,
          89,
          90,
          91,
          92,
          93,
          94,
          95,
          96,
          97,
          98,
          99,
          100,
          101,
          102,
          103,
          104,
          105,
          106,
          107,
          108,
          109,
          110,
          111,
          112,
          113,
          114,
          115,
          116,
          117,
          118,
          119,
          120,
          121,
          122
         ],
         "y": [
          0,
          0,
          0,
          0,
          0,
          0,
          3.6041231168456714e-05,
          5.4061846752685075e-05,
          7.208246233691343e-05,
          0.00011554859545820293,
          0.00016999889025665996,
          0.0002452398470764218,
          0.0004752696504202311,
          0.0008224588584361713,
          0.001259271981831447,
          0.0019457682330993103,
          0.002691798247526766,
          0.0035774571277569145,
          0.0047575139385755815,
          0.006296893117543745,
          0.008705666338886517,
          0.011459524631966155,
          0.014971482595514146,
          0.020047743583375972,
          0.026801810969436228,
          0.0347361674888783,
          0.044479580288817856,
          0.05636538295912655,
          0.06983681581094085,
          0.08540387154085698,
          0.10301538929592977,
          0.12180177249272131,
          0.14151703677205404,
          0.16210604736258605,
          0.18473160500875163,
          0.20688464350402863,
          0.2279859059998421,
          0.2487370091940989,
          0.2676457640607869,
          0.2831387277715758,
          0.2954426137603702,
          0.3056489651408809,
          0.31253872001599453,
          0.3165498035483136,
          0.31873128614668494,
          0.32128153133659065,
          0.3257319956870432,
          0.32891358429316325,
          0.3302544475117804,
          0.32721244211416006,
          0.32098529810662463,
          0.3117518836836109,
          0.2977309527049395,
          0.28113177158208,
          0.26267147201647373,
          0.2421348161582724,
          0.2215486208743695,
          0.19990354241226377,
          0.179453947898717,
          0.15903930456068013,
          0.1398022174457461,
          0.12241248248955325,
          0.10685846699040227,
          0.09208768734192704,
          0.07906891332657359,
          0.06749321397768697,
          0.05709394781361665,
          0.04830541177028998,
          0.04084394691381639,
          0.03452443459898451,
          0.028890266417433107,
          0.02455539720629324,
          0.02065519902567551,
          0.01740472936354298,
          0.01472986178484402,
          0.012265215877351264,
          0.010292141183856978,
          0.008658578032310169,
          0.007221924400530679,
          0.0060171236588381855,
          0.005183176696675536,
          0.004316475304655125,
          0.00353365858281939,
          0.0029824456793041574,
          0.0024492637693894178,
          0.0021011814107396256,
          0.0017420570807536247,
          0.001437131863706358,
          0.0011420799290470475,
          0.0009418750954609368,
          0.0008174927488216349,
          0.0006220160324675911,
          0.0005094678833921036,
          0.00043695575209788803,
          0.0003536123060628151,
          0.00029882995595775737,
          0.00027353327228790225,
          0.00021366326131079874,
          0.00019670907592968798,
          0.000159556367877346,
          0.00013490374848977907,
          0.0001287041361708376,
          9.991379887017227e-05,
          6.539971043090932e-05,
          6.539971043090932e-05,
          6.322195277733994e-05,
          5.689790693553173e-05,
          4.3950027573676684e-05,
          2.7400663235594505e-05,
          2.050874337666147e-05,
          2.050874337666147e-05,
          1.8020615584228357e-05,
          1.8020615584228357e-05,
          1.4501871515252017e-05,
          9.719322837825842e-06,
          9.719322837825842e-06,
          9.719322837825842e-06,
          9.719322837825842e-06,
          9.719322837825842e-06,
          0,
          0,
          0,
          0
         ]
        },
        {
         "fill": "tonexty",
         "line": {
          "color": "indigo"
         },
         "mode": "lines",
         "name": "Standard Deviation",
         "type": "scatter",
         "x": [
          0,
          1,
          2,
          3,
          4,
          5,
          6,
          7,
          8,
          9,
          10,
          11,
          12,
          13,
          14,
          15,
          16,
          17,
          18,
          19,
          20,
          21,
          22,
          23,
          24,
          25,
          26,
          27,
          28,
          29,
          30,
          31,
          32,
          33,
          34,
          35,
          36,
          37,
          38,
          39,
          40,
          41,
          42,
          43,
          44,
          45,
          46,
          47,
          48,
          49,
          50,
          51,
          52,
          53,
          54,
          55,
          56,
          57,
          58,
          59,
          60,
          61,
          62,
          63,
          64,
          65,
          66,
          67,
          68,
          69,
          70,
          71,
          72,
          73,
          74,
          75,
          76,
          77,
          78,
          79,
          80,
          81,
          82,
          83,
          84,
          85,
          86,
          87,
          88,
          89,
          90,
          91,
          92,
          93,
          94,
          95,
          96,
          97,
          98,
          99,
          100,
          101,
          102,
          103,
          104,
          105,
          106,
          107,
          108,
          109,
          110,
          111,
          112,
          113,
          114,
          115,
          116,
          117,
          118,
          119,
          120,
          121,
          122
         ],
         "y": [
          0,
          0,
          0,
          0,
          0,
          0,
          3.6041231168456714e-05,
          5.4061846752685075e-05,
          7.208246233691343e-05,
          0.0001021168216439607,
          0.00012914774502030324,
          0.00015918210432735048,
          0.0002763161056248348,
          0.0004114707225065475,
          0.000570652826833898,
          0.0008830101636271894,
          0.0012374156034503472,
          0.0016368725822340756,
          0.0022315528965136115,
          0.003021456546288955,
          0.004228837790432254,
          0.005673490473101228,
          0.007502582954900406,
          0.010166630625435498,
          0.013683654100290732,
          0.017894471275138758,
          0.023231576924001057,
          0.030118455513106993,
          0.03820971191042553,
          0.04764050073283837,
          0.05886434080588193,
          0.07165897787068407,
          0.08607847377399747,
          0.10201470482231673,
          0.12059696292558687,
          0.14015834114226675,
          0.1605066195727913,
          0.18164179821716045,
          0.2030382757875009,
          0.22299610754703378,
          0.2414732453927293,
          0.2587820466613806,
          0.2734688483625267,
          0.28504108700353203,
          0.2938741920757347,
          0.2987247411038228,
          0.3005958816886518,
          0.29821115355967226,
          0.29279595857661167,
          0.2835724068334174,
          0.2715917009058363,
          0.2576107066484058,
          0.24121194646675795,
          0.22327242365265865,
          0.20427569139095125,
          0.18533902784785794,
          0.1669549965160143,
          0.1487211369807059,
          0.1314814147384608,
          0.1154010187654677,
          0.10055503495999424,
          0.08683233619260435,
          0.07510692231913309,
          0.06443571445733919,
          0.05493584660852014,
          0.046790528364448934,
          0.03957026838703477,
          0.03341923160095149,
          0.028250318364208656,
          0.02387731564910257,
          0.02002390735000841,
          0.016975419880343113,
          0.014302361902015906,
          0.011923640644897761,
          0.010058506931930129,
          0.008376582810735481,
          0.0070400538215718775,
          0.005892741296042673,
          0.004955669285662798,
          0.0041237175328575895,
          0.0035080131670631206,
          0.0029493740839520413,
          0.0024177659242173044,
          0.002048343304740623,
          0.0017119584805016937,
          0.0014236286311540402,
          0.0011803503207669574,
          0.0009761166774790359,
          0.0007688795982604099,
          0.0006427352891708113,
          0.0005586390831110791,
          0.00042949133809077586,
          0.0003483985679617482,
          0.0003093539008625868,
          0.00024027487445637811,
          0.00020423364328792137,
          0.0001711958480501694,
          0.0001381580528124174,
          0.00012614430908959852,
          9.911338571325596e-05,
          8.109277012902762e-05,
          7.808933419832288e-05,
          6.006871861409453e-05,
          3.904466709916144e-05,
          3.904466709916144e-05,
          3.303779523775199e-05,
          3.0034359307047264e-05,
          2.402748744563781e-05,
          1.5017179653523632e-05,
          1.2013743722818905e-05,
          1.2013743722818905e-05,
          9.010307792114179e-06,
          9.010307792114179e-06,
          6.006871861409453e-06,
          3.0034359307047263e-06,
          3.0034359307047263e-06,
          3.0034359307047263e-06,
          3.0034359307047263e-06,
          3.0034359307047263e-06,
          0,
          0,
          0,
          0
         ]
        },
        {
         "line": {
          "color": "magenta"
         },
         "mode": "lines",
         "showlegend": false,
         "type": "scatter",
         "x": [
          0,
          1,
          2,
          3,
          4,
          5,
          6,
          7,
          8,
          9,
          10,
          11,
          12,
          13,
          14,
          15,
          16,
          17,
          18,
          19,
          20,
          21,
          22,
          23,
          24,
          25,
          26,
          27,
          28,
          29,
          30,
          31,
          32,
          33,
          34,
          35,
          36,
          37,
          38,
          39,
          40,
          41,
          42,
          43,
          44,
          45,
          46,
          47,
          48,
          49,
          50,
          51,
          52,
          53,
          54,
          55,
          56,
          57,
          58,
          59,
          60,
          61,
          62,
          63,
          64,
          65,
          66,
          67,
          68,
          69,
          70,
          71,
          72,
          73,
          74,
          75,
          76,
          77,
          78,
          79,
          80,
          81,
          82,
          83,
          84,
          85,
          86,
          87,
          88,
          89,
          90,
          91,
          92,
          93,
          94,
          95,
          96,
          97,
          98,
          99,
          100,
          101,
          102,
          103,
          104,
          105,
          106,
          107,
          108,
          109,
          110,
          111,
          112,
          113,
          114,
          115,
          116,
          117,
          118,
          119,
          120,
          121,
          122
         ],
         "y": [
          0,
          0,
          0,
          0,
          0,
          0,
          3.6041231168456714e-05,
          5.4061846752685075e-05,
          7.208246233691343e-05,
          8.868504782971847e-05,
          8.829659978394652e-05,
          7.312436157827913e-05,
          7.736256082943856e-05,
          4.82586576923752e-07,
          -0.00011796632816365104,
          -0.00017974790584493136,
          -0.00021696704062607194,
          -0.00030371196328876334,
          -0.00029440814554835886,
          -0.0002539800249658354,
          -0.000247990758022008,
          -0.0001125436857636981,
          3.3683314286666634e-05,
          0.00028551766749502355,
          0.0005654972311452348,
          0.0010527750613992214,
          0.001983573559184257,
          0.0038715280670874354,
          0.006582608009910201,
          0.00987712992481976,
          0.014713292315834105,
          0.021516183248646827,
          0.03063991077594088,
          0.04192336228204742,
          0.056462320842422115,
          0.07343203878050487,
          0.09302733314574053,
          0.11454658724022199,
          0.1384307875142149,
          0.16285348732249175,
          0.1875038770250884,
          0.2119151281818803,
          0.2343989767090589,
          0.2535323704587505,
          0.2690170980047844,
          0.27616795087105495,
          0.2754597676902604,
          0.26750872282618127,
          0.25533746964144294,
          0.23993237155267472,
          0.22219810370504792,
          0.20346952961320072,
          0.18469294022857638,
          0.16541307572323727,
          0.14587991076542875,
          0.12854323953744348,
          0.11236137215765912,
          0.09753873154914805,
          0.08350888157820463,
          0.07176273297025526,
          0.06130785247424236,
          0.051252189895655435,
          0.04335537764786391,
          0.03678374157275132,
          0.030802779890466682,
          0.0260878427512109,
          0.022046588960452886,
          0.018533051431613,
          0.015656689814600923,
          0.013230196699220629,
          0.011157548282583718,
          0.009395442554392987,
          0.007949524778356304,
          0.006442551926252542,
          0.005387152079016236,
          0.004487949744119698,
          0.003787966459286777,
          0.0031269045597751765,
          0.002689414170794917,
          0.0022303114068769935,
          0.0018328496374507052,
          0.0015822728632489578,
          0.0013018732656152189,
          0.0011142409301770888,
          0.0009746531916139699,
          0.0007460758515684548,
          0.0006186435607802903,
          0.0005151014912517138,
          0.0003956792674737724,
          0.0003435954828806858,
          0.00029978541740052333,
          0.00023696664371396063,
          0.00018732925253139282,
          0.00018175204962728557,
          0.0001269374428499411,
          0.00010963733061808535,
          6.885842381243654e-05,
          6.265284431403605e-05,
          5.557954224950908e-05,
          3.8670403549165913e-05,
          2.7281791768276165e-05,
          2.747453222580818e-05,
          2.0223638358016776e-05,
          1.2689623767413559e-05,
          1.2689623767413559e-05,
          2.8536376981640307e-06,
          3.1708116785628005e-06,
          4.104947317598934e-06,
          2.633696071452761e-06,
          3.51874406897634e-06,
          3.51874406897634e-06,
          0,
          0,
          -2.4881277924331125e-06,
          -3.7124509764163896e-06,
          -3.7124509764163896e-06,
          -3.7124509764163896e-06,
          -3.7124509764163896e-06,
          -3.7124509764163896e-06,
          0,
          0,
          0,
          0
         ]
        },
        {
         "fill": "tonexty",
         "line": {
          "color": "indigo"
         },
         "mode": "lines",
         "showlegend": false,
         "type": "scatter",
         "x": [
          0,
          1,
          2,
          3,
          4,
          5,
          6,
          7,
          8,
          9,
          10,
          11,
          12,
          13,
          14,
          15,
          16,
          17,
          18,
          19,
          20,
          21,
          22,
          23,
          24,
          25,
          26,
          27,
          28,
          29,
          30,
          31,
          32,
          33,
          34,
          35,
          36,
          37,
          38,
          39,
          40,
          41,
          42,
          43,
          44,
          45,
          46,
          47,
          48,
          49,
          50,
          51,
          52,
          53,
          54,
          55,
          56,
          57,
          58,
          59,
          60,
          61,
          62,
          63,
          64,
          65,
          66,
          67,
          68,
          69,
          70,
          71,
          72,
          73,
          74,
          75,
          76,
          77,
          78,
          79,
          80,
          81,
          82,
          83,
          84,
          85,
          86,
          87,
          88,
          89,
          90,
          91,
          92,
          93,
          94,
          95,
          96,
          97,
          98,
          99,
          100,
          101,
          102,
          103,
          104,
          105,
          106,
          107,
          108,
          109,
          110,
          111,
          112,
          113,
          114,
          115,
          116,
          117,
          118,
          119,
          120,
          121,
          122
         ],
         "y": [
          0,
          0,
          0,
          0,
          0,
          0,
          3.6041231168456714e-05,
          5.4061846752685075e-05,
          7.208246233691343e-05,
          0.0001021168216439607,
          0.00012914774502030324,
          0.00015918210432735048,
          0.0002763161056248348,
          0.0004114707225065475,
          0.000570652826833898,
          0.0008830101636271894,
          0.0012374156034503472,
          0.0016368725822340756,
          0.0022315528965136115,
          0.003021456546288955,
          0.004228837790432254,
          0.005673490473101228,
          0.007502582954900406,
          0.010166630625435498,
          0.013683654100290732,
          0.017894471275138758,
          0.023231576924001057,
          0.030118455513106993,
          0.03820971191042553,
          0.04764050073283837,
          0.05886434080588193,
          0.07165897787068407,
          0.08607847377399747,
          0.10201470482231673,
          0.12059696292558687,
          0.14015834114226675,
          0.1605066195727913,
          0.18164179821716045,
          0.2030382757875009,
          0.22299610754703378,
          0.2414732453927293,
          0.2587820466613806,
          0.2734688483625267,
          0.28504108700353203,
          0.2938741920757347,
          0.2987247411038228,
          0.3005958816886518,
          0.29821115355967226,
          0.29279595857661167,
          0.2835724068334174,
          0.2715917009058363,
          0.2576107066484058,
          0.24121194646675795,
          0.22327242365265865,
          0.20427569139095125,
          0.18533902784785794,
          0.1669549965160143,
          0.1487211369807059,
          0.1314814147384608,
          0.1154010187654677,
          0.10055503495999424,
          0.08683233619260435,
          0.07510692231913309,
          0.06443571445733919,
          0.05493584660852014,
          0.046790528364448934,
          0.03957026838703477,
          0.03341923160095149,
          0.028250318364208656,
          0.02387731564910257,
          0.02002390735000841,
          0.016975419880343113,
          0.014302361902015906,
          0.011923640644897761,
          0.010058506931930129,
          0.008376582810735481,
          0.0070400538215718775,
          0.005892741296042673,
          0.004955669285662798,
          0.0041237175328575895,
          0.0035080131670631206,
          0.0029493740839520413,
          0.0024177659242173044,
          0.002048343304740623,
          0.0017119584805016937,
          0.0014236286311540402,
          0.0011803503207669574,
          0.0009761166774790359,
          0.0007688795982604099,
          0.0006427352891708113,
          0.0005586390831110791,
          0.00042949133809077586,
          0.0003483985679617482,
          0.0003093539008625868,
          0.00024027487445637811,
          0.00020423364328792137,
          0.0001711958480501694,
          0.0001381580528124174,
          0.00012614430908959852,
          9.911338571325596e-05,
          8.109277012902762e-05,
          7.808933419832288e-05,
          6.006871861409453e-05,
          3.904466709916144e-05,
          3.904466709916144e-05,
          3.303779523775199e-05,
          3.0034359307047264e-05,
          2.402748744563781e-05,
          1.5017179653523632e-05,
          1.2013743722818905e-05,
          1.2013743722818905e-05,
          9.010307792114179e-06,
          9.010307792114179e-06,
          6.006871861409453e-06,
          3.0034359307047263e-06,
          3.0034359307047263e-06,
          3.0034359307047263e-06,
          3.0034359307047263e-06,
          3.0034359307047263e-06,
          0,
          0,
          0,
          0
         ]
        }
       ],
       "layout": {
        "template": {
         "data": {
          "bar": [
           {
            "error_x": {
             "color": "#2a3f5f"
            },
            "error_y": {
             "color": "#2a3f5f"
            },
            "marker": {
             "line": {
              "color": "#E5ECF6",
              "width": 0.5
             }
            },
            "type": "bar"
           }
          ],
          "barpolar": [
           {
            "marker": {
             "line": {
              "color": "#E5ECF6",
              "width": 0.5
             }
            },
            "type": "barpolar"
           }
          ],
          "carpet": [
           {
            "aaxis": {
             "endlinecolor": "#2a3f5f",
             "gridcolor": "white",
             "linecolor": "white",
             "minorgridcolor": "white",
             "startlinecolor": "#2a3f5f"
            },
            "baxis": {
             "endlinecolor": "#2a3f5f",
             "gridcolor": "white",
             "linecolor": "white",
             "minorgridcolor": "white",
             "startlinecolor": "#2a3f5f"
            },
            "type": "carpet"
           }
          ],
          "choropleth": [
           {
            "colorbar": {
             "outlinewidth": 0,
             "ticks": ""
            },
            "type": "choropleth"
           }
          ],
          "contour": [
           {
            "colorbar": {
             "outlinewidth": 0,
             "ticks": ""
            },
            "colorscale": [
             [
              0,
              "#0d0887"
             ],
             [
              0.1111111111111111,
              "#46039f"
             ],
             [
              0.2222222222222222,
              "#7201a8"
             ],
             [
              0.3333333333333333,
              "#9c179e"
             ],
             [
              0.4444444444444444,
              "#bd3786"
             ],
             [
              0.5555555555555556,
              "#d8576b"
             ],
             [
              0.6666666666666666,
              "#ed7953"
             ],
             [
              0.7777777777777778,
              "#fb9f3a"
             ],
             [
              0.8888888888888888,
              "#fdca26"
             ],
             [
              1,
              "#f0f921"
             ]
            ],
            "type": "contour"
           }
          ],
          "contourcarpet": [
           {
            "colorbar": {
             "outlinewidth": 0,
             "ticks": ""
            },
            "type": "contourcarpet"
           }
          ],
          "heatmap": [
           {
            "colorbar": {
             "outlinewidth": 0,
             "ticks": ""
            },
            "colorscale": [
             [
              0,
              "#0d0887"
             ],
             [
              0.1111111111111111,
              "#46039f"
             ],
             [
              0.2222222222222222,
              "#7201a8"
             ],
             [
              0.3333333333333333,
              "#9c179e"
             ],
             [
              0.4444444444444444,
              "#bd3786"
             ],
             [
              0.5555555555555556,
              "#d8576b"
             ],
             [
              0.6666666666666666,
              "#ed7953"
             ],
             [
              0.7777777777777778,
              "#fb9f3a"
             ],
             [
              0.8888888888888888,
              "#fdca26"
             ],
             [
              1,
              "#f0f921"
             ]
            ],
            "type": "heatmap"
           }
          ],
          "heatmapgl": [
           {
            "colorbar": {
             "outlinewidth": 0,
             "ticks": ""
            },
            "colorscale": [
             [
              0,
              "#0d0887"
             ],
             [
              0.1111111111111111,
              "#46039f"
             ],
             [
              0.2222222222222222,
              "#7201a8"
             ],
             [
              0.3333333333333333,
              "#9c179e"
             ],
             [
              0.4444444444444444,
              "#bd3786"
             ],
             [
              0.5555555555555556,
              "#d8576b"
             ],
             [
              0.6666666666666666,
              "#ed7953"
             ],
             [
              0.7777777777777778,
              "#fb9f3a"
             ],
             [
              0.8888888888888888,
              "#fdca26"
             ],
             [
              1,
              "#f0f921"
             ]
            ],
            "type": "heatmapgl"
           }
          ],
          "histogram": [
           {
            "marker": {
             "colorbar": {
              "outlinewidth": 0,
              "ticks": ""
             }
            },
            "type": "histogram"
           }
          ],
          "histogram2d": [
           {
            "colorbar": {
             "outlinewidth": 0,
             "ticks": ""
            },
            "colorscale": [
             [
              0,
              "#0d0887"
             ],
             [
              0.1111111111111111,
              "#46039f"
             ],
             [
              0.2222222222222222,
              "#7201a8"
             ],
             [
              0.3333333333333333,
              "#9c179e"
             ],
             [
              0.4444444444444444,
              "#bd3786"
             ],
             [
              0.5555555555555556,
              "#d8576b"
             ],
             [
              0.6666666666666666,
              "#ed7953"
             ],
             [
              0.7777777777777778,
              "#fb9f3a"
             ],
             [
              0.8888888888888888,
              "#fdca26"
             ],
             [
              1,
              "#f0f921"
             ]
            ],
            "type": "histogram2d"
           }
          ],
          "histogram2dcontour": [
           {
            "colorbar": {
             "outlinewidth": 0,
             "ticks": ""
            },
            "colorscale": [
             [
              0,
              "#0d0887"
             ],
             [
              0.1111111111111111,
              "#46039f"
             ],
             [
              0.2222222222222222,
              "#7201a8"
             ],
             [
              0.3333333333333333,
              "#9c179e"
             ],
             [
              0.4444444444444444,
              "#bd3786"
             ],
             [
              0.5555555555555556,
              "#d8576b"
             ],
             [
              0.6666666666666666,
              "#ed7953"
             ],
             [
              0.7777777777777778,
              "#fb9f3a"
             ],
             [
              0.8888888888888888,
              "#fdca26"
             ],
             [
              1,
              "#f0f921"
             ]
            ],
            "type": "histogram2dcontour"
           }
          ],
          "mesh3d": [
           {
            "colorbar": {
             "outlinewidth": 0,
             "ticks": ""
            },
            "type": "mesh3d"
           }
          ],
          "parcoords": [
           {
            "line": {
             "colorbar": {
              "outlinewidth": 0,
              "ticks": ""
             }
            },
            "type": "parcoords"
           }
          ],
          "pie": [
           {
            "automargin": true,
            "type": "pie"
           }
          ],
          "scatter": [
           {
            "marker": {
             "colorbar": {
              "outlinewidth": 0,
              "ticks": ""
             }
            },
            "type": "scatter"
           }
          ],
          "scatter3d": [
           {
            "line": {
             "colorbar": {
              "outlinewidth": 0,
              "ticks": ""
             }
            },
            "marker": {
             "colorbar": {
              "outlinewidth": 0,
              "ticks": ""
             }
            },
            "type": "scatter3d"
           }
          ],
          "scattercarpet": [
           {
            "marker": {
             "colorbar": {
              "outlinewidth": 0,
              "ticks": ""
             }
            },
            "type": "scattercarpet"
           }
          ],
          "scattergeo": [
           {
            "marker": {
             "colorbar": {
              "outlinewidth": 0,
              "ticks": ""
             }
            },
            "type": "scattergeo"
           }
          ],
          "scattergl": [
           {
            "marker": {
             "colorbar": {
              "outlinewidth": 0,
              "ticks": ""
             }
            },
            "type": "scattergl"
           }
          ],
          "scattermapbox": [
           {
            "marker": {
             "colorbar": {
              "outlinewidth": 0,
              "ticks": ""
             }
            },
            "type": "scattermapbox"
           }
          ],
          "scatterpolar": [
           {
            "marker": {
             "colorbar": {
              "outlinewidth": 0,
              "ticks": ""
             }
            },
            "type": "scatterpolar"
           }
          ],
          "scatterpolargl": [
           {
            "marker": {
             "colorbar": {
              "outlinewidth": 0,
              "ticks": ""
             }
            },
            "type": "scatterpolargl"
           }
          ],
          "scatterternary": [
           {
            "marker": {
             "colorbar": {
              "outlinewidth": 0,
              "ticks": ""
             }
            },
            "type": "scatterternary"
           }
          ],
          "surface": [
           {
            "colorbar": {
             "outlinewidth": 0,
             "ticks": ""
            },
            "colorscale": [
             [
              0,
              "#0d0887"
             ],
             [
              0.1111111111111111,
              "#46039f"
             ],
             [
              0.2222222222222222,
              "#7201a8"
             ],
             [
              0.3333333333333333,
              "#9c179e"
             ],
             [
              0.4444444444444444,
              "#bd3786"
             ],
             [
              0.5555555555555556,
              "#d8576b"
             ],
             [
              0.6666666666666666,
              "#ed7953"
             ],
             [
              0.7777777777777778,
              "#fb9f3a"
             ],
             [
              0.8888888888888888,
              "#fdca26"
             ],
             [
              1,
              "#f0f921"
             ]
            ],
            "type": "surface"
           }
          ],
          "table": [
           {
            "cells": {
             "fill": {
              "color": "#EBF0F8"
             },
             "line": {
              "color": "white"
             }
            },
            "header": {
             "fill": {
              "color": "#C8D4E3"
             },
             "line": {
              "color": "white"
             }
            },
            "type": "table"
           }
          ]
         },
         "layout": {
          "annotationdefaults": {
           "arrowcolor": "#2a3f5f",
           "arrowhead": 0,
           "arrowwidth": 1
          },
          "coloraxis": {
           "colorbar": {
            "outlinewidth": 0,
            "ticks": ""
           }
          },
          "colorscale": {
           "diverging": [
            [
             0,
             "#8e0152"
            ],
            [
             0.1,
             "#c51b7d"
            ],
            [
             0.2,
             "#de77ae"
            ],
            [
             0.3,
             "#f1b6da"
            ],
            [
             0.4,
             "#fde0ef"
            ],
            [
             0.5,
             "#f7f7f7"
            ],
            [
             0.6,
             "#e6f5d0"
            ],
            [
             0.7,
             "#b8e186"
            ],
            [
             0.8,
             "#7fbc41"
            ],
            [
             0.9,
             "#4d9221"
            ],
            [
             1,
             "#276419"
            ]
           ],
           "sequential": [
            [
             0,
             "#0d0887"
            ],
            [
             0.1111111111111111,
             "#46039f"
            ],
            [
             0.2222222222222222,
             "#7201a8"
            ],
            [
             0.3333333333333333,
             "#9c179e"
            ],
            [
             0.4444444444444444,
             "#bd3786"
            ],
            [
             0.5555555555555556,
             "#d8576b"
            ],
            [
             0.6666666666666666,
             "#ed7953"
            ],
            [
             0.7777777777777778,
             "#fb9f3a"
            ],
            [
             0.8888888888888888,
             "#fdca26"
            ],
            [
             1,
             "#f0f921"
            ]
           ],
           "sequentialminus": [
            [
             0,
             "#0d0887"
            ],
            [
             0.1111111111111111,
             "#46039f"
            ],
            [
             0.2222222222222222,
             "#7201a8"
            ],
            [
             0.3333333333333333,
             "#9c179e"
            ],
            [
             0.4444444444444444,
             "#bd3786"
            ],
            [
             0.5555555555555556,
             "#d8576b"
            ],
            [
             0.6666666666666666,
             "#ed7953"
            ],
            [
             0.7777777777777778,
             "#fb9f3a"
            ],
            [
             0.8888888888888888,
             "#fdca26"
            ],
            [
             1,
             "#f0f921"
            ]
           ]
          },
          "colorway": [
           "#636efa",
           "#EF553B",
           "#00cc96",
           "#ab63fa",
           "#FFA15A",
           "#19d3f3",
           "#FF6692",
           "#B6E880",
           "#FF97FF",
           "#FECB52"
          ],
          "font": {
           "color": "#2a3f5f"
          },
          "geo": {
           "bgcolor": "white",
           "lakecolor": "white",
           "landcolor": "#E5ECF6",
           "showlakes": true,
           "showland": true,
           "subunitcolor": "white"
          },
          "hoverlabel": {
           "align": "left"
          },
          "hovermode": "closest",
          "mapbox": {
           "style": "light"
          },
          "paper_bgcolor": "white",
          "plot_bgcolor": "#E5ECF6",
          "polar": {
           "angularaxis": {
            "gridcolor": "white",
            "linecolor": "white",
            "ticks": ""
           },
           "bgcolor": "#E5ECF6",
           "radialaxis": {
            "gridcolor": "white",
            "linecolor": "white",
            "ticks": ""
           }
          },
          "scene": {
           "xaxis": {
            "backgroundcolor": "#E5ECF6",
            "gridcolor": "white",
            "gridwidth": 2,
            "linecolor": "white",
            "showbackground": true,
            "ticks": "",
            "zerolinecolor": "white"
           },
           "yaxis": {
            "backgroundcolor": "#E5ECF6",
            "gridcolor": "white",
            "gridwidth": 2,
            "linecolor": "white",
            "showbackground": true,
            "ticks": "",
            "zerolinecolor": "white"
           },
           "zaxis": {
            "backgroundcolor": "#E5ECF6",
            "gridcolor": "white",
            "gridwidth": 2,
            "linecolor": "white",
            "showbackground": true,
            "ticks": "",
            "zerolinecolor": "white"
           }
          },
          "shapedefaults": {
           "line": {
            "color": "#2a3f5f"
           }
          },
          "ternary": {
           "aaxis": {
            "gridcolor": "white",
            "linecolor": "white",
            "ticks": ""
           },
           "baxis": {
            "gridcolor": "white",
            "linecolor": "white",
            "ticks": ""
           },
           "bgcolor": "#E5ECF6",
           "caxis": {
            "gridcolor": "white",
            "linecolor": "white",
            "ticks": ""
           }
          },
          "title": {
           "x": 0.05
          },
          "xaxis": {
           "automargin": true,
           "gridcolor": "white",
           "linecolor": "white",
           "ticks": "",
           "title": {
            "standoff": 15
           },
           "zerolinecolor": "white",
           "zerolinewidth": 2
          },
          "yaxis": {
           "automargin": true,
           "gridcolor": "white",
           "linecolor": "white",
           "ticks": "",
           "title": {
            "standoff": 15
           },
           "zerolinecolor": "white",
           "zerolinewidth": 2
          }
         }
        },
        "title": {
         "text": "Average infection Curve - Relaxed Caveman"
        }
       }
      },
      "text/html": [
       "<div>\n",
       "        \n",
       "        \n",
       "            <div id=\"06c37ee1-d1e5-4954-8d66-7e9857242fbf\" class=\"plotly-graph-div\" style=\"height:525px; width:100%;\"></div>\n",
       "            <script type=\"text/javascript\">\n",
       "                require([\"plotly\"], function(Plotly) {\n",
       "                    window.PLOTLYENV=window.PLOTLYENV || {};\n",
       "                    \n",
       "                if (document.getElementById(\"06c37ee1-d1e5-4954-8d66-7e9857242fbf\")) {\n",
       "                    Plotly.newPlot(\n",
       "                        '06c37ee1-d1e5-4954-8d66-7e9857242fbf',\n",
       "                        [{\"line\": {\"color\": \"indigo\"}, \"mode\": \"lines\", \"name\": \"Average Curve\", \"type\": \"scatter\", \"x\": [0, 1, 2, 3, 4, 5, 6, 7, 8, 9, 10, 11, 12, 13, 14, 15, 16, 17, 18, 19, 20, 21, 22, 23, 24, 25, 26, 27, 28, 29, 30, 31, 32, 33, 34, 35, 36, 37, 38, 39, 40, 41, 42, 43, 44, 45, 46, 47, 48, 49, 50, 51, 52, 53, 54, 55, 56, 57, 58, 59, 60, 61, 62, 63, 64, 65, 66, 67, 68, 69, 70, 71, 72, 73, 74, 75, 76, 77, 78, 79, 80, 81, 82, 83, 84, 85, 86, 87, 88, 89, 90, 91, 92, 93, 94, 95, 96, 97, 98, 99, 100, 101, 102, 103, 104, 105, 106, 107, 108, 109, 110, 111, 112, 113, 114, 115, 116, 117, 118, 119, 120, 121, 122], \"y\": [0.0, 0.0, 0.0, 0.0, 0.0, 0.0, 3.6041231168456714e-05, 5.4061846752685075e-05, 7.208246233691343e-05, 0.0001021168216439607, 0.00012914774502030324, 0.00015918210432735048, 0.0002763161056248348, 0.0004114707225065475, 0.000570652826833898, 0.0008830101636271894, 0.0012374156034503472, 0.0016368725822340756, 0.0022315528965136115, 0.003021456546288955, 0.004228837790432254, 0.005673490473101228, 0.007502582954900406, 0.010166630625435498, 0.013683654100290732, 0.017894471275138758, 0.023231576924001057, 0.030118455513106993, 0.03820971191042553, 0.04764050073283837, 0.05886434080588193, 0.07165897787068407, 0.08607847377399747, 0.10201470482231673, 0.12059696292558687, 0.14015834114226675, 0.1605066195727913, 0.18164179821716045, 0.2030382757875009, 0.22299610754703378, 0.2414732453927293, 0.2587820466613806, 0.2734688483625267, 0.28504108700353203, 0.2938741920757347, 0.2987247411038228, 0.3005958816886518, 0.29821115355967226, 0.29279595857661167, 0.2835724068334174, 0.2715917009058363, 0.2576107066484058, 0.24121194646675795, 0.22327242365265865, 0.20427569139095125, 0.18533902784785794, 0.1669549965160143, 0.1487211369807059, 0.1314814147384608, 0.1154010187654677, 0.10055503495999424, 0.08683233619260435, 0.07510692231913309, 0.06443571445733919, 0.05493584660852014, 0.046790528364448934, 0.03957026838703477, 0.03341923160095149, 0.028250318364208656, 0.02387731564910257, 0.02002390735000841, 0.016975419880343113, 0.014302361902015906, 0.011923640644897761, 0.010058506931930129, 0.008376582810735481, 0.0070400538215718775, 0.005892741296042673, 0.004955669285662798, 0.0041237175328575895, 0.0035080131670631206, 0.0029493740839520413, 0.0024177659242173044, 0.002048343304740623, 0.0017119584805016937, 0.0014236286311540402, 0.0011803503207669574, 0.0009761166774790359, 0.0007688795982604099, 0.0006427352891708113, 0.0005586390831110791, 0.00042949133809077586, 0.0003483985679617482, 0.0003093539008625868, 0.00024027487445637811, 0.00020423364328792137, 0.0001711958480501694, 0.0001381580528124174, 0.00012614430908959852, 9.911338571325596e-05, 8.109277012902762e-05, 7.808933419832288e-05, 6.006871861409453e-05, 3.904466709916144e-05, 3.904466709916144e-05, 3.303779523775199e-05, 3.0034359307047264e-05, 2.402748744563781e-05, 1.5017179653523632e-05, 1.2013743722818905e-05, 1.2013743722818905e-05, 9.010307792114179e-06, 9.010307792114179e-06, 6.006871861409453e-06, 3.0034359307047263e-06, 3.0034359307047263e-06, 3.0034359307047263e-06, 3.0034359307047263e-06, 3.0034359307047263e-06, 0.0, 0.0, 0.0, 0.0]}, {\"line\": {\"color\": \"magenta\"}, \"mode\": \"lines\", \"showlegend\": false, \"type\": \"scatter\", \"x\": [0, 1, 2, 3, 4, 5, 6, 7, 8, 9, 10, 11, 12, 13, 14, 15, 16, 17, 18, 19, 20, 21, 22, 23, 24, 25, 26, 27, 28, 29, 30, 31, 32, 33, 34, 35, 36, 37, 38, 39, 40, 41, 42, 43, 44, 45, 46, 47, 48, 49, 50, 51, 52, 53, 54, 55, 56, 57, 58, 59, 60, 61, 62, 63, 64, 65, 66, 67, 68, 69, 70, 71, 72, 73, 74, 75, 76, 77, 78, 79, 80, 81, 82, 83, 84, 85, 86, 87, 88, 89, 90, 91, 92, 93, 94, 95, 96, 97, 98, 99, 100, 101, 102, 103, 104, 105, 106, 107, 108, 109, 110, 111, 112, 113, 114, 115, 116, 117, 118, 119, 120, 121, 122], \"y\": [0.0, 0.0, 0.0, 0.0, 0.0, 0.0, 3.6041231168456714e-05, 5.4061846752685075e-05, 7.208246233691343e-05, 0.00011554859545820293, 0.00016999889025665996, 0.0002452398470764218, 0.0004752696504202311, 0.0008224588584361713, 0.001259271981831447, 0.0019457682330993103, 0.002691798247526766, 0.0035774571277569145, 0.0047575139385755815, 0.006296893117543745, 0.008705666338886517, 0.011459524631966155, 0.014971482595514146, 0.020047743583375972, 0.026801810969436228, 0.0347361674888783, 0.044479580288817856, 0.05636538295912655, 0.06983681581094085, 0.08540387154085698, 0.10301538929592977, 0.12180177249272131, 0.14151703677205404, 0.16210604736258605, 0.18473160500875163, 0.20688464350402863, 0.2279859059998421, 0.2487370091940989, 0.2676457640607869, 0.2831387277715758, 0.2954426137603702, 0.3056489651408809, 0.31253872001599453, 0.3165498035483136, 0.31873128614668494, 0.32128153133659065, 0.3257319956870432, 0.32891358429316325, 0.3302544475117804, 0.32721244211416006, 0.32098529810662463, 0.3117518836836109, 0.2977309527049395, 0.28113177158208, 0.26267147201647373, 0.2421348161582724, 0.2215486208743695, 0.19990354241226377, 0.179453947898717, 0.15903930456068013, 0.1398022174457461, 0.12241248248955325, 0.10685846699040227, 0.09208768734192704, 0.07906891332657359, 0.06749321397768697, 0.05709394781361665, 0.04830541177028998, 0.04084394691381639, 0.03452443459898451, 0.028890266417433107, 0.02455539720629324, 0.02065519902567551, 0.01740472936354298, 0.01472986178484402, 0.012265215877351264, 0.010292141183856978, 0.008658578032310169, 0.007221924400530679, 0.0060171236588381855, 0.005183176696675536, 0.004316475304655125, 0.00353365858281939, 0.0029824456793041574, 0.0024492637693894178, 0.0021011814107396256, 0.0017420570807536247, 0.001437131863706358, 0.0011420799290470475, 0.0009418750954609368, 0.0008174927488216349, 0.0006220160324675911, 0.0005094678833921036, 0.00043695575209788803, 0.0003536123060628151, 0.00029882995595775737, 0.00027353327228790225, 0.00021366326131079874, 0.00019670907592968798, 0.000159556367877346, 0.00013490374848977907, 0.0001287041361708376, 9.991379887017227e-05, 6.539971043090932e-05, 6.539971043090932e-05, 6.322195277733994e-05, 5.689790693553173e-05, 4.3950027573676684e-05, 2.7400663235594505e-05, 2.050874337666147e-05, 2.050874337666147e-05, 1.8020615584228357e-05, 1.8020615584228357e-05, 1.4501871515252017e-05, 9.719322837825842e-06, 9.719322837825842e-06, 9.719322837825842e-06, 9.719322837825842e-06, 9.719322837825842e-06, 0.0, 0.0, 0.0, 0.0]}, {\"fill\": \"tonexty\", \"line\": {\"color\": \"indigo\"}, \"mode\": \"lines\", \"name\": \"Standard Deviation\", \"type\": \"scatter\", \"x\": [0, 1, 2, 3, 4, 5, 6, 7, 8, 9, 10, 11, 12, 13, 14, 15, 16, 17, 18, 19, 20, 21, 22, 23, 24, 25, 26, 27, 28, 29, 30, 31, 32, 33, 34, 35, 36, 37, 38, 39, 40, 41, 42, 43, 44, 45, 46, 47, 48, 49, 50, 51, 52, 53, 54, 55, 56, 57, 58, 59, 60, 61, 62, 63, 64, 65, 66, 67, 68, 69, 70, 71, 72, 73, 74, 75, 76, 77, 78, 79, 80, 81, 82, 83, 84, 85, 86, 87, 88, 89, 90, 91, 92, 93, 94, 95, 96, 97, 98, 99, 100, 101, 102, 103, 104, 105, 106, 107, 108, 109, 110, 111, 112, 113, 114, 115, 116, 117, 118, 119, 120, 121, 122], \"y\": [0.0, 0.0, 0.0, 0.0, 0.0, 0.0, 3.6041231168456714e-05, 5.4061846752685075e-05, 7.208246233691343e-05, 0.0001021168216439607, 0.00012914774502030324, 0.00015918210432735048, 0.0002763161056248348, 0.0004114707225065475, 0.000570652826833898, 0.0008830101636271894, 0.0012374156034503472, 0.0016368725822340756, 0.0022315528965136115, 0.003021456546288955, 0.004228837790432254, 0.005673490473101228, 0.007502582954900406, 0.010166630625435498, 0.013683654100290732, 0.017894471275138758, 0.023231576924001057, 0.030118455513106993, 0.03820971191042553, 0.04764050073283837, 0.05886434080588193, 0.07165897787068407, 0.08607847377399747, 0.10201470482231673, 0.12059696292558687, 0.14015834114226675, 0.1605066195727913, 0.18164179821716045, 0.2030382757875009, 0.22299610754703378, 0.2414732453927293, 0.2587820466613806, 0.2734688483625267, 0.28504108700353203, 0.2938741920757347, 0.2987247411038228, 0.3005958816886518, 0.29821115355967226, 0.29279595857661167, 0.2835724068334174, 0.2715917009058363, 0.2576107066484058, 0.24121194646675795, 0.22327242365265865, 0.20427569139095125, 0.18533902784785794, 0.1669549965160143, 0.1487211369807059, 0.1314814147384608, 0.1154010187654677, 0.10055503495999424, 0.08683233619260435, 0.07510692231913309, 0.06443571445733919, 0.05493584660852014, 0.046790528364448934, 0.03957026838703477, 0.03341923160095149, 0.028250318364208656, 0.02387731564910257, 0.02002390735000841, 0.016975419880343113, 0.014302361902015906, 0.011923640644897761, 0.010058506931930129, 0.008376582810735481, 0.0070400538215718775, 0.005892741296042673, 0.004955669285662798, 0.0041237175328575895, 0.0035080131670631206, 0.0029493740839520413, 0.0024177659242173044, 0.002048343304740623, 0.0017119584805016937, 0.0014236286311540402, 0.0011803503207669574, 0.0009761166774790359, 0.0007688795982604099, 0.0006427352891708113, 0.0005586390831110791, 0.00042949133809077586, 0.0003483985679617482, 0.0003093539008625868, 0.00024027487445637811, 0.00020423364328792137, 0.0001711958480501694, 0.0001381580528124174, 0.00012614430908959852, 9.911338571325596e-05, 8.109277012902762e-05, 7.808933419832288e-05, 6.006871861409453e-05, 3.904466709916144e-05, 3.904466709916144e-05, 3.303779523775199e-05, 3.0034359307047264e-05, 2.402748744563781e-05, 1.5017179653523632e-05, 1.2013743722818905e-05, 1.2013743722818905e-05, 9.010307792114179e-06, 9.010307792114179e-06, 6.006871861409453e-06, 3.0034359307047263e-06, 3.0034359307047263e-06, 3.0034359307047263e-06, 3.0034359307047263e-06, 3.0034359307047263e-06, 0.0, 0.0, 0.0, 0.0]}, {\"line\": {\"color\": \"magenta\"}, \"mode\": \"lines\", \"showlegend\": false, \"type\": \"scatter\", \"x\": [0, 1, 2, 3, 4, 5, 6, 7, 8, 9, 10, 11, 12, 13, 14, 15, 16, 17, 18, 19, 20, 21, 22, 23, 24, 25, 26, 27, 28, 29, 30, 31, 32, 33, 34, 35, 36, 37, 38, 39, 40, 41, 42, 43, 44, 45, 46, 47, 48, 49, 50, 51, 52, 53, 54, 55, 56, 57, 58, 59, 60, 61, 62, 63, 64, 65, 66, 67, 68, 69, 70, 71, 72, 73, 74, 75, 76, 77, 78, 79, 80, 81, 82, 83, 84, 85, 86, 87, 88, 89, 90, 91, 92, 93, 94, 95, 96, 97, 98, 99, 100, 101, 102, 103, 104, 105, 106, 107, 108, 109, 110, 111, 112, 113, 114, 115, 116, 117, 118, 119, 120, 121, 122], \"y\": [0.0, 0.0, 0.0, 0.0, 0.0, 0.0, 3.6041231168456714e-05, 5.4061846752685075e-05, 7.208246233691343e-05, 8.868504782971847e-05, 8.829659978394652e-05, 7.312436157827913e-05, 7.736256082943856e-05, 4.82586576923752e-07, -0.00011796632816365104, -0.00017974790584493136, -0.00021696704062607194, -0.00030371196328876334, -0.00029440814554835886, -0.0002539800249658354, -0.000247990758022008, -0.0001125436857636981, 3.3683314286666634e-05, 0.00028551766749502355, 0.0005654972311452348, 0.0010527750613992214, 0.001983573559184257, 0.0038715280670874354, 0.006582608009910201, 0.00987712992481976, 0.014713292315834105, 0.021516183248646827, 0.03063991077594088, 0.04192336228204742, 0.056462320842422115, 0.07343203878050487, 0.09302733314574053, 0.11454658724022199, 0.1384307875142149, 0.16285348732249175, 0.1875038770250884, 0.2119151281818803, 0.2343989767090589, 0.2535323704587505, 0.2690170980047844, 0.27616795087105495, 0.2754597676902604, 0.26750872282618127, 0.25533746964144294, 0.23993237155267472, 0.22219810370504792, 0.20346952961320072, 0.18469294022857638, 0.16541307572323727, 0.14587991076542875, 0.12854323953744348, 0.11236137215765912, 0.09753873154914805, 0.08350888157820463, 0.07176273297025526, 0.06130785247424236, 0.051252189895655435, 0.04335537764786391, 0.03678374157275132, 0.030802779890466682, 0.0260878427512109, 0.022046588960452886, 0.018533051431613, 0.015656689814600923, 0.013230196699220629, 0.011157548282583718, 0.009395442554392987, 0.007949524778356304, 0.006442551926252542, 0.005387152079016236, 0.004487949744119698, 0.003787966459286777, 0.0031269045597751765, 0.002689414170794917, 0.0022303114068769935, 0.0018328496374507052, 0.0015822728632489578, 0.0013018732656152189, 0.0011142409301770888, 0.0009746531916139699, 0.0007460758515684548, 0.0006186435607802903, 0.0005151014912517138, 0.0003956792674737724, 0.0003435954828806858, 0.00029978541740052333, 0.00023696664371396063, 0.00018732925253139282, 0.00018175204962728557, 0.0001269374428499411, 0.00010963733061808535, 6.885842381243654e-05, 6.265284431403605e-05, 5.557954224950908e-05, 3.8670403549165913e-05, 2.7281791768276165e-05, 2.747453222580818e-05, 2.0223638358016776e-05, 1.2689623767413559e-05, 1.2689623767413559e-05, 2.8536376981640307e-06, 3.1708116785628005e-06, 4.104947317598934e-06, 2.633696071452761e-06, 3.51874406897634e-06, 3.51874406897634e-06, 0.0, 0.0, -2.4881277924331125e-06, -3.7124509764163896e-06, -3.7124509764163896e-06, -3.7124509764163896e-06, -3.7124509764163896e-06, -3.7124509764163896e-06, 0.0, 0.0, 0.0, 0.0]}, {\"fill\": \"tonexty\", \"line\": {\"color\": \"indigo\"}, \"mode\": \"lines\", \"showlegend\": false, \"type\": \"scatter\", \"x\": [0, 1, 2, 3, 4, 5, 6, 7, 8, 9, 10, 11, 12, 13, 14, 15, 16, 17, 18, 19, 20, 21, 22, 23, 24, 25, 26, 27, 28, 29, 30, 31, 32, 33, 34, 35, 36, 37, 38, 39, 40, 41, 42, 43, 44, 45, 46, 47, 48, 49, 50, 51, 52, 53, 54, 55, 56, 57, 58, 59, 60, 61, 62, 63, 64, 65, 66, 67, 68, 69, 70, 71, 72, 73, 74, 75, 76, 77, 78, 79, 80, 81, 82, 83, 84, 85, 86, 87, 88, 89, 90, 91, 92, 93, 94, 95, 96, 97, 98, 99, 100, 101, 102, 103, 104, 105, 106, 107, 108, 109, 110, 111, 112, 113, 114, 115, 116, 117, 118, 119, 120, 121, 122], \"y\": [0.0, 0.0, 0.0, 0.0, 0.0, 0.0, 3.6041231168456714e-05, 5.4061846752685075e-05, 7.208246233691343e-05, 0.0001021168216439607, 0.00012914774502030324, 0.00015918210432735048, 0.0002763161056248348, 0.0004114707225065475, 0.000570652826833898, 0.0008830101636271894, 0.0012374156034503472, 0.0016368725822340756, 0.0022315528965136115, 0.003021456546288955, 0.004228837790432254, 0.005673490473101228, 0.007502582954900406, 0.010166630625435498, 0.013683654100290732, 0.017894471275138758, 0.023231576924001057, 0.030118455513106993, 0.03820971191042553, 0.04764050073283837, 0.05886434080588193, 0.07165897787068407, 0.08607847377399747, 0.10201470482231673, 0.12059696292558687, 0.14015834114226675, 0.1605066195727913, 0.18164179821716045, 0.2030382757875009, 0.22299610754703378, 0.2414732453927293, 0.2587820466613806, 0.2734688483625267, 0.28504108700353203, 0.2938741920757347, 0.2987247411038228, 0.3005958816886518, 0.29821115355967226, 0.29279595857661167, 0.2835724068334174, 0.2715917009058363, 0.2576107066484058, 0.24121194646675795, 0.22327242365265865, 0.20427569139095125, 0.18533902784785794, 0.1669549965160143, 0.1487211369807059, 0.1314814147384608, 0.1154010187654677, 0.10055503495999424, 0.08683233619260435, 0.07510692231913309, 0.06443571445733919, 0.05493584660852014, 0.046790528364448934, 0.03957026838703477, 0.03341923160095149, 0.028250318364208656, 0.02387731564910257, 0.02002390735000841, 0.016975419880343113, 0.014302361902015906, 0.011923640644897761, 0.010058506931930129, 0.008376582810735481, 0.0070400538215718775, 0.005892741296042673, 0.004955669285662798, 0.0041237175328575895, 0.0035080131670631206, 0.0029493740839520413, 0.0024177659242173044, 0.002048343304740623, 0.0017119584805016937, 0.0014236286311540402, 0.0011803503207669574, 0.0009761166774790359, 0.0007688795982604099, 0.0006427352891708113, 0.0005586390831110791, 0.00042949133809077586, 0.0003483985679617482, 0.0003093539008625868, 0.00024027487445637811, 0.00020423364328792137, 0.0001711958480501694, 0.0001381580528124174, 0.00012614430908959852, 9.911338571325596e-05, 8.109277012902762e-05, 7.808933419832288e-05, 6.006871861409453e-05, 3.904466709916144e-05, 3.904466709916144e-05, 3.303779523775199e-05, 3.0034359307047264e-05, 2.402748744563781e-05, 1.5017179653523632e-05, 1.2013743722818905e-05, 1.2013743722818905e-05, 9.010307792114179e-06, 9.010307792114179e-06, 6.006871861409453e-06, 3.0034359307047263e-06, 3.0034359307047263e-06, 3.0034359307047263e-06, 3.0034359307047263e-06, 3.0034359307047263e-06, 0.0, 0.0, 0.0, 0.0]}],\n",
       "                        {\"template\": {\"data\": {\"bar\": [{\"error_x\": {\"color\": \"#2a3f5f\"}, \"error_y\": {\"color\": \"#2a3f5f\"}, \"marker\": {\"line\": {\"color\": \"#E5ECF6\", \"width\": 0.5}}, \"type\": \"bar\"}], \"barpolar\": [{\"marker\": {\"line\": {\"color\": \"#E5ECF6\", \"width\": 0.5}}, \"type\": \"barpolar\"}], \"carpet\": [{\"aaxis\": {\"endlinecolor\": \"#2a3f5f\", \"gridcolor\": \"white\", \"linecolor\": \"white\", \"minorgridcolor\": \"white\", \"startlinecolor\": \"#2a3f5f\"}, \"baxis\": {\"endlinecolor\": \"#2a3f5f\", \"gridcolor\": \"white\", \"linecolor\": \"white\", \"minorgridcolor\": \"white\", \"startlinecolor\": \"#2a3f5f\"}, \"type\": \"carpet\"}], \"choropleth\": [{\"colorbar\": {\"outlinewidth\": 0, \"ticks\": \"\"}, \"type\": \"choropleth\"}], \"contour\": [{\"colorbar\": {\"outlinewidth\": 0, \"ticks\": \"\"}, \"colorscale\": [[0.0, \"#0d0887\"], [0.1111111111111111, \"#46039f\"], [0.2222222222222222, \"#7201a8\"], [0.3333333333333333, \"#9c179e\"], [0.4444444444444444, \"#bd3786\"], [0.5555555555555556, \"#d8576b\"], [0.6666666666666666, \"#ed7953\"], [0.7777777777777778, \"#fb9f3a\"], [0.8888888888888888, \"#fdca26\"], [1.0, \"#f0f921\"]], \"type\": \"contour\"}], \"contourcarpet\": [{\"colorbar\": {\"outlinewidth\": 0, \"ticks\": \"\"}, \"type\": \"contourcarpet\"}], \"heatmap\": [{\"colorbar\": {\"outlinewidth\": 0, \"ticks\": \"\"}, \"colorscale\": [[0.0, \"#0d0887\"], [0.1111111111111111, \"#46039f\"], [0.2222222222222222, \"#7201a8\"], [0.3333333333333333, \"#9c179e\"], [0.4444444444444444, \"#bd3786\"], [0.5555555555555556, \"#d8576b\"], [0.6666666666666666, \"#ed7953\"], [0.7777777777777778, \"#fb9f3a\"], [0.8888888888888888, \"#fdca26\"], [1.0, \"#f0f921\"]], \"type\": \"heatmap\"}], \"heatmapgl\": [{\"colorbar\": {\"outlinewidth\": 0, \"ticks\": \"\"}, \"colorscale\": [[0.0, \"#0d0887\"], [0.1111111111111111, \"#46039f\"], [0.2222222222222222, \"#7201a8\"], [0.3333333333333333, \"#9c179e\"], [0.4444444444444444, \"#bd3786\"], [0.5555555555555556, \"#d8576b\"], [0.6666666666666666, \"#ed7953\"], [0.7777777777777778, \"#fb9f3a\"], [0.8888888888888888, \"#fdca26\"], [1.0, \"#f0f921\"]], \"type\": \"heatmapgl\"}], \"histogram\": [{\"marker\": {\"colorbar\": {\"outlinewidth\": 0, \"ticks\": \"\"}}, \"type\": \"histogram\"}], \"histogram2d\": [{\"colorbar\": {\"outlinewidth\": 0, \"ticks\": \"\"}, \"colorscale\": [[0.0, \"#0d0887\"], [0.1111111111111111, \"#46039f\"], [0.2222222222222222, \"#7201a8\"], [0.3333333333333333, \"#9c179e\"], [0.4444444444444444, \"#bd3786\"], [0.5555555555555556, \"#d8576b\"], [0.6666666666666666, \"#ed7953\"], [0.7777777777777778, \"#fb9f3a\"], [0.8888888888888888, \"#fdca26\"], [1.0, \"#f0f921\"]], \"type\": \"histogram2d\"}], \"histogram2dcontour\": [{\"colorbar\": {\"outlinewidth\": 0, \"ticks\": \"\"}, \"colorscale\": [[0.0, \"#0d0887\"], [0.1111111111111111, \"#46039f\"], [0.2222222222222222, \"#7201a8\"], [0.3333333333333333, \"#9c179e\"], [0.4444444444444444, \"#bd3786\"], [0.5555555555555556, \"#d8576b\"], [0.6666666666666666, \"#ed7953\"], [0.7777777777777778, \"#fb9f3a\"], [0.8888888888888888, \"#fdca26\"], [1.0, \"#f0f921\"]], \"type\": \"histogram2dcontour\"}], \"mesh3d\": [{\"colorbar\": {\"outlinewidth\": 0, \"ticks\": \"\"}, \"type\": \"mesh3d\"}], \"parcoords\": [{\"line\": {\"colorbar\": {\"outlinewidth\": 0, \"ticks\": \"\"}}, \"type\": \"parcoords\"}], \"pie\": [{\"automargin\": true, \"type\": \"pie\"}], \"scatter\": [{\"marker\": {\"colorbar\": {\"outlinewidth\": 0, \"ticks\": \"\"}}, \"type\": \"scatter\"}], \"scatter3d\": [{\"line\": {\"colorbar\": {\"outlinewidth\": 0, \"ticks\": \"\"}}, \"marker\": {\"colorbar\": {\"outlinewidth\": 0, \"ticks\": \"\"}}, \"type\": \"scatter3d\"}], \"scattercarpet\": [{\"marker\": {\"colorbar\": {\"outlinewidth\": 0, \"ticks\": \"\"}}, \"type\": \"scattercarpet\"}], \"scattergeo\": [{\"marker\": {\"colorbar\": {\"outlinewidth\": 0, \"ticks\": \"\"}}, \"type\": \"scattergeo\"}], \"scattergl\": [{\"marker\": {\"colorbar\": {\"outlinewidth\": 0, \"ticks\": \"\"}}, \"type\": \"scattergl\"}], \"scattermapbox\": [{\"marker\": {\"colorbar\": {\"outlinewidth\": 0, \"ticks\": \"\"}}, \"type\": \"scattermapbox\"}], \"scatterpolar\": [{\"marker\": {\"colorbar\": {\"outlinewidth\": 0, \"ticks\": \"\"}}, \"type\": \"scatterpolar\"}], \"scatterpolargl\": [{\"marker\": {\"colorbar\": {\"outlinewidth\": 0, \"ticks\": \"\"}}, \"type\": \"scatterpolargl\"}], \"scatterternary\": [{\"marker\": {\"colorbar\": {\"outlinewidth\": 0, \"ticks\": \"\"}}, \"type\": \"scatterternary\"}], \"surface\": [{\"colorbar\": {\"outlinewidth\": 0, \"ticks\": \"\"}, \"colorscale\": [[0.0, \"#0d0887\"], [0.1111111111111111, \"#46039f\"], [0.2222222222222222, \"#7201a8\"], [0.3333333333333333, \"#9c179e\"], [0.4444444444444444, \"#bd3786\"], [0.5555555555555556, \"#d8576b\"], [0.6666666666666666, \"#ed7953\"], [0.7777777777777778, \"#fb9f3a\"], [0.8888888888888888, \"#fdca26\"], [1.0, \"#f0f921\"]], \"type\": \"surface\"}], \"table\": [{\"cells\": {\"fill\": {\"color\": \"#EBF0F8\"}, \"line\": {\"color\": \"white\"}}, \"header\": {\"fill\": {\"color\": \"#C8D4E3\"}, \"line\": {\"color\": \"white\"}}, \"type\": \"table\"}]}, \"layout\": {\"annotationdefaults\": {\"arrowcolor\": \"#2a3f5f\", \"arrowhead\": 0, \"arrowwidth\": 1}, \"coloraxis\": {\"colorbar\": {\"outlinewidth\": 0, \"ticks\": \"\"}}, \"colorscale\": {\"diverging\": [[0, \"#8e0152\"], [0.1, \"#c51b7d\"], [0.2, \"#de77ae\"], [0.3, \"#f1b6da\"], [0.4, \"#fde0ef\"], [0.5, \"#f7f7f7\"], [0.6, \"#e6f5d0\"], [0.7, \"#b8e186\"], [0.8, \"#7fbc41\"], [0.9, \"#4d9221\"], [1, \"#276419\"]], \"sequential\": [[0.0, \"#0d0887\"], [0.1111111111111111, \"#46039f\"], [0.2222222222222222, \"#7201a8\"], [0.3333333333333333, \"#9c179e\"], [0.4444444444444444, \"#bd3786\"], [0.5555555555555556, \"#d8576b\"], [0.6666666666666666, \"#ed7953\"], [0.7777777777777778, \"#fb9f3a\"], [0.8888888888888888, \"#fdca26\"], [1.0, \"#f0f921\"]], \"sequentialminus\": [[0.0, \"#0d0887\"], [0.1111111111111111, \"#46039f\"], [0.2222222222222222, \"#7201a8\"], [0.3333333333333333, \"#9c179e\"], [0.4444444444444444, \"#bd3786\"], [0.5555555555555556, \"#d8576b\"], [0.6666666666666666, \"#ed7953\"], [0.7777777777777778, \"#fb9f3a\"], [0.8888888888888888, \"#fdca26\"], [1.0, \"#f0f921\"]]}, \"colorway\": [\"#636efa\", \"#EF553B\", \"#00cc96\", \"#ab63fa\", \"#FFA15A\", \"#19d3f3\", \"#FF6692\", \"#B6E880\", \"#FF97FF\", \"#FECB52\"], \"font\": {\"color\": \"#2a3f5f\"}, \"geo\": {\"bgcolor\": \"white\", \"lakecolor\": \"white\", \"landcolor\": \"#E5ECF6\", \"showlakes\": true, \"showland\": true, \"subunitcolor\": \"white\"}, \"hoverlabel\": {\"align\": \"left\"}, \"hovermode\": \"closest\", \"mapbox\": {\"style\": \"light\"}, \"paper_bgcolor\": \"white\", \"plot_bgcolor\": \"#E5ECF6\", \"polar\": {\"angularaxis\": {\"gridcolor\": \"white\", \"linecolor\": \"white\", \"ticks\": \"\"}, \"bgcolor\": \"#E5ECF6\", \"radialaxis\": {\"gridcolor\": \"white\", \"linecolor\": \"white\", \"ticks\": \"\"}}, \"scene\": {\"xaxis\": {\"backgroundcolor\": \"#E5ECF6\", \"gridcolor\": \"white\", \"gridwidth\": 2, \"linecolor\": \"white\", \"showbackground\": true, \"ticks\": \"\", \"zerolinecolor\": \"white\"}, \"yaxis\": {\"backgroundcolor\": \"#E5ECF6\", \"gridcolor\": \"white\", \"gridwidth\": 2, \"linecolor\": \"white\", \"showbackground\": true, \"ticks\": \"\", \"zerolinecolor\": \"white\"}, \"zaxis\": {\"backgroundcolor\": \"#E5ECF6\", \"gridcolor\": \"white\", \"gridwidth\": 2, \"linecolor\": \"white\", \"showbackground\": true, \"ticks\": \"\", \"zerolinecolor\": \"white\"}}, \"shapedefaults\": {\"line\": {\"color\": \"#2a3f5f\"}}, \"ternary\": {\"aaxis\": {\"gridcolor\": \"white\", \"linecolor\": \"white\", \"ticks\": \"\"}, \"baxis\": {\"gridcolor\": \"white\", \"linecolor\": \"white\", \"ticks\": \"\"}, \"bgcolor\": \"#E5ECF6\", \"caxis\": {\"gridcolor\": \"white\", \"linecolor\": \"white\", \"ticks\": \"\"}}, \"title\": {\"x\": 0.05}, \"xaxis\": {\"automargin\": true, \"gridcolor\": \"white\", \"linecolor\": \"white\", \"ticks\": \"\", \"title\": {\"standoff\": 15}, \"zerolinecolor\": \"white\", \"zerolinewidth\": 2}, \"yaxis\": {\"automargin\": true, \"gridcolor\": \"white\", \"linecolor\": \"white\", \"ticks\": \"\", \"title\": {\"standoff\": 15}, \"zerolinecolor\": \"white\", \"zerolinewidth\": 2}}}, \"title\": {\"text\": \"Average infection Curve - Relaxed Caveman\"}},\n",
       "                        {\"responsive\": true}\n",
       "                    ).then(function(){\n",
       "                            \n",
       "var gd = document.getElementById('06c37ee1-d1e5-4954-8d66-7e9857242fbf');\n",
       "var x = new MutationObserver(function (mutations, observer) {{\n",
       "        var display = window.getComputedStyle(gd).display;\n",
       "        if (!display || display === 'none') {{\n",
       "            console.log([gd, 'removed!']);\n",
       "            Plotly.purge(gd);\n",
       "            observer.disconnect();\n",
       "        }}\n",
       "}});\n",
       "\n",
       "// Listen for the removal of the full notebook cells\n",
       "var notebookContainer = gd.closest('#notebook-container');\n",
       "if (notebookContainer) {{\n",
       "    x.observe(notebookContainer, {childList: true});\n",
       "}}\n",
       "\n",
       "// Listen for the clearing of the current output cell\n",
       "var outputEl = gd.closest('.output');\n",
       "if (outputEl) {{\n",
       "    x.observe(outputEl, {childList: true});\n",
       "}}\n",
       "\n",
       "                        })\n",
       "                };\n",
       "                });\n",
       "            </script>\n",
       "        </div>"
      ]
     },
     "metadata": {},
     "output_type": "display_data"
    }
   ],
   "source": [
    "sims = run_simulations(6)\n",
    "plot_average_infection_curve(sims)"
   ]
  },
  {
   "cell_type": "code",
   "execution_count": 10,
   "metadata": {},
   "outputs": [
    {
     "name": "stderr",
     "output_type": "stream",
     "text": [
      " 23%|██▎       | 113/500 [01:13<04:13,  1.53it/s]\n"
     ]
    },
    {
     "data": {
      "image/png": "[encoded data removed]",
      "text/plain": [
       "<Figure size 432x288 with 1 Axes>"
      ]
     },
     "metadata": {
      "needs_background": "light"
     },
     "output_type": "display_data"
    },
    {
     "data": {
      "image/png": "[encoded data removed]",
      "text/plain": [
       "<Figure size 432x288 with 1 Axes>"
      ]
     },
     "metadata": {
      "needs_background": "light"
     },
     "output_type": "display_data"
    }
   ],
   "source": [
    "time_series, G, data_per_region, infcted_per_relation,policy_chosen = simulate_pandemic(initial_infection = .0001)\n",
    "plot_SIR_timeline(time_series, 'policy_long', False)\n",
    "plot_capacity(time_series, 'policy_long', False)"
   ]
  },
  {
   "cell_type": "code",
   "execution_count": null,
   "metadata": {},
   "outputs": [],
   "source": [
    "plt.plot(time_series.index, time_series['hospitalized'], label = 'Hospitalized')\n",
    "plt.plot(time_series.index, len(time_series.index)*[0.0025], label = 'Capacity')\n",
    "plt.title(f'SP Network - policy')\n",
    "plt.fill_between(time_series.index[:-1], time_series['hospitalized'].max(), where=np.array(policy_chosen)[:,1] == 1,\n",
    "                facecolor='red', alpha=0.1, label='lockdown')\n",
    "plt.legend()\n",
    "plt.title(f'SP Network - policy')\n",
    "plt.savefig(f'Hospital Beds- policy.png', fromat='png', dpi = 300)\n",
    "plt.show()\n",
    "\n",
    "policy_chosen"
   ]
  },
  {
   "cell_type": "code",
   "execution_count": 151,
   "metadata": {},
   "outputs": [
    {
     "name": "stderr",
     "output_type": "stream",
     "text": [
      "exception calling callback for <Future at 0x7fba373b8a50 state=finished raised BrokenProcessPool>\n",
      "joblib.externals.loky.process_executor._RemoteTraceback: \n",
      "\"\"\"\n",
      "Traceback (most recent call last):\n",
      "  File \"/home/yamba/anaconda3/envs/cmdp/lib/python3.7/site-packages/joblib/externals/loky/process_executor.py\", line 404, in _process_worker\n",
      "    call_item = call_queue.get(block=True, timeout=timeout)\n",
      "  File \"/home/yamba/anaconda3/envs/cmdp/lib/python3.7/multiprocessing/queues.py\", line 104, in get\n",
      "    if not self._poll(timeout):\n",
      "  File \"/home/yamba/anaconda3/envs/cmdp/lib/python3.7/multiprocessing/connection.py\", line 257, in poll\n",
      "    return self._poll(timeout)\n",
      "  File \"/home/yamba/anaconda3/envs/cmdp/lib/python3.7/multiprocessing/connection.py\", line 414, in _poll\n",
      "    r = wait([self], timeout)\n",
      "  File \"/home/yamba/anaconda3/envs/cmdp/lib/python3.7/multiprocessing/connection.py\", line 920, in wait\n",
      "    ready = selector.select(timeout)\n",
      "  File \"/home/yamba/anaconda3/envs/cmdp/lib/python3.7/selectors.py\", line 415, in select\n",
      "    fd_event_list = self._selector.poll(timeout)\n",
      "KeyboardInterrupt\n",
      "\"\"\"\n",
      "\n",
      "The above exception was the direct cause of the following exception:\n",
      "\n",
      "Traceback (most recent call last):\n",
      "  File \"/home/yamba/anaconda3/envs/cmdp/lib/python3.7/site-packages/joblib/externals/loky/_base.py\", line 625, in _invoke_callbacks\n",
      "    callback(self)\n",
      "  File \"/home/yamba/anaconda3/envs/cmdp/lib/python3.7/site-packages/joblib/parallel.py\", line 347, in __call__\n",
      "    self.parallel.dispatch_next()\n",
      "  File \"/home/yamba/anaconda3/envs/cmdp/lib/python3.7/site-packages/joblib/parallel.py\", line 780, in dispatch_next\n",
      "    if not self.dispatch_one_batch(self._original_iterator):\n",
      "  File \"/home/yamba/anaconda3/envs/cmdp/lib/python3.7/site-packages/joblib/parallel.py\", line 847, in dispatch_one_batch\n",
      "    self._dispatch(tasks)\n",
      "  File \"/home/yamba/anaconda3/envs/cmdp/lib/python3.7/site-packages/joblib/parallel.py\", line 765, in _dispatch\n",
      "    job = self._backend.apply_async(batch, callback=cb)\n",
      "  File \"/home/yamba/anaconda3/envs/cmdp/lib/python3.7/site-packages/joblib/_parallel_backends.py\", line 529, in apply_async\n",
      "    future = self._workers.submit(SafeFunction(func))\n",
      "  File \"/home/yamba/anaconda3/envs/cmdp/lib/python3.7/site-packages/joblib/externals/loky/reusable_executor.py\", line 178, in submit\n",
      "    fn, *args, **kwargs)\n",
      "  File \"/home/yamba/anaconda3/envs/cmdp/lib/python3.7/site-packages/joblib/externals/loky/process_executor.py\", line 1102, in submit\n",
      "    raise self._flags.broken\n",
      "joblib.externals.loky.process_executor.BrokenProcessPool: A task has failed to un-serialize. Please ensure that the arguments of the function are all picklable.\n"
     ]
    },
    {
     "ename": "KeyboardInterrupt",
     "evalue": "",
     "output_type": "error",
     "traceback": [
      "\u001b[0;31m---------------------------------------------------------------------------\u001b[0m",
      "\u001b[0;31mKeyboardInterrupt\u001b[0m                         Traceback (most recent call last)",
      "\u001b[0;32m<ipython-input-151-7990f16821a8>\u001b[0m in \u001b[0;36m<module>\u001b[0;34m\u001b[0m\n\u001b[0;32m----> 1\u001b[0;31m \u001b[0mParallel\u001b[0m\u001b[0;34m(\u001b[0m\u001b[0mn_jobs\u001b[0m\u001b[0;34m=\u001b[0m\u001b[0;34m-\u001b[0m\u001b[0;36m1\u001b[0m\u001b[0;34m)\u001b[0m\u001b[0;34m(\u001b[0m\u001b[0mdelayed\u001b[0m\u001b[0;34m(\u001b[0m\u001b[0mnp\u001b[0m\u001b[0;34m.\u001b[0m\u001b[0msqrt\u001b[0m\u001b[0;34m)\u001b[0m\u001b[0;34m(\u001b[0m\u001b[0mx\u001b[0m\u001b[0;34m)\u001b[0m \u001b[0;32mfor\u001b[0m \u001b[0mx\u001b[0m \u001b[0;32min\u001b[0m \u001b[0mrange\u001b[0m\u001b[0;34m(\u001b[0m\u001b[0;36m10000000000000000\u001b[0m\u001b[0;34m)\u001b[0m\u001b[0;34m)\u001b[0m\u001b[0;34m\u001b[0m\u001b[0;34m\u001b[0m\u001b[0m\n\u001b[0m",
      "\u001b[0;32m~/anaconda3/envs/cmdp/lib/python3.7/site-packages/joblib/parallel.py\u001b[0m in \u001b[0;36m__call__\u001b[0;34m(self, iterable)\u001b[0m\n\u001b[1;32m   1040\u001b[0m \u001b[0;34m\u001b[0m\u001b[0m\n\u001b[1;32m   1041\u001b[0m             \u001b[0;32mwith\u001b[0m \u001b[0mself\u001b[0m\u001b[0;34m.\u001b[0m\u001b[0m_backend\u001b[0m\u001b[0;34m.\u001b[0m\u001b[0mretrieval_context\u001b[0m\u001b[0;34m(\u001b[0m\u001b[0;34m)\u001b[0m\u001b[0;34m:\u001b[0m\u001b[0;34m\u001b[0m\u001b[0;34m\u001b[0m\u001b[0m\n\u001b[0;32m-> 1042\u001b[0;31m                 \u001b[0mself\u001b[0m\u001b[0;34m.\u001b[0m\u001b[0mretrieve\u001b[0m\u001b[0;34m(\u001b[0m\u001b[0;34m)\u001b[0m\u001b[0;34m\u001b[0m\u001b[0;34m\u001b[0m\u001b[0m\n\u001b[0m\u001b[1;32m   1043\u001b[0m             \u001b[0;31m# Make sure that we get a last message telling us we are done\u001b[0m\u001b[0;34m\u001b[0m\u001b[0;34m\u001b[0m\u001b[0;34m\u001b[0m\u001b[0m\n\u001b[1;32m   1044\u001b[0m             \u001b[0melapsed_time\u001b[0m \u001b[0;34m=\u001b[0m \u001b[0mtime\u001b[0m\u001b[0;34m.\u001b[0m\u001b[0mtime\u001b[0m\u001b[0;34m(\u001b[0m\u001b[0;34m)\u001b[0m \u001b[0;34m-\u001b[0m \u001b[0mself\u001b[0m\u001b[0;34m.\u001b[0m\u001b[0m_start_time\u001b[0m\u001b[0;34m\u001b[0m\u001b[0;34m\u001b[0m\u001b[0m\n",
      "\u001b[0;32m~/anaconda3/envs/cmdp/lib/python3.7/site-packages/joblib/parallel.py\u001b[0m in \u001b[0;36mretrieve\u001b[0;34m(self)\u001b[0m\n\u001b[1;32m    914\u001b[0m             \u001b[0;31m# we empty it and Python list are not thread-safe by default hence\u001b[0m\u001b[0;34m\u001b[0m\u001b[0;34m\u001b[0m\u001b[0;34m\u001b[0m\u001b[0m\n\u001b[1;32m    915\u001b[0m             \u001b[0;31m# the use of the lock\u001b[0m\u001b[0;34m\u001b[0m\u001b[0;34m\u001b[0m\u001b[0;34m\u001b[0m\u001b[0m\n\u001b[0;32m--> 916\u001b[0;31m             \u001b[0;32mwith\u001b[0m \u001b[0mself\u001b[0m\u001b[0;34m.\u001b[0m\u001b[0m_lock\u001b[0m\u001b[0;34m:\u001b[0m\u001b[0;34m\u001b[0m\u001b[0;34m\u001b[0m\u001b[0m\n\u001b[0m\u001b[1;32m    917\u001b[0m                 \u001b[0mjob\u001b[0m \u001b[0;34m=\u001b[0m \u001b[0mself\u001b[0m\u001b[0;34m.\u001b[0m\u001b[0m_jobs\u001b[0m\u001b[0;34m.\u001b[0m\u001b[0mpop\u001b[0m\u001b[0;34m(\u001b[0m\u001b[0;36m0\u001b[0m\u001b[0;34m)\u001b[0m\u001b[0;34m\u001b[0m\u001b[0;34m\u001b[0m\u001b[0m\n\u001b[1;32m    918\u001b[0m \u001b[0;34m\u001b[0m\u001b[0m\n",
      "\u001b[0;31mKeyboardInterrupt\u001b[0m: "
     ]
    },
    {
     "name": "stderr",
     "output_type": "stream",
     "text": [
      "exception calling callback for <Future at 0x7fba38f1d450 state=finished raised BrokenProcessPool>\n",
      "Traceback (most recent call last):\n",
      "  File \"/home/yamba/anaconda3/envs/cmdp/lib/python3.7/site-packages/joblib/externals/loky/_base.py\", line 625, in _invoke_callbacks\n",
      "    callback(self)\n",
      "  File \"/home/yamba/anaconda3/envs/cmdp/lib/python3.7/site-packages/joblib/parallel.py\", line 347, in __call__\n",
      "    self.parallel.dispatch_next()\n",
      "  File \"/home/yamba/anaconda3/envs/cmdp/lib/python3.7/site-packages/joblib/parallel.py\", line 780, in dispatch_next\n",
      "    if not self.dispatch_one_batch(self._original_iterator):\n",
      "  File \"/home/yamba/anaconda3/envs/cmdp/lib/python3.7/site-packages/joblib/parallel.py\", line 847, in dispatch_one_batch\n",
      "    self._dispatch(tasks)\n",
      "  File \"/home/yamba/anaconda3/envs/cmdp/lib/python3.7/site-packages/joblib/parallel.py\", line 765, in _dispatch\n",
      "    job = self._backend.apply_async(batch, callback=cb)\n",
      "  File \"/home/yamba/anaconda3/envs/cmdp/lib/python3.7/site-packages/joblib/_parallel_backends.py\", line 529, in apply_async\n",
      "    future = self._workers.submit(SafeFunction(func))\n",
      "AttributeError: 'NoneType' object has no attribute 'submit'\n",
      "exception calling callback for <Future at 0x7fba565c1d10 state=finished raised BrokenProcessPool>\n",
      "Traceback (most recent call last):\n",
      "  File \"/home/yamba/anaconda3/envs/cmdp/lib/python3.7/site-packages/joblib/externals/loky/_base.py\", line 625, in _invoke_callbacks\n",
      "    callback(self)\n",
      "  File \"/home/yamba/anaconda3/envs/cmdp/lib/python3.7/site-packages/joblib/parallel.py\", line 347, in __call__\n",
      "    self.parallel.dispatch_next()\n",
      "  File \"/home/yamba/anaconda3/envs/cmdp/lib/python3.7/site-packages/joblib/parallel.py\", line 780, in dispatch_next\n",
      "    if not self.dispatch_one_batch(self._original_iterator):\n",
      "  File \"/home/yamba/anaconda3/envs/cmdp/lib/python3.7/site-packages/joblib/parallel.py\", line 847, in dispatch_one_batch\n",
      "    self._dispatch(tasks)\n",
      "  File \"/home/yamba/anaconda3/envs/cmdp/lib/python3.7/site-packages/joblib/parallel.py\", line 765, in _dispatch\n",
      "    job = self._backend.apply_async(batch, callback=cb)\n",
      "  File \"/home/yamba/anaconda3/envs/cmdp/lib/python3.7/site-packages/joblib/_parallel_backends.py\", line 529, in apply_async\n",
      "    future = self._workers.submit(SafeFunction(func))\n",
      "AttributeError: 'NoneType' object has no attribute 'submit'\n",
      "exception calling callback for <Future at 0x7fba49d08f10 state=finished raised BrokenProcessPool>\n",
      "Traceback (most recent call last):\n",
      "  File \"/home/yamba/anaconda3/envs/cmdp/lib/python3.7/site-packages/joblib/externals/loky/_base.py\", line 625, in _invoke_callbacks\n",
      "    callback(self)\n",
      "  File \"/home/yamba/anaconda3/envs/cmdp/lib/python3.7/site-packages/joblib/parallel.py\", line 347, in __call__\n",
      "    self.parallel.dispatch_next()\n",
      "  File \"/home/yamba/anaconda3/envs/cmdp/lib/python3.7/site-packages/joblib/parallel.py\", line 780, in dispatch_next\n",
      "    if not self.dispatch_one_batch(self._original_iterator):\n",
      "  File \"/home/yamba/anaconda3/envs/cmdp/lib/python3.7/site-packages/joblib/parallel.py\", line 847, in dispatch_one_batch\n",
      "    self._dispatch(tasks)\n",
      "  File \"/home/yamba/anaconda3/envs/cmdp/lib/python3.7/site-packages/joblib/parallel.py\", line 765, in _dispatch\n",
      "    job = self._backend.apply_async(batch, callback=cb)\n",
      "  File \"/home/yamba/anaconda3/envs/cmdp/lib/python3.7/site-packages/joblib/_parallel_backends.py\", line 529, in apply_async\n",
      "    future = self._workers.submit(SafeFunction(func))\n",
      "AttributeError: 'NoneType' object has no attribute 'submit'\n",
      "exception calling callback for <Future at 0x7fba002e0550 state=finished raised BrokenProcessPool>\n",
      "Traceback (most recent call last):\n",
      "  File \"/home/yamba/anaconda3/envs/cmdp/lib/python3.7/site-packages/joblib/externals/loky/_base.py\", line 625, in _invoke_callbacks\n",
      "    callback(self)\n",
      "  File \"/home/yamba/anaconda3/envs/cmdp/lib/python3.7/site-packages/joblib/parallel.py\", line 347, in __call__\n",
      "    self.parallel.dispatch_next()\n",
      "  File \"/home/yamba/anaconda3/envs/cmdp/lib/python3.7/site-packages/joblib/parallel.py\", line 780, in dispatch_next\n",
      "    if not self.dispatch_one_batch(self._original_iterator):\n",
      "  File \"/home/yamba/anaconda3/envs/cmdp/lib/python3.7/site-packages/joblib/parallel.py\", line 847, in dispatch_one_batch\n",
      "    self._dispatch(tasks)\n",
      "  File \"/home/yamba/anaconda3/envs/cmdp/lib/python3.7/site-packages/joblib/parallel.py\", line 765, in _dispatch\n",
      "    job = self._backend.apply_async(batch, callback=cb)\n",
      "  File \"/home/yamba/anaconda3/envs/cmdp/lib/python3.7/site-packages/joblib/_parallel_backends.py\", line 529, in apply_async\n",
      "    future = self._workers.submit(SafeFunction(func))\n",
      "AttributeError: 'NoneType' object has no attribute 'submit'\n",
      "exception calling callback for <Future at 0x7fba31b3c4d0 state=finished raised BrokenProcessPool>\n",
      "Traceback (most recent call last):\n",
      "  File \"/home/yamba/anaconda3/envs/cmdp/lib/python3.7/site-packages/joblib/externals/loky/_base.py\", line 625, in _invoke_callbacks\n",
      "    callback(self)\n",
      "  File \"/home/yamba/anaconda3/envs/cmdp/lib/python3.7/site-packages/joblib/parallel.py\", line 347, in __call__\n",
      "    self.parallel.dispatch_next()\n",
      "  File \"/home/yamba/anaconda3/envs/cmdp/lib/python3.7/site-packages/joblib/parallel.py\", line 780, in dispatch_next\n",
      "    if not self.dispatch_one_batch(self._original_iterator):\n",
      "  File \"/home/yamba/anaconda3/envs/cmdp/lib/python3.7/site-packages/joblib/parallel.py\", line 847, in dispatch_one_batch\n",
      "    self._dispatch(tasks)\n",
      "  File \"/home/yamba/anaconda3/envs/cmdp/lib/python3.7/site-packages/joblib/parallel.py\", line 765, in _dispatch\n",
      "    job = self._backend.apply_async(batch, callback=cb)\n",
      "  File \"/home/yamba/anaconda3/envs/cmdp/lib/python3.7/site-packages/joblib/_parallel_backends.py\", line 529, in apply_async\n",
      "    future = self._workers.submit(SafeFunction(func))\n",
      "AttributeError: 'NoneType' object has no attribute 'submit'\n",
      "exception calling callback for <Future at 0x7fba034cf210 state=finished raised BrokenProcessPool>\n",
      "Traceback (most recent call last):\n",
      "  File \"/home/yamba/anaconda3/envs/cmdp/lib/python3.7/site-packages/joblib/externals/loky/_base.py\", line 625, in _invoke_callbacks\n",
      "    callback(self)\n",
      "  File \"/home/yamba/anaconda3/envs/cmdp/lib/python3.7/site-packages/joblib/parallel.py\", line 347, in __call__\n",
      "    self.parallel.dispatch_next()\n",
      "  File \"/home/yamba/anaconda3/envs/cmdp/lib/python3.7/site-packages/joblib/parallel.py\", line 780, in dispatch_next\n",
      "    if not self.dispatch_one_batch(self._original_iterator):\n",
      "  File \"/home/yamba/anaconda3/envs/cmdp/lib/python3.7/site-packages/joblib/parallel.py\", line 847, in dispatch_one_batch\n",
      "    self._dispatch(tasks)\n",
      "  File \"/home/yamba/anaconda3/envs/cmdp/lib/python3.7/site-packages/joblib/parallel.py\", line 765, in _dispatch\n",
      "    job = self._backend.apply_async(batch, callback=cb)\n",
      "  File \"/home/yamba/anaconda3/envs/cmdp/lib/python3.7/site-packages/joblib/_parallel_backends.py\", line 529, in apply_async\n",
      "    future = self._workers.submit(SafeFunction(func))\n",
      "AttributeError: 'NoneType' object has no attribute 'submit'\n",
      "exception calling callback for <Future at 0x7fba3a52e8d0 state=finished raised BrokenProcessPool>\n",
      "Traceback (most recent call last):\n",
      "  File \"/home/yamba/anaconda3/envs/cmdp/lib/python3.7/site-packages/joblib/externals/loky/_base.py\", line 625, in _invoke_callbacks\n",
      "    callback(self)\n",
      "  File \"/home/yamba/anaconda3/envs/cmdp/lib/python3.7/site-packages/joblib/parallel.py\", line 347, in __call__\n",
      "    self.parallel.dispatch_next()\n",
      "  File \"/home/yamba/anaconda3/envs/cmdp/lib/python3.7/site-packages/joblib/parallel.py\", line 780, in dispatch_next\n",
      "    if not self.dispatch_one_batch(self._original_iterator):\n",
      "  File \"/home/yamba/anaconda3/envs/cmdp/lib/python3.7/site-packages/joblib/parallel.py\", line 847, in dispatch_one_batch\n",
      "    self._dispatch(tasks)\n",
      "  File \"/home/yamba/anaconda3/envs/cmdp/lib/python3.7/site-packages/joblib/parallel.py\", line 765, in _dispatch\n",
      "    job = self._backend.apply_async(batch, callback=cb)\n",
      "  File \"/home/yamba/anaconda3/envs/cmdp/lib/python3.7/site-packages/joblib/_parallel_backends.py\", line 529, in apply_async\n",
      "    future = self._workers.submit(SafeFunction(func))\n",
      "AttributeError: 'NoneType' object has no attribute 'submit'\n"
     ]
    }
   ],
   "source": [
    "Parallel(n_jobs=-1)(delayed(np.sqrt)(x) for x in range(10000000000000000))"
   ]
  },
  {
   "cell_type": "code",
   "execution_count": 37,
   "metadata": {},
   "outputs": [
    {
     "data": {
      "text/plain": [
       "EdgeDataView([('03380996101', '01610034104', {'edge_type': 'work', 'zone': 161.0})])"
      ]
     },
     "execution_count": 37,
     "metadata": {},
     "output_type": "execute_result"
    }
   ],
   "source": [
    "G.edges('03380996101', data=True)"
   ]
  },
  {
   "cell_type": "code",
   "execution_count": 40,
   "metadata": {},
   "outputs": [
    {
     "data": {
      "text/plain": [
       "EdgeDataView([('03381342101', '03050060101', {'edge_type': 'work', 'zone': 338.0}), ('03381342101', '03341097101', {'edge_type': 'work', 'zone': 338.0})])"
      ]
     },
     "execution_count": 40,
     "metadata": {},
     "output_type": "execute_result"
    }
   ],
   "source": [
    "G.edges('03381342101', data=True)"
   ]
  },
  {
   "cell_type": "code",
   "execution_count": 50,
   "metadata": {},
   "outputs": [
    {
     "data": {
      "text/plain": [
       "'03422109102'"
      ]
     },
     "execution_count": 50,
     "metadata": {},
     "output_type": "execute_result"
    }
   ],
   "source": [
    "G.nodes"
   ]
  },
  {
   "cell_type": "code",
   "execution_count": 41,
   "metadata": {},
   "outputs": [
    {
     "data": {
      "text/plain": [
       "EdgeDataView([('03381342101', '03050060101', {'edge_type': 'work', 'zone': 338.0}), ('03381342101', '03341097101', {'edge_type': 'work', 'zone': 338.0})])"
      ]
     },
     "execution_count": 41,
     "metadata": {},
     "output_type": "execute_result"
    }
   ],
   "source": [
    "G.edges('03381342101', data=True)"
   ]
  },
  {
   "cell_type": "code",
   "execution_count": 57,
   "metadata": {},
   "outputs": [
    {
     "ename": "SyntaxError",
     "evalue": "'return' outside function (<ipython-input-57-c62732efbf7e>, line 7)",
     "output_type": "error",
     "traceback": [
      "\u001b[0;36m  File \u001b[0;32m\"<ipython-input-57-c62732efbf7e>\"\u001b[0;36m, line \u001b[0;32m7\u001b[0m\n\u001b[0;31m    return node, contact\u001b[0m\n\u001b[0m    ^\u001b[0m\n\u001b[0;31mSyntaxError\u001b[0m\u001b[0;31m:\u001b[0m 'return' outside function\n"
     ]
    }
   ],
   "source": [
    "5524\n",
    "5525\n",
    "5505\n",
    "\n",
    "\n",
    "Comando Final - 5508\n"
   ]
  },
  {
   "cell_type": "code",
   "execution_count": 134,
   "metadata": {},
   "outputs": [
    {
     "data": {
      "text/plain": [
       "[<matplotlib.lines.Line2D at 0x7fba598f5310>]"
      ]
     },
     "execution_count": 134,
     "metadata": {},
     "output_type": "execute_result"
    },
    {
     "data": {
      "image/png": "[encoded data removed]",
      "text/plain": [
       "<Figure size 432x288 with 1 Axes>"
      ]
     },
     "metadata": {
      "needs_background": "light"
     },
     "output_type": "display_data"
    }
   ],
   "source": [
    "plt.plot(time_series.index[5:], \n",
    "         time_series['newly_infected'][5:]/(time_series['infected'][5:]*len(G.nodes)),\n",
    "         label = 'newly_infected')"
   ]
  },
  {
   "cell_type": "code",
   "execution_count": 48,
   "metadata": {},
   "outputs": [
    {
     "data": {
      "text/plain": [
       "[<matplotlib.lines.Line2D at 0x29008fcd448>]"
      ]
     },
     "execution_count": 48,
     "metadata": {},
     "output_type": "execute_result"
    },
    {
     "data": {
      "image/png": "[encoded data removed]",
      "text/plain": [
       "<Figure size 432x288 with 1 Axes>"
      ]
     },
     "metadata": {
      "needs_background": "light"
     },
     "output_type": "display_data"
    }
   ],
   "source": [
    "plt.plot(time_series.index, time_series['newly_infected'], label = 'r_0')\n"
   ]
  },
  {
   "cell_type": "code",
   "execution_count": 29,
   "metadata": {},
   "outputs": [
    {
     "data": {
      "image/png": "[encoded data removed]",
      "text/plain": [
       "<Figure size 432x288 with 1 Axes>"
      ]
     },
     "metadata": {
      "needs_background": "light"
     },
     "output_type": "display_data"
    }
   ],
   "source": [
    "plt.plot(time_series.index, time_series['hospitalized'], label = 'Hospitalized')\n",
    "plt.plot(time_series.index, len(time_series.index)*[0.0025], label = 'Capacity')\n",
    "plt.title(f'SP Network - policy')\n",
    "plt.fill_between(time_series.index[:-1], time_series['hospitalized'].max(), where=np.array(restrictions)[:,1] == 1,\n",
    "                facecolor='red', alpha=0.1, label='lockdown')\n",
    "plt.legend()\n",
    "plt.title(f'SP Network - policy')\n",
    "plt.savefig(f'Hospital Beds- policy.png', fromat='png', dpi = 300)\n",
    "plt.show()\n"
   ]
  },
  {
   "cell_type": "code",
   "execution_count": 30,
   "metadata": {},
   "outputs": [
    {
     "data": {
      "image/png": "[encoded data removed]",
      "text/plain": [
       "<Figure size 432x288 with 1 Axes>"
      ]
     },
     "metadata": {
      "needs_background": "light"
     },
     "output_type": "display_data"
    }
   ],
   "source": [
    "plt.plot(time_series.index, time_series['susceptible'], label = 'susceptible')\n",
    "plt.plot(time_series.index, time_series['infected'], label = 'infected')\n",
    "plt.plot(time_series.index, time_series['removed'], label = 'removed')\n",
    "plt.fill_between(time_series.index[:-1], 0, 1, where=np.array(restrictions)[:,1] == 1,\n",
    "                facecolor='red', alpha=0.1, label='lockdown')\n",
    "plt.legend()\n",
    "plt.title(f'SP Network - policy')\n",
    "plt.savefig(f'SP network Simulation- policy.png', fromat='png', dpi = 300)\n",
    "plt.show()\n"
   ]
  },
  {
   "cell_type": "code",
   "execution_count": 80,
   "metadata": {},
   "outputs": [
    {
     "ename": "KeyboardInterrupt",
     "evalue": "",
     "output_type": "error",
     "traceback": [
      "\u001b[1;31m---------------------------------------------------------------------------\u001b[0m",
      "\u001b[1;31mKeyboardInterrupt\u001b[0m                         Traceback (most recent call last)",
      "\u001b[1;32m~\\.conda\\envs\\cmdp\\lib\\site-packages\\networkx\\drawing\\layout.py\u001b[0m in \u001b[0;36mfruchterman_reingold_layout\u001b[1;34m(G, k, pos, fixed, iterations, threshold, weight, scale, center, dim, seed)\u001b[0m\n\u001b[0;32m    487\u001b[0m                                            \u001b[0miterations\u001b[0m\u001b[1;33m,\u001b[0m \u001b[0mthreshold\u001b[0m\u001b[1;33m,\u001b[0m\u001b[1;33m\u001b[0m\u001b[1;33m\u001b[0m\u001b[0m\n\u001b[1;32m--> 488\u001b[1;33m                                            dim, seed)\n\u001b[0m\u001b[0;32m    489\u001b[0m     \u001b[1;32mexcept\u001b[0m\u001b[1;33m:\u001b[0m\u001b[1;33m\u001b[0m\u001b[1;33m\u001b[0m\u001b[0m\n",
      "\u001b[1;32m<decorator-gen-834>\u001b[0m in \u001b[0;36m_sparse_fruchterman_reingold\u001b[1;34m(A, k, pos, fixed, iterations, threshold, dim, seed)\u001b[0m\n",
      "\u001b[1;32m~\\.conda\\envs\\cmdp\\lib\\site-packages\\networkx\\utils\\decorators.py\u001b[0m in \u001b[0;36m_random_state\u001b[1;34m(func, *args, **kwargs)\u001b[0m\n\u001b[0;32m    404\u001b[0m         \u001b[0mnew_args\u001b[0m\u001b[1;33m[\u001b[0m\u001b[0mrandom_state_index\u001b[0m\u001b[1;33m]\u001b[0m \u001b[1;33m=\u001b[0m \u001b[0mrandom_state\u001b[0m\u001b[1;33m\u001b[0m\u001b[1;33m\u001b[0m\u001b[0m\n\u001b[1;32m--> 405\u001b[1;33m         \u001b[1;32mreturn\u001b[0m \u001b[0mfunc\u001b[0m\u001b[1;33m(\u001b[0m\u001b[1;33m*\u001b[0m\u001b[0mnew_args\u001b[0m\u001b[1;33m,\u001b[0m \u001b[1;33m**\u001b[0m\u001b[0mkwargs\u001b[0m\u001b[1;33m)\u001b[0m\u001b[1;33m\u001b[0m\u001b[1;33m\u001b[0m\u001b[0m\n\u001b[0m\u001b[0;32m    406\u001b[0m     \u001b[1;32mreturn\u001b[0m \u001b[0m_random_state\u001b[0m\u001b[1;33m\u001b[0m\u001b[1;33m\u001b[0m\u001b[0m\n",
      "\u001b[1;32m~\\.conda\\envs\\cmdp\\lib\\site-packages\\networkx\\drawing\\layout.py\u001b[0m in \u001b[0;36m_sparse_fruchterman_reingold\u001b[1;34m(A, k, pos, fixed, iterations, threshold, dim, seed)\u001b[0m\n\u001b[0;32m    630\u001b[0m             \u001b[0mdisplacement\u001b[0m\u001b[1;33m[\u001b[0m\u001b[1;33m:\u001b[0m\u001b[1;33m,\u001b[0m \u001b[0mi\u001b[0m\u001b[1;33m]\u001b[0m \u001b[1;33m+=\u001b[0m\u001b[0;31m\\\u001b[0m\u001b[1;33m\u001b[0m\u001b[1;33m\u001b[0m\u001b[0m\n\u001b[1;32m--> 631\u001b[1;33m                 \u001b[1;33m(\u001b[0m\u001b[0mdelta\u001b[0m \u001b[1;33m*\u001b[0m \u001b[1;33m(\u001b[0m\u001b[0mk\u001b[0m \u001b[1;33m*\u001b[0m \u001b[0mk\u001b[0m \u001b[1;33m/\u001b[0m \u001b[0mdistance\u001b[0m\u001b[1;33m**\u001b[0m\u001b[1;36m2\u001b[0m \u001b[1;33m-\u001b[0m \u001b[0mAi\u001b[0m \u001b[1;33m*\u001b[0m \u001b[0mdistance\u001b[0m \u001b[1;33m/\u001b[0m \u001b[0mk\u001b[0m\u001b[1;33m)\u001b[0m\u001b[1;33m)\u001b[0m\u001b[1;33m.\u001b[0m\u001b[0msum\u001b[0m\u001b[1;33m(\u001b[0m\u001b[0maxis\u001b[0m\u001b[1;33m=\u001b[0m\u001b[1;36m1\u001b[0m\u001b[1;33m)\u001b[0m\u001b[1;33m\u001b[0m\u001b[1;33m\u001b[0m\u001b[0m\n\u001b[0m\u001b[0;32m    632\u001b[0m         \u001b[1;31m# update positions\u001b[0m\u001b[1;33m\u001b[0m\u001b[1;33m\u001b[0m\u001b[1;33m\u001b[0m\u001b[0m\n",
      "\u001b[1;32m~\\.conda\\envs\\cmdp\\lib\\site-packages\\numpy\\core\\_methods.py\u001b[0m in \u001b[0;36m_sum\u001b[1;34m(a, axis, dtype, out, keepdims, initial, where)\u001b[0m\n\u001b[0;32m     37\u001b[0m          initial=_NoValue, where=True):\n\u001b[1;32m---> 38\u001b[1;33m     \u001b[1;32mreturn\u001b[0m \u001b[0mumr_sum\u001b[0m\u001b[1;33m(\u001b[0m\u001b[0ma\u001b[0m\u001b[1;33m,\u001b[0m \u001b[0maxis\u001b[0m\u001b[1;33m,\u001b[0m \u001b[0mdtype\u001b[0m\u001b[1;33m,\u001b[0m \u001b[0mout\u001b[0m\u001b[1;33m,\u001b[0m \u001b[0mkeepdims\u001b[0m\u001b[1;33m,\u001b[0m \u001b[0minitial\u001b[0m\u001b[1;33m,\u001b[0m \u001b[0mwhere\u001b[0m\u001b[1;33m)\u001b[0m\u001b[1;33m\u001b[0m\u001b[1;33m\u001b[0m\u001b[0m\n\u001b[0m\u001b[0;32m     39\u001b[0m \u001b[1;33m\u001b[0m\u001b[0m\n",
      "\u001b[1;31mKeyboardInterrupt\u001b[0m: ",
      "\nDuring handling of the above exception, another exception occurred:\n",
      "\u001b[1;31mKeyboardInterrupt\u001b[0m                         Traceback (most recent call last)",
      "\u001b[1;32m<ipython-input-80-8e95b9eb9d41>\u001b[0m in \u001b[0;36m<module>\u001b[1;34m\u001b[0m\n\u001b[0;32m      1\u001b[0m \u001b[1;32mimport\u001b[0m \u001b[0mseaborn\u001b[0m \u001b[1;32mas\u001b[0m \u001b[0msns\u001b[0m\u001b[1;33m\u001b[0m\u001b[1;33m\u001b[0m\u001b[0m\n\u001b[1;32m----> 2\u001b[1;33m \u001b[0mnx\u001b[0m\u001b[1;33m.\u001b[0m\u001b[0mdraw\u001b[0m\u001b[1;33m(\u001b[0m\u001b[0msubgraph_of_zone\u001b[0m\u001b[1;33m(\u001b[0m\u001b[0mG\u001b[0m\u001b[1;33m,\u001b[0m \u001b[1;36m20\u001b[0m\u001b[1;33m,\u001b[0m \u001b[1;34m'home'\u001b[0m\u001b[1;33m)\u001b[0m\u001b[1;33m,\u001b[0m \u001b[0mnode_size\u001b[0m\u001b[1;33m=\u001b[0m\u001b[1;36m10\u001b[0m\u001b[1;33m,\u001b[0m \u001b[0mpos\u001b[0m\u001b[1;33m=\u001b[0m\u001b[0mnx\u001b[0m\u001b[1;33m.\u001b[0m\u001b[0mspring_layout\u001b[0m\u001b[1;33m(\u001b[0m\u001b[0mG\u001b[0m\u001b[1;33m)\u001b[0m\u001b[1;33m)\u001b[0m\u001b[1;33m\u001b[0m\u001b[1;33m\u001b[0m\u001b[0m\n\u001b[0m",
      "\u001b[1;32m<decorator-gen-830>\u001b[0m in \u001b[0;36mfruchterman_reingold_layout\u001b[1;34m(G, k, pos, fixed, iterations, threshold, weight, scale, center, dim, seed)\u001b[0m\n",
      "\u001b[1;32m~\\.conda\\envs\\cmdp\\lib\\site-packages\\networkx\\utils\\decorators.py\u001b[0m in \u001b[0;36m_random_state\u001b[1;34m(func, *args, **kwargs)\u001b[0m\n\u001b[0;32m    403\u001b[0m         \u001b[0mnew_args\u001b[0m \u001b[1;33m=\u001b[0m \u001b[0mlist\u001b[0m\u001b[1;33m(\u001b[0m\u001b[0margs\u001b[0m\u001b[1;33m)\u001b[0m\u001b[1;33m\u001b[0m\u001b[1;33m\u001b[0m\u001b[0m\n\u001b[0;32m    404\u001b[0m         \u001b[0mnew_args\u001b[0m\u001b[1;33m[\u001b[0m\u001b[0mrandom_state_index\u001b[0m\u001b[1;33m]\u001b[0m \u001b[1;33m=\u001b[0m \u001b[0mrandom_state\u001b[0m\u001b[1;33m\u001b[0m\u001b[1;33m\u001b[0m\u001b[0m\n\u001b[1;32m--> 405\u001b[1;33m         \u001b[1;32mreturn\u001b[0m \u001b[0mfunc\u001b[0m\u001b[1;33m(\u001b[0m\u001b[1;33m*\u001b[0m\u001b[0mnew_args\u001b[0m\u001b[1;33m,\u001b[0m \u001b[1;33m**\u001b[0m\u001b[0mkwargs\u001b[0m\u001b[1;33m)\u001b[0m\u001b[1;33m\u001b[0m\u001b[1;33m\u001b[0m\u001b[0m\n\u001b[0m\u001b[0;32m    406\u001b[0m     \u001b[1;32mreturn\u001b[0m \u001b[0m_random_state\u001b[0m\u001b[1;33m\u001b[0m\u001b[1;33m\u001b[0m\u001b[0m\n\u001b[0;32m    407\u001b[0m \u001b[1;33m\u001b[0m\u001b[0m\n",
      "\u001b[1;32m~\\.conda\\envs\\cmdp\\lib\\site-packages\\networkx\\drawing\\layout.py\u001b[0m in \u001b[0;36mfruchterman_reingold_layout\u001b[1;34m(G, k, pos, fixed, iterations, threshold, weight, scale, center, dim, seed)\u001b[0m\n\u001b[0;32m    488\u001b[0m                                            dim, seed)\n\u001b[0;32m    489\u001b[0m     \u001b[1;32mexcept\u001b[0m\u001b[1;33m:\u001b[0m\u001b[1;33m\u001b[0m\u001b[1;33m\u001b[0m\u001b[0m\n\u001b[1;32m--> 490\u001b[1;33m         \u001b[0mA\u001b[0m \u001b[1;33m=\u001b[0m \u001b[0mnx\u001b[0m\u001b[1;33m.\u001b[0m\u001b[0mto_numpy_array\u001b[0m\u001b[1;33m(\u001b[0m\u001b[0mG\u001b[0m\u001b[1;33m,\u001b[0m \u001b[0mweight\u001b[0m\u001b[1;33m=\u001b[0m\u001b[0mweight\u001b[0m\u001b[1;33m)\u001b[0m\u001b[1;33m\u001b[0m\u001b[1;33m\u001b[0m\u001b[0m\n\u001b[0m\u001b[0;32m    491\u001b[0m         \u001b[1;32mif\u001b[0m \u001b[0mk\u001b[0m \u001b[1;32mis\u001b[0m \u001b[1;32mNone\u001b[0m \u001b[1;32mand\u001b[0m \u001b[0mfixed\u001b[0m \u001b[1;32mis\u001b[0m \u001b[1;32mnot\u001b[0m \u001b[1;32mNone\u001b[0m\u001b[1;33m:\u001b[0m\u001b[1;33m\u001b[0m\u001b[1;33m\u001b[0m\u001b[0m\n\u001b[0;32m    492\u001b[0m             \u001b[1;31m# We must adjust k by domain size for layouts not near 1x1\u001b[0m\u001b[1;33m\u001b[0m\u001b[1;33m\u001b[0m\u001b[1;33m\u001b[0m\u001b[0m\n",
      "\u001b[1;32m~\\.conda\\envs\\cmdp\\lib\\site-packages\\networkx\\convert_matrix.py\u001b[0m in \u001b[0;36mto_numpy_array\u001b[1;34m(G, nodelist, dtype, order, multigraph_weight, weight, nonedge)\u001b[0m\n\u001b[0;32m   1135\u001b[0m     \u001b[1;32melse\u001b[0m\u001b[1;33m:\u001b[0m\u001b[1;33m\u001b[0m\u001b[1;33m\u001b[0m\u001b[0m\n\u001b[0;32m   1136\u001b[0m         \u001b[1;31m# Graph or DiGraph, this is much faster than above\u001b[0m\u001b[1;33m\u001b[0m\u001b[1;33m\u001b[0m\u001b[1;33m\u001b[0m\u001b[0m\n\u001b[1;32m-> 1137\u001b[1;33m         \u001b[0mA\u001b[0m \u001b[1;33m=\u001b[0m \u001b[0mnp\u001b[0m\u001b[1;33m.\u001b[0m\u001b[0mfull\u001b[0m\u001b[1;33m(\u001b[0m\u001b[1;33m(\u001b[0m\u001b[0mnlen\u001b[0m\u001b[1;33m,\u001b[0m \u001b[0mnlen\u001b[0m\u001b[1;33m)\u001b[0m\u001b[1;33m,\u001b[0m \u001b[0mnp\u001b[0m\u001b[1;33m.\u001b[0m\u001b[0mnan\u001b[0m\u001b[1;33m,\u001b[0m \u001b[0morder\u001b[0m\u001b[1;33m=\u001b[0m\u001b[0morder\u001b[0m\u001b[1;33m)\u001b[0m\u001b[1;33m\u001b[0m\u001b[1;33m\u001b[0m\u001b[0m\n\u001b[0m\u001b[0;32m   1138\u001b[0m         \u001b[1;32mfor\u001b[0m \u001b[0mu\u001b[0m\u001b[1;33m,\u001b[0m \u001b[0mnbrdict\u001b[0m \u001b[1;32min\u001b[0m \u001b[0mG\u001b[0m\u001b[1;33m.\u001b[0m\u001b[0madjacency\u001b[0m\u001b[1;33m(\u001b[0m\u001b[1;33m)\u001b[0m\u001b[1;33m:\u001b[0m\u001b[1;33m\u001b[0m\u001b[1;33m\u001b[0m\u001b[0m\n\u001b[0;32m   1139\u001b[0m             \u001b[1;32mfor\u001b[0m \u001b[0mv\u001b[0m\u001b[1;33m,\u001b[0m \u001b[0md\u001b[0m \u001b[1;32min\u001b[0m \u001b[0mnbrdict\u001b[0m\u001b[1;33m.\u001b[0m\u001b[0mitems\u001b[0m\u001b[1;33m(\u001b[0m\u001b[1;33m)\u001b[0m\u001b[1;33m:\u001b[0m\u001b[1;33m\u001b[0m\u001b[1;33m\u001b[0m\u001b[0m\n",
      "\u001b[1;32m~\\.conda\\envs\\cmdp\\lib\\site-packages\\numpy\\core\\numeric.py\u001b[0m in \u001b[0;36mfull\u001b[1;34m(shape, fill_value, dtype, order)\u001b[0m\n\u001b[0;32m    324\u001b[0m         \u001b[0mdtype\u001b[0m \u001b[1;33m=\u001b[0m \u001b[0marray\u001b[0m\u001b[1;33m(\u001b[0m\u001b[0mfill_value\u001b[0m\u001b[1;33m)\u001b[0m\u001b[1;33m.\u001b[0m\u001b[0mdtype\u001b[0m\u001b[1;33m\u001b[0m\u001b[1;33m\u001b[0m\u001b[0m\n\u001b[0;32m    325\u001b[0m     \u001b[0ma\u001b[0m \u001b[1;33m=\u001b[0m \u001b[0mempty\u001b[0m\u001b[1;33m(\u001b[0m\u001b[0mshape\u001b[0m\u001b[1;33m,\u001b[0m \u001b[0mdtype\u001b[0m\u001b[1;33m,\u001b[0m \u001b[0morder\u001b[0m\u001b[1;33m)\u001b[0m\u001b[1;33m\u001b[0m\u001b[1;33m\u001b[0m\u001b[0m\n\u001b[1;32m--> 326\u001b[1;33m     \u001b[0mmultiarray\u001b[0m\u001b[1;33m.\u001b[0m\u001b[0mcopyto\u001b[0m\u001b[1;33m(\u001b[0m\u001b[0ma\u001b[0m\u001b[1;33m,\u001b[0m \u001b[0mfill_value\u001b[0m\u001b[1;33m,\u001b[0m \u001b[0mcasting\u001b[0m\u001b[1;33m=\u001b[0m\u001b[1;34m'unsafe'\u001b[0m\u001b[1;33m)\u001b[0m\u001b[1;33m\u001b[0m\u001b[1;33m\u001b[0m\u001b[0m\n\u001b[0m\u001b[0;32m    327\u001b[0m     \u001b[1;32mreturn\u001b[0m \u001b[0ma\u001b[0m\u001b[1;33m\u001b[0m\u001b[1;33m\u001b[0m\u001b[0m\n\u001b[0;32m    328\u001b[0m \u001b[1;33m\u001b[0m\u001b[0m\n",
      "\u001b[1;32m<__array_function__ internals>\u001b[0m in \u001b[0;36mcopyto\u001b[1;34m(*args, **kwargs)\u001b[0m\n",
      "\u001b[1;31mKeyboardInterrupt\u001b[0m: "
     ]
    }
   ],
   "source": [
    "import seaborn as sns\n",
    "nx.draw(subgraph_of_zone(G, 20, 'home'), node_size=10, pos=nx.spring_layout(G))"
   ]
  },
  {
   "cell_type": "code",
   "execution_count": 77,
   "metadata": {},
   "outputs": [],
   "source": [
    "import networkx as nx\n",
    "import plotly.graph_objects as go\n",
    "\n",
    "def plot_graph(G):\n",
    "\n",
    "    #pos = nx.spectral_layout(G)\n",
    "    pos = nx.spring_layout(G)\n",
    "\n",
    "    edge_x = []\n",
    "    edge_y = []\n",
    "    for edge in G.edges():\n",
    "        x0, y0 = pos[edge[0]]\n",
    "        x1, y1 = pos[edge[1]]\n",
    "        edge_x.append(x0)\n",
    "        edge_x.append(x1)\n",
    "        edge_x.append(None)\n",
    "        edge_y.append(y0)\n",
    "        edge_y.append(y1)\n",
    "        edge_y.append(None)\n",
    "\n",
    "    edge_trace = go.Scatter(\n",
    "        x=edge_x, y=edge_y,\n",
    "        line=dict(width=0.5, color='#888'),\n",
    "        hoverinfo='none',\n",
    "        mode='lines')\n",
    "\n",
    "    node_x = []\n",
    "    node_y = []\n",
    "    for node in G.nodes():\n",
    "        x, y = pos[node]\n",
    "        node_x.append(x)\n",
    "        node_y.append(y)\n",
    "\n",
    "    node_trace = go.Scatter(\n",
    "        x=node_x, y=node_y,\n",
    "        mode='markers',\n",
    "        hoverinfo='text',\n",
    "        marker=dict(\n",
    "            showscale=True,\n",
    "            # colorscale options\n",
    "            #'Greys' | 'YlGnBu' | 'Greens' | 'YlOrRd' | 'Bluered' | 'RdBu' |\n",
    "            #'Reds' | 'Blues' | 'Picnic' | 'Rainbow' | 'Portland' | 'Jet' |\n",
    "            #'Hot' | 'Blackbody' | 'Earth' | 'Electric' | 'Viridis' |\n",
    "            colorscale='YlGnBu',\n",
    "            reversescale=True,\n",
    "            color=[],\n",
    "            size=10,\n",
    "            colorbar=dict(\n",
    "                thickness=15,\n",
    "                title='Node Connections',\n",
    "                xanchor='left',\n",
    "                titleside='right'\n",
    "            ),\n",
    "            line_width=2))\n",
    "\n",
    "\n",
    "    node_trace.marker.color = node_adjacencies\n",
    "    node_trace.text = node_text\n",
    "\n",
    "    fig = go.Figure(data=[edge_trace, node_trace],\n",
    "             layout=go.Layout(\n",
    "                showlegend=False,\n",
    "                hovermode='closest',\n",
    "                margin=dict(b=20,l=5,r=5,t=40),))\n",
    "    fig.show()\n"
   ]
  },
  {
   "cell_type": "code",
   "execution_count": 65,
   "metadata": {},
   "outputs": [
    {
     "data": {
      "text/plain": [
       "<matplotlib.axes._subplots.AxesSubplot at 0x2907759f848>"
      ]
     },
     "execution_count": 65,
     "metadata": {},
     "output_type": "execute_result"
    },
    {
     "data": {
      "image/png": "[encoded data removed]",
      "text/plain": [
       "<Figure size 432x288 with 1 Axes>"
      ]
     },
     "metadata": {
      "needs_background": "light"
     },
     "output_type": "display_data"
    }
   ],
   "source": [
    "sns.distplot([y for x,y in subgraph_of_zone(G, 75, 'home').degree()])"
   ]
  }
 ],
 "metadata": {
  "kernelspec": {
   "display_name": "Python 3",
   "language": "python",
   "name": "python3"
  },
  "language_info": {
   "codemirror_mode": {
    "name": "ipython",
    "version": 3
   },
   "file_extension": ".py",
   "mimetype": "text/x-python",
   "name": "python",
   "nbconvert_exporter": "python",
   "pygments_lexer": "ipython3",
   "version": "3.7.7"
  }
 },
 "nbformat": 4,
 "nbformat_minor": 4
}
