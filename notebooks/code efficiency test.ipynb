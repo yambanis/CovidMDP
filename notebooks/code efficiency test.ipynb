{
 "cells": [
  {
   "cell_type": "code",
   "execution_count": 1,
   "id": "704c0482",
   "metadata": {
    "ExecuteTime": {
     "end_time": "2022-06-01T12:02:39.772506Z",
     "start_time": "2022-06-01T12:02:39.645737Z"
    }
   },
   "outputs": [
    {
     "name": "stdout",
     "output_type": "stream",
     "text": [
      "/Users/guilherme.yambanis/Documents/CovidMDP/notebooks\r\n"
     ]
    }
   ],
   "source": [
    "!pwd"
   ]
  },
  {
   "cell_type": "code",
   "execution_count": 2,
   "id": "competitive-dominican",
   "metadata": {
    "ExecuteTime": {
     "end_time": "2022-06-01T12:02:53.911983Z",
     "start_time": "2022-06-01T12:02:53.908764Z"
    }
   },
   "outputs": [],
   "source": [
    "import sys \n",
    "import os\n",
    "sys.path.append(os.path.abspath(\"/Users/guilherme.yambanis/Documents/CovidMDP/src\"))"
   ]
  },
  {
   "cell_type": "code",
   "execution_count": 7,
   "id": "geographic-nicholas",
   "metadata": {
    "ExecuteTime": {
     "end_time": "2022-06-01T12:03:24.021617Z",
     "start_time": "2022-06-01T12:03:24.018995Z"
    }
   },
   "outputs": [],
   "source": [
    "os.chdir(\"../src/models\")"
   ]
  },
  {
   "cell_type": "code",
   "execution_count": 8,
   "id": "veterinary-bible",
   "metadata": {
    "ExecuteTime": {
     "end_time": "2022-06-01T12:03:24.742984Z",
     "start_time": "2022-06-01T12:03:24.739928Z"
    }
   },
   "outputs": [],
   "source": [
    "from numpy.random import default_rng\n",
    "import numpy as np\n",
    "from tqdm import tqdm"
   ]
  },
  {
   "cell_type": "code",
   "execution_count": 9,
   "id": "empty-battery",
   "metadata": {
    "ExecuteTime": {
     "end_time": "2022-06-01T12:03:25.679898Z",
     "start_time": "2022-06-01T12:03:25.208968Z"
    }
   },
   "outputs": [],
   "source": [
    "from models.simulate_pandemic import init_infection, spread_infection, lambda_leak_expose, update_population"
   ]
  },
  {
   "cell_type": "code",
   "execution_count": 10,
   "id": "protected-nation",
   "metadata": {
    "ExecuteTime": {
     "end_time": "2022-06-01T12:03:26.908612Z",
     "start_time": "2022-06-01T12:03:26.905821Z"
    }
   },
   "outputs": [],
   "source": [
    "from actions import city_restrictions"
   ]
  },
  {
   "cell_type": "code",
   "execution_count": 11,
   "id": "animated-footage",
   "metadata": {
    "ExecuteTime": {
     "end_time": "2022-06-01T12:03:27.455226Z",
     "start_time": "2022-06-01T12:03:27.452179Z"
    }
   },
   "outputs": [],
   "source": [
    "policy='Unrestricted'\n",
    "days=350\n",
    "step_size=7\n",
    "disable_tqdm=False\n",
    "seed=None"
   ]
  },
  {
   "cell_type": "code",
   "execution_count": 12,
   "id": "pregnant-slovenia",
   "metadata": {
    "ExecuteTime": {
     "end_time": "2022-06-01T12:03:28.839612Z",
     "start_time": "2022-06-01T12:03:28.836115Z"
    }
   },
   "outputs": [],
   "source": [
    "prhome = 0.06\n",
    "p_r = {\n",
    "    'home'    :  prhome,\n",
    "    'neighbor':  .1*prhome,\n",
    "    'work'    :  .1*prhome,\n",
    "    'school'  :  .15*prhome,\n",
    "}\n",
    "\n",
    "g_pickle = '../../data/processed/SP_multiGraph_Job_Edu_Level.gpickle'"
   ]
  },
  {
   "cell_type": "code",
   "execution_count": 13,
   "id": "imposed-intranet",
   "metadata": {
    "ExecuteTime": {
     "end_time": "2022-06-01T12:03:41.008759Z",
     "start_time": "2022-06-01T12:03:29.676314Z"
    }
   },
   "outputs": [
    {
     "name": "stderr",
     "output_type": "stream",
     "text": [
      "100%|█████████████████████████████████████████| 350/350 [00:06<00:00, 53.61it/s]\n"
     ]
    }
   ],
   "source": [
    "rng = default_rng(seed)\n",
    "pop_matrix, adj_list = init_infection(g_pickle)\n",
    "data = []\n",
    "total_steps = int(np.ceil(days/step_size))\n",
    "\n",
    "if isinstance(policy, str):\n",
    "    policy = total_steps * [policy]\n",
    "\n",
    "if len(policy) < total_steps:\n",
    "    raise ValueError(f'len of policy should be at least {total_steps}')\n",
    "\n",
    "for day in tqdm(range(1, days+1), disable=disable_tqdm):\n",
    "    # if more than 90% already recovered, break simulation\n",
    "    if (pop_matrix[pop_matrix[:, 1] == -1].shape[0] > pop_matrix.shape[0]*.9):\n",
    "        break\n",
    "\n",
    "    if day % step_size == 1:          \n",
    "        current_step = int(day/step_size)\n",
    "        restrictions = city_restrictions[policy[current_step]]\n",
    "\n",
    "    pop_matrix = spread_infection(pop_matrix, adj_list, restrictions, day, rng, p_r)\n",
    "    pop_matrix = lambda_leak_expose(pop_matrix, day)\n",
    "    pop_matrix = update_population(pop_matrix)\n",
    "\n",
    "    data.append(pop_matrix[:, 0:2])"
   ]
  },
  {
   "cell_type": "code",
   "execution_count": 14,
   "id": "saved-ethnic",
   "metadata": {
    "ExecuteTime": {
     "end_time": "2022-06-01T12:03:45.484491Z",
     "start_time": "2022-06-01T12:03:45.035820Z"
    }
   },
   "outputs": [],
   "source": [
    "import pandas as pd"
   ]
  },
  {
   "cell_type": "code",
   "execution_count": 15,
   "id": "rational-nothing",
   "metadata": {
    "ExecuteTime": {
     "end_time": "2022-06-01T12:03:46.513144Z",
     "start_time": "2022-06-01T12:03:46.193913Z"
    }
   },
   "outputs": [
    {
     "data": {
      "text/html": [
       "<div>\n",
       "<style scoped>\n",
       "    .dataframe tbody tr th:only-of-type {\n",
       "        vertical-align: middle;\n",
       "    }\n",
       "\n",
       "    .dataframe tbody tr th {\n",
       "        vertical-align: top;\n",
       "    }\n",
       "\n",
       "    .dataframe thead th {\n",
       "        text-align: right;\n",
       "    }\n",
       "</style>\n",
       "<table border=\"1\" class=\"dataframe\">\n",
       "  <thead>\n",
       "    <tr style=\"text-align: right;\">\n",
       "      <th></th>\n",
       "      <th>-1</th>\n",
       "      <th>0</th>\n",
       "      <th>1</th>\n",
       "      <th>2</th>\n",
       "      <th>3</th>\n",
       "    </tr>\n",
       "  </thead>\n",
       "  <tbody>\n",
       "    <tr>\n",
       "      <th>0</th>\n",
       "      <td>NaN</td>\n",
       "      <td>55460.0</td>\n",
       "      <td>32.0</td>\n",
       "      <td>NaN</td>\n",
       "      <td>NaN</td>\n",
       "    </tr>\n",
       "    <tr>\n",
       "      <th>1</th>\n",
       "      <td>NaN</td>\n",
       "      <td>55458.0</td>\n",
       "      <td>33.0</td>\n",
       "      <td>1.0</td>\n",
       "      <td>NaN</td>\n",
       "    </tr>\n",
       "    <tr>\n",
       "      <th>2</th>\n",
       "      <td>NaN</td>\n",
       "      <td>55455.0</td>\n",
       "      <td>31.0</td>\n",
       "      <td>6.0</td>\n",
       "      <td>NaN</td>\n",
       "    </tr>\n",
       "    <tr>\n",
       "      <th>3</th>\n",
       "      <td>NaN</td>\n",
       "      <td>55453.0</td>\n",
       "      <td>27.0</td>\n",
       "      <td>12.0</td>\n",
       "      <td>NaN</td>\n",
       "    </tr>\n",
       "    <tr>\n",
       "      <th>4</th>\n",
       "      <td>1.0</td>\n",
       "      <td>55447.0</td>\n",
       "      <td>29.0</td>\n",
       "      <td>15.0</td>\n",
       "      <td>NaN</td>\n",
       "    </tr>\n",
       "    <tr>\n",
       "      <th>...</th>\n",
       "      <td>...</td>\n",
       "      <td>...</td>\n",
       "      <td>...</td>\n",
       "      <td>...</td>\n",
       "      <td>...</td>\n",
       "    </tr>\n",
       "    <tr>\n",
       "      <th>345</th>\n",
       "      <td>41167.0</td>\n",
       "      <td>14271.0</td>\n",
       "      <td>16.0</td>\n",
       "      <td>29.0</td>\n",
       "      <td>9.0</td>\n",
       "    </tr>\n",
       "    <tr>\n",
       "      <th>346</th>\n",
       "      <td>41177.0</td>\n",
       "      <td>14269.0</td>\n",
       "      <td>17.0</td>\n",
       "      <td>22.0</td>\n",
       "      <td>7.0</td>\n",
       "    </tr>\n",
       "    <tr>\n",
       "      <th>347</th>\n",
       "      <td>41180.0</td>\n",
       "      <td>14267.0</td>\n",
       "      <td>14.0</td>\n",
       "      <td>24.0</td>\n",
       "      <td>7.0</td>\n",
       "    </tr>\n",
       "    <tr>\n",
       "      <th>348</th>\n",
       "      <td>41184.0</td>\n",
       "      <td>14263.0</td>\n",
       "      <td>15.0</td>\n",
       "      <td>23.0</td>\n",
       "      <td>7.0</td>\n",
       "    </tr>\n",
       "    <tr>\n",
       "      <th>349</th>\n",
       "      <td>41187.0</td>\n",
       "      <td>14260.0</td>\n",
       "      <td>14.0</td>\n",
       "      <td>25.0</td>\n",
       "      <td>6.0</td>\n",
       "    </tr>\n",
       "  </tbody>\n",
       "</table>\n",
       "<p>350 rows × 5 columns</p>\n",
       "</div>"
      ],
      "text/plain": [
       "          -1        0     1     2    3\n",
       "0        NaN  55460.0  32.0   NaN  NaN\n",
       "1        NaN  55458.0  33.0   1.0  NaN\n",
       "2        NaN  55455.0  31.0   6.0  NaN\n",
       "3        NaN  55453.0  27.0  12.0  NaN\n",
       "4        1.0  55447.0  29.0  15.0  NaN\n",
       "..       ...      ...   ...   ...  ...\n",
       "345  41167.0  14271.0  16.0  29.0  9.0\n",
       "346  41177.0  14269.0  17.0  22.0  7.0\n",
       "347  41180.0  14267.0  14.0  24.0  7.0\n",
       "348  41184.0  14263.0  15.0  23.0  7.0\n",
       "349  41187.0  14260.0  14.0  25.0  6.0\n",
       "\n",
       "[350 rows x 5 columns]"
      ]
     },
     "execution_count": 15,
     "metadata": {},
     "output_type": "execute_result"
    }
   ],
   "source": [
    "pd.DataFrame([pd.Series(d[:, 1]).value_counts() for d in data])"
   ]
  },
  {
   "cell_type": "code",
   "execution_count": 16,
   "id": "least-lottery",
   "metadata": {
    "ExecuteTime": {
     "end_time": "2022-06-01T12:03:49.375214Z",
     "start_time": "2022-06-01T12:03:49.372237Z"
    }
   },
   "outputs": [],
   "source": [
    "import networkx as nx"
   ]
  },
  {
   "cell_type": "code",
   "execution_count": 17,
   "id": "willing-wheat",
   "metadata": {
    "ExecuteTime": {
     "end_time": "2022-06-01T12:03:50.137383Z",
     "start_time": "2022-06-01T12:03:50.134520Z"
    }
   },
   "outputs": [
    {
     "name": "stdout",
     "output_type": "stream",
     "text": [
      "('home', 0.06)\n",
      "('neighbor', 0.006)\n",
      "('work', 0.006)\n",
      "('school', 0.009)\n"
     ]
    }
   ],
   "source": [
    "for x in p_r.items():\n",
    "    print(x)"
   ]
  },
  {
   "cell_type": "code",
   "execution_count": 18,
   "id": "graphic-damages",
   "metadata": {
    "ExecuteTime": {
     "end_time": "2022-06-01T12:03:54.419407Z",
     "start_time": "2022-06-01T12:03:52.156359Z"
    }
   },
   "outputs": [],
   "source": [
    "G = nx.read_gpickle(g_pickle)\n"
   ]
  },
  {
   "cell_type": "code",
   "execution_count": 19,
   "id": "indonesian-cancer",
   "metadata": {
    "ExecuteTime": {
     "end_time": "2022-06-01T12:04:00.396891Z",
     "start_time": "2022-06-01T12:03:55.389752Z"
    }
   },
   "outputs": [],
   "source": [
    "unique_types = np.unique([data['edge_type'] for x,y, data in G.edges(data=True)])\n",
    "\n",
    "edge_list = {\n",
    "    edge_type: np.array([(u,v) for u,v,e in G.edges(data=True) if e['edge_type'] == edge_type])\n",
    "                            for edge_type in unique_types\n",
    "}"
   ]
  },
  {
   "cell_type": "code",
   "execution_count": 58,
   "id": "architectural-fetish",
   "metadata": {
    "ExecuteTime": {
     "end_time": "2022-06-01T12:15:38.236630Z",
     "start_time": "2022-06-01T12:15:38.223302Z"
    }
   },
   "outputs": [],
   "source": [
    "currently_infected = rng.choice(G.nodes, size=5000)"
   ]
  },
  {
   "cell_type": "code",
   "execution_count": 59,
   "id": "rural-skating",
   "metadata": {
    "ExecuteTime": {
     "end_time": "2022-06-01T12:15:43.048470Z",
     "start_time": "2022-06-01T12:15:39.250686Z"
    }
   },
   "outputs": [
    {
     "name": "stdout",
     "output_type": "stream",
     "text": [
      "46.4 ms ± 1.39 ms per loop (mean ± std. dev. of 7 runs, 10 loops each)\n"
     ]
    }
   ],
   "source": [
    "%%timeit\n",
    "exposed = []\n",
    "\n",
    "def filter_contacts(rel, prob, restrictions, currently_infected, edge_list):\n",
    "    ed = edge_list[rel]\n",
    "    contacts = ed[np.isin(ed[:,0], currently_infected)][:, 1]\n",
    "    mask = rng.random(size=len(contacts)) < prob * (1-restrictions[rel])\n",
    "\n",
    "    return contacts[mask]\n",
    "\n",
    "args = [restrictions, currently_infected, edge_list]\n",
    "exposed = list(map(lambda x: filter_contacts(x[0], x[1], *args), [x for x in p_r.items()]))\n",
    "exposed = np.unique(np.concatenate(exposed)) "
   ]
  },
  {
   "cell_type": "code",
   "execution_count": 60,
   "id": "indie-orbit",
   "metadata": {
    "ExecuteTime": {
     "end_time": "2022-06-01T12:15:48.267480Z",
     "start_time": "2022-06-01T12:15:44.351498Z"
    }
   },
   "outputs": [
    {
     "name": "stdout",
     "output_type": "stream",
     "text": [
      "48.2 ms ± 1.71 ms per loop (mean ± std. dev. of 7 runs, 10 loops each)\n"
     ]
    }
   ],
   "source": [
    "%%timeit\n",
    "\n",
    "exposed = []\n",
    "for rel, prob in p_r.items():\n",
    "    ed = edge_list[rel]\n",
    "    contacts = ed[np.isin(ed[:,0], currently_infected)][:, 1]\n",
    "    mask = rng.random(size=len(contacts)) < prob * (1-restrictions[rel])\n",
    "    exposed += [contacts[mask]]\n",
    "\n",
    "exposed = np.unique(np.concatenate(exposed))"
   ]
  },
  {
   "cell_type": "code",
   "execution_count": 61,
   "id": "1e8192dd",
   "metadata": {
    "ExecuteTime": {
     "end_time": "2022-06-01T12:15:51.816095Z",
     "start_time": "2022-06-01T12:15:49.631379Z"
    }
   },
   "outputs": [
    {
     "name": "stdout",
     "output_type": "stream",
     "text": [
      "26.7 ms ± 248 µs per loop (mean ± std. dev. of 7 runs, 10 loops each)\n"
     ]
    }
   ],
   "source": [
    "%%timeit\n",
    "\n",
    "def get_exposed(p_r, currently_infected, restrictions):\n",
    "    exposed = []\n",
    "    for relation, prob in p_r.items():\n",
    "        pairs = [\n",
    "            contact \n",
    "            for i in currently_infected\n",
    "            for contact in adj_list[relation][i]     \n",
    "        ]\n",
    "        pairs = np.array(pairs)\n",
    "        chances = rng.random(size=len(pairs)) < prob * (1-restrictions[relation])\n",
    "\n",
    "        exposed.extend(pairs[chances])\n",
    "\n",
    "    exposed = np.unique(exposed).astype(int)\n",
    "\n",
    "    return exposed\n",
    "\n",
    "exposed = get_exposed(p_r, currently_infected, restrictions)"
   ]
  },
  {
   "cell_type": "code",
   "execution_count": 62,
   "id": "2b5d8afd",
   "metadata": {
    "ExecuteTime": {
     "end_time": "2022-06-01T12:15:55.065550Z",
     "start_time": "2022-06-01T12:15:52.805573Z"
    }
   },
   "outputs": [
    {
     "name": "stdout",
     "output_type": "stream",
     "text": [
      "27.9 ms ± 386 µs per loop (mean ± std. dev. of 7 runs, 10 loops each)\n"
     ]
    }
   ],
   "source": [
    "%%timeit\n",
    "\n",
    "def get_exposed_numpy(p_r, currently_infected, restrictions):\n",
    "    exposed = []\n",
    "    for relation, prob in p_r.items():\n",
    "        pairs = np.concatenate(list(map(adj_list[relation].get, currently_infected))).flatten()\n",
    "        chances = rng.random(size=len(pairs)) < prob * (1-restrictions[relation])\n",
    "\n",
    "        exposed.extend(pairs[chances])\n",
    "\n",
    "    exposed = np.unique(exposed).astype(int)\n",
    "\n",
    "    return exposed\n",
    "\n",
    "exposed = get_exposed(p_r, currently_infected, restrictions)"
   ]
  }
 ],
 "metadata": {
  "kernelspec": {
   "display_name": "Python 3 (ipykernel)",
   "language": "python",
   "name": "python3"
  },
  "language_info": {
   "codemirror_mode": {
    "name": "ipython",
    "version": 3
   },
   "file_extension": ".py",
   "mimetype": "text/x-python",
   "name": "python",
   "nbconvert_exporter": "python",
   "pygments_lexer": "ipython3",
   "version": "3.7.12"
  },
  "toc": {
   "base_numbering": 1,
   "nav_menu": {},
   "number_sections": true,
   "sideBar": true,
   "skip_h1_title": false,
   "title_cell": "Table of Contents",
   "title_sidebar": "Contents",
   "toc_cell": false,
   "toc_position": {},
   "toc_section_display": true,
   "toc_window_display": false
  },
  "varInspector": {
   "cols": {
    "lenName": 16,
    "lenType": 16,
    "lenVar": 40
   },
   "kernels_config": {
    "python": {
     "delete_cmd_postfix": "",
     "delete_cmd_prefix": "del ",
     "library": "var_list.py",
     "varRefreshCmd": "print(var_dic_list())"
    },
    "r": {
     "delete_cmd_postfix": ") ",
     "delete_cmd_prefix": "rm(",
     "library": "var_list.r",
     "varRefreshCmd": "cat(var_dic_list()) "
    }
   },
   "types_to_exclude": [
    "module",
    "function",
    "builtin_function_or_method",
    "instance",
    "_Feature"
   ],
   "window_display": false
  }
 },
 "nbformat": 4,
 "nbformat_minor": 5
}
