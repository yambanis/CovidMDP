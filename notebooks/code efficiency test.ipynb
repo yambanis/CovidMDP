{
 "cells": [
  {
   "cell_type": "code",
   "execution_count": 1,
   "id": "competitive-dominican",
   "metadata": {},
   "outputs": [],
   "source": [
    "import sys \n",
    "import os\n",
    "sys.path.append(os.path.abspath(\"/home/yamba/Desktop/CovidMDP/src\"))"
   ]
  },
  {
   "cell_type": "code",
   "execution_count": 2,
   "id": "geographic-nicholas",
   "metadata": {},
   "outputs": [],
   "source": [
    "os.chdir(\"../src/models\")"
   ]
  },
  {
   "cell_type": "code",
   "execution_count": 3,
   "id": "veterinary-bible",
   "metadata": {},
   "outputs": [],
   "source": [
    "from numpy.random import default_rng\n",
    "import numpy as np\n",
    "from tqdm import tqdm"
   ]
  },
  {
   "cell_type": "code",
   "execution_count": 4,
   "id": "empty-battery",
   "metadata": {},
   "outputs": [],
   "source": [
    "from models.simulate_pandemic import init_infection, spread_infection, lambda_leak_expose, update_population"
   ]
  },
  {
   "cell_type": "code",
   "execution_count": 5,
   "id": "protected-nation",
   "metadata": {},
   "outputs": [],
   "source": [
    "from actions import city_restrictions"
   ]
  },
  {
   "cell_type": "code",
   "execution_count": 6,
   "id": "animated-footage",
   "metadata": {},
   "outputs": [],
   "source": [
    "policy='Unrestricted'\n",
    "days=350\n",
    "step_size=7\n",
    "disable_tqdm=False\n",
    "seed=None"
   ]
  },
  {
   "cell_type": "code",
   "execution_count": 7,
   "id": "pregnant-slovenia",
   "metadata": {},
   "outputs": [],
   "source": [
    "prhome = 0.06\n",
    "p_r = {\n",
    "    'home'    :  prhome,\n",
    "    'neighbor':  .1*prhome,\n",
    "    'work'    :  .1*prhome,\n",
    "    'school'  :  .15*prhome,\n",
    "}\n",
    "\n",
    "g_pickle = '../../data/processed/SP_multiGraph_Job_Edu_Level.gpickle'"
   ]
  },
  {
   "cell_type": "code",
   "execution_count": 8,
   "id": "imposed-intranet",
   "metadata": {},
   "outputs": [
    {
     "name": "stderr",
     "output_type": "stream",
     "text": [
      "100%|██████████| 350/350 [00:13<00:00, 25.72it/s]\n"
     ]
    }
   ],
   "source": [
    "rng = default_rng(seed)\n",
    "pop_matrix, adj_list = init_infection(g_pickle)\n",
    "data = []\n",
    "total_steps = int(np.ceil(days/step_size))\n",
    "\n",
    "if isinstance(policy, str):\n",
    "    policy = total_steps * [policy]\n",
    "\n",
    "if len(policy) < total_steps:\n",
    "    raise ValueError(f'len of policy should be at least {total_steps}')\n",
    "\n",
    "for day in tqdm(range(1, days+1), disable=disable_tqdm):\n",
    "    # if less than 90% already recovered, break simulation\n",
    "    if (pop_matrix[pop_matrix[:, 1] == -1].shape[0] > pop_matrix.shape[0]*.9):\n",
    "        break\n",
    "\n",
    "    if day % step_size == 1:          \n",
    "        current_step = int(day/step_size)\n",
    "        restrictions = city_restrictions[policy[current_step]]\n",
    "\n",
    "    pop_matrix = spread_infection(pop_matrix, adj_list, restrictions, day, rng, p_r)\n",
    "    pop_matrix = lambda_leak_expose(pop_matrix, day)\n",
    "    pop_matrix = update_population(pop_matrix)\n",
    "\n",
    "    data.append(pop_matrix[:, 0:2])"
   ]
  },
  {
   "cell_type": "code",
   "execution_count": 10,
   "id": "saved-ethnic",
   "metadata": {},
   "outputs": [],
   "source": [
    "import pandas as pd"
   ]
  },
  {
   "cell_type": "code",
   "execution_count": 13,
   "id": "rational-nothing",
   "metadata": {},
   "outputs": [
    {
     "data": {
      "text/html": [
       "<div>\n",
       "<style scoped>\n",
       "    .dataframe tbody tr th:only-of-type {\n",
       "        vertical-align: middle;\n",
       "    }\n",
       "\n",
       "    .dataframe tbody tr th {\n",
       "        vertical-align: top;\n",
       "    }\n",
       "\n",
       "    .dataframe thead th {\n",
       "        text-align: right;\n",
       "    }\n",
       "</style>\n",
       "<table border=\"1\" class=\"dataframe\">\n",
       "  <thead>\n",
       "    <tr style=\"text-align: right;\">\n",
       "      <th></th>\n",
       "      <th>-1</th>\n",
       "      <th>0</th>\n",
       "      <th>1</th>\n",
       "      <th>2</th>\n",
       "      <th>3</th>\n",
       "    </tr>\n",
       "  </thead>\n",
       "  <tbody>\n",
       "    <tr>\n",
       "      <th>0</th>\n",
       "      <td>NaN</td>\n",
       "      <td>55460.0</td>\n",
       "      <td>32.0</td>\n",
       "      <td>NaN</td>\n",
       "      <td>NaN</td>\n",
       "    </tr>\n",
       "    <tr>\n",
       "      <th>1</th>\n",
       "      <td>NaN</td>\n",
       "      <td>55458.0</td>\n",
       "      <td>29.0</td>\n",
       "      <td>5.0</td>\n",
       "      <td>NaN</td>\n",
       "    </tr>\n",
       "    <tr>\n",
       "      <th>2</th>\n",
       "      <td>NaN</td>\n",
       "      <td>55455.0</td>\n",
       "      <td>26.0</td>\n",
       "      <td>11.0</td>\n",
       "      <td>NaN</td>\n",
       "    </tr>\n",
       "    <tr>\n",
       "      <th>3</th>\n",
       "      <td>1.0</td>\n",
       "      <td>55451.0</td>\n",
       "      <td>28.0</td>\n",
       "      <td>12.0</td>\n",
       "      <td>NaN</td>\n",
       "    </tr>\n",
       "    <tr>\n",
       "      <th>4</th>\n",
       "      <td>2.0</td>\n",
       "      <td>55447.0</td>\n",
       "      <td>25.0</td>\n",
       "      <td>18.0</td>\n",
       "      <td>NaN</td>\n",
       "    </tr>\n",
       "    <tr>\n",
       "      <th>...</th>\n",
       "      <td>...</td>\n",
       "      <td>...</td>\n",
       "      <td>...</td>\n",
       "      <td>...</td>\n",
       "      <td>...</td>\n",
       "    </tr>\n",
       "    <tr>\n",
       "      <th>345</th>\n",
       "      <td>4996.0</td>\n",
       "      <td>50374.0</td>\n",
       "      <td>52.0</td>\n",
       "      <td>69.0</td>\n",
       "      <td>1.0</td>\n",
       "    </tr>\n",
       "    <tr>\n",
       "      <th>346</th>\n",
       "      <td>5009.0</td>\n",
       "      <td>50362.0</td>\n",
       "      <td>52.0</td>\n",
       "      <td>68.0</td>\n",
       "      <td>1.0</td>\n",
       "    </tr>\n",
       "    <tr>\n",
       "      <th>347</th>\n",
       "      <td>5023.0</td>\n",
       "      <td>50352.0</td>\n",
       "      <td>51.0</td>\n",
       "      <td>65.0</td>\n",
       "      <td>1.0</td>\n",
       "    </tr>\n",
       "    <tr>\n",
       "      <th>348</th>\n",
       "      <td>5037.0</td>\n",
       "      <td>50343.0</td>\n",
       "      <td>52.0</td>\n",
       "      <td>59.0</td>\n",
       "      <td>1.0</td>\n",
       "    </tr>\n",
       "    <tr>\n",
       "      <th>349</th>\n",
       "      <td>5041.0</td>\n",
       "      <td>50332.0</td>\n",
       "      <td>54.0</td>\n",
       "      <td>64.0</td>\n",
       "      <td>1.0</td>\n",
       "    </tr>\n",
       "  </tbody>\n",
       "</table>\n",
       "<p>350 rows × 5 columns</p>\n",
       "</div>"
      ],
      "text/plain": [
       "         -1        0     1     2    3\n",
       "0       NaN  55460.0  32.0   NaN  NaN\n",
       "1       NaN  55458.0  29.0   5.0  NaN\n",
       "2       NaN  55455.0  26.0  11.0  NaN\n",
       "3       1.0  55451.0  28.0  12.0  NaN\n",
       "4       2.0  55447.0  25.0  18.0  NaN\n",
       "..      ...      ...   ...   ...  ...\n",
       "345  4996.0  50374.0  52.0  69.0  1.0\n",
       "346  5009.0  50362.0  52.0  68.0  1.0\n",
       "347  5023.0  50352.0  51.0  65.0  1.0\n",
       "348  5037.0  50343.0  52.0  59.0  1.0\n",
       "349  5041.0  50332.0  54.0  64.0  1.0\n",
       "\n",
       "[350 rows x 5 columns]"
      ]
     },
     "execution_count": 13,
     "metadata": {},
     "output_type": "execute_result"
    }
   ],
   "source": [
    "pd.DataFrame([pd.Series(d[:, 1]).value_counts() for d in data])"
   ]
  },
  {
   "cell_type": "code",
   "execution_count": 12,
   "id": "least-lottery",
   "metadata": {},
   "outputs": [],
   "source": [
    "import networkx as nx"
   ]
  },
  {
   "cell_type": "code",
   "execution_count": 13,
   "id": "willing-wheat",
   "metadata": {},
   "outputs": [
    {
     "name": "stdout",
     "output_type": "stream",
     "text": [
      "('home', 0.06)\n",
      "('neighbor', 0.006)\n",
      "('work', 0.006)\n",
      "('school', 0.009)\n"
     ]
    }
   ],
   "source": [
    "for x in p_r.items():\n",
    "    print(x)"
   ]
  },
  {
   "cell_type": "code",
   "execution_count": 14,
   "id": "graphic-damages",
   "metadata": {},
   "outputs": [],
   "source": [
    "G = nx.read_gpickle(g_pickle)\n"
   ]
  },
  {
   "cell_type": "code",
   "execution_count": 15,
   "id": "indonesian-cancer",
   "metadata": {},
   "outputs": [],
   "source": [
    "unique_types = np.unique([data['edge_type'] for x,y, data in G.edges(data=True)])\n",
    "\n",
    "edge_list = {\n",
    "    edge_type: np.array([(u,v) for u,v,e in G.edges(data=True) if e['edge_type'] == edge_type])\n",
    "                            for edge_type in unique_types\n",
    "}"
   ]
  },
  {
   "cell_type": "code",
   "execution_count": 28,
   "id": "architectural-fetish",
   "metadata": {},
   "outputs": [],
   "source": [
    "currently_infected = rng.choice(G.nodes, size=10000)"
   ]
  },
  {
   "cell_type": "code",
   "execution_count": 35,
   "id": "latter-stable",
   "metadata": {},
   "outputs": [
    {
     "name": "stdout",
     "output_type": "stream",
     "text": [
      "33.3 ms ± 630 µs per loop (mean ± std. dev. of 7 runs, 10 loops each)\n"
     ]
    }
   ],
   "source": [
    "%%timeit\n",
    "exposed = []\n",
    "\n",
    "def filter_contacts(rel, prob, restrictions, currently_infected, edge_list):\n",
    "    ed = edge_list[rel]\n",
    "    contacts = ed[np.isin(ed[:,0], currently_infected)][:, 1]\n",
    "    mask = rng.random(size=len(contacts)) < prob * (1-restrictions[rel])\n",
    "\n",
    "    return contacts[mask]\n",
    "\n",
    "args = [restrictions, currently_infected, edge_list]\n",
    "exposed = list(map(lambda x: filter_contacts(x[0], x[1], *args), [x for x in p_r.items()]))\n",
    "exposed = np.unique(np.concatenate(exposed)) "
   ]
  },
  {
   "cell_type": "code",
   "execution_count": 42,
   "id": "rural-skating",
   "metadata": {},
   "outputs": [
    {
     "name": "stdout",
     "output_type": "stream",
     "text": [
      "32.3 ms ± 359 µs per loop (mean ± std. dev. of 7 runs, 10 loops each)\n"
     ]
    }
   ],
   "source": [
    "%%timeit\n",
    "exposed = []\n",
    "\n",
    "def filter_contacts(rel, prob, restrictions, currently_infected, edge_list):\n",
    "    ed = edge_list[rel]\n",
    "    contacts = ed[np.isin(ed[:,0], currently_infected)][:, 1]\n",
    "    mask = rng.random(size=len(contacts)) < prob * (1-restrictions[rel])\n",
    "\n",
    "    return contacts[mask]\n",
    "\n",
    "args = [restrictions, currently_infected, edge_list]\n",
    "exposed = list(map(lambda x: filter_contacts(x[0], x[1], *args), [x for x in p_r.items()]))\n",
    "exposed = np.unique(np.concatenate(exposed)) "
   ]
  },
  {
   "cell_type": "code",
   "execution_count": 43,
   "id": "indie-orbit",
   "metadata": {},
   "outputs": [
    {
     "name": "stdout",
     "output_type": "stream",
     "text": [
      "33.1 ms ± 494 µs per loop (mean ± std. dev. of 7 runs, 10 loops each)\n"
     ]
    }
   ],
   "source": [
    "%%timeit\n",
    "\n",
    "exposed = []\n",
    "for rel, prob in p_r.items():\n",
    "    ed = edge_list[rel]\n",
    "    contacts = ed[np.isin(ed[:,0], currently_infected)][:, 1]\n",
    "    mask = rng.random(size=len(contacts)) < prob * (1-restrictions[rel])\n",
    "    exposed += [contacts[mask]]\n",
    "\n",
    "exposed = np.unique(np.concatenate(exposed))"
   ]
  },
  {
   "cell_type": "code",
   "execution_count": 109,
   "id": "environmental-insulation",
   "metadata": {},
   "outputs": [
    {
     "data": {
      "text/plain": [
       "array([], dtype=int64)"
      ]
     },
     "execution_count": 109,
     "metadata": {},
     "output_type": "execute_result"
    }
   ],
   "source": []
  },
  {
   "cell_type": "code",
   "execution_count": 106,
   "id": "studied-street",
   "metadata": {},
   "outputs": [
    {
     "data": {
      "text/plain": [
       "(1,)"
      ]
     },
     "execution_count": 106,
     "metadata": {},
     "output_type": "execute_result"
    }
   ],
   "source": [
    "np.unique(np.concatenate(exposed)).shape"
   ]
  },
  {
   "cell_type": "code",
   "execution_count": 70,
   "id": "technical-breast",
   "metadata": {},
   "outputs": [],
   "source": [
    "selected_edges = [(u,v) for u,v,e in G.edges(data=True) if e['edge_type'] == 'school']\n",
    "arr = np.array(selected_edges)"
   ]
  },
  {
   "cell_type": "code",
   "execution_count": 71,
   "id": "proud-tragedy",
   "metadata": {},
   "outputs": [
    {
     "data": {
      "text/plain": [
       "(34341,)"
      ]
     },
     "execution_count": 71,
     "metadata": {},
     "output_type": "execute_result"
    }
   ],
   "source": [
    "mask = np.isin(arr[:, 0], \n",
    "\n",
    "arr[mask][:,1].shape"
   ]
  },
  {
   "cell_type": "code",
   "execution_count": 54,
   "id": "civilian-remains",
   "metadata": {},
   "outputs": [
    {
     "ename": "AttributeError",
     "evalue": "'numpy.ndarray' object has no attribute 'isin'",
     "output_type": "error",
     "traceback": [
      "\u001b[0;31m---------------------------------------------------------------------------\u001b[0m",
      "\u001b[0;31mAttributeError\u001b[0m                            Traceback (most recent call last)",
      "\u001b[0;32m<ipython-input-54-68491d561809>\u001b[0m in \u001b[0;36m<module>\u001b[0;34m\u001b[0m\n\u001b[0;32m----> 1\u001b[0;31m \u001b[0marr\u001b[0m\u001b[0;34m[\u001b[0m\u001b[0marr\u001b[0m\u001b[0;34m[\u001b[0m\u001b[0;34m:\u001b[0m\u001b[0;34m,\u001b[0m \u001b[0;36m0\u001b[0m\u001b[0;34m]\u001b[0m\u001b[0;34m.\u001b[0m\u001b[0misin\u001b[0m\u001b[0;34m(\u001b[0m\u001b[0mrng\u001b[0m\u001b[0;34m.\u001b[0m\u001b[0mchoice\u001b[0m\u001b[0;34m(\u001b[0m\u001b[0mG\u001b[0m\u001b[0;34m.\u001b[0m\u001b[0mnodes\u001b[0m\u001b[0;34m,\u001b[0m \u001b[0msize\u001b[0m\u001b[0;34m=\u001b[0m\u001b[0;36m10000\u001b[0m\u001b[0;34m)\u001b[0m\u001b[0;34m)\u001b[0m\u001b[0;34m]\u001b[0m\u001b[0;34m\u001b[0m\u001b[0;34m\u001b[0m\u001b[0m\n\u001b[0m",
      "\u001b[0;31mAttributeError\u001b[0m: 'numpy.ndarray' object has no attribute 'isin'"
     ]
    }
   ],
   "source": [
    "arr[arr[:, 0].isin(rng.choice(G.nodes, size=10000))]"
   ]
  },
  {
   "cell_type": "code",
   "execution_count": 41,
   "id": "robust-struggle",
   "metadata": {},
   "outputs": [],
   "source": [
    "import scipy.sparse as sparse"
   ]
  },
  {
   "cell_type": "code",
   "execution_count": null,
   "id": "realistic-scanner",
   "metadata": {},
   "outputs": [],
   "source": []
  }
 ],
 "metadata": {
  "kernelspec": {
   "display_name": "Python 3",
   "language": "python",
   "name": "python3"
  },
  "language_info": {
   "codemirror_mode": {
    "name": "ipython",
    "version": 3
   },
   "file_extension": ".py",
   "mimetype": "text/x-python",
   "name": "python",
   "nbconvert_exporter": "python",
   "pygments_lexer": "ipython3",
   "version": "3.8.8"
  }
 },
 "nbformat": 4,
 "nbformat_minor": 5
}
