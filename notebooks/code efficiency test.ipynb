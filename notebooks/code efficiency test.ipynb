{
 "cells": [
  {
   "cell_type": "code",
   "execution_count": 4,
   "id": "704c0482",
   "metadata": {},
   "outputs": [
    {
     "name": "stdout",
     "output_type": "stream",
     "text": [
      "/media/yamba/193b2d55-8f5d-44c9-8078-07220e0aecba/yamba/Documents/CovidMDP/notebooks\r\n"
     ]
    }
   ],
   "source": [
    "!pwd"
   ]
  },
  {
   "cell_type": "code",
   "execution_count": 1,
   "id": "competitive-dominican",
   "metadata": {},
   "outputs": [],
   "source": [
    "import sys \n",
    "import os\n",
    "sys.path.append(os.path.abspath(\"/media/yamba/193b2d55-8f5d-44c9-8078-07220e0aecba/yamba/Documents/CovidMDP/src/\"))"
   ]
  },
  {
   "cell_type": "code",
   "execution_count": 2,
   "id": "geographic-nicholas",
   "metadata": {},
   "outputs": [],
   "source": [
    "os.chdir(\"../src/models\")"
   ]
  },
  {
   "cell_type": "code",
   "execution_count": 3,
   "id": "veterinary-bible",
   "metadata": {},
   "outputs": [],
   "source": [
    "from numpy.random import default_rng\n",
    "import numpy as np\n",
    "from tqdm import tqdm"
   ]
  },
  {
   "cell_type": "code",
   "execution_count": 4,
   "id": "empty-battery",
   "metadata": {},
   "outputs": [],
   "source": [
    "from models.simulate_pandemic import init_infection, spread_infection, lambda_leak_expose, update_population"
   ]
  },
  {
   "cell_type": "code",
   "execution_count": 5,
   "id": "protected-nation",
   "metadata": {},
   "outputs": [],
   "source": [
    "from actions import city_restrictions"
   ]
  },
  {
   "cell_type": "code",
   "execution_count": 6,
   "id": "animated-footage",
   "metadata": {},
   "outputs": [],
   "source": [
    "policy='Unrestricted'\n",
    "days=350\n",
    "step_size=7\n",
    "disable_tqdm=False\n",
    "seed=None"
   ]
  },
  {
   "cell_type": "code",
   "execution_count": 7,
   "id": "pregnant-slovenia",
   "metadata": {},
   "outputs": [],
   "source": [
    "prhome = 0.06\n",
    "p_r = {\n",
    "    'home'    :  prhome,\n",
    "    'neighbor':  .1*prhome,\n",
    "    'work'    :  .1*prhome,\n",
    "    'school'  :  .15*prhome,\n",
    "}\n",
    "\n",
    "g_pickle = '../../data/processed/SP_multiGraph_Job_Edu_Level.gpickle'"
   ]
  },
  {
   "cell_type": "code",
   "execution_count": 8,
   "id": "imposed-intranet",
   "metadata": {},
   "outputs": [
    {
     "name": "stderr",
     "output_type": "stream",
     "text": [
      "  1%|          | 2/350 [00:02<07:11,  1.24s/it]\n"
     ]
    },
    {
     "ename": "TypingError",
     "evalue": "Failed in nopython mode pipeline (step: nopython frontend)\nUntyped global name 'adj_list': Cannot determine Numba type of <class 'dict'>\n\nFile \"simulate_pandemic.py\", line 259:\n    def get_exposed(p_r, currently_infected, restrictions):\n        <source elided>\n        for relation, prob in p_r.items():\n            pairs = [contact \n            ^\n",
     "output_type": "error",
     "traceback": [
      "\u001b[0;31m---------------------------------------------------------------------------\u001b[0m",
      "\u001b[0;31mTypingError\u001b[0m                               Traceback (most recent call last)",
      "\u001b[0;32m<ipython-input-8-e5132e3bb0db>\u001b[0m in \u001b[0;36m<module>\u001b[0;34m\u001b[0m\n\u001b[1;32m     19\u001b[0m         \u001b[0mrestrictions\u001b[0m \u001b[0;34m=\u001b[0m \u001b[0mcity_restrictions\u001b[0m\u001b[0;34m[\u001b[0m\u001b[0mpolicy\u001b[0m\u001b[0;34m[\u001b[0m\u001b[0mcurrent_step\u001b[0m\u001b[0;34m]\u001b[0m\u001b[0;34m]\u001b[0m\u001b[0;34m\u001b[0m\u001b[0;34m\u001b[0m\u001b[0m\n\u001b[1;32m     20\u001b[0m \u001b[0;34m\u001b[0m\u001b[0m\n\u001b[0;32m---> 21\u001b[0;31m     \u001b[0mpop_matrix\u001b[0m \u001b[0;34m=\u001b[0m \u001b[0mspread_infection\u001b[0m\u001b[0;34m(\u001b[0m\u001b[0mpop_matrix\u001b[0m\u001b[0;34m,\u001b[0m \u001b[0madj_list\u001b[0m\u001b[0;34m,\u001b[0m \u001b[0mrestrictions\u001b[0m\u001b[0;34m,\u001b[0m \u001b[0mday\u001b[0m\u001b[0;34m,\u001b[0m \u001b[0mrng\u001b[0m\u001b[0;34m,\u001b[0m \u001b[0mp_r\u001b[0m\u001b[0;34m)\u001b[0m\u001b[0;34m\u001b[0m\u001b[0;34m\u001b[0m\u001b[0m\n\u001b[0m\u001b[1;32m     22\u001b[0m     \u001b[0mpop_matrix\u001b[0m \u001b[0;34m=\u001b[0m \u001b[0mlambda_leak_expose\u001b[0m\u001b[0;34m(\u001b[0m\u001b[0mpop_matrix\u001b[0m\u001b[0;34m,\u001b[0m \u001b[0mday\u001b[0m\u001b[0;34m)\u001b[0m\u001b[0;34m\u001b[0m\u001b[0;34m\u001b[0m\u001b[0m\n\u001b[1;32m     23\u001b[0m     \u001b[0mpop_matrix\u001b[0m \u001b[0;34m=\u001b[0m \u001b[0mupdate_population\u001b[0m\u001b[0;34m(\u001b[0m\u001b[0mpop_matrix\u001b[0m\u001b[0;34m)\u001b[0m\u001b[0;34m\u001b[0m\u001b[0;34m\u001b[0m\u001b[0m\n",
      "\u001b[0;32m/media/yamba/193b2d55-8f5d-44c9-8078-07220e0aecba/yamba/Documents/CovidMDP/src/models/simulate_pandemic.py\u001b[0m in \u001b[0;36mspread_infection\u001b[0;34m(pop_matrix, adj_list, restrictions, day, rng, p_r, contacts_infected)\u001b[0m\n\u001b[1;32m    270\u001b[0m         \u001b[0;32mreturn\u001b[0m \u001b[0mexposed\u001b[0m\u001b[0;34m\u001b[0m\u001b[0;34m\u001b[0m\u001b[0m\n\u001b[1;32m    271\u001b[0m \u001b[0;34m\u001b[0m\u001b[0m\n\u001b[0;32m--> 272\u001b[0;31m     \u001b[0mexposed\u001b[0m \u001b[0;34m=\u001b[0m \u001b[0mget_exposed\u001b[0m\u001b[0;34m(\u001b[0m\u001b[0md_pr\u001b[0m\u001b[0;34m,\u001b[0m \u001b[0mcurrently_infected\u001b[0m\u001b[0;34m,\u001b[0m \u001b[0md_restrictions\u001b[0m\u001b[0;34m)\u001b[0m\u001b[0;34m\u001b[0m\u001b[0;34m\u001b[0m\u001b[0m\n\u001b[0m\u001b[1;32m    273\u001b[0m \u001b[0;34m\u001b[0m\u001b[0m\n\u001b[1;32m    274\u001b[0m     \u001b[0mmask\u001b[0m \u001b[0;34m=\u001b[0m \u001b[0mnp\u001b[0m\u001b[0;34m.\u001b[0m\u001b[0misin\u001b[0m\u001b[0;34m(\u001b[0m\u001b[0mpop_matrix\u001b[0m\u001b[0;34m[\u001b[0m\u001b[0;34m:\u001b[0m\u001b[0;34m,\u001b[0m \u001b[0;36m0\u001b[0m\u001b[0;34m]\u001b[0m\u001b[0;34m,\u001b[0m \u001b[0mexposed\u001b[0m\u001b[0;34m)\u001b[0m\u001b[0;34m\u001b[0m\u001b[0;34m\u001b[0m\u001b[0m\n",
      "\u001b[0;32m~/anaconda3/envs/cmdp/lib/python3.8/site-packages/numba/core/dispatcher.py\u001b[0m in \u001b[0;36m_compile_for_args\u001b[0;34m(self, *args, **kws)\u001b[0m\n\u001b[1;32m    412\u001b[0m                 \u001b[0me\u001b[0m\u001b[0;34m.\u001b[0m\u001b[0mpatch_message\u001b[0m\u001b[0;34m(\u001b[0m\u001b[0mmsg\u001b[0m\u001b[0;34m)\u001b[0m\u001b[0;34m\u001b[0m\u001b[0;34m\u001b[0m\u001b[0m\n\u001b[1;32m    413\u001b[0m \u001b[0;34m\u001b[0m\u001b[0m\n\u001b[0;32m--> 414\u001b[0;31m             \u001b[0merror_rewrite\u001b[0m\u001b[0;34m(\u001b[0m\u001b[0me\u001b[0m\u001b[0;34m,\u001b[0m \u001b[0;34m'typing'\u001b[0m\u001b[0;34m)\u001b[0m\u001b[0;34m\u001b[0m\u001b[0;34m\u001b[0m\u001b[0m\n\u001b[0m\u001b[1;32m    415\u001b[0m         \u001b[0;32mexcept\u001b[0m \u001b[0merrors\u001b[0m\u001b[0;34m.\u001b[0m\u001b[0mUnsupportedError\u001b[0m \u001b[0;32mas\u001b[0m \u001b[0me\u001b[0m\u001b[0;34m:\u001b[0m\u001b[0;34m\u001b[0m\u001b[0;34m\u001b[0m\u001b[0m\n\u001b[1;32m    416\u001b[0m             \u001b[0;31m# Something unsupported is present in the user code, add help info\u001b[0m\u001b[0;34m\u001b[0m\u001b[0;34m\u001b[0m\u001b[0;34m\u001b[0m\u001b[0m\n",
      "\u001b[0;32m~/anaconda3/envs/cmdp/lib/python3.8/site-packages/numba/core/dispatcher.py\u001b[0m in \u001b[0;36merror_rewrite\u001b[0;34m(e, issue_type)\u001b[0m\n\u001b[1;32m    355\u001b[0m                 \u001b[0;32mraise\u001b[0m \u001b[0me\u001b[0m\u001b[0;34m\u001b[0m\u001b[0;34m\u001b[0m\u001b[0m\n\u001b[1;32m    356\u001b[0m             \u001b[0;32melse\u001b[0m\u001b[0;34m:\u001b[0m\u001b[0;34m\u001b[0m\u001b[0;34m\u001b[0m\u001b[0m\n\u001b[0;32m--> 357\u001b[0;31m                 \u001b[0;32mraise\u001b[0m \u001b[0me\u001b[0m\u001b[0;34m.\u001b[0m\u001b[0mwith_traceback\u001b[0m\u001b[0;34m(\u001b[0m\u001b[0;32mNone\u001b[0m\u001b[0;34m)\u001b[0m\u001b[0;34m\u001b[0m\u001b[0;34m\u001b[0m\u001b[0m\n\u001b[0m\u001b[1;32m    358\u001b[0m \u001b[0;34m\u001b[0m\u001b[0m\n\u001b[1;32m    359\u001b[0m         \u001b[0margtypes\u001b[0m \u001b[0;34m=\u001b[0m \u001b[0;34m[\u001b[0m\u001b[0;34m]\u001b[0m\u001b[0;34m\u001b[0m\u001b[0;34m\u001b[0m\u001b[0m\n",
      "\u001b[0;31mTypingError\u001b[0m: Failed in nopython mode pipeline (step: nopython frontend)\nUntyped global name 'adj_list': Cannot determine Numba type of <class 'dict'>\n\nFile \"simulate_pandemic.py\", line 259:\n    def get_exposed(p_r, currently_infected, restrictions):\n        <source elided>\n        for relation, prob in p_r.items():\n            pairs = [contact \n            ^\n"
     ]
    }
   ],
   "source": [
    "rng = default_rng(seed)\n",
    "pop_matrix, adj_list = init_infection(g_pickle)\n",
    "data = []\n",
    "total_steps = int(np.ceil(days/step_size))\n",
    "\n",
    "if isinstance(policy, str):\n",
    "    policy = total_steps * [policy]\n",
    "\n",
    "if len(policy) < total_steps:\n",
    "    raise ValueError(f'len of policy should be at least {total_steps}')\n",
    "\n",
    "for day in tqdm(range(1, days+1), disable=disable_tqdm):\n",
    "    # if less than 90% already recovered, break simulation\n",
    "    if (pop_matrix[pop_matrix[:, 1] == -1].shape[0] > pop_matrix.shape[0]*.9):\n",
    "        break\n",
    "\n",
    "    if day % step_size == 1:          \n",
    "        current_step = int(day/step_size)\n",
    "        restrictions = city_restrictions[policy[current_step]]\n",
    "\n",
    "    pop_matrix = spread_infection(pop_matrix, adj_list, restrictions, day, rng, p_r)\n",
    "    pop_matrix = lambda_leak_expose(pop_matrix, day)\n",
    "    pop_matrix = update_population(pop_matrix)\n",
    "\n",
    "    data.append(pop_matrix[:, 0:2])"
   ]
  },
  {
   "cell_type": "code",
   "execution_count": null,
   "id": "saved-ethnic",
   "metadata": {},
   "outputs": [],
   "source": [
    "import pandas as pd"
   ]
  },
  {
   "cell_type": "code",
   "execution_count": null,
   "id": "rational-nothing",
   "metadata": {},
   "outputs": [],
   "source": [
    "pd.DataFrame([pd.Series(d[:, 1]).value_counts() for d in data])"
   ]
  },
  {
   "cell_type": "code",
   "execution_count": null,
   "id": "least-lottery",
   "metadata": {},
   "outputs": [],
   "source": [
    "import networkx as nx"
   ]
  },
  {
   "cell_type": "code",
   "execution_count": null,
   "id": "willing-wheat",
   "metadata": {},
   "outputs": [],
   "source": [
    "for x in p_r.items():\n",
    "    print(x)"
   ]
  },
  {
   "cell_type": "code",
   "execution_count": null,
   "id": "graphic-damages",
   "metadata": {},
   "outputs": [],
   "source": [
    "G = nx.read_gpickle(g_pickle)\n"
   ]
  },
  {
   "cell_type": "code",
   "execution_count": null,
   "id": "indonesian-cancer",
   "metadata": {},
   "outputs": [],
   "source": [
    "unique_types = np.unique([data['edge_type'] for x,y, data in G.edges(data=True)])\n",
    "\n",
    "edge_list = {\n",
    "    edge_type: np.array([(u,v) for u,v,e in G.edges(data=True) if e['edge_type'] == edge_type])\n",
    "                            for edge_type in unique_types\n",
    "}"
   ]
  },
  {
   "cell_type": "code",
   "execution_count": null,
   "id": "architectural-fetish",
   "metadata": {},
   "outputs": [],
   "source": [
    "currently_infected = rng.choice(G.nodes, size=10000)"
   ]
  },
  {
   "cell_type": "code",
   "execution_count": null,
   "id": "latter-stable",
   "metadata": {},
   "outputs": [],
   "source": [
    "%%timeit\n",
    "exposed = []\n",
    "\n",
    "def filter_contacts(rel, prob, restrictions, currently_infected, edge_list):\n",
    "    ed = edge_list[rel]\n",
    "    contacts = ed[np.isin(ed[:,0], currently_infected)][:, 1]\n",
    "    mask = rng.random(size=len(contacts)) < prob * (1-restrictions[rel])\n",
    "\n",
    "    return contacts[mask]\n",
    "\n",
    "args = [restrictions, currently_infected, edge_list]\n",
    "exposed = list(map(lambda x: filter_contacts(x[0], x[1], *args), [x for x in p_r.items()]))\n",
    "exposed = np.unique(np.concatenate(exposed)) "
   ]
  },
  {
   "cell_type": "code",
   "execution_count": null,
   "id": "rural-skating",
   "metadata": {},
   "outputs": [],
   "source": [
    "%%timeit\n",
    "exposed = []\n",
    "\n",
    "def filter_contacts(rel, prob, restrictions, currently_infected, edge_list):\n",
    "    ed = edge_list[rel]\n",
    "    contacts = ed[np.isin(ed[:,0], currently_infected)][:, 1]\n",
    "    mask = rng.random(size=len(contacts)) < prob * (1-restrictions[rel])\n",
    "\n",
    "    return contacts[mask]\n",
    "\n",
    "args = [restrictions, currently_infected, edge_list]\n",
    "exposed = list(map(lambda x: filter_contacts(x[0], x[1], *args), [x for x in p_r.items()]))\n",
    "exposed = np.unique(np.concatenate(exposed)) "
   ]
  },
  {
   "cell_type": "code",
   "execution_count": null,
   "id": "indie-orbit",
   "metadata": {},
   "outputs": [],
   "source": [
    "%%timeit\n",
    "\n",
    "exposed = []\n",
    "for rel, prob in p_r.items():\n",
    "    ed = edge_list[rel]\n",
    "    contacts = ed[np.isin(ed[:,0], currently_infected)][:, 1]\n",
    "    mask = rng.random(size=len(contacts)) < prob * (1-restrictions[rel])\n",
    "    exposed += [contacts[mask]]\n",
    "\n",
    "exposed = np.unique(np.concatenate(exposed))"
   ]
  }
 ],
 "metadata": {
  "kernelspec": {
   "display_name": "Python 3",
   "language": "python",
   "name": "python3"
  },
  "language_info": {
   "codemirror_mode": {
    "name": "ipython",
    "version": 3
   },
   "file_extension": ".py",
   "mimetype": "text/x-python",
   "name": "python",
   "nbconvert_exporter": "python",
   "pygments_lexer": "ipython3",
   "version": "3.8.8"
  }
 },
 "nbformat": 4,
 "nbformat_minor": 5
}
