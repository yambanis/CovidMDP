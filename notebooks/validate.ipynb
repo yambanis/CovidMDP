{
 "cells": [
  {
   "cell_type": "code",
   "execution_count": 1,
   "metadata": {},
   "outputs": [],
   "source": [
    "import os\n",
    "os.chdir('../src/models')"
   ]
  },
  {
   "cell_type": "code",
   "execution_count": 2,
   "metadata": {},
   "outputs": [],
   "source": [
    "import simulate_pandemic as simp\n",
    "from actions import costs, city_restrictions\n",
    "from MCFS import mcts, treeNode\n",
    "from CMDP import CovidState\n",
    "\n",
    "from tqdm import tqdm\n",
    "import numpy as np\n",
    "import pickle as pkl\n",
    "import datetime\n",
    "from numpy.random import default_rng\n",
    "\n",
    "\n",
    "import plotly.graph_objects as go\n",
    "import pandas as pd\n",
    "\n",
    "def run(gpickle_path,\n",
    "        p_r, \n",
    "        step_size = 7, days = 364, seed=None):\n",
    "\n",
    "    rng = default_rng(seed)\n",
    "    pop_matrix, adj_list = simp.init_infection(gpickle_path)\n",
    "    data = []\n",
    "    actions = []\n",
    "    \n",
    "    for day in tqdm(range(1, days+1)):\n",
    "        #if less than 20% still susceptible, break simulation\n",
    "        if pop_matrix[np.where(pop_matrix[:,1] == -1)].shape[0] > pop_matrix.shape[0]*.9: break            \n",
    "            \n",
    "        \n",
    "        # Choose a new policy at each week\n",
    "        if day % step_size == 1:                    \n",
    "            action = 'Unrestricted'\n",
    "            actions.append(action)\n",
    "            restrictions = city_restrictions[action]\n",
    "\n",
    "        pop_matrix = simp.spread_infection(pop_matrix, adj_list, restrictions, day, rng, p_r)\n",
    "        pop_matrix = simp.lambda_leak_expose(pop_matrix, day)\n",
    "        pop_matrix = simp.update_population(pop_matrix)\n",
    "\n",
    "        data.append(pop_matrix[:, 0:2])\n",
    "    \n",
    "    return data, actions"
   ]
  },
  {
   "cell_type": "code",
   "execution_count": 3,
   "metadata": {},
   "outputs": [],
   "source": [
    "prhome = 0.06\n",
    "p_r = {\n",
    "    'home'    :  prhome,\n",
    "    'neighbor':  .1*prhome,\n",
    "    'work'    :  .1*prhome,\n",
    "    'school'  :  .15*prhome,\n",
    "}\n",
    "\n",
    "gpickle_path = '../../data/processed/SP_multiGraph_Job_Edu_Level.gpickle'"
   ]
  },
  {
   "cell_type": "code",
   "execution_count": 4,
   "metadata": {},
   "outputs": [
    {
     "name": "stderr",
     "output_type": "stream",
     "text": [
      "100%|████████████████████████████████████████████████████████████████████████████████| 364/364 [00:15<00:00, 23.76it/s]\n"
     ]
    }
   ],
   "source": [
    "data, actions = run(gpickle_path, p_r)"
   ]
  },
  {
   "cell_type": "code",
   "execution_count": 5,
   "metadata": {},
   "outputs": [
    {
     "data": {
      "text/plain": [
       "509.0"
      ]
     },
     "execution_count": 5,
     "metadata": {},
     "output_type": "execute_result"
    }
   ],
   "source": [
    "pd.DataFrame(pd.Series(d[:, 1]).value_counts() for d in data)[3].max()"
   ]
  },
  {
   "cell_type": "code",
   "execution_count": null,
   "metadata": {},
   "outputs": [],
   "source": []
  }
 ],
 "metadata": {
  "kernelspec": {
   "display_name": "Python 3",
   "language": "python",
   "name": "python3"
  },
  "language_info": {
   "codemirror_mode": {
    "name": "ipython",
    "version": 3
   },
   "file_extension": ".py",
   "mimetype": "text/x-python",
   "name": "python",
   "nbconvert_exporter": "python",
   "pygments_lexer": "ipython3",
   "version": "3.7.7"
  }
 },
 "nbformat": 4,
 "nbformat_minor": 4
}
