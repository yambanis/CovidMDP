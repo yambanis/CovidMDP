{
 "cells": [
  {
   "cell_type": "code",
   "execution_count": 1,
   "metadata": {},
   "outputs": [],
   "source": [
    "import os\n",
    "os.chdir('../../src/models')\n",
    "\n",
    "import pandas as pd\n",
    "import datetime\n",
    "import pickle as pkl\n",
    "\n",
    "import plotly.express as px\n",
    "import plotly.graph_objects as go\n",
    "\n",
    "from policies import costs\n",
    "\n",
    "set3 = px.colors.qualitative.Set3\n",
    "\n",
    "color_map_set3 = {\n",
    "    'Lockdown':          set3[3],\n",
    "    'Hard Quarantine':    set3[11],\n",
    "    'Light Quarantine':   set3[1],\n",
    "    'Social Distancing':  'rgb(204, 245, 175)',\n",
    "    'Unrestricted':        set3[6]     \n",
    "}"
   ]
  },
  {
   "cell_type": "code",
   "execution_count": 2,
   "metadata": {},
   "outputs": [],
   "source": [
    "def make_SIR_graph(data):\n",
    "    d_counts = pd.DataFrame([pd.Series(d).value_counts() for d in data])\n",
    "    d_counts.fillna(0, inplace=True)\n",
    "\n",
    "    fig = go.Figure()\n",
    "    x = pd.date_range(datetime.date(2020, 2, 24), periods=len(d_counts[0]))\n",
    "\n",
    "    fig.add_trace(go.Scatter(x=x, y=d_counts[-1]/55e3, name='removed',line_color='green'))\n",
    "    fig.add_trace(go.Scatter(x=x, y=d_counts[0]/55e3, name='susceptible', line_color='blue'))\n",
    "    fig.add_trace(go.Scatter(x=x, y=d_counts[1]/55e3, name='exposed',line_color ='orange'))\n",
    "    fig.add_trace(go.Scatter(x=x, y=d_counts[2]/55e3, name='infected', line_color = 'red'))\n",
    "    fig.add_trace(go.Scatter(x=x, y=d_counts[3]/55e3, name='hospitalized', line_color = 'purple'))\n",
    "    fig.update_layout(hovermode='x')\n",
    "    fig.show()\n",
    "    \n",
    "    return d_counts\n",
    "\n",
    "def make_beds_graph(data, actions, step_size, title, color_map):\n",
    "    fig = go.Figure()\n",
    "    \n",
    "    x = pd.date_range(datetime.date(2020, 2, 24), periods=len(data)+2)\n",
    "\n",
    "    fig.add_trace(go.Scatter(x=x, y=data[3]/55e3, name='hospitalized', line_color = 'royalblue',\n",
    "                            line=dict(width=3)))\n",
    "    fig.add_trace(go.Scatter(x=x, y=data[1]/55e3, name='exposed', line_color = 'firebrick',\n",
    "                            line=dict(width=3)))\n",
    "    fig.add_trace(go.Scatter(x=x, y=len(data)*[0.0025], name='capacity', line_color = 'black',\n",
    "                            line=dict(dash='dash', width = 2)))\n",
    "    fig.update_layout(\n",
    "        shapes=[\n",
    "            dict(\n",
    "                type=\"rect\",\n",
    "                # x-reference is assigned to the x-values\n",
    "                xref=\"x\",\n",
    "                # y-reference is assigned to the plot paper [0,1]\n",
    "                yref=\"paper\",\n",
    "                x0=x[step_size*i],\n",
    "                y0=0,\n",
    "                x1=x[step_size*(i+1)],\n",
    "                y1=1,\n",
    "                fillcolor=a,\n",
    "                opacity=0.5,\n",
    "                layer=\"below\",\n",
    "                line_width=0,\n",
    "            ) for i,a in enumerate(actions)] \n",
    "    )\n",
    "\n",
    "    for k,v in color_map.items():\n",
    "        fig.add_trace(go.Bar(x=[None], y=[None], marker=dict(color=v), name = k))\n",
    "\n",
    "    fig.update_layout(coloraxis = {'colorscale':'deep'}, xaxis={'showgrid': False},\n",
    "                      yaxis = {'showgrid': False},\n",
    "                      showlegend=True, title = title, hovermode=\"x\")\n",
    "    fig.update_layout( \n",
    "        title=f'Monte Carlo Tree Search actions',\n",
    "        font=dict(\n",
    "            size=18,\n",
    "        )\n",
    "    )\n",
    "    \n",
    "    fig.write_image(f\"{title}.png\",scale=3)\n",
    "    fig.show()"
   ]
  },
  {
   "cell_type": "code",
   "execution_count": 3,
   "metadata": {
    "scrolled": false
   },
   "outputs": [
    {
     "ename": "FileNotFoundError",
     "evalue": "[Errno 2] No such file or directory: 'lower_pr_13_06_50_4_exposedCost_1.pkl'",
     "output_type": "error",
     "traceback": [
      "\u001b[1;31m---------------------------------------------------------------------------\u001b[0m",
      "\u001b[1;31mFileNotFoundError\u001b[0m                         Traceback (most recent call last)",
      "\u001b[1;32m<ipython-input-3-bd797f6bd724>\u001b[0m in \u001b[0;36m<module>\u001b[1;34m\u001b[0m\n\u001b[0;32m      4\u001b[0m \u001b[1;33m\u001b[0m\u001b[0m\n\u001b[0;32m      5\u001b[0m \u001b[1;32mfor\u001b[0m \u001b[0mfile\u001b[0m \u001b[1;32min\u001b[0m \u001b[0mfiles\u001b[0m\u001b[1;33m:\u001b[0m\u001b[1;33m\u001b[0m\u001b[1;33m\u001b[0m\u001b[0m\n\u001b[1;32m----> 6\u001b[1;33m     \u001b[1;32mwith\u001b[0m \u001b[0mopen\u001b[0m\u001b[1;33m(\u001b[0m\u001b[0mfile\u001b[0m\u001b[1;33m,\u001b[0m \u001b[1;34m'rb'\u001b[0m\u001b[1;33m)\u001b[0m \u001b[1;32mas\u001b[0m \u001b[0mf\u001b[0m\u001b[1;33m:\u001b[0m\u001b[1;33m\u001b[0m\u001b[1;33m\u001b[0m\u001b[0m\n\u001b[0m\u001b[0;32m      7\u001b[0m         \u001b[0mresults\u001b[0m\u001b[1;33m.\u001b[0m\u001b[0mappend\u001b[0m\u001b[1;33m(\u001b[0m\u001b[0mpkl\u001b[0m\u001b[1;33m.\u001b[0m\u001b[0mload\u001b[0m\u001b[1;33m(\u001b[0m\u001b[0mf\u001b[0m\u001b[1;33m)\u001b[0m\u001b[1;33m)\u001b[0m\u001b[1;33m\u001b[0m\u001b[1;33m\u001b[0m\u001b[0m\n\u001b[0;32m      8\u001b[0m \u001b[1;33m\u001b[0m\u001b[0m\n",
      "\u001b[1;31mFileNotFoundError\u001b[0m: [Errno 2] No such file or directory: 'lower_pr_13_06_50_4_exposedCost_1.pkl'"
     ]
    }
   ],
   "source": [
    "files = ['lower_pr_13_06_50_4_exposedCost_1.pkl',\n",
    "        'lower_pr_13_06_50_4_exposedCost_2.pkl']\n",
    "results = []\n",
    "\n",
    "for file in files:\n",
    "    with open(file, 'rb') as f:\n",
    "        results.append(pkl.load(f))\n",
    "\n",
    "for i,r in enumerate(results):\n",
    "    df = make_SIR_graph(r[0])\n",
    "    actions_colors = list(map(color_map_set3.get,  r[1]))\n",
    "    make_beds_graph(df, actions_colors, 7, files[i], color_map_set3)\n",
    "    print(pd.Series(map(costs.get,  r[1])).sum())"
   ]
  },
  {
   "cell_type": "code",
   "execution_count": null,
   "metadata": {},
   "outputs": [],
   "source": [
    "pd.Series(map(costs.get,  len(results[0][1])*['Hard Quarantine'])).sum()"
   ]
  },
  {
   "cell_type": "code",
   "execution_count": null,
   "metadata": {},
   "outputs": [],
   "source": []
  }
 ],
 "metadata": {
  "kernelspec": {
   "display_name": "Python 3",
   "language": "python",
   "name": "python3"
  },
  "language_info": {
   "codemirror_mode": {
    "name": "ipython",
    "version": 3
   },
   "file_extension": ".py",
   "mimetype": "text/x-python",
   "name": "python",
   "nbconvert_exporter": "python",
   "pygments_lexer": "ipython3",
   "version": "3.7.7"
  }
 },
 "nbformat": 4,
 "nbformat_minor": 4
}
