{
 "cells": [
  {
   "cell_type": "code",
   "execution_count": 1,
   "metadata": {},
   "outputs": [],
   "source": [
    "import os\n",
    "os.chdir('../../src/models')"
   ]
  },
  {
   "cell_type": "code",
   "execution_count": 3,
   "metadata": {},
   "outputs": [],
   "source": [
    "import numpy as np\n",
    "import plotly.graph_objects as go\n",
    "#from policies import costs"
   ]
  },
  {
   "cell_type": "code",
   "execution_count": 4,
   "metadata": {},
   "outputs": [],
   "source": [
    "color_map = {\n",
    "    'Lockdown':          'rgb(0.83, 0.13, 0.15)',\n",
    "    'Hard Quarantine':    'rgb(0.85, 0.35, 0.13)',\n",
    "    'Light Quarantine':   'rgb(0.97, 0.91, 0.56)',\n",
    "    'Social Distancing':  'rgb(0.67, 0.88, 0.69)',\n",
    "    'Unrestricted':        'rgb(0.86, 0.86, 0.86)'    \n",
    "}"
   ]
  },
  {
   "cell_type": "code",
   "execution_count": 23,
   "metadata": {},
   "outputs": [],
   "source": [
    "from scipy.special import expit\n",
    "\n",
    "def normallize_to_range(x,  x_min, x_max, scale=1,a=-6, b=6):\n",
    "    x = (x - x_min)/(x_max - x_min)\n",
    "    x = (x*(b-a)) + a\n",
    "    return x\n",
    "\n",
    "def exposed_cost(h, limit = 0.025, scale=1):\n",
    "    y = expit(normallize_to_range(h, 0, limit, scale))\n",
    "    return y*scale\n",
    " \n",
    "\n",
    "fig = go.Figure()\n",
    "\n",
    "costs = {}\n",
    "\n",
    "x = np.arange(0, 0.0225, 0.00001)\n",
    "y = list(map(exposed_cost, x))\n",
    "fig.add_scatter(x=x, y=y,name='Hospitalized',marker=dict(color='RoyalBlue'))\n",
    "\n",
    "for values in [(0, 'Unrestricted'), (0.005, 'Social Distancing'),\n",
    "               (0.01, 'Light Quarantine'), (0.0125, 'Hard Quarantine'),\n",
    "               (0.015, 'Lockdown')]:\n",
    "    \n",
    "    x, name = values[0], values[1]\n",
    "    y = exposed_cost(x)\n",
    "    costs[name] = y\n",
    "    fig.add_scatter(x=[x], y=[y], name=name, \n",
    "                    mode = 'markers', marker=dict(size=[15], color=color_map[name],\n",
    "                                                 opacity=1))\n",
    "    \n",
    "fig.update_layout( \n",
    "    #title='Cost of number of exposed and equivalent action costs',\n",
    "    #paper_bgcolor='rgba(0,0,0,0)', plot_bgcolor='rgba(0,0,0,0)',\n",
    "    xaxis = dict(\n",
    "        title_text = \"Proportion of population hospitalized\",\n",
    "    ),\n",
    "    yaxis = dict(\n",
    "        title_text = \"Cost Value\",\n",
    "    ),\n",
    "\n",
    "    font=dict(\n",
    "        size=18,\n",
    "    )\n",
    ")\n",
    "\n",
    "fig.update_layout( xaxis={'showgrid': True,},\n",
    "                  yaxis = {'showgrid': True, 'zeroline': False,\n",
    "                           'title':'Cost'\n",
    "                          },\n",
    "                  showlegend=False, hovermode=\"x\",  font=dict(family=\"sans-serif\",),\n",
    "                  )\n",
    "\n",
    "fig.write_image('cost.png', scale=3)"
   ]
  },
  {
   "cell_type": "code",
   "execution_count": 26,
   "metadata": {},
   "outputs": [
    {
     "name": "stdout",
     "output_type": "stream",
     "text": [
      " Volume in drive C has no label.\n",
      " Volume Serial Number is 8ADA-5624\n",
      "\n",
      " Directory of C:\\Users\\Yamba\\Desktop\\CovidMDP\\src\\models\n",
      "\n",
      "18/09/2020  22:36    <DIR>          .\n",
      "18/09/2020  22:36    <DIR>          ..\n",
      "13/06/2020  22:23                 0 .gitkeep\n",
      "27/06/2020  13:48         6.702.731 absolute.zip\n",
      "30/06/2020  00:41             1.462 actions.py\n",
      "17/09/2020  20:01    <DIR>          anims\n",
      "18/09/2020  22:08    <DIR>          anim_spread\n",
      "24/08/2020  21:40            51.921 baseline1.pdf\n",
      "24/08/2020  21:33            25.502 baseline2.pdf\n",
      "28/06/2020  08:41             2.539 CMDP.py\n",
      "31/08/2020  00:25            57.709 Contato Irrestrito.pdf\n",
      "18/09/2020  22:36           166.779 cost.png\n",
      "16/06/2020  22:22             3.066 disease_evolution.py\n",
      "13/06/2020  22:23               363 disease_states.py\n",
      "30/08/2020  23:53            53.253 Estrat‚gia Referˆncia 1.pdf\n",
      "31/08/2020  00:03            67.250 Estrat‚gia Referˆncia 2.pdf\n",
      "30/08/2020  13:14           430.286 light_quearentine_rt.png\n",
      "28/06/2020  17:33             2.947 MCFS.py\n",
      "04/07/2020  08:33             2.314 MCFS_main.py\n",
      "26/06/2020  19:14             4.642 MCTS.py\n",
      "10/09/2020  16:48            24.672 mobility_restrictions.csv\n",
      "10/09/2020  16:47            43.017 mobility_trends.pdf\n",
      "30/06/2020  13:34             8.997 models.rar\n",
      "30/06/2020  13:34             9.687 models.zip\n",
      "13/06/2020  22:23             4.952 patient_evolution.py\n",
      "15/09/2020  22:54         2.219.841 pop_matrix.pkl\n",
      "27/06/2020  13:47         6.703.413 relative.zip\n",
      "30/08/2020  23:42            47.500 rt_sims.pdf\n",
      "23/08/2020  20:14            11.052 simulate_pandemic.py\n",
      "10/09/2020  17:41            43.651 SRAG_Real_Data.pdf\n",
      "23/07/2020  16:37            21.223 test.pdf\n",
      "31/08/2020  00:25            57.757 unrestricted.pdf\n",
      "24/06/2020  23:36               221 zone_references.py\n",
      "13/06/2020  22:23                 0 __init__.py\n",
      "23/08/2020  20:14    <DIR>          __pycache__\n",
      "              30 File(s)     16.768.747 bytes\n",
      "               5 Dir(s)  34.696.105.984 bytes free\n"
     ]
    }
   ],
   "source": [
    "!dir"
   ]
  }
 ],
 "metadata": {
  "kernelspec": {
   "display_name": "Python 3",
   "language": "python",
   "name": "python3"
  },
  "language_info": {
   "codemirror_mode": {
    "name": "ipython",
    "version": 3
   },
   "file_extension": ".py",
   "mimetype": "text/x-python",
   "name": "python",
   "nbconvert_exporter": "python",
   "pygments_lexer": "ipython3",
   "version": "3.7.7"
  }
 },
 "nbformat": 4,
 "nbformat_minor": 4
}
