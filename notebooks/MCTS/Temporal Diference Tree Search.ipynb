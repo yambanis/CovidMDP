{
 "cells": [
  {
   "cell_type": "code",
   "execution_count": 1,
   "id": "9b2d184a",
   "metadata": {},
   "outputs": [
    {
     "name": "stdout",
     "output_type": "stream",
     "text": [
      "/media/yamba/193b2d55-8f5d-44c9-8078-07220e0aecba/yamba/Documents/CovidMDP/notebooks/MCTS\r\n"
     ]
    }
   ],
   "source": [
    "!pwd"
   ]
  },
  {
   "cell_type": "code",
   "execution_count": 4,
   "id": "e736250f",
   "metadata": {},
   "outputs": [],
   "source": [
    "import sys \n",
    "import os\n",
    "sys.path.append(os.path.abspath(\"/media/yamba/193b2d55-8f5d-44c9-8078-07220e0aecba/yamba/Documents/CovidMDP/src/models\"))"
   ]
  },
  {
   "cell_type": "code",
   "execution_count": 7,
   "id": "a2454fb3",
   "metadata": {},
   "outputs": [],
   "source": [
    "import simulate_pandemic as simp\n",
    "from actions import city_restrictions\n",
    "from MCTS import mcts, treeNode\n",
    "from CMDP import CovidState\n",
    "\n",
    "from tqdm import tqdm\n",
    "import numpy as np\n",
    "import pickle as pkl\n",
    "import datetime\n",
    "from numpy.random import default_rng\n",
    "\n",
    "import pandas as pd\n",
    "import argparse\n",
    "\n",
    "def run_mcts(gpickle_path, p_r, rolloutPolicy='rolloutPolicy', horizon=1, bruteForce=False,\n",
    "                  sims_per_leaf=10, n_jobs=-1, step_size=7, days=210, seed=None):\n",
    "\n",
    "    rng = default_rng(seed)\n",
    "    pop_matrix, edge_list = simp.init_infection(gpickle_path)\n",
    "    data = []\n",
    "    actions = []\n",
    "    #current_action = actions\n",
    "\n",
    "    for day in tqdm(range(1, days+1)):\n",
    "        #if less than 20% still susceptible, break simulation\n",
    "        if pop_matrix[np.where(pop_matrix[:,1] == -1)].shape[0] > pop_matrix.shape[0]*.9: break            \n",
    "            \n",
    "        \n",
    "        # Choose a new policy at each week\n",
    "        if day % step_size == 1:                    \n",
    "            tree = mcts(sims_per_leaf=sims_per_leaf,\n",
    "                        step_size=step_size,\n",
    "                        horizon=horizon,\n",
    "                        n_jobs=n_jobs,\n",
    "                        rolloutPolicy=rolloutPolicy,\n",
    "                        pop_matrix=pop_matrix,\n",
    "                        rng=rng, \n",
    "                        p_r = p_r,\n",
    "                        edge_list=edge_list,\n",
    "                        bruteForce=bruteForce)\n",
    "            root = treeNode(CovidState(actions=[], day=day), parent=None)\n",
    "            action, best_node = tree.search(root)\n",
    "\n",
    "            actions.append(action)\n",
    "            #current_action = [action]\n",
    "            restrictions = city_restrictions[action]\n",
    "\n",
    "        pop_matrix = simp.spread_infection(pop_matrix, edge_list, \n",
    "                                           restrictions, day, rng, p_r)\n",
    "        pop_matrix = simp.lambda_leak_expose(pop_matrix, day)\n",
    "        pop_matrix = simp.update_population(pop_matrix)\n",
    "\n",
    "        data.append(pop_matrix[:, 0:2])\n",
    "    \n",
    "    return data, actions, tree\n",
    "\n",
    "\n",
    "def main(horizon, sims, days, epochs, bf = False):  \n",
    "    prhome = 0.06\n",
    "    p_r = {\n",
    "        'home'    :  prhome,\n",
    "        'neighbor':  .1*prhome,\n",
    "        'work'    :  .1*prhome,\n",
    "        'school'  :  .15*prhome,\n",
    "    }\n",
    "\n",
    "    g_pickle = '../../data/processed/SP_multiGraph_Job_Edu_Level.gpickle'\n",
    "    for _ in range(epochs):\n",
    "        data, actions, tree = run_full_mcts(\n",
    "                                            gpickle_path=g_pickle,\n",
    "                                            p_r=p_r, \n",
    "                                            horizon=horizon,\n",
    "                                            sims_per_leaf=sims,\n",
    "                                            days=days,\n",
    "                                            step_size=7,\n",
    "                                            n_jobs=-1,\n",
    "                                            bruteForce=bf\n",
    "                                            )\n",
    "\n",
    "        date = datetime.datetime.now()\n",
    "        date_str = f'{date.month}_{date.day}_{date.hour}_{date.minute}'\n",
    "\n",
    "        dfs = [pd.DataFrame(d, columns=['node_id', 'state']) for d in data]\n",
    "        states_counts = [df['state'].value_counts() for df in dfs]\n",
    "        ts = pd.DataFrame(states_counts).reset_index(drop=True).fillna(0)\n",
    "        ts = ts.rename(columns={-1: 'removed', \n",
    "                                 0: 'susceptible',\n",
    "                                 1: 'exposed',\n",
    "                                 2: 'infected',\n",
    "                                 3: 'hospitalized'})\n",
    "\n",
    "        with open(f'../../data/MCTS_Results/pickles/optimized_H{horizon}_N{sims}_D{days}_bf{bf}_{date_str}', 'wb') as f:\n",
    "            pkl.dump((data, ts, actions, tree), f)\n",
    "\n",
    "        del data, actions, tree, ts, dfs, states_counts"
   ]
  },
  {
   "cell_type": "code",
   "execution_count": null,
   "id": "2e874d3e",
   "metadata": {},
   "outputs": [],
   "source": [
    "main(horizon, sims, days, epochs=1, bf = False)"
   ]
  }
 ],
 "metadata": {
  "kernelspec": {
   "display_name": "Python 3",
   "language": "python",
   "name": "python3"
  },
  "language_info": {
   "codemirror_mode": {
    "name": "ipython",
    "version": 3
   },
   "file_extension": ".py",
   "mimetype": "text/x-python",
   "name": "python",
   "nbconvert_exporter": "python",
   "pygments_lexer": "ipython3",
   "version": "3.8.8"
  }
 },
 "nbformat": 4,
 "nbformat_minor": 5
}
