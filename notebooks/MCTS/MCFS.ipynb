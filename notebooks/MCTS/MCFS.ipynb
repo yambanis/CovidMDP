{
 "cells": [
  {
   "cell_type": "code",
   "execution_count": 1,
   "metadata": {},
   "outputs": [],
   "source": [
    "import os\n",
    "os.chdir('../../src/')\n",
    "from visualization.SIR_Plot import make_SIR_graph, make_beds_graph"
   ]
  },
  {
   "cell_type": "code",
   "execution_count": 2,
   "metadata": {},
   "outputs": [
    {
     "name": "stdout",
     "output_type": "stream",
     "text": [
      "Loading Graph...Done!\n"
     ]
    }
   ],
   "source": [
    "os.chdir('models')\n",
    "import simulate_pandemic as simp\n",
    "from actions import costs, city_restrictions\n",
    "from MCFS import mcts, treeNode\n",
    "from CMDP import CovidState"
   ]
  },
  {
   "cell_type": "code",
   "execution_count": 3,
   "metadata": {},
   "outputs": [],
   "source": [
    "from tqdm import tqdm\n",
    "import numpy as np\n",
    "import pickle as pkl\n",
    "import datetime"
   ]
  },
  {
   "cell_type": "code",
   "execution_count": 4,
   "metadata": {},
   "outputs": [],
   "source": [
    "import plotly.graph_objects as go\n",
    "import pandas as pd\n",
    "\n",
    "def make_beds_graph(data, actions, step_size, title, max_range=None, color_map=None, make_df=True):\n",
    "    fig = go.Figure()\n",
    "    \n",
    "    if make_df:\n",
    "        data = pd.DataFrame([pd.Series(d).value_counts() for d in data] + [pd.Series(data[-1]).value_counts()])\n",
    "        data.fillna(0, inplace=True)\n",
    "        data\n",
    "\n",
    "    color_map = {\n",
    "        'Lockdown':          'rgb(0.83, 0.13, 0.15)',\n",
    "        'Hard Quarantine':    'rgb(0.85, 0.35, 0.13)',\n",
    "        'Light Quarantine':   'rgb(0.97, 0.91, 0.56)',\n",
    "        'Social Distancing':  'rgb(0.67, 0.88, 0.69)',\n",
    "        'Unrestricted':        'rgb(0.86, 0.86, 0.86)'    \n",
    "    }\n",
    "\n",
    "    pop = 55492\n",
    "    \n",
    "    actions = list(map(color_map.get,  actions))\n",
    "    \n",
    "    \n",
    "    x = list(range(len(data) + 1))\n",
    "    \n",
    "    #\\definecolor{royalblue(web)}{rgb}{0.25, 0.41, 0.88}\n",
    "    fig.add_trace(go.Scatter(x=x, y=data[3]/pop, name='hospitalized', line_color = 'rgb(0.25, 0.41, 0.88)',\n",
    "                            line=dict(width=3.5),  \n",
    "                            ))\n",
    "    \n",
    "    fig.add_trace(go.Scatter(x=x, y=(len(data))*[0.0015], name='capacity', line_color = 'black',\n",
    "                            line=dict(dash='dash', width = 2),\n",
    "                            ))\n",
    "    # ACTIONS BACKGROUND################################################################################\n",
    "    fig.update_layout(\n",
    "        shapes=[\n",
    "            dict(\n",
    "                type=\"rect\",\n",
    "                # x-reference is assigned to the x-values\n",
    "                xref=\"x\",\n",
    "                # y-reference is assigned to the plot paper [0,1]\n",
    "                yref=\"paper\",\n",
    "                x0=(step_size*i),\n",
    "                y0=0,\n",
    "                x1=step_size*(i+1),\n",
    "                y1=1,\n",
    "                fillcolor=a,\n",
    "                opacity=0.45,\n",
    "                layer=\"below\",\n",
    "                line_width=0,\n",
    "            ) for i,a in enumerate(actions)]\n",
    "    )\n",
    "\n",
    "    fig.update_layout(xaxis={'showgrid': False,},\n",
    "                      yaxis = {'showgrid': False, 'zeroline': False,},\n",
    "                      showlegend=True, hovermode=\"x\")\n",
    "    \n",
    "    fig.update_layout(\n",
    "        xaxis = dict(\n",
    "            tickmode = 'array',\n",
    "            tickvals = list(range(0, len(data)+1, 14)),\n",
    "            ticktext = list(range(0, int(len(data)/7) + 1, 2)),\n",
    "            title = 'Weeks',\n",
    "            )\n",
    "        )\n",
    "    fig.update_layout(showlegend=False,\n",
    "        plot_bgcolor='rgb(255,255,255)',\n",
    "        margin=dict(\n",
    "        l=50,\n",
    "        r=50,\n",
    "        b=50,\n",
    "        t=50,\n",
    "        pad=0\n",
    "    ))\n",
    "    \n",
    "    fig.update_yaxes(automargin=True)\n",
    "    fig.write_image(f\"{title}.pdf\")\n",
    "\n",
    "    fig.show()\n",
    "    \n",
    "    return data"
   ]
  },
  {
   "cell_type": "code",
   "execution_count": 5,
   "metadata": {},
   "outputs": [],
   "source": [
    "def run_full_mcst(rolloutPolicy='rolloutPolicy', horizon=1, bruteForce=False,\n",
    "                  sims_per_leaf=10, n_jobs = 6, step_size = 7, days = 210):\n",
    "\n",
    "    pop_matrix = simp.init_infection()\n",
    "    data = []\n",
    "    actions = []\n",
    "\n",
    "    for day in tqdm(range(1, days+1)):\n",
    "        #if less than 20% still susceptible, break simulation\n",
    "        if pop_matrix[np.where(pop_matrix[:,1] == -1)].shape[0] > pop_matrix.shape[0]*.9: break            \n",
    "            \n",
    "        \n",
    "        # Choose a new policy at each week\n",
    "        if day % step_size == 1:                    \n",
    "            tree = mcts(sims_per_leaf=sims_per_leaf, step_size=step_size, horizon=horizon,\n",
    "                        n_jobs=n_jobs, rolloutPolicy=rolloutPolicy, pop_matrix=pop_matrix, bruteForce=bruteForce)\n",
    "\n",
    "            root = treeNode(CovidState(actions=[], day=day), parent=None)\n",
    "            action, best_node = tree.search(root)\n",
    "\n",
    "            actions.append(action)\n",
    "            restrictions = city_restrictions[action]\n",
    "\n",
    "        pop_matrix = simp.spread_infection(pop_matrix, restrictions, day)\n",
    "        pop_matrix = simp.lambda_leak_expose(pop_matrix, day)\n",
    "        pop_matrix = simp.update_population(pop_matrix)\n",
    "\n",
    "        data.append(np.array(sorted(pop_matrix,key=lambda x: x[0]))[:,1]) \n",
    "    \n",
    "    return data, actions, tree"
   ]
  },
  {
   "cell_type": "code",
   "execution_count": null,
   "metadata": {},
   "outputs": [
    {
     "name": "stderr",
     "output_type": "stream",
     "text": [
      "  2%|█▎                                                                              | 6/364 [01:22<3:59:40, 40.17s/it]"
     ]
    }
   ],
   "source": [
    "horizon = 4\n",
    "sims = 6\n",
    "days = 364\n",
    "bf = False\n",
    "\n",
    "data, actions, tree = run_full_mcst(horizon=horizon, sims_per_leaf=sims, days=days, step_size=7, n_jobs=6, bruteForce=bf)\n",
    "\n",
    "date = datetime.datetime.now()\n",
    "date_str = f'{date.month}_{date.day}_{date.hour}_{date.minute}'\n",
    "\n",
    "df = make_beds_graph(data, actions, 7, f'../../data/MCTS_Results/plots/hosp_cost_H{horizon}_N{sims}_D{days}_bf{bf}_{date_str}')\n",
    "\n",
    "with open(f'../../data/MCTS_Results/pickles/looser_cost_H{horizon}_N{sims}_D{days}_bf{bf}_{date_str}', 'wb') as f:\n",
    "    pkl.dump((data, actions, tree), f)"
   ]
  }
 ],
 "metadata": {
  "kernelspec": {
   "display_name": "Python 3",
   "language": "python",
   "name": "python3"
  },
  "language_info": {
   "codemirror_mode": {
    "name": "ipython",
    "version": 3
   },
   "file_extension": ".py",
   "mimetype": "text/x-python",
   "name": "python",
   "nbconvert_exporter": "python",
   "pygments_lexer": "ipython3",
   "version": "3.7.7"
  }
 },
 "nbformat": 4,
 "nbformat_minor": 4
}
