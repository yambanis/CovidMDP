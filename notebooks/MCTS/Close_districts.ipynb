{
 "cells": [
  {
   "cell_type": "code",
   "execution_count": 1,
   "metadata": {},
   "outputs": [],
   "source": [
    "import os\n",
    "os.chdir('../../src/')\n",
    "from visualization.SIR_Plot import make_SIR_graph, make_beds_graph"
   ]
  },
  {
   "cell_type": "code",
   "execution_count": 2,
   "metadata": {},
   "outputs": [
    {
     "name": "stdout",
     "output_type": "stream",
     "text": [
      "Loading Graph...Done!\n"
     ]
    }
   ],
   "source": [
    "os.chdir('models')\n",
    "import simulate_pandemic as simp\n",
    "from actions import costs, city_restrictions\n",
    "from MCFS import mcts, treeNode\n",
    "from CMDP import CovidState"
   ]
  },
  {
   "cell_type": "code",
   "execution_count": 3,
   "metadata": {},
   "outputs": [],
   "source": [
    "from tqdm import tqdm\n",
    "import numpy as np\n",
    "import pickle as pkl\n",
    "import datetime\n",
    "import pandas as pd"
   ]
  },
  {
   "cell_type": "code",
   "execution_count": 4,
   "metadata": {},
   "outputs": [],
   "source": [
    "import plotly.graph_objects as go\n",
    "import pandas as pd\n",
    "\n",
    "def make_beds_graph(data, actions, step_size, title, max_range=None, color_map=None, make_df=True):\n",
    "    fig = go.Figure()\n",
    "    \n",
    "    if make_df:\n",
    "        data = pd.DataFrame([pd.Series(d).value_counts() for d in data] + [pd.Series(data[-1]).value_counts()])\n",
    "        data.fillna(0, inplace=True)\n",
    "        data\n",
    "\n",
    "    color_map = {\n",
    "        'Lockdown':          'rgb(0.83, 0.13, 0.15)',\n",
    "        'Hard Quarantine':    'rgb(0.85, 0.35, 0.13)',\n",
    "        'Light Quarantine':   'rgb(0.97, 0.91, 0.56)',\n",
    "        'Social Distancing':  'rgb(0.67, 0.88, 0.69)',\n",
    "        'Unrestricted':        'rgb(0.86, 0.86, 0.86)'    \n",
    "    }\n",
    "\n",
    "    pop = 55492\n",
    "    \n",
    "    actions = list(map(len,  actions))\n",
    "    \n",
    "    \n",
    "    x = list(range(len(data) + 1))\n",
    "    \n",
    "    #\\definecolor{royalblue(web)}{rgb}{0.25, 0.41, 0.88}\n",
    "    fig.add_trace(go.Scatter(x=x, y=data[3]/pop, name='hospitalized', line_color = 'rgb(0.25, 0.41, 0.88)',\n",
    "                            line=dict(width=3.5),  \n",
    "                            ))\n",
    "    \n",
    "    fig.add_trace(go.Scatter(x=x, y=(len(data))*[0.0015], name='capacity', line_color = 'black',\n",
    "                            line=dict(dash='dash', width = 2),\n",
    "                            ))\n",
    "    # ACTIONS BACKGROUND################################################################################\n",
    "    \"\"\"fig.update_layout(\n",
    "        shapes=[\n",
    "            dict(\n",
    "                type=\"rect\",\n",
    "                # x-reference is assigned to the x-values\n",
    "                xref=\"x\",\n",
    "                # y-reference is assigned to the plot paper [0,1]\n",
    "                yref=\"paper\",\n",
    "                x0=(step_size*i),\n",
    "                y0=0,\n",
    "                x1=step_size*(i+1),\n",
    "                y1=1,\n",
    "                fillcolor=a,\n",
    "                opacity=0.45,\n",
    "                layer=\"below\",\n",
    "                line_width=0,\n",
    "            ) for i,a in enumerate(actions)]\n",
    "    )\"\"\"\n",
    "\n",
    "    fig.update_layout(xaxis={'showgrid': False,},\n",
    "                      yaxis = {'showgrid': False, 'zeroline': False,},\n",
    "                      showlegend=True, hovermode=\"x\")\n",
    "    \n",
    "    fig.update_layout(\n",
    "        xaxis = dict(\n",
    "            tickmode = 'array',\n",
    "            tickvals = list(range(0, len(data)+1, 14)),\n",
    "            ticktext = list(range(0, int(len(data)/7) + 1, 2)),\n",
    "            title = 'Weeks',\n",
    "            )\n",
    "        )\n",
    "    fig.update_layout(showlegend=False,\n",
    "        plot_bgcolor='rgb(255,255,255)',\n",
    "        margin=dict(\n",
    "        l=50,\n",
    "        r=50,\n",
    "        b=50,\n",
    "        t=50,\n",
    "        pad=0\n",
    "    ))\n",
    "    \n",
    "    fig.update_yaxes(automargin=True)\n",
    "    fig.write_image(f\"{title}.pdf\")\n",
    "\n",
    "    fig.show()\n",
    "    \n",
    "    return data"
   ]
  },
  {
   "cell_type": "code",
   "execution_count": 18,
   "metadata": {},
   "outputs": [
    {
     "name": "stdout",
     "output_type": "stream",
     "text": [
      "Loading Graph...Done!\n"
     ]
    }
   ],
   "source": [
    "import numpy as np\n",
    "import networkx as nx\n",
    "from tqdm import tqdm\n",
    "from disease_states import states_dict\n",
    "from patient_evolution import susceptible_to_exposed, change_state\n",
    "from actions import city_restrictions\n",
    "from collections import defaultdict\n",
    "from zone_references import initial_districts\n",
    "import json\n",
    "\n",
    "print('Loading Graph...',  end='')\n",
    "G = nx.read_gpickle('../../data/processed/SP_multiGraph_Job_Edu_Level.gpickle')\n",
    "print('Done!')\n",
    "\n",
    "with open('../../data/processed/zones_degrees.json', 'r') as f:\n",
    "    regions_degree = json.load(f)\n",
    "\n",
    "regions_degree = {int(k): v for k,v in regions_degree.items()}\n",
    "\n",
    "prhome = 0.06\n",
    "p_r = {\n",
    "    'home'    :  prhome,\n",
    "    'neighbor':  .1*prhome,\n",
    "    'work'    :  .1*prhome,\n",
    "    'school'  :  .15*prhome,\n",
    "}\n",
    "\n",
    "def init_infection(pct=.0005, return_contacts_infected = False):\n",
    "    \"\"\"\n",
    "    Given a Graph G, infects pct% of population and set the\n",
    "    remainder as susceptible. This is considered day 0.\n",
    "\n",
    "    Args:\n",
    "        pct (float): percentage of people initially infected.\n",
    "\n",
    "    Returns:\n",
    "        new_matrix (np.array): 2D Array  arrays of id, state, day of infection\n",
    "            and current state duration of population.\n",
    "    \"\"\"\n",
    "\n",
    "    global G\n",
    "\n",
    "    sample_size = int(np.ceil(len(G.nodes()) * pct/len(initial_districts)))\n",
    "    size = max(sample_size, 1)\n",
    "\n",
    "    infected = []\n",
    "    for zones in initial_districts.values():\n",
    "        init_nodes = ([x for x, v in G.nodes(data=True) \n",
    "                           if v['home'] in zones])\n",
    "\n",
    "        infected.extend(list(np.random.choice(init_nodes, size=size, replace=False)))\n",
    "\n",
    "    pop_matrix = np.array([[node, states_dict['susceptible'],\n",
    "                            -1, -1, data['age']]\n",
    "                          for node, data in G.nodes(data=True)])\n",
    "    \n",
    "    contacts_infected = defaultdict(int)\n",
    "\n",
    "    matrix_change = pop_matrix[np.isin(pop_matrix[:, 0], infected)]\n",
    "\n",
    "    matrix_keep = pop_matrix[~np.isin(pop_matrix[:, 0], infected)]\n",
    "\n",
    "    matrix_change = np.apply_along_axis(susceptible_to_exposed,\n",
    "                                        1, matrix_change, day=0)\n",
    "\n",
    "    new_matrix = np.concatenate((matrix_keep, matrix_change))\n",
    "    assert new_matrix.shape == pop_matrix.shape\n",
    "\n",
    "    if return_contacts_infected:\n",
    "        return new_matrix, contacts_infected\n",
    "\n",
    "    else:\n",
    "        return new_matrix\n",
    "\n",
    "def expose_population(pop_matrix, exposed, day):\n",
    "    \"\"\"\n",
    "    Receives the population matrix, an array containing ids of newly\n",
    "    exposed individuals and the current simulation day\n",
    "\n",
    "    Args:\n",
    "        pop_matrix (np.array): 2D Array  arrays of id, state, day of infection\n",
    "            and current state duration of population.\n",
    "\n",
    "        exposed (list): list of newly exposed people id\n",
    "        day (int): current simulation day\n",
    "\n",
    "    Returns:\n",
    "        new_matrix (np.array): The population matrix with the\n",
    "        newly exposed people exposed.\n",
    "    Raises:\n",
    "        ValueError: If shape of starting matrix is different from final matrix\n",
    "    \"\"\"\n",
    "    matrix_change = pop_matrix[np.isin(pop_matrix[:, 0], exposed)]\n",
    "    matrix_keep = pop_matrix[~np.isin(pop_matrix[:, 0], exposed)]\n",
    "    matrix_change = np.apply_along_axis(susceptible_to_exposed,\n",
    "                                        1, matrix_change, day=day)\n",
    "\n",
    "    new_matrix = np.concatenate((matrix_keep, matrix_change))\n",
    "\n",
    "    if new_matrix.shape != pop_matrix.shape:\n",
    "        raise ValueError(\"Input and output matrix shapes are different\")\n",
    "    return new_matrix\n",
    "\n",
    "\n",
    "def lambda_leak_expose(pop_matrix, day, lambda_leak=0.00005):\n",
    "    \"\"\"\n",
    "    Receives the population matrix, the current day and the leak factor.\n",
    "    Chooses at random a lambda_leak percentage of the population to expose\n",
    "\n",
    "    Args:\n",
    "        pop_matrix (np.array): 2D Array  arrays of id, state, day of infection\n",
    "            and current state duration of population.\n",
    "\n",
    "        lambda_leak (float): the percentage of the population to expose\n",
    "\n",
    "        day: the current day of simulation\n",
    "\n",
    "    Returns:\n",
    "        new_matrix (np.array): The population matrix with the\n",
    "                               newly exposed people.\n",
    "    Raises:\n",
    "        ValueError: If shape of starting matrix is different from final matrix\n",
    "    \"\"\"\n",
    "    size = int(pop_matrix.shape[0]*lambda_leak)\n",
    "    susceptible = pop_matrix[pop_matrix[:, 1] == states_dict['susceptible']][:, 0]\n",
    "\n",
    "    exposed = np.random.choice(susceptible, size=size, replace=False)\n",
    "\n",
    "    if len(exposed) == 0:\n",
    "        return pop_matrix\n",
    "\n",
    "    new_matrix = expose_population(pop_matrix, exposed, day)\n",
    "\n",
    "    if new_matrix.shape != pop_matrix.shape:\n",
    "        raise ValueError(\"Input and output matrix shapes are different\")\n",
    "\n",
    "    return new_matrix\n",
    "\n",
    "\n",
    "\n",
    "def spread_through_contacts(spreader, restrictions, restricting_zones):\n",
    "    \"\"\"\n",
    "    An infected person, or a spredear, infects each of\n",
    "    its contacts with chance equal to\n",
    "    np.random.random() < p_r[r] * (1 - restrictions[r]).\n",
    "    Returns an array of all the people successfully infected by the spreader.\n",
    "\n",
    "    Args:\n",
    "        spreader (int): id of the infected person that is\n",
    "                        spreading the disease.\n",
    "\n",
    "        restrictions (dictionary): a dictionary with a value between\n",
    "                                   zero and one for each type of relation\n",
    "\n",
    "    Returns:\n",
    "        infected (list): List of all the people infected by spreader.\n",
    "    \"\"\"\n",
    "    global G, p_r\n",
    "    spreader = spreader\n",
    "    if not restricting_zones:\n",
    "        contacts = [[y, v['edge_type']] for x, y, v\n",
    "                    in G.edges(spreader, data=True)]\n",
    "\n",
    "        infected = [y for r in restrictions.keys() for y, v in contacts\n",
    "                    if v == r\n",
    "                    and np.random.random() < p_r[r] * (1 - restrictions[r])]\n",
    "    \n",
    "    else:\n",
    "        contacts = [[y, v['edge_type']] for x, y, v\n",
    "                    in G.edges(spreader, data=True) if v['zone'] not in restrictions\n",
    "                                                    or v['edge_type'] in ['home', 'neighbor']]\n",
    "\n",
    "        infected = [y for y, v in contacts if np.random.random() < p_r[v]]\n",
    "    \n",
    "        \n",
    "        \n",
    "    return infected\n",
    "\n",
    "\n",
    "def update_population(pop_matrix):\n",
    "    \"\"\"\n",
    "    Receives the population matrix and progress the infections\n",
    "    for all people. The state duration is decremented\n",
    "    and for those whom it reaches zero, they transition to the next state\n",
    "\n",
    "    Args:\n",
    "        pop_matrix (np.array): 2D Array  arrays of id, state, day of infection\n",
    "            and current state duration of population.\n",
    "\n",
    "    Returns:\n",
    "        new_matrix (np.array): The population matrix with the updated status.\n",
    "    Raises:\n",
    "        ValueError: If shape of starting matrix is different from final matrix\n",
    "    \"\"\"\n",
    "    matrix_keep = pop_matrix[np.isin(pop_matrix[:, 1],\n",
    "                                     [states_dict['susceptible'],\n",
    "                                     states_dict['removed']]\n",
    "                                     )]\n",
    "    matrix_change = pop_matrix[~np.isin(pop_matrix[:, 1],\n",
    "                                        [states_dict['susceptible'],\n",
    "                                        states_dict['removed']]\n",
    "                                        )]\n",
    "\n",
    "    matrix_change[:, 3] = matrix_change[:, 3].astype(int) - 1\n",
    "    matrix_no_change = matrix_change[matrix_change[:, 3].astype(int) > 0]\n",
    "    matrix_change = matrix_change[matrix_change[:, 3].astype(int) == 0]\n",
    "\n",
    "    if matrix_change.shape[0] > 0:\n",
    "        matrix_change = np.apply_along_axis(change_state, 1, matrix_change)\n",
    "\n",
    "    new_matrix = np.concatenate((matrix_keep, matrix_change, matrix_no_change))\n",
    "\n",
    "    if new_matrix.shape != pop_matrix.shape:\n",
    "        raise ValueError(\"Input and output matrix shapes are different\")\n",
    "    return new_matrix\n",
    "\n",
    "\n",
    "\n",
    "def spread_infection(pop_matrix, restrictions, day, restricting_zones=False, contacts_infected=None):\n",
    "    \"\"\"\n",
    "    Receives the population matrix, the restrictions dictionary and the\n",
    "    current day. The disease spreads throught the relations in the graph:\n",
    "    each infected person has a chance to infect a susceptible contact with\n",
    "    it has an edge in the graph, conditioned to the current restrictions,\n",
    "    the p_r of each relation.\n",
    "\n",
    "    Args:\n",
    "        pop_matrix (np.array): 2D Array  arrays of id, state, day of infection\n",
    "            and current state duration of population.\n",
    "\n",
    "        restrictions (dictionary): a dictionary with a value between\n",
    "        zero and one for each type of relation\n",
    "\n",
    "        day: the current day of simulation\n",
    "\n",
    "    Returns:\n",
    "        new_matrix (np.array): The population matrix with the newly\n",
    "                                exposed people.\n",
    "    Raises:\n",
    "        ValueError: If shape of starting matrix is different from final matrix\n",
    "    \"\"\"\n",
    "    global G\n",
    "    mask = pop_matrix[:, 1] == states_dict['infected']\n",
    "    currently_infected = pop_matrix[mask][:, 0]\n",
    "\n",
    "    if currently_infected.shape[0] == 0:\n",
    "        if contacts_infected is not None:\n",
    "            return pop_matrix, contacts_infected\n",
    "        else:\n",
    "            return pop_matrix\n",
    "        \n",
    "    exposed = []\n",
    "    for spreader in currently_infected:\n",
    "        exp = spread_through_contacts(spreader, restrictions, restricting_zones)\n",
    "        exp = [e for e in exp if e not in exposed]\n",
    "        if contacts_infected is not None:\n",
    "            contacts_infected[spreader] += len(exp)\n",
    "        exposed.extend(exp)\n",
    "        \n",
    "    exposed = np.unique(exposed)\n",
    "\n",
    "    mask = np.isin(pop_matrix[:, 0], exposed)\n",
    "    susceptible = np.isin(pop_matrix[np.array(mask)][:, 1],\n",
    "                          states_dict['susceptible'])\n",
    "    exposed = pop_matrix[np.array(mask)][:, 0][susceptible]\n",
    "\n",
    "    if len(exposed) == 0:\n",
    "        if contacts_infected is not None:\n",
    "            return pop_matrix, contacts_infected\n",
    "        else:\n",
    "            return pop_matrix\n",
    "        \n",
    "\n",
    "    new_matrix = expose_population(pop_matrix, exposed, day)\n",
    "\n",
    "    if new_matrix.shape != pop_matrix.shape:\n",
    "        raise ValueError(\"Input and output matrix shapes are different\")\n",
    "\n",
    "\n",
    "    if contacts_infected is not None:\n",
    "        return new_matrix, contacts_infected\n",
    "    else:\n",
    "        return new_matrix\n",
    "        \n",
    "\n",
    "\n",
    "def main(policy='Unrestricted', days=500):\n",
    "    \"\"\"\n",
    "    Receives the policy to be used during the simulation and for how many days\n",
    "    the simulation should run for. The policy should be a Key in the policies\n",
    "    dict inside policies.py.\n",
    "\n",
    "    One full step consists of:\n",
    "        Spreading the infection\n",
    "        Exposing through leakage\n",
    "        Updating the disease evolution of the population\n",
    "\n",
    "    Args:\n",
    "        pop_matrix (string): The name of a policy that exists is policies.policies.\n",
    "\n",
    "        days (int): For how long should the policy run.\n",
    "\n",
    "\n",
    "    Returns: data (np.array): An array of arrays containing the status of \n",
    "    the population at each time step.\n",
    "    \n",
    "    \"\"\"\n",
    "\n",
    "    pop_matrix = init_infection(.0001)\n",
    "\n",
    "    data = []\n",
    "\n",
    "    # restrictions={'work':0, 'school': 0, 'home':0, 'neighbor':0}\n",
    "    restrictions = city_restrictions[policy]\n",
    "\n",
    "    for day in tqdm(range(1, days)):\n",
    "        # if less than 90% already recovered, break simulation\n",
    "        if (pop_matrix[pop_matrix[:, 1] == -1].shape[0] > pop_matrix.shape[0]*.9):\n",
    "            break\n",
    "\n",
    "        pop_matrix = spread_infection(pop_matrix, restrictions, day)\n",
    "        pop_matrix = lambda_leak_expose(pop_matrix, day)\n",
    "        pop_matrix = update_population(pop_matrix)\n",
    "\n",
    "        data.append(pop_matrix[:, 0:2])\n",
    "\n",
    "    return data, pop_matrix"
   ]
  },
  {
   "cell_type": "code",
   "execution_count": 112,
   "metadata": {},
   "outputs": [],
   "source": [
    "def run_full_mcst(rolloutPolicy='rolloutPolicy', horizon=1, bruteForce=False,\n",
    "                  sims_per_leaf=10, n_jobs = 6, step_size = 7, days = 210, capacity=0.0015):\n",
    "\n",
    "    pop_matrix = init_infection()\n",
    "    data = []\n",
    "    actions = []\n",
    "    alpha = 0.5\n",
    "\n",
    "    for day in tqdm(range(1, days+1)):\n",
    "        #if less than 20% still susceptible, break simulation\n",
    "        if pop_matrix[np.where(pop_matrix[:,1] == -1)].shape[0] > pop_matrix.shape[0]*.9: break            \n",
    "            \n",
    "        \n",
    "        # Choose a new policy at each week\n",
    "        if day % step_size == 1:     \n",
    "            infected = (pop_matrix[pop_matrix[:,1] == 2].shape[0]/(len(pop_matrix)*10))*alpha\n",
    "            top_k = int(np.ceil(min(infected/capacity, 1) * len(regions_degree))) \n",
    "            restrictions = top_infected_regions(pop_matrix, regions_degree, top_k)\n",
    "            actions.append(restrictions)\n",
    "\n",
    "        pop_matrix = spread_infection(pop_matrix, restrictions, day, restricting_zones=True)\n",
    "        pop_matrix = lambda_leak_expose(pop_matrix, day)\n",
    "        pop_matrix = update_population(pop_matrix)\n",
    "\n",
    "        data.append(np.array(sorted(pop_matrix,key=lambda x: x[0]))[:,1]) \n",
    "    \n",
    "    return data, actions"
   ]
  },
  {
   "cell_type": "code",
   "execution_count": 113,
   "metadata": {},
   "outputs": [],
   "source": [
    "def top_infected_regions(pop_matrix, regions_degree, top_k=10):\n",
    "    nodes = pop_matrix[pop_matrix[:,1] == 2][:,0]\n",
    "    regions_counts = defaultdict(int)\n",
    "    for n in nodes:\n",
    "        v = G.nodes[n]\n",
    "        if not np.isnan(v['work']):\n",
    "            regions_counts[int(v['work'])] +=1\n",
    "        if not np.isnan(v['school']):\n",
    "            regions_counts[int(v['school'])] +=1\n",
    "    #regions_scores = sorted([(k, (regions_degree[k]*v)) for k,v in regions_counts.items()], key= lambda x: x[1], reverse=True)\n",
    "    regions_scores = sorted([(k, v) for k,v in regions_counts.items()], key= lambda x: x[1], reverse=True)\n",
    "    regions_scores = np.array(regions_scores)\n",
    "    \n",
    "    if len(regions_scores) == 0:\n",
    "        return []\n",
    "    if len(regions_scores) > top_k:\n",
    "        return (regions_scores[:,0][:top_k])\n",
    "    return regions_scores[:,0]"
   ]
  },
  {
   "cell_type": "code",
   "execution_count": 114,
   "metadata": {
    "scrolled": false
   },
   "outputs": [
    {
     "name": "stderr",
     "output_type": "stream",
     "text": [
      "100%|████████████████████████████████████████████████████████████████████████████████| 280/280 [00:56<00:00,  5.00it/s]\n"
     ]
    },
    {
     "data": {
      "application/vnd.plotly.v1+json": {
       "config": {
        "plotlyServerURL": "https://plot.ly"
       },
       "data": [
        {
         "line": {
          "color": "rgb(0.25, 0.41, 0.88)",
          "width": 3.5
         },
         "name": "hospitalized",
         "type": "scatter",
         "x": [
          0,
          1,
          2,
          3,
          4,
          5,
          6,
          7,
          8,
          9,
          10,
          11,
          12,
          13,
          14,
          15,
          16,
          17,
          18,
          19,
          20,
          21,
          22,
          23,
          24,
          25,
          26,
          27,
          28,
          29,
          30,
          31,
          32,
          33,
          34,
          35,
          36,
          37,
          38,
          39,
          40,
          41,
          42,
          43,
          44,
          45,
          46,
          47,
          48,
          49,
          50,
          51,
          52,
          53,
          54,
          55,
          56,
          57,
          58,
          59,
          60,
          61,
          62,
          63,
          64,
          65,
          66,
          67,
          68,
          69,
          70,
          71,
          72,
          73,
          74,
          75,
          76,
          77,
          78,
          79,
          80,
          81,
          82,
          83,
          84,
          85,
          86,
          87,
          88,
          89,
          90,
          91,
          92,
          93,
          94,
          95,
          96,
          97,
          98,
          99,
          100,
          101,
          102,
          103,
          104,
          105,
          106,
          107,
          108,
          109,
          110,
          111,
          112,
          113,
          114,
          115,
          116,
          117,
          118,
          119,
          120,
          121,
          122,
          123,
          124,
          125,
          126,
          127,
          128,
          129,
          130,
          131,
          132,
          133,
          134,
          135,
          136,
          137,
          138,
          139,
          140,
          141,
          142,
          143,
          144,
          145,
          146,
          147,
          148,
          149,
          150,
          151,
          152,
          153,
          154,
          155,
          156,
          157,
          158,
          159,
          160,
          161,
          162,
          163,
          164,
          165,
          166,
          167,
          168,
          169,
          170,
          171,
          172,
          173,
          174,
          175,
          176,
          177,
          178,
          179,
          180,
          181,
          182,
          183,
          184,
          185,
          186,
          187,
          188,
          189,
          190,
          191,
          192,
          193,
          194,
          195,
          196,
          197,
          198,
          199,
          200,
          201,
          202,
          203,
          204,
          205,
          206,
          207,
          208,
          209,
          210,
          211,
          212,
          213,
          214,
          215,
          216,
          217,
          218,
          219,
          220,
          221,
          222,
          223,
          224,
          225,
          226,
          227,
          228,
          229,
          230,
          231,
          232,
          233,
          234,
          235,
          236,
          237,
          238,
          239,
          240,
          241,
          242,
          243,
          244,
          245,
          246,
          247,
          248,
          249,
          250,
          251,
          252,
          253,
          254,
          255,
          256,
          257,
          258,
          259,
          260,
          261,
          262,
          263,
          264,
          265,
          266,
          267,
          268,
          269,
          270,
          271,
          272,
          273,
          274,
          275,
          276,
          277,
          278,
          279,
          280,
          281
         ],
         "y": [
          0,
          0,
          0,
          0,
          0,
          0,
          0,
          0,
          0,
          0,
          0,
          1.8020615584228357e-05,
          1.8020615584228357e-05,
          1.8020615584228357e-05,
          5.4061846752685075e-05,
          5.4061846752685075e-05,
          7.208246233691343e-05,
          5.4061846752685075e-05,
          5.4061846752685075e-05,
          0.0001261443090895985,
          0.0001261443090895985,
          0.00014416492467382686,
          0.00016218554025805522,
          0.00018020615584228358,
          0.00019822677142651194,
          0.00023426800259496863,
          0.00023426800259496863,
          0.0002883298493476537,
          0.0002883298493476537,
          0.000252288618179197,
          0.000252288618179197,
          0.0002162473870107403,
          0.000252288618179197,
          0.000252288618179197,
          0.00023426800259496863,
          0.0002162473870107403,
          0.00019822677142651194,
          0.000252288618179197,
          0.0002883298493476537,
          0.00034239169610033877,
          0.00034239169610033877,
          0.0003964535428530239,
          0.0004144741584372522,
          0.00046853600518993727,
          0.00048655662077416565,
          0.00048655662077416565,
          0.0005225978519426223,
          0.0005586390831110791,
          0.0006127009298637641,
          0.0006127009298637641,
          0.0006487421610322209,
          0.0005946803142795358,
          0.0005946803142795358,
          0.0005946803142795358,
          0.0006307215454479925,
          0.0006847833922006775,
          0.0007388452389533626,
          0.0007388452389533626,
          0.0007208246233691343,
          0.0007929070857060478,
          0.0008469689324587328,
          0.0009370720103798745,
          0.0009731132415483313,
          0.0008649895480429612,
          0.0008289483168745044,
          0.0008289483168745044,
          0.0008109277012902761,
          0.0009370720103798745,
          0.000955092625964103,
          0.0009190513947956462,
          0.001009154472716788,
          0.0009010307792114179,
          0.0010271750883010164,
          0.0011533193973906149,
          0.0011352987818063864,
          0.0012254018597275282,
          0.0011893606285590715,
          0.0011713400129748433,
          0.0011533193973906149,
          0.0013335255532328984,
          0.0012254018597275282,
          0.0011893606285590715,
          0.0012434224753117566,
          0.001261443090895985,
          0.0012974843220644417,
          0.0012254018597275282,
          0.0012434224753117566,
          0.0011893606285590715,
          0.0011172781662221582,
          0.0011172781662221582,
          0.0011533193973906149,
          0.0010812369350537015,
          0.0010451957038852446,
          0.001063216319469473,
          0.0010451957038852446,
          0.0011172781662221582,
          0.0010992575506379298,
          0.0010992575506379298,
          0.0011172781662221582,
          0.000955092625964103,
          0.000955092625964103,
          0.0008830101636271895,
          0.001063216319469473,
          0.0011533193973906149,
          0.0011352987818063864,
          0.0012794637064802133,
          0.00131550493764867,
          0.001261443090895985,
          0.0012974843220644417,
          0.001369566784401355,
          0.0012794637064802133,
          0.0012794637064802133,
          0.0012974843220644417,
          0.0014236286311540402,
          0.001369566784401355,
          0.0014416492467382686,
          0.0014416492467382686,
          0.0014957110934909537,
          0.0014596698623224969,
          0.0013875873999855835,
          0.0012794637064802133,
          0.0011713400129748433,
          0.0012073812441433,
          0.0012073812441433,
          0.0012254018597275282,
          0.0011713400129748433,
          0.0012254018597275282,
          0.0011893606285590715,
          0.0011352987818063864,
          0.0011713400129748433,
          0.0012434224753117566,
          0.0011533193973906149,
          0.0010812369350537015,
          0.0010812369350537015,
          0.0010812369350537015,
          0.001063216319469473,
          0.0010812369350537015,
          0.0011172781662221582,
          0.0010812369350537015,
          0.0010451957038852446,
          0.0010271750883010164,
          0.0010271750883010164,
          0.0009370720103798745,
          0.001009154472716788,
          0.001009154472716788,
          0.0009911338571325598,
          0.0010271750883010164,
          0.0010451957038852446,
          0.001063216319469473,
          0.0010451957038852446,
          0.0010271750883010164,
          0.0010271750883010164,
          0.0010812369350537015,
          0.0010271750883010164,
          0.0009731132415483313,
          0.0010271750883010164,
          0.001063216319469473,
          0.0011172781662221582,
          0.0009731132415483313,
          0.000955092625964103,
          0.0008649895480429612,
          0.0008109277012902761,
          0.0007748864701218193,
          0.0007208246233691343,
          0.0006667627766164492,
          0.0007208246233691343,
          0.0008109277012902761,
          0.0008289483168745044,
          0.0007748864701218193,
          0.0006487421610322209,
          0.0006127009298637641,
          0.0005766596986953074,
          0.0006307215454479925,
          0.000702804007784906,
          0.0008109277012902761,
          0.0008289483168745044,
          0.0008109277012902761,
          0.0008649895480429612,
          0.0008469689324587328,
          0.0008830101636271895,
          0.0008289483168745044,
          0.0008289483168745044,
          0.0007929070857060478,
          0.0007929070857060478,
          0.0008469689324587328,
          0.0009010307792114179,
          0.0008289483168745044,
          0.0007208246233691343,
          0.000702804007784906,
          0.0006307215454479925,
          0.0006487421610322209,
          0.0006487421610322209,
          0.0006847833922006775,
          0.0007388452389533626,
          0.000756865854537591,
          0.0008289483168745044,
          0.0007208246233691343,
          0.0005766596986953074,
          0.0006307215454479925,
          0.0006307215454479925,
          0.0006307215454479925,
          0.0006667627766164492,
          0.0006307215454479925,
          0.0005946803142795358,
          0.0006127009298637641,
          0.0006667627766164492,
          0.0006487421610322209,
          0.0006487421610322209,
          0.0006847833922006775,
          0.0007388452389533626,
          0.0007929070857060478,
          0.0008469689324587328,
          0.0007929070857060478,
          0.0007208246233691343,
          0.0007208246233691343,
          0.0007208246233691343,
          0.0006667627766164492,
          0.0006127009298637641,
          0.000702804007784906,
          0.0006667627766164492,
          0.0006127009298637641,
          0.0006307215454479925,
          0.0005586390831110791,
          0.0005586390831110791,
          0.0005586390831110791,
          0.0005766596986953074,
          0.0005586390831110791,
          0.0006127009298637641,
          0.0005766596986953074,
          0.0005586390831110791,
          0.0005766596986953074,
          0.0005225978519426223,
          0.0005586390831110791,
          0.0005406184675268508,
          0.0005946803142795358,
          0.0006667627766164492,
          0.0006127009298637641,
          0.0006307215454479925,
          0.0005946803142795358,
          0.0005766596986953074,
          0.0005946803142795358,
          0.0005766596986953074,
          0.0005406184675268508,
          0.000504577236358394,
          0.0005946803142795358,
          0.0005946803142795358,
          0.0005766596986953074,
          0.0005586390831110791,
          0.00048655662077416565,
          0.000504577236358394,
          0.00046853600518993727,
          0.00045051538960570893,
          0.000504577236358394,
          0.00048655662077416565,
          0.00048655662077416565,
          0.00048655662077416565,
          0.00048655662077416565,
          0.000504577236358394,
          0.0004144741584372522,
          0.0003964535428530239,
          0.0003964535428530239,
          0.0003784329272687955,
          0.0003784329272687955,
          0.00045051538960570893,
          0.00046853600518993727,
          0.0005225978519426223,
          0.0005586390831110791,
          0.0005406184675268508,
          0.0005225978519426223,
          0.0005406184675268508,
          0.0005225978519426223,
          0.0005406184675268508,
          0.0005406184675268508,
          0.0005225978519426223,
          0.00046853600518993727,
          0.000504577236358394,
          0.0005946803142795358,
          0.0007208246233691343,
          0.000702804007784906,
          0.000756865854537591,
          0.000756865854537591
         ]
        },
        {
         "line": {
          "color": "black",
          "dash": "dash",
          "width": 2
         },
         "name": "capacity",
         "type": "scatter",
         "x": [
          0,
          1,
          2,
          3,
          4,
          5,
          6,
          7,
          8,
          9,
          10,
          11,
          12,
          13,
          14,
          15,
          16,
          17,
          18,
          19,
          20,
          21,
          22,
          23,
          24,
          25,
          26,
          27,
          28,
          29,
          30,
          31,
          32,
          33,
          34,
          35,
          36,
          37,
          38,
          39,
          40,
          41,
          42,
          43,
          44,
          45,
          46,
          47,
          48,
          49,
          50,
          51,
          52,
          53,
          54,
          55,
          56,
          57,
          58,
          59,
          60,
          61,
          62,
          63,
          64,
          65,
          66,
          67,
          68,
          69,
          70,
          71,
          72,
          73,
          74,
          75,
          76,
          77,
          78,
          79,
          80,
          81,
          82,
          83,
          84,
          85,
          86,
          87,
          88,
          89,
          90,
          91,
          92,
          93,
          94,
          95,
          96,
          97,
          98,
          99,
          100,
          101,
          102,
          103,
          104,
          105,
          106,
          107,
          108,
          109,
          110,
          111,
          112,
          113,
          114,
          115,
          116,
          117,
          118,
          119,
          120,
          121,
          122,
          123,
          124,
          125,
          126,
          127,
          128,
          129,
          130,
          131,
          132,
          133,
          134,
          135,
          136,
          137,
          138,
          139,
          140,
          141,
          142,
          143,
          144,
          145,
          146,
          147,
          148,
          149,
          150,
          151,
          152,
          153,
          154,
          155,
          156,
          157,
          158,
          159,
          160,
          161,
          162,
          163,
          164,
          165,
          166,
          167,
          168,
          169,
          170,
          171,
          172,
          173,
          174,
          175,
          176,
          177,
          178,
          179,
          180,
          181,
          182,
          183,
          184,
          185,
          186,
          187,
          188,
          189,
          190,
          191,
          192,
          193,
          194,
          195,
          196,
          197,
          198,
          199,
          200,
          201,
          202,
          203,
          204,
          205,
          206,
          207,
          208,
          209,
          210,
          211,
          212,
          213,
          214,
          215,
          216,
          217,
          218,
          219,
          220,
          221,
          222,
          223,
          224,
          225,
          226,
          227,
          228,
          229,
          230,
          231,
          232,
          233,
          234,
          235,
          236,
          237,
          238,
          239,
          240,
          241,
          242,
          243,
          244,
          245,
          246,
          247,
          248,
          249,
          250,
          251,
          252,
          253,
          254,
          255,
          256,
          257,
          258,
          259,
          260,
          261,
          262,
          263,
          264,
          265,
          266,
          267,
          268,
          269,
          270,
          271,
          272,
          273,
          274,
          275,
          276,
          277,
          278,
          279,
          280,
          281
         ],
         "y": [
          0.0015,
          0.0015,
          0.0015,
          0.0015,
          0.0015,
          0.0015,
          0.0015,
          0.0015,
          0.0015,
          0.0015,
          0.0015,
          0.0015,
          0.0015,
          0.0015,
          0.0015,
          0.0015,
          0.0015,
          0.0015,
          0.0015,
          0.0015,
          0.0015,
          0.0015,
          0.0015,
          0.0015,
          0.0015,
          0.0015,
          0.0015,
          0.0015,
          0.0015,
          0.0015,
          0.0015,
          0.0015,
          0.0015,
          0.0015,
          0.0015,
          0.0015,
          0.0015,
          0.0015,
          0.0015,
          0.0015,
          0.0015,
          0.0015,
          0.0015,
          0.0015,
          0.0015,
          0.0015,
          0.0015,
          0.0015,
          0.0015,
          0.0015,
          0.0015,
          0.0015,
          0.0015,
          0.0015,
          0.0015,
          0.0015,
          0.0015,
          0.0015,
          0.0015,
          0.0015,
          0.0015,
          0.0015,
          0.0015,
          0.0015,
          0.0015,
          0.0015,
          0.0015,
          0.0015,
          0.0015,
          0.0015,
          0.0015,
          0.0015,
          0.0015,
          0.0015,
          0.0015,
          0.0015,
          0.0015,
          0.0015,
          0.0015,
          0.0015,
          0.0015,
          0.0015,
          0.0015,
          0.0015,
          0.0015,
          0.0015,
          0.0015,
          0.0015,
          0.0015,
          0.0015,
          0.0015,
          0.0015,
          0.0015,
          0.0015,
          0.0015,
          0.0015,
          0.0015,
          0.0015,
          0.0015,
          0.0015,
          0.0015,
          0.0015,
          0.0015,
          0.0015,
          0.0015,
          0.0015,
          0.0015,
          0.0015,
          0.0015,
          0.0015,
          0.0015,
          0.0015,
          0.0015,
          0.0015,
          0.0015,
          0.0015,
          0.0015,
          0.0015,
          0.0015,
          0.0015,
          0.0015,
          0.0015,
          0.0015,
          0.0015,
          0.0015,
          0.0015,
          0.0015,
          0.0015,
          0.0015,
          0.0015,
          0.0015,
          0.0015,
          0.0015,
          0.0015,
          0.0015,
          0.0015,
          0.0015,
          0.0015,
          0.0015,
          0.0015,
          0.0015,
          0.0015,
          0.0015,
          0.0015,
          0.0015,
          0.0015,
          0.0015,
          0.0015,
          0.0015,
          0.0015,
          0.0015,
          0.0015,
          0.0015,
          0.0015,
          0.0015,
          0.0015,
          0.0015,
          0.0015,
          0.0015,
          0.0015,
          0.0015,
          0.0015,
          0.0015,
          0.0015,
          0.0015,
          0.0015,
          0.0015,
          0.0015,
          0.0015,
          0.0015,
          0.0015,
          0.0015,
          0.0015,
          0.0015,
          0.0015,
          0.0015,
          0.0015,
          0.0015,
          0.0015,
          0.0015,
          0.0015,
          0.0015,
          0.0015,
          0.0015,
          0.0015,
          0.0015,
          0.0015,
          0.0015,
          0.0015,
          0.0015,
          0.0015,
          0.0015,
          0.0015,
          0.0015,
          0.0015,
          0.0015,
          0.0015,
          0.0015,
          0.0015,
          0.0015,
          0.0015,
          0.0015,
          0.0015,
          0.0015,
          0.0015,
          0.0015,
          0.0015,
          0.0015,
          0.0015,
          0.0015,
          0.0015,
          0.0015,
          0.0015,
          0.0015,
          0.0015,
          0.0015,
          0.0015,
          0.0015,
          0.0015,
          0.0015,
          0.0015,
          0.0015,
          0.0015,
          0.0015,
          0.0015,
          0.0015,
          0.0015,
          0.0015,
          0.0015,
          0.0015,
          0.0015,
          0.0015,
          0.0015,
          0.0015,
          0.0015,
          0.0015,
          0.0015,
          0.0015,
          0.0015,
          0.0015,
          0.0015,
          0.0015,
          0.0015,
          0.0015,
          0.0015,
          0.0015,
          0.0015,
          0.0015,
          0.0015,
          0.0015,
          0.0015,
          0.0015,
          0.0015,
          0.0015,
          0.0015,
          0.0015,
          0.0015,
          0.0015,
          0.0015,
          0.0015,
          0.0015,
          0.0015,
          0.0015,
          0.0015,
          0.0015,
          0.0015,
          0.0015,
          0.0015,
          0.0015,
          0.0015,
          0.0015,
          0.0015,
          0.0015,
          0.0015,
          0.0015,
          0.0015,
          0.0015,
          0.0015,
          0.0015,
          0.0015,
          0.0015
         ]
        }
       ],
       "layout": {
        "hovermode": "x",
        "margin": {
         "b": 50,
         "l": 50,
         "pad": 0,
         "r": 50,
         "t": 50
        },
        "plot_bgcolor": "rgb(255,255,255)",
        "showlegend": false,
        "template": {
         "data": {
          "bar": [
           {
            "error_x": {
             "color": "#2a3f5f"
            },
            "error_y": {
             "color": "#2a3f5f"
            },
            "marker": {
             "line": {
              "color": "#E5ECF6",
              "width": 0.5
             }
            },
            "type": "bar"
           }
          ],
          "barpolar": [
           {
            "marker": {
             "line": {
              "color": "#E5ECF6",
              "width": 0.5
             }
            },
            "type": "barpolar"
           }
          ],
          "carpet": [
           {
            "aaxis": {
             "endlinecolor": "#2a3f5f",
             "gridcolor": "white",
             "linecolor": "white",
             "minorgridcolor": "white",
             "startlinecolor": "#2a3f5f"
            },
            "baxis": {
             "endlinecolor": "#2a3f5f",
             "gridcolor": "white",
             "linecolor": "white",
             "minorgridcolor": "white",
             "startlinecolor": "#2a3f5f"
            },
            "type": "carpet"
           }
          ],
          "choropleth": [
           {
            "colorbar": {
             "outlinewidth": 0,
             "ticks": ""
            },
            "type": "choropleth"
           }
          ],
          "contour": [
           {
            "colorbar": {
             "outlinewidth": 0,
             "ticks": ""
            },
            "colorscale": [
             [
              0,
              "#0d0887"
             ],
             [
              0.1111111111111111,
              "#46039f"
             ],
             [
              0.2222222222222222,
              "#7201a8"
             ],
             [
              0.3333333333333333,
              "#9c179e"
             ],
             [
              0.4444444444444444,
              "#bd3786"
             ],
             [
              0.5555555555555556,
              "#d8576b"
             ],
             [
              0.6666666666666666,
              "#ed7953"
             ],
             [
              0.7777777777777778,
              "#fb9f3a"
             ],
             [
              0.8888888888888888,
              "#fdca26"
             ],
             [
              1,
              "#f0f921"
             ]
            ],
            "type": "contour"
           }
          ],
          "contourcarpet": [
           {
            "colorbar": {
             "outlinewidth": 0,
             "ticks": ""
            },
            "type": "contourcarpet"
           }
          ],
          "heatmap": [
           {
            "colorbar": {
             "outlinewidth": 0,
             "ticks": ""
            },
            "colorscale": [
             [
              0,
              "#0d0887"
             ],
             [
              0.1111111111111111,
              "#46039f"
             ],
             [
              0.2222222222222222,
              "#7201a8"
             ],
             [
              0.3333333333333333,
              "#9c179e"
             ],
             [
              0.4444444444444444,
              "#bd3786"
             ],
             [
              0.5555555555555556,
              "#d8576b"
             ],
             [
              0.6666666666666666,
              "#ed7953"
             ],
             [
              0.7777777777777778,
              "#fb9f3a"
             ],
             [
              0.8888888888888888,
              "#fdca26"
             ],
             [
              1,
              "#f0f921"
             ]
            ],
            "type": "heatmap"
           }
          ],
          "heatmapgl": [
           {
            "colorbar": {
             "outlinewidth": 0,
             "ticks": ""
            },
            "colorscale": [
             [
              0,
              "#0d0887"
             ],
             [
              0.1111111111111111,
              "#46039f"
             ],
             [
              0.2222222222222222,
              "#7201a8"
             ],
             [
              0.3333333333333333,
              "#9c179e"
             ],
             [
              0.4444444444444444,
              "#bd3786"
             ],
             [
              0.5555555555555556,
              "#d8576b"
             ],
             [
              0.6666666666666666,
              "#ed7953"
             ],
             [
              0.7777777777777778,
              "#fb9f3a"
             ],
             [
              0.8888888888888888,
              "#fdca26"
             ],
             [
              1,
              "#f0f921"
             ]
            ],
            "type": "heatmapgl"
           }
          ],
          "histogram": [
           {
            "marker": {
             "colorbar": {
              "outlinewidth": 0,
              "ticks": ""
             }
            },
            "type": "histogram"
           }
          ],
          "histogram2d": [
           {
            "colorbar": {
             "outlinewidth": 0,
             "ticks": ""
            },
            "colorscale": [
             [
              0,
              "#0d0887"
             ],
             [
              0.1111111111111111,
              "#46039f"
             ],
             [
              0.2222222222222222,
              "#7201a8"
             ],
             [
              0.3333333333333333,
              "#9c179e"
             ],
             [
              0.4444444444444444,
              "#bd3786"
             ],
             [
              0.5555555555555556,
              "#d8576b"
             ],
             [
              0.6666666666666666,
              "#ed7953"
             ],
             [
              0.7777777777777778,
              "#fb9f3a"
             ],
             [
              0.8888888888888888,
              "#fdca26"
             ],
             [
              1,
              "#f0f921"
             ]
            ],
            "type": "histogram2d"
           }
          ],
          "histogram2dcontour": [
           {
            "colorbar": {
             "outlinewidth": 0,
             "ticks": ""
            },
            "colorscale": [
             [
              0,
              "#0d0887"
             ],
             [
              0.1111111111111111,
              "#46039f"
             ],
             [
              0.2222222222222222,
              "#7201a8"
             ],
             [
              0.3333333333333333,
              "#9c179e"
             ],
             [
              0.4444444444444444,
              "#bd3786"
             ],
             [
              0.5555555555555556,
              "#d8576b"
             ],
             [
              0.6666666666666666,
              "#ed7953"
             ],
             [
              0.7777777777777778,
              "#fb9f3a"
             ],
             [
              0.8888888888888888,
              "#fdca26"
             ],
             [
              1,
              "#f0f921"
             ]
            ],
            "type": "histogram2dcontour"
           }
          ],
          "mesh3d": [
           {
            "colorbar": {
             "outlinewidth": 0,
             "ticks": ""
            },
            "type": "mesh3d"
           }
          ],
          "parcoords": [
           {
            "line": {
             "colorbar": {
              "outlinewidth": 0,
              "ticks": ""
             }
            },
            "type": "parcoords"
           }
          ],
          "pie": [
           {
            "automargin": true,
            "type": "pie"
           }
          ],
          "scatter": [
           {
            "marker": {
             "colorbar": {
              "outlinewidth": 0,
              "ticks": ""
             }
            },
            "type": "scatter"
           }
          ],
          "scatter3d": [
           {
            "line": {
             "colorbar": {
              "outlinewidth": 0,
              "ticks": ""
             }
            },
            "marker": {
             "colorbar": {
              "outlinewidth": 0,
              "ticks": ""
             }
            },
            "type": "scatter3d"
           }
          ],
          "scattercarpet": [
           {
            "marker": {
             "colorbar": {
              "outlinewidth": 0,
              "ticks": ""
             }
            },
            "type": "scattercarpet"
           }
          ],
          "scattergeo": [
           {
            "marker": {
             "colorbar": {
              "outlinewidth": 0,
              "ticks": ""
             }
            },
            "type": "scattergeo"
           }
          ],
          "scattergl": [
           {
            "marker": {
             "colorbar": {
              "outlinewidth": 0,
              "ticks": ""
             }
            },
            "type": "scattergl"
           }
          ],
          "scattermapbox": [
           {
            "marker": {
             "colorbar": {
              "outlinewidth": 0,
              "ticks": ""
             }
            },
            "type": "scattermapbox"
           }
          ],
          "scatterpolar": [
           {
            "marker": {
             "colorbar": {
              "outlinewidth": 0,
              "ticks": ""
             }
            },
            "type": "scatterpolar"
           }
          ],
          "scatterpolargl": [
           {
            "marker": {
             "colorbar": {
              "outlinewidth": 0,
              "ticks": ""
             }
            },
            "type": "scatterpolargl"
           }
          ],
          "scatterternary": [
           {
            "marker": {
             "colorbar": {
              "outlinewidth": 0,
              "ticks": ""
             }
            },
            "type": "scatterternary"
           }
          ],
          "surface": [
           {
            "colorbar": {
             "outlinewidth": 0,
             "ticks": ""
            },
            "colorscale": [
             [
              0,
              "#0d0887"
             ],
             [
              0.1111111111111111,
              "#46039f"
             ],
             [
              0.2222222222222222,
              "#7201a8"
             ],
             [
              0.3333333333333333,
              "#9c179e"
             ],
             [
              0.4444444444444444,
              "#bd3786"
             ],
             [
              0.5555555555555556,
              "#d8576b"
             ],
             [
              0.6666666666666666,
              "#ed7953"
             ],
             [
              0.7777777777777778,
              "#fb9f3a"
             ],
             [
              0.8888888888888888,
              "#fdca26"
             ],
             [
              1,
              "#f0f921"
             ]
            ],
            "type": "surface"
           }
          ],
          "table": [
           {
            "cells": {
             "fill": {
              "color": "#EBF0F8"
             },
             "line": {
              "color": "white"
             }
            },
            "header": {
             "fill": {
              "color": "#C8D4E3"
             },
             "line": {
              "color": "white"
             }
            },
            "type": "table"
           }
          ]
         },
         "layout": {
          "annotationdefaults": {
           "arrowcolor": "#2a3f5f",
           "arrowhead": 0,
           "arrowwidth": 1
          },
          "coloraxis": {
           "colorbar": {
            "outlinewidth": 0,
            "ticks": ""
           }
          },
          "colorscale": {
           "diverging": [
            [
             0,
             "#8e0152"
            ],
            [
             0.1,
             "#c51b7d"
            ],
            [
             0.2,
             "#de77ae"
            ],
            [
             0.3,
             "#f1b6da"
            ],
            [
             0.4,
             "#fde0ef"
            ],
            [
             0.5,
             "#f7f7f7"
            ],
            [
             0.6,
             "#e6f5d0"
            ],
            [
             0.7,
             "#b8e186"
            ],
            [
             0.8,
             "#7fbc41"
            ],
            [
             0.9,
             "#4d9221"
            ],
            [
             1,
             "#276419"
            ]
           ],
           "sequential": [
            [
             0,
             "#0d0887"
            ],
            [
             0.1111111111111111,
             "#46039f"
            ],
            [
             0.2222222222222222,
             "#7201a8"
            ],
            [
             0.3333333333333333,
             "#9c179e"
            ],
            [
             0.4444444444444444,
             "#bd3786"
            ],
            [
             0.5555555555555556,
             "#d8576b"
            ],
            [
             0.6666666666666666,
             "#ed7953"
            ],
            [
             0.7777777777777778,
             "#fb9f3a"
            ],
            [
             0.8888888888888888,
             "#fdca26"
            ],
            [
             1,
             "#f0f921"
            ]
           ],
           "sequentialminus": [
            [
             0,
             "#0d0887"
            ],
            [
             0.1111111111111111,
             "#46039f"
            ],
            [
             0.2222222222222222,
             "#7201a8"
            ],
            [
             0.3333333333333333,
             "#9c179e"
            ],
            [
             0.4444444444444444,
             "#bd3786"
            ],
            [
             0.5555555555555556,
             "#d8576b"
            ],
            [
             0.6666666666666666,
             "#ed7953"
            ],
            [
             0.7777777777777778,
             "#fb9f3a"
            ],
            [
             0.8888888888888888,
             "#fdca26"
            ],
            [
             1,
             "#f0f921"
            ]
           ]
          },
          "colorway": [
           "#636efa",
           "#EF553B",
           "#00cc96",
           "#ab63fa",
           "#FFA15A",
           "#19d3f3",
           "#FF6692",
           "#B6E880",
           "#FF97FF",
           "#FECB52"
          ],
          "font": {
           "color": "#2a3f5f"
          },
          "geo": {
           "bgcolor": "white",
           "lakecolor": "white",
           "landcolor": "#E5ECF6",
           "showlakes": true,
           "showland": true,
           "subunitcolor": "white"
          },
          "hoverlabel": {
           "align": "left"
          },
          "hovermode": "closest",
          "mapbox": {
           "style": "light"
          },
          "paper_bgcolor": "white",
          "plot_bgcolor": "#E5ECF6",
          "polar": {
           "angularaxis": {
            "gridcolor": "white",
            "linecolor": "white",
            "ticks": ""
           },
           "bgcolor": "#E5ECF6",
           "radialaxis": {
            "gridcolor": "white",
            "linecolor": "white",
            "ticks": ""
           }
          },
          "scene": {
           "xaxis": {
            "backgroundcolor": "#E5ECF6",
            "gridcolor": "white",
            "gridwidth": 2,
            "linecolor": "white",
            "showbackground": true,
            "ticks": "",
            "zerolinecolor": "white"
           },
           "yaxis": {
            "backgroundcolor": "#E5ECF6",
            "gridcolor": "white",
            "gridwidth": 2,
            "linecolor": "white",
            "showbackground": true,
            "ticks": "",
            "zerolinecolor": "white"
           },
           "zaxis": {
            "backgroundcolor": "#E5ECF6",
            "gridcolor": "white",
            "gridwidth": 2,
            "linecolor": "white",
            "showbackground": true,
            "ticks": "",
            "zerolinecolor": "white"
           }
          },
          "shapedefaults": {
           "line": {
            "color": "#2a3f5f"
           }
          },
          "ternary": {
           "aaxis": {
            "gridcolor": "white",
            "linecolor": "white",
            "ticks": ""
           },
           "baxis": {
            "gridcolor": "white",
            "linecolor": "white",
            "ticks": ""
           },
           "bgcolor": "#E5ECF6",
           "caxis": {
            "gridcolor": "white",
            "linecolor": "white",
            "ticks": ""
           }
          },
          "title": {
           "x": 0.05
          },
          "xaxis": {
           "automargin": true,
           "gridcolor": "white",
           "linecolor": "white",
           "ticks": "",
           "title": {
            "standoff": 15
           },
           "zerolinecolor": "white",
           "zerolinewidth": 2
          },
          "yaxis": {
           "automargin": true,
           "gridcolor": "white",
           "linecolor": "white",
           "ticks": "",
           "title": {
            "standoff": 15
           },
           "zerolinecolor": "white",
           "zerolinewidth": 2
          }
         }
        },
        "xaxis": {
         "showgrid": false,
         "tickmode": "array",
         "ticktext": [
          0,
          2,
          4,
          6,
          8,
          10,
          12,
          14,
          16,
          18,
          20,
          22,
          24,
          26,
          28,
          30,
          32,
          34,
          36,
          38,
          40
         ],
         "tickvals": [
          0,
          14,
          28,
          42,
          56,
          70,
          84,
          98,
          112,
          126,
          140,
          154,
          168,
          182,
          196,
          210,
          224,
          238,
          252,
          266,
          280
         ],
         "title": {
          "text": "Weeks"
         }
        },
        "yaxis": {
         "automargin": true,
         "showgrid": false,
         "zeroline": false
        }
       }
      },
      "text/html": [
       "<div>\n",
       "        \n",
       "        \n",
       "            <div id=\"e5d9dfb8-a4ee-443f-af02-4908a4b8ae63\" class=\"plotly-graph-div\" style=\"height:525px; width:100%;\"></div>\n",
       "            <script type=\"text/javascript\">\n",
       "                require([\"plotly\"], function(Plotly) {\n",
       "                    window.PLOTLYENV=window.PLOTLYENV || {};\n",
       "                    \n",
       "                if (document.getElementById(\"e5d9dfb8-a4ee-443f-af02-4908a4b8ae63\")) {\n",
       "                    Plotly.newPlot(\n",
       "                        'e5d9dfb8-a4ee-443f-af02-4908a4b8ae63',\n",
       "                        [{\"line\": {\"color\": \"rgb(0.25, 0.41, 0.88)\", \"width\": 3.5}, \"name\": \"hospitalized\", \"type\": \"scatter\", \"x\": [0, 1, 2, 3, 4, 5, 6, 7, 8, 9, 10, 11, 12, 13, 14, 15, 16, 17, 18, 19, 20, 21, 22, 23, 24, 25, 26, 27, 28, 29, 30, 31, 32, 33, 34, 35, 36, 37, 38, 39, 40, 41, 42, 43, 44, 45, 46, 47, 48, 49, 50, 51, 52, 53, 54, 55, 56, 57, 58, 59, 60, 61, 62, 63, 64, 65, 66, 67, 68, 69, 70, 71, 72, 73, 74, 75, 76, 77, 78, 79, 80, 81, 82, 83, 84, 85, 86, 87, 88, 89, 90, 91, 92, 93, 94, 95, 96, 97, 98, 99, 100, 101, 102, 103, 104, 105, 106, 107, 108, 109, 110, 111, 112, 113, 114, 115, 116, 117, 118, 119, 120, 121, 122, 123, 124, 125, 126, 127, 128, 129, 130, 131, 132, 133, 134, 135, 136, 137, 138, 139, 140, 141, 142, 143, 144, 145, 146, 147, 148, 149, 150, 151, 152, 153, 154, 155, 156, 157, 158, 159, 160, 161, 162, 163, 164, 165, 166, 167, 168, 169, 170, 171, 172, 173, 174, 175, 176, 177, 178, 179, 180, 181, 182, 183, 184, 185, 186, 187, 188, 189, 190, 191, 192, 193, 194, 195, 196, 197, 198, 199, 200, 201, 202, 203, 204, 205, 206, 207, 208, 209, 210, 211, 212, 213, 214, 215, 216, 217, 218, 219, 220, 221, 222, 223, 224, 225, 226, 227, 228, 229, 230, 231, 232, 233, 234, 235, 236, 237, 238, 239, 240, 241, 242, 243, 244, 245, 246, 247, 248, 249, 250, 251, 252, 253, 254, 255, 256, 257, 258, 259, 260, 261, 262, 263, 264, 265, 266, 267, 268, 269, 270, 271, 272, 273, 274, 275, 276, 277, 278, 279, 280, 281], \"y\": [0.0, 0.0, 0.0, 0.0, 0.0, 0.0, 0.0, 0.0, 0.0, 0.0, 0.0, 1.8020615584228357e-05, 1.8020615584228357e-05, 1.8020615584228357e-05, 5.4061846752685075e-05, 5.4061846752685075e-05, 7.208246233691343e-05, 5.4061846752685075e-05, 5.4061846752685075e-05, 0.0001261443090895985, 0.0001261443090895985, 0.00014416492467382686, 0.00016218554025805522, 0.00018020615584228358, 0.00019822677142651194, 0.00023426800259496863, 0.00023426800259496863, 0.0002883298493476537, 0.0002883298493476537, 0.000252288618179197, 0.000252288618179197, 0.0002162473870107403, 0.000252288618179197, 0.000252288618179197, 0.00023426800259496863, 0.0002162473870107403, 0.00019822677142651194, 0.000252288618179197, 0.0002883298493476537, 0.00034239169610033877, 0.00034239169610033877, 0.0003964535428530239, 0.0004144741584372522, 0.00046853600518993727, 0.00048655662077416565, 0.00048655662077416565, 0.0005225978519426223, 0.0005586390831110791, 0.0006127009298637641, 0.0006127009298637641, 0.0006487421610322209, 0.0005946803142795358, 0.0005946803142795358, 0.0005946803142795358, 0.0006307215454479925, 0.0006847833922006775, 0.0007388452389533626, 0.0007388452389533626, 0.0007208246233691343, 0.0007929070857060478, 0.0008469689324587328, 0.0009370720103798745, 0.0009731132415483313, 0.0008649895480429612, 0.0008289483168745044, 0.0008289483168745044, 0.0008109277012902761, 0.0009370720103798745, 0.000955092625964103, 0.0009190513947956462, 0.001009154472716788, 0.0009010307792114179, 0.0010271750883010164, 0.0011533193973906149, 0.0011352987818063864, 0.0012254018597275282, 0.0011893606285590715, 0.0011713400129748433, 0.0011533193973906149, 0.0013335255532328984, 0.0012254018597275282, 0.0011893606285590715, 0.0012434224753117566, 0.001261443090895985, 0.0012974843220644417, 0.0012254018597275282, 0.0012434224753117566, 0.0011893606285590715, 0.0011172781662221582, 0.0011172781662221582, 0.0011533193973906149, 0.0010812369350537015, 0.0010451957038852446, 0.001063216319469473, 0.0010451957038852446, 0.0011172781662221582, 0.0010992575506379298, 0.0010992575506379298, 0.0011172781662221582, 0.000955092625964103, 0.000955092625964103, 0.0008830101636271895, 0.001063216319469473, 0.0011533193973906149, 0.0011352987818063864, 0.0012794637064802133, 0.00131550493764867, 0.001261443090895985, 0.0012974843220644417, 0.001369566784401355, 0.0012794637064802133, 0.0012794637064802133, 0.0012974843220644417, 0.0014236286311540402, 0.001369566784401355, 0.0014416492467382686, 0.0014416492467382686, 0.0014957110934909537, 0.0014596698623224969, 0.0013875873999855835, 0.0012794637064802133, 0.0011713400129748433, 0.0012073812441433, 0.0012073812441433, 0.0012254018597275282, 0.0011713400129748433, 0.0012254018597275282, 0.0011893606285590715, 0.0011352987818063864, 0.0011713400129748433, 0.0012434224753117566, 0.0011533193973906149, 0.0010812369350537015, 0.0010812369350537015, 0.0010812369350537015, 0.001063216319469473, 0.0010812369350537015, 0.0011172781662221582, 0.0010812369350537015, 0.0010451957038852446, 0.0010271750883010164, 0.0010271750883010164, 0.0009370720103798745, 0.001009154472716788, 0.001009154472716788, 0.0009911338571325598, 0.0010271750883010164, 0.0010451957038852446, 0.001063216319469473, 0.0010451957038852446, 0.0010271750883010164, 0.0010271750883010164, 0.0010812369350537015, 0.0010271750883010164, 0.0009731132415483313, 0.0010271750883010164, 0.001063216319469473, 0.0011172781662221582, 0.0009731132415483313, 0.000955092625964103, 0.0008649895480429612, 0.0008109277012902761, 0.0007748864701218193, 0.0007208246233691343, 0.0006667627766164492, 0.0007208246233691343, 0.0008109277012902761, 0.0008289483168745044, 0.0007748864701218193, 0.0006487421610322209, 0.0006127009298637641, 0.0005766596986953074, 0.0006307215454479925, 0.000702804007784906, 0.0008109277012902761, 0.0008289483168745044, 0.0008109277012902761, 0.0008649895480429612, 0.0008469689324587328, 0.0008830101636271895, 0.0008289483168745044, 0.0008289483168745044, 0.0007929070857060478, 0.0007929070857060478, 0.0008469689324587328, 0.0009010307792114179, 0.0008289483168745044, 0.0007208246233691343, 0.000702804007784906, 0.0006307215454479925, 0.0006487421610322209, 0.0006487421610322209, 0.0006847833922006775, 0.0007388452389533626, 0.000756865854537591, 0.0008289483168745044, 0.0007208246233691343, 0.0005766596986953074, 0.0006307215454479925, 0.0006307215454479925, 0.0006307215454479925, 0.0006667627766164492, 0.0006307215454479925, 0.0005946803142795358, 0.0006127009298637641, 0.0006667627766164492, 0.0006487421610322209, 0.0006487421610322209, 0.0006847833922006775, 0.0007388452389533626, 0.0007929070857060478, 0.0008469689324587328, 0.0007929070857060478, 0.0007208246233691343, 0.0007208246233691343, 0.0007208246233691343, 0.0006667627766164492, 0.0006127009298637641, 0.000702804007784906, 0.0006667627766164492, 0.0006127009298637641, 0.0006307215454479925, 0.0005586390831110791, 0.0005586390831110791, 0.0005586390831110791, 0.0005766596986953074, 0.0005586390831110791, 0.0006127009298637641, 0.0005766596986953074, 0.0005586390831110791, 0.0005766596986953074, 0.0005225978519426223, 0.0005586390831110791, 0.0005406184675268508, 0.0005946803142795358, 0.0006667627766164492, 0.0006127009298637641, 0.0006307215454479925, 0.0005946803142795358, 0.0005766596986953074, 0.0005946803142795358, 0.0005766596986953074, 0.0005406184675268508, 0.000504577236358394, 0.0005946803142795358, 0.0005946803142795358, 0.0005766596986953074, 0.0005586390831110791, 0.00048655662077416565, 0.000504577236358394, 0.00046853600518993727, 0.00045051538960570893, 0.000504577236358394, 0.00048655662077416565, 0.00048655662077416565, 0.00048655662077416565, 0.00048655662077416565, 0.000504577236358394, 0.0004144741584372522, 0.0003964535428530239, 0.0003964535428530239, 0.0003784329272687955, 0.0003784329272687955, 0.00045051538960570893, 0.00046853600518993727, 0.0005225978519426223, 0.0005586390831110791, 0.0005406184675268508, 0.0005225978519426223, 0.0005406184675268508, 0.0005225978519426223, 0.0005406184675268508, 0.0005406184675268508, 0.0005225978519426223, 0.00046853600518993727, 0.000504577236358394, 0.0005946803142795358, 0.0007208246233691343, 0.000702804007784906, 0.000756865854537591, 0.000756865854537591]}, {\"line\": {\"color\": \"black\", \"dash\": \"dash\", \"width\": 2}, \"name\": \"capacity\", \"type\": \"scatter\", \"x\": [0, 1, 2, 3, 4, 5, 6, 7, 8, 9, 10, 11, 12, 13, 14, 15, 16, 17, 18, 19, 20, 21, 22, 23, 24, 25, 26, 27, 28, 29, 30, 31, 32, 33, 34, 35, 36, 37, 38, 39, 40, 41, 42, 43, 44, 45, 46, 47, 48, 49, 50, 51, 52, 53, 54, 55, 56, 57, 58, 59, 60, 61, 62, 63, 64, 65, 66, 67, 68, 69, 70, 71, 72, 73, 74, 75, 76, 77, 78, 79, 80, 81, 82, 83, 84, 85, 86, 87, 88, 89, 90, 91, 92, 93, 94, 95, 96, 97, 98, 99, 100, 101, 102, 103, 104, 105, 106, 107, 108, 109, 110, 111, 112, 113, 114, 115, 116, 117, 118, 119, 120, 121, 122, 123, 124, 125, 126, 127, 128, 129, 130, 131, 132, 133, 134, 135, 136, 137, 138, 139, 140, 141, 142, 143, 144, 145, 146, 147, 148, 149, 150, 151, 152, 153, 154, 155, 156, 157, 158, 159, 160, 161, 162, 163, 164, 165, 166, 167, 168, 169, 170, 171, 172, 173, 174, 175, 176, 177, 178, 179, 180, 181, 182, 183, 184, 185, 186, 187, 188, 189, 190, 191, 192, 193, 194, 195, 196, 197, 198, 199, 200, 201, 202, 203, 204, 205, 206, 207, 208, 209, 210, 211, 212, 213, 214, 215, 216, 217, 218, 219, 220, 221, 222, 223, 224, 225, 226, 227, 228, 229, 230, 231, 232, 233, 234, 235, 236, 237, 238, 239, 240, 241, 242, 243, 244, 245, 246, 247, 248, 249, 250, 251, 252, 253, 254, 255, 256, 257, 258, 259, 260, 261, 262, 263, 264, 265, 266, 267, 268, 269, 270, 271, 272, 273, 274, 275, 276, 277, 278, 279, 280, 281], \"y\": [0.0015, 0.0015, 0.0015, 0.0015, 0.0015, 0.0015, 0.0015, 0.0015, 0.0015, 0.0015, 0.0015, 0.0015, 0.0015, 0.0015, 0.0015, 0.0015, 0.0015, 0.0015, 0.0015, 0.0015, 0.0015, 0.0015, 0.0015, 0.0015, 0.0015, 0.0015, 0.0015, 0.0015, 0.0015, 0.0015, 0.0015, 0.0015, 0.0015, 0.0015, 0.0015, 0.0015, 0.0015, 0.0015, 0.0015, 0.0015, 0.0015, 0.0015, 0.0015, 0.0015, 0.0015, 0.0015, 0.0015, 0.0015, 0.0015, 0.0015, 0.0015, 0.0015, 0.0015, 0.0015, 0.0015, 0.0015, 0.0015, 0.0015, 0.0015, 0.0015, 0.0015, 0.0015, 0.0015, 0.0015, 0.0015, 0.0015, 0.0015, 0.0015, 0.0015, 0.0015, 0.0015, 0.0015, 0.0015, 0.0015, 0.0015, 0.0015, 0.0015, 0.0015, 0.0015, 0.0015, 0.0015, 0.0015, 0.0015, 0.0015, 0.0015, 0.0015, 0.0015, 0.0015, 0.0015, 0.0015, 0.0015, 0.0015, 0.0015, 0.0015, 0.0015, 0.0015, 0.0015, 0.0015, 0.0015, 0.0015, 0.0015, 0.0015, 0.0015, 0.0015, 0.0015, 0.0015, 0.0015, 0.0015, 0.0015, 0.0015, 0.0015, 0.0015, 0.0015, 0.0015, 0.0015, 0.0015, 0.0015, 0.0015, 0.0015, 0.0015, 0.0015, 0.0015, 0.0015, 0.0015, 0.0015, 0.0015, 0.0015, 0.0015, 0.0015, 0.0015, 0.0015, 0.0015, 0.0015, 0.0015, 0.0015, 0.0015, 0.0015, 0.0015, 0.0015, 0.0015, 0.0015, 0.0015, 0.0015, 0.0015, 0.0015, 0.0015, 0.0015, 0.0015, 0.0015, 0.0015, 0.0015, 0.0015, 0.0015, 0.0015, 0.0015, 0.0015, 0.0015, 0.0015, 0.0015, 0.0015, 0.0015, 0.0015, 0.0015, 0.0015, 0.0015, 0.0015, 0.0015, 0.0015, 0.0015, 0.0015, 0.0015, 0.0015, 0.0015, 0.0015, 0.0015, 0.0015, 0.0015, 0.0015, 0.0015, 0.0015, 0.0015, 0.0015, 0.0015, 0.0015, 0.0015, 0.0015, 0.0015, 0.0015, 0.0015, 0.0015, 0.0015, 0.0015, 0.0015, 0.0015, 0.0015, 0.0015, 0.0015, 0.0015, 0.0015, 0.0015, 0.0015, 0.0015, 0.0015, 0.0015, 0.0015, 0.0015, 0.0015, 0.0015, 0.0015, 0.0015, 0.0015, 0.0015, 0.0015, 0.0015, 0.0015, 0.0015, 0.0015, 0.0015, 0.0015, 0.0015, 0.0015, 0.0015, 0.0015, 0.0015, 0.0015, 0.0015, 0.0015, 0.0015, 0.0015, 0.0015, 0.0015, 0.0015, 0.0015, 0.0015, 0.0015, 0.0015, 0.0015, 0.0015, 0.0015, 0.0015, 0.0015, 0.0015, 0.0015, 0.0015, 0.0015, 0.0015, 0.0015, 0.0015, 0.0015, 0.0015, 0.0015, 0.0015, 0.0015, 0.0015, 0.0015, 0.0015, 0.0015, 0.0015, 0.0015, 0.0015, 0.0015, 0.0015, 0.0015, 0.0015, 0.0015, 0.0015, 0.0015, 0.0015, 0.0015, 0.0015, 0.0015, 0.0015, 0.0015, 0.0015, 0.0015, 0.0015, 0.0015, 0.0015, 0.0015, 0.0015, 0.0015]}],\n",
       "                        {\"hovermode\": \"x\", \"margin\": {\"b\": 50, \"l\": 50, \"pad\": 0, \"r\": 50, \"t\": 50}, \"plot_bgcolor\": \"rgb(255,255,255)\", \"showlegend\": false, \"template\": {\"data\": {\"bar\": [{\"error_x\": {\"color\": \"#2a3f5f\"}, \"error_y\": {\"color\": \"#2a3f5f\"}, \"marker\": {\"line\": {\"color\": \"#E5ECF6\", \"width\": 0.5}}, \"type\": \"bar\"}], \"barpolar\": [{\"marker\": {\"line\": {\"color\": \"#E5ECF6\", \"width\": 0.5}}, \"type\": \"barpolar\"}], \"carpet\": [{\"aaxis\": {\"endlinecolor\": \"#2a3f5f\", \"gridcolor\": \"white\", \"linecolor\": \"white\", \"minorgridcolor\": \"white\", \"startlinecolor\": \"#2a3f5f\"}, \"baxis\": {\"endlinecolor\": \"#2a3f5f\", \"gridcolor\": \"white\", \"linecolor\": \"white\", \"minorgridcolor\": \"white\", \"startlinecolor\": \"#2a3f5f\"}, \"type\": \"carpet\"}], \"choropleth\": [{\"colorbar\": {\"outlinewidth\": 0, \"ticks\": \"\"}, \"type\": \"choropleth\"}], \"contour\": [{\"colorbar\": {\"outlinewidth\": 0, \"ticks\": \"\"}, \"colorscale\": [[0.0, \"#0d0887\"], [0.1111111111111111, \"#46039f\"], [0.2222222222222222, \"#7201a8\"], [0.3333333333333333, \"#9c179e\"], [0.4444444444444444, \"#bd3786\"], [0.5555555555555556, \"#d8576b\"], [0.6666666666666666, \"#ed7953\"], [0.7777777777777778, \"#fb9f3a\"], [0.8888888888888888, \"#fdca26\"], [1.0, \"#f0f921\"]], \"type\": \"contour\"}], \"contourcarpet\": [{\"colorbar\": {\"outlinewidth\": 0, \"ticks\": \"\"}, \"type\": \"contourcarpet\"}], \"heatmap\": [{\"colorbar\": {\"outlinewidth\": 0, \"ticks\": \"\"}, \"colorscale\": [[0.0, \"#0d0887\"], [0.1111111111111111, \"#46039f\"], [0.2222222222222222, \"#7201a8\"], [0.3333333333333333, \"#9c179e\"], [0.4444444444444444, \"#bd3786\"], [0.5555555555555556, \"#d8576b\"], [0.6666666666666666, \"#ed7953\"], [0.7777777777777778, \"#fb9f3a\"], [0.8888888888888888, \"#fdca26\"], [1.0, \"#f0f921\"]], \"type\": \"heatmap\"}], \"heatmapgl\": [{\"colorbar\": {\"outlinewidth\": 0, \"ticks\": \"\"}, \"colorscale\": [[0.0, \"#0d0887\"], [0.1111111111111111, \"#46039f\"], [0.2222222222222222, \"#7201a8\"], [0.3333333333333333, \"#9c179e\"], [0.4444444444444444, \"#bd3786\"], [0.5555555555555556, \"#d8576b\"], [0.6666666666666666, \"#ed7953\"], [0.7777777777777778, \"#fb9f3a\"], [0.8888888888888888, \"#fdca26\"], [1.0, \"#f0f921\"]], \"type\": \"heatmapgl\"}], \"histogram\": [{\"marker\": {\"colorbar\": {\"outlinewidth\": 0, \"ticks\": \"\"}}, \"type\": \"histogram\"}], \"histogram2d\": [{\"colorbar\": {\"outlinewidth\": 0, \"ticks\": \"\"}, \"colorscale\": [[0.0, \"#0d0887\"], [0.1111111111111111, \"#46039f\"], [0.2222222222222222, \"#7201a8\"], [0.3333333333333333, \"#9c179e\"], [0.4444444444444444, \"#bd3786\"], [0.5555555555555556, \"#d8576b\"], [0.6666666666666666, \"#ed7953\"], [0.7777777777777778, \"#fb9f3a\"], [0.8888888888888888, \"#fdca26\"], [1.0, \"#f0f921\"]], \"type\": \"histogram2d\"}], \"histogram2dcontour\": [{\"colorbar\": {\"outlinewidth\": 0, \"ticks\": \"\"}, \"colorscale\": [[0.0, \"#0d0887\"], [0.1111111111111111, \"#46039f\"], [0.2222222222222222, \"#7201a8\"], [0.3333333333333333, \"#9c179e\"], [0.4444444444444444, \"#bd3786\"], [0.5555555555555556, \"#d8576b\"], [0.6666666666666666, \"#ed7953\"], [0.7777777777777778, \"#fb9f3a\"], [0.8888888888888888, \"#fdca26\"], [1.0, \"#f0f921\"]], \"type\": \"histogram2dcontour\"}], \"mesh3d\": [{\"colorbar\": {\"outlinewidth\": 0, \"ticks\": \"\"}, \"type\": \"mesh3d\"}], \"parcoords\": [{\"line\": {\"colorbar\": {\"outlinewidth\": 0, \"ticks\": \"\"}}, \"type\": \"parcoords\"}], \"pie\": [{\"automargin\": true, \"type\": \"pie\"}], \"scatter\": [{\"marker\": {\"colorbar\": {\"outlinewidth\": 0, \"ticks\": \"\"}}, \"type\": \"scatter\"}], \"scatter3d\": [{\"line\": {\"colorbar\": {\"outlinewidth\": 0, \"ticks\": \"\"}}, \"marker\": {\"colorbar\": {\"outlinewidth\": 0, \"ticks\": \"\"}}, \"type\": \"scatter3d\"}], \"scattercarpet\": [{\"marker\": {\"colorbar\": {\"outlinewidth\": 0, \"ticks\": \"\"}}, \"type\": \"scattercarpet\"}], \"scattergeo\": [{\"marker\": {\"colorbar\": {\"outlinewidth\": 0, \"ticks\": \"\"}}, \"type\": \"scattergeo\"}], \"scattergl\": [{\"marker\": {\"colorbar\": {\"outlinewidth\": 0, \"ticks\": \"\"}}, \"type\": \"scattergl\"}], \"scattermapbox\": [{\"marker\": {\"colorbar\": {\"outlinewidth\": 0, \"ticks\": \"\"}}, \"type\": \"scattermapbox\"}], \"scatterpolar\": [{\"marker\": {\"colorbar\": {\"outlinewidth\": 0, \"ticks\": \"\"}}, \"type\": \"scatterpolar\"}], \"scatterpolargl\": [{\"marker\": {\"colorbar\": {\"outlinewidth\": 0, \"ticks\": \"\"}}, \"type\": \"scatterpolargl\"}], \"scatterternary\": [{\"marker\": {\"colorbar\": {\"outlinewidth\": 0, \"ticks\": \"\"}}, \"type\": \"scatterternary\"}], \"surface\": [{\"colorbar\": {\"outlinewidth\": 0, \"ticks\": \"\"}, \"colorscale\": [[0.0, \"#0d0887\"], [0.1111111111111111, \"#46039f\"], [0.2222222222222222, \"#7201a8\"], [0.3333333333333333, \"#9c179e\"], [0.4444444444444444, \"#bd3786\"], [0.5555555555555556, \"#d8576b\"], [0.6666666666666666, \"#ed7953\"], [0.7777777777777778, \"#fb9f3a\"], [0.8888888888888888, \"#fdca26\"], [1.0, \"#f0f921\"]], \"type\": \"surface\"}], \"table\": [{\"cells\": {\"fill\": {\"color\": \"#EBF0F8\"}, \"line\": {\"color\": \"white\"}}, \"header\": {\"fill\": {\"color\": \"#C8D4E3\"}, \"line\": {\"color\": \"white\"}}, \"type\": \"table\"}]}, \"layout\": {\"annotationdefaults\": {\"arrowcolor\": \"#2a3f5f\", \"arrowhead\": 0, \"arrowwidth\": 1}, \"coloraxis\": {\"colorbar\": {\"outlinewidth\": 0, \"ticks\": \"\"}}, \"colorscale\": {\"diverging\": [[0, \"#8e0152\"], [0.1, \"#c51b7d\"], [0.2, \"#de77ae\"], [0.3, \"#f1b6da\"], [0.4, \"#fde0ef\"], [0.5, \"#f7f7f7\"], [0.6, \"#e6f5d0\"], [0.7, \"#b8e186\"], [0.8, \"#7fbc41\"], [0.9, \"#4d9221\"], [1, \"#276419\"]], \"sequential\": [[0.0, \"#0d0887\"], [0.1111111111111111, \"#46039f\"], [0.2222222222222222, \"#7201a8\"], [0.3333333333333333, \"#9c179e\"], [0.4444444444444444, \"#bd3786\"], [0.5555555555555556, \"#d8576b\"], [0.6666666666666666, \"#ed7953\"], [0.7777777777777778, \"#fb9f3a\"], [0.8888888888888888, \"#fdca26\"], [1.0, \"#f0f921\"]], \"sequentialminus\": [[0.0, \"#0d0887\"], [0.1111111111111111, \"#46039f\"], [0.2222222222222222, \"#7201a8\"], [0.3333333333333333, \"#9c179e\"], [0.4444444444444444, \"#bd3786\"], [0.5555555555555556, \"#d8576b\"], [0.6666666666666666, \"#ed7953\"], [0.7777777777777778, \"#fb9f3a\"], [0.8888888888888888, \"#fdca26\"], [1.0, \"#f0f921\"]]}, \"colorway\": [\"#636efa\", \"#EF553B\", \"#00cc96\", \"#ab63fa\", \"#FFA15A\", \"#19d3f3\", \"#FF6692\", \"#B6E880\", \"#FF97FF\", \"#FECB52\"], \"font\": {\"color\": \"#2a3f5f\"}, \"geo\": {\"bgcolor\": \"white\", \"lakecolor\": \"white\", \"landcolor\": \"#E5ECF6\", \"showlakes\": true, \"showland\": true, \"subunitcolor\": \"white\"}, \"hoverlabel\": {\"align\": \"left\"}, \"hovermode\": \"closest\", \"mapbox\": {\"style\": \"light\"}, \"paper_bgcolor\": \"white\", \"plot_bgcolor\": \"#E5ECF6\", \"polar\": {\"angularaxis\": {\"gridcolor\": \"white\", \"linecolor\": \"white\", \"ticks\": \"\"}, \"bgcolor\": \"#E5ECF6\", \"radialaxis\": {\"gridcolor\": \"white\", \"linecolor\": \"white\", \"ticks\": \"\"}}, \"scene\": {\"xaxis\": {\"backgroundcolor\": \"#E5ECF6\", \"gridcolor\": \"white\", \"gridwidth\": 2, \"linecolor\": \"white\", \"showbackground\": true, \"ticks\": \"\", \"zerolinecolor\": \"white\"}, \"yaxis\": {\"backgroundcolor\": \"#E5ECF6\", \"gridcolor\": \"white\", \"gridwidth\": 2, \"linecolor\": \"white\", \"showbackground\": true, \"ticks\": \"\", \"zerolinecolor\": \"white\"}, \"zaxis\": {\"backgroundcolor\": \"#E5ECF6\", \"gridcolor\": \"white\", \"gridwidth\": 2, \"linecolor\": \"white\", \"showbackground\": true, \"ticks\": \"\", \"zerolinecolor\": \"white\"}}, \"shapedefaults\": {\"line\": {\"color\": \"#2a3f5f\"}}, \"ternary\": {\"aaxis\": {\"gridcolor\": \"white\", \"linecolor\": \"white\", \"ticks\": \"\"}, \"baxis\": {\"gridcolor\": \"white\", \"linecolor\": \"white\", \"ticks\": \"\"}, \"bgcolor\": \"#E5ECF6\", \"caxis\": {\"gridcolor\": \"white\", \"linecolor\": \"white\", \"ticks\": \"\"}}, \"title\": {\"x\": 0.05}, \"xaxis\": {\"automargin\": true, \"gridcolor\": \"white\", \"linecolor\": \"white\", \"ticks\": \"\", \"title\": {\"standoff\": 15}, \"zerolinecolor\": \"white\", \"zerolinewidth\": 2}, \"yaxis\": {\"automargin\": true, \"gridcolor\": \"white\", \"linecolor\": \"white\", \"ticks\": \"\", \"title\": {\"standoff\": 15}, \"zerolinecolor\": \"white\", \"zerolinewidth\": 2}}}, \"xaxis\": {\"showgrid\": false, \"tickmode\": \"array\", \"ticktext\": [0, 2, 4, 6, 8, 10, 12, 14, 16, 18, 20, 22, 24, 26, 28, 30, 32, 34, 36, 38, 40], \"tickvals\": [0, 14, 28, 42, 56, 70, 84, 98, 112, 126, 140, 154, 168, 182, 196, 210, 224, 238, 252, 266, 280], \"title\": {\"text\": \"Weeks\"}}, \"yaxis\": {\"automargin\": true, \"showgrid\": false, \"zeroline\": false}},\n",
       "                        {\"responsive\": true}\n",
       "                    ).then(function(){\n",
       "                            \n",
       "var gd = document.getElementById('e5d9dfb8-a4ee-443f-af02-4908a4b8ae63');\n",
       "var x = new MutationObserver(function (mutations, observer) {{\n",
       "        var display = window.getComputedStyle(gd).display;\n",
       "        if (!display || display === 'none') {{\n",
       "            console.log([gd, 'removed!']);\n",
       "            Plotly.purge(gd);\n",
       "            observer.disconnect();\n",
       "        }}\n",
       "}});\n",
       "\n",
       "// Listen for the removal of the full notebook cells\n",
       "var notebookContainer = gd.closest('#notebook-container');\n",
       "if (notebookContainer) {{\n",
       "    x.observe(notebookContainer, {childList: true});\n",
       "}}\n",
       "\n",
       "// Listen for the clearing of the current output cell\n",
       "var outputEl = gd.closest('.output');\n",
       "if (outputEl) {{\n",
       "    x.observe(outputEl, {childList: true});\n",
       "}}\n",
       "\n",
       "                        })\n",
       "                };\n",
       "                });\n",
       "            </script>\n",
       "        </div>"
      ]
     },
     "metadata": {},
     "output_type": "display_data"
    }
   ],
   "source": [
    "horizon = 4\n",
    "sims = 6\n",
    "days = 280\n",
    "bf = False\n",
    "\n",
    "data, actions = run_full_mcst(horizon=horizon, sims_per_leaf=sims, days=days, step_size=7, n_jobs=6, bruteForce=bf)\n",
    "\n",
    "date = datetime.datetime.now()\n",
    "date_str = f'{date.month}_{date.day}_{date.hour}_{date.minute}'\n",
    "\n",
    "df = make_beds_graph(data, [], 7, f'../../data/MCTS_Results/plots/top_zones_without_degree')\n",
    "\n",
    "#with open(f'../../data/MCTS_Results/pickles/looser_cost_H{horizon}_N{sims}_D{days}_bf{bf}_{date_str}', 'wb') as f:\n",
    "#    pkl.dump((data, actions, tree), f)"
   ]
  },
  {
   "cell_type": "code",
   "execution_count": 115,
   "metadata": {},
   "outputs": [],
   "source": [
    "closed_regions = defaultdict(int)\n",
    "\n",
    "for a in actions:\n",
    "    for r in a:\n",
    "        closed_regions[r] += 1"
   ]
  },
  {
   "cell_type": "code",
   "execution_count": 145,
   "metadata": {},
   "outputs": [],
   "source": [
    "mostly_affected = sorted(list(closed_regions.items()), key= lambda x: x[1], reverse=True)[-10:]"
   ]
  },
  {
   "cell_type": "code",
   "execution_count": 147,
   "metadata": {},
   "outputs": [],
   "source": [
    "distritos = pd.read_csv('../../data/processed/distritos.csv', sep=';')\n",
    "dist_dict = distritos.set_index('zona')['nome'].to_dict()"
   ]
  },
  {
   "cell_type": "code",
   "execution_count": 148,
   "metadata": {},
   "outputs": [
    {
     "data": {
      "text/html": [
       "<div>\n",
       "<style scoped>\n",
       "    .dataframe tbody tr th:only-of-type {\n",
       "        vertical-align: middle;\n",
       "    }\n",
       "\n",
       "    .dataframe tbody tr th {\n",
       "        vertical-align: top;\n",
       "    }\n",
       "\n",
       "    .dataframe thead th {\n",
       "        text-align: right;\n",
       "    }\n",
       "</style>\n",
       "<table border=\"1\" class=\"dataframe\">\n",
       "  <thead>\n",
       "    <tr style=\"text-align: right;\">\n",
       "      <th></th>\n",
       "      <th>Regiao</th>\n",
       "      <th>Semanas fechada</th>\n",
       "    </tr>\n",
       "  </thead>\n",
       "  <tbody>\n",
       "    <tr>\n",
       "      <th>0</th>\n",
       "      <td>Vila Cardoso Franco</td>\n",
       "      <td>3</td>\n",
       "    </tr>\n",
       "    <tr>\n",
       "      <th>1</th>\n",
       "      <td>Parque do Estado</td>\n",
       "      <td>3</td>\n",
       "    </tr>\n",
       "    <tr>\n",
       "      <th>2</th>\n",
       "      <td>Vila Natal</td>\n",
       "      <td>3</td>\n",
       "    </tr>\n",
       "    <tr>\n",
       "      <th>3</th>\n",
       "      <td>Jardim das Pedras</td>\n",
       "      <td>2</td>\n",
       "    </tr>\n",
       "    <tr>\n",
       "      <th>4</th>\n",
       "      <td>Parque Anhembi</td>\n",
       "      <td>2</td>\n",
       "    </tr>\n",
       "    <tr>\n",
       "      <th>5</th>\n",
       "      <td>Jardim Maria do Carmo</td>\n",
       "      <td>2</td>\n",
       "    </tr>\n",
       "    <tr>\n",
       "      <th>6</th>\n",
       "      <td>São João Clímaco</td>\n",
       "      <td>2</td>\n",
       "    </tr>\n",
       "    <tr>\n",
       "      <th>7</th>\n",
       "      <td>Pedro José Nunes</td>\n",
       "      <td>2</td>\n",
       "    </tr>\n",
       "    <tr>\n",
       "      <th>8</th>\n",
       "      <td>Tamanduateí</td>\n",
       "      <td>2</td>\n",
       "    </tr>\n",
       "    <tr>\n",
       "      <th>9</th>\n",
       "      <td>Marsilac</td>\n",
       "      <td>1</td>\n",
       "    </tr>\n",
       "  </tbody>\n",
       "</table>\n",
       "</div>"
      ],
      "text/plain": [
       "                  Regiao  Semanas fechada\n",
       "0    Vila Cardoso Franco                3\n",
       "1       Parque do Estado                3\n",
       "2             Vila Natal                3\n",
       "3      Jardim das Pedras                2\n",
       "4         Parque Anhembi                2\n",
       "5  Jardim Maria do Carmo                2\n",
       "6       São João Clímaco                2\n",
       "7       Pedro José Nunes                2\n",
       "8            Tamanduateí                2\n",
       "9               Marsilac                1"
      ]
     },
     "execution_count": 148,
     "metadata": {},
     "output_type": "execute_result"
    }
   ],
   "source": [
    "pd.DataFrame(list(map(lambda x: (dist_dict[x[0]], x[1]), mostly_affected)), columns=['Regiao', 'Semanas fechada'])"
   ]
  },
  {
   "cell_type": "code",
   "execution_count": 130,
   "metadata": {},
   "outputs": [
    {
     "data": {
      "text/plain": [
       "338"
      ]
     },
     "execution_count": 130,
     "metadata": {},
     "output_type": "execute_result"
    }
   ],
   "source": [
    "len(regions_degree)\n"
   ]
  },
  {
   "cell_type": "code",
   "execution_count": 131,
   "metadata": {},
   "outputs": [
    {
     "data": {
      "text/plain": [
       "[<matplotlib.lines.Line2D at 0x1bf20b74708>]"
      ]
     },
     "execution_count": 131,
     "metadata": {},
     "output_type": "execute_result"
    },
    {
     "data": {
      "image/png": "[encoded data removed]",
      "text/plain": [
       "<Figure size 432x288 with 1 Axes>"
      ]
     },
     "metadata": {
      "needs_background": "light"
     },
     "output_type": "display_data"
    }
   ],
   "source": [
    "import matplotlib.pyplot as plt\n",
    "plt.plot(range(0, len(actions)), list(map(lambda x: len(x)/338, actions)))"
   ]
  }
 ],
 "metadata": {
  "kernelspec": {
   "display_name": "Python 3",
   "language": "python",
   "name": "python3"
  },
  "language_info": {
   "codemirror_mode": {
    "name": "ipython",
    "version": 3
   },
   "file_extension": ".py",
   "mimetype": "text/x-python",
   "name": "python",
   "nbconvert_exporter": "python",
   "pygments_lexer": "ipython3",
   "version": "3.7.7"
  }
 },
 "nbformat": 4,
 "nbformat_minor": 4
}
