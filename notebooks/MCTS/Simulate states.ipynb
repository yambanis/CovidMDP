{
 "cells": [
  {
   "cell_type": "code",
   "execution_count": 1,
   "metadata": {},
   "outputs": [],
   "source": [
    "import os\n",
    "os.chdir('../../src/')\n",
    "from visualization.SIR_Plot import make_SIR_graph, make_beds_graph"
   ]
  },
  {
   "cell_type": "code",
   "execution_count": 2,
   "metadata": {},
   "outputs": [
    {
     "name": "stdout",
     "output_type": "stream",
     "text": [
      "Loading Graph...Done!\n"
     ]
    }
   ],
   "source": [
    "os.chdir('models')\n",
    "import simulate_pandemic as simp\n",
    "from actions import costs, city_restrictions\n",
    "from MCFS import mcts, treeNode\n",
    "from CMDP import CovidState"
   ]
  },
  {
   "cell_type": "code",
   "execution_count": 3,
   "metadata": {},
   "outputs": [],
   "source": [
    "from tqdm import tqdm\n",
    "import numpy as np\n",
    "import pickle as pkl\n",
    "import datetime"
   ]
  },
  {
   "cell_type": "code",
   "execution_count": 4,
   "metadata": {},
   "outputs": [],
   "source": [
    "pop_matrix = simp.init_infection()\n"
   ]
  },
  {
   "cell_type": "code",
   "execution_count": 5,
   "metadata": {},
   "outputs": [
    {
     "data": {
      "text/plain": [
       "(55492, 5)"
      ]
     },
     "execution_count": 5,
     "metadata": {},
     "output_type": "execute_result"
    }
   ],
   "source": [
    "pop_matrix.shape"
   ]
  },
  {
   "cell_type": "code",
   "execution_count": 6,
   "metadata": {},
   "outputs": [],
   "source": [
    "import plotly.graph_objects as go\n",
    "import pandas as pd\n",
    "\n",
    "def make_beds_graph(data, actions, step_size, title, max_range=None, color_map=None, make_df=True):\n",
    "    fig = go.Figure()\n",
    "    \n",
    "    color_map = {\n",
    "        'Lockdown':          'rgb(0.83, 0.13, 0.15)',\n",
    "        'Hard Quarantine':    'rgb(0.85, 0.35, 0.13)',\n",
    "        'Light Quarantine':   'rgb(0.97, 0.91, 0.56)',\n",
    "        'Social Distancing':  'rgb(0.67, 0.88, 0.69)',\n",
    "        'Unrestricted':        'rgb(0.86, 0.86, 0.86)'    \n",
    "    }\n",
    "\n",
    "    pop = 55492\n",
    "    \n",
    "    actions = list(map(color_map.get,  actions))\n",
    "    \n",
    "    x = list(range(step_size*len(actions)))\n",
    "    \n",
    "    #\\definecolor{royalblue(web)}{rgb}{0.25, 0.41, 0.88}\n",
    "    #fig.add_trace(go.Scatter(x=x, y=data[3]/pop, name='hospitalized', line_color = 'rgb(0.25, 0.41, 0.88)',\n",
    "    #                        line=dict(width=3.5),  \n",
    "    #                        ))\n",
    "    \n",
    "    fig.add_trace(go.Scatter(x=x, y=(len(data))*[0.0015], name='capacity', line_color = 'black',\n",
    "                            line=dict(dash='dash', width = 2),\n",
    "                            ))\n",
    "    # ACTIONS BACKGROUND################################################################################\n",
    "    fig.update_layout(\n",
    "        shapes=[\n",
    "            dict(\n",
    "                type=\"rect\",\n",
    "                # x-reference is assigned to the x-values\n",
    "                xref=\"x\",\n",
    "                # y-reference is assigned to the plot paper [0,1]\n",
    "                yref=\"paper\",\n",
    "                x0=(step_size*i),\n",
    "                y0=0,\n",
    "                x1=step_size*(i+1),\n",
    "                y1=1,\n",
    "                fillcolor=a,\n",
    "                opacity=.7,\n",
    "                layer=\"below\",\n",
    "                line_width=0,\n",
    "            ) for i,a in enumerate(actions)]\n",
    "    )\n",
    "\n",
    "    fig.update_layout(xaxis={'showgrid': False,},\n",
    "                      yaxis = {'showgrid': False, 'zeroline': False,},\n",
    "                      showlegend=True, hovermode=\"x\")\n",
    "    \n",
    "    fig.update_layout(\n",
    "        xaxis = dict(\n",
    "            tickmode = 'array',\n",
    "            tickvals = list(range(0, len(data)+1, 7)),\n",
    "            ticktext = list(range(0, int(len(data)/7) + 1, 1)),\n",
    "            title = 'Plan Week',\n",
    "            )\n",
    "        )\n",
    "    fig.update_layout(showlegend=False,\n",
    "        plot_bgcolor='rgb(255,255,255)',\n",
    "        margin=dict(\n",
    "        l=50,\n",
    "        r=50,\n",
    "        b=50,\n",
    "        t=50,\n",
    "        pad=0\n",
    "    ))\n",
    "    \n",
    "    fig.update_yaxes(automargin=True)\n",
    "    #fig.write_image(f\"{title}.pdf\")\n",
    "\n",
    "    \n",
    "    return fig"
   ]
  },
  {
   "cell_type": "code",
   "execution_count": 7,
   "metadata": {},
   "outputs": [
    {
     "name": "stderr",
     "output_type": "stream",
     "text": [
      "100%|██████████████████████████████████████████████████████████████████████████████████| 42/42 [00:02<00:00, 18.14it/s]\n"
     ]
    }
   ],
   "source": [
    "pop_matrix = simp.init_infection()\n",
    "actions=6*['Unrestricted']\n",
    "days=7*len(actions)\n",
    "step_size = 7\n",
    "for day in tqdm(range(1, days+1)):\n",
    "    #if less than 20% still susceptible, break simulation\n",
    "    if pop_matrix[np.where(pop_matrix[:,1] == -1)].shape[0] > pop_matrix.shape[0]*.9: break            \n",
    "\n",
    "\n",
    "    # Choose a new policy at each week\n",
    "    if day % step_size == 1:             \n",
    "        restrictions = city_restrictions[actions[int(day/7)]]\n",
    "\n",
    "    pop_matrix = simp.spread_infection(pop_matrix, restrictions, day)\n",
    "    pop_matrix = simp.lambda_leak_expose(pop_matrix, day)\n",
    "    pop_matrix = simp.update_population(pop_matrix)\n",
    "\n",
    "#with open('pop_matrix.pkl', 'wb') as f:\n",
    "#    pkl.dump(pop_matrix, f)\n",
    "    \n",
    "def simulate(pop_matrix, actions, step_size = 7, days = 364):\n",
    "    data = []\n",
    "    \n",
    "    #with open('pop_matrix.pkl', 'rb') as f:\n",
    "    #    pop_matrix = pkl.load(f)\n",
    "    \n",
    "    \n",
    "    for day in tqdm(range(1, days+1)):\n",
    "        #if less than 20% still susceptible, break simulation\n",
    "        if pop_matrix[np.where(pop_matrix[:,1] == -1)].shape[0] > pop_matrix.shape[0]*.9: break            \n",
    "            \n",
    "        \n",
    "        # Choose a new policy at each week\n",
    "        if day % step_size == 1:\n",
    "            restrictions = city_restrictions[actions[int(day/7)]]\n",
    "\n",
    "        pop_matrix = simp.spread_infection(pop_matrix, restrictions, day)\n",
    "        pop_matrix = simp.lambda_leak_expose(pop_matrix, day)\n",
    "        pop_matrix = simp.update_population(pop_matrix)\n",
    "\n",
    "        data.append(np.array(sorted(pop_matrix,key=lambda x: x[0]))[:,1]) \n",
    "    \n",
    "    return data"
   ]
  },
  {
   "cell_type": "code",
   "execution_count": 10,
   "metadata": {},
   "outputs": [],
   "source": [
    "from joblib import Parallel, delayed\n",
    "\n",
    "actions = (['Social Distancing']+['Light Quarantine'])\n",
    "sims = Parallel(n_jobs=-1)(delayed(simulate)(pop_matrix=pop_matrix, actions=actions) \n",
    "                           for i in range(48))"
   ]
  },
  {
   "cell_type": "code",
   "execution_count": 11,
   "metadata": {
    "scrolled": false
   },
   "outputs": [],
   "source": [
    "for i in range(0, 29):\n",
    "    fig = make_beds_graph(sims[0], actions, 7, '')\n",
    "    for data in sims:\n",
    "        data = pd.DataFrame([pd.Series(d).value_counts() for d in data])\n",
    "        pop = data.iloc[0].sum()\n",
    "        data=data[3].fillna(0)/pop\n",
    "        x = list(range(i))\n",
    "        fig.add_trace(go.Scatter(x=x, y=data.iloc[:i], name='hospitalized', mode='lines',\n",
    "                                 line_color = 'rgb(0.25, 0.41, 0.88)', line=dict(width=2.5),\n",
    "                                 opacity=0.85\n",
    "                                ))\n",
    "    fig.write_image(f\"anims/sim_2_weeks_2_{i}.png\", scale=3)\n"
   ]
  },
  {
   "cell_type": "code",
   "execution_count": null,
   "metadata": {},
   "outputs": [],
   "source": []
  }
 ],
 "metadata": {
  "kernelspec": {
   "display_name": "Python 3",
   "language": "python",
   "name": "python3"
  },
  "language_info": {
   "codemirror_mode": {
    "name": "ipython",
    "version": 3
   },
   "file_extension": ".py",
   "mimetype": "text/x-python",
   "name": "python",
   "nbconvert_exporter": "python",
   "pygments_lexer": "ipython3",
   "version": "3.7.7"
  }
 },
 "nbformat": 4,
 "nbformat_minor": 4
}
