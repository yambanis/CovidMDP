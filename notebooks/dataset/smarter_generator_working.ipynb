{
 "cells": [
  {
   "cell_type": "code",
   "execution_count": 1,
   "id": "surprising-sterling",
   "metadata": {},
   "outputs": [],
   "source": [
    "import sys\n",
    "sys.path.append(\"../../src/models\")"
   ]
  },
  {
   "cell_type": "code",
   "execution_count": 2,
   "id": "statistical-handbook",
   "metadata": {},
   "outputs": [],
   "source": [
    "import numpy as np\n",
    "from actions import city_restrictions, costs"
   ]
  },
  {
   "cell_type": "code",
   "execution_count": 3,
   "id": "detected-semester",
   "metadata": {},
   "outputs": [],
   "source": [
    "from simulate_pandemic import init_infection, spread_infection, lambda_leak_expose, update_population\n",
    "from simulate_pandemic import main"
   ]
  },
  {
   "cell_type": "code",
   "execution_count": 4,
   "id": "occupied-settlement",
   "metadata": {},
   "outputs": [],
   "source": [
    "from numpy.random import default_rng\n",
    "import pandas as pd\n",
    "from datetime import datetime\n",
    "from tqdm import tqdm"
   ]
  },
  {
   "cell_type": "code",
   "execution_count": 5,
   "id": "alive-management",
   "metadata": {},
   "outputs": [],
   "source": [
    "from joblib import Parallel, delayed"
   ]
  },
  {
   "cell_type": "code",
   "execution_count": 6,
   "id": "asian-auckland",
   "metadata": {},
   "outputs": [],
   "source": [
    "def make_df(week, sim, action, data):\n",
    "    df = pd.DataFrame(pd.Series(data[:, 1]).value_counts()).T\n",
    "    df['simulation'] = sim\n",
    "    df['week'] = week\n",
    "    df['action'] = action\n",
    "    df = df.rename(columns = {\n",
    "                              -1 : 'removed',\n",
    "                               0 : 'susceptible',\n",
    "                               1 : 'exposed',\n",
    "                               2 : 'infected',\n",
    "                               3 : 'hospitalized'\n",
    "                              }\n",
    "                  )\n",
    "    \n",
    "    return df"
   ]
  },
  {
   "cell_type": "code",
   "execution_count": 7,
   "id": "perceived-baker",
   "metadata": {},
   "outputs": [],
   "source": [
    "def simulate_and_save(policy_number, policy, n_sims, step_size=7, folder='generated_sims/'):\n",
    "    dfs = []\n",
    "    for sim in range(1, n_sims+1):\n",
    "        \n",
    "        sim_name = f'{policy_number}_{sim}'\n",
    "                \n",
    "        data, pop_matrix = main(gpickle_path=gpickle_path,\n",
    "                                p_r=p_r,\n",
    "                                policy=policy,\n",
    "                                disable_tqdm=True,\n",
    "                                days=step_size*len(policy),\n",
    "                                step_size=step_size)\n",
    "        \n",
    "        \n",
    "        weeks = (step_size/7) * len(policy)\n",
    "        \n",
    "        weekly_data = [data[i*7] for i in range(int(weeks))]\n",
    "        df = pd.concat([make_df(week, sim_name, action, data)\n",
    "                             for week, (data, action) in enumerate(zip(weekly_data, policy))])\n",
    "        #df.to_parquet(folder + f'{sim_name}.parquet')\n",
    "        dfs += [df]\n",
    "    return dfs"
   ]
  },
  {
   "cell_type": "code",
   "execution_count": 8,
   "id": "exact-organic",
   "metadata": {},
   "outputs": [],
   "source": [
    "rng = default_rng(None)\n",
    "\n",
    "gpickle_path = \"../../data/processed/SP_multiGraph_Job_Edu_Level.gpickle\"\n",
    "\n",
    "prhome = 0.06\n",
    "p_r = {\n",
    "    'home'    :  prhome,\n",
    "    'neighbor':  .1*prhome,\n",
    "    'work'    :  .1*prhome,\n",
    "    'school'  :  .15*prhome,\n",
    "}"
   ]
  },
  {
   "cell_type": "code",
   "execution_count": null,
   "id": "facial-tongue",
   "metadata": {},
   "outputs": [],
   "source": [
    "costs_keys = list(costs.keys())\n",
    "costs_values = np.array(list(costs.values()))\n"
   ]
  },
  {
   "cell_type": "markdown",
   "id": "pursuant-passing",
   "metadata": {},
   "source": [
    "### Cost Weighted"
   ]
  },
  {
   "cell_type": "code",
   "execution_count": 13,
   "id": "terminal-upset",
   "metadata": {},
   "outputs": [],
   "source": [
    "p = (1 - costs_values) / (1 - costs_values).sum()\n",
    "policy = [rng.choice(costs_keys, size=int(364/14),\n",
    "                     replace=True, p=p)\n",
    "          for i in range(120)]\n",
    "\n",
    "assert len(set([tuple(p) for p in policy])) == len(policy)"
   ]
  },
  {
   "cell_type": "code",
   "execution_count": 14,
   "id": "acceptable-organic",
   "metadata": {
    "scrolled": true
   },
   "outputs": [
    {
     "name": "stderr",
     "output_type": "stream",
     "text": [
      "100%|██████████| 120/120 [22:13<00:00, 11.11s/it]\n"
     ]
    }
   ],
   "source": [
    "n_sims=4\n",
    "res = Parallel(n_jobs=-1)(delayed(simulate_and_save)(i, pol, n_sims) \n",
    "                              for i, pol in tqdm(enumerate(policy),\n",
    "                                                 total=len(policy)))"
   ]
  },
  {
   "cell_type": "markdown",
   "id": "pressed-helmet",
   "metadata": {},
   "source": [
    "### At Random"
   ]
  },
  {
   "cell_type": "code",
   "execution_count": 15,
   "id": "remarkable-darwin",
   "metadata": {},
   "outputs": [],
   "source": [
    "policy = [rng.choice(costs_keys, size=int(364/14), replace=True)\n",
    "          for i in range(120)]"
   ]
  },
  {
   "cell_type": "code",
   "execution_count": 16,
   "id": "animal-austin",
   "metadata": {},
   "outputs": [
    {
     "name": "stderr",
     "output_type": "stream",
     "text": [
      "100%|██████████| 120/120 [17:32<00:00,  8.77s/it]\n"
     ]
    }
   ],
   "source": [
    "n_sims=4\n",
    "res2 = Parallel(n_jobs=-1)(delayed(simulate_and_save)(i, pol, n_sims) \n",
    "                              for i, pol in tqdm(enumerate(policy),\n",
    "                                                 total=len(policy)))"
   ]
  },
  {
   "cell_type": "code",
   "execution_count": 25,
   "id": "silent-blanket",
   "metadata": {},
   "outputs": [
    {
     "data": {
      "text/plain": [
       "(84.92006840140536, 441.0)"
      ]
     },
     "execution_count": 25,
     "metadata": {},
     "output_type": "execute_result"
    }
   ],
   "source": [
    "np.mean([r['hospitalized'].mean() for rs in res for r in rs]),\\\n",
    "np.max([r['hospitalized'].max() for rs in res for r in rs])"
   ]
  },
  {
   "cell_type": "code",
   "execution_count": 26,
   "id": "visible-reference",
   "metadata": {},
   "outputs": [
    {
     "data": {
      "text/plain": [
       "(58.20080728480457, 417.0)"
      ]
     },
     "execution_count": 26,
     "metadata": {},
     "output_type": "execute_result"
    }
   ],
   "source": [
    "np.mean([r['hospitalized'].mean() for rs in res2 for r in rs]),\\\n",
    "np.max([r['hospitalized'].max() for rs in res2 for r in rs])"
   ]
  },
  {
   "cell_type": "code",
   "execution_count": 31,
   "id": "secondary-advocacy",
   "metadata": {},
   "outputs": [],
   "source": [
    "final_res = []\n",
    "for i, sims_array in enumerate(res+res2):\n",
    "    for j, sim_df in enumerate(sims_array):\n",
    "        sim_df['simulation'] = f'{i}_{j}'\n",
    "        final_res.append(sim_df)"
   ]
  },
  {
   "cell_type": "code",
   "execution_count": 34,
   "id": "informative-sender",
   "metadata": {},
   "outputs": [],
   "source": [
    "pd.concat(final_res).to_parquet('sim_dataset.parquet')"
   ]
  },
  {
   "cell_type": "code",
   "execution_count": null,
   "id": "relative-minute",
   "metadata": {},
   "outputs": [],
   "source": []
  }
 ],
 "metadata": {
  "kernelspec": {
   "display_name": "Python 3",
   "language": "python",
   "name": "python3"
  },
  "language_info": {
   "codemirror_mode": {
    "name": "ipython",
    "version": 3
   },
   "file_extension": ".py",
   "mimetype": "text/x-python",
   "name": "python",
   "nbconvert_exporter": "python",
   "pygments_lexer": "ipython3",
   "version": "3.8.8"
  }
 },
 "nbformat": 4,
 "nbformat_minor": 5
}
