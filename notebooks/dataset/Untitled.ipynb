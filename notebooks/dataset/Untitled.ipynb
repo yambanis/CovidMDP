{
 "cells": [
  {
   "cell_type": "code",
   "execution_count": 1,
   "id": "entitled-filter",
   "metadata": {},
   "outputs": [],
   "source": [
    "import sys\n",
    "sys.path.append(\"../../src/models\")"
   ]
  },
  {
   "cell_type": "code",
   "execution_count": 3,
   "id": "violent-generic",
   "metadata": {},
   "outputs": [],
   "source": [
    "from MCFS_main import main"
   ]
  },
  {
   "cell_type": "code",
   "execution_count": null,
   "id": "copyrighted-glenn",
   "metadata": {},
   "outputs": [
    {
     "name": "stderr",
     "output_type": "stream",
     "text": [
      "  0%|          | 0/364 [00:00<?, ?it/s]\n",
      "  0%|          | 0/95 [00:00<?, ?it/s]\u001b[A\n",
      " 13%|█▎        | 12/95 [00:16<01:54,  1.38s/it]\u001b[A\n",
      " 19%|█▉        | 18/95 [00:32<02:28,  1.93s/it]\u001b[A\n",
      " 25%|██▌       | 24/95 [00:49<02:41,  2.28s/it]\u001b[A\n",
      " 32%|███▏      | 30/95 [01:06<02:40,  2.47s/it]\u001b[A\n",
      " 38%|███▊      | 36/95 [01:23<02:30,  2.56s/it]\u001b[A\n",
      " 44%|████▍     | 42/95 [01:39<02:18,  2.62s/it]\u001b[A\n",
      " 51%|█████     | 48/95 [01:56<02:05,  2.67s/it]\u001b[A\n",
      " 57%|█████▋    | 54/95 [02:13<01:52,  2.73s/it]\u001b[A\n",
      " 63%|██████▎   | 60/95 [02:30<01:35,  2.73s/it]\u001b[A\n",
      " 69%|██████▉   | 66/95 [02:48<01:22,  2.84s/it]\u001b[A\n",
      " 76%|███████▌  | 72/95 [03:07<01:06,  2.91s/it]\u001b[A\n",
      " 82%|████████▏ | 78/95 [03:26<00:51,  3.03s/it]\u001b[A\n",
      " 88%|████████▊ | 84/95 [03:42<00:32,  2.92s/it]\u001b[A\n",
      "100%|██████████| 95/95 [04:02<00:00,  2.55s/it]\u001b[A\n",
      "  0%|          | 1/364 [04:43<28:34:57, 283.46s/it]\n",
      "  0%|          | 0/95 [00:00<?, ?it/s]\u001b[A\n",
      " 13%|█▎        | 12/95 [00:16<01:53,  1.37s/it]\u001b[A\n",
      " 19%|█▉        | 18/95 [00:34<02:36,  2.03s/it]\u001b[A\n",
      " 25%|██▌       | 24/95 [00:52<02:50,  2.39s/it]\u001b[A\n",
      " 32%|███▏      | 30/95 [01:09<02:47,  2.57s/it]\u001b[A\n",
      " 38%|███▊      | 36/95 [01:26<02:36,  2.65s/it]\u001b[A\n",
      " 44%|████▍     | 42/95 [01:43<02:24,  2.74s/it]\u001b[A\n",
      " 51%|█████     | 48/95 [02:01<02:12,  2.82s/it]\u001b[A\n",
      " 57%|█████▋    | 54/95 [02:20<01:58,  2.90s/it]\u001b[A\n",
      " 63%|██████▎   | 60/95 [02:37<01:41,  2.90s/it]\u001b[A\n",
      " 69%|██████▉   | 66/95 [02:58<01:29,  3.09s/it]\u001b[A\n",
      " 76%|███████▌  | 72/95 [03:20<01:14,  3.22s/it]\u001b[A\n",
      " 82%|████████▏ | 78/95 [03:39<00:54,  3.22s/it]\u001b[A\n",
      " 88%|████████▊ | 84/95 [03:57<00:34,  3.15s/it]\u001b[A\n",
      "100%|██████████| 95/95 [04:20<00:00,  2.74s/it]\u001b[A\n"
     ]
    }
   ],
   "source": [
    "%%time\n",
    "main()"
   ]
  }
 ],
 "metadata": {
  "kernelspec": {
   "display_name": "Python 3",
   "language": "python",
   "name": "python3"
  },
  "language_info": {
   "codemirror_mode": {
    "name": "ipython",
    "version": 3
   },
   "file_extension": ".py",
   "mimetype": "text/x-python",
   "name": "python",
   "nbconvert_exporter": "python",
   "pygments_lexer": "ipython3",
   "version": "3.8.8"
  }
 },
 "nbformat": 4,
 "nbformat_minor": 5
}
